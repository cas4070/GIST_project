{
 "cells": [
  {
   "cell_type": "code",
   "execution_count": 2,
   "metadata": {
    "collapsed": false
   },
   "outputs": [],
   "source": [
    "import pandas as pd\n",
    "from sklearn.linear_model import LogisticRegression\n",
    "from sklearn.metrics import confusion_matrix\n",
    "from sklearn.model_selection import StratifiedKFold\n",
    "\n",
    "association_data = pd.read_table(\"/DAS_Storage1/aschoi/data/Drug_Repositioning/7_new_association/9_gold_learning_association.tsv\")\n",
    "descriptor_data = pd.read_table(\"/DAS_Storage1/aschoi/data/Drug_Repositioning/8_new_training/2_1_descriptor_combined.tsv\", header=None)\n",
    "x_whole_data = descriptor_data.values\n",
    "y_whole_data = association_data[\"association\"].values"
   ]
  },
  {
   "cell_type": "code",
   "execution_count": 3,
   "metadata": {
    "collapsed": false
   },
   "outputs": [
    {
     "name": "stdout",
     "output_type": "stream",
     "text": [
      "Accuracy of this fold: 0.986991869919\n",
      "AUC of this fold: 0.663457896048\n",
      "AUPR of this fold: 0.113711273955\n",
      "Confustion matrix of this fold\n",
      "[[10926     0]\n",
      " [  144     0]]\n",
      "\n",
      "\n",
      "Accuracy of this fold: 0.986990694733\n",
      "AUC of this fold: 0.655252351894\n",
      "AUPR of this fold: 0.09673167588\n",
      "Confustion matrix of this fold\n",
      "[[10925     0]\n",
      " [  144     0]]\n",
      "\n",
      "\n",
      "Accuracy of this fold: 0.986990694733\n",
      "AUC of this fold: 0.630199593186\n",
      "AUPR of this fold: 0.100538639704\n",
      "Confustion matrix of this fold\n",
      "[[10925     0]\n",
      " [  144     0]]\n",
      "\n",
      "\n",
      "Accuracy of this fold: 0.986990694733\n",
      "AUC of this fold: 0.69664632596\n",
      "AUPR of this fold: 0.107143790271\n",
      "Confustion matrix of this fold\n",
      "[[10925     0]\n",
      " [  144     0]]\n",
      "\n",
      "\n",
      "Accuracy of this fold: 0.987079869895\n",
      "AUC of this fold: 0.649119393193\n",
      "AUPR of this fold: 0.0955398295547\n",
      "Confustion matrix of this fold\n",
      "[[10925     0]\n",
      " [  143     0]]\n",
      "\n",
      "\n",
      "Accuracy of this fold: 0.987079869895\n",
      "AUC of this fold: 0.644472644061\n",
      "AUPR of this fold: 0.0790398584084\n",
      "Confustion matrix of this fold\n",
      "[[10925     0]\n",
      " [  143     0]]\n",
      "\n",
      "\n",
      "Accuracy of this fold: 0.987079869895\n",
      "AUC of this fold: 0.634772687267\n",
      "AUPR of this fold: 0.0656735726451\n",
      "Confustion matrix of this fold\n",
      "[[10925     0]\n",
      " [  143     0]]\n",
      "\n",
      "\n",
      "Accuracy of this fold: 0.987079869895\n",
      "AUC of this fold: 0.638675329247\n",
      "AUPR of this fold: 0.0816448956604\n",
      "Confustion matrix of this fold\n",
      "[[10925     0]\n",
      " [  143     0]]\n",
      "\n",
      "\n",
      "Accuracy of this fold: 0.987079869895\n",
      "AUC of this fold: 0.63107423469\n",
      "AUPR of this fold: 0.0638795657801\n",
      "Confustion matrix of this fold\n",
      "[[10925     0]\n",
      " [  143     0]]\n",
      "\n",
      "\n",
      "Accuracy of this fold: 0.987079869895\n",
      "AUC of this fold: 0.607318813909\n",
      "AUPR of this fold: 0.0806540569489\n",
      "Confustion matrix of this fold\n",
      "[[10925     0]\n",
      " [  143     0]]\n",
      "\n",
      "\n"
     ]
    }
   ],
   "source": [
    "from sklearn.metrics import roc_curve, auc, average_precision_score\n",
    "\n",
    "skf = StratifiedKFold(n_splits=10, shuffle=True) # n_splits = 10 (10 fold라서.) data가 nega : pos = 10 : 1이기 때문에 validation 뽑을때 그 비율 지켜서 stratified로 한다.\n",
    "for training_index, validation_index in skf.split(x_whole_data, y_whole_data):\n",
    "    x_training_set = x_whole_data[training_index] # 0.9에 해당하는 부분\n",
    "    y_training_set = y_whole_data[training_index]\n",
    "    x_validation_set = x_whole_data[validation_index] # 0.1에 해당하는 부분\n",
    "    y_validation_set = y_whole_data[validation_index]\n",
    "\n",
    "    classifier = LogisticRegression(penalty='l1', C=0.01, n_jobs=-1) #n_jobs = -1이면 모든 node 쓰는것. 신경쓰이면 30개 정도.\n",
    "    classifier.fit(x_training_set, y_training_set)\n",
    "    y_predicted_proba = classifier.predict_proba(x_validation_set) # return값이 probability 각각에 대한 확률 결과값 [[0.8(0에대한 확률),0.2(1에대한 확률)],[0.7,0.3],... ]\n",
    "    y_predicted_label = classifier.predict(x_validation_set) # return이 label임. 위 확률 결과에서 확률이 높은거에 대한 label을 보여줌.\n",
    "\n",
    "    current_accuracy = classifier.score(x_validation_set, y_validation_set) \n",
    "    fpr, tpr, thresholds = roc_curve(y_validation_set, y_predicted_proba[:, 1], pos_label=1) # powitive label만 본것.\n",
    "    current_auc = auc(fpr, tpr)\n",
    "    current_confusion_matrix = confusion_matrix(y_validation_set,\n",
    "                                                y_predicted_label)\n",
    "    current_aupr = average_precision_score(y_validation_set, y_predicted_proba[:, 1])\n",
    "\n",
    "    print(\"Accuracy of this fold: {}\".format(current_accuracy))\n",
    "    print(\"AUC of this fold: {}\".format(current_auc))\n",
    "    print(\"AUPR of this fold: {}\".format(current_aupr))\n",
    "    print(\"Confustion matrix of this fold\")\n",
    "    print(current_confusion_matrix)\n",
    "    print(\"\\n\")"
   ]
  },
  {
   "cell_type": "code",
   "execution_count": null,
   "metadata": {
    "collapsed": true
   },
   "outputs": [],
   "source": []
  }
 ],
 "metadata": {
  "kernelspec": {
   "display_name": "Python 2",
   "language": "python",
   "name": "python2"
  },
  "language_info": {
   "codemirror_mode": {
    "name": "ipython",
    "version": 2
   },
   "file_extension": ".py",
   "mimetype": "text/x-python",
   "name": "python",
   "nbconvert_exporter": "python",
   "pygments_lexer": "ipython2",
   "version": "2.7.6"
  }
 },
 "nbformat": 4,
 "nbformat_minor": 0
}
