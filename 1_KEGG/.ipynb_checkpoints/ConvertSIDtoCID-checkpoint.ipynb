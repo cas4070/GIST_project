{
 "cells": [
  {
   "cell_type": "code",
   "execution_count": null,
   "metadata": {
    "collapsed": true
   },
   "outputs": [],
   "source": [
    "import pandas as pd\n",
    "import numpy as np\n",
    "import pubchempy as pcp"
   ]
  },
  {
   "cell_type": "code",
   "execution_count": null,
   "metadata": {
    "collapsed": true
   },
   "outputs": [],
   "source": [
    "sid1 = pd.read_table(\"/home/csbl/nas/users/asolchoi/data/KEGG/Pubchem_compound1.csv\", header=None)\n",
    "sid2 = pd.read_table(\"/home/csbl/nas/users/asolchoi/data/KEGG/Pubchem_compound2.csv\", header=None)"
   ]
  },
  {
   "cell_type": "code",
   "execution_count": null,
   "metadata": {
    "collapsed": true
   },
   "outputs": [],
   "source": [
    "#substance = pcp.Substance.from_sid(3305)\n",
    "#substance.cids"
   ]
  },
  {
   "cell_type": "code",
   "execution_count": null,
   "metadata": {
    "collapsed": true
   },
   "outputs": [],
   "source": [
    "#  sid의 dupicate 제거 없이 sid를 cid로 convert --> 15292개\n",
    "#cid1=[]\n",
    "#for i in range(0, len(sid1)):\n",
    "#    substance = pcp.Substance.from_sid(sid1[0][i])\n",
    "#    cid1.append(substance.cids)\n",
    "#    if i % 100 == 0 :\n",
    "#        print(i)"
   ]
  },
  {
   "cell_type": "code",
   "execution_count": null,
   "metadata": {
    "collapsed": true
   },
   "outputs": [],
   "source": [
    "#sid의 duplicate 제거하고 sid를 cid로 convert --> 4218개\n",
    "unique_sid1 = sid1.drop_duplicates()"
   ]
  },
  {
   "cell_type": "code",
   "execution_count": null,
   "metadata": {
    "collapsed": true
   },
   "outputs": [],
   "source": [
    "u_cid1=[]\n",
    "cnt = 0\n",
    "for i in unique_sid1[0]:\n",
    "    cnt = cnt + 1\n",
    "    substance = pcp.Substance.from_sid(i)\n",
    "    u_cid1.append([i, substance.cids])\n",
    "    if cnt % 100 == 0 :\n",
    "        print(cnt)\n",
    "#여기서 네트워크 끊겼었음"
   ]
  },
  {
   "cell_type": "code",
   "execution_count": null,
   "metadata": {
    "collapsed": true
   },
   "outputs": [],
   "source": [
    "#sid의 duplicate 제거하고 sid를 cid로 convert --> 6678 개\n",
    "unique_sid2 = sid2.drop_duplicates()"
   ]
  },
  {
   "cell_type": "code",
   "execution_count": null,
   "metadata": {
    "collapsed": true
   },
   "outputs": [],
   "source": [
    "u_cid2=[]\n",
    "cnt = 0\n",
    "for i in unique_sid2[0]:\n",
    "    cnt = cnt+1\n",
    "    substance2 = pcp.Substance.from_sid(i)\n",
    "    u_cid2.append(substance2.cids)\n",
    "    if cnt % 100 == 0 :\n",
    "        print(cnt)"
   ]
  },
  {
   "cell_type": "code",
   "execution_count": null,
   "metadata": {
    "collapsed": true
   },
   "outputs": [],
   "source": [
    "################### network가 중간에 끊겼당... ########################\n",
    "################## 끊기기 전까지 바꾼 것 저장 #########################"
   ]
  },
  {
   "cell_type": "code",
   "execution_count": null,
   "metadata": {
    "collapsed": true
   },
   "outputs": [],
   "source": [
    "#u_cid1의 형태가 [sid, [cid]]로 되어 있어서, sid만 뽑아낸다.\n",
    "temp1 = []\n",
    "\n",
    "for k in range(0, len(u_cid1)):\n",
    "    temp1.append(u_cid1[k][0])\n",
    "\n",
    "#u_cid1의 형태가 [sid, [cid]]로 되어 있어서, [cid]에서 cid만 뽑아낸다.\n",
    "\n",
    "temp2 = []\n",
    "\n",
    "for j in range(0, len(u_cid1)):\n",
    "    if u_cid1[j][1]== [] :\n",
    "        temp2.append(0) # 0 means there is no cid.\n",
    "    else:\n",
    "        temp2.append(u_cid1[j][1][0])\n",
    "        "
   ]
  },
  {
   "cell_type": "code",
   "execution_count": null,
   "metadata": {
    "collapsed": true
   },
   "outputs": [],
   "source": [
    "df_temp1 = pd.DataFrame(data = temp1, columns=['sid'])\n",
    "df_temp2 = pd.DataFrame(data = temp2, columns=['cid'])"
   ]
  },
  {
   "cell_type": "code",
   "execution_count": null,
   "metadata": {
    "collapsed": true
   },
   "outputs": [],
   "source": [
    "result = pd.DataFrame()\n",
    "result['sid'] = df_temp1\n",
    "result['cid'] = df_temp2\n",
    "result"
   ]
  },
  {
   "cell_type": "code",
   "execution_count": null,
   "metadata": {
    "collapsed": true
   },
   "outputs": [],
   "source": [
    "result.to_csv(\"/home/csbl/nas/users/asolchoi/data/PubChem/SID1toCID1(0_3590).csv\", mode = 'w')"
   ]
  },
  {
   "cell_type": "code",
   "execution_count": null,
   "metadata": {
    "collapsed": true
   },
   "outputs": [],
   "source": [
    "#network가 중간에 끊겨서.. 원래라면 이렇게 했어야 했음.\n",
    "df_u_cid1 = pd.DataFrame(data = u_cid1)\n",
    "unique_sid1['CID1_3591'] = df_u_cid1\n",
    "\n",
    "unique_sid1.to_csv(\"/home/csbl/nas/users/asolchoi/data/PubChem/SID1toCID1.csv\", mode = 'w')"
   ]
  }
 ],
 "metadata": {
  "kernelspec": {
   "display_name": "Python 2",
   "language": "python",
   "name": "python2"
  },
  "language_info": {
   "codemirror_mode": {
    "name": "ipython",
    "version": 2
   },
   "file_extension": ".py",
   "mimetype": "text/x-python",
   "name": "python",
   "nbconvert_exporter": "python",
   "pygments_lexer": "ipython2",
   "version": "2.7.6"
  }
 },
 "nbformat": 4,
 "nbformat_minor": 0
}
