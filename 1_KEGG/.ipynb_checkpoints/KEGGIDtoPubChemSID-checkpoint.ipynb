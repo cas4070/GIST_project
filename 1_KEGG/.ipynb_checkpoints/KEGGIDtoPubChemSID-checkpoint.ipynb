{
 "cells": [
  {
   "cell_type": "code",
   "execution_count": null,
   "metadata": {
    "collapsed": true
   },
   "outputs": [],
   "source": [
    "import pandas as pd\n",
    "import numpy as np"
   ]
  },
  {
   "cell_type": "code",
   "execution_count": null,
   "metadata": {
    "collapsed": true
   },
   "outputs": [],
   "source": [
    "keggCID1 = pd.read_table(\"/home/csbl/nas/users/asolchoi/data/KEGG/Kegg rpair/str_df_c1.csv\")\n",
    "keggCID2 = pd.read_table(\"/home/csbl/nas/users/asolchoi/data/KEGG/Kegg rpair/str_df_c2.csv\")\n",
    "pubchem_kegg = pd.read_csv(\"/home/csbl/nas/users/asolchoi/data/KEGG/PubChemSID-KEGGCID.csv\")"
   ]
  },
  {
   "cell_type": "code",
   "execution_count": null,
   "metadata": {
    "collapsed": true
   },
   "outputs": [],
   "source": [
    "#empty Kegg_pubchemSID matirx(compound1)\n",
    "cid1_kp = pd.DataFrame()\n",
    "cid1_kp['KEGG'] = keggCID1\n",
    "\n",
    "#empty Kegg_pubchemSID matirx(compound2)\n",
    "cid2_kp = pd.DataFrame()\n",
    "cid2_kp['KEGG'] = keggCID2"
   ]
  },
  {
   "cell_type": "code",
   "execution_count": null,
   "metadata": {
    "collapsed": true
   },
   "outputs": [],
   "source": [
    "cid1_kp"
   ]
  },
  {
   "cell_type": "code",
   "execution_count": null,
   "metadata": {
    "collapsed": true
   },
   "outputs": [],
   "source": [
    "sid1=[]\n",
    "for i in range(0,len(keggCID1)):\n",
    "#for i in range(0,5):\n",
    "    pubchemSID = pubchem_kegg[pubchem_kegg['KEGG'] == keggCID1['Compound1'][i]].iloc[0]['PubChem']\n",
    "    #print(pubchemSID)\n",
    "    sid1.append(pubchemSID)\n",
    "    #pubchemSID1.append[pubchemSID]\n",
    "sid1"
   ]
  },
  {
   "cell_type": "code",
   "execution_count": null,
   "metadata": {
    "collapsed": true
   },
   "outputs": [],
   "source": [
    "cid1_kp['PubChem'] = pd.DataFrame(data = sid1)\n",
    "cid1_kp"
   ]
  },
  {
   "cell_type": "code",
   "execution_count": null,
   "metadata": {
    "collapsed": true
   },
   "outputs": [],
   "source": [
    "sid2=[]\n",
    "for i in range(0,len(keggCID2)):\n",
    "#for i in range(0,5):\n",
    "    pubchemSID = pubchem_kegg[pubchem_kegg['KEGG'] == keggCID2['Compound2'][i]].iloc[0]['PubChem']\n",
    "    #print(pubchemSID)\n",
    "    sid2.append(pubchemSID)\n",
    "    #pubchemSID1.append[pubchemSID]\n",
    "sid2"
   ]
  },
  {
   "cell_type": "code",
   "execution_count": null,
   "metadata": {
    "collapsed": true
   },
   "outputs": [],
   "source": [
    "cid2_kp['PubChem'] = pd.DataFrame(data = sid2)\n",
    "cid2_kp"
   ]
  },
  {
   "cell_type": "code",
   "execution_count": null,
   "metadata": {
    "collapsed": true
   },
   "outputs": [],
   "source": [
    "cid2_kp.to_csv(\"/home/csbl/nas/users/asolchoi/data/KEGG/KEGGtoPubchem_compound2.csv\", mode='w', index=False)\n",
    "cid1_kp.to_csv(\"/home/csbl/nas/users/asolchoi/data/KEGG/KEGGtoPubchem_compound1.csv\", mode='w', index=False)"
   ]
  },
  {
   "cell_type": "code",
   "execution_count": null,
   "metadata": {
    "collapsed": true
   },
   "outputs": [],
   "source": [
    "cid2_kp['PubChem'].to_csv(\"/home/csbl/nas/users/asolchoi/data/KEGG/Pubchem_compound2.csv\", mode='w', index=False)\n",
    "cid1_kp['PubChem'].to_csv(\"/home/csbl/nas/users/asolchoi/data/KEGG/Pubchem_compound1.csv\", mode='w', index=False)"
   ]
  },
  {
   "cell_type": "code",
   "execution_count": null,
   "metadata": {
    "collapsed": true
   },
   "outputs": [],
   "source": [
    "pubchem_kegg[pubchem_kegg['KEGG'] == keggCID1['Compound1'][0]]['PubChem'].values"
   ]
  },
  {
   "cell_type": "code",
   "execution_count": null,
   "metadata": {
    "collapsed": true
   },
   "outputs": [],
   "source": [
    "a = pubchem_kegg[pubchem_kegg['KEGG'] == keggCID1['Compound1'][0]].iloc[0]['PubChem']"
   ]
  },
  {
   "cell_type": "code",
   "execution_count": null,
   "metadata": {
    "collapsed": true
   },
   "outputs": [],
   "source": [
    "#if pubchem_kegg['KEGG'] == keggCID1['Compound1'][0]:\n",
    "pubchem_kegg[pubchem_kegg['KEGG'] == keggCID1['Compound1'][0]]"
   ]
  },
  {
   "cell_type": "code",
   "execution_count": null,
   "metadata": {
    "collapsed": true
   },
   "outputs": [],
   "source": [
    "temp"
   ]
  },
  {
   "cell_type": "code",
   "execution_count": null,
   "metadata": {
    "collapsed": true
   },
   "outputs": [],
   "source": [
    "len(sid1)"
   ]
  },
  {
   "cell_type": "code",
   "execution_count": null,
   "metadata": {
    "collapsed": true
   },
   "outputs": [],
   "source": [
    "len(keggCID1)"
   ]
  },
  {
   "cell_type": "code",
   "execution_count": null,
   "metadata": {
    "collapsed": true
   },
   "outputs": [],
   "source": [
    "type(cid2_kp['PubChem'])"
   ]
  }
 ],
 "metadata": {
  "kernelspec": {
   "display_name": "Python 2",
   "language": "python",
   "name": "python2"
  },
  "language_info": {
   "codemirror_mode": {
    "name": "ipython",
    "version": 2
   },
   "file_extension": ".py",
   "mimetype": "text/x-python",
   "name": "python",
   "nbconvert_exporter": "python",
   "pygments_lexer": "ipython2",
   "version": "2.7.6"
  }
 },
 "nbformat": 4,
 "nbformat_minor": 0
}
