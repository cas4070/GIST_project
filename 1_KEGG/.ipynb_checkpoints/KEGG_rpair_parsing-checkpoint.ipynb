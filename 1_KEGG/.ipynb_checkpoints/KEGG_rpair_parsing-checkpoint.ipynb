{
 "cells": [
  {
   "cell_type": "code",
   "execution_count": null,
   "metadata": {
    "collapsed": true
   },
   "outputs": [],
   "source": [
    "#import required modules\n",
    "from bs4 import BeautifulSoup\n",
    "import requests\n",
    "import pandas as pd\n",
    "import numpy as np"
   ]
  },
  {
   "cell_type": "code",
   "execution_count": null,
   "metadata": {
    "collapsed": true
   },
   "outputs": [],
   "source": [
    "url_list = \"http://www.genome.jp/dbget-bin/www_bfind_sub?dbkey=rpair&keywords=rp&mode=bfind&max_hit=nolimit\"\n",
    "url_pre = \"http://www.genome.jp\" # 이후 href와 결합하여 접근한다.\n",
    "\n",
    "#scrap the HTML at the url\n",
    "r = requests.get(url_list)\n",
    "\n",
    "#Turn the HTML into a Beautiful Soup object\n",
    "soup = BeautifulSoup(r.text, \"lxml\")\n",
    "\n",
    "# get the next page link\n",
    "links = soup.find_all(\"a\")\n",
    "href=[]\n",
    "for link in links:\n",
    "    href.append(link.get(\"href\"))\n",
    "\n",
    "del href[0]\n",
    "del href[len(href)-1]# 맨 앞과 맨 뒤는 필요 없으므로 삭제\n",
    "\n",
    "#각 entry의 link 주소 만들기\n",
    "url = []\n",
    "for i in href:\n",
    "    url.append(url_pre+i)\n"
   ]
  },
  {
   "cell_type": "code",
   "execution_count": null,
   "metadata": {
    "collapsed": true
   },
   "outputs": [],
   "source": [
    "#Entry와 Name 얻기\n",
    "rows = []\n",
    "for row in soup.find_all(\"div\")[1:]:\n",
    "    rows.append(row.text)\n",
    "entry_name = rows[::2] # entry_name에 들어가는 data 형태는 RP00001 C00005_C00006(entry와 name순)\n",
    "\n",
    "entries=[]\n",
    "names=[]\n",
    "for i in entry_name:\n",
    "    temp = i.split()\n",
    "    entries.append(temp[0])\n",
    "    names.append(temp[1])\n",
    "    \n",
    "#entries, names를 DataFrame으로 전환\n",
    "df_entries = pd.DataFrame(data = entries, columns = ['Entry'])\n",
    "df_names = pd.DataFrame(data = names, columns = ['Name'])\n"
   ]
  },
  {
   "cell_type": "code",
   "execution_count": null,
   "metadata": {
    "collapsed": true
   },
   "outputs": [],
   "source": [
    "#각 entry 페이지 불러오기    \n",
    "def next_html(url):\n",
    "    try:\n",
    "        r2 = requests.get(url)\n",
    "        #sleep(5)\n",
    "    except requests.exception.ConnectionError:\n",
    "        r.status_code = 'Connection refused'\n",
    "    soup2 = BeautifulSoup(r2.text, \"lxml\")\n",
    "    return soup2\n",
    "    \n",
    "#soup2 = next_html(url[0])\n",
    "#print soup2.prettify()"
   ]
  },
  {
   "cell_type": "code",
   "execution_count": null,
   "metadata": {
    "collapsed": true
   },
   "outputs": [],
   "source": [
    "count = 0"
   ]
  },
  {
   "cell_type": "code",
   "execution_count": null,
   "metadata": {
    "collapsed": true
   },
   "outputs": [],
   "source": [
    "#파싱하기\n",
    "for i in url:\n",
    "    count = count +1\n",
    "    soup2 = next_html(i)\n",
    "    parse_html(soup2)\n",
    "    if count % 100 == 0:\n",
    "        print count"
   ]
  },
  {
   "cell_type": "code",
   "execution_count": null,
   "metadata": {
    "collapsed": true
   },
   "outputs": [],
   "source": [
    "# dataframe으로 전환\n",
    "df_c1 = pd.DataFrame(data = c1, columns = ['Compound1'])\n",
    "df_c1_names = pd.DataFrame(data = c1_names, columns = ['C1name'])\n",
    "df_c2 = pd.DataFrame(data = c2, columns = ['Compound2'])\n",
    "df_c2_names = pd.DataFrame(data = c2_names, columns = ['C2name'])\n",
    "df_types = pd.DataFrame(data = types, columns = ['Type'])\n",
    "df_rpairs = pd.DataFrame(data = rpairs, columns = ['Related piar'])"
   ]
  },
  {
   "cell_type": "code",
   "execution_count": null,
   "metadata": {
    "collapsed": true
   },
   "outputs": [],
   "source": [
    "result = pd.DataFrame()\n",
    "result['Entry'] = df_entries\n",
    "result['Name'] = df_names\n",
    "result['Compound1'] = df_c1\n",
    "result['C1name'] = df_c1_names\n",
    "result['Compound2'] = df_c2\n",
    "result['C2name'] = df_c2_names\n",
    "result['Type'] = df_types\n",
    "result['Related rpair'] = df_rpairs"
   ]
  },
  {
   "cell_type": "code",
   "execution_count": null,
   "metadata": {
    "collapsed": true
   },
   "outputs": [],
   "source": [
    "result = pd.DataFrame()"
   ]
  },
  {
   "cell_type": "code",
   "execution_count": null,
   "metadata": {
    "collapsed": true
   },
   "outputs": [],
   "source": [
    "result.to_csv(\"result\", mode='w', encoding='utf-8', sep='\\t')\n",
    "df_entries.to_csv(\"df_entries\", mode='w', encoding='utf-8', sep='\\t')\n",
    "df_names.to_csv(\"df_names\", mode='w', encoding='utf-8', sep='\\t')\n",
    "df_c1.to_csv(\"df_c1\", mode='w', encoding='utf-8', sep='\\t')\n",
    "df_c1_names.to_csv(\"df_c1_names\", mode='w', encoding='utf-8', sep='\\t')\n",
    "df_c2.to_csv(\"df_c2\", mode='w', encoding='utf-8', sep='\\t')\n",
    "df_c2_names.to_csv(\"df_c2_names\", mode='w', encoding='utf-8', sep='\\t')\n",
    "df_types.to_csv(\"df_types\", mode='w', encoding='utf-8', sep='\\t')\n",
    "df_rpairs.to_csv(\"df_rpairs\", mode='w', encoding='utf-8', sep='\\t')\n"
   ]
  },
  {
   "cell_type": "code",
   "execution_count": null,
   "metadata": {
    "collapsed": true
   },
   "outputs": [],
   "source": [
    "result"
   ]
  },
  {
   "cell_type": "code",
   "execution_count": null,
   "metadata": {
    "collapsed": true
   },
   "outputs": [],
   "source": [
    "c1 = df_c1.values.tolist() # c1에 문제가 생겨서 복구한것"
   ]
  },
  {
   "cell_type": "code",
   "execution_count": null,
   "metadata": {
    "collapsed": true
   },
   "outputs": [],
   "source": [
    "# 현재 c1, c2, c1_names, c2_names, types, rpairs의 인덱스 기준 0~3282까지 중복이 일어난 상태\n",
    "#중복을 제거하고 본래 데이터를 찾기\n",
    "\n",
    "#기존 값을 보존하기 위해 새로운 list를 만든다.\n",
    "new_c1 = c1[:]\n",
    "new_c2 = c2[:] \n",
    "new_c1_names = c1_names[:]\n",
    "new_c2_names = c2_names[:]\n",
    "new_types = types[:]\n",
    "new_rpairs = rpairs[:]\n",
    "\n",
    "\n",
    "#인덱스 0부터 3282를 삭제한다\n",
    "new_c1[0:3283] = []\n",
    "new_c2[0:3283] = []\n",
    "new_c1_names[0:3283] = []\n",
    "new_c2_names[0:3283] = []\n",
    "new_types[0:3283] = []\n",
    "new_rpairs[0:3283] = []\n",
    "\n",
    "\n",
    "\n",
    "#unicode라서 ascii로 바꿀 필요가 있다.\n",
    "str_c1=[]\n",
    "str_c1_names=[]\n",
    "str_c2=[]\n",
    "str_c2_names=[]\n",
    "str_types=[]\n",
    "str_rpairs=[]\n",
    "\n",
    "#ascii로 바꾸면서 붙는 non-ascii character를 제거\n",
    "for i in range(0, len(new_c1)):\n",
    "    str_c1.append(new_c1[i][0].encode('ascii', 'ignore'))\n",
    "    str_c1_names.append(new_c1_names[i].encode('ascii', 'ignore'))\n",
    "    str_c2.append(new_c2[i].encode('ascii', 'ignore'))\n",
    "    str_c2_names.append(new_c2_names[i].encode('ascii', 'ignore'))\n",
    "    str_types.append(new_types[i].encode('ascii', 'ignore'))\n",
    "    str_rpairs.append(new_rpairs[i].encode('ascii', 'ignore'))\n",
    "\n",
    "\n",
    "\n",
    "#수정된 데이터로 dataframe을 만든다.\n",
    "df_str_c1 = pd.DataFrame(data = str_c1, columns = ['Compound1'])\n",
    "df_str_c1_names = pd.DataFrame(data = str_c1_names, columns = ['C1name'])\n",
    "df_str_c2 = pd.DataFrame(data = str_c2, columns = ['Compound2'])\n",
    "df_str_c2_names = pd.DataFrame(data = str_c2_names, columns = ['C2name'])\n",
    "df_str_types = pd.DataFrame(data = str_types, columns = ['Type'])\n",
    "df_str_rpairs = pd.DataFrame(data = str_rpairs, columns = ['Related piar'])\n",
    "\n",
    "\n"
   ]
  },
  {
   "cell_type": "code",
   "execution_count": null,
   "metadata": {
    "collapsed": true
   },
   "outputs": [],
   "source": [
    "#수정된 데이터로 result matrix를 만든다.\n",
    "str_result = pd.DataFrame()\n",
    "str_result['Entry'] = df_entries\n",
    "str_result['Name'] = df_names\n",
    "str_result['Compound1'] = df_str_c1\n",
    "str_result['C1name'] = df_str_c1_names\n",
    "str_result['Compound2'] = df_str_c2\n",
    "str_result['C2name'] = df_str_c2_names\n",
    "str_result['Type'] = df_str_types\n",
    "str_result['Related rpair'] = df_str_rpairs\n",
    "\n"
   ]
  },
  {
   "cell_type": "code",
   "execution_count": null,
   "metadata": {
    "collapsed": true
   },
   "outputs": [],
   "source": [
    "#수정된 데이터로 만들어진 result matrix를 파일로 저장한다. \n",
    "\n",
    "str_result.to_csv(\"str_result.csv\", mode='w', index=False)\n",
    "df_entries.to_csv(\"str_df_entries.csv\", mode='w', index=False)\n",
    "df_names.to_csv(\"str_df_names.csv\", mode='w', index=False)\n",
    "df_str_c1.to_csv(\"str_df_c1.csv\", mode='w', index=False)\n",
    "df_str_c1_names.to_csv(\"str_df_c1_names.csv\", mode='w', index=False)\n",
    "df_str_c2.to_csv(\"str_df_c2.csv\", mode='w', index=False)\n",
    "df_str_c2_names.to_csv(\"str_df_c2_names.csv\", mode='w', index=False)\n",
    "df_str_types.to_csv(\"str_df_types.csv\", mode='w', index=False)\n",
    "df_str_rpairs.to_csv(\"str_df_rpairs.csv\", mode='w', index=False)\n"
   ]
  },
  {
   "cell_type": "code",
   "execution_count": null,
   "metadata": {
    "collapsed": true
   },
   "outputs": [],
   "source": [
    "str_result"
   ]
  },
  {
   "cell_type": "code",
   "execution_count": null,
   "metadata": {
    "collapsed": true
   },
   "outputs": [],
   "source": [
    "print new_c1[0][0].encode('ascii', 'replace')\n",
    "print new_c1[0][0].encode('ascii', 'ignore')\n",
    "\n",
    "a = new_c1[0][0].encode('ascii', 'ignore')\n",
    "type(a)"
   ]
  },
  {
   "cell_type": "code",
   "execution_count": null,
   "metadata": {
    "collapsed": true
   },
   "outputs": [],
   "source": [
    "str_result.to_csv(\"2.csv\", mode='w', index=False)"
   ]
  },
  {
   "cell_type": "code",
   "execution_count": null,
   "metadata": {
    "collapsed": true
   },
   "outputs": [],
   "source": []
  }
 ],
 "metadata": {
  "kernelspec": {
   "display_name": "Python 2",
   "language": "python",
   "name": "python2"
  },
  "language_info": {
   "codemirror_mode": {
    "name": "ipython",
    "version": 2
   },
   "file_extension": ".py",
   "mimetype": "text/x-python",
   "name": "python",
   "nbconvert_exporter": "python",
   "pygments_lexer": "ipython2",
   "version": "2.7.6"
  }
 },
 "nbformat": 4,
 "nbformat_minor": 0
}
