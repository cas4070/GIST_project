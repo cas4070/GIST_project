{
 "cells": [
  {
   "cell_type": "code",
   "execution_count": null,
   "metadata": {
    "collapsed": true
   },
   "outputs": [],
   "source": [
    "#-*- coding: utf-8 -*-\n",
    "import pandas as pd\n",
    "import numpy as np\n",
    "from pydpi.drug import getmol, fingerprint"
   ]
  },
  {
   "cell_type": "code",
   "execution_count": null,
   "metadata": {
    "collapsed": true
   },
   "outputs": [],
   "source": [
    "#파일 불러오기\n",
    "rpID = pd.read_table(\"./str_df_entries.csv\")\n",
    "name = pd.read_table(\"./str_df_names.csv\")\n",
    "compound1 = pd.read_table(\"./str_df_c1.csv\")\n",
    "compound2 = pd.read_table(\"./str_df_c2.csv\")\n"
   ]
  },
  {
   "cell_type": "code",
   "execution_count": null,
   "metadata": {
    "collapsed": true
   },
   "outputs": [],
   "source": [
    "len(compound1['Compound1'])"
   ]
  },
  {
   "cell_type": "code",
   "execution_count": null,
   "metadata": {
    "collapsed": true
   },
   "outputs": [],
   "source": [
    "# getmol.GetMolFromKegg 사용법\n",
    "cc = compound1['Compound1'][5]\n",
    "smi = getmol.GetMolFromKegg(cc)\n",
    "smi"
   ]
  },
  {
   "cell_type": "code",
   "execution_count": null,
   "metadata": {
    "collapsed": true
   },
   "outputs": [],
   "source": [
    "#Kegg compound ID를 통해 SMILES 얻기\n",
    "\n",
    "c1_smiles = []\n",
    "#c2_smiles = []\n",
    "\n",
    "cnt = 0    \n",
    "\n",
    "for i in range(0, len(compound1['Compound1'])):\n",
    "    \n",
    "    if i % 100 == 0:\n",
    "        print('%d' % i)\n",
    "    \n",
    "    cid1 = compound1['Compound1'][i]\n",
    "    \n",
    "    if cid1 == 'C00110':\n",
    "        c1_smiles.append('Can not get smiles : ' + cid1)\n",
    "    elif cid1 == 'C01642':\n",
    "        c1_smiles.append('Can not get smiles : ' + cid1)\n",
    "    elif cid1 == 'C00390':\n",
    "        c1_smiles.append('Can not get smiles : ' + cid1)\n",
    "    else :\n",
    "        smi = getmol.GetMolFromKegg(cid1)\n",
    "        c1_smiles.append(smi)\n",
    "    cnt = cnt + 1\n",
    "        \n",
    "#for cid2 in compound2['Compound2']:\n",
    "#    smi2 = getmol.GetMolFromKegg(cid2)\n",
    "#    c2_smiles.append(smi2)\n",
    "\n",
    "\n",
    "\n",
    "#smi = getmol.GetMolFromKegg('C00148')"
   ]
  },
  {
   "cell_type": "code",
   "execution_count": null,
   "metadata": {
    "collapsed": true
   },
   "outputs": [],
   "source": [
    "c1_smiles.append('Can not get smiles : ' + cid1)\n",
    "\n",
    "for i in range(cnt+1, len(compound1['Compound1'])):\n",
    "    \n",
    "    if i % 100 == 0:\n",
    "        print('%d' % i)\n",
    "    \n",
    "    cid1 = compound1['Compound1'][i]\n",
    "    \n",
    "    if cid1 == 'C00110':\n",
    "        c1_smiles.append('Can not get smiles : ' + cid1)\n",
    "    elif cid1 == 'C01642':\n",
    "        c1_smiles.append('Can not get smiles : ' + cid1)\n",
    "    elif cid1 == 'C00390':\n",
    "        c1_smiles.append('Can not get smiles : ' + cid1)\n",
    "    elif cid1 == 'C00012':\n",
    "        c1_smiles.append('Can not get smiles : ' + cid1)\n",
    "    elif cid1 == 'C00470':\n",
    "        c1_smiles.append('Can not get smiles : ' + cid1)\n",
    "    elif cid1 == 'C01641':\n",
    "        c1_smiles.append('Can not get smiles : ' + cid1)\n",
    "    elif cid1 == 'C03323':\n",
    "        c1_smiles.append('Can not get smiles : ' + cid1)\n",
    "    elif cid1 == 'C00066':\n",
    "        c1_smiles.append('Can not get smiles : ' + cid1)\n",
    "    elif cid1 == 'C00046':\n",
    "        c1_smiles.append('Can not get smiles : ' + cid1)\n",
    "    else :\n",
    "        smi = getmol.GetMolFromKegg(cid1)\n",
    "        c1_smiles.append(smi)\n",
    "    cnt = cnt + 1"
   ]
  },
  {
   "cell_type": "code",
   "execution_count": null,
   "metadata": {
    "collapsed": true
   },
   "outputs": [],
   "source": [
    "cid1"
   ]
  },
  {
   "cell_type": "code",
   "execution_count": null,
   "metadata": {
    "collapsed": true
   },
   "outputs": [],
   "source": [
    "compound1['Compound1'][142]"
   ]
  },
  {
   "cell_type": "code",
   "execution_count": null,
   "metadata": {
    "collapsed": true
   },
   "outputs": [],
   "source": [
    "getmol.GetMolFromKegg(cid1)"
   ]
  },
  {
   "cell_type": "code",
   "execution_count": null,
   "metadata": {
    "collapsed": true
   },
   "outputs": [],
   "source": [
    "len(c1_smiles)"
   ]
  },
  {
   "cell_type": "code",
   "execution_count": null,
   "metadata": {
    "collapsed": true
   },
   "outputs": [],
   "source": [
    "cnt"
   ]
  },
  {
   "cell_type": "code",
   "execution_count": null,
   "metadata": {
    "collapsed": true
   },
   "outputs": [],
   "source": [
    "\n",
    "temp = []\n",
    "#c2_smiles = []\n",
    "\n",
    "cnt = 60    \n",
    "\n",
    "for i in range(60, len(compound1['Compound1'])):\n",
    "    if i % 100 == 0:\n",
    "        print('%d' % i)\n",
    "    cid1 = compound1['Compound1'][i]\n",
    "    smi = getmol.GetMolFromKegg(cid1)\n",
    "    temp.append(smi)\n",
    "    print(\"%d : %s\" %(cnt,smi))\n",
    "    cnt = cnt + 1\n",
    "    \n",
    "    "
   ]
  },
  {
   "cell_type": "code",
   "execution_count": null,
   "metadata": {
    "collapsed": true
   },
   "outputs": [],
   "source": [
    "#Kegg compound ID를 통해 SMILES 얻기\n",
    "\n",
    "c1_smiles = []\n",
    "#c2_smiles = []\n",
    "\n",
    "cnt = 0    \n",
    "\n",
    "for i in range(0, len(compound1['Compound1'])):\n",
    "    if i % 100 == 0:\n",
    "        print('%d' % i)\n",
    "    cid1 = compound1['Compound1'][i]\n",
    "    if cid1 == 'C00110':\n",
    "        c1_smiles.append(cid1)\n",
    "    #smi = getmol.GetMolFromKegg(cid1)\n",
    "    #c1_smiles.append(smi)\n",
    "    #cnt = cnt + 1\n",
    "    \n",
    "    try : \n",
    "        #print(cnt)\n",
    "        smi = getmol.GetMolFromKegg(cid1)\n",
    "    except ArgumentError:\n",
    "        print(\"error : %d\" % cnt )\n",
    "        c1_smiles.append('error : %d' % cnt)\n",
    "        cnt = cnt + 1\n",
    "    else:\n",
    "        c1_smiles.append(smi)\n",
    "        cnt = cnt + 1\n",
    "        \n",
    "        \n",
    "#for cid2 in compound2['Compound2']:\n",
    "#    smi2 = getmol.GetMolFromKegg(cid2)\n",
    "#    c2_smiles.append(smi2)\n",
    "\n",
    "\n",
    "\n",
    "#smi = getmol.GetMolFromKegg('C00148')"
   ]
  },
  {
   "cell_type": "code",
   "execution_count": null,
   "metadata": {
    "collapsed": true
   },
   "outputs": [],
   "source": [
    "compound1['Compound1'][71]"
   ]
  },
  {
   "cell_type": "code",
   "execution_count": null,
   "metadata": {
    "collapsed": true
   },
   "outputs": [],
   "source": [
    "compound1['Compound1'][59]"
   ]
  },
  {
   "cell_type": "code",
   "execution_count": null,
   "metadata": {
    "collapsed": true
   },
   "outputs": [],
   "source": []
  },
  {
   "cell_type": "code",
   "execution_count": null,
   "metadata": {
    "collapsed": true
   },
   "outputs": [],
   "source": []
  }
 ],
 "metadata": {
  "kernelspec": {
   "display_name": "Python 2",
   "language": "python",
   "name": "python2"
  },
  "language_info": {
   "codemirror_mode": {
    "name": "ipython",
    "version": 2
   },
   "file_extension": ".py",
   "mimetype": "text/x-python",
   "name": "python",
   "nbconvert_exporter": "python",
   "pygments_lexer": "ipython2",
   "version": "2.7.6"
  }
 },
 "nbformat": 4,
 "nbformat_minor": 0
}
