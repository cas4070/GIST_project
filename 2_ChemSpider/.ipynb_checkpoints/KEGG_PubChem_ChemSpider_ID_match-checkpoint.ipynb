{
 "cells": [
  {
   "cell_type": "code",
   "execution_count": null,
   "metadata": {
    "collapsed": true
   },
   "outputs": [],
   "source": [
    "import pandas as pd\n",
    "import numpy as np"
   ]
  },
  {
   "cell_type": "code",
   "execution_count": null,
   "metadata": {
    "collapsed": true
   },
   "outputs": [],
   "source": [
    "#file open에 필요한 path\n",
    "path1 = \"/home/csbl/nas/users/asolchoi/data/KEGG rpair/KEGGtoPubchem_compound1.txt\"\n",
    "path2 = \"/home/csbl/nas/users/asolchoi/data/KEGG rpair/KEGGtoPubchem_compound2.txt\"\n",
    "path3 = \"/home/csbl/nas/users/asolchoi/data/KEGG rpair/PubChem/SID1toCID1.txt\"\n",
    "path4 = \"/home/csbl/nas/users/asolchoi/data/KEGG rpair/PubChem/SID2toCID2.txt\"\n",
    "path5 = \"/home/csbl/nas/users/asolchoi/data/KEGG rpair/PubChem/CID1SMILES(PubChem)_ANSI.txt\"\n",
    "path6 = \"/home/csbl/nas/users/asolchoi/data/KEGG rpair/PubChem/CID2SMILES(PubChem)_ANSI.txt\"\n",
    "path7 = \"/home/csbl/nas/users/asolchoi/data/KEGG rpair/ChemSpider/chem_smiles1.csv\"\n",
    "path8 = \"/home/csbl/nas/users/asolchoi/data/KEGG rpair/ChemSpider/chem_smiles2.csv\"\n",
    "\n",
    "#file open\n",
    "f_kegg_sid1 = pd.read_table(path1)\n",
    "f_kegg_sid2 = pd.read_table(path2)\n",
    "f_sid_cid1 = pd.read_table(path3, header=None)\n",
    "f_sid_cid2 = pd.read_table(path4, header=None)\n",
    "f_cid_psmi1 = pd.read_table(path5, header=None)\n",
    "f_cid_psmi2 = pd.read_table(path6, header=None)\n",
    "f_csmi1 = pd.read_csv(path7, header=None)\n",
    "f_csmi2 = pd.read_csv(path8, header=None)\n",
    "\n",
    "#불필요한 column 삭제\n",
    "f_csmi1 = f_csmi1.drop(f_csmi1.columns[[0]], axis=1)\n",
    "f_csmi2 = f_csmi2.drop(f_csmi2.columns[[0]], axis=1)\n",
    "\n",
    "#column의 label이름 재조정\n",
    "f_sid_cid1.columns=['SID1', 'CID1']\n",
    "f_sid_cid2.columns=['SID2', 'CID2']\n",
    "f_cid_psmi1.columns=['CID1', 'SMILES(PubChem)']\n",
    "f_cid_psmi2.columns=['CID2', 'SMILES(PubChem)']\n",
    "f_csmi1.columns=['SMILEE1(ChemSpider)']\n",
    "f_csmi2.columns=['SMILES2(ChemSpider)']"
   ]
  },
  {
   "cell_type": "code",
   "execution_count": null,
   "metadata": {
    "collapsed": true
   },
   "outputs": [],
   "source": [
    "print len(f_kegg_sid2)\n",
    "print len(f_sid_cid2)\n",
    "print len(f_cid_psmi2)\n",
    "print len(f_csmi2)"
   ]
  },
  {
   "cell_type": "code",
   "execution_count": null,
   "metadata": {
    "collapsed": true
   },
   "outputs": [],
   "source": [
    "#compound1에 대해, CID, PubChem SMILES, ChemSpider SMILES를 합치는 과정\n",
    "temp = pd.concat([f_cid_psmi1, f_csmi1], axis=1)\n",
    "temp = pd.concat([f_sid_cid1,temp], axis=1)\n",
    "#temp"
   ]
  },
  {
   "cell_type": "code",
   "execution_count": null,
   "metadata": {
    "collapsed": true
   },
   "outputs": [],
   "source": [
    "kegg1 = []\n",
    "for index, row in temp.iterrows():\n",
    "    for index2, row2 in f_kegg_sid1.iterrows():\n",
    "        if row['SID1'] == row2['PubChem']:\n",
    "            kegg1.append(row2['KEGG'])\n",
    "            break\n",
    "    print index    "
   ]
  },
  {
   "cell_type": "code",
   "execution_count": null,
   "metadata": {
    "collapsed": true
   },
   "outputs": [],
   "source": [
    "df_kegg1 = pd.DataFrame(data=kegg1)\n",
    "df_kegg1.columns=['KEGG1']\n",
    "temp = pd.concat([df_kegg1, temp], axis=1)\n",
    "temp"
   ]
  },
  {
   "cell_type": "code",
   "execution_count": null,
   "metadata": {
    "collapsed": true
   },
   "outputs": [],
   "source": [
    "output_path1 = \"/home/csbl/nas/users/asolchoi/data/KEGG rpair/ChemSpider/result_compound1.csv\"\n",
    "temp.to_csv(output_path1, mode = 'w')"
   ]
  },
  {
   "cell_type": "code",
   "execution_count": null,
   "metadata": {
    "collapsed": true
   },
   "outputs": [],
   "source": [
    "#compound2에 대해, CID, PubChem SMILES, ChemSpider SMILES를 합치는 과정\n",
    "temp2 = pd.concat([f_cid_psmi2, f_csmi2], axis=1)\n",
    "temp2 = pd.concat([f_sid_cid2,temp2], axis=1)\n",
    "\n",
    "#KEGG ID 찾기\n",
    "kegg2 = []\n",
    "for index, row in temp2.iterrows():\n",
    "    for index2, row2 in f_kegg_sid2.iterrows():\n",
    "        if row['SID2'] == row2['PubChem']:\n",
    "            kegg2.append(row2['KEGG'])\n",
    "            break\n",
    "    print index\n",
    "    \n",
    "#result matrix만들기    \n",
    "df_kegg2 = pd.DataFrame(data=kegg2)\n",
    "df_kegg2.columns=['KEGG2']\n",
    "temp2 = pd.concat([df_kegg2, temp2], axis=1)\n",
    "    \n",
    "#파일 출력\n",
    "output_path2 = \"/home/csbl/nas/users/asolchoi/data/KEGG rpair/ChemSpider/result_compound2.csv\"\n",
    "temp2.to_csv(output_path2, mode = 'w')"
   ]
  },
  {
   "cell_type": "code",
   "execution_count": null,
   "metadata": {
    "collapsed": true
   },
   "outputs": [],
   "source": [
    "f_kegg_sid2"
   ]
  }
 ],
 "metadata": {
  "kernelspec": {
   "display_name": "Python 2",
   "language": "python",
   "name": "python2"
  },
  "language_info": {
   "codemirror_mode": {
    "name": "ipython",
    "version": 2
   },
   "file_extension": ".py",
   "mimetype": "text/x-python",
   "name": "python",
   "nbconvert_exporter": "python",
   "pygments_lexer": "ipython2",
   "version": "2.7.6"
  }
 },
 "nbformat": 4,
 "nbformat_minor": 0
}
