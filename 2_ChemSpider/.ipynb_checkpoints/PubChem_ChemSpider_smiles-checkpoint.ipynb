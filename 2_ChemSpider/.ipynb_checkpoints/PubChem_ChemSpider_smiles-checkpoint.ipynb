{
 "cells": [
  {
   "cell_type": "code",
   "execution_count": null,
   "metadata": {
    "collapsed": true
   },
   "outputs": [],
   "source": [
    "from chemspipy import ChemSpider\n",
    "import pandas as pd\n",
    "import numpy as np\n",
    "cs = ChemSpider('3e6c1209-d6af-49a8-8f8c-f9daec87a410')"
   ]
  },
  {
   "cell_type": "code",
   "execution_count": null,
   "metadata": {
    "collapsed": true
   },
   "outputs": [],
   "source": [
    "psmi1 = pd.read_table(\"/home/csbl/nas/users/asolchoi/data/PubChem/CID1SMILES(PubChem)_ANSI.txt\", header=None)\n",
    "psmi2 = pd.read_table(\"/home/csbl/nas/users/asolchoi/data/PubChem/CID2SMILES(PubChem)_ANSI.txt\", header=None)"
   ]
  },
  {
   "cell_type": "code",
   "execution_count": null,
   "metadata": {
    "collapsed": true
   },
   "outputs": [],
   "source": [
    "#smiles 접근방법\n",
    "print psmi1[1][0]  #첫번째 smiles접근 \n",
    "psmi1[1] #smiles들의 배열"
   ]
  },
  {
   "cell_type": "code",
   "execution_count": null,
   "metadata": {
    "collapsed": true
   },
   "outputs": [],
   "source": [
    "#pubchem smiles를 chemspider smiles로 변환\n",
    "\n",
    "#compound1에 대해\n",
    "#u_chem_smiles=[] #search로 반환되는 smiles가 unicdoe 타입\n",
    "#chem_smiles=[] #unicode를 ascii로 인코딩한것.\n",
    "#cnt = 0\n",
    "#for i in psmi1[1]:\n",
    "#    cnt = cnt +1\n",
    "#    c = cs.search(i)\n",
    "#    u_chem_smiles.append(c[0].smiles)\n",
    "#    chem_smiles.append(c[0].smiles.encode('ascii', 'replace')) # replace option은 non-ASCII character를 ?로 바꿔줌\n",
    "#    if cnt % 20 == 0:\n",
    "#        print (\"cnt : %d\" % cnt)\n",
    "\n",
    "\n",
    "################index 2261부터 다시 시작\n",
    "u_2261_chem_smiles = []\n",
    "_2261_chem_smiles = []\n",
    "\n",
    "cnt = 2261\n",
    "for i in psmi1[1][2261:]:\n",
    "    cnt = cnt +1\n",
    "    c = cs.search(i)\n",
    "    if c.message == u'No results found':\n",
    "        index = cnt-1\n",
    "        print(\"%d no result\"% index)\n",
    "        u_2261_chem_smiles.append(\"index %d : no result\"% index)\n",
    "        _2261_chem_smiles.append(\"index %d : no result\"% index)\n",
    "    else:    \n",
    "        u_2261_chem_smiles.append(c[0].smiles)\n",
    "        _2261_chem_smiles.append(c[0].smiles.encode('ascii', 'replace')) # replace option은 non-ASCII character를 ?로 바꿔줌\n",
    "    \n",
    "    if cnt % 20 == 0:\n",
    "        print (\"cnt : %d\" % cnt)\n",
    "\n",
    "print \"compound 1 ended, start compound2\""
   ]
  },
  {
   "cell_type": "code",
   "execution_count": null,
   "metadata": {
    "collapsed": true
   },
   "outputs": [],
   "source": [
    "####index 0부터 2260까지 변환 된것. 2261번째 서칭 결과가 없어서 에러 났었음.\n",
    "df_u_0_2260 = pd.DataFrame(data = u_chem_smiles)\n",
    "df_0_2260 = pd.DataFrame(data =chem_smiles )\n",
    "df_0_2260.to_csv(\"/home/csbl/nas/users/asolchoi/data/ChemSpider/_0_2260.csv\", mode = 'w')\n",
    "df_u_0_2260.to_csv(\"/home/csbl/nas/users/asolchoi/data/ChemSpider/_u_0_2260.csv\", mode = 'w')"
   ]
  },
  {
   "cell_type": "code",
   "execution_count": null,
   "metadata": {
    "collapsed": true
   },
   "outputs": [],
   "source": [
    "####index 2261부터 3692(?)까지 변환 된것. 2261번째 서칭 결과가 없어서 에러 났었음.\n",
    "df_u_2261_ = pd.DataFrame(data = u_2261_chem_smiles)\n",
    "df_2261_ = pd.DataFrame(data =_2261_chem_smiles )\n",
    "df_2261_.to_csv(\"/home/csbl/nas/users/asolchoi/data/ChemSpider/2261_.csv\", mode = 'w')\n",
    "df_u_2261_.to_csv(\"/home/csbl/nas/users/asolchoi/data/ChemSpider/u_2261_.csv\", mode = 'w')"
   ]
  },
  {
   "cell_type": "code",
   "execution_count": null,
   "metadata": {
    "collapsed": true
   },
   "outputs": [],
   "source": [
    "u_2261_chem_smiles"
   ]
  },
  {
   "cell_type": "code",
   "execution_count": null,
   "metadata": {
    "collapsed": true
   },
   "outputs": [],
   "source": [
    "#compound2에 대해\n",
    "u_chem_smiles2=[] #search로 반환되는 smiles가 unicdoe 타입\n",
    "chem_smiles2=[] #unicode를 ascii로 인코딩한것.\n",
    "\n",
    "cnt2 = 0\n",
    "for j in psmi2[1]:\n",
    "    cnt2 = cnt2 +1\n",
    "    c2 = cs.search(j)\n",
    "    if c2.message == u'No results found':\n",
    "        index = cnt2-1\n",
    "        print(\"%d no result\"% index)\n",
    "        u_chem_smiles2.append(\"index %d : no result\"% index)\n",
    "        chem_smiles2.append(\"index %d : no result\"% index)\n",
    "    else:    \n",
    "        u_chem_smiles2.append(c2[0].smiles)\n",
    "        chem_smiles2.append(c2[0].smiles.encode('ascii', 'replace')) # replace option은 non-ASCII character를 ?로 바꿔\n",
    "    if cnt2 % 20 ==0:\n",
    "        print (\"cnt2 : %d\" % cnt2)\n",
    "        \n",
    "df_u_chem_smiles2 = pd.DataFrame(data = u_chem_smiles2)\n",
    "df_chem_smiles2 = pd.DataFrame(data = chem_smiles2)\n",
    "df_u_chem_smiles2.to_csv(\"/home/csbl/nas/users/asolchoi/data/ChemSpider/u_chem_smiles2.csv\", mode = 'w')\n",
    "df_chem_smiles2.to_csv(\"/home/csbl/nas/users/asolchoi/data/ChemSpider/chem_smiles2.csv\", mode = 'w')"
   ]
  },
  {
   "cell_type": "code",
   "execution_count": null,
   "metadata": {
    "collapsed": true
   },
   "outputs": [],
   "source": [
    "len(chem_smiles)"
   ]
  },
  {
   "cell_type": "code",
   "execution_count": null,
   "metadata": {
    "collapsed": true
   },
   "outputs": [],
   "source": [
    "cnt"
   ]
  },
  {
   "cell_type": "code",
   "execution_count": null,
   "metadata": {
    "collapsed": true
   },
   "outputs": [],
   "source": [
    "cs.search(psmi1[1][2261])[0].smiles"
   ]
  },
  {
   "cell_type": "code",
   "execution_count": null,
   "metadata": {
    "collapsed": true
   },
   "outputs": [],
   "source": [
    "a = cs.search(psmi1[1][2261])"
   ]
  },
  {
   "cell_type": "code",
   "execution_count": null,
   "metadata": {
    "collapsed": true
   },
   "outputs": [],
   "source": [
    "a.message"
   ]
  },
  {
   "cell_type": "code",
   "execution_count": null,
   "metadata": {
    "collapsed": true
   },
   "outputs": [],
   "source": [
    "if a.message == u'No results found':\n",
    "    print \"none\""
   ]
  },
  {
   "cell_type": "code",
   "execution_count": null,
   "metadata": {
    "collapsed": true
   },
   "outputs": [],
   "source": [
    "print a.count\n",
    "print a.duration\n",
    "print a.exception\n",
    "print a.message\n",
    "print a.ready\n",
    "print a.status\n",
    "print a.success\n",
    "print a.wait"
   ]
  },
  {
   "cell_type": "code",
   "execution_count": null,
   "metadata": {
    "collapsed": true
   },
   "outputs": [],
   "source": [
    "type(psmi1[1])"
   ]
  },
  {
   "cell_type": "code",
   "execution_count": null,
   "metadata": {
    "collapsed": true
   },
   "outputs": [],
   "source": [
    "print psmi1[1][2260]\n",
    "print psmi1[1][2261]"
   ]
  },
  {
   "cell_type": "code",
   "execution_count": null,
   "metadata": {
    "collapsed": true
   },
   "outputs": [],
   "source": [
    "a = psmi1[1][2261:]\n",
    "a"
   ]
  },
  {
   "cell_type": "code",
   "execution_count": null,
   "metadata": {
    "collapsed": true
   },
   "outputs": [],
   "source": [
    "a = cs.search(psmi1[1][1])\n",
    "a[0].smiles"
   ]
  },
  {
   "cell_type": "code",
   "execution_count": null,
   "metadata": {
    "collapsed": true
   },
   "outputs": [],
   "source": []
  }
 ],
 "metadata": {
  "kernelspec": {
   "display_name": "Python 2",
   "language": "python",
   "name": "python2"
  },
  "language_info": {
   "codemirror_mode": {
    "name": "ipython",
    "version": 2
   },
   "file_extension": ".py",
   "mimetype": "text/x-python",
   "name": "python",
   "nbconvert_exporter": "python",
   "pygments_lexer": "ipython2",
   "version": "2.7.6"
  }
 },
 "nbformat": 4,
 "nbformat_minor": 0
}
