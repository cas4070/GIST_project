{
 "cells": [
  {
   "cell_type": "code",
   "execution_count": null,
   "metadata": {
    "collapsed": true
   },
   "outputs": [],
   "source": [
    "#python xml library import \n",
    "import xml.etree.ElementTree as ET\n",
    "\n",
    "#폴더 내 파일 이름 얻기 위한 library\n",
    "import os\n",
    "\n",
    "#판다스\n",
    "import pandas as pd\n",
    "import numpy as np\n",
    "import matplotlib.pyplot as plt"
   ]
  },
  {
   "cell_type": "code",
   "execution_count": null,
   "metadata": {
    "collapsed": true
   },
   "outputs": [],
   "source": [
    "path = \"/home/csbl/nas/users/asolchoi/data/COCONUT_Herbal/4_HMDB/hmdb_metabolites/HMDB00001.xml\""
   ]
  },
  {
   "cell_type": "code",
   "execution_count": null,
   "metadata": {
    "collapsed": true
   },
   "outputs": [],
   "source": [
    "# 폴더 내의 모든 파일 이름 얻어오기.\n",
    "file_name = []\n",
    "for root, dirs, files in os.walk(\"/home/csbl/nas/users/asolchoi/data/COCONUT_Herbal/4_HMDB/hmdb_metabolites/\"):\n",
    "    for f in files:\n",
    "        file_name.append(f)\n",
    "\n",
    "# HMDB00001 부터 시작하게 sort한다.\n",
    "file_name.sort()\n",
    "\n",
    "# 마지막은 전체 파일이기 때문에 삭제 한다.\n",
    "remove_index = len(file_name)-1\n",
    "del file_name[remove_index]\n",
    "\n",
    "\n",
    "#file별 path\n",
    "file_path=[]\n",
    "\n",
    "for i in file_name:\n",
    "    path = \"/home/csbl/nas/users/asolchoi/data/COCONUT_Herbal/4_HMDB/hmdb_metabolites/\" + i\n",
    "    file_path.append(path)"
   ]
  },
  {
   "cell_type": "code",
   "execution_count": null,
   "metadata": {
    "collapsed": true
   },
   "outputs": [],
   "source": [
    "# 결과 저장할 dataframe 생성\n",
    "\n",
    "df = pd.DataFrame(columns=['Accession','Name','Smiles','InChI','InChI key'])\n",
    "df"
   ]
  },
  {
   "cell_type": "code",
   "execution_count": null,
   "metadata": {
    "collapsed": true
   },
   "outputs": [],
   "source": [
    "# xml 파일별로 필요한 정보 파싱\n",
    "cnt = 0 \n",
    "for j in file_path:\n",
    "    #parse xml file\n",
    "    tree = ET.parse(j)\n",
    "    #get root node\n",
    "    xml_root = tree.getroot()\n",
    "    \n",
    "    #필요한 데이터 저장\n",
    "    data = []\n",
    "    data.append(xml_root[3].text) #accession\n",
    "    if type(xml_root[5].text) == unicode: #name\n",
    "        data.append(xml_root[5].text.encode('ascii', 'replace'))\n",
    "    else:\n",
    "        data.append(xml_root[5].text) \n",
    "    data.append(xml_root[14].text) #smiles\n",
    "    data.append(xml_root[15].text) # inchi\n",
    "    data.append(xml_root[16].text) # incikey\n",
    "    \n",
    "    #dataframe 생성\n",
    "    temp_df =  pd.DataFrame([data], columns=['Accession','Name','Smiles','InChI','InChI key'])\n",
    "    \n",
    "    #결과가 저장될 dataframe에 추가\n",
    "    df = df.append(temp_df)\n",
    "    \n",
    "    cnt = cnt +1\n",
    "    if cnt % 100 == 0 :\n",
    "        print(cnt)\n",
    "    \n",
    "    "
   ]
  },
  {
   "cell_type": "code",
   "execution_count": null,
   "metadata": {
    "collapsed": true
   },
   "outputs": [],
   "source": [
    "df"
   ]
  },
  {
   "cell_type": "code",
   "execution_count": null,
   "metadata": {
    "collapsed": true
   },
   "outputs": [],
   "source": [
    "df.to_csv(\"/home/csbl/nas/users/asolchoi/data/COCONUT_Herbal/4_HMDB/HMDB.csv\", mode = 'w', index=False)"
   ]
  },
  {
   "cell_type": "code",
   "execution_count": null,
   "metadata": {
    "collapsed": true
   },
   "outputs": [],
   "source": []
  },
  {
   "cell_type": "code",
   "execution_count": null,
   "metadata": {
    "collapsed": true
   },
   "outputs": [],
   "source": [
    "temp = []\n",
    "temp.append(accesion)\n",
    "temp.append(name)\n",
    "temp.append(smiles)\n",
    "temp.append(inchi)\n",
    "temp.append(inchikey)\n"
   ]
  },
  {
   "cell_type": "code",
   "execution_count": null,
   "metadata": {
    "collapsed": true
   },
   "outputs": [],
   "source": [
    "c = pd.DataFrame([temp], columns=['Accession','Name','Smiles','InChI','InChI key'])"
   ]
  },
  {
   "cell_type": "code",
   "execution_count": null,
   "metadata": {
    "collapsed": true
   },
   "outputs": [],
   "source": [
    "aa = pd.DataFrame(columns=['Accession','Name','Smiles','InChI','InChI key'])\n",
    "aa = aa.append(c)"
   ]
  },
  {
   "cell_type": "code",
   "execution_count": null,
   "metadata": {
    "collapsed": true
   },
   "outputs": [],
   "source": [
    "aa.to_csv(\"/home/csbl/nas/users/asolchoi/data/COCONUT_Herbal/4_HMDB/HMDB.csv\", index=False)"
   ]
  },
  {
   "cell_type": "code",
   "execution_count": null,
   "metadata": {
    "collapsed": true
   },
   "outputs": [],
   "source": []
  },
  {
   "cell_type": "code",
   "execution_count": null,
   "metadata": {
    "collapsed": true
   },
   "outputs": [],
   "source": [
    "# xml 파일별로 필요한 정보 파싱cnt = 0\n",
    "\n",
    "nn = []\n",
    "for j in file_path:\n",
    "    #parse xml file\n",
    "    tree = ET.parse(j)\n",
    "    #get root node\n",
    "    xml_root = tree.getroot()\n",
    "    \n",
    "    #필요한 데이터 저장\n",
    "    if type(xml_root[3].text) == unicode :\n",
    "        print(xml_root[3])\n",
    "        nn.append(xml_root[3].text)\n",
    "    if type(xml_root[5].text) == unicode :\n",
    "        print(xml_root[5])\n",
    "        nn.append(xml_root[5].text)\n",
    "    if type(xml_root[14].text) == unicode :\n",
    "        print(xml_root[14])\n",
    "        nn.append(xml_root[14].text)\n",
    "    if type(xml_root[15].text) == unicode :\n",
    "        print(xml_root[15])\n",
    "        nn.append(xml_root[15].text)\n",
    "    if type(xml_root[16].text) == unicode :\n",
    "        print(xml_root[16])\n",
    "        nn.append(xml_root[16].text)\n",
    "    \n",
    "    cnt = cnt +1\n",
    "    if cnt % 100 == 0 :\n",
    "        print(cnt)\n",
    "  "
   ]
  },
  {
   "cell_type": "code",
   "execution_count": null,
   "metadata": {
    "collapsed": true
   },
   "outputs": [],
   "source": []
  },
  {
   "cell_type": "code",
   "execution_count": null,
   "metadata": {
    "collapsed": true
   },
   "outputs": [],
   "source": [
    "## HMDB 파일을 pandas로 불러올 때, 빈칸으로 되어 있으면 NaN이 된다. 이를 처리 하는 과정\n",
    "path = \"/home/csbl/nas/users/asolchoi/data/COCONUT_Herbal/4_HMDB/HMDB_txt.txt\"\n",
    "f = pd.read_table(path)\n",
    "\n",
    "# HMDB의 NaN data 처리..\n",
    "fs = f.fillna('no data in HMDB')\n",
    "\n",
    "fs.rename(columns={'InChI key':'InChIkey'}, inplace=True)\n",
    "\n",
    "no_data = fs[(fs.InChI == 'no data in HMDB') | (fs.InChIkey == 'no data in HMDB') | (fs.Smiles == 'no data in HMDB')]\n",
    "\n",
    "no_data.to_csv(\"/home/csbl/nas/users/asolchoi/data/COCONUT_Herbal/4_HMDB/HMDB(only no data).csv\", mode='w')\n",
    "\n",
    "fs.to_csv(\"/home/csbl/nas/users/asolchoi/data/COCONUT_Herbal/4_HMDB/HMDB(no data checked).csv\", mode='w')"
   ]
  }
 ],
 "metadata": {
  "kernelspec": {
   "display_name": "Python 2",
   "language": "python",
   "name": "python2"
  },
  "language_info": {
   "codemirror_mode": {
    "name": "ipython",
    "version": 2
   },
   "file_extension": ".py",
   "mimetype": "text/x-python",
   "name": "python",
   "nbconvert_exporter": "python",
   "pygments_lexer": "ipython2",
   "version": "2.7.6"
  }
 },
 "nbformat": 4,
 "nbformat_minor": 0
}
