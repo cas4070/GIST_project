{
 "cells": [
  {
   "cell_type": "code",
   "execution_count": null,
   "metadata": {
    "collapsed": true
   },
   "outputs": [],
   "source": [
    "from chemspipy import ChemSpider\n",
    "import pandas as pd\n",
    "import numpy as np\n",
    "import time\n",
    "cs = ChemSpider('3e6c1209-d6af-49a8-8f8c-f9daec87a410')"
   ]
  },
  {
   "cell_type": "code",
   "execution_count": null,
   "metadata": {
    "collapsed": true
   },
   "outputs": [],
   "source": [
    "path = \"/home/csbl/nas/users/asolchoi/data/COCONUT_Herbal/4_HMDB/HMDB_txt.txt\""
   ]
  },
  {
   "cell_type": "code",
   "execution_count": null,
   "metadata": {
    "collapsed": true
   },
   "outputs": [],
   "source": [
    "f = pd.read_table(path)\n",
    "f"
   ]
  },
  {
   "cell_type": "code",
   "execution_count": null,
   "metadata": {
    "collapsed": true
   },
   "outputs": [],
   "source": [
    "#for i in range(0, len(f['InChI'])):\n",
    "#    if type(f['InChI'][i]) != float:\n",
    "#        f['InChI'][i] = f['InChI'][i].replace('InChI=', '')\n",
    "\n",
    "#InChI Key 앞에 있는 문자 지우기\n",
    "for j in range(0, len(f['InChI key'])):\n",
    "    if type(f['InChI key'][j]) != float:\n",
    "        f['InChI key'][j] = f['InChI key'][j].replace('InChIKey=', '')"
   ]
  },
  {
   "cell_type": "code",
   "execution_count": null,
   "metadata": {
    "collapsed": true
   },
   "outputs": [],
   "source": [
    "#standardization\n",
    "\n",
    "#InChI key로 찾기\n",
    "#cnt = 0\n",
    "#for i in range(0, len(f)):\n",
    "#    data = []\n",
    "#    cnt = cnt +1\n",
    "#    \n",
    "#    c = cs.search(f['InChI key'][i])\n",
    "#    if c.message == u'No results found':\n",
    "#        index = cnt-1\n",
    "#        print(\"%d no inchi_key\"% index)\n",
    "#        data.append(\"index %d : no inchi_key\"% index)\n",
    "#        data.append(None)\n",
    "#        data.append(None)\n",
    "#    else:\n",
    "#        com = cs.simple_search(f['InChI key'][i])\n",
    "#        data.append(com[0].inchikey.encode('ascii', 'replace')) # replace option은 non-ASCII character를 ?로 바꿔줌\n",
    "#        data.append(com[0].inchi.encode('ascii', 'replace'))\n",
    "#        data.append(com[0].smiles)\n",
    "    \n",
    "#    temp_df =  pd.DataFrame([data], columns=['ChemSpider_InChI key','ChemSpider_InChI','ChemSpider_Smiles'], index = None)\n",
    "#    df = df.append(temp_df)\n",
    "                                             \n",
    "#    if cnt % 20 == 0:\n",
    "#        print (\"cnt : %d\" % cnt)\n"
   ]
  },
  {
   "cell_type": "code",
   "execution_count": null,
   "metadata": {
    "collapsed": true
   },
   "outputs": [],
   "source": [
    "######수정############\n",
    "#standardization\n",
    "\n",
    "#InChI key로 찾기\n",
    "cnt = 8923\n",
    "print \"Start : cnt : %d, \" % cnt + time.strftime('%a %H:%M:%S')\n",
    "\n",
    "#i=0 부터 8921까지 변환이 되다 중간에 끊겼었음.\n",
    "#i=8922부터 다시 시작\n",
    "for i in range(8922, len(f)):\n",
    "    data = []\n",
    "    cnt = cnt +1\n",
    "    \n",
    "    com = cs.simple_search(f['InChI key'][i])\n",
    "    \n",
    "    if com == []:\n",
    "        index = cnt-1\n",
    "        print(\"%d no inchi_key\"% index)\n",
    "        data.append(\"index %d : no inchi_key\"% index)\n",
    "        data.append(\"None\")\n",
    "        data.append(\"None\")\n",
    "    else:\n",
    "        data.append(com[0].inchikey.encode('ascii', 'replace')) # replace option은 non-ASCII character를 ?로 바꿔줌\n",
    "        data.append(com[0].inchi.encode('ascii', 'replace'))\n",
    "        data.append(com[0].smiles)\n",
    "    \n",
    "    temp_df =  pd.DataFrame([data], columns=['ChemSpider_InChI key','ChemSpider_InChI','ChemSpider_Smiles'])\n",
    "    df = df.append(temp_df)\n",
    "                                             \n",
    "    if cnt % 20 == 0:\n",
    "        print \"cnt : %d, \" % cnt + time.strftime('%a %H:%M:%S')\n",
    "print \"End : cnt : %d, \" % cnt + time.strftime('%a %H:%M:%S')        "
   ]
  },
  {
   "cell_type": "code",
   "execution_count": null,
   "metadata": {
    "collapsed": true
   },
   "outputs": [],
   "source": [
    "df.to_csv(\"/home/csbl/nas/users/asolchoi/data/COCONUT_Herbal/4_HMDB/HMDB_ChemSpider(InChIkey).csv\", mode='w')"
   ]
  }
 ],
 "metadata": {
  "kernelspec": {
   "display_name": "Python 2",
   "language": "python",
   "name": "python2"
  },
  "language_info": {
   "codemirror_mode": {
    "name": "ipython",
    "version": 2
   },
   "file_extension": ".py",
   "mimetype": "text/x-python",
   "name": "python",
   "nbconvert_exporter": "python",
   "pygments_lexer": "ipython2",
   "version": "2.7.6"
  }
 },
 "nbformat": 4,
 "nbformat_minor": 0
}
