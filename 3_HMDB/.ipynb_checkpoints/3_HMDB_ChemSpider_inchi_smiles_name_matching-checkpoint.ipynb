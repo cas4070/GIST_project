{
 "cells": [
  {
   "cell_type": "code",
   "execution_count": null,
   "metadata": {
    "collapsed": true
   },
   "outputs": [],
   "source": [
    "from chemspipy import ChemSpider\n",
    "import pandas as pd\n",
    "import numpy as np\n",
    "import time\n",
    "cs = ChemSpider('3e6c1209-d6af-49a8-8f8c-f9daec87a410')"
   ]
  },
  {
   "cell_type": "code",
   "execution_count": null,
   "metadata": {
    "collapsed": true
   },
   "outputs": [],
   "source": [
    "path1 = \"./HMDB_final_txt.txt\"\n",
    "path2 = \"./HMDB_ChemSpider(InChIkey)_final.csv\""
   ]
  },
  {
   "cell_type": "code",
   "execution_count": null,
   "metadata": {
    "collapsed": true
   },
   "outputs": [],
   "source": [
    "f = pd.read_table(path1)\n",
    "df = pd.read_csv(path2)"
   ]
  },
  {
   "cell_type": "code",
   "execution_count": null,
   "metadata": {
    "collapsed": true
   },
   "outputs": [],
   "source": [
    "f"
   ]
  },
  {
   "cell_type": "code",
   "execution_count": null,
   "metadata": {
    "collapsed": true
   },
   "outputs": [],
   "source": [
    "#InChI key로 변환이 안되었던 것들\n",
    "df[(df.ChemSpider_InChI=='None')]"
   ]
  },
  {
   "cell_type": "code",
   "execution_count": null,
   "metadata": {
    "collapsed": true
   },
   "outputs": [],
   "source": [
    "index = df[(df.ChemSpider_InChI=='None')].index.tolist()\n",
    "df_inchi = df  # df2는 InChI로 mapping된 결과를 저장할 것."
   ]
  },
  {
   "cell_type": "code",
   "execution_count": null,
   "metadata": {
    "collapsed": true
   },
   "outputs": [],
   "source": [
    "#standardization\n",
    "\n",
    "#InChI로 찾기\n",
    "cnt = 0\n",
    "\n",
    "print \"Start : cnt : %d, \" % cnt + time.strftime('%a %H:%M:%S')\n",
    "for i in index: \n",
    "    c = cs.simple_search(f['InChI'][i])\n",
    "    if c == []:\n",
    "        print(\"%d no inchi\"% i)\n",
    "        df_inchi['ChemSpider_InChI'][i] = \"no inchi\"% i\n",
    "    else:\n",
    "        df_inchi['ChemSpider_InChI key'][i] = c[0].inchikey.encode('ascii', 'replace') # replace option은 non-ASCII character를 ?로 바꿔줌\n",
    "        df_inchi['ChemSpider_InChI'][i] = c[0].inchi.encode('ascii', 'replace')\n",
    "        df_inchi['ChemSpider_Smiles'][i] = c[0].smiles.encode('ascii', 'replace')\n",
    "    cnt = cnt + 1\n",
    "    if cnt % 20 == 0:\n",
    "        print \"cnt : %d, \" % cnt + time.strftime('%a %H:%M:%S')\n",
    "print \"End : cnt : %d, \" % cnt + time.strftime('%a %H:%M:%S')\n",
    "    "
   ]
  },
  {
   "cell_type": "code",
   "execution_count": null,
   "metadata": {
    "collapsed": true
   },
   "outputs": [],
   "source": [
    "df_inchi.to_csv(\"HMDB_ChemSpider(InChI).csv\", mode='w')"
   ]
  },
  {
   "cell_type": "code",
   "execution_count": null,
   "metadata": {
    "collapsed": true
   },
   "outputs": [],
   "source": [
    "df_inchi[(df_inchi.ChemSpider_InChI == 'no inchi')]"
   ]
  },
  {
   "cell_type": "code",
   "execution_count": null,
   "metadata": {
    "collapsed": true
   },
   "outputs": [],
   "source": [
    "################# InChI로 mapping안된것들에 대해, smiles로 standardization#####################\n",
    "df_smiles = df_inchi # df_smiles는 smiles로 mapping한 정보 담을 것.\n",
    "#InChI로 mapping 안된 것 list\n",
    "index2 = df_inchi[(df_inchi.ChemSpider_InChI == 'no inchi')].index.tolist()"
   ]
  },
  {
   "cell_type": "code",
   "execution_count": null,
   "metadata": {
    "collapsed": true
   },
   "outputs": [],
   "source": [
    "len(index3)"
   ]
  },
  {
   "cell_type": "code",
   "execution_count": null,
   "metadata": {
    "collapsed": true
   },
   "outputs": [],
   "source": [
    "##  Smiles로 standardization\n",
    "\n",
    "cnt = 0\n",
    "print \"Start : cnt : %d, \" % cnt + time.strftime('%a %H:%M:%S')\n",
    "\n",
    "for i in index2:\n",
    "    c = cs.simple_search(f['Smiles'][i])\n",
    "    if c == []:\n",
    "        print(\"%d no smiles\"% i)\n",
    "        df_smiles['ChemSpider_Smiles'][i] = \"no smiles\"\n",
    "    else:\n",
    "        df_smiles['ChemSpider_InChI key'][i] = c[0].inchikey.encode('ascii', 'replace') # replace option은 non-ASCII character를 ?로 바꿔줌\n",
    "        df_smiles['ChemSpider_InChI'][i] = c[0].inchi.encode('ascii', 'replace')\n",
    "        df_smiles['ChemSpider_Smiles'][i] = c[0].smiles.encode('ascii', 'replace')\n",
    "    cnt = cnt + 1\n",
    "    if cnt % 20 == 0:\n",
    "        print \"cnt : %d, \" % cnt + time.strftime('%a %H:%M:%S')\n",
    "print \"End : cnt : %d, \" % cnt + time.strftime('%a %H:%M:%S')\n",
    "   "
   ]
  },
  {
   "cell_type": "code",
   "execution_count": null,
   "metadata": {
    "collapsed": true
   },
   "outputs": [],
   "source": [
    "df_smiles.to_csv(\"HMDB_ChemSpider(Smiles).csv\")"
   ]
  },
  {
   "cell_type": "code",
   "execution_count": null,
   "metadata": {
    "collapsed": true
   },
   "outputs": [],
   "source": [
    "##############Smiles로 mapping 안된것에 대해, name으로 standardization############"
   ]
  },
  {
   "cell_type": "code",
   "execution_count": null,
   "metadata": {
    "collapsed": true
   },
   "outputs": [],
   "source": [
    "path3 = \"./HMDB_ChemSpider(Smiles).csv\"\n",
    "df_smiles2 = pd.read_csv(path3)\n",
    "\n",
    "# find the compound which wasn't able to chemspider matching by InChI key, InChI, Smiles.\n",
    "df_smiles2[df_smiles2.ChemSpider_Smiles == 'no smiles'].to_csv('needToNameMatching.csv', mode='w')"
   ]
  },
  {
   "cell_type": "code",
   "execution_count": null,
   "metadata": {
    "collapsed": true
   },
   "outputs": [],
   "source": [
    "#index3 = df2[df2.ChemSpider_Smiles.str.contains('index')].index.tolist()\n",
    "index3 = df_smiles2[df_smiles2.ChemSpider_Smiles == 'no smiles'].index.tolist()\n",
    "df_name = df_smiles2"
   ]
  },
  {
   "cell_type": "code",
   "execution_count": null,
   "metadata": {
    "collapsed": true
   },
   "outputs": [],
   "source": [
    "cnt = 0\n",
    "print \"Start : cnt : %d, \" % cnt + time.strftime('%a %H:%M:%S')\n",
    "for i in index3:\n",
    "    \n",
    "    c = cs.simple_search(df2['Name'][i])\n",
    "    if c == []:\n",
    "        df_name['ChemSpider_Smiles'][i] = 'None'\n",
    "        df_name['ChemSpider_InChI key'][i] = 'None'\n",
    "        df_name['ChemSpider_InChI'][i] = 'None'\n",
    "    else:\n",
    "        print(\"%d have data\"% i)\n",
    "        df_name['ChemSpider_InChI key'][i] = c[0].inchikey.encode('ascii', 'replace') # replace option은 non-ASCII character를 ?로 바꿔줌\n",
    "        df_name['ChemSpider_InChI'][i] = c[0].inchi.encode('ascii', 'replace')\n",
    "        df_name['ChemSpider_Smiles'][i] = c[0].smiles.encode('ascii', 'replace')\n",
    "    cnt = cnt + 1\n",
    "    if cnt % 20 == 0:\n",
    "        print \"cnt : %d, \" % cnt + time.strftime('%a %H:%M:%S')\n",
    "print \"End : cnt : %d, \" % cnt + time.strftime('%a %H:%M:%S')\n",
    "    "
   ]
  },
  {
   "cell_type": "code",
   "execution_count": null,
   "metadata": {
    "collapsed": true
   },
   "outputs": [],
   "source": [
    "df_name.to_csv('HMDB_ChemSpider(name).csv')"
   ]
  },
  {
   "cell_type": "code",
   "execution_count": null,
   "metadata": {
    "collapsed": true
   },
   "outputs": [],
   "source": [
    "df_name[df_name.ChemSpider_InChI =='None']"
   ]
  }
 ],
 "metadata": {
  "kernelspec": {
   "display_name": "Python 2",
   "language": "python",
   "name": "python2"
  },
  "language_info": {
   "codemirror_mode": {
    "name": "ipython",
    "version": 2
   },
   "file_extension": ".py",
   "mimetype": "text/x-python",
   "name": "python",
   "nbconvert_exporter": "python",
   "pygments_lexer": "ipython2",
   "version": "2.7.6"
  }
 },
 "nbformat": 4,
 "nbformat_minor": 0
}
