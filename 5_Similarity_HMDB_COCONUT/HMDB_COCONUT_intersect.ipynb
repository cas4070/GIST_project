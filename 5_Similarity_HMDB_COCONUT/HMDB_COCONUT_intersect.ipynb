{
 "cells": [
  {
   "cell_type": "code",
   "execution_count": null,
   "metadata": {
    "collapsed": true
   },
   "outputs": [],
   "source": []
  },
  {
   "cell_type": "code",
   "execution_count": null,
   "metadata": {
    "collapsed": true
   },
   "outputs": [],
   "source": [
    "import pandas as pd\n",
    "import numpy as np"
   ]
  },
  {
   "cell_type": "code",
   "execution_count": null,
   "metadata": {
    "collapsed": true
   },
   "outputs": [],
   "source": [
    "hmdb = pd.read_csv('./HMDB_ChemSpider(name).csv')\n",
    "coconut = pd.read_csv('./COCONUT_herb_compound(remove duplicate).csv')\n",
    "coconut = coconut.drop('Unnamed: 0', 1)\n",
    "hmdb = hmdb.drop('Unnamed: 0', 1)"
   ]
  },
  {
   "cell_type": "code",
   "execution_count": null,
   "metadata": {
    "collapsed": true
   },
   "outputs": [],
   "source": [
    "coconut"
   ]
  },
  {
   "cell_type": "code",
   "execution_count": null,
   "metadata": {
    "collapsed": true
   },
   "outputs": [],
   "source": [
    "hmdb"
   ]
  },
  {
   "cell_type": "code",
   "execution_count": null,
   "metadata": {
    "collapsed": true
   },
   "outputs": [],
   "source": [
    "hmdb[hmdb['ChemSpider_InChI key'].str.contains('None')]"
   ]
  },
  {
   "cell_type": "code",
   "execution_count": null,
   "metadata": {
    "collapsed": true
   },
   "outputs": [],
   "source": [
    "## Inner joins\n",
    "\n",
    "merged_inner_inchi=pd.merge(left = hmdb, right = coconut, left_on='ChemSpider_InChI', right_on='InChI')\n",
    "merged_inner_inchi"
   ]
  },
  {
   "cell_type": "code",
   "execution_count": null,
   "metadata": {
    "collapsed": true
   },
   "outputs": [],
   "source": [
    "merged_inner_inchi[merged_inner_inchi['smiles'].str.contains('no data')]"
   ]
  },
  {
   "cell_type": "code",
   "execution_count": null,
   "metadata": {
    "collapsed": true
   },
   "outputs": [],
   "source": [
    "merged_inner_smiles=pd.merge(left = hmdb, right = coconut, left_on='ChemSpider_Smiles', right_on='smiles')\n",
    "merged_inner_smiles"
   ]
  },
  {
   "cell_type": "code",
   "execution_count": null,
   "metadata": {
    "collapsed": true
   },
   "outputs": [],
   "source": [
    "# file output\n",
    "merged_inner_inchi.to_csv('HMDB_COCONUT(InChI).csv', mode= 'w')\n",
    "merged_inner_smiles.to_csv('HMDB_COCONUT(Smiles).csv', mode='w')\n"
   ]
  },
  {
   "cell_type": "code",
   "execution_count": null,
   "metadata": {
    "collapsed": true
   },
   "outputs": [],
   "source": [
    "merged_inner_compID = pd.merge(left = merged_inner_inchi, right = merged_inner_smiles, left_on='compID', right_on='compID')"
   ]
  },
  {
   "cell_type": "code",
   "execution_count": null,
   "metadata": {
    "collapsed": true
   },
   "outputs": [],
   "source": [
    "merged_inner_compID"
   ]
  }
 ],
 "metadata": {
  "kernelspec": {
   "display_name": "Python 2",
   "language": "python",
   "name": "python2"
  },
  "language_info": {
   "codemirror_mode": {
    "name": "ipython",
    "version": 2
   },
   "file_extension": ".py",
   "mimetype": "text/x-python",
   "name": "python",
   "nbconvert_exporter": "python",
   "pygments_lexer": "ipython2",
   "version": "2.7.6"
  }
 },
 "nbformat": 4,
 "nbformat_minor": 0
}
