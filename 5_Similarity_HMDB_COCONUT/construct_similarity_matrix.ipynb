{
 "cells": [
  {
   "cell_type": "code",
   "execution_count": null,
   "metadata": {
    "collapsed": true
   },
   "outputs": [],
   "source": [
    "#########새 버전은 calculate tc_score 참고 ##################"
   ]
  },
  {
   "cell_type": "code",
   "execution_count": null,
   "metadata": {
    "collapsed": true
   },
   "outputs": [],
   "source": [
    "import pandas as pd\n",
    "import numpy as np\n",
    "import matplotlib.pyplot as plt\n",
    "import time"
   ]
  },
  {
   "cell_type": "code",
   "execution_count": null,
   "metadata": {
    "collapsed": true
   },
   "outputs": [],
   "source": [
    "hmdb = pd.read_table(\"../4_HMDB/HMDB_ChemSpider(name)_txt.txt\")\n",
    "coconut = pd.read_csv('../4_HMDB/COCONUT_herb_compound(remove duplicate).csv')"
   ]
  },
  {
   "cell_type": "code",
   "execution_count": null,
   "metadata": {
    "collapsed": true
   },
   "outputs": [],
   "source": [
    "merged_inner_smiles=pd.merge(left = hmdb, right = coconut, left_on='ChemSpider_Smiles', right_on='smiles')\n",
    "merged_inner_smiles.head()\n",
    "#merged_inner에 속하지 않는 compound들.\n",
    "inner_compID = merged_inner_smiles['compID'].tolist()\n",
    "mask = coconut['compID'].isin(inner_compID)\n",
    "coconut2=coconut[~mask]\n",
    "coconut2.head()"
   ]
  },
  {
   "cell_type": "code",
   "execution_count": null,
   "metadata": {
    "collapsed": true
   },
   "outputs": [],
   "source": [
    "#rowIndex = coconut2['compID'].tolist()\n",
    "#column = hmdb[hmdb.ChemSpider_Smiles != 'None']['Accession'].tolist()\n",
    "#df2 = df\n",
    "#df2.index = rowIndex\n",
    "#df2.columns = column\n",
    "#df2"
   ]
  },
  {
   "cell_type": "code",
   "execution_count": null,
   "metadata": {
    "collapsed": true
   },
   "outputs": [],
   "source": [
    "#df2.to_csv(\"similarity_matrix.csv\", mode = 'w')"
   ]
  },
  {
   "cell_type": "code",
   "execution_count": null,
   "metadata": {
    "collapsed": true
   },
   "outputs": [],
   "source": [
    "df3= pd.read_csv(\"similarity_matrix.csv\")"
   ]
  },
  {
   "cell_type": "code",
   "execution_count": null,
   "metadata": {
    "collapsed": true
   },
   "outputs": [],
   "source": [
    "df4 = df3.drop('Unnamed: 0', 1)\n",
    "#df4"
   ]
  },
  {
   "cell_type": "code",
   "execution_count": null,
   "metadata": {
    "collapsed": true
   },
   "outputs": [],
   "source": [
    "df4.index = rowIndex\n",
    "#df4"
   ]
  },
  {
   "cell_type": "code",
   "execution_count": null,
   "metadata": {
    "collapsed": true
   },
   "outputs": [],
   "source": [
    "#df4[df4[df4=='error'] == 'error']"
   ]
  },
  {
   "cell_type": "code",
   "execution_count": null,
   "metadata": {
    "collapsed": true
   },
   "outputs": [],
   "source": [
    "to_del=df4[df4.HMDB00001 == 'error'].index.tolist()\n",
    "to_del"
   ]
  },
  {
   "cell_type": "code",
   "execution_count": null,
   "metadata": {
    "collapsed": true
   },
   "outputs": [],
   "source": [
    "df4['HMDB39420']\n",
    "#to_del2 = df4[df4.HMDB30258 == 'error']\n",
    "#to_del2 = df4[df4.iloc[[39863]] == 'error']\n",
    "#to_del2 = df4[df4.iloc[[39863]] == 'error'].index.tolist()\n",
    "#TF = (df4.ix[39863] == 'error').tolist()"
   ]
  },
  {
   "cell_type": "code",
   "execution_count": null,
   "metadata": {
    "collapsed": true
   },
   "outputs": [],
   "source": [
    "df4['HMDB30258']"
   ]
  },
  {
   "cell_type": "code",
   "execution_count": null,
   "metadata": {
    "collapsed": true
   },
   "outputs": [],
   "source": [
    "df5 = df4.drop(to_del)"
   ]
  },
  {
   "cell_type": "code",
   "execution_count": null,
   "metadata": {
    "collapsed": true
   },
   "outputs": [],
   "source": [
    "df6 = df5.drop('HMDB30258', 1)\n",
    "df6 = df6.drop('HMDB39420', 1)"
   ]
  },
  {
   "cell_type": "code",
   "execution_count": null,
   "metadata": {
    "collapsed": true
   },
   "outputs": [],
   "source": [
    "df6.to_csv(\"similarity_matrix(remove_error).csv\", mode='w')"
   ]
  },
  {
   "cell_type": "code",
   "execution_count": null,
   "metadata": {
    "collapsed": true
   },
   "outputs": [],
   "source": [
    "temp = df6.drop('Unnamed: 0', 1)\n",
    "temp"
   ]
  },
  {
   "cell_type": "code",
   "execution_count": null,
   "metadata": {
    "collapsed": true
   },
   "outputs": [],
   "source": [
    "column = temp.columns.values.tolist()\n",
    "len(column)"
   ]
  },
  {
   "cell_type": "code",
   "execution_count": null,
   "metadata": {
    "collapsed": true
   },
   "outputs": [],
   "source": [
    "HMDB = 'CCOC1C2CC3C(OC(C2=O)(C34C1C(=O)c5c(c6c(c(c5O4)CC=C(C)C)OC(C=C6)(C)C)O)C/C=C(\\C)/C=O)(C)C'\n",
    "Herb = 'O=C1/C4=C/[C@H]6C(=O)[C@@]5(OC([C@@H]([C@]45Oc3c1c(O)c2\\C=C/C(Oc2c3C\\C=C(/C)C)(C)C)C6)(C)C)C\\C=C(/C)C'"
   ]
  },
  {
   "cell_type": "code",
   "execution_count": null,
   "metadata": {
    "collapsed": true
   },
   "outputs": [],
   "source": [
    "column[11884]"
   ]
  },
  {
   "cell_type": "code",
   "execution_count": null,
   "metadata": {
    "collapsed": true
   },
   "outputs": [],
   "source": [
    "#temp[temp == 'error']"
   ]
  },
  {
   "cell_type": "code",
   "execution_count": null,
   "metadata": {
    "collapsed": true
   },
   "outputs": [],
   "source": [
    "#temp[temp.HMDB00001 == 'error']"
   ]
  },
  {
   "cell_type": "code",
   "execution_count": null,
   "metadata": {
    "collapsed": true
   },
   "outputs": [],
   "source": [
    "#df3[(df3.HMDB00001 > 0.05).sum(axis=1) > 0, :]\n",
    "#df3[(df3 < 0.9) == True].sum()"
   ]
  },
  {
   "cell_type": "code",
   "execution_count": null,
   "metadata": {
    "collapsed": true
   },
   "outputs": [],
   "source": [
    "count = [[\"0 to 0.1\", 0],\n",
    "         [\"0.1 to 0.2\", 0],\n",
    "         [\"0.2 to 0.3\", 0],\n",
    "         [\"0.3 to 0.4\", 0],\n",
    "         [\"0.4 to 0.5\", 0],\n",
    "         [\"0.5 to 0.6\", 0],\n",
    "         [\"0.6 to 0.7\", 0],\n",
    "         [\"0.7 to 0.8\", 0],\n",
    "         [\"0.8 to 0.9\", 0],\n",
    "         [\"0.9 to 1.0\", 0]]\n",
    "cnt = 0\n",
    "for i in count:\n",
    "    count [0][1] = count[0][1] + 1\n",
    "    print count[0]\n"
   ]
  },
  {
   "cell_type": "code",
   "execution_count": null,
   "metadata": {
    "collapsed": true
   },
   "outputs": [],
   "source": [
    "count = [[\"0 to 0.1\", 0],\n",
    "         [\"0.1 to 0.2\", 0],\n",
    "         [\"0.2 to 0.3\", 0],\n",
    "         [\"0.3 to 0.4\", 0],\n",
    "         [\"0.4 to 0.5\", 0],\n",
    "         [\"0.5 to 0.6\", 0],\n",
    "         [\"0.6 to 0.7\", 0],\n",
    "         [\"0.7 to 0.8\", 0],\n",
    "         [\"0.8 to 0.9\", 0],\n",
    "         [\"0.9 to 1.0\", 0],\n",
    "         [\"1.0\", 0]]\n",
    "cnt = 0\n",
    "rowIndex = temp.index.tolist()\n",
    "column = temp.columns.values.tolist()\n",
    "print \"cnt : %d : \" % cnt + time.strftime('%a %H:%M:%S')\n",
    "for i in rowIndex:\n",
    "    for j in column:\n",
    "        cnt = cnt +1\n",
    "        if cnt % 10000000 == 0 :\n",
    "            print \"cnt : %d : \" % cnt + time.strftime('%a %H:%M:%S')\n",
    "        if (temp.get_value(i, j) >= 0) & (temp.get_value(i, j) < 0.1):\n",
    "            count[0][1] = count[0][1] + 1\n",
    "            continue\n",
    "        elif (temp.get_value(i, j) >= 0.1) & (temp.get_value(i, j) < 0.2):\n",
    "            count[1][1] = count[1][1] + 1\n",
    "            continue\n",
    "        elif (temp.get_value(i, j) >= 0.2) & (temp.get_value(i, j) < 0.3):\n",
    "            count[2][1] = count[2][1] + 1\n",
    "            continue\n",
    "        elif (temp.get_value(i, j) >= 0.3) & (temp.get_value(i, j) < 0.4):\n",
    "            count[3][1] = count[3][1] + 1\n",
    "            continue\n",
    "        elif (temp.get_value(i, j) >= 0.4) & (temp.get_value(i, j) < 0.5):\n",
    "            count[4][1] = count[4][1] + 1\n",
    "            continue\n",
    "        elif (temp.get_value(i, j) >= 0.5) & (temp.get_value(i, j) < 0.6):\n",
    "            count[5][1] = count[5][1] + 1\n",
    "            continue\n",
    "        elif (temp.get_value(i, j) >= 0.6) & (temp.get_value(i, j) < 0.7):\n",
    "            count[6][1] = count[6][1] + 1\n",
    "            continue\n",
    "        elif (temp.get_value(i, j) >= 0.7) & (temp.get_value(i, j) < 0.8):\n",
    "            count[7][1] = count[7][1] + 1\n",
    "            continue\n",
    "        elif (temp.get_value(i, j) >= 0.8) & (temp.get_value(i, j) < 0.9):\n",
    "            count[8][1] = count[8][1] + 1\n",
    "            continue\n",
    "        elif (temp.get_value(i, j) >= 0.9) & (temp.get_value(i, j) < 1.0):\n",
    "            count[9][1] = count[9][1] + 1\n",
    "            continue\n",
    "        elif (temp.get_value(i, j) == 1):\n",
    "            count[10][1] = count[10][1] + 1\n",
    "            continue    \n",
    "        else:\n",
    "            print i\n",
    "            print j\n",
    "            print temp.get_value(i, j)"
   ]
  },
  {
   "cell_type": "code",
   "execution_count": null,
   "metadata": {
    "collapsed": true
   },
   "outputs": [],
   "source": [
    "print cnt\n",
    "print count\n",
    "print i\n",
    "print j\n",
    "print count[0][1]+count[1][1]+count[2][1]+count[3][1]+count[4][1]+count[5][1]+count[6][1]+count[7][1]+count[8][1]+count[9][1]+count[10][1]\n",
    "print temp.get_value(i, j)"
   ]
  },
  {
   "cell_type": "code",
   "execution_count": null,
   "metadata": {
    "collapsed": true
   },
   "outputs": [],
   "source": [
    "se = pd.Series()\n",
    "cnt = 0\n",
    "print \"cnt : %d : \" % cnt + time.strftime('%a %H:%M:%S')\n",
    "for i in column:\n",
    "    se = pd.concat([se, temp[i]])\n",
    "    cnt = cnt +1\n",
    "    if cnt % 1000 == 0 :\n",
    "        print \"cnt : %d : \" % cnt + time.strftime('%a %H:%M:%S')\n",
    "len(se)"
   ]
  },
  {
   "cell_type": "code",
   "execution_count": null,
   "metadata": {
    "collapsed": true
   },
   "outputs": [],
   "source": [
    "cutoff=0\n",
    "i39863 = temp.ix[39863] # series\n",
    "cnt = 0\n",
    "\n",
    "for i in i3986:\n",
    "    if i > cutoff:\n",
    "        cnt = cnt+1\n",
    "        \n",
    "    "
   ]
  },
  {
   "cell_type": "code",
   "execution_count": null,
   "metadata": {
    "collapsed": true
   },
   "outputs": [],
   "source": [
    "#%matplotlib inline\n",
    "#df5.plot.hist()"
   ]
  },
  {
   "cell_type": "code",
   "execution_count": null,
   "metadata": {
    "collapsed": true
   },
   "outputs": [],
   "source": [
    "#df5.index = range(0, len(df5))"
   ]
  },
  {
   "cell_type": "code",
   "execution_count": null,
   "metadata": {
    "collapsed": true
   },
   "outputs": [],
   "source": [
    "# Initialize matplotlib\n",
    "#%matplotlib inline"
   ]
  },
  {
   "cell_type": "code",
   "execution_count": null,
   "metadata": {
    "collapsed": true
   },
   "outputs": [],
   "source": [
    "#df5"
   ]
  },
  {
   "cell_type": "code",
   "execution_count": null,
   "metadata": {
    "collapsed": true
   },
   "outputs": [],
   "source": [
    "#f5.iloc[1:10, 1:10].hist()\n",
    "\n",
    "partial_df = df5.iloc[0:10, 0:10]"
   ]
  },
  {
   "cell_type": "code",
   "execution_count": null,
   "metadata": {
    "collapsed": true
   },
   "outputs": [],
   "source": [
    "#partial_df.hist()"
   ]
  },
  {
   "cell_type": "code",
   "execution_count": null,
   "metadata": {
    "collapsed": true
   },
   "outputs": [],
   "source": [
    "#df4.max"
   ]
  }
 ],
 "metadata": {
  "kernelspec": {
   "display_name": "Python 2",
   "language": "python",
   "name": "python2"
  },
  "language_info": {
   "codemirror_mode": {
    "name": "ipython",
    "version": 2
   },
   "file_extension": ".py",
   "mimetype": "text/x-python",
   "name": "python",
   "nbconvert_exporter": "python",
   "pygments_lexer": "ipython2",
   "version": "2.7.6"
  }
 },
 "nbformat": 4,
 "nbformat_minor": 0
}
