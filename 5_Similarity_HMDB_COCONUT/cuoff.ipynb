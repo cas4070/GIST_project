{
 "cells": [
  {
   "cell_type": "code",
   "execution_count": 6,
   "metadata": {
    "collapsed": true
   },
   "outputs": [],
   "source": [
    "import time"
   ]
  },
  {
   "cell_type": "code",
   "execution_count": 7,
   "metadata": {
    "collapsed": true
   },
   "outputs": [],
   "source": [
    "f = open('/home/share/aschoi/nas/users/asolchoi/data/COCONUT_Herbal/5_Similarity/score_matrix.csv', 'r')"
   ]
  },
  {
   "cell_type": "code",
   "execution_count": 4,
   "metadata": {
    "collapsed": false
   },
   "outputs": [
    {
     "ename": "IOError",
     "evalue": "[Errno 5] Input/output error",
     "output_type": "error",
     "traceback": [
      "\u001b[1;31m---------------------------------------------------------------------------\u001b[0m",
      "\u001b[1;31mIOError\u001b[0m                                   Traceback (most recent call last)",
      "\u001b[1;32m<ipython-input-4-1399f24e9449>\u001b[0m in \u001b[0;36m<module>\u001b[1;34m()\u001b[0m\n\u001b[1;32m----> 1\u001b[1;33m \u001b[0mlines\u001b[0m \u001b[1;33m=\u001b[0m \u001b[0mf\u001b[0m\u001b[1;33m.\u001b[0m\u001b[0mreadlines\u001b[0m\u001b[1;33m(\u001b[0m\u001b[1;33m)\u001b[0m\u001b[1;33m\u001b[0m\u001b[0m\n\u001b[0m",
      "\u001b[1;31mIOError\u001b[0m: [Errno 5] Input/output error"
     ]
    }
   ],
   "source": [
    "#lines = f.readlines()\n",
    "#score = []\n",
    "#print time.strftime('%a %H:%M:%S')\n",
    "#for line in lines:\n",
    "#    score.append(line.split(','))\n",
    "#print time.strftime('%a %H:%M:%S')"
   ]
  },
  {
   "cell_type": "code",
   "execution_count": 8,
   "metadata": {
    "collapsed": false
   },
   "outputs": [
    {
     "name": "stdout",
     "output_type": "stream",
     "text": [
      "Mon 22:02:05\n",
      "Mon 22:10:21\n"
     ]
    }
   ],
   "source": [
    "score = []\n",
    "print time.strftime('%a %H:%M:%S')\n",
    "while True:\n",
    "    line = f.readline()\n",
    "    if not line: break\n",
    "    score.append(line.split(','))\n",
    "print time.strftime('%a %H:%M:%S')"
   ]
  },
  {
   "cell_type": "code",
   "execution_count": 9,
   "metadata": {
    "collapsed": false
   },
   "outputs": [],
   "source": [
    "hmdb_id = score[0]\n",
    "herb_id = score[1]"
   ]
  },
  {
   "cell_type": "code",
   "execution_count": 10,
   "metadata": {
    "collapsed": false
   },
   "outputs": [
    {
     "name": "stdout",
     "output_type": "stream",
     "text": [
      "41065\n",
      "41065\n",
      "15748\n",
      "15750\n"
     ]
    }
   ],
   "source": [
    "print len(hmdb_id)\n",
    "print len(score[2])\n",
    "print len(herb_id)\n",
    "print len(score)"
   ]
  },
  {
   "cell_type": "code",
   "execution_count": 11,
   "metadata": {
    "collapsed": true
   },
   "outputs": [],
   "source": [
    "# extract compound ID\n",
    "\n",
    "#compID = []\n",
    "#for i in data:\n",
    "#    compID.append(i[0])\n",
    "\n",
    "#delete first empty element \n",
    "#compID = compID[1:]\n",
    "\n",
    "# extract HMDB ID\n",
    "#hmdbID = data[0][1:]\n",
    "#len(hmdbID)"
   ]
  },
  {
   "cell_type": "code",
   "execution_count": 12,
   "metadata": {
    "collapsed": false
   },
   "outputs": [
    {
     "name": "stdout",
     "output_type": "stream",
     "text": [
      "Mon 22:10:21\n",
      "Mon 22:15:24\n"
     ]
    },
    {
     "data": {
      "text/plain": [
       "646691620"
      ]
     },
     "execution_count": 12,
     "metadata": {},
     "output_type": "execute_result"
    }
   ],
   "source": [
    "# convert 2D to 1D matrix consist of similarity scores\n",
    "score_vector = []\n",
    "print time.strftime('%a %H:%M:%S')\n",
    "for i in score[2:]:  # herb_id\n",
    "    for j in i:  # hmdb_id\n",
    "        score_vector.append(float(j))\n",
    "print time.strftime('%a %H:%M:%S')\n",
    "len(score_vector) # 646691620"
   ]
  },
  {
   "cell_type": "code",
   "execution_count": 13,
   "metadata": {
    "collapsed": true
   },
   "outputs": [],
   "source": [
    "def to_matrix(l, n) :\n",
    "    return [l[i:i + n] for i in xrange(0, len(l), n)]"
   ]
  },
  {
   "cell_type": "code",
   "execution_count": 14,
   "metadata": {
    "collapsed": true
   },
   "outputs": [],
   "source": [
    "score_mat = to_matrix(score_vector, len(hmdb_id))"
   ]
  },
  {
   "cell_type": "code",
   "execution_count": 15,
   "metadata": {
    "collapsed": false
   },
   "outputs": [
    {
     "name": "stdout",
     "output_type": "stream",
     "text": [
      "Mon 22:16:11\n",
      "1000 : Mon 22:29:15\n",
      "2000 : Mon 22:31:19\n",
      "3000 : Mon 22:33:15\n",
      "4000 : Mon 22:34:21\n",
      "5000 : Mon 22:35:44\n",
      "6000 : Mon 22:37:07\n",
      "7000 : Mon 22:37:23\n",
      "8000 : Mon 22:39:12\n",
      "9000 : Mon 22:39:27\n",
      "10000 : Mon 22:41:29\n",
      "11000 : Mon 22:41:45\n",
      "12000 : Mon 22:44:11\n",
      "13000 : Mon 22:44:27\n",
      "14000 : Mon 22:44:44\n",
      "15000 : Mon 22:55:09\n",
      "Mon 22:55:24\n"
     ]
    }
   ],
   "source": [
    "# create list of lists like [[herbID, hmdbID, tc_score], ...]\n",
    "\n",
    "score_vector2 = []\n",
    "cnt = 0\n",
    "# index value\n",
    "s_herb = 0 \n",
    "e_herb = len(herb_id)\n",
    "s_human = 0\n",
    "e_human = len(hmdb_id)\n",
    "\n",
    "\n",
    "print time.strftime('%a %H:%M:%S')\n",
    "for i in range(s_herb, e_herb):\n",
    "    cnt = cnt +1\n",
    "    for j in range(s_human, e_human):\n",
    "        elem = [herb_id[i], hmdb_id[j], score_mat[i][j]]\n",
    "        score_vector2.append(elem)\n",
    "    if cnt % 1000 == 0:\n",
    "        print \"%d : \" % cnt + time.strftime('%a %H:%M:%S')\n",
    "print time.strftime('%a %H:%M:%S')"
   ]
  },
  {
   "cell_type": "code",
   "execution_count": 17,
   "metadata": {
    "collapsed": false
   },
   "outputs": [],
   "source": [
    "# sort score_vector2 by ascending order using similarity score\n",
    "from operator import itemgetter\n",
    "sorted_list = sorted(score_vector2, key=itemgetter(2))"
   ]
  },
  {
   "cell_type": "code",
   "execution_count": 21,
   "metadata": {
    "collapsed": false
   },
   "outputs": [],
   "source": [
    "import csv\n",
    "with open(\"sorted_score_vector.csv\", \"wb\") as f:\n",
    "    writer = csv.writer(f)\n",
    "    writer.writerows(sorted_list)"
   ]
  },
  {
   "cell_type": "code",
   "execution_count": null,
   "metadata": {
    "collapsed": true
   },
   "outputs": [],
   "source": [
    "# wo1 means 'without 1'. In sorted_list, except similarity score == 1.0\n",
    "wo1 = []\n",
    "idx = -1\n",
    "print time.strftime('%a %H:%M:%S')\n",
    "for item in sorted_list:\n",
    "    idx = idx + 1\n",
    "    if item[2] != 1:\n",
    "        wo1.append(item)\n",
    "    else :\n",
    "        break      "
   ]
  },
  {
   "cell_type": "code",
   "execution_count": null,
   "metadata": {
    "collapsed": true
   },
   "outputs": [],
   "source": [
    "# extract element over cutoff. cutoff is top 0.0001 per cent of wo1.\n",
    "cutoff_idx = len(wo1) - int(len(wo1)*0.000001)  # 646,646,407\n",
    "cutoff = sorted_list[cutoff_idx] # 0.9939\n",
    "\n",
    "similar_comp = []\n",
    "for item2 in wo1[cutoff_idx:]:\n",
    "    similar_comp.append(item2)"
   ]
  },
  {
   "cell_type": "code",
   "execution_count": null,
   "metadata": {
    "collapsed": true
   },
   "outputs": [],
   "source": [
    "import csv\n",
    "with open(\"over_cutoff.csv\", \"wb\") as f:\n",
    "    writer = csv.writer(f)\n",
    "    writer.writerows(similar_comp)"
   ]
  }
 ],
 "metadata": {
  "kernelspec": {
   "display_name": "Python 2",
   "language": "python",
   "name": "python2"
  },
  "language_info": {
   "codemirror_mode": {
    "name": "ipython",
    "version": 2
   },
   "file_extension": ".py",
   "mimetype": "text/x-python",
   "name": "python",
   "nbconvert_exporter": "python",
   "pygments_lexer": "ipython2",
   "version": "2.7.6"
  }
 },
 "nbformat": 4,
 "nbformat_minor": 0
}
