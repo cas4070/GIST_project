{
 "cells": [
  {
   "cell_type": "code",
   "execution_count": 1,
   "metadata": {
    "collapsed": true
   },
   "outputs": [],
   "source": [
    "import time"
   ]
  },
  {
   "cell_type": "code",
   "execution_count": 2,
   "metadata": {
    "collapsed": false
   },
   "outputs": [],
   "source": [
    "#nas\n",
    "#f = open('/home/share/aschoi/nas/users/asolchoi/data/COCONUT_Herbal/5_Similarity/score_matrix.csv', 'r')\n",
    "\n",
    "#das\n",
    "f = open('/home/share/aschoi/data/COCONUT_Herbal/5_Similarity/score_matrix.csv', 'r')"
   ]
  },
  {
   "cell_type": "code",
   "execution_count": 3,
   "metadata": {
    "collapsed": false
   },
   "outputs": [
    {
     "name": "stdout",
     "output_type": "stream",
     "text": [
      "Fri 04:36:03\n",
      "Fri 04:53:08\n"
     ]
    }
   ],
   "source": [
    "score = []\n",
    "print time.strftime('%a %H:%M:%S')\n",
    "while True:\n",
    "    line = f.readline()\n",
    "    if not line: break\n",
    "    score.append(line.split(','))\n",
    "print time.strftime('%a %H:%M:%S')\n",
    "f.close()\n",
    "#score[0]은 hmdb id가, score[1]은 compound id가, score[3]부터는 compID에 따른 hmdbid 길이의 score가 들어가 있음."
   ]
  },
  {
   "cell_type": "code",
   "execution_count": 4,
   "metadata": {
    "collapsed": false
   },
   "outputs": [
    {
     "data": {
      "text/plain": [
       "15750"
      ]
     },
     "execution_count": 4,
     "metadata": {},
     "output_type": "execute_result"
    }
   ],
   "source": [
    "len(score)"
   ]
  },
  {
   "cell_type": "code",
   "execution_count": 75,
   "metadata": {
    "collapsed": false
   },
   "outputs": [
    {
     "name": "stdout",
     "output_type": "stream",
     "text": [
      "41065\n",
      "15748\n",
      "41065\n"
     ]
    }
   ],
   "source": [
    "print len(score[0]) #hmdb id\n",
    "print len(score[1]) #compound id\n",
    "print len(score[2]) #score"
   ]
  },
  {
   "cell_type": "code",
   "execution_count": 74,
   "metadata": {
    "collapsed": true
   },
   "outputs": [],
   "source": [
    "hmdb_id = []\n",
    "for i in score[0]:\n",
    "    hmdb_id.append(i.rstrip('\\r\\n'))\n",
    "herb_id = []\n",
    "for j in score[1]:\n",
    "    herb_id.append(j.rstrip('\\r\\n')) # str 타입임."
   ]
  },
  {
   "cell_type": "code",
   "execution_count": 76,
   "metadata": {
    "collapsed": false
   },
   "outputs": [
    {
     "name": "stdout",
     "output_type": "stream",
     "text": [
      "Sat 08:15:18\n",
      "Sat 08:21:50\n"
     ]
    },
    {
     "data": {
      "text/plain": [
       "646691620"
      ]
     },
     "execution_count": 76,
     "metadata": {},
     "output_type": "execute_result"
    }
   ],
   "source": [
    "# convert 2D to 1D matrix consist of similarity scores\n",
    "score_vector = []\n",
    "print time.strftime('%a %H:%M:%S')\n",
    "for i in score[2:]:  # herb_id에 따른  \n",
    "    for j in i:  # hmdb_id에 대한 score가 j임.\n",
    "        score_vector.append(float(j))\n",
    "print time.strftime('%a %H:%M:%S')\n",
    "len(score_vector) # 646691620"
   ]
  },
  {
   "cell_type": "code",
   "execution_count": 8,
   "metadata": {
    "collapsed": true
   },
   "outputs": [],
   "source": [
    "def to_matrix(l, n) :\n",
    "    return [l[i:i + n] for i in xrange(0, len(l), n)]"
   ]
  },
  {
   "cell_type": "code",
   "execution_count": 77,
   "metadata": {
    "collapsed": false
   },
   "outputs": [
    {
     "name": "stdout",
     "output_type": "stream",
     "text": [
      "Sat 08:21:50\n",
      "Sat 08:22:25\n"
     ]
    }
   ],
   "source": [
    "print time.strftime('%a %H:%M:%S')\n",
    "score_mat = to_matrix(score_vector, len(hmdb_id))\n",
    "print time.strftime('%a %H:%M:%S')"
   ]
  },
  {
   "cell_type": "code",
   "execution_count": 78,
   "metadata": {
    "collapsed": false
   },
   "outputs": [
    {
     "name": "stdout",
     "output_type": "stream",
     "text": [
      "Sat 08:22:30\n",
      "1000 : Sat 08:22:50\n",
      "2000 : Sat 08:29:14\n",
      "3000 : Sat 08:29:29\n",
      "4000 : Sat 08:29:44\n",
      "5000 : Sat 08:30:04\n",
      "6000 : Sat 08:30:24\n",
      "7000 : Sat 08:30:45\n",
      "8000 : Sat 08:38:47\n",
      "9000 : Sat 08:39:02\n",
      "10000 : Sat 08:39:23\n",
      "11000 : Sat 08:39:45\n",
      "12000 : Sat 08:40:07\n",
      "13000 : Sat 08:40:29\n",
      "14000 : Sat 08:49:39\n",
      "15000 : Sat 08:49:54\n",
      "Sat 08:50:05\n"
     ]
    }
   ],
   "source": [
    "# create list of lists like [[herbID, hmdbID, tc_score], ...]\n",
    "\n",
    "score_vector2 = []\n",
    "cnt = 0\n",
    "# index value\n",
    "s_herb = 0 #start\n",
    "e_herb = len(herb_id) #end\n",
    "s_human = 0\n",
    "e_human = len(hmdb_id)\n",
    "\n",
    "\n",
    "print time.strftime('%a %H:%M:%S')\n",
    "for i in range(s_herb, e_herb):\n",
    "    cnt = cnt +1\n",
    "    for j in range(s_human, e_human):\n",
    "        elem = [herb_id[i], hmdb_id[j], score_mat[i][j]]\n",
    "        score_vector2.append(elem)\n",
    "    if cnt % 1000 == 0:\n",
    "        print \"%d : \" % cnt + time.strftime('%a %H:%M:%S')\n",
    "print time.strftime('%a %H:%M:%S')"
   ]
  },
  {
   "cell_type": "code",
   "execution_count": 11,
   "metadata": {
    "collapsed": false
   },
   "outputs": [
    {
     "data": {
      "text/plain": [
       "646691620"
      ]
     },
     "execution_count": 11,
     "metadata": {},
     "output_type": "execute_result"
    }
   ],
   "source": [
    "len(score_vector2)  #->이게 646691620개가 맞는가? ==> 맞음."
   ]
  },
  {
   "cell_type": "code",
   "execution_count": 79,
   "metadata": {
    "collapsed": false
   },
   "outputs": [
    {
     "name": "stdout",
     "output_type": "stream",
     "text": [
      "Sat 08:50:05\n",
      "Sat 09:10:19\n"
     ]
    }
   ],
   "source": [
    "# sort score_vector2 by descending order using similarity score\n",
    "from operator import itemgetter\n",
    "print time.strftime('%a %H:%M:%S')\n",
    "sorted_list = sorted(score_vector2, key=itemgetter(2), reverse=True)\n",
    "print time.strftime('%a %H:%M:%S')"
   ]
  },
  {
   "cell_type": "code",
   "execution_count": 80,
   "metadata": {
    "collapsed": false
   },
   "outputs": [
    {
     "data": {
      "text/plain": [
       "[['38198', 'HMDB01183', 1.0],\n",
       " ['38198', 'HMDB02350', 1.0],\n",
       " ['38198', 'HMDB03424', 1.0],\n",
       " ['38198', 'HMDB11619', 1.0],\n",
       " ['38198', 'HMDB11624', 1.0],\n",
       " ['38198', 'HMDB11626', 1.0],\n",
       " ['38198', 'HMDB11638', 1.0],\n",
       " ['38198', 'HMDB13113', 1.0],\n",
       " ['38198', 'HMDB13299', 1.0],\n",
       " ['38198', 'HMDB13316', 1.0]]"
      ]
     },
     "execution_count": 80,
     "metadata": {},
     "output_type": "execute_result"
    }
   ],
   "source": [
    "sorted_list[0:10]"
   ]
  },
  {
   "cell_type": "code",
   "execution_count": 81,
   "metadata": {
    "collapsed": true
   },
   "outputs": [],
   "source": [
    "import csv\n",
    "with open(\"2_sorted_score_vector(descending).csv\", \"wb\") as f:\n",
    "    writer = csv.writer(f)\n",
    "    writer.writerows(sorted_list)"
   ]
  },
  {
   "cell_type": "code",
   "execution_count": 82,
   "metadata": {
    "collapsed": false
   },
   "outputs": [
    {
     "name": "stdout",
     "output_type": "stream",
     "text": [
      "Sat 09:50:18\n",
      "Sat 09:56:04\n"
     ]
    }
   ],
   "source": [
    "# wo1 means 'without 1'. In sorted_list, except similarity score == 1.0\n",
    "wo1 = []\n",
    "idx = -1\n",
    "print time.strftime('%a %H:%M:%S')\n",
    "for item in sorted_list:\n",
    "    idx = idx + 1\n",
    "    if item[2] != 1:\n",
    "        wo1.append(item)\n",
    "    else :\n",
    "        continue\n",
    "print time.strftime('%a %H:%M:%S')"
   ]
  },
  {
   "cell_type": "code",
   "execution_count": 83,
   "metadata": {
    "collapsed": false
   },
   "outputs": [
    {
     "data": {
      "text/plain": [
       "646647053"
      ]
     },
     "execution_count": 83,
     "metadata": {},
     "output_type": "execute_result"
    }
   ],
   "source": [
    "len(wo1) #<-646647053개가 맞는가?"
   ]
  },
  {
   "cell_type": "code",
   "execution_count": 84,
   "metadata": {
    "collapsed": false
   },
   "outputs": [
    {
     "data": {
      "text/plain": [
       "[['80303', 'HMDB37761', 0.9967105263157895],\n",
       " ['69881', 'HMDB02174', 0.9964028776978417],\n",
       " ['69881', 'HMDB02308', 0.9964028776978417],\n",
       " ['69881', 'HMDB03458', 0.9964028776978417],\n",
       " ['69881', 'HMDB06316', 0.9964028776978417],\n",
       " ['69881', 'HMDB14345', 0.9964028776978417],\n",
       " ['70406', 'HMDB30251', 0.995575221238938],\n",
       " ['45577', 'HMDB30734', 0.9954954954954955],\n",
       " ['45577', 'HMDB34095', 0.9954954954954955],\n",
       " ['63987', 'HMDB15185', 0.995475113122172]]"
      ]
     },
     "execution_count": 84,
     "metadata": {},
     "output_type": "execute_result"
    }
   ],
   "source": [
    "wo1[0:10]"
   ]
  },
  {
   "cell_type": "code",
   "execution_count": 85,
   "metadata": {
    "collapsed": false
   },
   "outputs": [
    {
     "name": "stdout",
     "output_type": "stream",
     "text": [
      "64664705\n",
      "['59710', 'HMDB56582', 0.4262295081967213]\n"
     ]
    }
   ],
   "source": [
    "cutoff_idx_10 = int(len(wo1)*0.1)\n",
    "cutoff_10 = sorted_list[cutoff_idx_10]\n",
    "print cutoff_idx_10 # 64664705\n",
    "print cutoff_10 # 0.4262295081"
   ]
  },
  {
   "cell_type": "code",
   "execution_count": 24,
   "metadata": {
    "collapsed": false
   },
   "outputs": [
    {
     "name": "stdout",
     "output_type": "stream",
     "text": [
      "129329410\n",
      "['35170', 'HMDB08161', 0.3315508021390374]\n"
     ]
    }
   ],
   "source": [
    "#cutoff_idx_20 = int(len(wo1)*0.2) \n",
    "#cutoff_20 = sorted_list[cutoff_idx_20]\n",
    "#print cutoff_idx_20 #129329410\n",
    "#print cutoff_20 # 0.3315508021"
   ]
  },
  {
   "cell_type": "code",
   "execution_count": 86,
   "metadata": {
    "collapsed": true
   },
   "outputs": [],
   "source": [
    "top10 = wo1[:cutoff_idx_10]"
   ]
  },
  {
   "cell_type": "code",
   "execution_count": 17,
   "metadata": {
    "collapsed": true
   },
   "outputs": [],
   "source": [
    "# extract element over cutoff. cutoff is top 0.0001 per cent of wo1.\n",
    "#cutoff_idx = len(wo1) - int(len(wo1)*0.000001)  # 646,646,407\n",
    "#cutoff = sorted_list[cutoff_idx] # 0.9939\n",
    "\n",
    "#similar_comp = []\n",
    "#for item2 in wo1[cutoff_idx:]:\n",
    "#    similar_comp.append(item2)\n",
    "#similar_comp = wo1[cutoff_idx:]"
   ]
  },
  {
   "cell_type": "code",
   "execution_count": 37,
   "metadata": {
    "collapsed": false
   },
   "outputs": [],
   "source": [
    "#import csv\n",
    "#with open(\"over_cutoff.csv\", \"wb\") as f:\n",
    "#    writer = csv.writer(f)\n",
    "#    writer.writerows(similar_comp)"
   ]
  },
  {
   "cell_type": "code",
   "execution_count": 27,
   "metadata": {
    "collapsed": true
   },
   "outputs": [],
   "source": [
    "#--------------------- make the 'sored_score_vector.csv' except score ==1"
   ]
  },
  {
   "cell_type": "code",
   "execution_count": 87,
   "metadata": {
    "collapsed": true
   },
   "outputs": [],
   "source": [
    "import csv\n",
    "with open(\"/home/share/aschoi/nas/users/asolchoi/data/COCONUT_Herbal/5_Similarity/3_sorted_score_vector_except_1(descending).csv\", \"wb\") as f:\n",
    "    writer = csv.writer(f)\n",
    "    writer.writerows(wo1)\n",
    "f.close()"
   ]
  },
  {
   "cell_type": "code",
   "execution_count": 88,
   "metadata": {
    "collapsed": true
   },
   "outputs": [],
   "source": [
    "# decending order에서 similarity score가 상위 10퍼센트인 애들.\n",
    "import csv\n",
    "with open(\"/home/share/aschoi/nas/users/asolchoi/data/COCONUT_Herbal/5_Similarity/6_sorted_score_vector_except_1(descending)_top_10_percent.csv\", \"wb\") as f:\n",
    "    writer = csv.writer(f)\n",
    "    writer.writerows(top10)\n",
    "f.close()"
   ]
  },
  {
   "cell_type": "code",
   "execution_count": 18,
   "metadata": {
    "collapsed": true
   },
   "outputs": [],
   "source": [
    "#score가 포함되지 않은 파일도 만들기!\n",
    "#2016.9.19."
   ]
  },
  {
   "cell_type": "code",
   "execution_count": 89,
   "metadata": {
    "collapsed": false
   },
   "outputs": [
    {
     "name": "stdout",
     "output_type": "stream",
     "text": [
      "Sat 10:23:17\n",
      "Sat 10:46:19\n"
     ]
    }
   ],
   "source": [
    "print time.strftime('%a %H:%M:%S')\n",
    "lst_wo1 = [[item[0], item[1]] for item in wo1]\n",
    "#lst_top10 = [[item[0], item[1]] for item in top10]\n",
    "lst_top10 = lst_wo1[:cutoff_idx_10]\n",
    "print time.strftime('%a %H:%M:%S')"
   ]
  },
  {
   "cell_type": "code",
   "execution_count": 90,
   "metadata": {
    "collapsed": false
   },
   "outputs": [
    {
     "data": {
      "text/plain": [
       "[['80303', 'HMDB37761', 0.9967105263157895],\n",
       " ['69881', 'HMDB02174', 0.9964028776978417],\n",
       " ['69881', 'HMDB02308', 0.9964028776978417],\n",
       " ['69881', 'HMDB03458', 0.9964028776978417],\n",
       " ['69881', 'HMDB06316', 0.9964028776978417],\n",
       " ['69881', 'HMDB14345', 0.9964028776978417],\n",
       " ['70406', 'HMDB30251', 0.995575221238938],\n",
       " ['45577', 'HMDB30734', 0.9954954954954955],\n",
       " ['45577', 'HMDB34095', 0.9954954954954955],\n",
       " ['63987', 'HMDB15185', 0.995475113122172]]"
      ]
     },
     "execution_count": 90,
     "metadata": {},
     "output_type": "execute_result"
    }
   ],
   "source": [
    "wo1[:10]\n",
    "#top10[:10]"
   ]
  },
  {
   "cell_type": "code",
   "execution_count": 91,
   "metadata": {
    "collapsed": false
   },
   "outputs": [
    {
     "data": {
      "text/plain": [
       "[['80303', 'HMDB37761'],\n",
       " ['69881', 'HMDB02174'],\n",
       " ['69881', 'HMDB02308'],\n",
       " ['69881', 'HMDB03458'],\n",
       " ['69881', 'HMDB06316'],\n",
       " ['69881', 'HMDB14345'],\n",
       " ['70406', 'HMDB30251'],\n",
       " ['45577', 'HMDB30734'],\n",
       " ['45577', 'HMDB34095'],\n",
       " ['63987', 'HMDB15185']]"
      ]
     },
     "execution_count": 91,
     "metadata": {},
     "output_type": "execute_result"
    }
   ],
   "source": [
    "lst_wo1[:10]\n",
    "#lst_top10[:10]"
   ]
  },
  {
   "cell_type": "code",
   "execution_count": 96,
   "metadata": {
    "collapsed": false
   },
   "outputs": [
    {
     "name": "stdout",
     "output_type": "stream",
     "text": [
      "Sat 23:52:47\n",
      "Sun 00:06:15\n"
     ]
    }
   ],
   "source": [
    "import csv\n",
    "print time.strftime('%a %H:%M:%S')\n",
    "with open(\"/home/share/aschoi/nas/users/asolchoi/data/COCONUT_Herbal/5_Similarity/5_sorted_score_vector_except_1(descending)_no_score.csv\", \"wb\") as f:\n",
    "    writer = csv.writer(f)\n",
    "    writer.writerows(lst_wo1)\n",
    "f.close()\n",
    "print time.strftime('%a %H:%M:%S')"
   ]
  },
  {
   "cell_type": "code",
   "execution_count": 97,
   "metadata": {
    "collapsed": false
   },
   "outputs": [
    {
     "name": "stdout",
     "output_type": "stream",
     "text": [
      "Sun 00:06:15\n",
      "Sun 00:07:23\n"
     ]
    }
   ],
   "source": [
    "import csv\n",
    "print time.strftime('%a %H:%M:%S')\n",
    "with open(\"/home/share/aschoi/nas/users/asolchoi/data/COCONUT_Herbal/5_Similarity/7_sorted_score_vector_except_1(descending)_top_10_percent_no_score.csv\", \"wb\") as f:\n",
    "    writer = csv.writer(f)\n",
    "    writer.writerows(lst_top10)\n",
    "f.close()\n",
    "print time.strftime('%a %H:%M:%S')"
   ]
  },
  {
   "cell_type": "code",
   "execution_count": 66,
   "metadata": {
    "collapsed": true
   },
   "outputs": [],
   "source": [
    "#tsv 형식으로 저장한다면.\n",
    "#with open(\"/home/share/aschoi/data/COCONUT_Herbal/5_Similarity/7_sorted_score_vector_except_1(descending)_top_10_percent_no_score.tsv\", \"w\") as f:\n",
    "#    f.writelines('\\t'.join(i)+'\\n' for i in lst)\n",
    "#    f.close()"
   ]
  },
  {
   "cell_type": "code",
   "execution_count": 98,
   "metadata": {
    "collapsed": false
   },
   "outputs": [
    {
     "data": {
      "text/plain": [
       "646647053"
      ]
     },
     "execution_count": 98,
     "metadata": {},
     "output_type": "execute_result"
    }
   ],
   "source": [
    "len(lst_wo1)"
   ]
  },
  {
   "cell_type": "code",
   "execution_count": 103,
   "metadata": {
    "collapsed": false
   },
   "outputs": [
    {
     "data": {
      "text/plain": [
       "64664705"
      ]
     },
     "execution_count": 103,
     "metadata": {},
     "output_type": "execute_result"
    }
   ],
   "source": [
    "len(lst_top10)"
   ]
  },
  {
   "cell_type": "code",
   "execution_count": 99,
   "metadata": {
    "collapsed": false
   },
   "outputs": [
    {
     "data": {
      "text/plain": [
       "['77664', 'HMDB12623']"
      ]
     },
     "execution_count": 99,
     "metadata": {},
     "output_type": "execute_result"
    }
   ],
   "source": [
    "lst_wo1[3877526]"
   ]
  },
  {
   "cell_type": "code",
   "execution_count": 100,
   "metadata": {
    "collapsed": false
   },
   "outputs": [
    {
     "data": {
      "text/plain": [
       "['32820', 'HMDB33411']"
      ]
     },
     "execution_count": 100,
     "metadata": {},
     "output_type": "execute_result"
    }
   ],
   "source": [
    "lst_wo1[3877528]"
   ]
  },
  {
   "cell_type": "code",
   "execution_count": 101,
   "metadata": {
    "collapsed": false
   },
   "outputs": [
    {
     "name": "stdout",
     "output_type": "stream",
     "text": [
      "Sun 00:07:23\n",
      "Sun 00:08:41\n"
     ]
    }
   ],
   "source": [
    "#확인\n",
    "#f = open('/home/share/aschoi/nas/users/asolchoi/data/COCONUT_Herbal/5_Similarity/5_sorted_score_vector_except_1(descending)_no_score_2.csv', 'r')\n",
    "f = open('/home/share/aschoi/nas/users/asolchoi/data/COCONUT_Herbal/5_Similarity/7_sorted_score_vector_except_1(descending)_top_10_percent_no_score.csv', 'r')\n",
    "dat = []\n",
    "print time.strftime('%a %H:%M:%S')\n",
    "while True:\n",
    "    line = f.readline()\n",
    "    if not line: break\n",
    "    dat.append(line.split(','))\n",
    "print time.strftime('%a %H:%M:%S')\n",
    "f.close()"
   ]
  },
  {
   "cell_type": "code",
   "execution_count": 102,
   "metadata": {
    "collapsed": false
   },
   "outputs": [
    {
     "name": "stdout",
     "output_type": "stream",
     "text": [
      "64664705\n"
     ]
    }
   ],
   "source": [
    "print len(dat) # 64664727"
   ]
  },
  {
   "cell_type": "code",
   "execution_count": 104,
   "metadata": {
    "collapsed": false
   },
   "outputs": [
    {
     "data": {
      "text/plain": [
       "['65300', 'HMDB57494', 0.4260869565217391]"
      ]
     },
     "execution_count": 104,
     "metadata": {},
     "output_type": "execute_result"
    }
   ],
   "source": [
    "top10[len(top10)-1]"
   ]
  },
  {
   "cell_type": "code",
   "execution_count": null,
   "metadata": {
    "collapsed": true
   },
   "outputs": [],
   "source": []
  },
  {
   "cell_type": "code",
   "execution_count": null,
   "metadata": {
    "collapsed": true
   },
   "outputs": [],
   "source": []
  },
  {
   "cell_type": "code",
   "execution_count": 46,
   "metadata": {
    "collapsed": false
   },
   "outputs": [
    {
     "data": {
      "text/plain": [
       "['65300', 'HMDB57494\\r\\n']"
      ]
     },
     "execution_count": 46,
     "metadata": {},
     "output_type": "execute_result"
    }
   ],
   "source": [
    "dat[len(dat)-1]"
   ]
  },
  {
   "cell_type": "code",
   "execution_count": 47,
   "metadata": {
    "collapsed": false
   },
   "outputs": [
    {
     "name": "stdout",
     "output_type": "stream",
     "text": [
      "['77664\\r\\n', 'HMDB12623']\n",
      "['\"77664\\r\\n']\n"
     ]
    }
   ],
   "source": [
    "for (i, j) in zip(lst, dat):\n",
    "    if i[0] != j[0]:\n",
    "        print i\n",
    "        print j\n",
    "        break"
   ]
  },
  {
   "cell_type": "code",
   "execution_count": 48,
   "metadata": {
    "collapsed": false
   },
   "outputs": [
    {
     "data": {
      "text/plain": [
       "3877526"
      ]
     },
     "execution_count": 48,
     "metadata": {},
     "output_type": "execute_result"
    }
   ],
   "source": [
    "lst.index(['77664\\r\\n', 'HMDB12623'])"
   ]
  },
  {
   "cell_type": "code",
   "execution_count": 53,
   "metadata": {
    "collapsed": false
   },
   "outputs": [
    {
     "data": {
      "text/plain": [
       "['77664\\r\\n', 'HMDB12623']"
      ]
     },
     "execution_count": 53,
     "metadata": {},
     "output_type": "execute_result"
    }
   ],
   "source": [
    "lst[3877526]"
   ]
  },
  {
   "cell_type": "code",
   "execution_count": 55,
   "metadata": {
    "collapsed": false
   },
   "outputs": [
    {
     "data": {
      "text/plain": [
       "['32820', 'HMDB33411']"
      ]
     },
     "execution_count": 55,
     "metadata": {},
     "output_type": "execute_result"
    }
   ],
   "source": [
    "lst[3877528]"
   ]
  },
  {
   "cell_type": "code",
   "execution_count": 71,
   "metadata": {
    "collapsed": false
   },
   "outputs": [
    {
     "data": {
      "text/plain": [
       "['77664\\r\\n']"
      ]
     },
     "execution_count": 71,
     "metadata": {},
     "output_type": "execute_result"
    }
   ],
   "source": [
    "dat[3877526]"
   ]
  },
  {
   "cell_type": "code",
   "execution_count": 72,
   "metadata": {
    "collapsed": false
   },
   "outputs": [
    {
     "data": {
      "text/plain": [
       "['', 'HMDB12623\\n']"
      ]
     },
     "execution_count": 72,
     "metadata": {},
     "output_type": "execute_result"
    }
   ],
   "source": [
    "dat[3877527]"
   ]
  },
  {
   "cell_type": "code",
   "execution_count": 51,
   "metadata": {
    "collapsed": false
   },
   "outputs": [
    {
     "data": {
      "text/plain": [
       "['\"77664\\r\\n']"
      ]
     },
     "execution_count": 51,
     "metadata": {},
     "output_type": "execute_result"
    }
   ],
   "source": [
    "dat[3877528]"
   ]
  },
  {
   "cell_type": "code",
   "execution_count": 70,
   "metadata": {
    "collapsed": false
   },
   "outputs": [
    {
     "data": {
      "text/plain": [
       "['38198', 'HMDB01183', 1.0]"
      ]
     },
     "execution_count": 70,
     "metadata": {},
     "output_type": "execute_result"
    }
   ],
   "source": [
    "sorted_list[0]"
   ]
  },
  {
   "cell_type": "code",
   "execution_count": 71,
   "metadata": {
    "collapsed": false
   },
   "outputs": [
    {
     "data": {
      "text/plain": [
       "['62850', 'HMDB61388', 0.9]"
      ]
     },
     "execution_count": 71,
     "metadata": {},
     "output_type": "execute_result"
    }
   ],
   "source": [
    "wo1[189391]"
   ]
  },
  {
   "cell_type": "code",
   "execution_count": 72,
   "metadata": {
    "collapsed": false
   },
   "outputs": [
    {
     "data": {
      "text/plain": [
       "['53512', 'HMDB00332', 0.9]"
      ]
     },
     "execution_count": 72,
     "metadata": {},
     "output_type": "execute_result"
    }
   ],
   "source": [
    "wo1[189392]"
   ]
  },
  {
   "cell_type": "code",
   "execution_count": 73,
   "metadata": {
    "collapsed": false
   },
   "outputs": [
    {
     "data": {
      "text/plain": [
       "646647053"
      ]
     },
     "execution_count": 73,
     "metadata": {},
     "output_type": "execute_result"
    }
   ],
   "source": [
    "len(wo1)"
   ]
  },
  {
   "cell_type": "code",
   "execution_count": 74,
   "metadata": {
    "collapsed": false
   },
   "outputs": [
    {
     "data": {
      "text/plain": [
       "'HMDB61388'"
      ]
     },
     "execution_count": 74,
     "metadata": {},
     "output_type": "execute_result"
    }
   ],
   "source": [
    "wo1[189391][1]"
   ]
  },
  {
   "cell_type": "code",
   "execution_count": 76,
   "metadata": {
    "collapsed": false
   },
   "outputs": [
    {
     "data": {
      "text/plain": [
       "646647053"
      ]
     },
     "execution_count": 76,
     "metadata": {},
     "output_type": "execute_result"
    }
   ],
   "source": [
    "len(wo1)"
   ]
  },
  {
   "cell_type": "code",
   "execution_count": null,
   "metadata": {
    "collapsed": true
   },
   "outputs": [],
   "source": []
  }
 ],
 "metadata": {
  "kernelspec": {
   "display_name": "Python 2",
   "language": "python",
   "name": "python2"
  },
  "language_info": {
   "codemirror_mode": {
    "name": "ipython",
    "version": 2
   },
   "file_extension": ".py",
   "mimetype": "text/x-python",
   "name": "python",
   "nbconvert_exporter": "python",
   "pygments_lexer": "ipython2",
   "version": "2.7.6"
  }
 },
 "nbformat": 4,
 "nbformat_minor": 0
}
