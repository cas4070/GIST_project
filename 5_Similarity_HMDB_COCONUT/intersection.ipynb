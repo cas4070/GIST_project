{
 "cells": [
  {
   "cell_type": "code",
   "execution_count": null,
   "metadata": {
    "collapsed": true
   },
   "outputs": [],
   "source": [
    "import pandas as pd\n",
    "import numpy as np\n",
    "import pybel\n",
    "import time\n",
    "import matplotlib.pyplot as plt\n",
    "\n",
    "\n",
    "hmdb = pd.read_table(\"/home/csbl/nas/users/asolchoi/data/COCONUT_Herbal/4_HMDB/HMDB_ChemSpider(name)_txt.txt\")\n",
    "coconut = pd.read_csv('/home/csbl/nas/users/asolchoi/data/COCONUT_Herbal/6_Herb/COCONUT_herb_compound(remove duplicate).csv')"
   ]
  },
  {
   "cell_type": "code",
   "execution_count": null,
   "metadata": {
    "collapsed": true
   },
   "outputs": [],
   "source": [
    "hmdb_col = hmdb.columns.values.tolist()\n",
    "coconut_col = coconut.columns.values.tolist()\n",
    "print hmdb_col\n",
    "print coconut_col"
   ]
  },
  {
   "cell_type": "code",
   "execution_count": null,
   "metadata": {
    "collapsed": true
   },
   "outputs": [],
   "source": [
    "# dataframe merged inner 사용시\n",
    "merged_inner_smiles=pd.merge(left = hmdb, right = coconut, left_on='ChemSpider_Smiles', right_on='smiles')\n",
    "merged_inner_smiles.columns.values"
   ]
  },
  {
   "cell_type": "code",
   "execution_count": null,
   "metadata": {
    "collapsed": true
   },
   "outputs": [],
   "source": [
    "# smiles 중복 있는지 살펴보기\n",
    "merged_inner_smiles.drop_duplicates(subset='smiles')"
   ]
  },
  {
   "cell_type": "code",
   "execution_count": null,
   "metadata": {
    "collapsed": true
   },
   "outputs": [],
   "source": [
    "smile = 'C[C@]12CC[C@@H](C([C@@H]1CC[C@@]3([C@@H]2CC=C4[C@]3(CC[C@@]5([C@H]4CC(CC5)(C)C)C(=O)O)C)C)(C)C)O'\n",
    "hmdb[hmdb.ChemSpider_Smiles == smile]"
   ]
  },
  {
   "cell_type": "code",
   "execution_count": null,
   "metadata": {
    "collapsed": true
   },
   "outputs": [],
   "source": [
    "coconut[coconut.smiles == smile]"
   ]
  },
  {
   "cell_type": "code",
   "execution_count": null,
   "metadata": {
    "collapsed": true
   },
   "outputs": [],
   "source": [
    "merged_inner_smiles[merged_inner_smiles.smiles == smile]"
   ]
  },
  {
   "cell_type": "code",
   "execution_count": null,
   "metadata": {
    "collapsed": true
   },
   "outputs": [],
   "source": [
    "# smiles 중복 여부 T, F\n",
    "merged_inner_smiles[merged_inner_smiles.duplicated(subset='smiles')]"
   ]
  },
  {
   "cell_type": "code",
   "execution_count": null,
   "metadata": {
    "collapsed": true
   },
   "outputs": [],
   "source": [
    "# hmdb에서 중복되는 smiles\n",
    "hmdb[hmdb.duplicated(subset='ChemSpider_Smiles')].to_csv('hmdb_duplicate.csv', mode = 'w')\n",
    "hmdb[hmdb.duplicated(subset='ChemSpider_Smiles')]"
   ]
  },
  {
   "cell_type": "code",
   "execution_count": null,
   "metadata": {
    "collapsed": true
   },
   "outputs": [],
   "source": [
    "# coconut에서 중복되는 smiles\n",
    "coconut[coconut.duplicated(subset='smiles')].to_csv('coconut_duplicate.csv', mode='w')\n",
    "coconut[coconut.duplicated(subset='smiles')]"
   ]
  },
  {
   "cell_type": "code",
   "execution_count": null,
   "metadata": {
    "collapsed": true
   },
   "outputs": [],
   "source": [
    "merged_inner_smiles[merged_inner_smiles.duplicated(subset='smiles')].to_csv('duplicate.csv', mode='w')"
   ]
  },
  {
   "cell_type": "code",
   "execution_count": null,
   "metadata": {
    "collapsed": true
   },
   "outputs": [],
   "source": [
    "# list의 intersection기능\n",
    "hm_sim = hmdb['ChemSpider_Smiles'].tolist()\n",
    "coco_sim = coconut['smiles'].tolist()\n",
    "inter = set(hm_sim) & set(coco_sim)\n",
    "print len(inter)\n",
    "\n",
    "inter2 = set(hm_sim).intersection(coco_sim)\n",
    "print len(inter2)"
   ]
  },
  {
   "cell_type": "code",
   "execution_count": null,
   "metadata": {
    "collapsed": true
   },
   "outputs": [],
   "source": [
    "print type(inter)\n",
    "print type(inter2)"
   ]
  },
  {
   "cell_type": "code",
   "execution_count": null,
   "metadata": {
    "collapsed": true
   },
   "outputs": [],
   "source": [
    "inter"
   ]
  },
  {
   "cell_type": "code",
   "execution_count": null,
   "metadata": {
    "collapsed": true
   },
   "outputs": [],
   "source": []
  }
 ],
 "metadata": {
  "kernelspec": {
   "display_name": "Python 2",
   "language": "python",
   "name": "python2"
  },
  "language_info": {
   "codemirror_mode": {
    "name": "ipython",
    "version": 2
   },
   "file_extension": ".py",
   "mimetype": "text/x-python",
   "name": "python",
   "nbconvert_exporter": "python",
   "pygments_lexer": "ipython2",
   "version": "2.7.6"
  }
 },
 "nbformat": 4,
 "nbformat_minor": 0
}
