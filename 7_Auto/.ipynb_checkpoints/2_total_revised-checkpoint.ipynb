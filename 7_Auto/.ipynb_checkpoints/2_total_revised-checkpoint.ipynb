{
 "cells": [
  {
   "cell_type": "code",
   "execution_count": 1,
   "metadata": {
    "collapsed": true
   },
   "outputs": [],
   "source": [
    "import csv\n",
    "import numpy as np\n",
    "import os\n",
    "import pandas as pd\n",
    "import requests\n",
    "import time"
   ]
  },
  {
   "cell_type": "code",
   "execution_count": 2,
   "metadata": {
    "collapsed": true
   },
   "outputs": [],
   "source": [
    "#<Path>\n",
    "#path = '/home/share/aschoi/nas/users/asolchoi/data/COCONUT_Herbal/5_Similarity/'\n",
    "#file_name = ['sorted_score_vector_except_1_aa', 'sorted_score_vector_except_1_ab', 'sorted_score_vector_except_1_ac', 'sorted_score_vector_except_1_ad', 'sorted_score_vector_except_1_ae', 'sorted_score_vector_except_1_af', 'sorted_score_vector_except_1_ag', 'sorted_score_vector_except_1_ah', 'sorted_score_vector_except_1_ai', 'sorted_score_vector_except_1_aj']\n",
    "#score_path = list()\n",
    "#for i in file_name:\n",
    "#    score_path.append(path + i)"
   ]
  },
  {
   "cell_type": "code",
   "execution_count": 3,
   "metadata": {
    "collapsed": true
   },
   "outputs": [],
   "source": [
    "#def file_open(file_path):\n",
    "#    print time.strftime('%a %H:%M:%S')\n",
    "#    data = []\n",
    "#    with open(file_path) as f:\n",
    "#        for line in f:\n",
    "#            data.append(line.split(','))\n",
    "#    print time.strftime('%a %H:%M:%S')\n",
    "#    return data"
   ]
  },
  {
   "cell_type": "code",
   "execution_count": 4,
   "metadata": {
    "collapsed": false
   },
   "outputs": [
    {
     "name": "stdout",
     "output_type": "stream",
     "text": [
      "Sun 21:14:59\n",
      "Sun 21:16:14\n",
      "check\n",
      "Sun 21:16:16\n",
      "Sun 21:17:30\n",
      "check\n",
      "Sun 21:17:33\n",
      "Sun 21:18:54\n",
      "check\n",
      "Sun 21:18:59\n",
      "Sun 21:20:55\n",
      "check\n",
      "Sun 21:21:04\n",
      "Sun 21:23:36\n",
      "check\n",
      "Sun 21:23:50\n",
      "Sun 21:26:31\n",
      "check\n",
      "Sun 21:26:45\n",
      "Sun 21:29:13\n",
      "check\n",
      "Sun 21:29:30\n",
      "Sun 21:30:25\n",
      "check\n",
      "Sun 21:30:51\n",
      "Sun 21:34:06\n",
      "check\n",
      "Sun 21:34:25\n",
      "Sun 21:35:40\n",
      "check\n"
     ]
    }
   ],
   "source": [
    "#score = list()\n",
    "#for i in score_path:\n",
    "#    score = score + file_open(i)\n",
    "#    print 'check'"
   ]
  },
  {
   "cell_type": "code",
   "execution_count": 2,
   "metadata": {
    "collapsed": false
   },
   "outputs": [
    {
     "name": "stdout",
     "output_type": "stream",
     "text": [
      "Mon 21:21:36\n",
      "Mon 21:22:47\n"
     ]
    }
   ],
   "source": [
    "#확인\n",
    "#f = open('/home/share/aschoi/nas/users/asolchoi/data/COCONUT_Herbal/5_Similarity/5_sorted_score_vector_except_1(descending)_no_score.csv', 'r')\n",
    "#f = open('/home/share/aschoi/data/COCONUT_Herbal/5_Similarity/5_sorted_score_vector_except_1(descending)_no_score.csv', 'r')\n",
    "f = open('/home/share/aschoi/data/COCONUT_Herbal/5_Similarity/7_sorted_score_vector_except_1(descending)_top_10_percent_no_score.csv', 'r')\n",
    "score = []\n",
    "print time.strftime('%a %H:%M:%S')\n",
    "while True:\n",
    "    line = f.readline()\n",
    "    if not line: break\n",
    "    score.append(line.split(','))\n",
    "print time.strftime('%a %H:%M:%S')\n",
    "f.close()"
   ]
  },
  {
   "cell_type": "code",
   "execution_count": 3,
   "metadata": {
    "collapsed": false
   },
   "outputs": [
    {
     "data": {
      "text/plain": [
       "64664705"
      ]
     },
     "execution_count": 3,
     "metadata": {},
     "output_type": "execute_result"
    }
   ],
   "source": [
    "len(score) #multiple file은 646688125임."
   ]
  },
  {
   "cell_type": "code",
   "execution_count": 4,
   "metadata": {
    "collapsed": false
   },
   "outputs": [
    {
     "name": "stdout",
     "output_type": "stream",
     "text": [
      "Enter the percentage(ex. 0.1) : 0.1\n"
     ]
    }
   ],
   "source": [
    "# aceept user input\n",
    "cutoff_percentage = input('Enter the percentage number (ex. 0.1 %) : ')"
   ]
  },
  {
   "cell_type": "code",
   "execution_count": 5,
   "metadata": {
    "collapsed": true
   },
   "outputs": [],
   "source": [
    "# extract element over cutoff. cutoff is top 0.0001 per cent of wo1.\n",
    "WHOLE_LENGTH = 646647053\n",
    "cutoff_idx = int(WHOLE_LENGTH*cutoff_percentage / 100)\n",
    "#cutoff = score[cutoff_idx] # 0.9939\n",
    "\n",
    "similar_comp = []\n",
    "#for item2 in score[:cutoff_idx]: \n",
    "#    similar_comp.append(item2)\n",
    "similar_comp = score[:cutoff_idx]"
   ]
  },
  {
   "cell_type": "code",
   "execution_count": 6,
   "metadata": {
    "collapsed": false
   },
   "outputs": [
    {
     "name": "stdout",
     "output_type": "stream",
     "text": [
      "646647\n"
     ]
    }
   ],
   "source": [
    "print len(similar_comp)\n",
    "#print cutoff"
   ]
  },
  {
   "cell_type": "code",
   "execution_count": 7,
   "metadata": {
    "collapsed": true
   },
   "outputs": [],
   "source": [
    "def read_delimited_file(f,delimiter):\n",
    "    f.seek(0)\n",
    "    temp = []\n",
    "    print time.strftime('%a %H:%M:%S')\n",
    "    while True:\n",
    "        line = f.readline()\n",
    "        if not line: break\n",
    "        temp.append(line.split(delimiter))\n",
    "    f.close()\n",
    "    print time.strftime('%a %H:%M:%S')\n",
    "    return temp"
   ]
  },
  {
   "cell_type": "code",
   "execution_count": 8,
   "metadata": {
    "collapsed": true
   },
   "outputs": [],
   "source": [
    "#df_hmdb = pd.read_table('/home/share/aschoi/nas/users/asolchoi/data/COCONUT_Herbal/4_HMDB/HMDB_PubChem_KEGG.tsv')\n",
    "df_hmdb = pd.read_table('/home/share/aschoi/data/COCONUT_Herbal/4_HMDB/HMDB_PubChem_KEGG.tsv')"
   ]
  },
  {
   "cell_type": "code",
   "execution_count": 9,
   "metadata": {
    "collapsed": false
   },
   "outputs": [
    {
     "data": {
      "text/html": [
       "<div>\n",
       "<table border=\"1\" class=\"dataframe\">\n",
       "  <thead>\n",
       "    <tr style=\"text-align: right;\">\n",
       "      <th></th>\n",
       "      <th>Accession</th>\n",
       "      <th>Name</th>\n",
       "      <th>PubChem_CID</th>\n",
       "      <th>KEGG_ID</th>\n",
       "    </tr>\n",
       "  </thead>\n",
       "  <tbody>\n",
       "    <tr>\n",
       "      <th>0</th>\n",
       "      <td>HMDB00002</td>\n",
       "      <td>1,3-Diaminopropane</td>\n",
       "      <td>428.0</td>\n",
       "      <td>C00986</td>\n",
       "    </tr>\n",
       "    <tr>\n",
       "      <th>1</th>\n",
       "      <td>HMDB00005</td>\n",
       "      <td>2-Ketobutyric acid</td>\n",
       "      <td>58.0</td>\n",
       "      <td>C00109</td>\n",
       "    </tr>\n",
       "    <tr>\n",
       "      <th>2</th>\n",
       "      <td>HMDB00010</td>\n",
       "      <td>2-Methoxyestrone</td>\n",
       "      <td>440624.0</td>\n",
       "      <td>C05299</td>\n",
       "    </tr>\n",
       "    <tr>\n",
       "      <th>3</th>\n",
       "      <td>HMDB00011</td>\n",
       "      <td>(R)-3-Hydroxybutyric acid</td>\n",
       "      <td>92135.0</td>\n",
       "      <td>C01089</td>\n",
       "    </tr>\n",
       "    <tr>\n",
       "      <th>4</th>\n",
       "      <td>HMDB00012</td>\n",
       "      <td>Deoxyuridine</td>\n",
       "      <td>13712.0</td>\n",
       "      <td>C00526</td>\n",
       "    </tr>\n",
       "  </tbody>\n",
       "</table>\n",
       "</div>"
      ],
      "text/plain": [
       "   Accession                       Name  PubChem_CID KEGG_ID\n",
       "0  HMDB00002         1,3-Diaminopropane        428.0  C00986\n",
       "1  HMDB00005         2-Ketobutyric acid         58.0  C00109\n",
       "2  HMDB00010           2-Methoxyestrone     440624.0  C05299\n",
       "3  HMDB00011  (R)-3-Hydroxybutyric acid      92135.0  C01089\n",
       "4  HMDB00012               Deoxyuridine      13712.0  C00526"
      ]
     },
     "execution_count": 9,
     "metadata": {},
     "output_type": "execute_result"
    }
   ],
   "source": [
    "df_hmdb.head()"
   ]
  },
  {
   "cell_type": "code",
   "execution_count": 10,
   "metadata": {
    "collapsed": true
   },
   "outputs": [],
   "source": [
    "#df_kegg_rpair = pd.read_table('/home/share/aschoi/nas/users/asolchoi/data/COCONUT_Herbal/1_KEGG_rpair/KEGG_Rpair.txt')\n",
    "df_kegg_rpair = pd.read_table('/home/share/aschoi/data/COCONUT_Herbal/1_KEGG_rpair/KEGG_Rpair.txt')"
   ]
  },
  {
   "cell_type": "code",
   "execution_count": 11,
   "metadata": {
    "collapsed": false
   },
   "outputs": [
    {
     "data": {
      "text/html": [
       "<div>\n",
       "<table border=\"1\" class=\"dataframe\">\n",
       "  <thead>\n",
       "    <tr style=\"text-align: right;\">\n",
       "      <th></th>\n",
       "      <th>Compound1</th>\n",
       "      <th>Compound2</th>\n",
       "    </tr>\n",
       "  </thead>\n",
       "  <tbody>\n",
       "    <tr>\n",
       "      <th>0</th>\n",
       "      <td>C00005</td>\n",
       "      <td>C00006</td>\n",
       "    </tr>\n",
       "    <tr>\n",
       "      <th>1</th>\n",
       "      <td>C00003</td>\n",
       "      <td>C00004</td>\n",
       "    </tr>\n",
       "    <tr>\n",
       "      <th>2</th>\n",
       "      <td>C00002</td>\n",
       "      <td>C00008</td>\n",
       "    </tr>\n",
       "    <tr>\n",
       "      <th>3</th>\n",
       "      <td>C00019</td>\n",
       "      <td>C00021</td>\n",
       "    </tr>\n",
       "    <tr>\n",
       "      <th>4</th>\n",
       "      <td>C00007</td>\n",
       "      <td>C00027</td>\n",
       "    </tr>\n",
       "  </tbody>\n",
       "</table>\n",
       "</div>"
      ],
      "text/plain": [
       "  Compound1 Compound2\n",
       "0    C00005    C00006\n",
       "1    C00003    C00004\n",
       "2    C00002    C00008\n",
       "3    C00019    C00021\n",
       "4    C00007    C00027"
      ]
     },
     "execution_count": 11,
     "metadata": {},
     "output_type": "execute_result"
    }
   ],
   "source": [
    "df_kegg_rpair.head()"
   ]
  },
  {
   "cell_type": "code",
   "execution_count": 12,
   "metadata": {
    "collapsed": false
   },
   "outputs": [
    {
     "data": {
      "text/plain": [
       "[['80303', 'HMDB37761\\r\\n'],\n",
       " ['69881', 'HMDB02174\\r\\n'],\n",
       " ['69881', 'HMDB02308\\r\\n'],\n",
       " ['69881', 'HMDB03458\\r\\n'],\n",
       " ['69881', 'HMDB06316\\r\\n'],\n",
       " ['69881', 'HMDB14345\\r\\n'],\n",
       " ['70406', 'HMDB30251\\r\\n'],\n",
       " ['45577', 'HMDB30734\\r\\n'],\n",
       " ['45577', 'HMDB34095\\r\\n'],\n",
       " ['63987', 'HMDB15185\\r\\n']]"
      ]
     },
     "execution_count": 12,
     "metadata": {},
     "output_type": "execute_result"
    }
   ],
   "source": [
    "similar_comp[:10]"
   ]
  },
  {
   "cell_type": "code",
   "execution_count": 13,
   "metadata": {
    "collapsed": false
   },
   "outputs": [],
   "source": [
    "#top herb id, top hmdb id\n",
    "top_herb = list()\n",
    "top_hmdb = list()\n",
    "for i in similar_comp:\n",
    "    top_herb.append(int(i[0]))\n",
    "    top_hmdb.append(i[1].rstrip('\\r\\n'))"
   ]
  },
  {
   "cell_type": "code",
   "execution_count": 14,
   "metadata": {
    "collapsed": false
   },
   "outputs": [
    {
     "data": {
      "text/plain": [
       "['HMDB37761', 'HMDB02174', 'HMDB02308', 'HMDB03458', 'HMDB06316']"
      ]
     },
     "execution_count": 14,
     "metadata": {},
     "output_type": "execute_result"
    }
   ],
   "source": [
    "top_hmdb[0:5]"
   ]
  },
  {
   "cell_type": "code",
   "execution_count": 15,
   "metadata": {
    "collapsed": false,
    "scrolled": true
   },
   "outputs": [],
   "source": [
    "# top hmdb의 kegg id를 찾는다.\n",
    "flag_top_hmdb = df_hmdb['Accession'].isin(top_hmdb)\n",
    "df_top_hmdb_keggid = df_hmdb[flag_top_hmdb] #이 데이터 프레임은 kegg id를 갖고 있는 top hmdb이다."
   ]
  },
  {
   "cell_type": "code",
   "execution_count": 16,
   "metadata": {
    "collapsed": false
   },
   "outputs": [
    {
     "data": {
      "text/html": [
       "<div>\n",
       "<table border=\"1\" class=\"dataframe\">\n",
       "  <thead>\n",
       "    <tr style=\"text-align: right;\">\n",
       "      <th></th>\n",
       "      <th>Accession</th>\n",
       "      <th>Name</th>\n",
       "      <th>PubChem_CID</th>\n",
       "      <th>KEGG_ID</th>\n",
       "    </tr>\n",
       "  </thead>\n",
       "  <tbody>\n",
       "    <tr>\n",
       "      <th>0</th>\n",
       "      <td>HMDB00002</td>\n",
       "      <td>1,3-Diaminopropane</td>\n",
       "      <td>428.0</td>\n",
       "      <td>C00986</td>\n",
       "    </tr>\n",
       "    <tr>\n",
       "      <th>1</th>\n",
       "      <td>HMDB00005</td>\n",
       "      <td>2-Ketobutyric acid</td>\n",
       "      <td>58.0</td>\n",
       "      <td>C00109</td>\n",
       "    </tr>\n",
       "    <tr>\n",
       "      <th>2</th>\n",
       "      <td>HMDB00010</td>\n",
       "      <td>2-Methoxyestrone</td>\n",
       "      <td>440624.0</td>\n",
       "      <td>C05299</td>\n",
       "    </tr>\n",
       "    <tr>\n",
       "      <th>3</th>\n",
       "      <td>HMDB00011</td>\n",
       "      <td>(R)-3-Hydroxybutyric acid</td>\n",
       "      <td>92135.0</td>\n",
       "      <td>C01089</td>\n",
       "    </tr>\n",
       "    <tr>\n",
       "      <th>6</th>\n",
       "      <td>HMDB00016</td>\n",
       "      <td>Deoxycorticosterone</td>\n",
       "      <td>6166.0</td>\n",
       "      <td>C03205</td>\n",
       "    </tr>\n",
       "  </tbody>\n",
       "</table>\n",
       "</div>"
      ],
      "text/plain": [
       "   Accession                       Name  PubChem_CID KEGG_ID\n",
       "0  HMDB00002         1,3-Diaminopropane        428.0  C00986\n",
       "1  HMDB00005         2-Ketobutyric acid         58.0  C00109\n",
       "2  HMDB00010           2-Methoxyestrone     440624.0  C05299\n",
       "3  HMDB00011  (R)-3-Hydroxybutyric acid      92135.0  C01089\n",
       "6  HMDB00016        Deoxycorticosterone       6166.0  C03205"
      ]
     },
     "execution_count": 16,
     "metadata": {},
     "output_type": "execute_result"
    }
   ],
   "source": [
    "df_top_hmdb_keggid.head()"
   ]
  },
  {
   "cell_type": "code",
   "execution_count": 17,
   "metadata": {
    "collapsed": false
   },
   "outputs": [
    {
     "data": {
      "text/plain": [
       "1130"
      ]
     },
     "execution_count": 17,
     "metadata": {},
     "output_type": "execute_result"
    }
   ],
   "source": [
    "# kegg id를 갖고 있는 top hmdb 개수\n",
    "len(df_top_hmdb_keggid)"
   ]
  },
  {
   "cell_type": "code",
   "execution_count": 18,
   "metadata": {
    "collapsed": true
   },
   "outputs": [],
   "source": [
    "#top hmdb가 rpair의 substrate로 있는 rpair들의 찾는다.\n",
    "flag_top_hmdb_substrate = df_kegg_rpair['Compound1'].isin(df_top_hmdb_keggid['KEGG_ID']) \n",
    "df_top_hmdb_rpair = df_kegg_rpair[flag_top_hmdb_substrate] # 이 데이터 프레임은 top hmdb가 rpair의 substrate로 있는 rpair들이다."
   ]
  },
  {
   "cell_type": "code",
   "execution_count": 19,
   "metadata": {
    "collapsed": false
   },
   "outputs": [
    {
     "data": {
      "text/plain": [
       "542"
      ]
     },
     "execution_count": 19,
     "metadata": {},
     "output_type": "execute_result"
    }
   ],
   "source": [
    "# top hmdb 중에 rpair의 substrate로 있는 애들 갯수\n",
    "len(df_top_hmdb_rpair['Compound1'].drop_duplicates())"
   ]
  },
  {
   "cell_type": "code",
   "execution_count": 20,
   "metadata": {
    "collapsed": false
   },
   "outputs": [
    {
     "data": {
      "text/plain": [
       "3317"
      ]
     },
     "execution_count": 20,
     "metadata": {},
     "output_type": "execute_result"
    }
   ],
   "source": [
    "# top hmdb가 rpair의 substrate로 있는 pair의 개수\n",
    "len(df_top_hmdb_rpair)"
   ]
  },
  {
   "cell_type": "code",
   "execution_count": 21,
   "metadata": {
    "collapsed": false
   },
   "outputs": [
    {
     "data": {
      "text/html": [
       "<div>\n",
       "<table border=\"1\" class=\"dataframe\">\n",
       "  <thead>\n",
       "    <tr style=\"text-align: right;\">\n",
       "      <th></th>\n",
       "      <th>Compound1</th>\n",
       "      <th>Compound2</th>\n",
       "    </tr>\n",
       "  </thead>\n",
       "  <tbody>\n",
       "    <tr>\n",
       "      <th>1</th>\n",
       "      <td>C00003</td>\n",
       "      <td>C00004</td>\n",
       "    </tr>\n",
       "    <tr>\n",
       "      <th>2</th>\n",
       "      <td>C00002</td>\n",
       "      <td>C00008</td>\n",
       "    </tr>\n",
       "    <tr>\n",
       "      <th>6</th>\n",
       "      <td>C00002</td>\n",
       "      <td>C00020</td>\n",
       "    </tr>\n",
       "    <tr>\n",
       "      <th>7</th>\n",
       "      <td>C00002</td>\n",
       "      <td>C00013</td>\n",
       "    </tr>\n",
       "    <tr>\n",
       "      <th>8</th>\n",
       "      <td>C00002</td>\n",
       "      <td>C00009</td>\n",
       "    </tr>\n",
       "  </tbody>\n",
       "</table>\n",
       "</div>"
      ],
      "text/plain": [
       "  Compound1 Compound2\n",
       "1    C00003    C00004\n",
       "2    C00002    C00008\n",
       "6    C00002    C00020\n",
       "7    C00002    C00013\n",
       "8    C00002    C00009"
      ]
     },
     "execution_count": 21,
     "metadata": {},
     "output_type": "execute_result"
    }
   ],
   "source": [
    "df_top_hmdb_rpair.head()"
   ]
  },
  {
   "cell_type": "code",
   "execution_count": 22,
   "metadata": {
    "collapsed": false
   },
   "outputs": [],
   "source": [
    "#df_herb = pd.read_table('/home/share/aschoi/nas/users/asolchoi/data/COCONUT_Herbal/7_Ezyme_tool/2-4_herb_cas_pubchem_2_except_null.tsv', index_col = 0)\n",
    "df_herb = pd.read_table('/home/share/aschoi/data/COCONUT_Herbal/7_Ezyme_tool/2-4_herb_cas_pubchem_2_except_null.tsv', index_col = 0)"
   ]
  },
  {
   "cell_type": "code",
   "execution_count": 23,
   "metadata": {
    "collapsed": false
   },
   "outputs": [
    {
     "data": {
      "text/html": [
       "<div>\n",
       "<table border=\"1\" class=\"dataframe\">\n",
       "  <thead>\n",
       "    <tr style=\"text-align: right;\">\n",
       "      <th></th>\n",
       "      <th>herbID</th>\n",
       "      <th>herbName</th>\n",
       "      <th>compID</th>\n",
       "      <th>compName</th>\n",
       "      <th>pubchemID</th>\n",
       "      <th>casID</th>\n",
       "      <th>chemblID</th>\n",
       "      <th>stitchID</th>\n",
       "    </tr>\n",
       "  </thead>\n",
       "  <tbody>\n",
       "    <tr>\n",
       "      <th>46</th>\n",
       "      <td>[1, 6, 8, 78, 155, 174, 247, 344, 357, 369, 45...</td>\n",
       "      <td>['Melia azedarach', 'Atractylodes lancea', 'Sc...</td>\n",
       "      <td>32469</td>\n",
       "      <td>1,3,11-Elematriene</td>\n",
       "      <td>10583</td>\n",
       "      <td>33880-83-0</td>\n",
       "      <td>null</td>\n",
       "      <td>null</td>\n",
       "    </tr>\n",
       "    <tr>\n",
       "      <th>62</th>\n",
       "      <td>[1, 3, 8, 127, 175, 202, 364, 383, 489, 526, 6...</td>\n",
       "      <td>['Melia azedarach', 'Paeonia lactiflora', 'Scu...</td>\n",
       "      <td>10237</td>\n",
       "      <td>Phenol</td>\n",
       "      <td>20488062</td>\n",
       "      <td>null</td>\n",
       "      <td>CHEMBL14060</td>\n",
       "      <td>null</td>\n",
       "    </tr>\n",
       "    <tr>\n",
       "      <th>65</th>\n",
       "      <td>[1, 3, 127, 175, 383, 493, 526, 639, 1226, 129...</td>\n",
       "      <td>['Melia azedarach', 'Paeonia lactiflora', 'Cam...</td>\n",
       "      <td>1707</td>\n",
       "      <td>3-Methylphenol</td>\n",
       "      <td>342</td>\n",
       "      <td>108-39-4</td>\n",
       "      <td>null</td>\n",
       "      <td>null</td>\n",
       "    </tr>\n",
       "    <tr>\n",
       "      <th>66</th>\n",
       "      <td>[1, 3, 8, 127, 175, 254, 383, 493, 526, 639, 1...</td>\n",
       "      <td>['Melia azedarach', 'Paeonia lactiflora', 'Scu...</td>\n",
       "      <td>1622</td>\n",
       "      <td>4-Methylphenol</td>\n",
       "      <td>2879</td>\n",
       "      <td>106-44-5</td>\n",
       "      <td>null</td>\n",
       "      <td>null</td>\n",
       "    </tr>\n",
       "    <tr>\n",
       "      <th>69</th>\n",
       "      <td>[1, 3, 127, 175, 247, 254, 326, 357, 383, 489,...</td>\n",
       "      <td>['Melia azedarach', 'Paeonia lactiflora', 'Cam...</td>\n",
       "      <td>5525</td>\n",
       "      <td>Benzyl alcohol</td>\n",
       "      <td>244</td>\n",
       "      <td>100-51-6</td>\n",
       "      <td>null</td>\n",
       "      <td>null</td>\n",
       "    </tr>\n",
       "  </tbody>\n",
       "</table>\n",
       "</div>"
      ],
      "text/plain": [
       "                                               herbID  \\\n",
       "46  [1, 6, 8, 78, 155, 174, 247, 344, 357, 369, 45...   \n",
       "62  [1, 3, 8, 127, 175, 202, 364, 383, 489, 526, 6...   \n",
       "65  [1, 3, 127, 175, 383, 493, 526, 639, 1226, 129...   \n",
       "66  [1, 3, 8, 127, 175, 254, 383, 493, 526, 639, 1...   \n",
       "69  [1, 3, 127, 175, 247, 254, 326, 357, 383, 489,...   \n",
       "\n",
       "                                             herbName  compID  \\\n",
       "46  ['Melia azedarach', 'Atractylodes lancea', 'Sc...   32469   \n",
       "62  ['Melia azedarach', 'Paeonia lactiflora', 'Scu...   10237   \n",
       "65  ['Melia azedarach', 'Paeonia lactiflora', 'Cam...    1707   \n",
       "66  ['Melia azedarach', 'Paeonia lactiflora', 'Scu...    1622   \n",
       "69  ['Melia azedarach', 'Paeonia lactiflora', 'Cam...    5525   \n",
       "\n",
       "              compName  pubchemID       casID     chemblID stitchID  \n",
       "46  1,3,11-Elematriene      10583  33880-83-0         null     null  \n",
       "62              Phenol   20488062        null  CHEMBL14060     null  \n",
       "65      3-Methylphenol        342    108-39-4         null     null  \n",
       "66      4-Methylphenol       2879    106-44-5         null     null  \n",
       "69      Benzyl alcohol        244    100-51-6         null     null  "
      ]
     },
     "execution_count": 23,
     "metadata": {},
     "output_type": "execute_result"
    }
   ],
   "source": [
    "df_herb.head()"
   ]
  },
  {
   "cell_type": "code",
   "execution_count": 24,
   "metadata": {
    "collapsed": true
   },
   "outputs": [],
   "source": [
    "#top herb의 pubchem id를 찾는다.\n",
    "flag_top_herb = df_herb['compID'].isin(top_herb)\n",
    "df_top_herb_pubchemid = df_herb[flag_top_herb] #이 데이터 프레임은 pubchem id를 갖고 있는 top herb이다."
   ]
  },
  {
   "cell_type": "code",
   "execution_count": 25,
   "metadata": {
    "collapsed": false
   },
   "outputs": [
    {
     "data": {
      "text/html": [
       "<div>\n",
       "<table border=\"1\" class=\"dataframe\">\n",
       "  <thead>\n",
       "    <tr style=\"text-align: right;\">\n",
       "      <th></th>\n",
       "      <th>herbID</th>\n",
       "      <th>herbName</th>\n",
       "      <th>compID</th>\n",
       "      <th>compName</th>\n",
       "      <th>pubchemID</th>\n",
       "      <th>casID</th>\n",
       "      <th>chemblID</th>\n",
       "      <th>stitchID</th>\n",
       "    </tr>\n",
       "  </thead>\n",
       "  <tbody>\n",
       "    <tr>\n",
       "      <th>79</th>\n",
       "      <td>[1, 168, 2328]</td>\n",
       "      <td>['Melia azedarach', 'Melia azed-arach', 'Dicta...</td>\n",
       "      <td>37772</td>\n",
       "      <td>(3R,3aR)-3-(3-Furyl)-3a,7-dimethyl-3a,4,5,6-te...</td>\n",
       "      <td>124039</td>\n",
       "      <td>28808-62-0</td>\n",
       "      <td>null</td>\n",
       "      <td>null</td>\n",
       "    </tr>\n",
       "    <tr>\n",
       "      <th>93</th>\n",
       "      <td>[1, 168]</td>\n",
       "      <td>['Melia azedarach', 'Melia azed-arach']</td>\n",
       "      <td>33032</td>\n",
       "      <td>(3beta,5xi,9xi,13xi,14beta,17alpha,20S,23R,24R...</td>\n",
       "      <td>177786</td>\n",
       "      <td>16838-01-0</td>\n",
       "      <td>null</td>\n",
       "      <td>null</td>\n",
       "    </tr>\n",
       "    <tr>\n",
       "      <th>95</th>\n",
       "      <td>[1, 168]</td>\n",
       "      <td>['Melia azedarach', 'Melia azed-arach']</td>\n",
       "      <td>33034</td>\n",
       "      <td>10-(3-Furyl)-4,4,6a,10a,12b-pentamethyl-3,8-di...</td>\n",
       "      <td>12004512</td>\n",
       "      <td>2753-30-2</td>\n",
       "      <td>null</td>\n",
       "      <td>null</td>\n",
       "    </tr>\n",
       "    <tr>\n",
       "      <th>118</th>\n",
       "      <td>[1, 168]</td>\n",
       "      <td>['Melia azedarach', 'Melia azed-arach']</td>\n",
       "      <td>33179</td>\n",
       "      <td>16-Hydroxylanosta-7,24-dien-3-one</td>\n",
       "      <td>88810</td>\n",
       "      <td>21688-61-9</td>\n",
       "      <td>null</td>\n",
       "      <td>null</td>\n",
       "    </tr>\n",
       "    <tr>\n",
       "      <th>122</th>\n",
       "      <td>[1, 168, 245, 502, 794, 1477]</td>\n",
       "      <td>['Melia azedarach', 'Melia azed-arach', 'Lyciu...</td>\n",
       "      <td>32814</td>\n",
       "      <td>9,19-Cyclolanostan-3-ol</td>\n",
       "      <td>313075</td>\n",
       "      <td>4657-58-3</td>\n",
       "      <td>null</td>\n",
       "      <td>null</td>\n",
       "    </tr>\n",
       "  </tbody>\n",
       "</table>\n",
       "</div>"
      ],
      "text/plain": [
       "                            herbID  \\\n",
       "79                  [1, 168, 2328]   \n",
       "93                        [1, 168]   \n",
       "95                        [1, 168]   \n",
       "118                       [1, 168]   \n",
       "122  [1, 168, 245, 502, 794, 1477]   \n",
       "\n",
       "                                              herbName  compID  \\\n",
       "79   ['Melia azedarach', 'Melia azed-arach', 'Dicta...   37772   \n",
       "93             ['Melia azedarach', 'Melia azed-arach']   33032   \n",
       "95             ['Melia azedarach', 'Melia azed-arach']   33034   \n",
       "118            ['Melia azedarach', 'Melia azed-arach']   33179   \n",
       "122  ['Melia azedarach', 'Melia azed-arach', 'Lyciu...   32814   \n",
       "\n",
       "                                              compName  pubchemID       casID  \\\n",
       "79   (3R,3aR)-3-(3-Furyl)-3a,7-dimethyl-3a,4,5,6-te...     124039  28808-62-0   \n",
       "93   (3beta,5xi,9xi,13xi,14beta,17alpha,20S,23R,24R...     177786  16838-01-0   \n",
       "95   10-(3-Furyl)-4,4,6a,10a,12b-pentamethyl-3,8-di...   12004512   2753-30-2   \n",
       "118                  16-Hydroxylanosta-7,24-dien-3-one      88810  21688-61-9   \n",
       "122                            9,19-Cyclolanostan-3-ol     313075   4657-58-3   \n",
       "\n",
       "    chemblID stitchID  \n",
       "79      null     null  \n",
       "93      null     null  \n",
       "95      null     null  \n",
       "118     null     null  \n",
       "122     null     null  "
      ]
     },
     "execution_count": 25,
     "metadata": {},
     "output_type": "execute_result"
    }
   ],
   "source": [
    "df_top_herb_pubchemid.head()"
   ]
  },
  {
   "cell_type": "code",
   "execution_count": 109,
   "metadata": {
    "collapsed": false
   },
   "outputs": [
    {
     "data": {
      "text/plain": [
       "6826"
      ]
     },
     "execution_count": 109,
     "metadata": {},
     "output_type": "execute_result"
    }
   ],
   "source": [
    "len(df_top_herb_pubchemid)"
   ]
  },
  {
   "cell_type": "code",
   "execution_count": 26,
   "metadata": {
    "collapsed": false
   },
   "outputs": [],
   "source": [
    "df_similar_comp = pd.DataFrame({'Accession':top_hmdb, 'compID' :top_herb})"
   ]
  },
  {
   "cell_type": "code",
   "execution_count": 27,
   "metadata": {
    "collapsed": false
   },
   "outputs": [
    {
     "data": {
      "text/html": [
       "<div>\n",
       "<table border=\"1\" class=\"dataframe\">\n",
       "  <thead>\n",
       "    <tr style=\"text-align: right;\">\n",
       "      <th></th>\n",
       "      <th>Accession</th>\n",
       "      <th>compID</th>\n",
       "    </tr>\n",
       "  </thead>\n",
       "  <tbody>\n",
       "    <tr>\n",
       "      <th>0</th>\n",
       "      <td>HMDB37761</td>\n",
       "      <td>80303</td>\n",
       "    </tr>\n",
       "    <tr>\n",
       "      <th>1</th>\n",
       "      <td>HMDB02174</td>\n",
       "      <td>69881</td>\n",
       "    </tr>\n",
       "    <tr>\n",
       "      <th>2</th>\n",
       "      <td>HMDB02308</td>\n",
       "      <td>69881</td>\n",
       "    </tr>\n",
       "    <tr>\n",
       "      <th>3</th>\n",
       "      <td>HMDB03458</td>\n",
       "      <td>69881</td>\n",
       "    </tr>\n",
       "    <tr>\n",
       "      <th>4</th>\n",
       "      <td>HMDB06316</td>\n",
       "      <td>69881</td>\n",
       "    </tr>\n",
       "  </tbody>\n",
       "</table>\n",
       "</div>"
      ],
      "text/plain": [
       "   Accession  compID\n",
       "0  HMDB37761   80303\n",
       "1  HMDB02174   69881\n",
       "2  HMDB02308   69881\n",
       "3  HMDB03458   69881\n",
       "4  HMDB06316   69881"
      ]
     },
     "execution_count": 27,
     "metadata": {},
     "output_type": "execute_result"
    }
   ],
   "source": [
    "df_similar_comp.head()"
   ]
  },
  {
   "cell_type": "code",
   "execution_count": 28,
   "metadata": {
    "collapsed": false
   },
   "outputs": [
    {
     "ename": "SyntaxError",
     "evalue": "invalid syntax (<ipython-input-28-eaaa7eee1887>, line 1)",
     "output_type": "error",
     "traceback": [
      "\u001b[0;36m  File \u001b[0;32m\"<ipython-input-28-eaaa7eee1887>\"\u001b[0;36m, line \u001b[0;32m1\u001b[0m\n\u001b[0;31m    1. df_similar_comp에서 rpair의 substrate로 있는 hmdb들을 찾고 그에 맞는 compID를 찾는다.\u001b[0m\n\u001b[0m                     ^\u001b[0m\n\u001b[0;31mSyntaxError\u001b[0m\u001b[0;31m:\u001b[0m invalid syntax\n"
     ]
    }
   ],
   "source": [
    "1. df_similar_comp에서 rpair의 substrate로 있는 hmdb들을 찾고 그에 맞는 compID를 찾는다."
   ]
  },
  {
   "cell_type": "code",
   "execution_count": 29,
   "metadata": {
    "collapsed": false
   },
   "outputs": [],
   "source": [
    "#kegg id를 가지는 top hmdb 중에 rpair의 sub로 있는 애들 찾기.\n",
    "flag_hmdb_substrate = df_top_hmdb_keggid['KEGG_ID'].isin(df_top_hmdb_rpair['Compound1'])\n",
    "df_hmdb_substrate = df_top_hmdb_keggid[flag_hmdb_substrate]"
   ]
  },
  {
   "cell_type": "code",
   "execution_count": 30,
   "metadata": {
    "collapsed": false
   },
   "outputs": [
    {
     "data": {
      "text/html": [
       "<div>\n",
       "<table border=\"1\" class=\"dataframe\">\n",
       "  <thead>\n",
       "    <tr style=\"text-align: right;\">\n",
       "      <th></th>\n",
       "      <th>Accession</th>\n",
       "      <th>Name</th>\n",
       "      <th>PubChem_CID</th>\n",
       "      <th>KEGG_ID</th>\n",
       "    </tr>\n",
       "  </thead>\n",
       "  <tbody>\n",
       "    <tr>\n",
       "      <th>0</th>\n",
       "      <td>HMDB00002</td>\n",
       "      <td>1,3-Diaminopropane</td>\n",
       "      <td>428.0</td>\n",
       "      <td>C00986</td>\n",
       "    </tr>\n",
       "    <tr>\n",
       "      <th>1</th>\n",
       "      <td>HMDB00005</td>\n",
       "      <td>2-Ketobutyric acid</td>\n",
       "      <td>58.0</td>\n",
       "      <td>C00109</td>\n",
       "    </tr>\n",
       "    <tr>\n",
       "      <th>2</th>\n",
       "      <td>HMDB00010</td>\n",
       "      <td>2-Methoxyestrone</td>\n",
       "      <td>440624.0</td>\n",
       "      <td>C05299</td>\n",
       "    </tr>\n",
       "    <tr>\n",
       "      <th>3</th>\n",
       "      <td>HMDB00011</td>\n",
       "      <td>(R)-3-Hydroxybutyric acid</td>\n",
       "      <td>92135.0</td>\n",
       "      <td>C01089</td>\n",
       "    </tr>\n",
       "    <tr>\n",
       "      <th>6</th>\n",
       "      <td>HMDB00016</td>\n",
       "      <td>Deoxycorticosterone</td>\n",
       "      <td>6166.0</td>\n",
       "      <td>C03205</td>\n",
       "    </tr>\n",
       "  </tbody>\n",
       "</table>\n",
       "</div>"
      ],
      "text/plain": [
       "   Accession                       Name  PubChem_CID KEGG_ID\n",
       "0  HMDB00002         1,3-Diaminopropane        428.0  C00986\n",
       "1  HMDB00005         2-Ketobutyric acid         58.0  C00109\n",
       "2  HMDB00010           2-Methoxyestrone     440624.0  C05299\n",
       "3  HMDB00011  (R)-3-Hydroxybutyric acid      92135.0  C01089\n",
       "6  HMDB00016        Deoxycorticosterone       6166.0  C03205"
      ]
     },
     "execution_count": 30,
     "metadata": {},
     "output_type": "execute_result"
    }
   ],
   "source": [
    "df_hmdb_substrate.head() # 543개임"
   ]
  },
  {
   "cell_type": "code",
   "execution_count": 31,
   "metadata": {
    "collapsed": true
   },
   "outputs": [],
   "source": [
    "flag_similar_hmdb = df_similar_comp['Accession'].isin(df_hmdb_substrate['Accession'])\n",
    "df_hmdb_substrate_similar = df_similar_comp[flag_similar_hmdb]"
   ]
  },
  {
   "cell_type": "code",
   "execution_count": 32,
   "metadata": {
    "collapsed": false
   },
   "outputs": [
    {
     "data": {
      "text/html": [
       "<div>\n",
       "<table border=\"1\" class=\"dataframe\">\n",
       "  <thead>\n",
       "    <tr style=\"text-align: right;\">\n",
       "      <th></th>\n",
       "      <th>Accession</th>\n",
       "      <th>compID</th>\n",
       "    </tr>\n",
       "  </thead>\n",
       "  <tbody>\n",
       "    <tr>\n",
       "      <th>9</th>\n",
       "      <td>HMDB15185</td>\n",
       "      <td>63987</td>\n",
       "    </tr>\n",
       "    <tr>\n",
       "      <th>61</th>\n",
       "      <td>HMDB14812</td>\n",
       "      <td>57126</td>\n",
       "    </tr>\n",
       "    <tr>\n",
       "      <th>133</th>\n",
       "      <td>HMDB03249</td>\n",
       "      <td>34964</td>\n",
       "    </tr>\n",
       "    <tr>\n",
       "      <th>141</th>\n",
       "      <td>HMDB03249</td>\n",
       "      <td>61907</td>\n",
       "    </tr>\n",
       "    <tr>\n",
       "      <th>149</th>\n",
       "      <td>HMDB03249</td>\n",
       "      <td>77622</td>\n",
       "    </tr>\n",
       "  </tbody>\n",
       "</table>\n",
       "</div>"
      ],
      "text/plain": [
       "     Accession  compID\n",
       "9    HMDB15185   63987\n",
       "61   HMDB14812   57126\n",
       "133  HMDB03249   34964\n",
       "141  HMDB03249   61907\n",
       "149  HMDB03249   77622"
      ]
     },
     "execution_count": 32,
     "metadata": {},
     "output_type": "execute_result"
    }
   ],
   "source": [
    "df_hmdb_substrate_similar.head() # 14129개임"
   ]
  },
  {
   "cell_type": "code",
   "execution_count": 33,
   "metadata": {
    "collapsed": false
   },
   "outputs": [
    {
     "data": {
      "text/plain": [
       "14127"
      ]
     },
     "execution_count": 33,
     "metadata": {},
     "output_type": "execute_result"
    }
   ],
   "source": [
    "len(df_hmdb_substrate_similar)"
   ]
  },
  {
   "cell_type": "code",
   "execution_count": 34,
   "metadata": {
    "collapsed": false
   },
   "outputs": [],
   "source": [
    "df_hmdb_herb = pd.merge(df_hmdb_substrate, df_hmdb_substrate_similar, how = 'inner', on = ['Accession', 'Accession'])"
   ]
  },
  {
   "cell_type": "code",
   "execution_count": 35,
   "metadata": {
    "collapsed": false
   },
   "outputs": [
    {
     "data": {
      "text/html": [
       "<div>\n",
       "<table border=\"1\" class=\"dataframe\">\n",
       "  <thead>\n",
       "    <tr style=\"text-align: right;\">\n",
       "      <th></th>\n",
       "      <th>Accession</th>\n",
       "      <th>Name</th>\n",
       "      <th>PubChem_CID</th>\n",
       "      <th>KEGG_ID</th>\n",
       "      <th>compID</th>\n",
       "    </tr>\n",
       "  </thead>\n",
       "  <tbody>\n",
       "    <tr>\n",
       "      <th>0</th>\n",
       "      <td>HMDB00002</td>\n",
       "      <td>1,3-Diaminopropane</td>\n",
       "      <td>428.0</td>\n",
       "      <td>C00986</td>\n",
       "      <td>65801</td>\n",
       "    </tr>\n",
       "    <tr>\n",
       "      <th>1</th>\n",
       "      <td>HMDB00005</td>\n",
       "      <td>2-Ketobutyric acid</td>\n",
       "      <td>58.0</td>\n",
       "      <td>C00109</td>\n",
       "      <td>70898</td>\n",
       "    </tr>\n",
       "    <tr>\n",
       "      <th>2</th>\n",
       "      <td>HMDB00005</td>\n",
       "      <td>2-Ketobutyric acid</td>\n",
       "      <td>58.0</td>\n",
       "      <td>C00109</td>\n",
       "      <td>82614</td>\n",
       "    </tr>\n",
       "    <tr>\n",
       "      <th>3</th>\n",
       "      <td>HMDB00010</td>\n",
       "      <td>2-Methoxyestrone</td>\n",
       "      <td>440624.0</td>\n",
       "      <td>C05299</td>\n",
       "      <td>50190</td>\n",
       "    </tr>\n",
       "    <tr>\n",
       "      <th>4</th>\n",
       "      <td>HMDB00010</td>\n",
       "      <td>2-Methoxyestrone</td>\n",
       "      <td>440624.0</td>\n",
       "      <td>C05299</td>\n",
       "      <td>56503</td>\n",
       "    </tr>\n",
       "  </tbody>\n",
       "</table>\n",
       "</div>"
      ],
      "text/plain": [
       "   Accession                Name  PubChem_CID KEGG_ID  compID\n",
       "0  HMDB00002  1,3-Diaminopropane        428.0  C00986   65801\n",
       "1  HMDB00005  2-Ketobutyric acid         58.0  C00109   70898\n",
       "2  HMDB00005  2-Ketobutyric acid         58.0  C00109   82614\n",
       "3  HMDB00010    2-Methoxyestrone     440624.0  C05299   50190\n",
       "4  HMDB00010    2-Methoxyestrone     440624.0  C05299   56503"
      ]
     },
     "execution_count": 35,
     "metadata": {},
     "output_type": "execute_result"
    }
   ],
   "source": [
    "df_hmdb_herb.head() # 14127개"
   ]
  },
  {
   "cell_type": "code",
   "execution_count": 36,
   "metadata": {
    "collapsed": false
   },
   "outputs": [
    {
     "name": "stdout",
     "output_type": "stream",
     "text": [
      "Mon 21:24:08\n",
      "Mon 21:24:09\n"
     ]
    }
   ],
   "source": [
    "print time.strftime('%a %H:%M:%S')\n",
    "s_hmdb_herb_substrate = df_hmdb_herb['KEGG_ID'].drop_duplicates()\n",
    "herb_product_pair = pd.DataFrame(columns = ['compID', 'product'] )\n",
    "for i in s_hmdb_herb_substrate:\n",
    "    df_hmdb_herb_kegg = df_hmdb_herb[df_hmdb_herb.KEGG_ID == i]\n",
    "    df_hmdb_rpair_kegg = df_top_hmdb_rpair[df_top_hmdb_rpair.Compound1 == i]\n",
    "    s_compID = df_hmdb_herb_kegg['compID']\n",
    "    s_product = df_hmdb_rpair_kegg['Compound2']\n",
    "    herb_compID, kegg_product = pd.tools.util.cartesian_product([s_compID, s_product])\n",
    "    temp_df = pd.DataFrame(dict(compID= herb_compID, product = kegg_product))\n",
    "    herb_product_pair = herb_product_pair.append(temp_df)\n",
    "print time.strftime('%a %H:%M:%S')"
   ]
  },
  {
   "cell_type": "code",
   "execution_count": 117,
   "metadata": {
    "collapsed": false
   },
   "outputs": [
    {
     "data": {
      "text/plain": [
       "numpy.ndarray"
      ]
     },
     "execution_count": 117,
     "metadata": {},
     "output_type": "execute_result"
    }
   ],
   "source": [
    "type(herb_compID)"
   ]
  },
  {
   "cell_type": "code",
   "execution_count": 112,
   "metadata": {
    "collapsed": false
   },
   "outputs": [
    {
     "data": {
      "text/plain": [
       "14063    31379\n",
       "14064    31299\n",
       "14065    44274\n",
       "14066    53310\n",
       "14067    76222\n",
       "14068    32055\n",
       "14069    62598\n",
       "14070    66423\n",
       "14071    31653\n",
       "14072    61818\n",
       "14073    78938\n",
       "14074    77058\n",
       "14075    53315\n",
       "14076    70791\n",
       "14077    31960\n",
       "14078    51497\n",
       "14079     9332\n",
       "14080    61087\n",
       "14081    61086\n",
       "14082    65006\n",
       "14083    31538\n",
       "14084    31166\n",
       "14085    65054\n",
       "14086    53467\n",
       "14087    52108\n",
       "14088    51434\n",
       "14089    71463\n",
       "14090    70113\n",
       "14091    49586\n",
       "14092    55086\n",
       "         ...  \n",
       "14097    31601\n",
       "14098    38808\n",
       "14099    53830\n",
       "14100    53201\n",
       "14101    67221\n",
       "14102    31241\n",
       "14103    71280\n",
       "14104    72000\n",
       "14105    55426\n",
       "14106    31378\n",
       "14107    31069\n",
       "14108    31070\n",
       "14109    31396\n",
       "14110    54025\n",
       "14111    40398\n",
       "14112    31339\n",
       "14113    31215\n",
       "14114    31463\n",
       "14115    31464\n",
       "14116    60059\n",
       "14117    40887\n",
       "14118    70217\n",
       "14119    70849\n",
       "14120    63050\n",
       "14121    65007\n",
       "14122    60179\n",
       "14123    61293\n",
       "14124    63550\n",
       "14125    68549\n",
       "14126    63331\n",
       "Name: compID, dtype: int64"
      ]
     },
     "execution_count": 112,
     "metadata": {},
     "output_type": "execute_result"
    }
   ],
   "source": [
    "s_compID"
   ]
  },
  {
   "cell_type": "code",
   "execution_count": 37,
   "metadata": {
    "collapsed": false
   },
   "outputs": [
    {
     "data": {
      "text/html": [
       "<div>\n",
       "<table border=\"1\" class=\"dataframe\">\n",
       "  <thead>\n",
       "    <tr style=\"text-align: right;\">\n",
       "      <th></th>\n",
       "      <th>compID</th>\n",
       "      <th>product</th>\n",
       "    </tr>\n",
       "  </thead>\n",
       "  <tbody>\n",
       "    <tr>\n",
       "      <th>0</th>\n",
       "      <td>65801.0</td>\n",
       "      <td>C05665</td>\n",
       "    </tr>\n",
       "    <tr>\n",
       "      <th>1</th>\n",
       "      <td>65801.0</td>\n",
       "      <td>C03375</td>\n",
       "    </tr>\n",
       "    <tr>\n",
       "      <th>2</th>\n",
       "      <td>65801.0</td>\n",
       "      <td>C03283</td>\n",
       "    </tr>\n",
       "    <tr>\n",
       "      <th>3</th>\n",
       "      <td>65801.0</td>\n",
       "      <td>C15853</td>\n",
       "    </tr>\n",
       "    <tr>\n",
       "      <th>4</th>\n",
       "      <td>65801.0</td>\n",
       "      <td>C01029</td>\n",
       "    </tr>\n",
       "  </tbody>\n",
       "</table>\n",
       "</div>"
      ],
      "text/plain": [
       "    compID product\n",
       "0  65801.0  C05665\n",
       "1  65801.0  C03375\n",
       "2  65801.0  C03283\n",
       "3  65801.0  C15853\n",
       "4  65801.0  C01029"
      ]
     },
     "execution_count": 37,
     "metadata": {},
     "output_type": "execute_result"
    }
   ],
   "source": [
    "herb_product_pair.head() #48865"
   ]
  },
  {
   "cell_type": "code",
   "execution_count": 38,
   "metadata": {
    "collapsed": false
   },
   "outputs": [
    {
     "data": {
      "text/plain": [
       "48865"
      ]
     },
     "execution_count": 38,
     "metadata": {},
     "output_type": "execute_result"
    }
   ],
   "source": [
    "len(herb_product_pair)"
   ]
  },
  {
   "cell_type": "code",
   "execution_count": 43,
   "metadata": {
    "collapsed": false
   },
   "outputs": [
    {
     "data": {
      "text/plain": [
       "'http://rest.genome.jp/ezyme/CID82614/C02876'"
      ]
     },
     "execution_count": 43,
     "metadata": {},
     "output_type": "execute_result"
    }
   ],
   "source": [
    "url"
   ]
  },
  {
   "cell_type": "code",
   "execution_count": 100,
   "metadata": {
    "collapsed": false
   },
   "outputs": [
    {
     "data": {
      "text/plain": [
       "46962"
      ]
     },
     "execution_count": 100,
     "metadata": {},
     "output_type": "execute_result"
    }
   ],
   "source": [
    "cnt"
   ]
  },
  {
   "cell_type": "code",
   "execution_count": 101,
   "metadata": {
    "collapsed": false
   },
   "outputs": [
    {
     "data": {
      "text/plain": [
       "79371"
      ]
     },
     "execution_count": 101,
     "metadata": {},
     "output_type": "execute_result"
    }
   ],
   "source": [
    "sub"
   ]
  },
  {
   "cell_type": "code",
   "execution_count": 102,
   "metadata": {
    "collapsed": false
   },
   "outputs": [
    {
     "data": {
      "text/plain": [
       "'C16314'"
      ]
     },
     "execution_count": 102,
     "metadata": {},
     "output_type": "execute_result"
    }
   ],
   "source": [
    "pro"
   ]
  },
  {
   "cell_type": "code",
   "execution_count": 103,
   "metadata": {
    "collapsed": false
   },
   "outputs": [
    {
     "name": "stdout",
     "output_type": "stream",
     "text": [
      "Sun 00:10:40\n",
      "47000 : Sun 00:16:49\n",
      "48000 : Sun 02:44:19\n",
      "Sun 04:44:55\n"
     ]
    }
   ],
   "source": [
    "from urllib2 import urlopen\n",
    "import urllib2\n",
    "import csv\n",
    "\n",
    "#중간에 끊겨서 다시 한다!\n",
    "#cnt = 17047\n",
    "print time.strftime('%a %H:%M:%S')\n",
    "\n",
    "with open(\"/home/share/aschoi/data/COCONUT_Herbal/7_Ezyme_tool/3_4_predicted_ontology_.tsv\", \"w\") as resultFile:\n",
    "    features = ['substrate', 'product', 'predicted_ontology', 'predicted_score']\n",
    "    resultTsv = csv.DictWriter(resultFile, features, dialect=csv.excel_tab)\n",
    "    resultTsv.writeheader()\n",
    "    \n",
    "    url_base = 'http://rest.genome.jp/ezyme/'\n",
    "    for index, row in herb_product_pair[cnt:].iterrows():\n",
    "        sub = int(row['compID'])\n",
    "        pro = row['product']\n",
    "        url = url_base + 'CID'+str(sub) +'/' + pro\n",
    "        \n",
    "        try:\n",
    "            f = urlopen(url)\n",
    "            all_data = f.readlines()\n",
    "            data = all_data[1].split('\\t')\n",
    "            predicted_ontology = data[1]\n",
    "            predicted_score = data[0]\n",
    "        \n",
    "            resultTsv.writerow({'substrate':sub, 'product':pro, 'predicted_ontology' : predicted_ontology, 'predicted_score' : predicted_score})\n",
    "            \n",
    "        except urllib2.HTTPError, e:\n",
    "            cnt = cnt + 1\n",
    "            continue\n",
    "            \n",
    "            \n",
    "        cnt = cnt + 1\n",
    "        if cnt % 1000 == 0 :\n",
    "            print '%d : '% cnt + time.strftime('%a %H:%M:%S')\n",
    "        \n",
    "        \n",
    "print time.strftime('%a %H:%M:%S')\n"
   ]
  },
  {
   "cell_type": "code",
   "execution_count": null,
   "metadata": {
    "collapsed": true
   },
   "outputs": [],
   "source": [
    "#시작은 4시 9분이지만 실제 시작시간은 9월 28일 오후 5시 15분? 쯤임.\n",
    "#시작은 목요일 7시 27분이지만 실제 시작시간은 목요일(29일) 8시 27분임.:ㅂ!\n",
    "#시작은 일요일 12시 10분이지만 실제 시간은 일요일(2일) 오후 1시110\n",
    "임."
   ]
  },
  {
   "cell_type": "code",
   "execution_count": 118,
   "metadata": {
    "collapsed": true
   },
   "outputs": [],
   "source": [
    "df1 = pd.read_table(\"/home/share/aschoi/data/COCONUT_Herbal/7_Ezyme_tool/3_predicted_ontology.tsv\")\n",
    "df2 = pd.read_table(\"/home/share/aschoi/data/COCONUT_Herbal/7_Ezyme_tool/3_2_predicted_ontology_16062line.tsv\")\n",
    "df3 = pd.read_table(\"/home/share/aschoi/data/COCONUT_Herbal/7_Ezyme_tool/3_3_predicted_ontology_19721line.tsv\")\n",
    "df4 = pd.read_table(\"/home/share/aschoi/data/COCONUT_Herbal/7_Ezyme_tool/3_4_predicted_ontology_.tsv\")"
   ]
  },
  {
   "cell_type": "code",
   "execution_count": 120,
   "metadata": {
    "collapsed": false
   },
   "outputs": [
    {
     "name": "stdout",
     "output_type": "stream",
     "text": [
      "16060\n",
      "2581\n",
      "26098\n",
      "1818\n"
     ]
    }
   ],
   "source": [
    "print len(df1)\n",
    "print len(df2)\n",
    "print len(df3)\n",
    "print len(df4)"
   ]
  },
  {
   "cell_type": "code",
   "execution_count": 123,
   "metadata": {
    "collapsed": false
   },
   "outputs": [],
   "source": [
    "frames = [df1, df2, df3, df4]\n",
    "df_all = pd.concat(frames)"
   ]
  },
  {
   "cell_type": "code",
   "execution_count": 125,
   "metadata": {
    "collapsed": false
   },
   "outputs": [
    {
     "data": {
      "text/html": [
       "<div>\n",
       "<table border=\"1\" class=\"dataframe\">\n",
       "  <thead>\n",
       "    <tr style=\"text-align: right;\">\n",
       "      <th></th>\n",
       "      <th>substrate</th>\n",
       "      <th>product</th>\n",
       "      <th>predicted_ontology</th>\n",
       "      <th>predicted_score</th>\n",
       "    </tr>\n",
       "  </thead>\n",
       "  <tbody>\n",
       "    <tr>\n",
       "      <th>0</th>\n",
       "      <td>65801</td>\n",
       "      <td>C05665</td>\n",
       "      <td>K08681</td>\n",
       "      <td>0.032</td>\n",
       "    </tr>\n",
       "    <tr>\n",
       "      <th>1</th>\n",
       "      <td>65801</td>\n",
       "      <td>C03375</td>\n",
       "      <td>K15575</td>\n",
       "      <td>0.056</td>\n",
       "    </tr>\n",
       "    <tr>\n",
       "      <th>2</th>\n",
       "      <td>65801</td>\n",
       "      <td>C03283</td>\n",
       "      <td>K06215</td>\n",
       "      <td>0.041</td>\n",
       "    </tr>\n",
       "    <tr>\n",
       "      <th>3</th>\n",
       "      <td>65801</td>\n",
       "      <td>C15853</td>\n",
       "      <td>K11780</td>\n",
       "      <td>0.072</td>\n",
       "    </tr>\n",
       "    <tr>\n",
       "      <th>4</th>\n",
       "      <td>65801</td>\n",
       "      <td>C01029</td>\n",
       "      <td>K08681</td>\n",
       "      <td>0.038</td>\n",
       "    </tr>\n",
       "  </tbody>\n",
       "</table>\n",
       "</div>"
      ],
      "text/plain": [
       "   substrate product predicted_ontology  predicted_score\n",
       "0      65801  C05665             K08681            0.032\n",
       "1      65801  C03375             K15575            0.056\n",
       "2      65801  C03283             K06215            0.041\n",
       "3      65801  C15853             K11780            0.072\n",
       "4      65801  C01029             K08681            0.038"
      ]
     },
     "execution_count": 125,
     "metadata": {},
     "output_type": "execute_result"
    }
   ],
   "source": [
    "df_all.head()"
   ]
  },
  {
   "cell_type": "code",
   "execution_count": 126,
   "metadata": {
    "collapsed": false
   },
   "outputs": [
    {
     "data": {
      "text/plain": [
       "46557"
      ]
     },
     "execution_count": 126,
     "metadata": {},
     "output_type": "execute_result"
    }
   ],
   "source": [
    "len(df_all)"
   ]
  },
  {
   "cell_type": "code",
   "execution_count": 127,
   "metadata": {
    "collapsed": true
   },
   "outputs": [],
   "source": [
    "df_all.to_csv(\"/home/share/aschoi/data/COCONUT_Herbal/7_Ezyme_tool/3_all_predicted_ontolgy.tsv\", sep='\\t', index=False)"
   ]
  },
  {
   "cell_type": "code",
   "execution_count": 129,
   "metadata": {
    "collapsed": false
   },
   "outputs": [],
   "source": [
    "df_all.drop_duplicates().to_csv(\"/home/share/aschoi/data/COCONUT_Herbal/7_Ezyme_tool/3_all_predicted_ortolgy_wo_duplicate.tsv\", sep='\\t', index=False)"
   ]
  },
  {
   "cell_type": "code",
   "execution_count": 131,
   "metadata": {
    "collapsed": false
   },
   "outputs": [],
   "source": [
    "a = df_all.drop_duplicates()"
   ]
  },
  {
   "cell_type": "code",
   "execution_count": 136,
   "metadata": {
    "collapsed": false
   },
   "outputs": [],
   "source": [
    "df_all.index = range(0, len(df_all))"
   ]
  },
  {
   "cell_type": "code",
   "execution_count": 143,
   "metadata": {
    "collapsed": false
   },
   "outputs": [
    {
     "data": {
      "text/plain": [
       "numpy.int64"
      ]
     },
     "execution_count": 143,
     "metadata": {},
     "output_type": "execute_result"
    }
   ],
   "source": [
    "type(df_all['substrate'][0])"
   ]
  },
  {
   "cell_type": "code",
   "execution_count": 142,
   "metadata": {
    "collapsed": false
   },
   "outputs": [
    {
     "data": {
      "text/plain": [
       "numpy.float64"
      ]
     },
     "execution_count": 142,
     "metadata": {},
     "output_type": "execute_result"
    }
   ],
   "source": [
    "df_all.substrate = df_all.compID.astype(int)"
   ]
  },
  {
   "cell_type": "code",
   "execution_count": null,
   "metadata": {
    "collapsed": true
   },
   "outputs": [],
   "source": []
  },
  {
   "cell_type": "code",
   "execution_count": null,
   "metadata": {
    "collapsed": false
   },
   "outputs": [
    {
     "name": "stdout",
     "output_type": "stream",
     "text": [
      "Mon 06:27:35\n"
     ]
    }
   ],
   "source": [
    "\n",
    "# 1. requests HTML\n",
    "\n",
    "url_base = 'http://rest.genome.jp/ezyme/'\n",
    "\n",
    "# list of r object(request result)\n",
    "rs=[]\n",
    "cnt = 0\n",
    "print time.strftime('%a %H:%M:%S')\n",
    "for index, row in herb_product_pair[len(rs):].iterrows():\n",
    "    #try:\n",
    "    sub = row['compID']\n",
    "    pro = row['product']\n",
    "    url = url_base + 'CID'+str(int(sub)) +'/' + pro\n",
    "        #scrap the HTML at the url\n",
    "    #r = requests.get(url)\n",
    "        #rows = r.text.split('\\n')\n",
    "        #row = rows[1].split('\\t')\n",
    "        #predicted_score = row[0].encode('ascii', 'replace')\n",
    "        #predicted_orthology = row[1].encode('ascii', 'replace')\n",
    "        #rs.append(i+(predicted_orthology, predicted_score))\n",
    "    s = requests.Session()\n",
    "    r = s.get(url)\n",
    "    rs.append(r)\n",
    "    #r.connection.config['kepp_alive'] = False\n",
    "    #r.conection.close()\n",
    "    s.close()\n",
    "    #s.config\n",
    "    #s.config['keep_alive']=False\n",
    "    #except requests.ConnectionError:\n",
    "        #rs.append('null')\n",
    "    #except urllib2.socket.error:\n",
    "    \n",
    "    \n",
    "    #    print i\n",
    "    #    print len(rs)\n",
    "    #    print url\n",
    "    #    print r\n",
    "    #    print rs[len(rs)-1]\n",
    "    #    break   \n",
    "    cnt = cnt + 1\n",
    "    if cnt % 1000 == 0 :\n",
    "        print '%d : '% cnt + time.strftime('%a %H:%M:%S')\n",
    "print time.strftime('%a %H:%M:%S')"
   ]
  },
  {
   "cell_type": "code",
   "execution_count": null,
   "metadata": {
    "collapsed": true
   },
   "outputs": [],
   "source": []
  },
  {
   "cell_type": "code",
   "execution_count": 143,
   "metadata": {
    "collapsed": false
   },
   "outputs": [
    {
     "data": {
      "text/plain": [
       "compID      50516\n",
       "product    C00458\n",
       "Name: 40, dtype: object"
      ]
     },
     "execution_count": 143,
     "metadata": {},
     "output_type": "execute_result"
    }
   ],
   "source": [
    "row"
   ]
  },
  {
   "cell_type": "code",
   "execution_count": 139,
   "metadata": {
    "collapsed": false
   },
   "outputs": [
    {
     "data": {
      "text/plain": [
       "2219"
      ]
     },
     "execution_count": 139,
     "metadata": {},
     "output_type": "execute_result"
    }
   ],
   "source": [
    "len(rs)"
   ]
  },
  {
   "cell_type": "code",
   "execution_count": 140,
   "metadata": {
    "collapsed": false
   },
   "outputs": [
    {
     "data": {
      "text/plain": [
       "2219"
      ]
     },
     "execution_count": 140,
     "metadata": {},
     "output_type": "execute_result"
    }
   ],
   "source": [
    "cnt"
   ]
  },
  {
   "cell_type": "code",
   "execution_count": 112,
   "metadata": {
    "collapsed": false
   },
   "outputs": [
    {
     "data": {
      "text/plain": [
       "u''"
      ]
     },
     "execution_count": 112,
     "metadata": {},
     "output_type": "execute_result"
    }
   ],
   "source": [
    "s.get('http://rest.genome.jp/ezyme/').text"
   ]
  },
  {
   "cell_type": "code",
   "execution_count": 128,
   "metadata": {
    "collapsed": false
   },
   "outputs": [],
   "source": [
    "r.connection.config['kepp_alive'] = False"
   ]
  },
  {
   "cell_type": "code",
   "execution_count": 130,
   "metadata": {
    "collapsed": true
   },
   "outputs": [],
   "source": [
    "r.connection.close()"
   ]
  },
  {
   "cell_type": "code",
   "execution_count": 132,
   "metadata": {
    "collapsed": false
   },
   "outputs": [],
   "source": [
    "s.close()"
   ]
  },
  {
   "cell_type": "code",
   "execution_count": 134,
   "metadata": {
    "collapsed": false
   },
   "outputs": [
    {
     "ename": "AttributeError",
     "evalue": "'Session' object has no attribute 'text'",
     "output_type": "error",
     "traceback": [
      "\u001b[1;31m\u001b[0m",
      "\u001b[1;31mAttributeError\u001b[0mTraceback (most recent call last)",
      "\u001b[1;32m<ipython-input-134-388e36de6c77>\u001b[0m in \u001b[0;36m<module>\u001b[1;34m()\u001b[0m\n\u001b[1;32m----> 1\u001b[1;33m \u001b[0ms\u001b[0m\u001b[1;33m.\u001b[0m\u001b[0mtext\u001b[0m\u001b[1;33m\u001b[0m\u001b[0m\n\u001b[0m",
      "\u001b[1;31mAttributeError\u001b[0m: 'Session' object has no attribute 'text'"
     ]
    }
   ],
   "source": []
  },
  {
   "cell_type": "code",
   "execution_count": 121,
   "metadata": {
    "collapsed": true
   },
   "outputs": [],
   "source": [
    "s = requests.session()"
   ]
  },
  {
   "cell_type": "code",
   "execution_count": 122,
   "metadata": {
    "collapsed": false
   },
   "outputs": [],
   "source": [
    "r = s.get(url)"
   ]
  },
  {
   "cell_type": "code",
   "execution_count": 124,
   "metadata": {
    "collapsed": false
   },
   "outputs": [
    {
     "data": {
      "text/plain": [
       "<bound method Session.close of <requests.sessions.Session object at 0x7f328890ae90>>"
      ]
     },
     "execution_count": 124,
     "metadata": {},
     "output_type": "execute_result"
    }
   ],
   "source": [
    "s.close"
   ]
  },
  {
   "cell_type": "code",
   "execution_count": 118,
   "metadata": {
    "collapsed": false
   },
   "outputs": [
    {
     "data": {
      "text/plain": [
       "'http://rest.genome.jp/ezyme/65801/C05665'"
      ]
     },
     "execution_count": 118,
     "metadata": {},
     "output_type": "execute_result"
    }
   ],
   "source": [
    "url"
   ]
  },
  {
   "cell_type": "code",
   "execution_count": null,
   "metadata": {
    "collapsed": true
   },
   "outputs": [],
   "source": []
  },
  {
   "cell_type": "code",
   "execution_count": 89,
   "metadata": {
    "collapsed": false
   },
   "outputs": [
    {
     "data": {
      "text/plain": [
       "'65801.0'"
      ]
     },
     "execution_count": 89,
     "metadata": {},
     "output_type": "execute_result"
    }
   ],
   "source": [
    "str(sub)"
   ]
  },
  {
   "cell_type": "code",
   "execution_count": 91,
   "metadata": {
    "collapsed": false
   },
   "outputs": [
    {
     "ename": "NameError",
     "evalue": "name 'url' is not defined",
     "output_type": "error",
     "traceback": [
      "\u001b[1;31m\u001b[0m",
      "\u001b[1;31mNameError\u001b[0mTraceback (most recent call last)",
      "\u001b[1;32m<ipython-input-91-20be803fa762>\u001b[0m in \u001b[0;36m<module>\u001b[1;34m()\u001b[0m\n\u001b[1;32m----> 1\u001b[1;33m \u001b[0murl\u001b[0m\u001b[1;33m\u001b[0m\u001b[0m\n\u001b[0m",
      "\u001b[1;31mNameError\u001b[0m: name 'url' is not defined"
     ]
    }
   ],
   "source": [
    "url"
   ]
  },
  {
   "cell_type": "code",
   "execution_count": 94,
   "metadata": {
    "collapsed": false
   },
   "outputs": [
    {
     "data": {
      "text/plain": [
       "'C05665'"
      ]
     },
     "execution_count": 94,
     "metadata": {},
     "output_type": "execute_result"
    }
   ],
   "source": [
    "pro"
   ]
  },
  {
   "cell_type": "code",
   "execution_count": null,
   "metadata": {
    "collapsed": true
   },
   "outputs": [],
   "source": []
  }
 ],
 "metadata": {
  "kernelspec": {
   "display_name": "Python 2",
   "language": "python",
   "name": "python2"
  },
  "language_info": {
   "codemirror_mode": {
    "name": "ipython",
    "version": 2
   },
   "file_extension": ".py",
   "mimetype": "text/x-python",
   "name": "python",
   "nbconvert_exporter": "python",
   "pygments_lexer": "ipython2",
   "version": "2.7.6"
  }
 },
 "nbformat": 4,
 "nbformat_minor": 0
}
