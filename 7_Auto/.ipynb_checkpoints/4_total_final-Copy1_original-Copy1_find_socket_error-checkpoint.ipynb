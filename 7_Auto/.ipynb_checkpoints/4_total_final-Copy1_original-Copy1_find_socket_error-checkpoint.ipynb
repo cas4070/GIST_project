{
 "cells": [
  {
   "cell_type": "code",
   "execution_count": 1,
   "metadata": {
    "collapsed": true
   },
   "outputs": [],
   "source": [
    "import csv\n",
    "from itertools import product\n",
    "import numpy as np\n",
    "import os\n",
    "import pandas as pd\n",
    "import requests\n",
    "import time\n",
    "from urllib2 import urlopen\n",
    "import urllib2"
   ]
  },
  {
   "cell_type": "code",
   "execution_count": 2,
   "metadata": {
    "collapsed": false
   },
   "outputs": [],
   "source": [
    "#open files\n",
    "df_raw_herb_hmdb_pair = pd.read_csv('/home/share/aschoi/data/COCONUT_Herbal/5_Similarity/7_sorted_score_vector_except_1(descending)_top_10_percent_no_score.csv', header=None)\n",
    "df_hmdb = pd.read_table('/home/share/aschoi/data/COCONUT_Herbal/4_HMDB/HMDB_KEGG.tsv')\n",
    "df_herb = pd.read_table('/home/share/aschoi/data/COCONUT_Herbal/7_Ezyme_tool/2-5_herb_pubchem.tsv')\n",
    "df_kegg_rpair = pd.read_table('/home/share/aschoi/data/COCONUT_Herbal/1_KEGG_rpair/KEGG_Rpair.txt')\n",
    "df_orthology = pd.read_table('/home/share/aschoi/data/COCONUT_Herbal/7_Ezyme_tool/3_all_predicted_orthology_wo_duplicate.tsv')"
   ]
  },
  {
   "cell_type": "code",
   "execution_count": 6,
   "metadata": {
    "collapsed": false,
    "scrolled": true
   },
   "outputs": [
    {
     "data": {
      "text/html": [
       "<div>\n",
       "<table border=\"1\" class=\"dataframe\">\n",
       "  <thead>\n",
       "    <tr style=\"text-align: right;\">\n",
       "      <th></th>\n",
       "      <th>0</th>\n",
       "      <th>1</th>\n",
       "    </tr>\n",
       "  </thead>\n",
       "  <tbody>\n",
       "    <tr>\n",
       "      <th>0</th>\n",
       "      <td>80303</td>\n",
       "      <td>HMDB37761</td>\n",
       "    </tr>\n",
       "  </tbody>\n",
       "</table>\n",
       "</div>"
      ],
      "text/plain": [
       "       0          1\n",
       "0  80303  HMDB37761"
      ]
     },
     "execution_count": 6,
     "metadata": {},
     "output_type": "execute_result"
    }
   ],
   "source": [
    "df_raw_herb_hmdb_pair.head(1)"
   ]
  },
  {
   "cell_type": "code",
   "execution_count": 9,
   "metadata": {
    "collapsed": false
   },
   "outputs": [],
   "source": [
    "# extract elements of top percentage.\n",
    "def count_percentage(percentage):\n",
    "    print\"Count the number of top %.2f %% similar compounds..\" % percentage\n",
    "    WHOLE_LENGTH = 646647053\n",
    "    prepared_idx = 0\n",
    "    percentage_idx = int(WHOLE_LENGTH * percentage / 100)\n",
    "    \n",
    "    if percentage <= 0.1 and percentage > 0 :\n",
    "        df_top_herb_hmdb_pair = df_raw_herb_hmdb_pair[:percentage_idx]\n",
    "        connect = 0\n",
    "        print \"There are %d similar compounds.\" % (prepared_idx + percentage_idx)\n",
    "    elif percentage == 0 or percentage > 10 :\n",
    "        #if percentage > 10 :\n",
    "            #print(\"Input percentage is too big. Count just Top 10%.\")\n",
    "        #else percentage == 0 :\n",
    "            #print(\"Input percentage is not valid.\")\n",
    "        df_top_herb_hmdb_pair = pd.DataFrame()\n",
    "        connect = 1\n",
    "    else :\n",
    "        prepared_idx = int(WHOLE_LENGTH * 0.1 / 100)\n",
    "        df_top_herb_hmdb_pair = df_raw_herb_hmdb_pair[prepared_idx+1:percentage_idx]\n",
    "        connect = 2\n",
    "        print \"There are %d similar compounds.\" % (prepared_idx + percentage_idx)\n",
    "    return connect, df_top_herb_hmdb_pair"
   ]
  },
  {
   "cell_type": "code",
   "execution_count": 10,
   "metadata": {
    "collapsed": true
   },
   "outputs": [],
   "source": [
    "#top herb id, top hmdb id\n",
    "#def extract_top_id(df_top_herb_hmdb_pair):\n",
    "#    top_herb = list()\n",
    "#    top_hmdb = list()\n",
    "#    for i in top_herb_hmdb_pair:\n",
    "#        top_herb.append(int(i[0]))\n",
    "#        top_hmdb.append(i[1].rstrip('\\r\\n'))\n",
    "#    print(\"extract_top_ids\")\n",
    "#    return top_herb, top_hmdb"
   ]
  },
  {
   "cell_type": "code",
   "execution_count": 11,
   "metadata": {
    "collapsed": true
   },
   "outputs": [],
   "source": [
    "def find_keggid_of_hmdb(df_hmdb, top_hmdb):\n",
    "    # The flag is used to find the KEGG ID of top_similar_hmdb.\n",
    "    flag_find_keggid_of_top_hmdb = df_hmdb['Accession'].isin(top_hmdb)\n",
    "\n",
    "    # This dataframe represents the pair of top hmdb id and its KEGG ID.\n",
    "    # This information is used when find the substrate of KEGG rpair which correspond to the top_hmdb.\n",
    "    df_top_hmdb_keggid_pair = df_hmdb[flag_find_keggid_of_top_hmdb][['Accession', 'KEGG_ID']]\n",
    "    print(\"Find kegg id of hmdb\")\n",
    "    return df_top_hmdb_keggid_pair"
   ]
  },
  {
   "cell_type": "code",
   "execution_count": 12,
   "metadata": {
    "collapsed": true
   },
   "outputs": [],
   "source": [
    "def find_pubchemid_of_herb(df_herb, top_herb):\n",
    "    # The flag is used to find the PubChem ID of top_herb.\n",
    "    flag_find_pubchemid_of_top_herb = df_herb['compID'].isin(top_herb)\n",
    "\n",
    "    # This dataframe represents the pair of top herb id and its PubChem ID.\n",
    "    # Using this information, we can predict the orphan herbs' ontology.\n",
    "    # One pubchem id of herb becomes the input substrate of KEGG E-zyme2 tool.\n",
    "    df_top_herb_pubchemid_pair = df_herb[flag_find_pubchemid_of_top_herb][['compID', 'pubchemID']]\n",
    "    print(\"find pubchemid of herb\")\n",
    "    return df_top_herb_pubchemid_pair"
   ]
  },
  {
   "cell_type": "code",
   "execution_count": 13,
   "metadata": {
    "collapsed": true
   },
   "outputs": [],
   "source": [
    "# Find the rpairs whose substrate is same to the top_hmdb.\n",
    "# The pair is represented by only KEGG ID. (NOT hmdb_id.)\n",
    "def find_kegg_rpair_of_hmdb_sub(df_kegg_rpair, df_top_hmdb_keggid_pair):\n",
    "    flag_find_rpair_of_top_hmdb_sub = df_kegg_rpair['Compound1'].isin(df_top_hmdb_keggid_pair['KEGG_ID']) \n",
    "\n",
    "    # This dataframe consist of KEGG ID.\n",
    "    df_rpair_of_top_hmdb_sub_k = df_kegg_rpair[flag_find_rpair_of_top_hmdb_sub]\n",
    "    print(\"find kegg rpair of hmdb sub\")\n",
    "    return df_rpair_of_top_hmdb_sub_k"
   ]
  },
  {
   "cell_type": "code",
   "execution_count": 14,
   "metadata": {
    "collapsed": true
   },
   "outputs": [],
   "source": [
    "# Find the part of top_hmdb. \n",
    "# It have KEGG ID which corresponds to the substrate of KEGG rpair.\n",
    "# Why need this process? \n",
    "# Because we don't have the pair of the kegg_id version substrate(although it corresponds to the top_hmdb!) and top_hmdb id.\n",
    "\n",
    "def find_keggid_of_top_hmdb2(df_top_hmdb_keggid_pair, df_rpair_of_top_hmdb_sub_k):\n",
    "\n",
    "    flag_find_hmdbid_of_top_hmdb_sub = df_top_hmdb_keggid_pair['KEGG_ID'].isin(df_rpair_of_top_hmdb_sub_k['Compound1'])\n",
    "    df_top_hmdb_of_sub = df_top_hmdb_keggid_pair[flag_find_hmdbid_of_top_hmdb_sub]\n",
    "    print(\"find keggid of top hmdb2\")\n",
    "    return df_top_hmdb_of_sub"
   ]
  },
  {
   "cell_type": "code",
   "execution_count": 15,
   "metadata": {
    "collapsed": true
   },
   "outputs": [],
   "source": [
    "# Find the pair of top_hmdb and top_herb.\n",
    "# The top_hmdb is the substrate of the KEGG rpair.\n",
    "# The top_herb is the similar herbal compounds of the top_hmdb.\n",
    "def find_candidate_substrate(df_top_herb_hmdb_pair, df_top_hmdb_of_sub):\n",
    "    flag_find_sim_herb_of_hmdb_sub = df_top_herb_hmdb_pair['Accession'].isin(df_top_hmdb_of_sub['Accession'])\n",
    "    df_sim_herb_of_hmdb_sub = df_top_herb_hmdb_pair[flag_find_sim_herb_of_hmdb_sub]\n",
    "    df_candidate_sub = pd.merge(df_top_hmdb_of_sub, df_sim_herb_of_hmdb_sub, how = 'inner', on = ['Accession', 'Accession'])\n",
    "    print(\"find candidate substrate\")\n",
    "    return df_candidate_sub"
   ]
  },
  {
   "cell_type": "code",
   "execution_count": 16,
   "metadata": {
    "collapsed": true
   },
   "outputs": [],
   "source": [
    "# Make the pair of herb(used to be substrate) and product.\n",
    "# If the pair will exist in the prepared orthology table, just show the predicted_result.\n",
    "# Unless the pair will not exist in the prepared table, we have to crawl the predicted reusult from KEGG E-zyme2 webpage.\n",
    "def query_list(df_candidate_sub, df_rpair_of_top_hmdb_sub_k):\n",
    "    s_candidate_keggid = df_candidate_sub['KEGG_ID'].drop_duplicates()\n",
    "    df_query = pd.DataFrame()\n",
    "    for i in s_candidate_keggid:\n",
    "        df_candidate_sub_part = df_candidate_sub[df_candidate_sub.KEGG_ID == i]\n",
    "        df_candidate_pro_part = df_rpair_of_top_hmdb_sub_k[df_rpair_of_top_hmdb_sub_k.Compound1 == i]\n",
    "        s_candidate_sub_part = df_candidate_sub_part['compID']\n",
    "        s_candidate_pro_part = df_candidate_pro_part['Compound2']\n",
    "        temp_df = pd.DataFrame(list(product(s_candidate_sub_part, s_candidate_pro_part)), columns = ['substrate', 'product'])\n",
    "        df_query = df_query.append(temp_df)\n",
    "    df_query.index = range(0, len(df_query))\n",
    "    print(\"make query list\")\n",
    "    return df_query"
   ]
  },
  {
   "cell_type": "code",
   "execution_count": 17,
   "metadata": {
    "collapsed": false
   },
   "outputs": [
    {
     "data": {
      "text/plain": [
       "'Wed 21:49:29'"
      ]
     },
     "execution_count": 17,
     "metadata": {},
     "output_type": "execute_result"
    }
   ],
   "source": [
    "time.strftime('%a %H:%M:%S')"
   ]
  },
  {
   "cell_type": "code",
   "execution_count": 18,
   "metadata": {
    "collapsed": true
   },
   "outputs": [],
   "source": [
    "def match_query_result(df_query, df_orthology):\n",
    "    print(\"start match query result : \" + time.strftime('%a %H:%M:%S'))\n",
    "    predict_result = pd.DataFrame()\n",
    "    for index, row in df_query.iterrows():\n",
    "        query = row.tolist()\n",
    "        result = df_orthology.query('@query[0] == substrate and @query[1] == product')\n",
    "        predict_result = predict_result.append(result)\n",
    "        #predict_result.index = range(0, len(predict_result))\n",
    "    print(\"end match query result\" + time.strftime('%a %H:%M:%S'))\n",
    "    return predict_result"
   ]
  },
  {
   "cell_type": "code",
   "execution_count": 19,
   "metadata": {
    "collapsed": true
   },
   "outputs": [],
   "source": [
    "#def make_query_list(top_herb, top_hmdb):\n",
    "def make_query_list(df_top_herb_hmdb_pair):\n",
    "    \n",
    "    # Dataframe of top_herb_hmdb_pair\n",
    "    #df_top_herb_hmdb_pair = pd.DataFrame({'Accession':top_hmdb, 'compID' :top_herb})\n",
    "    df_top_herb_hmdb_pair.rename(columns={0:'compID', 1:'Accession'})\n",
    "    \n",
    "    # Find the KEGG ID of top_hmdb.\n",
    "    df_top_hmdb_keggid_pair = find_keggid_of_hmdb(df_hmdb, top_hmdb)\n",
    "    \n",
    "    # Find the PubChem ID of top_herb.\n",
    "    df_top_herb_pubchemid_pair = find_pubchemid_of_herb(df_herb, top_herb)\n",
    "    \n",
    "    # Find the rpairs whose substrate is same to the top_hmdb.\n",
    "    df_rpair_of_top_hmdb_sub_k = find_kegg_rpair_of_hmdb_sub(df_kegg_rpair, df_top_hmdb_keggid_pair)\n",
    "    \n",
    "    # Find the part of top_hmdb. \n",
    "    df_top_hmdb_of_sub = find_keggid_of_top_hmdb2(df_top_hmdb_keggid_pair, df_rpair_of_top_hmdb_sub_k)\n",
    "    \n",
    "    # Find the pair of top_hmdb and top_herb.\n",
    "    df_candidate_sub = find_candidate_substrate(df_top_herb_hmdb_pair, df_top_hmdb_of_sub)\n",
    "    \n",
    "    # Make the pair of herb(used to be substrate) and product.\n",
    "    df_query = query_list(df_candidate_sub, df_rpair_of_top_hmdb_sub_k)\n",
    "    \n",
    "    return df_query"
   ]
  },
  {
   "cell_type": "code",
   "execution_count": 20,
   "metadata": {
    "collapsed": true
   },
   "outputs": [],
   "source": [
    "def web_ezyme2(df_query):\n",
    "    \n",
    "    print \"the number of crawling pair : %d \" % len(df_query)\n",
    "    predicted_result2 = pd.DataFrame()\n",
    "    cnt = 0 \n",
    "    url_base = 'http://rest.genome.jp/ezyme/'\n",
    "    \n",
    "    for index, row in df_query[cnt:].iterrows():\n",
    "        sub = int(row['substrate'])\n",
    "        pro = row['product']\n",
    "        url = url_base + 'CID'+str(sub) +'/' + pro\n",
    "        \n",
    "        try:\n",
    "            f = urlopen(url)\n",
    "            all_data = f.readlines()\n",
    "            data = all_data[1].split('\\t')\n",
    "            predicted_orthology = data[1]\n",
    "            predicted_score = data[0]\n",
    "        \n",
    "            temp_df = pd.DataFrame([[sub, pro, predicted_orthology, predicted_score]], columns = ['substrate', 'product', 'predicted_orthology', 'predicted_score'])\n",
    "            predicted_result2 = predicted_result2.append(temp_df)\n",
    "        \n",
    "        except urllib2.HTTPError, e:\n",
    "            cnt = cnt + 1\n",
    "            continue\n",
    "    \n",
    "    predicted_result2.index = range(0, len(predicted_result2))\n",
    "    return predicted_result2"
   ]
  },
  {
   "cell_type": "code",
   "execution_count": 21,
   "metadata": {
    "collapsed": false,
    "scrolled": true
   },
   "outputs": [
    {
     "name": "stdout",
     "output_type": "stream",
     "text": [
      "Enter the percentage number (0,10] : 0.001\n",
      "Count the number of top 0.00 % similar compounds..\n",
      "There are 6466 similar compounds.\n"
     ]
    },
    {
     "ename": "NameError",
     "evalue": "global name 'top_hmdb' is not defined",
     "output_type": "error",
     "traceback": [
      "\u001b[1;31m---------------------------------------------------------------------------\u001b[0m",
      "\u001b[1;31mNameError\u001b[0m                                 Traceback (most recent call last)",
      "\u001b[1;32m<ipython-input-21-72eb9ef4be28>\u001b[0m in \u001b[0;36m<module>\u001b[1;34m()\u001b[0m\n\u001b[0;32m     11\u001b[0m     \u001b[1;31m#top_herb, top_hmdb =extract_top_id(df_top_herb_hmdb_pair)\u001b[0m\u001b[1;33m\u001b[0m\u001b[1;33m\u001b[0m\u001b[0m\n\u001b[0;32m     12\u001b[0m     \u001b[1;31m#df_query = make_query_list(top_herb, top_hmdb)\u001b[0m\u001b[1;33m\u001b[0m\u001b[1;33m\u001b[0m\u001b[0m\n\u001b[1;32m---> 13\u001b[1;33m     \u001b[0mdf_query\u001b[0m \u001b[1;33m=\u001b[0m \u001b[0mmake_query_list\u001b[0m\u001b[1;33m(\u001b[0m\u001b[0mdf_top_herb_hmdb_pair\u001b[0m\u001b[1;33m)\u001b[0m\u001b[1;33m\u001b[0m\u001b[0m\n\u001b[0m\u001b[0;32m     14\u001b[0m     \u001b[1;32mif\u001b[0m \u001b[0mconnect\u001b[0m \u001b[1;33m==\u001b[0m \u001b[1;36m2\u001b[0m\u001b[1;33m:\u001b[0m\u001b[1;33m\u001b[0m\u001b[0m\n\u001b[0;32m     15\u001b[0m         \u001b[1;32mprint\u001b[0m\u001b[1;33m(\u001b[0m\u001b[1;34m\"need to connect the web. time consuming.. : \"\u001b[0m \u001b[1;33m+\u001b[0m \u001b[0mtime\u001b[0m\u001b[1;33m.\u001b[0m\u001b[0mstrftime\u001b[0m\u001b[1;33m(\u001b[0m\u001b[1;34m'%a %H:%M:%S'\u001b[0m\u001b[1;33m)\u001b[0m\u001b[1;33m)\u001b[0m\u001b[1;33m\u001b[0m\u001b[0m\n",
      "\u001b[1;32m<ipython-input-19-6213fe11c91d>\u001b[0m in \u001b[0;36mmake_query_list\u001b[1;34m(df_top_herb_hmdb_pair)\u001b[0m\n\u001b[0;32m      7\u001b[0m \u001b[1;33m\u001b[0m\u001b[0m\n\u001b[0;32m      8\u001b[0m     \u001b[1;31m# Find the KEGG ID of top_hmdb.\u001b[0m\u001b[1;33m\u001b[0m\u001b[1;33m\u001b[0m\u001b[0m\n\u001b[1;32m----> 9\u001b[1;33m     \u001b[0mdf_top_hmdb_keggid_pair\u001b[0m \u001b[1;33m=\u001b[0m \u001b[0mfind_keggid_of_hmdb\u001b[0m\u001b[1;33m(\u001b[0m\u001b[0mdf_hmdb\u001b[0m\u001b[1;33m,\u001b[0m \u001b[0mtop_hmdb\u001b[0m\u001b[1;33m)\u001b[0m\u001b[1;33m\u001b[0m\u001b[0m\n\u001b[0m\u001b[0;32m     10\u001b[0m \u001b[1;33m\u001b[0m\u001b[0m\n\u001b[0;32m     11\u001b[0m     \u001b[1;31m# Find the PubChem ID of top_herb.\u001b[0m\u001b[1;33m\u001b[0m\u001b[1;33m\u001b[0m\u001b[0m\n",
      "\u001b[1;31mNameError\u001b[0m: global name 'top_hmdb' is not defined"
     ]
    }
   ],
   "source": [
    "###### Main ###########\n",
    "\n",
    "# aceeptuser input\n",
    "percentage = input('Enter the percentage number (0,10] : ')\n",
    "\n",
    "connect, df_top_herb_hmdb_pair = count_percentage(percentage)\n",
    "if connect == 1:\n",
    "    print(\"Input is not valid. Stop the program.\")\n",
    "else:\n",
    "    \n",
    "    #top_herb, top_hmdb =extract_top_id(df_top_herb_hmdb_pair)\n",
    "    #df_query = make_query_list(top_herb, top_hmdb)\n",
    "    df_query = make_query_list(df_top_herb_hmdb_pair)\n",
    "    if connect == 2:\n",
    "        print(\"need to connect the web. time consuming.. : \" + time.strftime('%a %H:%M:%S'))\n",
    "        predicted_result = web_ezyme2(df_query)\n",
    "        print(\"end of web crawling : \" + time.strftime('%a %H:%M:%S'))\n",
    "        predicted_result = predicted_result.append(df_orthology) # prepared result (percentage under 0.1%)\n",
    "        print(\"There are %d predicted orthology results.\") % len(predicted_result)\n",
    "    else:\n",
    "        if percentage == 0.1:\n",
    "            predicted_result = df_orthology\n",
    "        else:\n",
    "            predicted_result = match_query_result(df_query, df_orthology)\n",
    "    print(\"There are %d predicted orthology results.\") % len(predicted_result)"
   ]
  },
  {
   "cell_type": "code",
   "execution_count": 1,
   "metadata": {
    "collapsed": false
   },
   "outputs": [
    {
     "ename": "NameError",
     "evalue": "name 'predicted_result' is not defined",
     "output_type": "error",
     "traceback": [
      "\u001b[1;31m---------------------------------------------------------------------------\u001b[0m",
      "\u001b[1;31mNameError\u001b[0m                                 Traceback (most recent call last)",
      "\u001b[1;32m<ipython-input-1-06cdc4146e58>\u001b[0m in \u001b[0;36m<module>\u001b[1;34m()\u001b[0m\n\u001b[1;32m----> 1\u001b[1;33m \u001b[0mpredicted_result\u001b[0m\u001b[1;33m\u001b[0m\u001b[0m\n\u001b[0m",
      "\u001b[1;31mNameError\u001b[0m: name 'predicted_result' is not defined"
     ]
    }
   ],
   "source": [
    "predicted_result"
   ]
  },
  {
   "cell_type": "code",
   "execution_count": null,
   "metadata": {
    "collapsed": true
   },
   "outputs": [],
   "source": []
  },
  {
   "cell_type": "code",
   "execution_count": null,
   "metadata": {
    "collapsed": true
   },
   "outputs": [],
   "source": []
  },
  {
   "cell_type": "code",
   "execution_count": 81,
   "metadata": {
    "collapsed": false
   },
   "outputs": [
    {
     "name": "stdout",
     "output_type": "stream",
     "text": [
      "Enter the percentage number (ex. 0.1) : 0.10001\n"
     ]
    },
    {
     "data": {
      "text/plain": [
       "646711"
      ]
     },
     "execution_count": 81,
     "metadata": {},
     "output_type": "execute_result"
    }
   ],
   "source": [
    "WHOLE_LENGTH = 646647053\n",
    "percentage = input('Enter the percentage number (ex. 0.1) : ')\n",
    "percentage_idx = int(WHOLE_LENGTH * percentage / 100)\n",
    "percentage_idx"
   ]
  },
  {
   "cell_type": "code",
   "execution_count": null,
   "metadata": {
    "collapsed": true
   },
   "outputs": [],
   "source": [
    "0.1퍼센트 : 646647개. --> 0.10005 : 646970개 --> 0.10001 : 646711개"
   ]
  },
  {
   "cell_type": "code",
   "execution_count": null,
   "metadata": {
    "collapsed": true
   },
   "outputs": [],
   "source": []
  },
  {
   "cell_type": "code",
   "execution_count": null,
   "metadata": {
    "collapsed": true
   },
   "outputs": [],
   "source": []
  },
  {
   "cell_type": "code",
   "execution_count": null,
   "metadata": {
    "collapsed": true
   },
   "outputs": [],
   "source": []
  },
  {
   "cell_type": "code",
   "execution_count": null,
   "metadata": {
    "collapsed": true
   },
   "outputs": [],
   "source": []
  },
  {
   "cell_type": "code",
   "execution_count": null,
   "metadata": {
    "collapsed": true
   },
   "outputs": [],
   "source": [
    "#open file\n",
    "#f = open('/home/share/aschoi/data/COCONUT_Herbal/5_Similarity/7_sorted_score_vector_except_1(descending)_top_10_percent_no_score.csv', 'r')\n",
    "#raw_herb_hmdb_pair = []\n",
    "#print time.strftime('%a %H:%M:%S')\n",
    "#while True:\n",
    "#    line = f.readline()\n",
    "#    if not line: break\n",
    "#    raw_herb_hmdb_pair.append(line.split(','))\n",
    "#print time.strftime('%a %H:%M:%S')\n",
    "#f.close()"
   ]
  },
  {
   "cell_type": "code",
   "execution_count": null,
   "metadata": {
    "collapsed": true
   },
   "outputs": [],
   "source": [
    "#open file\n",
    "#f = open('/home/share/aschoi/data/COCONUT_Herbal/5_Similarity/7_sorted_score_vector_except_1(descending)_top_10_percent_no_score.csv', 'r')\n",
    "#raw_herb_hmdb_pair = []\n",
    "#print time.strftime('%a %H:%M:%S')\n",
    "#while True:\n",
    "#    line = f.readline()\n",
    "#    if not line: break\n",
    "#    raw_herb_hmdb_pair.append(line.split(','))\n",
    "#print time.strftime('%a %H:%M:%S')\n",
    "#f.close()"
   ]
  },
  {
   "cell_type": "code",
   "execution_count": 1,
   "metadata": {
    "collapsed": true
   },
   "outputs": [],
   "source": [
    "import csv\n",
    "from itertools import product\n",
    "import numpy as np\n",
    "import os\n",
    "import pandas as pd\n",
    "import requests\n",
    "import time\n",
    "from urllib2 import urlopen\n",
    "import urllib2"
   ]
  },
  {
   "cell_type": "code",
   "execution_count": 2,
   "metadata": {
    "collapsed": false
   },
   "outputs": [],
   "source": [
    "#open files\n",
    "df_raw_herb_hmdb_pair = pd.read_csv('/home/share/aschoi/data/COCONUT_Herbal/5_Similarity/7_sorted_score_vector_except_1(descending)_top_10_percent_no_score.csv', header=None)\n",
    "df_hmdb = pd.read_table('/home/share/aschoi/data/COCONUT_Herbal/4_HMDB/HMDB_KEGG.tsv')\n",
    "df_herb = pd.read_table('/home/share/aschoi/data/COCONUT_Herbal/7_Ezyme_tool/2-5_herb_pubchem.tsv')\n",
    "df_kegg_rpair = pd.read_table('/home/share/aschoi/data/COCONUT_Herbal/1_KEGG_rpair/KEGG_Rpair.txt')\n",
    "df_orthology = pd.read_table('/home/share/aschoi/data/COCONUT_Herbal/7_Ezyme_tool/5_predicted_orthology.tsv')"
   ]
  },
  {
   "cell_type": "code",
   "execution_count": 3,
   "metadata": {
    "collapsed": false
   },
   "outputs": [
    {
     "name": "stdout",
     "output_type": "stream",
     "text": [
      "Enter the percentage number (0,10] : 0.1\n"
     ]
    }
   ],
   "source": [
    "# extract elements of top percentage.\n",
    "#------------------------------------------------------------------------------\n",
    "WHOLE_LENGTH = 646647053\n",
    "percentage = input('Enter the percentage number (0,10] : ')\n",
    "percentage_idx = int(WHOLE_LENGTH * percentage / 100)\n",
    "df_top_herb_hmdb_pair = df_raw_herb_hmdb_pair[:percentage_idx]\n",
    "df_top_herb_hmdb_pair = df_top_herb_hmdb_pair.rename(columns={0:'compID', 1:'Accession'})"
   ]
  },
  {
   "cell_type": "code",
   "execution_count": 4,
   "metadata": {
    "collapsed": false,
    "scrolled": true
   },
   "outputs": [
    {
     "name": "stdout",
     "output_type": "stream",
     "text": [
      "646647\n"
     ]
    },
    {
     "data": {
      "text/html": [
       "<div>\n",
       "<table border=\"1\" class=\"dataframe\">\n",
       "  <thead>\n",
       "    <tr style=\"text-align: right;\">\n",
       "      <th></th>\n",
       "      <th>compID</th>\n",
       "      <th>Accession</th>\n",
       "    </tr>\n",
       "  </thead>\n",
       "  <tbody>\n",
       "    <tr>\n",
       "      <th>0</th>\n",
       "      <td>80303</td>\n",
       "      <td>HMDB37761</td>\n",
       "    </tr>\n",
       "    <tr>\n",
       "      <th>1</th>\n",
       "      <td>69881</td>\n",
       "      <td>HMDB02174</td>\n",
       "    </tr>\n",
       "    <tr>\n",
       "      <th>2</th>\n",
       "      <td>69881</td>\n",
       "      <td>HMDB02308</td>\n",
       "    </tr>\n",
       "    <tr>\n",
       "      <th>3</th>\n",
       "      <td>69881</td>\n",
       "      <td>HMDB03458</td>\n",
       "    </tr>\n",
       "    <tr>\n",
       "      <th>4</th>\n",
       "      <td>69881</td>\n",
       "      <td>HMDB06316</td>\n",
       "    </tr>\n",
       "  </tbody>\n",
       "</table>\n",
       "</div>"
      ],
      "text/plain": [
       "   compID  Accession\n",
       "0   80303  HMDB37761\n",
       "1   69881  HMDB02174\n",
       "2   69881  HMDB02308\n",
       "3   69881  HMDB03458\n",
       "4   69881  HMDB06316"
      ]
     },
     "execution_count": 4,
     "metadata": {},
     "output_type": "execute_result"
    }
   ],
   "source": [
    "print len(df_top_herb_hmdb_pair)\n",
    "df_top_herb_hmdb_pair.head()"
   ]
  },
  {
   "cell_type": "code",
   "execution_count": 5,
   "metadata": {
    "collapsed": false
   },
   "outputs": [
    {
     "name": "stdout",
     "output_type": "stream",
     "text": [
      "    1. Extract the ids of top herbal and top HMDB compounds.\n"
     ]
    }
   ],
   "source": [
    "#top herb id, top hmdb id\n",
    "#------------------------------------------------------------------------------\n",
    "s_top_herb = df_top_herb_hmdb_pair['compID']\n",
    "s_top_hmdb = df_top_herb_hmdb_pair['Accession']\n",
    "print(\"    1. Extract the ids of top herbal and top HMDB compounds.\")\n",
    "#for i in top_herb_hmdb_pair:\n",
    "#    top_herb.append(int(i[0]))\n",
    "#    top_hmdb.append(i[1].rstrip('\\r\\n'))"
   ]
  },
  {
   "cell_type": "code",
   "execution_count": 6,
   "metadata": {
    "collapsed": false
   },
   "outputs": [
    {
     "name": "stdout",
     "output_type": "stream",
     "text": [
      "646647\n",
      "646647\n"
     ]
    }
   ],
   "source": [
    "print len(s_top_herb)\n",
    "print len(s_top_hmdb)"
   ]
  },
  {
   "cell_type": "code",
   "execution_count": 7,
   "metadata": {
    "collapsed": true
   },
   "outputs": [],
   "source": [
    "# Dataframe of top_herb_hmdb_pair\n",
    "#df_top_herb_hmdb_pair = pd.DataFrame({'Accession':top_hmdb, 'compID' :top_herb})"
   ]
  },
  {
   "cell_type": "code",
   "execution_count": 8,
   "metadata": {
    "collapsed": false
   },
   "outputs": [],
   "source": [
    "# Find the KEGG ID of top_hmdb.\n",
    "\n",
    "# The flag is used to find the KEGG ID of top_similar_hmdb.\n",
    "flag_find_keggid_of_top_hmdb = df_hmdb['Accession'].isin(s_top_hmdb)\n",
    "\n",
    "# This dataframe represents the pair of top hmdb id and its KEGG ID.\n",
    "# This information is used when find the substrate of KEGG rpair which correspond to the top_hmdb.\n",
    "df_top_hmdb_keggid_pair = df_hmdb[flag_find_keggid_of_top_hmdb][['Accession', 'KEGG_ID']]"
   ]
  },
  {
   "cell_type": "code",
   "execution_count": 9,
   "metadata": {
    "collapsed": false
   },
   "outputs": [
    {
     "name": "stdout",
     "output_type": "stream",
     "text": [
      "1130\n"
     ]
    },
    {
     "data": {
      "text/html": [
       "<div>\n",
       "<table border=\"1\" class=\"dataframe\">\n",
       "  <thead>\n",
       "    <tr style=\"text-align: right;\">\n",
       "      <th></th>\n",
       "      <th>Accession</th>\n",
       "      <th>KEGG_ID</th>\n",
       "    </tr>\n",
       "  </thead>\n",
       "  <tbody>\n",
       "    <tr>\n",
       "      <th>0</th>\n",
       "      <td>HMDB00002</td>\n",
       "      <td>C00986</td>\n",
       "    </tr>\n",
       "    <tr>\n",
       "      <th>1</th>\n",
       "      <td>HMDB00005</td>\n",
       "      <td>C00109</td>\n",
       "    </tr>\n",
       "    <tr>\n",
       "      <th>2</th>\n",
       "      <td>HMDB00010</td>\n",
       "      <td>C05299</td>\n",
       "    </tr>\n",
       "    <tr>\n",
       "      <th>3</th>\n",
       "      <td>HMDB00011</td>\n",
       "      <td>C01089</td>\n",
       "    </tr>\n",
       "    <tr>\n",
       "      <th>6</th>\n",
       "      <td>HMDB00016</td>\n",
       "      <td>C03205</td>\n",
       "    </tr>\n",
       "  </tbody>\n",
       "</table>\n",
       "</div>"
      ],
      "text/plain": [
       "   Accession KEGG_ID\n",
       "0  HMDB00002  C00986\n",
       "1  HMDB00005  C00109\n",
       "2  HMDB00010  C05299\n",
       "3  HMDB00011  C01089\n",
       "6  HMDB00016  C03205"
      ]
     },
     "execution_count": 9,
     "metadata": {},
     "output_type": "execute_result"
    }
   ],
   "source": [
    "print len(df_top_hmdb_keggid_pair)\n",
    "df_top_hmdb_keggid_pair.head()"
   ]
  },
  {
   "cell_type": "code",
   "execution_count": 10,
   "metadata": {
    "collapsed": true
   },
   "outputs": [],
   "source": [
    "# Find the PubChem ID of top_herb.\n",
    "\n",
    "# The flag is used to find the PubChem ID of top_herb.\n",
    "flag_find_pubchemid_of_top_herb = df_herb['compID'].isin(s_top_herb)\n",
    "\n",
    "# This dataframe represents the pair of top herb id and its PubChem ID.\n",
    "# Using this information, we can predict the orphan herbs' ontology.\n",
    "# One pubchem id of herb becomes the input substrate of KEGG E-zyme2 tool.\n",
    "df_top_herb_pubchemid_pair = df_herb[flag_find_pubchemid_of_top_herb][['compID', 'pubchemID']]"
   ]
  },
  {
   "cell_type": "code",
   "execution_count": 11,
   "metadata": {
    "collapsed": false
   },
   "outputs": [
    {
     "name": "stdout",
     "output_type": "stream",
     "text": [
      "6826\n"
     ]
    },
    {
     "data": {
      "text/html": [
       "<div>\n",
       "<table border=\"1\" class=\"dataframe\">\n",
       "  <thead>\n",
       "    <tr style=\"text-align: right;\">\n",
       "      <th></th>\n",
       "      <th>compID</th>\n",
       "      <th>pubchemID</th>\n",
       "    </tr>\n",
       "  </thead>\n",
       "  <tbody>\n",
       "    <tr>\n",
       "      <th>6</th>\n",
       "      <td>37772</td>\n",
       "      <td>124039</td>\n",
       "    </tr>\n",
       "    <tr>\n",
       "      <th>7</th>\n",
       "      <td>33032</td>\n",
       "      <td>177786</td>\n",
       "    </tr>\n",
       "    <tr>\n",
       "      <th>8</th>\n",
       "      <td>33034</td>\n",
       "      <td>12004512</td>\n",
       "    </tr>\n",
       "    <tr>\n",
       "      <th>9</th>\n",
       "      <td>33179</td>\n",
       "      <td>88810</td>\n",
       "    </tr>\n",
       "    <tr>\n",
       "      <th>11</th>\n",
       "      <td>32814</td>\n",
       "      <td>313075</td>\n",
       "    </tr>\n",
       "  </tbody>\n",
       "</table>\n",
       "</div>"
      ],
      "text/plain": [
       "    compID  pubchemID\n",
       "6    37772     124039\n",
       "7    33032     177786\n",
       "8    33034   12004512\n",
       "9    33179      88810\n",
       "11   32814     313075"
      ]
     },
     "execution_count": 11,
     "metadata": {},
     "output_type": "execute_result"
    }
   ],
   "source": [
    "print len(df_top_herb_pubchemid_pair)\n",
    "df_top_herb_pubchemid_pair.head()"
   ]
  },
  {
   "cell_type": "code",
   "execution_count": 12,
   "metadata": {
    "collapsed": true
   },
   "outputs": [],
   "source": [
    "# Find the rpairs whose substrate is same to the top_hmdb.\n",
    "# The pair is represented by only KEGG ID. (NOT hmdb_id.)\n",
    "\n",
    "flag_find_rpair_of_top_hmdb_sub = df_kegg_rpair['Compound1'].isin(df_top_hmdb_keggid_pair['KEGG_ID']) \n",
    "\n",
    "# This dataframe consist of KEGG ID.\n",
    "df_rpair_of_top_hmdb_sub_k = df_kegg_rpair[flag_find_rpair_of_top_hmdb_sub]"
   ]
  },
  {
   "cell_type": "code",
   "execution_count": 13,
   "metadata": {
    "collapsed": false
   },
   "outputs": [
    {
     "name": "stdout",
     "output_type": "stream",
     "text": [
      "3317\n"
     ]
    },
    {
     "data": {
      "text/html": [
       "<div>\n",
       "<table border=\"1\" class=\"dataframe\">\n",
       "  <thead>\n",
       "    <tr style=\"text-align: right;\">\n",
       "      <th></th>\n",
       "      <th>Compound1</th>\n",
       "      <th>Compound2</th>\n",
       "    </tr>\n",
       "  </thead>\n",
       "  <tbody>\n",
       "    <tr>\n",
       "      <th>1</th>\n",
       "      <td>C00003</td>\n",
       "      <td>C00004</td>\n",
       "    </tr>\n",
       "    <tr>\n",
       "      <th>2</th>\n",
       "      <td>C00002</td>\n",
       "      <td>C00008</td>\n",
       "    </tr>\n",
       "    <tr>\n",
       "      <th>6</th>\n",
       "      <td>C00002</td>\n",
       "      <td>C00020</td>\n",
       "    </tr>\n",
       "    <tr>\n",
       "      <th>7</th>\n",
       "      <td>C00002</td>\n",
       "      <td>C00013</td>\n",
       "    </tr>\n",
       "    <tr>\n",
       "      <th>8</th>\n",
       "      <td>C00002</td>\n",
       "      <td>C00009</td>\n",
       "    </tr>\n",
       "  </tbody>\n",
       "</table>\n",
       "</div>"
      ],
      "text/plain": [
       "  Compound1 Compound2\n",
       "1    C00003    C00004\n",
       "2    C00002    C00008\n",
       "6    C00002    C00020\n",
       "7    C00002    C00013\n",
       "8    C00002    C00009"
      ]
     },
     "execution_count": 13,
     "metadata": {},
     "output_type": "execute_result"
    }
   ],
   "source": [
    "print len(df_rpair_of_top_hmdb_sub_k)\n",
    "df_rpair_of_top_hmdb_sub_k.head()"
   ]
  },
  {
   "cell_type": "code",
   "execution_count": 14,
   "metadata": {
    "collapsed": true
   },
   "outputs": [],
   "source": [
    "# Find the part of top_hmdb. \n",
    "# It have KEGG ID which corresponds to the substrate of KEGG rpair.\n",
    "# Why need this process? \n",
    "# Because we don't have the pair of the kegg_id version substrate(although it corresponds to the top_hmdb!) and top_hmdb id.\n",
    "\n",
    "flag_find_hmdbid_of_top_hmdb_sub = df_top_hmdb_keggid_pair['KEGG_ID'].isin(df_rpair_of_top_hmdb_sub_k['Compound1'])\n",
    "df_top_hmdb_of_sub = df_top_hmdb_keggid_pair[flag_find_hmdbid_of_top_hmdb_sub]"
   ]
  },
  {
   "cell_type": "code",
   "execution_count": 15,
   "metadata": {
    "collapsed": false
   },
   "outputs": [
    {
     "name": "stdout",
     "output_type": "stream",
     "text": [
      "543\n"
     ]
    },
    {
     "data": {
      "text/html": [
       "<div>\n",
       "<table border=\"1\" class=\"dataframe\">\n",
       "  <thead>\n",
       "    <tr style=\"text-align: right;\">\n",
       "      <th></th>\n",
       "      <th>Accession</th>\n",
       "      <th>KEGG_ID</th>\n",
       "    </tr>\n",
       "  </thead>\n",
       "  <tbody>\n",
       "    <tr>\n",
       "      <th>0</th>\n",
       "      <td>HMDB00002</td>\n",
       "      <td>C00986</td>\n",
       "    </tr>\n",
       "    <tr>\n",
       "      <th>1</th>\n",
       "      <td>HMDB00005</td>\n",
       "      <td>C00109</td>\n",
       "    </tr>\n",
       "    <tr>\n",
       "      <th>2</th>\n",
       "      <td>HMDB00010</td>\n",
       "      <td>C05299</td>\n",
       "    </tr>\n",
       "    <tr>\n",
       "      <th>3</th>\n",
       "      <td>HMDB00011</td>\n",
       "      <td>C01089</td>\n",
       "    </tr>\n",
       "    <tr>\n",
       "      <th>6</th>\n",
       "      <td>HMDB00016</td>\n",
       "      <td>C03205</td>\n",
       "    </tr>\n",
       "  </tbody>\n",
       "</table>\n",
       "</div>"
      ],
      "text/plain": [
       "   Accession KEGG_ID\n",
       "0  HMDB00002  C00986\n",
       "1  HMDB00005  C00109\n",
       "2  HMDB00010  C05299\n",
       "3  HMDB00011  C01089\n",
       "6  HMDB00016  C03205"
      ]
     },
     "execution_count": 15,
     "metadata": {},
     "output_type": "execute_result"
    }
   ],
   "source": [
    "print len(df_top_hmdb_of_sub)\n",
    "df_top_hmdb_of_sub.head()"
   ]
  },
  {
   "cell_type": "code",
   "execution_count": 16,
   "metadata": {
    "collapsed": true
   },
   "outputs": [],
   "source": [
    "# Find the pair of top_hmdb and top_herb.\n",
    "# The top_hmdb is the substrate of the KEGG rpair.\n",
    "# The top_herb is the similar herbal compounds of the top_hmdb.\n",
    "\n",
    "flag_find_sim_herb_of_hmdb_sub = df_top_herb_hmdb_pair['Accession'].isin(df_top_hmdb_of_sub['Accession'])\n",
    "df_sim_herb_of_hmdb_sub = df_top_herb_hmdb_pair[flag_find_sim_herb_of_hmdb_sub]\n",
    "\n",
    "# Find the pubchem id of the herbs which is similar to the hmdb compounds. These hmdb compounds are the substrate of rpair. \n",
    "flag_find_pubchemid_of_sim_herb =df_top_herb_pubchemid_pair['compID'].isin(df_sim_herb_of_hmdb_sub['compID'])\n",
    "df_sim_herb_pubchem_id_pair = df_top_herb_pubchemid_pair[flag_find_pubchemid_of_sim_herb]\n",
    "\n",
    "df_candidate_sub_herb = pd.merge(df_top_hmdb_of_sub, df_sim_herb_of_hmdb_sub, how = 'inner', on = ['Accession', 'Accession'])\n",
    "df_candidate_sub_herb_pubchem = pd.merge(df_candidate_sub_herb, df_sim_herb_pubchem_id_pair, how='inner', on=['compID', 'compID'])\n"
   ]
  },
  {
   "cell_type": "code",
   "execution_count": 17,
   "metadata": {
    "collapsed": false
   },
   "outputs": [
    {
     "name": "stdout",
     "output_type": "stream",
     "text": [
      "8196\n"
     ]
    },
    {
     "data": {
      "text/html": [
       "<div>\n",
       "<table border=\"1\" class=\"dataframe\">\n",
       "  <thead>\n",
       "    <tr style=\"text-align: right;\">\n",
       "      <th></th>\n",
       "      <th>Accession</th>\n",
       "      <th>KEGG_ID</th>\n",
       "      <th>compID</th>\n",
       "      <th>pubchemID</th>\n",
       "    </tr>\n",
       "  </thead>\n",
       "  <tbody>\n",
       "    <tr>\n",
       "      <th>0</th>\n",
       "      <td>HMDB00002</td>\n",
       "      <td>C00986</td>\n",
       "      <td>65801</td>\n",
       "      <td>3483736</td>\n",
       "    </tr>\n",
       "    <tr>\n",
       "      <th>1</th>\n",
       "      <td>HMDB00005</td>\n",
       "      <td>C00109</td>\n",
       "      <td>70898</td>\n",
       "      <td>450639</td>\n",
       "    </tr>\n",
       "    <tr>\n",
       "      <th>2</th>\n",
       "      <td>HMDB00011</td>\n",
       "      <td>C01089</td>\n",
       "      <td>70898</td>\n",
       "      <td>450639</td>\n",
       "    </tr>\n",
       "    <tr>\n",
       "      <th>3</th>\n",
       "      <td>HMDB00019</td>\n",
       "      <td>C00141</td>\n",
       "      <td>70898</td>\n",
       "      <td>450639</td>\n",
       "    </tr>\n",
       "    <tr>\n",
       "      <th>4</th>\n",
       "      <td>HMDB00060</td>\n",
       "      <td>C00164</td>\n",
       "      <td>70898</td>\n",
       "      <td>450639</td>\n",
       "    </tr>\n",
       "  </tbody>\n",
       "</table>\n",
       "</div>"
      ],
      "text/plain": [
       "   Accession KEGG_ID  compID  pubchemID\n",
       "0  HMDB00002  C00986   65801    3483736\n",
       "1  HMDB00005  C00109   70898     450639\n",
       "2  HMDB00011  C01089   70898     450639\n",
       "3  HMDB00019  C00141   70898     450639\n",
       "4  HMDB00060  C00164   70898     450639"
      ]
     },
     "execution_count": 17,
     "metadata": {},
     "output_type": "execute_result"
    }
   ],
   "source": [
    "print len(df_candidate_sub_herb_pubchem)\n",
    "df_candidate_sub_herb_pubchem.head()"
   ]
  },
  {
   "cell_type": "code",
   "execution_count": 18,
   "metadata": {
    "collapsed": false
   },
   "outputs": [],
   "source": [
    "# Make the pair of herb(used to be substrate) and product.\n",
    "# If the pair will exist in the prepared orthology table, just show the predicted_result.\n",
    "# Unless the pair will not exist in the prepared table, we have to crawl the predicted reusult from KEGG E-zyme2 webpage.\n",
    "\n",
    "from itertools import product\n",
    "s_candidate_keggid = df_candidate_sub_herb_pubchem['KEGG_ID'].drop_duplicates()\n",
    "df_query = pd.DataFrame()\n",
    "for i in s_candidate_keggid:\n",
    "    df_candidate_sub_part = df_candidate_sub_herb_pubchem[df_candidate_sub_herb_pubchem.KEGG_ID == i]\n",
    "    df_candidate_pro_part = df_rpair_of_top_hmdb_sub_k[df_rpair_of_top_hmdb_sub_k.Compound1 == i]\n",
    "    s_candidate_sub_part = df_candidate_sub_part['pubchemID']\n",
    "    s_candidate_pro_part = df_candidate_pro_part['Compound2']\n",
    "    temp_df = pd.DataFrame(list(product(s_candidate_sub_part, s_candidate_pro_part)), columns = ['substrate', 'product'])\n",
    "    df_query = df_query.append(temp_df)\n",
    "df_query = df_query.drop_duplicates()\n",
    "df_query.index = range(0, len(df_query))"
   ]
  },
  {
   "cell_type": "code",
   "execution_count": 19,
   "metadata": {
    "collapsed": false
   },
   "outputs": [
    {
     "name": "stdout",
     "output_type": "stream",
     "text": [
      "       inner query_list : len(df_candidate_sub_herb_pubchem, df_rpair_of_top_hmdb_sub_k) 8196, 3317\n"
     ]
    }
   ],
   "source": [
    "print \"       inner query_list : len(df_candidate_sub_herb_pubchem, df_rpair_of_top_hmdb_sub_k) %d, %d\" % (len(df_candidate_sub_herb_pubchem), len(df_rpair_of_top_hmdb_sub_k))"
   ]
  },
  {
   "cell_type": "code",
   "execution_count": 20,
   "metadata": {
    "collapsed": false
   },
   "outputs": [
    {
     "data": {
      "text/plain": [
       "491"
      ]
     },
     "execution_count": 20,
     "metadata": {},
     "output_type": "execute_result"
    }
   ],
   "source": [
    "len(s_candidate_keggid)"
   ]
  },
  {
   "cell_type": "code",
   "execution_count": 21,
   "metadata": {
    "collapsed": false,
    "scrolled": true
   },
   "outputs": [
    {
     "name": "stdout",
     "output_type": "stream",
     "text": [
      "26527\n"
     ]
    },
    {
     "data": {
      "text/html": [
       "<div>\n",
       "<table border=\"1\" class=\"dataframe\">\n",
       "  <thead>\n",
       "    <tr style=\"text-align: right;\">\n",
       "      <th></th>\n",
       "      <th>substrate</th>\n",
       "      <th>product</th>\n",
       "    </tr>\n",
       "  </thead>\n",
       "  <tbody>\n",
       "    <tr>\n",
       "      <th>0</th>\n",
       "      <td>3483736</td>\n",
       "      <td>C05665</td>\n",
       "    </tr>\n",
       "    <tr>\n",
       "      <th>1</th>\n",
       "      <td>3483736</td>\n",
       "      <td>C03375</td>\n",
       "    </tr>\n",
       "    <tr>\n",
       "      <th>2</th>\n",
       "      <td>3483736</td>\n",
       "      <td>C03283</td>\n",
       "    </tr>\n",
       "    <tr>\n",
       "      <th>3</th>\n",
       "      <td>3483736</td>\n",
       "      <td>C15853</td>\n",
       "    </tr>\n",
       "    <tr>\n",
       "      <th>4</th>\n",
       "      <td>3483736</td>\n",
       "      <td>C01029</td>\n",
       "    </tr>\n",
       "  </tbody>\n",
       "</table>\n",
       "</div>"
      ],
      "text/plain": [
       "   substrate product\n",
       "0    3483736  C05665\n",
       "1    3483736  C03375\n",
       "2    3483736  C03283\n",
       "3    3483736  C15853\n",
       "4    3483736  C01029"
      ]
     },
     "execution_count": 21,
     "metadata": {},
     "output_type": "execute_result"
    }
   ],
   "source": [
    "print len(df_query)\n",
    "df_query.head()"
   ]
  },
  {
   "cell_type": "code",
   "execution_count": 46,
   "metadata": {
    "collapsed": false
   },
   "outputs": [
    {
     "name": "stdout",
     "output_type": "stream",
     "text": [
      "0 : Fri 00:25:36\n"
     ]
    },
    {
     "ename": "KeyboardInterrupt",
     "evalue": "",
     "output_type": "error",
     "traceback": [
      "\u001b[1;31m---------------------------------------------------------------------------\u001b[0m",
      "\u001b[1;31mKeyboardInterrupt\u001b[0m                         Traceback (most recent call last)",
      "\u001b[1;32m<ipython-input-46-56cdbc12596f>\u001b[0m in \u001b[0;36m<module>\u001b[1;34m()\u001b[0m\n\u001b[0;32m     16\u001b[0m         \u001b[1;32mfor\u001b[0m \u001b[0mattempt\u001b[0m \u001b[1;32min\u001b[0m \u001b[0mrange\u001b[0m\u001b[1;33m(\u001b[0m\u001b[0mMAX_ATTEMPTS\u001b[0m\u001b[1;33m)\u001b[0m\u001b[1;33m:\u001b[0m\u001b[1;33m\u001b[0m\u001b[0m\n\u001b[0;32m     17\u001b[0m             \u001b[1;32mtry\u001b[0m\u001b[1;33m:\u001b[0m\u001b[1;33m\u001b[0m\u001b[0m\n\u001b[1;32m---> 18\u001b[1;33m                 \u001b[0mf\u001b[0m \u001b[1;33m=\u001b[0m \u001b[0murlopen\u001b[0m\u001b[1;33m(\u001b[0m\u001b[0murl\u001b[0m\u001b[1;33m)\u001b[0m\u001b[1;33m\u001b[0m\u001b[0m\n\u001b[0m\u001b[0;32m     19\u001b[0m             \u001b[1;32mexcept\u001b[0m \u001b[0murllib2\u001b[0m\u001b[1;33m.\u001b[0m\u001b[0mHTTPError\u001b[0m\u001b[1;33m,\u001b[0m \u001b[0me\u001b[0m\u001b[1;33m:\u001b[0m\u001b[1;33m\u001b[0m\u001b[0m\n\u001b[0;32m     20\u001b[0m                 \u001b[1;32mif\u001b[0m \u001b[0me\u001b[0m\u001b[1;33m.\u001b[0m\u001b[0mcode\u001b[0m \u001b[1;33m==\u001b[0m \u001b[1;36m404\u001b[0m\u001b[1;33m:\u001b[0m\u001b[1;33m\u001b[0m\u001b[0m\n",
      "\u001b[1;32m/usr/lib/python2.7/urllib2.pyc\u001b[0m in \u001b[0;36murlopen\u001b[1;34m(url, data, timeout)\u001b[0m\n\u001b[0;32m    125\u001b[0m     \u001b[1;32mif\u001b[0m \u001b[0m_opener\u001b[0m \u001b[1;32mis\u001b[0m \u001b[0mNone\u001b[0m\u001b[1;33m:\u001b[0m\u001b[1;33m\u001b[0m\u001b[0m\n\u001b[0;32m    126\u001b[0m         \u001b[0m_opener\u001b[0m \u001b[1;33m=\u001b[0m \u001b[0mbuild_opener\u001b[0m\u001b[1;33m(\u001b[0m\u001b[1;33m)\u001b[0m\u001b[1;33m\u001b[0m\u001b[0m\n\u001b[1;32m--> 127\u001b[1;33m     \u001b[1;32mreturn\u001b[0m \u001b[0m_opener\u001b[0m\u001b[1;33m.\u001b[0m\u001b[0mopen\u001b[0m\u001b[1;33m(\u001b[0m\u001b[0murl\u001b[0m\u001b[1;33m,\u001b[0m \u001b[0mdata\u001b[0m\u001b[1;33m,\u001b[0m \u001b[0mtimeout\u001b[0m\u001b[1;33m)\u001b[0m\u001b[1;33m\u001b[0m\u001b[0m\n\u001b[0m\u001b[0;32m    128\u001b[0m \u001b[1;33m\u001b[0m\u001b[0m\n\u001b[0;32m    129\u001b[0m \u001b[1;32mdef\u001b[0m \u001b[0minstall_opener\u001b[0m\u001b[1;33m(\u001b[0m\u001b[0mopener\u001b[0m\u001b[1;33m)\u001b[0m\u001b[1;33m:\u001b[0m\u001b[1;33m\u001b[0m\u001b[0m\n",
      "\u001b[1;32m/usr/lib/python2.7/urllib2.pyc\u001b[0m in \u001b[0;36mopen\u001b[1;34m(self, fullurl, data, timeout)\u001b[0m\n\u001b[0;32m    402\u001b[0m             \u001b[0mreq\u001b[0m \u001b[1;33m=\u001b[0m \u001b[0mmeth\u001b[0m\u001b[1;33m(\u001b[0m\u001b[0mreq\u001b[0m\u001b[1;33m)\u001b[0m\u001b[1;33m\u001b[0m\u001b[0m\n\u001b[0;32m    403\u001b[0m \u001b[1;33m\u001b[0m\u001b[0m\n\u001b[1;32m--> 404\u001b[1;33m         \u001b[0mresponse\u001b[0m \u001b[1;33m=\u001b[0m \u001b[0mself\u001b[0m\u001b[1;33m.\u001b[0m\u001b[0m_open\u001b[0m\u001b[1;33m(\u001b[0m\u001b[0mreq\u001b[0m\u001b[1;33m,\u001b[0m \u001b[0mdata\u001b[0m\u001b[1;33m)\u001b[0m\u001b[1;33m\u001b[0m\u001b[0m\n\u001b[0m\u001b[0;32m    405\u001b[0m \u001b[1;33m\u001b[0m\u001b[0m\n\u001b[0;32m    406\u001b[0m         \u001b[1;31m# post-process response\u001b[0m\u001b[1;33m\u001b[0m\u001b[1;33m\u001b[0m\u001b[0m\n",
      "\u001b[1;32m/usr/lib/python2.7/urllib2.pyc\u001b[0m in \u001b[0;36m_open\u001b[1;34m(self, req, data)\u001b[0m\n\u001b[0;32m    420\u001b[0m         \u001b[0mprotocol\u001b[0m \u001b[1;33m=\u001b[0m \u001b[0mreq\u001b[0m\u001b[1;33m.\u001b[0m\u001b[0mget_type\u001b[0m\u001b[1;33m(\u001b[0m\u001b[1;33m)\u001b[0m\u001b[1;33m\u001b[0m\u001b[0m\n\u001b[0;32m    421\u001b[0m         result = self._call_chain(self.handle_open, protocol, protocol +\n\u001b[1;32m--> 422\u001b[1;33m                                   '_open', req)\n\u001b[0m\u001b[0;32m    423\u001b[0m         \u001b[1;32mif\u001b[0m \u001b[0mresult\u001b[0m\u001b[1;33m:\u001b[0m\u001b[1;33m\u001b[0m\u001b[0m\n\u001b[0;32m    424\u001b[0m             \u001b[1;32mreturn\u001b[0m \u001b[0mresult\u001b[0m\u001b[1;33m\u001b[0m\u001b[0m\n",
      "\u001b[1;32m/usr/lib/python2.7/urllib2.pyc\u001b[0m in \u001b[0;36m_call_chain\u001b[1;34m(self, chain, kind, meth_name, *args)\u001b[0m\n\u001b[0;32m    380\u001b[0m             \u001b[0mfunc\u001b[0m \u001b[1;33m=\u001b[0m \u001b[0mgetattr\u001b[0m\u001b[1;33m(\u001b[0m\u001b[0mhandler\u001b[0m\u001b[1;33m,\u001b[0m \u001b[0mmeth_name\u001b[0m\u001b[1;33m)\u001b[0m\u001b[1;33m\u001b[0m\u001b[0m\n\u001b[0;32m    381\u001b[0m \u001b[1;33m\u001b[0m\u001b[0m\n\u001b[1;32m--> 382\u001b[1;33m             \u001b[0mresult\u001b[0m \u001b[1;33m=\u001b[0m \u001b[0mfunc\u001b[0m\u001b[1;33m(\u001b[0m\u001b[1;33m*\u001b[0m\u001b[0margs\u001b[0m\u001b[1;33m)\u001b[0m\u001b[1;33m\u001b[0m\u001b[0m\n\u001b[0m\u001b[0;32m    383\u001b[0m             \u001b[1;32mif\u001b[0m \u001b[0mresult\u001b[0m \u001b[1;32mis\u001b[0m \u001b[1;32mnot\u001b[0m \u001b[0mNone\u001b[0m\u001b[1;33m:\u001b[0m\u001b[1;33m\u001b[0m\u001b[0m\n\u001b[0;32m    384\u001b[0m                 \u001b[1;32mreturn\u001b[0m \u001b[0mresult\u001b[0m\u001b[1;33m\u001b[0m\u001b[0m\n",
      "\u001b[1;32m/usr/lib/python2.7/urllib2.pyc\u001b[0m in \u001b[0;36mhttp_open\u001b[1;34m(self, req)\u001b[0m\n\u001b[0;32m   1212\u001b[0m \u001b[1;33m\u001b[0m\u001b[0m\n\u001b[0;32m   1213\u001b[0m     \u001b[1;32mdef\u001b[0m \u001b[0mhttp_open\u001b[0m\u001b[1;33m(\u001b[0m\u001b[0mself\u001b[0m\u001b[1;33m,\u001b[0m \u001b[0mreq\u001b[0m\u001b[1;33m)\u001b[0m\u001b[1;33m:\u001b[0m\u001b[1;33m\u001b[0m\u001b[0m\n\u001b[1;32m-> 1214\u001b[1;33m         \u001b[1;32mreturn\u001b[0m \u001b[0mself\u001b[0m\u001b[1;33m.\u001b[0m\u001b[0mdo_open\u001b[0m\u001b[1;33m(\u001b[0m\u001b[0mhttplib\u001b[0m\u001b[1;33m.\u001b[0m\u001b[0mHTTPConnection\u001b[0m\u001b[1;33m,\u001b[0m \u001b[0mreq\u001b[0m\u001b[1;33m)\u001b[0m\u001b[1;33m\u001b[0m\u001b[0m\n\u001b[0m\u001b[0;32m   1215\u001b[0m \u001b[1;33m\u001b[0m\u001b[0m\n\u001b[0;32m   1216\u001b[0m     \u001b[0mhttp_request\u001b[0m \u001b[1;33m=\u001b[0m \u001b[0mAbstractHTTPHandler\u001b[0m\u001b[1;33m.\u001b[0m\u001b[0mdo_request_\u001b[0m\u001b[1;33m\u001b[0m\u001b[0m\n",
      "\u001b[1;32m/usr/lib/python2.7/urllib2.pyc\u001b[0m in \u001b[0;36mdo_open\u001b[1;34m(self, http_class, req)\u001b[0m\n\u001b[0;32m   1185\u001b[0m         \u001b[1;32melse\u001b[0m\u001b[1;33m:\u001b[0m\u001b[1;33m\u001b[0m\u001b[0m\n\u001b[0;32m   1186\u001b[0m             \u001b[1;32mtry\u001b[0m\u001b[1;33m:\u001b[0m\u001b[1;33m\u001b[0m\u001b[0m\n\u001b[1;32m-> 1187\u001b[1;33m                 \u001b[0mr\u001b[0m \u001b[1;33m=\u001b[0m \u001b[0mh\u001b[0m\u001b[1;33m.\u001b[0m\u001b[0mgetresponse\u001b[0m\u001b[1;33m(\u001b[0m\u001b[0mbuffering\u001b[0m\u001b[1;33m=\u001b[0m\u001b[0mTrue\u001b[0m\u001b[1;33m)\u001b[0m\u001b[1;33m\u001b[0m\u001b[0m\n\u001b[0m\u001b[0;32m   1188\u001b[0m             \u001b[1;32mexcept\u001b[0m \u001b[0mTypeError\u001b[0m\u001b[1;33m:\u001b[0m \u001b[1;31m# buffering kw not supported\u001b[0m\u001b[1;33m\u001b[0m\u001b[0m\n\u001b[0;32m   1189\u001b[0m                 \u001b[0mr\u001b[0m \u001b[1;33m=\u001b[0m \u001b[0mh\u001b[0m\u001b[1;33m.\u001b[0m\u001b[0mgetresponse\u001b[0m\u001b[1;33m(\u001b[0m\u001b[1;33m)\u001b[0m\u001b[1;33m\u001b[0m\u001b[0m\n",
      "\u001b[1;32m/usr/lib/python2.7/httplib.pyc\u001b[0m in \u001b[0;36mgetresponse\u001b[1;34m(self, buffering)\u001b[0m\n\u001b[0;32m   1049\u001b[0m         \u001b[0mresponse\u001b[0m \u001b[1;33m=\u001b[0m \u001b[0mself\u001b[0m\u001b[1;33m.\u001b[0m\u001b[0mresponse_class\u001b[0m\u001b[1;33m(\u001b[0m\u001b[1;33m*\u001b[0m\u001b[0margs\u001b[0m\u001b[1;33m,\u001b[0m \u001b[1;33m**\u001b[0m\u001b[0mkwds\u001b[0m\u001b[1;33m)\u001b[0m\u001b[1;33m\u001b[0m\u001b[0m\n\u001b[0;32m   1050\u001b[0m \u001b[1;33m\u001b[0m\u001b[0m\n\u001b[1;32m-> 1051\u001b[1;33m         \u001b[0mresponse\u001b[0m\u001b[1;33m.\u001b[0m\u001b[0mbegin\u001b[0m\u001b[1;33m(\u001b[0m\u001b[1;33m)\u001b[0m\u001b[1;33m\u001b[0m\u001b[0m\n\u001b[0m\u001b[0;32m   1052\u001b[0m         \u001b[1;32massert\u001b[0m \u001b[0mresponse\u001b[0m\u001b[1;33m.\u001b[0m\u001b[0mwill_close\u001b[0m \u001b[1;33m!=\u001b[0m \u001b[0m_UNKNOWN\u001b[0m\u001b[1;33m\u001b[0m\u001b[0m\n\u001b[0;32m   1053\u001b[0m         \u001b[0mself\u001b[0m\u001b[1;33m.\u001b[0m\u001b[0m__state\u001b[0m \u001b[1;33m=\u001b[0m \u001b[0m_CS_IDLE\u001b[0m\u001b[1;33m\u001b[0m\u001b[0m\n",
      "\u001b[1;32m/usr/lib/python2.7/httplib.pyc\u001b[0m in \u001b[0;36mbegin\u001b[1;34m(self)\u001b[0m\n\u001b[0;32m    413\u001b[0m         \u001b[1;31m# read until we get a non-100 response\u001b[0m\u001b[1;33m\u001b[0m\u001b[1;33m\u001b[0m\u001b[0m\n\u001b[0;32m    414\u001b[0m         \u001b[1;32mwhile\u001b[0m \u001b[0mTrue\u001b[0m\u001b[1;33m:\u001b[0m\u001b[1;33m\u001b[0m\u001b[0m\n\u001b[1;32m--> 415\u001b[1;33m             \u001b[0mversion\u001b[0m\u001b[1;33m,\u001b[0m \u001b[0mstatus\u001b[0m\u001b[1;33m,\u001b[0m \u001b[0mreason\u001b[0m \u001b[1;33m=\u001b[0m \u001b[0mself\u001b[0m\u001b[1;33m.\u001b[0m\u001b[0m_read_status\u001b[0m\u001b[1;33m(\u001b[0m\u001b[1;33m)\u001b[0m\u001b[1;33m\u001b[0m\u001b[0m\n\u001b[0m\u001b[0;32m    416\u001b[0m             \u001b[1;32mif\u001b[0m \u001b[0mstatus\u001b[0m \u001b[1;33m!=\u001b[0m \u001b[0mCONTINUE\u001b[0m\u001b[1;33m:\u001b[0m\u001b[1;33m\u001b[0m\u001b[0m\n\u001b[0;32m    417\u001b[0m                 \u001b[1;32mbreak\u001b[0m\u001b[1;33m\u001b[0m\u001b[0m\n",
      "\u001b[1;32m/usr/lib/python2.7/httplib.pyc\u001b[0m in \u001b[0;36m_read_status\u001b[1;34m(self)\u001b[0m\n\u001b[0;32m    369\u001b[0m     \u001b[1;32mdef\u001b[0m \u001b[0m_read_status\u001b[0m\u001b[1;33m(\u001b[0m\u001b[0mself\u001b[0m\u001b[1;33m)\u001b[0m\u001b[1;33m:\u001b[0m\u001b[1;33m\u001b[0m\u001b[0m\n\u001b[0;32m    370\u001b[0m         \u001b[1;31m# Initialize with Simple-Response defaults\u001b[0m\u001b[1;33m\u001b[0m\u001b[1;33m\u001b[0m\u001b[0m\n\u001b[1;32m--> 371\u001b[1;33m         \u001b[0mline\u001b[0m \u001b[1;33m=\u001b[0m \u001b[0mself\u001b[0m\u001b[1;33m.\u001b[0m\u001b[0mfp\u001b[0m\u001b[1;33m.\u001b[0m\u001b[0mreadline\u001b[0m\u001b[1;33m(\u001b[0m\u001b[0m_MAXLINE\u001b[0m \u001b[1;33m+\u001b[0m \u001b[1;36m1\u001b[0m\u001b[1;33m)\u001b[0m\u001b[1;33m\u001b[0m\u001b[0m\n\u001b[0m\u001b[0;32m    372\u001b[0m         \u001b[1;32mif\u001b[0m \u001b[0mlen\u001b[0m\u001b[1;33m(\u001b[0m\u001b[0mline\u001b[0m\u001b[1;33m)\u001b[0m \u001b[1;33m>\u001b[0m \u001b[0m_MAXLINE\u001b[0m\u001b[1;33m:\u001b[0m\u001b[1;33m\u001b[0m\u001b[0m\n\u001b[0;32m    373\u001b[0m             \u001b[1;32mraise\u001b[0m \u001b[0mLineTooLong\u001b[0m\u001b[1;33m(\u001b[0m\u001b[1;34m\"header line\"\u001b[0m\u001b[1;33m)\u001b[0m\u001b[1;33m\u001b[0m\u001b[0m\n",
      "\u001b[1;32m/usr/lib/python2.7/socket.pyc\u001b[0m in \u001b[0;36mreadline\u001b[1;34m(self, size)\u001b[0m\n\u001b[0;32m    474\u001b[0m             \u001b[1;32mwhile\u001b[0m \u001b[0mTrue\u001b[0m\u001b[1;33m:\u001b[0m\u001b[1;33m\u001b[0m\u001b[0m\n\u001b[0;32m    475\u001b[0m                 \u001b[1;32mtry\u001b[0m\u001b[1;33m:\u001b[0m\u001b[1;33m\u001b[0m\u001b[0m\n\u001b[1;32m--> 476\u001b[1;33m                     \u001b[0mdata\u001b[0m \u001b[1;33m=\u001b[0m \u001b[0mself\u001b[0m\u001b[1;33m.\u001b[0m\u001b[0m_sock\u001b[0m\u001b[1;33m.\u001b[0m\u001b[0mrecv\u001b[0m\u001b[1;33m(\u001b[0m\u001b[0mself\u001b[0m\u001b[1;33m.\u001b[0m\u001b[0m_rbufsize\u001b[0m\u001b[1;33m)\u001b[0m\u001b[1;33m\u001b[0m\u001b[0m\n\u001b[0m\u001b[0;32m    477\u001b[0m                 \u001b[1;32mexcept\u001b[0m \u001b[0merror\u001b[0m\u001b[1;33m,\u001b[0m \u001b[0me\u001b[0m\u001b[1;33m:\u001b[0m\u001b[1;33m\u001b[0m\u001b[0m\n\u001b[0;32m    478\u001b[0m                     \u001b[1;32mif\u001b[0m \u001b[0me\u001b[0m\u001b[1;33m.\u001b[0m\u001b[0margs\u001b[0m\u001b[1;33m[\u001b[0m\u001b[1;36m0\u001b[0m\u001b[1;33m]\u001b[0m \u001b[1;33m==\u001b[0m \u001b[0mEINTR\u001b[0m\u001b[1;33m:\u001b[0m\u001b[1;33m\u001b[0m\u001b[0m\n",
      "\u001b[1;31mKeyboardInterrupt\u001b[0m: "
     ]
    }
   ],
   "source": [
    "#다시 시작시 파일명 바꾸기\n",
    "with open(\"/home/share/aschoi/data/COCONUT_Herbal/7_Ezyme_tool/predicted_orthology_test_1.tsv\", \"w\") as resultFile:\n",
    "    features = ['substrate', 'product', 'predicted_orthology', 'predicted_score']\n",
    "    resultTsv = csv.DictWriter(resultFile, features, dialect=csv.excel_tab)\n",
    "    resultTsv.writeheader()\n",
    "    #predicted_result = pd.DataFrame()\n",
    "    cnt = 0\n",
    "    url_base = 'http://rest.genome.jp/ezyme/'\n",
    "    print '%d : '% cnt + time.strftime('%a %H:%M:%S')\n",
    "    for index, row in df_query[cnt:].iterrows():\n",
    "        sub = int(row['substrate'])\n",
    "        pro = row['product']\n",
    "        url = url_base + 'CID'+str(sub) +'/' + pro\n",
    "        \n",
    "        MAX_ATTEMPTS = 8\n",
    "        for attempt in range(MAX_ATTEMPTS):\n",
    "            try:\n",
    "                f = urlopen(url)\n",
    "            except urllib2.HTTPError, e:\n",
    "                if e.code == 404:\n",
    "                    print 'HTTPError 404 not found %d : ' % cnt + time.strftime('%a %H:%M:%S')\n",
    "                    print url\n",
    "                    cnt = cnt + 1\n",
    "                    break\n",
    "                else:\n",
    "                    print 'e.code : %d, url : %s, cnt : d' % (e.code, url, cnt)\n",
    "                    raise\n",
    "            except urllib2.URLError, e:\n",
    "                if e.code == 110: # connection time out\n",
    "                    sleep_secs = attempt ** 2\n",
    "                    print 'ERROR: %s. cnt = %d, error time : ' % (e, cnt) + time.strftime('%a %H:%M:%S')\n",
    "                    print url\n",
    "                    print 'Retrying in %d seconds...' % sleep_secs\n",
    "                    time.sleep(sleep_secs)\n",
    "                    continue\n",
    "                else:\n",
    "                    print 'e.code : %d, error message : %s, url : %s, cnt : d' % (e.code, e, url, cnt)\n",
    "                    raise\n",
    "            else:          \n",
    "                all_data = f.readlines()\n",
    "                data = all_data[1].split('\\t')\n",
    "                predicted_orthology = data[1]\n",
    "                predicted_score = data[0]\n",
    "                resultTsv.writerow({'substrate':sub, 'product':pro, 'predicted_orthology' : predicted_orthology, 'predicted_score' : predicted_score})     \n",
    "                #temp_df = pd.DataFrame([[sub, pro, predicted_orthology, predicted_score]], columns = ['substrate', 'product', 'predicted_orthology', 'predicted_score'])\n",
    "                #predicted_result2 = predicted_result2.append(temp_df)\n",
    "                cnt = cnt + 1\n",
    "                break\n",
    "        else:\n",
    "            print 'we failed to reconnect 8 times in %s' % url \n",
    "        \n",
    "        if cnt % 1000 == 0 :\n",
    "            print '%d : '% cnt + time.strftime('%a %H:%M:%S')\n",
    "print time.strftime('%a %H:%M:%S')"
   ]
  },
  {
   "cell_type": "code",
   "execution_count": 47,
   "metadata": {
    "collapsed": false
   },
   "outputs": [
    {
     "data": {
      "text/plain": [
       "776"
      ]
     },
     "execution_count": 47,
     "metadata": {},
     "output_type": "execute_result"
    }
   ],
   "source": [
    "cnt"
   ]
  },
  {
   "cell_type": "code",
   "execution_count": null,
   "metadata": {
    "collapsed": true
   },
   "outputs": [],
   "source": []
  },
  {
   "cell_type": "code",
   "execution_count": null,
   "metadata": {
    "collapsed": true
   },
   "outputs": [],
   "source": []
  },
  {
   "cell_type": "code",
   "execution_count": null,
   "metadata": {
    "collapsed": true
   },
   "outputs": [],
   "source": [
    "for index, row in df_query[cnt:].iterrows():\n",
    "        sub = int(row['substrate'])\n",
    "        pro = row['product']\n",
    "        url = url_base + 'CID'+str(sub) +'/' + pro\n",
    "    \n",
    "\n",
    "        for attempt in range(MAX_ATTEMPTS):\n",
    "                try:\n",
    "                    f = urlopen(url)\n",
    "                except urllib2.HTTPError, e:\n",
    "                    if e.code == 404:\n",
    "                        print 'HTTPError 404 not found %d : ' % cnt + time.strftime('%a %H:%M:%S')\n",
    "                        print url\n",
    "                        cnt = cnt + 1\n",
    "                        break\n",
    "                    else:\n",
    "                        print 'e.code : %d, url : %s, cnt : d' % (e.code, url, cnt)\n",
    "                        raise\n",
    "                except urllib2.URLError, e:\n",
    "                    if e.code == 110: # connection time out\n",
    "                        sleep_secs = attempt ** 2\n",
    "                        print 'ERROR: %s. cnt = %d, error time : ' % (e, cnt) + time.strftime('%a %H:%M:%S')\n",
    "                        print url\n",
    "                        print 'Retrying in %d seconds...' % sleep_secs\n",
    "                        time.sleep(sleep_secs)\n",
    "                        continue\n",
    "                    else:\n",
    "                        print 'e.code : %d, error message : %s, url : %s, cnt : d' % (e.code, e, url, cnt)\n",
    "                        raise\n",
    "                else:          \n",
    "                    all_data = f.readlines()\n",
    "                    data = all_data[1].split('\\t')\n",
    "                    predicted_orthology = data[1]\n",
    "                    predicted_score = data[0]\n",
    "                    resultTsv.writerow({'substrate':sub, 'product':pro, 'predicted_orthology' : predicted_orthology, 'predicted_score' : predicted_score})     \n",
    "                    #temp_df = pd.DataFrame([[sub, pro, predicted_orthology, predicted_score]], columns = ['substrate', 'product', 'predicted_orthology', 'predicted_score'])\n",
    "                    #predicted_result2 = predicted_result2.append(temp_df)\n",
    "                    cnt = cnt + 1\n",
    "                    break\n",
    "        else:\n",
    "            print 'we failed to reconnect 8 times in %s' % url \n",
    "        \n",
    "        if cnt % 1000 == 0 :\n",
    "            print '%d : '% cnt + time.strftime('%a %H:%M:%S')"
   ]
  },
  {
   "cell_type": "code",
   "execution_count": null,
   "metadata": {
    "collapsed": true
   },
   "outputs": [],
   "source": []
  },
  {
   "cell_type": "code",
   "execution_count": null,
   "metadata": {
    "collapsed": true
   },
   "outputs": [],
   "source": []
  },
  {
   "cell_type": "code",
   "execution_count": 37,
   "metadata": {
    "collapsed": false
   },
   "outputs": [
    {
     "name": "stdout",
     "output_type": "stream",
     "text": [
      "error\n"
     ]
    },
    {
     "ename": "HTTPError",
     "evalue": "HTTP Error 404: Not Found",
     "output_type": "error",
     "traceback": [
      "\u001b[1;31m---------------------------------------------------------------------------\u001b[0m",
      "\u001b[1;31mHTTPError\u001b[0m                                 Traceback (most recent call last)",
      "\u001b[1;32m<ipython-input-37-92278fa497c3>\u001b[0m in \u001b[0;36m<module>\u001b[1;34m()\u001b[0m\n\u001b[0;32m     14\u001b[0m         \u001b[1;32mif\u001b[0m \u001b[0me\u001b[0m\u001b[1;33m.\u001b[0m\u001b[0mcode\u001b[0m \u001b[1;33m==\u001b[0m \u001b[1;36m404\u001b[0m\u001b[1;33m:\u001b[0m\u001b[1;33m\u001b[0m\u001b[0m\n\u001b[0;32m     15\u001b[0m             \u001b[1;32mprint\u001b[0m\u001b[1;34m\"error\"\u001b[0m\u001b[1;33m\u001b[0m\u001b[0m\n\u001b[1;32m---> 16\u001b[1;33m             \u001b[0ma\u001b[0m \u001b[1;33m=\u001b[0m \u001b[0murlopen\u001b[0m\u001b[1;33m(\u001b[0m\u001b[0murl\u001b[0m\u001b[1;33m)\u001b[0m\u001b[1;33m\u001b[0m\u001b[0m\n\u001b[0m\u001b[0;32m     17\u001b[0m             \u001b[0maa\u001b[0m \u001b[1;33m=\u001b[0m \u001b[0ma\u001b[0m\u001b[1;33m.\u001b[0m\u001b[0mreadlines\u001b[0m\u001b[1;33m(\u001b[0m\u001b[1;33m)\u001b[0m\u001b[1;33m\u001b[0m\u001b[0m\n\u001b[0;32m     18\u001b[0m             \u001b[0maaa\u001b[0m \u001b[1;33m=\u001b[0m \u001b[0maa\u001b[0m\u001b[1;33m[\u001b[0m\u001b[1;36m1\u001b[0m\u001b[1;33m]\u001b[0m\u001b[1;33m.\u001b[0m\u001b[0msplit\u001b[0m\u001b[1;33m(\u001b[0m\u001b[1;34m'\\t'\u001b[0m\u001b[1;33m)\u001b[0m\u001b[1;33m\u001b[0m\u001b[0m\n",
      "\u001b[1;32m/usr/lib/python2.7/urllib2.pyc\u001b[0m in \u001b[0;36murlopen\u001b[1;34m(url, data, timeout)\u001b[0m\n\u001b[0;32m    125\u001b[0m     \u001b[1;32mif\u001b[0m \u001b[0m_opener\u001b[0m \u001b[1;32mis\u001b[0m \u001b[0mNone\u001b[0m\u001b[1;33m:\u001b[0m\u001b[1;33m\u001b[0m\u001b[0m\n\u001b[0;32m    126\u001b[0m         \u001b[0m_opener\u001b[0m \u001b[1;33m=\u001b[0m \u001b[0mbuild_opener\u001b[0m\u001b[1;33m(\u001b[0m\u001b[1;33m)\u001b[0m\u001b[1;33m\u001b[0m\u001b[0m\n\u001b[1;32m--> 127\u001b[1;33m     \u001b[1;32mreturn\u001b[0m \u001b[0m_opener\u001b[0m\u001b[1;33m.\u001b[0m\u001b[0mopen\u001b[0m\u001b[1;33m(\u001b[0m\u001b[0murl\u001b[0m\u001b[1;33m,\u001b[0m \u001b[0mdata\u001b[0m\u001b[1;33m,\u001b[0m \u001b[0mtimeout\u001b[0m\u001b[1;33m)\u001b[0m\u001b[1;33m\u001b[0m\u001b[0m\n\u001b[0m\u001b[0;32m    128\u001b[0m \u001b[1;33m\u001b[0m\u001b[0m\n\u001b[0;32m    129\u001b[0m \u001b[1;32mdef\u001b[0m \u001b[0minstall_opener\u001b[0m\u001b[1;33m(\u001b[0m\u001b[0mopener\u001b[0m\u001b[1;33m)\u001b[0m\u001b[1;33m:\u001b[0m\u001b[1;33m\u001b[0m\u001b[0m\n",
      "\u001b[1;32m/usr/lib/python2.7/urllib2.pyc\u001b[0m in \u001b[0;36mopen\u001b[1;34m(self, fullurl, data, timeout)\u001b[0m\n\u001b[0;32m    408\u001b[0m         \u001b[1;32mfor\u001b[0m \u001b[0mprocessor\u001b[0m \u001b[1;32min\u001b[0m \u001b[0mself\u001b[0m\u001b[1;33m.\u001b[0m\u001b[0mprocess_response\u001b[0m\u001b[1;33m.\u001b[0m\u001b[0mget\u001b[0m\u001b[1;33m(\u001b[0m\u001b[0mprotocol\u001b[0m\u001b[1;33m,\u001b[0m \u001b[1;33m[\u001b[0m\u001b[1;33m]\u001b[0m\u001b[1;33m)\u001b[0m\u001b[1;33m:\u001b[0m\u001b[1;33m\u001b[0m\u001b[0m\n\u001b[0;32m    409\u001b[0m             \u001b[0mmeth\u001b[0m \u001b[1;33m=\u001b[0m \u001b[0mgetattr\u001b[0m\u001b[1;33m(\u001b[0m\u001b[0mprocessor\u001b[0m\u001b[1;33m,\u001b[0m \u001b[0mmeth_name\u001b[0m\u001b[1;33m)\u001b[0m\u001b[1;33m\u001b[0m\u001b[0m\n\u001b[1;32m--> 410\u001b[1;33m             \u001b[0mresponse\u001b[0m \u001b[1;33m=\u001b[0m \u001b[0mmeth\u001b[0m\u001b[1;33m(\u001b[0m\u001b[0mreq\u001b[0m\u001b[1;33m,\u001b[0m \u001b[0mresponse\u001b[0m\u001b[1;33m)\u001b[0m\u001b[1;33m\u001b[0m\u001b[0m\n\u001b[0m\u001b[0;32m    411\u001b[0m \u001b[1;33m\u001b[0m\u001b[0m\n\u001b[0;32m    412\u001b[0m         \u001b[1;32mreturn\u001b[0m \u001b[0mresponse\u001b[0m\u001b[1;33m\u001b[0m\u001b[0m\n",
      "\u001b[1;32m/usr/lib/python2.7/urllib2.pyc\u001b[0m in \u001b[0;36mhttp_response\u001b[1;34m(self, request, response)\u001b[0m\n\u001b[0;32m    521\u001b[0m         \u001b[1;32mif\u001b[0m \u001b[1;32mnot\u001b[0m \u001b[1;33m(\u001b[0m\u001b[1;36m200\u001b[0m \u001b[1;33m<=\u001b[0m \u001b[0mcode\u001b[0m \u001b[1;33m<\u001b[0m \u001b[1;36m300\u001b[0m\u001b[1;33m)\u001b[0m\u001b[1;33m:\u001b[0m\u001b[1;33m\u001b[0m\u001b[0m\n\u001b[0;32m    522\u001b[0m             response = self.parent.error(\n\u001b[1;32m--> 523\u001b[1;33m                 'http', request, response, code, msg, hdrs)\n\u001b[0m\u001b[0;32m    524\u001b[0m \u001b[1;33m\u001b[0m\u001b[0m\n\u001b[0;32m    525\u001b[0m         \u001b[1;32mreturn\u001b[0m \u001b[0mresponse\u001b[0m\u001b[1;33m\u001b[0m\u001b[0m\n",
      "\u001b[1;32m/usr/lib/python2.7/urllib2.pyc\u001b[0m in \u001b[0;36merror\u001b[1;34m(self, proto, *args)\u001b[0m\n\u001b[0;32m    446\u001b[0m         \u001b[1;32mif\u001b[0m \u001b[0mhttp_err\u001b[0m\u001b[1;33m:\u001b[0m\u001b[1;33m\u001b[0m\u001b[0m\n\u001b[0;32m    447\u001b[0m             \u001b[0margs\u001b[0m \u001b[1;33m=\u001b[0m \u001b[1;33m(\u001b[0m\u001b[0mdict\u001b[0m\u001b[1;33m,\u001b[0m \u001b[1;34m'default'\u001b[0m\u001b[1;33m,\u001b[0m \u001b[1;34m'http_error_default'\u001b[0m\u001b[1;33m)\u001b[0m \u001b[1;33m+\u001b[0m \u001b[0morig_args\u001b[0m\u001b[1;33m\u001b[0m\u001b[0m\n\u001b[1;32m--> 448\u001b[1;33m             \u001b[1;32mreturn\u001b[0m \u001b[0mself\u001b[0m\u001b[1;33m.\u001b[0m\u001b[0m_call_chain\u001b[0m\u001b[1;33m(\u001b[0m\u001b[1;33m*\u001b[0m\u001b[0margs\u001b[0m\u001b[1;33m)\u001b[0m\u001b[1;33m\u001b[0m\u001b[0m\n\u001b[0m\u001b[0;32m    449\u001b[0m \u001b[1;33m\u001b[0m\u001b[0m\n\u001b[0;32m    450\u001b[0m \u001b[1;31m# XXX probably also want an abstract factory that knows when it makes\u001b[0m\u001b[1;33m\u001b[0m\u001b[1;33m\u001b[0m\u001b[0m\n",
      "\u001b[1;32m/usr/lib/python2.7/urllib2.pyc\u001b[0m in \u001b[0;36m_call_chain\u001b[1;34m(self, chain, kind, meth_name, *args)\u001b[0m\n\u001b[0;32m    380\u001b[0m             \u001b[0mfunc\u001b[0m \u001b[1;33m=\u001b[0m \u001b[0mgetattr\u001b[0m\u001b[1;33m(\u001b[0m\u001b[0mhandler\u001b[0m\u001b[1;33m,\u001b[0m \u001b[0mmeth_name\u001b[0m\u001b[1;33m)\u001b[0m\u001b[1;33m\u001b[0m\u001b[0m\n\u001b[0;32m    381\u001b[0m \u001b[1;33m\u001b[0m\u001b[0m\n\u001b[1;32m--> 382\u001b[1;33m             \u001b[0mresult\u001b[0m \u001b[1;33m=\u001b[0m \u001b[0mfunc\u001b[0m\u001b[1;33m(\u001b[0m\u001b[1;33m*\u001b[0m\u001b[0margs\u001b[0m\u001b[1;33m)\u001b[0m\u001b[1;33m\u001b[0m\u001b[0m\n\u001b[0m\u001b[0;32m    383\u001b[0m             \u001b[1;32mif\u001b[0m \u001b[0mresult\u001b[0m \u001b[1;32mis\u001b[0m \u001b[1;32mnot\u001b[0m \u001b[0mNone\u001b[0m\u001b[1;33m:\u001b[0m\u001b[1;33m\u001b[0m\u001b[0m\n\u001b[0;32m    384\u001b[0m                 \u001b[1;32mreturn\u001b[0m \u001b[0mresult\u001b[0m\u001b[1;33m\u001b[0m\u001b[0m\n",
      "\u001b[1;32m/usr/lib/python2.7/urllib2.pyc\u001b[0m in \u001b[0;36mhttp_error_default\u001b[1;34m(self, req, fp, code, msg, hdrs)\u001b[0m\n\u001b[0;32m    529\u001b[0m \u001b[1;32mclass\u001b[0m \u001b[0mHTTPDefaultErrorHandler\u001b[0m\u001b[1;33m(\u001b[0m\u001b[0mBaseHandler\u001b[0m\u001b[1;33m)\u001b[0m\u001b[1;33m:\u001b[0m\u001b[1;33m\u001b[0m\u001b[0m\n\u001b[0;32m    530\u001b[0m     \u001b[1;32mdef\u001b[0m \u001b[0mhttp_error_default\u001b[0m\u001b[1;33m(\u001b[0m\u001b[0mself\u001b[0m\u001b[1;33m,\u001b[0m \u001b[0mreq\u001b[0m\u001b[1;33m,\u001b[0m \u001b[0mfp\u001b[0m\u001b[1;33m,\u001b[0m \u001b[0mcode\u001b[0m\u001b[1;33m,\u001b[0m \u001b[0mmsg\u001b[0m\u001b[1;33m,\u001b[0m \u001b[0mhdrs\u001b[0m\u001b[1;33m)\u001b[0m\u001b[1;33m:\u001b[0m\u001b[1;33m\u001b[0m\u001b[0m\n\u001b[1;32m--> 531\u001b[1;33m         \u001b[1;32mraise\u001b[0m \u001b[0mHTTPError\u001b[0m\u001b[1;33m(\u001b[0m\u001b[0mreq\u001b[0m\u001b[1;33m.\u001b[0m\u001b[0mget_full_url\u001b[0m\u001b[1;33m(\u001b[0m\u001b[1;33m)\u001b[0m\u001b[1;33m,\u001b[0m \u001b[0mcode\u001b[0m\u001b[1;33m,\u001b[0m \u001b[0mmsg\u001b[0m\u001b[1;33m,\u001b[0m \u001b[0mhdrs\u001b[0m\u001b[1;33m,\u001b[0m \u001b[0mfp\u001b[0m\u001b[1;33m)\u001b[0m\u001b[1;33m\u001b[0m\u001b[0m\n\u001b[0m\u001b[0;32m    532\u001b[0m \u001b[1;33m\u001b[0m\u001b[0m\n\u001b[0;32m    533\u001b[0m \u001b[1;32mclass\u001b[0m \u001b[0mHTTPRedirectHandler\u001b[0m\u001b[1;33m(\u001b[0m\u001b[0mBaseHandler\u001b[0m\u001b[1;33m)\u001b[0m\u001b[1;33m:\u001b[0m\u001b[1;33m\u001b[0m\u001b[0m\n",
      "\u001b[1;31mHTTPError\u001b[0m: HTTP Error 404: Not Found"
     ]
    }
   ],
   "source": [
    "cnt = 0\n",
    "url_list = ['http://rest.genome.jp/ezyme/CID104745/C17238', 'http://rest.genome.jp/ezyme/CID5281127/C14825',\n",
    "            'http://rest.genome.jp/ezyme/CID104745/C20258', 'http://rest.genome.jp/ezyme/CID4409936/C07086',\n",
    "           'http://rest.genome.jp/ezyme/CID11993858/C03758']\n",
    "temp = []\n",
    "for url in url_list:\n",
    "    try:\n",
    "        a = urlopen(url)\n",
    "        aa = a.readlines()\n",
    "        aaa = aa[1].split('\\t')\n",
    "        temp.append((url,aaa[1]))\n",
    "        cnt = cnt + 1\n",
    "    except urllib2.HTTPError, e:\n",
    "        if e.code == 404:\n",
    "            print\"error\"\n",
    "            a = urlopen(url)\n",
    "            aa = a.readlines()\n",
    "            aaa = aa[1].split('\\t')\n",
    "            temp.append((url,aaa[1]))\n",
    "            cnt = cnt + 1\n",
    "            continue"
   ]
  },
  {
   "cell_type": "code",
   "execution_count": 29,
   "metadata": {
    "collapsed": false
   },
   "outputs": [
    {
     "data": {
      "text/plain": [
       "'http://rest.genome.jp/ezyme/CID104745/C17238'"
      ]
     },
     "execution_count": 29,
     "metadata": {},
     "output_type": "execute_result"
    }
   ],
   "source": [
    "url"
   ]
  },
  {
   "cell_type": "code",
   "execution_count": 33,
   "metadata": {
    "collapsed": false
   },
   "outputs": [
    {
     "data": {
      "text/plain": [
       "<addinfourl at 140605074756672 whose fp = <socket._fileobject object at 0x7fe12b855ad0>>"
      ]
     },
     "execution_count": 33,
     "metadata": {},
     "output_type": "execute_result"
    }
   ],
   "source": [
    "a"
   ]
  },
  {
   "cell_type": "code",
   "execution_count": 35,
   "metadata": {
    "collapsed": false
   },
   "outputs": [
    {
     "data": {
      "text/plain": [
       "[('http://rest.genome.jp/ezyme/CID104745/C17238', 'K11819'),\n",
       " ('http://rest.genome.jp/ezyme/CID5281127/C14825', 'K07418'),\n",
       " ('http://rest.genome.jp/ezyme/CID104745/C20258', 'K01714')]"
      ]
     },
     "execution_count": 35,
     "metadata": {},
     "output_type": "execute_result"
    }
   ],
   "source": [
    "temp"
   ]
  },
  {
   "cell_type": "code",
   "execution_count": 36,
   "metadata": {
    "collapsed": false
   },
   "outputs": [
    {
     "data": {
      "text/plain": [
       "3"
      ]
     },
     "execution_count": 36,
     "metadata": {},
     "output_type": "execute_result"
    }
   ],
   "source": [
    "cnt"
   ]
  },
  {
   "cell_type": "code",
   "execution_count": null,
   "metadata": {
    "collapsed": true
   },
   "outputs": [],
   "source": []
  }
 ],
 "metadata": {
  "kernelspec": {
   "display_name": "Python 2",
   "language": "python",
   "name": "python2"
  },
  "language_info": {
   "codemirror_mode": {
    "name": "ipython",
    "version": 2
   },
   "file_extension": ".py",
   "mimetype": "text/x-python",
   "name": "python",
   "nbconvert_exporter": "python",
   "pygments_lexer": "ipython2",
   "version": "2.7.6"
  }
 },
 "nbformat": 4,
 "nbformat_minor": 0
}
