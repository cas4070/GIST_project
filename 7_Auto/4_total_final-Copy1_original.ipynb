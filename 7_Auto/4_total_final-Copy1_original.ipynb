{
 "cells": [
  {
   "cell_type": "code",
   "execution_count": 1,
   "metadata": {
    "collapsed": true
   },
   "outputs": [],
   "source": [
    "import csv\n",
    "from itertools import product\n",
    "import numpy as np\n",
    "import os\n",
    "import pandas as pd\n",
    "import requests\n",
    "import time\n",
    "from urllib2 import urlopen\n",
    "import urllib2"
   ]
  },
  {
   "cell_type": "code",
   "execution_count": 2,
   "metadata": {
    "collapsed": false
   },
   "outputs": [],
   "source": [
    "#open files\n",
    "df_raw_herb_hmdb_pair = pd.read_csv('/home/share/aschoi/data/COCONUT_Herbal/5_Similarity/7_sorted_score_vector_except_1(descending)_top_10_percent_no_score.csv', header=None)\n",
    "df_hmdb = pd.read_table('/home/share/aschoi/data/COCONUT_Herbal/4_HMDB/HMDB_KEGG.tsv')\n",
    "df_herb = pd.read_table('/home/share/aschoi/data/COCONUT_Herbal/7_Ezyme_tool/2-5_herb_pubchem.tsv')\n",
    "df_kegg_rpair = pd.read_table('/home/share/aschoi/data/COCONUT_Herbal/1_KEGG_rpair/KEGG_Rpair.txt')\n",
    "df_orthology = pd.read_table('/home/share/aschoi/data/COCONUT_Herbal/7_Ezyme_tool/3_all_predicted_orthology_wo_duplicate.tsv')"
   ]
  },
  {
   "cell_type": "code",
   "execution_count": 6,
   "metadata": {
    "collapsed": false,
    "scrolled": true
   },
   "outputs": [
    {
     "data": {
      "text/html": [
       "<div>\n",
       "<table border=\"1\" class=\"dataframe\">\n",
       "  <thead>\n",
       "    <tr style=\"text-align: right;\">\n",
       "      <th></th>\n",
       "      <th>0</th>\n",
       "      <th>1</th>\n",
       "    </tr>\n",
       "  </thead>\n",
       "  <tbody>\n",
       "    <tr>\n",
       "      <th>0</th>\n",
       "      <td>80303</td>\n",
       "      <td>HMDB37761</td>\n",
       "    </tr>\n",
       "  </tbody>\n",
       "</table>\n",
       "</div>"
      ],
      "text/plain": [
       "       0          1\n",
       "0  80303  HMDB37761"
      ]
     },
     "execution_count": 6,
     "metadata": {},
     "output_type": "execute_result"
    }
   ],
   "source": [
    "df_raw_herb_hmdb_pair.head(1)"
   ]
  },
  {
   "cell_type": "code",
   "execution_count": 9,
   "metadata": {
    "collapsed": false
   },
   "outputs": [],
   "source": [
    "# extract elements of top percentage.\n",
    "def count_percentage(percentage):\n",
    "    print\"Count the number of top %.2f %% similar compounds..\" % percentage\n",
    "    WHOLE_LENGTH = 646647053\n",
    "    prepared_idx = 0\n",
    "    percentage_idx = int(WHOLE_LENGTH * percentage / 100)\n",
    "    \n",
    "    if percentage <= 0.1 and percentage > 0 :\n",
    "        df_top_herb_hmdb_pair = df_raw_herb_hmdb_pair[:percentage_idx]\n",
    "        connect = 0\n",
    "        print \"There are %d similar compounds.\" % (prepared_idx + percentage_idx)\n",
    "    elif percentage == 0 or percentage > 10 :\n",
    "        #if percentage > 10 :\n",
    "            #print(\"Input percentage is too big. Count just Top 10%.\")\n",
    "        #else percentage == 0 :\n",
    "            #print(\"Input percentage is not valid.\")\n",
    "        df_top_herb_hmdb_pair = pd.DataFrame()\n",
    "        connect = 1\n",
    "    else :\n",
    "        prepared_idx = int(WHOLE_LENGTH * 0.1 / 100)\n",
    "        df_top_herb_hmdb_pair = df_raw_herb_hmdb_pair[prepared_idx+1:percentage_idx]\n",
    "        connect = 2\n",
    "        print \"There are %d similar compounds.\" % (prepared_idx + percentage_idx)\n",
    "    return connect, df_top_herb_hmdb_pair"
   ]
  },
  {
   "cell_type": "code",
   "execution_count": 10,
   "metadata": {
    "collapsed": true
   },
   "outputs": [],
   "source": [
    "#top herb id, top hmdb id\n",
    "#def extract_top_id(df_top_herb_hmdb_pair):\n",
    "#    top_herb = list()\n",
    "#    top_hmdb = list()\n",
    "#    for i in top_herb_hmdb_pair:\n",
    "#        top_herb.append(int(i[0]))\n",
    "#        top_hmdb.append(i[1].rstrip('\\r\\n'))\n",
    "#    print(\"extract_top_ids\")\n",
    "#    return top_herb, top_hmdb"
   ]
  },
  {
   "cell_type": "code",
   "execution_count": 11,
   "metadata": {
    "collapsed": true
   },
   "outputs": [],
   "source": [
    "def find_keggid_of_hmdb(df_hmdb, top_hmdb):\n",
    "    # The flag is used to find the KEGG ID of top_similar_hmdb.\n",
    "    flag_find_keggid_of_top_hmdb = df_hmdb['Accession'].isin(top_hmdb)\n",
    "\n",
    "    # This dataframe represents the pair of top hmdb id and its KEGG ID.\n",
    "    # This information is used when find the substrate of KEGG rpair which correspond to the top_hmdb.\n",
    "    df_top_hmdb_keggid_pair = df_hmdb[flag_find_keggid_of_top_hmdb][['Accession', 'KEGG_ID']]\n",
    "    print(\"Find kegg id of hmdb\")\n",
    "    return df_top_hmdb_keggid_pair"
   ]
  },
  {
   "cell_type": "code",
   "execution_count": 12,
   "metadata": {
    "collapsed": true
   },
   "outputs": [],
   "source": [
    "def find_pubchemid_of_herb(df_herb, top_herb):\n",
    "    # The flag is used to find the PubChem ID of top_herb.\n",
    "    flag_find_pubchemid_of_top_herb = df_herb['compID'].isin(top_herb)\n",
    "\n",
    "    # This dataframe represents the pair of top herb id and its PubChem ID.\n",
    "    # Using this information, we can predict the orphan herbs' ontology.\n",
    "    # One pubchem id of herb becomes the input substrate of KEGG E-zyme2 tool.\n",
    "    df_top_herb_pubchemid_pair = df_herb[flag_find_pubchemid_of_top_herb][['compID', 'pubchemID']]\n",
    "    print(\"find pubchemid of herb\")\n",
    "    return df_top_herb_pubchemid_pair"
   ]
  },
  {
   "cell_type": "code",
   "execution_count": 13,
   "metadata": {
    "collapsed": true
   },
   "outputs": [],
   "source": [
    "# Find the rpairs whose substrate is same to the top_hmdb.\n",
    "# The pair is represented by only KEGG ID. (NOT hmdb_id.)\n",
    "def find_kegg_rpair_of_hmdb_sub(df_kegg_rpair, df_top_hmdb_keggid_pair):\n",
    "    flag_find_rpair_of_top_hmdb_sub = df_kegg_rpair['Compound1'].isin(df_top_hmdb_keggid_pair['KEGG_ID']) \n",
    "\n",
    "    # This dataframe consist of KEGG ID.\n",
    "    df_rpair_of_top_hmdb_sub_k = df_kegg_rpair[flag_find_rpair_of_top_hmdb_sub]\n",
    "    print(\"find kegg rpair of hmdb sub\")\n",
    "    return df_rpair_of_top_hmdb_sub_k"
   ]
  },
  {
   "cell_type": "code",
   "execution_count": 14,
   "metadata": {
    "collapsed": true
   },
   "outputs": [],
   "source": [
    "# Find the part of top_hmdb. \n",
    "# It have KEGG ID which corresponds to the substrate of KEGG rpair.\n",
    "# Why need this process? \n",
    "# Because we don't have the pair of the kegg_id version substrate(although it corresponds to the top_hmdb!) and top_hmdb id.\n",
    "\n",
    "def find_keggid_of_top_hmdb2(df_top_hmdb_keggid_pair, df_rpair_of_top_hmdb_sub_k):\n",
    "\n",
    "    flag_find_hmdbid_of_top_hmdb_sub = df_top_hmdb_keggid_pair['KEGG_ID'].isin(df_rpair_of_top_hmdb_sub_k['Compound1'])\n",
    "    df_top_hmdb_of_sub = df_top_hmdb_keggid_pair[flag_find_hmdbid_of_top_hmdb_sub]\n",
    "    print(\"find keggid of top hmdb2\")\n",
    "    return df_top_hmdb_of_sub"
   ]
  },
  {
   "cell_type": "code",
   "execution_count": 15,
   "metadata": {
    "collapsed": true
   },
   "outputs": [],
   "source": [
    "# Find the pair of top_hmdb and top_herb.\n",
    "# The top_hmdb is the substrate of the KEGG rpair.\n",
    "# The top_herb is the similar herbal compounds of the top_hmdb.\n",
    "def find_candidate_substrate(df_top_herb_hmdb_pair, df_top_hmdb_of_sub):\n",
    "    flag_find_sim_herb_of_hmdb_sub = df_top_herb_hmdb_pair['Accession'].isin(df_top_hmdb_of_sub['Accession'])\n",
    "    df_sim_herb_of_hmdb_sub = df_top_herb_hmdb_pair[flag_find_sim_herb_of_hmdb_sub]\n",
    "    df_candidate_sub = pd.merge(df_top_hmdb_of_sub, df_sim_herb_of_hmdb_sub, how = 'inner', on = ['Accession', 'Accession'])\n",
    "    print(\"find candidate substrate\")\n",
    "    return df_candidate_sub"
   ]
  },
  {
   "cell_type": "code",
   "execution_count": 16,
   "metadata": {
    "collapsed": true
   },
   "outputs": [],
   "source": [
    "# Make the pair of herb(used to be substrate) and product.\n",
    "# If the pair will exist in the prepared orthology table, just show the predicted_result.\n",
    "# Unless the pair will not exist in the prepared table, we have to crawl the predicted reusult from KEGG E-zyme2 webpage.\n",
    "def query_list(df_candidate_sub, df_rpair_of_top_hmdb_sub_k):\n",
    "    s_candidate_keggid = df_candidate_sub['KEGG_ID'].drop_duplicates()\n",
    "    df_query = pd.DataFrame()\n",
    "    for i in s_candidate_keggid:\n",
    "        df_candidate_sub_part = df_candidate_sub[df_candidate_sub.KEGG_ID == i]\n",
    "        df_candidate_pro_part = df_rpair_of_top_hmdb_sub_k[df_rpair_of_top_hmdb_sub_k.Compound1 == i]\n",
    "        s_candidate_sub_part = df_candidate_sub_part['compID']\n",
    "        s_candidate_pro_part = df_candidate_pro_part['Compound2']\n",
    "        temp_df = pd.DataFrame(list(product(s_candidate_sub_part, s_candidate_pro_part)), columns = ['substrate', 'product'])\n",
    "        df_query = df_query.append(temp_df)\n",
    "    df_query.index = range(0, len(df_query))\n",
    "    print(\"make query list\")\n",
    "    return df_query"
   ]
  },
  {
   "cell_type": "code",
   "execution_count": 17,
   "metadata": {
    "collapsed": false
   },
   "outputs": [
    {
     "data": {
      "text/plain": [
       "'Wed 21:49:29'"
      ]
     },
     "execution_count": 17,
     "metadata": {},
     "output_type": "execute_result"
    }
   ],
   "source": [
    "time.strftime('%a %H:%M:%S')"
   ]
  },
  {
   "cell_type": "code",
   "execution_count": 18,
   "metadata": {
    "collapsed": true
   },
   "outputs": [],
   "source": [
    "def match_query_result(df_query, df_orthology):\n",
    "    print(\"start match query result : \" + time.strftime('%a %H:%M:%S'))\n",
    "    predict_result = pd.DataFrame()\n",
    "    for index, row in df_query.iterrows():\n",
    "        query = row.tolist()\n",
    "        result = df_orthology.query('@query[0] == substrate and @query[1] == product')\n",
    "        predict_result = predict_result.append(result)\n",
    "        #predict_result.index = range(0, len(predict_result))\n",
    "    print(\"end match query result\" + time.strftime('%a %H:%M:%S'))\n",
    "    return predict_result"
   ]
  },
  {
   "cell_type": "code",
   "execution_count": 19,
   "metadata": {
    "collapsed": true
   },
   "outputs": [],
   "source": [
    "#def make_query_list(top_herb, top_hmdb):\n",
    "def make_query_list(df_top_herb_hmdb_pair):\n",
    "    \n",
    "    # Dataframe of top_herb_hmdb_pair\n",
    "    #df_top_herb_hmdb_pair = pd.DataFrame({'Accession':top_hmdb, 'compID' :top_herb})\n",
    "    df_top_herb_hmdb_pair.rename(columns={0:'compID', 1:'Accession'})\n",
    "    \n",
    "    # Find the KEGG ID of top_hmdb.\n",
    "    df_top_hmdb_keggid_pair = find_keggid_of_hmdb(df_hmdb, top_hmdb)\n",
    "    \n",
    "    # Find the PubChem ID of top_herb.\n",
    "    df_top_herb_pubchemid_pair = find_pubchemid_of_herb(df_herb, top_herb)\n",
    "    \n",
    "    # Find the rpairs whose substrate is same to the top_hmdb.\n",
    "    df_rpair_of_top_hmdb_sub_k = find_kegg_rpair_of_hmdb_sub(df_kegg_rpair, df_top_hmdb_keggid_pair)\n",
    "    \n",
    "    # Find the part of top_hmdb. \n",
    "    df_top_hmdb_of_sub = find_keggid_of_top_hmdb2(df_top_hmdb_keggid_pair, df_rpair_of_top_hmdb_sub_k)\n",
    "    \n",
    "    # Find the pair of top_hmdb and top_herb.\n",
    "    df_candidate_sub = find_candidate_substrate(df_top_herb_hmdb_pair, df_top_hmdb_of_sub)\n",
    "    \n",
    "    # Make the pair of herb(used to be substrate) and product.\n",
    "    df_query = query_list(df_candidate_sub, df_rpair_of_top_hmdb_sub_k)\n",
    "    \n",
    "    return df_query"
   ]
  },
  {
   "cell_type": "code",
   "execution_count": 20,
   "metadata": {
    "collapsed": true
   },
   "outputs": [],
   "source": [
    "def web_ezyme2(df_query):\n",
    "    \n",
    "    print \"the number of crawling pair : %d \" % len(df_query)\n",
    "    predicted_result2 = pd.DataFrame()\n",
    "    cnt = 0 \n",
    "    url_base = 'http://rest.genome.jp/ezyme/'\n",
    "    \n",
    "    for index, row in df_query[cnt:].iterrows():\n",
    "        sub = int(row['substrate'])\n",
    "        pro = row['product']\n",
    "        url = url_base + 'CID'+str(sub) +'/' + pro\n",
    "        \n",
    "        try:\n",
    "            f = urlopen(url)\n",
    "            all_data = f.readlines()\n",
    "            data = all_data[1].split('\\t')\n",
    "            predicted_orthology = data[1]\n",
    "            predicted_score = data[0]\n",
    "        \n",
    "            temp_df = pd.DataFrame([[sub, pro, predicted_orthology, predicted_score]], columns = ['substrate', 'product', 'predicted_orthology', 'predicted_score'])\n",
    "            predicted_result2 = predicted_result2.append(temp_df)\n",
    "        \n",
    "        except urllib2.HTTPError, e:\n",
    "            cnt = cnt + 1\n",
    "            continue\n",
    "    \n",
    "    predicted_result2.index = range(0, len(predicted_result2))\n",
    "    return predicted_result2"
   ]
  },
  {
   "cell_type": "code",
   "execution_count": 21,
   "metadata": {
    "collapsed": false,
    "scrolled": true
   },
   "outputs": [
    {
     "name": "stdout",
     "output_type": "stream",
     "text": [
      "Enter the percentage number (0,10] : 0.001\n",
      "Count the number of top 0.00 % similar compounds..\n",
      "There are 6466 similar compounds.\n"
     ]
    },
    {
     "ename": "NameError",
     "evalue": "global name 'top_hmdb' is not defined",
     "output_type": "error",
     "traceback": [
      "\u001b[1;31m---------------------------------------------------------------------------\u001b[0m",
      "\u001b[1;31mNameError\u001b[0m                                 Traceback (most recent call last)",
      "\u001b[1;32m<ipython-input-21-72eb9ef4be28>\u001b[0m in \u001b[0;36m<module>\u001b[1;34m()\u001b[0m\n\u001b[0;32m     11\u001b[0m     \u001b[1;31m#top_herb, top_hmdb =extract_top_id(df_top_herb_hmdb_pair)\u001b[0m\u001b[1;33m\u001b[0m\u001b[1;33m\u001b[0m\u001b[0m\n\u001b[0;32m     12\u001b[0m     \u001b[1;31m#df_query = make_query_list(top_herb, top_hmdb)\u001b[0m\u001b[1;33m\u001b[0m\u001b[1;33m\u001b[0m\u001b[0m\n\u001b[1;32m---> 13\u001b[1;33m     \u001b[0mdf_query\u001b[0m \u001b[1;33m=\u001b[0m \u001b[0mmake_query_list\u001b[0m\u001b[1;33m(\u001b[0m\u001b[0mdf_top_herb_hmdb_pair\u001b[0m\u001b[1;33m)\u001b[0m\u001b[1;33m\u001b[0m\u001b[0m\n\u001b[0m\u001b[0;32m     14\u001b[0m     \u001b[1;32mif\u001b[0m \u001b[0mconnect\u001b[0m \u001b[1;33m==\u001b[0m \u001b[1;36m2\u001b[0m\u001b[1;33m:\u001b[0m\u001b[1;33m\u001b[0m\u001b[0m\n\u001b[0;32m     15\u001b[0m         \u001b[1;32mprint\u001b[0m\u001b[1;33m(\u001b[0m\u001b[1;34m\"need to connect the web. time consuming.. : \"\u001b[0m \u001b[1;33m+\u001b[0m \u001b[0mtime\u001b[0m\u001b[1;33m.\u001b[0m\u001b[0mstrftime\u001b[0m\u001b[1;33m(\u001b[0m\u001b[1;34m'%a %H:%M:%S'\u001b[0m\u001b[1;33m)\u001b[0m\u001b[1;33m)\u001b[0m\u001b[1;33m\u001b[0m\u001b[0m\n",
      "\u001b[1;32m<ipython-input-19-6213fe11c91d>\u001b[0m in \u001b[0;36mmake_query_list\u001b[1;34m(df_top_herb_hmdb_pair)\u001b[0m\n\u001b[0;32m      7\u001b[0m \u001b[1;33m\u001b[0m\u001b[0m\n\u001b[0;32m      8\u001b[0m     \u001b[1;31m# Find the KEGG ID of top_hmdb.\u001b[0m\u001b[1;33m\u001b[0m\u001b[1;33m\u001b[0m\u001b[0m\n\u001b[1;32m----> 9\u001b[1;33m     \u001b[0mdf_top_hmdb_keggid_pair\u001b[0m \u001b[1;33m=\u001b[0m \u001b[0mfind_keggid_of_hmdb\u001b[0m\u001b[1;33m(\u001b[0m\u001b[0mdf_hmdb\u001b[0m\u001b[1;33m,\u001b[0m \u001b[0mtop_hmdb\u001b[0m\u001b[1;33m)\u001b[0m\u001b[1;33m\u001b[0m\u001b[0m\n\u001b[0m\u001b[0;32m     10\u001b[0m \u001b[1;33m\u001b[0m\u001b[0m\n\u001b[0;32m     11\u001b[0m     \u001b[1;31m# Find the PubChem ID of top_herb.\u001b[0m\u001b[1;33m\u001b[0m\u001b[1;33m\u001b[0m\u001b[0m\n",
      "\u001b[1;31mNameError\u001b[0m: global name 'top_hmdb' is not defined"
     ]
    }
   ],
   "source": [
    "###### Main ###########\n",
    "\n",
    "# aceeptuser input\n",
    "percentage = input('Enter the percentage number (0,10] : ')\n",
    "\n",
    "connect, df_top_herb_hmdb_pair = count_percentage(percentage)\n",
    "if connect == 1:\n",
    "    print(\"Input is not valid. Stop the program.\")\n",
    "else:\n",
    "    \n",
    "    #top_herb, top_hmdb =extract_top_id(df_top_herb_hmdb_pair)\n",
    "    #df_query = make_query_list(top_herb, top_hmdb)\n",
    "    df_query = make_query_list(df_top_herb_hmdb_pair)\n",
    "    if connect == 2:\n",
    "        print(\"need to connect the web. time consuming.. : \" + time.strftime('%a %H:%M:%S'))\n",
    "        predicted_result = web_ezyme2(df_query)\n",
    "        print(\"end of web crawling : \" + time.strftime('%a %H:%M:%S'))\n",
    "        predicted_result = predicted_result.append(df_orthology) # prepared result (percentage under 0.1%)\n",
    "        print(\"There are %d predicted orthology results.\") % len(predicted_result)\n",
    "    else:\n",
    "        if percentage == 0.1:\n",
    "            predicted_result = df_orthology\n",
    "        else:\n",
    "            predicted_result = match_query_result(df_query, df_orthology)\n",
    "    print(\"There are %d predicted orthology results.\") % len(predicted_result)"
   ]
  },
  {
   "cell_type": "code",
   "execution_count": 1,
   "metadata": {
    "collapsed": false
   },
   "outputs": [
    {
     "ename": "NameError",
     "evalue": "name 'predicted_result' is not defined",
     "output_type": "error",
     "traceback": [
      "\u001b[1;31m---------------------------------------------------------------------------\u001b[0m",
      "\u001b[1;31mNameError\u001b[0m                                 Traceback (most recent call last)",
      "\u001b[1;32m<ipython-input-1-06cdc4146e58>\u001b[0m in \u001b[0;36m<module>\u001b[1;34m()\u001b[0m\n\u001b[1;32m----> 1\u001b[1;33m \u001b[0mpredicted_result\u001b[0m\u001b[1;33m\u001b[0m\u001b[0m\n\u001b[0m",
      "\u001b[1;31mNameError\u001b[0m: name 'predicted_result' is not defined"
     ]
    }
   ],
   "source": [
    "predicted_result"
   ]
  },
  {
   "cell_type": "code",
   "execution_count": null,
   "metadata": {
    "collapsed": true
   },
   "outputs": [],
   "source": []
  },
  {
   "cell_type": "code",
   "execution_count": null,
   "metadata": {
    "collapsed": true
   },
   "outputs": [],
   "source": []
  },
  {
   "cell_type": "code",
   "execution_count": 81,
   "metadata": {
    "collapsed": false
   },
   "outputs": [
    {
     "name": "stdout",
     "output_type": "stream",
     "text": [
      "Enter the percentage number (ex. 0.1) : 0.10001\n"
     ]
    },
    {
     "data": {
      "text/plain": [
       "646711"
      ]
     },
     "execution_count": 81,
     "metadata": {},
     "output_type": "execute_result"
    }
   ],
   "source": [
    "WHOLE_LENGTH = 646647053\n",
    "percentage = input('Enter the percentage number (ex. 0.1) : ')\n",
    "percentage_idx = int(WHOLE_LENGTH * percentage / 100)\n",
    "percentage_idx"
   ]
  },
  {
   "cell_type": "code",
   "execution_count": null,
   "metadata": {
    "collapsed": true
   },
   "outputs": [],
   "source": [
    "0.1퍼센트 : 646647개. --> 0.10005 : 646970개 --> 0.10001 : 646711개"
   ]
  },
  {
   "cell_type": "code",
   "execution_count": null,
   "metadata": {
    "collapsed": true
   },
   "outputs": [],
   "source": []
  },
  {
   "cell_type": "code",
   "execution_count": null,
   "metadata": {
    "collapsed": true
   },
   "outputs": [],
   "source": []
  },
  {
   "cell_type": "code",
   "execution_count": null,
   "metadata": {
    "collapsed": true
   },
   "outputs": [],
   "source": []
  },
  {
   "cell_type": "code",
   "execution_count": null,
   "metadata": {
    "collapsed": true
   },
   "outputs": [],
   "source": []
  },
  {
   "cell_type": "code",
   "execution_count": null,
   "metadata": {
    "collapsed": true
   },
   "outputs": [],
   "source": [
    "#open file\n",
    "#f = open('/home/share/aschoi/data/COCONUT_Herbal/5_Similarity/7_sorted_score_vector_except_1(descending)_top_10_percent_no_score.csv', 'r')\n",
    "#raw_herb_hmdb_pair = []\n",
    "#print time.strftime('%a %H:%M:%S')\n",
    "#while True:\n",
    "#    line = f.readline()\n",
    "#    if not line: break\n",
    "#    raw_herb_hmdb_pair.append(line.split(','))\n",
    "#print time.strftime('%a %H:%M:%S')\n",
    "#f.close()"
   ]
  },
  {
   "cell_type": "code",
   "execution_count": null,
   "metadata": {
    "collapsed": true
   },
   "outputs": [],
   "source": [
    "#open file\n",
    "#f = open('/home/share/aschoi/data/COCONUT_Herbal/5_Similarity/7_sorted_score_vector_except_1(descending)_top_10_percent_no_score.csv', 'r')\n",
    "#raw_herb_hmdb_pair = []\n",
    "#print time.strftime('%a %H:%M:%S')\n",
    "#while True:\n",
    "#    line = f.readline()\n",
    "#    if not line: break\n",
    "#    raw_herb_hmdb_pair.append(line.split(','))\n",
    "#print time.strftime('%a %H:%M:%S')\n",
    "#f.close()"
   ]
  },
  {
   "cell_type": "code",
   "execution_count": 1,
   "metadata": {
    "collapsed": true
   },
   "outputs": [],
   "source": [
    "import csv\n",
    "from itertools import product\n",
    "import numpy as np\n",
    "import os\n",
    "import pandas as pd\n",
    "import requests\n",
    "import time\n",
    "from urllib2 import urlopen\n",
    "import urllib2"
   ]
  },
  {
   "cell_type": "code",
   "execution_count": 2,
   "metadata": {
    "collapsed": false
   },
   "outputs": [],
   "source": [
    "#open files\n",
    "df_raw_herb_hmdb_pair = pd.read_csv('/home/share/aschoi/data/COCONUT_Herbal/5_Similarity/7_sorted_score_vector_except_1(descending)_top_10_percent_no_score.csv', header=None)\n",
    "df_hmdb = pd.read_table('/home/share/aschoi/data/COCONUT_Herbal/4_HMDB/HMDB_KEGG.tsv')\n",
    "df_herb = pd.read_table('/home/share/aschoi/data/COCONUT_Herbal/7_Ezyme_tool/2-5_herb_pubchem.tsv')\n",
    "df_kegg_rpair = pd.read_table('/home/share/aschoi/data/COCONUT_Herbal/1_KEGG_rpair/KEGG_Rpair.txt')\n",
    "df_orthology = pd.read_table('/home/share/aschoi/data/COCONUT_Herbal/7_Ezyme_tool/5_predicted_orthology.tsv')"
   ]
  },
  {
   "cell_type": "code",
   "execution_count": 3,
   "metadata": {
    "collapsed": false
   },
   "outputs": [
    {
     "name": "stdout",
     "output_type": "stream",
     "text": [
      "Enter the percentage number (0,10] : 0.01\n"
     ]
    }
   ],
   "source": [
    "# extract elements of top percentage.\n",
    "#------------------------------------------------------------------------------\n",
    "WHOLE_LENGTH = 646647053\n",
    "percentage = input('Enter the percentage number (0,10] : ')\n",
    "percentage_idx = int(WHOLE_LENGTH * percentage / 100)\n",
    "df_top_herb_hmdb_pair = df_raw_herb_hmdb_pair[:percentage_idx]\n",
    "df_top_herb_hmdb_pair = df_top_herb_hmdb_pair.rename(columns={0:'compID', 1:'Accession'})"
   ]
  },
  {
   "cell_type": "code",
   "execution_count": 4,
   "metadata": {
    "collapsed": false,
    "scrolled": true
   },
   "outputs": [
    {
     "name": "stdout",
     "output_type": "stream",
     "text": [
      "64664\n"
     ]
    },
    {
     "data": {
      "text/html": [
       "<div>\n",
       "<table border=\"1\" class=\"dataframe\">\n",
       "  <thead>\n",
       "    <tr style=\"text-align: right;\">\n",
       "      <th></th>\n",
       "      <th>compID</th>\n",
       "      <th>Accession</th>\n",
       "    </tr>\n",
       "  </thead>\n",
       "  <tbody>\n",
       "    <tr>\n",
       "      <th>0</th>\n",
       "      <td>80303</td>\n",
       "      <td>HMDB37761</td>\n",
       "    </tr>\n",
       "    <tr>\n",
       "      <th>1</th>\n",
       "      <td>69881</td>\n",
       "      <td>HMDB02174</td>\n",
       "    </tr>\n",
       "    <tr>\n",
       "      <th>2</th>\n",
       "      <td>69881</td>\n",
       "      <td>HMDB02308</td>\n",
       "    </tr>\n",
       "    <tr>\n",
       "      <th>3</th>\n",
       "      <td>69881</td>\n",
       "      <td>HMDB03458</td>\n",
       "    </tr>\n",
       "    <tr>\n",
       "      <th>4</th>\n",
       "      <td>69881</td>\n",
       "      <td>HMDB06316</td>\n",
       "    </tr>\n",
       "  </tbody>\n",
       "</table>\n",
       "</div>"
      ],
      "text/plain": [
       "   compID  Accession\n",
       "0   80303  HMDB37761\n",
       "1   69881  HMDB02174\n",
       "2   69881  HMDB02308\n",
       "3   69881  HMDB03458\n",
       "4   69881  HMDB06316"
      ]
     },
     "execution_count": 4,
     "metadata": {},
     "output_type": "execute_result"
    }
   ],
   "source": [
    "print len(df_top_herb_hmdb_pair)\n",
    "df_top_herb_hmdb_pair.head()"
   ]
  },
  {
   "cell_type": "code",
   "execution_count": 5,
   "metadata": {
    "collapsed": false
   },
   "outputs": [
    {
     "name": "stdout",
     "output_type": "stream",
     "text": [
      "    1. Extract the ids of top herbal and top HMDB compounds.\n"
     ]
    }
   ],
   "source": [
    "#top herb id, top hmdb id\n",
    "#------------------------------------------------------------------------------\n",
    "s_top_herb = df_top_herb_hmdb_pair['compID']\n",
    "s_top_hmdb = df_top_herb_hmdb_pair['Accession']\n",
    "print(\"    1. Extract the ids of top herbal and top HMDB compounds.\")\n",
    "#for i in top_herb_hmdb_pair:\n",
    "#    top_herb.append(int(i[0]))\n",
    "#    top_hmdb.append(i[1].rstrip('\\r\\n'))"
   ]
  },
  {
   "cell_type": "code",
   "execution_count": 7,
   "metadata": {
    "collapsed": false
   },
   "outputs": [
    {
     "name": "stdout",
     "output_type": "stream",
     "text": [
      "64664\n",
      "64664\n"
     ]
    }
   ],
   "source": [
    "print len(s_top_herb)\n",
    "print len(s_top_hmdb)"
   ]
  },
  {
   "cell_type": "code",
   "execution_count": 6,
   "metadata": {
    "collapsed": true
   },
   "outputs": [],
   "source": [
    "# Dataframe of top_herb_hmdb_pair\n",
    "#df_top_herb_hmdb_pair = pd.DataFrame({'Accession':top_hmdb, 'compID' :top_herb})"
   ]
  },
  {
   "cell_type": "code",
   "execution_count": 8,
   "metadata": {
    "collapsed": false
   },
   "outputs": [],
   "source": [
    "# Find the KEGG ID of top_hmdb.\n",
    "\n",
    "# The flag is used to find the KEGG ID of top_similar_hmdb.\n",
    "flag_find_keggid_of_top_hmdb = df_hmdb['Accession'].isin(s_top_hmdb)\n",
    "\n",
    "# This dataframe represents the pair of top hmdb id and its KEGG ID.\n",
    "# This information is used when find the substrate of KEGG rpair which correspond to the top_hmdb.\n",
    "df_top_hmdb_keggid_pair = df_hmdb[flag_find_keggid_of_top_hmdb][['Accession', 'KEGG_ID']]"
   ]
  },
  {
   "cell_type": "code",
   "execution_count": 9,
   "metadata": {
    "collapsed": false
   },
   "outputs": [
    {
     "name": "stdout",
     "output_type": "stream",
     "text": [
      "391\n"
     ]
    },
    {
     "data": {
      "text/html": [
       "<div>\n",
       "<table border=\"1\" class=\"dataframe\">\n",
       "  <thead>\n",
       "    <tr style=\"text-align: right;\">\n",
       "      <th></th>\n",
       "      <th>Accession</th>\n",
       "      <th>KEGG_ID</th>\n",
       "    </tr>\n",
       "  </thead>\n",
       "  <tbody>\n",
       "    <tr>\n",
       "      <th>6</th>\n",
       "      <td>HMDB00016</td>\n",
       "      <td>C03205</td>\n",
       "    </tr>\n",
       "    <tr>\n",
       "      <th>15</th>\n",
       "      <td>HMDB00032</td>\n",
       "      <td>C01164</td>\n",
       "    </tr>\n",
       "    <tr>\n",
       "      <th>24</th>\n",
       "      <td>HMDB00048</td>\n",
       "      <td>C05402</td>\n",
       "    </tr>\n",
       "    <tr>\n",
       "      <th>25</th>\n",
       "      <td>HMDB00050</td>\n",
       "      <td>C00212</td>\n",
       "    </tr>\n",
       "    <tr>\n",
       "      <th>28</th>\n",
       "      <td>HMDB00053</td>\n",
       "      <td>C00280</td>\n",
       "    </tr>\n",
       "  </tbody>\n",
       "</table>\n",
       "</div>"
      ],
      "text/plain": [
       "    Accession KEGG_ID\n",
       "6   HMDB00016  C03205\n",
       "15  HMDB00032  C01164\n",
       "24  HMDB00048  C05402\n",
       "25  HMDB00050  C00212\n",
       "28  HMDB00053  C00280"
      ]
     },
     "execution_count": 9,
     "metadata": {},
     "output_type": "execute_result"
    }
   ],
   "source": [
    "print len(df_top_hmdb_keggid_pair)\n",
    "df_top_hmdb_keggid_pair.head()"
   ]
  },
  {
   "cell_type": "code",
   "execution_count": 10,
   "metadata": {
    "collapsed": true
   },
   "outputs": [],
   "source": [
    "# Find the PubChem ID of top_herb.\n",
    "\n",
    "# The flag is used to find the PubChem ID of top_herb.\n",
    "flag_find_pubchemid_of_top_herb = df_herb['compID'].isin(s_top_herb)\n",
    "\n",
    "# This dataframe represents the pair of top herb id and its PubChem ID.\n",
    "# Using this information, we can predict the orphan herbs' ontology.\n",
    "# One pubchem id of herb becomes the input substrate of KEGG E-zyme2 tool.\n",
    "df_top_herb_pubchemid_pair = df_herb[flag_find_pubchemid_of_top_herb][['compID', 'pubchemID']]"
   ]
  },
  {
   "cell_type": "code",
   "execution_count": 11,
   "metadata": {
    "collapsed": false
   },
   "outputs": [
    {
     "name": "stdout",
     "output_type": "stream",
     "text": [
      "2854\n"
     ]
    },
    {
     "data": {
      "text/html": [
       "<div>\n",
       "<table border=\"1\" class=\"dataframe\">\n",
       "  <thead>\n",
       "    <tr style=\"text-align: right;\">\n",
       "      <th></th>\n",
       "      <th>compID</th>\n",
       "      <th>pubchemID</th>\n",
       "    </tr>\n",
       "  </thead>\n",
       "  <tbody>\n",
       "    <tr>\n",
       "      <th>9</th>\n",
       "      <td>33179</td>\n",
       "      <td>88810</td>\n",
       "    </tr>\n",
       "    <tr>\n",
       "      <th>24</th>\n",
       "      <td>62074</td>\n",
       "      <td>6325611</td>\n",
       "    </tr>\n",
       "    <tr>\n",
       "      <th>28</th>\n",
       "      <td>54483</td>\n",
       "      <td>11432549</td>\n",
       "    </tr>\n",
       "    <tr>\n",
       "      <th>34</th>\n",
       "      <td>62081</td>\n",
       "      <td>5319346</td>\n",
       "    </tr>\n",
       "    <tr>\n",
       "      <th>39</th>\n",
       "      <td>76855</td>\n",
       "      <td>5319337</td>\n",
       "    </tr>\n",
       "  </tbody>\n",
       "</table>\n",
       "</div>"
      ],
      "text/plain": [
       "    compID  pubchemID\n",
       "9    33179      88810\n",
       "24   62074    6325611\n",
       "28   54483   11432549\n",
       "34   62081    5319346\n",
       "39   76855    5319337"
      ]
     },
     "execution_count": 11,
     "metadata": {},
     "output_type": "execute_result"
    }
   ],
   "source": [
    "print len(df_top_herb_pubchemid_pair)\n",
    "df_top_herb_pubchemid_pair.head()"
   ]
  },
  {
   "cell_type": "code",
   "execution_count": 12,
   "metadata": {
    "collapsed": true
   },
   "outputs": [],
   "source": [
    "# Find the rpairs whose substrate is same to the top_hmdb.\n",
    "# The pair is represented by only KEGG ID. (NOT hmdb_id.)\n",
    "\n",
    "flag_find_rpair_of_top_hmdb_sub = df_kegg_rpair['Compound1'].isin(df_top_hmdb_keggid_pair['KEGG_ID']) \n",
    "\n",
    "# This dataframe consist of KEGG ID.\n",
    "df_rpair_of_top_hmdb_sub_k = df_kegg_rpair[flag_find_rpair_of_top_hmdb_sub]"
   ]
  },
  {
   "cell_type": "code",
   "execution_count": 13,
   "metadata": {
    "collapsed": false
   },
   "outputs": [
    {
     "name": "stdout",
     "output_type": "stream",
     "text": [
      "724\n"
     ]
    },
    {
     "data": {
      "text/html": [
       "<div>\n",
       "<table border=\"1\" class=\"dataframe\">\n",
       "  <thead>\n",
       "    <tr style=\"text-align: right;\">\n",
       "      <th></th>\n",
       "      <th>Compound1</th>\n",
       "      <th>Compound2</th>\n",
       "    </tr>\n",
       "  </thead>\n",
       "  <tbody>\n",
       "    <tr>\n",
       "      <th>1</th>\n",
       "      <td>C00003</td>\n",
       "      <td>C00004</td>\n",
       "    </tr>\n",
       "    <tr>\n",
       "      <th>47</th>\n",
       "      <td>C00008</td>\n",
       "      <td>C00020</td>\n",
       "    </tr>\n",
       "    <tr>\n",
       "      <th>51</th>\n",
       "      <td>C00031</td>\n",
       "      <td>C00092</td>\n",
       "    </tr>\n",
       "    <tr>\n",
       "      <th>64</th>\n",
       "      <td>C00089</td>\n",
       "      <td>C00095</td>\n",
       "    </tr>\n",
       "    <tr>\n",
       "      <th>70</th>\n",
       "      <td>C00003</td>\n",
       "      <td>C00153</td>\n",
       "    </tr>\n",
       "  </tbody>\n",
       "</table>\n",
       "</div>"
      ],
      "text/plain": [
       "   Compound1 Compound2\n",
       "1     C00003    C00004\n",
       "47    C00008    C00020\n",
       "51    C00031    C00092\n",
       "64    C00089    C00095\n",
       "70    C00003    C00153"
      ]
     },
     "execution_count": 13,
     "metadata": {},
     "output_type": "execute_result"
    }
   ],
   "source": [
    "print len(df_rpair_of_top_hmdb_sub_k)\n",
    "df_rpair_of_top_hmdb_sub_k.head()"
   ]
  },
  {
   "cell_type": "code",
   "execution_count": 14,
   "metadata": {
    "collapsed": true
   },
   "outputs": [],
   "source": [
    "# Find the part of top_hmdb. \n",
    "# It have KEGG ID which corresponds to the substrate of KEGG rpair.\n",
    "# Why need this process? \n",
    "# Because we don't have the pair of the kegg_id version substrate(although it corresponds to the top_hmdb!) and top_hmdb id.\n",
    "\n",
    "flag_find_hmdbid_of_top_hmdb_sub = df_top_hmdb_keggid_pair['KEGG_ID'].isin(df_rpair_of_top_hmdb_sub_k['Compound1'])\n",
    "df_top_hmdb_of_sub = df_top_hmdb_keggid_pair[flag_find_hmdbid_of_top_hmdb_sub]"
   ]
  },
  {
   "cell_type": "code",
   "execution_count": 15,
   "metadata": {
    "collapsed": false
   },
   "outputs": [
    {
     "name": "stdout",
     "output_type": "stream",
     "text": [
      "173\n"
     ]
    },
    {
     "data": {
      "text/html": [
       "<div>\n",
       "<table border=\"1\" class=\"dataframe\">\n",
       "  <thead>\n",
       "    <tr style=\"text-align: right;\">\n",
       "      <th></th>\n",
       "      <th>Accession</th>\n",
       "      <th>KEGG_ID</th>\n",
       "    </tr>\n",
       "  </thead>\n",
       "  <tbody>\n",
       "    <tr>\n",
       "      <th>6</th>\n",
       "      <td>HMDB00016</td>\n",
       "      <td>C03205</td>\n",
       "    </tr>\n",
       "    <tr>\n",
       "      <th>15</th>\n",
       "      <td>HMDB00032</td>\n",
       "      <td>C01164</td>\n",
       "    </tr>\n",
       "    <tr>\n",
       "      <th>24</th>\n",
       "      <td>HMDB00048</td>\n",
       "      <td>C05402</td>\n",
       "    </tr>\n",
       "    <tr>\n",
       "      <th>25</th>\n",
       "      <td>HMDB00050</td>\n",
       "      <td>C00212</td>\n",
       "    </tr>\n",
       "    <tr>\n",
       "      <th>28</th>\n",
       "      <td>HMDB00053</td>\n",
       "      <td>C00280</td>\n",
       "    </tr>\n",
       "  </tbody>\n",
       "</table>\n",
       "</div>"
      ],
      "text/plain": [
       "    Accession KEGG_ID\n",
       "6   HMDB00016  C03205\n",
       "15  HMDB00032  C01164\n",
       "24  HMDB00048  C05402\n",
       "25  HMDB00050  C00212\n",
       "28  HMDB00053  C00280"
      ]
     },
     "execution_count": 15,
     "metadata": {},
     "output_type": "execute_result"
    }
   ],
   "source": [
    "print len(df_top_hmdb_of_sub)\n",
    "df_top_hmdb_of_sub.head()"
   ]
  },
  {
   "cell_type": "code",
   "execution_count": 16,
   "metadata": {
    "collapsed": true
   },
   "outputs": [],
   "source": [
    "# Find the pair of top_hmdb and top_herb.\n",
    "# The top_hmdb is the substrate of the KEGG rpair.\n",
    "# The top_herb is the similar herbal compounds of the top_hmdb.\n",
    "\n",
    "flag_find_sim_herb_of_hmdb_sub = df_top_herb_hmdb_pair['Accession'].isin(df_top_hmdb_of_sub['Accession'])\n",
    "df_sim_herb_of_hmdb_sub = df_top_herb_hmdb_pair[flag_find_sim_herb_of_hmdb_sub]\n",
    "\n",
    "# Find the pubchem id of the herbs which is similar to the hmdb compounds. These hmdb compounds are the substrate of rpair. \n",
    "flag_find_pubchemid_of_sim_herb =df_top_herb_pubchemid_pair['compID'].isin(df_sim_herb_of_hmdb_sub['compID'])\n",
    "df_sim_herb_pubchem_id_pair = df_top_herb_pubchemid_pair[flag_find_pubchemid_of_sim_herb]\n",
    "\n",
    "df_candidate_sub_herb = pd.merge(df_top_hmdb_of_sub, df_sim_herb_of_hmdb_sub, how = 'inner', on = ['Accession', 'Accession'])\n",
    "df_candidate_sub_herb_pubchem = pd.merge(df_candidate_sub_herb, df_sim_herb_pubchem_id_pair, how='inner', on=['compID', 'compID'])\n"
   ]
  },
  {
   "cell_type": "code",
   "execution_count": 17,
   "metadata": {
    "collapsed": false
   },
   "outputs": [
    {
     "name": "stdout",
     "output_type": "stream",
     "text": [
      "685\n"
     ]
    },
    {
     "data": {
      "text/html": [
       "<div>\n",
       "<table border=\"1\" class=\"dataframe\">\n",
       "  <thead>\n",
       "    <tr style=\"text-align: right;\">\n",
       "      <th></th>\n",
       "      <th>Accession</th>\n",
       "      <th>KEGG_ID</th>\n",
       "      <th>compID</th>\n",
       "      <th>pubchemID</th>\n",
       "    </tr>\n",
       "  </thead>\n",
       "  <tbody>\n",
       "    <tr>\n",
       "      <th>0</th>\n",
       "      <td>HMDB00016</td>\n",
       "      <td>C03205</td>\n",
       "      <td>76563</td>\n",
       "      <td>5318189</td>\n",
       "    </tr>\n",
       "    <tr>\n",
       "      <th>1</th>\n",
       "      <td>HMDB00234</td>\n",
       "      <td>C00535</td>\n",
       "      <td>76563</td>\n",
       "      <td>5318189</td>\n",
       "    </tr>\n",
       "    <tr>\n",
       "      <th>2</th>\n",
       "      <td>HMDB00374</td>\n",
       "      <td>C01176</td>\n",
       "      <td>76563</td>\n",
       "      <td>5318189</td>\n",
       "    </tr>\n",
       "    <tr>\n",
       "      <th>3</th>\n",
       "      <td>HMDB00016</td>\n",
       "      <td>C03205</td>\n",
       "      <td>76033</td>\n",
       "      <td>5318270</td>\n",
       "    </tr>\n",
       "    <tr>\n",
       "      <th>4</th>\n",
       "      <td>HMDB00234</td>\n",
       "      <td>C00535</td>\n",
       "      <td>76033</td>\n",
       "      <td>5318270</td>\n",
       "    </tr>\n",
       "  </tbody>\n",
       "</table>\n",
       "</div>"
      ],
      "text/plain": [
       "   Accession KEGG_ID  compID  pubchemID\n",
       "0  HMDB00016  C03205   76563    5318189\n",
       "1  HMDB00234  C00535   76563    5318189\n",
       "2  HMDB00374  C01176   76563    5318189\n",
       "3  HMDB00016  C03205   76033    5318270\n",
       "4  HMDB00234  C00535   76033    5318270"
      ]
     },
     "execution_count": 17,
     "metadata": {},
     "output_type": "execute_result"
    }
   ],
   "source": [
    "print len(df_candidate_sub_herb_pubchem)\n",
    "df_candidate_sub_herb_pubchem.head()"
   ]
  },
  {
   "cell_type": "code",
   "execution_count": 22,
   "metadata": {
    "collapsed": false
   },
   "outputs": [],
   "source": [
    "# Make the pair of herb(used to be substrate) and product.\n",
    "# If the pair will exist in the prepared orthology table, just show the predicted_result.\n",
    "# Unless the pair will not exist in the prepared table, we have to crawl the predicted reusult from KEGG E-zyme2 webpage.\n",
    "\n",
    "from itertools import product\n",
    "s_candidate_keggid = df_candidate_sub_herb_pubchem['KEGG_ID'].drop_duplicates()\n",
    "df_query = pd.DataFrame()\n",
    "for i in s_candidate_keggid:\n",
    "    df_candidate_sub_part = df_candidate_sub_herb_pubchem[df_candidate_sub_herb_pubchem.KEGG_ID == i]\n",
    "    df_candidate_pro_part = df_rpair_of_top_hmdb_sub_k[df_rpair_of_top_hmdb_sub_k.Compound1 == i]\n",
    "    s_candidate_sub_part = df_candidate_sub_part['pubchemID']\n",
    "    s_candidate_pro_part = df_candidate_pro_part['Compound2']\n",
    "    temp_df = pd.DataFrame(list(product(s_candidate_sub_part, s_candidate_pro_part)), columns = ['substrate', 'product'])\n",
    "    df_query = df_query.append(temp_df)\n",
    "df_query = df_query.drop_duplicates()\n",
    "df_query.index = range(0, len(df_query))"
   ]
  },
  {
   "cell_type": "code",
   "execution_count": 24,
   "metadata": {
    "collapsed": false
   },
   "outputs": [
    {
     "name": "stdout",
     "output_type": "stream",
     "text": [
      "       inner query_list : len(df_candidate_sub_herb_pubchem, df_rpair_of_top_hmdb_sub_k) 685, 724\n"
     ]
    }
   ],
   "source": [
    "print \"       inner query_list : len(df_candidate_sub_herb_pubchem, df_rpair_of_top_hmdb_sub_k) %d, %d\" % (len(df_candidate_sub_herb_pubchem), len(df_rpair_of_top_hmdb_sub_k))"
   ]
  },
  {
   "cell_type": "code",
   "execution_count": 23,
   "metadata": {
    "collapsed": false
   },
   "outputs": [
    {
     "data": {
      "text/plain": [
       "154"
      ]
     },
     "execution_count": 23,
     "metadata": {},
     "output_type": "execute_result"
    }
   ],
   "source": [
    "len(s_candidate_keggid)"
   ]
  },
  {
   "cell_type": "code",
   "execution_count": 21,
   "metadata": {
    "collapsed": false,
    "scrolled": true
   },
   "outputs": [
    {
     "name": "stdout",
     "output_type": "stream",
     "text": [
      "1830\n"
     ]
    },
    {
     "data": {
      "text/html": [
       "<div>\n",
       "<table border=\"1\" class=\"dataframe\">\n",
       "  <thead>\n",
       "    <tr style=\"text-align: right;\">\n",
       "      <th></th>\n",
       "      <th>substrate</th>\n",
       "      <th>product</th>\n",
       "    </tr>\n",
       "  </thead>\n",
       "  <tbody>\n",
       "    <tr>\n",
       "      <th>0</th>\n",
       "      <td>5318189</td>\n",
       "      <td>C05485</td>\n",
       "    </tr>\n",
       "    <tr>\n",
       "      <th>1</th>\n",
       "      <td>5318189</td>\n",
       "      <td>C04108</td>\n",
       "    </tr>\n",
       "    <tr>\n",
       "      <th>2</th>\n",
       "      <td>5318189</td>\n",
       "      <td>C18040</td>\n",
       "    </tr>\n",
       "    <tr>\n",
       "      <th>3</th>\n",
       "      <td>5318270</td>\n",
       "      <td>C05485</td>\n",
       "    </tr>\n",
       "    <tr>\n",
       "      <th>4</th>\n",
       "      <td>5318270</td>\n",
       "      <td>C04108</td>\n",
       "    </tr>\n",
       "  </tbody>\n",
       "</table>\n",
       "</div>"
      ],
      "text/plain": [
       "   substrate product\n",
       "0    5318189  C05485\n",
       "1    5318189  C04108\n",
       "2    5318189  C18040\n",
       "3    5318270  C05485\n",
       "4    5318270  C04108"
      ]
     },
     "execution_count": 21,
     "metadata": {},
     "output_type": "execute_result"
    }
   ],
   "source": [
    "print len(df_query)\n",
    "df_query.head()"
   ]
  },
  {
   "cell_type": "code",
   "execution_count": 22,
   "metadata": {
    "collapsed": false
   },
   "outputs": [
    {
     "name": "stdout",
     "output_type": "stream",
     "text": [
      "0 : Fri 15:35:33\n",
      "1000 : Fri 17:20:19\n",
      "HTTPError 1607 : Fri 18:34:45\n",
      "http://rest.genome.jp/ezyme/CID16758819/C02140\n",
      "2000 : Fri 19:23:31\n"
     ]
    },
    {
     "ename": "NameError",
     "evalue": "name 'socket' is not defined",
     "output_type": "error",
     "traceback": [
      "\u001b[1;31m\u001b[0m",
      "\u001b[1;31mNameError\u001b[0mTraceback (most recent call last)",
      "\u001b[1;32m<ipython-input-22-17b475b7f7d4>\u001b[0m in \u001b[0;36m<module>\u001b[1;34m()\u001b[0m\n\u001b[0;32m     31\u001b[0m             \u001b[1;32mcontinue\u001b[0m\u001b[1;33m\u001b[0m\u001b[0m\n\u001b[0;32m     32\u001b[0m \u001b[1;33m\u001b[0m\u001b[0m\n\u001b[1;32m---> 33\u001b[1;33m         \u001b[1;32mexcept\u001b[0m \u001b[0msocket\u001b[0m\u001b[1;33m.\u001b[0m\u001b[0merror\u001b[0m\u001b[1;33m,\u001b[0m \u001b[0mexc\u001b[0m\u001b[1;33m:\u001b[0m\u001b[1;33m\u001b[0m\u001b[0m\n\u001b[0m\u001b[0;32m     34\u001b[0m             \u001b[1;32mprint\u001b[0m \u001b[1;34m'socket error {} ...'\u001b[0m\u001b[1;33m.\u001b[0m\u001b[0mformat\u001b[0m\u001b[1;33m(\u001b[0m\u001b[0mexc\u001b[0m\u001b[1;33m[\u001b[0m\u001b[1;36m0\u001b[0m\u001b[1;33m]\u001b[0m\u001b[1;33m)\u001b[0m\u001b[1;33m\u001b[0m\u001b[0m\n\u001b[0;32m     35\u001b[0m             \u001b[1;32mprint\u001b[0m \u001b[1;34m'<time out error %d> : '\u001b[0m \u001b[1;33m%\u001b[0m \u001b[0mcnt\u001b[0m \u001b[1;33m+\u001b[0m \u001b[0mtime\u001b[0m\u001b[1;33m.\u001b[0m\u001b[0mstrftime\u001b[0m\u001b[1;33m(\u001b[0m\u001b[1;34m'%a %H:%M:%S'\u001b[0m\u001b[1;33m)\u001b[0m\u001b[1;33m\u001b[0m\u001b[0m\n",
      "\u001b[1;31mNameError\u001b[0m: name 'socket' is not defined"
     ]
    }
   ],
   "source": [
    "#다시 시작시 파일명 바꾸기\n",
    "with open(\"/home/share/aschoi/data/COCONUT_Herbal/7_Ezyme_tool/6_1_predicted_ontology.tsv\", \"w\") as resultFile:\n",
    "    features = ['substrate', 'product', 'predicted_orthology', 'predicted_score']\n",
    "    resultTsv = csv.DictWriter(resultFile, features, dialect=csv.excel_tab)\n",
    "    resultTsv.writeheader()\n",
    "    \n",
    "    #predicted_result = pd.DataFrame()\n",
    "    cnt = 0\n",
    "    url_base = 'http://rest.genome.jp/ezyme/'\n",
    "    print '%d : '% cnt + time.strftime('%a %H:%M:%S')\n",
    "    for index, row in df_query[cnt:].iterrows():\n",
    "        sub = int(row['substrate'])\n",
    "        pro = row['product']\n",
    "        url = url_base + 'CID'+str(sub) +'/' + pro\n",
    "        \n",
    "        try:\n",
    "            f = urlopen(url)\n",
    "            all_data = f.readlines()\n",
    "            data = all_data[1].split('\\t')\n",
    "            predicted_orthology = data[1]\n",
    "            predicted_score = data[0]\n",
    "            resultTsv.writerow({'substrate':sub, 'product':pro, 'predicted_orthology' : predicted_orthology, 'predicted_score' : predicted_score})     \n",
    "            #temp_df = pd.DataFrame([[sub, pro, predicted_orthology, predicted_score]], columns = ['substrate', 'product', 'predicted_orthology', 'predicted_score'])\n",
    "            #predicted_result2 = predicted_result2.append(temp_df)\n",
    "            cnt = cnt + 1\n",
    "            \n",
    "        except urllib2.HTTPError, e:\n",
    "            if e.code == 404:\n",
    "                print 'HTTPError 404 not found %d : ' % cnt + time.strftime('%a %H:%M:%S')\n",
    "                print url\n",
    "                cnt = cnt + 1\n",
    "                continue\n",
    "            else:\n",
    "                print e.code\n",
    "                print url\n",
    "                print cnt\n",
    "                raise\n",
    "            \n",
    "        #except socket.error, exc:\n",
    "            #print 'socket error {} ...'.format(exc[0])\n",
    "            #print '<time out error %d> : ' % cnt + time.strftime('%a %H:%M:%S')\n",
    "            #print url\n",
    "            #f = urlopen(url)\n",
    "            #all_data = f.readlines()\n",
    "            #cnt = cnt + 1\n",
    "            #data = all_data[1].split('\\t')\n",
    "            #predicted_orthology = data[1]\n",
    "            #predicted_score = data[0]\n",
    "            #resultTsv.writerow({'substrate':sub, 'product':pro, 'predicted_orthology' : predicted_orthology, 'predicted_score' : predicted_score})\n",
    "            #continue\n",
    "        if cnt % 1000 == 0 :\n",
    "            print '%d : '% cnt + time.strftime('%a %H:%M:%S')\n",
    "print time.strftime('%a %H:%M:%S')"
   ]
  },
  {
   "cell_type": "code",
   "execution_count": null,
   "metadata": {
    "collapsed": true
   },
   "outputs": [],
   "source": [
    "df4 = pd.read_table(\"/home/share/aschoi/data/COCONUT_Herbal/7_Ezyme_tool/5_1_predicted_ontology.tsv\")\n",
    "df5 = pd.read_table(\"/home/share/aschoi/data/COCONUT_Herbal/7_Ezyme_tool/5_2_predicted_ontology.tsv\")\n",
    "frames2=[df4, df5]\n",
    "df6 = pd.concat(frames2)\n",
    "print len(df6.drop_duplicates())\n",
    "df7 = df6.drop_duplicates()"
   ]
  },
  {
   "cell_type": "code",
   "execution_count": 51,
   "metadata": {
    "collapsed": true
   },
   "outputs": [],
   "source": [
    "# 5_predicted_orthology를 돌릴때 HTTPerror이긴 한데 404가 아닌애들.\n",
    "reurl = ['http://rest.genome.jp/ezyme/CID104745/C17238',\n",
    "'http://rest.genome.jp/ezyme/CID104745/C20258',\n",
    "'http://rest.genome.jp/ezyme/CID5281127/C14825',\n",
    "'http://rest.genome.jp/ezyme/CID5281127/C14826',\n",
    "'http://rest.genome.jp/ezyme/CID5281127/C14827',\n",
    "'http://rest.genome.jp/ezyme/CID5281127/C14831',\n",
    "'http://rest.genome.jp/ezyme/CID5281127/C14831',\n",
    "'http://rest.genome.jp/ezyme/CID5281127/C14831',\n",
    "'http://rest.genome.jp/ezyme/CID5282761/C16321',\n",
    "'http://rest.genome.jp/ezyme/CID5282761/C16162',\n",
    "'http://rest.genome.jp/ezyme/CID5282761/C19936',\n",
    "'http://rest.genome.jp/ezyme/CID5282761/C20704']"
   ]
  },
  {
   "cell_type": "code",
   "execution_count": 70,
   "metadata": {
    "collapsed": false
   },
   "outputs": [],
   "source": [
    "#다시함.\n",
    "for i in reurl:\n",
    "    f2 = urlopen(i)\n",
    "    all_data2 = f2.readlines()\n",
    "    data2 = all_data2[1].split('\\t')\n",
    "    predicted_orthology2 = data2[1]\n",
    "    predicted_score2 = data2[0]\n",
    "    sub2 = i[-13:-7]\n",
    "    pro2 = i[-6:]\n",
    "    \n",
    "    temp_df = pd.DataFrame([[sub2, pro2, predicted_orthology2, predicted_score2]], columns = ['substrate', 'product', 'predicted_orthology', 'predicted_score'])\n",
    "    df7 = df7.append(temp_df)\n",
    "    \n",
    "    "
   ]
  },
  {
   "cell_type": "code",
   "execution_count": 74,
   "metadata": {
    "collapsed": false
   },
   "outputs": [
    {
     "name": "stdout",
     "output_type": "stream",
     "text": [
      "12\n",
      "26205\n",
      "26193\n"
     ]
    }
   ],
   "source": [
    "print len(reurl)\n",
    "print len(df7)\n",
    "print len(df7) - len(reurl)"
   ]
  },
  {
   "cell_type": "code",
   "execution_count": 76,
   "metadata": {
    "collapsed": false
   },
   "outputs": [],
   "source": [
    "df8=df7.drop_duplicates()"
   ]
  },
  {
   "cell_type": "code",
   "execution_count": 77,
   "metadata": {
    "collapsed": true
   },
   "outputs": [],
   "source": [
    "df8.index = range(0, len(df8))"
   ]
  },
  {
   "cell_type": "code",
   "execution_count": 80,
   "metadata": {
    "collapsed": false
   },
   "outputs": [
    {
     "name": "stdout",
     "output_type": "stream",
     "text": [
      "26204\n"
     ]
    },
    {
     "data": {
      "text/html": [
       "<div>\n",
       "<table border=\"1\" class=\"dataframe\">\n",
       "  <thead>\n",
       "    <tr style=\"text-align: right;\">\n",
       "      <th></th>\n",
       "      <th>substrate</th>\n",
       "      <th>product</th>\n",
       "      <th>predicted_orthology</th>\n",
       "      <th>predicted_score</th>\n",
       "    </tr>\n",
       "  </thead>\n",
       "  <tbody>\n",
       "    <tr>\n",
       "      <th>0</th>\n",
       "      <td>3483736</td>\n",
       "      <td>C05665</td>\n",
       "      <td>K00276</td>\n",
       "      <td>0.381</td>\n",
       "    </tr>\n",
       "    <tr>\n",
       "      <th>1</th>\n",
       "      <td>3483736</td>\n",
       "      <td>C03375</td>\n",
       "      <td>K01844</td>\n",
       "      <td>0.053</td>\n",
       "    </tr>\n",
       "    <tr>\n",
       "      <th>2</th>\n",
       "      <td>3483736</td>\n",
       "      <td>C03283</td>\n",
       "      <td>K01580</td>\n",
       "      <td>0.736</td>\n",
       "    </tr>\n",
       "    <tr>\n",
       "      <th>3</th>\n",
       "      <td>3483736</td>\n",
       "      <td>C15853</td>\n",
       "      <td>K00632</td>\n",
       "      <td>0.106</td>\n",
       "    </tr>\n",
       "    <tr>\n",
       "      <th>4</th>\n",
       "      <td>3483736</td>\n",
       "      <td>C01029</td>\n",
       "      <td>K01844</td>\n",
       "      <td>0.044</td>\n",
       "    </tr>\n",
       "  </tbody>\n",
       "</table>\n",
       "</div>"
      ],
      "text/plain": [
       "  substrate product predicted_orthology predicted_score\n",
       "0   3483736  C05665              K00276           0.381\n",
       "1   3483736  C03375              K01844           0.053\n",
       "2   3483736  C03283              K01580           0.736\n",
       "3   3483736  C15853              K00632           0.106\n",
       "4   3483736  C01029              K01844           0.044"
      ]
     },
     "execution_count": 80,
     "metadata": {},
     "output_type": "execute_result"
    }
   ],
   "source": [
    "print len(df8)\n",
    "df8.head()"
   ]
  },
  {
   "cell_type": "code",
   "execution_count": 79,
   "metadata": {
    "collapsed": true
   },
   "outputs": [],
   "source": [
    "df8.to_csv(\"/home/share/aschoi/data/COCONUT_Herbal/7_Ezyme_tool/5_predicted_orthology.tsv\", sep='\\t', index=None)"
   ]
  },
  {
   "cell_type": "code",
   "execution_count": null,
   "metadata": {
    "collapsed": true
   },
   "outputs": [],
   "source": []
  },
  {
   "cell_type": "code",
   "execution_count": null,
   "metadata": {
    "collapsed": true
   },
   "outputs": [],
   "source": []
  },
  {
   "cell_type": "code",
   "execution_count": null,
   "metadata": {
    "collapsed": true
   },
   "outputs": [],
   "source": []
  },
  {
   "cell_type": "code",
   "execution_count": 48,
   "metadata": {
    "collapsed": false
   },
   "outputs": [],
   "source": [
    "#url2 = 'http://rest.genome.jp/ezyme/CID16758819/C02140' #HTTPerror 404 url\n",
    "#url2 = 'http://rest.genome.jp/ezyme/CID104745/C17238'\n",
    "#url2 ='http://rest.genome.jp/ezyme/CID89488/C05498'\n",
    "try:\n",
    "    f2 = urlopen(url2)\n",
    "    all_data2 = f2.readlines()\n",
    "    data2 = all_data2[1].split('\\t')\n",
    "    predicted_orthology2 = data2[1]\n",
    "    predicted_score2 = data2[0]\n",
    "except urllib2.HTTPError as err:\n",
    "    if err.code == 404:\n",
    "        raise\n"
   ]
  },
  {
   "cell_type": "code",
   "execution_count": null,
   "metadata": {
    "collapsed": true
   },
   "outputs": [],
   "source": []
  },
  {
   "cell_type": "code",
   "execution_count": null,
   "metadata": {
    "collapsed": true
   },
   "outputs": [],
   "source": []
  },
  {
   "cell_type": "code",
   "execution_count": null,
   "metadata": {
    "collapsed": true
   },
   "outputs": [],
   "source": [
    "if connect:\n",
    "    predicted_result = web_ezyme2(df_query)\n",
    "else:\n",
    "    predict_result = pd.DataFrame()\n",
    "    for index, row in df_query.iterrows():\n",
    "        query = row.tolist()\n",
    "        result = df_orthology.query('@query[0] == substrate and @query[1] == product')\n",
    "        predict_result = predict_result.append(result)\n",
    "        predict_result"
   ]
  },
  {
   "cell_type": "code",
   "execution_count": 221,
   "metadata": {
    "collapsed": true
   },
   "outputs": [],
   "source": [
    "def web_ezyme2(df_query):\n",
    "      \n",
    "    predicted_result2 = pd.DataFrame()\n",
    "    cnt = 0 \n",
    "    url_base = 'http://rest.genome.jp/ezyme/'\n",
    "    \n",
    "    for index, row in df_query[cnt:].iterrows():\n",
    "        sub = int(row['substrate'])\n",
    "        pro = row['product']\n",
    "        url = url_base + 'CID'+str(sub) +'/' + pro\n",
    "        \n",
    "        try:\n",
    "            f = urlopen(url)\n",
    "            all_data = f.readlines()\n",
    "            data = all_data[1].split('\\t')\n",
    "            predicted_orthology = data[1]\n",
    "            predicted_score = data[0]\n",
    "        \n",
    "            temp_df = pd.DataFrame([[sub, pro, predicted_orthology, predicted_score]], columns = ['substrate', 'product', 'predicted_orthology', 'predicted_score'])\n",
    "            predicted_result2 = predicted_result2.append(temp_df)\n",
    "        \n",
    "        except urllib2.HTTPError, e:\n",
    "            cnt = cnt + 1\n",
    "            continue\n",
    "    \n",
    "    predicted_result2.index = range(0, len(predicted_result2))\n",
    "    return predicted_result2"
   ]
  },
  {
   "cell_type": "code",
   "execution_count": null,
   "metadata": {
    "collapsed": true
   },
   "outputs": [],
   "source": []
  },
  {
   "cell_type": "code",
   "execution_count": null,
   "metadata": {
    "collapsed": true
   },
   "outputs": [],
   "source": []
  },
  {
   "cell_type": "code",
   "execution_count": null,
   "metadata": {
    "collapsed": true
   },
   "outputs": [],
   "source": []
  },
  {
   "cell_type": "code",
   "execution_count": 193,
   "metadata": {
    "collapsed": false
   },
   "outputs": [
    {
     "data": {
      "text/html": [
       "<div>\n",
       "<table border=\"1\" class=\"dataframe\">\n",
       "  <thead>\n",
       "    <tr style=\"text-align: right;\">\n",
       "      <th></th>\n",
       "      <th>substrate</th>\n",
       "      <th>product</th>\n",
       "      <th>predicted_orthology</th>\n",
       "      <th>predicted_score</th>\n",
       "    </tr>\n",
       "  </thead>\n",
       "  <tbody>\n",
       "    <tr>\n",
       "      <th>31229</th>\n",
       "      <td>34964</td>\n",
       "      <td>C10175</td>\n",
       "      <td>K15506</td>\n",
       "      <td>0.137</td>\n",
       "    </tr>\n",
       "    <tr>\n",
       "      <th>31230</th>\n",
       "      <td>61907</td>\n",
       "      <td>C10175</td>\n",
       "      <td>K01730</td>\n",
       "      <td>0.092</td>\n",
       "    </tr>\n",
       "    <tr>\n",
       "      <th>31231</th>\n",
       "      <td>77622</td>\n",
       "      <td>C10175</td>\n",
       "      <td>K08681</td>\n",
       "      <td>0.013</td>\n",
       "    </tr>\n",
       "    <tr>\n",
       "      <th>31232</th>\n",
       "      <td>88970</td>\n",
       "      <td>C10175</td>\n",
       "      <td>K15506</td>\n",
       "      <td>0.131</td>\n",
       "    </tr>\n",
       "    <tr>\n",
       "      <th>31233</th>\n",
       "      <td>90406</td>\n",
       "      <td>C10175</td>\n",
       "      <td>K02611</td>\n",
       "      <td>0.085</td>\n",
       "    </tr>\n",
       "    <tr>\n",
       "      <th>31234</th>\n",
       "      <td>88968</td>\n",
       "      <td>C10175</td>\n",
       "      <td>K15506</td>\n",
       "      <td>0.108</td>\n",
       "    </tr>\n",
       "    <tr>\n",
       "      <th>31235</th>\n",
       "      <td>77625</td>\n",
       "      <td>C10175</td>\n",
       "      <td>K15506</td>\n",
       "      <td>0.125</td>\n",
       "    </tr>\n",
       "    <tr>\n",
       "      <th>31236</th>\n",
       "      <td>77626</td>\n",
       "      <td>C10175</td>\n",
       "      <td>K03781</td>\n",
       "      <td>0.201</td>\n",
       "    </tr>\n",
       "    <tr>\n",
       "      <th>31237</th>\n",
       "      <td>65001</td>\n",
       "      <td>C10175</td>\n",
       "      <td>K15506</td>\n",
       "      <td>0.123</td>\n",
       "    </tr>\n",
       "    <tr>\n",
       "      <th>40849</th>\n",
       "      <td>311</td>\n",
       "      <td>C01735</td>\n",
       "      <td>K15242</td>\n",
       "      <td>0.005</td>\n",
       "    </tr>\n",
       "    <tr>\n",
       "      <th>40850</th>\n",
       "      <td>311</td>\n",
       "      <td>C06174</td>\n",
       "      <td>K11785</td>\n",
       "      <td>0.005</td>\n",
       "    </tr>\n",
       "    <tr>\n",
       "      <th>40851</th>\n",
       "      <td>311</td>\n",
       "      <td>C16578</td>\n",
       "      <td>K15062</td>\n",
       "      <td>0.025</td>\n",
       "    </tr>\n",
       "    <tr>\n",
       "      <th>40852</th>\n",
       "      <td>311</td>\n",
       "      <td>C16643</td>\n",
       "      <td>K15062</td>\n",
       "      <td>0.030</td>\n",
       "    </tr>\n",
       "    <tr>\n",
       "      <th>40853</th>\n",
       "      <td>311</td>\n",
       "      <td>C11785</td>\n",
       "      <td>K15242</td>\n",
       "      <td>0.007</td>\n",
       "    </tr>\n",
       "    <tr>\n",
       "      <th>40885</th>\n",
       "      <td>57126</td>\n",
       "      <td>C12173</td>\n",
       "      <td>K13389</td>\n",
       "      <td>0.124</td>\n",
       "    </tr>\n",
       "    <tr>\n",
       "      <th>40895</th>\n",
       "      <td>63987</td>\n",
       "      <td>C12476</td>\n",
       "      <td>K11780</td>\n",
       "      <td>0.193</td>\n",
       "    </tr>\n",
       "    <tr>\n",
       "      <th>42192</th>\n",
       "      <td>52460</td>\n",
       "      <td>C16313</td>\n",
       "      <td>K15506</td>\n",
       "      <td>0.142</td>\n",
       "    </tr>\n",
       "    <tr>\n",
       "      <th>42193</th>\n",
       "      <td>52460</td>\n",
       "      <td>C16314</td>\n",
       "      <td>K15506</td>\n",
       "      <td>0.121</td>\n",
       "    </tr>\n",
       "    <tr>\n",
       "      <th>42194</th>\n",
       "      <td>52460</td>\n",
       "      <td>C16351</td>\n",
       "      <td>K15506</td>\n",
       "      <td>0.158</td>\n",
       "    </tr>\n",
       "    <tr>\n",
       "      <th>43244</th>\n",
       "      <td>44386</td>\n",
       "      <td>C12646</td>\n",
       "      <td>K15506</td>\n",
       "      <td>0.154</td>\n",
       "    </tr>\n",
       "    <tr>\n",
       "      <th>43245</th>\n",
       "      <td>44386</td>\n",
       "      <td>C16292</td>\n",
       "      <td>K15506</td>\n",
       "      <td>0.149</td>\n",
       "    </tr>\n",
       "    <tr>\n",
       "      <th>43246</th>\n",
       "      <td>79364</td>\n",
       "      <td>C12646</td>\n",
       "      <td>K03782</td>\n",
       "      <td>0.212</td>\n",
       "    </tr>\n",
       "    <tr>\n",
       "      <th>43247</th>\n",
       "      <td>79364</td>\n",
       "      <td>C16292</td>\n",
       "      <td>K15506</td>\n",
       "      <td>0.126</td>\n",
       "    </tr>\n",
       "  </tbody>\n",
       "</table>\n",
       "</div>"
      ],
      "text/plain": [
       "       substrate product predicted_orthology  predicted_score\n",
       "31229      34964  C10175              K15506            0.137\n",
       "31230      61907  C10175              K01730            0.092\n",
       "31231      77622  C10175              K08681            0.013\n",
       "31232      88970  C10175              K15506            0.131\n",
       "31233      90406  C10175              K02611            0.085\n",
       "31234      88968  C10175              K15506            0.108\n",
       "31235      77625  C10175              K15506            0.125\n",
       "31236      77626  C10175              K03781            0.201\n",
       "31237      65001  C10175              K15506            0.123\n",
       "40849        311  C01735              K15242            0.005\n",
       "40850        311  C06174              K11785            0.005\n",
       "40851        311  C16578              K15062            0.025\n",
       "40852        311  C16643              K15062            0.030\n",
       "40853        311  C11785              K15242            0.007\n",
       "40885      57126  C12173              K13389            0.124\n",
       "40895      63987  C12476              K11780            0.193\n",
       "42192      52460  C16313              K15506            0.142\n",
       "42193      52460  C16314              K15506            0.121\n",
       "42194      52460  C16351              K15506            0.158\n",
       "43244      44386  C12646              K15506            0.154\n",
       "43245      44386  C16292              K15506            0.149\n",
       "43246      79364  C12646              K03782            0.212\n",
       "43247      79364  C16292              K15506            0.126"
      ]
     },
     "execution_count": 193,
     "metadata": {},
     "output_type": "execute_result"
    }
   ],
   "source": [
    "predict_result"
   ]
  },
  {
   "cell_type": "code",
   "execution_count": null,
   "metadata": {
    "collapsed": true
   },
   "outputs": [],
   "source": []
  }
 ],
 "metadata": {
  "kernelspec": {
   "display_name": "Python 2",
   "language": "python",
   "name": "python2"
  },
  "language_info": {
   "codemirror_mode": {
    "name": "ipython",
    "version": 2
   },
   "file_extension": ".py",
   "mimetype": "text/x-python",
   "name": "python",
   "nbconvert_exporter": "python",
   "pygments_lexer": "ipython2",
   "version": "2.7.6"
  }
 },
 "nbformat": 4,
 "nbformat_minor": 0
}
