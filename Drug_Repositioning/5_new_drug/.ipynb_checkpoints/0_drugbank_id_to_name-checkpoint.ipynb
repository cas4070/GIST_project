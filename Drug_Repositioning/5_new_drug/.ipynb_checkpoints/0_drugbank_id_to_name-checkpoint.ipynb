{
 "cells": [
  {
   "cell_type": "code",
   "execution_count": 2,
   "metadata": {
    "collapsed": true
   },
   "outputs": [],
   "source": [
    "import numpy as np\n",
    "import pandas as pd\n",
    "from datetime import datetime"
   ]
  },
  {
   "cell_type": "code",
   "execution_count": 3,
   "metadata": {
    "collapsed": false
   },
   "outputs": [],
   "source": [
    "drugbank = pd.read_table(\"/home/share/aschoi/nas/users/jongsoo/drugBank/Compound_DrugBank.txt\")"
   ]
  },
  {
   "cell_type": "code",
   "execution_count": 26,
   "metadata": {
    "collapsed": false
   },
   "outputs": [],
   "source": [
    "drugbank_id = list()\n",
    "for i in drugbank['compID']:\n",
    "    str_i = str(i)\n",
    "    db_id = 'DB'+str_i.zfill(5)\n",
    "    drugbank_id.append(db_id)"
   ]
  },
  {
   "cell_type": "code",
   "execution_count": 32,
   "metadata": {
    "collapsed": false
   },
   "outputs": [],
   "source": [
    "drug_id_name = pd.DataFrame({'DrugBank_ID' : drugbank_id, 'Drug_Name' : drugbank['name'], 'synonym':drugbank['synonym']})"
   ]
  },
  {
   "cell_type": "code",
   "execution_count": 33,
   "metadata": {
    "collapsed": true
   },
   "outputs": [],
   "source": [
    "drug_id_name.to_csv(\"/DAS_Storage1/aschoi/data/Drug_Repositioning/5_new_drug/1_DrugBank_Id_Name.tsv\", sep='\\t', index=False)\n",
    "drug_id_name.to_csv(\"/home/share/aschoi/nas/users/asolchoi/data/Drug_Repositioning/5_new_drug/1_DrugBank_Id_Name.tsv\", sep='\\t', index=False)"
   ]
  },
  {
   "cell_type": "code",
   "execution_count": null,
   "metadata": {
    "collapsed": true
   },
   "outputs": [],
   "source": []
  }
 ],
 "metadata": {
  "kernelspec": {
   "display_name": "Python 2",
   "language": "python",
   "name": "python2"
  },
  "language_info": {
   "codemirror_mode": {
    "name": "ipython",
    "version": 2
   },
   "file_extension": ".py",
   "mimetype": "text/x-python",
   "name": "python",
   "nbconvert_exporter": "python",
   "pygments_lexer": "ipython2",
   "version": "2.7.6"
  }
 },
 "nbformat": 4,
 "nbformat_minor": 2
}
