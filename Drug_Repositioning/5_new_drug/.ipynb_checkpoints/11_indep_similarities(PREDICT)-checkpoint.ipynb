{
 "cells": [
  {
   "cell_type": "code",
   "execution_count": 21,
   "metadata": {
    "collapsed": true
   },
   "outputs": [],
   "source": [
    "import csv\n",
    "import numpy as np\n",
    "import os\n",
    "import pandas as pd\n",
    "import time\n",
    "import pybel"
   ]
  },
  {
   "cell_type": "code",
   "execution_count": 32,
   "metadata": {
    "collapsed": false
   },
   "outputs": [
    {
     "name": "stdout",
     "output_type": "stream",
     "text": [
      "71\n",
      "434\n"
     ]
    }
   ],
   "source": [
    "'''2017.4.20. gold에 포함되지 않는 indep drug와 gold drug간의 similarity 정보도 필요함.'''\n",
    "indep_asso = pd.read_table(\"/DAS_Storage1/aschoi/data/Drug_Repositioning/7_new_association/new_predict/3_indep_learning_asso.tsv\")\n",
    "print len(indep_asso['drug_id'].drop_duplicates())\n",
    "gold_asso = pd.read_table(\"/DAS_Storage1/aschoi/data/Drug_Repositioning/7_new_association/new_predict/1_gold_learning_asso.tsv\")\n",
    "print len(gold_asso['drug_id'].drop_duplicates())"
   ]
  },
  {
   "cell_type": "code",
   "execution_count": 4,
   "metadata": {
    "collapsed": true
   },
   "outputs": [],
   "source": [
    "gold_dr_id = gold_asso['drug_id'].drop_duplicates()\n",
    "indep_dr_id = indep_asso['drug_id'].drop_duplicates()"
   ]
  },
  {
   "cell_type": "code",
   "execution_count": 9,
   "metadata": {
    "collapsed": false
   },
   "outputs": [
    {
     "data": {
      "text/html": [
       "<div>\n",
       "<table border=\"1\" class=\"dataframe\">\n",
       "  <thead>\n",
       "    <tr style=\"text-align: right;\">\n",
       "      <th></th>\n",
       "      <th>Drug_Name</th>\n",
       "      <th>InChI</th>\n",
       "      <th>SMILES</th>\n",
       "      <th>State</th>\n",
       "    </tr>\n",
       "    <tr>\n",
       "      <th>DrugBank_ID</th>\n",
       "      <th></th>\n",
       "      <th></th>\n",
       "      <th></th>\n",
       "      <th></th>\n",
       "    </tr>\n",
       "  </thead>\n",
       "  <tbody>\n",
       "    <tr>\n",
       "      <th>DB00006</th>\n",
       "      <td>Bivalirudin</td>\n",
       "      <td>InChI=1S/C98H138N24O33/c1-5-52(4)82(96(153)122...</td>\n",
       "      <td>CC[C@H](C)[C@H](NC(=O)[C@H](CCC(O)=O)NC(=O)[C@...</td>\n",
       "      <td>approved</td>\n",
       "    </tr>\n",
       "  </tbody>\n",
       "</table>\n",
       "</div>"
      ],
      "text/plain": [
       "               Drug_Name                                              InChI  \\\n",
       "DrugBank_ID                                                                   \n",
       "DB00006      Bivalirudin  InChI=1S/C98H138N24O33/c1-5-52(4)82(96(153)122...   \n",
       "\n",
       "                                                        SMILES     State  \n",
       "DrugBank_ID                                                               \n",
       "DB00006      CC[C@H](C)[C@H](NC(=O)[C@H](CCC(O)=O)NC(=O)[C@...  approved  "
      ]
     },
     "execution_count": 9,
     "metadata": {},
     "output_type": "execute_result"
    }
   ],
   "source": [
    "drugbank = pd.read_table(\"/home/share/aschoi/nas/users/asolchoi/data/Drug_Repositioning/5_new_drug/drug_set.txt\", header=None)\n",
    "drugbank = drugbank.rename(columns = {0:'DrugBank_ID', 1:'Drug_Name', 2:'InChI', 3:'SMILES', 4:'State'})\n",
    "drugbank.set_index(['DrugBank_ID'], inplace = True)\n",
    "drugbank.head(1)"
   ]
  },
  {
   "cell_type": "code",
   "execution_count": 14,
   "metadata": {
    "collapsed": false
   },
   "outputs": [
    {
     "data": {
      "text/html": [
       "<div>\n",
       "<table border=\"1\" class=\"dataframe\">\n",
       "  <thead>\n",
       "    <tr style=\"text-align: right;\">\n",
       "      <th></th>\n",
       "      <th>DB00659</th>\n",
       "      <th>DB01193</th>\n",
       "      <th>DB00316</th>\n",
       "      <th>DB00819</th>\n",
       "      <th>DB00210</th>\n",
       "      <th>DB00640</th>\n",
       "      <th>DB00240</th>\n",
       "      <th>DB00630</th>\n",
       "      <th>DB00346</th>\n",
       "      <th>DB09026</th>\n",
       "      <th>...</th>\n",
       "      <th>DB00162</th>\n",
       "      <th>DB00126</th>\n",
       "      <th>DB02546</th>\n",
       "      <th>DB00682</th>\n",
       "      <th>DB00549</th>\n",
       "      <th>DB00744</th>\n",
       "      <th>DB00246</th>\n",
       "      <th>DB00399</th>\n",
       "      <th>DB00315</th>\n",
       "      <th>DB00909</th>\n",
       "    </tr>\n",
       "  </thead>\n",
       "  <tbody>\n",
       "    <tr>\n",
       "      <th>DB01200</th>\n",
       "      <td>0.0</td>\n",
       "      <td>0.0</td>\n",
       "      <td>0.0</td>\n",
       "      <td>0.0</td>\n",
       "      <td>0.0</td>\n",
       "      <td>0.0</td>\n",
       "      <td>0.0</td>\n",
       "      <td>0.0</td>\n",
       "      <td>0.0</td>\n",
       "      <td>0.0</td>\n",
       "      <td>...</td>\n",
       "      <td>0.0</td>\n",
       "      <td>0.0</td>\n",
       "      <td>0.0</td>\n",
       "      <td>0.0</td>\n",
       "      <td>0.0</td>\n",
       "      <td>0.0</td>\n",
       "      <td>0.0</td>\n",
       "      <td>0.0</td>\n",
       "      <td>0.0</td>\n",
       "      <td>0.0</td>\n",
       "    </tr>\n",
       "  </tbody>\n",
       "</table>\n",
       "<p>1 rows × 434 columns</p>\n",
       "</div>"
      ],
      "text/plain": [
       "         DB00659  DB01193  DB00316  DB00819  DB00210  DB00640  DB00240  \\\n",
       "DB01200      0.0      0.0      0.0      0.0      0.0      0.0      0.0   \n",
       "\n",
       "         DB00630  DB00346  DB09026   ...     DB00162  DB00126  DB02546  \\\n",
       "DB01200      0.0      0.0      0.0   ...         0.0      0.0      0.0   \n",
       "\n",
       "         DB00682  DB00549  DB00744  DB00246  DB00399  DB00315  DB00909  \n",
       "DB01200      0.0      0.0      0.0      0.0      0.0      0.0      0.0  \n",
       "\n",
       "[1 rows x 434 columns]"
      ]
     },
     "execution_count": 14,
     "metadata": {},
     "output_type": "execute_result"
    }
   ],
   "source": [
    "indep_sim_mat = pd.DataFrame(columns = gold_dr_id.tolist(), index = indep_dr_id.tolist())\n",
    "indep_sim_mat = indep_sim_mat.fillna(0.0)\n",
    "indep_sim_mat.head(1)"
   ]
  },
  {
   "cell_type": "code",
   "execution_count": 30,
   "metadata": {
    "collapsed": false
   },
   "outputs": [],
   "source": [
    "for index, row in indep_sim_mat.iterrows():\n",
    "    indep_smi = drugbank.filter(items = [index], axis = 0)['SMILES'].tolist()[0]\n",
    "    for dr_id in gold_dr_id:\n",
    "        gold_smi = drugbank.filter(items = [dr_id], axis = 0)['SMILES'].tolist()[0]\n",
    "        \n",
    "        smiles = [indep_smi, gold_smi]\n",
    "        mol = [pybel.readstring('smi',x) for x in smiles]\n",
    "        fps = [x.calcfp(fptype='FP2') for x in mol]\n",
    "        sim = fps[0] | fps[1]\n",
    "        indep_sim_mat.set_value(index, dr_id, sim)  "
   ]
  },
  {
   "cell_type": "code",
   "execution_count": 34,
   "metadata": {
    "collapsed": false
   },
   "outputs": [
    {
     "data": {
      "text/plain": [
       "False"
      ]
     },
     "execution_count": 34,
     "metadata": {},
     "output_type": "execute_result"
    }
   ],
   "source": [
    "indep_sim_mat.isnull().any().any()"
   ]
  },
  {
   "cell_type": "code",
   "execution_count": 36,
   "metadata": {
    "collapsed": false
   },
   "outputs": [],
   "source": [
    "indep_sim_mat.to_csv(\"/DAS_Storage1/aschoi/data/Drug_Repositioning/5_new_drug/new_predict/2_2_2_indep_drug_gold_drug_str_sim_mat.tsv\", sep='\\t')\n",
    "indep_sim_mat.to_csv(\"/home/share/aschoi/nas/users/asolchoi/data/Drug_Repositioning/5_new_drug/new_predict/2_2_2_indep_drug_gold_drug_str_sim_mat.tsv\", sep='\\t')"
   ]
  },
  {
   "cell_type": "code",
   "execution_count": null,
   "metadata": {
    "collapsed": true
   },
   "outputs": [],
   "source": [
    "# indep의 structure sim descriptor \n",
    "indep_sim = pd.read_table(\"/DAS_Storage1/aschoi/data/Drug_Repositioning/5_new_drug/new_predict/2_indep_drug_drug_str_sim_mat.tsv\", index_col = 0)"
   ]
  },
  {
   "cell_type": "code",
   "execution_count": null,
   "metadata": {
    "collapsed": true
   },
   "outputs": [],
   "source": []
  },
  {
   "cell_type": "code",
   "execution_count": 2,
   "metadata": {
    "collapsed": false
   },
   "outputs": [
    {
     "name": "stdout",
     "output_type": "stream",
     "text": [
      "2555\n",
      "93\n",
      "2462\n",
      "73\n",
      "35\n"
     ]
    },
    {
     "data": {
      "text/html": [
       "<div>\n",
       "<table border=\"1\" class=\"dataframe\">\n",
       "  <thead>\n",
       "    <tr style=\"text-align: right;\">\n",
       "      <th></th>\n",
       "      <th>drug</th>\n",
       "      <th>disease</th>\n",
       "      <th>association</th>\n",
       "    </tr>\n",
       "  </thead>\n",
       "  <tbody>\n",
       "    <tr>\n",
       "      <th>0</th>\n",
       "      <td>DB00125</td>\n",
       "      <td>102300</td>\n",
       "      <td>0</td>\n",
       "    </tr>\n",
       "  </tbody>\n",
       "</table>\n",
       "</div>"
      ],
      "text/plain": [
       "      drug  disease  association\n",
       "0  DB00125   102300            0"
      ]
     },
     "execution_count": 2,
     "metadata": {},
     "output_type": "execute_result"
    }
   ],
   "source": [
    "indep_asso = pd.read_table(\"/DAS_Storage1/aschoi/data/Drug_Repositioning/7_new_association/9_2_indep_learning_association.tsv\")\n",
    "print len(indep_asso)\n",
    "print len(indep_asso[indep_asso.association == 1]) # positive\n",
    "print len(indep_asso[indep_asso.association == 0]) # negative\n",
    "print len(indep_asso['drug'].drop_duplicates())\n",
    "print len(indep_asso['disease'].drop_duplicates())\n",
    "indep_asso.head(1)"
   ]
  },
  {
   "cell_type": "code",
   "execution_count": 3,
   "metadata": {
    "collapsed": false
   },
   "outputs": [
    {
     "data": {
      "text/html": [
       "<div>\n",
       "<table border=\"1\" class=\"dataframe\">\n",
       "  <thead>\n",
       "    <tr style=\"text-align: right;\">\n",
       "      <th></th>\n",
       "      <th>DrugBank_ID</th>\n",
       "      <th>Drug_Name</th>\n",
       "      <th>InChI</th>\n",
       "      <th>SMILES</th>\n",
       "      <th>State</th>\n",
       "    </tr>\n",
       "  </thead>\n",
       "  <tbody>\n",
       "    <tr>\n",
       "      <th>0</th>\n",
       "      <td>DB00006</td>\n",
       "      <td>Bivalirudin</td>\n",
       "      <td>InChI=1S/C98H138N24O33/c1-5-52(4)82(96(153)122...</td>\n",
       "      <td>CC[C@H](C)[C@H](NC(=O)[C@H](CCC(O)=O)NC(=O)[C@...</td>\n",
       "      <td>approved</td>\n",
       "    </tr>\n",
       "  </tbody>\n",
       "</table>\n",
       "</div>"
      ],
      "text/plain": [
       "  DrugBank_ID    Drug_Name                                              InChI  \\\n",
       "0     DB00006  Bivalirudin  InChI=1S/C98H138N24O33/c1-5-52(4)82(96(153)122...   \n",
       "\n",
       "                                              SMILES     State  \n",
       "0  CC[C@H](C)[C@H](NC(=O)[C@H](CCC(O)=O)NC(=O)[C@...  approved  "
      ]
     },
     "execution_count": 3,
     "metadata": {},
     "output_type": "execute_result"
    }
   ],
   "source": [
    "drugbank = pd.read_table(\"/home/share/aschoi/nas/users/asolchoi/data/Drug_Repositioning/5_new_drug/drug_set.txt\", header=None)\n",
    "drugbank = drugbank.rename(columns = {0:'DrugBank_ID', 1:'Drug_Name', 2:'InChI', 3:'SMILES', 4:'State'})\n",
    "drugbank.head(1)"
   ]
  },
  {
   "cell_type": "code",
   "execution_count": 4,
   "metadata": {
    "collapsed": false
   },
   "outputs": [
    {
     "name": "stdout",
     "output_type": "stream",
     "text": [
      "71\n"
     ]
    },
    {
     "name": "stderr",
     "output_type": "stream",
     "text": [
      "/usr/local/lib/python2.7/dist-packages/pandas/core/generic.py:2773: SettingWithCopyWarning: \n",
      "A value is trying to be set on a copy of a slice from a DataFrame.\n",
      "Try using .loc[row_indexer,col_indexer] = value instead\n",
      "\n",
      "See the caveats in the documentation: http://pandas.pydata.org/pandas-docs/stable/indexing.html#indexing-view-versus-copy\n",
      "  self[name] = value\n"
     ]
    },
    {
     "data": {
      "text/html": [
       "<div>\n",
       "<table border=\"1\" class=\"dataframe\">\n",
       "  <thead>\n",
       "    <tr style=\"text-align: right;\">\n",
       "      <th></th>\n",
       "      <th>DrugBank_ID</th>\n",
       "      <th>Drug_Name</th>\n",
       "      <th>InChI</th>\n",
       "      <th>SMILES</th>\n",
       "      <th>State</th>\n",
       "    </tr>\n",
       "  </thead>\n",
       "  <tbody>\n",
       "    <tr>\n",
       "      <th>17</th>\n",
       "      <td>DB00125</td>\n",
       "      <td>L-Arginine</td>\n",
       "      <td>InChI=1S/C6H14N4O2/c7-4(5(11)12)2-1-3-10-6(8)9...</td>\n",
       "      <td>N[C@@H](CCCNC(N)=N)C(O)=O</td>\n",
       "      <td>approved</td>\n",
       "    </tr>\n",
       "  </tbody>\n",
       "</table>\n",
       "</div>"
      ],
      "text/plain": [
       "   DrugBank_ID   Drug_Name                                              InChI  \\\n",
       "17     DB00125  L-Arginine  InChI=1S/C6H14N4O2/c7-4(5(11)12)2-1-3-10-6(8)9...   \n",
       "\n",
       "                       SMILES     State  \n",
       "17  N[C@@H](CCCNC(N)=N)C(O)=O  approved  "
      ]
     },
     "execution_count": 4,
     "metadata": {},
     "output_type": "execute_result"
    }
   ],
   "source": [
    "indep_drug_id = indep_asso['drug'].drop_duplicates()\n",
    "#indep_drug의 순서대로 drugbank를 정렬하기.\n",
    "df_indep_drug_smiles = drugbank[drugbank['DrugBank_ID'].isin(indep_drug_id)]\n",
    "sorter = indep_drug_id.tolist()\n",
    "df_indep_drug_smiles.DrugBank_ID = df_indep_drug_smiles.DrugBank_ID.astype(\"category\")\n",
    "df_indep_drug_smiles.DrugBank_ID.cat.set_categories(sorter, inplace=True)\n",
    "df_indep_drug_smiles = df_indep_drug_smiles.sort_values([\"DrugBank_ID\"])\n",
    "print len(df_indep_drug_smiles)\n",
    "df_indep_drug_smiles.head(1) # drug bank id로 중복체크 했을 때 중복 없었음."
   ]
  },
  {
   "cell_type": "code",
   "execution_count": 5,
   "metadata": {
    "collapsed": false
   },
   "outputs": [],
   "source": [
    "########파일 아웃풋 필요\n",
    "new_asso = indep_asso[indep_asso['drug'].isin(df_indep_drug_smiles['DrugBank_ID'])]"
   ]
  },
  {
   "cell_type": "code",
   "execution_count": 6,
   "metadata": {
    "collapsed": true
   },
   "outputs": [],
   "source": [
    "new_asso.to_csv(\"/home/share/aschoi/nas/users/asolchoi/data/Drug_Repositioning/7_new_association/10_PREDICT_association_indep.tsv\",sep='\\t', index=False)\n",
    "new_asso.to_csv(\"/DAS_Storage1/aschoi/data/Drug_Repositioning/7_new_association/10_PREDICT_association_indep.tsv\", sindex=False)"
   ]
  },
  {
   "cell_type": "code",
   "execution_count": 8,
   "metadata": {
    "collapsed": false
   },
   "outputs": [],
   "source": [
    "import pybel\n",
    "df_sim = pd.DataFrame()\n",
    "drug_id = df_indep_drug_smiles['DrugBank_ID'].tolist()\n",
    "for i in drug_id:\n",
    "    smi1 = df_indep_drug_smiles[df_indep_drug_smiles.DrugBank_ID == i]['SMILES'].tolist()[0]\n",
    "    for j in drug_id:\n",
    "        smi2 = df_indep_drug_smiles[df_indep_drug_smiles.DrugBank_ID == j]['SMILES'].tolist()[0]\n",
    "        \n",
    "        smiles = [smi1, smi2]\n",
    "        mol = [pybel.readstring('smi',x) for x in smiles]\n",
    "        fps = [x.calcfp(fptype='FP2') for x in mol]\n",
    "        sim = fps[0] | fps[1]\n",
    "        \n",
    "        temp_df = pd.DataFrame([[i, j, sim]], columns = ['DrugBank_ID1','DrugBank_ID2', 'CheSim'])\n",
    "        df_sim = df_sim.append(temp_df)"
   ]
  },
  {
   "cell_type": "code",
   "execution_count": 10,
   "metadata": {
    "collapsed": false
   },
   "outputs": [],
   "source": [
    "df_sim.to_csv(\"/home/share/aschoi/nas/users/asolchoi/data/Drug_Repositioning/5_new_drug/9_indep_drug_similarity_structure.tsv\", sep='\\t', index=False)\n",
    "df_sim.to_csv(\"/DAS_Storage1/aschoi/data/Drug_Repositioning/5_new_drug/9_indep_drug_similarity_structure.tsv\", sep='\\t', index=False)"
   ]
  },
  {
   "cell_type": "code",
   "execution_count": null,
   "metadata": {
    "collapsed": true
   },
   "outputs": [],
   "source": [
    "df_sim = pd.read_table(\"/DAS_Storage1/aschoi/data/Drug_Repositioning/5_new_drug/9_indep_drug_similarity_structure.tsv\")"
   ]
  },
  {
   "cell_type": "code",
   "execution_count": null,
   "metadata": {
    "collapsed": true
   },
   "outputs": [],
   "source": [
    "##### phenotypic similaritied"
   ]
  },
  {
   "cell_type": "code",
   "execution_count": 15,
   "metadata": {
    "collapsed": false
   },
   "outputs": [],
   "source": [
    "indep_desc = pd.read_table(\"/DAS_Storage1/aschoi/data/Drug_Repositioning/8_new_training/2_2_indep_asso_descriptor.tsv\")"
   ]
  },
  {
   "cell_type": "code",
   "execution_count": 46,
   "metadata": {
    "collapsed": false
   },
   "outputs": [
    {
     "name": "stdout",
     "output_type": "stream",
     "text": [
      "(2555, 2277)\n"
     ]
    }
   ],
   "source": [
    "indep_drug_feature = indep_desc[['drug_id']+indep_desc.columns.values[3:2279].tolist()]\n",
    "print indep_drug_feature.shape"
   ]
  },
  {
   "cell_type": "code",
   "execution_count": 66,
   "metadata": {
    "collapsed": false,
    "scrolled": true
   },
   "outputs": [
    {
     "name": "stdout",
     "output_type": "stream",
     "text": [
      "(73, 2277)\n"
     ]
    },
    {
     "data": {
      "text/html": [
       "<div>\n",
       "<table border=\"1\" class=\"dataframe\">\n",
       "  <thead>\n",
       "    <tr style=\"text-align: right;\">\n",
       "      <th></th>\n",
       "      <th>drug_id</th>\n",
       "      <th>C0000737</th>\n",
       "      <th>C0000786</th>\n",
       "      <th>C0001824</th>\n",
       "      <th>C0002170</th>\n",
       "      <th>C0002453</th>\n",
       "      <th>C0002622</th>\n",
       "      <th>C0002792</th>\n",
       "      <th>C0002871</th>\n",
       "      <th>C0002884</th>\n",
       "      <th>...</th>\n",
       "      <th>C0395005</th>\n",
       "      <th>C0424082</th>\n",
       "      <th>C0549334</th>\n",
       "      <th>C1096460</th>\n",
       "      <th>C0008497</th>\n",
       "      <th>C0581395</th>\n",
       "      <th>C0151964</th>\n",
       "      <th>C1697943</th>\n",
       "      <th>C0567085</th>\n",
       "      <th>C0854954</th>\n",
       "    </tr>\n",
       "  </thead>\n",
       "  <tbody>\n",
       "    <tr>\n",
       "      <th>0</th>\n",
       "      <td>DB00125</td>\n",
       "      <td>0</td>\n",
       "      <td>0</td>\n",
       "      <td>0</td>\n",
       "      <td>0</td>\n",
       "      <td>0</td>\n",
       "      <td>0</td>\n",
       "      <td>1</td>\n",
       "      <td>0</td>\n",
       "      <td>0</td>\n",
       "      <td>...</td>\n",
       "      <td>0</td>\n",
       "      <td>0</td>\n",
       "      <td>0</td>\n",
       "      <td>0</td>\n",
       "      <td>0</td>\n",
       "      <td>0</td>\n",
       "      <td>0</td>\n",
       "      <td>0</td>\n",
       "      <td>0</td>\n",
       "      <td>0</td>\n",
       "    </tr>\n",
       "    <tr>\n",
       "      <th>1</th>\n",
       "      <td>DB00136</td>\n",
       "      <td>1</td>\n",
       "      <td>0</td>\n",
       "      <td>0</td>\n",
       "      <td>0</td>\n",
       "      <td>0</td>\n",
       "      <td>0</td>\n",
       "      <td>1</td>\n",
       "      <td>0</td>\n",
       "      <td>0</td>\n",
       "      <td>...</td>\n",
       "      <td>0</td>\n",
       "      <td>0</td>\n",
       "      <td>0</td>\n",
       "      <td>0</td>\n",
       "      <td>0</td>\n",
       "      <td>0</td>\n",
       "      <td>0</td>\n",
       "      <td>0</td>\n",
       "      <td>0</td>\n",
       "      <td>0</td>\n",
       "    </tr>\n",
       "  </tbody>\n",
       "</table>\n",
       "<p>2 rows × 2277 columns</p>\n",
       "</div>"
      ],
      "text/plain": [
       "   drug_id  C0000737  C0000786  C0001824  C0002170  C0002453  C0002622  \\\n",
       "0  DB00125         0         0         0         0         0         0   \n",
       "1  DB00136         1         0         0         0         0         0   \n",
       "\n",
       "   C0002792  C0002871  C0002884    ...     C0395005  C0424082  C0549334  \\\n",
       "0         1         0         0    ...            0         0         0   \n",
       "1         1         0         0    ...            0         0         0   \n",
       "\n",
       "   C1096460  C0008497  C0581395  C0151964  C1697943  C0567085  C0854954  \n",
       "0         0         0         0         0         0         0         0  \n",
       "1         0         0         0         0         0         0         0  \n",
       "\n",
       "[2 rows x 2277 columns]"
      ]
     },
     "execution_count": 66,
     "metadata": {},
     "output_type": "execute_result"
    }
   ],
   "source": [
    "indep_drug_feature = indep_drug_feature.drop_duplicates('drug_id')\n",
    "print indep_drug_feature.shape\n",
    "indep_drug_feature.head(2)"
   ]
  },
  {
   "cell_type": "code",
   "execution_count": 68,
   "metadata": {
    "collapsed": false
   },
   "outputs": [],
   "source": [
    "# 아래 for loop에서 index 지정 에러가 떠서 0으로 통일 시킴.\n",
    "indep_drug_feature.index = [0 for i in range(len(indep_drug_feature))]"
   ]
  },
  {
   "cell_type": "code",
   "execution_count": 70,
   "metadata": {
    "collapsed": false
   },
   "outputs": [],
   "source": [
    "from sklearn.metrics import jaccard_similarity_score\n",
    "df_jac = pd.DataFrame()\n",
    "drug_id = df_indep_drug_smiles['DrugBank_ID'].tolist()\n",
    "for i in drug_id:\n",
    "    desc1 = indep_drug_feature[indep_drug_feature.drug_id == i].loc[0][1:]\n",
    "    for j in drug_id:\n",
    "        desc2 = indep_drug_feature[indep_drug_feature.drug_id == j].loc[0][1:]\n",
    "        \n",
    "        jac_sim = jaccard_similarity_score(desc1.tolist(),desc2.tolist())\n",
    "        \n",
    "        temp_df = pd.DataFrame([[i, j, jac_sim]], columns = ['DrugBank_ID1','DrugBank_ID2', 'PheSim'])\n",
    "        df_jac = df_jac.append(temp_df)"
   ]
  },
  {
   "cell_type": "code",
   "execution_count": 73,
   "metadata": {
    "collapsed": true
   },
   "outputs": [],
   "source": [
    "df_jac.to_csv(\"/home/share/aschoi/nas/users/asolchoi/data/Drug_Repositioning/5_new_drug/9_indep_drug_similarity_phenotype.tsv\", sep='\\t', index=False)\n",
    "df_jac.to_csv(\"/DAS_Storage1/aschoi/data/Drug_Repositioning/5_new_drug/9_indep_drug_similarity_phenotype.tsv\", sep='\\t', index=False)"
   ]
  },
  {
   "cell_type": "code",
   "execution_count": 3,
   "metadata": {
    "collapsed": false
   },
   "outputs": [],
   "source": [
    "#### drug similarities 합치는 과정\n",
    "drug_ch = pd.read_table(\"/DAS_Storage1/aschoi/data/Drug_Repositioning/5_new_drug/9_indep_drug_similarity_structure.tsv\")\n",
    "drug_ph = pd.read_table(\"/DAS_Storage1/aschoi/data/Drug_Repositioning/5_new_drug/9_indep_drug_similarity_phenotype.tsv\")\n",
    "df_drug_sim = pd.merge(left = drug_ch, right= drug_ph, left_on = ['DrugBank_ID1', 'DrugBank_ID2'], right_on = ['DrugBank_ID1', 'DrugBank_ID2'])\n",
    "df_drug_sim = df_drug_sim.rename(columns = {'Similarity_Score_x' : 'CheSim', 'Similarity_Score_y':'PheSim'})\n",
    "df_drug_sim.to_csv(\"/home/share/aschoi/nas/users/asolchoi/data/Drug_Repositioning/5_new_drug/9_indep_drug_similarity_whole.tsv\", index=False, sep='\\t')\n",
    "df_drug_sim.to_csv(\"/DAS_Storage1/aschoi/data/Drug_Repositioning/5_new_drug/9_indep_drug_similarity_whole.tsv\", index=False, sep='\\t')"
   ]
  },
  {
   "cell_type": "code",
   "execution_count": null,
   "metadata": {
    "collapsed": true
   },
   "outputs": [],
   "source": []
  }
 ],
 "metadata": {
  "kernelspec": {
   "display_name": "Python 2",
   "language": "python",
   "name": "python2"
  },
  "language_info": {
   "codemirror_mode": {
    "name": "ipython",
    "version": 2
   },
   "file_extension": ".py",
   "mimetype": "text/x-python",
   "name": "python",
   "nbconvert_exporter": "python",
   "pygments_lexer": "ipython2",
   "version": "2.7.6"
  }
 },
 "nbformat": 4,
 "nbformat_minor": 0
}
