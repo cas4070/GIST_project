{
 "cells": [
  {
   "cell_type": "code",
   "execution_count": 1,
   "metadata": {
    "collapsed": true
   },
   "outputs": [],
   "source": [
    "import pandas as pd\n",
    "import numpy as np\n",
    "from datetime import datetime\n",
    "import csv\n",
    "from urllib2 import urlopen # python2\n",
    "import urllib2\n",
    "import time"
   ]
  },
  {
   "cell_type": "code",
   "execution_count": 2,
   "metadata": {
    "collapsed": true
   },
   "outputs": [],
   "source": [
    "df_sider_indication_raw = pd.read_table(\"/DAS_Storage1/aschoi/data/Drug_Repositioning/5_new_drug/meddra_all_indications_header.tsv\")"
   ]
  },
  {
   "cell_type": "code",
   "execution_count": 5,
   "metadata": {
    "collapsed": false
   },
   "outputs": [],
   "source": [
    "df_sider_indication_pt = df_sider_indication_raw[df_sider_indication_raw.MedDRA_concept_type == 'PT']"
   ]
  },
  {
   "cell_type": "code",
   "execution_count": 25,
   "metadata": {
    "collapsed": false,
    "scrolled": false
   },
   "outputs": [],
   "source": [
    "df_sider_indication = df_sider_indication_pt[['STITCH_compound_id_flat', 'UMLS_concept_id_for_MedDRA','MedDRA_concept_name']].drop_duplicates()"
   ]
  },
  {
   "cell_type": "code",
   "execution_count": 28,
   "metadata": {
    "collapsed": true
   },
   "outputs": [],
   "source": [
    "df_stitch = pd.read_table(\"/DAS_Storage1/aschoi/data/COCONUT_Herbal/7_Ezyme_tool/STITCH_CID.tsv\")"
   ]
  },
  {
   "cell_type": "code",
   "execution_count": 57,
   "metadata": {
    "collapsed": false
   },
   "outputs": [
    {
     "name": "stdout",
     "output_type": "stream",
     "text": [
      "15083\n",
      "1437\n",
      "45598\n",
      "1437\n"
     ]
    }
   ],
   "source": [
    "print len(df_sider_indication) # sider의 indication 총 개수\n",
    "print len(df_sider_indication['STITCH_compound_id_flat'].drop_duplicates()) # indication 정보를 가지고 있는 compound의 개수-->1437개\n",
    "\n",
    "# stitch_pc id mapping 파일에서 sider에 indication 정보가 존재하는 stitch id를 솎아낸다.\n",
    "df_query = df_stitch[df_stitch['flat_chemical'].isin(df_sider_indication['STITCH_compound_id_flat'])] \n",
    "print len(df_query) # stitch id와 mapping되는 pc의 개수(pc는 중복 없음)\n",
    "print len(df_query.drop_duplicates('flat_chemical')) #stitch_id의 개수 "
   ]
  },
  {
   "cell_type": "code",
   "execution_count": null,
   "metadata": {
    "collapsed": true
   },
   "outputs": [],
   "source": [
    "df_query.to_csv(\"/DAS_Storage1/aschoi/data/Drug_Repositioning/5_new_drug/11_0_query_pubchemID.tsv\", sep='\\t', index=False)"
   ]
  },
  {
   "cell_type": "code",
   "execution_count": 2,
   "metadata": {
    "collapsed": true
   },
   "outputs": [],
   "source": [
    "df_query = pd.read_table(\"/DAS_Storage1/aschoi/data/Drug_Repositioning/5_new_drug/11_0_query_pubchemID.tsv\")"
   ]
  },
  {
   "cell_type": "code",
   "execution_count": 3,
   "metadata": {
    "collapsed": false,
    "scrolled": true
   },
   "outputs": [
    {
     "name": "stdout",
     "output_type": "stream",
     "text": [
      "45598\n",
      "1437\n"
     ]
    },
    {
     "data": {
      "text/html": [
       "<div>\n",
       "<table border=\"1\" class=\"dataframe\">\n",
       "  <thead>\n",
       "    <tr style=\"text-align: right;\">\n",
       "      <th></th>\n",
       "      <th>flat_chemical</th>\n",
       "      <th>stereo_chemical</th>\n",
       "      <th>source_name</th>\n",
       "      <th>source_id</th>\n",
       "    </tr>\n",
       "  </thead>\n",
       "  <tbody>\n",
       "    <tr>\n",
       "      <th>0</th>\n",
       "      <td>CID100002735</td>\n",
       "      <td>CID010000117</td>\n",
       "      <td>PC</td>\n",
       "      <td>10000117</td>\n",
       "    </tr>\n",
       "  </tbody>\n",
       "</table>\n",
       "</div>"
      ],
      "text/plain": [
       "  flat_chemical stereo_chemical source_name  source_id\n",
       "0  CID100002735    CID010000117          PC   10000117"
      ]
     },
     "execution_count": 3,
     "metadata": {},
     "output_type": "execute_result"
    }
   ],
   "source": [
    "print len(df_query)\n",
    "print len(df_query.drop_duplicates('flat_chemical'))\n",
    "df_query.head(1)"
   ]
  },
  {
   "cell_type": "code",
   "execution_count": 4,
   "metadata": {
    "collapsed": false
   },
   "outputs": [
    {
     "name": "stdout",
     "output_type": "stream",
     "text": [
      "11400 : 2017-03-26 20:37:39\n",
      "12000 : 2017-03-26 20:48:40\n",
      "13000 : 2017-03-26 21:07:05\n",
      "14000 : 2017-03-26 21:25:32\n",
      "15000 : 2017-03-26 21:43:53\n",
      "flat_chemical      CID144146714\n",
      "stereo_chemical    CID044146714\n",
      "source_name                  PC\n",
      "source_id              44146714\n",
      "Name: 15323, dtype: object\n",
      "flat_chemical      CID116137828\n",
      "stereo_chemical    CID016137828\n",
      "source_name                  PC\n",
      "source_id              44147413\n",
      "Name: 15330, dtype: object\n",
      "flat_chemical      CID144152182\n",
      "stereo_chemical    CID044152182\n",
      "source_name                  PC\n",
      "source_id              44152182\n",
      "Name: 15370, dtype: object\n",
      "flat_chemical      CID144201342\n",
      "stereo_chemical    CID044201342\n",
      "source_name                  PC\n",
      "source_id              44201342\n",
      "Name: 15830, dtype: object\n",
      "flat_chemical      CID144201343\n",
      "stereo_chemical    CID044201343\n",
      "source_name                  PC\n",
      "source_id              44201343\n",
      "Name: 15831, dtype: object\n",
      "16000 : 2017-03-26 22:02:13\n",
      "flat_chemical      CID100002909\n",
      "stereo_chemical    CID044264467\n",
      "source_name                  PC\n",
      "source_id              44264467\n",
      "Name: 16006, dtype: object\n",
      "flat_chemical      CID116132344\n",
      "stereo_chemical    CID044290426\n",
      "source_name                  PC\n",
      "source_id              44290426\n",
      "Name: 16085, dtype: object\n",
      "flat_chemical      CID100002307\n",
      "stereo_chemical    CID044297898\n",
      "source_name                  PC\n",
      "source_id              44297898\n",
      "Name: 16110, dtype: object\n",
      "flat_chemical      CID100021800\n",
      "stereo_chemical    CID044297994\n",
      "source_name                  PC\n",
      "source_id              44297994\n",
      "Name: 16111, dtype: object\n",
      "flat_chemical      CID100003392\n",
      "stereo_chemical    CID044307494\n",
      "source_name                  PC\n",
      "source_id              44307494\n",
      "Name: 16140, dtype: object\n",
      "flat_chemical      CID100062965\n",
      "stereo_chemical    CID044307573\n",
      "source_name                  PC\n",
      "source_id              44307573\n",
      "Name: 16141, dtype: object\n",
      "flat_chemical      CID100004896\n",
      "stereo_chemical    CID044307623\n",
      "source_name                  PC\n",
      "source_id              44307623\n",
      "Name: 16145, dtype: object\n",
      "flat_chemical      CID100003060\n",
      "stereo_chemical    CID044307769\n",
      "source_name                  PC\n",
      "source_id              44307769\n",
      "Name: 16149, dtype: object\n",
      "flat_chemical      CID106333887\n",
      "stereo_chemical    CID006333887\n",
      "source_name                  PC\n",
      "source_id              44310948\n",
      "Name: 16160, dtype: object\n",
      "flat_chemical      CID100005726\n",
      "stereo_chemical    CID044312932\n",
      "source_name                  PC\n",
      "source_id              44312932\n",
      "Name: 16163, dtype: object\n",
      "flat_chemical      CID100036523\n",
      "stereo_chemical    CID044315038\n",
      "source_name                  PC\n",
      "source_id              44315038\n",
      "Name: 16169, dtype: object\n",
      "flat_chemical      CID100003443\n",
      "stereo_chemical    CID044336340\n",
      "source_name                  PC\n",
      "source_id              44336340\n",
      "Name: 16223, dtype: object\n",
      "flat_chemical      CID100003381\n",
      "stereo_chemical    CID044339725\n",
      "source_name                  PC\n",
      "source_id              44339725\n",
      "Name: 16236, dtype: object\n",
      "flat_chemical      CID100003310\n",
      "stereo_chemical    CID044343082\n",
      "source_name                  PC\n",
      "source_id              44343082\n",
      "Name: 16247, dtype: object\n",
      "flat_chemical      CID100005645\n",
      "stereo_chemical    CID044345272\n",
      "source_name                  PC\n",
      "source_id              44345272\n",
      "Name: 16250, dtype: object\n",
      "flat_chemical      CID100005155\n",
      "stereo_chemical    CID044358616\n",
      "source_name                  PC\n",
      "source_id              44358616\n",
      "Name: 16278, dtype: object\n",
      "flat_chemical      CID100004609\n",
      "stereo_chemical    CID044365316\n",
      "source_name                  PC\n",
      "source_id              44365316\n",
      "Name: 16299, dtype: object\n",
      "flat_chemical      CID100004609\n",
      "stereo_chemical    CID000004609\n",
      "source_name                  PC\n",
      "source_id              44365400\n",
      "Name: 16300, dtype: object\n",
      "flat_chemical      CID100004609\n",
      "stereo_chemical    CID044365492\n",
      "source_name                  PC\n",
      "source_id              44365492\n",
      "Name: 16302, dtype: object\n",
      "flat_chemical      CID100004163\n",
      "stereo_chemical    CID044368276\n",
      "source_name                  PC\n",
      "source_id              44368276\n",
      "Name: 16306, dtype: object\n",
      "flat_chemical      CID100005645\n",
      "stereo_chemical    CID044376601\n",
      "source_name                  PC\n",
      "source_id              44376601\n",
      "Name: 16322, dtype: object\n",
      "flat_chemical      CID100032281\n",
      "stereo_chemical    CID044377238\n",
      "source_name                  PC\n",
      "source_id              44377238\n",
      "Name: 16325, dtype: object\n",
      "flat_chemical      CID100002909\n",
      "stereo_chemical    CID044377383\n",
      "source_name                  PC\n",
      "source_id              44377383\n",
      "Name: 16326, dtype: object\n",
      "flat_chemical      CID100002767\n",
      "stereo_chemical    CID000002767\n",
      "source_name                  PC\n",
      "source_id              44381938\n",
      "Name: 16332, dtype: object\n",
      "flat_chemical      CID100004896\n",
      "stereo_chemical    CID044445747\n",
      "source_name                  PC\n",
      "source_id              44445747\n",
      "Name: 16474, dtype: object\n",
      "flat_chemical      CID100004264\n",
      "stereo_chemical    CID044450726\n",
      "source_name                  PC\n",
      "source_id              44450726\n",
      "Name: 16482, dtype: object\n",
      "flat_chemical      CID100005106\n",
      "stereo_chemical    CID044452356\n",
      "source_name                  PC\n",
      "source_id              44452356\n",
      "Name: 16485, dtype: object\n",
      "flat_chemical      CID100001972\n",
      "stereo_chemical    CID044460204\n",
      "source_name                  PC\n",
      "source_id              44460204\n",
      "Name: 16494, dtype: object\n",
      "flat_chemical      CID100003661\n",
      "stereo_chemical    CID006321299\n",
      "source_name                  PC\n",
      "source_id              44559583\n",
      "Name: 16836, dtype: object\n",
      "flat_chemical      CID144564107\n",
      "stereo_chemical    CID044564107\n",
      "source_name                  PC\n",
      "source_id              44564107\n",
      "Name: 16849, dtype: object\n",
      "flat_chemical      CID144564107\n",
      "stereo_chemical    CID044564107\n",
      "source_name                  PC\n",
      "source_id              44564108\n",
      "Name: 16850, dtype: object\n",
      "flat_chemical      CID109846180\n",
      "stereo_chemical    CID025181561\n",
      "source_name                  PC\n",
      "source_id              44564721\n",
      "Name: 16853, dtype: object\n",
      "flat_chemical      CID144564722\n",
      "stereo_chemical    CID044564722\n",
      "source_name                  PC\n",
      "source_id              44564722\n",
      "Name: 16854, dtype: object\n",
      "17000 : 2017-03-26 22:20:33\n",
      "flat_chemical      CID100003918\n",
      "stereo_chemical    CID011957532\n",
      "source_name                  PC\n",
      "source_id              44656173\n",
      "Name: 17198, dtype: object\n",
      "18000 : 2017-03-26 22:38:54\n",
      "flat_chemical      CID100216416\n",
      "stereo_chemical    CID044331527\n",
      "source_name                  PC\n",
      "source_id              45261276\n",
      "Name: 18293, dtype: object\n",
      "flat_chemical      CID100055480\n",
      "stereo_chemical    CID000055481\n",
      "source_name                  PC\n",
      "source_id              45264840\n",
      "Name: 18302, dtype: object\n",
      "19000 : 2017-03-26 22:57:31\n",
      "20000 : 2017-03-26 23:15:49\n",
      "21000 : 2017-03-26 23:34:09\n",
      "22000 : 2017-03-26 23:52:25\n",
      "flat_chemical      CID100072466\n",
      "stereo_chemical    CID046878356\n",
      "source_name                  PC\n",
      "source_id              46878356\n",
      "Name: 22013, dtype: object\n",
      "flat_chemical      CID116132344\n",
      "stereo_chemical    CID016132344\n",
      "source_name                  PC\n",
      "source_id              46927899\n",
      "Name: 22144, dtype: object\n",
      "flat_chemical      CID100002891\n",
      "stereo_chemical    CID005460135\n",
      "source_name                  PC\n",
      "source_id              46931146\n",
      "Name: 22159, dtype: object\n",
      "flat_chemical      CID100477468\n",
      "stereo_chemical    CID049799983\n",
      "source_name                  PC\n",
      "source_id              49799983\n",
      "Name: 22399, dtype: object\n",
      "flat_chemical      CID100477468\n",
      "stereo_chemical    CID049799983\n",
      "source_name                  PC\n",
      "source_id              49799984\n",
      "Name: 22400, dtype: object\n",
      "flat_chemical      CID100002891\n",
      "stereo_chemical    CID049799990\n",
      "source_name                  PC\n",
      "source_id              49799990\n",
      "Name: 22402, dtype: object\n",
      "flat_chemical      CID100004264\n",
      "stereo_chemical    CID000446596\n",
      "source_name                  PC\n",
      "source_id              49799995\n",
      "Name: 22403, dtype: object\n",
      "flat_chemical      CID100002891\n",
      "stereo_chemical    CID049799999\n",
      "source_name                  PC\n",
      "source_id              49799999\n",
      "Name: 22406, dtype: object\n",
      "flat_chemical      CID100002891\n",
      "stereo_chemical    CID049800012\n",
      "source_name                  PC\n",
      "source_id              49800012\n",
      "Name: 22411, dtype: object\n",
      "flat_chemical      CID100060830\n",
      "stereo_chemical    CID049800037\n",
      "source_name                  PC\n",
      "source_id              49800037\n",
      "Name: 22419, dtype: object\n",
      "flat_chemical      CID105487301\n",
      "stereo_chemical    CID005487301\n",
      "source_name                  PC\n",
      "source_id              49800061\n",
      "Name: 22428, dtype: object\n",
      "flat_chemical      CID100003148\n",
      "stereo_chemical    CID049800053\n",
      "source_name                  PC\n",
      "source_id              49800066\n",
      "Name: 22430, dtype: object\n",
      "flat_chemical      CID116136245\n",
      "stereo_chemical    CID044398263\n",
      "source_name                  PC\n",
      "source_id              49800071\n",
      "Name: 22432, dtype: object\n",
      "flat_chemical      CID103038497\n",
      "stereo_chemical    CID003038497\n",
      "source_name                  PC\n",
      "source_id              49800077\n",
      "Name: 22436, dtype: object\n",
      "2017-03-27 00:07:02\n"
     ]
    }
   ],
   "source": [
    "# using UniChem REST API, convert pubchemID to DrugBank ID\n",
    "results = pd.DataFrame()\n",
    "  \n",
    "start = 11400\n",
    "end = 22800\n",
    "cnt = start\n",
    "url_base = 'https://www.ebi.ac.uk/unichem/rest/src_compound_id/'\n",
    "print'%d : ' % cnt + datetime.now().strftime('%Y-%m-%d %H:%M:%S')\n",
    "for index, row in df_query[start:end].iterrows():\n",
    "    record = row.tolist()\n",
    "    stitch_id_flat = record[0]\n",
    "    stitch_id_stereo = record[1]\n",
    "    pubchem_id = record[3]\n",
    "    url = url_base + str(pubchem_id) + '/22/2'\n",
    "        \n",
    "    MAX_ATTEMPTS = 8\n",
    "    for attempt in range(MAX_ATTEMPTS):\n",
    "        try:\n",
    "            f = urlopen(url)\n",
    "        except urllib2.HTTPError, e:\n",
    "            print row\n",
    "            if e.code == 404:\n",
    "                cnt = cnt + 1\n",
    "                if cnt % 1000 == 0 :\n",
    "                    print '%d : '% cnt + datetime.now().strftime('%Y-%m-%d %H:%M:%S')\n",
    "                break\n",
    "            else:\n",
    "                print 'e.code : %d, url : %s, cnt : d' % (e.code, url, cnt)\n",
    "                break\n",
    "                #raise\n",
    "        except urllib2.URLError, e:\n",
    "            if e.args[0][0] == 110: # connection time out\n",
    "                sleep_secs = attempt ** 2\n",
    "                print e , url\n",
    "                print '  cnt = %d, error time : ' % (cnt) + datetime.now().strftime('%Y-%m-%d %H:%M:%S')\n",
    "                print '    Retrying in %d seconds...' % sleep_secs\n",
    "                time.sleep(sleep_secs)\n",
    "                continue \n",
    "            else:\n",
    "                print row\n",
    "                print e\n",
    "                print '   cnt : %d, error time : ' % (cnt) + datetime.now().strftime('%Y-%m-%d %H:%M:%S')\n",
    "                cnt = cnt +1\n",
    "                break\n",
    "        else: # error가 일어나지 않을 때          \n",
    "            all_data = f.readlines()\n",
    "            if all_data[0] == '[]':\n",
    "                cnt = cnt + 1\n",
    "            else:\n",
    "                db_id=all_data[0] \n",
    "                temp_df = pd.DataFrame(data = [[stitch_id_flat, stitch_id_stereo, pubchem_id, db_id]], \n",
    "                                       columns = ['STITCH_compound_id_flat', 'STITCH_compound_id_stereo', 'PubChem_ID', 'DrugBank_ID'])  \n",
    "                results = results.append(temp_df)\n",
    "                cnt = cnt + 1\n",
    "            if cnt % 1000 == 0 :\n",
    "                print '%d : '% cnt + datetime.now().strftime('%Y-%m-%d %H:%M:%S')\n",
    "            break\n",
    "    else:#connection을 8번 시도했는데 안될 경우\n",
    "        print 'we failed to reconnect 8 times in %s' % url\n",
    "            \n",
    "print datetime.now().strftime('%Y-%m-%d %H:%M:%S')\n",
    "results.to_csv(\"/DAS_Storage1/aschoi/data/Drug_Repositioning/5_new_drug/11_1_raw_SIDER_indication_DrugBank_id_11400_22799.tsv\", sep='\\t', index=False)\n"
   ]
  },
  {
   "cell_type": "code",
   "execution_count": 78,
   "metadata": {
    "collapsed": false
   },
   "outputs": [
    {
     "data": {
      "text/html": [
       "<div>\n",
       "<table border=\"1\" class=\"dataframe\">\n",
       "  <thead>\n",
       "    <tr style=\"text-align: right;\">\n",
       "      <th></th>\n",
       "      <th>STITCH_compound_id_flat</th>\n",
       "      <th>STITCH_compound_id_stereo</th>\n",
       "      <th>PubChem_ID</th>\n",
       "      <th>DrugBank_ID</th>\n",
       "    </tr>\n",
       "  </thead>\n",
       "  <tbody>\n",
       "    <tr>\n",
       "      <th>0</th>\n",
       "      <td>CID100005672</td>\n",
       "      <td>CID021780850</td>\n",
       "      <td>21780850</td>\n",
       "      <td>[{\"src_compound_id\":\"DB00194\"}]</td>\n",
       "    </tr>\n",
       "  </tbody>\n",
       "</table>\n",
       "</div>"
      ],
      "text/plain": [
       "  STITCH_compound_id_flat STITCH_compound_id_stereo  PubChem_ID  \\\n",
       "0            CID100005672              CID021780850    21780850   \n",
       "\n",
       "                       DrugBank_ID  \n",
       "0  [{\"src_compound_id\":\"DB00194\"}]  "
      ]
     },
     "execution_count": 78,
     "metadata": {},
     "output_type": "execute_result"
    }
   ],
   "source": [
    "pd.DataFrame(data = [[stitch_id_flat, stitch_id_stereo, pubchem_id, db_id]], columns = ['STITCH_compound_id_flat', 'STITCH_compound_id_stereo', 'PubChem_ID', 'DrugBank_ID'])"
   ]
  },
  {
   "cell_type": "code",
   "execution_count": 74,
   "metadata": {
    "collapsed": false
   },
   "outputs": [
    {
     "data": {
      "text/plain": [
       "3635"
      ]
     },
     "execution_count": 74,
     "metadata": {},
     "output_type": "execute_result"
    }
   ],
   "source": [
    "features = ['STITCH_compound_id_flat', 'STITCH_compound_id_stereo', 'PubChem_ID', 'DrugBank_ID']\n",
    "resultTsv = csv.DictWriter(resultFile, features, dialect=csv.excel_tab)\n",
    "resultTsv.writeheader()\n"
   ]
  },
  {
   "cell_type": "code",
   "execution_count": null,
   "metadata": {
    "collapsed": true
   },
   "outputs": [],
   "source": []
  }
 ],
 "metadata": {
  "kernelspec": {
   "display_name": "Python 2",
   "language": "python",
   "name": "python2"
  },
  "language_info": {
   "codemirror_mode": {
    "name": "ipython",
    "version": 2
   },
   "file_extension": ".py",
   "mimetype": "text/x-python",
   "name": "python",
   "nbconvert_exporter": "python",
   "pygments_lexer": "ipython2",
   "version": "2.7.6"
  }
 },
 "nbformat": 4,
 "nbformat_minor": 2
}
