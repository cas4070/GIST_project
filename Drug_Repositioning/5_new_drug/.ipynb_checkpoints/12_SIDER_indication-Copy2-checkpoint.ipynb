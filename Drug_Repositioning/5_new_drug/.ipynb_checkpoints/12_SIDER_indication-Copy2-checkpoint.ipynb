{
 "cells": [
  {
   "cell_type": "code",
   "execution_count": 1,
   "metadata": {
    "collapsed": true
   },
   "outputs": [],
   "source": [
    "import pandas as pd\n",
    "import numpy as np\n",
    "from datetime import datetime\n",
    "import csv\n",
    "from urllib2 import urlopen # python2\n",
    "import urllib2\n",
    "import time"
   ]
  },
  {
   "cell_type": "code",
   "execution_count": 2,
   "metadata": {
    "collapsed": true
   },
   "outputs": [],
   "source": [
    "df_sider_indication_raw = pd.read_table(\"/DAS_Storage1/aschoi/data/Drug_Repositioning/5_new_drug/meddra_all_indications_header.tsv\")"
   ]
  },
  {
   "cell_type": "code",
   "execution_count": 5,
   "metadata": {
    "collapsed": false
   },
   "outputs": [],
   "source": [
    "df_sider_indication_pt = df_sider_indication_raw[df_sider_indication_raw.MedDRA_concept_type == 'PT']"
   ]
  },
  {
   "cell_type": "code",
   "execution_count": 25,
   "metadata": {
    "collapsed": false,
    "scrolled": false
   },
   "outputs": [],
   "source": [
    "df_sider_indication = df_sider_indication_pt[['STITCH_compound_id_flat', 'UMLS_concept_id_for_MedDRA','MedDRA_concept_name']].drop_duplicates()"
   ]
  },
  {
   "cell_type": "code",
   "execution_count": 28,
   "metadata": {
    "collapsed": true
   },
   "outputs": [],
   "source": [
    "df_stitch = pd.read_table(\"/DAS_Storage1/aschoi/data/COCONUT_Herbal/7_Ezyme_tool/STITCH_CID.tsv\")"
   ]
  },
  {
   "cell_type": "code",
   "execution_count": 57,
   "metadata": {
    "collapsed": false
   },
   "outputs": [
    {
     "name": "stdout",
     "output_type": "stream",
     "text": [
      "15083\n",
      "1437\n",
      "45598\n",
      "1437\n"
     ]
    }
   ],
   "source": [
    "print len(df_sider_indication) # sider의 indication 총 개수\n",
    "print len(df_sider_indication['STITCH_compound_id_flat'].drop_duplicates()) # indication 정보를 가지고 있는 compound의 개수-->1437개\n",
    "\n",
    "# stitch_pc id mapping 파일에서 sider에 indication 정보가 존재하는 stitch id를 솎아낸다.\n",
    "df_query = df_stitch[df_stitch['flat_chemical'].isin(df_sider_indication['STITCH_compound_id_flat'])] \n",
    "print len(df_query) # stitch id와 mapping되는 pc의 개수(pc는 중복 없음)\n",
    "print len(df_query.drop_duplicates('flat_chemical')) #stitch_id의 개수 "
   ]
  },
  {
   "cell_type": "code",
   "execution_count": null,
   "metadata": {
    "collapsed": true
   },
   "outputs": [],
   "source": [
    "df_query.to_csv(\"/DAS_Storage1/aschoi/data/Drug_Repositioning/5_new_drug/11_0_query_pubchemID.tsv\", sep='\\t', index=False)"
   ]
  },
  {
   "cell_type": "code",
   "execution_count": 2,
   "metadata": {
    "collapsed": true
   },
   "outputs": [],
   "source": [
    "df_query = pd.read_table(\"/DAS_Storage1/aschoi/data/Drug_Repositioning/5_new_drug/11_0_query_pubchemID.tsv\")"
   ]
  },
  {
   "cell_type": "code",
   "execution_count": 3,
   "metadata": {
    "collapsed": false
   },
   "outputs": [
    {
     "name": "stdout",
     "output_type": "stream",
     "text": [
      "45598\n",
      "1437\n"
     ]
    },
    {
     "data": {
      "text/html": [
       "<div>\n",
       "<table border=\"1\" class=\"dataframe\">\n",
       "  <thead>\n",
       "    <tr style=\"text-align: right;\">\n",
       "      <th></th>\n",
       "      <th>flat_chemical</th>\n",
       "      <th>stereo_chemical</th>\n",
       "      <th>source_name</th>\n",
       "      <th>source_id</th>\n",
       "    </tr>\n",
       "  </thead>\n",
       "  <tbody>\n",
       "    <tr>\n",
       "      <th>0</th>\n",
       "      <td>CID100002735</td>\n",
       "      <td>CID010000117</td>\n",
       "      <td>PC</td>\n",
       "      <td>10000117</td>\n",
       "    </tr>\n",
       "  </tbody>\n",
       "</table>\n",
       "</div>"
      ],
      "text/plain": [
       "  flat_chemical stereo_chemical source_name  source_id\n",
       "0  CID100002735    CID010000117          PC   10000117"
      ]
     },
     "execution_count": 3,
     "metadata": {},
     "output_type": "execute_result"
    }
   ],
   "source": [
    "print len(df_query)\n",
    "print len(df_query.drop_duplicates('flat_chemical'))\n",
    "df_query.head(1)"
   ]
  },
  {
   "cell_type": "code",
   "execution_count": 4,
   "metadata": {
    "collapsed": false,
    "scrolled": true
   },
   "outputs": [
    {
     "name": "stdout",
     "output_type": "stream",
     "text": [
      "22800 : 2017-03-26 20:38:16\n",
      "23000 : 2017-03-26 20:41:58\n",
      "flat_chemical      CID106331630\n",
      "stereo_chemical    CID006331630\n",
      "source_name                  PC\n",
      "source_id              49867924\n",
      "Name: 23358, dtype: object\n",
      "24000 : 2017-03-26 21:00:22\n",
      "25000 : 2017-03-26 21:18:48\n",
      "flat_chemical      CID100003636\n",
      "stereo_chemical    CID005284522\n",
      "source_name                  PC\n",
      "source_id               5284522\n",
      "Name: 25024, dtype: object\n",
      "flat_chemical      CID100000951\n",
      "stereo_chemical    CID000005814\n",
      "source_name                  PC\n",
      "source_id              52943653\n",
      "Name: 25333, dtype: object\n",
      "flat_chemical      CID100002786\n",
      "stereo_chemical    CID052944313\n",
      "source_name                  PC\n",
      "source_id              52944313\n",
      "Name: 25337, dtype: object\n",
      "flat_chemical      CID100003661\n",
      "stereo_chemical    CID006931560\n",
      "source_name                  PC\n",
      "source_id              53317465\n",
      "Name: 25722, dtype: object\n",
      "flat_chemical      CID100033030\n",
      "stereo_chemical    CID053318994\n",
      "source_name                  PC\n",
      "source_id              53318994\n",
      "Name: 25726, dtype: object\n",
      "flat_chemical      CID100033030\n",
      "stereo_chemical    CID053318994\n",
      "source_name                  PC\n",
      "source_id              53318995\n",
      "Name: 25727, dtype: object\n",
      "flat_chemical      CID106331630\n",
      "stereo_chemical    CID053320414\n",
      "source_name                  PC\n",
      "source_id              53320414\n",
      "Name: 25730, dtype: object\n",
      "flat_chemical      CID100455658\n",
      "stereo_chemical    CID000455658\n",
      "source_name                  PC\n",
      "source_id              53322000\n",
      "Name: 25733, dtype: object\n",
      "flat_chemical      CID100004032\n",
      "stereo_chemical    CID006603935\n",
      "source_name                  PC\n",
      "source_id              53324693\n",
      "Name: 25736, dtype: object\n",
      "flat_chemical      CID100160036\n",
      "stereo_chemical    CID006918193\n",
      "source_name                  PC\n",
      "source_id              53326003\n",
      "Name: 25741, dtype: object\n",
      "26000 : 2017-03-26 21:37:13\n",
      "flat_chemical      CID100208898\n",
      "stereo_chemical    CID000208898\n",
      "source_name                  PC\n",
      "source_id              53389460\n",
      "Name: 26059, dtype: object\n",
      "27000 : 2017-03-26 21:55:36\n",
      "flat_chemical      CID144134877\n",
      "stereo_chemical    CID054675779\n",
      "source_name                  PC\n",
      "source_id              54733716\n",
      "Name: 27459, dtype: object\n",
      "28000 : 2017-03-26 22:13:59\n",
      "flat_chemical      CID116132344\n",
      "stereo_chemical    CID056657745\n",
      "source_name                  PC\n",
      "source_id              56657745\n",
      "Name: 28011, dtype: object\n",
      "flat_chemical      CID100315411\n",
      "stereo_chemical    CID056776450\n",
      "source_name                  PC\n",
      "source_id              56776450\n",
      "Name: 28023, dtype: object\n",
      "flat_chemical      CID100006018\n",
      "stereo_chemical    CID000006018\n",
      "source_name                  PC\n",
      "source_id              56844134\n",
      "Name: 28131, dtype: object\n",
      "flat_chemical      CID116129703\n",
      "stereo_chemical    CID057007829\n",
      "source_name                  PC\n",
      "source_id              57007829\n",
      "Name: 28368, dtype: object\n",
      "flat_chemical      CID116132265\n",
      "stereo_chemical    CID057339642\n",
      "source_name                  PC\n",
      "source_id              57339642\n",
      "Name: 28616, dtype: object\n",
      "flat_chemical      CID100000815\n",
      "stereo_chemical    CID057395150\n",
      "source_name                  PC\n",
      "source_id              57395150\n",
      "Name: 28875, dtype: object\n",
      "flat_chemical      CID100000815\n",
      "stereo_chemical    CID057395150\n",
      "source_name                  PC\n",
      "source_id              57395151\n",
      "Name: 28876, dtype: object\n",
      "flat_chemical      CID100129806\n",
      "stereo_chemical    CID000446157\n",
      "source_name                  PC\n",
      "source_id              57400536\n",
      "Name: 28885, dtype: object\n",
      "flat_chemical      CID100005184\n",
      "stereo_chemical    CID005284456\n",
      "source_name                  PC\n",
      "source_id              57400539\n",
      "Name: 28886, dtype: object\n",
      "29000 : 2017-03-26 22:32:20\n",
      "30000 : 2017-03-26 22:51:05\n",
      "31000 : 2017-03-26 23:09:31\n",
      "32000 : 2017-03-26 23:27:53\n",
      "33000 : 2017-03-26 23:46:17\n",
      "34000 : 2017-03-27 00:04:39\n",
      "2017-03-27 00:08:19\n"
     ]
    }
   ],
   "source": [
    "# using UniChem REST API, convert pubchemID to DrugBank ID\n",
    "results = pd.DataFrame()\n",
    "  \n",
    "start = 22800\n",
    "end = 34200\n",
    "cnt = start\n",
    "url_base = 'https://www.ebi.ac.uk/unichem/rest/src_compound_id/'\n",
    "print'%d : ' % cnt + datetime.now().strftime('%Y-%m-%d %H:%M:%S')\n",
    "for index, row in df_query[start:end].iterrows():\n",
    "    record = row.tolist()\n",
    "    stitch_id_flat = record[0]\n",
    "    stitch_id_stereo = record[1]\n",
    "    pubchem_id = record[3]\n",
    "    url = url_base + str(pubchem_id) + '/22/2'\n",
    "        \n",
    "    MAX_ATTEMPTS = 8\n",
    "    for attempt in range(MAX_ATTEMPTS):\n",
    "        try:\n",
    "            f = urlopen(url)\n",
    "        except urllib2.HTTPError, e:\n",
    "            print row\n",
    "            if e.code == 404:\n",
    "                cnt = cnt + 1\n",
    "                if cnt % 1000 == 0 :\n",
    "                    print '%d : '% cnt + datetime.now().strftime('%Y-%m-%d %H:%M:%S')\n",
    "                break\n",
    "            else:\n",
    "                print 'e.code : %d, url : %s, cnt : d' % (e.code, url, cnt)\n",
    "                break\n",
    "                #raise\n",
    "        except urllib2.URLError, e:\n",
    "            if e.args[0][0] == 110: # connection time out\n",
    "                sleep_secs = attempt ** 2\n",
    "                print e , url\n",
    "                print '  cnt = %d, error time : ' % (cnt) + datetime.now().strftime('%Y-%m-%d %H:%M:%S')\n",
    "                print '    Retrying in %d seconds...' % sleep_secs\n",
    "                time.sleep(sleep_secs)\n",
    "                continue \n",
    "            else:\n",
    "                print row\n",
    "                print e\n",
    "                print '   cnt : %d, error time : ' % (cnt) + datetime.now().strftime('%Y-%m-%d %H:%M:%S')\n",
    "                cnt = cnt +1\n",
    "                break\n",
    "        else: # error가 일어나지 않을 때          \n",
    "            all_data = f.readlines()\n",
    "            if all_data[0] == '[]':\n",
    "                cnt = cnt + 1\n",
    "            else:\n",
    "                db_id=all_data[0] \n",
    "                temp_df = pd.DataFrame(data = [[stitch_id_flat, stitch_id_stereo, pubchem_id, db_id]], \n",
    "                                       columns = ['STITCH_compound_id_flat', 'STITCH_compound_id_stereo', 'PubChem_ID', 'DrugBank_ID'])  \n",
    "                results = results.append(temp_df)\n",
    "                cnt = cnt + 1\n",
    "            if cnt % 1000 == 0 :\n",
    "                print '%d : '% cnt + datetime.now().strftime('%Y-%m-%d %H:%M:%S')\n",
    "            break\n",
    "    else:#connection을 8번 시도했는데 안될 경우\n",
    "        print 'we failed to reconnect 8 times in %s' % url\n",
    "            \n",
    "print datetime.now().strftime('%Y-%m-%d %H:%M:%S')\n",
    "results.to_csv(\"/DAS_Storage1/aschoi/data/Drug_Repositioning/5_new_drug/11_1_raw_SIDER_indication_DrugBank_id_22800_34199.tsv\", sep='\\t', index=False)\n"
   ]
  },
  {
   "cell_type": "code",
   "execution_count": 78,
   "metadata": {
    "collapsed": false
   },
   "outputs": [
    {
     "data": {
      "text/html": [
       "<div>\n",
       "<table border=\"1\" class=\"dataframe\">\n",
       "  <thead>\n",
       "    <tr style=\"text-align: right;\">\n",
       "      <th></th>\n",
       "      <th>STITCH_compound_id_flat</th>\n",
       "      <th>STITCH_compound_id_stereo</th>\n",
       "      <th>PubChem_ID</th>\n",
       "      <th>DrugBank_ID</th>\n",
       "    </tr>\n",
       "  </thead>\n",
       "  <tbody>\n",
       "    <tr>\n",
       "      <th>0</th>\n",
       "      <td>CID100005672</td>\n",
       "      <td>CID021780850</td>\n",
       "      <td>21780850</td>\n",
       "      <td>[{\"src_compound_id\":\"DB00194\"}]</td>\n",
       "    </tr>\n",
       "  </tbody>\n",
       "</table>\n",
       "</div>"
      ],
      "text/plain": [
       "  STITCH_compound_id_flat STITCH_compound_id_stereo  PubChem_ID  \\\n",
       "0            CID100005672              CID021780850    21780850   \n",
       "\n",
       "                       DrugBank_ID  \n",
       "0  [{\"src_compound_id\":\"DB00194\"}]  "
      ]
     },
     "execution_count": 78,
     "metadata": {},
     "output_type": "execute_result"
    }
   ],
   "source": [
    "pd.DataFrame(data = [[stitch_id_flat, stitch_id_stereo, pubchem_id, db_id]], columns = ['STITCH_compound_id_flat', 'STITCH_compound_id_stereo', 'PubChem_ID', 'DrugBank_ID'])"
   ]
  },
  {
   "cell_type": "code",
   "execution_count": 74,
   "metadata": {
    "collapsed": false
   },
   "outputs": [
    {
     "data": {
      "text/plain": [
       "3635"
      ]
     },
     "execution_count": 74,
     "metadata": {},
     "output_type": "execute_result"
    }
   ],
   "source": [
    "features = ['STITCH_compound_id_flat', 'STITCH_compound_id_stereo', 'PubChem_ID', 'DrugBank_ID']\n",
    "resultTsv = csv.DictWriter(resultFile, features, dialect=csv.excel_tab)\n",
    "resultTsv.writeheader()\n"
   ]
  },
  {
   "cell_type": "code",
   "execution_count": null,
   "metadata": {
    "collapsed": true
   },
   "outputs": [],
   "source": []
  }
 ],
 "metadata": {
  "kernelspec": {
   "display_name": "Python 2",
   "language": "python",
   "name": "python2"
  },
  "language_info": {
   "codemirror_mode": {
    "name": "ipython",
    "version": 2
   },
   "file_extension": ".py",
   "mimetype": "text/x-python",
   "name": "python",
   "nbconvert_exporter": "python",
   "pygments_lexer": "ipython2",
   "version": "2.7.6"
  }
 },
 "nbformat": 4,
 "nbformat_minor": 2
}
