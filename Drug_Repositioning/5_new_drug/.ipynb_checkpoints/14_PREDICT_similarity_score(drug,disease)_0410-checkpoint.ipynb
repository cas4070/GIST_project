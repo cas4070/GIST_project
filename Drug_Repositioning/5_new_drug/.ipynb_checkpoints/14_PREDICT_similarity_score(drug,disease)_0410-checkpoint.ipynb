{
 "cells": [
  {
   "cell_type": "code",
   "execution_count": 1,
   "metadata": {
    "collapsed": true
   },
   "outputs": [],
   "source": [
    "import numpy as np\n",
    "import pandas as pd"
   ]
  },
  {
   "cell_type": "code",
   "execution_count": 2,
   "metadata": {
    "collapsed": true
   },
   "outputs": [],
   "source": [
    "# 2017.4.10. drug-drug similarity"
   ]
  },
  {
   "cell_type": "code",
   "execution_count": 3,
   "metadata": {
    "collapsed": true
   },
   "outputs": [],
   "source": [
    "str_sim = pd.read_table(\"/DAS_Storage1/aschoi/data/Drug_Repositioning/5_new_drug/9_gold_drug_similarity_structure.tsv\")"
   ]
  },
  {
   "cell_type": "code",
   "execution_count": 4,
   "metadata": {
    "collapsed": true
   },
   "outputs": [],
   "source": [
    "gold_se_sim = pd.read_table(\"/DAS_Storage1/aschoi/data/Drug_Repositioning/5_new_drug/PREDICT_data/5_gold_drug_drug_sim_predict.tsv\")"
   ]
  },
  {
   "cell_type": "code",
   "execution_count": 5,
   "metadata": {
    "collapsed": true
   },
   "outputs": [],
   "source": [
    "gold_se_sim_mat = pd.read_table(\"/DAS_Storage1/aschoi/data/Drug_Repositioning/5_new_drug/PREDICT_data/5_2_gold_drug_drug_sim_mat_predict.tsv\", index_col=0)"
   ]
  },
  {
   "cell_type": "code",
   "execution_count": 6,
   "metadata": {
    "collapsed": false
   },
   "outputs": [
    {
     "data": {
      "text/html": [
       "<div>\n",
       "<table border=\"1\" class=\"dataframe\">\n",
       "  <thead>\n",
       "    <tr style=\"text-align: right;\">\n",
       "      <th></th>\n",
       "      <th>DrugBank_ID</th>\n",
       "      <th>Drug_Name</th>\n",
       "      <th>InChI</th>\n",
       "      <th>SMILES</th>\n",
       "      <th>State</th>\n",
       "    </tr>\n",
       "  </thead>\n",
       "  <tbody>\n",
       "    <tr>\n",
       "      <th>0</th>\n",
       "      <td>DB00006</td>\n",
       "      <td>Bivalirudin</td>\n",
       "      <td>InChI=1S/C98H138N24O33/c1-5-52(4)82(96(153)122...</td>\n",
       "      <td>CC[C@H](C)[C@H](NC(=O)[C@H](CCC(O)=O)NC(=O)[C@...</td>\n",
       "      <td>approved</td>\n",
       "    </tr>\n",
       "  </tbody>\n",
       "</table>\n",
       "</div>"
      ],
      "text/plain": [
       "  DrugBank_ID    Drug_Name                                              InChI  \\\n",
       "0     DB00006  Bivalirudin  InChI=1S/C98H138N24O33/c1-5-52(4)82(96(153)122...   \n",
       "\n",
       "                                              SMILES     State  \n",
       "0  CC[C@H](C)[C@H](NC(=O)[C@H](CCC(O)=O)NC(=O)[C@...  approved  "
      ]
     },
     "execution_count": 6,
     "metadata": {},
     "output_type": "execute_result"
    }
   ],
   "source": [
    "drugbank = pd.read_table(\"/home/share/aschoi/nas/users/asolchoi/data/Drug_Repositioning/5_new_drug/drug_set.txt\", header=None)\n",
    "drugbank = drugbank.rename(columns = {0:'DrugBank_ID', 1:'Drug_Name', 2:'InChI', 3:'SMILES', 4:'State'})\n",
    "drugbank.head(1)"
   ]
  },
  {
   "cell_type": "code",
   "execution_count": 28,
   "metadata": {
    "collapsed": false
   },
   "outputs": [
    {
     "name": "stdout",
     "output_type": "stream",
     "text": [
      "446\n"
     ]
    }
   ],
   "source": [
    "gold_drug_id = gold_se_sim_mat.columns.values.tolist()\n",
    "print len(gold_drug_id)"
   ]
  },
  {
   "cell_type": "code",
   "execution_count": 29,
   "metadata": {
    "collapsed": false
   },
   "outputs": [
    {
     "name": "stdout",
     "output_type": "stream",
     "text": [
      "456\n"
     ]
    }
   ],
   "source": [
    "str_dr_id = str_sim['DrugBank_ID1'].drop_duplicates()\n",
    "print len(str_dr_id)"
   ]
  },
  {
   "cell_type": "code",
   "execution_count": 15,
   "metadata": {
    "collapsed": false
   },
   "outputs": [
    {
     "name": "stdout",
     "output_type": "stream",
     "text": [
      "427\n"
     ]
    }
   ],
   "source": [
    "# 기존에 구해놓은 similarity score가 커버할 수 있는 현재 gold_drug_id\n",
    "fi_drug_id = str_dr_id[str_dr_id.isin(gold_drug_id)]\n",
    "print len(fi_drug_id)"
   ]
  },
  {
   "cell_type": "code",
   "execution_count": 31,
   "metadata": {
    "collapsed": false
   },
   "outputs": [
    {
     "name": "stdout",
     "output_type": "stream",
     "text": [
      "434\n",
      "7\n"
     ]
    }
   ],
   "source": [
    "# drugbank에서 smiles를 제공하는 gold drug id\n",
    "db_dr_id = drugbank[drugbank['DrugBank_ID'].isin(gold_drug_id)]['DrugBank_ID']\n",
    "print len(db_dr_id)\n",
    "\n",
    "#기존 similarity score가 커버하지 못하는 drug들 --> similarity score를 추가로 구해야함.\n",
    "fi_drug_id2 = db_dr_id[~(db_dr_id.isin(fi_drug_id))]\n",
    "print len(fi_drug_id2)"
   ]
  },
  {
   "cell_type": "code",
   "execution_count": 54,
   "metadata": {
    "collapsed": false
   },
   "outputs": [
    {
     "name": "stdout",
     "output_type": "stream",
     "text": [
      "207936\n",
      "194712\n",
      "182329\n"
     ]
    }
   ],
   "source": [
    "# 기존의 drug sim에서 gold drug를 filter한것.\n",
    "print len(str_sim)\n",
    "temp = str_sim[(str_sim['DrugBank_ID1'].isin(fi_drug_id))]\n",
    "print len(temp)\n",
    "fi_drug_str_sim = temp[temp['DrugBank_ID2'].isin(fi_drug_id)]\n",
    "print len(fi_drug_str_sim)"
   ]
  },
  {
   "cell_type": "code",
   "execution_count": 56,
   "metadata": {
    "collapsed": false
   },
   "outputs": [
    {
     "name": "stdout",
     "output_type": "stream",
     "text": [
      "434\n"
     ]
    }
   ],
   "source": [
    "import pybel\n",
    "\n",
    "fi_drug = fi_drug_id.tolist() + fi_drug_id2.tolist() # db_dr_id랑 같음..\n",
    "print len(fi_drug)\n",
    "\n",
    "fi_drug_str_sim2 = fi_drug_str_sim\n",
    "for i in fi_drug_id2:\n",
    "    smi1 = drugbank[drugbank.DrugBank_ID == i]['SMILES'].tolist()[0]\n",
    "    for j in fi_drug:\n",
    "        smi2 = drugbank[drugbank.DrugBank_ID == j]['SMILES'].tolist()[0]\n",
    "        \n",
    "        smiles = [smi1, smi2]\n",
    "        mol = [pybel.readstring('smi',x) for x in smiles]\n",
    "        fps = [x.calcfp(fptype='FP2') for x in mol]\n",
    "        sim = fps[0] | fps[1]\n",
    "        \n",
    "        temp_df = pd.DataFrame([[i, j, sim]], columns = ['DrugBank_ID1','DrugBank_ID2', 'Similarity_Score'])\n",
    "        fi_drug_str_sim2 = fi_drug_str_sim2.append(temp_df)\n",
    "\n",
    "for i in fi_drug:\n",
    "    smi1 = drugbank[drugbank.DrugBank_ID == i]['SMILES'].tolist()[0]\n",
    "    for j in fi_drug_id2:\n",
    "        smi2 = drugbank[drugbank.DrugBank_ID == j]['SMILES'].tolist()[0]\n",
    "        \n",
    "        smiles = [smi1, smi2]\n",
    "        mol = [pybel.readstring('smi',x) for x in smiles]\n",
    "        fps = [x.calcfp(fptype='FP2') for x in mol]\n",
    "        sim = fps[0] | fps[1]\n",
    "        \n",
    "        temp_df = pd.DataFrame([[i, j, sim]], columns = ['DrugBank_ID1','DrugBank_ID2', 'Similarity_Score'])\n",
    "        fi_drug_str_sim2 = fi_drug_str_sim2.append(temp_df)"
   ]
  },
  {
   "cell_type": "code",
   "execution_count": 57,
   "metadata": {
    "collapsed": false
   },
   "outputs": [
    {
     "name": "stdout",
     "output_type": "stream",
     "text": [
      "188405\n",
      "188356\n"
     ]
    }
   ],
   "source": [
    "print len(fi_drug_str_sim2)\n",
    "print len(fi_drug_str_sim2.drop_duplicates())"
   ]
  },
  {
   "cell_type": "code",
   "execution_count": 59,
   "metadata": {
    "collapsed": false
   },
   "outputs": [
    {
     "name": "stdout",
     "output_type": "stream",
     "text": [
      "434\n"
     ]
    },
    {
     "data": {
      "text/html": [
       "<div>\n",
       "<table border=\"1\" class=\"dataframe\">\n",
       "  <thead>\n",
       "    <tr style=\"text-align: right;\">\n",
       "      <th></th>\n",
       "      <th>DB00114</th>\n",
       "      <th>DB00126</th>\n",
       "      <th>DB00136</th>\n",
       "      <th>DB00153</th>\n",
       "      <th>DB00162</th>\n",
       "      <th>DB00165</th>\n",
       "      <th>DB00175</th>\n",
       "      <th>DB00176</th>\n",
       "      <th>DB00177</th>\n",
       "      <th>DB00178</th>\n",
       "      <th>...</th>\n",
       "      <th>DB01576</th>\n",
       "      <th>DB01577</th>\n",
       "      <th>DB01590</th>\n",
       "      <th>DB01623</th>\n",
       "      <th>DB02546</th>\n",
       "      <th>DB03904</th>\n",
       "      <th>DB04272</th>\n",
       "      <th>DB04844</th>\n",
       "      <th>DB04861</th>\n",
       "      <th>DB09026</th>\n",
       "    </tr>\n",
       "  </thead>\n",
       "  <tbody>\n",
       "    <tr>\n",
       "      <th>DB00114</th>\n",
       "      <td>1.0</td>\n",
       "      <td>0.932755</td>\n",
       "      <td>0.900217</td>\n",
       "      <td>0.922993</td>\n",
       "      <td>0.933839</td>\n",
       "      <td>0.743492</td>\n",
       "      <td>0.886117</td>\n",
       "      <td>0.856833</td>\n",
       "      <td>0.901302</td>\n",
       "      <td>0.873102</td>\n",
       "      <td>...</td>\n",
       "      <td>0.89154</td>\n",
       "      <td>0.92679</td>\n",
       "      <td>0.87744</td>\n",
       "      <td>0.907809</td>\n",
       "      <td>0.874187</td>\n",
       "      <td>0.907267</td>\n",
       "      <td>0.927332</td>\n",
       "      <td>0.880694</td>\n",
       "      <td>0.87039</td>\n",
       "      <td>0.887744</td>\n",
       "    </tr>\n",
       "  </tbody>\n",
       "</table>\n",
       "<p>1 rows × 434 columns</p>\n",
       "</div>"
      ],
      "text/plain": [
       "         DB00114   DB00126   DB00136   DB00153   DB00162   DB00165   DB00175  \\\n",
       "DB00114      1.0  0.932755  0.900217  0.922993  0.933839  0.743492  0.886117   \n",
       "\n",
       "          DB00176   DB00177   DB00178    ...     DB01576  DB01577  DB01590  \\\n",
       "DB00114  0.856833  0.901302  0.873102    ...     0.89154  0.92679  0.87744   \n",
       "\n",
       "          DB01623   DB02546   DB03904   DB04272   DB04844  DB04861   DB09026  \n",
       "DB00114  0.907809  0.874187  0.907267  0.927332  0.880694  0.87039  0.887744  \n",
       "\n",
       "[1 rows x 434 columns]"
      ]
     },
     "execution_count": 59,
     "metadata": {},
     "output_type": "execute_result"
    }
   ],
   "source": [
    "# 기존 side effect similarity에서 gold에 해당하는것 filter\n",
    "temp = gold_se_sim_mat.filter(items = db_dr_id)\n",
    "fi_drug_se_sim = temp.filter(items = db_dr_id, axis=0)\n",
    "print len(fi_drug_se_sim)\n",
    "fi_drug_se_sim.head(1)"
   ]
  },
  {
   "cell_type": "code",
   "execution_count": 62,
   "metadata": {
    "collapsed": false
   },
   "outputs": [],
   "source": [
    "db_dr_id.to_csv(\"/DAS_Storage1/aschoi/data/Drug_Repositioning/5_new_drug/new_predict/1_gold_drug.tsv\", sep='\\t', index=False)\n",
    "db_dr_id.to_csv(\"/home/share/aschoi/nas/users/asolchoi/data/Drug_Repositioning/5_new_drug/new_predict/1_gold_drug.tsv\", sep='\\t', index=False)\n",
    "fi_drug_se_sim.to_csv(\"/DAS_Storage1/aschoi/data/Drug_Repositioning/5_new_drug/new_predict/1_drug_drug_se_sim_mat.tsv\",sep='\\t')\n",
    "fi_drug_se_sim.to_csv(\"/home/share/aschoi/nas/users/asolchoi/data/Drug_Repositioning/5_new_drug/new_predict/1_drug_drug_se_sim_mat.tsv\",sep='\\t')\n",
    "fi_drug_str_sim2.to_csv(\"/DAS_Storage1/aschoi/data/Drug_Repositioning/5_new_drug/new_predict/1_drug_drug_str_sim.tsv\", sep='\\t', index=False)\n",
    "fi_drug_str_sim2.to_csv(\"/home/share/aschoi/nas/users/asolchoi/data/Drug_Repositioning/5_new_drug/new_predict/1_drug_drug_str_sim.tsv\", sep='\\t', index=False)"
   ]
  },
  {
   "cell_type": "code",
   "execution_count": 68,
   "metadata": {
    "collapsed": false
   },
   "outputs": [
    {
     "name": "stdout",
     "output_type": "stream",
     "text": [
      "434\n"
     ]
    },
    {
     "data": {
      "text/html": [
       "<div>\n",
       "<table border=\"1\" class=\"dataframe\">\n",
       "  <thead>\n",
       "    <tr style=\"text-align: right;\">\n",
       "      <th></th>\n",
       "      <th>DB00114</th>\n",
       "      <th>DB00126</th>\n",
       "      <th>DB00136</th>\n",
       "      <th>DB00153</th>\n",
       "      <th>DB00162</th>\n",
       "      <th>DB00165</th>\n",
       "      <th>DB00175</th>\n",
       "      <th>DB00176</th>\n",
       "      <th>DB00177</th>\n",
       "      <th>DB00178</th>\n",
       "      <th>...</th>\n",
       "      <th>DB01576</th>\n",
       "      <th>DB01577</th>\n",
       "      <th>DB01590</th>\n",
       "      <th>DB01623</th>\n",
       "      <th>DB02546</th>\n",
       "      <th>DB03904</th>\n",
       "      <th>DB04272</th>\n",
       "      <th>DB04844</th>\n",
       "      <th>DB04861</th>\n",
       "      <th>DB09026</th>\n",
       "    </tr>\n",
       "  </thead>\n",
       "  <tbody>\n",
       "    <tr>\n",
       "      <th>DB00114</th>\n",
       "      <td>1</td>\n",
       "      <td>0.0872483</td>\n",
       "      <td>0.0305344</td>\n",
       "      <td>0.0307692</td>\n",
       "      <td>0.0406504</td>\n",
       "      <td>0.646465</td>\n",
       "      <td>0.075</td>\n",
       "      <td>0.15894</td>\n",
       "      <td>0.16568</td>\n",
       "      <td>0.127907</td>\n",
       "      <td>...</td>\n",
       "      <td>0.0892857</td>\n",
       "      <td>0.0862069</td>\n",
       "      <td>0.0852018</td>\n",
       "      <td>0.0913706</td>\n",
       "      <td>0.111111</td>\n",
       "      <td>0.0102041</td>\n",
       "      <td>0.0619469</td>\n",
       "      <td>0.146067</td>\n",
       "      <td>0.123529</td>\n",
       "      <td>0.156977</td>\n",
       "    </tr>\n",
       "  </tbody>\n",
       "</table>\n",
       "<p>1 rows × 434 columns</p>\n",
       "</div>"
      ],
      "text/plain": [
       "        DB00114    DB00126    DB00136    DB00153    DB00162   DB00165 DB00175  \\\n",
       "DB00114       1  0.0872483  0.0305344  0.0307692  0.0406504  0.646465   0.075   \n",
       "\n",
       "         DB00176  DB00177   DB00178    ...       DB01576    DB01577  \\\n",
       "DB00114  0.15894  0.16568  0.127907    ...     0.0892857  0.0862069   \n",
       "\n",
       "           DB01590    DB01623   DB02546    DB03904    DB04272   DB04844  \\\n",
       "DB00114  0.0852018  0.0913706  0.111111  0.0102041  0.0619469  0.146067   \n",
       "\n",
       "          DB04861   DB09026  \n",
       "DB00114  0.123529  0.156977  \n",
       "\n",
       "[1 rows x 434 columns]"
      ]
     },
     "execution_count": 68,
     "metadata": {},
     "output_type": "execute_result"
    }
   ],
   "source": [
    "fi_drug_str_sim_mat = pd.DataFrame(index = db_dr_id.tolist(),columns=db_dr_id.tolist())\n",
    "fi_drug_str_sim_mat.fillna(0.0)\n",
    "\n",
    "for index, row in fi_drug_str_sim2.iterrows():\n",
    "    fi_drug_str_sim_mat[row['DrugBank_ID2']][row['DrugBank_ID1']] = row['Similarity_Score']\n",
    "print len(fi_drug_str_sim_mat)\n",
    "fi_drug_str_sim_mat.head(1)"
   ]
  },
  {
   "cell_type": "code",
   "execution_count": 69,
   "metadata": {
    "collapsed": false
   },
   "outputs": [],
   "source": [
    "fi_drug_str_sim_mat.to_csv(\"/DAS_Storage1/aschoi/data/Drug_Repositioning/5_new_drug/new_predict/1_drug_drug_str_sim_mat.tsv\",sep='\\t')\n",
    "fi_drug_str_sim_mat.to_csv(\"/home/share/aschoi/nas/users/asolchoi/data/Drug_Repositioning/5_new_drug/new_predict/1_drug_drug_str_sim_mat.tsv\",sep='\\t')"
   ]
  },
  {
   "cell_type": "code",
   "execution_count": null,
   "metadata": {
    "collapsed": true
   },
   "outputs": [],
   "source": [
    "# gold_association"
   ]
  },
  {
   "cell_type": "code",
   "execution_count": 70,
   "metadata": {
    "collapsed": true
   },
   "outputs": [],
   "source": [
    "gold_asso = pd.read_table(\"/DAS_Storage1/aschoi/data/Drug_Repositioning/7_new_association/PREDICT_data/2_2_gold_learning_asso.tsv\")"
   ]
  },
  {
   "cell_type": "code",
   "execution_count": 72,
   "metadata": {
    "collapsed": false
   },
   "outputs": [
    {
     "name": "stdout",
     "output_type": "stream",
     "text": [
      "103146\n",
      "100361\n",
      "99493\n"
     ]
    }
   ],
   "source": [
    "print len(gold_asso)\n",
    "temp = gold_asso[(gold_asso['drug_id'].isin(db_dr_id))]\n",
    "print len(temp)\n",
    "pos = temp[temp.association ==1]\n",
    "fi_disease_id = pos['disease_id'].drop_duplicates()\n",
    "fi_learning_asso = temp[temp['disease_id'].isin(fi_disease_id)]\n",
    "print len(fi_learning_asso)"
   ]
  },
  {
   "cell_type": "code",
   "execution_count": 73,
   "metadata": {
    "collapsed": false
   },
   "outputs": [
    {
     "name": "stdout",
     "output_type": "stream",
     "text": [
      "1330\n",
      "98163\n",
      "434\n",
      "434\n",
      "233\n",
      "233\n"
     ]
    }
   ],
   "source": [
    "a = fi_learning_asso[fi_learning_asso.association ==1]\n",
    "b = fi_learning_asso[fi_learning_asso.association ==0]\n",
    "print len(a)\n",
    "print len(b)\n",
    "print len(a['drug_id'].drop_duplicates())\n",
    "print len(b['drug_id'].drop_duplicates())\n",
    "print len(a['disease_id'].drop_duplicates())\n",
    "print len(b['disease_id'].drop_duplicates())"
   ]
  },
  {
   "cell_type": "code",
   "execution_count": 74,
   "metadata": {
    "collapsed": true
   },
   "outputs": [],
   "source": [
    "fi_learning_asso.to_csv(\"/DAS_Storage1/aschoi/data/Drug_Repositioning/7_new_association/new_predict/1_gold_learning_asso.tsv\", sep='\\t', index=False)\n",
    "fi_learning_asso.to_csv(\"/home/share/aschoi/nas/users/asolchoi/data/Drug_Repositioning/7_new_association/new_predict/1_gold_learning_asso.tsv\", sep='\\t', index=False)"
   ]
  },
  {
   "cell_type": "code",
   "execution_count": null,
   "metadata": {
    "collapsed": true
   },
   "outputs": [],
   "source": [
    "#disease disease similarity"
   ]
  },
  {
   "cell_type": "code",
   "execution_count": 75,
   "metadata": {
    "collapsed": true
   },
   "outputs": [],
   "source": [
    "di_feature = pd.read_table(\"/DAS_Storage1/aschoi/data/Drug_Repositioning/6_new_disease/8_gold_standard_disease_binary_matrix.tsv\", index_col=0)"
   ]
  },
  {
   "cell_type": "code",
   "execution_count": 76,
   "metadata": {
    "collapsed": false
   },
   "outputs": [
    {
     "data": {
      "text/html": [
       "<div>\n",
       "<table border=\"1\" class=\"dataframe\">\n",
       "  <thead>\n",
       "    <tr style=\"text-align: right;\">\n",
       "      <th></th>\n",
       "      <th>102300</th>\n",
       "      <th>102400</th>\n",
       "      <th>102500</th>\n",
       "      <th>103780</th>\n",
       "      <th>104130</th>\n",
       "      <th>104300</th>\n",
       "      <th>106400</th>\n",
       "      <th>107650</th>\n",
       "      <th>109100</th>\n",
       "      <th>109200</th>\n",
       "      <th>...</th>\n",
       "      <th>607631</th>\n",
       "      <th>607681</th>\n",
       "      <th>607682</th>\n",
       "      <th>607850</th>\n",
       "      <th>608088</th>\n",
       "      <th>608105</th>\n",
       "      <th>608217</th>\n",
       "      <th>608320</th>\n",
       "      <th>608583</th>\n",
       "      <th>608622</th>\n",
       "    </tr>\n",
       "  </thead>\n",
       "  <tbody>\n",
       "    <tr>\n",
       "      <th>100188812</th>\n",
       "      <td>1</td>\n",
       "      <td>0</td>\n",
       "      <td>0</td>\n",
       "      <td>0</td>\n",
       "      <td>0</td>\n",
       "      <td>0</td>\n",
       "      <td>0</td>\n",
       "      <td>0</td>\n",
       "      <td>0</td>\n",
       "      <td>0</td>\n",
       "      <td>...</td>\n",
       "      <td>0</td>\n",
       "      <td>0</td>\n",
       "      <td>0</td>\n",
       "      <td>0</td>\n",
       "      <td>0</td>\n",
       "      <td>0</td>\n",
       "      <td>0</td>\n",
       "      <td>0</td>\n",
       "      <td>0</td>\n",
       "      <td>0</td>\n",
       "    </tr>\n",
       "  </tbody>\n",
       "</table>\n",
       "<p>1 rows × 235 columns</p>\n",
       "</div>"
      ],
      "text/plain": [
       "           102300  102400  102500  103780  104130  104300  106400  107650  \\\n",
       "100188812       1       0       0       0       0       0       0       0   \n",
       "\n",
       "           109100  109200   ...    607631  607681  607682  607850  608088  \\\n",
       "100188812       0       0   ...         0       0       0       0       0   \n",
       "\n",
       "           608105  608217  608320  608583  608622  \n",
       "100188812       0       0       0       0       0  \n",
       "\n",
       "[1 rows x 235 columns]"
      ]
     },
     "execution_count": 76,
     "metadata": {},
     "output_type": "execute_result"
    }
   ],
   "source": [
    "di_feature.head(1)"
   ]
  },
  {
   "cell_type": "code",
   "execution_count": 77,
   "metadata": {
    "collapsed": false
   },
   "outputs": [],
   "source": [
    "str_fi_disease_id = list()\n",
    "for i in fi_disease_id:\n",
    "    str_fi_disease_id.append(str(i))"
   ]
  },
  {
   "cell_type": "code",
   "execution_count": 78,
   "metadata": {
    "collapsed": false
   },
   "outputs": [
    {
     "data": {
      "text/plain": [
       "'102300'"
      ]
     },
     "execution_count": 78,
     "metadata": {},
     "output_type": "execute_result"
    }
   ],
   "source": [
    "di_feature.columns.values.tolist()[0]"
   ]
  },
  {
   "cell_type": "code",
   "execution_count": 79,
   "metadata": {
    "collapsed": false
   },
   "outputs": [
    {
     "data": {
      "text/plain": [
       "'103780'"
      ]
     },
     "execution_count": 79,
     "metadata": {},
     "output_type": "execute_result"
    }
   ],
   "source": [
    "str_fi_disease_id[0]"
   ]
  },
  {
   "cell_type": "code",
   "execution_count": 80,
   "metadata": {
    "collapsed": false
   },
   "outputs": [
    {
     "data": {
      "text/html": [
       "<div>\n",
       "<table border=\"1\" class=\"dataframe\">\n",
       "  <thead>\n",
       "    <tr style=\"text-align: right;\">\n",
       "      <th></th>\n",
       "      <th>103780</th>\n",
       "      <th>608622</th>\n",
       "      <th>161900</th>\n",
       "      <th>145590</th>\n",
       "      <th>147530</th>\n",
       "      <th>157300</th>\n",
       "      <th>608088</th>\n",
       "      <th>140600</th>\n",
       "      <th>147480</th>\n",
       "      <th>600351</th>\n",
       "      <th>...</th>\n",
       "      <th>173200</th>\n",
       "      <th>115195</th>\n",
       "      <th>256700</th>\n",
       "      <th>601608</th>\n",
       "      <th>194070</th>\n",
       "      <th>115300</th>\n",
       "      <th>277350</th>\n",
       "      <th>240400</th>\n",
       "      <th>206200</th>\n",
       "      <th>250790</th>\n",
       "    </tr>\n",
       "  </thead>\n",
       "  <tbody>\n",
       "    <tr>\n",
       "      <th>100188812</th>\n",
       "      <td>0</td>\n",
       "      <td>0</td>\n",
       "      <td>0</td>\n",
       "      <td>0</td>\n",
       "      <td>0</td>\n",
       "      <td>0</td>\n",
       "      <td>0</td>\n",
       "      <td>0</td>\n",
       "      <td>0</td>\n",
       "      <td>0</td>\n",
       "      <td>...</td>\n",
       "      <td>0</td>\n",
       "      <td>0</td>\n",
       "      <td>0</td>\n",
       "      <td>0</td>\n",
       "      <td>0</td>\n",
       "      <td>0</td>\n",
       "      <td>0</td>\n",
       "      <td>0</td>\n",
       "      <td>0</td>\n",
       "      <td>0</td>\n",
       "    </tr>\n",
       "  </tbody>\n",
       "</table>\n",
       "<p>1 rows × 233 columns</p>\n",
       "</div>"
      ],
      "text/plain": [
       "           103780  608622  161900  145590  147530  157300  608088  140600  \\\n",
       "100188812       0       0       0       0       0       0       0       0   \n",
       "\n",
       "           147480  600351   ...    173200  115195  256700  601608  194070  \\\n",
       "100188812       0       0   ...         0       0       0       0       0   \n",
       "\n",
       "           115300  277350  240400  206200  250790  \n",
       "100188812       0       0       0       0       0  \n",
       "\n",
       "[1 rows x 233 columns]"
      ]
     },
     "execution_count": 80,
     "metadata": {},
     "output_type": "execute_result"
    }
   ],
   "source": [
    "a = di_feature.filter(items = str_fi_disease_id)\n",
    "a.head(1)"
   ]
  },
  {
   "cell_type": "code",
   "execution_count": 111,
   "metadata": {
    "collapsed": false
   },
   "outputs": [],
   "source": [
    "di_ge_sim = pd.read_table(\"/DAS_Storage1/aschoi/data/Drug_Repositioning/6_new_disease/9_gold_disease_similarity_genetic.tsv\")\n",
    "di_phe_sim = pd.read_table(\"/DAS_Storage1/aschoi/data/Drug_Repositioning/6_new_disease/9_gold_disease_similarity_mimminerc.tsv\", index_col=0)"
   ]
  },
  {
   "cell_type": "code",
   "execution_count": 123,
   "metadata": {
    "collapsed": false
   },
   "outputs": [
    {
     "name": "stdout",
     "output_type": "stream",
     "text": [
      "55225\n",
      "54755\n",
      "54289\n"
     ]
    }
   ],
   "source": [
    "print len(di_ge_sim)\n",
    "temp = di_ge_sim[(di_ge_sim['Disease_ID1'].isin(fi_disease_id))]\n",
    "print len(temp)\n",
    "fi_disease_ge_sim = temp[(temp['Disease_ID2'].isin(fi_disease_id))]\n",
    "print len(fi_disease_ge_sim)"
   ]
  },
  {
   "cell_type": "code",
   "execution_count": 121,
   "metadata": {
    "collapsed": false
   },
   "outputs": [
    {
     "name": "stdout",
     "output_type": "stream",
     "text": [
      "235\n",
      "233\n"
     ]
    },
    {
     "data": {
      "text/html": [
       "<div>\n",
       "<table border=\"1\" class=\"dataframe\">\n",
       "  <thead>\n",
       "    <tr style=\"text-align: right;\">\n",
       "      <th></th>\n",
       "      <th>103780</th>\n",
       "      <th>608622</th>\n",
       "      <th>161900</th>\n",
       "      <th>145590</th>\n",
       "      <th>147530</th>\n",
       "      <th>157300</th>\n",
       "      <th>608088</th>\n",
       "      <th>140600</th>\n",
       "      <th>147480</th>\n",
       "      <th>600351</th>\n",
       "      <th>...</th>\n",
       "      <th>173200</th>\n",
       "      <th>115195</th>\n",
       "      <th>256700</th>\n",
       "      <th>601608</th>\n",
       "      <th>194070</th>\n",
       "      <th>115300</th>\n",
       "      <th>277350</th>\n",
       "      <th>240400</th>\n",
       "      <th>206200</th>\n",
       "      <th>250790</th>\n",
       "    </tr>\n",
       "  </thead>\n",
       "  <tbody>\n",
       "    <tr>\n",
       "      <th>103780</th>\n",
       "      <td>1.0</td>\n",
       "      <td>0.231225</td>\n",
       "      <td>0.112214</td>\n",
       "      <td>0.106257</td>\n",
       "      <td>0.078062</td>\n",
       "      <td>0.127741</td>\n",
       "      <td>0.108825</td>\n",
       "      <td>0.0</td>\n",
       "      <td>0.152292</td>\n",
       "      <td>0.057957</td>\n",
       "      <td>...</td>\n",
       "      <td>0.031407</td>\n",
       "      <td>0.150525</td>\n",
       "      <td>0.136234</td>\n",
       "      <td>0.16048</td>\n",
       "      <td>0.12331</td>\n",
       "      <td>0.178678</td>\n",
       "      <td>0.141056</td>\n",
       "      <td>0.200361</td>\n",
       "      <td>0.162371</td>\n",
       "      <td>0.187959</td>\n",
       "    </tr>\n",
       "  </tbody>\n",
       "</table>\n",
       "<p>1 rows × 233 columns</p>\n",
       "</div>"
      ],
      "text/plain": [
       "        103780    608622    161900    145590    147530    157300    608088  \\\n",
       "103780     1.0  0.231225  0.112214  0.106257  0.078062  0.127741  0.108825   \n",
       "\n",
       "        140600    147480    600351    ...       173200    115195    256700  \\\n",
       "103780     0.0  0.152292  0.057957    ...     0.031407  0.150525  0.136234   \n",
       "\n",
       "         601608   194070    115300    277350    240400    206200    250790  \n",
       "103780  0.16048  0.12331  0.178678  0.141056  0.200361  0.162371  0.187959  \n",
       "\n",
       "[1 rows x 233 columns]"
      ]
     },
     "execution_count": 121,
     "metadata": {},
     "output_type": "execute_result"
    }
   ],
   "source": [
    "print len(di_phe_sim)\n",
    "temp = di_phe_sim.filter(items = str_fi_disease_id)\n",
    "fi_di_phe_sim = temp.filter(items = fi_disease_id, axis=0)\n",
    "print len(fi_di_phe_sim)\n",
    "fi_di_phe_sim.head(1)"
   ]
  },
  {
   "cell_type": "code",
   "execution_count": 130,
   "metadata": {
    "collapsed": true
   },
   "outputs": [],
   "source": [
    "fi_disease_id.to_csv(\"/DAS_Storage1/aschoi/data/Drug_Repositioning/6_new_disease/new_predict/1_gold_disease_id.tsv\", sep='\\t', index=False)\n",
    "fi_disease_id.to_csv(\"/home/share/aschoi/nas/users/asolchoi/data/Drug_Repositioning/6_new_disease/new_predict/1_gold_disease_id.tsv\", sep='\\t', index=False)\n",
    "fi_di_phe_sim.to_csv(\"/DAS_Storage1/aschoi/data/Drug_Repositioning/6_new_disease/new_predict/1_disease_disease_phe_sim_mat.tsv\",sep='\\t')\n",
    "fi_di_phe_sim.to_csv(\"/home/share/aschoi/nas/users/asolchoi/data/Drug_Repositioning/6_new_disease/new_predict/1_disease_disease_phe_sim_mat.tsv\",sep='\\t')\n",
    "fi_disease_ge_sim.to_csv(\"/DAS_Storage1/aschoi/data/Drug_Repositioning/6_new_disease/new_predict/1_disease_disease_ge_sim.tsv\", sep='\\t', index=False)\n",
    "fi_disease_ge_sim.to_csv(\"/home/share/aschoi/nas/users/asolchoi/data/Drug_Repositioning/6_new_disease/new_predict/1_diesease_disease_ger_sim.tsv\", sep='\\t', index=False)"
   ]
  },
  {
   "cell_type": "code",
   "execution_count": 182,
   "metadata": {
    "collapsed": false
   },
   "outputs": [
    {
     "name": "stderr",
     "output_type": "stream",
     "text": [
      "/usr/local/lib/python2.7/dist-packages/ipykernel/__main__.py:2: SettingWithCopyWarning: \n",
      "A value is trying to be set on a copy of a slice from a DataFrame.\n",
      "Try using .loc[row_indexer,col_indexer] = value instead\n",
      "\n",
      "See the caveats in the documentation: http://pandas.pydata.org/pandas-docs/stable/indexing.html#indexing-view-versus-copy\n",
      "  from ipykernel import kernelapp as app\n"
     ]
    },
    {
     "data": {
      "text/html": [
       "<div>\n",
       "<table border=\"1\" class=\"dataframe\">\n",
       "  <thead>\n",
       "    <tr style=\"text-align: right;\">\n",
       "      <th></th>\n",
       "      <th>Disease_ID1</th>\n",
       "      <th>Disease_ID2</th>\n",
       "      <th>GeSim</th>\n",
       "      <th>PheSim</th>\n",
       "    </tr>\n",
       "  </thead>\n",
       "  <tbody>\n",
       "    <tr>\n",
       "      <th>0</th>\n",
       "      <td>102300</td>\n",
       "      <td>102300</td>\n",
       "      <td>1.0</td>\n",
       "      <td>1.0</td>\n",
       "    </tr>\n",
       "  </tbody>\n",
       "</table>\n",
       "</div>"
      ],
      "text/plain": [
       "   Disease_ID1  Disease_ID2  GeSim  PheSim\n",
       "0       102300       102300    1.0     1.0"
      ]
     },
     "execution_count": 182,
     "metadata": {},
     "output_type": "execute_result"
    }
   ],
   "source": [
    "whole_disease = fi_disease_ge_sim\n",
    "whole_disease['PheSim'] = -2.0\n",
    "for index, row in fi_disease_ge_sim.iterrows():\n",
    "    ids = row.tolist()\n",
    "    di1 = ids[0]\n",
    "    di2 = ids[1]\n",
    "    sim = fi_di_phe_sim.ix[di2][str(int(di1))]\n",
    "    whole_disease.set_value(index, 'PheSim', sim)\n",
    "    cnt = cnt +1\n",
    "    if cnt == 2:\n",
    "        break\n",
    "whole_disease = whole_disease.rename(columns={'Similarity_Score':'GeSim'})\n",
    "whole_disease.head(1)"
   ]
  },
  {
   "cell_type": "code",
   "execution_count": 189,
   "metadata": {
    "collapsed": false
   },
   "outputs": [],
   "source": [
    "whole_disease.to_csv(\"/DAS_Storage1/aschoi/data/Drug_Repositioning/6_new_disease/new_predict/1_disease_disease_whole_sim.tsv\", sep='\\t', index=False)\n",
    "whole_disease.to_csv(\"/home/share/aschoi/nas/users/asolchoi/data/Drug_Repositioning/6_new_disease/new_predict/1_disease_disease_whole_sim.tsv\", sep='\\t', index=False)"
   ]
  },
  {
   "cell_type": "code",
   "execution_count": 216,
   "metadata": {
    "collapsed": true
   },
   "outputs": [],
   "source": [
    "fi_disease_ge_sim_mat = pd.DataFrame(index = fi_disease_id.tolist(),columns=fi_disease_id.tolist())\n",
    "fi_disease_ge_sim_mat.fillna(0.0)\n",
    "\n",
    "for index, row in fi_disease_ge_sim.iterrows():\n",
    "    fi_disease_ge_sim_mat[row['Disease_ID2']][row['Disease_ID1']] = row['Similarity_Score']"
   ]
  },
  {
   "cell_type": "code",
   "execution_count": 218,
   "metadata": {
    "collapsed": false
   },
   "outputs": [],
   "source": [
    "fi_disease_ge_sim_mat.to_csv(\"/DAS_Storage1/aschoi/data/Drug_Repositioning/6_new_disease/new_predict/1_disease_disease_ge_sim_mat.tsv\",sep='\\t')\n",
    "fi_disease_ge_sim_mat.to_csv(\"/home/share/aschoi/nas/users/asolchoi/data/Drug_Repositioning/6_new_disease/new_predict/1_disease_disease_ge_sim_mat.tsv\",sep='\\t')"
   ]
  },
  {
   "cell_type": "code",
   "execution_count": null,
   "metadata": {
    "collapsed": true
   },
   "outputs": [],
   "source": []
  }
 ],
 "metadata": {
  "kernelspec": {
   "display_name": "Python 2",
   "language": "python",
   "name": "python2"
  },
  "language_info": {
   "codemirror_mode": {
    "name": "ipython",
    "version": 2
   },
   "file_extension": ".py",
   "mimetype": "text/x-python",
   "name": "python",
   "nbconvert_exporter": "python",
   "pygments_lexer": "ipython2",
   "version": "2.7.6"
  }
 },
 "nbformat": 4,
 "nbformat_minor": 2
}
