{
 "cells": [
  {
   "cell_type": "code",
   "execution_count": 1,
   "metadata": {
    "collapsed": true
   },
   "outputs": [],
   "source": [
    "import numpy as np\n",
    "import pandas as pd\n",
    "from datetime import datetime"
   ]
  },
  {
   "cell_type": "code",
   "execution_count": 21,
   "metadata": {
    "collapsed": false
   },
   "outputs": [],
   "source": [
    "indep_asso = pd.read_table(\"/DAS_Storage1/aschoi/data/Drug_Repositioning/7_new_association/PREDICT_data/3_2_indep_learning_asso.tsv\")"
   ]
  },
  {
   "cell_type": "code",
   "execution_count": null,
   "metadata": {
    "collapsed": true
   },
   "outputs": [],
   "source": [
    "# drug-drug similarity(structure)"
   ]
  },
  {
   "cell_type": "code",
   "execution_count": 22,
   "metadata": {
    "collapsed": true
   },
   "outputs": [],
   "source": [
    "str_sim = pd.read_table(\"/DAS_Storage1/aschoi/data/Drug_Repositioning/5_new_drug/9_indep_drug_similarity_structure.tsv\")\n",
    "se_sim = pd.read_table(\"/DAS_Storage1/aschoi/data/Drug_Repositioning/5_new_drug/9_indep_drug_similarity_phenotype.tsv\")"
   ]
  },
  {
   "cell_type": "code",
   "execution_count": 12,
   "metadata": {
    "collapsed": false
   },
   "outputs": [
    {
     "name": "stdout",
     "output_type": "stream",
     "text": [
      "73\n",
      "35\n"
     ]
    }
   ],
   "source": [
    "indep_dr_id = indep_asso['drug_id'].drop_duplicates().tolist()\n",
    "indep_di_id = indep_asso['disease_id'].drop_duplicates().tolist()\n",
    "print len(indep_dr_id)\n",
    "print len(indep_di_id)"
   ]
  },
  {
   "cell_type": "code",
   "execution_count": 10,
   "metadata": {
    "collapsed": false
   },
   "outputs": [
    {
     "name": "stdout",
     "output_type": "stream",
     "text": [
      "71\n"
     ]
    }
   ],
   "source": [
    "str_dr_id = str_sim['DrugBank_ID1'].drop_duplicates() # structure 정보를 가지고 있는 drug --> 그대로 사용하면됨.\n",
    "print len(str_dr_id)"
   ]
  },
  {
   "cell_type": "code",
   "execution_count": 18,
   "metadata": {
    "collapsed": true
   },
   "outputs": [],
   "source": [
    "str_sim_mat = pd.DataFrame(index = str_dr_id.tolist(),columns=str_dr_id.tolist())\n",
    "str_sim_mat.fillna(0.0)\n",
    "\n",
    "for index, row in str_sim.iterrows():\n",
    "    str_sim_mat[row['DrugBank_ID2']][row['DrugBank_ID1']] = row['CheSim']"
   ]
  },
  {
   "cell_type": "code",
   "execution_count": 20,
   "metadata": {
    "collapsed": false
   },
   "outputs": [],
   "source": [
    "str_dr_id.to_csv(\"/DAS_Storage1/aschoi/data/Drug_Repositioning/5_new_drug/new_predict/2_indep_drug_id.tsv\",sep='\\t', index=False)\n",
    "str_sim_mat.to_csv(\"/DAS_Storage1/aschoi/data/Drug_Repositioning/5_new_drug/new_predict/2_indep_drug_drug_str_sim_mat.tsv\",sep='\\t')\n",
    "str_sim_mat.to_csv(\"/home/share/aschoi/nas/users/asolchoi/data/Drug_Repositioning/5_new_drug/new_predict/2_indep_drug_drug_str_sim_mat.tsv\",sep='\\t')"
   ]
  },
  {
   "cell_type": "code",
   "execution_count": 26,
   "metadata": {
    "collapsed": false
   },
   "outputs": [
    {
     "data": {
      "text/plain": [
       "71"
      ]
     },
     "execution_count": 26,
     "metadata": {},
     "output_type": "execute_result"
    }
   ],
   "source": [
    "# drug-drug similarity(se)"
   ]
  },
  {
   "cell_type": "code",
   "execution_count": 28,
   "metadata": {
    "collapsed": true
   },
   "outputs": [],
   "source": [
    "se_sim_mat = pd.DataFrame(index = str_dr_id.tolist(),columns=str_dr_id.tolist())\n",
    "se_sim_mat.fillna(0.0)\n",
    "\n",
    "for index, row in se_sim.iterrows():\n",
    "    se_sim_mat[row['DrugBank_ID2']][row['DrugBank_ID1']] = row['PheSim']"
   ]
  },
  {
   "cell_type": "code",
   "execution_count": 30,
   "metadata": {
    "collapsed": true
   },
   "outputs": [],
   "source": [
    "se_sim_mat.to_csv(\"/DAS_Storage1/aschoi/data/Drug_Repositioning/5_new_drug/new_predict/2_indep_drug_drug_se_sim_mat.tsv\",sep='\\t')\n",
    "se_sim_mat.to_csv(\"/home/share/aschoi/nas/users/asolchoi/data/Drug_Repositioning/5_new_drug/new_predict/2_indep_drug_drug_se_sim_mat.tsv\",sep='\\t')"
   ]
  },
  {
   "cell_type": "code",
   "execution_count": null,
   "metadata": {
    "collapsed": true
   },
   "outputs": [],
   "source": [
    "# association"
   ]
  },
  {
   "cell_type": "code",
   "execution_count": 33,
   "metadata": {
    "collapsed": false
   },
   "outputs": [
    {
     "name": "stdout",
     "output_type": "stream",
     "text": [
      "2539\n",
      "2469\n"
     ]
    },
    {
     "data": {
      "text/plain": [
       "\"pos = temp[temp.association ==1]\\nfi_disease_id = pos['disease_id'].drop_duplicates()\\n\""
      ]
     },
     "execution_count": 33,
     "metadata": {},
     "output_type": "execute_result"
    }
   ],
   "source": [
    "print len(indep_asso)\n",
    "temp = indep_asso[indep_asso['drug_id'].isin(str_dr_id)]\n",
    "print len(temp)"
   ]
  },
  {
   "cell_type": "code",
   "execution_count": 34,
   "metadata": {
    "collapsed": false
   },
   "outputs": [
    {
     "name": "stdout",
     "output_type": "stream",
     "text": [
      "2399\n"
     ]
    }
   ],
   "source": [
    "pos = temp[temp.association ==1]\n",
    "fi_disease_id = pos['disease_id'].drop_duplicates()\n",
    "fi_learning_asso = temp[temp['disease_id'].isin(fi_disease_id)]\n",
    "print len(fi_learning_asso)"
   ]
  },
  {
   "cell_type": "code",
   "execution_count": 35,
   "metadata": {
    "collapsed": false
   },
   "outputs": [
    {
     "name": "stdout",
     "output_type": "stream",
     "text": [
      "89\n",
      "2310\n",
      "71\n",
      "71\n",
      "34\n",
      "34\n"
     ]
    }
   ],
   "source": [
    "a = fi_learning_asso[fi_learning_asso.association ==1]\n",
    "b = fi_learning_asso[fi_learning_asso.association ==0]\n",
    "print len(a)\n",
    "print len(b)\n",
    "print len(a['drug_id'].drop_duplicates())\n",
    "print len(b['drug_id'].drop_duplicates())\n",
    "print len(a['disease_id'].drop_duplicates())\n",
    "print len(b['disease_id'].drop_duplicates())"
   ]
  },
  {
   "cell_type": "code",
   "execution_count": 36,
   "metadata": {
    "collapsed": true
   },
   "outputs": [],
   "source": [
    "fi_learning_asso.to_csv(\"/DAS_Storage1/aschoi/data/Drug_Repositioning/7_new_association/new_predict/3_indep_learning_asso.tsv\", sep='\\t', index=False)\n",
    "fi_learning_asso.to_csv(\"/home/share/aschoi/nas/users/asolchoi/data/Drug_Repositioning/7_new_association/new_predict/3_indep_learning_asso.tsv\", sep='\\t', index=False)"
   ]
  },
  {
   "cell_type": "code",
   "execution_count": null,
   "metadata": {
    "collapsed": true
   },
   "outputs": [],
   "source": [
    "#disease disease similarity"
   ]
  },
  {
   "cell_type": "code",
   "execution_count": 39,
   "metadata": {
    "collapsed": true
   },
   "outputs": [],
   "source": [
    "di_feature = pd.read_table(\"/DAS_Storage1/aschoi/data/Drug_Repositioning/6_new_disease/8_gold_standard_disease_binary_matrix.tsv\", index_col = 0)"
   ]
  },
  {
   "cell_type": "code",
   "execution_count": 40,
   "metadata": {
    "collapsed": false
   },
   "outputs": [
    {
     "data": {
      "text/html": [
       "<div>\n",
       "<table border=\"1\" class=\"dataframe\">\n",
       "  <thead>\n",
       "    <tr style=\"text-align: right;\">\n",
       "      <th></th>\n",
       "      <th>102300</th>\n",
       "      <th>102400</th>\n",
       "      <th>102500</th>\n",
       "      <th>103780</th>\n",
       "      <th>104130</th>\n",
       "      <th>104300</th>\n",
       "      <th>106400</th>\n",
       "      <th>107650</th>\n",
       "      <th>109100</th>\n",
       "      <th>109200</th>\n",
       "      <th>...</th>\n",
       "      <th>607631</th>\n",
       "      <th>607681</th>\n",
       "      <th>607682</th>\n",
       "      <th>607850</th>\n",
       "      <th>608088</th>\n",
       "      <th>608105</th>\n",
       "      <th>608217</th>\n",
       "      <th>608320</th>\n",
       "      <th>608583</th>\n",
       "      <th>608622</th>\n",
       "    </tr>\n",
       "  </thead>\n",
       "  <tbody>\n",
       "    <tr>\n",
       "      <th>100188812</th>\n",
       "      <td>1</td>\n",
       "      <td>0</td>\n",
       "      <td>0</td>\n",
       "      <td>0</td>\n",
       "      <td>0</td>\n",
       "      <td>0</td>\n",
       "      <td>0</td>\n",
       "      <td>0</td>\n",
       "      <td>0</td>\n",
       "      <td>0</td>\n",
       "      <td>...</td>\n",
       "      <td>0</td>\n",
       "      <td>0</td>\n",
       "      <td>0</td>\n",
       "      <td>0</td>\n",
       "      <td>0</td>\n",
       "      <td>0</td>\n",
       "      <td>0</td>\n",
       "      <td>0</td>\n",
       "      <td>0</td>\n",
       "      <td>0</td>\n",
       "    </tr>\n",
       "  </tbody>\n",
       "</table>\n",
       "<p>1 rows × 235 columns</p>\n",
       "</div>"
      ],
      "text/plain": [
       "           102300  102400  102500  103780  104130  104300  106400  107650  \\\n",
       "100188812       1       0       0       0       0       0       0       0   \n",
       "\n",
       "           109100  109200   ...    607631  607681  607682  607850  608088  \\\n",
       "100188812       0       0   ...         0       0       0       0       0   \n",
       "\n",
       "           608105  608217  608320  608583  608622  \n",
       "100188812       0       0       0       0       0  \n",
       "\n",
       "[1 rows x 235 columns]"
      ]
     },
     "execution_count": 40,
     "metadata": {},
     "output_type": "execute_result"
    }
   ],
   "source": [
    "di_feature.head(1)"
   ]
  },
  {
   "cell_type": "code",
   "execution_count": 41,
   "metadata": {
    "collapsed": true
   },
   "outputs": [],
   "source": [
    "str_fi_disease_id = list()\n",
    "for i in fi_disease_id:\n",
    "    str_fi_disease_id.append(str(i))"
   ]
  },
  {
   "cell_type": "code",
   "execution_count": 43,
   "metadata": {
    "collapsed": false
   },
   "outputs": [
    {
     "name": "stdout",
     "output_type": "stream",
     "text": [
      "3521\n"
     ]
    },
    {
     "data": {
      "text/html": [
       "<div>\n",
       "<table border=\"1\" class=\"dataframe\">\n",
       "  <thead>\n",
       "    <tr style=\"text-align: right;\">\n",
       "      <th></th>\n",
       "      <th>102300</th>\n",
       "      <th>103780</th>\n",
       "      <th>104300</th>\n",
       "      <th>168600</th>\n",
       "      <th>115195</th>\n",
       "      <th>137580</th>\n",
       "      <th>137750</th>\n",
       "      <th>137760</th>\n",
       "      <th>140600</th>\n",
       "      <th>165720</th>\n",
       "      <th>...</th>\n",
       "      <th>194200</th>\n",
       "      <th>212050</th>\n",
       "      <th>254800</th>\n",
       "      <th>263800</th>\n",
       "      <th>602522</th>\n",
       "      <th>540000</th>\n",
       "      <th>602080</th>\n",
       "      <th>603165</th>\n",
       "      <th>607499</th>\n",
       "      <th>607501</th>\n",
       "    </tr>\n",
       "  </thead>\n",
       "  <tbody>\n",
       "    <tr>\n",
       "      <th>100188812</th>\n",
       "      <td>1</td>\n",
       "      <td>0</td>\n",
       "      <td>0</td>\n",
       "      <td>0</td>\n",
       "      <td>0</td>\n",
       "      <td>0</td>\n",
       "      <td>0</td>\n",
       "      <td>0</td>\n",
       "      <td>0</td>\n",
       "      <td>0</td>\n",
       "      <td>...</td>\n",
       "      <td>0</td>\n",
       "      <td>0</td>\n",
       "      <td>0</td>\n",
       "      <td>0</td>\n",
       "      <td>0</td>\n",
       "      <td>0</td>\n",
       "      <td>0</td>\n",
       "      <td>0</td>\n",
       "      <td>0</td>\n",
       "      <td>0</td>\n",
       "    </tr>\n",
       "  </tbody>\n",
       "</table>\n",
       "<p>1 rows × 34 columns</p>\n",
       "</div>"
      ],
      "text/plain": [
       "           102300  103780  104300  168600  115195  137580  137750  137760  \\\n",
       "100188812       1       0       0       0       0       0       0       0   \n",
       "\n",
       "           140600  165720   ...    194200  212050  254800  263800  602522  \\\n",
       "100188812       0       0   ...         0       0       0       0       0   \n",
       "\n",
       "           540000  602080  603165  607499  607501  \n",
       "100188812       0       0       0       0       0  \n",
       "\n",
       "[1 rows x 34 columns]"
      ]
     },
     "execution_count": 43,
     "metadata": {},
     "output_type": "execute_result"
    }
   ],
   "source": [
    "a = di_feature.filter(items = str_fi_disease_id)\n",
    "print len(a)\n",
    "a.head(1)\n",
    "#a.sum() --> 0인 feature 없었음."
   ]
  },
  {
   "cell_type": "code",
   "execution_count": 45,
   "metadata": {
    "collapsed": true
   },
   "outputs": [],
   "source": [
    "di_ge_sim = pd.read_table(\"/DAS_Storage1/aschoi/data/Drug_Repositioning/6_new_disease/9_indep_disease_similarity_genetic.tsv\")\n",
    "di_phe_sim = pd.read_table(\"/DAS_Storage1/aschoi/data/Drug_Repositioning/6_new_disease/9_indep_disease_similarity_mimminerc.tsv\", index_col=0)"
   ]
  },
  {
   "cell_type": "code",
   "execution_count": 47,
   "metadata": {
    "collapsed": false
   },
   "outputs": [
    {
     "name": "stdout",
     "output_type": "stream",
     "text": [
      "1225\n",
      "1190\n",
      "1156\n"
     ]
    }
   ],
   "source": [
    "print len(di_ge_sim)\n",
    "temp = di_ge_sim[(di_ge_sim['Disease_ID1'].isin(fi_disease_id))]\n",
    "print len(temp)\n",
    "fi_disease_ge_sim = temp[(temp['Disease_ID2'].isin(fi_disease_id))]\n",
    "print len(fi_disease_ge_sim)"
   ]
  },
  {
   "cell_type": "code",
   "execution_count": 48,
   "metadata": {
    "collapsed": false
   },
   "outputs": [
    {
     "name": "stdout",
     "output_type": "stream",
     "text": [
      "35\n",
      "34\n"
     ]
    },
    {
     "data": {
      "text/html": [
       "<div>\n",
       "<table border=\"1\" class=\"dataframe\">\n",
       "  <thead>\n",
       "    <tr style=\"text-align: right;\">\n",
       "      <th></th>\n",
       "      <th>102300</th>\n",
       "      <th>103780</th>\n",
       "      <th>104300</th>\n",
       "      <th>168600</th>\n",
       "      <th>115195</th>\n",
       "      <th>137580</th>\n",
       "      <th>137750</th>\n",
       "      <th>137760</th>\n",
       "      <th>140600</th>\n",
       "      <th>165720</th>\n",
       "      <th>...</th>\n",
       "      <th>194200</th>\n",
       "      <th>212050</th>\n",
       "      <th>254800</th>\n",
       "      <th>263800</th>\n",
       "      <th>602522</th>\n",
       "      <th>540000</th>\n",
       "      <th>602080</th>\n",
       "      <th>603165</th>\n",
       "      <th>607499</th>\n",
       "      <th>607501</th>\n",
       "    </tr>\n",
       "  </thead>\n",
       "  <tbody>\n",
       "    <tr>\n",
       "      <th>102300</th>\n",
       "      <td>1.0</td>\n",
       "      <td>0.174992</td>\n",
       "      <td>0.102686</td>\n",
       "      <td>0.157308</td>\n",
       "      <td>0.042939</td>\n",
       "      <td>0.14864</td>\n",
       "      <td>0.102334</td>\n",
       "      <td>0.08372</td>\n",
       "      <td>0.048745</td>\n",
       "      <td>0.129079</td>\n",
       "      <td>...</td>\n",
       "      <td>0.102402</td>\n",
       "      <td>0.030881</td>\n",
       "      <td>0.196861</td>\n",
       "      <td>0.181554</td>\n",
       "      <td>0.065632</td>\n",
       "      <td>0.142174</td>\n",
       "      <td>0.121141</td>\n",
       "      <td>0.059776</td>\n",
       "      <td>0.141804</td>\n",
       "      <td>0.150483</td>\n",
       "    </tr>\n",
       "  </tbody>\n",
       "</table>\n",
       "<p>1 rows × 34 columns</p>\n",
       "</div>"
      ],
      "text/plain": [
       "        102300    103780    104300    168600    115195   137580    137750  \\\n",
       "102300     1.0  0.174992  0.102686  0.157308  0.042939  0.14864  0.102334   \n",
       "\n",
       "         137760    140600    165720    ...       194200    212050    254800  \\\n",
       "102300  0.08372  0.048745  0.129079    ...     0.102402  0.030881  0.196861   \n",
       "\n",
       "          263800    602522    540000    602080    603165    607499    607501  \n",
       "102300  0.181554  0.065632  0.142174  0.121141  0.059776  0.141804  0.150483  \n",
       "\n",
       "[1 rows x 34 columns]"
      ]
     },
     "execution_count": 48,
     "metadata": {},
     "output_type": "execute_result"
    }
   ],
   "source": [
    "print len(di_phe_sim)\n",
    "temp = di_phe_sim.filter(items = str_fi_disease_id)\n",
    "fi_di_phe_sim = temp.filter(items = fi_disease_id, axis=0)\n",
    "print len(fi_di_phe_sim)\n",
    "fi_di_phe_sim.head(1)"
   ]
  },
  {
   "cell_type": "code",
   "execution_count": 49,
   "metadata": {
    "collapsed": true
   },
   "outputs": [],
   "source": [
    "fi_disease_id.to_csv(\"/DAS_Storage1/aschoi/data/Drug_Repositioning/6_new_disease/new_predict/2_indep_disease_id.tsv\", sep='\\t', index=False)\n",
    "fi_disease_id.to_csv(\"/home/share/aschoi/nas/users/asolchoi/data/Drug_Repositioning/6_new_disease/new_predict/2_gold_disease_id.tsv\", sep='\\t', index=False)\n",
    "fi_di_phe_sim.to_csv(\"/DAS_Storage1/aschoi/data/Drug_Repositioning/6_new_disease/new_predict/2_indep_disease_disease_phe_sim_mat.tsv\",sep='\\t')\n",
    "fi_di_phe_sim.to_csv(\"/home/share/aschoi/nas/users/asolchoi/data/Drug_Repositioning/6_new_disease/new_predict/2_indep_disease_disease_phe_sim_mat.tsv\",sep='\\t')\n",
    "fi_disease_ge_sim.to_csv(\"/DAS_Storage1/aschoi/data/Drug_Repositioning/6_new_disease/new_predict/2_indep_disease_disease_ge_sim.tsv\", sep='\\t', index=False)\n",
    "fi_disease_ge_sim.to_csv(\"/home/share/aschoi/nas/users/asolchoi/data/Drug_Repositioning/6_new_disease/new_predict/2_indep_diesease_disease_ger_sim.tsv\", sep='\\t', index=False)"
   ]
  },
  {
   "cell_type": "code",
   "execution_count": 51,
   "metadata": {
    "collapsed": true
   },
   "outputs": [],
   "source": [
    "fi_disease_ge_sim_mat = pd.DataFrame(index = fi_disease_id.tolist(),columns=fi_disease_id.tolist())\n",
    "fi_disease_ge_sim_mat.fillna(0.0)\n",
    "\n",
    "for index, row in fi_disease_ge_sim.iterrows():\n",
    "    fi_disease_ge_sim_mat[row['Disease_ID2']][row['Disease_ID1']] = row['Similarity_Score']"
   ]
  },
  {
   "cell_type": "code",
   "execution_count": 53,
   "metadata": {
    "collapsed": false
   },
   "outputs": [],
   "source": [
    "fi_disease_ge_sim_mat.to_csv(\"/DAS_Storage1/aschoi/data/Drug_Repositioning/6_new_disease/new_predict/2_indep_disease_disease_ge_sim_mat.tsv\",sep='\\t')\n",
    "fi_disease_ge_sim_mat.to_csv(\"/home/share/aschoi/nas/users/asolchoi/data/Drug_Repositioning/6_new_disease/new_predict/2_indep_disease_disease_ge_sim_mat.tsv\",sep='\\t')"
   ]
  },
  {
   "cell_type": "code",
   "execution_count": null,
   "metadata": {
    "collapsed": true
   },
   "outputs": [],
   "source": []
  }
 ],
 "metadata": {
  "kernelspec": {
   "display_name": "Python 2",
   "language": "python",
   "name": "python2"
  },
  "language_info": {
   "codemirror_mode": {
    "name": "ipython",
    "version": 2
   },
   "file_extension": ".py",
   "mimetype": "text/x-python",
   "name": "python",
   "nbconvert_exporter": "python",
   "pygments_lexer": "ipython2",
   "version": "2.7.6"
  }
 },
 "nbformat": 4,
 "nbformat_minor": 2
}
