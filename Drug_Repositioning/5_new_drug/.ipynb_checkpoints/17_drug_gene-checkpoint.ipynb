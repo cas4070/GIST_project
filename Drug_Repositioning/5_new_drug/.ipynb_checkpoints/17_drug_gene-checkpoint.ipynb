{
 "cells": [
  {
   "cell_type": "code",
   "execution_count": 1,
   "metadata": {
    "collapsed": true
   },
   "outputs": [],
   "source": [
    "import pandas as pd\n",
    "import numpy as np"
   ]
  },
  {
   "cell_type": "code",
   "execution_count": 43,
   "metadata": {
    "collapsed": true
   },
   "outputs": [],
   "source": [
    "dgi = pd.read_table(\"/home/share/aschoi/nas/users/asolchoi/data/Drug_Repositioning/5_new_drug/dgidb/dgidb_drug_gene_interactions.txt\")"
   ]
  },
  {
   "cell_type": "code",
   "execution_count": 141,
   "metadata": {
    "collapsed": true
   },
   "outputs": [],
   "source": [
    "egen = pd.read_table(\"/home/share/aschoi/nas/users/asolchoi/data/Drug_Repositioning/5_new_drug/dgidb/druggable_gene_tsvs/Entrez_GENES.tsv\")"
   ]
  },
  {
   "cell_type": "code",
   "execution_count": 75,
   "metadata": {
    "collapsed": true
   },
   "outputs": [],
   "source": [
    "target_sequence = pd.read_table(\"/home/share/aschoi/nas/users/asolchoi/data/Drug_Repositioning/5_new_drug/protein_seq.txt\")"
   ]
  },
  {
   "cell_type": "code",
   "execution_count": 44,
   "metadata": {
    "collapsed": false
   },
   "outputs": [
    {
     "data": {
      "text/html": [
       "<div>\n",
       "<table border=\"1\" class=\"dataframe\">\n",
       "  <thead>\n",
       "    <tr style=\"text-align: right;\">\n",
       "      <th></th>\n",
       "      <th>DrugBank_ID</th>\n",
       "      <th>Drug_Name</th>\n",
       "      <th>InChI</th>\n",
       "      <th>SMILES</th>\n",
       "      <th>State</th>\n",
       "    </tr>\n",
       "  </thead>\n",
       "  <tbody>\n",
       "    <tr>\n",
       "      <th>0</th>\n",
       "      <td>DB00006</td>\n",
       "      <td>Bivalirudin</td>\n",
       "      <td>InChI=1S/C98H138N24O33/c1-5-52(4)82(96(153)122...</td>\n",
       "      <td>CC[C@H](C)[C@H](NC(=O)[C@H](CCC(O)=O)NC(=O)[C@...</td>\n",
       "      <td>approved</td>\n",
       "    </tr>\n",
       "  </tbody>\n",
       "</table>\n",
       "</div>"
      ],
      "text/plain": [
       "  DrugBank_ID    Drug_Name                                              InChI  \\\n",
       "0     DB00006  Bivalirudin  InChI=1S/C98H138N24O33/c1-5-52(4)82(96(153)122...   \n",
       "\n",
       "                                              SMILES     State  \n",
       "0  CC[C@H](C)[C@H](NC(=O)[C@H](CCC(O)=O)NC(=O)[C@...  approved  "
      ]
     },
     "execution_count": 44,
     "metadata": {},
     "output_type": "execute_result"
    }
   ],
   "source": [
    "drugbank = pd.read_table(\"/home/share/aschoi/nas/users/asolchoi/data/Drug_Repositioning/5_new_drug/drug_set.txt\", header=None)\n",
    "drugbank = drugbank.rename(columns = {0:'DrugBank_ID', 1:'Drug_Name', 2:'InChI', 3:'SMILES', 4:'State'})\n",
    "drugbank.head(1)"
   ]
  },
  {
   "cell_type": "code",
   "execution_count": 45,
   "metadata": {
    "collapsed": false
   },
   "outputs": [],
   "source": [
    "asso = pd.read_table(\"/DAS_Storage1/aschoi/data/Drug_Repositioning/7_new_association/new_predict/1_gold_learning_asso.tsv\")"
   ]
  },
  {
   "cell_type": "code",
   "execution_count": 142,
   "metadata": {
    "collapsed": false
   },
   "outputs": [
    {
     "data": {
      "text/html": [
       "<div>\n",
       "<table border=\"1\" class=\"dataframe\">\n",
       "  <thead>\n",
       "    <tr style=\"text-align: right;\">\n",
       "      <th></th>\n",
       "      <th>entrez_gene_symbol</th>\n",
       "      <th>gene_long_name</th>\n",
       "      <th>interaction_claim_source</th>\n",
       "      <th>interaction_types</th>\n",
       "      <th>drug_name</th>\n",
       "      <th>drug_primary_name</th>\n",
       "    </tr>\n",
       "  </thead>\n",
       "  <tbody>\n",
       "    <tr>\n",
       "      <th>0</th>\n",
       "      <td>HDAC10</td>\n",
       "      <td>histone deacetylase 10</td>\n",
       "      <td>TALC</td>\n",
       "      <td>inhibitor</td>\n",
       "      <td>DACINOSTAT</td>\n",
       "      <td>DACINOSTAT</td>\n",
       "    </tr>\n",
       "    <tr>\n",
       "      <th>1</th>\n",
       "      <td>HDAC10</td>\n",
       "      <td>histone deacetylase 10</td>\n",
       "      <td>TALC</td>\n",
       "      <td>inhibitor</td>\n",
       "      <td>VORINOSTAT</td>\n",
       "      <td>VORINOSTAT</td>\n",
       "    </tr>\n",
       "  </tbody>\n",
       "</table>\n",
       "</div>"
      ],
      "text/plain": [
       "  entrez_gene_symbol          gene_long_name interaction_claim_source  \\\n",
       "0             HDAC10  histone deacetylase 10                     TALC   \n",
       "1             HDAC10  histone deacetylase 10                     TALC   \n",
       "\n",
       "  interaction_types   drug_name drug_primary_name  \n",
       "0         inhibitor  DACINOSTAT        DACINOSTAT  \n",
       "1         inhibitor  VORINOSTAT        VORINOSTAT  "
      ]
     },
     "execution_count": 142,
     "metadata": {},
     "output_type": "execute_result"
    }
   ],
   "source": [
    "dgi.head(2)"
   ]
  },
  {
   "cell_type": "code",
   "execution_count": 143,
   "metadata": {
    "collapsed": false
   },
   "outputs": [
    {
     "data": {
      "text/html": [
       "<div>\n",
       "<table border=\"1\" class=\"dataframe\">\n",
       "  <thead>\n",
       "    <tr style=\"text-align: right;\">\n",
       "      <th></th>\n",
       "      <th>entrez_id</th>\n",
       "      <th>entrez_gene_symbol</th>\n",
       "      <th>entrez_gene_synonyms</th>\n",
       "      <th>ensembl_ids</th>\n",
       "    </tr>\n",
       "  </thead>\n",
       "  <tbody>\n",
       "    <tr>\n",
       "      <th>0</th>\n",
       "      <td>57573</td>\n",
       "      <td>ZNF471</td>\n",
       "      <td>ERP1,Z1971</td>\n",
       "      <td>ENSG00000196263</td>\n",
       "    </tr>\n",
       "    <tr>\n",
       "      <th>1</th>\n",
       "      <td>8563</td>\n",
       "      <td>THOC5</td>\n",
       "      <td>C22orf19,Fmip,PK1.3,fSAP79</td>\n",
       "      <td>ENSG00000100296</td>\n",
       "    </tr>\n",
       "  </tbody>\n",
       "</table>\n",
       "</div>"
      ],
      "text/plain": [
       "   entrez_id entrez_gene_symbol        entrez_gene_synonyms      ensembl_ids\n",
       "0      57573             ZNF471                  ERP1,Z1971  ENSG00000196263\n",
       "1       8563              THOC5  C22orf19,Fmip,PK1.3,fSAP79  ENSG00000100296"
      ]
     },
     "execution_count": 143,
     "metadata": {},
     "output_type": "execute_result"
    }
   ],
   "source": [
    "egen.head(2)"
   ]
  },
  {
   "cell_type": "code",
   "execution_count": 47,
   "metadata": {
    "collapsed": false
   },
   "outputs": [],
   "source": [
    "gdr = drugbank[drugbank.DrugBank_ID.isin(asso.drug_id)]"
   ]
  },
  {
   "cell_type": "code",
   "execution_count": 153,
   "metadata": {
    "collapsed": false
   },
   "outputs": [],
   "source": [
    "merged = pd.merge(left=gdr, right=dgi, left_on = 'DrugBank_ID', right_on='drug_name').drop_duplicates()"
   ]
  },
  {
   "cell_type": "code",
   "execution_count": 157,
   "metadata": {
    "collapsed": false
   },
   "outputs": [],
   "source": [
    "fi_merged =  pd.merge(left=merged, right=egen)"
   ]
  },
  {
   "cell_type": "code",
   "execution_count": 158,
   "metadata": {
    "collapsed": false
   },
   "outputs": [
    {
     "name": "stdout",
     "output_type": "stream",
     "text": [
      "1965 1965\n",
      "434\n"
     ]
    },
    {
     "data": {
      "text/html": [
       "<div>\n",
       "<table border=\"1\" class=\"dataframe\">\n",
       "  <thead>\n",
       "    <tr style=\"text-align: right;\">\n",
       "      <th></th>\n",
       "      <th>DrugBank_ID</th>\n",
       "      <th>Drug_Name</th>\n",
       "      <th>InChI</th>\n",
       "      <th>SMILES</th>\n",
       "      <th>State</th>\n",
       "      <th>entrez_gene_symbol</th>\n",
       "      <th>gene_long_name</th>\n",
       "      <th>interaction_claim_source</th>\n",
       "      <th>interaction_types</th>\n",
       "      <th>drug_name</th>\n",
       "      <th>drug_primary_name</th>\n",
       "      <th>entrez_id</th>\n",
       "      <th>entrez_gene_synonyms</th>\n",
       "      <th>ensembl_ids</th>\n",
       "    </tr>\n",
       "  </thead>\n",
       "  <tbody>\n",
       "    <tr>\n",
       "      <th>0</th>\n",
       "      <td>DB00114</td>\n",
       "      <td>Pyridoxal Phosphate</td>\n",
       "      <td>InChI=1S/C8H10NO6P/c1-5-8(11)7(3-10)6(2-9-5)4-...</td>\n",
       "      <td>CC1=NC=C(COP(O)(O)=O)C(C=O)=C1O</td>\n",
       "      <td>nutraceutical</td>\n",
       "      <td>GAD1</td>\n",
       "      <td>glutamate decarboxylase 1 (brain, 67kDa)</td>\n",
       "      <td>DrugBank</td>\n",
       "      <td>cofactor</td>\n",
       "      <td>DB00114</td>\n",
       "      <td>PYRIDOXAL PHOSPHATE</td>\n",
       "      <td>2571</td>\n",
       "      <td>CPSQ1,GAD,SCP</td>\n",
       "      <td>ENSG00000128683</td>\n",
       "    </tr>\n",
       "    <tr>\n",
       "      <th>1</th>\n",
       "      <td>DB00114</td>\n",
       "      <td>Pyridoxal Phosphate</td>\n",
       "      <td>InChI=1S/C8H10NO6P/c1-5-8(11)7(3-10)6(2-9-5)4-...</td>\n",
       "      <td>CC1=NC=C(COP(O)(O)=O)C(C=O)=C1O</td>\n",
       "      <td>nutraceutical</td>\n",
       "      <td>BCAT2</td>\n",
       "      <td>branched chain amino-acid transaminase 2, mito...</td>\n",
       "      <td>DrugBank</td>\n",
       "      <td>cofactor</td>\n",
       "      <td>DB00114</td>\n",
       "      <td>PYRIDOXAL PHOSPHATE</td>\n",
       "      <td>587</td>\n",
       "      <td>BCAM,BCATM,BCT2,PP18</td>\n",
       "      <td>ENSG00000105552</td>\n",
       "    </tr>\n",
       "  </tbody>\n",
       "</table>\n",
       "</div>"
      ],
      "text/plain": [
       "  DrugBank_ID            Drug_Name  \\\n",
       "0     DB00114  Pyridoxal Phosphate   \n",
       "1     DB00114  Pyridoxal Phosphate   \n",
       "\n",
       "                                               InChI  \\\n",
       "0  InChI=1S/C8H10NO6P/c1-5-8(11)7(3-10)6(2-9-5)4-...   \n",
       "1  InChI=1S/C8H10NO6P/c1-5-8(11)7(3-10)6(2-9-5)4-...   \n",
       "\n",
       "                            SMILES          State entrez_gene_symbol  \\\n",
       "0  CC1=NC=C(COP(O)(O)=O)C(C=O)=C1O  nutraceutical               GAD1   \n",
       "1  CC1=NC=C(COP(O)(O)=O)C(C=O)=C1O  nutraceutical              BCAT2   \n",
       "\n",
       "                                      gene_long_name interaction_claim_source  \\\n",
       "0           glutamate decarboxylase 1 (brain, 67kDa)                 DrugBank   \n",
       "1  branched chain amino-acid transaminase 2, mito...                 DrugBank   \n",
       "\n",
       "  interaction_types drug_name    drug_primary_name  entrez_id  \\\n",
       "0          cofactor   DB00114  PYRIDOXAL PHOSPHATE       2571   \n",
       "1          cofactor   DB00114  PYRIDOXAL PHOSPHATE        587   \n",
       "\n",
       "   entrez_gene_synonyms      ensembl_ids  \n",
       "0         CPSQ1,GAD,SCP  ENSG00000128683  \n",
       "1  BCAM,BCATM,BCT2,PP18  ENSG00000105552  "
      ]
     },
     "execution_count": 158,
     "metadata": {},
     "output_type": "execute_result"
    }
   ],
   "source": [
    "print len(fi_merged), len(fi_merged.drop_duplicates())\n",
    "print len(fi_merged.DrugBank_ID.drop_duplicates())\n",
    "fi_merged.head(2)"
   ]
  },
  {
   "cell_type": "code",
   "execution_count": 78,
   "metadata": {
    "collapsed": false,
    "scrolled": true
   },
   "outputs": [
    {
     "data": {
      "text/html": [
       "<div>\n",
       "<table border=\"1\" class=\"dataframe\">\n",
       "  <thead>\n",
       "    <tr style=\"text-align: right;\">\n",
       "      <th></th>\n",
       "      <th>Entry</th>\n",
       "      <th>Sequence</th>\n",
       "      <th>Length</th>\n",
       "    </tr>\n",
       "  </thead>\n",
       "  <tbody>\n",
       "    <tr>\n",
       "      <th>0</th>\n",
       "      <td>P19113</td>\n",
       "      <td>MMEPEEYRERGREMVDYICQYLSTVRERRVTPDVQPGYLRAQLPES...</td>\n",
       "      <td>662.0</td>\n",
       "    </tr>\n",
       "  </tbody>\n",
       "</table>\n",
       "</div>"
      ],
      "text/plain": [
       "    Entry                                           Sequence  Length\n",
       "0  P19113  MMEPEEYRERGREMVDYICQYLSTVRERRVTPDVQPGYLRAQLPES...   662.0"
      ]
     },
     "execution_count": 78,
     "metadata": {},
     "output_type": "execute_result"
    }
   ],
   "source": [
    "target_sequence.head(1)"
   ]
  },
  {
   "cell_type": "code",
   "execution_count": 77,
   "metadata": {
    "collapsed": false
   },
   "outputs": [
    {
     "data": {
      "text/html": [
       "<div>\n",
       "<table border=\"1\" class=\"dataframe\">\n",
       "  <thead>\n",
       "    <tr style=\"text-align: right;\">\n",
       "      <th></th>\n",
       "      <th>Entry</th>\n",
       "      <th>Sequence</th>\n",
       "      <th>Length</th>\n",
       "    </tr>\n",
       "  </thead>\n",
       "  <tbody>\n",
       "  </tbody>\n",
       "</table>\n",
       "</div>"
      ],
      "text/plain": [
       "Empty DataFrame\n",
       "Columns: [Entry, Sequence, Length]\n",
       "Index: []"
      ]
     },
     "execution_count": 77,
     "metadata": {},
     "output_type": "execute_result"
    }
   ],
   "source": [
    "target_sequence[target_sequence.Entry.isin(merged.entrez_gene_symbol)]"
   ]
  },
  {
   "cell_type": "code",
   "execution_count": 63,
   "metadata": {
    "collapsed": true
   },
   "outputs": [],
   "source": [
    "indep = pd.read_table(\"/DAS_Storage1/aschoi/data/Drug_Repositioning/7_new_association/new_predict/3_indep_learning_asso.tsv\")"
   ]
  },
  {
   "cell_type": "code",
   "execution_count": 167,
   "metadata": {
    "collapsed": false
   },
   "outputs": [],
   "source": [
    "indep_gene = dgi[dgi.drug_name.isin(indep.drug_id)].drop_duplicates()"
   ]
  },
  {
   "cell_type": "code",
   "execution_count": 173,
   "metadata": {
    "collapsed": false
   },
   "outputs": [
    {
     "name": "stdout",
     "output_type": "stream",
     "text": [
      "276 276\n",
      "71\n"
     ]
    },
    {
     "data": {
      "text/html": [
       "<div>\n",
       "<table border=\"1\" class=\"dataframe\">\n",
       "  <thead>\n",
       "    <tr style=\"text-align: right;\">\n",
       "      <th></th>\n",
       "      <th>entrez_gene_symbol</th>\n",
       "      <th>gene_long_name</th>\n",
       "      <th>interaction_claim_source</th>\n",
       "      <th>interaction_types</th>\n",
       "      <th>drug_name</th>\n",
       "      <th>drug_primary_name</th>\n",
       "    </tr>\n",
       "  </thead>\n",
       "  <tbody>\n",
       "    <tr>\n",
       "      <th>100</th>\n",
       "      <td>PGR</td>\n",
       "      <td>progesterone receptor</td>\n",
       "      <td>DrugBank</td>\n",
       "      <td>agonist</td>\n",
       "      <td>DB00588</td>\n",
       "      <td>FLUTICASONE PROPIONATE</td>\n",
       "    </tr>\n",
       "    <tr>\n",
       "      <th>115</th>\n",
       "      <td>PGR</td>\n",
       "      <td>progesterone receptor</td>\n",
       "      <td>DrugBank</td>\n",
       "      <td>agonist</td>\n",
       "      <td>DB00421</td>\n",
       "      <td>SPIRONOLACTONE</td>\n",
       "    </tr>\n",
       "  </tbody>\n",
       "</table>\n",
       "</div>"
      ],
      "text/plain": [
       "    entrez_gene_symbol         gene_long_name interaction_claim_source  \\\n",
       "100                PGR  progesterone receptor                 DrugBank   \n",
       "115                PGR  progesterone receptor                 DrugBank   \n",
       "\n",
       "    interaction_types drug_name       drug_primary_name  \n",
       "100           agonist   DB00588  FLUTICASONE PROPIONATE  \n",
       "115           agonist   DB00421          SPIRONOLACTONE  "
      ]
     },
     "execution_count": 173,
     "metadata": {},
     "output_type": "execute_result"
    }
   ],
   "source": [
    "print len(indep_gene), len(indep_gene.drop_duplicates())\n",
    "print len(indep_gene.drug_name.drop_duplicates())\n",
    "indep_gene.head(2)"
   ]
  },
  {
   "cell_type": "code",
   "execution_count": 179,
   "metadata": {
    "collapsed": true
   },
   "outputs": [],
   "source": [
    "fi_merged2 =  pd.merge(left=indep_gene, right=egen)"
   ]
  },
  {
   "cell_type": "code",
   "execution_count": 180,
   "metadata": {
    "collapsed": false
   },
   "outputs": [
    {
     "name": "stdout",
     "output_type": "stream",
     "text": [
      "276 276\n",
      "71\n"
     ]
    },
    {
     "data": {
      "text/html": [
       "<div>\n",
       "<table border=\"1\" class=\"dataframe\">\n",
       "  <thead>\n",
       "    <tr style=\"text-align: right;\">\n",
       "      <th></th>\n",
       "      <th>entrez_gene_symbol</th>\n",
       "      <th>gene_long_name</th>\n",
       "      <th>interaction_claim_source</th>\n",
       "      <th>interaction_types</th>\n",
       "      <th>drug_name</th>\n",
       "      <th>drug_primary_name</th>\n",
       "      <th>entrez_id</th>\n",
       "      <th>entrez_gene_synonyms</th>\n",
       "      <th>ensembl_ids</th>\n",
       "    </tr>\n",
       "  </thead>\n",
       "  <tbody>\n",
       "    <tr>\n",
       "      <th>0</th>\n",
       "      <td>PGR</td>\n",
       "      <td>progesterone receptor</td>\n",
       "      <td>DrugBank</td>\n",
       "      <td>agonist</td>\n",
       "      <td>DB00588</td>\n",
       "      <td>FLUTICASONE PROPIONATE</td>\n",
       "      <td>5241</td>\n",
       "      <td>NR3C3,PR</td>\n",
       "      <td>ENSG00000082175</td>\n",
       "    </tr>\n",
       "    <tr>\n",
       "      <th>1</th>\n",
       "      <td>PGR</td>\n",
       "      <td>progesterone receptor</td>\n",
       "      <td>DrugBank</td>\n",
       "      <td>agonist</td>\n",
       "      <td>DB00421</td>\n",
       "      <td>SPIRONOLACTONE</td>\n",
       "      <td>5241</td>\n",
       "      <td>NR3C3,PR</td>\n",
       "      <td>ENSG00000082175</td>\n",
       "    </tr>\n",
       "  </tbody>\n",
       "</table>\n",
       "</div>"
      ],
      "text/plain": [
       "  entrez_gene_symbol         gene_long_name interaction_claim_source  \\\n",
       "0                PGR  progesterone receptor                 DrugBank   \n",
       "1                PGR  progesterone receptor                 DrugBank   \n",
       "\n",
       "  interaction_types drug_name       drug_primary_name  entrez_id  \\\n",
       "0           agonist   DB00588  FLUTICASONE PROPIONATE       5241   \n",
       "1           agonist   DB00421          SPIRONOLACTONE       5241   \n",
       "\n",
       "  entrez_gene_synonyms      ensembl_ids  \n",
       "0             NR3C3,PR  ENSG00000082175  \n",
       "1             NR3C3,PR  ENSG00000082175  "
      ]
     },
     "execution_count": 180,
     "metadata": {},
     "output_type": "execute_result"
    }
   ],
   "source": [
    "print len(fi_merged2), len(fi_merged2.drop_duplicates())\n",
    "print len(fi_merged2.drug_name.drop_duplicates())\n",
    "fi_merged2.head(2)"
   ]
  },
  {
   "cell_type": "code",
   "execution_count": 181,
   "metadata": {
    "collapsed": true
   },
   "outputs": [],
   "source": [
    "fi_merged2.to_csv(\"/DAS_Storage1/aschoi/data/Drug_Repositioning/5_new_drug/new_predict/indep_gene.tsv\", sep='\\t', index=False)"
   ]
  },
  {
   "cell_type": "code",
   "execution_count": null,
   "metadata": {
    "collapsed": true
   },
   "outputs": [],
   "source": [
    "##### drug의 target 정리"
   ]
  },
  {
   "cell_type": "code",
   "execution_count": 79,
   "metadata": {
    "collapsed": true
   },
   "outputs": [],
   "source": [
    "drug_target = pd.read_table(\"/home/share/aschoi/nas/users/asolchoi/data/Drug_Repositioning/5_new_drug/human2.txt\", header=None)\n",
    "target_sequence = pd.read_table(\"/home/share/aschoi/nas/users/asolchoi/data/Drug_Repositioning/5_new_drug/protein_seq.txt\")"
   ]
  },
  {
   "cell_type": "code",
   "execution_count": 80,
   "metadata": {
    "collapsed": false
   },
   "outputs": [
    {
     "name": "stdout",
     "output_type": "stream",
     "text": [
      "10764\n"
     ]
    },
    {
     "data": {
      "text/html": [
       "<div>\n",
       "<table border=\"1\" class=\"dataframe\">\n",
       "  <thead>\n",
       "    <tr style=\"text-align: right;\">\n",
       "      <th></th>\n",
       "      <th>DrugBank_ID</th>\n",
       "      <th>Target</th>\n",
       "    </tr>\n",
       "  </thead>\n",
       "  <tbody>\n",
       "    <tr>\n",
       "      <th>0</th>\n",
       "      <td>DB00114</td>\n",
       "      <td>P19113</td>\n",
       "    </tr>\n",
       "    <tr>\n",
       "      <th>1</th>\n",
       "      <td>DB00117</td>\n",
       "      <td>P19113</td>\n",
       "    </tr>\n",
       "  </tbody>\n",
       "</table>\n",
       "</div>"
      ],
      "text/plain": [
       "  DrugBank_ID  Target\n",
       "0     DB00114  P19113\n",
       "1     DB00117  P19113"
      ]
     },
     "execution_count": 80,
     "metadata": {},
     "output_type": "execute_result"
    }
   ],
   "source": [
    "drug_target = drug_target.rename(columns={0:'DrugBank_ID', 1:'Target'})\n",
    "print len(drug_target)\n",
    "drug_target.head(2)"
   ]
  },
  {
   "cell_type": "code",
   "execution_count": 81,
   "metadata": {
    "collapsed": false
   },
   "outputs": [
    {
     "name": "stdout",
     "output_type": "stream",
     "text": [
      "2290\n"
     ]
    },
    {
     "data": {
      "text/html": [
       "<div>\n",
       "<table border=\"1\" class=\"dataframe\">\n",
       "  <thead>\n",
       "    <tr style=\"text-align: right;\">\n",
       "      <th></th>\n",
       "      <th>Entry</th>\n",
       "      <th>Sequence</th>\n",
       "      <th>Length</th>\n",
       "    </tr>\n",
       "  </thead>\n",
       "  <tbody>\n",
       "    <tr>\n",
       "      <th>0</th>\n",
       "      <td>P19113</td>\n",
       "      <td>MMEPEEYRERGREMVDYICQYLSTVRERRVTPDVQPGYLRAQLPES...</td>\n",
       "      <td>662.0</td>\n",
       "    </tr>\n",
       "    <tr>\n",
       "      <th>1</th>\n",
       "      <td>Q9UI32</td>\n",
       "      <td>MRSMKALQKALSRAGSHCGRGGWGHPSRSPLLGGGVRHHLSEAAAQ...</td>\n",
       "      <td>602.0</td>\n",
       "    </tr>\n",
       "  </tbody>\n",
       "</table>\n",
       "</div>"
      ],
      "text/plain": [
       "    Entry                                           Sequence  Length\n",
       "0  P19113  MMEPEEYRERGREMVDYICQYLSTVRERRVTPDVQPGYLRAQLPES...   662.0\n",
       "1  Q9UI32  MRSMKALQKALSRAGSHCGRGGWGHPSRSPLLGGGVRHHLSEAAAQ...   602.0"
      ]
     },
     "execution_count": 81,
     "metadata": {},
     "output_type": "execute_result"
    }
   ],
   "source": [
    "print len(target_sequence)\n",
    "target_sequence.head(2)"
   ]
  },
  {
   "cell_type": "code",
   "execution_count": 121,
   "metadata": {
    "collapsed": false
   },
   "outputs": [
    {
     "name": "stdout",
     "output_type": "stream",
     "text": [
      "10577\n"
     ]
    },
    {
     "data": {
      "text/html": [
       "<div>\n",
       "<table border=\"1\" class=\"dataframe\">\n",
       "  <thead>\n",
       "    <tr style=\"text-align: right;\">\n",
       "      <th></th>\n",
       "      <th>DrugBank_ID</th>\n",
       "      <th>Target</th>\n",
       "      <th>Entry</th>\n",
       "      <th>Sequence</th>\n",
       "      <th>Length</th>\n",
       "    </tr>\n",
       "  </thead>\n",
       "  <tbody>\n",
       "    <tr>\n",
       "      <th>0</th>\n",
       "      <td>DB00114</td>\n",
       "      <td>P19113</td>\n",
       "      <td>P19113</td>\n",
       "      <td>MMEPEEYRERGREMVDYICQYLSTVRERRVTPDVQPGYLRAQLPES...</td>\n",
       "      <td>662.0</td>\n",
       "    </tr>\n",
       "    <tr>\n",
       "      <th>1</th>\n",
       "      <td>DB00117</td>\n",
       "      <td>P19113</td>\n",
       "      <td>P19113</td>\n",
       "      <td>MMEPEEYRERGREMVDYICQYLSTVRERRVTPDVQPGYLRAQLPES...</td>\n",
       "      <td>662.0</td>\n",
       "    </tr>\n",
       "  </tbody>\n",
       "</table>\n",
       "</div>"
      ],
      "text/plain": [
       "  DrugBank_ID  Target   Entry  \\\n",
       "0     DB00114  P19113  P19113   \n",
       "1     DB00117  P19113  P19113   \n",
       "\n",
       "                                            Sequence  Length  \n",
       "0  MMEPEEYRERGREMVDYICQYLSTVRERRVTPDVQPGYLRAQLPES...   662.0  \n",
       "1  MMEPEEYRERGREMVDYICQYLSTVRERRVTPDVQPGYLRAQLPES...   662.0  "
      ]
     },
     "execution_count": 121,
     "metadata": {},
     "output_type": "execute_result"
    }
   ],
   "source": [
    "drug_seq = pd.merge(left=drug_target, right=target_sequence, left_on='Target', right_on='Entry').drop_duplicates()\n",
    "print len(drug_seq)\n",
    "drug_seq.head(2)"
   ]
  },
  {
   "cell_type": "code",
   "execution_count": 122,
   "metadata": {
    "collapsed": false
   },
   "outputs": [
    {
     "data": {
      "text/plain": [
       "434"
      ]
     },
     "execution_count": 122,
     "metadata": {},
     "output_type": "execute_result"
    }
   ],
   "source": [
    "len(gdr.DrugBank_ID)"
   ]
  },
  {
   "cell_type": "code",
   "execution_count": 123,
   "metadata": {
    "collapsed": false
   },
   "outputs": [
    {
     "name": "stdout",
     "output_type": "stream",
     "text": [
      "434\n",
      "2246\n"
     ]
    },
    {
     "data": {
      "text/html": [
       "<div>\n",
       "<table border=\"1\" class=\"dataframe\">\n",
       "  <thead>\n",
       "    <tr style=\"text-align: right;\">\n",
       "      <th></th>\n",
       "      <th>DrugBank_ID</th>\n",
       "      <th>Target</th>\n",
       "      <th>Entry</th>\n",
       "      <th>Sequence</th>\n",
       "      <th>Length</th>\n",
       "    </tr>\n",
       "  </thead>\n",
       "  <tbody>\n",
       "    <tr>\n",
       "      <th>0</th>\n",
       "      <td>DB00114</td>\n",
       "      <td>P19113</td>\n",
       "      <td>P19113</td>\n",
       "      <td>MMEPEEYRERGREMVDYICQYLSTVRERRVTPDVQPGYLRAQLPES...</td>\n",
       "      <td>662.0</td>\n",
       "    </tr>\n",
       "  </tbody>\n",
       "</table>\n",
       "</div>"
      ],
      "text/plain": [
       "  DrugBank_ID  Target   Entry  \\\n",
       "0     DB00114  P19113  P19113   \n",
       "\n",
       "                                            Sequence  Length  \n",
       "0  MMEPEEYRERGREMVDYICQYLSTVRERRVTPDVQPGYLRAQLPES...   662.0  "
      ]
     },
     "execution_count": 123,
     "metadata": {},
     "output_type": "execute_result"
    }
   ],
   "source": [
    "# gold drug의 target들\n",
    "gold_target = drug_seq[drug_seq.DrugBank_ID.isin(gdr.DrugBank_ID)]\n",
    "print len(gold_target.DrugBank_ID.drop_duplicates())\n",
    "print len(gold_target)\n",
    "gold_target.head(1)"
   ]
  },
  {
   "cell_type": "code",
   "execution_count": 124,
   "metadata": {
    "collapsed": false
   },
   "outputs": [
    {
     "name": "stdout",
     "output_type": "stream",
     "text": [
      "71\n",
      "317\n"
     ]
    },
    {
     "data": {
      "text/html": [
       "<div>\n",
       "<table border=\"1\" class=\"dataframe\">\n",
       "  <thead>\n",
       "    <tr style=\"text-align: right;\">\n",
       "      <th></th>\n",
       "      <th>DrugBank_ID</th>\n",
       "      <th>Target</th>\n",
       "      <th>Entry</th>\n",
       "      <th>Sequence</th>\n",
       "      <th>Length</th>\n",
       "    </tr>\n",
       "  </thead>\n",
       "  <tbody>\n",
       "    <tr>\n",
       "      <th>5</th>\n",
       "      <td>DB00125</td>\n",
       "      <td>P35228</td>\n",
       "      <td>P35228</td>\n",
       "      <td>MACPWKFLFKTKFHQYAMNGEKDINNNVEKAPCATSSPVTQDDLQY...</td>\n",
       "      <td>1153.0</td>\n",
       "    </tr>\n",
       "  </tbody>\n",
       "</table>\n",
       "</div>"
      ],
      "text/plain": [
       "  DrugBank_ID  Target   Entry  \\\n",
       "5     DB00125  P35228  P35228   \n",
       "\n",
       "                                            Sequence  Length  \n",
       "5  MACPWKFLFKTKFHQYAMNGEKDINNNVEKAPCATSSPVTQDDLQY...  1153.0  "
      ]
     },
     "execution_count": 124,
     "metadata": {},
     "output_type": "execute_result"
    }
   ],
   "source": [
    "# indep drug의 target들\n",
    "indep_target = drug_seq[drug_seq.DrugBank_ID.isin(indep.drug_id)]\n",
    "print len(indep_target.DrugBank_ID.drop_duplicates())\n",
    "print len(indep_target)\n",
    "indep_target.head(1)"
   ]
  },
  {
   "cell_type": "code",
   "execution_count": 125,
   "metadata": {
    "collapsed": false
   },
   "outputs": [
    {
     "name": "stdout",
     "output_type": "stream",
     "text": [
      "2309\n"
     ]
    }
   ],
   "source": [
    "gold_indep_target = pd.concat([indep_target, gold_target], axis=0).drop_duplicates()\n",
    "print len(gold_indep_target)"
   ]
  },
  {
   "cell_type": "code",
   "execution_count": 127,
   "metadata": {
    "collapsed": false
   },
   "outputs": [
    {
     "ename": "SyntaxError",
     "evalue": "invalid syntax (<ipython-input-127-8e4d1964fe9a>, line 1)",
     "output_type": "error",
     "traceback": [
      "\u001b[1;36m  File \u001b[1;32m\"<ipython-input-127-8e4d1964fe9a>\"\u001b[1;36m, line \u001b[1;32m1\u001b[0m\n\u001b[1;33m    print len(gold_target), print len(indep_target), print len(gold_indep_target)\u001b[0m\n\u001b[1;37m                                ^\u001b[0m\n\u001b[1;31mSyntaxError\u001b[0m\u001b[1;31m:\u001b[0m invalid syntax\n"
     ]
    }
   ],
   "source": [
    "print len(gold_target), print len(indep_target), print len(gold_indep_target)"
   ]
  },
  {
   "cell_type": "code",
   "execution_count": 128,
   "metadata": {
    "collapsed": false
   },
   "outputs": [
    {
     "data": {
      "text/plain": [
       "63"
      ]
     },
     "execution_count": 128,
     "metadata": {},
     "output_type": "execute_result"
    }
   ],
   "source": [
    "len(gold_indep_target[~gold_indep_target.DrugBank_ID.isin(gold_target.DrugBank_ID)].drop_duplicates())"
   ]
  },
  {
   "cell_type": "code",
   "execution_count": 129,
   "metadata": {
    "collapsed": true
   },
   "outputs": [],
   "source": [
    "gold_indep_target.to_csv(\"/DAS_Storage1/aschoi/data/Drug_Repositioning/5_new_drug/new_predict/drug_target_seq.tsv\", sep='\\t', index=False)"
   ]
  },
  {
   "cell_type": "code",
   "execution_count": 130,
   "metadata": {
    "collapsed": true
   },
   "outputs": [],
   "source": [
    "import scipy.io as sio"
   ]
  },
  {
   "cell_type": "code",
   "execution_count": 133,
   "metadata": {
    "collapsed": false
   },
   "outputs": [],
   "source": [
    "data = {\n",
    "    'gold_indep_target_seq' : {\n",
    "    'DrugBank_ID' : gold_indep_target['DrugBank_ID'].values,\n",
    "    'Target': gold_indep_target['Target'].values,\n",
    "    'Entry' : gold_indep_target['Entry'].values,\n",
    "    'Sequence' : gold_indep_target['Sequence'].values,\n",
    "    'Length' : gold_indep_target['Length'].values\n",
    "        }\n",
    "}"
   ]
  },
  {
   "cell_type": "code",
   "execution_count": 136,
   "metadata": {
    "collapsed": true
   },
   "outputs": [],
   "source": [
    "data = {\n",
    "    'DrugBank_ID' : gold_indep_target['DrugBank_ID'].values,\n",
    "    'Target': gold_indep_target['Target'].values,\n",
    "    'Entry' : gold_indep_target['Entry'].values,\n",
    "    'Sequence' : gold_indep_target['Sequence'].values,\n",
    "    'Length' : gold_indep_target['Length'].values\n",
    "}"
   ]
  },
  {
   "cell_type": "code",
   "execution_count": 137,
   "metadata": {
    "collapsed": true
   },
   "outputs": [],
   "source": [
    "sio.savemat(\"/home/share/aschoi/nas/users/asolchoi/data/Drug_Repositioning/5_new_drug/new_predict/drug_target_seq_mat2.mat\", data)"
   ]
  },
  {
   "cell_type": "code",
   "execution_count": null,
   "metadata": {
    "collapsed": true
   },
   "outputs": [],
   "source": []
  }
 ],
 "metadata": {
  "kernelspec": {
   "display_name": "Python 2",
   "language": "python",
   "name": "python2"
  },
  "language_info": {
   "codemirror_mode": {
    "name": "ipython",
    "version": 2
   },
   "file_extension": ".py",
   "mimetype": "text/x-python",
   "name": "python",
   "nbconvert_exporter": "python",
   "pygments_lexer": "ipython2",
   "version": "2.7.6"
  }
 },
 "nbformat": 4,
 "nbformat_minor": 0
}
