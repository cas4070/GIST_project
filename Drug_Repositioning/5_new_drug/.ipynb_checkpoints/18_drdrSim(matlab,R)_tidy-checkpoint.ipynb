{
 "cells": [
  {
   "cell_type": "code",
   "execution_count": 1,
   "metadata": {
    "collapsed": true
   },
   "outputs": [],
   "source": [
    "# R에서 작업한 drdrGo, matlab에서 작업한 drdrtargetSim을 정리하는 작업.\n",
    "# 1. header의 순서를 다른 drdr sim mat의 순서와 동일하게 한다.\n",
    "# 2. gold와 indep 버전을 만든다."
   ]
  },
  {
   "cell_type": "code",
   "execution_count": 2,
   "metadata": {
    "collapsed": true
   },
   "outputs": [],
   "source": [
    "import pandas as pd\n",
    "import numpy as np"
   ]
  },
  {
   "cell_type": "code",
   "execution_count": 3,
   "metadata": {
    "collapsed": false
   },
   "outputs": [],
   "source": [
    "targetSim = pd.read_table(\"/DAS_Storage1/aschoi/data/Drug_Repositioning/5_new_drug/new_predict/1_drug_drug_target_sim_mat.tsv\", index_col=0)\n",
    "strSim = pd.read_table(\"/DAS_Storage1/aschoi/data/Drug_Repositioning/5_new_drug/new_predict/1_drug_drug_str_sim_mat.tsv\", index_col=0)\n",
    "goSim_max = pd.read_table(\"/home/share/aschoi/nas/users/asolchoi/data/Drug_Repositioning/5_new_drug/new_predict/drug_gosemsim_resnik_max.txt\", index_col=0)\n",
    "goSim_bma = pd.read_table(\"/home/share/aschoi/nas/users/asolchoi/data/Drug_Repositioning/5_new_drug/new_predict/drug_gosemsim_resnik_BMA.txt\", index_col=0)"
   ]
  },
  {
   "cell_type": "code",
   "execution_count": 11,
   "metadata": {
    "collapsed": false
   },
   "outputs": [
    {
     "name": "stdout",
     "output_type": "stream",
     "text": [
      "False True True\n",
      "False False False\n"
     ]
    }
   ],
   "source": [
    "print targetSim.isnull().any().any(), goSim_max.isnull().any().any(), goSim_bma.isnull().any().any()\n",
    "targetSim.fillna(0.0, inplace=True)\n",
    "goSim_max.fillna(0.0, inplace=True)\n",
    "goSim_bma.fillna(0.0, inplace=True)\n",
    "print targetSim.isnull().any().any(), goSim_max.isnull().any().any(), goSim_bma.isnull().any().any()"
   ]
  },
  {
   "cell_type": "code",
   "execution_count": 12,
   "metadata": {
    "collapsed": true
   },
   "outputs": [],
   "source": [
    "# column순서를 기존의 drdr sim mat순서와 맞춘다.\n",
    "order = strSim.columns.values\n",
    "targetSim = targetSim[order.tolist()]\n",
    "goSim_max = goSim_max[order.tolist()]\n",
    "goSim_bma = goSim_bma[order.tolist()]"
   ]
  },
  {
   "cell_type": "code",
   "execution_count": 13,
   "metadata": {
    "collapsed": false
   },
   "outputs": [
    {
     "name": "stdout",
     "output_type": "stream",
     "text": [
      "True True True\n"
     ]
    }
   ],
   "source": [
    "print order.tolist() == targetSim.columns.tolist(),order.tolist() == goSim_max.columns.tolist(),order.tolist() == goSim_bma.columns.tolist()"
   ]
  },
  {
   "cell_type": "code",
   "execution_count": 14,
   "metadata": {
    "collapsed": true
   },
   "outputs": [],
   "source": [
    "# index 순서를 기존의 drdr sim mat순서와 맞춘다.\n",
    "targetSim = targetSim.reindex(index = strSim.index)\n",
    "goSim_max = goSim_max.reindex(index = strSim.index)\n",
    "goSim_bma = goSim_bma.reindex(index = strSim.index)"
   ]
  },
  {
   "cell_type": "code",
   "execution_count": 15,
   "metadata": {
    "collapsed": false
   },
   "outputs": [
    {
     "name": "stdout",
     "output_type": "stream",
     "text": [
      "True True True\n"
     ]
    }
   ],
   "source": [
    "idx=strSim.index.tolist()\n",
    "print idx == targetSim.columns.tolist(),idx == goSim_max.columns.tolist(),idx == goSim_bma.columns.tolist()"
   ]
  },
  {
   "cell_type": "code",
   "execution_count": 19,
   "metadata": {
    "collapsed": true
   },
   "outputs": [],
   "source": [
    "targetSim.to_csv(\"/DAS_Storage1/aschoi/data/Drug_Repositioning/5_new_drug/new_predict/1_drug_drug_targetSim_mat.tsv\", sep='\\t')\n",
    "goSim_max.to_csv(\"/DAS_Storage1/aschoi/data/Drug_Repositioning/5_new_drug/new_predict/1_drug_drug_GoSim_max_mat.tsv\", sep='\\t')\n",
    "goSim_bma.to_csv(\"/DAS_Storage1/aschoi/data/Drug_Repositioning/5_new_drug/new_predict/1_drug_drug_GoSim_bma_mat.tsv\", sep='\\t')"
   ]
  },
  {
   "cell_type": "code",
   "execution_count": 17,
   "metadata": {
    "collapsed": true
   },
   "outputs": [],
   "source": [
    "# 2.indep 버전을 만든다. (target은 이미 있으므로 drGo bma만. target의 순서가 같은지는 모르겠음. but 사실 순서는 큰 상관이 없음.)"
   ]
  },
  {
   "cell_type": "code",
   "execution_count": 4,
   "metadata": {
    "collapsed": true
   },
   "outputs": [],
   "source": [
    "indep_strSim = pd.read_table(\"/DAS_Storage1/aschoi/data/Drug_Repositioning/5_new_drug/new_predict/2_2_2_indep_drug_gold_drug_str_sim_mat.tsv\", index_col = 0)"
   ]
  },
  {
   "cell_type": "code",
   "execution_count": 11,
   "metadata": {
    "collapsed": false
   },
   "outputs": [],
   "source": [
    "indep_drGo_bma = pd.read_table(\"/home/share/aschoi/nas/users/asolchoi/data/Drug_Repositioning/5_new_drug/new_predict/indep_dr_gosemsim_resnik_BMA.txt\", index_col=0)"
   ]
  },
  {
   "cell_type": "code",
   "execution_count": 13,
   "metadata": {
    "collapsed": false
   },
   "outputs": [
    {
     "name": "stdout",
     "output_type": "stream",
     "text": [
      "(71, 434)\n",
      "(71, 434)\n"
     ]
    }
   ],
   "source": [
    "print indep_strSim.shape\n",
    "print indep_drGo_bma.shape\n",
    "indep_order = indep_strSim.columns.values"
   ]
  },
  {
   "cell_type": "code",
   "execution_count": 14,
   "metadata": {
    "collapsed": false
   },
   "outputs": [
    {
     "name": "stdout",
     "output_type": "stream",
     "text": [
      "True\n",
      "True\n"
     ]
    }
   ],
   "source": [
    "indep_goSim = indep_drGo_bma.filter(items = indep_strSim.index, axis=0)\n",
    "indep_goSim = indep_goSim[indep_strSim.columns.tolist()]\n",
    "indep_goSim = indep_goSim.reindex(index = indep_strSim.index)\n",
    "print indep_strSim.columns.tolist() == indep_goSim.columns.tolist()\n",
    "print indep_strSim.index.tolist() == indep_goSim.index.tolist()"
   ]
  },
  {
   "cell_type": "code",
   "execution_count": 18,
   "metadata": {
    "collapsed": false
   },
   "outputs": [
    {
     "data": {
      "text/plain": [
       "False"
      ]
     },
     "execution_count": 18,
     "metadata": {},
     "output_type": "execute_result"
    }
   ],
   "source": [
    "indep_goSim.fillna(0.0, inplace=True)\n",
    "indep_goSim.isnull().any().any()"
   ]
  },
  {
   "cell_type": "code",
   "execution_count": 19,
   "metadata": {
    "collapsed": true
   },
   "outputs": [],
   "source": [
    "indep_goSim.to_csv(\"/DAS_Storage1/aschoi/data/Drug_Repositioning/5_new_drug/new_predict/2_2_2_indep_drug_gold_drug_GoSim_bma_mat.tsv\", sep='\\t')"
   ]
  },
  {
   "cell_type": "code",
   "execution_count": null,
   "metadata": {
    "collapsed": true
   },
   "outputs": [],
   "source": []
  }
 ],
 "metadata": {
  "kernelspec": {
   "display_name": "Python 2",
   "language": "python",
   "name": "python2"
  },
  "language_info": {
   "codemirror_mode": {
    "name": "ipython",
    "version": 2
   },
   "file_extension": ".py",
   "mimetype": "text/x-python",
   "name": "python",
   "nbconvert_exporter": "python",
   "pygments_lexer": "ipython2",
   "version": "2.7.6"
  }
 },
 "nbformat": 4,
 "nbformat_minor": 2
}
