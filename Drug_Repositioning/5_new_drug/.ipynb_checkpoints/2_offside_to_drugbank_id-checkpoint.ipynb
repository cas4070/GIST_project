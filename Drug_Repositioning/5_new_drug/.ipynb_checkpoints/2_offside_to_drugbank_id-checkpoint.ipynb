{
 "cells": [
  {
   "cell_type": "code",
   "execution_count": 1,
   "metadata": {
    "collapsed": true
   },
   "outputs": [],
   "source": [
    "import csv\n",
    "import numpy as np\n",
    "import pandas as pd\n",
    "import time\n",
    "from urllib2 import urlopen # python2\n",
    "import urllib2"
   ]
  },
  {
   "cell_type": "code",
   "execution_count": 2,
   "metadata": {
    "collapsed": true
   },
   "outputs": [],
   "source": [
    "raw_offisde = pd.read_table(\"/home/share/aschoi/data/Drug_Repositioning/5_new_drug/3003377s-offsides.tsv\")\n",
    "stitch_cid = pd.read_table(\"/home/share/aschoi/data/COCONUT_Herbal/7_Ezyme_tool/STITCH_CID.tsv\")"
   ]
  },
  {
   "cell_type": "code",
   "execution_count": 3,
   "metadata": {
    "collapsed": false
   },
   "outputs": [
    {
     "name": "stdout",
     "output_type": "stream",
     "text": [
      "438801\n"
     ]
    },
    {
     "data": {
      "text/html": [
       "<div>\n",
       "<table border=\"1\" class=\"dataframe\">\n",
       "  <thead>\n",
       "    <tr style=\"text-align: right;\">\n",
       "      <th></th>\n",
       "      <th>stitch_id</th>\n",
       "      <th>drug</th>\n",
       "      <th>umls_id</th>\n",
       "      <th>event</th>\n",
       "      <th>rr</th>\n",
       "      <th>log2rr</th>\n",
       "      <th>t_statistic</th>\n",
       "      <th>pvalue</th>\n",
       "      <th>observed</th>\n",
       "      <th>expected</th>\n",
       "      <th>bg_correction</th>\n",
       "      <th>sider</th>\n",
       "      <th>future_aers</th>\n",
       "      <th>medeffect</th>\n",
       "    </tr>\n",
       "  </thead>\n",
       "  <tbody>\n",
       "    <tr>\n",
       "      <th>0</th>\n",
       "      <td>CID000000076</td>\n",
       "      <td>dehydroepiandrosterone</td>\n",
       "      <td>C0000737</td>\n",
       "      <td>abdominal pain</td>\n",
       "      <td>2.250000</td>\n",
       "      <td>1.169925</td>\n",
       "      <td>6.537095</td>\n",
       "      <td>6.156712e-07</td>\n",
       "      <td>9</td>\n",
       "      <td>4.000000</td>\n",
       "      <td>0.002849</td>\n",
       "      <td>0</td>\n",
       "      <td>0</td>\n",
       "      <td>0</td>\n",
       "    </tr>\n",
       "    <tr>\n",
       "      <th>1</th>\n",
       "      <td>CID000000076</td>\n",
       "      <td>dehydroepiandrosterone</td>\n",
       "      <td>C0001622</td>\n",
       "      <td>hyperadrenalism</td>\n",
       "      <td>11.000000</td>\n",
       "      <td>3.459432</td>\n",
       "      <td>4.782699</td>\n",
       "      <td>1.644408e-03</td>\n",
       "      <td>2</td>\n",
       "      <td>0.181818</td>\n",
       "      <td>0.000041</td>\n",
       "      <td>0</td>\n",
       "      <td>0</td>\n",
       "      <td>0</td>\n",
       "    </tr>\n",
       "    <tr>\n",
       "      <th>2</th>\n",
       "      <td>CID000000076</td>\n",
       "      <td>dehydroepiandrosterone</td>\n",
       "      <td>C0001623</td>\n",
       "      <td>adrenal insufficiency</td>\n",
       "      <td>2.200000</td>\n",
       "      <td>1.137504</td>\n",
       "      <td>4.315199</td>\n",
       "      <td>9.884952e-03</td>\n",
       "      <td>2</td>\n",
       "      <td>0.909091</td>\n",
       "      <td>0.002491</td>\n",
       "      <td>0</td>\n",
       "      <td>0</td>\n",
       "      <td>0</td>\n",
       "    </tr>\n",
       "    <tr>\n",
       "      <th>3</th>\n",
       "      <td>CID000000076</td>\n",
       "      <td>dehydroepiandrosterone</td>\n",
       "      <td>C0002792</td>\n",
       "      <td>anaphylactic reaction</td>\n",
       "      <td>2.588235</td>\n",
       "      <td>1.371969</td>\n",
       "      <td>4.590918</td>\n",
       "      <td>3.355380e-03</td>\n",
       "      <td>4</td>\n",
       "      <td>1.545455</td>\n",
       "      <td>0.000503</td>\n",
       "      <td>0</td>\n",
       "      <td>0</td>\n",
       "      <td>0</td>\n",
       "    </tr>\n",
       "    <tr>\n",
       "      <th>4</th>\n",
       "      <td>CID000000076</td>\n",
       "      <td>dehydroepiandrosterone</td>\n",
       "      <td>C0002940</td>\n",
       "      <td>aneurysm</td>\n",
       "      <td>7.333333</td>\n",
       "      <td>2.874469</td>\n",
       "      <td>4.598374</td>\n",
       "      <td>3.399457e-03</td>\n",
       "      <td>2</td>\n",
       "      <td>0.272727</td>\n",
       "      <td>0.000135</td>\n",
       "      <td>0</td>\n",
       "      <td>0</td>\n",
       "      <td>0</td>\n",
       "    </tr>\n",
       "  </tbody>\n",
       "</table>\n",
       "</div>"
      ],
      "text/plain": [
       "      stitch_id                    drug   umls_id                  event  \\\n",
       "0  CID000000076  dehydroepiandrosterone  C0000737         abdominal pain   \n",
       "1  CID000000076  dehydroepiandrosterone  C0001622        hyperadrenalism   \n",
       "2  CID000000076  dehydroepiandrosterone  C0001623  adrenal insufficiency   \n",
       "3  CID000000076  dehydroepiandrosterone  C0002792  anaphylactic reaction   \n",
       "4  CID000000076  dehydroepiandrosterone  C0002940               aneurysm   \n",
       "\n",
       "          rr    log2rr  t_statistic        pvalue  observed  expected  \\\n",
       "0   2.250000  1.169925     6.537095  6.156712e-07         9  4.000000   \n",
       "1  11.000000  3.459432     4.782699  1.644408e-03         2  0.181818   \n",
       "2   2.200000  1.137504     4.315199  9.884952e-03         2  0.909091   \n",
       "3   2.588235  1.371969     4.590918  3.355380e-03         4  1.545455   \n",
       "4   7.333333  2.874469     4.598374  3.399457e-03         2  0.272727   \n",
       "\n",
       "   bg_correction  sider  future_aers  medeffect  \n",
       "0       0.002849      0            0          0  \n",
       "1       0.000041      0            0          0  \n",
       "2       0.002491      0            0          0  \n",
       "3       0.000503      0            0          0  \n",
       "4       0.000135      0            0          0  "
      ]
     },
     "execution_count": 3,
     "metadata": {},
     "output_type": "execute_result"
    }
   ],
   "source": [
    "print len(raw_offisde)\n",
    "raw_offisde.head()"
   ]
  },
  {
   "cell_type": "code",
   "execution_count": 4,
   "metadata": {
    "collapsed": false
   },
   "outputs": [
    {
     "name": "stdout",
     "output_type": "stream",
     "text": [
      "438801\n"
     ]
    },
    {
     "data": {
      "text/html": [
       "<div>\n",
       "<table border=\"1\" class=\"dataframe\">\n",
       "  <thead>\n",
       "    <tr style=\"text-align: right;\">\n",
       "      <th></th>\n",
       "      <th>stitch_id</th>\n",
       "      <th>drug</th>\n",
       "      <th>umls_id</th>\n",
       "      <th>event</th>\n",
       "    </tr>\n",
       "  </thead>\n",
       "  <tbody>\n",
       "    <tr>\n",
       "      <th>0</th>\n",
       "      <td>CID000000076</td>\n",
       "      <td>dehydroepiandrosterone</td>\n",
       "      <td>C0000737</td>\n",
       "      <td>abdominal pain</td>\n",
       "    </tr>\n",
       "    <tr>\n",
       "      <th>1</th>\n",
       "      <td>CID000000076</td>\n",
       "      <td>dehydroepiandrosterone</td>\n",
       "      <td>C0001622</td>\n",
       "      <td>hyperadrenalism</td>\n",
       "    </tr>\n",
       "    <tr>\n",
       "      <th>2</th>\n",
       "      <td>CID000000076</td>\n",
       "      <td>dehydroepiandrosterone</td>\n",
       "      <td>C0001623</td>\n",
       "      <td>adrenal insufficiency</td>\n",
       "    </tr>\n",
       "    <tr>\n",
       "      <th>3</th>\n",
       "      <td>CID000000076</td>\n",
       "      <td>dehydroepiandrosterone</td>\n",
       "      <td>C0002792</td>\n",
       "      <td>anaphylactic reaction</td>\n",
       "    </tr>\n",
       "    <tr>\n",
       "      <th>4</th>\n",
       "      <td>CID000000076</td>\n",
       "      <td>dehydroepiandrosterone</td>\n",
       "      <td>C0002940</td>\n",
       "      <td>aneurysm</td>\n",
       "    </tr>\n",
       "  </tbody>\n",
       "</table>\n",
       "</div>"
      ],
      "text/plain": [
       "      stitch_id                    drug   umls_id                  event\n",
       "0  CID000000076  dehydroepiandrosterone  C0000737         abdominal pain\n",
       "1  CID000000076  dehydroepiandrosterone  C0001622        hyperadrenalism\n",
       "2  CID000000076  dehydroepiandrosterone  C0001623  adrenal insufficiency\n",
       "3  CID000000076  dehydroepiandrosterone  C0002792  anaphylactic reaction\n",
       "4  CID000000076  dehydroepiandrosterone  C0002940               aneurysm"
      ]
     },
     "execution_count": 4,
     "metadata": {},
     "output_type": "execute_result"
    }
   ],
   "source": [
    "print(len(raw_offisde))\n",
    "offside = raw_offisde[['stitch_id','drug', 'umls_id', 'event']]\n",
    "offside.head()"
   ]
  },
  {
   "cell_type": "code",
   "execution_count": 5,
   "metadata": {
    "collapsed": false
   },
   "outputs": [
    {
     "name": "stdout",
     "output_type": "stream",
     "text": [
      "1332\n"
     ]
    },
    {
     "data": {
      "text/html": [
       "<div>\n",
       "<table border=\"1\" class=\"dataframe\">\n",
       "  <thead>\n",
       "    <tr style=\"text-align: right;\">\n",
       "      <th></th>\n",
       "      <th>stitch_id</th>\n",
       "      <th>drug</th>\n",
       "      <th>umls_id</th>\n",
       "      <th>event</th>\n",
       "    </tr>\n",
       "  </thead>\n",
       "  <tbody>\n",
       "    <tr>\n",
       "      <th>0</th>\n",
       "      <td>CID000000076</td>\n",
       "      <td>dehydroepiandrosterone</td>\n",
       "      <td>C0000737</td>\n",
       "      <td>abdominal pain</td>\n",
       "    </tr>\n",
       "    <tr>\n",
       "      <th>179</th>\n",
       "      <td>CID000000085</td>\n",
       "      <td>carnitine</td>\n",
       "      <td>C0002871</td>\n",
       "      <td>anaemia</td>\n",
       "    </tr>\n",
       "    <tr>\n",
       "      <th>452</th>\n",
       "      <td>CID000000119</td>\n",
       "      <td>GABA</td>\n",
       "      <td>C0000833</td>\n",
       "      <td>abscess</td>\n",
       "    </tr>\n",
       "    <tr>\n",
       "      <th>940</th>\n",
       "      <td>CID000000143</td>\n",
       "      <td>leucovorin</td>\n",
       "      <td>C0000737</td>\n",
       "      <td>abdominal pain</td>\n",
       "    </tr>\n",
       "    <tr>\n",
       "      <th>1591</th>\n",
       "      <td>CID000000158</td>\n",
       "      <td>PGE2</td>\n",
       "      <td>C0000832</td>\n",
       "      <td>premature separation of placenta</td>\n",
       "    </tr>\n",
       "  </tbody>\n",
       "</table>\n",
       "</div>"
      ],
      "text/plain": [
       "         stitch_id                    drug   umls_id  \\\n",
       "0     CID000000076  dehydroepiandrosterone  C0000737   \n",
       "179   CID000000085               carnitine  C0002871   \n",
       "452   CID000000119                    GABA  C0000833   \n",
       "940   CID000000143              leucovorin  C0000737   \n",
       "1591  CID000000158                    PGE2  C0000832   \n",
       "\n",
       "                                 event  \n",
       "0                       abdominal pain  \n",
       "179                            anaemia  \n",
       "452                            abscess  \n",
       "940                     abdominal pain  \n",
       "1591  premature separation of placenta  "
      ]
     },
     "execution_count": 5,
     "metadata": {},
     "output_type": "execute_result"
    }
   ],
   "source": [
    "offside_wo_dup = offside.drop_duplicates(subset=['stitch_id', 'drug'])\n",
    "print(len(offside_wo_dup))\n",
    "offside_wo_dup.head()"
   ]
  },
  {
   "cell_type": "code",
   "execution_count": 6,
   "metadata": {
    "collapsed": false
   },
   "outputs": [
    {
     "data": {
      "text/html": [
       "<div>\n",
       "<table border=\"1\" class=\"dataframe\">\n",
       "  <thead>\n",
       "    <tr style=\"text-align: right;\">\n",
       "      <th></th>\n",
       "      <th>flat_chemical</th>\n",
       "      <th>stereo_chemical</th>\n",
       "      <th>source_name</th>\n",
       "      <th>source_id</th>\n",
       "    </tr>\n",
       "  </thead>\n",
       "  <tbody>\n",
       "    <tr>\n",
       "      <th>0</th>\n",
       "      <td>CID100000001</td>\n",
       "      <td>CID000000001</td>\n",
       "      <td>PC</td>\n",
       "      <td>1</td>\n",
       "    </tr>\n",
       "  </tbody>\n",
       "</table>\n",
       "</div>"
      ],
      "text/plain": [
       "  flat_chemical stereo_chemical source_name  source_id\n",
       "0  CID100000001    CID000000001          PC          1"
      ]
     },
     "execution_count": 6,
     "metadata": {},
     "output_type": "execute_result"
    }
   ],
   "source": [
    "stitch_cid.head(1)"
   ]
  },
  {
   "cell_type": "code",
   "execution_count": null,
   "metadata": {
    "collapsed": false
   },
   "outputs": [
    {
     "name": "stdout",
     "output_type": "stream",
     "text": [
      "0 : Fri 02:21:18\n"
     ]
    }
   ],
   "source": [
    "# using UniChem REST API, convert pubchemID to DrugBank ID\n",
    "with open(\"/home/share/aschoi/data/Drug_Repositioning/5_new_drug/4_OFFSIDE_DrugBank_id.tsv\", \"w\") as resultFile:\n",
    "    features = ['STITCH_compound_id_stereo', 'PubChem_ID', 'DrugBank_ID']\n",
    "    resultTsv = csv.DictWriter(resultFile, features, dialect=csv.excel_tab)\n",
    "    resultTsv.writeheader()\n",
    "    \n",
    "    cnt = 0\n",
    "    result = list()\n",
    "    url_base = 'https://www.ebi.ac.uk/unichem/rest/src_compound_id/'\n",
    "    print '%d : '% cnt + time.strftime('%a %H:%M:%S')\n",
    "    for index, row in offside_wo_dup[cnt:].iterrows():\n",
    "        record = row.tolist()\n",
    "        found = stitch_cid[stitch_cid.stereo_chemical == record[0]]\n",
    "        pubchem_ids = found['source_id']\n",
    "        for j in pubchem_ids:\n",
    "            url = url_base + str(j) + '/22/2'\n",
    "            try:\n",
    "                f=urlopen(url)\n",
    "            except urllib2.HTTPError, e:\n",
    "                cnt = cnt +1\n",
    "\n",
    "                \n",
    "                \n",
    "        except urllib2.URLError, e:\n",
    "            cnt = cnt + 1\n",
    "        \n",
    "        else:\n",
    "            all_data = f.readlines()\n",
    "            db_id=all_data[0].decode(\"utf-8\").split(':')[1]\n",
    "            result.append([record[0], record[1], db_id])\n",
    "\n",
    "        if cnt % 1000 == 0:\n",
    "            print '%d : '% cnt + time.strftime('%a %H:%M:%S')\n",
    "        \n",
    "    "
   ]
  },
  {
   "cell_type": "code",
   "execution_count": null,
   "metadata": {
    "collapsed": true
   },
   "outputs": [],
   "source": []
  }
 ],
 "metadata": {
  "kernelspec": {
   "display_name": "Python 2",
   "language": "python",
   "name": "python2"
  },
  "language_info": {
   "codemirror_mode": {
    "name": "ipython",
    "version": 2
   },
   "file_extension": ".py",
   "mimetype": "text/x-python",
   "name": "python",
   "nbconvert_exporter": "python",
   "pygments_lexer": "ipython2",
   "version": "2.7.6"
  }
 },
 "nbformat": 4,
 "nbformat_minor": 0
}
