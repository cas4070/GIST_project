{
 "cells": [
  {
   "cell_type": "code",
   "execution_count": 1,
   "metadata": {
    "collapsed": false
   },
   "outputs": [],
   "source": [
    "import csv\n",
    "import numpy as np\n",
    "import os\n",
    "import pandas as pd\n",
    "import time"
   ]
  },
  {
   "cell_type": "code",
   "execution_count": 2,
   "metadata": {
    "collapsed": true
   },
   "outputs": [],
   "source": [
    "# SIDER랑 OFFSIDE에 등록된 compound의 DrugBank id 정보\n",
    "df_sider_id = pd.read_table(\"/home/share/aschoi/data/Drug_Repositioning/5_new_drug/3_3_SIDER_STITCHid_DrugBankid.tsv\")\n",
    "df_offside_id = pd.read_table(\"/home/share/aschoi/data/Drug_Repositioning/5_new_drug/4_3_OFFSIDE_STITCHid_DrugBankid.tsv\")\n",
    "# SIDER랑 OFFSIDE에 등록된 compound의 side effects 정보 (umls id로 표현되어 있음.)\n",
    "df_sider_umls = pd.read_table(\"/home/share/aschoi/data/Drug_Repositioning/5_new_drug/3_4_SIDER_db_side_effect.tsv\")\n",
    "df_offside_umls = pd.read_table(\"/home/share/aschoi/data/Drug_Repositioning/5_new_drug/4_4_OFFSIDE_db_side_effect.tsv\")"
   ]
  },
  {
   "cell_type": "code",
   "execution_count": 3,
   "metadata": {
    "collapsed": false,
    "scrolled": true
   },
   "outputs": [
    {
     "name": "stdout",
     "output_type": "stream",
     "text": [
      "801\n"
     ]
    },
    {
     "data": {
      "text/html": [
       "<div>\n",
       "<table border=\"1\" class=\"dataframe\">\n",
       "  <thead>\n",
       "    <tr style=\"text-align: right;\">\n",
       "      <th></th>\n",
       "      <th>STITCH_compound_id_flat</th>\n",
       "      <th>STITCH_compound_id_stereo</th>\n",
       "      <th>DrugBank_ID</th>\n",
       "    </tr>\n",
       "  </thead>\n",
       "  <tbody>\n",
       "    <tr>\n",
       "      <th>0</th>\n",
       "      <td>CID100002656</td>\n",
       "      <td>CID005479530</td>\n",
       "      <td>DB01212</td>\n",
       "    </tr>\n",
       "  </tbody>\n",
       "</table>\n",
       "</div>"
      ],
      "text/plain": [
       "  STITCH_compound_id_flat STITCH_compound_id_stereo DrugBank_ID\n",
       "0            CID100002656              CID005479530     DB01212"
      ]
     },
     "execution_count": 3,
     "metadata": {},
     "output_type": "execute_result"
    }
   ],
   "source": [
    "print len(df_sider_id)\n",
    "df_sider_id.head(1)"
   ]
  },
  {
   "cell_type": "code",
   "execution_count": 4,
   "metadata": {
    "collapsed": false,
    "scrolled": true
   },
   "outputs": [
    {
     "name": "stdout",
     "output_type": "stream",
     "text": [
      "72073\n"
     ]
    },
    {
     "data": {
      "text/html": [
       "<div>\n",
       "<table border=\"1\" class=\"dataframe\">\n",
       "  <thead>\n",
       "    <tr style=\"text-align: right;\">\n",
       "      <th></th>\n",
       "      <th>STITCH_compound_id_flat</th>\n",
       "      <th>STITCH_compound_id_stereo</th>\n",
       "      <th>UMLS_concept_id_for_MedDRA</th>\n",
       "      <th>side_effect_name</th>\n",
       "    </tr>\n",
       "  </thead>\n",
       "  <tbody>\n",
       "    <tr>\n",
       "      <th>0</th>\n",
       "      <td>CID100002656</td>\n",
       "      <td>CID005479530</td>\n",
       "      <td>C0000737</td>\n",
       "      <td>Abdominal pain</td>\n",
       "    </tr>\n",
       "  </tbody>\n",
       "</table>\n",
       "</div>"
      ],
      "text/plain": [
       "  STITCH_compound_id_flat STITCH_compound_id_stereo  \\\n",
       "0            CID100002656              CID005479530   \n",
       "\n",
       "  UMLS_concept_id_for_MedDRA side_effect_name  \n",
       "0                   C0000737   Abdominal pain  "
      ]
     },
     "execution_count": 4,
     "metadata": {},
     "output_type": "execute_result"
    }
   ],
   "source": [
    "print len(df_sider_umls)\n",
    "df_sider_umls.head(1)"
   ]
  },
  {
   "cell_type": "code",
   "execution_count": 5,
   "metadata": {
    "collapsed": true
   },
   "outputs": [],
   "source": [
    "inter = pd.merge(left = df_sider_id, right = df_sider_umls)"
   ]
  },
  {
   "cell_type": "code",
   "execution_count": 6,
   "metadata": {
    "collapsed": false
   },
   "outputs": [
    {
     "name": "stdout",
     "output_type": "stream",
     "text": [
      "73951\n",
      "801\n",
      "72073\n"
     ]
    },
    {
     "data": {
      "text/html": [
       "<div>\n",
       "<table border=\"1\" class=\"dataframe\">\n",
       "  <thead>\n",
       "    <tr style=\"text-align: right;\">\n",
       "      <th></th>\n",
       "      <th>STITCH_compound_id_flat</th>\n",
       "      <th>STITCH_compound_id_stereo</th>\n",
       "      <th>DrugBank_ID</th>\n",
       "      <th>UMLS_concept_id_for_MedDRA</th>\n",
       "      <th>side_effect_name</th>\n",
       "    </tr>\n",
       "  </thead>\n",
       "  <tbody>\n",
       "    <tr>\n",
       "      <th>0</th>\n",
       "      <td>CID100002656</td>\n",
       "      <td>CID005479530</td>\n",
       "      <td>DB01212</td>\n",
       "      <td>C0000737</td>\n",
       "      <td>Abdominal pain</td>\n",
       "    </tr>\n",
       "  </tbody>\n",
       "</table>\n",
       "</div>"
      ],
      "text/plain": [
       "  STITCH_compound_id_flat STITCH_compound_id_stereo DrugBank_ID  \\\n",
       "0            CID100002656              CID005479530     DB01212   \n",
       "\n",
       "  UMLS_concept_id_for_MedDRA side_effect_name  \n",
       "0                   C0000737   Abdominal pain  "
      ]
     },
     "execution_count": 6,
     "metadata": {},
     "output_type": "execute_result"
    }
   ],
   "source": [
    "print len(inter)\n",
    "print len(inter.drop_duplicates(subset = ['STITCH_compound_id_flat', 'STITCH_compound_id_stereo', 'DrugBank_ID']))\n",
    "print len(inter.drop_duplicates(subset = ['STITCH_compound_id_flat', 'STITCH_compound_id_stereo', 'UMLS_concept_id_for_MedDRA', 'side_effect_name']))\n",
    "inter.head(1)"
   ]
  },
  {
   "cell_type": "code",
   "execution_count": 7,
   "metadata": {
    "collapsed": false,
    "scrolled": false
   },
   "outputs": [
    {
     "name": "stdout",
     "output_type": "stream",
     "text": [
      "558\n",
      "558\n"
     ]
    },
    {
     "data": {
      "text/html": [
       "<div>\n",
       "<table border=\"1\" class=\"dataframe\">\n",
       "  <thead>\n",
       "    <tr style=\"text-align: right;\">\n",
       "      <th></th>\n",
       "      <th>STITCH_compound_id_stereo</th>\n",
       "      <th>DrugBank_ID</th>\n",
       "    </tr>\n",
       "  </thead>\n",
       "  <tbody>\n",
       "    <tr>\n",
       "      <th>0</th>\n",
       "      <td>CID000000119</td>\n",
       "      <td>DB02530</td>\n",
       "    </tr>\n",
       "  </tbody>\n",
       "</table>\n",
       "</div>"
      ],
      "text/plain": [
       "  STITCH_compound_id_stereo DrugBank_ID\n",
       "0              CID000000119     DB02530"
      ]
     },
     "execution_count": 7,
     "metadata": {},
     "output_type": "execute_result"
    }
   ],
   "source": [
    "print len(df_offside_id)\n",
    "print len(df_offside_id.drop_duplicates(subset = 'DrugBank_ID'))\n",
    "df_offside_id.head(1)"
   ]
  },
  {
   "cell_type": "code",
   "execution_count": 8,
   "metadata": {
    "collapsed": false,
    "scrolled": true
   },
   "outputs": [
    {
     "name": "stdout",
     "output_type": "stream",
     "text": [
      "193664\n"
     ]
    },
    {
     "data": {
      "text/html": [
       "<div>\n",
       "<table border=\"1\" class=\"dataframe\">\n",
       "  <thead>\n",
       "    <tr style=\"text-align: right;\">\n",
       "      <th></th>\n",
       "      <th>stitch_id</th>\n",
       "      <th>drug</th>\n",
       "      <th>umls_id</th>\n",
       "      <th>event</th>\n",
       "    </tr>\n",
       "  </thead>\n",
       "  <tbody>\n",
       "    <tr>\n",
       "      <th>0</th>\n",
       "      <td>CID000000119</td>\n",
       "      <td>GABA</td>\n",
       "      <td>C0000833</td>\n",
       "      <td>abscess</td>\n",
       "    </tr>\n",
       "  </tbody>\n",
       "</table>\n",
       "</div>"
      ],
      "text/plain": [
       "      stitch_id  drug   umls_id    event\n",
       "0  CID000000119  GABA  C0000833  abscess"
      ]
     },
     "execution_count": 8,
     "metadata": {},
     "output_type": "execute_result"
    }
   ],
   "source": [
    "print len(df_offside_umls)\n",
    "df_offside_umls.head(1)"
   ]
  },
  {
   "cell_type": "code",
   "execution_count": null,
   "metadata": {
    "collapsed": false
   },
   "outputs": [],
   "source": [
    "offside_inner = pd.merge(left = df_offside_id, right = df_offside_umls, left_on = 'STITCH_compound_id_stereo', right_on = 'stitch_id')"
   ]
  },
  {
   "cell_type": "code",
   "execution_count": null,
   "metadata": {
    "collapsed": false
   },
   "outputs": [],
   "source": [
    "print len(offside_inner)\n",
    "print len(offside_inner.drop_duplicates(subset = ['STITCH_compound_id_stereo', 'DrugBank_ID']))\n",
    "print len(offside_inner.drop_duplicates(subset = ['stitch_id', 'drug', 'umls_id', 'event']))"
   ]
  },
  {
   "cell_type": "code",
   "execution_count": null,
   "metadata": {
    "collapsed": false,
    "scrolled": true
   },
   "outputs": [],
   "source": [
    "offside_inner.head(1)"
   ]
  },
  {
   "cell_type": "code",
   "execution_count": null,
   "metadata": {
    "collapsed": false
   },
   "outputs": [],
   "source": [
    "a = pd.concat([df_sider_umls['UMLS_concept_id_for_MedDRA'], df_offside_umls['umls_id']])\n",
    "b = a.drop_duplicates()"
   ]
  },
  {
   "cell_type": "code",
   "execution_count": null,
   "metadata": {
    "collapsed": false
   },
   "outputs": [],
   "source": [
    "print len(df_sider_umls['UMLS_concept_id_for_MedDRA'].drop_duplicates())\n",
    "print len(df_offside_umls['umls_id'].drop_duplicates())\n",
    "print len(a)\n",
    "print len(b)"
   ]
  },
  {
   "cell_type": "code",
   "execution_count": null,
   "metadata": {
    "collapsed": false
   },
   "outputs": [],
   "source": [
    "umls_inter = pd.Series(list(set(df_sider_umls['UMLS_concept_id_for_MedDRA']).intersection(set(df_offside_umls['umls_id']))))\n",
    "len(umls_inter)"
   ]
  },
  {
   "cell_type": "code",
   "execution_count": null,
   "metadata": {
    "collapsed": false
   },
   "outputs": [],
   "source": [
    "dup_free_sider = sider_inner[sider_inner['UMLS_concept_id_for_MedDRA'].isin(umls_inter)].drop_duplicates(subset = 'DrugBank_ID')\n",
    "print len(dup_free_sider)\n",
    "sider_inner[sider_inner['UMLS_concept_id_for_MedDRA'].isin(umls_inter)].head(1)"
   ]
  },
  {
   "cell_type": "code",
   "execution_count": null,
   "metadata": {
    "collapsed": false
   },
   "outputs": [],
   "source": [
    "dup_free_off = offside_inner[offside_inner['umls_id'].isin(umls_inter)].drop_duplicates(subset = 'DrugBank_ID')\n",
    "print len(dup_free_off)\n",
    "offside_inner[offside_inner['umls_id'].isin(umls_inter)].head(1)"
   ]
  },
  {
   "cell_type": "code",
   "execution_count": null,
   "metadata": {
    "collapsed": true
   },
   "outputs": [],
   "source": [
    "befor_gold = pd.read_table(\"/home/share/aschoi/data/Drug_Repositioning/7_new_association/4_before_gold.tsv\", header=None)"
   ]
  },
  {
   "cell_type": "code",
   "execution_count": null,
   "metadata": {
    "collapsed": false
   },
   "outputs": [],
   "source": [
    "befor_gold=befor_gold.rename(columns = {0:'DrugBank_ID'})\n",
    "print len(befor_gold)"
   ]
  },
  {
   "cell_type": "code",
   "execution_count": null,
   "metadata": {
    "collapsed": false
   },
   "outputs": [],
   "source": [
    "print len(dup_free_sider[dup_free_sider['DrugBank_ID'].isin(befor_gold['DrugBank_ID'])])\n",
    "dup_free_sider[dup_free_sider['DrugBank_ID'].isin(befor_gold['DrugBank_ID'])].head(1)"
   ]
  },
  {
   "cell_type": "code",
   "execution_count": null,
   "metadata": {
    "collapsed": false
   },
   "outputs": [],
   "source": [
    "print len(dup_free_off[dup_free_off['DrugBank_ID'].isin(befor_gold['DrugBank_ID'])])\n",
    "dup_free_off[dup_free_off['DrugBank_ID'].isin(befor_gold['DrugBank_ID'])].head(1)"
   ]
  },
  {
   "cell_type": "code",
   "execution_count": null,
   "metadata": {
    "collapsed": true
   },
   "outputs": [],
   "source": [
    "si = dup_free_sider[dup_free_sider['DrugBank_ID'].isin(befor_gold['DrugBank_ID'])]['DrugBank_ID']"
   ]
  },
  {
   "cell_type": "code",
   "execution_count": null,
   "metadata": {
    "collapsed": false
   },
   "outputs": [],
   "source": [
    "off = dup_free_off[dup_free_off['DrugBank_ID'].isin(befor_gold['DrugBank_ID'])]['DrugBank_ID']"
   ]
  },
  {
   "cell_type": "code",
   "execution_count": null,
   "metadata": {
    "collapsed": false
   },
   "outputs": [],
   "source": [
    "len(pd.Series(list(set(si).intersection(set(off)))))"
   ]
  },
  {
   "cell_type": "code",
   "execution_count": null,
   "metadata": {
    "collapsed": true
   },
   "outputs": [],
   "source": []
  }
 ],
 "metadata": {
  "kernelspec": {
   "display_name": "Python 2",
   "language": "python",
   "name": "python2"
  },
  "language_info": {
   "codemirror_mode": {
    "name": "ipython",
    "version": 2
   },
   "file_extension": ".py",
   "mimetype": "text/x-python",
   "name": "python",
   "nbconvert_exporter": "python",
   "pygments_lexer": "ipython2",
   "version": "2.7.6"
  }
 },
 "nbformat": 4,
 "nbformat_minor": 0
}
