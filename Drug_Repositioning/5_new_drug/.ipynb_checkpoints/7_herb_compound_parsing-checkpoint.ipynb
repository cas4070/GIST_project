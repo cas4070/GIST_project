{
 "cells": [
  {
   "cell_type": "code",
   "execution_count": 52,
   "metadata": {
    "collapsed": true
   },
   "outputs": [],
   "source": [
    "import MySQLdb\n",
    "import time\n",
    "import pandas as pd\n",
    "import numpy as np\n",
    "import time"
   ]
  },
  {
   "cell_type": "code",
   "execution_count": 53,
   "metadata": {
    "collapsed": true
   },
   "outputs": [],
   "source": [
    "#접속하기\n",
    "db_handle = MySQLdb.connect('localhost', 'root','comsysbio', 'COCONUTv5')\n",
    "cur = db_handle.cursor(MySQLdb.cursors.DictCursor) # query를 통해 데이터를 얻을 때 python의 dict로 얻기 위한 방법\n",
    "cursor = db_handle.cursor()"
   ]
  },
  {
   "cell_type": "code",
   "execution_count": 6,
   "metadata": {
    "collapsed": true
   },
   "outputs": [],
   "source": [
    "compound = pd.read_table(\"/home/share/aschoi/nas/users/asolchoi/data/COCONUT_Herbal/6_Herb/COCONUT_herb_compound(remove duplicate)+ref2_exclude_KTKP_include(TCMID,TCM-ID,KAMPO).txt\")"
   ]
  },
  {
   "cell_type": "code",
   "execution_count": 16,
   "metadata": {
    "collapsed": false
   },
   "outputs": [
    {
     "name": "stdout",
     "output_type": "stream",
     "text": [
      "18198\n"
     ]
    },
    {
     "data": {
      "text/html": [
       "<div>\n",
       "<table border=\"1\" class=\"dataframe\">\n",
       "  <thead>\n",
       "    <tr style=\"text-align: right;\">\n",
       "      <th></th>\n",
       "      <th>compID</th>\n",
       "      <th>compName</th>\n",
       "      <th>smiles</th>\n",
       "      <th>InChI</th>\n",
       "      <th>compRef</th>\n",
       "      <th>herbID</th>\n",
       "      <th>name</th>\n",
       "      <th>herbRef</th>\n",
       "    </tr>\n",
       "  </thead>\n",
       "  <tbody>\n",
       "    <tr>\n",
       "      <th>0</th>\n",
       "      <td>39863</td>\n",
       "      <td>Azedarachin A</td>\n",
       "      <td>CCC(C)C(=O)OC1[C@@]2([C@@H]3C[C@H]([C@@]4([C@@...</td>\n",
       "      <td>InChI=1/C33H44O11/c1-7-15(2)27(39)43-28-29(4)1...</td>\n",
       "      <td>[ / TCM-ID[C6453]',  / TCM-ID[C6453]']</td>\n",
       "      <td>[1.0, 168.0]</td>\n",
       "      <td>['Melia azedarach', 'Melia azed-arach']</td>\n",
       "      <td>['TCMID[H484] / TCMID[H2264] / TCMID[H2364] / ...</td>\n",
       "    </tr>\n",
       "  </tbody>\n",
       "</table>\n",
       "</div>"
      ],
      "text/plain": [
       "  compID       compName                                             smiles  \\\n",
       "0  39863  Azedarachin A  CCC(C)C(=O)OC1[C@@]2([C@@H]3C[C@H]([C@@]4([C@@...   \n",
       "\n",
       "                                               InChI  \\\n",
       "0  InChI=1/C33H44O11/c1-7-15(2)27(39)43-28-29(4)1...   \n",
       "\n",
       "                                  compRef        herbID  \\\n",
       "0  [ / TCM-ID[C6453]',  / TCM-ID[C6453]']  [1.0, 168.0]   \n",
       "\n",
       "                                      name  \\\n",
       "0  ['Melia azedarach', 'Melia azed-arach']   \n",
       "\n",
       "                                             herbRef  \n",
       "0  ['TCMID[H484] / TCMID[H2264] / TCMID[H2364] / ...  "
      ]
     },
     "execution_count": 16,
     "metadata": {},
     "output_type": "execute_result"
    }
   ],
   "source": [
    "print len(compound)\n",
    "compound.head(1)"
   ]
  },
  {
   "cell_type": "code",
   "execution_count": 21,
   "metadata": {
    "collapsed": false
   },
   "outputs": [],
   "source": [
    "########################Herb compound Phenotype#####################\n",
    "#tuple type\n",
    "df_compound_pheno = pd.DataFrame()\n",
    "for i in compound['compID']:\n",
    "    compID = i\n",
    "    query2 = \"SELECT * from Compound_Phenotype where compID = \" + compID\n",
    "    #query1 = \"SELECT compID, ph From Compound WHERE compID IN(SELECT compID FROM Herb_Compound WHERE herbID= %ld)\" % herb_id\n",
    "    cursor.execute(query2)\n",
    "    results = cursor.fetchall()\n",
    "    if results != ():\n",
    "        for j in results:\n",
    "            temp_df = pd.DataFrame([[j[1], j[2], j[3], j[5], j[7]]], columns = ['compID', 'phenID', 'effectType', 'evidence', 'reference'])\n",
    "            df_compound_pheno = df_compound_pheno.append(temp_df)"
   ]
  },
  {
   "cell_type": "code",
   "execution_count": 30,
   "metadata": {
    "collapsed": false
   },
   "outputs": [
    {
     "name": "stdout",
     "output_type": "stream",
     "text": [
      "692\n"
     ]
    }
   ],
   "source": [
    "treatment = df_compound_pheno[df_compound_pheno.effectType == 'Treatment']\n",
    "print len(treatment)"
   ]
  },
  {
   "cell_type": "code",
   "execution_count": 35,
   "metadata": {
    "collapsed": true
   },
   "outputs": [],
   "source": [
    "treatment.to_csv(\"/home/share/aschoi/data/COCONUT_Herbal/6_Herb/5_1_herb_compound_phenotype_treatment.tsv\", sep=\"\\t\", index=False)\n",
    "treatment.to_csv(\"/home/share/aschoi/nas/users/asolchoi/data/COCONUT_Herbal/6_Herb/5_1_herb_compound_phenotype_treatment.tsv\", sep=\"\\t\", index=False)"
   ]
  },
  {
   "cell_type": "code",
   "execution_count": 31,
   "metadata": {
    "collapsed": false
   },
   "outputs": [
    {
     "name": "stdout",
     "output_type": "stream",
     "text": [
      "74609\n"
     ]
    }
   ],
   "source": [
    "association = df_compound_pheno[df_compound_pheno.effectType == 'Association']\n",
    "print len(association)"
   ]
  },
  {
   "cell_type": "code",
   "execution_count": 36,
   "metadata": {
    "collapsed": true
   },
   "outputs": [],
   "source": [
    "association.to_csv(\"/home/share/aschoi/data/COCONUT_Herbal/6_Herb/5_1_herb_compound_phenotype_association.tsv\", sep=\"\\t\", index=False)\n",
    "association.to_csv(\"/home/share/aschoi/nas/users/asolchoi/data/COCONUT_Herbal/6_Herb/5_1_herb_compound_phenotype_association.tsv\", sep=\"\\t\", index=False)"
   ]
  },
  {
   "cell_type": "code",
   "execution_count": 32,
   "metadata": {
    "collapsed": false
   },
   "outputs": [
    {
     "name": "stdout",
     "output_type": "stream",
     "text": [
      "2992\n"
     ]
    }
   ],
   "source": [
    "cause = df_compound_pheno[df_compound_pheno.effectType == 'Cause']\n",
    "print len(cause)"
   ]
  },
  {
   "cell_type": "code",
   "execution_count": 34,
   "metadata": {
    "collapsed": false
   },
   "outputs": [],
   "source": [
    "cause.to_csv(\"/home/share/aschoi/data/COCONUT_Herbal/6_Herb/5_1_herb_compound_phenotype_cause.tsv\", sep=\"\\t\", index=False)\n",
    "cause.to_csv(\"/home/share/aschoi/nas/users/asolchoi/data/COCONUT_Herbal/6_Herb/5_1_herb_compound_phenotype_cause.tsv\", sep=\"\\t\", index=False)"
   ]
  },
  {
   "cell_type": "code",
   "execution_count": 42,
   "metadata": {
    "collapsed": false
   },
   "outputs": [
    {
     "name": "stdout",
     "output_type": "stream",
     "text": [
      "78293\n",
      "3913\n",
      "78293\n"
     ]
    },
    {
     "data": {
      "text/html": [
       "<div>\n",
       "<table border=\"1\" class=\"dataframe\">\n",
       "  <thead>\n",
       "    <tr style=\"text-align: right;\">\n",
       "      <th></th>\n",
       "      <th>compID</th>\n",
       "      <th>phenID</th>\n",
       "      <th>effectType</th>\n",
       "      <th>evidence</th>\n",
       "      <th>reference</th>\n",
       "    </tr>\n",
       "  </thead>\n",
       "  <tbody>\n",
       "    <tr>\n",
       "      <th>0</th>\n",
       "      <td>32837</td>\n",
       "      <td>2304</td>\n",
       "      <td>Association</td>\n",
       "      <td>Central Nervous System Diseases</td>\n",
       "      <td>CTD[C011015]</td>\n",
       "    </tr>\n",
       "    <tr>\n",
       "      <th>0</th>\n",
       "      <td>32837</td>\n",
       "      <td>4116</td>\n",
       "      <td>Association</td>\n",
       "      <td>Cognition Disorders</td>\n",
       "      <td>CTD[C011015]</td>\n",
       "    </tr>\n",
       "    <tr>\n",
       "      <th>0</th>\n",
       "      <td>32837</td>\n",
       "      <td>4801</td>\n",
       "      <td>Association</td>\n",
       "      <td>Spinal Cord Diseases</td>\n",
       "      <td>CTD[C011015]</td>\n",
       "    </tr>\n",
       "    <tr>\n",
       "      <th>0</th>\n",
       "      <td>32820</td>\n",
       "      <td>3097</td>\n",
       "      <td>Association</td>\n",
       "      <td>Abnormalities, Multiple</td>\n",
       "      <td>CTD[C010329]</td>\n",
       "    </tr>\n",
       "    <tr>\n",
       "      <th>0</th>\n",
       "      <td>32820</td>\n",
       "      <td>27</td>\n",
       "      <td>Association</td>\n",
       "      <td>Acute Coronary Syndrome</td>\n",
       "      <td>CTD[C010329]</td>\n",
       "    </tr>\n",
       "  </tbody>\n",
       "</table>\n",
       "</div>"
      ],
      "text/plain": [
       "   compID  phenID   effectType                         evidence     reference\n",
       "0   32837    2304  Association  Central Nervous System Diseases  CTD[C011015]\n",
       "0   32837    4116  Association              Cognition Disorders  CTD[C011015]\n",
       "0   32837    4801  Association             Spinal Cord Diseases  CTD[C011015]\n",
       "0   32820    3097  Association          Abnormalities, Multiple  CTD[C010329]\n",
       "0   32820      27  Association          Acute Coronary Syndrome  CTD[C010329]"
      ]
     },
     "execution_count": 42,
     "metadata": {},
     "output_type": "execute_result"
    }
   ],
   "source": [
    "print len(df_compound_pheno)\n",
    "print len(df_compound_pheno.drop_duplicates(subset = 'phenID'))\n",
    "print len(df_compound_pheno.drop_duplicates(subset = ['compID', 'phenID']))\n",
    "df_compound_pheno.head()"
   ]
  },
  {
   "cell_type": "code",
   "execution_count": 54,
   "metadata": {
    "collapsed": false
   },
   "outputs": [],
   "source": [
    "########################Herb compound Phenotype umls id#####################\n",
    "#tuple type\n",
    "df_compound_pheno_umls = pd.DataFrame()\n",
    "for index, row in df_compound_pheno.iterrows():\n",
    "    phenID = row['phenID']\n",
    "    query2 = \"SELECT umlsID from Phenotype where phenID = \" + str(phenID)\n",
    "    cursor.execute(query2)\n",
    "    results = cursor.fetchall()\n",
    "    break\n",
    "    if results != ():\n",
    "        #row['umlsID'] = \n",
    "        df_compound_pheno_umls = df_compound_pheno_umls.append(row)\n",
    "    else:\n",
    "        print(\"empty\")\n",
    "        break"
   ]
  },
  {
   "cell_type": "code",
   "execution_count": 45,
   "metadata": {
    "collapsed": false
   },
   "outputs": [],
   "source": [
    "row['umls'] = 'C000012'"
   ]
  },
  {
   "cell_type": "code",
   "execution_count": 47,
   "metadata": {
    "collapsed": false
   },
   "outputs": [],
   "source": [
    "df_compound_pheno_umls = df_compound_pheno_umls.append(row)"
   ]
  },
  {
   "cell_type": "code",
   "execution_count": 48,
   "metadata": {
    "collapsed": false
   },
   "outputs": [
    {
     "data": {
      "text/html": [
       "<div>\n",
       "<table border=\"1\" class=\"dataframe\">\n",
       "  <thead>\n",
       "    <tr style=\"text-align: right;\">\n",
       "      <th></th>\n",
       "      <th>compID</th>\n",
       "      <th>effectType</th>\n",
       "      <th>evidence</th>\n",
       "      <th>phenID</th>\n",
       "      <th>reference</th>\n",
       "      <th>umls</th>\n",
       "    </tr>\n",
       "  </thead>\n",
       "  <tbody>\n",
       "    <tr>\n",
       "      <th>0</th>\n",
       "      <td>32837.0</td>\n",
       "      <td>Association</td>\n",
       "      <td>Central Nervous System Diseases</td>\n",
       "      <td>2304.0</td>\n",
       "      <td>CTD[C011015]</td>\n",
       "      <td>C000012</td>\n",
       "    </tr>\n",
       "  </tbody>\n",
       "</table>\n",
       "</div>"
      ],
      "text/plain": [
       "    compID   effectType                         evidence  phenID  \\\n",
       "0  32837.0  Association  Central Nervous System Diseases  2304.0   \n",
       "\n",
       "      reference     umls  \n",
       "0  CTD[C011015]  C000012  "
      ]
     },
     "execution_count": 48,
     "metadata": {},
     "output_type": "execute_result"
    }
   ],
   "source": [
    "df_compound_pheno_umls"
   ]
  },
  {
   "cell_type": "code",
   "execution_count": 55,
   "metadata": {
    "collapsed": false
   },
   "outputs": [
    {
     "data": {
      "text/plain": [
       "(('C0007682',),)"
      ]
     },
     "execution_count": 55,
     "metadata": {},
     "output_type": "execute_result"
    }
   ],
   "source": [
    "results"
   ]
  },
  {
   "cell_type": "raw",
   "metadata": {},
   "source": []
  }
 ],
 "metadata": {
  "kernelspec": {
   "display_name": "Python 2",
   "language": "python",
   "name": "python2"
  },
  "language_info": {
   "codemirror_mode": {
    "name": "ipython",
    "version": 2
   },
   "file_extension": ".py",
   "mimetype": "text/x-python",
   "name": "python",
   "nbconvert_exporter": "python",
   "pygments_lexer": "ipython2",
   "version": "2.7.6"
  }
 },
 "nbformat": 4,
 "nbformat_minor": 0
}
