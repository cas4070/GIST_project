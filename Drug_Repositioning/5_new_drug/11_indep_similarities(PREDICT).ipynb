{
 "cells": [
  {
   "cell_type": "code",
   "execution_count": 1,
   "metadata": {
    "collapsed": true
   },
   "outputs": [],
   "source": [
    "import csv\n",
    "import numpy as np\n",
    "import os\n",
    "import pandas as pd\n",
    "import time\n",
    "import pybel"
   ]
  },
  {
   "cell_type": "code",
   "execution_count": 6,
   "metadata": {
    "collapsed": false
   },
   "outputs": [
    {
     "name": "stdout",
     "output_type": "stream",
     "text": [
      "71\n",
      "434\n"
     ]
    }
   ],
   "source": [
    "'''2017.4.20. gold에 포함되지 않는 indep drug와 gold drug간의 similarity 정보도 필요함.'''\n",
    "indep_asso = pd.read_table(\"/DAS_Storage1/aschoi/data/Drug_Repositioning/7_new_association/new_predict/3_indep_learning_asso.tsv\")\n",
    "print len(indep_asso['drug_id'].drop_duplicates())\n",
    "gold_asso = pd.read_table(\"/DAS_Storage1/aschoi/data/Drug_Repositioning/7_new_association/new_predict/1_gold_learning_asso.tsv\")\n",
    "print len(gold_asso['drug_id'].drop_duplicates())"
   ]
  },
  {
   "cell_type": "code",
   "execution_count": 7,
   "metadata": {
    "collapsed": true
   },
   "outputs": [],
   "source": [
    "gold_dr_id = gold_asso['drug_id'].drop_duplicates()\n",
    "indep_dr_id = indep_asso['drug_id'].drop_duplicates()"
   ]
  },
  {
   "cell_type": "code",
   "execution_count": 9,
   "metadata": {
    "collapsed": false
   },
   "outputs": [
    {
     "data": {
      "text/html": [
       "<div>\n",
       "<table border=\"1\" class=\"dataframe\">\n",
       "  <thead>\n",
       "    <tr style=\"text-align: right;\">\n",
       "      <th></th>\n",
       "      <th>Drug_Name</th>\n",
       "      <th>InChI</th>\n",
       "      <th>SMILES</th>\n",
       "      <th>State</th>\n",
       "    </tr>\n",
       "    <tr>\n",
       "      <th>DrugBank_ID</th>\n",
       "      <th></th>\n",
       "      <th></th>\n",
       "      <th></th>\n",
       "      <th></th>\n",
       "    </tr>\n",
       "  </thead>\n",
       "  <tbody>\n",
       "    <tr>\n",
       "      <th>DB00006</th>\n",
       "      <td>Bivalirudin</td>\n",
       "      <td>InChI=1S/C98H138N24O33/c1-5-52(4)82(96(153)122...</td>\n",
       "      <td>CC[C@H](C)[C@H](NC(=O)[C@H](CCC(O)=O)NC(=O)[C@...</td>\n",
       "      <td>approved</td>\n",
       "    </tr>\n",
       "  </tbody>\n",
       "</table>\n",
       "</div>"
      ],
      "text/plain": [
       "               Drug_Name                                              InChI  \\\n",
       "DrugBank_ID                                                                   \n",
       "DB00006      Bivalirudin  InChI=1S/C98H138N24O33/c1-5-52(4)82(96(153)122...   \n",
       "\n",
       "                                                        SMILES     State  \n",
       "DrugBank_ID                                                               \n",
       "DB00006      CC[C@H](C)[C@H](NC(=O)[C@H](CCC(O)=O)NC(=O)[C@...  approved  "
      ]
     },
     "execution_count": 9,
     "metadata": {},
     "output_type": "execute_result"
    }
   ],
   "source": [
    "drugbank = pd.read_table(\"/home/share/aschoi/nas/users/asolchoi/data/Drug_Repositioning/5_new_drug/drug_set.txt\", header=None)\n",
    "drugbank = drugbank.rename(columns = {0:'DrugBank_ID', 1:'Drug_Name', 2:'InChI', 3:'SMILES', 4:'State'})\n",
    "drugbank.set_index(['DrugBank_ID'], inplace = True)\n",
    "drugbank.head(1)"
   ]
  },
  {
   "cell_type": "code",
   "execution_count": 14,
   "metadata": {
    "collapsed": false
   },
   "outputs": [
    {
     "data": {
      "text/html": [
       "<div>\n",
       "<table border=\"1\" class=\"dataframe\">\n",
       "  <thead>\n",
       "    <tr style=\"text-align: right;\">\n",
       "      <th></th>\n",
       "      <th>DB00659</th>\n",
       "      <th>DB01193</th>\n",
       "      <th>DB00316</th>\n",
       "      <th>DB00819</th>\n",
       "      <th>DB00210</th>\n",
       "      <th>DB00640</th>\n",
       "      <th>DB00240</th>\n",
       "      <th>DB00630</th>\n",
       "      <th>DB00346</th>\n",
       "      <th>DB09026</th>\n",
       "      <th>...</th>\n",
       "      <th>DB00162</th>\n",
       "      <th>DB00126</th>\n",
       "      <th>DB02546</th>\n",
       "      <th>DB00682</th>\n",
       "      <th>DB00549</th>\n",
       "      <th>DB00744</th>\n",
       "      <th>DB00246</th>\n",
       "      <th>DB00399</th>\n",
       "      <th>DB00315</th>\n",
       "      <th>DB00909</th>\n",
       "    </tr>\n",
       "  </thead>\n",
       "  <tbody>\n",
       "    <tr>\n",
       "      <th>DB01200</th>\n",
       "      <td>0.0</td>\n",
       "      <td>0.0</td>\n",
       "      <td>0.0</td>\n",
       "      <td>0.0</td>\n",
       "      <td>0.0</td>\n",
       "      <td>0.0</td>\n",
       "      <td>0.0</td>\n",
       "      <td>0.0</td>\n",
       "      <td>0.0</td>\n",
       "      <td>0.0</td>\n",
       "      <td>...</td>\n",
       "      <td>0.0</td>\n",
       "      <td>0.0</td>\n",
       "      <td>0.0</td>\n",
       "      <td>0.0</td>\n",
       "      <td>0.0</td>\n",
       "      <td>0.0</td>\n",
       "      <td>0.0</td>\n",
       "      <td>0.0</td>\n",
       "      <td>0.0</td>\n",
       "      <td>0.0</td>\n",
       "    </tr>\n",
       "  </tbody>\n",
       "</table>\n",
       "<p>1 rows × 434 columns</p>\n",
       "</div>"
      ],
      "text/plain": [
       "         DB00659  DB01193  DB00316  DB00819  DB00210  DB00640  DB00240  \\\n",
       "DB01200      0.0      0.0      0.0      0.0      0.0      0.0      0.0   \n",
       "\n",
       "         DB00630  DB00346  DB09026   ...     DB00162  DB00126  DB02546  \\\n",
       "DB01200      0.0      0.0      0.0   ...         0.0      0.0      0.0   \n",
       "\n",
       "         DB00682  DB00549  DB00744  DB00246  DB00399  DB00315  DB00909  \n",
       "DB01200      0.0      0.0      0.0      0.0      0.0      0.0      0.0  \n",
       "\n",
       "[1 rows x 434 columns]"
      ]
     },
     "execution_count": 14,
     "metadata": {},
     "output_type": "execute_result"
    }
   ],
   "source": [
    "indep_sim_mat = pd.DataFrame(columns = gold_dr_id.tolist(), index = indep_dr_id.tolist())\n",
    "indep_sim_mat = indep_sim_mat.fillna(0.0)\n",
    "indep_sim_mat.head(1)"
   ]
  },
  {
   "cell_type": "code",
   "execution_count": 30,
   "metadata": {
    "collapsed": false
   },
   "outputs": [],
   "source": [
    "for index, row in indep_sim_mat.iterrows():\n",
    "    indep_smi = drugbank.filter(items = [index], axis = 0)['SMILES'].tolist()[0]\n",
    "    for dr_id in gold_dr_id:\n",
    "        gold_smi = drugbank.filter(items = [dr_id], axis = 0)['SMILES'].tolist()[0]\n",
    "        \n",
    "        smiles = [indep_smi, gold_smi]\n",
    "        mol = [pybel.readstring('smi',x) for x in smiles]\n",
    "        fps = [x.calcfp(fptype='FP2') for x in mol]\n",
    "        sim = fps[0] | fps[1]\n",
    "        indep_sim_mat.set_value(index, dr_id, sim)  "
   ]
  },
  {
   "cell_type": "code",
   "execution_count": 34,
   "metadata": {
    "collapsed": false
   },
   "outputs": [
    {
     "data": {
      "text/plain": [
       "False"
      ]
     },
     "execution_count": 34,
     "metadata": {},
     "output_type": "execute_result"
    }
   ],
   "source": [
    "indep_sim_mat.isnull().any().any()"
   ]
  },
  {
   "cell_type": "code",
   "execution_count": 36,
   "metadata": {
    "collapsed": false
   },
   "outputs": [],
   "source": [
    "indep_sim_mat.to_csv(\"/DAS_Storage1/aschoi/data/Drug_Repositioning/5_new_drug/new_predict/2_2_2_indep_drug_gold_drug_str_sim_mat.tsv\", sep='\\t')\n",
    "indep_sim_mat.to_csv(\"/home/share/aschoi/nas/users/asolchoi/data/Drug_Repositioning/5_new_drug/new_predict/2_2_2_indep_drug_gold_drug_str_sim_mat.tsv\", sep='\\t')"
   ]
  },
  {
   "cell_type": "code",
   "execution_count": null,
   "metadata": {
    "collapsed": true
   },
   "outputs": [],
   "source": [
    "'''2017.4.20. 끝'''"
   ]
  },
  {
   "cell_type": "code",
   "execution_count": 3,
   "metadata": {
    "collapsed": false
   },
   "outputs": [],
   "source": [
    "# indep의 structure sim descriptor \n",
    "indep_sim = pd.read_table(\"/DAS_Storage1/aschoi/data/Drug_Repositioning/5_new_drug/new_predict/2_indep_drug_drug_str_sim_mat.tsv\", index_col = 0)"
   ]
  },
  {
   "cell_type": "code",
   "execution_count": 5,
   "metadata": {
    "collapsed": false
   },
   "outputs": [
    {
     "name": "stdout",
     "output_type": "stream",
     "text": [
      "71\n"
     ]
    },
    {
     "data": {
      "text/html": [
       "<div>\n",
       "<table border=\"1\" class=\"dataframe\">\n",
       "  <thead>\n",
       "    <tr style=\"text-align: right;\">\n",
       "      <th></th>\n",
       "      <th>DB00659</th>\n",
       "      <th>DB01193</th>\n",
       "      <th>DB00316</th>\n",
       "      <th>DB00819</th>\n",
       "      <th>DB00210</th>\n",
       "      <th>DB00640</th>\n",
       "      <th>DB00240</th>\n",
       "      <th>DB00630</th>\n",
       "      <th>DB00346</th>\n",
       "      <th>DB09026</th>\n",
       "      <th>...</th>\n",
       "      <th>DB00162</th>\n",
       "      <th>DB00126</th>\n",
       "      <th>DB02546</th>\n",
       "      <th>DB00682</th>\n",
       "      <th>DB00549</th>\n",
       "      <th>DB00744</th>\n",
       "      <th>DB00246</th>\n",
       "      <th>DB00399</th>\n",
       "      <th>DB00315</th>\n",
       "      <th>DB00909</th>\n",
       "    </tr>\n",
       "  </thead>\n",
       "  <tbody>\n",
       "    <tr>\n",
       "      <th>DB01200</th>\n",
       "      <td>0.084559</td>\n",
       "      <td>0.190789</td>\n",
       "      <td>0.088889</td>\n",
       "      <td>0.106109</td>\n",
       "      <td>0.145833</td>\n",
       "      <td>0.176282</td>\n",
       "      <td>0.107639</td>\n",
       "      <td>0.045775</td>\n",
       "      <td>0.271523</td>\n",
       "      <td>0.232082</td>\n",
       "      <td>...</td>\n",
       "      <td>0.070111</td>\n",
       "      <td>0.121107</td>\n",
       "      <td>0.130435</td>\n",
       "      <td>0.133333</td>\n",
       "      <td>0.304217</td>\n",
       "      <td>0.145215</td>\n",
       "      <td>0.253968</td>\n",
       "      <td>0.077703</td>\n",
       "      <td>0.352273</td>\n",
       "      <td>0.116505</td>\n",
       "    </tr>\n",
       "    <tr>\n",
       "      <th>DB00575</th>\n",
       "      <td>0.059406</td>\n",
       "      <td>0.129870</td>\n",
       "      <td>0.232558</td>\n",
       "      <td>0.061224</td>\n",
       "      <td>0.059701</td>\n",
       "      <td>0.071856</td>\n",
       "      <td>0.031496</td>\n",
       "      <td>0.028302</td>\n",
       "      <td>0.107345</td>\n",
       "      <td>0.074534</td>\n",
       "      <td>...</td>\n",
       "      <td>0.009901</td>\n",
       "      <td>0.038168</td>\n",
       "      <td>0.215686</td>\n",
       "      <td>0.076433</td>\n",
       "      <td>0.118721</td>\n",
       "      <td>0.104167</td>\n",
       "      <td>0.189655</td>\n",
       "      <td>0.056452</td>\n",
       "      <td>0.134228</td>\n",
       "      <td>0.075342</td>\n",
       "    </tr>\n",
       "    <tr>\n",
       "      <th>DB01037</th>\n",
       "      <td>0.147059</td>\n",
       "      <td>0.218487</td>\n",
       "      <td>0.184615</td>\n",
       "      <td>0.058333</td>\n",
       "      <td>0.241758</td>\n",
       "      <td>0.079137</td>\n",
       "      <td>0.040816</td>\n",
       "      <td>0.081081</td>\n",
       "      <td>0.128378</td>\n",
       "      <td>0.252174</td>\n",
       "      <td>...</td>\n",
       "      <td>0.042857</td>\n",
       "      <td>0.080808</td>\n",
       "      <td>0.187500</td>\n",
       "      <td>0.186441</td>\n",
       "      <td>0.148936</td>\n",
       "      <td>0.192661</td>\n",
       "      <td>0.202703</td>\n",
       "      <td>0.051546</td>\n",
       "      <td>0.284404</td>\n",
       "      <td>0.113043</td>\n",
       "    </tr>\n",
       "    <tr>\n",
       "      <th>DB00280</th>\n",
       "      <td>0.121739</td>\n",
       "      <td>0.240506</td>\n",
       "      <td>0.174312</td>\n",
       "      <td>0.078788</td>\n",
       "      <td>0.179856</td>\n",
       "      <td>0.129213</td>\n",
       "      <td>0.069930</td>\n",
       "      <td>0.065041</td>\n",
       "      <td>0.204420</td>\n",
       "      <td>0.258065</td>\n",
       "      <td>...</td>\n",
       "      <td>0.033333</td>\n",
       "      <td>0.104895</td>\n",
       "      <td>0.226891</td>\n",
       "      <td>0.201258</td>\n",
       "      <td>0.219178</td>\n",
       "      <td>0.198675</td>\n",
       "      <td>0.279330</td>\n",
       "      <td>0.108696</td>\n",
       "      <td>0.299320</td>\n",
       "      <td>0.140127</td>\n",
       "    </tr>\n",
       "    <tr>\n",
       "      <th>DB00343</th>\n",
       "      <td>0.121693</td>\n",
       "      <td>0.322275</td>\n",
       "      <td>0.198864</td>\n",
       "      <td>0.082988</td>\n",
       "      <td>0.216749</td>\n",
       "      <td>0.154472</td>\n",
       "      <td>0.067873</td>\n",
       "      <td>0.097436</td>\n",
       "      <td>0.270042</td>\n",
       "      <td>0.263636</td>\n",
       "      <td>...</td>\n",
       "      <td>0.035000</td>\n",
       "      <td>0.115741</td>\n",
       "      <td>0.211640</td>\n",
       "      <td>0.165957</td>\n",
       "      <td>0.263538</td>\n",
       "      <td>0.133047</td>\n",
       "      <td>0.294606</td>\n",
       "      <td>0.113208</td>\n",
       "      <td>0.239819</td>\n",
       "      <td>0.144105</td>\n",
       "    </tr>\n",
       "  </tbody>\n",
       "</table>\n",
       "<p>5 rows × 434 columns</p>\n",
       "</div>"
      ],
      "text/plain": [
       "          DB00659   DB01193   DB00316   DB00819   DB00210   DB00640   DB00240  \\\n",
       "DB01200  0.084559  0.190789  0.088889  0.106109  0.145833  0.176282  0.107639   \n",
       "DB00575  0.059406  0.129870  0.232558  0.061224  0.059701  0.071856  0.031496   \n",
       "DB01037  0.147059  0.218487  0.184615  0.058333  0.241758  0.079137  0.040816   \n",
       "DB00280  0.121739  0.240506  0.174312  0.078788  0.179856  0.129213  0.069930   \n",
       "DB00343  0.121693  0.322275  0.198864  0.082988  0.216749  0.154472  0.067873   \n",
       "\n",
       "          DB00630   DB00346   DB09026    ...      DB00162   DB00126   DB02546  \\\n",
       "DB01200  0.045775  0.271523  0.232082    ...     0.070111  0.121107  0.130435   \n",
       "DB00575  0.028302  0.107345  0.074534    ...     0.009901  0.038168  0.215686   \n",
       "DB01037  0.081081  0.128378  0.252174    ...     0.042857  0.080808  0.187500   \n",
       "DB00280  0.065041  0.204420  0.258065    ...     0.033333  0.104895  0.226891   \n",
       "DB00343  0.097436  0.270042  0.263636    ...     0.035000  0.115741  0.211640   \n",
       "\n",
       "          DB00682   DB00549   DB00744   DB00246   DB00399   DB00315   DB00909  \n",
       "DB01200  0.133333  0.304217  0.145215  0.253968  0.077703  0.352273  0.116505  \n",
       "DB00575  0.076433  0.118721  0.104167  0.189655  0.056452  0.134228  0.075342  \n",
       "DB01037  0.186441  0.148936  0.192661  0.202703  0.051546  0.284404  0.113043  \n",
       "DB00280  0.201258  0.219178  0.198675  0.279330  0.108696  0.299320  0.140127  \n",
       "DB00343  0.165957  0.263538  0.133047  0.294606  0.113208  0.239819  0.144105  \n",
       "\n",
       "[5 rows x 434 columns]"
      ]
     },
     "execution_count": 5,
     "metadata": {},
     "output_type": "execute_result"
    }
   ],
   "source": [
    "print len(indep_sim)\n",
    "indep_sim.head()"
   ]
  },
  {
   "cell_type": "code",
   "execution_count": 2,
   "metadata": {
    "collapsed": false
   },
   "outputs": [
    {
     "name": "stdout",
     "output_type": "stream",
     "text": [
      "2555\n",
      "93\n",
      "2462\n",
      "73\n",
      "35\n"
     ]
    },
    {
     "data": {
      "text/html": [
       "<div>\n",
       "<table border=\"1\" class=\"dataframe\">\n",
       "  <thead>\n",
       "    <tr style=\"text-align: right;\">\n",
       "      <th></th>\n",
       "      <th>drug</th>\n",
       "      <th>disease</th>\n",
       "      <th>association</th>\n",
       "    </tr>\n",
       "  </thead>\n",
       "  <tbody>\n",
       "    <tr>\n",
       "      <th>0</th>\n",
       "      <td>DB00125</td>\n",
       "      <td>102300</td>\n",
       "      <td>0</td>\n",
       "    </tr>\n",
       "  </tbody>\n",
       "</table>\n",
       "</div>"
      ],
      "text/plain": [
       "      drug  disease  association\n",
       "0  DB00125   102300            0"
      ]
     },
     "execution_count": 2,
     "metadata": {},
     "output_type": "execute_result"
    }
   ],
   "source": [
    "indep_asso = pd.read_table(\"/DAS_Storage1/aschoi/data/Drug_Repositioning/7_new_association/9_2_indep_learning_association.tsv\")\n",
    "print len(indep_asso)\n",
    "print len(indep_asso[indep_asso.association == 1]) # positive\n",
    "print len(indep_asso[indep_asso.association == 0]) # negative\n",
    "print len(indep_asso['drug'].drop_duplicates())\n",
    "print len(indep_asso['disease'].drop_duplicates())\n",
    "indep_asso.head(1)"
   ]
  },
  {
   "cell_type": "code",
   "execution_count": 3,
   "metadata": {
    "collapsed": false
   },
   "outputs": [
    {
     "data": {
      "text/html": [
       "<div>\n",
       "<table border=\"1\" class=\"dataframe\">\n",
       "  <thead>\n",
       "    <tr style=\"text-align: right;\">\n",
       "      <th></th>\n",
       "      <th>DrugBank_ID</th>\n",
       "      <th>Drug_Name</th>\n",
       "      <th>InChI</th>\n",
       "      <th>SMILES</th>\n",
       "      <th>State</th>\n",
       "    </tr>\n",
       "  </thead>\n",
       "  <tbody>\n",
       "    <tr>\n",
       "      <th>0</th>\n",
       "      <td>DB00006</td>\n",
       "      <td>Bivalirudin</td>\n",
       "      <td>InChI=1S/C98H138N24O33/c1-5-52(4)82(96(153)122...</td>\n",
       "      <td>CC[C@H](C)[C@H](NC(=O)[C@H](CCC(O)=O)NC(=O)[C@...</td>\n",
       "      <td>approved</td>\n",
       "    </tr>\n",
       "  </tbody>\n",
       "</table>\n",
       "</div>"
      ],
      "text/plain": [
       "  DrugBank_ID    Drug_Name                                              InChI  \\\n",
       "0     DB00006  Bivalirudin  InChI=1S/C98H138N24O33/c1-5-52(4)82(96(153)122...   \n",
       "\n",
       "                                              SMILES     State  \n",
       "0  CC[C@H](C)[C@H](NC(=O)[C@H](CCC(O)=O)NC(=O)[C@...  approved  "
      ]
     },
     "execution_count": 3,
     "metadata": {},
     "output_type": "execute_result"
    }
   ],
   "source": [
    "drugbank = pd.read_table(\"/home/share/aschoi/nas/users/asolchoi/data/Drug_Repositioning/5_new_drug/drug_set.txt\", header=None)\n",
    "drugbank = drugbank.rename(columns = {0:'DrugBank_ID', 1:'Drug_Name', 2:'InChI', 3:'SMILES', 4:'State'})\n",
    "drugbank.head(1)"
   ]
  },
  {
   "cell_type": "code",
   "execution_count": 4,
   "metadata": {
    "collapsed": false
   },
   "outputs": [
    {
     "name": "stdout",
     "output_type": "stream",
     "text": [
      "71\n"
     ]
    },
    {
     "name": "stderr",
     "output_type": "stream",
     "text": [
      "/usr/local/lib/python2.7/dist-packages/pandas/core/generic.py:2773: SettingWithCopyWarning: \n",
      "A value is trying to be set on a copy of a slice from a DataFrame.\n",
      "Try using .loc[row_indexer,col_indexer] = value instead\n",
      "\n",
      "See the caveats in the documentation: http://pandas.pydata.org/pandas-docs/stable/indexing.html#indexing-view-versus-copy\n",
      "  self[name] = value\n"
     ]
    },
    {
     "data": {
      "text/html": [
       "<div>\n",
       "<table border=\"1\" class=\"dataframe\">\n",
       "  <thead>\n",
       "    <tr style=\"text-align: right;\">\n",
       "      <th></th>\n",
       "      <th>DrugBank_ID</th>\n",
       "      <th>Drug_Name</th>\n",
       "      <th>InChI</th>\n",
       "      <th>SMILES</th>\n",
       "      <th>State</th>\n",
       "    </tr>\n",
       "  </thead>\n",
       "  <tbody>\n",
       "    <tr>\n",
       "      <th>17</th>\n",
       "      <td>DB00125</td>\n",
       "      <td>L-Arginine</td>\n",
       "      <td>InChI=1S/C6H14N4O2/c7-4(5(11)12)2-1-3-10-6(8)9...</td>\n",
       "      <td>N[C@@H](CCCNC(N)=N)C(O)=O</td>\n",
       "      <td>approved</td>\n",
       "    </tr>\n",
       "  </tbody>\n",
       "</table>\n",
       "</div>"
      ],
      "text/plain": [
       "   DrugBank_ID   Drug_Name                                              InChI  \\\n",
       "17     DB00125  L-Arginine  InChI=1S/C6H14N4O2/c7-4(5(11)12)2-1-3-10-6(8)9...   \n",
       "\n",
       "                       SMILES     State  \n",
       "17  N[C@@H](CCCNC(N)=N)C(O)=O  approved  "
      ]
     },
     "execution_count": 4,
     "metadata": {},
     "output_type": "execute_result"
    }
   ],
   "source": [
    "indep_drug_id = indep_asso['drug'].drop_duplicates()\n",
    "#indep_drug의 순서대로 drugbank를 정렬하기.\n",
    "df_indep_drug_smiles = drugbank[drugbank['DrugBank_ID'].isin(indep_drug_id)]\n",
    "sorter = indep_drug_id.tolist()\n",
    "df_indep_drug_smiles.DrugBank_ID = df_indep_drug_smiles.DrugBank_ID.astype(\"category\")\n",
    "df_indep_drug_smiles.DrugBank_ID.cat.set_categories(sorter, inplace=True)\n",
    "df_indep_drug_smiles = df_indep_drug_smiles.sort_values([\"DrugBank_ID\"])\n",
    "print len(df_indep_drug_smiles)\n",
    "df_indep_drug_smiles.head(1) # drug bank id로 중복체크 했을 때 중복 없었음."
   ]
  },
  {
   "cell_type": "code",
   "execution_count": 5,
   "metadata": {
    "collapsed": false
   },
   "outputs": [],
   "source": [
    "new_asso = indep_asso[indep_asso['drug'].isin(df_indep_drug_smiles['DrugBank_ID'])]"
   ]
  },
  {
   "cell_type": "code",
   "execution_count": 6,
   "metadata": {
    "collapsed": true
   },
   "outputs": [],
   "source": [
    "new_asso.to_csv(\"/home/share/aschoi/nas/users/asolchoi/data/Drug_Repositioning/7_new_association/10_PREDICT_association_indep.tsv\",sep='\\t', index=False)\n",
    "new_asso.to_csv(\"/DAS_Storage1/aschoi/data/Drug_Repositioning/7_new_association/10_PREDICT_association_indep.tsv\", sindex=False)"
   ]
  },
  {
   "cell_type": "code",
   "execution_count": 8,
   "metadata": {
    "collapsed": false
   },
   "outputs": [],
   "source": [
    "import pybel\n",
    "df_sim = pd.DataFrame()\n",
    "drug_id = df_indep_drug_smiles['DrugBank_ID'].tolist()\n",
    "for i in drug_id:\n",
    "    smi1 = df_indep_drug_smiles[df_indep_drug_smiles.DrugBank_ID == i]['SMILES'].tolist()[0]\n",
    "    for j in drug_id:\n",
    "        smi2 = df_indep_drug_smiles[df_indep_drug_smiles.DrugBank_ID == j]['SMILES'].tolist()[0]\n",
    "        \n",
    "        smiles = [smi1, smi2]\n",
    "        mol = [pybel.readstring('smi',x) for x in smiles]\n",
    "        fps = [x.calcfp(fptype='FP2') for x in mol]\n",
    "        sim = fps[0] | fps[1]\n",
    "        \n",
    "        temp_df = pd.DataFrame([[i, j, sim]], columns = ['DrugBank_ID1','DrugBank_ID2', 'CheSim'])\n",
    "        df_sim = df_sim.append(temp_df)"
   ]
  },
  {
   "cell_type": "code",
   "execution_count": 10,
   "metadata": {
    "collapsed": false
   },
   "outputs": [],
   "source": [
    "df_sim.to_csv(\"/home/share/aschoi/nas/users/asolchoi/data/Drug_Repositioning/5_new_drug/9_indep_drug_similarity_structure.tsv\", sep='\\t', index=False)\n",
    "df_sim.to_csv(\"/DAS_Storage1/aschoi/data/Drug_Repositioning/5_new_drug/9_indep_drug_similarity_structure.tsv\", sep='\\t', index=False)"
   ]
  },
  {
   "cell_type": "code",
   "execution_count": null,
   "metadata": {
    "collapsed": true
   },
   "outputs": [],
   "source": [
    "df_sim = pd.read_table(\"/DAS_Storage1/aschoi/data/Drug_Repositioning/5_new_drug/9_indep_drug_similarity_structure.tsv\")"
   ]
  },
  {
   "cell_type": "code",
   "execution_count": null,
   "metadata": {
    "collapsed": true
   },
   "outputs": [],
   "source": [
    "##### phenotypic similaritied"
   ]
  },
  {
   "cell_type": "code",
   "execution_count": null,
   "metadata": {
    "collapsed": true
   },
   "outputs": [],
   "source": [
    "'''2017.4.21. indep drug X gold drug 간의 phenotype similarity가 필요'''"
   ]
  },
  {
   "cell_type": "code",
   "execution_count": 8,
   "metadata": {
    "collapsed": false
   },
   "outputs": [
    {
     "name": "stdout",
     "output_type": "stream",
     "text": [
      "71\n",
      "434\n"
     ]
    }
   ],
   "source": [
    "indep_asso = pd.read_table(\"/DAS_Storage1/aschoi/data/Drug_Repositioning/7_new_association/new_predict/3_indep_learning_asso.tsv\")\n",
    "print len(indep_asso['drug_id'].drop_duplicates())\n",
    "gold_asso = pd.read_table(\"/DAS_Storage1/aschoi/data/Drug_Repositioning/7_new_association/new_predict/1_gold_learning_asso.tsv\")\n",
    "print len(gold_asso['drug_id'].drop_duplicates())"
   ]
  },
  {
   "cell_type": "code",
   "execution_count": 35,
   "metadata": {
    "collapsed": true
   },
   "outputs": [],
   "source": [
    "indep_se = pd.read_table(\"/DAS_Storage1/aschoi/data/Drug_Repositioning/5_new_drug/PREDICT_data/3_2_indep_drug_se_matrix.tsv\", index_col=0)\n",
    "gold_se = pd.read_table(\"/DAS_Storage1/aschoi/data/Drug_Repositioning/5_new_drug/PREDICT_data/4_2_gold_se_by_indep_matrix.tsv\", index_col=0)"
   ]
  },
  {
   "cell_type": "code",
   "execution_count": 36,
   "metadata": {
    "collapsed": false
   },
   "outputs": [
    {
     "name": "stdout",
     "output_type": "stream",
     "text": [
      "1844\n"
     ]
    },
    {
     "data": {
      "text/html": [
       "<div>\n",
       "<table border=\"1\" class=\"dataframe\">\n",
       "  <thead>\n",
       "    <tr style=\"text-align: right;\">\n",
       "      <th></th>\n",
       "      <th>DB00125</th>\n",
       "      <th>DB00136</th>\n",
       "      <th>DB00153</th>\n",
       "      <th>DB00176</th>\n",
       "      <th>DB00193</th>\n",
       "      <th>DB00195</th>\n",
       "      <th>DB00253</th>\n",
       "      <th>DB00280</th>\n",
       "      <th>DB00283</th>\n",
       "      <th>DB00286</th>\n",
       "      <th>...</th>\n",
       "      <th>DB01195</th>\n",
       "      <th>DB01200</th>\n",
       "      <th>DB01210</th>\n",
       "      <th>DB01254</th>\n",
       "      <th>DB01393</th>\n",
       "      <th>DB01399</th>\n",
       "      <th>DB01410</th>\n",
       "      <th>DB01586</th>\n",
       "      <th>DB01611</th>\n",
       "      <th>DB01620</th>\n",
       "    </tr>\n",
       "  </thead>\n",
       "  <tbody>\n",
       "    <tr>\n",
       "      <th>C0000727</th>\n",
       "      <td>0</td>\n",
       "      <td>0</td>\n",
       "      <td>0</td>\n",
       "      <td>0</td>\n",
       "      <td>0</td>\n",
       "      <td>0</td>\n",
       "      <td>0</td>\n",
       "      <td>0</td>\n",
       "      <td>0</td>\n",
       "      <td>0</td>\n",
       "      <td>...</td>\n",
       "      <td>0</td>\n",
       "      <td>0</td>\n",
       "      <td>0</td>\n",
       "      <td>0</td>\n",
       "      <td>0</td>\n",
       "      <td>0</td>\n",
       "      <td>0</td>\n",
       "      <td>0</td>\n",
       "      <td>0</td>\n",
       "      <td>0</td>\n",
       "    </tr>\n",
       "  </tbody>\n",
       "</table>\n",
       "<p>1 rows × 73 columns</p>\n",
       "</div>"
      ],
      "text/plain": [
       "          DB00125  DB00136  DB00153  DB00176  DB00193  DB00195  DB00253  \\\n",
       "C0000727        0        0        0        0        0        0        0   \n",
       "\n",
       "          DB00280  DB00283  DB00286   ...     DB01195  DB01200  DB01210  \\\n",
       "C0000727        0        0        0   ...           0        0        0   \n",
       "\n",
       "          DB01254  DB01393  DB01399  DB01410  DB01586  DB01611  DB01620  \n",
       "C0000727        0        0        0        0        0        0        0  \n",
       "\n",
       "[1 rows x 73 columns]"
      ]
     },
     "execution_count": 36,
     "metadata": {},
     "output_type": "execute_result"
    }
   ],
   "source": [
    "print len(indep_se)\n",
    "indep_se.head(1)"
   ]
  },
  {
   "cell_type": "code",
   "execution_count": 37,
   "metadata": {
    "collapsed": false
   },
   "outputs": [
    {
     "name": "stdout",
     "output_type": "stream",
     "text": [
      "1844\n"
     ]
    },
    {
     "data": {
      "text/html": [
       "<div>\n",
       "<table border=\"1\" class=\"dataframe\">\n",
       "  <thead>\n",
       "    <tr style=\"text-align: right;\">\n",
       "      <th></th>\n",
       "      <th>DB00215</th>\n",
       "      <th>DB01327</th>\n",
       "      <th>DB00537</th>\n",
       "      <th>DB00175</th>\n",
       "      <th>DB00181</th>\n",
       "      <th>DB00257</th>\n",
       "      <th>DB00343</th>\n",
       "      <th>DB01128</th>\n",
       "      <th>DB00678</th>\n",
       "      <th>DB00808</th>\n",
       "      <th>...</th>\n",
       "      <th>DB01033</th>\n",
       "      <th>DB01254</th>\n",
       "      <th>DB01261</th>\n",
       "      <th>DB00323</th>\n",
       "      <th>DB00287</th>\n",
       "      <th>DB00905</th>\n",
       "      <th>DB01088</th>\n",
       "      <th>DB01268</th>\n",
       "      <th>DB09026</th>\n",
       "      <th>DB01590</th>\n",
       "    </tr>\n",
       "  </thead>\n",
       "  <tbody>\n",
       "    <tr>\n",
       "      <th>C0000727</th>\n",
       "      <td>0</td>\n",
       "      <td>0</td>\n",
       "      <td>0</td>\n",
       "      <td>0</td>\n",
       "      <td>0</td>\n",
       "      <td>0</td>\n",
       "      <td>0</td>\n",
       "      <td>0</td>\n",
       "      <td>0</td>\n",
       "      <td>0</td>\n",
       "      <td>...</td>\n",
       "      <td>0</td>\n",
       "      <td>0</td>\n",
       "      <td>1</td>\n",
       "      <td>0</td>\n",
       "      <td>0</td>\n",
       "      <td>0</td>\n",
       "      <td>0</td>\n",
       "      <td>0</td>\n",
       "      <td>0</td>\n",
       "      <td>0</td>\n",
       "    </tr>\n",
       "  </tbody>\n",
       "</table>\n",
       "<p>1 rows × 446 columns</p>\n",
       "</div>"
      ],
      "text/plain": [
       "          DB00215  DB01327  DB00537  DB00175  DB00181  DB00257  DB00343  \\\n",
       "C0000727        0        0        0        0        0        0        0   \n",
       "\n",
       "          DB01128  DB00678  DB00808   ...     DB01033  DB01254  DB01261  \\\n",
       "C0000727        0        0        0   ...           0        0        1   \n",
       "\n",
       "          DB00323  DB00287  DB00905  DB01088  DB01268  DB09026  DB01590  \n",
       "C0000727        0        0        0        0        0        0        0  \n",
       "\n",
       "[1 rows x 446 columns]"
      ]
     },
     "execution_count": 37,
     "metadata": {},
     "output_type": "execute_result"
    }
   ],
   "source": [
    "print len(gold_se)\n",
    "gold_se.head(1)"
   ]
  },
  {
   "cell_type": "code",
   "execution_count": 9,
   "metadata": {
    "collapsed": true
   },
   "outputs": [],
   "source": [
    "gold_dr_id = gold_asso['drug_id'].drop_duplicates()\n",
    "indep_dr_id = indep_asso['drug_id'].drop_duplicates()"
   ]
  },
  {
   "cell_type": "code",
   "execution_count": 41,
   "metadata": {
    "collapsed": false
   },
   "outputs": [
    {
     "name": "stdout",
     "output_type": "stream",
     "text": [
      "71\n"
     ]
    },
    {
     "data": {
      "text/html": [
       "<div>\n",
       "<table border=\"1\" class=\"dataframe\">\n",
       "  <thead>\n",
       "    <tr style=\"text-align: right;\">\n",
       "      <th></th>\n",
       "      <th>DB00659</th>\n",
       "      <th>DB01193</th>\n",
       "      <th>DB00316</th>\n",
       "      <th>DB00819</th>\n",
       "      <th>DB00210</th>\n",
       "      <th>DB00640</th>\n",
       "      <th>DB00240</th>\n",
       "      <th>DB00630</th>\n",
       "      <th>DB00346</th>\n",
       "      <th>DB09026</th>\n",
       "      <th>...</th>\n",
       "      <th>DB00162</th>\n",
       "      <th>DB00126</th>\n",
       "      <th>DB02546</th>\n",
       "      <th>DB00682</th>\n",
       "      <th>DB00549</th>\n",
       "      <th>DB00744</th>\n",
       "      <th>DB00246</th>\n",
       "      <th>DB00399</th>\n",
       "      <th>DB00315</th>\n",
       "      <th>DB00909</th>\n",
       "    </tr>\n",
       "  </thead>\n",
       "  <tbody>\n",
       "    <tr>\n",
       "      <th>DB01200</th>\n",
       "      <td>0.0</td>\n",
       "      <td>0.0</td>\n",
       "      <td>0.0</td>\n",
       "      <td>0.0</td>\n",
       "      <td>0.0</td>\n",
       "      <td>0.0</td>\n",
       "      <td>0.0</td>\n",
       "      <td>0.0</td>\n",
       "      <td>0.0</td>\n",
       "      <td>0.0</td>\n",
       "      <td>...</td>\n",
       "      <td>0.0</td>\n",
       "      <td>0.0</td>\n",
       "      <td>0.0</td>\n",
       "      <td>0.0</td>\n",
       "      <td>0.0</td>\n",
       "      <td>0.0</td>\n",
       "      <td>0.0</td>\n",
       "      <td>0.0</td>\n",
       "      <td>0.0</td>\n",
       "      <td>0.0</td>\n",
       "    </tr>\n",
       "  </tbody>\n",
       "</table>\n",
       "<p>1 rows × 434 columns</p>\n",
       "</div>"
      ],
      "text/plain": [
       "         DB00659  DB01193  DB00316  DB00819  DB00210  DB00640  DB00240  \\\n",
       "DB01200      0.0      0.0      0.0      0.0      0.0      0.0      0.0   \n",
       "\n",
       "         DB00630  DB00346  DB09026   ...     DB00162  DB00126  DB02546  \\\n",
       "DB01200      0.0      0.0      0.0   ...         0.0      0.0      0.0   \n",
       "\n",
       "         DB00682  DB00549  DB00744  DB00246  DB00399  DB00315  DB00909  \n",
       "DB01200      0.0      0.0      0.0      0.0      0.0      0.0      0.0  \n",
       "\n",
       "[1 rows x 434 columns]"
      ]
     },
     "execution_count": 41,
     "metadata": {},
     "output_type": "execute_result"
    }
   ],
   "source": [
    "indep_phe_sim_mat = pd.DataFrame(columns = gold_dr_id.tolist(), index = indep_dr_id.tolist())\n",
    "indep_phe_sim_mat = indep_phe_sim_mat.fillna(0.0)\n",
    "print len(indep_phe_sim_mat)\n",
    "indep_phe_sim_mat.head(1)"
   ]
  },
  {
   "cell_type": "code",
   "execution_count": 43,
   "metadata": {
    "collapsed": false
   },
   "outputs": [],
   "source": [
    "from sklearn.metrics import jaccard_similarity_score\n",
    "for i_dr in indep_dr_id:\n",
    "    for g_dr in gold_dr_id:\n",
    "        i_se = indep_se[i_dr]\n",
    "        g_se = gold_se[g_dr]\n",
    "        \n",
    "        jac_sim = jaccard_similarity_score(i_se.tolist(), g_se.tolist())\n",
    "        \n",
    "        indep_phe_sim_mat.set_value(i_dr, g_dr, jac_sim)"
   ]
  },
  {
   "cell_type": "code",
   "execution_count": 45,
   "metadata": {
    "collapsed": true
   },
   "outputs": [],
   "source": [
    "indep_phe_sim_mat.to_csv(\"/DAS_Storage1/aschoi/data/Drug_Repositioning/5_new_drug/new_predict/2_2_2_indep_drug_gold_drug_se_sim_mat.tsv\", sep='\\t')"
   ]
  },
  {
   "cell_type": "code",
   "execution_count": null,
   "metadata": {
    "collapsed": true
   },
   "outputs": [],
   "source": []
  },
  {
   "cell_type": "code",
   "execution_count": null,
   "metadata": {
    "collapsed": true
   },
   "outputs": [],
   "source": []
  },
  {
   "cell_type": "code",
   "execution_count": null,
   "metadata": {
    "collapsed": true
   },
   "outputs": [],
   "source": []
  },
  {
   "cell_type": "code",
   "execution_count": null,
   "metadata": {
    "collapsed": true
   },
   "outputs": [],
   "source": []
  },
  {
   "cell_type": "code",
   "execution_count": null,
   "metadata": {
    "collapsed": true
   },
   "outputs": [],
   "source": []
  },
  {
   "cell_type": "code",
   "execution_count": null,
   "metadata": {
    "collapsed": true
   },
   "outputs": [],
   "source": []
  },
  {
   "cell_type": "code",
   "execution_count": 15,
   "metadata": {
    "collapsed": false
   },
   "outputs": [],
   "source": [
    "indep_desc = pd.read_table(\"/DAS_Storage1/aschoi/data/Drug_Repositioning/8_new_training/2_2_indep_asso_descriptor.tsv\")"
   ]
  },
  {
   "cell_type": "code",
   "execution_count": 46,
   "metadata": {
    "collapsed": false
   },
   "outputs": [
    {
     "name": "stdout",
     "output_type": "stream",
     "text": [
      "(2555, 2277)\n"
     ]
    }
   ],
   "source": [
    "indep_drug_feature = indep_desc[['drug_id']+indep_desc.columns.values[3:2279].tolist()]\n",
    "print indep_drug_feature.shape"
   ]
  },
  {
   "cell_type": "code",
   "execution_count": 66,
   "metadata": {
    "collapsed": false,
    "scrolled": true
   },
   "outputs": [
    {
     "name": "stdout",
     "output_type": "stream",
     "text": [
      "(73, 2277)\n"
     ]
    },
    {
     "data": {
      "text/html": [
       "<div>\n",
       "<table border=\"1\" class=\"dataframe\">\n",
       "  <thead>\n",
       "    <tr style=\"text-align: right;\">\n",
       "      <th></th>\n",
       "      <th>drug_id</th>\n",
       "      <th>C0000737</th>\n",
       "      <th>C0000786</th>\n",
       "      <th>C0001824</th>\n",
       "      <th>C0002170</th>\n",
       "      <th>C0002453</th>\n",
       "      <th>C0002622</th>\n",
       "      <th>C0002792</th>\n",
       "      <th>C0002871</th>\n",
       "      <th>C0002884</th>\n",
       "      <th>...</th>\n",
       "      <th>C0395005</th>\n",
       "      <th>C0424082</th>\n",
       "      <th>C0549334</th>\n",
       "      <th>C1096460</th>\n",
       "      <th>C0008497</th>\n",
       "      <th>C0581395</th>\n",
       "      <th>C0151964</th>\n",
       "      <th>C1697943</th>\n",
       "      <th>C0567085</th>\n",
       "      <th>C0854954</th>\n",
       "    </tr>\n",
       "  </thead>\n",
       "  <tbody>\n",
       "    <tr>\n",
       "      <th>0</th>\n",
       "      <td>DB00125</td>\n",
       "      <td>0</td>\n",
       "      <td>0</td>\n",
       "      <td>0</td>\n",
       "      <td>0</td>\n",
       "      <td>0</td>\n",
       "      <td>0</td>\n",
       "      <td>1</td>\n",
       "      <td>0</td>\n",
       "      <td>0</td>\n",
       "      <td>...</td>\n",
       "      <td>0</td>\n",
       "      <td>0</td>\n",
       "      <td>0</td>\n",
       "      <td>0</td>\n",
       "      <td>0</td>\n",
       "      <td>0</td>\n",
       "      <td>0</td>\n",
       "      <td>0</td>\n",
       "      <td>0</td>\n",
       "      <td>0</td>\n",
       "    </tr>\n",
       "    <tr>\n",
       "      <th>1</th>\n",
       "      <td>DB00136</td>\n",
       "      <td>1</td>\n",
       "      <td>0</td>\n",
       "      <td>0</td>\n",
       "      <td>0</td>\n",
       "      <td>0</td>\n",
       "      <td>0</td>\n",
       "      <td>1</td>\n",
       "      <td>0</td>\n",
       "      <td>0</td>\n",
       "      <td>...</td>\n",
       "      <td>0</td>\n",
       "      <td>0</td>\n",
       "      <td>0</td>\n",
       "      <td>0</td>\n",
       "      <td>0</td>\n",
       "      <td>0</td>\n",
       "      <td>0</td>\n",
       "      <td>0</td>\n",
       "      <td>0</td>\n",
       "      <td>0</td>\n",
       "    </tr>\n",
       "  </tbody>\n",
       "</table>\n",
       "<p>2 rows × 2277 columns</p>\n",
       "</div>"
      ],
      "text/plain": [
       "   drug_id  C0000737  C0000786  C0001824  C0002170  C0002453  C0002622  \\\n",
       "0  DB00125         0         0         0         0         0         0   \n",
       "1  DB00136         1         0         0         0         0         0   \n",
       "\n",
       "   C0002792  C0002871  C0002884    ...     C0395005  C0424082  C0549334  \\\n",
       "0         1         0         0    ...            0         0         0   \n",
       "1         1         0         0    ...            0         0         0   \n",
       "\n",
       "   C1096460  C0008497  C0581395  C0151964  C1697943  C0567085  C0854954  \n",
       "0         0         0         0         0         0         0         0  \n",
       "1         0         0         0         0         0         0         0  \n",
       "\n",
       "[2 rows x 2277 columns]"
      ]
     },
     "execution_count": 66,
     "metadata": {},
     "output_type": "execute_result"
    }
   ],
   "source": [
    "indep_drug_feature = indep_drug_feature.drop_duplicates('drug_id')\n",
    "print indep_drug_feature.shape\n",
    "indep_drug_feature.head(2)"
   ]
  },
  {
   "cell_type": "code",
   "execution_count": 68,
   "metadata": {
    "collapsed": false
   },
   "outputs": [],
   "source": [
    "# 아래 for loop에서 index 지정 에러가 떠서 0으로 통일 시킴.\n",
    "indep_drug_feature.index = [0 for i in range(len(indep_drug_feature))]"
   ]
  },
  {
   "cell_type": "code",
   "execution_count": 70,
   "metadata": {
    "collapsed": false
   },
   "outputs": [],
   "source": [
    "from sklearn.metrics import jaccard_similarity_score\n",
    "df_jac = pd.DataFrame()\n",
    "drug_id = df_indep_drug_smiles['DrugBank_ID'].tolist()\n",
    "for i in drug_id:\n",
    "    desc1 = indep_drug_feature[indep_drug_feature.drug_id == i].loc[0][1:]\n",
    "    for j in drug_id:\n",
    "        desc2 = indep_drug_feature[indep_drug_feature.drug_id == j].loc[0][1:]\n",
    "        \n",
    "        jac_sim = jaccard_similarity_score(desc1.tolist(),desc2.tolist())\n",
    "        \n",
    "        temp_df = pd.DataFrame([[i, j, jac_sim]], columns = ['DrugBank_ID1','DrugBank_ID2', 'PheSim'])\n",
    "        df_jac = df_jac.append(temp_df)"
   ]
  },
  {
   "cell_type": "code",
   "execution_count": 73,
   "metadata": {
    "collapsed": true
   },
   "outputs": [],
   "source": [
    "df_jac.to_csv(\"/home/share/aschoi/nas/users/asolchoi/data/Drug_Repositioning/5_new_drug/9_indep_drug_similarity_phenotype.tsv\", sep='\\t', index=False)\n",
    "df_jac.to_csv(\"/DAS_Storage1/aschoi/data/Drug_Repositioning/5_new_drug/9_indep_drug_similarity_phenotype.tsv\", sep='\\t', index=False)"
   ]
  },
  {
   "cell_type": "code",
   "execution_count": 3,
   "metadata": {
    "collapsed": false
   },
   "outputs": [],
   "source": [
    "#### drug similarities 합치는 과정\n",
    "drug_ch = pd.read_table(\"/DAS_Storage1/aschoi/data/Drug_Repositioning/5_new_drug/9_indep_drug_similarity_structure.tsv\")\n",
    "drug_ph = pd.read_table(\"/DAS_Storage1/aschoi/data/Drug_Repositioning/5_new_drug/9_indep_drug_similarity_phenotype.tsv\")\n",
    "df_drug_sim = pd.merge(left = drug_ch, right= drug_ph, left_on = ['DrugBank_ID1', 'DrugBank_ID2'], right_on = ['DrugBank_ID1', 'DrugBank_ID2'])\n",
    "df_drug_sim = df_drug_sim.rename(columns = {'Similarity_Score_x' : 'CheSim', 'Similarity_Score_y':'PheSim'})\n",
    "df_drug_sim.to_csv(\"/home/share/aschoi/nas/users/asolchoi/data/Drug_Repositioning/5_new_drug/9_indep_drug_similarity_whole.tsv\", index=False, sep='\\t')\n",
    "df_drug_sim.to_csv(\"/DAS_Storage1/aschoi/data/Drug_Repositioning/5_new_drug/9_indep_drug_similarity_whole.tsv\", index=False, sep='\\t')"
   ]
  },
  {
   "cell_type": "code",
   "execution_count": null,
   "metadata": {
    "collapsed": true
   },
   "outputs": [],
   "source": []
  }
 ],
 "metadata": {
  "kernelspec": {
   "display_name": "Python 2",
   "language": "python",
   "name": "python2"
  },
  "language_info": {
   "codemirror_mode": {
    "name": "ipython",
    "version": 2
   },
   "file_extension": ".py",
   "mimetype": "text/x-python",
   "name": "python",
   "nbconvert_exporter": "python",
   "pygments_lexer": "ipython2",
   "version": "2.7.6"
  }
 },
 "nbformat": 4,
 "nbformat_minor": 0
}
