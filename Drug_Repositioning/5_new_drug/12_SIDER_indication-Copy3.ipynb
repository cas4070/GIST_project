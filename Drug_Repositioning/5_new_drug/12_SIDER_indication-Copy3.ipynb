{
 "cells": [
  {
   "cell_type": "code",
   "execution_count": 1,
   "metadata": {
    "collapsed": true
   },
   "outputs": [],
   "source": [
    "import pandas as pd\n",
    "import numpy as np\n",
    "from datetime import datetime\n",
    "import csv\n",
    "from urllib2 import urlopen # python2\n",
    "import urllib2\n",
    "import time"
   ]
  },
  {
   "cell_type": "code",
   "execution_count": 2,
   "metadata": {
    "collapsed": true
   },
   "outputs": [],
   "source": [
    "df_sider_indication_raw = pd.read_table(\"/DAS_Storage1/aschoi/data/Drug_Repositioning/5_new_drug/meddra_all_indications_header.tsv\")"
   ]
  },
  {
   "cell_type": "code",
   "execution_count": 5,
   "metadata": {
    "collapsed": false
   },
   "outputs": [],
   "source": [
    "df_sider_indication_pt = df_sider_indication_raw[df_sider_indication_raw.MedDRA_concept_type == 'PT']"
   ]
  },
  {
   "cell_type": "code",
   "execution_count": 25,
   "metadata": {
    "collapsed": false,
    "scrolled": false
   },
   "outputs": [],
   "source": [
    "df_sider_indication = df_sider_indication_pt[['STITCH_compound_id_flat', 'UMLS_concept_id_for_MedDRA','MedDRA_concept_name']].drop_duplicates()"
   ]
  },
  {
   "cell_type": "code",
   "execution_count": 28,
   "metadata": {
    "collapsed": true
   },
   "outputs": [],
   "source": [
    "df_stitch = pd.read_table(\"/DAS_Storage1/aschoi/data/COCONUT_Herbal/7_Ezyme_tool/STITCH_CID.tsv\")"
   ]
  },
  {
   "cell_type": "code",
   "execution_count": 57,
   "metadata": {
    "collapsed": false
   },
   "outputs": [
    {
     "name": "stdout",
     "output_type": "stream",
     "text": [
      "15083\n",
      "1437\n",
      "45598\n",
      "1437\n"
     ]
    }
   ],
   "source": [
    "print len(df_sider_indication) # sider의 indication 총 개수\n",
    "print len(df_sider_indication['STITCH_compound_id_flat'].drop_duplicates()) # indication 정보를 가지고 있는 compound의 개수-->1437개\n",
    "\n",
    "# stitch_pc id mapping 파일에서 sider에 indication 정보가 존재하는 stitch id를 솎아낸다.\n",
    "df_query = df_stitch[df_stitch['flat_chemical'].isin(df_sider_indication['STITCH_compound_id_flat'])] \n",
    "print len(df_query) # stitch id와 mapping되는 pc의 개수(pc는 중복 없음)\n",
    "print len(df_query.drop_duplicates('flat_chemical')) #stitch_id의 개수 "
   ]
  },
  {
   "cell_type": "code",
   "execution_count": null,
   "metadata": {
    "collapsed": true
   },
   "outputs": [],
   "source": [
    "df_query.to_csv(\"/DAS_Storage1/aschoi/data/Drug_Repositioning/5_new_drug/11_0_query_pubchemID.tsv\", sep='\\t', index=False)"
   ]
  },
  {
   "cell_type": "code",
   "execution_count": 2,
   "metadata": {
    "collapsed": true
   },
   "outputs": [],
   "source": [
    "df_query = pd.read_table(\"/DAS_Storage1/aschoi/data/Drug_Repositioning/5_new_drug/11_0_query_pubchemID.tsv\")"
   ]
  },
  {
   "cell_type": "code",
   "execution_count": 3,
   "metadata": {
    "collapsed": false
   },
   "outputs": [
    {
     "name": "stdout",
     "output_type": "stream",
     "text": [
      "45598\n",
      "1437\n"
     ]
    },
    {
     "data": {
      "text/html": [
       "<div>\n",
       "<table border=\"1\" class=\"dataframe\">\n",
       "  <thead>\n",
       "    <tr style=\"text-align: right;\">\n",
       "      <th></th>\n",
       "      <th>flat_chemical</th>\n",
       "      <th>stereo_chemical</th>\n",
       "      <th>source_name</th>\n",
       "      <th>source_id</th>\n",
       "    </tr>\n",
       "  </thead>\n",
       "  <tbody>\n",
       "    <tr>\n",
       "      <th>0</th>\n",
       "      <td>CID100002735</td>\n",
       "      <td>CID010000117</td>\n",
       "      <td>PC</td>\n",
       "      <td>10000117</td>\n",
       "    </tr>\n",
       "  </tbody>\n",
       "</table>\n",
       "</div>"
      ],
      "text/plain": [
       "  flat_chemical stereo_chemical source_name  source_id\n",
       "0  CID100002735    CID010000117          PC   10000117"
      ]
     },
     "execution_count": 3,
     "metadata": {},
     "output_type": "execute_result"
    }
   ],
   "source": [
    "print len(df_query)\n",
    "print len(df_query.drop_duplicates('flat_chemical'))\n",
    "df_query.head(1)"
   ]
  },
  {
   "cell_type": "code",
   "execution_count": 10,
   "metadata": {
    "collapsed": false,
    "scrolled": true
   },
   "outputs": [
    {
     "name": "stdout",
     "output_type": "stream",
     "text": [
      "34200 : 2017-03-26 20:40:30\n",
      "35000 : 2017-03-26 20:55:41\n",
      "36000 : 2017-03-26 21:14:10\n",
      "flat_chemical      CID100160036\n",
      "stereo_chemical    CID006918193\n",
      "source_name                  PC\n",
      "source_id              62707670\n",
      "Name: 36457, dtype: object\n",
      "37000 : 2017-03-26 21:32:47\n",
      "flat_chemical      CID100160036\n",
      "stereo_chemical    CID006918193\n",
      "source_name                  PC\n",
      "source_id              66545953\n",
      "Name: 37692, dtype: object\n",
      "38000 : 2017-03-26 21:51:12\n",
      "39000 : 2017-03-26 22:09:36\n",
      "<urlopen error [Errno 110] Connection timed out> https://www.ebi.ac.uk/unichem/rest/src_compound_id/67392947/22/2\n",
      "  cnt = 39098, error time : 2017-03-26 22:13:31\n",
      "    Retrying in 0 seconds...\n",
      "40000 : 2017-03-26 22:30:03\n",
      "41000 : 2017-03-26 22:48:38\n",
      "42000 : 2017-03-26 23:07:03\n",
      "flat_chemical      CID100160036\n",
      "stereo_chemical    CID006918193\n",
      "source_name                  PC\n",
      "source_id              70682942\n",
      "Name: 42774, dtype: object\n",
      "flat_chemical      CID109818231\n",
      "stereo_chemical    CID020111936\n",
      "source_name                  PC\n",
      "source_id              70683018\n",
      "Name: 42776, dtype: object\n",
      "flat_chemical      CID111020241\n",
      "stereo_chemical    CID054724032\n",
      "source_name                  PC\n",
      "source_id              70683036\n",
      "Name: 42779, dtype: object\n",
      "flat_chemical      CID100004609\n",
      "stereo_chemical    CID044365492\n",
      "source_name                  PC\n",
      "source_id              70684512\n",
      "Name: 42780, dtype: object\n",
      "flat_chemical      CID116158207\n",
      "stereo_chemical    CID070685014\n",
      "source_name                  PC\n",
      "source_id              70685014\n",
      "Name: 42782, dtype: object\n",
      "flat_chemical      CID100157688\n",
      "stereo_chemical    CID010629256\n",
      "source_name                  PC\n",
      "source_id              70693516\n",
      "Name: 42804, dtype: object\n",
      "flat_chemical      CID100001065\n",
      "stereo_chemical    CID000637552\n",
      "source_name                  PC\n",
      "source_id              70693539\n",
      "Name: 42805, dtype: object\n",
      "flat_chemical      CID100004609\n",
      "stereo_chemical    CID000004609\n",
      "source_name                  PC\n",
      "source_id              70694995\n",
      "Name: 42807, dtype: object\n",
      "flat_chemical      CID100004609\n",
      "stereo_chemical    CID044365316\n",
      "source_name                  PC\n",
      "source_id              70697046\n",
      "Name: 42814, dtype: object\n",
      "flat_chemical      CID100001065\n",
      "stereo_chemical    CID003032576\n",
      "source_name                  PC\n",
      "source_id              70697641\n",
      "Name: 42816, dtype: object\n",
      "flat_chemical      CID100001065\n",
      "stereo_chemical    CID000637552\n",
      "source_name                  PC\n",
      "source_id              70697652\n",
      "Name: 42817, dtype: object\n",
      "43000 : 2017-03-26 23:25:21\n",
      "flat_chemical      CID144564107\n",
      "stereo_chemical    CID071301230\n",
      "source_name                  PC\n",
      "source_id              71301230\n",
      "Name: 43201, dtype: object\n",
      "flat_chemical      CID100002891\n",
      "stereo_chemical    CID049799999\n",
      "source_name                  PC\n",
      "source_id              71449207\n",
      "Name: 43882, dtype: object\n",
      "flat_chemical      CID100002891\n",
      "stereo_chemical    CID049799990\n",
      "source_name                  PC\n",
      "source_id              71454598\n",
      "Name: 43883, dtype: object\n",
      "flat_chemical      CID100003636\n",
      "stereo_chemical    CID071455150\n",
      "source_name                  PC\n",
      "source_id              71455150\n",
      "Name: 43884, dtype: object\n",
      "flat_chemical      CID100002891\n",
      "stereo_chemical    CID049800012\n",
      "source_name                  PC\n",
      "source_id              71461741\n",
      "Name: 43892, dtype: object\n",
      "flat_chemical      CID100005040\n",
      "stereo_chemical    CID071463321\n",
      "source_name                  PC\n",
      "source_id              71463321\n",
      "Name: 43893, dtype: object\n",
      "44000 : 2017-03-26 23:43:43\n",
      "45000 : 2017-03-27 00:02:08\n",
      "2017-03-27 00:13:07\n"
     ]
    }
   ],
   "source": [
    "# using UniChem REST API, convert pubchemID to DrugBank ID\n",
    "results = pd.DataFrame()\n",
    "  \n",
    "start = 34200\n",
    "end = 45598\n",
    "cnt = start\n",
    "url_base = 'https://www.ebi.ac.uk/unichem/rest/src_compound_id/'\n",
    "print'%d : ' % cnt + datetime.now().strftime('%Y-%m-%d %H:%M:%S')\n",
    "for index, row in df_query[start:end].iterrows():\n",
    "    record = row.tolist()\n",
    "    stitch_id_flat = record[0]\n",
    "    stitch_id_stereo = record[1]\n",
    "    pubchem_id = record[3]\n",
    "    url = url_base + str(pubchem_id) + '/22/2'\n",
    "        \n",
    "    MAX_ATTEMPTS = 8\n",
    "    for attempt in range(MAX_ATTEMPTS):\n",
    "        try:\n",
    "            f = urlopen(url)\n",
    "        except urllib2.HTTPError, e:\n",
    "            print row\n",
    "            if e.code == 404:\n",
    "                cnt = cnt + 1\n",
    "                if cnt % 1000 == 0 :\n",
    "                    print '%d : '% cnt + datetime.now().strftime('%Y-%m-%d %H:%M:%S')\n",
    "                break\n",
    "            else:\n",
    "                print 'e.code : %d, url : %s, cnt : d' % (e.code, url, cnt)\n",
    "                break\n",
    "                #raise\n",
    "        except urllib2.URLError, e:\n",
    "            if e.args[0][0] == 110: # connection time out\n",
    "                sleep_secs = attempt ** 2\n",
    "                print e , url\n",
    "                print '  cnt = %d, error time : ' % (cnt) + datetime.now().strftime('%Y-%m-%d %H:%M:%S')\n",
    "                print '    Retrying in %d seconds...' % sleep_secs\n",
    "                time.sleep(sleep_secs)\n",
    "                continue \n",
    "            else:\n",
    "                print row\n",
    "                print e\n",
    "                print '   cnt : %d, error time : ' % (cnt) + datetime.now().strftime('%Y-%m-%d %H:%M:%S')\n",
    "                cnt = cnt +1\n",
    "                break\n",
    "        else: # error가 일어나지 않을 때          \n",
    "            all_data = f.readlines()\n",
    "            if all_data[0] == '[]':\n",
    "                cnt = cnt + 1\n",
    "            else:\n",
    "                db_id=all_data[0] \n",
    "                temp_df = pd.DataFrame(data = [[stitch_id_flat, stitch_id_stereo, pubchem_id, db_id]], \n",
    "                                       columns = ['STITCH_compound_id_flat', 'STITCH_compound_id_stereo', 'PubChem_ID', 'DrugBank_ID'])  \n",
    "                results = results.append(temp_df)\n",
    "                cnt = cnt + 1\n",
    "            if cnt % 1000 == 0 :\n",
    "                print '%d : '% cnt + datetime.now().strftime('%Y-%m-%d %H:%M:%S')\n",
    "            break\n",
    "    else:#connection을 8번 시도했는데 안될 경우\n",
    "        print 'we failed to reconnect 8 times in %s' % url\n",
    "            \n",
    "print datetime.now().strftime('%Y-%m-%d %H:%M:%S')\n",
    "results.to_csv(\"/DAS_Storage1/aschoi/data/Drug_Repositioning/5_new_drug/11_1_raw_SIDER_indication_DrugBank_id_45600_45598.tsv\", sep='\\t', index=False)\n"
   ]
  },
  {
   "cell_type": "code",
   "execution_count": 78,
   "metadata": {
    "collapsed": false
   },
   "outputs": [
    {
     "data": {
      "text/html": [
       "<div>\n",
       "<table border=\"1\" class=\"dataframe\">\n",
       "  <thead>\n",
       "    <tr style=\"text-align: right;\">\n",
       "      <th></th>\n",
       "      <th>STITCH_compound_id_flat</th>\n",
       "      <th>STITCH_compound_id_stereo</th>\n",
       "      <th>PubChem_ID</th>\n",
       "      <th>DrugBank_ID</th>\n",
       "    </tr>\n",
       "  </thead>\n",
       "  <tbody>\n",
       "    <tr>\n",
       "      <th>0</th>\n",
       "      <td>CID100005672</td>\n",
       "      <td>CID021780850</td>\n",
       "      <td>21780850</td>\n",
       "      <td>[{\"src_compound_id\":\"DB00194\"}]</td>\n",
       "    </tr>\n",
       "  </tbody>\n",
       "</table>\n",
       "</div>"
      ],
      "text/plain": [
       "  STITCH_compound_id_flat STITCH_compound_id_stereo  PubChem_ID  \\\n",
       "0            CID100005672              CID021780850    21780850   \n",
       "\n",
       "                       DrugBank_ID  \n",
       "0  [{\"src_compound_id\":\"DB00194\"}]  "
      ]
     },
     "execution_count": 78,
     "metadata": {},
     "output_type": "execute_result"
    }
   ],
   "source": [
    "pd.DataFrame(data = [[stitch_id_flat, stitch_id_stereo, pubchem_id, db_id]], columns = ['STITCH_compound_id_flat', 'STITCH_compound_id_stereo', 'PubChem_ID', 'DrugBank_ID'])"
   ]
  },
  {
   "cell_type": "code",
   "execution_count": 74,
   "metadata": {
    "collapsed": false
   },
   "outputs": [
    {
     "data": {
      "text/plain": [
       "3635"
      ]
     },
     "execution_count": 74,
     "metadata": {},
     "output_type": "execute_result"
    }
   ],
   "source": [
    "features = ['STITCH_compound_id_flat', 'STITCH_compound_id_stereo', 'PubChem_ID', 'DrugBank_ID']\n",
    "resultTsv = csv.DictWriter(resultFile, features, dialect=csv.excel_tab)\n",
    "resultTsv.writeheader()\n"
   ]
  },
  {
   "cell_type": "code",
   "execution_count": null,
   "metadata": {
    "collapsed": true
   },
   "outputs": [],
   "source": []
  }
 ],
 "metadata": {
  "kernelspec": {
   "display_name": "Python 2",
   "language": "python",
   "name": "python2"
  },
  "language_info": {
   "codemirror_mode": {
    "name": "ipython",
    "version": 2
   },
   "file_extension": ".py",
   "mimetype": "text/x-python",
   "name": "python",
   "nbconvert_exporter": "python",
   "pygments_lexer": "ipython2",
   "version": "2.7.6"
  }
 },
 "nbformat": 4,
 "nbformat_minor": 2
}
