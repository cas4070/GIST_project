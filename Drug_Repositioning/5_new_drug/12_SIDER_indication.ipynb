{
 "cells": [
  {
   "cell_type": "code",
   "execution_count": 88,
   "metadata": {
    "collapsed": true
   },
   "outputs": [],
   "source": [
    "import pandas as pd\n",
    "import numpy as np\n",
    "from datetime import datetime\n",
    "import csv\n",
    "from urllib2 import urlopen # python2\n",
    "import urllib2\n",
    "import time"
   ]
  },
  {
   "cell_type": "code",
   "execution_count": 2,
   "metadata": {
    "collapsed": true
   },
   "outputs": [],
   "source": [
    "# SIDER에서 제공하는 indication 정보\n",
    "df_sider_indication_raw = pd.read_table(\"/DAS_Storage1/aschoi/data/Drug_Repositioning/5_new_drug/meddra_all_indications_header.tsv\")\n",
    "df_sider_indication_pt = df_sider_indication_raw[df_sider_indication_raw.MedDRA_concept_type == 'PT']\n",
    "df_sider_indication = df_sider_indication_pt[['STITCH_compound_id_flat', 'UMLS_concept_id_for_MedDRA','MedDRA_concept_name']].drop_duplicates()"
   ]
  },
  {
   "cell_type": "code",
   "execution_count": 28,
   "metadata": {
    "collapsed": true
   },
   "outputs": [],
   "source": [
    "# SIDER에서 제공하는 indication 정보를 DrugBank_ID와 매칭하기 위해 STITCH id가 필요함.\n",
    "df_stitch = pd.read_table(\"/DAS_Storage1/aschoi/data/COCONUT_Herbal/7_Ezyme_tool/STITCH_CID.tsv\")"
   ]
  },
  {
   "cell_type": "code",
   "execution_count": 57,
   "metadata": {
    "collapsed": false
   },
   "outputs": [
    {
     "name": "stdout",
     "output_type": "stream",
     "text": [
      "15083\n",
      "1437\n",
      "45598\n",
      "1437\n"
     ]
    }
   ],
   "source": [
    "print len(df_sider_indication) # sider의 indication 총 개수\n",
    "print len(df_sider_indication['STITCH_compound_id_flat'].drop_duplicates()) # indication 정보를 가지고 있는 compound의 개수-->1437개\n",
    "\n",
    "# stitch_pc id mapping 파일에서 sider에 indication 정보가 존재하는 stitch id를 솎아낸다.\n",
    "df_query = df_stitch[df_stitch['flat_chemical'].isin(df_sider_indication['STITCH_compound_id_flat'])] \n",
    "print len(df_query) # stitch id와 mapping되는 pc의 개수(pc는 중복 없음)\n",
    "print len(df_query.drop_duplicates('flat_chemical')) #stitch_id의 개수 "
   ]
  },
  {
   "cell_type": "code",
   "execution_count": null,
   "metadata": {
    "collapsed": true
   },
   "outputs": [],
   "source": [
    "df_query.to_csv(\"/DAS_Storage1/aschoi/data/Drug_Repositioning/5_new_drug/11_0_query_pubchemID.tsv\", sep='\\t', index=False)"
   ]
  },
  {
   "cell_type": "code",
   "execution_count": null,
   "metadata": {
    "collapsed": true
   },
   "outputs": [],
   "source": [
    "df_query = pd.read_table(\"/DAS_Storage1/aschoi/data/Drug_Repositioning/5_new_drug/11_0_query_pubchemID.tsv\")"
   ]
  },
  {
   "cell_type": "code",
   "execution_count": 77,
   "metadata": {
    "collapsed": false
   },
   "outputs": [
    {
     "name": "stdout",
     "output_type": "stream",
     "text": [
      "45598\n",
      "1437\n"
     ]
    },
    {
     "data": {
      "text/html": [
       "<div>\n",
       "<table border=\"1\" class=\"dataframe\">\n",
       "  <thead>\n",
       "    <tr style=\"text-align: right;\">\n",
       "      <th></th>\n",
       "      <th>flat_chemical</th>\n",
       "      <th>stereo_chemical</th>\n",
       "      <th>source_name</th>\n",
       "      <th>source_id</th>\n",
       "    </tr>\n",
       "  </thead>\n",
       "  <tbody>\n",
       "    <tr>\n",
       "      <th>136</th>\n",
       "      <td>CID100002735</td>\n",
       "      <td>CID010000117</td>\n",
       "      <td>PC</td>\n",
       "      <td>10000117</td>\n",
       "    </tr>\n",
       "  </tbody>\n",
       "</table>\n",
       "</div>"
      ],
      "text/plain": [
       "    flat_chemical stereo_chemical source_name  source_id\n",
       "136  CID100002735    CID010000117          PC   10000117"
      ]
     },
     "execution_count": 77,
     "metadata": {},
     "output_type": "execute_result"
    }
   ],
   "source": [
    "print len(df_query)\n",
    "print len(df_query.drop_duplicates('flat_chemical'))\n",
    "df_query.head(1)"
   ]
  },
  {
   "cell_type": "code",
   "execution_count": 87,
   "metadata": {
    "collapsed": false,
    "scrolled": true
   },
   "outputs": [
    {
     "name": "stdout",
     "output_type": "stream",
     "text": [
      "0 : 2017-03-26 20:35:44\n",
      "1000 : 2017-03-26 20:53:39\n",
      "2000 : 2017-03-26 21:11:34\n",
      "flat_chemical      CID100003780\n",
      "stereo_chemical    CID013019157\n",
      "source_name                  PC\n",
      "source_id              13019157\n",
      "Name: 2486402, dtype: object\n",
      "3000 : 2017-03-26 21:29:29\n",
      "flat_chemical      CID100002171\n",
      "stereo_chemical    CID013083120\n",
      "source_name                  PC\n",
      "source_id              13083120\n",
      "Name: 2508311, dtype: object\n",
      "flat_chemical      CID116129672\n",
      "stereo_chemical    CID016129672\n",
      "source_name                  PC\n",
      "source_id              16129672\n",
      "Name: 3460788, dtype: object\n",
      "flat_chemical      CID116129703\n",
      "stereo_chemical    CID016129703\n",
      "source_name                  PC\n",
      "source_id              16129703\n",
      "Name: 3460815, dtype: object\n",
      "flat_chemical      CID116130199\n",
      "stereo_chemical    CID016130199\n",
      "source_name                  PC\n",
      "source_id              16130199\n",
      "Name: 3461273, dtype: object\n",
      "flat_chemical      CID116132265\n",
      "stereo_chemical    CID016132265\n",
      "source_name                  PC\n",
      "source_id              16132265\n",
      "Name: 3463141, dtype: object\n",
      "flat_chemical      CID116132344\n",
      "stereo_chemical    CID016132344\n",
      "source_name                  PC\n",
      "source_id              16132344\n",
      "Name: 3463220, dtype: object\n",
      "flat_chemical      CID116132418\n",
      "stereo_chemical    CID016132418\n",
      "source_name                  PC\n",
      "source_id              16132418\n",
      "Name: 3463298, dtype: object\n",
      "flat_chemical      CID116132438\n",
      "stereo_chemical    CID016132438\n",
      "source_name                  PC\n",
      "source_id              16132438\n",
      "Name: 3463317, dtype: object\n",
      "flat_chemical      CID116132441\n",
      "stereo_chemical    CID016132441\n",
      "source_name                  PC\n",
      "source_id              16132441\n",
      "Name: 3463321, dtype: object\n",
      "flat_chemical      CID116137271\n",
      "stereo_chemical    CID016137271\n",
      "source_name                  PC\n",
      "source_id              16137271\n",
      "Name: 3467911, dtype: object\n",
      "flat_chemical      CID116137828\n",
      "stereo_chemical    CID016137828\n",
      "source_name                  PC\n",
      "source_id              16137828\n",
      "Name: 3468423, dtype: object\n",
      "flat_chemical      CID116137828\n",
      "stereo_chemical    CID016138470\n",
      "source_name                  PC\n",
      "source_id              16138470\n",
      "Name: 3469034, dtype: object\n",
      "flat_chemical      CID116139342\n",
      "stereo_chemical    CID016139342\n",
      "source_name                  PC\n",
      "source_id              16139342\n",
      "Name: 3469868, dtype: object\n",
      "flat_chemical      CID116132344\n",
      "stereo_chemical    CID016143047\n",
      "source_name                  PC\n",
      "source_id              16143047\n",
      "Name: 3473323, dtype: object\n",
      "flat_chemical      CID116130199\n",
      "stereo_chemical    CID016157631\n",
      "source_name                  PC\n",
      "source_id              16157631\n",
      "Name: 3487269, dtype: object\n",
      "4000 : 2017-03-26 21:47:29\n",
      "5000 : 2017-03-26 22:05:23\n",
      "6000 : 2017-03-26 22:23:17\n",
      "7000 : 2017-03-26 22:41:22\n",
      "8000 : 2017-03-26 23:00:09\n",
      "9000 : 2017-03-26 23:18:29\n",
      "10000 : 2017-03-26 23:36:50\n",
      "11000 : 2017-03-26 23:55:06\n",
      "2017-03-27 00:02:24\n"
     ]
    }
   ],
   "source": [
    "# using UniChem REST API, convert pubchemID to DrugBank ID\n",
    "results = pd.DataFrame()\n",
    "  \n",
    "start = 0\n",
    "end = 11400\n",
    "cnt = start\n",
    "url_base = 'https://www.ebi.ac.uk/unichem/rest/src_compound_id/'\n",
    "print'%d : ' % cnt + datetime.now().strftime('%Y-%m-%d %H:%M:%S')\n",
    "for index, row in df_query[start:end].iterrows():\n",
    "    record = row.tolist()\n",
    "    stitch_id_flat = record[0]\n",
    "    stitch_id_stereo = record[1]\n",
    "    pubchem_id = record[3]\n",
    "    url = url_base + str(pubchem_id) + '/22/2'\n",
    "        \n",
    "    MAX_ATTEMPTS = 8\n",
    "    for attempt in range(MAX_ATTEMPTS):\n",
    "        try:\n",
    "            f = urlopen(url)\n",
    "        except urllib2.HTTPError, e:\n",
    "            print row\n",
    "            if e.code == 404:\n",
    "                cnt = cnt + 1\n",
    "                if cnt % 1000 == 0 :\n",
    "                    print '%d : '% cnt + datetime.now().strftime('%Y-%m-%d %H:%M:%S')\n",
    "                break\n",
    "            else:\n",
    "                print 'e.code : %d, url : %s, cnt : d' % (e.code, url, cnt)\n",
    "                break\n",
    "                #raise\n",
    "        except urllib2.URLError, e:\n",
    "            if e.args[0][0] == 110: # connection time out\n",
    "                sleep_secs = attempt ** 2\n",
    "                print e , url\n",
    "                print '  cnt = %d, error time : ' % (cnt) + datetime.now().strftime('%Y-%m-%d %H:%M:%S')\n",
    "                print '    Retrying in %d seconds...' % sleep_secs\n",
    "                time.sleep(sleep_secs)\n",
    "                continue \n",
    "            else:\n",
    "                print row\n",
    "                print e\n",
    "                print '   cnt : %d, error time : ' % (cnt) + datetime.now().strftime('%Y-%m-%d %H:%M:%S')\n",
    "                cnt = cnt +1\n",
    "                break\n",
    "        else: # error가 일어나지 않을 때          \n",
    "            all_data = f.readlines()\n",
    "            if all_data[0] == '[]':\n",
    "                cnt = cnt + 1\n",
    "            else:\n",
    "                db_id=all_data[0] \n",
    "                temp_df = pd.DataFrame(data = [[stitch_id_flat, stitch_id_stereo, pubchem_id, db_id]], \n",
    "                                       columns = ['STITCH_compound_id_flat', 'STITCH_compound_id_stereo', 'PubChem_ID', 'DrugBank_ID'])  \n",
    "                results = results.append(temp_df)\n",
    "                cnt = cnt + 1\n",
    "            if cnt % 1000 == 0 :\n",
    "                print '%d : '% cnt + datetime.now().strftime('%Y-%m-%d %H:%M:%S')\n",
    "            break\n",
    "    else:#connection을 8번 시도했는데 안될 경우\n",
    "        print 'we failed to reconnect 8 times in %s' % url\n",
    "            \n",
    "print datetime.now().strftime('%Y-%m-%d %H:%M:%S')\n",
    "results.to_csv(\"/DAS_Storage1/aschoi/data/Drug_Repositioning/5_new_drug/11_1_raw_SIDER_indication_DrugBank_id_0_11399.tsv\", sep='\\t', index=False)\n"
   ]
  },
  {
   "cell_type": "code",
   "execution_count": 90,
   "metadata": {
    "collapsed": true
   },
   "outputs": [],
   "source": [
    "results2 = pd.read_table(\"/DAS_Storage1/aschoi/data/Drug_Repositioning/5_new_drug/11_1_raw_SIDER_indication_DrugBank_id_11400_22799.tsv\")\n",
    "results3 = pd.read_table(\"/DAS_Storage1/aschoi/data/Drug_Repositioning/5_new_drug/11_1_raw_SIDER_indication_DrugBank_id_22800_34199.tsv\")\n",
    "results4 = pd.read_table(\"/DAS_Storage1/aschoi/data/Drug_Repositioning/5_new_drug/11_1_raw_SIDER_indication_DrugBank_id_45600_45598.tsv\")"
   ]
  },
  {
   "cell_type": "code",
   "execution_count": 91,
   "metadata": {
    "collapsed": true
   },
   "outputs": [],
   "source": [
    "frames = [results, results2, results3, results4]\n",
    "concatenated = pd.concat(frames)"
   ]
  },
  {
   "cell_type": "code",
   "execution_count": 93,
   "metadata": {
    "collapsed": false
   },
   "outputs": [
    {
     "name": "stdout",
     "output_type": "stream",
     "text": [
      "1293\n",
      "1293\n"
     ]
    }
   ],
   "source": [
    "print len(concatenated)\n",
    "print len(concatenated.drop_duplicates())"
   ]
  },
  {
   "cell_type": "code",
   "execution_count": 94,
   "metadata": {
    "collapsed": true
   },
   "outputs": [],
   "source": [
    "# SIDER에서 제공하는 indication 정보를 가지고 있는 DrugBank ID(raw 파일)\n",
    "concatenated.to_csv(\"/DAS_Storage1/aschoi/data/Drug_Repositioning/5_new_drug/independent_data2/11_1_raw_SIDER_indication_DrugBank_id_all.tsv\", sep='\\t', index=False)\n",
    "concatenated.to_csv(\"/home/share/aschoi/nas/users/asolchoi/data/Drug_Repositioning/5_new_drug/independent_data2/11_1_raw_SIDER_indication_DrugBank_id_all.tsv\", sep='\\t', index=False)"
   ]
  },
  {
   "cell_type": "code",
   "execution_count": 96,
   "metadata": {
    "collapsed": false
   },
   "outputs": [
    {
     "data": {
      "text/html": [
       "<div>\n",
       "<table border=\"1\" class=\"dataframe\">\n",
       "  <thead>\n",
       "    <tr style=\"text-align: right;\">\n",
       "      <th></th>\n",
       "      <th>STITCH_compound_id_flat</th>\n",
       "      <th>STITCH_compound_id_stereo</th>\n",
       "      <th>PubChem_ID</th>\n",
       "      <th>DrugBank_ID</th>\n",
       "    </tr>\n",
       "  </thead>\n",
       "  <tbody>\n",
       "    <tr>\n",
       "      <th>0</th>\n",
       "      <td>CID100001003</td>\n",
       "      <td>CID000001003</td>\n",
       "      <td>1003</td>\n",
       "      <td>[{\"src_compound_id\":\"DB02831\"}]</td>\n",
       "    </tr>\n",
       "    <tr>\n",
       "      <th>0</th>\n",
       "      <td>CID110028615</td>\n",
       "      <td>CID010077129</td>\n",
       "      <td>10077130</td>\n",
       "      <td>[{\"src_compound_id\":\"DB09030\"}]</td>\n",
       "    </tr>\n",
       "  </tbody>\n",
       "</table>\n",
       "</div>"
      ],
      "text/plain": [
       "  STITCH_compound_id_flat STITCH_compound_id_stereo  PubChem_ID  \\\n",
       "0            CID100001003              CID000001003        1003   \n",
       "0            CID110028615              CID010077129    10077130   \n",
       "\n",
       "                       DrugBank_ID  \n",
       "0  [{\"src_compound_id\":\"DB02831\"}]  \n",
       "0  [{\"src_compound_id\":\"DB09030\"}]  "
      ]
     },
     "execution_count": 96,
     "metadata": {},
     "output_type": "execute_result"
    }
   ],
   "source": [
    "concatenated.head(2)"
   ]
  },
  {
   "cell_type": "code",
   "execution_count": 97,
   "metadata": {
    "collapsed": false
   },
   "outputs": [],
   "source": [
    "tidy = pd.DataFrame()\n",
    "for index, row in concatenated.iterrows():\n",
    "    record = row.tolist()\n",
    "    db_ids = record[3].split(',')\n",
    "    for i in db_ids:\n",
    "        db_id = i.split(':')[1].lstrip('\\\"').rstrip('\\\"}]')\n",
    "        temp_df = pd.DataFrame([[record[0], record[1], record[2], db_id]], columns = ['STITCH_compound_id_flat',\n",
    "                                                                                      'STITCH_compound_id_stereo', \n",
    "                                                                                      'PubChem_ID', 'DrugBank_ID'])\n",
    "        tidy = tidy.append(temp_df)\n",
    "tidy.index = range(0, len(tidy))"
   ]
  },
  {
   "cell_type": "code",
   "execution_count": 100,
   "metadata": {
    "collapsed": false
   },
   "outputs": [
    {
     "name": "stdout",
     "output_type": "stream",
     "text": [
      "1318\n"
     ]
    },
    {
     "data": {
      "text/html": [
       "<div>\n",
       "<table border=\"1\" class=\"dataframe\">\n",
       "  <thead>\n",
       "    <tr style=\"text-align: right;\">\n",
       "      <th></th>\n",
       "      <th>STITCH_compound_id_flat</th>\n",
       "      <th>STITCH_compound_id_stereo</th>\n",
       "      <th>PubChem_ID</th>\n",
       "      <th>DrugBank_ID</th>\n",
       "    </tr>\n",
       "  </thead>\n",
       "  <tbody>\n",
       "    <tr>\n",
       "      <th>0</th>\n",
       "      <td>CID100001003</td>\n",
       "      <td>CID000001003</td>\n",
       "      <td>1003</td>\n",
       "      <td>DB02831</td>\n",
       "    </tr>\n",
       "    <tr>\n",
       "      <th>1</th>\n",
       "      <td>CID110028615</td>\n",
       "      <td>CID010077129</td>\n",
       "      <td>10077130</td>\n",
       "      <td>DB09030</td>\n",
       "    </tr>\n",
       "  </tbody>\n",
       "</table>\n",
       "</div>"
      ],
      "text/plain": [
       "  STITCH_compound_id_flat STITCH_compound_id_stereo  PubChem_ID DrugBank_ID\n",
       "0            CID100001003              CID000001003        1003     DB02831\n",
       "1            CID110028615              CID010077129    10077130     DB09030"
      ]
     },
     "execution_count": 100,
     "metadata": {},
     "output_type": "execute_result"
    }
   ],
   "source": [
    "print len(tidy)\n",
    "tidy.head(2)"
   ]
  },
  {
   "cell_type": "code",
   "execution_count": 101,
   "metadata": {
    "collapsed": true
   },
   "outputs": [],
   "source": [
    "# SIDER에서 제공하는 indication 정보를 가지고 있는 DrugBank ID(raw 파일)\n",
    "tidy.to_csv(\"/home/share/aschoi/nas/users/asolchoi/data/Drug_Repositioning/5_new_drug/independent_data2/11_2_SIDER_indication_DrugBank_id_tidy.tsv\", sep='\\t', index=False)\n",
    "tidy.to_csv(\"/DAS_Storage1/aschoi/data/Drug_Repositioning/5_new_drug/independent_data2/11_2_SIDER_indication_DrugBank_id_tidy.tsv\", sep='\\t', index=False)"
   ]
  },
  {
   "cell_type": "code",
   "execution_count": 151,
   "metadata": {
    "collapsed": false
   },
   "outputs": [
    {
     "name": "stdout",
     "output_type": "stream",
     "text": [
      "1318\n",
      "1216\n"
     ]
    },
    {
     "data": {
      "text/html": [
       "<div>\n",
       "<table border=\"1\" class=\"dataframe\">\n",
       "  <thead>\n",
       "    <tr style=\"text-align: right;\">\n",
       "      <th></th>\n",
       "      <th>STITCH_compound_id_flat</th>\n",
       "      <th>STITCH_compound_id_stereo</th>\n",
       "      <th>DrugBank_ID</th>\n",
       "    </tr>\n",
       "  </thead>\n",
       "  <tbody>\n",
       "    <tr>\n",
       "      <th>0</th>\n",
       "      <td>CID100001003</td>\n",
       "      <td>CID000001003</td>\n",
       "      <td>DB02831</td>\n",
       "    </tr>\n",
       "  </tbody>\n",
       "</table>\n",
       "</div>"
      ],
      "text/plain": [
       "  STITCH_compound_id_flat STITCH_compound_id_stereo DrugBank_ID\n",
       "0            CID100001003              CID000001003     DB02831"
      ]
     },
     "execution_count": 151,
     "metadata": {},
     "output_type": "execute_result"
    }
   ],
   "source": [
    "# PubChem ID 빼고 중복제거 한것.\n",
    "except_pc = tidy[['STITCH_compound_id_flat','STITCH_compound_id_stereo', 'DrugBank_ID']].drop_duplicates()\n",
    "print len(tidy)\n",
    "print len(except_pc)\n",
    "except_pc.head(1)"
   ]
  },
  {
   "cell_type": "code",
   "execution_count": 199,
   "metadata": {
    "collapsed": false
   },
   "outputs": [
    {
     "name": "stdout",
     "output_type": "stream",
     "text": [
      "13979\n",
      "13704\n",
      "13704\n"
     ]
    },
    {
     "data": {
      "text/html": [
       "<div>\n",
       "<table border=\"1\" class=\"dataframe\">\n",
       "  <thead>\n",
       "    <tr style=\"text-align: right;\">\n",
       "      <th></th>\n",
       "      <th>DrugBank_ID</th>\n",
       "      <th>UMLS_concept_id_for_MedDRA</th>\n",
       "      <th>MedDRA_concept_name</th>\n",
       "    </tr>\n",
       "  </thead>\n",
       "  <tbody>\n",
       "    <tr>\n",
       "      <th>0</th>\n",
       "      <td>DB02831</td>\n",
       "      <td>C0085682</td>\n",
       "      <td>Hypophosphataemia</td>\n",
       "    </tr>\n",
       "    <tr>\n",
       "      <th>2</th>\n",
       "      <td>DB09030</td>\n",
       "      <td>C0003850</td>\n",
       "      <td>Arteriosclerosis</td>\n",
       "    </tr>\n",
       "    <tr>\n",
       "      <th>3</th>\n",
       "      <td>DB09030</td>\n",
       "      <td>C0027051</td>\n",
       "      <td>Myocardial infarction</td>\n",
       "    </tr>\n",
       "    <tr>\n",
       "      <th>4</th>\n",
       "      <td>DB09030</td>\n",
       "      <td>C0948089</td>\n",
       "      <td>Acute coronary syndrome</td>\n",
       "    </tr>\n",
       "    <tr>\n",
       "      <th>5</th>\n",
       "      <td>DB09030</td>\n",
       "      <td>C0038454</td>\n",
       "      <td>Cerebrovascular accident</td>\n",
       "    </tr>\n",
       "  </tbody>\n",
       "</table>\n",
       "</div>"
      ],
      "text/plain": [
       "  DrugBank_ID UMLS_concept_id_for_MedDRA       MedDRA_concept_name\n",
       "0     DB02831                   C0085682         Hypophosphataemia\n",
       "2     DB09030                   C0003850          Arteriosclerosis\n",
       "3     DB09030                   C0027051     Myocardial infarction\n",
       "4     DB09030                   C0948089   Acute coronary syndrome\n",
       "5     DB09030                   C0038454  Cerebrovascular accident"
      ]
     },
     "execution_count": 199,
     "metadata": {},
     "output_type": "execute_result"
    }
   ],
   "source": [
    "ind_umls_db = pd.merge(right = df_sider_indication, left =except_pc, right_on = 'STITCH_compound_id_flat', left_on='STITCH_compound_id_flat')\n",
    "ind_umls_db2 = ind_umls_db[['DrugBank_ID', 'UMLS_concept_id_for_MedDRA']].drop_duplicates()\n",
    "ind_umls_db3 = ind_umls_db[['DrugBank_ID', 'UMLS_concept_id_for_MedDRA', 'MedDRA_concept_name']].drop_duplicates()\n",
    "print len(ind_umls_db)\n",
    "print len(ind_umls_db2)\n",
    "print len(ind_umls_db3)\n",
    "ind_umls_db3.head()"
   ]
  },
  {
   "cell_type": "code",
   "execution_count": 201,
   "metadata": {
    "collapsed": false
   },
   "outputs": [],
   "source": [
    "ind_umls_db.to_csv(\"/DAS_Storage1/aschoi/data/Drug_Repositioning/5_new_drug/sider_indication/2_DrugBank_id_SIDER_id_indication.tsv\", sep='\\t', index=False)\n",
    "ind_umls_db.to_csv(\"/home/share/aschoi/nas/users/asolchoi/data/Drug_Repositioning/5_new_drug/sider_indication/2_DrugBank_id_SIDER_id_indication.tsv\", sep='\\t', index=False)"
   ]
  },
  {
   "cell_type": "code",
   "execution_count": 202,
   "metadata": {
    "collapsed": true
   },
   "outputs": [],
   "source": [
    "ind_umls_db3.to_csv(\"/DAS_Storage1/aschoi/data/Drug_Repositioning/5_new_drug/sider_indication/2_2_DrugBank_id_SIDER_indication.tsv\", sep='\\t', index=False)\n",
    "ind_umls_db3.to_csv(\"/home/share/aschoi/nas/users/asolchoi/data/Drug_Repositioning/5_new_drug/sider_indication/2_2_DrugBank_id_SIDER_indication.tsv\", sep='\\t', index=False)"
   ]
  },
  {
   "cell_type": "code",
   "execution_count": 224,
   "metadata": {
    "collapsed": false
   },
   "outputs": [
    {
     "name": "stdout",
     "output_type": "stream",
     "text": [
      "1362\n"
     ]
    },
    {
     "data": {
      "text/html": [
       "<div>\n",
       "<table border=\"1\" class=\"dataframe\">\n",
       "  <thead>\n",
       "    <tr style=\"text-align: right;\">\n",
       "      <th></th>\n",
       "      <th>DrugBank_ID</th>\n",
       "      <th>OMIM_ID</th>\n",
       "    </tr>\n",
       "  </thead>\n",
       "  <tbody>\n",
       "    <tr>\n",
       "      <th>0</th>\n",
       "      <td>DB00659</td>\n",
       "      <td>103780</td>\n",
       "    </tr>\n",
       "  </tbody>\n",
       "</table>\n",
       "</div>"
      ],
      "text/plain": [
       "  DrugBank_ID  OMIM_ID\n",
       "0     DB00659   103780"
      ]
     },
     "execution_count": 224,
     "metadata": {},
     "output_type": "execute_result"
    }
   ],
   "source": [
    "# gold association이 아닌 약의 indication 정보를 추출한다!\n",
    "gold = pd.read_table(\"/DAS_Storage1/aschoi/data/Drug_Repositioning/7_new_association/PREDICT_data/2_gold_asso.tsv\")\n",
    "print len(gold)\n",
    "gold.head(1)"
   ]
  },
  {
   "cell_type": "code",
   "execution_count": 206,
   "metadata": {
    "collapsed": false
   },
   "outputs": [
    {
     "name": "stdout",
     "output_type": "stream",
     "text": [
      "608\n"
     ]
    },
    {
     "data": {
      "text/html": [
       "<div>\n",
       "<table border=\"1\" class=\"dataframe\">\n",
       "  <thead>\n",
       "    <tr style=\"text-align: right;\">\n",
       "      <th></th>\n",
       "      <th>OMIM_ID</th>\n",
       "      <th>OMIM_disease_name</th>\n",
       "      <th>UMLS_concept_ID</th>\n",
       "      <th>UMLS_concept_name</th>\n",
       "    </tr>\n",
       "  </thead>\n",
       "  <tbody>\n",
       "    <tr>\n",
       "      <th>0</th>\n",
       "      <td>102100</td>\n",
       "      <td>Acromegaloid Changes, Cutis Verticis Gyrata, A...</td>\n",
       "      <td>C1868756</td>\n",
       "      <td>Corneal leukoma</td>\n",
       "    </tr>\n",
       "  </tbody>\n",
       "</table>\n",
       "</div>"
      ],
      "text/plain": [
       "   OMIM_ID                                  OMIM_disease_name UMLS_concept_ID  \\\n",
       "0   102100  Acromegaloid Changes, Cutis Verticis Gyrata, A...        C1868756   \n",
       "\n",
       "  UMLS_concept_name  \n",
       "0   Corneal leukoma  "
      ]
     },
     "execution_count": 206,
     "metadata": {},
     "output_type": "execute_result"
    }
   ],
   "source": [
    "omim_umls = pd.read_table(\"/DAS_Storage1/aschoi/data/Drug_Repositioning/6_new_disease/1_omim_umls_mapping_association.tsv\")\n",
    "print len(omim_umls)\n",
    "omim_umls.head(1)"
   ]
  },
  {
   "cell_type": "code",
   "execution_count": 210,
   "metadata": {
    "collapsed": false
   },
   "outputs": [
    {
     "name": "stdout",
     "output_type": "stream",
     "text": [
      "3478\n"
     ]
    },
    {
     "data": {
      "text/html": [
       "<div>\n",
       "<table border=\"1\" class=\"dataframe\">\n",
       "  <thead>\n",
       "    <tr style=\"text-align: right;\">\n",
       "      <th></th>\n",
       "      <th>OMIM_ID</th>\n",
       "      <th>OMIM_disease_name</th>\n",
       "      <th>UMLS_concept_ID</th>\n",
       "      <th>UMLS_concept_name</th>\n",
       "      <th>DrugBank_ID</th>\n",
       "    </tr>\n",
       "  </thead>\n",
       "  <tbody>\n",
       "    <tr>\n",
       "      <th>0</th>\n",
       "      <td>102300</td>\n",
       "      <td>Restless Legs Syndrome, Susceptibility To, 1; ...</td>\n",
       "      <td>C0035258</td>\n",
       "      <td>Restless Legs Syndrome</td>\n",
       "      <td>DB00564</td>\n",
       "    </tr>\n",
       "    <tr>\n",
       "      <th>1</th>\n",
       "      <td>102300</td>\n",
       "      <td>Restless Legs Syndrome, Susceptibility To, 1; ...</td>\n",
       "      <td>C0035258</td>\n",
       "      <td>Restless Legs Syndrome</td>\n",
       "      <td>DB00190</td>\n",
       "    </tr>\n",
       "  </tbody>\n",
       "</table>\n",
       "</div>"
      ],
      "text/plain": [
       "   OMIM_ID                                  OMIM_disease_name UMLS_concept_ID  \\\n",
       "0   102300  Restless Legs Syndrome, Susceptibility To, 1; ...        C0035258   \n",
       "1   102300  Restless Legs Syndrome, Susceptibility To, 1; ...        C0035258   \n",
       "\n",
       "        UMLS_concept_name DrugBank_ID  \n",
       "0  Restless Legs Syndrome     DB00564  \n",
       "1  Restless Legs Syndrome     DB00190  "
      ]
     },
     "execution_count": 210,
     "metadata": {},
     "output_type": "execute_result"
    }
   ],
   "source": [
    "gold_asso_umls = pd.merge(right = gold, left = omim_umls) # gold asso의 disease(omim id)를 umls id로 mapping\n",
    "print len(gold_asso_umls)\n",
    "gold_asso_umls.head(2)"
   ]
  },
  {
   "cell_type": "code",
   "execution_count": 211,
   "metadata": {
    "collapsed": false
   },
   "outputs": [
    {
     "name": "stdout",
     "output_type": "stream",
     "text": [
      "3478\n",
      "3347\n",
      "446\n",
      "235\n",
      "376\n"
     ]
    }
   ],
   "source": [
    "temp = gold_asso_umls[['DrugBank_ID', 'OMIM_ID', 'UMLS_concept_ID']] # gold association을 drugbank_id , omim_id, umls id로 동시에 표현한것.\n",
    "print len(temp)\n",
    "print len(temp.drop_duplicates())\n",
    "print len(temp.drop_duplicates('DrugBank_ID'))\n",
    "print len(temp.drop_duplicates('OMIM_ID'))\n",
    "print len(temp.drop_duplicates('UMLS_concept_ID')) #--> 수가 위보다 크다는건, omim id 한개당 여러개의 umls id가 matching되는 경우도 있다는 뜻."
   ]
  },
  {
   "cell_type": "code",
   "execution_count": 212,
   "metadata": {
    "collapsed": false
   },
   "outputs": [
    {
     "name": "stdout",
     "output_type": "stream",
     "text": [
      "376\n",
      "446\n"
     ]
    }
   ],
   "source": [
    "gold_umls = temp['UMLS_concept_ID'].drop_duplicates() #gold disease를 umls로 표현했을 때\n",
    "gold_drug = temp['DrugBank_ID'].drop_duplicates()\n",
    "print len(gold_umls)\n",
    "print len(gold_drug)"
   ]
  },
  {
   "cell_type": "code",
   "execution_count": 213,
   "metadata": {
    "collapsed": false
   },
   "outputs": [
    {
     "name": "stdout",
     "output_type": "stream",
     "text": [
      "6693\n",
      "431\n",
      "5330\n",
      "1346\n",
      "412\n"
     ]
    }
   ],
   "source": [
    "gold_drug_indications = ind_umls_db3[ind_umls_db3['DrugBank_ID'].isin(gold_drug)] # SIDER의 indication 정보를 가지고 있는 gold drug\n",
    "print len(gold_drug_indications)\n",
    "print len(gold_drug_indications.drop_duplicates('DrugBank_ID')) # 446개중 431개가 SIDER에서 indication 정보를 주고 있음.\n",
    "feature_indi = gold_drug_indications[~gold_drug_indications['UMLS_concept_id_for_MedDRA'].isin(gold_umls)] # 그중 association 정보가 아닌 애들\n",
    "print len(feature_indi)\n",
    "print len(feature_indi.drop_duplicates('UMLS_concept_id_for_MedDRA'))# indication 종류\n",
    "print len(feature_indi.drop_duplicates('DrugBank_ID')) # feature로 쓰일 수 있는 indication 정보를 가진 drug 의 수"
   ]
  },
  {
   "cell_type": "code",
   "execution_count": 215,
   "metadata": {
    "collapsed": false
   },
   "outputs": [],
   "source": [
    "feature_indi.to_csv(\"/home/share/aschoi/nas/users/asolchoi/data/Drug_Repositioning/5_new_drug/sider_indication/3_gold_indication_except_asso.tsv\", sep='\\t', index=False)\n",
    "feature_indi.to_csv(\"/DAS_Storage1/aschoi/data/Drug_Repositioning/5_new_drug/sider_indication/3_gold_indication_except_asso.tsv\", sep='\\t', index=False)"
   ]
  },
  {
   "cell_type": "code",
   "execution_count": 233,
   "metadata": {
    "collapsed": false
   },
   "outputs": [
    {
     "name": "stdout",
     "output_type": "stream",
     "text": [
      "1296\n",
      "412\n",
      "234\n"
     ]
    }
   ],
   "source": [
    "# indication을 feature로 쓸 수 있는 drug-disease association\n",
    "indi_drug = feature_indi['DrugBank_ID'].drop_duplicates()\n",
    "a = gold[gold['DrugBank_ID'].isin(indi_drug)]\n",
    "print len(a)\n",
    "print len(a.drop_duplicates('DrugBank_ID'))\n",
    "print len(a.drop_duplicates('OMIM_ID'))"
   ]
  },
  {
   "cell_type": "code",
   "execution_count": 241,
   "metadata": {
    "collapsed": false,
    "scrolled": true
   },
   "outputs": [],
   "source": [
    "a.to_csv(\"/DAS_Storage1/aschoi/data/Drug_Repositioning/5_new_drug/sider_indication/3_2_gold_asso_indi_ver.tsv\", sep='\\t', index=False)\n",
    "a.to_csv(\"/home/share/aschoi/nas/users/asolchoi/data/Drug_Repositioning/5_new_drug/sider_indication/3_2_gold_asso_indi_ver.tsv\", sep='\\t', index=False)"
   ]
  },
  {
   "cell_type": "code",
   "execution_count": 247,
   "metadata": {
    "collapsed": false
   },
   "outputs": [
    {
     "name": "stdout",
     "output_type": "stream",
     "text": [
      "1253\n",
      "390\n",
      "232\n"
     ]
    }
   ],
   "source": [
    "#indep의 indication에 맞춘것\n",
    "feature_indi3 = feature_indi[feature_indi['UMLS_concept_id_for_MedDRA'].isin(feature_indi2['UMLS_concept_id_for_MedDRA'])]\n",
    "indi_drug2 = feature_indi3['DrugBank_ID'].drop_duplicates()\n",
    "aa = gold[gold['DrugBank_ID'].isin(indi_drug2)]\n",
    "print len(aa)\n",
    "print len(aa.drop_duplicates('DrugBank_ID'))\n",
    "print len(aa.drop_duplicates('OMIM_ID'))"
   ]
  },
  {
   "cell_type": "code",
   "execution_count": null,
   "metadata": {
    "collapsed": true
   },
   "outputs": [],
   "source": [
    "feature_indi2.drop_duplicates('UMLS_concept_id_for_MedDRA')"
   ]
  },
  {
   "cell_type": "code",
   "execution_count": 248,
   "metadata": {
    "collapsed": true
   },
   "outputs": [],
   "source": [
    "feature_indi3.to_csv(\"/home/share/aschoi/nas/users/asolchoi/data/Drug_Repositioning/5_new_drug/sider_indication/3_3_gold_indication_indep_ver.tsv\", sep='\\t', index=False)\n",
    "feature_indi3.to_csv(\"/DAS_Storage1/aschoi/data/Drug_Repositioning/5_new_drug/sider_indication/3_3_gold_indication_indep_ver.tsv\", sep='\\t', index=False)\n",
    "aa.to_csv(\"/DAS_Storage1/aschoi/data/Drug_Repositioning/5_new_drug/sider_indication/3_4_gold_asso_indi_ver_indep_ver.tsv\", sep='\\t', index=False)\n",
    "aa.to_csv(\"/home/share/aschoi/nas/users/asolchoi/data/Drug_Repositioning/5_new_drug/sider_indication/3_4_gold_asso_indi_ver_indep_ver.tsv\", sep='\\t', index=False)"
   ]
  },
  {
   "cell_type": "code",
   "execution_count": null,
   "metadata": {
    "collapsed": true
   },
   "outputs": [],
   "source": [
    "# gold drug의 se와 indication이 얼마나 겹치는지 보자!"
   ]
  },
  {
   "cell_type": "code",
   "execution_count": 216,
   "metadata": {
    "collapsed": false
   },
   "outputs": [
    {
     "data": {
      "text/html": [
       "<div>\n",
       "<table border=\"1\" class=\"dataframe\">\n",
       "  <thead>\n",
       "    <tr style=\"text-align: right;\">\n",
       "      <th></th>\n",
       "      <th>DrugBank_ID</th>\n",
       "      <th>umls_id</th>\n",
       "      <th>event</th>\n",
       "    </tr>\n",
       "  </thead>\n",
       "  <tbody>\n",
       "    <tr>\n",
       "      <th>0</th>\n",
       "      <td>DB00215</td>\n",
       "      <td>C0000737</td>\n",
       "      <td>Abdominal pain</td>\n",
       "    </tr>\n",
       "    <tr>\n",
       "      <th>1</th>\n",
       "      <td>DB00215</td>\n",
       "      <td>C0000786</td>\n",
       "      <td>Abortion spontaneous</td>\n",
       "    </tr>\n",
       "    <tr>\n",
       "      <th>2</th>\n",
       "      <td>DB00215</td>\n",
       "      <td>C0001824</td>\n",
       "      <td>Agranulocytosis</td>\n",
       "    </tr>\n",
       "    <tr>\n",
       "      <th>3</th>\n",
       "      <td>DB00215</td>\n",
       "      <td>C0002170</td>\n",
       "      <td>Alopecia</td>\n",
       "    </tr>\n",
       "    <tr>\n",
       "      <th>4</th>\n",
       "      <td>DB00215</td>\n",
       "      <td>C0002453</td>\n",
       "      <td>Amenorrhoea</td>\n",
       "    </tr>\n",
       "  </tbody>\n",
       "</table>\n",
       "</div>"
      ],
      "text/plain": [
       "  DrugBank_ID   umls_id                 event\n",
       "0     DB00215  C0000737        Abdominal pain\n",
       "1     DB00215  C0000786  Abortion spontaneous\n",
       "2     DB00215  C0001824       Agranulocytosis\n",
       "3     DB00215  C0002170              Alopecia\n",
       "4     DB00215  C0002453           Amenorrhoea"
      ]
     },
     "execution_count": 216,
     "metadata": {},
     "output_type": "execute_result"
    }
   ],
   "source": [
    "df_gold_se = pd.read_table(\"/DAS_Storage1/aschoi/data/Drug_Repositioning/5_new_drug/PREDICT_data/4_gold_se_by_indep.tsv\")\n",
    "df_gold_se.head()"
   ]
  },
  {
   "cell_type": "code",
   "execution_count": 176,
   "metadata": {
    "collapsed": false
   },
   "outputs": [
    {
     "name": "stdout",
     "output_type": "stream",
     "text": [
      "665\n",
      "665\n"
     ]
    }
   ],
   "source": [
    "gold_se = df_gold_se['umls_id'].drop_duplicates()\n",
    "print len(feature_indi[feature_indi['UMLS_concept_id_for_MedDRA'].isin(gold_se)].drop_duplicates('UMLS_concept_id_for_MedDRA'))\n",
    "print len(gold_se[gold_se.isin(feature_indi['UMLS_concept_id_for_MedDRA'])])"
   ]
  },
  {
   "cell_type": "code",
   "execution_count": null,
   "metadata": {
    "collapsed": true
   },
   "outputs": [],
   "source": [
    "#현재 665개가 겹친다. 어떤 drug는 특정 umls를 side effect로, 다른 drug는 umls를 indication으로 고려한다는 뜻."
   ]
  },
  {
   "cell_type": "code",
   "execution_count": null,
   "metadata": {
    "collapsed": true
   },
   "outputs": [],
   "source": [
    "#independent의 sider"
   ]
  },
  {
   "cell_type": "code",
   "execution_count": 218,
   "metadata": {
    "collapsed": false
   },
   "outputs": [],
   "source": [
    "df_indep_se = pd.read_table(\"/DAS_Storage1/aschoi/data/Drug_Repositioning/5_new_drug/PREDICT_data/3_indep_drug_se.tsv\")"
   ]
  },
  {
   "cell_type": "code",
   "execution_count": 220,
   "metadata": {
    "collapsed": false
   },
   "outputs": [
    {
     "data": {
      "text/plain": [
       "73"
      ]
     },
     "execution_count": 220,
     "metadata": {},
     "output_type": "execute_result"
    }
   ],
   "source": [
    "len(df_indep_se.drop_duplicates('DrugBank_ID'))"
   ]
  },
  {
   "cell_type": "code",
   "execution_count": 221,
   "metadata": {
    "collapsed": true
   },
   "outputs": [],
   "source": [
    "indep_drug = df_indep_se['DrugBank_ID'].drop_duplicates()\n",
    "indep_drug_indications = ind_umls_db3[ind_umls_db3['DrugBank_ID'].isin(indep_drug)] "
   ]
  },
  {
   "cell_type": "code",
   "execution_count": 223,
   "metadata": {
    "collapsed": false
   },
   "outputs": [
    {
     "name": "stdout",
     "output_type": "stream",
     "text": [
      "1349\n",
      "69\n",
      "1095\n",
      "557\n",
      "68\n"
     ]
    }
   ],
   "source": [
    "print len(indep_drug_indications)\n",
    "print len(indep_drug_indications.drop_duplicates('DrugBank_ID')) # 73개중 69가 SIDER에서 indication 정보를 주고 있음.\n",
    "feature_indi2 = indep_drug_indications[~indep_drug_indications['UMLS_concept_id_for_MedDRA'].isin(gold_umls)] # 그중 association 정보가 아닌 애들\n",
    "print len(feature_indi2)\n",
    "print len(feature_indi2.drop_duplicates('UMLS_concept_id_for_MedDRA'))# indication 종류\n",
    "print len(feature_indi2.drop_duplicates('DrugBank_ID')) # feature로 쓰일 수 있는 indication 정보를 가진 drug 의 수"
   ]
  },
  {
   "cell_type": "code",
   "execution_count": 231,
   "metadata": {
    "collapsed": false
   },
   "outputs": [
    {
     "name": "stdout",
     "output_type": "stream",
     "text": [
      "88\n",
      "68\n",
      "35\n"
     ]
    }
   ],
   "source": [
    "indep = pd.read_table(\"/DAS_Storage1/aschoi/data/Drug_Repositioning/7_new_association/PREDICT_data/3_indep_asso.tsv\")\n",
    "indi_drug2 = feature_indi2['DrugBank_ID'].drop_duplicates()\n",
    "b = indep[indep['drug'].isin(indi_drug2)]\n",
    "print len(b)\n",
    "print len(b.drop_duplicates('drug'))\n",
    "print len(b.drop_duplicates('disease'))"
   ]
  },
  {
   "cell_type": "code",
   "execution_count": 249,
   "metadata": {
    "collapsed": true
   },
   "outputs": [],
   "source": [
    "feature_indi2.to_csv(\"/home/share/aschoi/nas/users/asolchoi/data/Drug_Repositioning/5_new_drug/sider_indication/4_indep_indication.tsv\", sep='\\t', index=False)\n",
    "feature_indi2.to_csv(\"/DAS_Storage1/aschoi/data/Drug_Repositioning/5_new_drug/sider_indication/4_indep_indication.tsv\", sep='\\t', index=False)\n",
    "b.to_csv(\"/DAS_Storage1/aschoi/data/Drug_Repositioning/5_new_drug/sider_indication/4_2_indep_asso_indi_ver.tsv\", sep='\\t', index=False)\n",
    "b.to_csv(\"/home/share/aschoi/nas/users/asolchoi/data/Drug_Repositioning/5_new_drug/sider_indication/4_2_indep_asso_indi_ver.tsv\", sep='\\t', index=False)"
   ]
  },
  {
   "cell_type": "code",
   "execution_count": null,
   "metadata": {
    "collapsed": true
   },
   "outputs": [],
   "source": []
  }
 ],
 "metadata": {
  "kernelspec": {
   "display_name": "Python 2",
   "language": "python",
   "name": "python2"
  },
  "language_info": {
   "codemirror_mode": {
    "name": "ipython",
    "version": 2
   },
   "file_extension": ".py",
   "mimetype": "text/x-python",
   "name": "python",
   "nbconvert_exporter": "python",
   "pygments_lexer": "ipython2",
   "version": "2.7.6"
  }
 },
 "nbformat": 4,
 "nbformat_minor": 2
}
