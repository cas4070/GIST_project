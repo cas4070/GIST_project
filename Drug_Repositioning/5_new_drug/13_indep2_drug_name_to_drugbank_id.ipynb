{
 "cells": [
  {
   "cell_type": "code",
   "execution_count": 1,
   "metadata": {
    "collapsed": true
   },
   "outputs": [],
   "source": [
    "import pandas as pd\n",
    "import numpy as np\n",
    "from datetime import datetime"
   ]
  },
  {
   "cell_type": "code",
   "execution_count": 2,
   "metadata": {
    "collapsed": true
   },
   "outputs": [],
   "source": [
    "drdi = pd.read_csv(\"/DAS_Storage1/aschoi/data/Drug_Repositioning/7_new_association/drug_disease_ndf_rt.csv\", index_col = 0)\n",
    "drugbank = pd.read_csv(\"/DAS_Storage1/aschoi/data/Drug_Repositioning/7_new_association/drugbank vocabulary.csv\")\n",
    "#pd.read_table(\"/DAS_Storage1/aschoi/data/Drug_Repositioning/6_new_disease/map_umls_2_mesh.tsv\")"
   ]
  },
  {
   "cell_type": "code",
   "execution_count": 107,
   "metadata": {
    "collapsed": false
   },
   "outputs": [],
   "source": [
    "drug_name = pd.Series(drdi.index.values.tolist())"
   ]
  },
  {
   "cell_type": "code",
   "execution_count": 13,
   "metadata": {
    "collapsed": false
   },
   "outputs": [
    {
     "name": "stdout",
     "output_type": "stream",
     "text": [
      "799\n",
      "8226\n"
     ]
    }
   ],
   "source": [
    "print len(drug_name)\n",
    "print len(drugbank)"
   ]
  },
  {
   "cell_type": "code",
   "execution_count": 32,
   "metadata": {
    "collapsed": false
   },
   "outputs": [],
   "source": [
    "mapped = drugbank[drugbank['Common name'].isin(drug_name)][['DrugBank ID', 'Common name']]"
   ]
  },
  {
   "cell_type": "code",
   "execution_count": 108,
   "metadata": {
    "collapsed": false
   },
   "outputs": [
    {
     "name": "stdout",
     "output_type": "stream",
     "text": [
      "529\n"
     ]
    },
    {
     "data": {
      "text/html": [
       "<div>\n",
       "<table border=\"1\" class=\"dataframe\">\n",
       "  <thead>\n",
       "    <tr style=\"text-align: right;\">\n",
       "      <th></th>\n",
       "      <th>DrugBank ID</th>\n",
       "      <th>Common name</th>\n",
       "      <th>query_name</th>\n",
       "    </tr>\n",
       "  </thead>\n",
       "  <tbody>\n",
       "    <tr>\n",
       "      <th>167</th>\n",
       "      <td>DB00175</td>\n",
       "      <td>Pravastatin</td>\n",
       "      <td>Pravastatin</td>\n",
       "    </tr>\n",
       "    <tr>\n",
       "      <th>168</th>\n",
       "      <td>DB00176</td>\n",
       "      <td>Fluvoxamine</td>\n",
       "      <td>Fluvoxamine</td>\n",
       "    </tr>\n",
       "  </tbody>\n",
       "</table>\n",
       "</div>"
      ],
      "text/plain": [
       "    DrugBank ID  Common name   query_name\n",
       "167     DB00175  Pravastatin  Pravastatin\n",
       "168     DB00176  Fluvoxamine  Fluvoxamine"
      ]
     },
     "execution_count": 108,
     "metadata": {},
     "output_type": "execute_result"
    }
   ],
   "source": [
    "print len(mapped)\n",
    "mapped.head(2)"
   ]
  },
  {
   "cell_type": "code",
   "execution_count": 109,
   "metadata": {
    "collapsed": true
   },
   "outputs": [],
   "source": [
    "mapped['query_name'] = mapped['Common name']"
   ]
  },
  {
   "cell_type": "code",
   "execution_count": 113,
   "metadata": {
    "collapsed": false
   },
   "outputs": [],
   "source": [
    "mapped.to_csv(\"/home/share/aschoi/nas/users/asolchoi/data/Drug_Repositioning/5_new_drug/12_1_drug_name_matching_exact.tsv\", sep='\\t', index=False)\n",
    "mapped.to_csv(\"/DAS_Storage1/aschoi/data/Drug_Repositioning/5_new_drug/12_1_drug_name_matching_exact.tsv\", sep='\\t', index=False)"
   ]
  },
  {
   "cell_type": "code",
   "execution_count": 110,
   "metadata": {
    "collapsed": true
   },
   "outputs": [],
   "source": [
    "# NaN 값이 있어서 str.contains 함수를 쓸 수 없어 추가함.\n",
    "drugbank = drugbank.fillna(\"None\")"
   ]
  },
  {
   "cell_type": "code",
   "execution_count": 111,
   "metadata": {
    "collapsed": false
   },
   "outputs": [
    {
     "name": "stdout",
     "output_type": "stream",
     "text": [
      "270\n"
     ]
    }
   ],
   "source": [
    "query_name = drug_name[~drug_name.isin(drugbank['Common name'])]\n",
    "print len(query_name)"
   ]
  },
  {
   "cell_type": "code",
   "execution_count": 90,
   "metadata": {
    "collapsed": false
   },
   "outputs": [
    {
     "name": "stderr",
     "output_type": "stream",
     "text": [
      "/usr/local/lib/python2.7/dist-packages/ipykernel/__main__.py:7: SettingWithCopyWarning: \n",
      "A value is trying to be set on a copy of a slice from a DataFrame.\n",
      "Try using .loc[row_indexer,col_indexer] = value instead\n",
      "\n",
      "See the caveats in the documentation: http://pandas.pydata.org/pandas-docs/stable/indexing.html#indexing-view-versus-copy\n",
      "/usr/local/lib/python2.7/dist-packages/ipykernel/__main__.py:11: SettingWithCopyWarning: \n",
      "A value is trying to be set on a copy of a slice from a DataFrame.\n",
      "Try using .loc[row_indexer,col_indexer] = value instead\n",
      "\n",
      "See the caveats in the documentation: http://pandas.pydata.org/pandas-docs/stable/indexing.html#indexing-view-versus-copy\n",
      "/usr/local/lib/python2.7/dist-packages/ipykernel/__main__.py:4: UserWarning: This pattern has match groups. To actually get the groups, use str.extract.\n"
     ]
    }
   ],
   "source": [
    "ex_match = pd.DataFrame()\n",
    "multi_match = pd.DataFrame()\n",
    "for i in query_name:\n",
    "    found = drugbank[drugbank['Synonyms'].str.lower().str.contains(i.lower())]\n",
    "    if len(found) == 1:\n",
    "        temp = found[['DrugBank ID', 'Common name', 'Synonyms']]\n",
    "        temp['query_name'] = i\n",
    "        ex_match = ex_match.append(temp)\n",
    "    elif len(found) > 1:\n",
    "        temp2 = found[['DrugBank ID', 'Common name', 'Synonyms']]\n",
    "        temp2['query_name'] = i\n",
    "        multi_match = multi_match.append(temp2)"
   ]
  },
  {
   "cell_type": "code",
   "execution_count": 114,
   "metadata": {
    "collapsed": false
   },
   "outputs": [],
   "source": [
    "ex_match.to_csv(\"/home/share/aschoi/nas/users/asolchoi/data/Drug_Repositioning/5_new_drug/12_2_drug_name_mathcing_sym_exact.tsv\", sep='\\t', index=False)\n",
    "ex_match.to_csv(\"/DAS_Storage1/aschoi/data/Drug_Repositioning/5_new_drug/12_2_drug_name_mathcing_sym_exact.tsv\", sep='\\t', index=False)"
   ]
  },
  {
   "cell_type": "code",
   "execution_count": 115,
   "metadata": {
    "collapsed": false
   },
   "outputs": [],
   "source": [
    "multi_match.to_csv(\"/home/share/aschoi/nas/users/asolchoi/data/Drug_Repositioning/5_new_drug/12_3_drug_name_mathcing_sym_multi.tsv\", sep='\\t')\n",
    "multi_match.to_csv(\"/DAS_Storage1/aschoi/data/Drug_Repositioning/5_new_drug/12_3_drug_name_mathcing_sym_multi.tsv\", sep='\\t')"
   ]
  },
  {
   "cell_type": "code",
   "execution_count": null,
   "metadata": {
    "collapsed": true
   },
   "outputs": [],
   "source": [
    "# drug name , drugbank id mapping 파일 합치기"
   ]
  },
  {
   "cell_type": "code",
   "execution_count": 118,
   "metadata": {
    "collapsed": false
   },
   "outputs": [
    {
     "data": {
      "text/html": [
       "<div>\n",
       "<table border=\"1\" class=\"dataframe\">\n",
       "  <thead>\n",
       "    <tr style=\"text-align: right;\">\n",
       "      <th></th>\n",
       "      <th>DrugBank ID</th>\n",
       "      <th>Common name</th>\n",
       "      <th>Synonyms</th>\n",
       "      <th>query_name</th>\n",
       "    </tr>\n",
       "  </thead>\n",
       "  <tbody>\n",
       "    <tr>\n",
       "      <th>502</th>\n",
       "      <td>DB00513</td>\n",
       "      <td>Aminocaproic Acid</td>\n",
       "      <td>6-Aminocaproic acid | 6-aminohexanoic acid | A...</td>\n",
       "      <td>6-Aminocaproic Acid</td>\n",
       "    </tr>\n",
       "    <tr>\n",
       "      <th>990</th>\n",
       "      <td>DB01001</td>\n",
       "      <td>Salbutamol</td>\n",
       "      <td>Albuterol | Levalbuterol | Proventil | Salbutamol</td>\n",
       "      <td>Albuterol</td>\n",
       "    </tr>\n",
       "  </tbody>\n",
       "</table>\n",
       "</div>"
      ],
      "text/plain": [
       "    DrugBank ID        Common name  \\\n",
       "502     DB00513  Aminocaproic Acid   \n",
       "990     DB01001         Salbutamol   \n",
       "\n",
       "                                              Synonyms           query_name  \n",
       "502  6-Aminocaproic acid | 6-aminohexanoic acid | A...  6-Aminocaproic Acid  \n",
       "990  Albuterol | Levalbuterol | Proventil | Salbutamol            Albuterol  "
      ]
     },
     "execution_count": 118,
     "metadata": {},
     "output_type": "execute_result"
    }
   ],
   "source": [
    "ex_match.head(2)"
   ]
  },
  {
   "cell_type": "code",
   "execution_count": 116,
   "metadata": {
    "collapsed": false
   },
   "outputs": [],
   "source": [
    "multi_match_man = pd.read_table(\"/home/share/aschoi/nas/users/asolchoi/data/Drug_Repositioning/5_new_drug/12_3_2_drug_name_mathcing_sym_multi_mannual.txt\")"
   ]
  },
  {
   "cell_type": "code",
   "execution_count": 119,
   "metadata": {
    "collapsed": false
   },
   "outputs": [],
   "source": [
    "df1 = mapped[['DrugBank ID', 'query_name']]\n",
    "df2 = ex_match[['DrugBank ID', 'query_name']]\n",
    "df3 = multi_match_man[['DrugBank ID', 'query_name']]\n",
    "frames = [df1, df2, df3]\n",
    "all_mapped = pd.concat(frames)"
   ]
  },
  {
   "cell_type": "code",
   "execution_count": 121,
   "metadata": {
    "collapsed": false
   },
   "outputs": [
    {
     "name": "stdout",
     "output_type": "stream",
     "text": [
      "724\n",
      "724\n"
     ]
    }
   ],
   "source": [
    "print len(all_mapped)\n",
    "print len(all_mapped.drop_duplicates())"
   ]
  },
  {
   "cell_type": "code",
   "execution_count": 122,
   "metadata": {
    "collapsed": true
   },
   "outputs": [],
   "source": [
    "all_mapped.to_csv(\"/home/share/aschoi/nas/users/asolchoi/data/Drug_Repositioning/5_new_drug/12_4_indep2_drugName_to_drugbankID.tsv\", sep='\\t', index=False)\n",
    "all_mapped.to_csv(\"/DAS_Storage1/aschoi/data/Drug_Repositioning/5_new_drug/12_4_indep2_drugName_to_drugbankID.tsv\", sep='\\t', index=False)"
   ]
  },
  {
   "cell_type": "code",
   "execution_count": 123,
   "metadata": {
    "collapsed": true
   },
   "outputs": [],
   "source": [
    "# drug 들 중에 side effect가 있는 애들.\n",
    "sider = pd.read_table(\"/DAS_Storage1/aschoi/data/Drug_Repositioning/5_new_drug/3_3_SIDER_STITCHid_DrugBankid.tsv\")\n",
    "offside = pd.read_table(\"/DAS_Storage1/aschoi/data/Drug_Repositioning/5_new_drug/4_3_OFFSIDE_STITCHid_DrugBankid.tsv\")"
   ]
  },
  {
   "cell_type": "code",
   "execution_count": 140,
   "metadata": {
    "collapsed": false
   },
   "outputs": [],
   "source": [
    "drugs = pd.concat([sider['DrugBank_ID'], offside['DrugBank_ID']])\n",
    "unique_drugs = drugs.drop_duplicates()"
   ]
  },
  {
   "cell_type": "code",
   "execution_count": 142,
   "metadata": {
    "collapsed": false
   },
   "outputs": [
    {
     "data": {
      "text/plain": [
       "1034"
      ]
     },
     "execution_count": 142,
     "metadata": {},
     "output_type": "execute_result"
    }
   ],
   "source": [
    "len(unique_drugs)"
   ]
  },
  {
   "cell_type": "code",
   "execution_count": 147,
   "metadata": {
    "collapsed": false
   },
   "outputs": [
    {
     "name": "stdout",
     "output_type": "stream",
     "text": [
      "542\n"
     ]
    }
   ],
   "source": [
    "filtered_drug = all_mapped[all_mapped['DrugBank ID'].isin(unique_drugs)]\n",
    "print len(filtered_drug)"
   ]
  },
  {
   "cell_type": "code",
   "execution_count": 154,
   "metadata": {
    "collapsed": true
   },
   "outputs": [],
   "source": [
    "# side effect가 있으면서, gold standard, independent drug가 아닌 애들\n",
    "gold = pd.read_table(\"/DAS_Storage1/aschoi/data/Drug_Repositioning/5_new_drug/7_2_gold_drug_feature_id.tsv\")\n",
    "indep = pd.read_table(\"/DAS_Storage1/aschoi/data/Drug_Repositioning/5_new_drug/7_3_indep_drug_feature_id.tsv\")"
   ]
  },
  {
   "cell_type": "code",
   "execution_count": 150,
   "metadata": {
    "collapsed": false
   },
   "outputs": [
    {
     "data": {
      "text/plain": [
       "471"
      ]
     },
     "execution_count": 150,
     "metadata": {},
     "output_type": "execute_result"
    }
   ],
   "source": [
    "len(gold['DrugBank_ID'].drop_duplicates())"
   ]
  },
  {
   "cell_type": "code",
   "execution_count": 156,
   "metadata": {
    "collapsed": false
   },
   "outputs": [
    {
     "data": {
      "text/plain": [
       "73"
      ]
     },
     "execution_count": 156,
     "metadata": {},
     "output_type": "execute_result"
    }
   ],
   "source": [
    "len(indep['DrugBank_ID'].drop_duplicates())"
   ]
  },
  {
   "cell_type": "code",
   "execution_count": 158,
   "metadata": {
    "collapsed": false
   },
   "outputs": [
    {
     "name": "stdout",
     "output_type": "stream",
     "text": [
      "544\n",
      "477\n"
     ]
    }
   ],
   "source": [
    "used_drugs = pd.concat([gold['DrugBank_ID'].drop_duplicates(),indep['DrugBank_ID'].drop_duplicates()])\n",
    "print len(used_drugs)\n",
    "print len(used_drugs.drop_duplicates())"
   ]
  },
  {
   "cell_type": "code",
   "execution_count": 169,
   "metadata": {
    "collapsed": false
   },
   "outputs": [
    {
     "data": {
      "text/html": [
       "<div>\n",
       "<table border=\"1\" class=\"dataframe\">\n",
       "  <thead>\n",
       "    <tr style=\"text-align: right;\">\n",
       "      <th></th>\n",
       "      <th>DrugBank_ID</th>\n",
       "      <th>umls_id</th>\n",
       "    </tr>\n",
       "  </thead>\n",
       "  <tbody>\n",
       "    <tr>\n",
       "      <th>0</th>\n",
       "      <td>DB00125</td>\n",
       "      <td>C0008301</td>\n",
       "    </tr>\n",
       "    <tr>\n",
       "      <th>6609</th>\n",
       "      <td>DB00700</td>\n",
       "      <td>C0024902</td>\n",
       "    </tr>\n",
       "    <tr>\n",
       "      <th>7948</th>\n",
       "      <td>DB00906</td>\n",
       "      <td>C0040822</td>\n",
       "    </tr>\n",
       "    <tr>\n",
       "      <th>11764</th>\n",
       "      <td>DB01100</td>\n",
       "      <td>C0221745</td>\n",
       "    </tr>\n",
       "    <tr>\n",
       "      <th>13164</th>\n",
       "      <td>DB01393</td>\n",
       "      <td>C0040034</td>\n",
       "    </tr>\n",
       "    <tr>\n",
       "      <th>13539</th>\n",
       "      <td>DB01586</td>\n",
       "      <td>C0002962</td>\n",
       "    </tr>\n",
       "  </tbody>\n",
       "</table>\n",
       "</div>"
      ],
      "text/plain": [
       "      DrugBank_ID   umls_id\n",
       "0         DB00125  C0008301\n",
       "6609      DB00700  C0024902\n",
       "7948      DB00906  C0040822\n",
       "11764     DB01100  C0221745\n",
       "13164     DB01393  C0040034\n",
       "13539     DB01586  C0002962"
      ]
     },
     "execution_count": 169,
     "metadata": {},
     "output_type": "execute_result"
    }
   ],
   "source": [
    "indep[~indep['DrugBank_ID'].isin(gold['DrugBank_ID'].drop_duplicates())].drop_duplicates('DrugBank_ID')"
   ]
  },
  {
   "cell_type": "code",
   "execution_count": 164,
   "metadata": {
    "collapsed": false
   },
   "outputs": [
    {
     "data": {
      "text/plain": [
       "18       DB00136\n",
       "14775    DB00136\n",
       "94       DB00153\n",
       "33706    DB00153\n",
       "116      DB00176\n",
       "59137    DB00176\n",
       "8953     DB00193\n",
       "306      DB00193\n",
       "718      DB00195\n",
       "29668    DB00195\n",
       "29654    DB00253\n",
       "1063     DB00253\n",
       "19259    DB00280\n",
       "1077     DB00280\n",
       "35120    DB00283\n",
       "1258     DB00283\n",
       "18348    DB00286\n",
       "1298     DB00286\n",
       "9625     DB00313\n",
       "1398     DB00313\n",
       "1803     DB00320\n",
       "30109    DB00320\n",
       "1893     DB00341\n",
       "47677    DB00341\n",
       "2194     DB00343\n",
       "993      DB00343\n",
       "34050    DB00376\n",
       "2361     DB00376\n",
       "35946    DB00384\n",
       "2588     DB00384\n",
       "          ...   \n",
       "18986    DB01069\n",
       "11069    DB01069\n",
       "69198    DB01071\n",
       "11341    DB01071\n",
       "17659    DB01077\n",
       "11388    DB01077\n",
       "11605    DB01085\n",
       "12547    DB01085\n",
       "11909    DB01146\n",
       "54407    DB01146\n",
       "33165    DB01173\n",
       "11940    DB01173\n",
       "23419    DB01182\n",
       "12346    DB01182\n",
       "12691    DB01195\n",
       "3147     DB01195\n",
       "3979     DB01200\n",
       "12886    DB01200\n",
       "13001    DB01210\n",
       "35250    DB01210\n",
       "13043    DB01254\n",
       "97672    DB01254\n",
       "34545    DB01399\n",
       "13307    DB01399\n",
       "24374    DB01410\n",
       "13460    DB01410\n",
       "13696    DB01611\n",
       "13704    DB01611\n",
       "76949    DB01620\n",
       "14067    DB01620\n",
       "Name: DrugBank_ID, dtype: object"
      ]
     },
     "execution_count": 164,
     "metadata": {},
     "output_type": "execute_result"
    }
   ],
   "source": [
    "used_drugs[used_drugs.duplicated(keep=False)].sort_values()"
   ]
  },
  {
   "cell_type": "code",
   "execution_count": null,
   "metadata": {
    "collapsed": true
   },
   "outputs": [],
   "source": [
    "일단 보류. --> unique한 association으로 비교해야함."
   ]
  }
 ],
 "metadata": {
  "kernelspec": {
   "display_name": "Python 2",
   "language": "python",
   "name": "python2"
  },
  "language_info": {
   "codemirror_mode": {
    "name": "ipython",
    "version": 2
   },
   "file_extension": ".py",
   "mimetype": "text/x-python",
   "name": "python",
   "nbconvert_exporter": "python",
   "pygments_lexer": "ipython2",
   "version": "2.7.6"
  }
 },
 "nbformat": 4,
 "nbformat_minor": 2
}
