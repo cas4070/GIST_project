{
 "cells": [
  {
   "cell_type": "code",
   "execution_count": 1,
   "metadata": {
    "collapsed": true
   },
   "outputs": [],
   "source": [
    "import numpy as np\n",
    "import pandas as pd"
   ]
  },
  {
   "cell_type": "code",
   "execution_count": null,
   "metadata": {
    "collapsed": true
   },
   "outputs": [],
   "source": [
    "# 2017.4.10. drug-drug similarity"
   ]
  },
  {
   "cell_type": "code",
   "execution_count": 2,
   "metadata": {
    "collapsed": true
   },
   "outputs": [],
   "source": [
    "str_sim = pd.read_table(\"/DAS_Storage1/aschoi/data/Drug_Repositioning/5_new_drug/9_gold_drug_similarity_structure.tsv\")"
   ]
  },
  {
   "cell_type": "code",
   "execution_count": 3,
   "metadata": {
    "collapsed": true
   },
   "outputs": [],
   "source": [
    "gold_se_sim = pd.read_table(\"/DAS_Storage1/aschoi/data/Drug_Repositioning/5_new_drug/PREDICT_data/5_gold_drug_drug_sim_predict.tsv\")"
   ]
  },
  {
   "cell_type": "code",
   "execution_count": 22,
   "metadata": {
    "collapsed": true
   },
   "outputs": [],
   "source": [
    "gold_se_sim_mat = pd.read_table(\"/DAS_Storage1/aschoi/data/Drug_Repositioning/5_new_drug/PREDICT_data/5_2_gold_drug_drug_sim_mat_predict.tsv\", index_col=0)"
   ]
  },
  {
   "cell_type": "code",
   "execution_count": 27,
   "metadata": {
    "collapsed": false
   },
   "outputs": [
    {
     "name": "stdout",
     "output_type": "stream",
     "text": [
      "446\n"
     ]
    },
    {
     "data": {
      "text/html": [
       "<div>\n",
       "<table border=\"1\" class=\"dataframe\">\n",
       "  <thead>\n",
       "    <tr style=\"text-align: right;\">\n",
       "      <th></th>\n",
       "      <th>DB00215</th>\n",
       "      <th>DB01327</th>\n",
       "      <th>DB00537</th>\n",
       "      <th>DB00175</th>\n",
       "      <th>DB00181</th>\n",
       "      <th>DB00257</th>\n",
       "      <th>DB00343</th>\n",
       "      <th>DB01128</th>\n",
       "      <th>DB00678</th>\n",
       "      <th>DB00808</th>\n",
       "      <th>...</th>\n",
       "      <th>DB01033</th>\n",
       "      <th>DB01254</th>\n",
       "      <th>DB01261</th>\n",
       "      <th>DB00323</th>\n",
       "      <th>DB00287</th>\n",
       "      <th>DB00905</th>\n",
       "      <th>DB01088</th>\n",
       "      <th>DB01268</th>\n",
       "      <th>DB09026</th>\n",
       "      <th>DB01590</th>\n",
       "    </tr>\n",
       "  </thead>\n",
       "  <tbody>\n",
       "    <tr>\n",
       "      <th>DB00215</th>\n",
       "      <td>1.0</td>\n",
       "      <td>0.748373</td>\n",
       "      <td>0.722343</td>\n",
       "      <td>0.768438</td>\n",
       "      <td>0.752711</td>\n",
       "      <td>0.692516</td>\n",
       "      <td>0.775488</td>\n",
       "      <td>0.725054</td>\n",
       "      <td>0.765727</td>\n",
       "      <td>0.760846</td>\n",
       "      <td>...</td>\n",
       "      <td>0.687636</td>\n",
       "      <td>0.721258</td>\n",
       "      <td>0.703362</td>\n",
       "      <td>0.727223</td>\n",
       "      <td>0.7218</td>\n",
       "      <td>0.715293</td>\n",
       "      <td>0.734273</td>\n",
       "      <td>0.699566</td>\n",
       "      <td>0.71692</td>\n",
       "      <td>0.717462</td>\n",
       "    </tr>\n",
       "  </tbody>\n",
       "</table>\n",
       "<p>1 rows × 446 columns</p>\n",
       "</div>"
      ],
      "text/plain": [
       "         DB00215   DB01327   DB00537   DB00175   DB00181   DB00257   DB00343  \\\n",
       "DB00215      1.0  0.748373  0.722343  0.768438  0.752711  0.692516  0.775488   \n",
       "\n",
       "          DB01128   DB00678   DB00808    ...      DB01033   DB01254   DB01261  \\\n",
       "DB00215  0.725054  0.765727  0.760846    ...     0.687636  0.721258  0.703362   \n",
       "\n",
       "          DB00323  DB00287   DB00905   DB01088   DB01268  DB09026   DB01590  \n",
       "DB00215  0.727223   0.7218  0.715293  0.734273  0.699566  0.71692  0.717462  \n",
       "\n",
       "[1 rows x 446 columns]"
      ]
     },
     "execution_count": 27,
     "metadata": {},
     "output_type": "execute_result"
    }
   ],
   "source": [
    "print len(gold_se_sim_mat)\n",
    "gold_se_sim_mat.head(1)"
   ]
  },
  {
   "cell_type": "code",
   "execution_count": 25,
   "metadata": {
    "collapsed": false
   },
   "outputs": [
    {
     "name": "stdout",
     "output_type": "stream",
     "text": [
      "446\n"
     ]
    }
   ],
   "source": [
    "gold_drug_id = gold_se_sim_mat.columns.values.tolist()\n",
    "print len(gold_drug_id)"
   ]
  },
  {
   "cell_type": "code",
   "execution_count": 28,
   "metadata": {
    "collapsed": false
   },
   "outputs": [
    {
     "name": "stdout",
     "output_type": "stream",
     "text": [
      "456\n"
     ]
    }
   ],
   "source": [
    "str_dr_id = str_sim['DrugBank_ID1'].drop_duplicates()\n",
    "print len(str_dr_id)"
   ]
  },
  {
   "cell_type": "code",
   "execution_count": 36,
   "metadata": {
    "collapsed": false
   },
   "outputs": [
    {
     "name": "stdout",
     "output_type": "stream",
     "text": [
      "427\n"
     ]
    }
   ],
   "source": [
    "fi_drug_id = str_dr_id[str_dr_id.isin(gold_drug_id)]\n",
    "print len(fi_drug_id)"
   ]
  },
  {
   "cell_type": "code",
   "execution_count": 48,
   "metadata": {
    "collapsed": false
   },
   "outputs": [
    {
     "name": "stdout",
     "output_type": "stream",
     "text": [
      "207936\n",
      "194712\n",
      "182329\n"
     ]
    }
   ],
   "source": [
    "print len(str_sim)\n",
    "temp = str_sim[(str_sim['DrugBank_ID1'].isin(fi_drug_id))]\n",
    "print len(temp)\n",
    "fi_drug_str_sim = temp[temp['DrugBank_ID2'].isin(fi_drug_id)]\n",
    "print len(fi_drug_str_sim)"
   ]
  },
  {
   "cell_type": "code",
   "execution_count": 131,
   "metadata": {
    "collapsed": false
   },
   "outputs": [
    {
     "data": {
      "text/html": [
       "<div>\n",
       "<table border=\"1\" class=\"dataframe\">\n",
       "  <thead>\n",
       "    <tr style=\"text-align: right;\">\n",
       "      <th></th>\n",
       "      <th>DrugBank_ID1</th>\n",
       "      <th>DrugBank_ID2</th>\n",
       "      <th>Similarity_Score</th>\n",
       "    </tr>\n",
       "  </thead>\n",
       "  <tbody>\n",
       "    <tr>\n",
       "      <th>0</th>\n",
       "      <td>DB00215</td>\n",
       "      <td>DB00215</td>\n",
       "      <td>1.0</td>\n",
       "    </tr>\n",
       "  </tbody>\n",
       "</table>\n",
       "</div>"
      ],
      "text/plain": [
       "  DrugBank_ID1 DrugBank_ID2  Similarity_Score\n",
       "0      DB00215      DB00215               1.0"
      ]
     },
     "execution_count": 131,
     "metadata": {},
     "output_type": "execute_result"
    }
   ],
   "source": [
    "fi_drug_str_sim.head(1)"
   ]
  },
  {
   "cell_type": "code",
   "execution_count": 50,
   "metadata": {
    "collapsed": false
   },
   "outputs": [
    {
     "name": "stdout",
     "output_type": "stream",
     "text": [
      "427\n"
     ]
    },
    {
     "data": {
      "text/html": [
       "<div>\n",
       "<table border=\"1\" class=\"dataframe\">\n",
       "  <thead>\n",
       "    <tr style=\"text-align: right;\">\n",
       "      <th></th>\n",
       "      <th>DB00215</th>\n",
       "      <th>DB01327</th>\n",
       "      <th>DB00537</th>\n",
       "      <th>DB00175</th>\n",
       "      <th>DB00181</th>\n",
       "      <th>DB00257</th>\n",
       "      <th>DB00343</th>\n",
       "      <th>DB01128</th>\n",
       "      <th>DB00678</th>\n",
       "      <th>DB00808</th>\n",
       "      <th>...</th>\n",
       "      <th>DB01098</th>\n",
       "      <th>DB01033</th>\n",
       "      <th>DB01254</th>\n",
       "      <th>DB01261</th>\n",
       "      <th>DB00323</th>\n",
       "      <th>DB00287</th>\n",
       "      <th>DB00905</th>\n",
       "      <th>DB01088</th>\n",
       "      <th>DB01268</th>\n",
       "      <th>DB01590</th>\n",
       "    </tr>\n",
       "  </thead>\n",
       "  <tbody>\n",
       "    <tr>\n",
       "      <th>DB00215</th>\n",
       "      <td>1.0</td>\n",
       "      <td>0.748373</td>\n",
       "      <td>0.722343</td>\n",
       "      <td>0.768438</td>\n",
       "      <td>0.752711</td>\n",
       "      <td>0.692516</td>\n",
       "      <td>0.775488</td>\n",
       "      <td>0.725054</td>\n",
       "      <td>0.765727</td>\n",
       "      <td>0.760846</td>\n",
       "      <td>...</td>\n",
       "      <td>0.74295</td>\n",
       "      <td>0.687636</td>\n",
       "      <td>0.721258</td>\n",
       "      <td>0.703362</td>\n",
       "      <td>0.727223</td>\n",
       "      <td>0.7218</td>\n",
       "      <td>0.715293</td>\n",
       "      <td>0.734273</td>\n",
       "      <td>0.699566</td>\n",
       "      <td>0.717462</td>\n",
       "    </tr>\n",
       "  </tbody>\n",
       "</table>\n",
       "<p>1 rows × 427 columns</p>\n",
       "</div>"
      ],
      "text/plain": [
       "         DB00215   DB01327   DB00537   DB00175   DB00181   DB00257   DB00343  \\\n",
       "DB00215      1.0  0.748373  0.722343  0.768438  0.752711  0.692516  0.775488   \n",
       "\n",
       "          DB01128   DB00678   DB00808    ...     DB01098   DB01033   DB01254  \\\n",
       "DB00215  0.725054  0.765727  0.760846    ...     0.74295  0.687636  0.721258   \n",
       "\n",
       "          DB01261   DB00323  DB00287   DB00905   DB01088   DB01268   DB01590  \n",
       "DB00215  0.703362  0.727223   0.7218  0.715293  0.734273  0.699566  0.717462  \n",
       "\n",
       "[1 rows x 427 columns]"
      ]
     },
     "execution_count": 50,
     "metadata": {},
     "output_type": "execute_result"
    }
   ],
   "source": [
    "temp = gold_se_sim_mat.filter(items = fi_drug_id)\n",
    "fi_drug_se_sim = temp.filter(items = fi_drug_id, axis=0)\n",
    "print len(fi_drug_se_sim)\n",
    "fi_drug_se_sim.head(1)"
   ]
  },
  {
   "cell_type": "code",
   "execution_count": 128,
   "metadata": {
    "collapsed": false
   },
   "outputs": [],
   "source": [
    "fi_drug_id.to_csv(\"/DAS_Storage1/aschoi/data/Drug_Repositioning/5_new_drug/new_predict/1_gold_drug.tsv\", sep='\\t', index=False)\n",
    "fi_drug_id.to_csv(\"/home/share/aschoi/nas/users/asolchoi/data/Drug_Repositioning/5_new_drug/new_predict/1_gold_drug.tsv\", sep='\\t', index=False)\n",
    "fi_drug_se_sim.to_csv(\"/DAS_Storage1/aschoi/data/Drug_Repositioning/5_new_drug/new_predict/1_drug_drug_se_sim_mat.tsv\",sep='\\t')\n",
    "fi_drug_se_sim.to_csv(\"/home/share/aschoi/nas/users/asolchoi/data/Drug_Repositioning/5_new_drug/new_predict/1_drug_drug_se_sim_mat.tsv\",sep='\\t')\n",
    "fi_drug_str_sim.to_csv(\"/DAS_Storage1/aschoi/data/Drug_Repositioning/5_new_drug/new_predict/1_drug_drug_str_sim.tsv\", sep='\\t', index=False)\n",
    "fi_drug_str_sim.to_csv(\"/home/share/aschoi/nas/users/asolchoi/data/Drug_Repositioning/5_new_drug/new_predict/1_drug_drug_str_sim.tsv\", sep='\\t', index=False)"
   ]
  },
  {
   "cell_type": "code",
   "execution_count": 180,
   "metadata": {
    "collapsed": true
   },
   "outputs": [],
   "source": [
    "whole_drug = fi_drug_str_sim\n",
    "whole_drug['PheSim'] = -2.0\n",
    "for index, row in fi_drug_str_sim.iterrows():\n",
    "    ids = row.tolist()\n",
    "    dr1 = ids[0]\n",
    "    dr2 = ids[1]\n",
    "    sim = fi_drug_se_sim[dr1].ix[dr2]\n",
    "    whole_drug.set_value(index, 'PheSim', sim)"
   ]
  },
  {
   "cell_type": "code",
   "execution_count": 181,
   "metadata": {
    "collapsed": false
   },
   "outputs": [
    {
     "data": {
      "text/html": [
       "<div>\n",
       "<table border=\"1\" class=\"dataframe\">\n",
       "  <thead>\n",
       "    <tr style=\"text-align: right;\">\n",
       "      <th></th>\n",
       "      <th>DrugBank_ID1</th>\n",
       "      <th>DrugBank_ID2</th>\n",
       "      <th>CheSim</th>\n",
       "      <th>PheSim</th>\n",
       "    </tr>\n",
       "  </thead>\n",
       "  <tbody>\n",
       "    <tr>\n",
       "      <th>0</th>\n",
       "      <td>DB00215</td>\n",
       "      <td>DB00215</td>\n",
       "      <td>1.000000</td>\n",
       "      <td>1.000000</td>\n",
       "    </tr>\n",
       "    <tr>\n",
       "      <th>1</th>\n",
       "      <td>DB00215</td>\n",
       "      <td>DB01327</td>\n",
       "      <td>0.087719</td>\n",
       "      <td>0.748373</td>\n",
       "    </tr>\n",
       "    <tr>\n",
       "      <th>2</th>\n",
       "      <td>DB00215</td>\n",
       "      <td>DB00537</td>\n",
       "      <td>0.211765</td>\n",
       "      <td>0.722343</td>\n",
       "    </tr>\n",
       "    <tr>\n",
       "      <th>3</th>\n",
       "      <td>DB00215</td>\n",
       "      <td>DB00175</td>\n",
       "      <td>0.126667</td>\n",
       "      <td>0.768438</td>\n",
       "    </tr>\n",
       "    <tr>\n",
       "      <th>4</th>\n",
       "      <td>DB00215</td>\n",
       "      <td>DB00181</td>\n",
       "      <td>0.276786</td>\n",
       "      <td>0.752711</td>\n",
       "    </tr>\n",
       "  </tbody>\n",
       "</table>\n",
       "</div>"
      ],
      "text/plain": [
       "  DrugBank_ID1 DrugBank_ID2    CheSim    PheSim\n",
       "0      DB00215      DB00215  1.000000  1.000000\n",
       "1      DB00215      DB01327  0.087719  0.748373\n",
       "2      DB00215      DB00537  0.211765  0.722343\n",
       "3      DB00215      DB00175  0.126667  0.768438\n",
       "4      DB00215      DB00181  0.276786  0.752711"
      ]
     },
     "execution_count": 181,
     "metadata": {},
     "output_type": "execute_result"
    }
   ],
   "source": [
    "whole_drug = whole_drug.rename(columns={'Similarity_Score':'CheSim'})\n",
    "whole_drug.head()"
   ]
  },
  {
   "cell_type": "code",
   "execution_count": 186,
   "metadata": {
    "collapsed": true
   },
   "outputs": [],
   "source": [
    "whole_drug.to_csv(\"/DAS_Storage1/aschoi/data/Drug_Repositioning/5_new_drug/new_predict/1_drug_drug_whole_sim.tsv\", sep='\\t', index=False)\n",
    "whole_drug.to_csv(\"/home/share/aschoi/nas/users/asolchoi/data/Drug_Repositioning/5_new_drug/new_predict/1_drug_drug_whole_sim.tsv\", sep='\\t', index=False)"
   ]
  },
  {
   "cell_type": "code",
   "execution_count": 203,
   "metadata": {
    "collapsed": false
   },
   "outputs": [],
   "source": [
    "fi_drug_str_sim_mat = pd.DataFrame(index = fi_drug_id.tolist(),columns=fi_drug_id.tolist())\n",
    "fi_drug_str_sim_mat.fillna(0.0)\n",
    "\n",
    "for index, row in fi_drug_str_sim.iterrows():\n",
    "    fi_drug_str_sim_mat[row['DrugBank_ID2']][row['DrugBank_ID1']] = row['Similarity_Score']"
   ]
  },
  {
   "cell_type": "code",
   "execution_count": 205,
   "metadata": {
    "collapsed": false
   },
   "outputs": [],
   "source": [
    "fi_drug_str_sim_mat.to_csv(\"/DAS_Storage1/aschoi/data/Drug_Repositioning/5_new_drug/new_predict/1_drug_drug_str_sim_mat.tsv\",sep='\\t')\n",
    "fi_drug_str_sim_mat.to_csv(\"/home/share/aschoi/nas/users/asolchoi/data/Drug_Repositioning/5_new_drug/new_predict/1_drug_drug_str_sim_mat.tsv\",sep='\\t')"
   ]
  },
  {
   "cell_type": "code",
   "execution_count": null,
   "metadata": {
    "collapsed": true
   },
   "outputs": [],
   "source": [
    "# gold_association"
   ]
  },
  {
   "cell_type": "code",
   "execution_count": 45,
   "metadata": {
    "collapsed": true
   },
   "outputs": [],
   "source": [
    "gold_asso = pd.read_table(\"/DAS_Storage1/aschoi/data/Drug_Repositioning/7_new_association/PREDICT_data/2_2_gold_learning_asso.tsv\")"
   ]
  },
  {
   "cell_type": "code",
   "execution_count": 70,
   "metadata": {
    "collapsed": false
   },
   "outputs": [
    {
     "name": "stdout",
     "output_type": "stream",
     "text": [
      "103146\n",
      "98716\n",
      "97862\n"
     ]
    }
   ],
   "source": [
    "print len(gold_asso)\n",
    "temp = gold_asso[(gold_asso['drug_id'].isin(fi_drug_id))]\n",
    "print len(temp)\n",
    "pos = temp[temp.association ==1]\n",
    "fi_disease_id = pos['disease_id'].drop_duplicates()\n",
    "fi_learning_asso = temp[temp['disease_id'].isin(fi_disease_id)]\n",
    "print len(fi_learning_asso)"
   ]
  },
  {
   "cell_type": "code",
   "execution_count": 74,
   "metadata": {
    "collapsed": false
   },
   "outputs": [
    {
     "name": "stdout",
     "output_type": "stream",
     "text": [
      "1316\n",
      "96546\n",
      "427\n",
      "427\n",
      "233\n",
      "233\n"
     ]
    }
   ],
   "source": [
    "a = fi_learning_asso[fi_learning_asso.association ==1]\n",
    "b = fi_learning_asso[fi_learning_asso.association ==0]\n",
    "print len(a)\n",
    "print len(b)\n",
    "print len(a['drug_id'].drop_duplicates())\n",
    "print len(b['drug_id'].drop_duplicates())\n",
    "print len(a['disease_id'].drop_duplicates())\n",
    "print len(b['disease_id'].drop_duplicates())"
   ]
  },
  {
   "cell_type": "code",
   "execution_count": 129,
   "metadata": {
    "collapsed": true
   },
   "outputs": [],
   "source": [
    "fi_learning_asso.to_csv(\"/DAS_Storage1/aschoi/data/Drug_Repositioning/7_new_association/new_predict/1_gold_learning_asso.tsv\", sep='\\t', index=False)\n",
    "fi_learning_asso.to_csv(\"/home/share/aschoi/nas/users/asolchoi/data/Drug_Repositioning/7_new_association/new_predict/1_gold_learning_asso.tsv\", sep='\\t', index=False)"
   ]
  },
  {
   "cell_type": "code",
   "execution_count": null,
   "metadata": {
    "collapsed": true
   },
   "outputs": [],
   "source": [
    "#disease disease similarity"
   ]
  },
  {
   "cell_type": "code",
   "execution_count": 77,
   "metadata": {
    "collapsed": true
   },
   "outputs": [],
   "source": [
    "di_feature = pd.read_table(\"/DAS_Storage1/aschoi/data/Drug_Repositioning/6_new_disease/8_gold_standard_disease_binary_matrix.tsv\", index_col=0)"
   ]
  },
  {
   "cell_type": "code",
   "execution_count": 84,
   "metadata": {
    "collapsed": false
   },
   "outputs": [
    {
     "data": {
      "text/html": [
       "<div>\n",
       "<table border=\"1\" class=\"dataframe\">\n",
       "  <thead>\n",
       "    <tr style=\"text-align: right;\">\n",
       "      <th></th>\n",
       "      <th>102300</th>\n",
       "      <th>102400</th>\n",
       "      <th>102500</th>\n",
       "      <th>103780</th>\n",
       "      <th>104130</th>\n",
       "      <th>104300</th>\n",
       "      <th>106400</th>\n",
       "      <th>107650</th>\n",
       "      <th>109100</th>\n",
       "      <th>109200</th>\n",
       "      <th>...</th>\n",
       "      <th>607631</th>\n",
       "      <th>607681</th>\n",
       "      <th>607682</th>\n",
       "      <th>607850</th>\n",
       "      <th>608088</th>\n",
       "      <th>608105</th>\n",
       "      <th>608217</th>\n",
       "      <th>608320</th>\n",
       "      <th>608583</th>\n",
       "      <th>608622</th>\n",
       "    </tr>\n",
       "  </thead>\n",
       "  <tbody>\n",
       "    <tr>\n",
       "      <th>100188812</th>\n",
       "      <td>1</td>\n",
       "      <td>0</td>\n",
       "      <td>0</td>\n",
       "      <td>0</td>\n",
       "      <td>0</td>\n",
       "      <td>0</td>\n",
       "      <td>0</td>\n",
       "      <td>0</td>\n",
       "      <td>0</td>\n",
       "      <td>0</td>\n",
       "      <td>...</td>\n",
       "      <td>0</td>\n",
       "      <td>0</td>\n",
       "      <td>0</td>\n",
       "      <td>0</td>\n",
       "      <td>0</td>\n",
       "      <td>0</td>\n",
       "      <td>0</td>\n",
       "      <td>0</td>\n",
       "      <td>0</td>\n",
       "      <td>0</td>\n",
       "    </tr>\n",
       "  </tbody>\n",
       "</table>\n",
       "<p>1 rows × 235 columns</p>\n",
       "</div>"
      ],
      "text/plain": [
       "           102300  102400  102500  103780  104130  104300  106400  107650  \\\n",
       "100188812       1       0       0       0       0       0       0       0   \n",
       "\n",
       "           109100  109200   ...    607631  607681  607682  607850  608088  \\\n",
       "100188812       0       0   ...         0       0       0       0       0   \n",
       "\n",
       "           608105  608217  608320  608583  608622  \n",
       "100188812       0       0       0       0       0  \n",
       "\n",
       "[1 rows x 235 columns]"
      ]
     },
     "execution_count": 84,
     "metadata": {},
     "output_type": "execute_result"
    }
   ],
   "source": [
    "di_feature.head(1)"
   ]
  },
  {
   "cell_type": "code",
   "execution_count": 93,
   "metadata": {
    "collapsed": false
   },
   "outputs": [],
   "source": [
    "str_fi_disease_id = list()\n",
    "for i in fi_disease_id:\n",
    "    str_fi_disease_id.append(str(i))"
   ]
  },
  {
   "cell_type": "code",
   "execution_count": 94,
   "metadata": {
    "collapsed": false
   },
   "outputs": [
    {
     "data": {
      "text/plain": [
       "'102300'"
      ]
     },
     "execution_count": 94,
     "metadata": {},
     "output_type": "execute_result"
    }
   ],
   "source": [
    "di_feature.columns.values.tolist()[0]"
   ]
  },
  {
   "cell_type": "code",
   "execution_count": 96,
   "metadata": {
    "collapsed": false
   },
   "outputs": [
    {
     "data": {
      "text/plain": [
       "'103780'"
      ]
     },
     "execution_count": 96,
     "metadata": {},
     "output_type": "execute_result"
    }
   ],
   "source": [
    "str_fi_disease_id[0]"
   ]
  },
  {
   "cell_type": "code",
   "execution_count": 98,
   "metadata": {
    "collapsed": false
   },
   "outputs": [
    {
     "data": {
      "text/html": [
       "<div>\n",
       "<table border=\"1\" class=\"dataframe\">\n",
       "  <thead>\n",
       "    <tr style=\"text-align: right;\">\n",
       "      <th></th>\n",
       "      <th>103780</th>\n",
       "      <th>608622</th>\n",
       "      <th>161900</th>\n",
       "      <th>145590</th>\n",
       "      <th>147530</th>\n",
       "      <th>157300</th>\n",
       "      <th>608088</th>\n",
       "      <th>140600</th>\n",
       "      <th>147480</th>\n",
       "      <th>600351</th>\n",
       "      <th>...</th>\n",
       "      <th>173200</th>\n",
       "      <th>115195</th>\n",
       "      <th>256700</th>\n",
       "      <th>601608</th>\n",
       "      <th>194070</th>\n",
       "      <th>115300</th>\n",
       "      <th>277350</th>\n",
       "      <th>240400</th>\n",
       "      <th>206200</th>\n",
       "      <th>250790</th>\n",
       "    </tr>\n",
       "  </thead>\n",
       "  <tbody>\n",
       "    <tr>\n",
       "      <th>100188812</th>\n",
       "      <td>0</td>\n",
       "      <td>0</td>\n",
       "      <td>0</td>\n",
       "      <td>0</td>\n",
       "      <td>0</td>\n",
       "      <td>0</td>\n",
       "      <td>0</td>\n",
       "      <td>0</td>\n",
       "      <td>0</td>\n",
       "      <td>0</td>\n",
       "      <td>...</td>\n",
       "      <td>0</td>\n",
       "      <td>0</td>\n",
       "      <td>0</td>\n",
       "      <td>0</td>\n",
       "      <td>0</td>\n",
       "      <td>0</td>\n",
       "      <td>0</td>\n",
       "      <td>0</td>\n",
       "      <td>0</td>\n",
       "      <td>0</td>\n",
       "    </tr>\n",
       "  </tbody>\n",
       "</table>\n",
       "<p>1 rows × 233 columns</p>\n",
       "</div>"
      ],
      "text/plain": [
       "           103780  608622  161900  145590  147530  157300  608088  140600  \\\n",
       "100188812       0       0       0       0       0       0       0       0   \n",
       "\n",
       "           147480  600351   ...    173200  115195  256700  601608  194070  \\\n",
       "100188812       0       0   ...         0       0       0       0       0   \n",
       "\n",
       "           115300  277350  240400  206200  250790  \n",
       "100188812       0       0       0       0       0  \n",
       "\n",
       "[1 rows x 233 columns]"
      ]
     },
     "execution_count": 98,
     "metadata": {},
     "output_type": "execute_result"
    }
   ],
   "source": [
    "a = di_feature.filter(items = str_fi_disease_id)\n",
    "a.head(1)"
   ]
  },
  {
   "cell_type": "code",
   "execution_count": 111,
   "metadata": {
    "collapsed": false
   },
   "outputs": [],
   "source": [
    "di_ge_sim = pd.read_table(\"/DAS_Storage1/aschoi/data/Drug_Repositioning/6_new_disease/9_gold_disease_similarity_genetic.tsv\")\n",
    "di_phe_sim = pd.read_table(\"/DAS_Storage1/aschoi/data/Drug_Repositioning/6_new_disease/9_gold_disease_similarity_mimminerc.tsv\", index_col=0)"
   ]
  },
  {
   "cell_type": "code",
   "execution_count": 123,
   "metadata": {
    "collapsed": false
   },
   "outputs": [
    {
     "name": "stdout",
     "output_type": "stream",
     "text": [
      "55225\n",
      "54755\n",
      "54289\n"
     ]
    }
   ],
   "source": [
    "print len(di_ge_sim)\n",
    "temp = di_ge_sim[(di_ge_sim['Disease_ID1'].isin(fi_disease_id))]\n",
    "print len(temp)\n",
    "fi_disease_ge_sim = temp[(temp['Disease_ID2'].isin(fi_disease_id))]\n",
    "print len(fi_disease_ge_sim)"
   ]
  },
  {
   "cell_type": "code",
   "execution_count": 121,
   "metadata": {
    "collapsed": false
   },
   "outputs": [
    {
     "name": "stdout",
     "output_type": "stream",
     "text": [
      "235\n",
      "233\n"
     ]
    },
    {
     "data": {
      "text/html": [
       "<div>\n",
       "<table border=\"1\" class=\"dataframe\">\n",
       "  <thead>\n",
       "    <tr style=\"text-align: right;\">\n",
       "      <th></th>\n",
       "      <th>103780</th>\n",
       "      <th>608622</th>\n",
       "      <th>161900</th>\n",
       "      <th>145590</th>\n",
       "      <th>147530</th>\n",
       "      <th>157300</th>\n",
       "      <th>608088</th>\n",
       "      <th>140600</th>\n",
       "      <th>147480</th>\n",
       "      <th>600351</th>\n",
       "      <th>...</th>\n",
       "      <th>173200</th>\n",
       "      <th>115195</th>\n",
       "      <th>256700</th>\n",
       "      <th>601608</th>\n",
       "      <th>194070</th>\n",
       "      <th>115300</th>\n",
       "      <th>277350</th>\n",
       "      <th>240400</th>\n",
       "      <th>206200</th>\n",
       "      <th>250790</th>\n",
       "    </tr>\n",
       "  </thead>\n",
       "  <tbody>\n",
       "    <tr>\n",
       "      <th>103780</th>\n",
       "      <td>1.0</td>\n",
       "      <td>0.231225</td>\n",
       "      <td>0.112214</td>\n",
       "      <td>0.106257</td>\n",
       "      <td>0.078062</td>\n",
       "      <td>0.127741</td>\n",
       "      <td>0.108825</td>\n",
       "      <td>0.0</td>\n",
       "      <td>0.152292</td>\n",
       "      <td>0.057957</td>\n",
       "      <td>...</td>\n",
       "      <td>0.031407</td>\n",
       "      <td>0.150525</td>\n",
       "      <td>0.136234</td>\n",
       "      <td>0.16048</td>\n",
       "      <td>0.12331</td>\n",
       "      <td>0.178678</td>\n",
       "      <td>0.141056</td>\n",
       "      <td>0.200361</td>\n",
       "      <td>0.162371</td>\n",
       "      <td>0.187959</td>\n",
       "    </tr>\n",
       "  </tbody>\n",
       "</table>\n",
       "<p>1 rows × 233 columns</p>\n",
       "</div>"
      ],
      "text/plain": [
       "        103780    608622    161900    145590    147530    157300    608088  \\\n",
       "103780     1.0  0.231225  0.112214  0.106257  0.078062  0.127741  0.108825   \n",
       "\n",
       "        140600    147480    600351    ...       173200    115195    256700  \\\n",
       "103780     0.0  0.152292  0.057957    ...     0.031407  0.150525  0.136234   \n",
       "\n",
       "         601608   194070    115300    277350    240400    206200    250790  \n",
       "103780  0.16048  0.12331  0.178678  0.141056  0.200361  0.162371  0.187959  \n",
       "\n",
       "[1 rows x 233 columns]"
      ]
     },
     "execution_count": 121,
     "metadata": {},
     "output_type": "execute_result"
    }
   ],
   "source": [
    "print len(di_phe_sim)\n",
    "temp = di_phe_sim.filter(items = str_fi_disease_id)\n",
    "fi_di_phe_sim = temp.filter(items = fi_disease_id, axis=0)\n",
    "print len(fi_di_phe_sim)\n",
    "fi_di_phe_sim.head(1)"
   ]
  },
  {
   "cell_type": "code",
   "execution_count": 130,
   "metadata": {
    "collapsed": true
   },
   "outputs": [],
   "source": [
    "fi_disease_id.to_csv(\"/DAS_Storage1/aschoi/data/Drug_Repositioning/6_new_disease/new_predict/1_gold_disease_id.tsv\", sep='\\t', index=False)\n",
    "fi_disease_id.to_csv(\"/home/share/aschoi/nas/users/asolchoi/data/Drug_Repositioning/6_new_disease/new_predict/1_gold_disease_id.tsv\", sep='\\t', index=False)\n",
    "fi_di_phe_sim.to_csv(\"/DAS_Storage1/aschoi/data/Drug_Repositioning/6_new_disease/new_predict/1_disease_disease_phe_sim_mat.tsv\",sep='\\t')\n",
    "fi_di_phe_sim.to_csv(\"/home/share/aschoi/nas/users/asolchoi/data/Drug_Repositioning/6_new_disease/new_predict/1_disease_disease_phe_sim_mat.tsv\",sep='\\t')\n",
    "fi_disease_ge_sim.to_csv(\"/DAS_Storage1/aschoi/data/Drug_Repositioning/6_new_disease/new_predict/1_disease_disease_ge_sim.tsv\", sep='\\t', index=False)\n",
    "fi_disease_ge_sim.to_csv(\"/home/share/aschoi/nas/users/asolchoi/data/Drug_Repositioning/6_new_disease/new_predict/1_diesease_disease_ger_sim.tsv\", sep='\\t', index=False)"
   ]
  },
  {
   "cell_type": "code",
   "execution_count": 182,
   "metadata": {
    "collapsed": false
   },
   "outputs": [
    {
     "name": "stderr",
     "output_type": "stream",
     "text": [
      "/usr/local/lib/python2.7/dist-packages/ipykernel/__main__.py:2: SettingWithCopyWarning: \n",
      "A value is trying to be set on a copy of a slice from a DataFrame.\n",
      "Try using .loc[row_indexer,col_indexer] = value instead\n",
      "\n",
      "See the caveats in the documentation: http://pandas.pydata.org/pandas-docs/stable/indexing.html#indexing-view-versus-copy\n",
      "  from ipykernel import kernelapp as app\n"
     ]
    },
    {
     "data": {
      "text/html": [
       "<div>\n",
       "<table border=\"1\" class=\"dataframe\">\n",
       "  <thead>\n",
       "    <tr style=\"text-align: right;\">\n",
       "      <th></th>\n",
       "      <th>Disease_ID1</th>\n",
       "      <th>Disease_ID2</th>\n",
       "      <th>GeSim</th>\n",
       "      <th>PheSim</th>\n",
       "    </tr>\n",
       "  </thead>\n",
       "  <tbody>\n",
       "    <tr>\n",
       "      <th>0</th>\n",
       "      <td>102300</td>\n",
       "      <td>102300</td>\n",
       "      <td>1.0</td>\n",
       "      <td>1.0</td>\n",
       "    </tr>\n",
       "  </tbody>\n",
       "</table>\n",
       "</div>"
      ],
      "text/plain": [
       "   Disease_ID1  Disease_ID2  GeSim  PheSim\n",
       "0       102300       102300    1.0     1.0"
      ]
     },
     "execution_count": 182,
     "metadata": {},
     "output_type": "execute_result"
    }
   ],
   "source": [
    "whole_disease = fi_disease_ge_sim\n",
    "whole_disease['PheSim'] = -2.0\n",
    "for index, row in fi_disease_ge_sim.iterrows():\n",
    "    ids = row.tolist()\n",
    "    di1 = ids[0]\n",
    "    di2 = ids[1]\n",
    "    sim = fi_di_phe_sim.ix[di2][str(int(di1))]\n",
    "    whole_disease.set_value(index, 'PheSim', sim)\n",
    "    cnt = cnt +1\n",
    "    if cnt == 2:\n",
    "        break\n",
    "whole_disease = whole_disease.rename(columns={'Similarity_Score':'GeSim'})\n",
    "whole_disease.head(1)"
   ]
  },
  {
   "cell_type": "code",
   "execution_count": 189,
   "metadata": {
    "collapsed": false
   },
   "outputs": [],
   "source": [
    "whole_disease.to_csv(\"/DAS_Storage1/aschoi/data/Drug_Repositioning/6_new_disease/new_predict/1_disease_disease_whole_sim.tsv\", sep='\\t', index=False)\n",
    "whole_disease.to_csv(\"/home/share/aschoi/nas/users/asolchoi/data/Drug_Repositioning/6_new_disease/new_predict/1_disease_disease_whole_sim.tsv\", sep='\\t', index=False)"
   ]
  },
  {
   "cell_type": "code",
   "execution_count": 216,
   "metadata": {
    "collapsed": true
   },
   "outputs": [],
   "source": [
    "fi_disease_ge_sim_mat = pd.DataFrame(index = fi_disease_id.tolist(),columns=fi_disease_id.tolist())\n",
    "fi_disease_ge_sim_mat.fillna(0.0)\n",
    "\n",
    "for index, row in fi_disease_ge_sim.iterrows():\n",
    "    fi_disease_ge_sim_mat[row['Disease_ID2']][row['Disease_ID1']] = row['Similarity_Score']"
   ]
  },
  {
   "cell_type": "code",
   "execution_count": 218,
   "metadata": {
    "collapsed": false
   },
   "outputs": [],
   "source": [
    "fi_disease_ge_sim_mat.to_csv(\"/DAS_Storage1/aschoi/data/Drug_Repositioning/6_new_disease/new_predict/1_disease_disease_ge_sim_mat.tsv\",sep='\\t')\n",
    "fi_disease_ge_sim_mat.to_csv(\"/home/share/aschoi/nas/users/asolchoi/data/Drug_Repositioning/6_new_disease/new_predict/1_disease_disease_ge_sim_mat.tsv\",sep='\\t')"
   ]
  },
  {
   "cell_type": "code",
   "execution_count": null,
   "metadata": {
    "collapsed": true
   },
   "outputs": [],
   "source": []
  }
 ],
 "metadata": {
  "kernelspec": {
   "display_name": "Python 2",
   "language": "python",
   "name": "python2"
  },
  "language_info": {
   "codemirror_mode": {
    "name": "ipython",
    "version": 2
   },
   "file_extension": ".py",
   "mimetype": "text/x-python",
   "name": "python",
   "nbconvert_exporter": "python",
   "pygments_lexer": "ipython2",
   "version": "2.7.6"
  }
 },
 "nbformat": 4,
 "nbformat_minor": 2
}
