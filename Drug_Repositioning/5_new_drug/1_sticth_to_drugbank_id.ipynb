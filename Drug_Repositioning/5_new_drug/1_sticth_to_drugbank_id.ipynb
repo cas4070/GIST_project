{
 "cells": [
  {
   "cell_type": "code",
   "execution_count": 1,
   "metadata": {
    "collapsed": false,
    "scrolled": true
   },
   "outputs": [],
   "source": [
    "import csv\n",
    "import numpy as np\n",
    "import pandas as pd\n",
    "import time\n",
    "from urllib2 import urlopen # python2\n",
    "import urllib2\n",
    "#import urllib.request #python3\n",
    "#from urllib.request import urlopen\n",
    "#import urllib.parse\n"
   ]
  },
  {
   "cell_type": "code",
   "execution_count": 3,
   "metadata": {
    "collapsed": false
   },
   "outputs": [],
   "source": [
    "raw_sider = pd.read_table(\"/home/share/aschoi/data/Drug_Repositioning/5_new_drug/meddra_all_label_se_header.tsv\")"
   ]
  },
  {
   "cell_type": "code",
   "execution_count": 2,
   "metadata": {
    "collapsed": true
   },
   "outputs": [],
   "source": [
    "stitch_cid = pd.read_table(\"/home/share/aschoi/data/COCONUT_Herbal/7_Ezyme_tool/STITCH_CID.tsv\")"
   ]
  },
  {
   "cell_type": "code",
   "execution_count": 4,
   "metadata": {
    "collapsed": false
   },
   "outputs": [
    {
     "name": "stdout",
     "output_type": "stream",
     "text": [
      "4753141\n"
     ]
    }
   ],
   "source": [
    "print(len(raw_sider))"
   ]
  },
  {
   "cell_type": "code",
   "execution_count": 5,
   "metadata": {
    "collapsed": false,
    "scrolled": true
   },
   "outputs": [
    {
     "name": "stdout",
     "output_type": "stream",
     "text": [
      "2523626\n"
     ]
    },
    {
     "data": {
      "text/html": [
       "<div>\n",
       "<table border=\"1\" class=\"dataframe\">\n",
       "  <thead>\n",
       "    <tr style=\"text-align: right;\">\n",
       "      <th></th>\n",
       "      <th>source_label</th>\n",
       "      <th>STITCH_compound_id_flat</th>\n",
       "      <th>STITCH_compound_id_stereo</th>\n",
       "      <th>UMLS_concept_id</th>\n",
       "      <th>MedDRA_concept_type</th>\n",
       "      <th>UMLS_concept_id_for_MedDRA</th>\n",
       "      <th>side_effect_name</th>\n",
       "    </tr>\n",
       "  </thead>\n",
       "  <tbody>\n",
       "    <tr>\n",
       "      <th>1</th>\n",
       "      <td>EMA/WC500020092.html</td>\n",
       "      <td>CID100216416</td>\n",
       "      <td>CID000216416</td>\n",
       "      <td>C0000737</td>\n",
       "      <td>PT</td>\n",
       "      <td>C0000737</td>\n",
       "      <td>Abdominal pain</td>\n",
       "    </tr>\n",
       "  </tbody>\n",
       "</table>\n",
       "</div>"
      ],
      "text/plain": [
       "           source_label STITCH_compound_id_flat STITCH_compound_id_stereo  \\\n",
       "1  EMA/WC500020092.html            CID100216416              CID000216416   \n",
       "\n",
       "  UMLS_concept_id MedDRA_concept_type UMLS_concept_id_for_MedDRA  \\\n",
       "1        C0000737                  PT                   C0000737   \n",
       "\n",
       "  side_effect_name  \n",
       "1   Abdominal pain  "
      ]
     },
     "execution_count": 5,
     "metadata": {},
     "output_type": "execute_result"
    }
   ],
   "source": [
    "raw_sider_pt = raw_sider[raw_sider.MedDRA_concept_type == 'PT']\n",
    "print(len(raw_sider_pt))\n",
    "raw_sider_pt.head(1)"
   ]
  },
  {
   "cell_type": "code",
   "execution_count": 6,
   "metadata": {
    "collapsed": false
   },
   "outputs": [
    {
     "name": "stdout",
     "output_type": "stream",
     "text": [
      "152759\n"
     ]
    }
   ],
   "source": [
    "print(len(raw_sider_pt.drop_duplicates(subset = ['STITCH_compound_id_flat','STITCH_compound_id_stereo', 'UMLS_concept_id_for_MedDRA', 'side_effect_name'])))"
   ]
  },
  {
   "cell_type": "code",
   "execution_count": 1,
   "metadata": {
    "collapsed": false
   },
   "outputs": [
    {
     "ename": "NameError",
     "evalue": "name 'raw_sider_pt' is not defined",
     "output_type": "error",
     "traceback": [
      "\u001b[1;31m---------------------------------------------------------------------------\u001b[0m",
      "\u001b[1;31mNameError\u001b[0m                                 Traceback (most recent call last)",
      "\u001b[1;32m<ipython-input-1-3b7e235be050>\u001b[0m in \u001b[0;36m<module>\u001b[1;34m()\u001b[0m\n\u001b[1;32m----> 1\u001b[1;33m \u001b[0msider\u001b[0m \u001b[1;33m=\u001b[0m \u001b[0mraw_sider_pt\u001b[0m\u001b[1;33m[\u001b[0m\u001b[1;33m[\u001b[0m\u001b[1;34m'STITCH_compound_id_flat'\u001b[0m\u001b[1;33m,\u001b[0m\u001b[1;34m'STITCH_compound_id_stereo'\u001b[0m\u001b[1;33m,\u001b[0m \u001b[1;34m'UMLS_concept_id_for_MedDRA'\u001b[0m\u001b[1;33m,\u001b[0m \u001b[1;34m'side_effect_name'\u001b[0m\u001b[1;33m]\u001b[0m\u001b[1;33m]\u001b[0m\u001b[1;33m\u001b[0m\u001b[0m\n\u001b[0m",
      "\u001b[1;31mNameError\u001b[0m: name 'raw_sider_pt' is not defined"
     ]
    }
   ],
   "source": [
    "sider = raw_sider_pt[['STITCH_compound_id_flat','STITCH_compound_id_stereo', 'UMLS_concept_id_for_MedDRA', 'side_effect_name']]"
   ]
  },
  {
   "cell_type": "code",
   "execution_count": 8,
   "metadata": {
    "collapsed": false
   },
   "outputs": [
    {
     "name": "stdout",
     "output_type": "stream",
     "text": [
      "2523626\n"
     ]
    }
   ],
   "source": [
    "print(len(sider))"
   ]
  },
  {
   "cell_type": "code",
   "execution_count": 9,
   "metadata": {
    "collapsed": false
   },
   "outputs": [
    {
     "name": "stdout",
     "output_type": "stream",
     "text": [
      "152759\n"
     ]
    },
    {
     "data": {
      "text/html": [
       "<div>\n",
       "<table border=\"1\" class=\"dataframe\">\n",
       "  <thead>\n",
       "    <tr style=\"text-align: right;\">\n",
       "      <th></th>\n",
       "      <th>STITCH_compound_id_flat</th>\n",
       "      <th>STITCH_compound_id_stereo</th>\n",
       "      <th>UMLS_concept_id_for_MedDRA</th>\n",
       "      <th>side_effect_name</th>\n",
       "    </tr>\n",
       "  </thead>\n",
       "  <tbody>\n",
       "    <tr>\n",
       "      <th>1</th>\n",
       "      <td>CID100216416</td>\n",
       "      <td>CID000216416</td>\n",
       "      <td>C0000737</td>\n",
       "      <td>Abdominal pain</td>\n",
       "    </tr>\n",
       "    <tr>\n",
       "      <th>2</th>\n",
       "      <td>CID100216416</td>\n",
       "      <td>CID000216416</td>\n",
       "      <td>C0687713</td>\n",
       "      <td>Gastrointestinal pain</td>\n",
       "    </tr>\n",
       "    <tr>\n",
       "      <th>4</th>\n",
       "      <td>CID100216416</td>\n",
       "      <td>CID000216416</td>\n",
       "      <td>C0002170</td>\n",
       "      <td>Alopecia</td>\n",
       "    </tr>\n",
       "    <tr>\n",
       "      <th>6</th>\n",
       "      <td>CID100216416</td>\n",
       "      <td>CID000216416</td>\n",
       "      <td>C0002395</td>\n",
       "      <td>Dementia Alzheimer's type</td>\n",
       "    </tr>\n",
       "    <tr>\n",
       "      <th>8</th>\n",
       "      <td>CID100216416</td>\n",
       "      <td>CID000216416</td>\n",
       "      <td>C0002622</td>\n",
       "      <td>Amnesia</td>\n",
       "    </tr>\n",
       "  </tbody>\n",
       "</table>\n",
       "</div>"
      ],
      "text/plain": [
       "  STITCH_compound_id_flat STITCH_compound_id_stereo  \\\n",
       "1            CID100216416              CID000216416   \n",
       "2            CID100216416              CID000216416   \n",
       "4            CID100216416              CID000216416   \n",
       "6            CID100216416              CID000216416   \n",
       "8            CID100216416              CID000216416   \n",
       "\n",
       "  UMLS_concept_id_for_MedDRA           side_effect_name  \n",
       "1                   C0000737             Abdominal pain  \n",
       "2                   C0687713      Gastrointestinal pain  \n",
       "4                   C0002170                   Alopecia  \n",
       "6                   C0002395  Dementia Alzheimer's type  \n",
       "8                   C0002622                    Amnesia  "
      ]
     },
     "execution_count": 9,
     "metadata": {},
     "output_type": "execute_result"
    }
   ],
   "source": [
    "sider_wo_dup = sider.drop_duplicates()\n",
    "print(len(sider_wo_dup))\n",
    "sider_wo_dup.head()"
   ]
  },
  {
   "cell_type": "code",
   "execution_count": 42,
   "metadata": {
    "collapsed": false
   },
   "outputs": [
    {
     "data": {
      "text/plain": [
       "4251"
      ]
     },
     "execution_count": 42,
     "metadata": {},
     "output_type": "execute_result"
    }
   ],
   "source": [
    "len(sider_wo_dup.drop_duplicates(subset='side_effect_name'))"
   ]
  },
  {
   "cell_type": "code",
   "execution_count": 10,
   "metadata": {
    "collapsed": false
   },
   "outputs": [
    {
     "data": {
      "text/html": [
       "<div>\n",
       "<table border=\"1\" class=\"dataframe\">\n",
       "  <thead>\n",
       "    <tr style=\"text-align: right;\">\n",
       "      <th></th>\n",
       "      <th>flat_chemical</th>\n",
       "      <th>stereo_chemical</th>\n",
       "      <th>source_name</th>\n",
       "      <th>source_id</th>\n",
       "    </tr>\n",
       "  </thead>\n",
       "  <tbody>\n",
       "    <tr>\n",
       "      <th>0</th>\n",
       "      <td>CID100000001</td>\n",
       "      <td>CID000000001</td>\n",
       "      <td>PC</td>\n",
       "      <td>1</td>\n",
       "    </tr>\n",
       "  </tbody>\n",
       "</table>\n",
       "</div>"
      ],
      "text/plain": [
       "  flat_chemical stereo_chemical source_name  source_id\n",
       "0  CID100000001    CID000000001          PC          1"
      ]
     },
     "execution_count": 10,
     "metadata": {},
     "output_type": "execute_result"
    }
   ],
   "source": [
    "stitch_cid.head(1)"
   ]
  },
  {
   "cell_type": "code",
   "execution_count": 11,
   "metadata": {
    "collapsed": true
   },
   "outputs": [],
   "source": [
    "sider_wo_dup2 = sider_wo_dup.drop_duplicates(subset=['STITCH_compound_id_flat', 'STITCH_compound_id_stereo'])"
   ]
  },
  {
   "cell_type": "code",
   "execution_count": 12,
   "metadata": {
    "collapsed": false
   },
   "outputs": [
    {
     "name": "stdout",
     "output_type": "stream",
     "text": [
      "1556\n"
     ]
    },
    {
     "data": {
      "text/html": [
       "<div>\n",
       "<table border=\"1\" class=\"dataframe\">\n",
       "  <thead>\n",
       "    <tr style=\"text-align: right;\">\n",
       "      <th></th>\n",
       "      <th>STITCH_compound_id_flat</th>\n",
       "      <th>STITCH_compound_id_stereo</th>\n",
       "      <th>UMLS_concept_id_for_MedDRA</th>\n",
       "      <th>side_effect_name</th>\n",
       "    </tr>\n",
       "  </thead>\n",
       "  <tbody>\n",
       "    <tr>\n",
       "      <th>1</th>\n",
       "      <td>CID100216416</td>\n",
       "      <td>CID000216416</td>\n",
       "      <td>C0000737</td>\n",
       "      <td>Abdominal pain</td>\n",
       "    </tr>\n",
       "    <tr>\n",
       "      <th>653</th>\n",
       "      <td>CID100060795</td>\n",
       "      <td>CID000060795</td>\n",
       "      <td>C0002170</td>\n",
       "      <td>Alopecia</td>\n",
       "    </tr>\n",
       "    <tr>\n",
       "      <th>894</th>\n",
       "      <td>CID100001690</td>\n",
       "      <td>CID000031703</td>\n",
       "      <td>C0000737</td>\n",
       "      <td>Abdominal pain</td>\n",
       "    </tr>\n",
       "    <tr>\n",
       "      <th>1276</th>\n",
       "      <td>CID105251896</td>\n",
       "      <td>CID006918537</td>\n",
       "      <td>C0002994</td>\n",
       "      <td>Angioedema</td>\n",
       "    </tr>\n",
       "    <tr>\n",
       "      <th>1346</th>\n",
       "      <td>CID100004666</td>\n",
       "      <td>CID000441276</td>\n",
       "      <td>C0000731</td>\n",
       "      <td>Abdominal distension</td>\n",
       "    </tr>\n",
       "  </tbody>\n",
       "</table>\n",
       "</div>"
      ],
      "text/plain": [
       "     STITCH_compound_id_flat STITCH_compound_id_stereo  \\\n",
       "1               CID100216416              CID000216416   \n",
       "653             CID100060795              CID000060795   \n",
       "894             CID100001690              CID000031703   \n",
       "1276            CID105251896              CID006918537   \n",
       "1346            CID100004666              CID000441276   \n",
       "\n",
       "     UMLS_concept_id_for_MedDRA      side_effect_name  \n",
       "1                      C0000737        Abdominal pain  \n",
       "653                    C0002170              Alopecia  \n",
       "894                    C0000737        Abdominal pain  \n",
       "1276                   C0002994            Angioedema  \n",
       "1346                   C0000731  Abdominal distension  "
      ]
     },
     "execution_count": 12,
     "metadata": {},
     "output_type": "execute_result"
    }
   ],
   "source": [
    "print(len(sider_wo_dup2))\n",
    "sider_wo_dup2.head()"
   ]
  },
  {
   "cell_type": "code",
   "execution_count": 37,
   "metadata": {
    "collapsed": false
   },
   "outputs": [
    {
     "data": {
      "text/html": [
       "<div>\n",
       "<table border=\"1\" class=\"dataframe\">\n",
       "  <thead>\n",
       "    <tr style=\"text-align: right;\">\n",
       "      <th></th>\n",
       "      <th>flat_chemical</th>\n",
       "      <th>stereo_chemical</th>\n",
       "      <th>source_name</th>\n",
       "      <th>source_id</th>\n",
       "    </tr>\n",
       "  </thead>\n",
       "  <tbody>\n",
       "    <tr>\n",
       "      <th>726186</th>\n",
       "      <td>CID100216416</td>\n",
       "      <td>CID000216416</td>\n",
       "      <td>PC</td>\n",
       "      <td>10671241</td>\n",
       "    </tr>\n",
       "    <tr>\n",
       "      <th>8282091</th>\n",
       "      <td>CID100216416</td>\n",
       "      <td>CID000216416</td>\n",
       "      <td>PC</td>\n",
       "      <td>216416</td>\n",
       "    </tr>\n",
       "    <tr>\n",
       "      <th>9947949</th>\n",
       "      <td>CID100216416</td>\n",
       "      <td>CID000216416</td>\n",
       "      <td>PC</td>\n",
       "      <td>23724939</td>\n",
       "    </tr>\n",
       "    <tr>\n",
       "      <th>13672549</th>\n",
       "      <td>CID100216416</td>\n",
       "      <td>CID000216416</td>\n",
       "      <td>PC</td>\n",
       "      <td>3081919</td>\n",
       "    </tr>\n",
       "    <tr>\n",
       "      <th>41347226</th>\n",
       "      <td>CID100216416</td>\n",
       "      <td>CID000216416</td>\n",
       "      <td>PC</td>\n",
       "      <td>68514402</td>\n",
       "    </tr>\n",
       "    <tr>\n",
       "      <th>41350863</th>\n",
       "      <td>CID100216416</td>\n",
       "      <td>CID000216416</td>\n",
       "      <td>PC</td>\n",
       "      <td>68517869</td>\n",
       "    </tr>\n",
       "    <tr>\n",
       "      <th>41633260</th>\n",
       "      <td>CID100216416</td>\n",
       "      <td>CID000216416</td>\n",
       "      <td>PC</td>\n",
       "      <td>68779769</td>\n",
       "    </tr>\n",
       "  </tbody>\n",
       "</table>\n",
       "</div>"
      ],
      "text/plain": [
       "         flat_chemical stereo_chemical source_name  source_id\n",
       "726186    CID100216416    CID000216416          PC   10671241\n",
       "8282091   CID100216416    CID000216416          PC     216416\n",
       "9947949   CID100216416    CID000216416          PC   23724939\n",
       "13672549  CID100216416    CID000216416          PC    3081919\n",
       "41347226  CID100216416    CID000216416          PC   68514402\n",
       "41350863  CID100216416    CID000216416          PC   68517869\n",
       "41633260  CID100216416    CID000216416          PC   68779769"
      ]
     },
     "execution_count": 37,
     "metadata": {},
     "output_type": "execute_result"
    }
   ],
   "source": [
    "stitch_cid[(stitch_cid.flat_chemical == 'CID100216416') & (stitch_cid.stereo_chemical == 'CID000216416')]"
   ]
  },
  {
   "cell_type": "code",
   "execution_count": 38,
   "metadata": {
    "collapsed": false
   },
   "outputs": [
    {
     "data": {
      "text/html": [
       "<div>\n",
       "<table border=\"1\" class=\"dataframe\">\n",
       "  <thead>\n",
       "    <tr style=\"text-align: right;\">\n",
       "      <th></th>\n",
       "      <th>STITCH_compound_id_flat</th>\n",
       "      <th>STITCH_compound_id_stereo</th>\n",
       "      <th>UMLS_concept_id_for_MedDRA</th>\n",
       "      <th>side_effect_name</th>\n",
       "    </tr>\n",
       "  </thead>\n",
       "  <tbody>\n",
       "    <tr>\n",
       "      <th>1</th>\n",
       "      <td>CID100216416</td>\n",
       "      <td>CID000216416</td>\n",
       "      <td>C0000737</td>\n",
       "      <td>Abdominal pain</td>\n",
       "    </tr>\n",
       "  </tbody>\n",
       "</table>\n",
       "</div>"
      ],
      "text/plain": [
       "  STITCH_compound_id_flat STITCH_compound_id_stereo  \\\n",
       "1            CID100216416              CID000216416   \n",
       "\n",
       "  UMLS_concept_id_for_MedDRA side_effect_name  \n",
       "1                   C0000737   Abdominal pain  "
      ]
     },
     "execution_count": 38,
     "metadata": {},
     "output_type": "execute_result"
    }
   ],
   "source": [
    "sider_wo_dup2[(sider_wo_dup2.STITCH_compound_id_flat=='CID100216416') & (sider_wo_dup2.STITCH_compound_id_stereo == 'CID000216416')]"
   ]
  },
  {
   "cell_type": "code",
   "execution_count": 14,
   "metadata": {
    "collapsed": false
   },
   "outputs": [],
   "source": [
    "query_pair = list()\n",
    "for index, row in sider_wo_dup2.iterrows():\n",
    "    record =row.tolist()\n",
    "    \n",
    "    #found = stitch_cid.query('@record[0] == flat_chemical and @record[1]==stereo_chemical')\n",
    "    found = stitch_cid[(stitch_cid.flat_chemical == record[0]) & (stitch_cid.stereo_chemical == record[1])]\n",
    "    query_pc_id = found['source_id'].tolist()\n",
    "    \n",
    "    query_pair.append([record[0], record[1], query_pc_id])"
   ]
  },
  {
   "cell_type": "code",
   "execution_count": 23,
   "metadata": {
    "collapsed": false
   },
   "outputs": [],
   "source": [
    "df_query_pair = pd.DataFrame()\n",
    "for i in query_pair:\n",
    "    for j in i[2]:\n",
    "        temp_df = pd.DataFrame([[i[0], i[1], j]], columns = ['stitch_flat', 'stitch_stereo', 'pubchem_cid'])\n",
    "        df_query_pair = df_query_pair.append(temp_df)\n",
    "df_query_pair.to_csv(\"/home/share/aschoi/data/Drug_Repositioning/5_new_drug/1_sider_pubchem.tsv\", sep='\\t', index=False)  \n",
    "print(len(df_query_pair))"
   ]
  },
  {
   "cell_type": "code",
   "execution_count": 13,
   "metadata": {
    "collapsed": false
   },
   "outputs": [],
   "source": [
    "df_query_pair = pd.read_table(\"/home/share/aschoi/data/Drug_Repositioning/5_new_drug/1_sider_pubchem.tsv\")"
   ]
  },
  {
   "cell_type": "code",
   "execution_count": 14,
   "metadata": {
    "collapsed": false
   },
   "outputs": [
    {
     "name": "stdout",
     "output_type": "stream",
     "text": [
      "13265\n"
     ]
    },
    {
     "data": {
      "text/html": [
       "<div>\n",
       "<table border=\"1\" class=\"dataframe\">\n",
       "  <thead>\n",
       "    <tr style=\"text-align: right;\">\n",
       "      <th></th>\n",
       "      <th>stitch_flat</th>\n",
       "      <th>stitch_stereo</th>\n",
       "      <th>pubchem_cid</th>\n",
       "    </tr>\n",
       "  </thead>\n",
       "  <tbody>\n",
       "    <tr>\n",
       "      <th>0</th>\n",
       "      <td>CID100216416</td>\n",
       "      <td>CID000216416</td>\n",
       "      <td>10671241</td>\n",
       "    </tr>\n",
       "    <tr>\n",
       "      <th>1</th>\n",
       "      <td>CID100216416</td>\n",
       "      <td>CID000216416</td>\n",
       "      <td>216416</td>\n",
       "    </tr>\n",
       "    <tr>\n",
       "      <th>2</th>\n",
       "      <td>CID100216416</td>\n",
       "      <td>CID000216416</td>\n",
       "      <td>23724939</td>\n",
       "    </tr>\n",
       "    <tr>\n",
       "      <th>3</th>\n",
       "      <td>CID100216416</td>\n",
       "      <td>CID000216416</td>\n",
       "      <td>3081919</td>\n",
       "    </tr>\n",
       "    <tr>\n",
       "      <th>4</th>\n",
       "      <td>CID100216416</td>\n",
       "      <td>CID000216416</td>\n",
       "      <td>68514402</td>\n",
       "    </tr>\n",
       "  </tbody>\n",
       "</table>\n",
       "</div>"
      ],
      "text/plain": [
       "    stitch_flat stitch_stereo  pubchem_cid\n",
       "0  CID100216416  CID000216416     10671241\n",
       "1  CID100216416  CID000216416       216416\n",
       "2  CID100216416  CID000216416     23724939\n",
       "3  CID100216416  CID000216416      3081919\n",
       "4  CID100216416  CID000216416     68514402"
      ]
     },
     "execution_count": 14,
     "metadata": {},
     "output_type": "execute_result"
    }
   ],
   "source": [
    "print(len(df_query_pair))\n",
    "df_query_pair.head()"
   ]
  },
  {
   "cell_type": "code",
   "execution_count": 18,
   "metadata": {
    "collapsed": false
   },
   "outputs": [
    {
     "name": "stdout",
     "output_type": "stream",
     "text": [
      "3301 : Mon 01:08:23\n",
      "4000 : Mon 01:20:41\n",
      "5000 : Mon 01:38:19\n",
      "6000 : Mon 01:55:51\n",
      "7000 : Mon 02:13:22\n",
      "8000 : Mon 02:30:53\n",
      "9000 : Mon 02:48:26\n",
      "10000 : Mon 03:05:58\n",
      "11000 : Mon 03:23:29\n",
      "12000 : Mon 03:40:59\n",
      "13000 : Mon 03:58:33\n",
      "Mon 04:03:13\n"
     ]
    }
   ],
   "source": [
    "# using UniChem REST API, convert pubchemID to DrugBank ID\n",
    "with open(\"/home/share/aschoi/data/Drug_Repositioning/5_new_drug/3_SIDER_DrugBank_id.tsv\", \"wa\") as resultFile:\n",
    "    features = ['STITCH_compound_id_flat', 'STITCH_compound_id_stereo', 'PubChem_ID', 'DrugBank_ID']\n",
    "    resultTsv = csv.DictWriter(resultFile, features, dialect=csv.excel_tab)\n",
    "    resultTsv.writeheader()\n",
    "    \n",
    "    #cnt = 0\n",
    "    url_base = 'https://www.ebi.ac.uk/unichem/rest/src_compound_id/'\n",
    "    print'%d : ' % cnt + time.strftime('%a %H:%M:%S')\n",
    "    for index, row in df_query_pair[cnt-1:].iterrows():\n",
    "        record = row.tolist()\n",
    "        stitch_id_flat = record[0]\n",
    "        stitch_id_stereo = record[1]\n",
    "        pubchem_id = record[2]\n",
    "        url = url_base + str(pubchem_id) + '/22/2'\n",
    "\n",
    "        try:\n",
    "            f = urlopen(url)\n",
    "        except urllib2.HTTPError, e:\n",
    "            if e.code == 404:\n",
    "                cnt = cnt + 1\n",
    "                if cnt % 1000 == 0 :\n",
    "                    print '%d : '% cnt + time.strftime('%a %H:%M:%S')\n",
    "                continue\n",
    "            else:\n",
    "                print 'e.code : %d, url : %s, cnt : d' % (e.code, url, cnt)\n",
    "                raise\n",
    "        except urllib2.URLError, e:\n",
    "            if e.args[0][0] == 110: # connection time out\n",
    "                #sleep_secs = attempt ** 2\n",
    "                print e\n",
    "                print url\n",
    "                print '  cnt = %d, error time : ' % (cnt) + time.strftime('%a %H:%M:%S')\n",
    "                print '    Retrying in %d seconds...' % sleep_secs\n",
    "                time.sleep(sleep_secs)\n",
    "                cnt= cnt +1\n",
    "                if cnt % 1000 == 0 :\n",
    "                    print '%d : '% cnt + time.strftime('%a %H:%M:%S')\n",
    "                continue \n",
    "            else:\n",
    "                print e\n",
    "                print '   cnt : %d, error time : ' % (cnt) + time.strftime('%a %H:%M:%S')\n",
    "                raise\n",
    "        else:          \n",
    "            all_data = f.readlines()\n",
    "            if all_data[0] == '[]':\n",
    "                cnt = cnt + 1\n",
    "            else:\n",
    "                #db_id=all_data[0].decode(\"utf-8\").split(':')[1]  \n",
    "                db_id=all_data[0] \n",
    "                resultTsv.writerow({'STITCH_compound_id_flat':stitch_id_flat, 'STITCH_compound_id_stereo':stitch_id_stereo, \n",
    "                                'PubChem_ID' : pubchem_id, 'DrugBank_ID' : db_id})     \n",
    "                cnt = cnt + 1\n",
    "            if cnt % 1000 == 0 :\n",
    "                print '%d : '% cnt + time.strftime('%a %H:%M:%S')\n",
    "\n",
    "print time.strftime('%a %H:%M:%S')\n"
   ]
  },
  {
   "cell_type": "code",
   "execution_count": 23,
   "metadata": {
    "collapsed": false
   },
   "outputs": [
    {
     "data": {
      "text/html": [
       "<div>\n",
       "<table border=\"1\" class=\"dataframe\">\n",
       "  <thead>\n",
       "    <tr style=\"text-align: right;\">\n",
       "      <th></th>\n",
       "      <th>stitch_flat</th>\n",
       "      <th>stitch_stereo</th>\n",
       "      <th>pubchem_cid</th>\n",
       "    </tr>\n",
       "  </thead>\n",
       "  <tbody>\n",
       "    <tr>\n",
       "      <th>0</th>\n",
       "      <td>CID100216416</td>\n",
       "      <td>CID000216416</td>\n",
       "      <td>10671241</td>\n",
       "    </tr>\n",
       "  </tbody>\n",
       "</table>\n",
       "</div>"
      ],
      "text/plain": [
       "    stitch_flat stitch_stereo  pubchem_cid\n",
       "0  CID100216416  CID000216416     10671241"
      ]
     },
     "execution_count": 23,
     "metadata": {},
     "output_type": "execute_result"
    }
   ],
   "source": [
    "df_query_pair.head(1)"
   ]
  },
  {
   "cell_type": "code",
   "execution_count": 24,
   "metadata": {
    "collapsed": false
   },
   "outputs": [
    {
     "name": "stdout",
     "output_type": "stream",
     "text": [
      "13265\n",
      "1556\n"
     ]
    }
   ],
   "source": [
    "print(len(df_query_pair))\n",
    "print(len(df_query_pair.drop_duplicates(subset=['stitch_flat', 'stitch_stereo'])))"
   ]
  },
  {
   "cell_type": "code",
   "execution_count": 20,
   "metadata": {
    "collapsed": false
   },
   "outputs": [],
   "source": [
    "df_raw = pd.read_table(\"/home/share/aschoi/data/Drug_Repositioning/5_new_drug/3_SIDER_DrugBank_id.tsv\")"
   ]
  },
  {
   "cell_type": "code",
   "execution_count": 43,
   "metadata": {
    "collapsed": false
   },
   "outputs": [
    {
     "name": "stdout",
     "output_type": "stream",
     "text": [
      "861\n",
      "861\n",
      "787\n"
     ]
    },
    {
     "data": {
      "text/html": [
       "<div>\n",
       "<table border=\"1\" class=\"dataframe\">\n",
       "  <thead>\n",
       "    <tr style=\"text-align: right;\">\n",
       "      <th></th>\n",
       "      <th>STITCH_compound_id_flat</th>\n",
       "      <th>STITCH_compound_id_stereo</th>\n",
       "      <th>PubChem_ID</th>\n",
       "      <th>DrugBank_ID</th>\n",
       "    </tr>\n",
       "  </thead>\n",
       "  <tbody>\n",
       "    <tr>\n",
       "      <th>0</th>\n",
       "      <td>CID100002656</td>\n",
       "      <td>CID005479530</td>\n",
       "      <td>5479530</td>\n",
       "      <td>[{\"src_compound_id\":\"DB01212\"}]</td>\n",
       "    </tr>\n",
       "    <tr>\n",
       "      <th>1</th>\n",
       "      <td>CID100002650</td>\n",
       "      <td>CID005481173</td>\n",
       "      <td>5481173</td>\n",
       "      <td>[{\"src_compound_id\":\"DB00438\"}]</td>\n",
       "    </tr>\n",
       "    <tr>\n",
       "      <th>2</th>\n",
       "      <td>CID100002650</td>\n",
       "      <td>CID005481173</td>\n",
       "      <td>57514439</td>\n",
       "      <td>[{\"src_compound_id\":\"DB00438\"}]</td>\n",
       "    </tr>\n",
       "    <tr>\n",
       "      <th>3</th>\n",
       "      <td>CID100002771</td>\n",
       "      <td>CID000002771</td>\n",
       "      <td>2771</td>\n",
       "      <td>[{\"src_compound_id\":\"DB00215\"}]</td>\n",
       "    </tr>\n",
       "    <tr>\n",
       "      <th>4</th>\n",
       "      <td>CID100002617</td>\n",
       "      <td>CID000033255</td>\n",
       "      <td>33255</td>\n",
       "      <td>[{\"src_compound_id\":\"DB01327\"}]</td>\n",
       "    </tr>\n",
       "  </tbody>\n",
       "</table>\n",
       "</div>"
      ],
      "text/plain": [
       "  STITCH_compound_id_flat STITCH_compound_id_stereo  PubChem_ID  \\\n",
       "0            CID100002656              CID005479530     5479530   \n",
       "1            CID100002650              CID005481173     5481173   \n",
       "2            CID100002650              CID005481173    57514439   \n",
       "3            CID100002771              CID000002771        2771   \n",
       "4            CID100002617              CID000033255       33255   \n",
       "\n",
       "                       DrugBank_ID  \n",
       "0  [{\"src_compound_id\":\"DB01212\"}]  \n",
       "1  [{\"src_compound_id\":\"DB00438\"}]  \n",
       "2  [{\"src_compound_id\":\"DB00438\"}]  \n",
       "3  [{\"src_compound_id\":\"DB00215\"}]  \n",
       "4  [{\"src_compound_id\":\"DB01327\"}]  "
      ]
     },
     "execution_count": 43,
     "metadata": {},
     "output_type": "execute_result"
    }
   ],
   "source": [
    "print(len(df_raw))\n",
    "print(len(df_raw.drop_duplicates()))\n",
    "print(len(df_raw.drop_duplicates(subset=['STITCH_compound_id_flat', 'STITCH_compound_id_stereo'])))\n",
    "df_raw.head()"
   ]
  },
  {
   "cell_type": "code",
   "execution_count": 29,
   "metadata": {
    "collapsed": true
   },
   "outputs": [],
   "source": [
    "result = pd.DataFrame()\n",
    "for index, row in df_raw.iterrows():\n",
    "    record = row.tolist()\n",
    "    db_ids = record[3].split(',')\n",
    "    for i in db_ids:\n",
    "        db_id = i.split(':')[1].lstrip('\\\"').rstrip('\\\"}]')\n",
    "        temp_df = pd.DataFrame([[record[0], record[1], record[2], db_id]], columns = ['STITCH_compound_id_flat',\n",
    "                                                                                      'STITCH_compound_id_stereo', \n",
    "                                                                                      'PubChem_ID', 'DrugBank_ID'])\n",
    "        result = result.append(temp_df)\n",
    "result.index = range(0, len(result))\n",
    "    \n",
    "        "
   ]
  },
  {
   "cell_type": "code",
   "execution_count": 32,
   "metadata": {
    "collapsed": false
   },
   "outputs": [
    {
     "name": "stdout",
     "output_type": "stream",
     "text": [
      "874\n",
      "874\n",
      "801\n",
      "787\n",
      "801\n"
     ]
    }
   ],
   "source": [
    "print len(result)\n",
    "print len(result.drop_duplicates())\n",
    "print len(result.drop_duplicates(subset = ['STITCH_compound_id_flat','STITCH_compound_id_stereo', 'DrugBank_ID']))\n",
    "print len(result.drop_duplicates(subset = ['STITCH_compound_id_flat','STITCH_compound_id_stereo']))\n",
    "print len(result.drop_duplicates(subset = ['DrugBank_ID']))"
   ]
  },
  {
   "cell_type": "code",
   "execution_count": 33,
   "metadata": {
    "collapsed": true
   },
   "outputs": [],
   "source": [
    "result.to_csv(\"/home/share/aschoi/data/Drug_Repositioning/5_new_drug/3_2_SIDER_DrugBank_id.tsv\", sep='\\t', index=False)"
   ]
  },
  {
   "cell_type": "code",
   "execution_count": 34,
   "metadata": {
    "collapsed": false
   },
   "outputs": [
    {
     "data": {
      "text/html": [
       "<div>\n",
       "<table border=\"1\" class=\"dataframe\">\n",
       "  <thead>\n",
       "    <tr style=\"text-align: right;\">\n",
       "      <th></th>\n",
       "      <th>STITCH_compound_id_flat</th>\n",
       "      <th>STITCH_compound_id_stereo</th>\n",
       "      <th>PubChem_ID</th>\n",
       "      <th>DrugBank_ID</th>\n",
       "    </tr>\n",
       "  </thead>\n",
       "  <tbody>\n",
       "    <tr>\n",
       "      <th>0</th>\n",
       "      <td>CID100002656</td>\n",
       "      <td>CID005479530</td>\n",
       "      <td>5479530</td>\n",
       "      <td>DB01212</td>\n",
       "    </tr>\n",
       "    <tr>\n",
       "      <th>1</th>\n",
       "      <td>CID100002650</td>\n",
       "      <td>CID005481173</td>\n",
       "      <td>5481173</td>\n",
       "      <td>DB00438</td>\n",
       "    </tr>\n",
       "    <tr>\n",
       "      <th>2</th>\n",
       "      <td>CID100002650</td>\n",
       "      <td>CID005481173</td>\n",
       "      <td>57514439</td>\n",
       "      <td>DB00438</td>\n",
       "    </tr>\n",
       "    <tr>\n",
       "      <th>3</th>\n",
       "      <td>CID100002771</td>\n",
       "      <td>CID000002771</td>\n",
       "      <td>2771</td>\n",
       "      <td>DB00215</td>\n",
       "    </tr>\n",
       "    <tr>\n",
       "      <th>4</th>\n",
       "      <td>CID100002617</td>\n",
       "      <td>CID000033255</td>\n",
       "      <td>33255</td>\n",
       "      <td>DB01327</td>\n",
       "    </tr>\n",
       "  </tbody>\n",
       "</table>\n",
       "</div>"
      ],
      "text/plain": [
       "  STITCH_compound_id_flat STITCH_compound_id_stereo  PubChem_ID DrugBank_ID\n",
       "0            CID100002656              CID005479530     5479530     DB01212\n",
       "1            CID100002650              CID005481173     5481173     DB00438\n",
       "2            CID100002650              CID005481173    57514439     DB00438\n",
       "3            CID100002771              CID000002771        2771     DB00215\n",
       "4            CID100002617              CID000033255       33255     DB01327"
      ]
     },
     "execution_count": 34,
     "metadata": {},
     "output_type": "execute_result"
    }
   ],
   "source": [
    "result.head()"
   ]
  },
  {
   "cell_type": "code",
   "execution_count": 45,
   "metadata": {
    "collapsed": false
   },
   "outputs": [
    {
     "data": {
      "text/html": [
       "<div>\n",
       "<table border=\"1\" class=\"dataframe\">\n",
       "  <thead>\n",
       "    <tr style=\"text-align: right;\">\n",
       "      <th></th>\n",
       "      <th>STITCH_compound_id_flat</th>\n",
       "      <th>STITCH_compound_id_stereo</th>\n",
       "      <th>PubChem_ID</th>\n",
       "      <th>DrugBank_ID</th>\n",
       "    </tr>\n",
       "  </thead>\n",
       "  <tbody>\n",
       "    <tr>\n",
       "      <th>337</th>\n",
       "      <td>CID100000119</td>\n",
       "      <td>CID000000119</td>\n",
       "      <td>119</td>\n",
       "      <td>DB02530</td>\n",
       "    </tr>\n",
       "    <tr>\n",
       "      <th>482</th>\n",
       "      <td>CID100000564</td>\n",
       "      <td>CID000000564</td>\n",
       "      <td>564</td>\n",
       "      <td>DB00513</td>\n",
       "    </tr>\n",
       "    <tr>\n",
       "      <th>670</th>\n",
       "      <td>CID100000750</td>\n",
       "      <td>CID000000750</td>\n",
       "      <td>750</td>\n",
       "      <td>DB00145</td>\n",
       "    </tr>\n",
       "    <tr>\n",
       "      <th>177</th>\n",
       "      <td>CID100002141</td>\n",
       "      <td>CID000002141</td>\n",
       "      <td>2141</td>\n",
       "      <td>DB01143</td>\n",
       "    </tr>\n",
       "    <tr>\n",
       "      <th>443</th>\n",
       "      <td>CID100002266</td>\n",
       "      <td>CID000002266</td>\n",
       "      <td>2266</td>\n",
       "      <td>DB00548</td>\n",
       "    </tr>\n",
       "    <tr>\n",
       "      <th>5</th>\n",
       "      <td>CID100002764</td>\n",
       "      <td>CID000002764</td>\n",
       "      <td>2764</td>\n",
       "      <td>DB00537</td>\n",
       "    </tr>\n",
       "    <tr>\n",
       "      <th>6</th>\n",
       "      <td>CID100002764</td>\n",
       "      <td>CID000002764</td>\n",
       "      <td>2764</td>\n",
       "      <td>DB05488</td>\n",
       "    </tr>\n",
       "    <tr>\n",
       "      <th>209</th>\n",
       "      <td>CID100002767</td>\n",
       "      <td>CID000002767</td>\n",
       "      <td>2767</td>\n",
       "      <td>DB00515</td>\n",
       "    </tr>\n",
       "    <tr>\n",
       "      <th>68</th>\n",
       "      <td>CID100003446</td>\n",
       "      <td>CID000003446</td>\n",
       "      <td>3446</td>\n",
       "      <td>DB00996</td>\n",
       "    </tr>\n",
       "    <tr>\n",
       "      <th>66</th>\n",
       "      <td>CID100004539</td>\n",
       "      <td>CID000004539</td>\n",
       "      <td>4539</td>\n",
       "      <td>DB01059</td>\n",
       "    </tr>\n",
       "    <tr>\n",
       "      <th>110</th>\n",
       "      <td>CID100004583</td>\n",
       "      <td>CID000004583</td>\n",
       "      <td>4583</td>\n",
       "      <td>DB01165</td>\n",
       "    </tr>\n",
       "    <tr>\n",
       "      <th>189</th>\n",
       "      <td>CID100004673</td>\n",
       "      <td>CID000004673</td>\n",
       "      <td>4674</td>\n",
       "      <td>DB00282</td>\n",
       "    </tr>\n",
       "    <tr>\n",
       "      <th>409</th>\n",
       "      <td>CID100005379</td>\n",
       "      <td>CID000005379</td>\n",
       "      <td>5379</td>\n",
       "      <td>DB01044</td>\n",
       "    </tr>\n",
       "    <tr>\n",
       "      <th>255</th>\n",
       "      <td>CID100005665</td>\n",
       "      <td>CID000005665</td>\n",
       "      <td>5665</td>\n",
       "      <td>DB01080</td>\n",
       "    </tr>\n",
       "    <tr>\n",
       "      <th>197</th>\n",
       "      <td>CID100005775</td>\n",
       "      <td>CID000005775</td>\n",
       "      <td>5775</td>\n",
       "      <td>DB00692</td>\n",
       "    </tr>\n",
       "    <tr>\n",
       "      <th>290</th>\n",
       "      <td>CID100000853</td>\n",
       "      <td>CID000005819</td>\n",
       "      <td>5819</td>\n",
       "      <td>DB00451</td>\n",
       "    </tr>\n",
       "    <tr>\n",
       "      <th>489</th>\n",
       "      <td>CID100002551</td>\n",
       "      <td>CID000002551</td>\n",
       "      <td>5831</td>\n",
       "      <td>DB00411</td>\n",
       "    </tr>\n",
       "    <tr>\n",
       "      <th>17</th>\n",
       "      <td>CID100004727</td>\n",
       "      <td>CID000005852</td>\n",
       "      <td>5852</td>\n",
       "      <td>DB00859</td>\n",
       "    </tr>\n",
       "    <tr>\n",
       "      <th>809</th>\n",
       "      <td>CID100000861</td>\n",
       "      <td>CID000005920</td>\n",
       "      <td>5920</td>\n",
       "      <td>DB00279</td>\n",
       "    </tr>\n",
       "    <tr>\n",
       "      <th>853</th>\n",
       "      <td>CID100000738</td>\n",
       "      <td>CID000005961</td>\n",
       "      <td>5961</td>\n",
       "      <td>DB02174</td>\n",
       "    </tr>\n",
       "    <tr>\n",
       "      <th>852</th>\n",
       "      <td>CID100000738</td>\n",
       "      <td>CID000005961</td>\n",
       "      <td>5961</td>\n",
       "      <td>DB00130</td>\n",
       "    </tr>\n",
       "    <tr>\n",
       "      <th>543</th>\n",
       "      <td>CID100006049</td>\n",
       "      <td>CID000006049</td>\n",
       "      <td>6049</td>\n",
       "      <td>DB00974</td>\n",
       "    </tr>\n",
       "    <tr>\n",
       "      <th>513</th>\n",
       "      <td>CID100006116</td>\n",
       "      <td>CID000006116</td>\n",
       "      <td>6116</td>\n",
       "      <td>DB00258</td>\n",
       "    </tr>\n",
       "    <tr>\n",
       "      <th>751</th>\n",
       "      <td>CID100000401</td>\n",
       "      <td>CID000006234</td>\n",
       "      <td>6234</td>\n",
       "      <td>DB00260</td>\n",
       "    </tr>\n",
       "    <tr>\n",
       "      <th>700</th>\n",
       "      <td>CID100002173</td>\n",
       "      <td>CID000006249</td>\n",
       "      <td>6249</td>\n",
       "      <td>DB00415</td>\n",
       "    </tr>\n",
       "    <tr>\n",
       "      <th>537</th>\n",
       "      <td>CID100000232</td>\n",
       "      <td>CID000006322</td>\n",
       "      <td>6322</td>\n",
       "      <td>DB00125</td>\n",
       "    </tr>\n",
       "    <tr>\n",
       "      <th>204</th>\n",
       "      <td>CID100015232</td>\n",
       "      <td>CID000015232</td>\n",
       "      <td>15232</td>\n",
       "      <td>DB09323</td>\n",
       "    </tr>\n",
       "    <tr>\n",
       "      <th>42</th>\n",
       "      <td>CID100002666</td>\n",
       "      <td>CID000027447</td>\n",
       "      <td>27447</td>\n",
       "      <td>DB00567</td>\n",
       "    </tr>\n",
       "    <tr>\n",
       "      <th>532</th>\n",
       "      <td>CID100000232</td>\n",
       "      <td>CID000006322</td>\n",
       "      <td>28782</td>\n",
       "      <td>DB00125</td>\n",
       "    </tr>\n",
       "    <tr>\n",
       "      <th>280</th>\n",
       "      <td>CID100000598</td>\n",
       "      <td>CID000000598</td>\n",
       "      <td>29769</td>\n",
       "      <td>DB09110</td>\n",
       "    </tr>\n",
       "    <tr>\n",
       "      <th>...</th>\n",
       "      <td>...</td>\n",
       "      <td>...</td>\n",
       "      <td>...</td>\n",
       "      <td>...</td>\n",
       "    </tr>\n",
       "    <tr>\n",
       "      <th>279</th>\n",
       "      <td>CID100000598</td>\n",
       "      <td>CID000000598</td>\n",
       "      <td>23662354</td>\n",
       "      <td>DB09110</td>\n",
       "    </tr>\n",
       "    <tr>\n",
       "      <th>208</th>\n",
       "      <td>CID100002767</td>\n",
       "      <td>CID000002767</td>\n",
       "      <td>24191118</td>\n",
       "      <td>DB00515</td>\n",
       "    </tr>\n",
       "    <tr>\n",
       "      <th>397</th>\n",
       "      <td>CID100060714</td>\n",
       "      <td>CID000060714</td>\n",
       "      <td>24838311</td>\n",
       "      <td>DB00597</td>\n",
       "    </tr>\n",
       "    <tr>\n",
       "      <th>205</th>\n",
       "      <td>CID100015232</td>\n",
       "      <td>CID000015232</td>\n",
       "      <td>25137901</td>\n",
       "      <td>DB09323</td>\n",
       "    </tr>\n",
       "    <tr>\n",
       "      <th>289</th>\n",
       "      <td>CID100000853</td>\n",
       "      <td>CID000005819</td>\n",
       "      <td>25201348</td>\n",
       "      <td>DB00451</td>\n",
       "    </tr>\n",
       "    <tr>\n",
       "      <th>254</th>\n",
       "      <td>CID100005665</td>\n",
       "      <td>CID000005665</td>\n",
       "      <td>25202592</td>\n",
       "      <td>DB01080</td>\n",
       "    </tr>\n",
       "    <tr>\n",
       "      <th>784</th>\n",
       "      <td>CID100002563</td>\n",
       "      <td>CID000034359</td>\n",
       "      <td>28082766</td>\n",
       "      <td>DB00190</td>\n",
       "    </tr>\n",
       "    <tr>\n",
       "      <th>459</th>\n",
       "      <td>CID100002678</td>\n",
       "      <td>CID001548999</td>\n",
       "      <td>28145931</td>\n",
       "      <td>DB06282</td>\n",
       "    </tr>\n",
       "    <tr>\n",
       "      <th>178</th>\n",
       "      <td>CID100002141</td>\n",
       "      <td>CID000002141</td>\n",
       "      <td>29927142</td>\n",
       "      <td>DB01143</td>\n",
       "    </tr>\n",
       "    <tr>\n",
       "      <th>293</th>\n",
       "      <td>CID100002311</td>\n",
       "      <td>CID005362123</td>\n",
       "      <td>40466887</td>\n",
       "      <td>DB00542</td>\n",
       "    </tr>\n",
       "    <tr>\n",
       "      <th>303</th>\n",
       "      <td>CID100002751</td>\n",
       "      <td>CID000056329</td>\n",
       "      <td>40466888</td>\n",
       "      <td>DB01340</td>\n",
       "    </tr>\n",
       "    <tr>\n",
       "      <th>150</th>\n",
       "      <td>CID100003222</td>\n",
       "      <td>CID005388961</td>\n",
       "      <td>40466924</td>\n",
       "      <td>DB00584</td>\n",
       "    </tr>\n",
       "    <tr>\n",
       "      <th>77</th>\n",
       "      <td>CID100005005</td>\n",
       "      <td>CID000054891</td>\n",
       "      <td>40466957</td>\n",
       "      <td>DB00881</td>\n",
       "    </tr>\n",
       "    <tr>\n",
       "      <th>352</th>\n",
       "      <td>CID100005486</td>\n",
       "      <td>CID000060946</td>\n",
       "      <td>40466968</td>\n",
       "      <td>DB00775</td>\n",
       "    </tr>\n",
       "    <tr>\n",
       "      <th>361</th>\n",
       "      <td>CID100060706</td>\n",
       "      <td>CID000441129</td>\n",
       "      <td>40466974</td>\n",
       "      <td>DB00760</td>\n",
       "    </tr>\n",
       "    <tr>\n",
       "      <th>687</th>\n",
       "      <td>CID100060184</td>\n",
       "      <td>CID000107807</td>\n",
       "      <td>40466996</td>\n",
       "      <td>DB00790</td>\n",
       "    </tr>\n",
       "    <tr>\n",
       "      <th>344</th>\n",
       "      <td>CID100004259</td>\n",
       "      <td>CID000101526</td>\n",
       "      <td>40467042</td>\n",
       "      <td>DB00218</td>\n",
       "    </tr>\n",
       "    <tr>\n",
       "      <th>428</th>\n",
       "      <td>CID100005466</td>\n",
       "      <td>CID000060648</td>\n",
       "      <td>40467242</td>\n",
       "      <td>DB00906</td>\n",
       "    </tr>\n",
       "    <tr>\n",
       "      <th>163</th>\n",
       "      <td>CID100005721</td>\n",
       "      <td>CID000060855</td>\n",
       "      <td>40469135</td>\n",
       "      <td>DB00558</td>\n",
       "    </tr>\n",
       "    <tr>\n",
       "      <th>398</th>\n",
       "      <td>CID100060714</td>\n",
       "      <td>CID000060714</td>\n",
       "      <td>44144429</td>\n",
       "      <td>DB00597</td>\n",
       "    </tr>\n",
       "    <tr>\n",
       "      <th>188</th>\n",
       "      <td>CID100004673</td>\n",
       "      <td>CID000004673</td>\n",
       "      <td>44400012</td>\n",
       "      <td>DB00282</td>\n",
       "    </tr>\n",
       "    <tr>\n",
       "      <th>632</th>\n",
       "      <td>CID100041781</td>\n",
       "      <td>CID000041781</td>\n",
       "      <td>51371498</td>\n",
       "      <td>DB00214</td>\n",
       "    </tr>\n",
       "    <tr>\n",
       "      <th>448</th>\n",
       "      <td>CID105488547</td>\n",
       "      <td>CID005488547</td>\n",
       "      <td>51397022</td>\n",
       "      <td>DB06274</td>\n",
       "    </tr>\n",
       "    <tr>\n",
       "      <th>750</th>\n",
       "      <td>CID100000401</td>\n",
       "      <td>CID000006234</td>\n",
       "      <td>51670069</td>\n",
       "      <td>DB00260</td>\n",
       "    </tr>\n",
       "    <tr>\n",
       "      <th>534</th>\n",
       "      <td>CID100000232</td>\n",
       "      <td>CID000006322</td>\n",
       "      <td>52941769</td>\n",
       "      <td>DB04027</td>\n",
       "    </tr>\n",
       "    <tr>\n",
       "      <th>488</th>\n",
       "      <td>CID100002551</td>\n",
       "      <td>CID000002551</td>\n",
       "      <td>53627818</td>\n",
       "      <td>DB00411</td>\n",
       "    </tr>\n",
       "    <tr>\n",
       "      <th>247</th>\n",
       "      <td>CID100022318</td>\n",
       "      <td>CID000022318</td>\n",
       "      <td>57485859</td>\n",
       "      <td>DB09276</td>\n",
       "    </tr>\n",
       "    <tr>\n",
       "      <th>2</th>\n",
       "      <td>CID100002650</td>\n",
       "      <td>CID005481173</td>\n",
       "      <td>57514439</td>\n",
       "      <td>DB00438</td>\n",
       "    </tr>\n",
       "    <tr>\n",
       "      <th>535</th>\n",
       "      <td>CID100000232</td>\n",
       "      <td>CID000006322</td>\n",
       "      <td>59294017</td>\n",
       "      <td>DB04027</td>\n",
       "    </tr>\n",
       "    <tr>\n",
       "      <th>536</th>\n",
       "      <td>CID100000232</td>\n",
       "      <td>CID000006322</td>\n",
       "      <td>59904234</td>\n",
       "      <td>DB04027</td>\n",
       "    </tr>\n",
       "  </tbody>\n",
       "</table>\n",
       "<p>136 rows × 4 columns</p>\n",
       "</div>"
      ],
      "text/plain": [
       "    STITCH_compound_id_flat STITCH_compound_id_stereo  PubChem_ID DrugBank_ID\n",
       "337            CID100000119              CID000000119         119     DB02530\n",
       "482            CID100000564              CID000000564         564     DB00513\n",
       "670            CID100000750              CID000000750         750     DB00145\n",
       "177            CID100002141              CID000002141        2141     DB01143\n",
       "443            CID100002266              CID000002266        2266     DB00548\n",
       "5              CID100002764              CID000002764        2764     DB00537\n",
       "6              CID100002764              CID000002764        2764     DB05488\n",
       "209            CID100002767              CID000002767        2767     DB00515\n",
       "68             CID100003446              CID000003446        3446     DB00996\n",
       "66             CID100004539              CID000004539        4539     DB01059\n",
       "110            CID100004583              CID000004583        4583     DB01165\n",
       "189            CID100004673              CID000004673        4674     DB00282\n",
       "409            CID100005379              CID000005379        5379     DB01044\n",
       "255            CID100005665              CID000005665        5665     DB01080\n",
       "197            CID100005775              CID000005775        5775     DB00692\n",
       "290            CID100000853              CID000005819        5819     DB00451\n",
       "489            CID100002551              CID000002551        5831     DB00411\n",
       "17             CID100004727              CID000005852        5852     DB00859\n",
       "809            CID100000861              CID000005920        5920     DB00279\n",
       "853            CID100000738              CID000005961        5961     DB02174\n",
       "852            CID100000738              CID000005961        5961     DB00130\n",
       "543            CID100006049              CID000006049        6049     DB00974\n",
       "513            CID100006116              CID000006116        6116     DB00258\n",
       "751            CID100000401              CID000006234        6234     DB00260\n",
       "700            CID100002173              CID000006249        6249     DB00415\n",
       "537            CID100000232              CID000006322        6322     DB00125\n",
       "204            CID100015232              CID000015232       15232     DB09323\n",
       "42             CID100002666              CID000027447       27447     DB00567\n",
       "532            CID100000232              CID000006322       28782     DB00125\n",
       "280            CID100000598              CID000000598       29769     DB09110\n",
       "..                      ...                       ...         ...         ...\n",
       "279            CID100000598              CID000000598    23662354     DB09110\n",
       "208            CID100002767              CID000002767    24191118     DB00515\n",
       "397            CID100060714              CID000060714    24838311     DB00597\n",
       "205            CID100015232              CID000015232    25137901     DB09323\n",
       "289            CID100000853              CID000005819    25201348     DB00451\n",
       "254            CID100005665              CID000005665    25202592     DB01080\n",
       "784            CID100002563              CID000034359    28082766     DB00190\n",
       "459            CID100002678              CID001548999    28145931     DB06282\n",
       "178            CID100002141              CID000002141    29927142     DB01143\n",
       "293            CID100002311              CID005362123    40466887     DB00542\n",
       "303            CID100002751              CID000056329    40466888     DB01340\n",
       "150            CID100003222              CID005388961    40466924     DB00584\n",
       "77             CID100005005              CID000054891    40466957     DB00881\n",
       "352            CID100005486              CID000060946    40466968     DB00775\n",
       "361            CID100060706              CID000441129    40466974     DB00760\n",
       "687            CID100060184              CID000107807    40466996     DB00790\n",
       "344            CID100004259              CID000101526    40467042     DB00218\n",
       "428            CID100005466              CID000060648    40467242     DB00906\n",
       "163            CID100005721              CID000060855    40469135     DB00558\n",
       "398            CID100060714              CID000060714    44144429     DB00597\n",
       "188            CID100004673              CID000004673    44400012     DB00282\n",
       "632            CID100041781              CID000041781    51371498     DB00214\n",
       "448            CID105488547              CID005488547    51397022     DB06274\n",
       "750            CID100000401              CID000006234    51670069     DB00260\n",
       "534            CID100000232              CID000006322    52941769     DB04027\n",
       "488            CID100002551              CID000002551    53627818     DB00411\n",
       "247            CID100022318              CID000022318    57485859     DB09276\n",
       "2              CID100002650              CID005481173    57514439     DB00438\n",
       "535            CID100000232              CID000006322    59294017     DB04027\n",
       "536            CID100000232              CID000006322    59904234     DB04027\n",
       "\n",
       "[136 rows x 4 columns]"
      ]
     },
     "execution_count": 45,
     "metadata": {},
     "output_type": "execute_result"
    }
   ],
   "source": [
    "result[result.duplicated(subset = ['STITCH_compound_id_flat','STITCH_compound_id_stereo', 'DrugBank_ID'], keep=False)].sort_values(by = 'PubChem_ID')#.sort_values(by = 'DrugBank_ID')"
   ]
  },
  {
   "cell_type": "code",
   "execution_count": 36,
   "metadata": {
    "collapsed": true
   },
   "outputs": [],
   "source": [
    "stitch_db_table = result[['STITCH_compound_id_flat','STITCH_compound_id_stereo', 'DrugBank_ID']].drop_duplicates()"
   ]
  },
  {
   "cell_type": "code",
   "execution_count": 38,
   "metadata": {
    "collapsed": false
   },
   "outputs": [
    {
     "name": "stdout",
     "output_type": "stream",
     "text": [
      "801\n",
      "874\n"
     ]
    }
   ],
   "source": [
    "print len(stitch_db_table)\n",
    "print len(result[['STITCH_compound_id_flat','STITCH_compound_id_stereo', 'DrugBank_ID']])"
   ]
  },
  {
   "cell_type": "code",
   "execution_count": 39,
   "metadata": {
    "collapsed": true
   },
   "outputs": [],
   "source": [
    "stitch_db_table.to_csv(\"/home/share/aschoi/data/Drug_Repositioning/5_new_drug/3_3_SIDER_STITCHid_DrugBankid.tsv\", sep='\\t', index=False)"
   ]
  },
  {
   "cell_type": "code",
   "execution_count": 47,
   "metadata": {
    "collapsed": false
   },
   "outputs": [
    {
     "data": {
      "text/html": [
       "<div>\n",
       "<table border=\"1\" class=\"dataframe\">\n",
       "  <thead>\n",
       "    <tr style=\"text-align: right;\">\n",
       "      <th></th>\n",
       "      <th>STITCH_compound_id_flat</th>\n",
       "      <th>STITCH_compound_id_stereo</th>\n",
       "      <th>DrugBank_ID</th>\n",
       "    </tr>\n",
       "  </thead>\n",
       "  <tbody>\n",
       "    <tr>\n",
       "      <th>5</th>\n",
       "      <td>CID100002764</td>\n",
       "      <td>CID000002764</td>\n",
       "      <td>DB00537</td>\n",
       "    </tr>\n",
       "    <tr>\n",
       "      <th>6</th>\n",
       "      <td>CID100002764</td>\n",
       "      <td>CID000002764</td>\n",
       "      <td>DB05488</td>\n",
       "    </tr>\n",
       "    <tr>\n",
       "      <th>25</th>\n",
       "      <td>CID100005203</td>\n",
       "      <td>CID000063009</td>\n",
       "      <td>DB01104</td>\n",
       "    </tr>\n",
       "    <tr>\n",
       "      <th>26</th>\n",
       "      <td>CID100005203</td>\n",
       "      <td>CID000063009</td>\n",
       "      <td>DB08567</td>\n",
       "    </tr>\n",
       "    <tr>\n",
       "      <th>62</th>\n",
       "      <td>CID100004454</td>\n",
       "      <td>CID000008378</td>\n",
       "      <td>DB00452</td>\n",
       "    </tr>\n",
       "    <tr>\n",
       "      <th>63</th>\n",
       "      <td>CID100004454</td>\n",
       "      <td>CID000008378</td>\n",
       "      <td>DB00994</td>\n",
       "    </tr>\n",
       "    <tr>\n",
       "      <th>128</th>\n",
       "      <td>CID100004428</td>\n",
       "      <td>CID005360515</td>\n",
       "      <td>DB05302</td>\n",
       "    </tr>\n",
       "    <tr>\n",
       "      <th>129</th>\n",
       "      <td>CID100004428</td>\n",
       "      <td>CID005360515</td>\n",
       "      <td>DB05508</td>\n",
       "    </tr>\n",
       "    <tr>\n",
       "      <th>130</th>\n",
       "      <td>CID100004428</td>\n",
       "      <td>CID005360515</td>\n",
       "      <td>DB00704</td>\n",
       "    </tr>\n",
       "    <tr>\n",
       "      <th>167</th>\n",
       "      <td>CID100002524</td>\n",
       "      <td>CID005280453</td>\n",
       "      <td>DB00136</td>\n",
       "    </tr>\n",
       "    <tr>\n",
       "      <th>168</th>\n",
       "      <td>CID100002524</td>\n",
       "      <td>CID005280453</td>\n",
       "      <td>DB05314</td>\n",
       "    </tr>\n",
       "    <tr>\n",
       "      <th>222</th>\n",
       "      <td>CID100000699</td>\n",
       "      <td>CID003001028</td>\n",
       "      <td>DB00286</td>\n",
       "    </tr>\n",
       "    <tr>\n",
       "      <th>223</th>\n",
       "      <td>CID100000699</td>\n",
       "      <td>CID003001028</td>\n",
       "      <td>DB04574</td>\n",
       "    </tr>\n",
       "    <tr>\n",
       "      <th>531</th>\n",
       "      <td>CID100000232</td>\n",
       "      <td>CID000006322</td>\n",
       "      <td>DB04027</td>\n",
       "    </tr>\n",
       "    <tr>\n",
       "      <th>532</th>\n",
       "      <td>CID100000232</td>\n",
       "      <td>CID000006322</td>\n",
       "      <td>DB00125</td>\n",
       "    </tr>\n",
       "    <tr>\n",
       "      <th>547</th>\n",
       "      <td>CID100042955</td>\n",
       "      <td>CID005282381</td>\n",
       "      <td>DB00929</td>\n",
       "    </tr>\n",
       "    <tr>\n",
       "      <th>548</th>\n",
       "      <td>CID100042955</td>\n",
       "      <td>CID005282381</td>\n",
       "      <td>DB05379</td>\n",
       "    </tr>\n",
       "    <tr>\n",
       "      <th>552</th>\n",
       "      <td>CID100024450</td>\n",
       "      <td>CID000024450</td>\n",
       "      <td>DB09414</td>\n",
       "    </tr>\n",
       "    <tr>\n",
       "      <th>553</th>\n",
       "      <td>CID100024450</td>\n",
       "      <td>CID000024450</td>\n",
       "      <td>DB09413</td>\n",
       "    </tr>\n",
       "    <tr>\n",
       "      <th>666</th>\n",
       "      <td>CID100000753</td>\n",
       "      <td>CID000000753</td>\n",
       "      <td>DB04077</td>\n",
       "    </tr>\n",
       "    <tr>\n",
       "      <th>667</th>\n",
       "      <td>CID100000753</td>\n",
       "      <td>CID000000753</td>\n",
       "      <td>DB09462</td>\n",
       "    </tr>\n",
       "    <tr>\n",
       "      <th>677</th>\n",
       "      <td>CID100000085</td>\n",
       "      <td>CID000010917</td>\n",
       "      <td>DB00583</td>\n",
       "    </tr>\n",
       "    <tr>\n",
       "      <th>678</th>\n",
       "      <td>CID100000085</td>\n",
       "      <td>CID000010917</td>\n",
       "      <td>DB02648</td>\n",
       "    </tr>\n",
       "    <tr>\n",
       "      <th>790</th>\n",
       "      <td>CID109818231</td>\n",
       "      <td>CID009926791</td>\n",
       "      <td>DB08183</td>\n",
       "    </tr>\n",
       "    <tr>\n",
       "      <th>791</th>\n",
       "      <td>CID109818231</td>\n",
       "      <td>CID009926791</td>\n",
       "      <td>DB08895</td>\n",
       "    </tr>\n",
       "    <tr>\n",
       "      <th>852</th>\n",
       "      <td>CID100000738</td>\n",
       "      <td>CID000005961</td>\n",
       "      <td>DB00130</td>\n",
       "    </tr>\n",
       "    <tr>\n",
       "      <th>853</th>\n",
       "      <td>CID100000738</td>\n",
       "      <td>CID000005961</td>\n",
       "      <td>DB02174</td>\n",
       "    </tr>\n",
       "  </tbody>\n",
       "</table>\n",
       "</div>"
      ],
      "text/plain": [
       "    STITCH_compound_id_flat STITCH_compound_id_stereo DrugBank_ID\n",
       "5              CID100002764              CID000002764     DB00537\n",
       "6              CID100002764              CID000002764     DB05488\n",
       "25             CID100005203              CID000063009     DB01104\n",
       "26             CID100005203              CID000063009     DB08567\n",
       "62             CID100004454              CID000008378     DB00452\n",
       "63             CID100004454              CID000008378     DB00994\n",
       "128            CID100004428              CID005360515     DB05302\n",
       "129            CID100004428              CID005360515     DB05508\n",
       "130            CID100004428              CID005360515     DB00704\n",
       "167            CID100002524              CID005280453     DB00136\n",
       "168            CID100002524              CID005280453     DB05314\n",
       "222            CID100000699              CID003001028     DB00286\n",
       "223            CID100000699              CID003001028     DB04574\n",
       "531            CID100000232              CID000006322     DB04027\n",
       "532            CID100000232              CID000006322     DB00125\n",
       "547            CID100042955              CID005282381     DB00929\n",
       "548            CID100042955              CID005282381     DB05379\n",
       "552            CID100024450              CID000024450     DB09414\n",
       "553            CID100024450              CID000024450     DB09413\n",
       "666            CID100000753              CID000000753     DB04077\n",
       "667            CID100000753              CID000000753     DB09462\n",
       "677            CID100000085              CID000010917     DB00583\n",
       "678            CID100000085              CID000010917     DB02648\n",
       "790            CID109818231              CID009926791     DB08183\n",
       "791            CID109818231              CID009926791     DB08895\n",
       "852            CID100000738              CID000005961     DB00130\n",
       "853            CID100000738              CID000005961     DB02174"
      ]
     },
     "execution_count": 47,
     "metadata": {},
     "output_type": "execute_result"
    }
   ],
   "source": [
    "stitch_db_table[stitch_db_table.duplicated(subset=['STITCH_compound_id_flat','STITCH_compound_id_stereo'], keep=False)]"
   ]
  },
  {
   "cell_type": "code",
   "execution_count": null,
   "metadata": {
    "collapsed": true
   },
   "outputs": [],
   "source": []
  },
  {
   "cell_type": "code",
   "execution_count": null,
   "metadata": {
    "collapsed": true
   },
   "outputs": [],
   "source": []
  },
  {
   "cell_type": "code",
   "execution_count": null,
   "metadata": {
    "collapsed": true
   },
   "outputs": [],
   "source": []
  },
  {
   "cell_type": "code",
   "execution_count": null,
   "metadata": {
    "collapsed": true
   },
   "outputs": [],
   "source": []
  },
  {
   "cell_type": "code",
   "execution_count": null,
   "metadata": {
    "collapsed": true
   },
   "outputs": [],
   "source": []
  }
 ],
 "metadata": {
  "kernelspec": {
   "display_name": "Python 2",
   "language": "python",
   "name": "python2"
  },
  "language_info": {
   "codemirror_mode": {
    "name": "ipython",
    "version": 2
   },
   "file_extension": ".py",
   "mimetype": "text/x-python",
   "name": "python",
   "nbconvert_exporter": "python",
   "pygments_lexer": "ipython2",
   "version": "2.7.6"
  }
 },
 "nbformat": 4,
 "nbformat_minor": 0
}
