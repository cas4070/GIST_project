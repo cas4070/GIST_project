{
 "cells": [
  {
   "cell_type": "code",
   "execution_count": 1,
   "metadata": {
    "collapsed": true
   },
   "outputs": [],
   "source": [
    "import csv\n",
    "import numpy as np\n",
    "import pandas as pd\n",
    "import time\n",
    "from urllib2 import urlopen # python2\n",
    "import urllib2"
   ]
  },
  {
   "cell_type": "code",
   "execution_count": 7,
   "metadata": {
    "collapsed": false
   },
   "outputs": [],
   "source": [
    "sider_id = pd.read_table(\"/DAS_Storage1/aschoi/data/Drug_Repositioning/5_new_drug/3_3_SIDER_STITCHid_DrugBankid.tsv\")\n",
    "sider_se = pd.read_table(\"/DAS_Storage1/aschoi/data/Drug_Repositioning/5_new_drug/3_4_SIDER_db_side_effect.tsv\")\n",
    "offside_id = pd.read_table(\"/DAS_Storage1/aschoi/data/Drug_Repositioning/5_new_drug/4_3_OFFSIDE_STITCHid_DrugBankid.tsv\")\n",
    "offside_se = pd.read_table(\"/DAS_Storage1/aschoi/data/Drug_Repositioning/5_new_drug/4_4_OFFSIDE_db_side_effect.tsv\")"
   ]
  },
  {
   "cell_type": "code",
   "execution_count": 5,
   "metadata": {
    "collapsed": true
   },
   "outputs": [],
   "source": [
    "df_asso = pd.read_table(\"/DAS_Storage1/aschoi/data/Drug_Repositioning/7_new_association/3_PREDICT_id_association.tsv\")"
   ]
  },
  {
   "cell_type": "code",
   "execution_count": 10,
   "metadata": {
    "collapsed": false
   },
   "outputs": [
    {
     "name": "stdout",
     "output_type": "stream",
     "text": [
      "1920\n",
      "588\n",
      "313\n"
     ]
    },
    {
     "data": {
      "text/html": [
       "<div>\n",
       "<table border=\"1\" class=\"dataframe\">\n",
       "  <thead>\n",
       "    <tr style=\"text-align: right;\">\n",
       "      <th></th>\n",
       "      <th>DrugBank_ID</th>\n",
       "      <th>OMIM_ID</th>\n",
       "    </tr>\n",
       "  </thead>\n",
       "  <tbody>\n",
       "    <tr>\n",
       "      <th>0</th>\n",
       "      <td>DB00659</td>\n",
       "      <td>103780</td>\n",
       "    </tr>\n",
       "    <tr>\n",
       "      <th>1</th>\n",
       "      <td>DB00284</td>\n",
       "      <td>125853</td>\n",
       "    </tr>\n",
       "  </tbody>\n",
       "</table>\n",
       "</div>"
      ],
      "text/plain": [
       "  DrugBank_ID  OMIM_ID\n",
       "0     DB00659   103780\n",
       "1     DB00284   125853"
      ]
     },
     "execution_count": 10,
     "metadata": {},
     "output_type": "execute_result"
    }
   ],
   "source": [
    "print(len(df_asso))\n",
    "print(len(df_asso.drop_duplicates(subset='DrugBank_ID')))\n",
    "print(len(df_asso.drop_duplicates(subset='OMIM_ID')))\n",
    "df_asso.head(2)"
   ]
  },
  {
   "cell_type": "code",
   "execution_count": 26,
   "metadata": {
    "collapsed": true
   },
   "outputs": [],
   "source": [
    "sider_merged = pd.merge(left=sider_id, right=sider_se)"
   ]
  },
  {
   "cell_type": "code",
   "execution_count": 29,
   "metadata": {
    "collapsed": false
   },
   "outputs": [
    {
     "name": "stdout",
     "output_type": "stream",
     "text": [
      "73951\n",
      "73951\n"
     ]
    }
   ],
   "source": [
    "sider_db_se = sider_merged[['DrugBank_ID','UMLS_concept_id_for_MedDRA','side_effect_name']]\n",
    "print len(sider_db_se)\n",
    "print len(sider_db_se.drop_duplicates())"
   ]
  },
  {
   "cell_type": "code",
   "execution_count": 61,
   "metadata": {
    "collapsed": true
   },
   "outputs": [],
   "source": [
    "sider_db_se.to_csv(\"/home/share/aschoi/nas/users/asolchoi/data/Drug_Repositioning/5_new_drug/3_5_SIDER_DrugBank_sideffect.tsv\", sep='\\t', index=False)\n",
    "sider_db_se.to_csv(\"/DAS_Storage1/aschoi/data/Drug_Repositioning/5_new_drug/3_5_SIDER_DrugBank_sideffect.tsv\", sep='\\t', index=False)"
   ]
  },
  {
   "cell_type": "code",
   "execution_count": 23,
   "metadata": {
    "collapsed": true
   },
   "outputs": [],
   "source": [
    "off_merged = pd.merge(left=offside_id, right=offside_se, left_on = 'STITCH_compound_id_stereo', right_on='stitch_id')"
   ]
  },
  {
   "cell_type": "code",
   "execution_count": 24,
   "metadata": {
    "collapsed": false
   },
   "outputs": [
    {
     "name": "stdout",
     "output_type": "stream",
     "text": [
      "195460\n",
      "195460\n"
     ]
    }
   ],
   "source": [
    "off_db_se = off_merged[['DrugBank_ID', 'umls_id', 'event']]\n",
    "print len(off_db_se)\n",
    "print len(off_db_se.drop_duplicates())"
   ]
  },
  {
   "cell_type": "code",
   "execution_count": 62,
   "metadata": {
    "collapsed": true
   },
   "outputs": [],
   "source": [
    "off_db_se.to_csv(\"/home/share/aschoi/nas/users/asolchoi/data/Drug_Repositioning/5_new_drug/4_5_OFFSIDE_DrugBank_sideffect.tsv\", sep='\\t', index=False)\n",
    "off_db_se.to_csv(\"/DAS_Storage1/aschoi/data/Drug_Repositioning/5_new_drug/4_5_OFFSIDE_DrugBank_sideffect.tsv\", sep='\\t', index=False)"
   ]
  },
  {
   "cell_type": "code",
   "execution_count": 30,
   "metadata": {
    "collapsed": true
   },
   "outputs": [],
   "source": [
    "sider_db_se = sider_db_se.rename(columns={'UMLS_concept_id_for_MedDRA':'umls_id', 'side_effect_name':'event'})"
   ]
  },
  {
   "cell_type": "code",
   "execution_count": 52,
   "metadata": {
    "collapsed": false,
    "scrolled": true
   },
   "outputs": [
    {
     "name": "stdout",
     "output_type": "stream",
     "text": [
      "269411\n"
     ]
    }
   ],
   "source": [
    "concated = pd.concat([sider_db_se, off_db_se])\n",
    "print len(concated)"
   ]
  },
  {
   "cell_type": "code",
   "execution_count": 53,
   "metadata": {
    "collapsed": true
   },
   "outputs": [],
   "source": [
    "drugbank_se = concated.drop_duplicates(['DrugBank_ID', 'umls_id'])"
   ]
  },
  {
   "cell_type": "code",
   "execution_count": 50,
   "metadata": {
    "collapsed": false
   },
   "outputs": [
    {
     "name": "stdout",
     "output_type": "stream",
     "text": [
      "259679\n",
      "1034\n",
      "10009\n",
      "12209\n"
     ]
    }
   ],
   "source": [
    "print len(drugbank_se)\n",
    "print len(drugbank_se.drop_duplicates('DrugBank_ID'))\n",
    "print len(drugbank_se.drop_duplicates('umls_id'))\n",
    "print len(drugbank_se.drop_duplicates('event'))"
   ]
  },
  {
   "cell_type": "code",
   "execution_count": 64,
   "metadata": {
    "collapsed": false
   },
   "outputs": [],
   "source": [
    "drugbank_se.to_csv(\"/DAS_Storage1/aschoi/data/Drug_Repositioning/5_new_drug/5_DrugBank_SideEffect_total.tsv\", sep='\\t', index=False)\n",
    "drugbank_se.to_csv(\"/home/share/aschoi/nas/users/asolchoi/data/Drug_Repositioning/5_new_drug/5_DrugBank_SideEffect_total.tsv\", sep='\\t', index=False)"
   ]
  },
  {
   "cell_type": "code",
   "execution_count": 58,
   "metadata": {
    "collapsed": false
   },
   "outputs": [
    {
     "name": "stdout",
     "output_type": "stream",
     "text": [
      "1920\n",
      "1554\n",
      "460\n",
      "282\n"
     ]
    }
   ],
   "source": [
    "print len(df_asso)\n",
    "df_asso_se = df_asso[df_asso['DrugBank_ID'].isin(drugbank_se['DrugBank_ID'])]\n",
    "print len(df_asso_se)\n",
    "print len(df_asso_se.drop_duplicates('DrugBank_ID'))\n",
    "print len(df_asso_se.drop_duplicates('OMIM_ID'))"
   ]
  },
  {
   "cell_type": "code",
   "execution_count": 59,
   "metadata": {
    "collapsed": false
   },
   "outputs": [
    {
     "name": "stdout",
     "output_type": "stream",
     "text": [
      "158296\n",
      "158296\n",
      "460\n",
      "9092\n"
     ]
    }
   ],
   "source": [
    "gold_se = drugbank_se[drugbank_se['DrugBank_ID'].isin(df_asso['DrugBank_ID'])]\n",
    "print len(gold_se)\n",
    "print len(gold_se.drop_duplicates())\n",
    "print len(gold_se.drop_duplicates('DrugBank_ID'))\n",
    "print len(gold_se.drop_duplicates('umls_id'))"
   ]
  },
  {
   "cell_type": "code",
   "execution_count": 66,
   "metadata": {
    "collapsed": false
   },
   "outputs": [],
   "source": [
    "gold_se.to_csv(\"/home/share/aschoi/nas/users/asolchoi/data/Drug_Repositioning/5_new_drug/PREDICT_data/1_gold_drug_se.tsv\", sep='\\t', index=False)\n",
    "gold_se.to_csv(\"/DAS_Storage1/aschoi/data/Drug_Repositioning/5_new_drug/PREDICT_data/1_gold_drug_se.tsv\", sep='\\t', index=False)"
   ]
  },
  {
   "cell_type": "code",
   "execution_count": null,
   "metadata": {
    "collapsed": true
   },
   "outputs": [],
   "source": []
  },
  {
   "cell_type": "code",
   "execution_count": null,
   "metadata": {
    "collapsed": true
   },
   "outputs": [],
   "source": []
  },
  {
   "cell_type": "code",
   "execution_count": null,
   "metadata": {
    "collapsed": true
   },
   "outputs": [],
   "source": []
  },
  {
   "cell_type": "code",
   "execution_count": 35,
   "metadata": {
    "collapsed": false
   },
   "outputs": [
    {
     "data": {
      "text/plain": [
       "787"
      ]
     },
     "execution_count": 35,
     "metadata": {},
     "output_type": "execute_result"
    }
   ],
   "source": [
    "len(df_sider.drop_duplicates(subset=['STITCH_compound_id_flat','STITCH_compound_id_stereo']))"
   ]
  },
  {
   "cell_type": "code",
   "execution_count": 15,
   "metadata": {
    "collapsed": false
   },
   "outputs": [
    {
     "name": "stdout",
     "output_type": "stream",
     "text": [
      "558\n"
     ]
    },
    {
     "data": {
      "text/html": [
       "<div>\n",
       "<table border=\"1\" class=\"dataframe\">\n",
       "  <thead>\n",
       "    <tr style=\"text-align: right;\">\n",
       "      <th></th>\n",
       "      <th>STITCH_compound_id_stereo</th>\n",
       "      <th>DrugBank_ID</th>\n",
       "    </tr>\n",
       "  </thead>\n",
       "  <tbody>\n",
       "    <tr>\n",
       "      <th>0</th>\n",
       "      <td>CID000000119</td>\n",
       "      <td>DB02530</td>\n",
       "    </tr>\n",
       "    <tr>\n",
       "      <th>1</th>\n",
       "      <td>CID000000338</td>\n",
       "      <td>DB00936</td>\n",
       "    </tr>\n",
       "    <tr>\n",
       "      <th>2</th>\n",
       "      <td>CID000000444</td>\n",
       "      <td>DB01156</td>\n",
       "    </tr>\n",
       "    <tr>\n",
       "      <th>3</th>\n",
       "      <td>CID000000564</td>\n",
       "      <td>DB00513</td>\n",
       "    </tr>\n",
       "    <tr>\n",
       "      <th>4</th>\n",
       "      <td>CID000000596</td>\n",
       "      <td>DB05494</td>\n",
       "    </tr>\n",
       "  </tbody>\n",
       "</table>\n",
       "</div>"
      ],
      "text/plain": [
       "  STITCH_compound_id_stereo DrugBank_ID\n",
       "0              CID000000119     DB02530\n",
       "1              CID000000338     DB00936\n",
       "2              CID000000444     DB01156\n",
       "3              CID000000564     DB00513\n",
       "4              CID000000596     DB05494"
      ]
     },
     "execution_count": 15,
     "metadata": {},
     "output_type": "execute_result"
    }
   ],
   "source": [
    "print(len(df_offside))\n",
    "df_offside.head()"
   ]
  },
  {
   "cell_type": "code",
   "execution_count": 19,
   "metadata": {
    "collapsed": false
   },
   "outputs": [
    {
     "name": "stdout",
     "output_type": "stream",
     "text": [
      "374\n"
     ]
    },
    {
     "data": {
      "text/html": [
       "<div>\n",
       "<table border=\"1\" class=\"dataframe\">\n",
       "  <thead>\n",
       "    <tr style=\"text-align: right;\">\n",
       "      <th></th>\n",
       "      <th>DrugBank_ID</th>\n",
       "      <th>OMIM_ID</th>\n",
       "    </tr>\n",
       "  </thead>\n",
       "  <tbody>\n",
       "    <tr>\n",
       "      <th>5</th>\n",
       "      <td>DB01193</td>\n",
       "      <td>608622</td>\n",
       "    </tr>\n",
       "    <tr>\n",
       "      <th>7</th>\n",
       "      <td>DB00316</td>\n",
       "      <td>145590</td>\n",
       "    </tr>\n",
       "    <tr>\n",
       "      <th>12</th>\n",
       "      <td>DB00819</td>\n",
       "      <td>147480</td>\n",
       "    </tr>\n",
       "    <tr>\n",
       "      <th>24</th>\n",
       "      <td>DB00210</td>\n",
       "      <td>604416</td>\n",
       "    </tr>\n",
       "    <tr>\n",
       "      <th>25</th>\n",
       "      <td>DB00640</td>\n",
       "      <td>194200</td>\n",
       "    </tr>\n",
       "  </tbody>\n",
       "</table>\n",
       "</div>"
      ],
      "text/plain": [
       "   DrugBank_ID  OMIM_ID\n",
       "5      DB01193   608622\n",
       "7      DB00316   145590\n",
       "12     DB00819   147480\n",
       "24     DB00210   604416\n",
       "25     DB00640   194200"
      ]
     },
     "execution_count": 19,
     "metadata": {},
     "output_type": "execute_result"
    }
   ],
   "source": [
    "print len(df_asso[df_asso['DrugBank_ID'].isin(df_sider['DrugBank_ID'])].drop_duplicates(subset='DrugBank_ID'))\n",
    "df_asso[df_asso['DrugBank_ID'].isin(df_sider['DrugBank_ID'])].drop_duplicates(subset='DrugBank_ID').head()"
   ]
  },
  {
   "cell_type": "code",
   "execution_count": 20,
   "metadata": {
    "collapsed": false
   },
   "outputs": [
    {
     "name": "stdout",
     "output_type": "stream",
     "text": [
      "278\n"
     ]
    },
    {
     "data": {
      "text/html": [
       "<div>\n",
       "<table border=\"1\" class=\"dataframe\">\n",
       "  <thead>\n",
       "    <tr style=\"text-align: right;\">\n",
       "      <th></th>\n",
       "      <th>DrugBank_ID</th>\n",
       "      <th>OMIM_ID</th>\n",
       "    </tr>\n",
       "  </thead>\n",
       "  <tbody>\n",
       "    <tr>\n",
       "      <th>0</th>\n",
       "      <td>DB00659</td>\n",
       "      <td>103780</td>\n",
       "    </tr>\n",
       "    <tr>\n",
       "      <th>5</th>\n",
       "      <td>DB01193</td>\n",
       "      <td>608622</td>\n",
       "    </tr>\n",
       "    <tr>\n",
       "      <th>7</th>\n",
       "      <td>DB00316</td>\n",
       "      <td>145590</td>\n",
       "    </tr>\n",
       "    <tr>\n",
       "      <th>12</th>\n",
       "      <td>DB00819</td>\n",
       "      <td>147480</td>\n",
       "    </tr>\n",
       "    <tr>\n",
       "      <th>23</th>\n",
       "      <td>DB00787</td>\n",
       "      <td>268320</td>\n",
       "    </tr>\n",
       "  </tbody>\n",
       "</table>\n",
       "</div>"
      ],
      "text/plain": [
       "   DrugBank_ID  OMIM_ID\n",
       "0      DB00659   103780\n",
       "5      DB01193   608622\n",
       "7      DB00316   145590\n",
       "12     DB00819   147480\n",
       "23     DB00787   268320"
      ]
     },
     "execution_count": 20,
     "metadata": {},
     "output_type": "execute_result"
    }
   ],
   "source": [
    "print len(df_asso[df_asso['DrugBank_ID'].isin(df_offside['DrugBank_ID'])].drop_duplicates(subset='DrugBank_ID'))\n",
    "df_asso[df_asso['DrugBank_ID'].isin(df_offside['DrugBank_ID'])].drop_duplicates(subset='DrugBank_ID').head()"
   ]
  },
  {
   "cell_type": "code",
   "execution_count": 21,
   "metadata": {
    "collapsed": true
   },
   "outputs": [],
   "source": [
    "a = pd.concat([df_sider['DrugBank_ID'], df_offside['DrugBank_ID']])"
   ]
  },
  {
   "cell_type": "code",
   "execution_count": 23,
   "metadata": {
    "collapsed": false
   },
   "outputs": [],
   "source": [
    "b = a.drop_duplicates()"
   ]
  },
  {
   "cell_type": "code",
   "execution_count": 29,
   "metadata": {
    "collapsed": false
   },
   "outputs": [
    {
     "name": "stdout",
     "output_type": "stream",
     "text": [
      "801\n",
      "558\n",
      "1359\n",
      "1034\n"
     ]
    }
   ],
   "source": [
    "print len(df_sider['DrugBank_ID'].drop_duplicates())\n",
    "print len(df_offside['DrugBank_ID'].drop_duplicates())\n",
    "print len(a)\n",
    "print len(b)"
   ]
  },
  {
   "cell_type": "code",
   "execution_count": 28,
   "metadata": {
    "collapsed": false
   },
   "outputs": [
    {
     "name": "stdout",
     "output_type": "stream",
     "text": [
      "588\n",
      "460\n",
      "1920\n",
      "1554\n"
     ]
    },
    {
     "data": {
      "text/html": [
       "<div>\n",
       "<table border=\"1\" class=\"dataframe\">\n",
       "  <thead>\n",
       "    <tr style=\"text-align: right;\">\n",
       "      <th></th>\n",
       "      <th>DrugBank_ID</th>\n",
       "      <th>OMIM_ID</th>\n",
       "    </tr>\n",
       "  </thead>\n",
       "  <tbody>\n",
       "    <tr>\n",
       "      <th>0</th>\n",
       "      <td>DB00659</td>\n",
       "      <td>103780</td>\n",
       "    </tr>\n",
       "    <tr>\n",
       "      <th>5</th>\n",
       "      <td>DB01193</td>\n",
       "      <td>608622</td>\n",
       "    </tr>\n",
       "    <tr>\n",
       "      <th>7</th>\n",
       "      <td>DB00316</td>\n",
       "      <td>145590</td>\n",
       "    </tr>\n",
       "    <tr>\n",
       "      <th>12</th>\n",
       "      <td>DB00819</td>\n",
       "      <td>147480</td>\n",
       "    </tr>\n",
       "    <tr>\n",
       "      <th>23</th>\n",
       "      <td>DB00787</td>\n",
       "      <td>268320</td>\n",
       "    </tr>\n",
       "  </tbody>\n",
       "</table>\n",
       "</div>"
      ],
      "text/plain": [
       "   DrugBank_ID  OMIM_ID\n",
       "0      DB00659   103780\n",
       "5      DB01193   608622\n",
       "7      DB00316   145590\n",
       "12     DB00819   147480\n",
       "23     DB00787   268320"
      ]
     },
     "execution_count": 28,
     "metadata": {},
     "output_type": "execute_result"
    }
   ],
   "source": [
    "print len(df_asso['DrugBank_ID'].drop_duplicates())\n",
    "print len(df_asso[df_asso['DrugBank_ID'].isin(b)].drop_duplicates(subset='DrugBank_ID'))\n",
    "print len(df_asso)\n",
    "print len(df_asso[df_asso['DrugBank_ID'].isin(b)])\n",
    "df_asso[df_asso['DrugBank_ID'].isin(b)].drop_duplicates(subset='DrugBank_ID').head()"
   ]
  },
  {
   "cell_type": "code",
   "execution_count": 32,
   "metadata": {
    "collapsed": false
   },
   "outputs": [
    {
     "name": "stdout",
     "output_type": "stream",
     "text": [
      "313\n",
      "282\n"
     ]
    }
   ],
   "source": [
    "c = df_asso[df_asso['DrugBank_ID'].isin(b)]\n",
    "print(len(df_asso.drop_duplicates(subset='OMIM_ID')))\n",
    "print(len(c.drop_duplicates(subset='OMIM_ID')))"
   ]
  },
  {
   "cell_type": "code",
   "execution_count": null,
   "metadata": {
    "collapsed": true
   },
   "outputs": [],
   "source": []
  }
 ],
 "metadata": {
  "kernelspec": {
   "display_name": "Python 2",
   "language": "python",
   "name": "python2"
  },
  "language_info": {
   "codemirror_mode": {
    "name": "ipython",
    "version": 2
   },
   "file_extension": ".py",
   "mimetype": "text/x-python",
   "name": "python",
   "nbconvert_exporter": "python",
   "pygments_lexer": "ipython2",
   "version": "2.7.6"
  }
 },
 "nbformat": 4,
 "nbformat_minor": 0
}
