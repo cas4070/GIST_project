{
 "cells": [
  {
   "cell_type": "code",
   "execution_count": 1,
   "metadata": {
    "collapsed": false
   },
   "outputs": [],
   "source": [
    "import csv\n",
    "import numpy as np\n",
    "import os\n",
    "import pandas as pd\n",
    "import time"
   ]
  },
  {
   "cell_type": "code",
   "execution_count": 2,
   "metadata": {
    "collapsed": true
   },
   "outputs": [],
   "source": [
    "# SIDER랑 OFFSIDE에 등록된 compound의 DrugBank id 정보\n",
    "df_sider_id = pd.read_table(\"/home/share/aschoi/data/Drug_Repositioning/5_new_drug/3_3_SIDER_STITCHid_DrugBankid.tsv\")\n",
    "df_offside_id = pd.read_table(\"/home/share/aschoi/data/Drug_Repositioning/5_new_drug/4_3_OFFSIDE_STITCHid_DrugBankid.tsv\")\n",
    "# SIDER랑 OFFSIDE에 등록된 compound의 side effects 정보 (umls id로 표현되어 있음.)\n",
    "df_sider_umls = pd.read_table(\"/home/share/aschoi/data/Drug_Repositioning/5_new_drug/3_4_SIDER_db_side_effect.tsv\")\n",
    "df_offside_umls = pd.read_table(\"/home/share/aschoi/data/Drug_Repositioning/5_new_drug/4_4_OFFSIDE_db_side_effect.tsv\")"
   ]
  },
  {
   "cell_type": "code",
   "execution_count": 3,
   "metadata": {
    "collapsed": false,
    "scrolled": true
   },
   "outputs": [
    {
     "name": "stdout",
     "output_type": "stream",
     "text": [
      "801\n"
     ]
    },
    {
     "data": {
      "text/html": [
       "<div>\n",
       "<table border=\"1\" class=\"dataframe\">\n",
       "  <thead>\n",
       "    <tr style=\"text-align: right;\">\n",
       "      <th></th>\n",
       "      <th>STITCH_compound_id_flat</th>\n",
       "      <th>STITCH_compound_id_stereo</th>\n",
       "      <th>DrugBank_ID</th>\n",
       "    </tr>\n",
       "  </thead>\n",
       "  <tbody>\n",
       "    <tr>\n",
       "      <th>0</th>\n",
       "      <td>CID100002656</td>\n",
       "      <td>CID005479530</td>\n",
       "      <td>DB01212</td>\n",
       "    </tr>\n",
       "  </tbody>\n",
       "</table>\n",
       "</div>"
      ],
      "text/plain": [
       "  STITCH_compound_id_flat STITCH_compound_id_stereo DrugBank_ID\n",
       "0            CID100002656              CID005479530     DB01212"
      ]
     },
     "execution_count": 3,
     "metadata": {},
     "output_type": "execute_result"
    }
   ],
   "source": [
    "print len(df_sider_id)\n",
    "df_sider_id.head(1)"
   ]
  },
  {
   "cell_type": "code",
   "execution_count": 4,
   "metadata": {
    "collapsed": false,
    "scrolled": true
   },
   "outputs": [
    {
     "name": "stdout",
     "output_type": "stream",
     "text": [
      "72073\n"
     ]
    },
    {
     "data": {
      "text/html": [
       "<div>\n",
       "<table border=\"1\" class=\"dataframe\">\n",
       "  <thead>\n",
       "    <tr style=\"text-align: right;\">\n",
       "      <th></th>\n",
       "      <th>STITCH_compound_id_flat</th>\n",
       "      <th>STITCH_compound_id_stereo</th>\n",
       "      <th>UMLS_concept_id_for_MedDRA</th>\n",
       "      <th>side_effect_name</th>\n",
       "    </tr>\n",
       "  </thead>\n",
       "  <tbody>\n",
       "    <tr>\n",
       "      <th>0</th>\n",
       "      <td>CID100002656</td>\n",
       "      <td>CID005479530</td>\n",
       "      <td>C0000737</td>\n",
       "      <td>Abdominal pain</td>\n",
       "    </tr>\n",
       "  </tbody>\n",
       "</table>\n",
       "</div>"
      ],
      "text/plain": [
       "  STITCH_compound_id_flat STITCH_compound_id_stereo  \\\n",
       "0            CID100002656              CID005479530   \n",
       "\n",
       "  UMLS_concept_id_for_MedDRA side_effect_name  \n",
       "0                   C0000737   Abdominal pain  "
      ]
     },
     "execution_count": 4,
     "metadata": {},
     "output_type": "execute_result"
    }
   ],
   "source": [
    "print len(df_sider_umls)\n",
    "df_sider_umls.head(1)"
   ]
  },
  {
   "cell_type": "code",
   "execution_count": 5,
   "metadata": {
    "collapsed": false
   },
   "outputs": [
    {
     "data": {
      "text/html": [
       "<div>\n",
       "<table border=\"1\" class=\"dataframe\">\n",
       "  <thead>\n",
       "    <tr style=\"text-align: right;\">\n",
       "      <th></th>\n",
       "      <th>STITCH_compound_id_flat</th>\n",
       "      <th>STITCH_compound_id_stereo</th>\n",
       "      <th>DrugBank_ID</th>\n",
       "      <th>UMLS_concept_id_for_MedDRA</th>\n",
       "      <th>side_effect_name</th>\n",
       "    </tr>\n",
       "  </thead>\n",
       "  <tbody>\n",
       "    <tr>\n",
       "      <th>0</th>\n",
       "      <td>CID100002656</td>\n",
       "      <td>CID005479530</td>\n",
       "      <td>DB01212</td>\n",
       "      <td>C0000737</td>\n",
       "      <td>Abdominal pain</td>\n",
       "    </tr>\n",
       "  </tbody>\n",
       "</table>\n",
       "</div>"
      ],
      "text/plain": [
       "  STITCH_compound_id_flat STITCH_compound_id_stereo DrugBank_ID  \\\n",
       "0            CID100002656              CID005479530     DB01212   \n",
       "\n",
       "  UMLS_concept_id_for_MedDRA side_effect_name  \n",
       "0                   C0000737   Abdominal pain  "
      ]
     },
     "execution_count": 5,
     "metadata": {},
     "output_type": "execute_result"
    }
   ],
   "source": [
    "df_sider = pd.merge(left = df_sider_id, right = df_sider_umls)\n",
    "df_sider.head(1)"
   ]
  },
  {
   "cell_type": "code",
   "execution_count": 6,
   "metadata": {
    "collapsed": false
   },
   "outputs": [
    {
     "name": "stdout",
     "output_type": "stream",
     "text": [
      "73951\n",
      "73951\n",
      "801\n",
      "801\n",
      "72073\n"
     ]
    }
   ],
   "source": [
    "print len(df_sider)\n",
    "print len(df_sider.drop_duplicates())\n",
    "print len(df_sider.drop_duplicates(subset = 'DrugBank_ID'))\n",
    "print len(df_sider.drop_duplicates(subset = ['STITCH_compound_id_flat', 'STITCH_compound_id_stereo', 'DrugBank_ID']))\n",
    "print len(df_sider.drop_duplicates(subset = ['STITCH_compound_id_flat', 'STITCH_compound_id_stereo', 'UMLS_concept_id_for_MedDRA', 'side_effect_name']))"
   ]
  },
  {
   "cell_type": "code",
   "execution_count": 7,
   "metadata": {
    "collapsed": false,
    "scrolled": false
   },
   "outputs": [
    {
     "name": "stdout",
     "output_type": "stream",
     "text": [
      "558\n",
      "558\n"
     ]
    },
    {
     "data": {
      "text/html": [
       "<div>\n",
       "<table border=\"1\" class=\"dataframe\">\n",
       "  <thead>\n",
       "    <tr style=\"text-align: right;\">\n",
       "      <th></th>\n",
       "      <th>STITCH_compound_id_stereo</th>\n",
       "      <th>DrugBank_ID</th>\n",
       "    </tr>\n",
       "  </thead>\n",
       "  <tbody>\n",
       "    <tr>\n",
       "      <th>0</th>\n",
       "      <td>CID000000119</td>\n",
       "      <td>DB02530</td>\n",
       "    </tr>\n",
       "  </tbody>\n",
       "</table>\n",
       "</div>"
      ],
      "text/plain": [
       "  STITCH_compound_id_stereo DrugBank_ID\n",
       "0              CID000000119     DB02530"
      ]
     },
     "execution_count": 7,
     "metadata": {},
     "output_type": "execute_result"
    }
   ],
   "source": [
    "print len(df_offside_id)\n",
    "print len(df_offside_id.drop_duplicates(subset = 'DrugBank_ID'))\n",
    "df_offside_id.head(1)"
   ]
  },
  {
   "cell_type": "code",
   "execution_count": 8,
   "metadata": {
    "collapsed": false,
    "scrolled": true
   },
   "outputs": [
    {
     "name": "stdout",
     "output_type": "stream",
     "text": [
      "193664\n"
     ]
    },
    {
     "data": {
      "text/html": [
       "<div>\n",
       "<table border=\"1\" class=\"dataframe\">\n",
       "  <thead>\n",
       "    <tr style=\"text-align: right;\">\n",
       "      <th></th>\n",
       "      <th>stitch_id</th>\n",
       "      <th>drug</th>\n",
       "      <th>umls_id</th>\n",
       "      <th>event</th>\n",
       "    </tr>\n",
       "  </thead>\n",
       "  <tbody>\n",
       "    <tr>\n",
       "      <th>0</th>\n",
       "      <td>CID000000119</td>\n",
       "      <td>GABA</td>\n",
       "      <td>C0000833</td>\n",
       "      <td>abscess</td>\n",
       "    </tr>\n",
       "  </tbody>\n",
       "</table>\n",
       "</div>"
      ],
      "text/plain": [
       "      stitch_id  drug   umls_id    event\n",
       "0  CID000000119  GABA  C0000833  abscess"
      ]
     },
     "execution_count": 8,
     "metadata": {},
     "output_type": "execute_result"
    }
   ],
   "source": [
    "print len(df_offside_umls)\n",
    "df_offside_umls.head(1)"
   ]
  },
  {
   "cell_type": "code",
   "execution_count": 9,
   "metadata": {
    "collapsed": false
   },
   "outputs": [
    {
     "data": {
      "text/html": [
       "<div>\n",
       "<table border=\"1\" class=\"dataframe\">\n",
       "  <thead>\n",
       "    <tr style=\"text-align: right;\">\n",
       "      <th></th>\n",
       "      <th>STITCH_compound_id_stereo</th>\n",
       "      <th>DrugBank_ID</th>\n",
       "      <th>stitch_id</th>\n",
       "      <th>drug</th>\n",
       "      <th>umls_id</th>\n",
       "      <th>event</th>\n",
       "    </tr>\n",
       "  </thead>\n",
       "  <tbody>\n",
       "    <tr>\n",
       "      <th>0</th>\n",
       "      <td>CID000000119</td>\n",
       "      <td>DB02530</td>\n",
       "      <td>CID000000119</td>\n",
       "      <td>GABA</td>\n",
       "      <td>C0000833</td>\n",
       "      <td>abscess</td>\n",
       "    </tr>\n",
       "  </tbody>\n",
       "</table>\n",
       "</div>"
      ],
      "text/plain": [
       "  STITCH_compound_id_stereo DrugBank_ID     stitch_id  drug   umls_id    event\n",
       "0              CID000000119     DB02530  CID000000119  GABA  C0000833  abscess"
      ]
     },
     "execution_count": 9,
     "metadata": {},
     "output_type": "execute_result"
    }
   ],
   "source": [
    "df_offside = pd.merge(left = df_offside_id, right = df_offside_umls, left_on = 'STITCH_compound_id_stereo', right_on = 'stitch_id')\n",
    "df_offside.head(1)"
   ]
  },
  {
   "cell_type": "code",
   "execution_count": 10,
   "metadata": {
    "collapsed": false
   },
   "outputs": [
    {
     "name": "stdout",
     "output_type": "stream",
     "text": [
      "195460\n",
      "558\n",
      "558\n",
      "193664\n"
     ]
    }
   ],
   "source": [
    "print len(df_offside)\n",
    "print len(df_offside.drop_duplicates(subset = 'DrugBank_ID'))\n",
    "print len(df_offside.drop_duplicates(subset = ['STITCH_compound_id_stereo', 'DrugBank_ID']))\n",
    "print len(df_offside.drop_duplicates(subset = ['stitch_id', 'drug', 'umls_id', 'event']))"
   ]
  },
  {
   "cell_type": "code",
   "execution_count": 11,
   "metadata": {
    "collapsed": false
   },
   "outputs": [],
   "source": [
    "all_umls = pd.concat([df_sider_umls['UMLS_concept_id_for_MedDRA'], df_offside_umls['umls_id']])\n",
    "unique_umls = all_umls.drop_duplicates()"
   ]
  },
  {
   "cell_type": "code",
   "execution_count": 12,
   "metadata": {
    "collapsed": false
   },
   "outputs": [
    {
     "name": "stdout",
     "output_type": "stream",
     "text": [
      "3240\n",
      "9057\n",
      "265737\n",
      "10009\n"
     ]
    }
   ],
   "source": [
    "print len(df_sider_umls['UMLS_concept_id_for_MedDRA'].drop_duplicates())\n",
    "print len(df_offside_umls['umls_id'].drop_duplicates())\n",
    "print len(all_umls)\n",
    "print len(unique_umls)"
   ]
  },
  {
   "cell_type": "code",
   "execution_count": 13,
   "metadata": {
    "collapsed": false
   },
   "outputs": [
    {
     "data": {
      "text/plain": [
       "2288"
      ]
     },
     "execution_count": 13,
     "metadata": {},
     "output_type": "execute_result"
    }
   ],
   "source": [
    "umls_inter = pd.Series(list(set(df_sider_umls['UMLS_concept_id_for_MedDRA']).intersection(set(df_offside_umls['umls_id']))))\n",
    "len(umls_inter)"
   ]
  },
  {
   "cell_type": "code",
   "execution_count": 14,
   "metadata": {
    "collapsed": false
   },
   "outputs": [
    {
     "name": "stdout",
     "output_type": "stream",
     "text": [
      "798\n"
     ]
    },
    {
     "data": {
      "text/html": [
       "<div>\n",
       "<table border=\"1\" class=\"dataframe\">\n",
       "  <thead>\n",
       "    <tr style=\"text-align: right;\">\n",
       "      <th></th>\n",
       "      <th>STITCH_compound_id_flat</th>\n",
       "      <th>STITCH_compound_id_stereo</th>\n",
       "      <th>DrugBank_ID</th>\n",
       "      <th>UMLS_concept_id_for_MedDRA</th>\n",
       "      <th>side_effect_name</th>\n",
       "    </tr>\n",
       "  </thead>\n",
       "  <tbody>\n",
       "    <tr>\n",
       "      <th>0</th>\n",
       "      <td>CID100002656</td>\n",
       "      <td>CID005479530</td>\n",
       "      <td>DB01212</td>\n",
       "      <td>C0000737</td>\n",
       "      <td>Abdominal pain</td>\n",
       "    </tr>\n",
       "  </tbody>\n",
       "</table>\n",
       "</div>"
      ],
      "text/plain": [
       "  STITCH_compound_id_flat STITCH_compound_id_stereo DrugBank_ID  \\\n",
       "0            CID100002656              CID005479530     DB01212   \n",
       "\n",
       "  UMLS_concept_id_for_MedDRA side_effect_name  \n",
       "0                   C0000737   Abdominal pain  "
      ]
     },
     "execution_count": 14,
     "metadata": {},
     "output_type": "execute_result"
    }
   ],
   "source": [
    "# SIDER에서 공통된 feature를 갖고 있는 compound\n",
    "dup_free_sider = df_sider[df_sider['UMLS_concept_id_for_MedDRA'].isin(umls_inter)].drop_duplicates(subset = 'DrugBank_ID')\n",
    "print len(dup_free_sider)\n",
    "dup_free_sider.head(1)"
   ]
  },
  {
   "cell_type": "code",
   "execution_count": 15,
   "metadata": {
    "collapsed": false
   },
   "outputs": [
    {
     "name": "stdout",
     "output_type": "stream",
     "text": [
      "558\n"
     ]
    },
    {
     "data": {
      "text/html": [
       "<div>\n",
       "<table border=\"1\" class=\"dataframe\">\n",
       "  <thead>\n",
       "    <tr style=\"text-align: right;\">\n",
       "      <th></th>\n",
       "      <th>STITCH_compound_id_stereo</th>\n",
       "      <th>DrugBank_ID</th>\n",
       "      <th>stitch_id</th>\n",
       "      <th>drug</th>\n",
       "      <th>umls_id</th>\n",
       "      <th>event</th>\n",
       "    </tr>\n",
       "  </thead>\n",
       "  <tbody>\n",
       "    <tr>\n",
       "      <th>0</th>\n",
       "      <td>CID000000119</td>\n",
       "      <td>DB02530</td>\n",
       "      <td>CID000000119</td>\n",
       "      <td>GABA</td>\n",
       "      <td>C0000833</td>\n",
       "      <td>abscess</td>\n",
       "    </tr>\n",
       "  </tbody>\n",
       "</table>\n",
       "</div>"
      ],
      "text/plain": [
       "  STITCH_compound_id_stereo DrugBank_ID     stitch_id  drug   umls_id    event\n",
       "0              CID000000119     DB02530  CID000000119  GABA  C0000833  abscess"
      ]
     },
     "execution_count": 15,
     "metadata": {},
     "output_type": "execute_result"
    }
   ],
   "source": [
    "# OFFSIDE에서 공통된 feature를 갖고 있는 compound\n",
    "dup_free_off = df_offside[df_offside['umls_id'].isin(umls_inter)].drop_duplicates(subset = 'DrugBank_ID')\n",
    "print len(dup_free_off)\n",
    "dup_free_off.head(1)"
   ]
  },
  {
   "cell_type": "code",
   "execution_count": 16,
   "metadata": {
    "collapsed": false
   },
   "outputs": [],
   "source": [
    "#SIDER와 OFFSIDE의 공통 feature를 가지는 drug들\n",
    "drug_with_common_feature = pd.concat([dup_free_sider['DrugBank_ID'], dup_free_off['DrugBank_ID']]).drop_duplicates()"
   ]
  },
  {
   "cell_type": "code",
   "execution_count": 17,
   "metadata": {
    "collapsed": false
   },
   "outputs": [
    {
     "name": "stdout",
     "output_type": "stream",
     "text": [
      "1031\n"
     ]
    },
    {
     "data": {
      "text/plain": [
       "0      DB01212\n",
       "105    DB00438\n",
       "184    DB00215\n",
       "571    DB01327\n",
       "654    DB00537\n",
       "Name: DrugBank_ID, dtype: object"
      ]
     },
     "execution_count": 17,
     "metadata": {},
     "output_type": "execute_result"
    }
   ],
   "source": [
    "print len(drug_with_common_feature)\n",
    "drug_with_common_feature.head()"
   ]
  },
  {
   "cell_type": "code",
   "execution_count": 70,
   "metadata": {
    "collapsed": false
   },
   "outputs": [],
   "source": [
    "umls_inter.to_csv(\"/home/share/aschoi/data/Drug_Repositioning/5_new_drug/5_common_feature.tsv\", sep='\\t', index=False)\n",
    "umls_inter.to_csv(\"/home/share/aschoi/nas/users/asolchoi/data/Drug_Repositioning/5_new_drug/5_common_feature.tsv\", sep='\\t', index=False)\n",
    "drug_with_common_feature.to_csv(\"/home/share/aschoi/data/Drug_Repositioning/5_new_drug/6_drugs_with_common_feature.tsv\", sep='\\t', index=False)\n",
    "drug_with_common_feature.to_csv(\"/home/share/aschoi/nas/users/asolchoi/data/Drug_Repositioning/5_new_drug/6_drugs_with_common_feature.tsv\", sep='\\t', index=False)"
   ]
  },
  {
   "cell_type": "code",
   "execution_count": null,
   "metadata": {
    "collapsed": true
   },
   "outputs": [],
   "source": [
    "# gold drug & features"
   ]
  },
  {
   "cell_type": "code",
   "execution_count": 18,
   "metadata": {
    "collapsed": false
   },
   "outputs": [],
   "source": [
    "gold = pd.read_table(\"/home/share/aschoi/data/Drug_Repositioning/7_new_association/7_gold_association.tsv\")"
   ]
  },
  {
   "cell_type": "code",
   "execution_count": 29,
   "metadata": {
    "collapsed": false
   },
   "outputs": [
    {
     "name": "stdout",
     "output_type": "stream",
     "text": [
      "471\n"
     ]
    }
   ],
   "source": [
    "gold_drug_id = gold['drug_id'].drop_duplicates()\n",
    "print len(gold_drug_id)"
   ]
  },
  {
   "cell_type": "code",
   "execution_count": 31,
   "metadata": {
    "collapsed": false
   },
   "outputs": [
    {
     "name": "stdout",
     "output_type": "stream",
     "text": [
      "58767\n",
      "798\n",
      "36477\n",
      "380\n"
     ]
    }
   ],
   "source": [
    "# SIDER에서 공통된 feature를 갖고 있는 drug들 (feautre정보 포함)\n",
    "sider_feature = df_sider[df_sider['UMLS_concept_id_for_MedDRA'].isin(umls_inter)]\n",
    "print len(sider_feature)\n",
    "print len(sider_feature.drop_duplicates(subset = \"DrugBank_ID\"))\n",
    "\n",
    "# 이 중, gold standard drug에 해당하는 것.\n",
    "sider_gold = sider_feature[sider_feature['DrugBank_ID'].isin(gold_drug_id)][['DrugBank_ID', 'UMLS_concept_id_for_MedDRA', 'side_effect_name']]\n",
    "print len(sider_gold)\n",
    "sider_gold.head(1)\n",
    "print len(sider_gold.drop_duplicates(subset = 'DrugBank_ID'))"
   ]
  },
  {
   "cell_type": "code",
   "execution_count": 34,
   "metadata": {
    "collapsed": false
   },
   "outputs": [
    {
     "name": "stdout",
     "output_type": "stream",
     "text": [
      "112533\n",
      "558\n",
      "69708\n",
      "287\n"
     ]
    }
   ],
   "source": [
    "# OFFSIDE에서 공통된 feature를 갖고 있는 drug들 (feature 정보 포함)\n",
    "offside_feature = df_offside[df_offside['umls_id'].isin(umls_inter)]\n",
    "print len(offside_feature)\n",
    "print len(offside_feature.drop_duplicates(subset = 'DrugBank_ID'))\n",
    "\n",
    "# 이 중, gold standard drug에 해당하는 것.\n",
    "offside_gold = offside_feature[offside_feature['DrugBank_ID'].isin(gold_drug_id)][['DrugBank_ID', 'umls_id', 'event']]\n",
    "print len(offside_gold)\n",
    "offside_gold.head(1)\n",
    "print len(offside_gold.drop_duplicates(subset = \"DrugBank_ID\"))"
   ]
  },
  {
   "cell_type": "code",
   "execution_count": 22,
   "metadata": {
    "collapsed": false
   },
   "outputs": [
    {
     "data": {
      "text/html": [
       "<div>\n",
       "<table border=\"1\" class=\"dataframe\">\n",
       "  <thead>\n",
       "    <tr style=\"text-align: right;\">\n",
       "      <th></th>\n",
       "      <th>DrugBank_ID</th>\n",
       "      <th>umls_id</th>\n",
       "      <th>event</th>\n",
       "    </tr>\n",
       "  </thead>\n",
       "  <tbody>\n",
       "    <tr>\n",
       "      <th>184</th>\n",
       "      <td>DB00215</td>\n",
       "      <td>C0000737</td>\n",
       "      <td>Abdominal pain</td>\n",
       "    </tr>\n",
       "  </tbody>\n",
       "</table>\n",
       "</div>"
      ],
      "text/plain": [
       "    DrugBank_ID   umls_id           event\n",
       "184     DB00215  C0000737  Abdominal pain"
      ]
     },
     "execution_count": 22,
     "metadata": {},
     "output_type": "execute_result"
    }
   ],
   "source": [
    "sider_gold = sider_gold.rename(columns = {'UMLS_concept_id_for_MedDRA' : 'umls_id', 'side_effect_name' : 'event'})\n",
    "sider_gold.head(1)"
   ]
  },
  {
   "cell_type": "code",
   "execution_count": 23,
   "metadata": {
    "collapsed": false
   },
   "outputs": [],
   "source": [
    "# sider의 offside의 gold drug, side effects의 umls_id, 이름.\n",
    "frames = [sider_gold, offside_gold]\n",
    "combined = pd.concat(frames)"
   ]
  },
  {
   "cell_type": "code",
   "execution_count": 37,
   "metadata": {
    "collapsed": false,
    "scrolled": false
   },
   "outputs": [
    {
     "name": "stdout",
     "output_type": "stream",
     "text": [
      "106185\n",
      "105676\n",
      "99083\n",
      "471\n",
      "2276\n"
     ]
    },
    {
     "data": {
      "text/html": [
       "<div>\n",
       "<table border=\"1\" class=\"dataframe\">\n",
       "  <thead>\n",
       "    <tr style=\"text-align: right;\">\n",
       "      <th></th>\n",
       "      <th>DrugBank_ID</th>\n",
       "      <th>umls_id</th>\n",
       "      <th>event</th>\n",
       "    </tr>\n",
       "  </thead>\n",
       "  <tbody>\n",
       "    <tr>\n",
       "      <th>57757</th>\n",
       "      <td>DB00165</td>\n",
       "      <td>C0027497</td>\n",
       "      <td>Nausea</td>\n",
       "    </tr>\n",
       "    <tr>\n",
       "      <th>9279</th>\n",
       "      <td>DB00165</td>\n",
       "      <td>C0027497</td>\n",
       "      <td>nausea</td>\n",
       "    </tr>\n",
       "    <tr>\n",
       "      <th>57758</th>\n",
       "      <td>DB00165</td>\n",
       "      <td>C0030554</td>\n",
       "      <td>Paraesthesia</td>\n",
       "    </tr>\n",
       "    <tr>\n",
       "      <th>9305</th>\n",
       "      <td>DB00165</td>\n",
       "      <td>C0030554</td>\n",
       "      <td>formication</td>\n",
       "    </tr>\n",
       "    <tr>\n",
       "      <th>57759</th>\n",
       "      <td>DB00165</td>\n",
       "      <td>C0031117</td>\n",
       "      <td>Neuropathy peripheral</td>\n",
       "    </tr>\n",
       "  </tbody>\n",
       "</table>\n",
       "</div>"
      ],
      "text/plain": [
       "      DrugBank_ID   umls_id                  event\n",
       "57757     DB00165  C0027497                 Nausea\n",
       "9279      DB00165  C0027497                 nausea\n",
       "57758     DB00165  C0030554           Paraesthesia\n",
       "9305      DB00165  C0030554            formication\n",
       "57759     DB00165  C0031117  Neuropathy peripheral"
      ]
     },
     "execution_count": 37,
     "metadata": {},
     "output_type": "execute_result"
    }
   ],
   "source": [
    "print len(combined)\n",
    "print len(combined.drop_duplicates())\n",
    "print len(combined.drop_duplicates(subset = ['DrugBank_ID', 'umls_id']))\n",
    "print len(combined.drop_duplicates(subset = \"DrugBank_ID\"))\n",
    "print len(combined.drop_duplicates(subset= \"umls_id\"))\n",
    "combined[combined.duplicated(subset = ['DrugBank_ID', 'umls_id'],keep = False)].sort_values(by = ['DrugBank_ID','umls_id']).head()"
   ]
  },
  {
   "cell_type": "code",
   "execution_count": 59,
   "metadata": {
    "collapsed": false
   },
   "outputs": [
    {
     "name": "stdout",
     "output_type": "stream",
     "text": [
      "99083\n"
     ]
    }
   ],
   "source": [
    "combined_name = combined.drop_duplicates(subset = ['DrugBank_ID', 'umls_id'])\n",
    "print len(combined_name)\n",
    "combined_name.to_csv(\"/home/share/aschoi/data/Drug_Repositioning/5_new_drug/7_gold_drug_feature_name.tsv\", sep=\"\\t\", index=False)\n",
    "combined_name.to_csv(\"/home/share/aschoi/nas/users/asolchoi/data/Drug_Repositioning/5_new_drug/7_gold_drug_feature_name.tsv\", sep=\"\\t\", index=False)"
   ]
  },
  {
   "cell_type": "code",
   "execution_count": 25,
   "metadata": {
    "collapsed": true
   },
   "outputs": [],
   "source": [
    "frames2 = [sider_gold[['DrugBank_ID', 'umls_id']], offside_gold[['DrugBank_ID', 'umls_id']]]\n",
    "combined2 = pd.concat(frames2)"
   ]
  },
  {
   "cell_type": "code",
   "execution_count": 61,
   "metadata": {
    "collapsed": false
   },
   "outputs": [
    {
     "name": "stdout",
     "output_type": "stream",
     "text": [
      "106185\n",
      "99083\n"
     ]
    }
   ],
   "source": [
    "print len(combined2)\n",
    "combined_id = combined2.drop_duplicates()\n",
    "print len(combined_id)\n",
    "combined_id.to_csv(\"/home/share/aschoi/data/Drug_Repositioning/5_new_drug/7_2_gold_drug_feature_id.tsv\", sep=\"\\t\", index=False)\n",
    "combined_id.to_csv(\"/home/share/aschoi/nas/users/asolchoi/data/Drug_Repositioning/5_new_drug/7_2_gold_drug_feature_id.tsv\", sep=\"\\t\", index=False)\n"
   ]
  },
  {
   "cell_type": "code",
   "execution_count": null,
   "metadata": {
    "collapsed": true
   },
   "outputs": [],
   "source": []
  },
  {
   "cell_type": "code",
   "execution_count": null,
   "metadata": {
    "collapsed": true
   },
   "outputs": [],
   "source": []
  },
  {
   "cell_type": "code",
   "execution_count": null,
   "metadata": {
    "collapsed": true
   },
   "outputs": [],
   "source": []
  },
  {
   "cell_type": "code",
   "execution_count": null,
   "metadata": {
    "collapsed": true
   },
   "outputs": [],
   "source": [
    "#여기서 association에 포함되는 drug의 수는?"
   ]
  },
  {
   "cell_type": "code",
   "execution_count": 55,
   "metadata": {
    "collapsed": true
   },
   "outputs": [],
   "source": [
    "befor_gold = pd.read_table(\"/home/share/aschoi/data/Drug_Repositioning/7_new_association/5_before_gold_drug.tsv\")\n",
    "asso = pd.read_table(\"/home/share/aschoi/data/Drug_Repositioning/7_new_association/4_bi_random_walk_Cdataset_association.tsv\")"
   ]
  },
  {
   "cell_type": "code",
   "execution_count": 56,
   "metadata": {
    "collapsed": false
   },
   "outputs": [
    {
     "name": "stdout",
     "output_type": "stream",
     "text": [
      "2532\n"
     ]
    },
    {
     "data": {
      "text/html": [
       "<div>\n",
       "<table border=\"1\" class=\"dataframe\">\n",
       "  <thead>\n",
       "    <tr style=\"text-align: right;\">\n",
       "      <th></th>\n",
       "      <th>disease_id</th>\n",
       "      <th>drug_id</th>\n",
       "    </tr>\n",
       "  </thead>\n",
       "  <tbody>\n",
       "    <tr>\n",
       "      <th>0</th>\n",
       "      <td>D102100</td>\n",
       "      <td>DB00555</td>\n",
       "    </tr>\n",
       "  </tbody>\n",
       "</table>\n",
       "</div>"
      ],
      "text/plain": [
       "  disease_id  drug_id\n",
       "0    D102100  DB00555"
      ]
     },
     "execution_count": 56,
     "metadata": {},
     "output_type": "execute_result"
    }
   ],
   "source": [
    "print len(asso)\n",
    "asso.head(1)"
   ]
  },
  {
   "cell_type": "code",
   "execution_count": 58,
   "metadata": {
    "collapsed": false
   },
   "outputs": [],
   "source": [
    "filtered_asso = asso[asso['drug_id'].isin(drug_with_common_feature)]"
   ]
  },
  {
   "cell_type": "code",
   "execution_count": 59,
   "metadata": {
    "collapsed": false
   },
   "outputs": [
    {
     "name": "stdout",
     "output_type": "stream",
     "text": [
      "1947\n"
     ]
    },
    {
     "data": {
      "text/html": [
       "<div>\n",
       "<table border=\"1\" class=\"dataframe\">\n",
       "  <thead>\n",
       "    <tr style=\"text-align: right;\">\n",
       "      <th></th>\n",
       "      <th>disease_id</th>\n",
       "      <th>drug_id</th>\n",
       "    </tr>\n",
       "  </thead>\n",
       "  <tbody>\n",
       "    <tr>\n",
       "      <th>0</th>\n",
       "      <td>D102100</td>\n",
       "      <td>DB00555</td>\n",
       "    </tr>\n",
       "    <tr>\n",
       "      <th>1</th>\n",
       "      <td>D102100</td>\n",
       "      <td>DB00949</td>\n",
       "    </tr>\n",
       "    <tr>\n",
       "      <th>2</th>\n",
       "      <td>D102100</td>\n",
       "      <td>DB01068</td>\n",
       "    </tr>\n",
       "    <tr>\n",
       "      <th>3</th>\n",
       "      <td>D102300</td>\n",
       "      <td>DB00190</td>\n",
       "    </tr>\n",
       "    <tr>\n",
       "      <th>4</th>\n",
       "      <td>D102300</td>\n",
       "      <td>DB00193</td>\n",
       "    </tr>\n",
       "  </tbody>\n",
       "</table>\n",
       "</div>"
      ],
      "text/plain": [
       "  disease_id  drug_id\n",
       "0    D102100  DB00555\n",
       "1    D102100  DB00949\n",
       "2    D102100  DB01068\n",
       "3    D102300  DB00190\n",
       "4    D102300  DB00193"
      ]
     },
     "execution_count": 59,
     "metadata": {},
     "output_type": "execute_result"
    }
   ],
   "source": [
    "print len(filtered_asso)\n",
    "filtered_asso.head()"
   ]
  },
  {
   "cell_type": "code",
   "execution_count": 60,
   "metadata": {
    "collapsed": false
   },
   "outputs": [
    {
     "name": "stdout",
     "output_type": "stream",
     "text": [
      "364\n",
      "500\n"
     ]
    }
   ],
   "source": [
    "print len(filtered_asso.drop_duplicates(subset='disease_id'))\n",
    "print len(filtered_asso.drop_duplicates(subset='drug_id'))"
   ]
  },
  {
   "cell_type": "code",
   "execution_count": 35,
   "metadata": {
    "collapsed": false
   },
   "outputs": [
    {
     "name": "stdout",
     "output_type": "stream",
     "text": [
      "404\n"
     ]
    },
    {
     "data": {
      "text/html": [
       "<div>\n",
       "<table border=\"1\" class=\"dataframe\">\n",
       "  <thead>\n",
       "    <tr style=\"text-align: right;\">\n",
       "      <th></th>\n",
       "      <th>STITCH_compound_id_flat</th>\n",
       "      <th>STITCH_compound_id_stereo</th>\n",
       "      <th>DrugBank_ID</th>\n",
       "      <th>UMLS_concept_id_for_MedDRA</th>\n",
       "      <th>side_effect_name</th>\n",
       "    </tr>\n",
       "  </thead>\n",
       "  <tbody>\n",
       "    <tr>\n",
       "      <th>184</th>\n",
       "      <td>CID100002771</td>\n",
       "      <td>CID000002771</td>\n",
       "      <td>DB00215</td>\n",
       "      <td>C0000737</td>\n",
       "      <td>Abdominal pain</td>\n",
       "    </tr>\n",
       "  </tbody>\n",
       "</table>\n",
       "</div>"
      ],
      "text/plain": [
       "    STITCH_compound_id_flat STITCH_compound_id_stereo DrugBank_ID  \\\n",
       "184            CID100002771              CID000002771     DB00215   \n",
       "\n",
       "    UMLS_concept_id_for_MedDRA side_effect_name  \n",
       "184                   C0000737   Abdominal pain  "
      ]
     },
     "execution_count": 35,
     "metadata": {},
     "output_type": "execute_result"
    }
   ],
   "source": [
    "print len(dup_free_sider[dup_free_sider['DrugBank_ID'].isin(befor_gold['drug_id'])])\n",
    "dup_free_sider[dup_free_sider['DrugBank_ID'].isin(befor_gold['drug_id'])].head(1)"
   ]
  },
  {
   "cell_type": "code",
   "execution_count": 37,
   "metadata": {
    "collapsed": false
   },
   "outputs": [
    {
     "name": "stdout",
     "output_type": "stream",
     "text": [
      "303\n"
     ]
    },
    {
     "data": {
      "text/html": [
       "<div>\n",
       "<table border=\"1\" class=\"dataframe\">\n",
       "  <thead>\n",
       "    <tr style=\"text-align: right;\">\n",
       "      <th></th>\n",
       "      <th>STITCH_compound_id_stereo</th>\n",
       "      <th>DrugBank_ID</th>\n",
       "      <th>stitch_id</th>\n",
       "      <th>drug</th>\n",
       "      <th>umls_id</th>\n",
       "      <th>event</th>\n",
       "    </tr>\n",
       "  </thead>\n",
       "  <tbody>\n",
       "    <tr>\n",
       "      <th>488</th>\n",
       "      <td>CID000000338</td>\n",
       "      <td>DB00936</td>\n",
       "      <td>CID000000338</td>\n",
       "      <td>salicylate</td>\n",
       "      <td>C0001122</td>\n",
       "      <td>Acidosis</td>\n",
       "    </tr>\n",
       "  </tbody>\n",
       "</table>\n",
       "</div>"
      ],
      "text/plain": [
       "    STITCH_compound_id_stereo DrugBank_ID     stitch_id        drug   umls_id  \\\n",
       "488              CID000000338     DB00936  CID000000338  salicylate  C0001122   \n",
       "\n",
       "        event  \n",
       "488  Acidosis  "
      ]
     },
     "execution_count": 37,
     "metadata": {},
     "output_type": "execute_result"
    }
   ],
   "source": [
    "# 질병과의 association이 존재하rh, drug feature를 가진 drug가 sider\n",
    "print len(dup_free_off[dup_free_off['DrugBank_ID'].isin(befor_gold['drug_id'])])\n",
    "dup_free_off[dup_free_off['DrugBank_ID'].isin(befor_gold['drug_id'])].head(1)"
   ]
  },
  {
   "cell_type": "code",
   "execution_count": 42,
   "metadata": {
    "collapsed": true
   },
   "outputs": [],
   "source": [
    "si = dup_free_sider[dup_free_sider['DrugBank_ID'].isin(befor_gold['drug_id'])]['DrugBank_ID']"
   ]
  },
  {
   "cell_type": "code",
   "execution_count": 45,
   "metadata": {
    "collapsed": false
   },
   "outputs": [],
   "source": [
    "off = dup_free_off[dup_free_off['DrugBank_ID'].isin(befor_gold['drug_id'])]['DrugBank_ID']"
   ]
  },
  {
   "cell_type": "code",
   "execution_count": 46,
   "metadata": {
    "collapsed": false
   },
   "outputs": [
    {
     "data": {
      "text/plain": [
       "207"
      ]
     },
     "execution_count": 46,
     "metadata": {},
     "output_type": "execute_result"
    }
   ],
   "source": [
    "len(pd.Series(list(set(si).intersection(set(off)))))"
   ]
  },
  {
   "cell_type": "code",
   "execution_count": null,
   "metadata": {
    "collapsed": true
   },
   "outputs": [],
   "source": []
  }
 ],
 "metadata": {
  "kernelspec": {
   "display_name": "Python 2",
   "language": "python",
   "name": "python2"
  },
  "language_info": {
   "codemirror_mode": {
    "name": "ipython",
    "version": 2
   },
   "file_extension": ".py",
   "mimetype": "text/x-python",
   "name": "python",
   "nbconvert_exporter": "python",
   "pygments_lexer": "ipython2",
   "version": "2.7.6"
  }
 },
 "nbformat": 4,
 "nbformat_minor": 0
}
