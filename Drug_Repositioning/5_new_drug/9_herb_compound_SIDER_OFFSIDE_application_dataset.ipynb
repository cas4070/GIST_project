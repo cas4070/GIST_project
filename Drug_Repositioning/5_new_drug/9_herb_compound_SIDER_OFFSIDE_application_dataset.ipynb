{
 "cells": [
  {
   "cell_type": "code",
   "execution_count": 1,
   "metadata": {
    "collapsed": true
   },
   "outputs": [],
   "source": [
    "import csv\n",
    "import numpy as np\n",
    "import os\n",
    "import pandas as pd\n",
    "import requests\n",
    "import time"
   ]
  },
  {
   "cell_type": "code",
   "execution_count": 2,
   "metadata": {
    "collapsed": true
   },
   "outputs": [],
   "source": [
    "####### herb compound의 stitch ID를 mapping하는 작업. pubchem ID를 매개로 사용할 것이다."
   ]
  },
  {
   "cell_type": "code",
   "execution_count": 4,
   "metadata": {
    "collapsed": false
   },
   "outputs": [],
   "source": [
    "sider_cid = pd.read_table(\"/DAS_Storage1/aschoi/data/Drug_Repositioning/5_new_drug/3_0_stitch(sider)_pubchem.tsv\")\n",
    "herb_cid = pd.read_table(\"/DAS_Storage1/aschoi/data/COCONUT_Herbal/7_Ezyme_tool/2-5_herb_pubchem.tsv\")"
   ]
  },
  {
   "cell_type": "code",
   "execution_count": 5,
   "metadata": {
    "collapsed": false
   },
   "outputs": [
    {
     "name": "stdout",
     "output_type": "stream",
     "text": [
      "13265\n"
     ]
    },
    {
     "data": {
      "text/html": [
       "<div>\n",
       "<table border=\"1\" class=\"dataframe\">\n",
       "  <thead>\n",
       "    <tr style=\"text-align: right;\">\n",
       "      <th></th>\n",
       "      <th>stitch_flat</th>\n",
       "      <th>stitch_stereo</th>\n",
       "      <th>pubchem_cid</th>\n",
       "    </tr>\n",
       "  </thead>\n",
       "  <tbody>\n",
       "    <tr>\n",
       "      <th>0</th>\n",
       "      <td>CID100216416</td>\n",
       "      <td>CID000216416</td>\n",
       "      <td>10671241</td>\n",
       "    </tr>\n",
       "  </tbody>\n",
       "</table>\n",
       "</div>"
      ],
      "text/plain": [
       "    stitch_flat stitch_stereo  pubchem_cid\n",
       "0  CID100216416  CID000216416     10671241"
      ]
     },
     "execution_count": 5,
     "metadata": {},
     "output_type": "execute_result"
    }
   ],
   "source": [
    "print len(sider_cid)\n",
    "sider_cid.head(1)"
   ]
  },
  {
   "cell_type": "code",
   "execution_count": 6,
   "metadata": {
    "collapsed": false
   },
   "outputs": [
    {
     "name": "stdout",
     "output_type": "stream",
     "text": [
      "11395\n"
     ]
    },
    {
     "data": {
      "text/html": [
       "<div>\n",
       "<table border=\"1\" class=\"dataframe\">\n",
       "  <thead>\n",
       "    <tr style=\"text-align: right;\">\n",
       "      <th></th>\n",
       "      <th>compID</th>\n",
       "      <th>compName</th>\n",
       "      <th>pubchemID</th>\n",
       "    </tr>\n",
       "  </thead>\n",
       "  <tbody>\n",
       "    <tr>\n",
       "      <th>0</th>\n",
       "      <td>32469</td>\n",
       "      <td>1,3,11-Elematriene</td>\n",
       "      <td>10583</td>\n",
       "    </tr>\n",
       "  </tbody>\n",
       "</table>\n",
       "</div>"
      ],
      "text/plain": [
       "   compID            compName  pubchemID\n",
       "0   32469  1,3,11-Elematriene      10583"
      ]
     },
     "execution_count": 6,
     "metadata": {},
     "output_type": "execute_result"
    }
   ],
   "source": [
    "print len(herb_cid)\n",
    "herb_cid.head(1)"
   ]
  },
  {
   "cell_type": "code",
   "execution_count": 7,
   "metadata": {
    "collapsed": false
   },
   "outputs": [
    {
     "name": "stdout",
     "output_type": "stream",
     "text": [
      "124\n",
      "94\n"
     ]
    },
    {
     "data": {
      "text/html": [
       "<div>\n",
       "<table border=\"1\" class=\"dataframe\">\n",
       "  <thead>\n",
       "    <tr style=\"text-align: right;\">\n",
       "      <th></th>\n",
       "      <th>stitch_flat</th>\n",
       "      <th>stitch_stereo</th>\n",
       "      <th>pubchem_cid</th>\n",
       "    </tr>\n",
       "  </thead>\n",
       "  <tbody>\n",
       "    <tr>\n",
       "      <th>179</th>\n",
       "      <td>CID100000137</td>\n",
       "      <td>CID000000137</td>\n",
       "      <td>137</td>\n",
       "    </tr>\n",
       "    <tr>\n",
       "      <th>297</th>\n",
       "      <td>CID100000774</td>\n",
       "      <td>CID000000774</td>\n",
       "      <td>25201573</td>\n",
       "    </tr>\n",
       "  </tbody>\n",
       "</table>\n",
       "</div>"
      ],
      "text/plain": [
       "      stitch_flat stitch_stereo  pubchem_cid\n",
       "179  CID100000137  CID000000137          137\n",
       "297  CID100000774  CID000000774     25201573"
      ]
     },
     "execution_count": 7,
     "metadata": {},
     "output_type": "execute_result"
    }
   ],
   "source": [
    "a = sider_cid[sider_cid['pubchem_cid'].isin(herb_cid['pubchemID'])]\n",
    "print len(a)\n",
    "print len(a.drop_duplicates(subset = ['stitch_flat', 'stitch_stereo']))\n",
    "a.head(2)"
   ]
  },
  {
   "cell_type": "code",
   "execution_count": 8,
   "metadata": {
    "collapsed": false
   },
   "outputs": [
    {
     "name": "stdout",
     "output_type": "stream",
     "text": [
      "153\n",
      "113\n"
     ]
    },
    {
     "data": {
      "text/html": [
       "<div>\n",
       "<table border=\"1\" class=\"dataframe\">\n",
       "  <thead>\n",
       "    <tr style=\"text-align: right;\">\n",
       "      <th></th>\n",
       "      <th>compID</th>\n",
       "      <th>compName</th>\n",
       "      <th>pubchemID</th>\n",
       "    </tr>\n",
       "  </thead>\n",
       "  <tbody>\n",
       "    <tr>\n",
       "      <th>4</th>\n",
       "      <td>5525</td>\n",
       "      <td>Benzyl alcohol</td>\n",
       "      <td>244</td>\n",
       "    </tr>\n",
       "    <tr>\n",
       "      <th>93</th>\n",
       "      <td>1020</td>\n",
       "      <td>Probenecid</td>\n",
       "      <td>4911</td>\n",
       "    </tr>\n",
       "  </tbody>\n",
       "</table>\n",
       "</div>"
      ],
      "text/plain": [
       "    compID        compName  pubchemID\n",
       "4     5525  Benzyl alcohol        244\n",
       "93    1020      Probenecid       4911"
      ]
     },
     "execution_count": 8,
     "metadata": {},
     "output_type": "execute_result"
    }
   ],
   "source": [
    "b = herb_cid[herb_cid['pubchemID'].isin(sider_cid['pubchem_cid'])]\n",
    "print len(b)\n",
    "print len(b.drop_duplicates(subset = 'compID'))\n",
    "b.head(2)"
   ]
  },
  {
   "cell_type": "code",
   "execution_count": 9,
   "metadata": {
    "collapsed": true
   },
   "outputs": [],
   "source": [
    "result = pd.DataFrame()\n",
    "for index, row in b.iterrows():\n",
    "    pubchem_id = row['pubchemID']\n",
    "    filtered = sider_cid[sider_cid.pubchem_cid == pubchem_id]\n",
    "    if filtered.empty:\n",
    "        continue\n",
    "    else:\n",
    "        for index2, row2 in filtered.iterrows():\n",
    "            flat = row2['stitch_flat']\n",
    "            stereo = row2['stitch_stereo']\n",
    "            temp_df = pd.DataFrame([[row['compID'], row['compName'], flat, stereo]], \n",
    "                                  columns = ['compID', 'compName', 'stitch_flat', 'stitch_stereo'])\n",
    "            result = result.append(temp_df)"
   ]
  },
  {
   "cell_type": "code",
   "execution_count": 10,
   "metadata": {
    "collapsed": false
   },
   "outputs": [
    {
     "name": "stdout",
     "output_type": "stream",
     "text": [
      "153\n",
      "113\n"
     ]
    }
   ],
   "source": [
    "print len(result)\n",
    "print len(result.drop_duplicates())"
   ]
  },
  {
   "cell_type": "code",
   "execution_count": 11,
   "metadata": {
    "collapsed": false
   },
   "outputs": [
    {
     "data": {
      "text/html": [
       "<div>\n",
       "<table border=\"1\" class=\"dataframe\">\n",
       "  <thead>\n",
       "    <tr style=\"text-align: right;\">\n",
       "      <th></th>\n",
       "      <th>compID</th>\n",
       "      <th>compName</th>\n",
       "      <th>stitch_flat</th>\n",
       "      <th>stitch_stereo</th>\n",
       "    </tr>\n",
       "  </thead>\n",
       "  <tbody>\n",
       "    <tr>\n",
       "      <th>0</th>\n",
       "      <td>5525</td>\n",
       "      <td>Benzyl alcohol</td>\n",
       "      <td>CID100000244</td>\n",
       "      <td>CID000000244</td>\n",
       "    </tr>\n",
       "    <tr>\n",
       "      <th>0</th>\n",
       "      <td>1020</td>\n",
       "      <td>Probenecid</td>\n",
       "      <td>CID100004911</td>\n",
       "      <td>CID000004911</td>\n",
       "    </tr>\n",
       "    <tr>\n",
       "      <th>0</th>\n",
       "      <td>732</td>\n",
       "      <td>D-(-)-Mannitol</td>\n",
       "      <td>CID100000453</td>\n",
       "      <td>CID000006251</td>\n",
       "    </tr>\n",
       "    <tr>\n",
       "      <th>0</th>\n",
       "      <td>9210</td>\n",
       "      <td>Acetic acid</td>\n",
       "      <td>CID100000175</td>\n",
       "      <td>CID000000175</td>\n",
       "    </tr>\n",
       "    <tr>\n",
       "      <th>0</th>\n",
       "      <td>926</td>\n",
       "      <td>Salicylic acid</td>\n",
       "      <td>CID100000338</td>\n",
       "      <td>CID000000338</td>\n",
       "    </tr>\n",
       "  </tbody>\n",
       "</table>\n",
       "</div>"
      ],
      "text/plain": [
       "   compID        compName   stitch_flat stitch_stereo\n",
       "0    5525  Benzyl alcohol  CID100000244  CID000000244\n",
       "0    1020      Probenecid  CID100004911  CID000004911\n",
       "0     732  D-(-)-Mannitol  CID100000453  CID000006251\n",
       "0    9210     Acetic acid  CID100000175  CID000000175\n",
       "0     926  Salicylic acid  CID100000338  CID000000338"
      ]
     },
     "execution_count": 11,
     "metadata": {},
     "output_type": "execute_result"
    }
   ],
   "source": [
    "result.head()"
   ]
  },
  {
   "cell_type": "code",
   "execution_count": 9,
   "metadata": {
    "collapsed": true
   },
   "outputs": [],
   "source": [
    "result.drop_duplicates().to_csv(\"/DAS_Storage1/aschoi/data/COCONUT_Herbal/6_Herb/6_1_herb_stitchID(SIDER).tsv\", sep='\\t', index=False)\n",
    "result.drop_duplicates().to_csv(\"/home/share/aschoi/nas/users/asolchoi/data/COCONUT_Herbal/6_Herb/6_1_herb_stitchID(SIDER).tsv\", sep='\\t', index=False)"
   ]
  },
  {
   "cell_type": "code",
   "execution_count": 12,
   "metadata": {
    "collapsed": true
   },
   "outputs": [],
   "source": [
    "######## herb compound의 바꾼 stitch id를 사용. SIDER에서 해당하는 side effect를 뽑아낸다."
   ]
  },
  {
   "cell_type": "code",
   "execution_count": 13,
   "metadata": {
    "collapsed": true
   },
   "outputs": [],
   "source": [
    "raw_sider = pd.read_table(\"/DAS_Storage1/aschoi/data/Drug_Repositioning/5_new_drug/meddra_all_label_se_header.tsv\")"
   ]
  },
  {
   "cell_type": "code",
   "execution_count": 14,
   "metadata": {
    "collapsed": false
   },
   "outputs": [
    {
     "name": "stdout",
     "output_type": "stream",
     "text": [
      "2523626\n"
     ]
    },
    {
     "data": {
      "text/html": [
       "<div>\n",
       "<table border=\"1\" class=\"dataframe\">\n",
       "  <thead>\n",
       "    <tr style=\"text-align: right;\">\n",
       "      <th></th>\n",
       "      <th>source_label</th>\n",
       "      <th>STITCH_compound_id_flat</th>\n",
       "      <th>STITCH_compound_id_stereo</th>\n",
       "      <th>UMLS_concept_id</th>\n",
       "      <th>MedDRA_concept_type</th>\n",
       "      <th>UMLS_concept_id_for_MedDRA</th>\n",
       "      <th>side_effect_name</th>\n",
       "    </tr>\n",
       "  </thead>\n",
       "  <tbody>\n",
       "    <tr>\n",
       "      <th>1</th>\n",
       "      <td>EMA/WC500020092.html</td>\n",
       "      <td>CID100216416</td>\n",
       "      <td>CID000216416</td>\n",
       "      <td>C0000737</td>\n",
       "      <td>PT</td>\n",
       "      <td>C0000737</td>\n",
       "      <td>Abdominal pain</td>\n",
       "    </tr>\n",
       "  </tbody>\n",
       "</table>\n",
       "</div>"
      ],
      "text/plain": [
       "           source_label STITCH_compound_id_flat STITCH_compound_id_stereo  \\\n",
       "1  EMA/WC500020092.html            CID100216416              CID000216416   \n",
       "\n",
       "  UMLS_concept_id MedDRA_concept_type UMLS_concept_id_for_MedDRA  \\\n",
       "1        C0000737                  PT                   C0000737   \n",
       "\n",
       "  side_effect_name  \n",
       "1   Abdominal pain  "
      ]
     },
     "execution_count": 14,
     "metadata": {},
     "output_type": "execute_result"
    }
   ],
   "source": [
    "raw_sider_pt = raw_sider[raw_sider.MedDRA_concept_type == 'PT']\n",
    "print(len(raw_sider_pt))\n",
    "raw_sider_pt.head(1)"
   ]
  },
  {
   "cell_type": "code",
   "execution_count": 15,
   "metadata": {
    "collapsed": true
   },
   "outputs": [],
   "source": [
    "sider = raw_sider_pt[['STITCH_compound_id_flat','STITCH_compound_id_stereo', 'UMLS_concept_id_for_MedDRA', 'side_effect_name']]"
   ]
  },
  {
   "cell_type": "code",
   "execution_count": 16,
   "metadata": {
    "collapsed": false
   },
   "outputs": [
    {
     "name": "stdout",
     "output_type": "stream",
     "text": [
      "152759\n"
     ]
    },
    {
     "data": {
      "text/html": [
       "<div>\n",
       "<table border=\"1\" class=\"dataframe\">\n",
       "  <thead>\n",
       "    <tr style=\"text-align: right;\">\n",
       "      <th></th>\n",
       "      <th>STITCH_compound_id_flat</th>\n",
       "      <th>STITCH_compound_id_stereo</th>\n",
       "      <th>UMLS_concept_id_for_MedDRA</th>\n",
       "      <th>side_effect_name</th>\n",
       "    </tr>\n",
       "  </thead>\n",
       "  <tbody>\n",
       "    <tr>\n",
       "      <th>1</th>\n",
       "      <td>CID100216416</td>\n",
       "      <td>CID000216416</td>\n",
       "      <td>C0000737</td>\n",
       "      <td>Abdominal pain</td>\n",
       "    </tr>\n",
       "    <tr>\n",
       "      <th>2</th>\n",
       "      <td>CID100216416</td>\n",
       "      <td>CID000216416</td>\n",
       "      <td>C0687713</td>\n",
       "      <td>Gastrointestinal pain</td>\n",
       "    </tr>\n",
       "    <tr>\n",
       "      <th>4</th>\n",
       "      <td>CID100216416</td>\n",
       "      <td>CID000216416</td>\n",
       "      <td>C0002170</td>\n",
       "      <td>Alopecia</td>\n",
       "    </tr>\n",
       "    <tr>\n",
       "      <th>6</th>\n",
       "      <td>CID100216416</td>\n",
       "      <td>CID000216416</td>\n",
       "      <td>C0002395</td>\n",
       "      <td>Dementia Alzheimer's type</td>\n",
       "    </tr>\n",
       "    <tr>\n",
       "      <th>8</th>\n",
       "      <td>CID100216416</td>\n",
       "      <td>CID000216416</td>\n",
       "      <td>C0002622</td>\n",
       "      <td>Amnesia</td>\n",
       "    </tr>\n",
       "  </tbody>\n",
       "</table>\n",
       "</div>"
      ],
      "text/plain": [
       "  STITCH_compound_id_flat STITCH_compound_id_stereo  \\\n",
       "1            CID100216416              CID000216416   \n",
       "2            CID100216416              CID000216416   \n",
       "4            CID100216416              CID000216416   \n",
       "6            CID100216416              CID000216416   \n",
       "8            CID100216416              CID000216416   \n",
       "\n",
       "  UMLS_concept_id_for_MedDRA           side_effect_name  \n",
       "1                   C0000737             Abdominal pain  \n",
       "2                   C0687713      Gastrointestinal pain  \n",
       "4                   C0002170                   Alopecia  \n",
       "6                   C0002395  Dementia Alzheimer's type  \n",
       "8                   C0002622                    Amnesia  "
      ]
     },
     "execution_count": 16,
     "metadata": {},
     "output_type": "execute_result"
    }
   ],
   "source": [
    "sider_wo_dup = sider.drop_duplicates()\n",
    "print(len(sider_wo_dup))\n",
    "sider_wo_dup.head()"
   ]
  },
  {
   "cell_type": "code",
   "execution_count": 17,
   "metadata": {
    "collapsed": true
   },
   "outputs": [],
   "source": [
    "sider_result = pd.DataFrame()\n",
    "for index, row in result.iterrows():\n",
    "    flat = row['stitch_flat']\n",
    "    stereo = row['stitch_stereo']\n",
    "    filtered = sider_wo_dup[(sider_wo_dup.STITCH_compound_id_flat == flat) & (sider_wo_dup.STITCH_compound_id_stereo == stereo)]\n",
    "    if filtered.empty:\n",
    "        print flat, stereo\n",
    "        continue\n",
    "    else:\n",
    "        for index2, row2 in filtered.iterrows():\n",
    "            umls_id = row2['UMLS_concept_id_for_MedDRA']\n",
    "            side_effect = row2['side_effect_name']\n",
    "            temp_df = pd.DataFrame([[row['compID'], row['compName'], umls_id, side_effect]], \n",
    "                                   columns = ['compID', 'compName', 'umls_id', 'side_effect_name'])\n",
    "            sider_result = sider_result.append(temp_df)"
   ]
  },
  {
   "cell_type": "code",
   "execution_count": 18,
   "metadata": {
    "collapsed": false
   },
   "outputs": [
    {
     "name": "stdout",
     "output_type": "stream",
     "text": [
      "8525\n",
      "7885\n"
     ]
    }
   ],
   "source": [
    "print len(sider_result)\n",
    "print len(sider_result.drop_duplicates())"
   ]
  },
  {
   "cell_type": "code",
   "execution_count": 19,
   "metadata": {
    "collapsed": false
   },
   "outputs": [
    {
     "data": {
      "text/html": [
       "<div>\n",
       "<table border=\"1\" class=\"dataframe\">\n",
       "  <thead>\n",
       "    <tr style=\"text-align: right;\">\n",
       "      <th></th>\n",
       "      <th>STITCH_compound_id_flat</th>\n",
       "      <th>STITCH_compound_id_stereo</th>\n",
       "      <th>UMLS_concept_id_for_MedDRA</th>\n",
       "      <th>side_effect_name</th>\n",
       "    </tr>\n",
       "  </thead>\n",
       "  <tbody>\n",
       "    <tr>\n",
       "      <th>1331580</th>\n",
       "      <td>CID100000085</td>\n",
       "      <td>CID000010917</td>\n",
       "      <td>C0000737</td>\n",
       "      <td>Abdominal pain</td>\n",
       "    </tr>\n",
       "    <tr>\n",
       "      <th>1376376</th>\n",
       "      <td>CID100000085</td>\n",
       "      <td>CID000010917</td>\n",
       "      <td>C0000737</td>\n",
       "      <td>Abdominal pain</td>\n",
       "    </tr>\n",
       "    <tr>\n",
       "      <th>1460376</th>\n",
       "      <td>CID100000085</td>\n",
       "      <td>CID000010917</td>\n",
       "      <td>C0000737</td>\n",
       "      <td>Abdominal pain</td>\n",
       "    </tr>\n",
       "    <tr>\n",
       "      <th>3391903</th>\n",
       "      <td>CID100000085</td>\n",
       "      <td>CID000010917</td>\n",
       "      <td>C0000737</td>\n",
       "      <td>Abdominal pain</td>\n",
       "    </tr>\n",
       "    <tr>\n",
       "      <th>3453661</th>\n",
       "      <td>CID100000085</td>\n",
       "      <td>CID000010917</td>\n",
       "      <td>C0000737</td>\n",
       "      <td>Abdominal pain</td>\n",
       "    </tr>\n",
       "  </tbody>\n",
       "</table>\n",
       "</div>"
      ],
      "text/plain": [
       "        STITCH_compound_id_flat STITCH_compound_id_stereo  \\\n",
       "1331580            CID100000085              CID000010917   \n",
       "1376376            CID100000085              CID000010917   \n",
       "1460376            CID100000085              CID000010917   \n",
       "3391903            CID100000085              CID000010917   \n",
       "3453661            CID100000085              CID000010917   \n",
       "\n",
       "        UMLS_concept_id_for_MedDRA side_effect_name  \n",
       "1331580                   C0000737   Abdominal pain  \n",
       "1376376                   C0000737   Abdominal pain  \n",
       "1460376                   C0000737   Abdominal pain  \n",
       "3391903                   C0000737   Abdominal pain  \n",
       "3453661                   C0000737   Abdominal pain  "
      ]
     },
     "execution_count": 19,
     "metadata": {},
     "output_type": "execute_result"
    }
   ],
   "source": [
    "sider[sider.duplicated(keep=False)].sort_values(by = ['STITCH_compound_id_flat', 'STITCH_compound_id_stereo','UMLS_concept_id_for_MedDRA']).head()"
   ]
  },
  {
   "cell_type": "code",
   "execution_count": 20,
   "metadata": {
    "collapsed": true
   },
   "outputs": [],
   "source": [
    "sider_result = sider_result.drop_duplicates()"
   ]
  },
  {
   "cell_type": "code",
   "execution_count": 21,
   "metadata": {
    "collapsed": false,
    "scrolled": false
   },
   "outputs": [
    {
     "name": "stdout",
     "output_type": "stream",
     "text": [
      "113\n",
      "1406\n"
     ]
    },
    {
     "data": {
      "text/html": [
       "<div>\n",
       "<table border=\"1\" class=\"dataframe\">\n",
       "  <thead>\n",
       "    <tr style=\"text-align: right;\">\n",
       "      <th></th>\n",
       "      <th>compID</th>\n",
       "      <th>compName</th>\n",
       "      <th>umls_id</th>\n",
       "      <th>side_effect_name</th>\n",
       "    </tr>\n",
       "  </thead>\n",
       "  <tbody>\n",
       "    <tr>\n",
       "      <th>0</th>\n",
       "      <td>5525</td>\n",
       "      <td>Benzyl alcohol</td>\n",
       "      <td>C0013604</td>\n",
       "      <td>Oedema</td>\n",
       "    </tr>\n",
       "    <tr>\n",
       "      <th>0</th>\n",
       "      <td>5525</td>\n",
       "      <td>Benzyl alcohol</td>\n",
       "      <td>C0011603</td>\n",
       "      <td>Dermatitis</td>\n",
       "    </tr>\n",
       "    <tr>\n",
       "      <th>0</th>\n",
       "      <td>5525</td>\n",
       "      <td>Benzyl alcohol</td>\n",
       "      <td>C0015230</td>\n",
       "      <td>Rash</td>\n",
       "    </tr>\n",
       "    <tr>\n",
       "      <th>0</th>\n",
       "      <td>5525</td>\n",
       "      <td>Benzyl alcohol</td>\n",
       "      <td>C0015256</td>\n",
       "      <td>Excoriation</td>\n",
       "    </tr>\n",
       "    <tr>\n",
       "      <th>0</th>\n",
       "      <td>5525</td>\n",
       "      <td>Benzyl alcohol</td>\n",
       "      <td>C0020580</td>\n",
       "      <td>Hypoaesthesia</td>\n",
       "    </tr>\n",
       "  </tbody>\n",
       "</table>\n",
       "</div>"
      ],
      "text/plain": [
       "   compID        compName   umls_id side_effect_name\n",
       "0    5525  Benzyl alcohol  C0013604           Oedema\n",
       "0    5525  Benzyl alcohol  C0011603       Dermatitis\n",
       "0    5525  Benzyl alcohol  C0015230             Rash\n",
       "0    5525  Benzyl alcohol  C0015256      Excoriation\n",
       "0    5525  Benzyl alcohol  C0020580    Hypoaesthesia"
      ]
     },
     "execution_count": 21,
     "metadata": {},
     "output_type": "execute_result"
    }
   ],
   "source": [
    "print len(sider_result.drop_duplicates(subset = 'compID')) # SIDER의 side effect를 가지고 있는 herb compound의 수\n",
    "print len(sider_result.drop_duplicates(subset = 'umls_id')) # SIDER의 side effect의 전체 수\n",
    "sider_result.head()"
   ]
  },
  {
   "cell_type": "code",
   "execution_count": 23,
   "metadata": {
    "collapsed": true
   },
   "outputs": [],
   "source": [
    "sider_result.to_csv(\"/DAS_Storage1/aschoi/data/COCONUT_Herbal/6_Herb/6_2_herb_sider_sideEffect.tsv\", sep='\\t', index=False)\n",
    "sider_result[['compID', 'compName', 'umls_id']].to_csv(\"/DAS_Storage1/aschoi/data/COCONUT_Herbal/6_Herb/6_3_herb_sider_umlsID.tsv\", sep='\\t', index=False)\n",
    "sider_result.to_csv(\"/home/share/aschoi/nas/users/asolchoi/data/COCONUT_Herbal/6_Herb/6_2_herb_sider_sideEffect.tsv\", sep='\\t', index=False)\n",
    "sider_result[['compID', 'compName', 'umls_id']].to_csv(\"/home/share/aschoi/nas/users/asolchoi/data/COCONUT_Herbal/6_Herb/6_3_herb_sider_umlsID.tsv\", sep='\\t', index=False)"
   ]
  },
  {
   "cell_type": "code",
   "execution_count": null,
   "metadata": {
    "collapsed": true
   },
   "outputs": [],
   "source": [
    "########## 여기서부터는 OFFSIDE"
   ]
  },
  {
   "cell_type": "code",
   "execution_count": 22,
   "metadata": {
    "collapsed": true
   },
   "outputs": [],
   "source": [
    "stitch_cid = pd.read_table(\"/DAS_Storage1/aschoi/data/COCONUT_Herbal/7_Ezyme_tool/STITCH_CID.tsv\")"
   ]
  },
  {
   "cell_type": "code",
   "execution_count": 23,
   "metadata": {
    "collapsed": false
   },
   "outputs": [
    {
     "name": "stdout",
     "output_type": "stream",
     "text": [
      "47651221\n"
     ]
    },
    {
     "data": {
      "text/html": [
       "<div>\n",
       "<table border=\"1\" class=\"dataframe\">\n",
       "  <thead>\n",
       "    <tr style=\"text-align: right;\">\n",
       "      <th></th>\n",
       "      <th>flat_chemical</th>\n",
       "      <th>stereo_chemical</th>\n",
       "      <th>source_name</th>\n",
       "      <th>source_id</th>\n",
       "    </tr>\n",
       "  </thead>\n",
       "  <tbody>\n",
       "    <tr>\n",
       "      <th>0</th>\n",
       "      <td>CID100000001</td>\n",
       "      <td>CID000000001</td>\n",
       "      <td>PC</td>\n",
       "      <td>1</td>\n",
       "    </tr>\n",
       "    <tr>\n",
       "      <th>1</th>\n",
       "      <td>CID100000010</td>\n",
       "      <td>CID000000010</td>\n",
       "      <td>PC</td>\n",
       "      <td>10</td>\n",
       "    </tr>\n",
       "  </tbody>\n",
       "</table>\n",
       "</div>"
      ],
      "text/plain": [
       "  flat_chemical stereo_chemical source_name  source_id\n",
       "0  CID100000001    CID000000001          PC          1\n",
       "1  CID100000010    CID000000010          PC         10"
      ]
     },
     "execution_count": 23,
     "metadata": {},
     "output_type": "execute_result"
    }
   ],
   "source": [
    "print len(stitch_cid)\n",
    "stitch_cid.head(2)"
   ]
  },
  {
   "cell_type": "code",
   "execution_count": 24,
   "metadata": {
    "collapsed": true
   },
   "outputs": [],
   "source": [
    "raw_offisde = pd.read_table(\"/DAS_Storage1/aschoi/data/Drug_Repositioning/5_new_drug/3003377s-offsides.tsv\")"
   ]
  },
  {
   "cell_type": "code",
   "execution_count": 25,
   "metadata": {
    "collapsed": false
   },
   "outputs": [
    {
     "name": "stdout",
     "output_type": "stream",
     "text": [
      "438801\n"
     ]
    },
    {
     "data": {
      "text/html": [
       "<div>\n",
       "<table border=\"1\" class=\"dataframe\">\n",
       "  <thead>\n",
       "    <tr style=\"text-align: right;\">\n",
       "      <th></th>\n",
       "      <th>stitch_id</th>\n",
       "      <th>drug</th>\n",
       "      <th>umls_id</th>\n",
       "      <th>event</th>\n",
       "    </tr>\n",
       "  </thead>\n",
       "  <tbody>\n",
       "    <tr>\n",
       "      <th>0</th>\n",
       "      <td>CID000000076</td>\n",
       "      <td>dehydroepiandrosterone</td>\n",
       "      <td>C0000737</td>\n",
       "      <td>abdominal pain</td>\n",
       "    </tr>\n",
       "    <tr>\n",
       "      <th>1</th>\n",
       "      <td>CID000000076</td>\n",
       "      <td>dehydroepiandrosterone</td>\n",
       "      <td>C0001622</td>\n",
       "      <td>hyperadrenalism</td>\n",
       "    </tr>\n",
       "  </tbody>\n",
       "</table>\n",
       "</div>"
      ],
      "text/plain": [
       "      stitch_id                    drug   umls_id            event\n",
       "0  CID000000076  dehydroepiandrosterone  C0000737   abdominal pain\n",
       "1  CID000000076  dehydroepiandrosterone  C0001622  hyperadrenalism"
      ]
     },
     "execution_count": 25,
     "metadata": {},
     "output_type": "execute_result"
    }
   ],
   "source": [
    "print(len(raw_offisde))\n",
    "offside = raw_offisde[['stitch_id','drug', 'umls_id', 'event']]\n",
    "offside.head(2)"
   ]
  },
  {
   "cell_type": "code",
   "execution_count": 26,
   "metadata": {
    "collapsed": false
   },
   "outputs": [
    {
     "name": "stdout",
     "output_type": "stream",
     "text": [
      "8878\n",
      "1255\n"
     ]
    },
    {
     "data": {
      "text/html": [
       "<div>\n",
       "<table border=\"1\" class=\"dataframe\">\n",
       "  <thead>\n",
       "    <tr style=\"text-align: right;\">\n",
       "      <th></th>\n",
       "      <th>flat_chemical</th>\n",
       "      <th>stereo_chemical</th>\n",
       "      <th>source_name</th>\n",
       "      <th>source_id</th>\n",
       "    </tr>\n",
       "  </thead>\n",
       "  <tbody>\n",
       "    <tr>\n",
       "      <th>5561</th>\n",
       "      <td>CID100005073</td>\n",
       "      <td>CID000005073</td>\n",
       "      <td>PC</td>\n",
       "      <td>10005067</td>\n",
       "    </tr>\n",
       "  </tbody>\n",
       "</table>\n",
       "</div>"
      ],
      "text/plain": [
       "     flat_chemical stereo_chemical source_name  source_id\n",
       "5561  CID100005073    CID000005073          PC   10005067"
      ]
     },
     "execution_count": 26,
     "metadata": {},
     "output_type": "execute_result"
    }
   ],
   "source": [
    "g = stitch_cid[stitch_cid.stereo_chemical.isin(raw_offisde['stitch_id'])]\n",
    "print len(g)\n",
    "print len(g.drop_duplicates(subset = 'flat_chemical')) # 여기서 왜 flat chemical을 하는지 모름...\n",
    "g.head(1)"
   ]
  },
  {
   "cell_type": "code",
   "execution_count": 46,
   "metadata": {
    "collapsed": true
   },
   "outputs": [],
   "source": [
    "# OFFSIDE의 stitch id과 pubchem id를 매칭해놓은것.\n",
    "g.to_csv(\"/home/share/aschoi/nas/users/asolchoi/data/Drug_Repositioning/5_new_drug/4_0_stitch(offside)_pubchem.tsv\")\n",
    "g.to_csv(\"/DAS_Storage1/aschoi/data/Drug_Repositioning/5_new_drug/4_0_stitch(offside)_pubchem.tsv\")"
   ]
  },
  {
   "cell_type": "code",
   "execution_count": 27,
   "metadata": {
    "collapsed": false
   },
   "outputs": [
    {
     "name": "stdout",
     "output_type": "stream",
     "text": [
      "59\n",
      "52\n"
     ]
    },
    {
     "data": {
      "text/html": [
       "<div>\n",
       "<table border=\"1\" class=\"dataframe\">\n",
       "  <thead>\n",
       "    <tr style=\"text-align: right;\">\n",
       "      <th></th>\n",
       "      <th>flat_chemical</th>\n",
       "      <th>stereo_chemical</th>\n",
       "      <th>source_name</th>\n",
       "      <th>source_id</th>\n",
       "    </tr>\n",
       "  </thead>\n",
       "  <tbody>\n",
       "    <tr>\n",
       "      <th>347276</th>\n",
       "      <td>CID100001032</td>\n",
       "      <td>CID000001032</td>\n",
       "      <td>PC</td>\n",
       "      <td>1032</td>\n",
       "    </tr>\n",
       "    <tr>\n",
       "      <th>515854</th>\n",
       "      <td>CID100001032</td>\n",
       "      <td>CID000001032</td>\n",
       "      <td>PC</td>\n",
       "      <td>104745</td>\n",
       "    </tr>\n",
       "  </tbody>\n",
       "</table>\n",
       "</div>"
      ],
      "text/plain": [
       "       flat_chemical stereo_chemical source_name  source_id\n",
       "347276  CID100001032    CID000001032          PC       1032\n",
       "515854  CID100001032    CID000001032          PC     104745"
      ]
     },
     "execution_count": 27,
     "metadata": {},
     "output_type": "execute_result"
    }
   ],
   "source": [
    "print len(g[g.source_id.isin(herb_cid['pubchemID'])]) \n",
    "print len(g[g.source_id.isin(herb_cid['pubchemID'])].drop_duplicates(subset = 'stereo_chemical')) # offside 정보를 가지고 있는 herb compound\n",
    "g[g.source_id.isin(herb_cid['pubchemID'])].head(2)"
   ]
  },
  {
   "cell_type": "code",
   "execution_count": 28,
   "metadata": {
    "collapsed": false
   },
   "outputs": [
    {
     "name": "stdout",
     "output_type": "stream",
     "text": [
      "61\n",
      "61\n"
     ]
    },
    {
     "data": {
      "text/html": [
       "<div>\n",
       "<table border=\"1\" class=\"dataframe\">\n",
       "  <thead>\n",
       "    <tr style=\"text-align: right;\">\n",
       "      <th></th>\n",
       "      <th>compID</th>\n",
       "      <th>compName</th>\n",
       "      <th>pubchemID</th>\n",
       "    </tr>\n",
       "  </thead>\n",
       "  <tbody>\n",
       "    <tr>\n",
       "      <th>93</th>\n",
       "      <td>1020</td>\n",
       "      <td>Probenecid</td>\n",
       "      <td>4911</td>\n",
       "    </tr>\n",
       "    <tr>\n",
       "      <th>220</th>\n",
       "      <td>926</td>\n",
       "      <td>Salicylic acid</td>\n",
       "      <td>338</td>\n",
       "    </tr>\n",
       "  </tbody>\n",
       "</table>\n",
       "</div>"
      ],
      "text/plain": [
       "     compID        compName  pubchemID\n",
       "93     1020      Probenecid       4911\n",
       "220     926  Salicylic acid        338"
      ]
     },
     "execution_count": 28,
     "metadata": {},
     "output_type": "execute_result"
    }
   ],
   "source": [
    "h = herb_cid[herb_cid['pubchemID'].isin(g['source_id'])] \n",
    "print len(h)\n",
    "print len(h.drop_duplicates(subset = 'compID'))# herb compound 중, offisde 정보를 가지고 있는 herb compound의 수 (위아래가 왜 수가 다른지는 모를..)\n",
    "h.head(2)"
   ]
  },
  {
   "cell_type": "code",
   "execution_count": 29,
   "metadata": {
    "collapsed": true
   },
   "outputs": [],
   "source": [
    "# herb copmound와 offside id를 매핑하는 과정 (pubchem id 사용)\n",
    "result2 = pd.DataFrame()\n",
    "for index, row in h.iterrows():\n",
    "    pubchem_id = row['pubchemID']\n",
    "    filtered = g[g.source_id == pubchem_id]\n",
    "    if filtered.empty:\n",
    "        continue\n",
    "    else:\n",
    "        for index2, row2 in filtered.iterrows():\n",
    "            stereo = row2['stereo_chemical']\n",
    "            temp_df = pd.DataFrame([[row['compID'], row['compName'], stereo]], \n",
    "                                  columns = ['compID', 'compName','stitch_stereo'])\n",
    "            result2 = result2.append(temp_df)"
   ]
  },
  {
   "cell_type": "code",
   "execution_count": 30,
   "metadata": {
    "collapsed": true
   },
   "outputs": [],
   "source": [
    "# 위에서 바꾼 offside id를 통해 herb compound마다 adr을 찾는다. \n",
    "offside_result = pd.DataFrame()\n",
    "for index, row in result2.iterrows():\n",
    "    stereo = row['stitch_stereo']\n",
    "    filtered = raw_offisde[raw_offisde.stitch_id == stereo]\n",
    "    if filtered.empty:\n",
    "        print stereo\n",
    "        continue\n",
    "    else:\n",
    "        for index2, row2 in filtered.iterrows():\n",
    "            umls_id = row2['umls_id']\n",
    "            side_effect = row2['event']\n",
    "            temp_df = pd.DataFrame([[row['compID'], row['compName'], umls_id, side_effect]], \n",
    "                                   columns = ['compID', 'compName', 'umls_id', 'side_effect_name'])\n",
    "            offside_result = offside_result.append(temp_df)"
   ]
  },
  {
   "cell_type": "code",
   "execution_count": 31,
   "metadata": {
    "collapsed": false
   },
   "outputs": [
    {
     "name": "stdout",
     "output_type": "stream",
     "text": [
      "21487\n",
      "21487\n",
      "61\n",
      "4516\n"
     ]
    },
    {
     "data": {
      "text/html": [
       "<div>\n",
       "<table border=\"1\" class=\"dataframe\">\n",
       "  <thead>\n",
       "    <tr style=\"text-align: right;\">\n",
       "      <th></th>\n",
       "      <th>compID</th>\n",
       "      <th>compName</th>\n",
       "      <th>umls_id</th>\n",
       "      <th>side_effect_name</th>\n",
       "    </tr>\n",
       "  </thead>\n",
       "  <tbody>\n",
       "    <tr>\n",
       "      <th>0</th>\n",
       "      <td>1020</td>\n",
       "      <td>Probenecid</td>\n",
       "      <td>C0000737</td>\n",
       "      <td>abdominal pain</td>\n",
       "    </tr>\n",
       "    <tr>\n",
       "      <th>0</th>\n",
       "      <td>1020</td>\n",
       "      <td>Probenecid</td>\n",
       "      <td>C0001122</td>\n",
       "      <td>Acidosis</td>\n",
       "    </tr>\n",
       "  </tbody>\n",
       "</table>\n",
       "</div>"
      ],
      "text/plain": [
       "   compID    compName   umls_id side_effect_name\n",
       "0    1020  Probenecid  C0000737   abdominal pain\n",
       "0    1020  Probenecid  C0001122         Acidosis"
      ]
     },
     "execution_count": 31,
     "metadata": {},
     "output_type": "execute_result"
    }
   ],
   "source": [
    "print len(offside_result)\n",
    "print len(offside_result.drop_duplicates())\n",
    "print len(offside_result.drop_duplicates(subset = 'compID')) # offside의 정보를 갖고 있는 herb compound의 수\n",
    "print len(offside_result.drop_duplicates(subset ='umls_id')) # 그것의 adr의 수\n",
    "offside_result.head(2)"
   ]
  },
  {
   "cell_type": "code",
   "execution_count": 73,
   "metadata": {
    "collapsed": true
   },
   "outputs": [],
   "source": [
    "offside_result.to_csv(\"/DAS_Storage1/aschoi/data/COCONUT_Herbal/6_Herb/6_2_herb_offside_sideEffect.tsv\", sep = '\\t', index = False)\n",
    "offside_result[['compID', 'compName', 'umls_id']].to_csv(\"/DAS_Storage1/aschoi/data/COCONUT_Herbal/6_Herb/6_3_herb_offside_umlsID.tsv\", sep = '\\t', index = False)\n",
    "offside_result.to_csv(\"/home/share/aschoi/nas/users/asolchoi/data/COCONUT_Herbal/6_Herb/6_2_herb_offside_sideEffect.tsv\", sep = '\\t', index = False)\n",
    "offside_result[['compID', 'compName', 'umls_id']].to_csv(\"/home/share/aschoi/nas/users/asolchoi/data/COCONUT_Herbal/6_Herb/6_3_herb_offside_umlsID.tsv\", sep = '\\t', index = False)"
   ]
  },
  {
   "cell_type": "code",
   "execution_count": null,
   "metadata": {
    "collapsed": true
   },
   "outputs": [],
   "source": []
  },
  {
   "cell_type": "code",
   "execution_count": null,
   "metadata": {
    "collapsed": true
   },
   "outputs": [],
   "source": [
    "# herb_compound가 갖고 있는 side effect feature와 gold drug의 common feature 비교해서 걸러내기"
   ]
  },
  {
   "cell_type": "code",
   "execution_count": 32,
   "metadata": {
    "collapsed": true
   },
   "outputs": [],
   "source": [
    "drug = pd.read_table(\"/DAS_Storage1/aschoi/data/Drug_Repositioning/5_new_drug/8_gold_standard_drug_binary_matrix.tsv\", index_col = 0)"
   ]
  },
  {
   "cell_type": "code",
   "execution_count": 35,
   "metadata": {
    "collapsed": false
   },
   "outputs": [
    {
     "name": "stdout",
     "output_type": "stream",
     "text": [
      "2276\n"
     ]
    }
   ],
   "source": [
    "common_feature = pd.Series(drug.index.values)\n",
    "print len(common_feature)"
   ]
  },
  {
   "cell_type": "code",
   "execution_count": 34,
   "metadata": {
    "collapsed": false
   },
   "outputs": [
    {
     "data": {
      "text/plain": [
       "947"
      ]
     },
     "execution_count": 34,
     "metadata": {},
     "output_type": "execute_result"
    }
   ],
   "source": [
    "len(sider_result[sider_result['umls_id'].isin(common_feature)].drop_duplicates(subset = 'umls_id'))"
   ]
  },
  {
   "cell_type": "code",
   "execution_count": 36,
   "metadata": {
    "collapsed": false
   },
   "outputs": [
    {
     "data": {
      "text/plain": [
       "1765"
      ]
     },
     "execution_count": 36,
     "metadata": {},
     "output_type": "execute_result"
    }
   ],
   "source": [
    "len(offside_result[offside_result['umls_id'].isin(common_feature)].drop_duplicates(subset = 'umls_id'))"
   ]
  },
  {
   "cell_type": "code",
   "execution_count": null,
   "metadata": {
    "collapsed": true
   },
   "outputs": [],
   "source": [
    "# 기존 COCONUT database에서 제공하는 정보도 합쳐야함."
   ]
  },
  {
   "cell_type": "code",
   "execution_count": 37,
   "metadata": {
    "collapsed": true
   },
   "outputs": [],
   "source": [
    "herb_cause = pd.read_table(\"/DAS_Storage1/aschoi/data/COCONUT_Herbal/6_Herb/5_2_herb_compound_phenotype_cause_umls.tsv\")"
   ]
  },
  {
   "cell_type": "code",
   "execution_count": 38,
   "metadata": {
    "collapsed": false
   },
   "outputs": [
    {
     "data": {
      "text/plain": [
       "35"
      ]
     },
     "execution_count": 38,
     "metadata": {},
     "output_type": "execute_result"
    }
   ],
   "source": [
    "len(herb_cause[herb_cause['compID'].isin(sider_result['compID'])].drop_duplicates(subset = 'compID'))"
   ]
  },
  {
   "cell_type": "code",
   "execution_count": 40,
   "metadata": {
    "collapsed": true
   },
   "outputs": [],
   "source": [
    "coconut = herb_cause[['compID', 'umlsID']]\n",
    "coconut = coconut.rename(columns = {'umlsID' : 'umls_id'})\n",
    "sider = sider_result[['compID', 'umls_id']] \n",
    "offside = offside_result[['compID', 'umls_id']]\n",
    "frames = [coconut, sider, offside]\n",
    "combined = pd.concat(frames)"
   ]
  },
  {
   "cell_type": "code",
   "execution_count": 41,
   "metadata": {
    "collapsed": false
   },
   "outputs": [
    {
     "data": {
      "text/html": [
       "<div>\n",
       "<table border=\"1\" class=\"dataframe\">\n",
       "  <thead>\n",
       "    <tr style=\"text-align: right;\">\n",
       "      <th></th>\n",
       "      <th>compID</th>\n",
       "      <th>umls_id</th>\n",
       "    </tr>\n",
       "  </thead>\n",
       "  <tbody>\n",
       "    <tr>\n",
       "      <th>0</th>\n",
       "      <td>1020.0</td>\n",
       "      <td>C0002170</td>\n",
       "    </tr>\n",
       "  </tbody>\n",
       "</table>\n",
       "</div>"
      ],
      "text/plain": [
       "   compID   umls_id\n",
       "0  1020.0  C0002170"
      ]
     },
     "execution_count": 41,
     "metadata": {},
     "output_type": "execute_result"
    }
   ],
   "source": [
    "combined.head(1)"
   ]
  },
  {
   "cell_type": "code",
   "execution_count": 42,
   "metadata": {
    "collapsed": false
   },
   "outputs": [
    {
     "name": "stdout",
     "output_type": "stream",
     "text": [
      "143\n",
      "5413\n"
     ]
    }
   ],
   "source": [
    "print len(combined.drop_duplicates(subset = 'compID')) # herb compound 의 수\n",
    "print len(combined.drop_duplicates(subset = 'umls_id')) # 그 herb compound가 가지고 있는 side effect수"
   ]
  },
  {
   "cell_type": "code",
   "execution_count": 46,
   "metadata": {
    "collapsed": false
   },
   "outputs": [
    {
     "name": "stdout",
     "output_type": "stream",
     "text": [
      "143\n",
      "1879\n"
     ]
    }
   ],
   "source": [
    "print len(combined[combined['umls_id'].isin(common_feature)].drop_duplicates(subset = 'compID')) # gold standard drug feature를 가지고 있는 herb compound의 수\n",
    "print len(combined[combined['umls_id'].isin(common_feature)].drop_duplicates(subset = 'umls_id')) # gold standard drug feature와 겹치는 feature의 수\n",
    "k = combined[combined['umls_id'].isin(common_feature)]"
   ]
  },
  {
   "cell_type": "code",
   "execution_count": 50,
   "metadata": {
    "collapsed": false
   },
   "outputs": [
    {
     "data": {
      "text/html": [
       "<div>\n",
       "<table border=\"1\" class=\"dataframe\">\n",
       "  <thead>\n",
       "    <tr style=\"text-align: right;\">\n",
       "      <th></th>\n",
       "      <th>compID</th>\n",
       "      <th>umls_id</th>\n",
       "    </tr>\n",
       "  </thead>\n",
       "  <tbody>\n",
       "    <tr>\n",
       "      <th>0</th>\n",
       "      <td>1020.0</td>\n",
       "      <td>C0002170</td>\n",
       "    </tr>\n",
       "    <tr>\n",
       "      <th>1</th>\n",
       "      <td>1020.0</td>\n",
       "      <td>C0018965</td>\n",
       "    </tr>\n",
       "  </tbody>\n",
       "</table>\n",
       "</div>"
      ],
      "text/plain": [
       "   compID   umls_id\n",
       "0  1020.0  C0002170\n",
       "1  1020.0  C0018965"
      ]
     },
     "execution_count": 50,
     "metadata": {},
     "output_type": "execute_result"
    }
   ],
   "source": [
    "k.head(2)"
   ]
  },
  {
   "cell_type": "code",
   "execution_count": 52,
   "metadata": {
    "collapsed": true
   },
   "outputs": [],
   "source": [
    "k.to_csv(\"/DAS_Storage1/aschoi/data/COCONUT_Herbal/6_Herb/7_herb_compound_combined_common_phenotypic_effects.tsv\", sep='\\t', index=False)\n",
    "k.to_csv(\"/home/share/aschoi/nas/users/asolchoi/data/COCONUT_Herbal/6_Herb/7_herb_compound_combined_common_phenotypic_effects.tsv\", sep='\\t', index=False)"
   ]
  },
  {
   "cell_type": "code",
   "execution_count": null,
   "metadata": {
    "collapsed": true
   },
   "outputs": [],
   "source": [
    "### learning이 가능한 herb compound(바로 위에서 구한 k)와 disease의 association"
   ]
  },
  {
   "cell_type": "code",
   "execution_count": 44,
   "metadata": {
    "collapsed": true
   },
   "outputs": [],
   "source": [
    "herb_asso = pd.read_table(\"/DAS_Storage1/aschoi/data/COCONUT_Herbal/6_Herb/5_2_herb_compound_phenotype_association_umls.tsv\")"
   ]
  },
  {
   "cell_type": "code",
   "execution_count": 45,
   "metadata": {
    "collapsed": false
   },
   "outputs": [
    {
     "data": {
      "text/html": [
       "<div>\n",
       "<table border=\"1\" class=\"dataframe\">\n",
       "  <thead>\n",
       "    <tr style=\"text-align: right;\">\n",
       "      <th></th>\n",
       "      <th>compID</th>\n",
       "      <th>effectType</th>\n",
       "      <th>evidence</th>\n",
       "      <th>phenID</th>\n",
       "      <th>reference</th>\n",
       "      <th>umlsID</th>\n",
       "    </tr>\n",
       "  </thead>\n",
       "  <tbody>\n",
       "    <tr>\n",
       "      <th>0</th>\n",
       "      <td>32837.0</td>\n",
       "      <td>Association</td>\n",
       "      <td>Central Nervous System Diseases</td>\n",
       "      <td>2304.0</td>\n",
       "      <td>CTD[C011015]</td>\n",
       "      <td>C0007682</td>\n",
       "    </tr>\n",
       "  </tbody>\n",
       "</table>\n",
       "</div>"
      ],
      "text/plain": [
       "    compID   effectType                         evidence  phenID  \\\n",
       "0  32837.0  Association  Central Nervous System Diseases  2304.0   \n",
       "\n",
       "      reference    umlsID  \n",
       "0  CTD[C011015]  C0007682  "
      ]
     },
     "execution_count": 45,
     "metadata": {},
     "output_type": "execute_result"
    }
   ],
   "source": [
    "herb_asso.head(1)"
   ]
  },
  {
   "cell_type": "code",
   "execution_count": 47,
   "metadata": {
    "collapsed": false,
    "scrolled": true
   },
   "outputs": [
    {
     "name": "stdout",
     "output_type": "stream",
     "text": [
      "6037\n"
     ]
    },
    {
     "data": {
      "text/html": [
       "<div>\n",
       "<table border=\"1\" class=\"dataframe\">\n",
       "  <thead>\n",
       "    <tr style=\"text-align: right;\">\n",
       "      <th></th>\n",
       "      <th>compID</th>\n",
       "      <th>effectType</th>\n",
       "      <th>evidence</th>\n",
       "      <th>phenID</th>\n",
       "      <th>reference</th>\n",
       "      <th>umlsID</th>\n",
       "    </tr>\n",
       "  </thead>\n",
       "  <tbody>\n",
       "    <tr>\n",
       "      <th>349</th>\n",
       "      <td>5525.0</td>\n",
       "      <td>Association</td>\n",
       "      <td>Adenocarcinoma</td>\n",
       "      <td>912.0</td>\n",
       "      <td>CTD[D019905]</td>\n",
       "      <td>C0001418</td>\n",
       "    </tr>\n",
       "    <tr>\n",
       "      <th>350</th>\n",
       "      <td>5525.0</td>\n",
       "      <td>Association</td>\n",
       "      <td>Alcoholism</td>\n",
       "      <td>312.0</td>\n",
       "      <td>CTD[D019905]</td>\n",
       "      <td>C0001973</td>\n",
       "    </tr>\n",
       "    <tr>\n",
       "      <th>351</th>\n",
       "      <td>5525.0</td>\n",
       "      <td>Association</td>\n",
       "      <td>Arrhythmias, Cardiac</td>\n",
       "      <td>479.0</td>\n",
       "      <td>CTD[D019905]</td>\n",
       "      <td>C0003811</td>\n",
       "    </tr>\n",
       "    <tr>\n",
       "      <th>352</th>\n",
       "      <td>5525.0</td>\n",
       "      <td>Association</td>\n",
       "      <td>Breast Neoplasms</td>\n",
       "      <td>3351.0</td>\n",
       "      <td>CTD[D019905]</td>\n",
       "      <td>C1458155</td>\n",
       "    </tr>\n",
       "    <tr>\n",
       "      <th>353</th>\n",
       "      <td>5525.0</td>\n",
       "      <td>Association</td>\n",
       "      <td>Carcinoma, Hepatocellular</td>\n",
       "      <td>1131.0</td>\n",
       "      <td>CTD[D019905]</td>\n",
       "      <td>C2239176</td>\n",
       "    </tr>\n",
       "  </tbody>\n",
       "</table>\n",
       "</div>"
      ],
      "text/plain": [
       "     compID   effectType                   evidence  phenID     reference  \\\n",
       "349  5525.0  Association             Adenocarcinoma   912.0  CTD[D019905]   \n",
       "350  5525.0  Association                 Alcoholism   312.0  CTD[D019905]   \n",
       "351  5525.0  Association       Arrhythmias, Cardiac   479.0  CTD[D019905]   \n",
       "352  5525.0  Association           Breast Neoplasms  3351.0  CTD[D019905]   \n",
       "353  5525.0  Association  Carcinoma, Hepatocellular  1131.0  CTD[D019905]   \n",
       "\n",
       "       umlsID  \n",
       "349  C0001418  \n",
       "350  C0001973  \n",
       "351  C0003811  \n",
       "352  C1458155  \n",
       "353  C2239176  "
      ]
     },
     "execution_count": 47,
     "metadata": {},
     "output_type": "execute_result"
    }
   ],
   "source": [
    "print len(herb_asso[herb_asso['compID'].isin(k['compID'])].drop_duplicates())  # row의 수가 learning이 가능한 herb compound와 disease의 association 수\n",
    "herb_asso[herb_asso['compID'].isin(k['compID'])].drop_duplicates().head()"
   ]
  },
  {
   "cell_type": "code",
   "execution_count": 53,
   "metadata": {
    "collapsed": true
   },
   "outputs": [],
   "source": [
    "learning_herb_asso = herb_asso[herb_asso['compID'].isin(k['compID'])].drop_duplicates()\n",
    "learning_herb_asso.to_csv(\"/DAS_Storage1/aschoi/data/COCONUT_Herbal/6_Herb/7_2_learning_herb_compound_disease_association.tsv\", sep='\\t', index=False)\n",
    "learning_herb_asso.to_csv(\"/home/share/aschoi/nas/users/asolchoi/data/COCONUT_Herbal/6_Herb/7_2_learning_herb_compound_disease_association.tsv\", sep='\\t', index=False)"
   ]
  },
  {
   "cell_type": "code",
   "execution_count": 49,
   "metadata": {
    "collapsed": false
   },
   "outputs": [
    {
     "name": "stdout",
     "output_type": "stream",
     "text": [
      "4900\n"
     ]
    },
    {
     "data": {
      "text/html": [
       "<div>\n",
       "<table border=\"1\" class=\"dataframe\">\n",
       "  <thead>\n",
       "    <tr style=\"text-align: right;\">\n",
       "      <th></th>\n",
       "      <th>compID</th>\n",
       "      <th>effectType</th>\n",
       "      <th>evidence</th>\n",
       "      <th>phenID</th>\n",
       "      <th>reference</th>\n",
       "      <th>umlsID</th>\n",
       "    </tr>\n",
       "  </thead>\n",
       "  <tbody>\n",
       "    <tr>\n",
       "      <th>2578</th>\n",
       "      <td>1020.0</td>\n",
       "      <td>Association</td>\n",
       "      <td>Cytomegalovirus Retinitis</td>\n",
       "      <td>1042.0</td>\n",
       "      <td>ClinicalTrial[NCT00304434] / ClinicalTrial[NCT...</td>\n",
       "      <td>C0206178</td>\n",
       "    </tr>\n",
       "    <tr>\n",
       "      <th>2579</th>\n",
       "      <td>1020.0</td>\n",
       "      <td>Association</td>\n",
       "      <td>HIV Infections</td>\n",
       "      <td>109.0</td>\n",
       "      <td>ClinicalTrial[NCT00304434] / ClinicalTrial[NCT...</td>\n",
       "      <td>C0019693</td>\n",
       "    </tr>\n",
       "    <tr>\n",
       "      <th>2580</th>\n",
       "      <td>1020.0</td>\n",
       "      <td>Association</td>\n",
       "      <td>Acute Kidney Injury</td>\n",
       "      <td>6088.0</td>\n",
       "      <td>CTD[D011339]</td>\n",
       "      <td>C2609414</td>\n",
       "    </tr>\n",
       "    <tr>\n",
       "      <th>2581</th>\n",
       "      <td>1020.0</td>\n",
       "      <td>Association</td>\n",
       "      <td>AIDSRelated Opportunistic Infections</td>\n",
       "      <td>4594.0</td>\n",
       "      <td>CTD[D011339]</td>\n",
       "      <td>C0029118</td>\n",
       "    </tr>\n",
       "    <tr>\n",
       "      <th>2582</th>\n",
       "      <td>1020.0</td>\n",
       "      <td>Association</td>\n",
       "      <td>Albuminuria</td>\n",
       "      <td>3638.0</td>\n",
       "      <td>CTD[D011339]</td>\n",
       "      <td>C0001925</td>\n",
       "    </tr>\n",
       "    <tr>\n",
       "      <th>2583</th>\n",
       "      <td>1020.0</td>\n",
       "      <td>Association</td>\n",
       "      <td>Allanson Pantzar McLeod syndrome</td>\n",
       "      <td>10484.0</td>\n",
       "      <td>CTD[D011339]</td>\n",
       "      <td>C0266313</td>\n",
       "    </tr>\n",
       "    <tr>\n",
       "      <th>2584</th>\n",
       "      <td>1020.0</td>\n",
       "      <td>Association</td>\n",
       "      <td>AmphetamineRelated Disorders</td>\n",
       "      <td>184.0</td>\n",
       "      <td>CTD[D011339]</td>\n",
       "      <td>C0012634</td>\n",
       "    </tr>\n",
       "    <tr>\n",
       "      <th>2585</th>\n",
       "      <td>1020.0</td>\n",
       "      <td>Association</td>\n",
       "      <td>Anemia, Hemolytic, Autoimmune</td>\n",
       "      <td>1999.0</td>\n",
       "      <td>CTD[D011339]</td>\n",
       "      <td>C0002880</td>\n",
       "    </tr>\n",
       "    <tr>\n",
       "      <th>2586</th>\n",
       "      <td>1020.0</td>\n",
       "      <td>Association</td>\n",
       "      <td>Anxiety Disorders</td>\n",
       "      <td>459.0</td>\n",
       "      <td>CTD[D011339]</td>\n",
       "      <td>C0003469</td>\n",
       "    </tr>\n",
       "    <tr>\n",
       "      <th>2587</th>\n",
       "      <td>1020.0</td>\n",
       "      <td>Association</td>\n",
       "      <td>Arthritis, Gouty</td>\n",
       "      <td>2388.0</td>\n",
       "      <td>CTD[D011339]</td>\n",
       "      <td>C0003868</td>\n",
       "    </tr>\n",
       "    <tr>\n",
       "      <th>2588</th>\n",
       "      <td>1020.0</td>\n",
       "      <td>Association</td>\n",
       "      <td>Arthritis, Rheumatoid</td>\n",
       "      <td>23.0</td>\n",
       "      <td>CTD[D011339]</td>\n",
       "      <td>C0003873</td>\n",
       "    </tr>\n",
       "    <tr>\n",
       "      <th>2589</th>\n",
       "      <td>1020.0</td>\n",
       "      <td>Association</td>\n",
       "      <td>Asthma</td>\n",
       "      <td>145.0</td>\n",
       "      <td>CTD[D011339]</td>\n",
       "      <td>C0004096</td>\n",
       "    </tr>\n",
       "    <tr>\n",
       "      <th>2590</th>\n",
       "      <td>1020.0</td>\n",
       "      <td>Association</td>\n",
       "      <td>Atherosclerosis</td>\n",
       "      <td>1858.0</td>\n",
       "      <td>CTD[D011339]</td>\n",
       "      <td>C0004153</td>\n",
       "    </tr>\n",
       "    <tr>\n",
       "      <th>2591</th>\n",
       "      <td>1020.0</td>\n",
       "      <td>Association</td>\n",
       "      <td>Attention Deficit Disorder with Hyperactivity</td>\n",
       "      <td>449.0</td>\n",
       "      <td>CTD[D011339]</td>\n",
       "      <td>C1263846</td>\n",
       "    </tr>\n",
       "    <tr>\n",
       "      <th>2592</th>\n",
       "      <td>1020.0</td>\n",
       "      <td>Association</td>\n",
       "      <td>Azotemia</td>\n",
       "      <td>3943.0</td>\n",
       "      <td>CTD[D011339]</td>\n",
       "      <td>C0554309</td>\n",
       "    </tr>\n",
       "    <tr>\n",
       "      <th>2593</th>\n",
       "      <td>1020.0</td>\n",
       "      <td>Association</td>\n",
       "      <td>Bartter Syndrome</td>\n",
       "      <td>896.0</td>\n",
       "      <td>CTD[D011339]</td>\n",
       "      <td>C0004775</td>\n",
       "    </tr>\n",
       "    <tr>\n",
       "      <th>2594</th>\n",
       "      <td>1020.0</td>\n",
       "      <td>Association</td>\n",
       "      <td>Brain Diseases</td>\n",
       "      <td>2119.0</td>\n",
       "      <td>CTD[D011339]</td>\n",
       "      <td>C0006111</td>\n",
       "    </tr>\n",
       "    <tr>\n",
       "      <th>2595</th>\n",
       "      <td>1020.0</td>\n",
       "      <td>Association</td>\n",
       "      <td>Brain Ischemia</td>\n",
       "      <td>3261.0</td>\n",
       "      <td>CTD[D011339]</td>\n",
       "      <td>C0007786</td>\n",
       "    </tr>\n",
       "    <tr>\n",
       "      <th>2596</th>\n",
       "      <td>1020.0</td>\n",
       "      <td>Association</td>\n",
       "      <td>Breast Neoplasms</td>\n",
       "      <td>3351.0</td>\n",
       "      <td>CTD[D011339]</td>\n",
       "      <td>C1458155</td>\n",
       "    </tr>\n",
       "    <tr>\n",
       "      <th>2597</th>\n",
       "      <td>1020.0</td>\n",
       "      <td>Association</td>\n",
       "      <td>Bronchial Hyperreactivity</td>\n",
       "      <td>2933.0</td>\n",
       "      <td>CTD[D011339]</td>\n",
       "      <td>C0085129</td>\n",
       "    </tr>\n",
       "    <tr>\n",
       "      <th>2598</th>\n",
       "      <td>1020.0</td>\n",
       "      <td>Association</td>\n",
       "      <td>Calcinosis</td>\n",
       "      <td>2996.0</td>\n",
       "      <td>CTD[D011339]</td>\n",
       "      <td>C0006663</td>\n",
       "    </tr>\n",
       "    <tr>\n",
       "      <th>2599</th>\n",
       "      <td>1020.0</td>\n",
       "      <td>Association</td>\n",
       "      <td>Carcinoma, Hepatocellular</td>\n",
       "      <td>1131.0</td>\n",
       "      <td>CTD[D011339]</td>\n",
       "      <td>C2239176</td>\n",
       "    </tr>\n",
       "    <tr>\n",
       "      <th>2600</th>\n",
       "      <td>1020.0</td>\n",
       "      <td>Association</td>\n",
       "      <td>Cardiomegaly</td>\n",
       "      <td>1747.0</td>\n",
       "      <td>CTD[D011339]</td>\n",
       "      <td>C0018800</td>\n",
       "    </tr>\n",
       "    <tr>\n",
       "      <th>2601</th>\n",
       "      <td>1020.0</td>\n",
       "      <td>Association</td>\n",
       "      <td>Cardiomyopathy, Dilated</td>\n",
       "      <td>6512.0</td>\n",
       "      <td>CTD[D011339]</td>\n",
       "      <td>C0007193</td>\n",
       "    </tr>\n",
       "    <tr>\n",
       "      <th>2602</th>\n",
       "      <td>1020.0</td>\n",
       "      <td>Association</td>\n",
       "      <td>Cardiovascular Diseases</td>\n",
       "      <td>355.0</td>\n",
       "      <td>CTD[D011339]</td>\n",
       "      <td>C0007222</td>\n",
       "    </tr>\n",
       "    <tr>\n",
       "      <th>2603</th>\n",
       "      <td>1020.0</td>\n",
       "      <td>Association</td>\n",
       "      <td>Carotid Artery Diseases</td>\n",
       "      <td>6923.0</td>\n",
       "      <td>CTD[D011339]</td>\n",
       "      <td>C0007273</td>\n",
       "    </tr>\n",
       "    <tr>\n",
       "      <th>2604</th>\n",
       "      <td>1020.0</td>\n",
       "      <td>Association</td>\n",
       "      <td>Catalepsy</td>\n",
       "      <td>4870.0</td>\n",
       "      <td>CTD[D011339]</td>\n",
       "      <td>C0007370</td>\n",
       "    </tr>\n",
       "    <tr>\n",
       "      <th>2605</th>\n",
       "      <td>1020.0</td>\n",
       "      <td>Association</td>\n",
       "      <td>Cholestasis</td>\n",
       "      <td>2985.0</td>\n",
       "      <td>CTD[D011339]</td>\n",
       "      <td>C0008370</td>\n",
       "    </tr>\n",
       "    <tr>\n",
       "      <th>2606</th>\n",
       "      <td>1020.0</td>\n",
       "      <td>Association</td>\n",
       "      <td>Colonic Neoplasms</td>\n",
       "      <td>3418.0</td>\n",
       "      <td>CTD[D011339]</td>\n",
       "      <td>C0009375</td>\n",
       "    </tr>\n",
       "    <tr>\n",
       "      <th>2607</th>\n",
       "      <td>1020.0</td>\n",
       "      <td>Association</td>\n",
       "      <td>Coronary Artery Disease</td>\n",
       "      <td>596.0</td>\n",
       "      <td>CTD[D011339]</td>\n",
       "      <td>C0010054</td>\n",
       "    </tr>\n",
       "    <tr>\n",
       "      <th>...</th>\n",
       "      <td>...</td>\n",
       "      <td>...</td>\n",
       "      <td>...</td>\n",
       "      <td>...</td>\n",
       "      <td>...</td>\n",
       "      <td>...</td>\n",
       "    </tr>\n",
       "    <tr>\n",
       "      <th>70901</th>\n",
       "      <td>8012.0</td>\n",
       "      <td>Association</td>\n",
       "      <td>Mydriasis</td>\n",
       "      <td>662.0</td>\n",
       "      <td>CTD[D004809]</td>\n",
       "      <td>C0026961</td>\n",
       "    </tr>\n",
       "    <tr>\n",
       "      <th>70902</th>\n",
       "      <td>8012.0</td>\n",
       "      <td>Association</td>\n",
       "      <td>Myocardial Infarction</td>\n",
       "      <td>58.0</td>\n",
       "      <td>CTD[D004809]</td>\n",
       "      <td>C2926063</td>\n",
       "    </tr>\n",
       "    <tr>\n",
       "      <th>70903</th>\n",
       "      <td>8012.0</td>\n",
       "      <td>Association</td>\n",
       "      <td>Myocardial Reperfusion Injury</td>\n",
       "      <td>7718.0</td>\n",
       "      <td>CTD[D004809]</td>\n",
       "      <td>C0027055</td>\n",
       "    </tr>\n",
       "    <tr>\n",
       "      <th>70904</th>\n",
       "      <td>8012.0</td>\n",
       "      <td>Association</td>\n",
       "      <td>Necrosis</td>\n",
       "      <td>3860.0</td>\n",
       "      <td>CTD[D004809]</td>\n",
       "      <td>C1334928</td>\n",
       "    </tr>\n",
       "    <tr>\n",
       "      <th>70905</th>\n",
       "      <td>8012.0</td>\n",
       "      <td>Association</td>\n",
       "      <td>Nerve Degeneration</td>\n",
       "      <td>7949.0</td>\n",
       "      <td>CTD[D004809]</td>\n",
       "      <td>C0027746</td>\n",
       "    </tr>\n",
       "    <tr>\n",
       "      <th>70906</th>\n",
       "      <td>8012.0</td>\n",
       "      <td>Association</td>\n",
       "      <td>Nervous System Diseases</td>\n",
       "      <td>377.0</td>\n",
       "      <td>CTD[D004809]</td>\n",
       "      <td>C0027765</td>\n",
       "    </tr>\n",
       "    <tr>\n",
       "      <th>70907</th>\n",
       "      <td>8012.0</td>\n",
       "      <td>Association</td>\n",
       "      <td>Neurodegenerative Diseases</td>\n",
       "      <td>2843.0</td>\n",
       "      <td>CTD[D004809]</td>\n",
       "      <td>C0524851</td>\n",
       "    </tr>\n",
       "    <tr>\n",
       "      <th>70908</th>\n",
       "      <td>8012.0</td>\n",
       "      <td>Association</td>\n",
       "      <td>Neurotoxicity Syndromes</td>\n",
       "      <td>1904.0</td>\n",
       "      <td>CTD[D004809]</td>\n",
       "      <td>C0235032</td>\n",
       "    </tr>\n",
       "    <tr>\n",
       "      <th>70909</th>\n",
       "      <td>8012.0</td>\n",
       "      <td>Association</td>\n",
       "      <td>Obesity</td>\n",
       "      <td>477.0</td>\n",
       "      <td>CTD[D004809]</td>\n",
       "      <td>C0028754</td>\n",
       "    </tr>\n",
       "    <tr>\n",
       "      <th>70910</th>\n",
       "      <td>8012.0</td>\n",
       "      <td>Association</td>\n",
       "      <td>Obstetric Labor Complications</td>\n",
       "      <td>7329.0</td>\n",
       "      <td>CTD[D004809]</td>\n",
       "      <td>C0022865</td>\n",
       "    </tr>\n",
       "    <tr>\n",
       "      <th>70911</th>\n",
       "      <td>8012.0</td>\n",
       "      <td>Association</td>\n",
       "      <td>Peripheral Nervous System Diseases</td>\n",
       "      <td>385.0</td>\n",
       "      <td>CTD[D004809]</td>\n",
       "      <td>C0031117</td>\n",
       "    </tr>\n",
       "    <tr>\n",
       "      <th>70912</th>\n",
       "      <td>8012.0</td>\n",
       "      <td>Association</td>\n",
       "      <td>Psychoses, SubstanceInduced</td>\n",
       "      <td>1213.0</td>\n",
       "      <td>CTD[D004809]</td>\n",
       "      <td>C0004936</td>\n",
       "    </tr>\n",
       "    <tr>\n",
       "      <th>70913</th>\n",
       "      <td>8012.0</td>\n",
       "      <td>Association</td>\n",
       "      <td>Pulmonary Edema</td>\n",
       "      <td>1369.0</td>\n",
       "      <td>CTD[D004809]</td>\n",
       "      <td>C0034063</td>\n",
       "    </tr>\n",
       "    <tr>\n",
       "      <th>70914</th>\n",
       "      <td>8012.0</td>\n",
       "      <td>Association</td>\n",
       "      <td>Reperfusion Injury</td>\n",
       "      <td>2770.0</td>\n",
       "      <td>CTD[D004809]</td>\n",
       "      <td>C0035126</td>\n",
       "    </tr>\n",
       "    <tr>\n",
       "      <th>70915</th>\n",
       "      <td>8012.0</td>\n",
       "      <td>Association</td>\n",
       "      <td>Respiratory Insufficiency</td>\n",
       "      <td>4196.0</td>\n",
       "      <td>CTD[D004809]</td>\n",
       "      <td>C0035229</td>\n",
       "    </tr>\n",
       "    <tr>\n",
       "      <th>70916</th>\n",
       "      <td>8012.0</td>\n",
       "      <td>Association</td>\n",
       "      <td>Retinal Detachment</td>\n",
       "      <td>4644.0</td>\n",
       "      <td>CTD[D004809]</td>\n",
       "      <td>C1963229</td>\n",
       "    </tr>\n",
       "    <tr>\n",
       "      <th>70917</th>\n",
       "      <td>8012.0</td>\n",
       "      <td>Association</td>\n",
       "      <td>Rhabdomyolysis</td>\n",
       "      <td>405.0</td>\n",
       "      <td>CTD[D004809]</td>\n",
       "      <td>C0035410</td>\n",
       "    </tr>\n",
       "    <tr>\n",
       "      <th>70918</th>\n",
       "      <td>8012.0</td>\n",
       "      <td>Association</td>\n",
       "      <td>Scotoma</td>\n",
       "      <td>2330.0</td>\n",
       "      <td>CTD[D004809]</td>\n",
       "      <td>C0036454</td>\n",
       "    </tr>\n",
       "    <tr>\n",
       "      <th>70919</th>\n",
       "      <td>8012.0</td>\n",
       "      <td>Association</td>\n",
       "      <td>Seizures</td>\n",
       "      <td>386.0</td>\n",
       "      <td>CTD[D004809]</td>\n",
       "      <td>C0036572</td>\n",
       "    </tr>\n",
       "    <tr>\n",
       "      <th>70920</th>\n",
       "      <td>8012.0</td>\n",
       "      <td>Association</td>\n",
       "      <td>Sepsis</td>\n",
       "      <td>1012.0</td>\n",
       "      <td>CTD[D004809]</td>\n",
       "      <td>C0036690</td>\n",
       "    </tr>\n",
       "    <tr>\n",
       "      <th>70921</th>\n",
       "      <td>8012.0</td>\n",
       "      <td>Association</td>\n",
       "      <td>Sinus Arrest, Cardiac</td>\n",
       "      <td>16776.0</td>\n",
       "      <td>CTD[D004809]</td>\n",
       "      <td>C1955864</td>\n",
       "    </tr>\n",
       "    <tr>\n",
       "      <th>70922</th>\n",
       "      <td>8012.0</td>\n",
       "      <td>Association</td>\n",
       "      <td>Spinal Cord Injuries</td>\n",
       "      <td>605.0</td>\n",
       "      <td>CTD[D004809]</td>\n",
       "      <td>C0037929</td>\n",
       "    </tr>\n",
       "    <tr>\n",
       "      <th>70923</th>\n",
       "      <td>8012.0</td>\n",
       "      <td>Association</td>\n",
       "      <td>Status Epilepticus</td>\n",
       "      <td>1447.0</td>\n",
       "      <td>CTD[D004809]</td>\n",
       "      <td>C0038220</td>\n",
       "    </tr>\n",
       "    <tr>\n",
       "      <th>70924</th>\n",
       "      <td>8012.0</td>\n",
       "      <td>Association</td>\n",
       "      <td>Stomach Neoplasms</td>\n",
       "      <td>3284.0</td>\n",
       "      <td>CTD[D004809]</td>\n",
       "      <td>C0038356</td>\n",
       "    </tr>\n",
       "    <tr>\n",
       "      <th>70925</th>\n",
       "      <td>8012.0</td>\n",
       "      <td>Association</td>\n",
       "      <td>Stroke</td>\n",
       "      <td>424.0</td>\n",
       "      <td>CTD[D004809]</td>\n",
       "      <td>C0038454</td>\n",
       "    </tr>\n",
       "    <tr>\n",
       "      <th>70926</th>\n",
       "      <td>8012.0</td>\n",
       "      <td>Association</td>\n",
       "      <td>Substance Withdrawal Syndrome</td>\n",
       "      <td>1753.0</td>\n",
       "      <td>CTD[D004809]</td>\n",
       "      <td>C0038587</td>\n",
       "    </tr>\n",
       "    <tr>\n",
       "      <th>70927</th>\n",
       "      <td>8012.0</td>\n",
       "      <td>Association</td>\n",
       "      <td>Tachycardia, Sinus</td>\n",
       "      <td>563.0</td>\n",
       "      <td>CTD[D004809]</td>\n",
       "      <td>C1963246</td>\n",
       "    </tr>\n",
       "    <tr>\n",
       "      <th>70928</th>\n",
       "      <td>8012.0</td>\n",
       "      <td>Association</td>\n",
       "      <td>Tachycardia, Ventricular</td>\n",
       "      <td>1100.0</td>\n",
       "      <td>CTD[D004809]</td>\n",
       "      <td>C0042514</td>\n",
       "    </tr>\n",
       "    <tr>\n",
       "      <th>70929</th>\n",
       "      <td>8012.0</td>\n",
       "      <td>Association</td>\n",
       "      <td>Urinary Incontinence</td>\n",
       "      <td>1124.0</td>\n",
       "      <td>CTD[D004809]</td>\n",
       "      <td>C1962973</td>\n",
       "    </tr>\n",
       "    <tr>\n",
       "      <th>70930</th>\n",
       "      <td>8012.0</td>\n",
       "      <td>Association</td>\n",
       "      <td>Vision Disorders</td>\n",
       "      <td>8299.0</td>\n",
       "      <td>CTD[D004809]</td>\n",
       "      <td>C0042790</td>\n",
       "    </tr>\n",
       "  </tbody>\n",
       "</table>\n",
       "<p>4900 rows × 6 columns</p>\n",
       "</div>"
      ],
      "text/plain": [
       "       compID   effectType                                       evidence  \\\n",
       "2578   1020.0  Association                      Cytomegalovirus Retinitis   \n",
       "2579   1020.0  Association                                 HIV Infections   \n",
       "2580   1020.0  Association                            Acute Kidney Injury   \n",
       "2581   1020.0  Association           AIDSRelated Opportunistic Infections   \n",
       "2582   1020.0  Association                                    Albuminuria   \n",
       "2583   1020.0  Association               Allanson Pantzar McLeod syndrome   \n",
       "2584   1020.0  Association                   AmphetamineRelated Disorders   \n",
       "2585   1020.0  Association                  Anemia, Hemolytic, Autoimmune   \n",
       "2586   1020.0  Association                              Anxiety Disorders   \n",
       "2587   1020.0  Association                               Arthritis, Gouty   \n",
       "2588   1020.0  Association                          Arthritis, Rheumatoid   \n",
       "2589   1020.0  Association                                         Asthma   \n",
       "2590   1020.0  Association                                Atherosclerosis   \n",
       "2591   1020.0  Association  Attention Deficit Disorder with Hyperactivity   \n",
       "2592   1020.0  Association                                       Azotemia   \n",
       "2593   1020.0  Association                               Bartter Syndrome   \n",
       "2594   1020.0  Association                                 Brain Diseases   \n",
       "2595   1020.0  Association                                 Brain Ischemia   \n",
       "2596   1020.0  Association                               Breast Neoplasms   \n",
       "2597   1020.0  Association                      Bronchial Hyperreactivity   \n",
       "2598   1020.0  Association                                     Calcinosis   \n",
       "2599   1020.0  Association                      Carcinoma, Hepatocellular   \n",
       "2600   1020.0  Association                                   Cardiomegaly   \n",
       "2601   1020.0  Association                        Cardiomyopathy, Dilated   \n",
       "2602   1020.0  Association                        Cardiovascular Diseases   \n",
       "2603   1020.0  Association                        Carotid Artery Diseases   \n",
       "2604   1020.0  Association                                      Catalepsy   \n",
       "2605   1020.0  Association                                    Cholestasis   \n",
       "2606   1020.0  Association                              Colonic Neoplasms   \n",
       "2607   1020.0  Association                        Coronary Artery Disease   \n",
       "...       ...          ...                                            ...   \n",
       "70901  8012.0  Association                                      Mydriasis   \n",
       "70902  8012.0  Association                          Myocardial Infarction   \n",
       "70903  8012.0  Association                  Myocardial Reperfusion Injury   \n",
       "70904  8012.0  Association                                       Necrosis   \n",
       "70905  8012.0  Association                             Nerve Degeneration   \n",
       "70906  8012.0  Association                        Nervous System Diseases   \n",
       "70907  8012.0  Association                     Neurodegenerative Diseases   \n",
       "70908  8012.0  Association                        Neurotoxicity Syndromes   \n",
       "70909  8012.0  Association                                        Obesity   \n",
       "70910  8012.0  Association                  Obstetric Labor Complications   \n",
       "70911  8012.0  Association             Peripheral Nervous System Diseases   \n",
       "70912  8012.0  Association                    Psychoses, SubstanceInduced   \n",
       "70913  8012.0  Association                                Pulmonary Edema   \n",
       "70914  8012.0  Association                             Reperfusion Injury   \n",
       "70915  8012.0  Association                      Respiratory Insufficiency   \n",
       "70916  8012.0  Association                             Retinal Detachment   \n",
       "70917  8012.0  Association                                 Rhabdomyolysis   \n",
       "70918  8012.0  Association                                        Scotoma   \n",
       "70919  8012.0  Association                                       Seizures   \n",
       "70920  8012.0  Association                                         Sepsis   \n",
       "70921  8012.0  Association                          Sinus Arrest, Cardiac   \n",
       "70922  8012.0  Association                           Spinal Cord Injuries   \n",
       "70923  8012.0  Association                             Status Epilepticus   \n",
       "70924  8012.0  Association                              Stomach Neoplasms   \n",
       "70925  8012.0  Association                                         Stroke   \n",
       "70926  8012.0  Association                  Substance Withdrawal Syndrome   \n",
       "70927  8012.0  Association                             Tachycardia, Sinus   \n",
       "70928  8012.0  Association                       Tachycardia, Ventricular   \n",
       "70929  8012.0  Association                           Urinary Incontinence   \n",
       "70930  8012.0  Association                               Vision Disorders   \n",
       "\n",
       "        phenID                                          reference    umlsID  \n",
       "2578    1042.0  ClinicalTrial[NCT00304434] / ClinicalTrial[NCT...  C0206178  \n",
       "2579     109.0  ClinicalTrial[NCT00304434] / ClinicalTrial[NCT...  C0019693  \n",
       "2580    6088.0                                       CTD[D011339]  C2609414  \n",
       "2581    4594.0                                       CTD[D011339]  C0029118  \n",
       "2582    3638.0                                       CTD[D011339]  C0001925  \n",
       "2583   10484.0                                       CTD[D011339]  C0266313  \n",
       "2584     184.0                                       CTD[D011339]  C0012634  \n",
       "2585    1999.0                                       CTD[D011339]  C0002880  \n",
       "2586     459.0                                       CTD[D011339]  C0003469  \n",
       "2587    2388.0                                       CTD[D011339]  C0003868  \n",
       "2588      23.0                                       CTD[D011339]  C0003873  \n",
       "2589     145.0                                       CTD[D011339]  C0004096  \n",
       "2590    1858.0                                       CTD[D011339]  C0004153  \n",
       "2591     449.0                                       CTD[D011339]  C1263846  \n",
       "2592    3943.0                                       CTD[D011339]  C0554309  \n",
       "2593     896.0                                       CTD[D011339]  C0004775  \n",
       "2594    2119.0                                       CTD[D011339]  C0006111  \n",
       "2595    3261.0                                       CTD[D011339]  C0007786  \n",
       "2596    3351.0                                       CTD[D011339]  C1458155  \n",
       "2597    2933.0                                       CTD[D011339]  C0085129  \n",
       "2598    2996.0                                       CTD[D011339]  C0006663  \n",
       "2599    1131.0                                       CTD[D011339]  C2239176  \n",
       "2600    1747.0                                       CTD[D011339]  C0018800  \n",
       "2601    6512.0                                       CTD[D011339]  C0007193  \n",
       "2602     355.0                                       CTD[D011339]  C0007222  \n",
       "2603    6923.0                                       CTD[D011339]  C0007273  \n",
       "2604    4870.0                                       CTD[D011339]  C0007370  \n",
       "2605    2985.0                                       CTD[D011339]  C0008370  \n",
       "2606    3418.0                                       CTD[D011339]  C0009375  \n",
       "2607     596.0                                       CTD[D011339]  C0010054  \n",
       "...        ...                                                ...       ...  \n",
       "70901    662.0                                       CTD[D004809]  C0026961  \n",
       "70902     58.0                                       CTD[D004809]  C2926063  \n",
       "70903   7718.0                                       CTD[D004809]  C0027055  \n",
       "70904   3860.0                                       CTD[D004809]  C1334928  \n",
       "70905   7949.0                                       CTD[D004809]  C0027746  \n",
       "70906    377.0                                       CTD[D004809]  C0027765  \n",
       "70907   2843.0                                       CTD[D004809]  C0524851  \n",
       "70908   1904.0                                       CTD[D004809]  C0235032  \n",
       "70909    477.0                                       CTD[D004809]  C0028754  \n",
       "70910   7329.0                                       CTD[D004809]  C0022865  \n",
       "70911    385.0                                       CTD[D004809]  C0031117  \n",
       "70912   1213.0                                       CTD[D004809]  C0004936  \n",
       "70913   1369.0                                       CTD[D004809]  C0034063  \n",
       "70914   2770.0                                       CTD[D004809]  C0035126  \n",
       "70915   4196.0                                       CTD[D004809]  C0035229  \n",
       "70916   4644.0                                       CTD[D004809]  C1963229  \n",
       "70917    405.0                                       CTD[D004809]  C0035410  \n",
       "70918   2330.0                                       CTD[D004809]  C0036454  \n",
       "70919    386.0                                       CTD[D004809]  C0036572  \n",
       "70920   1012.0                                       CTD[D004809]  C0036690  \n",
       "70921  16776.0                                       CTD[D004809]  C1955864  \n",
       "70922    605.0                                       CTD[D004809]  C0037929  \n",
       "70923   1447.0                                       CTD[D004809]  C0038220  \n",
       "70924   3284.0                                       CTD[D004809]  C0038356  \n",
       "70925    424.0                                       CTD[D004809]  C0038454  \n",
       "70926   1753.0                                       CTD[D004809]  C0038587  \n",
       "70927    563.0                                       CTD[D004809]  C1963246  \n",
       "70928   1100.0                                       CTD[D004809]  C0042514  \n",
       "70929   1124.0                                       CTD[D004809]  C1962973  \n",
       "70930   8299.0                                       CTD[D004809]  C0042790  \n",
       "\n",
       "[4900 rows x 6 columns]"
      ]
     },
     "execution_count": 49,
     "metadata": {},
     "output_type": "execute_result"
    }
   ],
   "source": [
    "# 이건 coconut에 있는 feature로만 찾은 herb compound -disease association임\n",
    "print len(herb_asso[herb_asso['compID'].isin(herb_cause['compID'])].drop_duplicates())\n",
    "herb_asso[herb_asso['compID'].isin(herb_cause['compID'])].drop_duplicates()"
   ]
  },
  {
   "cell_type": "code",
   "execution_count": null,
   "metadata": {
    "collapsed": true
   },
   "outputs": [],
   "source": [
    "추가 작업 필요함 -> association 이 있다고 하는 disease의 feature를 구하고(DisNet에서)\n",
    "이 feature와 gold standard disease feature와 공통을 구해서 사용가능한 association을 filter해야함.\n"
   ]
  }
 ],
 "metadata": {
  "kernelspec": {
   "display_name": "Python 2",
   "language": "python",
   "name": "python2"
  },
  "language_info": {
   "codemirror_mode": {
    "name": "ipython",
    "version": 2
   },
   "file_extension": ".py",
   "mimetype": "text/x-python",
   "name": "python",
   "nbconvert_exporter": "python",
   "pygments_lexer": "ipython2",
   "version": "2.7.6"
  }
 },
 "nbformat": 4,
 "nbformat_minor": 0
}
