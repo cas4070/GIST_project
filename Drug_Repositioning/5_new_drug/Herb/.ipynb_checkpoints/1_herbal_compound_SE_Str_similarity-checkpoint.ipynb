{
 "cells": [
  {
   "cell_type": "code",
   "execution_count": 2,
   "metadata": {
    "collapsed": true
   },
   "outputs": [],
   "source": [
    "import pandas as pd\n",
    "import numpy as np\n",
    "from datetime import datetime"
   ]
  },
  {
   "cell_type": "code",
   "execution_count": 2,
   "metadata": {
    "collapsed": true
   },
   "outputs": [],
   "source": [
    "hc_id_map = pd.read_table(\"/DAS_Storage1/aschoi/data/COCONUT_Herbal/6_Herb/2_2_COCONUT_herb_compound_ID(remove_duplicate)_tab.txt\")"
   ]
  },
  {
   "cell_type": "code",
   "execution_count": 3,
   "metadata": {
    "collapsed": true
   },
   "outputs": [],
   "source": [
    "sider = pd.read_table(\"/DAS_Storage1/aschoi/data/COCONUT_Herbal/6_Herb/6_3_herb_sider_umlsID.tsv\")\n",
    "offs = pd.read_table(\"/DAS_Storage1/aschoi/data/COCONUT_Herbal/6_Herb/6_3_herb_offside_umlsID.tsv\")"
   ]
  },
  {
   "cell_type": "code",
   "execution_count": 7,
   "metadata": {
    "collapsed": true
   },
   "outputs": [],
   "source": [
    "# gold drug id를 알려고\n",
    "gold_se_sim = pd.read_table(\"/DAS_Storage1/aschoi/data/Drug_Repositioning/5_new_drug/new_predict/1_drug_drug_se_sim_mat.tsv\", index_col=0)"
   ]
  },
  {
   "cell_type": "code",
   "execution_count": 5,
   "metadata": {
    "collapsed": true
   },
   "outputs": [],
   "source": [
    "# gold drug에 사용된 se 정보\n",
    "gold_se_mat = pd.read_table(\"/DAS_Storage1/aschoi/data/Drug_Repositioning/5_new_drug/PREDICT_data/4_2_gold_se_by_indep_matrix.tsv\", index_col = 0)"
   ]
  },
  {
   "cell_type": "code",
   "execution_count": 8,
   "metadata": {
    "collapsed": false
   },
   "outputs": [
    {
     "name": "stdout",
     "output_type": "stream",
     "text": [
      "434\n"
     ]
    }
   ],
   "source": [
    "gold_dr = gold_se_sim.columns # gold drug id\n",
    "print len(gold_dr)"
   ]
  },
  {
   "cell_type": "code",
   "execution_count": 7,
   "metadata": {
    "collapsed": false
   },
   "outputs": [
    {
     "data": {
      "text/plain": [
       "1844"
      ]
     },
     "execution_count": 7,
     "metadata": {},
     "output_type": "execute_result"
    }
   ],
   "source": [
    "gold_se = gold_se_mat.index\n",
    "len(gold_se_mat.index) # gold drug의 feature 수"
   ]
  },
  {
   "cell_type": "code",
   "execution_count": 8,
   "metadata": {
    "collapsed": false
   },
   "outputs": [
    {
     "name": "stdout",
     "output_type": "stream",
     "text": [
      "113 1406\n",
      "61 4516\n"
     ]
    }
   ],
   "source": [
    "print len(set(sider['compID'].tolist())), len(set(sider['umls_id'].tolist())) # sider 정보를 가지는 compound의 수, se의 수\n",
    "print len(set(offs['compID'].tolist())), len(set(offs['umls_id'].tolist())) # offside 정보를 가지는 compound의 수, adr의 수"
   ]
  },
  {
   "cell_type": "code",
   "execution_count": 9,
   "metadata": {
    "collapsed": false
   },
   "outputs": [
    {
     "name": "stdout",
     "output_type": "stream",
     "text": [
      "28711 28711\n"
     ]
    },
    {
     "data": {
      "text/html": [
       "<div>\n",
       "<table border=\"1\" class=\"dataframe\">\n",
       "  <thead>\n",
       "    <tr style=\"text-align: right;\">\n",
       "      <th></th>\n",
       "      <th>compID</th>\n",
       "      <th>compName</th>\n",
       "      <th>umls_id</th>\n",
       "    </tr>\n",
       "  </thead>\n",
       "  <tbody>\n",
       "    <tr>\n",
       "      <th>0</th>\n",
       "      <td>5525</td>\n",
       "      <td>Benzyl alcohol</td>\n",
       "      <td>C0013604</td>\n",
       "    </tr>\n",
       "  </tbody>\n",
       "</table>\n",
       "</div>"
      ],
      "text/plain": [
       "   compID        compName   umls_id\n",
       "0    5525  Benzyl alcohol  C0013604"
      ]
     },
     "execution_count": 9,
     "metadata": {},
     "output_type": "execute_result"
    }
   ],
   "source": [
    "si_off = pd.concat([sider, offs]).drop_duplicates() # sider와offside의 정보를 합쳐서 교집합 -> 공통 se feature를 뽑는것.\n",
    "print len(si_off), len(si_off.drop_duplicates(['compID', 'umls_id']))\n",
    "si_off.head(1)"
   ]
  },
  {
   "cell_type": "code",
   "execution_count": 10,
   "metadata": {
    "collapsed": false
   },
   "outputs": [],
   "source": [
    "si_off2 = si_off[si_off['umls_id'].isin(gold_se)] # gold에서 쓰인 se와의 교집합."
   ]
  },
  {
   "cell_type": "code",
   "execution_count": 11,
   "metadata": {
    "collapsed": false
   },
   "outputs": [
    {
     "name": "stdout",
     "output_type": "stream",
     "text": [
      "135 1668\n"
     ]
    },
    {
     "data": {
      "text/html": [
       "<div>\n",
       "<table border=\"1\" class=\"dataframe\">\n",
       "  <thead>\n",
       "    <tr style=\"text-align: right;\">\n",
       "      <th></th>\n",
       "      <th>compID</th>\n",
       "      <th>compName</th>\n",
       "      <th>umls_id</th>\n",
       "    </tr>\n",
       "  </thead>\n",
       "  <tbody>\n",
       "    <tr>\n",
       "      <th>0</th>\n",
       "      <td>5525</td>\n",
       "      <td>Benzyl alcohol</td>\n",
       "      <td>C0013604</td>\n",
       "    </tr>\n",
       "  </tbody>\n",
       "</table>\n",
       "</div>"
      ],
      "text/plain": [
       "   compID        compName   umls_id\n",
       "0    5525  Benzyl alcohol  C0013604"
      ]
     },
     "execution_count": 11,
     "metadata": {},
     "output_type": "execute_result"
    }
   ],
   "source": [
    "print len(set(si_off2['compID'])), len(set(si_off2['umls_id'])) # gold feature를 가지는 compound의 수, 교집합인 se의 수\n",
    "si_off2.head(1)"
   ]
  },
  {
   "cell_type": "code",
   "execution_count": 18,
   "metadata": {
    "collapsed": false
   },
   "outputs": [],
   "source": [
    "herb_se_mat = pd.DataFrame(columns=set(si_off2.compID.tolist()), index = gold_se.tolist())\n",
    "herb_se_mat.fillna(0, inplace=True)"
   ]
  },
  {
   "cell_type": "code",
   "execution_count": 19,
   "metadata": {
    "collapsed": false
   },
   "outputs": [],
   "source": [
    "f = lambda x: 1 if x else 0\n",
    "for compID in set(si_off2.compID.tolist()):\n",
    "    temp = si_off2[si_off2.compID == compID]\n",
    "    flags = gold_se.isin(temp['umls_id'])\n",
    "    oz_flags = map(f, flags)\n",
    "    herb_se_mat[compID] = oz_flags"
   ]
  },
  {
   "cell_type": "code",
   "execution_count": 20,
   "metadata": {
    "collapsed": true
   },
   "outputs": [],
   "source": [
    "# herbal compound와 gold drug 간의 se similarity score 구하기\n",
    "from sklearn.metrics import jaccard_similarity_score\n",
    "hc_id = set(si_off2.compID.tolist())\n",
    "df_jac = pd.DataFrame(columns=gold_dr.tolist(), index = hc_id)\n",
    "df_jac.fillna(0.0, inplace = True)\n",
    "for i in gold_dr:\n",
    "    desc1 = gold_se_mat[i]\n",
    "    for j in hc_id:\n",
    "        desc2 = herb_se_mat[j]\n",
    "        \n",
    "        jac_sim = jaccard_similarity_score(desc1, desc2)\n",
    "        df_jac.set_value(j, i, jac_sim)"
   ]
  },
  {
   "cell_type": "code",
   "execution_count": null,
   "metadata": {
    "collapsed": true
   },
   "outputs": [],
   "source": [
    "# herbal compound 중 gold drug와 겹치는 것이 있을 것이다. 제외해야함.(기존 disease와의 연관을 볼때 사용)"
   ]
  },
  {
   "cell_type": "code",
   "execution_count": 12,
   "metadata": {
    "collapsed": false
   },
   "outputs": [
    {
     "data": {
      "text/html": [
       "<div>\n",
       "<table border=\"1\" class=\"dataframe\">\n",
       "  <thead>\n",
       "    <tr style=\"text-align: right;\">\n",
       "      <th></th>\n",
       "      <th>herbID</th>\n",
       "      <th>herbName</th>\n",
       "      <th>compID</th>\n",
       "      <th>compName</th>\n",
       "      <th>pubchemID</th>\n",
       "      <th>casID</th>\n",
       "      <th>chemblID</th>\n",
       "      <th>stitchID</th>\n",
       "    </tr>\n",
       "  </thead>\n",
       "  <tbody>\n",
       "    <tr>\n",
       "      <th>69</th>\n",
       "      <td>[1, 3, 127, 175, 247, 254, 326, 357, 383, 489,...</td>\n",
       "      <td>['Melia azedarach', 'Paeonia lactiflora', 'Cam...</td>\n",
       "      <td>5525</td>\n",
       "      <td>Benzyl alcohol</td>\n",
       "      <td>null</td>\n",
       "      <td>100-51-6</td>\n",
       "      <td>null</td>\n",
       "      <td>null</td>\n",
       "    </tr>\n",
       "  </tbody>\n",
       "</table>\n",
       "</div>"
      ],
      "text/plain": [
       "                                               herbID  \\\n",
       "69  [1, 3, 127, 175, 247, 254, 326, 357, 383, 489,...   \n",
       "\n",
       "                                             herbName  compID        compName  \\\n",
       "69  ['Melia azedarach', 'Paeonia lactiflora', 'Cam...    5525  Benzyl alcohol   \n",
       "\n",
       "   pubchemID     casID chemblID stitchID  \n",
       "69      null  100-51-6     null     null  "
      ]
     },
     "execution_count": 12,
     "metadata": {},
     "output_type": "execute_result"
    }
   ],
   "source": [
    "ext = hc_id_map[hc_id_map['compID'].isin(si_off2['compID'])] # 내가 알고싶은 herbal compound의 외부 id 정보\n",
    "ext.head(1)"
   ]
  },
  {
   "cell_type": "code",
   "execution_count": 13,
   "metadata": {
    "collapsed": true
   },
   "outputs": [],
   "source": [
    "# 1차는 stitch id로 거른다.\n",
    "gold_id_map = pd.read_table(\"/DAS_Storage1/aschoi/data/Drug_Repositioning/5_new_drug/3_3_SIDER_STITCHid_DrugBankid.tsv\") # gold drug의 stitch id"
   ]
  },
  {
   "cell_type": "code",
   "execution_count": 14,
   "metadata": {
    "collapsed": false
   },
   "outputs": [
    {
     "name": "stdout",
     "output_type": "stream",
     "text": [
      "11\n"
     ]
    },
    {
     "data": {
      "text/html": [
       "<div>\n",
       "<table border=\"1\" class=\"dataframe\">\n",
       "  <thead>\n",
       "    <tr style=\"text-align: right;\">\n",
       "      <th></th>\n",
       "      <th>herbID</th>\n",
       "      <th>herbName</th>\n",
       "      <th>compID</th>\n",
       "      <th>compName</th>\n",
       "      <th>pubchemID</th>\n",
       "      <th>casID</th>\n",
       "      <th>chemblID</th>\n",
       "      <th>stitchID</th>\n",
       "    </tr>\n",
       "  </thead>\n",
       "  <tbody>\n",
       "    <tr>\n",
       "      <th>2623</th>\n",
       "      <td>[73, 636]</td>\n",
       "      <td>['Cannabis sativa', 'Juanulloa']</td>\n",
       "      <td>70313</td>\n",
       "      <td>delta(9)-tetrahydrocannabinol</td>\n",
       "      <td>16078</td>\n",
       "      <td>null</td>\n",
       "      <td>null</td>\n",
       "      <td>CID000016078</td>\n",
       "    </tr>\n",
       "  </tbody>\n",
       "</table>\n",
       "</div>"
      ],
      "text/plain": [
       "         herbID                          herbName  compID  \\\n",
       "2623  [73, 636]  ['Cannabis sativa', 'Juanulloa']   70313   \n",
       "\n",
       "                           compName pubchemID casID chemblID      stitchID  \n",
       "2623  delta(9)-tetrahydrocannabinol     16078  null     null  CID000016078  "
      ]
     },
     "execution_count": 14,
     "metadata": {},
     "output_type": "execute_result"
    }
   ],
   "source": [
    "# gold_id_map에 있는 stitch id 정보 중 herbal compound의 stitch id가 있는지 본다.\n",
    "#gold_dr[gold_dr.isin(gold_id_map[gold_id_map['STITCH_compound_id_stereo'].isin(ext['stitchID'])]['DrugBank_ID'])]\n",
    "\n",
    "# herbal compound의 stitch id로 DrugBank ID를 찾는다. \n",
    "remv = ext[ext.stitchID.isin(gold_id_map[gold_id_map.DrugBank_ID.isin(gold_dr)].STITCH_compound_id_stereo)]\n",
    "print len(remv)\n",
    "remv.head(1)"
   ]
  },
  {
   "cell_type": "code",
   "execution_count": 23,
   "metadata": {
    "collapsed": false
   },
   "outputs": [
    {
     "name": "stdout",
     "output_type": "stream",
     "text": [
      "124\n"
     ]
    },
    {
     "data": {
      "text/html": [
       "<div>\n",
       "<table border=\"1\" class=\"dataframe\">\n",
       "  <thead>\n",
       "    <tr style=\"text-align: right;\">\n",
       "      <th></th>\n",
       "      <th>DB00114</th>\n",
       "      <th>DB00126</th>\n",
       "      <th>DB00136</th>\n",
       "      <th>DB00153</th>\n",
       "      <th>DB00162</th>\n",
       "      <th>DB00165</th>\n",
       "      <th>DB00175</th>\n",
       "      <th>DB00176</th>\n",
       "      <th>DB00177</th>\n",
       "      <th>DB00178</th>\n",
       "      <th>...</th>\n",
       "      <th>DB01576</th>\n",
       "      <th>DB01577</th>\n",
       "      <th>DB01590</th>\n",
       "      <th>DB01623</th>\n",
       "      <th>DB02546</th>\n",
       "      <th>DB03904</th>\n",
       "      <th>DB04272</th>\n",
       "      <th>DB04844</th>\n",
       "      <th>DB04861</th>\n",
       "      <th>DB09026</th>\n",
       "    </tr>\n",
       "  </thead>\n",
       "  <tbody>\n",
       "    <tr>\n",
       "      <th>70661</th>\n",
       "      <td>0.933839</td>\n",
       "      <td>0.996746</td>\n",
       "      <td>0.957701</td>\n",
       "      <td>0.986985</td>\n",
       "      <td>0.997831</td>\n",
       "      <td>0.755423</td>\n",
       "      <td>0.933839</td>\n",
       "      <td>0.895879</td>\n",
       "      <td>0.956616</td>\n",
       "      <td>0.91974</td>\n",
       "      <td>...</td>\n",
       "      <td>0.954447</td>\n",
       "      <td>0.990781</td>\n",
       "      <td>0.91757</td>\n",
       "      <td>0.966377</td>\n",
       "      <td>0.91974</td>\n",
       "      <td>0.939805</td>\n",
       "      <td>0.990239</td>\n",
       "      <td>0.934924</td>\n",
       "      <td>0.913774</td>\n",
       "      <td>0.940889</td>\n",
       "    </tr>\n",
       "  </tbody>\n",
       "</table>\n",
       "<p>1 rows × 434 columns</p>\n",
       "</div>"
      ],
      "text/plain": [
       "        DB00114   DB00126   DB00136   DB00153   DB00162   DB00165   DB00175  \\\n",
       "70661  0.933839  0.996746  0.957701  0.986985  0.997831  0.755423  0.933839   \n",
       "\n",
       "        DB00176   DB00177  DB00178    ...      DB01576   DB01577  DB01590  \\\n",
       "70661  0.895879  0.956616  0.91974    ...     0.954447  0.990781  0.91757   \n",
       "\n",
       "        DB01623  DB02546   DB03904   DB04272   DB04844   DB04861   DB09026  \n",
       "70661  0.966377  0.91974  0.939805  0.990239  0.934924  0.913774  0.940889  \n",
       "\n",
       "[1 rows x 434 columns]"
      ]
     },
     "execution_count": 23,
     "metadata": {},
     "output_type": "execute_result"
    }
   ],
   "source": [
    "# stitch_id로 거른것.\n",
    "filtered1 = df_jac[~df_jac.index.isin(remv.compID)]\n",
    "print len(filtered1)\n",
    "filtered1.head(1)"
   ]
  },
  {
   "cell_type": "code",
   "execution_count": 22,
   "metadata": {
    "collapsed": false
   },
   "outputs": [
    {
     "name": "stdout",
     "output_type": "stream",
     "text": [
      "124\n"
     ]
    },
    {
     "data": {
      "text/html": [
       "<div>\n",
       "<table border=\"1\" class=\"dataframe\">\n",
       "  <thead>\n",
       "    <tr style=\"text-align: right;\">\n",
       "      <th></th>\n",
       "      <th>herbID</th>\n",
       "      <th>herbName</th>\n",
       "      <th>compID</th>\n",
       "      <th>compName</th>\n",
       "      <th>pubchemID</th>\n",
       "      <th>casID</th>\n",
       "      <th>chemblID</th>\n",
       "      <th>stitchID</th>\n",
       "    </tr>\n",
       "  </thead>\n",
       "  <tbody>\n",
       "    <tr>\n",
       "      <th>69</th>\n",
       "      <td>[1, 3, 127, 175, 247, 254, 326, 357, 383, 489,...</td>\n",
       "      <td>['Melia azedarach', 'Paeonia lactiflora', 'Cam...</td>\n",
       "      <td>5525</td>\n",
       "      <td>Benzyl alcohol</td>\n",
       "      <td>null</td>\n",
       "      <td>100-51-6</td>\n",
       "      <td>null</td>\n",
       "      <td>null</td>\n",
       "    </tr>\n",
       "  </tbody>\n",
       "</table>\n",
       "</div>"
      ],
      "text/plain": [
       "                                               herbID  \\\n",
       "69  [1, 3, 127, 175, 247, 254, 326, 357, 383, 489,...   \n",
       "\n",
       "                                             herbName  compID        compName  \\\n",
       "69  ['Melia azedarach', 'Paeonia lactiflora', 'Cam...    5525  Benzyl alcohol   \n",
       "\n",
       "   pubchemID     casID chemblID stitchID  \n",
       "69      null  100-51-6     null     null  "
      ]
     },
     "execution_count": 22,
     "metadata": {},
     "output_type": "execute_result"
    }
   ],
   "source": [
    "filtered_ext1 = ext[ext.compID.isin(filtered1.index)]\n",
    "print len(filtered_ext1)\n",
    "filtered_ext1.head(1)"
   ]
  },
  {
   "cell_type": "code",
   "execution_count": 24,
   "metadata": {
    "collapsed": false
   },
   "outputs": [],
   "source": [
    "#unichem을 통해 pc --> DB 해야하는 herbal compounds들.\n",
    "query_pc = filtered_ext1[(filtered_ext1.pubchemID != \"null\") & (filtered_ext1.stitchID == \"null\")]"
   ]
  },
  {
   "cell_type": "code",
   "execution_count": 25,
   "metadata": {
    "collapsed": false
   },
   "outputs": [
    {
     "name": "stdout",
     "output_type": "stream",
     "text": [
      "(66, 8)\n",
      "(1, 8)\n",
      "(35, 8)\n"
     ]
    }
   ],
   "source": [
    "print filtered_ext1[(filtered_ext1.pubchemID != \"null\") & (filtered_ext1.stitchID == \"null\")].shape\n",
    "print filtered_ext1[(filtered_ext1.pubchemID == \"null\") & (filtered_ext1.stitchID == \"null\") & (filtered_ext1.chemblID != \"null\")].shape\n",
    "print filtered_ext1[(filtered_ext1.pubchemID == \"null\") & (filtered_ext1.stitchID == \"null\") & (filtered_ext1.casID != \"null\")].shape"
   ]
  },
  {
   "cell_type": "code",
   "execution_count": 26,
   "metadata": {
    "collapsed": false
   },
   "outputs": [
    {
     "data": {
      "text/html": [
       "<div>\n",
       "<table border=\"1\" class=\"dataframe\">\n",
       "  <thead>\n",
       "    <tr style=\"text-align: right;\">\n",
       "      <th></th>\n",
       "      <th>herbID</th>\n",
       "      <th>herbName</th>\n",
       "      <th>compID</th>\n",
       "      <th>compName</th>\n",
       "      <th>pubchemID</th>\n",
       "      <th>casID</th>\n",
       "      <th>chemblID</th>\n",
       "      <th>stitchID</th>\n",
       "    </tr>\n",
       "  </thead>\n",
       "  <tbody>\n",
       "    <tr>\n",
       "      <th>399</th>\n",
       "      <td>[3, 314, 336, 792, 3227, 3838, 4161, 4689, 492...</td>\n",
       "      <td>['Paeonia lactiflora', 'Crocus sativus', 'Isat...</td>\n",
       "      <td>1020</td>\n",
       "      <td>Probenecid</td>\n",
       "      <td>4911</td>\n",
       "      <td>57-66-9</td>\n",
       "      <td>CHEMBL897</td>\n",
       "      <td>null</td>\n",
       "    </tr>\n",
       "  </tbody>\n",
       "</table>\n",
       "</div>"
      ],
      "text/plain": [
       "                                                herbID  \\\n",
       "399  [3, 314, 336, 792, 3227, 3838, 4161, 4689, 492...   \n",
       "\n",
       "                                              herbName  compID    compName  \\\n",
       "399  ['Paeonia lactiflora', 'Crocus sativus', 'Isat...    1020  Probenecid   \n",
       "\n",
       "    pubchemID    casID   chemblID stitchID  \n",
       "399      4911  57-66-9  CHEMBL897     null  "
      ]
     },
     "execution_count": 26,
     "metadata": {},
     "output_type": "execute_result"
    }
   ],
   "source": [
    "query_pc.head(1)"
   ]
  },
  {
   "cell_type": "code",
   "execution_count": 100,
   "metadata": {
    "collapsed": true
   },
   "outputs": [
    {
     "name": "stdout",
     "output_type": "stream",
     "text": [
      "0 : Fri 00:57:55\n",
      "HTTPError 404 not found : compID=79944Fri 00:59:20\n",
      "HTTPError 404 not found : compID=79944Fri 00:59:21\n",
      "HTTPError 404 not found : compID=79944Fri 00:59:22\n",
      "HTTPError 404 not found : compID=79944Fri 00:59:23\n",
      "HTTPError 404 not found : compID=79944Fri 00:59:24\n",
      "HTTPError 404 not found : compID=79944Fri 00:59:25\n",
      "HTTPError 404 not found : compID=79944Fri 00:59:26\n",
      "HTTPError 404 not found : compID=79944Fri 00:59:27\n",
      "HTTPError 404 not found : compID=79938Fri 00:59:37\n",
      "HTTPError 404 not found : compID=79938Fri 00:59:38\n",
      "HTTPError 404 not found : compID=79938Fri 00:59:39\n",
      "HTTPError 404 not found : compID=79938Fri 00:59:40\n",
      "HTTPError 404 not found : compID=79938Fri 00:59:41\n",
      "HTTPError 404 not found : compID=79938Fri 00:59:42\n",
      "HTTPError 404 not found : compID=79938Fri 00:59:43\n",
      "HTTPError 404 not found : compID=79938Fri 00:59:44\n",
      "Fri 01:07:15\n"
     ]
    }
   ],
   "source": [
    "# using UniChem REST API, convert pubchemID to DrugBank ID\n",
    "from urllib2 import urlopen # python2\n",
    "import urllib2\n",
    "import time\n",
    "df_result = pd.DataFrame()\n",
    "cnt = 0\n",
    "url_base = 'https://www.ebi.ac.uk/unichem/rest/src_compound_id/'\n",
    "print'%d : ' % cnt + time.strftime('%a %H:%M:%S')\n",
    "for index, row in query_pc.iterrows():\n",
    "    pc_id = row.pubchemID\n",
    "    url = url_base + str(pc_id) + '/22/2'\n",
    "    \n",
    "    MAX_ATTEMPTS = 8\n",
    "    for attempt in range(MAX_ATTEMPTS):\n",
    "        try:\n",
    "            f = urlopen(url)\n",
    "        except urllib2.HTTPError, e:\n",
    "            if e.code == 404:\n",
    "                print 'HTTPError 404 not found : compID={}'.format(row.compID) + time.strftime('%a %H:%M:%S')\n",
    "                cnt = cnt + 1\n",
    "                if cnt % 1000 == 0 :\n",
    "                    print '%d : '% cnt + time.strftime('%a %H:%M:%S')\n",
    "                continue\n",
    "            else:\n",
    "                print 'e.code : %d, url : %s, cnt : d' % (e.code, url, cnt)\n",
    "                raise\n",
    "        except urllib2.URLError, e:\n",
    "            if e.args[0][0] == 110: # connection time out\n",
    "                sleep_secs = attempt ** 2\n",
    "                print e, url\n",
    "                print '  cnt = %d, error time : ' % (cnt) + time.strftime('%a %H:%M:%S')\n",
    "                print '    Retrying in %d seconds...' % sleep_secs\n",
    "                time.sleep(sleep_secs)\n",
    "                cnt= cnt +1\n",
    "                if cnt % 1000 == 0 :\n",
    "                    print '%d : '% cnt + time.strftime('%a %H:%M:%S')\n",
    "                continue \n",
    "            else:\n",
    "                print e\n",
    "                print '   cnt : %d, error time : ' % (cnt) + time.strftime('%a %H:%M:%S')\n",
    "                raise\n",
    "        else:          \n",
    "            all_data = f.readlines()\n",
    "            if all_data[0] == '[]':\n",
    "                cnt = cnt + 1\n",
    "            else:\n",
    "                #db_id=all_data[0].decode(\"utf-8\").split(':')[1]  \n",
    "                db_id=all_data[0]\n",
    "                temp_df = pd.DataFrame(columns=['compID', 'PubChemID', 'DrugBankID'], data = [[row.compID, pc_id, db_id]])\n",
    "                df_result = df_result.append(temp_df)\n",
    "                cnt = cnt + 1\n",
    "            if cnt % 1000 == 0 :\n",
    "                print '%d : '% cnt + time.strftime('%a %H:%M:%S')\n",
    "print time.strftime('%a %H:%M:%S')\n"
   ]
  },
  {
   "cell_type": "code",
   "execution_count": 124,
   "metadata": {
    "collapsed": false
   },
   "outputs": [
    {
     "data": {
      "text/html": [
       "<div>\n",
       "<table border=\"1\" class=\"dataframe\">\n",
       "  <thead>\n",
       "    <tr style=\"text-align: right;\">\n",
       "      <th></th>\n",
       "      <th>compID</th>\n",
       "      <th>PubChemID</th>\n",
       "      <th>DrugBankID</th>\n",
       "    </tr>\n",
       "  </thead>\n",
       "  <tbody>\n",
       "    <tr>\n",
       "      <th>0</th>\n",
       "      <td>1020</td>\n",
       "      <td>4911</td>\n",
       "      <td>[{\"src_compound_id\":\"DB01032\"}]</td>\n",
       "    </tr>\n",
       "  </tbody>\n",
       "</table>\n",
       "</div>"
      ],
      "text/plain": [
       "   compID PubChemID                       DrugBankID\n",
       "0    1020      4911  [{\"src_compound_id\":\"DB01032\"}]"
      ]
     },
     "execution_count": 124,
     "metadata": {},
     "output_type": "execute_result"
    }
   ],
   "source": [
    "df_result = df_result.drop_duplicates()\n",
    "df_result.head(1)"
   ]
  },
  {
   "cell_type": "code",
   "execution_count": 107,
   "metadata": {
    "collapsed": false
   },
   "outputs": [],
   "source": [
    "# df_result2는 compoundID와 PubChemID, DrugBankID가 1:1로 매핑되어 있는것.\n",
    "df_result2 = pd.DataFrame()\n",
    "for index, row in df_result.iterrows():\n",
    "    record = row.tolist()\n",
    "    db_ids = record[2].split(',')\n",
    "    for i in db_ids:\n",
    "        db_id = i.split(':')[1].lstrip('\\\"').rstrip('\\\"}]')\n",
    "        temp_df = pd.DataFrame([[record[0], record[1], db_id]], columns = ['compID', 'PubChemID', 'DrugBankID'])\n",
    "        df_result2 = df_result2.append(temp_df)\n",
    "df_result2.index = range(len(df_result2))"
   ]
  },
  {
   "cell_type": "code",
   "execution_count": 132,
   "metadata": {
    "collapsed": false
   },
   "outputs": [
    {
     "name": "stdout",
     "output_type": "stream",
     "text": [
      "14\n",
      "Index([u'DB00126', u'DB00162', u'DB00318', u'DB00368', u'DB00477', u'DB00482',\n",
      "       u'DB00536', u'DB00627', u'DB00640', u'DB00829', u'DB00917', u'DB01113',\n",
      "       u'DB01356', u'DB01378'],\n",
      "      dtype='object')\n",
      "110\n"
     ]
    },
    {
     "data": {
      "text/html": [
       "<div>\n",
       "<table border=\"1\" class=\"dataframe\">\n",
       "  <thead>\n",
       "    <tr style=\"text-align: right;\">\n",
       "      <th></th>\n",
       "      <th>herbID</th>\n",
       "      <th>herbName</th>\n",
       "      <th>compID</th>\n",
       "      <th>compName</th>\n",
       "      <th>pubchemID</th>\n",
       "      <th>casID</th>\n",
       "      <th>chemblID</th>\n",
       "      <th>stitchID</th>\n",
       "    </tr>\n",
       "  </thead>\n",
       "  <tbody>\n",
       "    <tr>\n",
       "      <th>69</th>\n",
       "      <td>[1, 3, 127, 175, 247, 254, 326, 357, 383, 489,...</td>\n",
       "      <td>['Melia azedarach', 'Paeonia lactiflora', 'Cam...</td>\n",
       "      <td>5525</td>\n",
       "      <td>Benzyl alcohol</td>\n",
       "      <td>null</td>\n",
       "      <td>100-51-6</td>\n",
       "      <td>null</td>\n",
       "      <td>null</td>\n",
       "    </tr>\n",
       "  </tbody>\n",
       "</table>\n",
       "</div>"
      ],
      "text/plain": [
       "                                               herbID  \\\n",
       "69  [1, 3, 127, 175, 247, 254, 326, 357, 383, 489,...   \n",
       "\n",
       "                                             herbName  compID        compName  \\\n",
       "69  ['Melia azedarach', 'Paeonia lactiflora', 'Cam...    5525  Benzyl alcohol   \n",
       "\n",
       "   pubchemID     casID chemblID stitchID  \n",
       "69      null  100-51-6     null     null  "
      ]
     },
     "execution_count": 132,
     "metadata": {},
     "output_type": "execute_result"
    }
   ],
   "source": [
    "# pubchemID로 converting한 DrugBank id가 gold drug에 포함되어 있으면 제외한다.\n",
    "print len(gold_dr[gold_dr.isin(df_result2.DrugBankID)])# gold drug와 겹치는 herbal compound들.\n",
    "print gold_dr[gold_dr.isin(df_result2.DrugBankID)]\n",
    "\n",
    "filtered_ext2 = filtered_ext1[~filtered_ext1.compID.isin(df_result2[df_result2.DrugBankID.isin(gold_dr)].compID)]\n",
    "print len(filtered_ext2)\n",
    "filtered_ext2.head(1)"
   ]
  },
  {
   "cell_type": "code",
   "execution_count": 143,
   "metadata": {
    "collapsed": false,
    "scrolled": false
   },
   "outputs": [
    {
     "name": "stdout",
     "output_type": "stream",
     "text": [
      "35\n"
     ]
    },
    {
     "data": {
      "text/html": [
       "<div>\n",
       "<table border=\"1\" class=\"dataframe\">\n",
       "  <thead>\n",
       "    <tr style=\"text-align: right;\">\n",
       "      <th></th>\n",
       "      <th>herbID</th>\n",
       "      <th>herbName</th>\n",
       "      <th>compID</th>\n",
       "      <th>compName</th>\n",
       "      <th>pubchemID</th>\n",
       "      <th>casID</th>\n",
       "      <th>chemblID</th>\n",
       "      <th>stitchID</th>\n",
       "    </tr>\n",
       "  </thead>\n",
       "  <tbody>\n",
       "    <tr>\n",
       "      <th>69</th>\n",
       "      <td>[1, 3, 127, 175, 247, 254, 326, 357, 383, 489,...</td>\n",
       "      <td>['Melia azedarach', 'Paeonia lactiflora', 'Cam...</td>\n",
       "      <td>5525</td>\n",
       "      <td>Benzyl alcohol</td>\n",
       "      <td>null</td>\n",
       "      <td>100-51-6</td>\n",
       "      <td>null</td>\n",
       "      <td>null</td>\n",
       "    </tr>\n",
       "    <tr>\n",
       "      <th>763</th>\n",
       "      <td>[9, 91, 124, 336, 457, 547, 630, 653, 681, 982...</td>\n",
       "      <td>['Trogopterus xanthipes', 'Glycine max', 'Jugl...</td>\n",
       "      <td>926</td>\n",
       "      <td>Salicylic acid</td>\n",
       "      <td>null</td>\n",
       "      <td>69-72-7</td>\n",
       "      <td>null</td>\n",
       "      <td>null</td>\n",
       "    </tr>\n",
       "  </tbody>\n",
       "</table>\n",
       "</div>"
      ],
      "text/plain": [
       "                                                herbID  \\\n",
       "69   [1, 3, 127, 175, 247, 254, 326, 357, 383, 489,...   \n",
       "763  [9, 91, 124, 336, 457, 547, 630, 653, 681, 982...   \n",
       "\n",
       "                                              herbName  compID  \\\n",
       "69   ['Melia azedarach', 'Paeonia lactiflora', 'Cam...    5525   \n",
       "763  ['Trogopterus xanthipes', 'Glycine max', 'Jugl...     926   \n",
       "\n",
       "           compName pubchemID     casID chemblID stitchID  \n",
       "69   Benzyl alcohol      null  100-51-6     null     null  \n",
       "763  Salicylic acid      null   69-72-7     null     null  "
      ]
     },
     "execution_count": 143,
     "metadata": {},
     "output_type": "execute_result"
    }
   ],
   "source": [
    "print len(filtered_ext2[(filtered_ext2.pubchemID == \"null\") & (filtered_ext2.stitchID == \"null\") & (filtered_ext2.casID != \"null\")])\n",
    "filtered_ext2[(filtered_ext2.pubchemID == \"null\") & (filtered_ext2.stitchID == \"null\") & (filtered_ext2.casID != \"null\")].head(2)"
   ]
  },
  {
   "cell_type": "code",
   "execution_count": 135,
   "metadata": {
    "collapsed": false
   },
   "outputs": [],
   "source": [
    "# a는 casID로 drugBank ID를 찾은거.\n",
    "a = [\"DB06770\", \"DB00936\", \"DB00165\", \"DB01592\", \"DB01593\", \"DB00159\", \"DB00548\", \"DB00162\", \"DB04816\", \"DB01956\", \"DB00632\", \"DB00988\",\n",
    "     \"DB00553\", \"DB00741\", \"DB01115\", \"DB03128\", \"DB00572\", \"DB00553\", \"DB00945\", 'DB01179', \"DB00572\", \"DB08826\", \"DB02821\", \"DB00755\",\n",
    "     \"DB00397\", \"DB00762\", \"DB01180\", 'DB00147', \"DB01373\", \"DB08117\", 'DB01591', 'DB00686']"
   ]
  },
  {
   "cell_type": "code",
   "execution_count": 121,
   "metadata": {
    "collapsed": false
   },
   "outputs": [
    {
     "data": {
      "text/plain": [
       "Index([u'DB00162', u'DB00165', u'DB00397', u'DB00548', u'DB00686', u'DB00755',\n",
       "       u'DB00762', u'DB00945', u'DB00988', u'DB01115'],\n",
       "      dtype='object')"
      ]
     },
     "execution_count": 121,
     "metadata": {},
     "output_type": "execute_result"
    }
   ],
   "source": [
    "# casID로 바꾼 drugBank ID 중 gold drug에 포함되는 id들. --> 이중 DB00762는 잘못된 convert임.\n",
    "filtered_ext2[~filtered_ext2.compID.isin(df_result2.compID)]"
   ]
  },
  {
   "cell_type": "code",
   "execution_count": 136,
   "metadata": {
    "collapsed": true
   },
   "outputs": [],
   "source": [
    "# 위의 포함된 drugbank ID에 해당되는 casID들\n",
    "rmv_cas_id = ['65-23-6', '123-99-9', '68-26-8', '51-61-6', '21829-25-4', '50-78-2', '302-79-4', '14838-15-4', '37300-21-3']"
   ]
  },
  {
   "cell_type": "code",
   "execution_count": 140,
   "metadata": {
    "collapsed": false
   },
   "outputs": [],
   "source": [
    "# gold drug(cas_ID로 찾은) 제외한 compound들\n",
    "filtered_ext3 = filtered_ext2[~filtered_ext2.casID.isin(rmv_cas_id)]"
   ]
  },
  {
   "cell_type": "code",
   "execution_count": 83,
   "metadata": {
    "collapsed": false
   },
   "outputs": [
    {
     "data": {
      "text/html": [
       "<div>\n",
       "<table border=\"1\" class=\"dataframe\">\n",
       "  <thead>\n",
       "    <tr style=\"text-align: right;\">\n",
       "      <th></th>\n",
       "      <th>herbID</th>\n",
       "      <th>herbName</th>\n",
       "      <th>compID</th>\n",
       "      <th>compName</th>\n",
       "      <th>pubchemID</th>\n",
       "      <th>casID</th>\n",
       "      <th>chemblID</th>\n",
       "      <th>stitchID</th>\n",
       "    </tr>\n",
       "  </thead>\n",
       "  <tbody>\n",
       "    <tr>\n",
       "      <th>8315</th>\n",
       "      <td>[369, 653, 826]</td>\n",
       "      <td>['Arctium lappa', 'Lycium barbarum', 'Hyoscyam...</td>\n",
       "      <td>562</td>\n",
       "      <td>Atropine</td>\n",
       "      <td>null</td>\n",
       "      <td>51-55-8</td>\n",
       "      <td>CHEMBL517712</td>\n",
       "      <td>null</td>\n",
       "    </tr>\n",
       "  </tbody>\n",
       "</table>\n",
       "</div>"
      ],
      "text/plain": [
       "               herbID                                           herbName  \\\n",
       "8315  [369, 653, 826]  ['Arctium lappa', 'Lycium barbarum', 'Hyoscyam...   \n",
       "\n",
       "      compID  compName pubchemID    casID      chemblID stitchID  \n",
       "8315     562  Atropine      null  51-55-8  CHEMBL517712     null  "
      ]
     },
     "execution_count": 83,
     "metadata": {},
     "output_type": "execute_result"
    }
   ],
   "source": [
    "filtered_ext1[(filtered_ext1.pubchemID == \"null\") & (filtered_ext1.chemblID != \"null\")] --> 얘의 drugbank id는 DB00572 이고, gold drug와 겹치지 않는다."
   ]
  },
  {
   "cell_type": "code",
   "execution_count": 142,
   "metadata": {
    "collapsed": false
   },
   "outputs": [
    {
     "data": {
      "text/html": [
       "<div>\n",
       "<table border=\"1\" class=\"dataframe\">\n",
       "  <thead>\n",
       "    <tr style=\"text-align: right;\">\n",
       "      <th></th>\n",
       "      <th>herbID</th>\n",
       "      <th>herbName</th>\n",
       "      <th>compID</th>\n",
       "      <th>compName</th>\n",
       "      <th>pubchemID</th>\n",
       "      <th>casID</th>\n",
       "      <th>chemblID</th>\n",
       "      <th>stitchID</th>\n",
       "    </tr>\n",
       "  </thead>\n",
       "  <tbody>\n",
       "    <tr>\n",
       "      <th>8315</th>\n",
       "      <td>[369, 653, 826]</td>\n",
       "      <td>['Arctium lappa', 'Lycium barbarum', 'Hyoscyam...</td>\n",
       "      <td>562</td>\n",
       "      <td>Atropine</td>\n",
       "      <td>null</td>\n",
       "      <td>51-55-8</td>\n",
       "      <td>CHEMBL517712</td>\n",
       "      <td>null</td>\n",
       "    </tr>\n",
       "  </tbody>\n",
       "</table>\n",
       "</div>"
      ],
      "text/plain": [
       "               herbID                                           herbName  \\\n",
       "8315  [369, 653, 826]  ['Arctium lappa', 'Lycium barbarum', 'Hyoscyam...   \n",
       "\n",
       "      compID  compName pubchemID    casID      chemblID stitchID  \n",
       "8315     562  Atropine      null  51-55-8  CHEMBL517712     null  "
      ]
     },
     "execution_count": 142,
     "metadata": {},
     "output_type": "execute_result"
    }
   ],
   "source": [
    "filtered_ext3[(filtered_ext3.pubchemID == \"null\") & (filtered_ext3.chemblID != \"null\")] --> 얘의 drugbank id는 DB00572 이고, gold drug와 겹치지 않는다."
   ]
  },
  {
   "cell_type": "code",
   "execution_count": 148,
   "metadata": {
    "collapsed": false
   },
   "outputs": [],
   "source": [
    "hc_dr_se_sim = df_jac.filter(items = filtered_ext3.compID, axis=0)"
   ]
  },
  {
   "cell_type": "code",
   "execution_count": 150,
   "metadata": {
    "collapsed": false
   },
   "outputs": [
    {
     "name": "stdout",
     "output_type": "stream",
     "text": [
      "101\n"
     ]
    },
    {
     "data": {
      "text/html": [
       "<div>\n",
       "<table border=\"1\" class=\"dataframe\">\n",
       "  <thead>\n",
       "    <tr style=\"text-align: right;\">\n",
       "      <th></th>\n",
       "      <th>DB00114</th>\n",
       "      <th>DB00126</th>\n",
       "      <th>DB00136</th>\n",
       "      <th>DB00153</th>\n",
       "      <th>DB00162</th>\n",
       "      <th>DB00165</th>\n",
       "      <th>DB00175</th>\n",
       "      <th>DB00176</th>\n",
       "      <th>DB00177</th>\n",
       "      <th>DB00178</th>\n",
       "      <th>...</th>\n",
       "      <th>DB01576</th>\n",
       "      <th>DB01577</th>\n",
       "      <th>DB01590</th>\n",
       "      <th>DB01623</th>\n",
       "      <th>DB02546</th>\n",
       "      <th>DB03904</th>\n",
       "      <th>DB04272</th>\n",
       "      <th>DB04844</th>\n",
       "      <th>DB04861</th>\n",
       "      <th>DB09026</th>\n",
       "    </tr>\n",
       "  </thead>\n",
       "  <tbody>\n",
       "    <tr>\n",
       "      <th>5525</th>\n",
       "      <td>0.930586</td>\n",
       "      <td>0.990239</td>\n",
       "      <td>0.956616</td>\n",
       "      <td>0.981562</td>\n",
       "      <td>0.991323</td>\n",
       "      <td>0.754338</td>\n",
       "      <td>0.932755</td>\n",
       "      <td>0.893709</td>\n",
       "      <td>0.954447</td>\n",
       "      <td>0.918655</td>\n",
       "      <td>...</td>\n",
       "      <td>0.949024</td>\n",
       "      <td>0.984273</td>\n",
       "      <td>0.914317</td>\n",
       "      <td>0.963124</td>\n",
       "      <td>0.914317</td>\n",
       "      <td>0.933297</td>\n",
       "      <td>0.984816</td>\n",
       "      <td>0.928416</td>\n",
       "      <td>0.91269</td>\n",
       "      <td>0.937636</td>\n",
       "    </tr>\n",
       "  </tbody>\n",
       "</table>\n",
       "<p>1 rows × 434 columns</p>\n",
       "</div>"
      ],
      "text/plain": [
       "       DB00114   DB00126   DB00136   DB00153   DB00162   DB00165   DB00175  \\\n",
       "5525  0.930586  0.990239  0.956616  0.981562  0.991323  0.754338  0.932755   \n",
       "\n",
       "       DB00176   DB00177   DB00178    ...      DB01576   DB01577   DB01590  \\\n",
       "5525  0.893709  0.954447  0.918655    ...     0.949024  0.984273  0.914317   \n",
       "\n",
       "       DB01623   DB02546   DB03904   DB04272   DB04844  DB04861   DB09026  \n",
       "5525  0.963124  0.914317  0.933297  0.984816  0.928416  0.91269  0.937636  \n",
       "\n",
       "[1 rows x 434 columns]"
      ]
     },
     "execution_count": 150,
     "metadata": {},
     "output_type": "execute_result"
    }
   ],
   "source": [
    "print len(hc_dr_se_sim)\n",
    "hc_dr_se_sim.head(1)"
   ]
  },
  {
   "cell_type": "code",
   "execution_count": 192,
   "metadata": {
    "collapsed": false
   },
   "outputs": [
    {
     "name": "stdout",
     "output_type": "stream",
     "text": [
      "\n"
     ]
    }
   ],
   "source": [
    "# strucutre smiles를 찾을 수 없는 compound를 지운다.\n",
    "hc_dr_se_sim.drop(88531, inplace = True)\n",
    "df_jac.drop(88531, inplace=True)"
   ]
  },
  {
   "cell_type": "code",
   "execution_count": 193,
   "metadata": {
    "collapsed": true
   },
   "outputs": [],
   "source": [
    "df_jac.to_csv(\"/DAS_Storage1/aschoi/data/Drug_Repositioning/5_new_drug/new_predict/4_1_1_herbal_comp_gold_drug_se_sim_mat_validation.tsv\", sep='\\t')\n",
    "hc_dr_se_sim.to_csv(\"/DAS_Storage1/aschoi/data/Drug_Repositioning/5_new_drug/new_predict/4_2_1_herbal_comp_gold_drug_se_sim_mat_predict.tsv\", sep='\\t')"
   ]
  },
  {
   "cell_type": "code",
   "execution_count": 11,
   "metadata": {
    "collapsed": true
   },
   "outputs": [],
   "source": [
    "df_jac = pd.read_table(\"/DAS_Storage1/aschoi/data/Drug_Repositioning/5_new_drug/new_predict/4_1_1_herbal_comp_gold_drug_se_sim_mat_validation.tsv\", index_col = 0)\n",
    "hc_dr_se_sim = pd.read_table(\"/DAS_Storage1/aschoi/data/Drug_Repositioning/5_new_drug/new_predict/4_2_1_herbal_comp_gold_drug_se_sim_mat_predict.tsv\", index_col = 0)"
   ]
  },
  {
   "cell_type": "code",
   "execution_count": null,
   "metadata": {
    "collapsed": true
   },
   "outputs": [],
   "source": [
    "# structure similarity 구하기"
   ]
  },
  {
   "cell_type": "code",
   "execution_count": 3,
   "metadata": {
    "collapsed": false
   },
   "outputs": [
    {
     "data": {
      "text/html": [
       "<div>\n",
       "<table border=\"1\" class=\"dataframe\">\n",
       "  <thead>\n",
       "    <tr style=\"text-align: right;\">\n",
       "      <th></th>\n",
       "      <th>DrugBank_ID</th>\n",
       "      <th>Drug_Name</th>\n",
       "      <th>InChI</th>\n",
       "      <th>SMILES</th>\n",
       "      <th>State</th>\n",
       "    </tr>\n",
       "  </thead>\n",
       "  <tbody>\n",
       "    <tr>\n",
       "      <th>0</th>\n",
       "      <td>DB00006</td>\n",
       "      <td>Bivalirudin</td>\n",
       "      <td>InChI=1S/C98H138N24O33/c1-5-52(4)82(96(153)122...</td>\n",
       "      <td>CC[C@H](C)[C@H](NC(=O)[C@H](CCC(O)=O)NC(=O)[C@...</td>\n",
       "      <td>approved</td>\n",
       "    </tr>\n",
       "  </tbody>\n",
       "</table>\n",
       "</div>"
      ],
      "text/plain": [
       "  DrugBank_ID    Drug_Name                                              InChI  \\\n",
       "0     DB00006  Bivalirudin  InChI=1S/C98H138N24O33/c1-5-52(4)82(96(153)122...   \n",
       "\n",
       "                                              SMILES     State  \n",
       "0  CC[C@H](C)[C@H](NC(=O)[C@H](CCC(O)=O)NC(=O)[C@...  approved  "
      ]
     },
     "execution_count": 3,
     "metadata": {},
     "output_type": "execute_result"
    }
   ],
   "source": [
    "drugbank = pd.read_table(\"/home/share/aschoi/nas/users/asolchoi/data/Drug_Repositioning/5_new_drug/drug_set.txt\", header=None)\n",
    "drugbank = drugbank.rename(columns = {0:'DrugBank_ID', 1:'Drug_Name', 2:'InChI', 3:'SMILES', 4:'State'})\n",
    "drugbank.head(1)"
   ]
  },
  {
   "cell_type": "code",
   "execution_count": 4,
   "metadata": {
    "collapsed": false
   },
   "outputs": [],
   "source": [
    "hc = pd.read_csv(\"/DAS_Storage1/aschoi/data/COCONUT_Herbal/6_Herb/1_3_COCONUT_herb_compound(remove duplicate).csv\")"
   ]
  },
  {
   "cell_type": "code",
   "execution_count": 5,
   "metadata": {
    "collapsed": false
   },
   "outputs": [
    {
     "data": {
      "text/html": [
       "<div>\n",
       "<table border=\"1\" class=\"dataframe\">\n",
       "  <thead>\n",
       "    <tr style=\"text-align: right;\">\n",
       "      <th></th>\n",
       "      <th>compID</th>\n",
       "      <th>compName</th>\n",
       "      <th>smiles</th>\n",
       "      <th>InChI</th>\n",
       "      <th>herbID</th>\n",
       "      <th>name</th>\n",
       "    </tr>\n",
       "  </thead>\n",
       "  <tbody>\n",
       "    <tr>\n",
       "      <th>0</th>\n",
       "      <td>39863</td>\n",
       "      <td>Azedarachin A</td>\n",
       "      <td>CCC(C)C(=O)OC1[C@@]2([C@@H]3C[C@H]([C@@]4([C@@...</td>\n",
       "      <td>InChI=1/C33H44O11/c1-7-15(2)27(39)43-28-29(4)1...</td>\n",
       "      <td>[1.0, 168.0]</td>\n",
       "      <td>['Melia azedarach', 'Melia azed-arach']</td>\n",
       "    </tr>\n",
       "    <tr>\n",
       "      <th>1</th>\n",
       "      <td>39879</td>\n",
       "      <td>(1S,2R,8R,10R,11S,15R)-21-Acetoxy-6-(3-furyl)-...</td>\n",
       "      <td>CC(C)C(=O)OC1[C@]2(C3CC([C@@]4(C([C@]3(CO1)C(C...</td>\n",
       "      <td>InChI=1/C32H42O10/c1-15(2)26(37)41-27-29(5)20-...</td>\n",
       "      <td>[1.0, 168.0]</td>\n",
       "      <td>['Melia azedarach', 'Melia azed-arach']</td>\n",
       "    </tr>\n",
       "    <tr>\n",
       "      <th>2</th>\n",
       "      <td>39880</td>\n",
       "      <td>1-(3-Furyl)-5-(hydroxymethyl)-8a-methyl-1,7,8,...</td>\n",
       "      <td>CC12CCC=C(C1=CC(=O)OC2c3ccoc3)CO</td>\n",
       "      <td>InChI=1/C15H16O4/c1-15-5-2-3-10(8-16)12(15)7-1...</td>\n",
       "      <td>[1.0, 168.0]</td>\n",
       "      <td>['Melia azedarach', 'Melia azed-arach']</td>\n",
       "    </tr>\n",
       "    <tr>\n",
       "      <th>3</th>\n",
       "      <td>39882</td>\n",
       "      <td>Methyl [(1S,5S,7S,8S,16S)-5,11-diacetoxy-16-{[...</td>\n",
       "      <td>C[C@@H]1[C@@H]([C@H]([C@H]([C@@H](O1)OC[C@@H]2...</td>\n",
       "      <td>InChI=1/C43H60O20/c1-17-22-12-27(59-20(4)45)42...</td>\n",
       "      <td>[1.0, 168.0]</td>\n",
       "      <td>['Melia azedarach', 'Melia azed-arach']</td>\n",
       "    </tr>\n",
       "    <tr>\n",
       "      <th>4</th>\n",
       "      <td>39883</td>\n",
       "      <td>Trichilin H</td>\n",
       "      <td>CC(C)C(=O)OC1[C@@]2([C@@H]3C[C@H]([C@@]4([C@@H...</td>\n",
       "      <td>InChI=1/C36H46O14/c1-15(2)30(43)49-31-32(6)21-...</td>\n",
       "      <td>[1.0, 168.0]</td>\n",
       "      <td>['Melia azedarach', 'Melia azed-arach']</td>\n",
       "    </tr>\n",
       "    <tr>\n",
       "      <th>5</th>\n",
       "      <td>38197</td>\n",
       "      <td>(5xi,9xi,13xi,14beta,17alpha,20S,23R,24S)-21,2...</td>\n",
       "      <td>C[C@]12CCC(=O)C(C1CC=C3C2CCC4([C@@]3(CC[C@H]4[...</td>\n",
       "      <td>InChI=1/C30H48O5/c1-26(2)22-9-8-20-19(28(22,5)...</td>\n",
       "      <td>[1.0, 168.0]</td>\n",
       "      <td>['Melia azedarach', 'Melia azed-arach']</td>\n",
       "    </tr>\n",
       "    <tr>\n",
       "      <th>6</th>\n",
       "      <td>38198</td>\n",
       "      <td>7-Tricosanol</td>\n",
       "      <td>CCCCCCCCCCCCCCCCC(CCCCCC)O</td>\n",
       "      <td>InChI=1/C23H48O/c1-3-5-7-9-10-11-12-13-14-15-1...</td>\n",
       "      <td>[1.0, 168.0]</td>\n",
       "      <td>['Melia azedarach', 'Melia azed-arach']</td>\n",
       "    </tr>\n",
       "    <tr>\n",
       "      <th>7</th>\n",
       "      <td>38199</td>\n",
       "      <td>a-elemene</td>\n",
       "      <td>CC(C)C1=CC(=C(C)C)CC[C@@]1(C)C=C</td>\n",
       "      <td>InChI=1/C15H24/c1-7-15(6)9-8-13(11(2)3)10-14(1...</td>\n",
       "      <td>[1.0, 168.0, 1909.0]</td>\n",
       "      <td>['Melia azedarach', 'Melia azed-arach', 'Artem...</td>\n",
       "    </tr>\n",
       "    <tr>\n",
       "      <th>8</th>\n",
       "      <td>33578</td>\n",
       "      <td>Nimbolin B</td>\n",
       "      <td>CC(=O)O[C@@H]1C[C@@H]([C@@]2([C@H]3CC(O[C@H]4C...</td>\n",
       "      <td>InChI=1/C38H44O10/c1-21(39)45-29-18-30(46-22(2...</td>\n",
       "      <td>[1.0, 168.0]</td>\n",
       "      <td>['Melia azedarach', 'Melia azed-arach']</td>\n",
       "    </tr>\n",
       "    <tr>\n",
       "      <th>9</th>\n",
       "      <td>32837</td>\n",
       "      <td>Daucosterol</td>\n",
       "      <td>CC[C@H](CC[C@@H](C)[C@H]1CC[C@@H]2[C@@]1(CC[C@...</td>\n",
       "      <td>InChI=1/C35H60O6/c1-7-22(20(2)3)9-8-21(4)26-12...</td>\n",
       "      <td>[1.0, 2.0, 17.0, 24.0, 52.0, 54.0, 76.0, 87.0,...</td>\n",
       "      <td>['Melia azedarach', 'Ailanthus altissima', 'Ar...</td>\n",
       "    </tr>\n",
       "    <tr>\n",
       "      <th>10</th>\n",
       "      <td>32820</td>\n",
       "      <td>Azadirachtin</td>\n",
       "      <td>C/C=C(\\C)/C(=O)O[C@H]1C[C@H]([C@]2(CO[C@@H]3[C...</td>\n",
       "      <td>InChI=1/C35H44O16/c1-8-15(2)24(38)49-18-12-19(...</td>\n",
       "      <td>[1.0, 168.0]</td>\n",
       "      <td>['Melia azedarach', 'Melia azed-arach']</td>\n",
       "    </tr>\n",
       "    <tr>\n",
       "      <th>11</th>\n",
       "      <td>32541</td>\n",
       "      <td>(3beta)-7-Oxostigmast-5-en-3-yl benzoate</td>\n",
       "      <td>CC[C@H](CC[C@@H](C)[C@H]1CC[C@@H]2[C@@]1(CC[C@...</td>\n",
       "      <td>InChI=1/C36H52O3/c1-7-25(23(2)3)14-13-24(4)29-...</td>\n",
       "      <td>[1.0, 31.0, 73.0, 151.0, 168.0, 528.0, 1026.0,...</td>\n",
       "      <td>['Melia azedarach', 'Morus alba', 'Cannabis sa...</td>\n",
       "    </tr>\n",
       "    <tr>\n",
       "      <th>12</th>\n",
       "      <td>37012</td>\n",
       "      <td>(+)-alpha-Pinene</td>\n",
       "      <td>CC1=CC[C@@H]2C[C@H]1C2(C)C</td>\n",
       "      <td>InChI=1/C10H16/c1-7-4-5-8-6-9(7)10(8,2)3/h4,8-...</td>\n",
       "      <td>[1.0, 40.0, 54.0, 75.0, 84.0, 93.0, 368.0, 472...</td>\n",
       "      <td>['Melia azedarach', 'Asarum sieboldii', 'Cinna...</td>\n",
       "    </tr>\n",
       "    <tr>\n",
       "      <th>13</th>\n",
       "      <td>38239</td>\n",
       "      <td>4-Isopropyl-1-methyl-2-cyclohexen-1-ol</td>\n",
       "      <td>CC(C)C1CCC(C=C1)(C)O</td>\n",
       "      <td>InChI=1/C10H18O/c1-8(2)9-4-6-10(3,11)7-5-9/h4,...</td>\n",
       "      <td>[1.0]</td>\n",
       "      <td>['Melia azedarach']</td>\n",
       "    </tr>\n",
       "    <tr>\n",
       "      <th>14</th>\n",
       "      <td>31861</td>\n",
       "      <td>1-(5,11-Dimethyl-1,6-dihydro-2H-pyrido[4,3-b]c...</td>\n",
       "      <td>Cc1c2c(c(c3c1c4ccccc4[nH]3)C)C=CN(C2)C(=O)C</td>\n",
       "      <td>InChI=1/C19H18N2O/c1-11-16-10-21(13(3)22)9-8-1...</td>\n",
       "      <td>[1.0]</td>\n",
       "      <td>['Melia azedarach']</td>\n",
       "    </tr>\n",
       "    <tr>\n",
       "      <th>15</th>\n",
       "      <td>32194</td>\n",
       "      <td>Ibogamine</td>\n",
       "      <td>CC[C@H]1C[C@@H]2C[C@@H]3[C@H]1N(C2)CCc4c3[nH]c...</td>\n",
       "      <td>InChI=1/C19H24N2/c1-2-13-9-12-10-16-18-15(7-8-...</td>\n",
       "      <td>[1.0]</td>\n",
       "      <td>['Melia azedarach']</td>\n",
       "    </tr>\n",
       "    <tr>\n",
       "      <th>16</th>\n",
       "      <td>32547</td>\n",
       "      <td>4-terpinenol</td>\n",
       "      <td>CC1=CCC(CC1)(C(C)C)O</td>\n",
       "      <td>InChI=1/C10H18O/c1-8(2)10(11)6-4-9(3)5-7-10/h4...</td>\n",
       "      <td>[1.0, 3.0, 8.0, 58.0, 73.0, 93.0, 119.0, 127.0...</td>\n",
       "      <td>['Melia azedarach', 'Paeonia lactiflora', 'Scu...</td>\n",
       "    </tr>\n",
       "    <tr>\n",
       "      <th>17</th>\n",
       "      <td>32269</td>\n",
       "      <td>(+/-)-alpha-Pinene</td>\n",
       "      <td>CC1=CCC2CC1C2(C)C</td>\n",
       "      <td>InChI=1/C10H16/c1-7-4-5-8-6-9(7)10(8,2)3/h4,8-...</td>\n",
       "      <td>[1.0, 19.0, 31.0, 40.0, 54.0, 58.0, 73.0, 75.0...</td>\n",
       "      <td>['Melia azedarach', 'Curcuma zedoaria', 'Morus...</td>\n",
       "    </tr>\n",
       "    <tr>\n",
       "      <th>18</th>\n",
       "      <td>32651</td>\n",
       "      <td>Geraniol</td>\n",
       "      <td>CC(=CCC/C(=C/CO)/C)C</td>\n",
       "      <td>InChI=1/C10H18O/c1-9(2)5-4-6-10(3)7-8-11/h5,7,...</td>\n",
       "      <td>[1.0, 3.0, 31.0, 58.0, 73.0, 75.0, 127.0, 151....</td>\n",
       "      <td>['Melia azedarach', 'Paeonia lactiflora', 'Mor...</td>\n",
       "    </tr>\n",
       "    <tr>\n",
       "      <th>19</th>\n",
       "      <td>32320</td>\n",
       "      <td>TERPINOLENE</td>\n",
       "      <td>CC1=CCC(=C(C)C)CC1</td>\n",
       "      <td>InChI=1/C10H16/c1-8(2)10-6-4-9(3)5-7-10/h4H,5-...</td>\n",
       "      <td>[1.0, 73.0, 75.0, 151.0, 155.0, 174.0, 247.0, ...</td>\n",
       "      <td>['Melia azedarach', 'Cannabis sativa', 'Myrist...</td>\n",
       "    </tr>\n",
       "    <tr>\n",
       "      <th>20</th>\n",
       "      <td>32325</td>\n",
       "      <td>1-Isopropyl-4,7-dimethyl-1,2,3,5,6,8a-hexahydr...</td>\n",
       "      <td>CC1=CC2C(CCC(=C2CC1)C)C(C)C</td>\n",
       "      <td>InChI=1/C15H24/c1-10(2)13-8-6-12(4)14-7-5-11(3...</td>\n",
       "      <td>[1.0, 73.0, 75.0, 78.0, 151.0, 153.0, 155.0, 1...</td>\n",
       "      <td>['Melia azedarach', 'Cannabis sativa', 'Myrist...</td>\n",
       "    </tr>\n",
       "    <tr>\n",
       "      <th>21</th>\n",
       "      <td>32603</td>\n",
       "      <td>(2R,6R)-8-Isopropyl-1,3-dimethyltricyclo[4.4.0...</td>\n",
       "      <td>CC1=CC[C@@H]2C3[C@H]1C2(CCC3C(C)C)C</td>\n",
       "      <td>InChI=1/C15H24/c1-9(2)11-7-8-15(4)12-6-5-10(3)...</td>\n",
       "      <td>[1.0, 73.0, 75.0, 78.0, 151.0, 155.0, 156.0, 2...</td>\n",
       "      <td>['Melia azedarach', 'Cannabis sativa', 'Myrist...</td>\n",
       "    </tr>\n",
       "    <tr>\n",
       "      <th>22</th>\n",
       "      <td>32574</td>\n",
       "      <td>2-(4-Methyl-3-cyclohexen-1-yl)-2-propanol</td>\n",
       "      <td>CC1=CCC(CC1)C(C)(C)O</td>\n",
       "      <td>InChI=1/C10H18O/c1-8-4-6-9(7-5-8)10(2,3)11/h4,...</td>\n",
       "      <td>[1.0, 3.0, 40.0, 73.0, 75.0, 93.0, 119.0, 127....</td>\n",
       "      <td>['Melia azedarach', 'Paeonia lactiflora', 'Asa...</td>\n",
       "    </tr>\n",
       "    <tr>\n",
       "      <th>23</th>\n",
       "      <td>32697</td>\n",
       "      <td>(1S,4aR,8aR)-1-Isopropyl-7-methyl-4-methylene-...</td>\n",
       "      <td>CC1=C[C@@H]2[C@@H](CC1)C(=C)CC[C@H]2C(C)C</td>\n",
       "      <td>InChI=1/C15H24/c1-10(2)13-8-6-12(4)14-7-5-11(3...</td>\n",
       "      <td>[1.0, 73.0, 151.0, 153.0, 155.0, 465.0, 576.0,...</td>\n",
       "      <td>['Melia azedarach', 'Cannabis sativa', 'Equus ...</td>\n",
       "    </tr>\n",
       "    <tr>\n",
       "      <th>24</th>\n",
       "      <td>32698</td>\n",
       "      <td>Torreyol</td>\n",
       "      <td>CC1=C[C@H]2[C@@H](CC[C@@]([C@H]2CC1)(C)O)C(C)C</td>\n",
       "      <td>InChI=1/C15H26O/c1-10(2)12-7-8-15(4,16)14-6-5-...</td>\n",
       "      <td>[1.0, 153.0, 247.0, 645.0, 697.0, 1668.0]</td>\n",
       "      <td>['Melia azedarach', 'Marinobacter hydrocarbono...</td>\n",
       "    </tr>\n",
       "    <tr>\n",
       "      <th>25</th>\n",
       "      <td>32805</td>\n",
       "      <td>(R)-(+)-Citronellol</td>\n",
       "      <td>C[C@H](CCC=C(C)C)CCO</td>\n",
       "      <td>InChI=1/C10H20O/c1-9(2)5-4-6-10(3)7-8-11/h5,10...</td>\n",
       "      <td>[1.0, 58.0, 73.0, 75.0, 151.0, 155.0, 224.0, 2...</td>\n",
       "      <td>['Melia azedarach', 'Alpinia katsumadai', 'Can...</td>\n",
       "    </tr>\n",
       "    <tr>\n",
       "      <th>26</th>\n",
       "      <td>32483</td>\n",
       "      <td>a-Gurjunene</td>\n",
       "      <td>C[C@@H]1CC[C@@H]2[C@@H](C2(C)C)C3=C(CC[C@H]13)C</td>\n",
       "      <td>InChI=1/C15H24/c1-9-6-8-12-14(15(12,3)4)13-10(...</td>\n",
       "      <td>[1.0, 73.0, 151.0, 247.0, 5670.0]</td>\n",
       "      <td>['Melia azedarach', 'Cannabis sativa', 'Equus ...</td>\n",
       "    </tr>\n",
       "    <tr>\n",
       "      <th>27</th>\n",
       "      <td>32618</td>\n",
       "      <td>dl-Citronellol acetate</td>\n",
       "      <td>CC(CCC=C(C)C)CCOC(=O)C</td>\n",
       "      <td>InChI=1/C12H22O2/c1-10(2)6-5-7-11(3)8-9-14-12(...</td>\n",
       "      <td>[1.0, 3.0, 58.0, 75.0, 155.0, 383.0, 611.0, 10...</td>\n",
       "      <td>['Melia azedarach', 'Paeonia lactiflora', 'Alp...</td>\n",
       "    </tr>\n",
       "    <tr>\n",
       "      <th>28</th>\n",
       "      <td>31900</td>\n",
       "      <td>SENDANIN</td>\n",
       "      <td>CC(=O)O[C@@H]1C[C@@H]([C@@]23COC([C@@]1([C@@H]...</td>\n",
       "      <td>InChI=1/C32H40O12/c1-14(33)41-22-11-21(37)31-1...</td>\n",
       "      <td>[1.0]</td>\n",
       "      <td>['Melia azedarach']</td>\n",
       "    </tr>\n",
       "    <tr>\n",
       "      <th>29</th>\n",
       "      <td>33321</td>\n",
       "      <td>(13alpha,14beta,16beta,17alpha,20R)-16,21-Epox...</td>\n",
       "      <td>CC(=CCC[C@@H]1[C@@H]2[C@H](C[C@]3([C@]2(CC[C@H...</td>\n",
       "      <td>InChI=1/C30H42O4/c1-17(2)9-8-10-18-24-22(34-26...</td>\n",
       "      <td>[1.0]</td>\n",
       "      <td>['Melia azedarach']</td>\n",
       "    </tr>\n",
       "    <tr>\n",
       "      <th>...</th>\n",
       "      <td>...</td>\n",
       "      <td>...</td>\n",
       "      <td>...</td>\n",
       "      <td>...</td>\n",
       "      <td>...</td>\n",
       "      <td>...</td>\n",
       "    </tr>\n",
       "    <tr>\n",
       "      <th>19186</th>\n",
       "      <td>78451</td>\n",
       "      <td>2-methyl-4-(1H-purin-6-ylamino)butan-1-ol</td>\n",
       "      <td>CC(CCNc1c2c(nc[nH]2)ncn1)CO</td>\n",
       "      <td>InChI=1/C10H15N5O/c1-7(4-16)2-3-11-9-8-10(13-5...</td>\n",
       "      <td>[8630.0]</td>\n",
       "      <td>['Prunus virginiana']</td>\n",
       "    </tr>\n",
       "    <tr>\n",
       "      <th>19187</th>\n",
       "      <td>75281</td>\n",
       "      <td>16-hydroxypalmitic acid</td>\n",
       "      <td>C(CCCCCCCC(=O)O)CCCCCCCO</td>\n",
       "      <td>InChI=1/C16H32O3/c17-15-13-11-9-7-5-3-1-2-4-6-...</td>\n",
       "      <td>[8630.0]</td>\n",
       "      <td>['Prunus virginiana']</td>\n",
       "    </tr>\n",
       "    <tr>\n",
       "      <th>19188</th>\n",
       "      <td>79285</td>\n",
       "      <td>1,3,4-Trihydroxy-5-{[(2Z)-3-(3-hydroxy-4-metho...</td>\n",
       "      <td>COc1ccc(cc1O)/C=C\\C(=O)OC2CC(CC(C2O)O)(C(=O)O)O</td>\n",
       "      <td>InChI=1/C17H20O9/c1-25-12-4-2-9(6-10(12)18)3-5...</td>\n",
       "      <td>[8630.0]</td>\n",
       "      <td>['Prunus virginiana']</td>\n",
       "    </tr>\n",
       "    <tr>\n",
       "      <th>19189</th>\n",
       "      <td>80525</td>\n",
       "      <td>(24R)-Ethyl-lophenol</td>\n",
       "      <td>[H][C@@]12CC=C3C4CC[C@H]([C@H](C)CC[C@H](CC)C(...</td>\n",
       "      <td>null</td>\n",
       "      <td>[8630.0]</td>\n",
       "      <td>['Prunus virginiana']</td>\n",
       "    </tr>\n",
       "    <tr>\n",
       "      <th>19190</th>\n",
       "      <td>80527</td>\n",
       "      <td>24-Methyllophenol</td>\n",
       "      <td>[H][C@@]12CC=C3C4CC[C@H]([C@H](C)CCC(C)C(C)C)[...</td>\n",
       "      <td>null</td>\n",
       "      <td>[8630.0]</td>\n",
       "      <td>['Prunus virginiana']</td>\n",
       "    </tr>\n",
       "    <tr>\n",
       "      <th>19191</th>\n",
       "      <td>80531</td>\n",
       "      <td>4-methylzymosterol</td>\n",
       "      <td>CC1[C@@H]2CCC3=C([C@]2(CC[C@@H]1O)C)CC[C@]4([C...</td>\n",
       "      <td>InChI=1/C28H46O/c1-18(2)8-7-9-19(3)22-12-13-24...</td>\n",
       "      <td>[8630.0]</td>\n",
       "      <td>['Prunus virginiana']</td>\n",
       "    </tr>\n",
       "    <tr>\n",
       "      <th>19192</th>\n",
       "      <td>80532</td>\n",
       "      <td>4-Methylcholest-4-en-3-one</td>\n",
       "      <td>CC1=C2CCC3C4CCC(C4(CCC3C2(CCC1=O)C)C)C(C)CCCC(C)C</td>\n",
       "      <td>InChI=1/C28H46O/c1-18(2)8-7-9-19(3)22-12-13-24...</td>\n",
       "      <td>[8630.0]</td>\n",
       "      <td>['Prunus virginiana']</td>\n",
       "    </tr>\n",
       "    <tr>\n",
       "      <th>19193</th>\n",
       "      <td>80535</td>\n",
       "      <td>4alpha,24-Dimethylcholesta-7,24-dien-3beta-ol</td>\n",
       "      <td>C[C@H](CCC(C)=C(C)C)C1CCC2C3=CCC4[C@H](C)[C@@H...</td>\n",
       "      <td>null</td>\n",
       "      <td>[8630.0]</td>\n",
       "      <td>['Prunus virginiana']</td>\n",
       "    </tr>\n",
       "    <tr>\n",
       "      <th>19194</th>\n",
       "      <td>3946</td>\n",
       "      <td>1-C-Methyl-1-O-phosphono-alpha-D-glucopyranose</td>\n",
       "      <td>C[C@]1([C@@H]([C@H]([C@@H]([C@H](O1)CO)O)O)O)O...</td>\n",
       "      <td>InChI=1/C7H15O9P/c1-7(16-17(12,13)14)6(11)5(10...</td>\n",
       "      <td>[8630.0]</td>\n",
       "      <td>['Prunus virginiana']</td>\n",
       "    </tr>\n",
       "    <tr>\n",
       "      <th>19195</th>\n",
       "      <td>82397</td>\n",
       "      <td>Glyoxal</td>\n",
       "      <td>C(=O)C=O</td>\n",
       "      <td>InChI=1/C2H2O2/c3-1-2-4/h1-2H</td>\n",
       "      <td>[8630.0]</td>\n",
       "      <td>['Prunus virginiana']</td>\n",
       "    </tr>\n",
       "    <tr>\n",
       "      <th>19196</th>\n",
       "      <td>82749</td>\n",
       "      <td>(E)-Aconitic Acid</td>\n",
       "      <td>C(/C(=C\\C(=O)O)/C(=O)O)C(=O)O</td>\n",
       "      <td>InChI=1/C6H6O6/c7-4(8)1-3(6(11)12)2-5(9)10/h1H...</td>\n",
       "      <td>[8630.0]</td>\n",
       "      <td>['Prunus virginiana']</td>\n",
       "    </tr>\n",
       "    <tr>\n",
       "      <th>19197</th>\n",
       "      <td>46397</td>\n",
       "      <td>3-Phenylpropanal</td>\n",
       "      <td>c1ccc(cc1)CCC=O</td>\n",
       "      <td>InChI=1/C9H10O/c10-8-4-7-9-5-2-1-3-6-9/h1-3,5-...</td>\n",
       "      <td>[8630.0]</td>\n",
       "      <td>['Prunus virginiana']</td>\n",
       "    </tr>\n",
       "    <tr>\n",
       "      <th>19198</th>\n",
       "      <td>85283</td>\n",
       "      <td>Spirosolan-3-yl hexopyranosyl-(1-&gt;2)-[pentopyr...</td>\n",
       "      <td>CC1CCC2(C(C3C(O2)CC4C3(CCC5C4CCC6C5(CCC(C6)OC7...</td>\n",
       "      <td>InChI=1/C50H83NO21/c1-20-7-12-50(51-15-20)21(2...</td>\n",
       "      <td>[8630.0]</td>\n",
       "      <td>['Prunus virginiana']</td>\n",
       "    </tr>\n",
       "    <tr>\n",
       "      <th>19199</th>\n",
       "      <td>85432</td>\n",
       "      <td>9,10,18-Trihydroxyoctadecanoic acid</td>\n",
       "      <td>OCCCCCCCCC(O)C(O)CCCCCCCC(O)=O</td>\n",
       "      <td>null</td>\n",
       "      <td>[8630.0]</td>\n",
       "      <td>['Prunus virginiana']</td>\n",
       "    </tr>\n",
       "    <tr>\n",
       "      <th>19200</th>\n",
       "      <td>85704</td>\n",
       "      <td>Farnesylacetone</td>\n",
       "      <td>CC(C)=CCC\\C(C)=C/CC\\C(C)=C\\CCC(C)=O</td>\n",
       "      <td>null</td>\n",
       "      <td>[8630.0]</td>\n",
       "      <td>['Prunus virginiana']</td>\n",
       "    </tr>\n",
       "    <tr>\n",
       "      <th>19201</th>\n",
       "      <td>86748</td>\n",
       "      <td>7-Isopropenyl-1-methyl-1,2,3,4,5,6,7,8-octahyd...</td>\n",
       "      <td>CC1C(C(CC2=C1CC(CC2)C(=C)C)O)O</td>\n",
       "      <td>InChI=1/C14H22O2/c1-8(2)10-4-5-11-7-13(15)14(1...</td>\n",
       "      <td>[8630.0]</td>\n",
       "      <td>['Prunus virginiana']</td>\n",
       "    </tr>\n",
       "    <tr>\n",
       "      <th>19202</th>\n",
       "      <td>87950</td>\n",
       "      <td>y,y-Carotene-16-ol</td>\n",
       "      <td>CC(=CCC/C(=C/C=C/C(=C/C=C/C(=C/C=C/C=C(\\C)/C=C...</td>\n",
       "      <td>InChI=1/C40H56O/c1-33(2)18-12-21-36(5)24-15-27...</td>\n",
       "      <td>[8630.0]</td>\n",
       "      <td>['Prunus virginiana']</td>\n",
       "    </tr>\n",
       "    <tr>\n",
       "      <th>19203</th>\n",
       "      <td>90167</td>\n",
       "      <td>(9Z,9'Z)-7,7',8,8'-Tetrahydrolycopene</td>\n",
       "      <td>CC(C)=CCC\\C(C)=C/CC\\C(C)=C/C=C/C(C)=C/C=C/C=C(...</td>\n",
       "      <td>null</td>\n",
       "      <td>[8630.0]</td>\n",
       "      <td>['Prunus virginiana']</td>\n",
       "    </tr>\n",
       "    <tr>\n",
       "      <th>19204</th>\n",
       "      <td>92294</td>\n",
       "      <td>10,16-Dihydroxyhexadecanoic acid</td>\n",
       "      <td>OCCCCCCC(O)CCCCCCCCC(O)=O</td>\n",
       "      <td>null</td>\n",
       "      <td>[8630.0]</td>\n",
       "      <td>['Prunus virginiana']</td>\n",
       "    </tr>\n",
       "    <tr>\n",
       "      <th>19205</th>\n",
       "      <td>77582</td>\n",
       "      <td>Malvidin 3-(6''-caffeoyl-glucoside)</td>\n",
       "      <td>COC1=CC(=CC(OC)=C1O)C1=[O+]C2=C(C=C1OC1O[C@H](...</td>\n",
       "      <td>null</td>\n",
       "      <td>[8634.0]</td>\n",
       "      <td>['Aronia melanocarpa']</td>\n",
       "    </tr>\n",
       "    <tr>\n",
       "      <th>19206</th>\n",
       "      <td>83023</td>\n",
       "      <td>8-Hydroxy-2-(4-hydroxy-3,5-dimethoxyphenyl)-5-...</td>\n",
       "      <td>COc1cc(cc(c1O)OC)c2c(c3c4c([o+]2)cc(cc4OC(=C3)...</td>\n",
       "      <td>InChI=1/C31H28O13/c1-39-21-7-14(8-22(40-2)25(2...</td>\n",
       "      <td>[8634.0]</td>\n",
       "      <td>['Aronia melanocarpa']</td>\n",
       "    </tr>\n",
       "    <tr>\n",
       "      <th>19207</th>\n",
       "      <td>77581</td>\n",
       "      <td>5-(3,4-Dihydroxyphenyl)-8-hydroxy-2-(4-hydroxy...</td>\n",
       "      <td>COc1cc(cc(c1O)OC)c2c(c3c4c([o+]2)cc(cc4OC(=C3)...</td>\n",
       "      <td>InChI=1/C31H28O14/c1-40-21-6-13(7-22(41-2)25(2...</td>\n",
       "      <td>[8634.0]</td>\n",
       "      <td>['Aronia melanocarpa']</td>\n",
       "    </tr>\n",
       "    <tr>\n",
       "      <th>19208</th>\n",
       "      <td>87473</td>\n",
       "      <td>5-Carboxy-8-hydroxy-2-(4-hydroxy-3,5-dimethoxy...</td>\n",
       "      <td>COc1cc(cc(c1O)OC)c2c(c3c4c([o+]2)cc(cc4OC(=C3)...</td>\n",
       "      <td>InChI=1/C26H24O14/c1-35-14-3-9(4-15(36-2)19(14...</td>\n",
       "      <td>[8634.0]</td>\n",
       "      <td>['Aronia melanocarpa']</td>\n",
       "    </tr>\n",
       "    <tr>\n",
       "      <th>19209</th>\n",
       "      <td>77664</td>\n",
       "      <td>2,5-di-S-Glutathionyl caftaric acid</td>\n",
       "      <td>NC(CCC(=O)NC(CSC1=CC(\\C=C\\C(=O)OC(C(O)C(O)=O)C...</td>\n",
       "      <td>null</td>\n",
       "      <td>[8634.0]</td>\n",
       "      <td>['Aronia melanocarpa']</td>\n",
       "    </tr>\n",
       "    <tr>\n",
       "      <th>19210</th>\n",
       "      <td>77717</td>\n",
       "      <td>5-{(E)-2-[(2S,3S)-3-(3,5-Dihydroxyphenyl)-2-(4...</td>\n",
       "      <td>C1=CC(=CC=C1[C@@H]2[C@H](C3=C(O2)C=CC(=C3)/C=C...</td>\n",
       "      <td>InChI=1/C28H22O6/c29-20-6-4-18(5-7-20)28-27(19...</td>\n",
       "      <td>[8634.0]</td>\n",
       "      <td>['Aronia melanocarpa']</td>\n",
       "    </tr>\n",
       "    <tr>\n",
       "      <th>19211</th>\n",
       "      <td>79580</td>\n",
       "      <td>5-Henicosyl-1,3-benzenediol</td>\n",
       "      <td>CCCCCCCCCCCCCCCCCCCCCc1cc(cc(c1)O)O</td>\n",
       "      <td>InChI=1/C27H48O2/c1-2-3-4-5-6-7-8-9-10-11-12-1...</td>\n",
       "      <td>[8642.0]</td>\n",
       "      <td>['Coryphaena hippurus']</td>\n",
       "    </tr>\n",
       "    <tr>\n",
       "      <th>19212</th>\n",
       "      <td>89639</td>\n",
       "      <td>5-Heptadecyl-1,3-benzenediol</td>\n",
       "      <td>CCCCCCCCCCCCCCCCCc1cc(cc(c1)O)O</td>\n",
       "      <td>InChI=1/C23H40O2/c1-2-3-4-5-6-7-8-9-10-11-12-1...</td>\n",
       "      <td>[8642.0]</td>\n",
       "      <td>['Coryphaena hippurus']</td>\n",
       "    </tr>\n",
       "    <tr>\n",
       "      <th>19213</th>\n",
       "      <td>79503</td>\n",
       "      <td>5-Nonadecyl-1,3-benzenediol</td>\n",
       "      <td>CCCCCCCCCCCCCCCCCCCc1cc(cc(c1)O)O</td>\n",
       "      <td>InChI=1/C25H44O2/c1-2-3-4-5-6-7-8-9-10-11-12-1...</td>\n",
       "      <td>[8642.0]</td>\n",
       "      <td>['Coryphaena hippurus']</td>\n",
       "    </tr>\n",
       "    <tr>\n",
       "      <th>19214</th>\n",
       "      <td>89593</td>\n",
       "      <td>5-Pentacosyl-1,3-benzenediol</td>\n",
       "      <td>CCCCCCCCCCCCCCCCCCCCCCCCCc1cc(cc(c1)O)O</td>\n",
       "      <td>InChI=1/C31H56O2/c1-2-3-4-5-6-7-8-9-10-11-12-1...</td>\n",
       "      <td>[8642.0]</td>\n",
       "      <td>['Coryphaena hippurus']</td>\n",
       "    </tr>\n",
       "    <tr>\n",
       "      <th>19215</th>\n",
       "      <td>89634</td>\n",
       "      <td>5-Tricosyl-1,3-benzenediol</td>\n",
       "      <td>CCCCCCCCCCCCCCCCCCCCCCCc1cc(cc(c1)O)O</td>\n",
       "      <td>InChI=1/C29H52O2/c1-2-3-4-5-6-7-8-9-10-11-12-1...</td>\n",
       "      <td>[8642.0]</td>\n",
       "      <td>['Coryphaena hippurus']</td>\n",
       "    </tr>\n",
       "  </tbody>\n",
       "</table>\n",
       "<p>19216 rows × 6 columns</p>\n",
       "</div>"
      ],
      "text/plain": [
       "       compID                                           compName  \\\n",
       "0       39863                                      Azedarachin A   \n",
       "1       39879  (1S,2R,8R,10R,11S,15R)-21-Acetoxy-6-(3-furyl)-...   \n",
       "2       39880  1-(3-Furyl)-5-(hydroxymethyl)-8a-methyl-1,7,8,...   \n",
       "3       39882  Methyl [(1S,5S,7S,8S,16S)-5,11-diacetoxy-16-{[...   \n",
       "4       39883                                        Trichilin H   \n",
       "5       38197  (5xi,9xi,13xi,14beta,17alpha,20S,23R,24S)-21,2...   \n",
       "6       38198                                       7-Tricosanol   \n",
       "7       38199                                          a-elemene   \n",
       "8       33578                                         Nimbolin B   \n",
       "9       32837                                        Daucosterol   \n",
       "10      32820                                       Azadirachtin   \n",
       "11      32541           (3beta)-7-Oxostigmast-5-en-3-yl benzoate   \n",
       "12      37012                                   (+)-alpha-Pinene   \n",
       "13      38239             4-Isopropyl-1-methyl-2-cyclohexen-1-ol   \n",
       "14      31861  1-(5,11-Dimethyl-1,6-dihydro-2H-pyrido[4,3-b]c...   \n",
       "15      32194                                          Ibogamine   \n",
       "16      32547                                       4-terpinenol   \n",
       "17      32269                                 (+/-)-alpha-Pinene   \n",
       "18      32651                                           Geraniol   \n",
       "19      32320                                        TERPINOLENE   \n",
       "20      32325  1-Isopropyl-4,7-dimethyl-1,2,3,5,6,8a-hexahydr...   \n",
       "21      32603  (2R,6R)-8-Isopropyl-1,3-dimethyltricyclo[4.4.0...   \n",
       "22      32574          2-(4-Methyl-3-cyclohexen-1-yl)-2-propanol   \n",
       "23      32697  (1S,4aR,8aR)-1-Isopropyl-7-methyl-4-methylene-...   \n",
       "24      32698                                           Torreyol   \n",
       "25      32805                                (R)-(+)-Citronellol   \n",
       "26      32483                                        a-Gurjunene   \n",
       "27      32618                             dl-Citronellol acetate   \n",
       "28      31900                                           SENDANIN   \n",
       "29      33321  (13alpha,14beta,16beta,17alpha,20R)-16,21-Epox...   \n",
       "...       ...                                                ...   \n",
       "19186   78451          2-methyl-4-(1H-purin-6-ylamino)butan-1-ol   \n",
       "19187   75281                            16-hydroxypalmitic acid   \n",
       "19188   79285  1,3,4-Trihydroxy-5-{[(2Z)-3-(3-hydroxy-4-metho...   \n",
       "19189   80525                               (24R)-Ethyl-lophenol   \n",
       "19190   80527                                  24-Methyllophenol   \n",
       "19191   80531                                 4-methylzymosterol   \n",
       "19192   80532                         4-Methylcholest-4-en-3-one   \n",
       "19193   80535      4alpha,24-Dimethylcholesta-7,24-dien-3beta-ol   \n",
       "19194    3946     1-C-Methyl-1-O-phosphono-alpha-D-glucopyranose   \n",
       "19195   82397                                            Glyoxal   \n",
       "19196   82749                                  (E)-Aconitic Acid   \n",
       "19197   46397                                   3-Phenylpropanal   \n",
       "19198   85283  Spirosolan-3-yl hexopyranosyl-(1->2)-[pentopyr...   \n",
       "19199   85432                9,10,18-Trihydroxyoctadecanoic acid   \n",
       "19200   85704                                    Farnesylacetone   \n",
       "19201   86748  7-Isopropenyl-1-methyl-1,2,3,4,5,6,7,8-octahyd...   \n",
       "19202   87950                                 y,y-Carotene-16-ol   \n",
       "19203   90167              (9Z,9'Z)-7,7',8,8'-Tetrahydrolycopene   \n",
       "19204   92294                   10,16-Dihydroxyhexadecanoic acid   \n",
       "19205   77582                Malvidin 3-(6''-caffeoyl-glucoside)   \n",
       "19206   83023  8-Hydroxy-2-(4-hydroxy-3,5-dimethoxyphenyl)-5-...   \n",
       "19207   77581  5-(3,4-Dihydroxyphenyl)-8-hydroxy-2-(4-hydroxy...   \n",
       "19208   87473  5-Carboxy-8-hydroxy-2-(4-hydroxy-3,5-dimethoxy...   \n",
       "19209   77664                2,5-di-S-Glutathionyl caftaric acid   \n",
       "19210   77717  5-{(E)-2-[(2S,3S)-3-(3,5-Dihydroxyphenyl)-2-(4...   \n",
       "19211   79580                        5-Henicosyl-1,3-benzenediol   \n",
       "19212   89639                       5-Heptadecyl-1,3-benzenediol   \n",
       "19213   79503                        5-Nonadecyl-1,3-benzenediol   \n",
       "19214   89593                       5-Pentacosyl-1,3-benzenediol   \n",
       "19215   89634                         5-Tricosyl-1,3-benzenediol   \n",
       "\n",
       "                                                  smiles  \\\n",
       "0      CCC(C)C(=O)OC1[C@@]2([C@@H]3C[C@H]([C@@]4([C@@...   \n",
       "1      CC(C)C(=O)OC1[C@]2(C3CC([C@@]4(C([C@]3(CO1)C(C...   \n",
       "2                       CC12CCC=C(C1=CC(=O)OC2c3ccoc3)CO   \n",
       "3      C[C@@H]1[C@@H]([C@H]([C@H]([C@@H](O1)OC[C@@H]2...   \n",
       "4      CC(C)C(=O)OC1[C@@]2([C@@H]3C[C@H]([C@@]4([C@@H...   \n",
       "5      C[C@]12CCC(=O)C(C1CC=C3C2CCC4([C@@]3(CC[C@H]4[...   \n",
       "6                             CCCCCCCCCCCCCCCCC(CCCCCC)O   \n",
       "7                       CC(C)C1=CC(=C(C)C)CC[C@@]1(C)C=C   \n",
       "8      CC(=O)O[C@@H]1C[C@@H]([C@@]2([C@H]3CC(O[C@H]4C...   \n",
       "9      CC[C@H](CC[C@@H](C)[C@H]1CC[C@@H]2[C@@]1(CC[C@...   \n",
       "10     C/C=C(\\C)/C(=O)O[C@H]1C[C@H]([C@]2(CO[C@@H]3[C...   \n",
       "11     CC[C@H](CC[C@@H](C)[C@H]1CC[C@@H]2[C@@]1(CC[C@...   \n",
       "12                            CC1=CC[C@@H]2C[C@H]1C2(C)C   \n",
       "13                                  CC(C)C1CCC(C=C1)(C)O   \n",
       "14           Cc1c2c(c(c3c1c4ccccc4[nH]3)C)C=CN(C2)C(=O)C   \n",
       "15     CC[C@H]1C[C@@H]2C[C@@H]3[C@H]1N(C2)CCc4c3[nH]c...   \n",
       "16                                  CC1=CCC(CC1)(C(C)C)O   \n",
       "17                                     CC1=CCC2CC1C2(C)C   \n",
       "18                                  CC(=CCC/C(=C/CO)/C)C   \n",
       "19                                    CC1=CCC(=C(C)C)CC1   \n",
       "20                           CC1=CC2C(CCC(=C2CC1)C)C(C)C   \n",
       "21                   CC1=CC[C@@H]2C3[C@H]1C2(CCC3C(C)C)C   \n",
       "22                                  CC1=CCC(CC1)C(C)(C)O   \n",
       "23             CC1=C[C@@H]2[C@@H](CC1)C(=C)CC[C@H]2C(C)C   \n",
       "24        CC1=C[C@H]2[C@@H](CC[C@@]([C@H]2CC1)(C)O)C(C)C   \n",
       "25                                  C[C@H](CCC=C(C)C)CCO   \n",
       "26       C[C@@H]1CC[C@@H]2[C@@H](C2(C)C)C3=C(CC[C@H]13)C   \n",
       "27                                CC(CCC=C(C)C)CCOC(=O)C   \n",
       "28     CC(=O)O[C@@H]1C[C@@H]([C@@]23COC([C@@]1([C@@H]...   \n",
       "29     CC(=CCC[C@@H]1[C@@H]2[C@H](C[C@]3([C@]2(CC[C@H...   \n",
       "...                                                  ...   \n",
       "19186                        CC(CCNc1c2c(nc[nH]2)ncn1)CO   \n",
       "19187                           C(CCCCCCCC(=O)O)CCCCCCCO   \n",
       "19188    COc1ccc(cc1O)/C=C\\C(=O)OC2CC(CC(C2O)O)(C(=O)O)O   \n",
       "19189  [H][C@@]12CC=C3C4CC[C@H]([C@H](C)CC[C@H](CC)C(...   \n",
       "19190  [H][C@@]12CC=C3C4CC[C@H]([C@H](C)CCC(C)C(C)C)[...   \n",
       "19191  CC1[C@@H]2CCC3=C([C@]2(CC[C@@H]1O)C)CC[C@]4([C...   \n",
       "19192  CC1=C2CCC3C4CCC(C4(CCC3C2(CCC1=O)C)C)C(C)CCCC(C)C   \n",
       "19193  C[C@H](CCC(C)=C(C)C)C1CCC2C3=CCC4[C@H](C)[C@@H...   \n",
       "19194  C[C@]1([C@@H]([C@H]([C@@H]([C@H](O1)CO)O)O)O)O...   \n",
       "19195                                           C(=O)C=O   \n",
       "19196                      C(/C(=C\\C(=O)O)/C(=O)O)C(=O)O   \n",
       "19197                                    c1ccc(cc1)CCC=O   \n",
       "19198  CC1CCC2(C(C3C(O2)CC4C3(CCC5C4CCC6C5(CCC(C6)OC7...   \n",
       "19199                     OCCCCCCCCC(O)C(O)CCCCCCCC(O)=O   \n",
       "19200                CC(C)=CCC\\C(C)=C/CC\\C(C)=C\\CCC(C)=O   \n",
       "19201                     CC1C(C(CC2=C1CC(CC2)C(=C)C)O)O   \n",
       "19202  CC(=CCC/C(=C/C=C/C(=C/C=C/C(=C/C=C/C=C(\\C)/C=C...   \n",
       "19203  CC(C)=CCC\\C(C)=C/CC\\C(C)=C/C=C/C(C)=C/C=C/C=C(...   \n",
       "19204                          OCCCCCCC(O)CCCCCCCCC(O)=O   \n",
       "19205  COC1=CC(=CC(OC)=C1O)C1=[O+]C2=C(C=C1OC1O[C@H](...   \n",
       "19206  COc1cc(cc(c1O)OC)c2c(c3c4c([o+]2)cc(cc4OC(=C3)...   \n",
       "19207  COc1cc(cc(c1O)OC)c2c(c3c4c([o+]2)cc(cc4OC(=C3)...   \n",
       "19208  COc1cc(cc(c1O)OC)c2c(c3c4c([o+]2)cc(cc4OC(=C3)...   \n",
       "19209  NC(CCC(=O)NC(CSC1=CC(\\C=C\\C(=O)OC(C(O)C(O)=O)C...   \n",
       "19210  C1=CC(=CC=C1[C@@H]2[C@H](C3=C(O2)C=CC(=C3)/C=C...   \n",
       "19211                CCCCCCCCCCCCCCCCCCCCCc1cc(cc(c1)O)O   \n",
       "19212                    CCCCCCCCCCCCCCCCCc1cc(cc(c1)O)O   \n",
       "19213                  CCCCCCCCCCCCCCCCCCCc1cc(cc(c1)O)O   \n",
       "19214            CCCCCCCCCCCCCCCCCCCCCCCCCc1cc(cc(c1)O)O   \n",
       "19215              CCCCCCCCCCCCCCCCCCCCCCCc1cc(cc(c1)O)O   \n",
       "\n",
       "                                                   InChI  \\\n",
       "0      InChI=1/C33H44O11/c1-7-15(2)27(39)43-28-29(4)1...   \n",
       "1      InChI=1/C32H42O10/c1-15(2)26(37)41-27-29(5)20-...   \n",
       "2      InChI=1/C15H16O4/c1-15-5-2-3-10(8-16)12(15)7-1...   \n",
       "3      InChI=1/C43H60O20/c1-17-22-12-27(59-20(4)45)42...   \n",
       "4      InChI=1/C36H46O14/c1-15(2)30(43)49-31-32(6)21-...   \n",
       "5      InChI=1/C30H48O5/c1-26(2)22-9-8-20-19(28(22,5)...   \n",
       "6      InChI=1/C23H48O/c1-3-5-7-9-10-11-12-13-14-15-1...   \n",
       "7      InChI=1/C15H24/c1-7-15(6)9-8-13(11(2)3)10-14(1...   \n",
       "8      InChI=1/C38H44O10/c1-21(39)45-29-18-30(46-22(2...   \n",
       "9      InChI=1/C35H60O6/c1-7-22(20(2)3)9-8-21(4)26-12...   \n",
       "10     InChI=1/C35H44O16/c1-8-15(2)24(38)49-18-12-19(...   \n",
       "11     InChI=1/C36H52O3/c1-7-25(23(2)3)14-13-24(4)29-...   \n",
       "12     InChI=1/C10H16/c1-7-4-5-8-6-9(7)10(8,2)3/h4,8-...   \n",
       "13     InChI=1/C10H18O/c1-8(2)9-4-6-10(3,11)7-5-9/h4,...   \n",
       "14     InChI=1/C19H18N2O/c1-11-16-10-21(13(3)22)9-8-1...   \n",
       "15     InChI=1/C19H24N2/c1-2-13-9-12-10-16-18-15(7-8-...   \n",
       "16     InChI=1/C10H18O/c1-8(2)10(11)6-4-9(3)5-7-10/h4...   \n",
       "17     InChI=1/C10H16/c1-7-4-5-8-6-9(7)10(8,2)3/h4,8-...   \n",
       "18     InChI=1/C10H18O/c1-9(2)5-4-6-10(3)7-8-11/h5,7,...   \n",
       "19     InChI=1/C10H16/c1-8(2)10-6-4-9(3)5-7-10/h4H,5-...   \n",
       "20     InChI=1/C15H24/c1-10(2)13-8-6-12(4)14-7-5-11(3...   \n",
       "21     InChI=1/C15H24/c1-9(2)11-7-8-15(4)12-6-5-10(3)...   \n",
       "22     InChI=1/C10H18O/c1-8-4-6-9(7-5-8)10(2,3)11/h4,...   \n",
       "23     InChI=1/C15H24/c1-10(2)13-8-6-12(4)14-7-5-11(3...   \n",
       "24     InChI=1/C15H26O/c1-10(2)12-7-8-15(4,16)14-6-5-...   \n",
       "25     InChI=1/C10H20O/c1-9(2)5-4-6-10(3)7-8-11/h5,10...   \n",
       "26     InChI=1/C15H24/c1-9-6-8-12-14(15(12,3)4)13-10(...   \n",
       "27     InChI=1/C12H22O2/c1-10(2)6-5-7-11(3)8-9-14-12(...   \n",
       "28     InChI=1/C32H40O12/c1-14(33)41-22-11-21(37)31-1...   \n",
       "29     InChI=1/C30H42O4/c1-17(2)9-8-10-18-24-22(34-26...   \n",
       "...                                                  ...   \n",
       "19186  InChI=1/C10H15N5O/c1-7(4-16)2-3-11-9-8-10(13-5...   \n",
       "19187  InChI=1/C16H32O3/c17-15-13-11-9-7-5-3-1-2-4-6-...   \n",
       "19188  InChI=1/C17H20O9/c1-25-12-4-2-9(6-10(12)18)3-5...   \n",
       "19189                                               null   \n",
       "19190                                               null   \n",
       "19191  InChI=1/C28H46O/c1-18(2)8-7-9-19(3)22-12-13-24...   \n",
       "19192  InChI=1/C28H46O/c1-18(2)8-7-9-19(3)22-12-13-24...   \n",
       "19193                                               null   \n",
       "19194  InChI=1/C7H15O9P/c1-7(16-17(12,13)14)6(11)5(10...   \n",
       "19195                      InChI=1/C2H2O2/c3-1-2-4/h1-2H   \n",
       "19196  InChI=1/C6H6O6/c7-4(8)1-3(6(11)12)2-5(9)10/h1H...   \n",
       "19197  InChI=1/C9H10O/c10-8-4-7-9-5-2-1-3-6-9/h1-3,5-...   \n",
       "19198  InChI=1/C50H83NO21/c1-20-7-12-50(51-15-20)21(2...   \n",
       "19199                                               null   \n",
       "19200                                               null   \n",
       "19201  InChI=1/C14H22O2/c1-8(2)10-4-5-11-7-13(15)14(1...   \n",
       "19202  InChI=1/C40H56O/c1-33(2)18-12-21-36(5)24-15-27...   \n",
       "19203                                               null   \n",
       "19204                                               null   \n",
       "19205                                               null   \n",
       "19206  InChI=1/C31H28O13/c1-39-21-7-14(8-22(40-2)25(2...   \n",
       "19207  InChI=1/C31H28O14/c1-40-21-6-13(7-22(41-2)25(2...   \n",
       "19208  InChI=1/C26H24O14/c1-35-14-3-9(4-15(36-2)19(14...   \n",
       "19209                                               null   \n",
       "19210  InChI=1/C28H22O6/c29-20-6-4-18(5-7-20)28-27(19...   \n",
       "19211  InChI=1/C27H48O2/c1-2-3-4-5-6-7-8-9-10-11-12-1...   \n",
       "19212  InChI=1/C23H40O2/c1-2-3-4-5-6-7-8-9-10-11-12-1...   \n",
       "19213  InChI=1/C25H44O2/c1-2-3-4-5-6-7-8-9-10-11-12-1...   \n",
       "19214  InChI=1/C31H56O2/c1-2-3-4-5-6-7-8-9-10-11-12-1...   \n",
       "19215  InChI=1/C29H52O2/c1-2-3-4-5-6-7-8-9-10-11-12-1...   \n",
       "\n",
       "                                                  herbID  \\\n",
       "0                                           [1.0, 168.0]   \n",
       "1                                           [1.0, 168.0]   \n",
       "2                                           [1.0, 168.0]   \n",
       "3                                           [1.0, 168.0]   \n",
       "4                                           [1.0, 168.0]   \n",
       "5                                           [1.0, 168.0]   \n",
       "6                                           [1.0, 168.0]   \n",
       "7                                   [1.0, 168.0, 1909.0]   \n",
       "8                                           [1.0, 168.0]   \n",
       "9      [1.0, 2.0, 17.0, 24.0, 52.0, 54.0, 76.0, 87.0,...   \n",
       "10                                          [1.0, 168.0]   \n",
       "11     [1.0, 31.0, 73.0, 151.0, 168.0, 528.0, 1026.0,...   \n",
       "12     [1.0, 40.0, 54.0, 75.0, 84.0, 93.0, 368.0, 472...   \n",
       "13                                                 [1.0]   \n",
       "14                                                 [1.0]   \n",
       "15                                                 [1.0]   \n",
       "16     [1.0, 3.0, 8.0, 58.0, 73.0, 93.0, 119.0, 127.0...   \n",
       "17     [1.0, 19.0, 31.0, 40.0, 54.0, 58.0, 73.0, 75.0...   \n",
       "18     [1.0, 3.0, 31.0, 58.0, 73.0, 75.0, 127.0, 151....   \n",
       "19     [1.0, 73.0, 75.0, 151.0, 155.0, 174.0, 247.0, ...   \n",
       "20     [1.0, 73.0, 75.0, 78.0, 151.0, 153.0, 155.0, 1...   \n",
       "21     [1.0, 73.0, 75.0, 78.0, 151.0, 155.0, 156.0, 2...   \n",
       "22     [1.0, 3.0, 40.0, 73.0, 75.0, 93.0, 119.0, 127....   \n",
       "23     [1.0, 73.0, 151.0, 153.0, 155.0, 465.0, 576.0,...   \n",
       "24             [1.0, 153.0, 247.0, 645.0, 697.0, 1668.0]   \n",
       "25     [1.0, 58.0, 73.0, 75.0, 151.0, 155.0, 224.0, 2...   \n",
       "26                     [1.0, 73.0, 151.0, 247.0, 5670.0]   \n",
       "27     [1.0, 3.0, 58.0, 75.0, 155.0, 383.0, 611.0, 10...   \n",
       "28                                                 [1.0]   \n",
       "29                                                 [1.0]   \n",
       "...                                                  ...   \n",
       "19186                                           [8630.0]   \n",
       "19187                                           [8630.0]   \n",
       "19188                                           [8630.0]   \n",
       "19189                                           [8630.0]   \n",
       "19190                                           [8630.0]   \n",
       "19191                                           [8630.0]   \n",
       "19192                                           [8630.0]   \n",
       "19193                                           [8630.0]   \n",
       "19194                                           [8630.0]   \n",
       "19195                                           [8630.0]   \n",
       "19196                                           [8630.0]   \n",
       "19197                                           [8630.0]   \n",
       "19198                                           [8630.0]   \n",
       "19199                                           [8630.0]   \n",
       "19200                                           [8630.0]   \n",
       "19201                                           [8630.0]   \n",
       "19202                                           [8630.0]   \n",
       "19203                                           [8630.0]   \n",
       "19204                                           [8630.0]   \n",
       "19205                                           [8634.0]   \n",
       "19206                                           [8634.0]   \n",
       "19207                                           [8634.0]   \n",
       "19208                                           [8634.0]   \n",
       "19209                                           [8634.0]   \n",
       "19210                                           [8634.0]   \n",
       "19211                                           [8642.0]   \n",
       "19212                                           [8642.0]   \n",
       "19213                                           [8642.0]   \n",
       "19214                                           [8642.0]   \n",
       "19215                                           [8642.0]   \n",
       "\n",
       "                                                    name  \n",
       "0                ['Melia azedarach', 'Melia azed-arach']  \n",
       "1                ['Melia azedarach', 'Melia azed-arach']  \n",
       "2                ['Melia azedarach', 'Melia azed-arach']  \n",
       "3                ['Melia azedarach', 'Melia azed-arach']  \n",
       "4                ['Melia azedarach', 'Melia azed-arach']  \n",
       "5                ['Melia azedarach', 'Melia azed-arach']  \n",
       "6                ['Melia azedarach', 'Melia azed-arach']  \n",
       "7      ['Melia azedarach', 'Melia azed-arach', 'Artem...  \n",
       "8                ['Melia azedarach', 'Melia azed-arach']  \n",
       "9      ['Melia azedarach', 'Ailanthus altissima', 'Ar...  \n",
       "10               ['Melia azedarach', 'Melia azed-arach']  \n",
       "11     ['Melia azedarach', 'Morus alba', 'Cannabis sa...  \n",
       "12     ['Melia azedarach', 'Asarum sieboldii', 'Cinna...  \n",
       "13                                   ['Melia azedarach']  \n",
       "14                                   ['Melia azedarach']  \n",
       "15                                   ['Melia azedarach']  \n",
       "16     ['Melia azedarach', 'Paeonia lactiflora', 'Scu...  \n",
       "17     ['Melia azedarach', 'Curcuma zedoaria', 'Morus...  \n",
       "18     ['Melia azedarach', 'Paeonia lactiflora', 'Mor...  \n",
       "19     ['Melia azedarach', 'Cannabis sativa', 'Myrist...  \n",
       "20     ['Melia azedarach', 'Cannabis sativa', 'Myrist...  \n",
       "21     ['Melia azedarach', 'Cannabis sativa', 'Myrist...  \n",
       "22     ['Melia azedarach', 'Paeonia lactiflora', 'Asa...  \n",
       "23     ['Melia azedarach', 'Cannabis sativa', 'Equus ...  \n",
       "24     ['Melia azedarach', 'Marinobacter hydrocarbono...  \n",
       "25     ['Melia azedarach', 'Alpinia katsumadai', 'Can...  \n",
       "26     ['Melia azedarach', 'Cannabis sativa', 'Equus ...  \n",
       "27     ['Melia azedarach', 'Paeonia lactiflora', 'Alp...  \n",
       "28                                   ['Melia azedarach']  \n",
       "29                                   ['Melia azedarach']  \n",
       "...                                                  ...  \n",
       "19186                              ['Prunus virginiana']  \n",
       "19187                              ['Prunus virginiana']  \n",
       "19188                              ['Prunus virginiana']  \n",
       "19189                              ['Prunus virginiana']  \n",
       "19190                              ['Prunus virginiana']  \n",
       "19191                              ['Prunus virginiana']  \n",
       "19192                              ['Prunus virginiana']  \n",
       "19193                              ['Prunus virginiana']  \n",
       "19194                              ['Prunus virginiana']  \n",
       "19195                              ['Prunus virginiana']  \n",
       "19196                              ['Prunus virginiana']  \n",
       "19197                              ['Prunus virginiana']  \n",
       "19198                              ['Prunus virginiana']  \n",
       "19199                              ['Prunus virginiana']  \n",
       "19200                              ['Prunus virginiana']  \n",
       "19201                              ['Prunus virginiana']  \n",
       "19202                              ['Prunus virginiana']  \n",
       "19203                              ['Prunus virginiana']  \n",
       "19204                              ['Prunus virginiana']  \n",
       "19205                             ['Aronia melanocarpa']  \n",
       "19206                             ['Aronia melanocarpa']  \n",
       "19207                             ['Aronia melanocarpa']  \n",
       "19208                             ['Aronia melanocarpa']  \n",
       "19209                             ['Aronia melanocarpa']  \n",
       "19210                             ['Aronia melanocarpa']  \n",
       "19211                            ['Coryphaena hippurus']  \n",
       "19212                            ['Coryphaena hippurus']  \n",
       "19213                            ['Coryphaena hippurus']  \n",
       "19214                            ['Coryphaena hippurus']  \n",
       "19215                            ['Coryphaena hippurus']  \n",
       "\n",
       "[19216 rows x 6 columns]"
      ]
     },
     "execution_count": 5,
     "metadata": {},
     "output_type": "execute_result"
    }
   ],
   "source": [
    "hc"
   ]
  },
  {
   "cell_type": "code",
   "execution_count": 9,
   "metadata": {
    "collapsed": false
   },
   "outputs": [],
   "source": [
    "gold_smiles = drugbank[drugbank.DrugBank_ID.isin(gold_dr)]"
   ]
  },
  {
   "cell_type": "code",
   "execution_count": 12,
   "metadata": {
    "collapsed": false
   },
   "outputs": [],
   "source": [
    "hc_smiles = hc[hc.compID.isin(hc_dr_se_sim.index)]"
   ]
  },
  {
   "cell_type": "code",
   "execution_count": 13,
   "metadata": {
    "collapsed": false
   },
   "outputs": [
    {
     "name": "stdout",
     "output_type": "stream",
     "text": [
      "99\n"
     ]
    }
   ],
   "source": [
    "hc_smiles = hc_smiles[[\"compID\", \"smiles\"]]\n",
    "print len(hc_smiles)"
   ]
  },
  {
   "cell_type": "code",
   "execution_count": 14,
   "metadata": {
    "collapsed": false
   },
   "outputs": [
    {
     "data": {
      "text/plain": [
       "Int64Index([40553], dtype='int64')"
      ]
     },
     "execution_count": 14,
     "metadata": {},
     "output_type": "execute_result"
    }
   ],
   "source": [
    "# 원래 101개인데 정보가 없는 2개 확인\n",
    "hc_dr_se_sim.index[~hc_dr_se_sim.index.isin(hc_smiles.compID)] #: 이중 88531은 smiles를 찾을 수가 없다."
   ]
  },
  {
   "cell_type": "code",
   "execution_count": 15,
   "metadata": {
    "collapsed": false
   },
   "outputs": [],
   "source": [
    "# 40553은 drugbank에서 compound 이름으로 먼저 검색하고, 나온 smiles로 chemspider에 검색해서 chemspider smiles를 얻었음.\n",
    "hc_smiles = hc_smiles.append(pd.DataFrame(data= [[40553, \"COc1c2c(ccc(=O)o2)cc3c1occ3\"]], columns=[\"compID\", 'smiles']))"
   ]
  },
  {
   "cell_type": "code",
   "execution_count": 27,
   "metadata": {
    "collapsed": false
   },
   "outputs": [
    {
     "data": {
      "text/html": [
       "<div>\n",
       "<table border=\"1\" class=\"dataframe\">\n",
       "  <thead>\n",
       "    <tr style=\"text-align: right;\">\n",
       "      <th></th>\n",
       "      <th>compID</th>\n",
       "      <th>smiles</th>\n",
       "    </tr>\n",
       "  </thead>\n",
       "  <tbody>\n",
       "    <tr>\n",
       "      <th>4192</th>\n",
       "      <td>80164</td>\n",
       "      <td>[N]</td>\n",
       "    </tr>\n",
       "  </tbody>\n",
       "</table>\n",
       "</div>"
      ],
      "text/plain": [
       "      compID smiles\n",
       "4192   80164    [N]"
      ]
     },
     "execution_count": 27,
     "metadata": {},
     "output_type": "execute_result"
    }
   ],
   "source": [
    "hc_smiles[hc_smiles.compID == 80164]"
   ]
  },
  {
   "cell_type": "code",
   "execution_count": 41,
   "metadata": {
    "collapsed": false,
    "scrolled": true
   },
   "outputs": [],
   "source": [
    "import pybel\n",
    "df_sim = pd.DataFrame(columns= gold_dr.tolist(), index = hc_smiles.compID.tolist())\n",
    "df_sim.fillna(0.0, inplace=True)\n",
    "for i in gold_dr.tolist():\n",
    "    smi1 = gold_smiles[gold_smiles.DrugBank_ID == i]['SMILES'].tolist()[0]\n",
    "    for j in hc_smiles.compID.tolist():\n",
    "        smi2 = hc_smiles[hc_smiles.compID == j]['smiles'].tolist()[0]\n",
    "        \n",
    "        smiles = [smi1, smi2]\n",
    "        mol = [pybel.readstring('smi',x) for x in smiles]\n",
    "        fps = [x.calcfp(fptype='FP2') for x in mol]\n",
    "        sim = fps[0] | fps[1]\n",
    "        \n",
    "        df_sim.set_value(j, i, sim)"
   ]
  },
  {
   "cell_type": "code",
   "execution_count": 43,
   "metadata": {
    "collapsed": false
   },
   "outputs": [],
   "source": [
    "val_smiles = hc[hc.compID.isin(df_jac.index.tolist())]\n",
    "val_smiles = val_smiles[['compID', 'smiles']]\n",
    "val_smiles = val_smiles.append(pd.DataFrame(data= [[40553, \"COc1c2c(ccc(=O)o2)cc3c1occ3\"]], columns=[\"compID\", 'smiles']))"
   ]
  },
  {
   "cell_type": "code",
   "execution_count": 44,
   "metadata": {
    "collapsed": false
   },
   "outputs": [],
   "source": [
    "df_sim2 = pd.DataFrame(columns= gold_dr.tolist(), index = df_jac.index.tolist())\n",
    "df_sim2.fillna(0.0, inplace=True)\n",
    "for i in gold_dr.tolist():\n",
    "    smi1 = gold_smiles[gold_smiles.DrugBank_ID == i]['SMILES'].tolist()[0]\n",
    "    for j in df_jac.index.tolist():\n",
    "        smi2 = val_smiles[val_smiles.compID == j]['smiles'].tolist()[0]\n",
    "        \n",
    "        smiles = [smi1, smi2]\n",
    "        mol = [pybel.readstring('smi',x) for x in smiles]\n",
    "        fps = [x.calcfp(fptype='FP2') for x in mol]\n",
    "        sim = fps[0] | fps[1]\n",
    "        \n",
    "        df_sim2.set_value(j, i, sim)"
   ]
  },
  {
   "cell_type": "code",
   "execution_count": 50,
   "metadata": {
    "collapsed": false
   },
   "outputs": [],
   "source": [
    "df_sim.to_csv(\"/DAS_Storage1/aschoi/data/Drug_Repositioning/5_new_drug/new_predict/4_2_2_herbal_comp_gold_drug_str_sim_mat_predict.tsv\", sep='\\t')\n",
    "df_sim2.to_csv(\"/DAS_Storage1/aschoi/data/Drug_Repositioning/5_new_drug/new_predict/4_1_2_herbal_comp_gold_drug_str_sim_mat_validation.tsv\", sep='\\t')"
   ]
  }
 ],
 "metadata": {
  "kernelspec": {
   "display_name": "Python 2",
   "language": "python",
   "name": "python2"
  },
  "language_info": {
   "codemirror_mode": {
    "name": "ipython",
    "version": 2
   },
   "file_extension": ".py",
   "mimetype": "text/x-python",
   "name": "python",
   "nbconvert_exporter": "python",
   "pygments_lexer": "ipython2",
   "version": "2.7.6"
  }
 },
 "nbformat": 4,
 "nbformat_minor": 0
}
