{
 "cells": [
  {
   "cell_type": "code",
   "execution_count": 1,
   "metadata": {
    "collapsed": true
   },
   "outputs": [],
   "source": [
    "import MySQLdb\n",
    "import pandas as pd\n",
    "import numpy as np\n",
    "from datetime import datetime"
   ]
  },
  {
   "cell_type": "code",
   "execution_count": 2,
   "metadata": {
    "collapsed": true
   },
   "outputs": [],
   "source": [
    "hc_se = pd.read_table(\"/DAS_Storage1/aschoi/data/Drug_Repositioning/5_new_drug/new_predict/4_2_1_herbal_comp_gold_drug_se_sim_mat_predict.tsv\", index_col=0)\n",
    "hc_str = pd.read_table(\"/DAS_Storage1/aschoi/data/Drug_Repositioning/5_new_drug/new_predict/4_2_1_herbal_comp_gold_drug_se_sim_mat_predict.tsv\", index_col=0)"
   ]
  },
  {
   "cell_type": "code",
   "execution_count": 3,
   "metadata": {
    "collapsed": false
   },
   "outputs": [
    {
     "name": "stdout",
     "output_type": "stream",
     "text": [
      "100\n"
     ]
    }
   ],
   "source": [
    "hc_ids = hc_se.index.tolist()\n",
    "print len(hc_ids)"
   ]
  },
  {
   "cell_type": "code",
   "execution_count": 4,
   "metadata": {
    "collapsed": true
   },
   "outputs": [],
   "source": [
    "#접속하기\n",
    "db_handle = MySQLdb.connect('localhost', 'root','comsysbio', 'COCONUTv5')\n",
    "#cur = db_handle.cursor(MySQLdb.cursors.DictCursor) # query를 통해 데이터를 얻을 때 python의 dict로 얻기 위한 방법\n",
    "cursor = db_handle.cursor()"
   ]
  },
  {
   "cell_type": "code",
   "execution_count": 5,
   "metadata": {
    "collapsed": false
   },
   "outputs": [
    {
     "data": {
      "text/plain": [
       "'(5525, 1020, 732, 9210, 926, 4020, 86025, 70460, 82835, 79944, 79942, 79938, 79941, 1530, 1531, 79939, 153, 8019, 4286, 70319, 8885, 3761, 119, 139, 70410, 70661, 4521, 1878, 622, 543, 9471, 9926, 85183, 3005, 10195, 7874, 59654, 50263, 80081, 80082, 80097, 80164, 2969, 76198, 58454, 61885, 8739, 562, 77956, 614, 40553, 773, 65817, 71038, 70458, 5529, 1166, 71664, 8024, 837, 416, 79982, 7475, 83229, 89181, 760, 10086, 31743, 2682, 823, 79684, 845, 752, 70473, 7859, 78876, 1001, 666, 1574, 58258, 7996, 1167, 71205, 43066, 9670, 141, 243, 1331, 53060, 70973, 8012, 61516, 70924, 77084, 7638, 70692, 71009, 85310, 1343, 1529)'"
      ]
     },
     "execution_count": 5,
     "metadata": {},
     "output_type": "execute_result"
    }
   ],
   "source": [
    "\"{}\".format(tuple(hc_ids))"
   ]
  },
  {
   "cell_type": "code",
   "execution_count": 6,
   "metadata": {
    "collapsed": true
   },
   "outputs": [],
   "source": [
    "# herbal compound와 관련있는 gene id 뽑기\n",
    "query1 = \"SELECT compID, geneID, reference FROM Compound_Gene where compID in {} and (organism=\\\"human\\\" or organism=\\\"homo sapiens\\\")\".format(tuple(hc_ids))\n",
    "cursor.execute(query1); #쿼리 날리는 거\n",
    "results = cursor.fetchall() # cursor.fetchone()은 tuple, cursor.fetchall()은 list of tuples을 리턴한다."
   ]
  },
  {
   "cell_type": "code",
   "execution_count": 7,
   "metadata": {
    "collapsed": false
   },
   "outputs": [],
   "source": [
    "np_results = np.array(results)"
   ]
  },
  {
   "cell_type": "code",
   "execution_count": 8,
   "metadata": {
    "collapsed": false
   },
   "outputs": [],
   "source": [
    "df_results = pd.DataFrame({'compID' : np_results[:, 0], 'geneID' : np_results[:, 1], 'reference' : np_results[:, 2]})"
   ]
  },
  {
   "cell_type": "code",
   "execution_count": 9,
   "metadata": {
    "collapsed": false
   },
   "outputs": [
    {
     "name": "stdout",
     "output_type": "stream",
     "text": [
      "35808\n",
      "66 8342\n",
      "18525\n"
     ]
    },
    {
     "data": {
      "text/html": [
       "<div>\n",
       "<table border=\"1\" class=\"dataframe\">\n",
       "  <thead>\n",
       "    <tr style=\"text-align: right;\">\n",
       "      <th></th>\n",
       "      <th>compID</th>\n",
       "      <th>geneID</th>\n",
       "    </tr>\n",
       "  </thead>\n",
       "  <tbody>\n",
       "    <tr>\n",
       "      <th>0</th>\n",
       "      <td>119</td>\n",
       "      <td>283</td>\n",
       "    </tr>\n",
       "  </tbody>\n",
       "</table>\n",
       "</div>"
      ],
      "text/plain": [
       "  compID geneID\n",
       "0    119    283"
      ]
     },
     "execution_count": 9,
     "metadata": {},
     "output_type": "execute_result"
    }
   ],
   "source": [
    "print len(df_results)\n",
    "print len(df_results.drop_duplicates('compID')), len(df_results.drop_duplicates('geneID'))\n",
    "df_results = df_results[['compID', 'geneID']].drop_duplicates()\n",
    "print len(df_results)\n",
    "df_results.head(1)"
   ]
  },
  {
   "cell_type": "code",
   "execution_count": 10,
   "metadata": {
    "collapsed": false
   },
   "outputs": [
    {
     "data": {
      "text/plain": [
       "Int64Index([70460, 82835, 79944, 79941, 70319,  8885, 70410, 70661, 85183,\n",
       "            59654, 50263, 80081, 76198, 58454, 61885, 40553, 65817, 71038,\n",
       "            70458, 71664, 89181, 31743, 79684, 70473, 71205, 53060, 70973,\n",
       "            61516, 70924, 77084,  7638, 70692, 71009, 85310],\n",
       "           dtype='int64')"
      ]
     },
     "execution_count": 10,
     "metadata": {},
     "output_type": "execute_result"
    }
   ],
   "source": [
    "# gene 정보가 없는 compound들\n",
    "a = [int(x) for x in df_results['compID'].drop_duplicates().tolist()]\n",
    "hc_se.index[~hc_se.index.isin(a)]"
   ]
  },
  {
   "cell_type": "code",
   "execution_count": 11,
   "metadata": {
    "collapsed": true
   },
   "outputs": [],
   "source": [
    "hc_ids2 = hc_se.index[hc_se.index.isin(a)].tolist()"
   ]
  },
  {
   "cell_type": "code",
   "execution_count": 12,
   "metadata": {
    "collapsed": true
   },
   "outputs": [],
   "source": [
    "# geneId에 해당하는 entrezID와 uniprotID 뽑기\n",
    "gene_ids = [int(x) for x in df_results.geneID.drop_duplicates().tolist()]\n",
    "query2 = \"SELECT geneID, entrezID, uniprotID FROM Gene where geneID in {}\".format(tuple(gene_ids))\n",
    "cursor.execute(query2); #쿼리 날리는 거\n",
    "results2 = cursor.fetchall() # cursor.fetchone()은 tuple, cursor.fetchall()은 list of tuples을 리턴한다."
   ]
  },
  {
   "cell_type": "code",
   "execution_count": 13,
   "metadata": {
    "collapsed": false
   },
   "outputs": [],
   "source": [
    "np_results2 = np.array(results2)\n",
    "df_results2 = pd.DataFrame({'geneID' : np_results2[:,0], 'entrezID' : np_results2[:,1], 'uniprotID':np_results2[:,2]})"
   ]
  },
  {
   "cell_type": "code",
   "execution_count": 14,
   "metadata": {
    "collapsed": false
   },
   "outputs": [
    {
     "name": "stdout",
     "output_type": "stream",
     "text": [
      "8342\n",
      "8325 8342\n",
      "8342\n"
     ]
    },
    {
     "data": {
      "text/html": [
       "<div>\n",
       "<table border=\"1\" class=\"dataframe\">\n",
       "  <thead>\n",
       "    <tr style=\"text-align: right;\">\n",
       "      <th></th>\n",
       "      <th>entrezID</th>\n",
       "      <th>geneID</th>\n",
       "      <th>uniprotID</th>\n",
       "    </tr>\n",
       "  </thead>\n",
       "  <tbody>\n",
       "    <tr>\n",
       "      <th>0</th>\n",
       "      <td>2147</td>\n",
       "      <td>1</td>\n",
       "      <td>P00734 / A0N064|A8IM47|C8BKD1|E7FAN5|G1NEM6|G1...</td>\n",
       "    </tr>\n",
       "  </tbody>\n",
       "</table>\n",
       "</div>"
      ],
      "text/plain": [
       "  entrezID geneID                                          uniprotID\n",
       "0     2147      1  P00734 / A0N064|A8IM47|C8BKD1|E7FAN5|G1NEM6|G1..."
      ]
     },
     "execution_count": 14,
     "metadata": {},
     "output_type": "execute_result"
    }
   ],
   "source": [
    "print len(df_results2)\n",
    "print len(df_results2.drop_duplicates('entrezID')), len(df_results2.drop_duplicates('geneID')) # entrez는 null 인것이 사라짐\n",
    "print len(df_results2)\n",
    "df_results2.head(1)"
   ]
  },
  {
   "cell_type": "code",
   "execution_count": 15,
   "metadata": {
    "collapsed": true
   },
   "outputs": [],
   "source": [
    "# uniprot ID를 row당 하나 오게 바꾸기\n",
    "aa = df_results2['uniprotID'].str.split('/').apply(pd.Series, 1).stack()\n",
    "aa.index = aa.index.droplevel(-1)\n",
    "aa.name = 'uniprotID'\n",
    "temp = df_results2.copy()\n",
    "del temp['uniprotID']\n",
    "bb = temp.join(aa)\n",
    "cc = bb['uniprotID'].str.split('|').apply(pd.Series, 1).stack()\n",
    "cc.index = cc.index.droplevel(-1)\n",
    "cc.name = 'uniprotID'\n",
    "temp = bb.copy()\n",
    "del temp['uniprotID']\n",
    "dd = temp.join(cc)"
   ]
  },
  {
   "cell_type": "code",
   "execution_count": 16,
   "metadata": {
    "collapsed": false
   },
   "outputs": [],
   "source": [
    "df_results3 = dd.drop_duplicates()"
   ]
  },
  {
   "cell_type": "code",
   "execution_count": 17,
   "metadata": {
    "collapsed": true
   },
   "outputs": [],
   "source": [
    "df_results4 = df_results3[df_results3.uniprotID != \"null\"]"
   ]
  },
  {
   "cell_type": "code",
   "execution_count": 18,
   "metadata": {
    "collapsed": false
   },
   "outputs": [
    {
     "data": {
      "text/html": [
       "<div>\n",
       "<table border=\"1\" class=\"dataframe\">\n",
       "  <thead>\n",
       "    <tr style=\"text-align: right;\">\n",
       "      <th></th>\n",
       "      <th>entrezID</th>\n",
       "      <th>geneID</th>\n",
       "      <th>uniprotID</th>\n",
       "    </tr>\n",
       "  </thead>\n",
       "  <tbody>\n",
       "    <tr>\n",
       "      <th>0</th>\n",
       "      <td>2147</td>\n",
       "      <td>1</td>\n",
       "      <td>P00734</td>\n",
       "    </tr>\n",
       "  </tbody>\n",
       "</table>\n",
       "</div>"
      ],
      "text/plain": [
       "  entrezID geneID uniprotID\n",
       "0     2147      1   P00734 "
      ]
     },
     "execution_count": 18,
     "metadata": {},
     "output_type": "execute_result"
    }
   ],
   "source": [
    "df_results4.head(1)"
   ]
  },
  {
   "cell_type": "code",
   "execution_count": 19,
   "metadata": {
    "collapsed": false
   },
   "outputs": [
    {
     "data": {
      "text/html": [
       "<div>\n",
       "<table border=\"1\" class=\"dataframe\">\n",
       "  <thead>\n",
       "    <tr style=\"text-align: right;\">\n",
       "      <th></th>\n",
       "      <th>compID</th>\n",
       "      <th>geneID</th>\n",
       "    </tr>\n",
       "  </thead>\n",
       "  <tbody>\n",
       "    <tr>\n",
       "      <th>0</th>\n",
       "      <td>119</td>\n",
       "      <td>283</td>\n",
       "    </tr>\n",
       "  </tbody>\n",
       "</table>\n",
       "</div>"
      ],
      "text/plain": [
       "  compID geneID\n",
       "0    119    283"
      ]
     },
     "execution_count": 19,
     "metadata": {},
     "output_type": "execute_result"
    }
   ],
   "source": [
    "df_results.head(1)"
   ]
  },
  {
   "cell_type": "code",
   "execution_count": 20,
   "metadata": {
    "collapsed": false
   },
   "outputs": [
    {
     "data": {
      "text/html": [
       "<div>\n",
       "<table border=\"1\" class=\"dataframe\">\n",
       "  <thead>\n",
       "    <tr style=\"text-align: right;\">\n",
       "      <th></th>\n",
       "      <th>entrezID</th>\n",
       "      <th>geneID</th>\n",
       "      <th>uniprotID</th>\n",
       "    </tr>\n",
       "  </thead>\n",
       "  <tbody>\n",
       "    <tr>\n",
       "      <th>0</th>\n",
       "      <td>2147</td>\n",
       "      <td>1</td>\n",
       "      <td>P00734</td>\n",
       "    </tr>\n",
       "  </tbody>\n",
       "</table>\n",
       "</div>"
      ],
      "text/plain": [
       "  entrezID geneID uniprotID\n",
       "0     2147      1   P00734 "
      ]
     },
     "execution_count": 20,
     "metadata": {},
     "output_type": "execute_result"
    }
   ],
   "source": [
    "df_results4.head(1)"
   ]
  },
  {
   "cell_type": "code",
   "execution_count": 21,
   "metadata": {
    "collapsed": true
   },
   "outputs": [],
   "source": [
    "merged = pd.merge(left = df_results, right = df_results4, how='inner')"
   ]
  },
  {
   "cell_type": "code",
   "execution_count": 22,
   "metadata": {
    "collapsed": false
   },
   "outputs": [
    {
     "name": "stdout",
     "output_type": "stream",
     "text": [
      "18525 248617\n",
      "633301 633301\n",
      "66 8255 248346\n"
     ]
    },
    {
     "data": {
      "text/html": [
       "<div>\n",
       "<table border=\"1\" class=\"dataframe\">\n",
       "  <thead>\n",
       "    <tr style=\"text-align: right;\">\n",
       "      <th></th>\n",
       "      <th>compID</th>\n",
       "      <th>geneID</th>\n",
       "      <th>entrezID</th>\n",
       "      <th>uniprotID</th>\n",
       "    </tr>\n",
       "  </thead>\n",
       "  <tbody>\n",
       "    <tr>\n",
       "      <th>0</th>\n",
       "      <td>119</td>\n",
       "      <td>283</td>\n",
       "      <td>4846</td>\n",
       "      <td>P29474</td>\n",
       "    </tr>\n",
       "  </tbody>\n",
       "</table>\n",
       "</div>"
      ],
      "text/plain": [
       "  compID geneID entrezID uniprotID\n",
       "0    119    283     4846   P29474 "
      ]
     },
     "execution_count": 22,
     "metadata": {},
     "output_type": "execute_result"
    }
   ],
   "source": [
    "print len(df_results), len(df_results4)\n",
    "print len(merged), len(merged.drop_duplicates())\n",
    "print len(merged.drop_duplicates('compID')), len(merged.drop_duplicates('entrezID')), len(merged.drop_duplicates('uniprotID'))\n",
    "merged.head(1)"
   ]
  },
  {
   "cell_type": "code",
   "execution_count": 40,
   "metadata": {
    "collapsed": false
   },
   "outputs": [],
   "source": [
    "# herbal compounds의 gene id를 uniprot에서 입력으로 넣어서 가져온 protein 정보\n",
    "hc_seq_raw = pd.read_table(\"/home/share/aschoi/nas/users/asolchoi/data/Drug_Repositioning/5_new_drug/new_predict/hc_seq_raw.tab\")"
   ]
  },
  {
   "cell_type": "code",
   "execution_count": 41,
   "metadata": {
    "collapsed": false
   },
   "outputs": [
    {
     "data": {
      "text/html": [
       "<div>\n",
       "<table border=\"1\" class=\"dataframe\">\n",
       "  <thead>\n",
       "    <tr style=\"text-align: right;\">\n",
       "      <th></th>\n",
       "      <th>Entry</th>\n",
       "      <th>Entry name</th>\n",
       "      <th>Sequence</th>\n",
       "      <th>Length</th>\n",
       "      <th>Organism ID</th>\n",
       "    </tr>\n",
       "  </thead>\n",
       "  <tbody>\n",
       "    <tr>\n",
       "      <th>0</th>\n",
       "      <td>A0A0A0MTA6</td>\n",
       "      <td>A0A0A0MTA6_HUMAN</td>\n",
       "      <td>MGNLKSVAQEPGPPCGLGLGLGLGLCGKQGPATPAPEPSRAPASLL...</td>\n",
       "      <td>614</td>\n",
       "      <td>9606</td>\n",
       "    </tr>\n",
       "  </tbody>\n",
       "</table>\n",
       "</div>"
      ],
      "text/plain": [
       "        Entry        Entry name  \\\n",
       "0  A0A0A0MTA6  A0A0A0MTA6_HUMAN   \n",
       "\n",
       "                                            Sequence  Length  Organism ID  \n",
       "0  MGNLKSVAQEPGPPCGLGLGLGLGLCGKQGPATPAPEPSRAPASLL...     614         9606  "
      ]
     },
     "execution_count": 41,
     "metadata": {},
     "output_type": "execute_result"
    }
   ],
   "source": [
    "hc_seq_raw.head(1)"
   ]
  },
  {
   "cell_type": "code",
   "execution_count": 42,
   "metadata": {
    "collapsed": false
   },
   "outputs": [],
   "source": [
    "hc_seq = pd.merge(left = merged, right=hc_seq_raw, left_on = 'uniprotID', right_on='Entry', how='inner')"
   ]
  },
  {
   "cell_type": "code",
   "execution_count": 43,
   "metadata": {
    "collapsed": false,
    "scrolled": true
   },
   "outputs": [
    {
     "name": "stdout",
     "output_type": "stream",
     "text": [
      "26400\n"
     ]
    },
    {
     "data": {
      "text/html": [
       "<div>\n",
       "<table border=\"1\" class=\"dataframe\">\n",
       "  <thead>\n",
       "    <tr style=\"text-align: right;\">\n",
       "      <th></th>\n",
       "      <th>compID</th>\n",
       "      <th>geneID</th>\n",
       "      <th>entrezID</th>\n",
       "      <th>uniprotID</th>\n",
       "      <th>Entry</th>\n",
       "      <th>Entry name</th>\n",
       "      <th>Sequence</th>\n",
       "      <th>Length</th>\n",
       "      <th>Organism ID</th>\n",
       "    </tr>\n",
       "  </thead>\n",
       "  <tbody>\n",
       "    <tr>\n",
       "      <th>0</th>\n",
       "      <td>119</td>\n",
       "      <td>283</td>\n",
       "      <td>4846</td>\n",
       "      <td>E7ESA7</td>\n",
       "      <td>E7ESA7</td>\n",
       "      <td>E7ESA7_HUMAN</td>\n",
       "      <td>MFTYICNHIKYATNRGNLRSAITVFPQRCPGRGDFRIWNSQLVRYA...</td>\n",
       "      <td>997</td>\n",
       "      <td>9606</td>\n",
       "    </tr>\n",
       "  </tbody>\n",
       "</table>\n",
       "</div>"
      ],
      "text/plain": [
       "  compID geneID entrezID uniprotID   Entry    Entry name  \\\n",
       "0    119    283     4846    E7ESA7  E7ESA7  E7ESA7_HUMAN   \n",
       "\n",
       "                                            Sequence  Length  Organism ID  \n",
       "0  MFTYICNHIKYATNRGNLRSAITVFPQRCPGRGDFRIWNSQLVRYA...     997         9606  "
      ]
     },
     "execution_count": 43,
     "metadata": {},
     "output_type": "execute_result"
    }
   ],
   "source": [
    "print len(hc_seq)\n",
    "hc_seq.head(1)"
   ]
  },
  {
   "cell_type": "code",
   "execution_count": 44,
   "metadata": {
    "collapsed": true
   },
   "outputs": [],
   "source": [
    "sub = hc_seq[['entrezID', 'uniprotID', 'Sequence']].drop_duplicates()"
   ]
  },
  {
   "cell_type": "code",
   "execution_count": null,
   "metadata": {
    "collapsed": true
   },
   "outputs": [],
   "source": [
    "sub.sort_values(by=['entrezID', 'Sequence']).to_csv(\"/home/share/aschoi/nas/users/asolchoi/data/Drug_Repositioning/entrez_uniprot.tsv\", sep='\\t')"
   ]
  },
  {
   "cell_type": "code",
   "execution_count": 45,
   "metadata": {
    "collapsed": true
   },
   "outputs": [],
   "source": [
    "sub = sub.sort_values(by=['entrezID', 'Sequence'])"
   ]
  },
  {
   "cell_type": "code",
   "execution_count": 75,
   "metadata": {
    "collapsed": false
   },
   "outputs": [],
   "source": [
    "ori_sub = pd.read_table(\"/home/share/aschoi/nas/users/asolchoi/data/Drug_Repositioning/entrez_uniprot.tsv\", index_col=0)"
   ]
  },
  {
   "cell_type": "code",
   "execution_count": 46,
   "metadata": {
    "collapsed": false
   },
   "outputs": [],
   "source": [
    "id_len = [len(x) for x in sub.uniprotID]"
   ]
  },
  {
   "cell_type": "code",
   "execution_count": 47,
   "metadata": {
    "collapsed": false
   },
   "outputs": [],
   "source": [
    "sub['id_length'] = id_len"
   ]
  },
  {
   "cell_type": "code",
   "execution_count": 48,
   "metadata": {
    "collapsed": false
   },
   "outputs": [
    {
     "data": {
      "text/html": [
       "<div>\n",
       "<table border=\"1\" class=\"dataframe\">\n",
       "  <thead>\n",
       "    <tr style=\"text-align: right;\">\n",
       "      <th></th>\n",
       "      <th>entrezID</th>\n",
       "      <th>uniprotID</th>\n",
       "      <th>Sequence</th>\n",
       "      <th>id_length</th>\n",
       "    </tr>\n",
       "  </thead>\n",
       "  <tbody>\n",
       "    <tr>\n",
       "      <th>1464</th>\n",
       "      <td>10</td>\n",
       "      <td>P11245</td>\n",
       "      <td>MDIEAYFERIGYKNSRNKLDLETLTDILEHQIRAVPFENLNMHCGQ...</td>\n",
       "      <td>6</td>\n",
       "    </tr>\n",
       "    <tr>\n",
       "      <th>14488</th>\n",
       "      <td>100</td>\n",
       "      <td>F5GWI4</td>\n",
       "      <td>MAQTPAFDKPKVELHVHLDGSIKPETILYYGRRRGIALPANTAEGL...</td>\n",
       "      <td>6</td>\n",
       "    </tr>\n",
       "    <tr>\n",
       "      <th>14493</th>\n",
       "      <td>100</td>\n",
       "      <td>P00813</td>\n",
       "      <td>MAQTPAFDKPKVELHVHLDGSIKPETILYYGRRRGIALPANTAEGL...</td>\n",
       "      <td>6</td>\n",
       "    </tr>\n",
       "    <tr>\n",
       "      <th>17881</th>\n",
       "      <td>1000</td>\n",
       "      <td>P19022</td>\n",
       "      <td>MCRIAGALRTLLPLLAALLQASVEASGEIALCKTGFPEDVYSAVLS...</td>\n",
       "      <td>6</td>\n",
       "    </tr>\n",
       "    <tr>\n",
       "      <th>16346</th>\n",
       "      <td>10003</td>\n",
       "      <td>Q9Y3Q0</td>\n",
       "      <td>MAESRGRLYLWMCLAAALASFLMGFMVGWFIKPLKETTTSVRYHQS...</td>\n",
       "      <td>6</td>\n",
       "    </tr>\n",
       "  </tbody>\n",
       "</table>\n",
       "</div>"
      ],
      "text/plain": [
       "      entrezID uniprotID                                           Sequence  \\\n",
       "1464        10    P11245  MDIEAYFERIGYKNSRNKLDLETLTDILEHQIRAVPFENLNMHCGQ...   \n",
       "14488      100    F5GWI4  MAQTPAFDKPKVELHVHLDGSIKPETILYYGRRRGIALPANTAEGL...   \n",
       "14493      100    P00813  MAQTPAFDKPKVELHVHLDGSIKPETILYYGRRRGIALPANTAEGL...   \n",
       "17881     1000    P19022  MCRIAGALRTLLPLLAALLQASVEASGEIALCKTGFPEDVYSAVLS...   \n",
       "16346    10003    Q9Y3Q0  MAESRGRLYLWMCLAAALASFLMGFMVGWFIKPLKETTTSVRYHQS...   \n",
       "\n",
       "       id_length  \n",
       "1464           6  \n",
       "14488          6  \n",
       "14493          6  \n",
       "17881          6  \n",
       "16346          6  "
      ]
     },
     "execution_count": 48,
     "metadata": {},
     "output_type": "execute_result"
    }
   ],
   "source": [
    "sub.head()"
   ]
  },
  {
   "cell_type": "code",
   "execution_count": 49,
   "metadata": {
    "collapsed": false
   },
   "outputs": [],
   "source": [
    "sub_b = sub.sort_values(['entrezID', 'id_length']).drop_duplicates(['entrezID'])"
   ]
  },
  {
   "cell_type": "code",
   "execution_count": 50,
   "metadata": {
    "collapsed": false
   },
   "outputs": [
    {
     "data": {
      "text/html": [
       "<div>\n",
       "<table border=\"1\" class=\"dataframe\">\n",
       "  <thead>\n",
       "    <tr style=\"text-align: right;\">\n",
       "      <th></th>\n",
       "      <th>entrezID</th>\n",
       "      <th>uniprotID</th>\n",
       "      <th>Sequence</th>\n",
       "      <th>id_length</th>\n",
       "    </tr>\n",
       "  </thead>\n",
       "  <tbody>\n",
       "    <tr>\n",
       "      <th>1464</th>\n",
       "      <td>10</td>\n",
       "      <td>P11245</td>\n",
       "      <td>MDIEAYFERIGYKNSRNKLDLETLTDILEHQIRAVPFENLNMHCGQ...</td>\n",
       "      <td>6</td>\n",
       "    </tr>\n",
       "  </tbody>\n",
       "</table>\n",
       "</div>"
      ],
      "text/plain": [
       "     entrezID uniprotID                                           Sequence  \\\n",
       "1464       10    P11245  MDIEAYFERIGYKNSRNKLDLETLTDILEHQIRAVPFENLNMHCGQ...   \n",
       "\n",
       "      id_length  \n",
       "1464          6  "
      ]
     },
     "execution_count": 50,
     "metadata": {},
     "output_type": "execute_result"
    }
   ],
   "source": [
    "sub_b.head(1)"
   ]
  },
  {
   "cell_type": "code",
   "execution_count": 51,
   "metadata": {
    "collapsed": false
   },
   "outputs": [
    {
     "name": "stdout",
     "output_type": "stream",
     "text": [
      "7999 7977 7528\n"
     ]
    }
   ],
   "source": [
    "print len(sub_b.entrezID.drop_duplicates()), len(sub_b.uniprotID.drop_duplicates()), len(sub_b[~sub_b.uniprotID.isin(tarSeq.Target)].drop_duplicates('uniprotID'))"
   ]
  },
  {
   "cell_type": "code",
   "execution_count": 52,
   "metadata": {
    "collapsed": false
   },
   "outputs": [
    {
     "data": {
      "text/plain": [
       "7977"
      ]
     },
     "execution_count": 52,
     "metadata": {},
     "output_type": "execute_result"
    }
   ],
   "source": [
    "len(merged[merged.uniprotID.isin(sub_b.uniprotID)].drop_duplicates('uniprotID'))"
   ]
  },
  {
   "cell_type": "code",
   "execution_count": 88,
   "metadata": {
    "collapsed": false
   },
   "outputs": [],
   "source": [
    "# gold protein을 제외한 hc만의 protein --> 이후 gold protein 내용도 합쳐야함. 하지만 계산 빨리 하기 위해서 지금은 제외함.\n",
    "except_gold_protein = sub_b[~sub_b.uniprotID.isin(tarSeq.Target)].drop_duplicates('uniprotID')[['uniprotID', 'Sequence']]"
   ]
  },
  {
   "cell_type": "code",
   "execution_count": 91,
   "metadata": {
    "collapsed": true
   },
   "outputs": [],
   "source": [
    "#except_gold_protein.to_csv(\"/DAS_Storage1/aschoi/data/Drug_Repositioning/5_new_drug/new_predict/4_3_herbal_compounds_target_except_gold.tsv\", sep='\\t', index=False)\n",
    "#except_gold_protein.to_csv(\"/home/share/aschoi/nas/users/asolchoi/data/Drug_Repositioning/5_new_drug/new_predict/4_3_herbal_compounds_target_except_gold.tsv\", sep='\\t', index=False)\n",
    "except_gold_protein.to_csv(\"/home/share/aschoi/nas/users/asolchoi/data/Drug_Repositioning/5_new_drug/new_predict/4_3_herbal_compounds_target_except_gold_new.tsv\", sep='\\t', index=False)\n",
    "except_gold_protein.to_csv(\"/DAS_Storage1/aschoi/data/Drug_Repositioning/5_new_drug/new_predict/4_3_herbal_compounds_target_except_gold_new.tsv\", sep='\\t', index=False)"
   ]
  },
  {
   "cell_type": "code",
   "execution_count": 469,
   "metadata": {
    "collapsed": false
   },
   "outputs": [],
   "source": [
    "#tarSeq[['Target', 'Sequence']].drop_duplicates().to_csv(\"/home/share/aschoi/nas/users/asolchoi/data/Drug_Repositioning/5_new_drug/new_predict/gold_target.tsv\", sep='\\t', index=False)"
   ]
  },
  {
   "cell_type": "code",
   "execution_count": 24,
   "metadata": {
    "collapsed": true
   },
   "outputs": [],
   "source": [
    "tarSim = pd.read_excel(\"/DAS_Storage1/aschoi/data/Drug_Repositioning/5_new_drug/new_predict/similarity_protein_gold_indep.xlsx\", header=None)"
   ]
  },
  {
   "cell_type": "code",
   "execution_count": 25,
   "metadata": {
    "collapsed": false
   },
   "outputs": [],
   "source": [
    "tarSeq = pd.read_table(\"/DAS_Storage1/aschoi/data/Drug_Repositioning/5_new_drug/new_predict/drug_target_seq.tsv\")"
   ]
  },
  {
   "cell_type": "code",
   "execution_count": 26,
   "metadata": {
    "collapsed": false
   },
   "outputs": [
    {
     "data": {
      "text/html": [
       "<div>\n",
       "<table border=\"1\" class=\"dataframe\">\n",
       "  <thead>\n",
       "    <tr style=\"text-align: right;\">\n",
       "      <th></th>\n",
       "      <th>0</th>\n",
       "      <th>1</th>\n",
       "      <th>2</th>\n",
       "      <th>3</th>\n",
       "      <th>4</th>\n",
       "      <th>5</th>\n",
       "      <th>6</th>\n",
       "      <th>7</th>\n",
       "      <th>8</th>\n",
       "      <th>9</th>\n",
       "      <th>...</th>\n",
       "      <th>2299</th>\n",
       "      <th>2300</th>\n",
       "      <th>2301</th>\n",
       "      <th>2302</th>\n",
       "      <th>2303</th>\n",
       "      <th>2304</th>\n",
       "      <th>2305</th>\n",
       "      <th>2306</th>\n",
       "      <th>2307</th>\n",
       "      <th>2308</th>\n",
       "    </tr>\n",
       "  </thead>\n",
       "  <tbody>\n",
       "    <tr>\n",
       "      <th>0</th>\n",
       "      <td>1.0</td>\n",
       "      <td>0.007301</td>\n",
       "      <td>0.007301</td>\n",
       "      <td>0.00921</td>\n",
       "      <td>0.00921</td>\n",
       "      <td>0.015303</td>\n",
       "      <td>0.015303</td>\n",
       "      <td>0.015303</td>\n",
       "      <td>0.015303</td>\n",
       "      <td>0.013242</td>\n",
       "      <td>...</td>\n",
       "      <td>0.012339</td>\n",
       "      <td>0.013388</td>\n",
       "      <td>0.005891</td>\n",
       "      <td>0.005685</td>\n",
       "      <td>0.013741</td>\n",
       "      <td>0.011477</td>\n",
       "      <td>0.012288</td>\n",
       "      <td>0.010557</td>\n",
       "      <td>0.015177</td>\n",
       "      <td>0.012273</td>\n",
       "    </tr>\n",
       "  </tbody>\n",
       "</table>\n",
       "<p>1 rows × 2309 columns</p>\n",
       "</div>"
      ],
      "text/plain": [
       "   0         1         2        3        4         5         6         7     \\\n",
       "0   1.0  0.007301  0.007301  0.00921  0.00921  0.015303  0.015303  0.015303   \n",
       "\n",
       "       8         9       ...         2299      2300      2301      2302  \\\n",
       "0  0.015303  0.013242    ...     0.012339  0.013388  0.005891  0.005685   \n",
       "\n",
       "       2303      2304      2305      2306      2307      2308  \n",
       "0  0.013741  0.011477  0.012288  0.010557  0.015177  0.012273  \n",
       "\n",
       "[1 rows x 2309 columns]"
      ]
     },
     "execution_count": 26,
     "metadata": {},
     "output_type": "execute_result"
    }
   ],
   "source": [
    "tarSim.head(1)"
   ]
  },
  {
   "cell_type": "code",
   "execution_count": 27,
   "metadata": {
    "collapsed": true
   },
   "outputs": [],
   "source": [
    "gold_indep_target = pd.read_table(\"/DAS_Storage1/aschoi/data/Drug_Repositioning/5_new_drug/new_predict/drug_target_seq.tsv\")"
   ]
  },
  {
   "cell_type": "code",
   "execution_count": 28,
   "metadata": {
    "collapsed": false
   },
   "outputs": [],
   "source": [
    "tarSim.columns = gold_indep_target.Entry.tolist()\n",
    "tarSim.index = gold_indep_target.Entry.tolist()"
   ]
  },
  {
   "cell_type": "code",
   "execution_count": 29,
   "metadata": {
    "collapsed": false
   },
   "outputs": [
    {
     "name": "stdout",
     "output_type": "stream",
     "text": [
      "(2309, 2309)\n",
      "(2309, 5)\n"
     ]
    }
   ],
   "source": [
    "print tarSim.shape\n",
    "print tarSeq.shape"
   ]
  },
  {
   "cell_type": "code",
   "execution_count": 30,
   "metadata": {
    "collapsed": false
   },
   "outputs": [
    {
     "name": "stdout",
     "output_type": "stream",
     "text": [
      "670\n"
     ]
    }
   ],
   "source": [
    "print len(tarSeq.Target.drop_duplicates())"
   ]
  },
  {
   "cell_type": "code",
   "execution_count": 31,
   "metadata": {
    "collapsed": true
   },
   "outputs": [],
   "source": [
    "gold_target = pd.read_table(\"/home/share/aschoi/nas/users/asolchoi/data/Drug_Repositioning/5_new_drug/new_predict/gold_target.tsv\")"
   ]
  },
  {
   "cell_type": "code",
   "execution_count": 32,
   "metadata": {
    "collapsed": false
   },
   "outputs": [],
   "source": [
    "herb_target = pd.read_table(\"/home/share/aschoi/nas/users/asolchoi/data/Drug_Repositioning/5_new_drug/new_predict/4_3_herbal_compounds_target_except_gold.tsv\")"
   ]
  },
  {
   "cell_type": "code",
   "execution_count": 33,
   "metadata": {
    "collapsed": false
   },
   "outputs": [],
   "source": [
    "hc_tar_ex = pd.read_table(\"/DAS_Storage1/aschoi/data/Drug_Repositioning/5_new_drug/new_predict/similarity_protein_hc_gold_index.tsv\", index_col=0)"
   ]
  },
  {
   "cell_type": "code",
   "execution_count": 36,
   "metadata": {
    "collapsed": true
   },
   "outputs": [],
   "source": [
    "except_gold_protein = pd.read_table(\"/DAS_Storage1/aschoi/data/Drug_Repositioning/5_new_drug/new_predict/4_3_herbal_compounds_target_except_gold_new.tsv\")"
   ]
  },
  {
   "cell_type": "code",
   "execution_count": 38,
   "metadata": {
    "collapsed": false
   },
   "outputs": [],
   "source": [
    "hc_tar_ex_new = hc_tar_ex.filter(items = except_gold_protein.uniprotID, axis=0)"
   ]
  },
  {
   "cell_type": "code",
   "execution_count": 53,
   "metadata": {
    "collapsed": false
   },
   "outputs": [],
   "source": [
    "ext_gold_tar_id = sub_b[sub_b.uniprotID.isin(tarSeq.Target)].drop_duplicates('uniprotID').uniprotID.tolist()"
   ]
  },
  {
   "cell_type": "code",
   "execution_count": 54,
   "metadata": {
    "collapsed": false
   },
   "outputs": [
    {
     "data": {
      "text/html": [
       "<div>\n",
       "<table border=\"1\" class=\"dataframe\">\n",
       "  <thead>\n",
       "    <tr style=\"text-align: right;\">\n",
       "      <th></th>\n",
       "      <th>P35228</th>\n",
       "      <th>Q9P0X4</th>\n",
       "      <th>Q9P0X4</th>\n",
       "      <th>P00519</th>\n",
       "      <th>P00519</th>\n",
       "      <th>P23219</th>\n",
       "      <th>P23219</th>\n",
       "      <th>P23219</th>\n",
       "      <th>P23219</th>\n",
       "      <th>P21728</th>\n",
       "      <th>...</th>\n",
       "      <th>Q9UGJ0</th>\n",
       "      <th>Q9UGI9</th>\n",
       "      <th>Q14571</th>\n",
       "      <th>Q14573</th>\n",
       "      <th>Q14123</th>\n",
       "      <th>P51160</th>\n",
       "      <th>P16499</th>\n",
       "      <th>P35913</th>\n",
       "      <th>Q9Y698</th>\n",
       "      <th>Q92806</th>\n",
       "    </tr>\n",
       "  </thead>\n",
       "  <tbody>\n",
       "    <tr>\n",
       "      <th>P35228</th>\n",
       "      <td>1.0</td>\n",
       "      <td>0.007301</td>\n",
       "      <td>0.007301</td>\n",
       "      <td>0.00921</td>\n",
       "      <td>0.00921</td>\n",
       "      <td>0.015303</td>\n",
       "      <td>0.015303</td>\n",
       "      <td>0.015303</td>\n",
       "      <td>0.015303</td>\n",
       "      <td>0.013242</td>\n",
       "      <td>...</td>\n",
       "      <td>0.012339</td>\n",
       "      <td>0.013388</td>\n",
       "      <td>0.005891</td>\n",
       "      <td>0.005685</td>\n",
       "      <td>0.013741</td>\n",
       "      <td>0.011477</td>\n",
       "      <td>0.012288</td>\n",
       "      <td>0.010557</td>\n",
       "      <td>0.015177</td>\n",
       "      <td>0.012273</td>\n",
       "    </tr>\n",
       "  </tbody>\n",
       "</table>\n",
       "<p>1 rows × 2309 columns</p>\n",
       "</div>"
      ],
      "text/plain": [
       "        P35228    Q9P0X4    Q9P0X4   P00519   P00519    P23219    P23219  \\\n",
       "P35228     1.0  0.007301  0.007301  0.00921  0.00921  0.015303  0.015303   \n",
       "\n",
       "          P23219    P23219    P21728    ...       Q9UGJ0    Q9UGI9    Q14571  \\\n",
       "P35228  0.015303  0.015303  0.013242    ...     0.012339  0.013388  0.005891   \n",
       "\n",
       "          Q14573    Q14123    P51160    P16499    P35913    Q9Y698    Q92806  \n",
       "P35228  0.005685  0.013741  0.011477  0.012288  0.010557  0.015177  0.012273  \n",
       "\n",
       "[1 rows x 2309 columns]"
      ]
     },
     "execution_count": 54,
     "metadata": {},
     "output_type": "execute_result"
    }
   ],
   "source": [
    "tarSim.head(1)"
   ]
  },
  {
   "cell_type": "code",
   "execution_count": 55,
   "metadata": {
    "collapsed": false
   },
   "outputs": [],
   "source": [
    "tmp1 = tarSim[~tarSim.index.duplicated()]\n",
    "tmp2 = tmp1.loc[:, ~tmp1.columns.duplicated()]\n",
    "ext_gold_tar = tmp2.filter(items = ext_gold_tar_id, axis=0)"
   ]
  },
  {
   "cell_type": "code",
   "execution_count": 56,
   "metadata": {
    "collapsed": false
   },
   "outputs": [],
   "source": [
    "hc_tar_sim = pd.concat([hc_tar_ex_new, ext_gold_tar])"
   ]
  },
  {
   "cell_type": "code",
   "execution_count": 57,
   "metadata": {
    "collapsed": false
   },
   "outputs": [
    {
     "data": {
      "text/html": [
       "<div>\n",
       "<table border=\"1\" class=\"dataframe\">\n",
       "  <thead>\n",
       "    <tr style=\"text-align: right;\">\n",
       "      <th></th>\n",
       "      <th>P35228</th>\n",
       "      <th>Q9P0X4</th>\n",
       "      <th>P00519</th>\n",
       "      <th>P23219</th>\n",
       "      <th>P21728</th>\n",
       "      <th>P51168</th>\n",
       "      <th>P20309</th>\n",
       "      <th>O43246</th>\n",
       "      <th>Q07869</th>\n",
       "      <th>Q12809</th>\n",
       "      <th>...</th>\n",
       "      <th>Q9UGJ0</th>\n",
       "      <th>Q9UGI9</th>\n",
       "      <th>Q14571</th>\n",
       "      <th>Q14573</th>\n",
       "      <th>Q14123</th>\n",
       "      <th>P51160</th>\n",
       "      <th>P16499</th>\n",
       "      <th>P35913</th>\n",
       "      <th>Q9Y698</th>\n",
       "      <th>Q92806</th>\n",
       "    </tr>\n",
       "  </thead>\n",
       "  <tbody>\n",
       "    <tr>\n",
       "      <th>P11245</th>\n",
       "      <td>0.014274</td>\n",
       "      <td>0.009387</td>\n",
       "      <td>0.015436</td>\n",
       "      <td>0.020695</td>\n",
       "      <td>0.020867</td>\n",
       "      <td>0.021093</td>\n",
       "      <td>0.026532</td>\n",
       "      <td>0.01722</td>\n",
       "      <td>0.028348</td>\n",
       "      <td>0.014849</td>\n",
       "      <td>...</td>\n",
       "      <td>0.034546</td>\n",
       "      <td>0.024622</td>\n",
       "      <td>0.011882</td>\n",
       "      <td>0.010611</td>\n",
       "      <td>0.015694</td>\n",
       "      <td>0.015634</td>\n",
       "      <td>0.0215</td>\n",
       "      <td>0.021294</td>\n",
       "      <td>0.017281</td>\n",
       "      <td>0.022545</td>\n",
       "    </tr>\n",
       "  </tbody>\n",
       "</table>\n",
       "<p>1 rows × 670 columns</p>\n",
       "</div>"
      ],
      "text/plain": [
       "          P35228    Q9P0X4    P00519    P23219    P21728    P51168    P20309  \\\n",
       "P11245  0.014274  0.009387  0.015436  0.020695  0.020867  0.021093  0.026532   \n",
       "\n",
       "         O43246    Q07869    Q12809    ...       Q9UGJ0    Q9UGI9    Q14571  \\\n",
       "P11245  0.01722  0.028348  0.014849    ...     0.034546  0.024622  0.011882   \n",
       "\n",
       "          Q14573    Q14123    P51160  P16499    P35913    Q9Y698    Q92806  \n",
       "P11245  0.010611  0.015694  0.015634  0.0215  0.021294  0.017281  0.022545  \n",
       "\n",
       "[1 rows x 670 columns]"
      ]
     },
     "execution_count": 57,
     "metadata": {},
     "output_type": "execute_result"
    }
   ],
   "source": [
    "hc_tar_sim.head(1)"
   ]
  },
  {
   "cell_type": "code",
   "execution_count": 58,
   "metadata": {
    "collapsed": false
   },
   "outputs": [
    {
     "data": {
      "text/html": [
       "<div>\n",
       "<table border=\"1\" class=\"dataframe\">\n",
       "  <thead>\n",
       "    <tr style=\"text-align: right;\">\n",
       "      <th></th>\n",
       "      <th>compID</th>\n",
       "      <th>geneID</th>\n",
       "      <th>entrezID</th>\n",
       "      <th>uniprotID</th>\n",
       "      <th>Entry</th>\n",
       "      <th>Entry name</th>\n",
       "      <th>Sequence</th>\n",
       "      <th>Length</th>\n",
       "      <th>Organism ID</th>\n",
       "    </tr>\n",
       "  </thead>\n",
       "  <tbody>\n",
       "    <tr>\n",
       "      <th>0</th>\n",
       "      <td>119</td>\n",
       "      <td>283</td>\n",
       "      <td>4846</td>\n",
       "      <td>E7ESA7</td>\n",
       "      <td>E7ESA7</td>\n",
       "      <td>E7ESA7_HUMAN</td>\n",
       "      <td>MFTYICNHIKYATNRGNLRSAITVFPQRCPGRGDFRIWNSQLVRYA...</td>\n",
       "      <td>997</td>\n",
       "      <td>9606</td>\n",
       "    </tr>\n",
       "  </tbody>\n",
       "</table>\n",
       "</div>"
      ],
      "text/plain": [
       "  compID geneID entrezID uniprotID   Entry    Entry name  \\\n",
       "0    119    283     4846    E7ESA7  E7ESA7  E7ESA7_HUMAN   \n",
       "\n",
       "                                            Sequence  Length  Organism ID  \n",
       "0  MFTYICNHIKYATNRGNLRSAITVFPQRCPGRGDFRIWNSQLVRYA...     997         9606  "
      ]
     },
     "execution_count": 58,
     "metadata": {},
     "output_type": "execute_result"
    }
   ],
   "source": [
    "hc_seq.head(1)"
   ]
  },
  {
   "cell_type": "code",
   "execution_count": 59,
   "metadata": {
    "collapsed": false
   },
   "outputs": [],
   "source": [
    "gold_tar_sim = pd.read_table(\"/DAS_Storage1/aschoi/data/Drug_Repositioning/5_new_drug/new_predict/1_drug_drug_target_sim_mat.tsv\", index_col=0)"
   ]
  },
  {
   "cell_type": "code",
   "execution_count": 60,
   "metadata": {
    "collapsed": false
   },
   "outputs": [
    {
     "data": {
      "text/html": [
       "<div>\n",
       "<table border=\"1\" class=\"dataframe\">\n",
       "  <thead>\n",
       "    <tr style=\"text-align: right;\">\n",
       "      <th></th>\n",
       "      <th>DB00114</th>\n",
       "      <th>DB00126</th>\n",
       "      <th>DB00136</th>\n",
       "      <th>DB00153</th>\n",
       "      <th>DB00162</th>\n",
       "      <th>DB00165</th>\n",
       "      <th>DB00175</th>\n",
       "      <th>DB00176</th>\n",
       "      <th>DB00177</th>\n",
       "      <th>DB00178</th>\n",
       "      <th>...</th>\n",
       "      <th>DB01576</th>\n",
       "      <th>DB01577</th>\n",
       "      <th>DB01590</th>\n",
       "      <th>DB01623</th>\n",
       "      <th>DB02546</th>\n",
       "      <th>DB03904</th>\n",
       "      <th>DB04272</th>\n",
       "      <th>DB04844</th>\n",
       "      <th>DB04861</th>\n",
       "      <th>DB09026</th>\n",
       "    </tr>\n",
       "  </thead>\n",
       "  <tbody>\n",
       "    <tr>\n",
       "      <th>DB00114</th>\n",
       "      <td>1.0</td>\n",
       "      <td>0.042848</td>\n",
       "      <td>0.03069</td>\n",
       "      <td>0.03069</td>\n",
       "      <td>0.057624</td>\n",
       "      <td>0.038125</td>\n",
       "      <td>0.019586</td>\n",
       "      <td>0.026963</td>\n",
       "      <td>0.027824</td>\n",
       "      <td>0.015547</td>\n",
       "      <td>...</td>\n",
       "      <td>0.03124</td>\n",
       "      <td>0.046066</td>\n",
       "      <td>0.016044</td>\n",
       "      <td>0.032962</td>\n",
       "      <td>0.031915</td>\n",
       "      <td>0.039085</td>\n",
       "      <td>0.061324</td>\n",
       "      <td>0.032962</td>\n",
       "      <td>0.033651</td>\n",
       "      <td>0.029795</td>\n",
       "    </tr>\n",
       "  </tbody>\n",
       "</table>\n",
       "<p>1 rows × 434 columns</p>\n",
       "</div>"
      ],
      "text/plain": [
       "         DB00114   DB00126  DB00136  DB00153   DB00162   DB00165   DB00175  \\\n",
       "DB00114      1.0  0.042848  0.03069  0.03069  0.057624  0.038125  0.019586   \n",
       "\n",
       "          DB00176   DB00177   DB00178    ...     DB01576   DB01577   DB01590  \\\n",
       "DB00114  0.026963  0.027824  0.015547    ...     0.03124  0.046066  0.016044   \n",
       "\n",
       "          DB01623   DB02546   DB03904   DB04272   DB04844   DB04861   DB09026  \n",
       "DB00114  0.032962  0.031915  0.039085  0.061324  0.032962  0.033651  0.029795  \n",
       "\n",
       "[1 rows x 434 columns]"
      ]
     },
     "execution_count": 60,
     "metadata": {},
     "output_type": "execute_result"
    }
   ],
   "source": [
    "gold_tar_sim.head(1)"
   ]
  },
  {
   "cell_type": "code",
   "execution_count": 61,
   "metadata": {
    "collapsed": false
   },
   "outputs": [
    {
     "data": {
      "text/html": [
       "<div>\n",
       "<table border=\"1\" class=\"dataframe\">\n",
       "  <thead>\n",
       "    <tr style=\"text-align: right;\">\n",
       "      <th></th>\n",
       "      <th>compID</th>\n",
       "      <th>geneID</th>\n",
       "      <th>entrezID</th>\n",
       "      <th>uniprotID</th>\n",
       "      <th>Entry</th>\n",
       "      <th>Entry name</th>\n",
       "      <th>Sequence</th>\n",
       "      <th>Length</th>\n",
       "      <th>Organism ID</th>\n",
       "    </tr>\n",
       "  </thead>\n",
       "  <tbody>\n",
       "    <tr>\n",
       "      <th>0</th>\n",
       "      <td>119</td>\n",
       "      <td>283</td>\n",
       "      <td>4846</td>\n",
       "      <td>E7ESA7</td>\n",
       "      <td>E7ESA7</td>\n",
       "      <td>E7ESA7_HUMAN</td>\n",
       "      <td>MFTYICNHIKYATNRGNLRSAITVFPQRCPGRGDFRIWNSQLVRYA...</td>\n",
       "      <td>997</td>\n",
       "      <td>9606</td>\n",
       "    </tr>\n",
       "  </tbody>\n",
       "</table>\n",
       "</div>"
      ],
      "text/plain": [
       "  compID geneID entrezID uniprotID   Entry    Entry name  \\\n",
       "0    119    283     4846    E7ESA7  E7ESA7  E7ESA7_HUMAN   \n",
       "\n",
       "                                            Sequence  Length  Organism ID  \n",
       "0  MFTYICNHIKYATNRGNLRSAITVFPQRCPGRGDFRIWNSQLVRYA...     997         9606  "
      ]
     },
     "execution_count": 61,
     "metadata": {},
     "output_type": "execute_result"
    }
   ],
   "source": [
    "hc_seq.head(1)"
   ]
  },
  {
   "cell_type": "code",
   "execution_count": 66,
   "metadata": {
    "collapsed": false
   },
   "outputs": [],
   "source": [
    "hc = hc_seq.compID.drop_duplicates().tolist()\n",
    "gd = gold_tar_sim.index.tolist()"
   ]
  },
  {
   "cell_type": "code",
   "execution_count": 67,
   "metadata": {
    "collapsed": true
   },
   "outputs": [],
   "source": [
    "df = pd.DataFrame(columns=gd, index=hc)\n",
    "df.fillna(0.0, inplace=True)"
   ]
  },
  {
   "cell_type": "code",
   "execution_count": 71,
   "metadata": {
    "collapsed": false
   },
   "outputs": [
    {
     "name": "stdout",
     "output_type": "stream",
     "text": [
      "2017-06-06 16:29:54\n",
      "cnt:102017-06-06 16:30:09\n",
      "cnt:202017-06-06 16:30:23\n",
      "cnt:302017-06-06 16:30:30\n",
      "cnt:402017-06-06 16:30:37\n",
      "cnt:502017-06-06 16:30:43\n",
      "cnt:602017-06-06 16:30:48\n",
      "2017-06-06 16:30:52\n"
     ]
    }
   ],
   "source": [
    "print datetime.now().strftime('%Y-%m-%d %H:%M:%S')\n",
    "cnt = 0\n",
    "for i in hc:\n",
    "    targets1 = hc_seq[hc_seq.compID == i].Entry.tolist()\n",
    "    for j in gd:\n",
    "        targets2 = gold_indep_target[gold_indep_target.DrugBank_ID == j].Target.tolist()\n",
    "        \n",
    "        max_sim = hc_tar_sim.filter(items = targets1, axis =0).filter(items=targets2).max().max()\n",
    "        \n",
    "        df.set_value(i, j, max_sim)\n",
    "    cnt = cnt + 1\n",
    "    if cnt % 10 == 0:\n",
    "        print \"cnt:{}\".format(cnt) + datetime.now().strftime('%Y-%m-%d %H:%M:%S')\n",
    "print datetime.now().strftime('%Y-%m-%d %H:%M:%S')"
   ]
  },
  {
   "cell_type": "code",
   "execution_count": 74,
   "metadata": {
    "collapsed": false
   },
   "outputs": [
    {
     "data": {
      "text/html": [
       "<div>\n",
       "<table border=\"1\" class=\"dataframe\">\n",
       "  <thead>\n",
       "    <tr style=\"text-align: right;\">\n",
       "      <th></th>\n",
       "      <th>DB00114</th>\n",
       "      <th>DB00126</th>\n",
       "      <th>DB00136</th>\n",
       "      <th>DB00153</th>\n",
       "      <th>DB00162</th>\n",
       "      <th>DB00165</th>\n",
       "      <th>DB00175</th>\n",
       "      <th>DB00176</th>\n",
       "      <th>DB00177</th>\n",
       "      <th>DB00178</th>\n",
       "      <th>...</th>\n",
       "      <th>DB01576</th>\n",
       "      <th>DB01577</th>\n",
       "      <th>DB01590</th>\n",
       "      <th>DB01623</th>\n",
       "      <th>DB02546</th>\n",
       "      <th>DB03904</th>\n",
       "      <th>DB04272</th>\n",
       "      <th>DB04844</th>\n",
       "      <th>DB04861</th>\n",
       "      <th>DB09026</th>\n",
       "    </tr>\n",
       "  </thead>\n",
       "  <tbody>\n",
       "    <tr>\n",
       "      <th>119</th>\n",
       "      <td>1.000000</td>\n",
       "      <td>0.035024</td>\n",
       "      <td>0.034183</td>\n",
       "      <td>0.034183</td>\n",
       "      <td>0.036648</td>\n",
       "      <td>0.030767</td>\n",
       "      <td>0.019270</td>\n",
       "      <td>0.020731</td>\n",
       "      <td>0.063898</td>\n",
       "      <td>0.014348</td>\n",
       "      <td>...</td>\n",
       "      <td>0.077898</td>\n",
       "      <td>0.077898</td>\n",
       "      <td>0.012447</td>\n",
       "      <td>0.080358</td>\n",
       "      <td>0.028605</td>\n",
       "      <td>0.601583</td>\n",
       "      <td>0.039919</td>\n",
       "      <td>0.060015</td>\n",
       "      <td>0.091060</td>\n",
       "      <td>0.028717</td>\n",
       "    </tr>\n",
       "    <tr>\n",
       "      <th>614</th>\n",
       "      <td>1.000000</td>\n",
       "      <td>1.000000</td>\n",
       "      <td>0.164869</td>\n",
       "      <td>0.164869</td>\n",
       "      <td>1.000000</td>\n",
       "      <td>0.054369</td>\n",
       "      <td>0.037518</td>\n",
       "      <td>0.489641</td>\n",
       "      <td>0.275675</td>\n",
       "      <td>0.030576</td>\n",
       "      <td>...</td>\n",
       "      <td>1.000000</td>\n",
       "      <td>1.000000</td>\n",
       "      <td>0.021203</td>\n",
       "      <td>0.152644</td>\n",
       "      <td>0.057881</td>\n",
       "      <td>1.000000</td>\n",
       "      <td>1.000000</td>\n",
       "      <td>0.117794</td>\n",
       "      <td>0.182639</td>\n",
       "      <td>0.316707</td>\n",
       "    </tr>\n",
       "    <tr>\n",
       "      <th>1001</th>\n",
       "      <td>1.000000</td>\n",
       "      <td>0.047030</td>\n",
       "      <td>0.032122</td>\n",
       "      <td>0.032122</td>\n",
       "      <td>0.048887</td>\n",
       "      <td>0.049427</td>\n",
       "      <td>0.018831</td>\n",
       "      <td>0.024923</td>\n",
       "      <td>0.029216</td>\n",
       "      <td>0.019342</td>\n",
       "      <td>...</td>\n",
       "      <td>0.039756</td>\n",
       "      <td>0.048035</td>\n",
       "      <td>0.015311</td>\n",
       "      <td>0.041188</td>\n",
       "      <td>0.036901</td>\n",
       "      <td>1.000000</td>\n",
       "      <td>0.058867</td>\n",
       "      <td>0.041188</td>\n",
       "      <td>0.034859</td>\n",
       "      <td>0.031006</td>\n",
       "    </tr>\n",
       "    <tr>\n",
       "      <th>1331</th>\n",
       "      <td>0.073411</td>\n",
       "      <td>0.059977</td>\n",
       "      <td>0.044070</td>\n",
       "      <td>0.044070</td>\n",
       "      <td>0.074848</td>\n",
       "      <td>0.054306</td>\n",
       "      <td>0.032189</td>\n",
       "      <td>0.035614</td>\n",
       "      <td>0.305858</td>\n",
       "      <td>0.027488</td>\n",
       "      <td>...</td>\n",
       "      <td>1.000000</td>\n",
       "      <td>1.000000</td>\n",
       "      <td>0.019999</td>\n",
       "      <td>1.000000</td>\n",
       "      <td>0.045258</td>\n",
       "      <td>0.059134</td>\n",
       "      <td>0.127838</td>\n",
       "      <td>1.000000</td>\n",
       "      <td>1.000000</td>\n",
       "      <td>0.043250</td>\n",
       "    </tr>\n",
       "    <tr>\n",
       "      <th>1530</th>\n",
       "      <td>1.000000</td>\n",
       "      <td>1.000000</td>\n",
       "      <td>0.164869</td>\n",
       "      <td>0.164869</td>\n",
       "      <td>0.354538</td>\n",
       "      <td>0.052564</td>\n",
       "      <td>0.037518</td>\n",
       "      <td>0.044703</td>\n",
       "      <td>0.192871</td>\n",
       "      <td>0.030716</td>\n",
       "      <td>...</td>\n",
       "      <td>0.106141</td>\n",
       "      <td>0.106141</td>\n",
       "      <td>0.031947</td>\n",
       "      <td>0.080572</td>\n",
       "      <td>1.000000</td>\n",
       "      <td>0.367003</td>\n",
       "      <td>1.000000</td>\n",
       "      <td>0.063561</td>\n",
       "      <td>0.078147</td>\n",
       "      <td>0.047086</td>\n",
       "    </tr>\n",
       "  </tbody>\n",
       "</table>\n",
       "<p>5 rows × 434 columns</p>\n",
       "</div>"
      ],
      "text/plain": [
       "       DB00114   DB00126   DB00136   DB00153   DB00162   DB00165   DB00175  \\\n",
       "119   1.000000  0.035024  0.034183  0.034183  0.036648  0.030767  0.019270   \n",
       "614   1.000000  1.000000  0.164869  0.164869  1.000000  0.054369  0.037518   \n",
       "1001  1.000000  0.047030  0.032122  0.032122  0.048887  0.049427  0.018831   \n",
       "1331  0.073411  0.059977  0.044070  0.044070  0.074848  0.054306  0.032189   \n",
       "1530  1.000000  1.000000  0.164869  0.164869  0.354538  0.052564  0.037518   \n",
       "\n",
       "       DB00176   DB00177   DB00178    ...      DB01576   DB01577   DB01590  \\\n",
       "119   0.020731  0.063898  0.014348    ...     0.077898  0.077898  0.012447   \n",
       "614   0.489641  0.275675  0.030576    ...     1.000000  1.000000  0.021203   \n",
       "1001  0.024923  0.029216  0.019342    ...     0.039756  0.048035  0.015311   \n",
       "1331  0.035614  0.305858  0.027488    ...     1.000000  1.000000  0.019999   \n",
       "1530  0.044703  0.192871  0.030716    ...     0.106141  0.106141  0.031947   \n",
       "\n",
       "       DB01623   DB02546   DB03904   DB04272   DB04844   DB04861   DB09026  \n",
       "119   0.080358  0.028605  0.601583  0.039919  0.060015  0.091060  0.028717  \n",
       "614   0.152644  0.057881  1.000000  1.000000  0.117794  0.182639  0.316707  \n",
       "1001  0.041188  0.036901  1.000000  0.058867  0.041188  0.034859  0.031006  \n",
       "1331  1.000000  0.045258  0.059134  0.127838  1.000000  1.000000  0.043250  \n",
       "1530  0.080572  1.000000  0.367003  1.000000  0.063561  0.078147  0.047086  \n",
       "\n",
       "[5 rows x 434 columns]"
      ]
     },
     "execution_count": 74,
     "metadata": {},
     "output_type": "execute_result"
    }
   ],
   "source": [
    "df.head()"
   ]
  },
  {
   "cell_type": "code",
   "execution_count": 86,
   "metadata": {
    "collapsed": true
   },
   "outputs": [],
   "source": [
    "df.to_csv(\"/DAS_Storage1/aschoi/data/Drug_Repositioning/5_new_drug/new_predict/4_3_2_herbal_comp_gold_drug_tar_sim_mat_predict.tsv\")\n",
    "df.to_csv(\"/home/share/aschoi/nas/users/asolchoi/data/Drug_Repositioning/5_new_drug/new_predict/4_3_2_herbal_comp_gold_drug_tar_sim_mat_predict.tsv\")"
   ]
  },
  {
   "cell_type": "code",
   "execution_count": null,
   "metadata": {
    "collapsed": true
   },
   "outputs": [],
   "source": []
  }
 ],
 "metadata": {
  "kernelspec": {
   "display_name": "Python 2",
   "language": "python",
   "name": "python2"
  },
  "language_info": {
   "codemirror_mode": {
    "name": "ipython",
    "version": 2
   },
   "file_extension": ".py",
   "mimetype": "text/x-python",
   "name": "python",
   "nbconvert_exporter": "python",
   "pygments_lexer": "ipython2",
   "version": "2.7.6"
  }
 },
 "nbformat": 4,
 "nbformat_minor": 0
}
