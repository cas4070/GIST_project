{
 "cells": [
  {
   "cell_type": "code",
   "execution_count": 1,
   "metadata": {
    "collapsed": true
   },
   "outputs": [],
   "source": [
    "import MySQLdb\n",
    "import pandas as pd\n",
    "import numpy as np\n",
    "from datetime import datetime"
   ]
  },
  {
   "cell_type": "code",
   "execution_count": 5,
   "metadata": {
    "collapsed": true
   },
   "outputs": [],
   "source": [
    "hc_se = pd.read_table(\"/DAS_Storage1/aschoi/data/Drug_Repositioning/5_new_drug/new_predict/4_2_1_herbal_comp_gold_drug_se_sim_mat_predict.tsv\", index_col=0)\n",
    "hc_str = pd.read_table(\"/DAS_Storage1/aschoi/data/Drug_Repositioning/5_new_drug/new_predict/4_2_1_herbal_comp_gold_drug_se_sim_mat_predict.tsv\", index_col=0)"
   ]
  },
  {
   "cell_type": "code",
   "execution_count": 8,
   "metadata": {
    "collapsed": false
   },
   "outputs": [
    {
     "name": "stdout",
     "output_type": "stream",
     "text": [
      "100\n"
     ]
    }
   ],
   "source": [
    "hc_ids = hc_se.index.tolist()\n",
    "print len(hc_ids)"
   ]
  },
  {
   "cell_type": "code",
   "execution_count": 2,
   "metadata": {
    "collapsed": true
   },
   "outputs": [],
   "source": [
    "#접속하기\n",
    "db_handle = MySQLdb.connect('localhost', 'root','comsysbio', 'COCONUTv5')\n",
    "#cur = db_handle.cursor(MySQLdb.cursors.DictCursor) # query를 통해 데이터를 얻을 때 python의 dict로 얻기 위한 방법\n",
    "cursor = db_handle.cursor()"
   ]
  },
  {
   "cell_type": "code",
   "execution_count": 15,
   "metadata": {
    "collapsed": false
   },
   "outputs": [
    {
     "data": {
      "text/plain": [
       "'(5525, 1020, 732, 9210, 926, 4020, 86025, 70460, 82835, 79944, 79942, 79938, 79941, 1530, 1531, 79939, 153, 8019, 4286, 70319, 8885, 3761, 119, 139, 70410, 70661, 4521, 1878, 622, 543, 9471, 9926, 85183, 3005, 10195, 7874, 59654, 50263, 80081, 80082, 80097, 80164, 2969, 76198, 58454, 61885, 8739, 562, 77956, 614, 40553, 773, 65817, 71038, 70458, 5529, 1166, 71664, 8024, 837, 416, 79982, 7475, 83229, 89181, 760, 10086, 31743, 2682, 823, 79684, 845, 752, 70473, 7859, 78876, 1001, 666, 1574, 58258, 7996, 1167, 71205, 43066, 9670, 141, 243, 1331, 53060, 70973, 8012, 61516, 70924, 77084, 7638, 70692, 71009, 85310, 1343, 1529)'"
      ]
     },
     "execution_count": 15,
     "metadata": {},
     "output_type": "execute_result"
    }
   ],
   "source": [
    "\"{}\".format(tuple(hc_ids))"
   ]
  },
  {
   "cell_type": "code",
   "execution_count": 18,
   "metadata": {
    "collapsed": true
   },
   "outputs": [],
   "source": [
    "# herbal compound와 관련있는 gene id 뽑기\n",
    "query1 = \"SELECT compID, geneID, reference FROM Compound_Gene where compID in {} and (organism=\\\"human\\\" or organism=\\\"homo sapiens\\\")\".format(tuple(hc_ids))\n",
    "cursor.execute(query1); #쿼리 날리는 거\n",
    "results = cursor.fetchall() # cursor.fetchone()은 tuple, cursor.fetchall()은 list of tuples을 리턴한다."
   ]
  },
  {
   "cell_type": "code",
   "execution_count": 41,
   "metadata": {
    "collapsed": false
   },
   "outputs": [],
   "source": [
    "np_results = np.array(results)"
   ]
  },
  {
   "cell_type": "code",
   "execution_count": 43,
   "metadata": {
    "collapsed": false
   },
   "outputs": [],
   "source": [
    "df_results = pd.DataFrame({'compID' : np_results[:, 0], 'geneID' : np_results[:, 1], 'reference' : np_results[:, 2]})"
   ]
  },
  {
   "cell_type": "code",
   "execution_count": 122,
   "metadata": {
    "collapsed": false
   },
   "outputs": [
    {
     "name": "stdout",
     "output_type": "stream",
     "text": [
      "35808\n",
      "66 8342\n",
      "18525\n"
     ]
    },
    {
     "data": {
      "text/html": [
       "<div>\n",
       "<table border=\"1\" class=\"dataframe\">\n",
       "  <thead>\n",
       "    <tr style=\"text-align: right;\">\n",
       "      <th></th>\n",
       "      <th>compID</th>\n",
       "      <th>geneID</th>\n",
       "    </tr>\n",
       "  </thead>\n",
       "  <tbody>\n",
       "    <tr>\n",
       "      <th>0</th>\n",
       "      <td>119</td>\n",
       "      <td>283</td>\n",
       "    </tr>\n",
       "  </tbody>\n",
       "</table>\n",
       "</div>"
      ],
      "text/plain": [
       "  compID geneID\n",
       "0    119    283"
      ]
     },
     "execution_count": 122,
     "metadata": {},
     "output_type": "execute_result"
    }
   ],
   "source": [
    "print len(df_results)\n",
    "print len(df_results.drop_duplicates('compID')), len(df_results.drop_duplicates('geneID'))\n",
    "df_results = df_results[['compID', 'geneID']].drop_duplicates()\n",
    "print len(df_results)\n",
    "df_results.head(1)"
   ]
  },
  {
   "cell_type": "code",
   "execution_count": 124,
   "metadata": {
    "collapsed": false
   },
   "outputs": [
    {
     "data": {
      "text/plain": [
       "Int64Index([70460, 82835, 79944, 79941, 70319,  8885, 70410, 70661, 85183,\n",
       "            59654, 50263, 80081, 76198, 58454, 61885, 40553, 65817, 71038,\n",
       "            70458, 71664, 89181, 31743, 79684, 70473, 71205, 53060, 70973,\n",
       "            61516, 70924, 77084,  7638, 70692, 71009, 85310],\n",
       "           dtype='int64')"
      ]
     },
     "execution_count": 124,
     "metadata": {},
     "output_type": "execute_result"
    }
   ],
   "source": [
    "# gene 정보가 없는 compound들\n",
    "a = [int(x) for x in df_results['compID'].drop_duplicates().tolist()]\n",
    "hc_se.index[~hc_se.index.isin(a)]"
   ]
  },
  {
   "cell_type": "code",
   "execution_count": 125,
   "metadata": {
    "collapsed": true
   },
   "outputs": [],
   "source": [
    "hc_ids2 = hc_se.index[hc_se.index.isin(a)].tolist()"
   ]
  },
  {
   "cell_type": "code",
   "execution_count": 90,
   "metadata": {
    "collapsed": true
   },
   "outputs": [],
   "source": [
    "# geneId에 해당하는 entrezID와 uniprotID 뽑기\n",
    "gene_ids = [int(x) for x in df_results.geneID.drop_duplicates().tolist()]\n",
    "query2 = \"SELECT geneID, entrezID, uniprotID FROM Gene where geneID in {}\".format(tuple(gene_ids))\n",
    "cursor.execute(query2); #쿼리 날리는 거\n",
    "results2 = cursor.fetchall() # cursor.fetchone()은 tuple, cursor.fetchall()은 list of tuples을 리턴한다."
   ]
  },
  {
   "cell_type": "code",
   "execution_count": 97,
   "metadata": {
    "collapsed": false
   },
   "outputs": [
    {
     "data": {
      "text/plain": [
       "(1L,\n",
       " '2147',\n",
       " 'P00734 / A0N064|A8IM47|C8BKD1|E7FAN5|G1NEM6|G1PXB6|G1TB36|G3GYJ4|G3V843|H0WQ57|H0ZJZ8|H2Q3I2|I3M5J3|J9NSF9|K4G0I9|M3WSI8|M3XJR1|P00734|P00735|P19221|Q19AZ8|Q3TJ94|Q4QR53|Q5FVW1|Q5NVS1|Q5R537|Q7SXH8|Q804W7|Q91001|U3J210|U3JUU7 / P00734/B2R7F7/Q69EZ7/B4E1A7/Q9UCA1/Q53H04/Q7Z7P3/Q4QZ40/Q53H06')"
      ]
     },
     "execution_count": 97,
     "metadata": {},
     "output_type": "execute_result"
    }
   ],
   "source": [
    "results2[0]"
   ]
  },
  {
   "cell_type": "code",
   "execution_count": 98,
   "metadata": {
    "collapsed": true
   },
   "outputs": [],
   "source": [
    "np_results2 = np.array(results2)"
   ]
  },
  {
   "cell_type": "code",
   "execution_count": 100,
   "metadata": {
    "collapsed": false
   },
   "outputs": [
    {
     "data": {
      "text/plain": [
       "array(['1', '2147',\n",
       "       'P00734 / A0N064|A8IM47|C8BKD1|E7FAN5|G1NEM6|G1PXB6|G1TB36|G3GYJ4|G3V843|H0WQ57|H0ZJZ8|H2Q3I2|I3M5J3|J9NSF9|K4G0I9|M3WSI8|M3XJR1|P00734|P00735|P19221|Q19AZ8|Q3TJ94|Q4QR53|Q5FVW1|Q5NVS1|Q5R537|Q7SXH8|Q804W7|Q91001|U3J210|U3JUU7 / P00734/B2R7F7/Q69EZ7/B4E1A7/Q9UCA1/Q53H04/Q7Z7P3/Q4QZ40/Q53H06'], \n",
       "      dtype='|S28074')"
      ]
     },
     "execution_count": 100,
     "metadata": {},
     "output_type": "execute_result"
    }
   ],
   "source": [
    "np_results2[0]"
   ]
  },
  {
   "cell_type": "code",
   "execution_count": 232,
   "metadata": {
    "collapsed": true
   },
   "outputs": [],
   "source": [
    "df_results2 = pd.DataFrame({'geneID' : np_results2[:, 0], 'entrezID' : np_results2[:, 1], 'uniprotID' : np_results2[:, 2]})"
   ]
  },
  {
   "cell_type": "code",
   "execution_count": 199,
   "metadata": {
    "collapsed": false
   },
   "outputs": [
    {
     "data": {
      "text/html": [
       "<div>\n",
       "<table border=\"1\" class=\"dataframe\">\n",
       "  <thead>\n",
       "    <tr style=\"text-align: right;\">\n",
       "      <th></th>\n",
       "      <th>entrezID</th>\n",
       "      <th>geneID</th>\n",
       "      <th>uniprotID</th>\n",
       "    </tr>\n",
       "  </thead>\n",
       "  <tbody>\n",
       "    <tr>\n",
       "      <th>0</th>\n",
       "      <td>2147</td>\n",
       "      <td>1</td>\n",
       "      <td>P00734 / A0N064|A8IM47|C8BKD1|E7FAN5|G1NEM6|G1...</td>\n",
       "    </tr>\n",
       "  </tbody>\n",
       "</table>\n",
       "</div>"
      ],
      "text/plain": [
       "  entrezID geneID                                          uniprotID\n",
       "0     2147      1  P00734 / A0N064|A8IM47|C8BKD1|E7FAN5|G1NEM6|G1..."
      ]
     },
     "execution_count": 199,
     "metadata": {},
     "output_type": "execute_result"
    }
   ],
   "source": [
    "df_results2.head(1)"
   ]
  },
  {
   "cell_type": "code",
   "execution_count": 200,
   "metadata": {
    "collapsed": false
   },
   "outputs": [
    {
     "name": "stdout",
     "output_type": "stream",
     "text": [
      "8342\n",
      "8325 8342\n",
      "8342\n"
     ]
    },
    {
     "data": {
      "text/html": [
       "<div>\n",
       "<table border=\"1\" class=\"dataframe\">\n",
       "  <thead>\n",
       "    <tr style=\"text-align: right;\">\n",
       "      <th></th>\n",
       "      <th>entrezID</th>\n",
       "      <th>geneID</th>\n",
       "      <th>uniprotID</th>\n",
       "    </tr>\n",
       "  </thead>\n",
       "  <tbody>\n",
       "    <tr>\n",
       "      <th>0</th>\n",
       "      <td>2147</td>\n",
       "      <td>1</td>\n",
       "      <td>P00734 / A0N064|A8IM47|C8BKD1|E7FAN5|G1NEM6|G1...</td>\n",
       "    </tr>\n",
       "  </tbody>\n",
       "</table>\n",
       "</div>"
      ],
      "text/plain": [
       "  entrezID geneID                                          uniprotID\n",
       "0     2147      1  P00734 / A0N064|A8IM47|C8BKD1|E7FAN5|G1NEM6|G1..."
      ]
     },
     "execution_count": 200,
     "metadata": {},
     "output_type": "execute_result"
    }
   ],
   "source": [
    "print len(df_results2)\n",
    "print len(df_results2.drop_duplicates('entrezID')), len(df_results2.drop_duplicates('geneID')) # entrez는 null 인것이 사라짐\n",
    "print len(df_results2)\n",
    "df_results2.head(1)"
   ]
  },
  {
   "cell_type": "code",
   "execution_count": 239,
   "metadata": {
    "collapsed": true
   },
   "outputs": [],
   "source": [
    "# uniprot ID를 row당 하나 오게 바꾸기\n",
    "aa = df_results2['uniprotID'].str.split('/').apply(pd.Series, 1).stack()\n",
    "aa.index = aa.index.droplevel(-1)\n",
    "aa.name = 'uniprotID'\n",
    "temp = df_results2.copy()\n",
    "del temp['uniprotID']\n",
    "bb = temp.join(aa)\n",
    "cc = bb['uniprotID'].str.split('|').apply(pd.Series, 1).stack()\n",
    "cc.index = cc.index.droplevel(-1)\n",
    "cc.name = 'uniprotID'\n",
    "temp = bb.copy()\n",
    "del temp['uniprotID']\n",
    "dd = temp.join(cc)"
   ]
  },
  {
   "cell_type": "code",
   "execution_count": 241,
   "metadata": {
    "collapsed": false
   },
   "outputs": [
    {
     "name": "stdout",
     "output_type": "stream",
     "text": [
      "1897358\n",
      "248687\n"
     ]
    }
   ],
   "source": [
    "print len(dd)\n",
    "print len(dd.drop_duplicates())"
   ]
  },
  {
   "cell_type": "code",
   "execution_count": 267,
   "metadata": {
    "collapsed": false
   },
   "outputs": [],
   "source": [
    "dd.uniprotID = dd.uniprotID.str.lstrip().str.rstrip()"
   ]
  },
  {
   "cell_type": "code",
   "execution_count": 271,
   "metadata": {
    "collapsed": false
   },
   "outputs": [],
   "source": [
    "df_results3 = dd.drop_duplicates()"
   ]
  },
  {
   "cell_type": "code",
   "execution_count": 272,
   "metadata": {
    "collapsed": true
   },
   "outputs": [],
   "source": [
    "merged = pd.merge(left = df_results, right = df_results3, how='inner')"
   ]
  },
  {
   "cell_type": "code",
   "execution_count": 275,
   "metadata": {
    "collapsed": false
   },
   "outputs": [
    {
     "name": "stdout",
     "output_type": "stream",
     "text": [
      "18525\n",
      "236703\n",
      "595543\n",
      "595543\n"
     ]
    }
   ],
   "source": [
    "print len(df_results)\n",
    "print len(df_results3)\n",
    "print len(merged)\n",
    "print len(merged.drop_duplicates())"
   ]
  },
  {
   "cell_type": "code",
   "execution_count": 351,
   "metadata": {
    "collapsed": false
   },
   "outputs": [
    {
     "name": "stdout",
     "output_type": "stream",
     "text": [
      "236321\n"
     ]
    },
    {
     "data": {
      "text/html": [
       "<div>\n",
       "<table border=\"1\" class=\"dataframe\">\n",
       "  <thead>\n",
       "    <tr style=\"text-align: right;\">\n",
       "      <th></th>\n",
       "      <th>compID</th>\n",
       "      <th>geneID</th>\n",
       "      <th>entrezID</th>\n",
       "      <th>uniprotID</th>\n",
       "    </tr>\n",
       "  </thead>\n",
       "  <tbody>\n",
       "    <tr>\n",
       "      <th>0</th>\n",
       "      <td>119</td>\n",
       "      <td>283</td>\n",
       "      <td>4846</td>\n",
       "      <td>P29474</td>\n",
       "    </tr>\n",
       "  </tbody>\n",
       "</table>\n",
       "</div>"
      ],
      "text/plain": [
       "  compID geneID entrezID uniprotID\n",
       "0    119    283     4846    P29474"
      ]
     },
     "execution_count": 351,
     "metadata": {},
     "output_type": "execute_result"
    }
   ],
   "source": [
    "print len(merged.drop_duplicates('uniprotID'))\n",
    "merged.head(1)"
   ]
  },
  {
   "cell_type": "code",
   "execution_count": 344,
   "metadata": {
    "collapsed": false
   },
   "outputs": [],
   "source": [
    "hc_seq_raw = pd.read_table(\"/home/share/aschoi/nas/users/asolchoi/data/Drug_Repositioning/5_new_drug/new_predict/hc_seq_raw.tab\")"
   ]
  },
  {
   "cell_type": "code",
   "execution_count": 352,
   "metadata": {
    "collapsed": false
   },
   "outputs": [],
   "source": [
    "hc_seq = pd.merge(left = merged, right=hc_seq_raw, left_on = 'uniprotID', right_on='Entry', how='inner')"
   ]
  },
  {
   "cell_type": "code",
   "execution_count": 362,
   "metadata": {
    "collapsed": false
   },
   "outputs": [],
   "source": [
    "hcsorted = hc_seq.sort_values(by=['compID', 'geneID'])"
   ]
  },
  {
   "cell_type": "code",
   "execution_count": 374,
   "metadata": {
    "collapsed": false
   },
   "outputs": [],
   "source": [
    "hc_seq[['entrezID', 'uniprotID', 'Sequence']].drop_duplicates().sort_values(by=['entrezID', 'Sequence']).to_csv(\"/home/share/aschoi/nas/users/asolchoi/data/Drug_Repositioning/entrez_uniprot.tsv\", sep='\\t')"
   ]
  },
  {
   "cell_type": "code",
   "execution_count": 377,
   "metadata": {
    "collapsed": false
   },
   "outputs": [
    {
     "name": "stdout",
     "output_type": "stream",
     "text": [
      "12081\n",
      "66\n"
     ]
    }
   ],
   "source": [
    "print len(hc_seq[['entrezID', 'uniprotID', 'Sequence']].drop_duplicates().sort_values(by=['entrezID', 'Sequence']))\n",
    "print len(hc_seq.compID.drop_duplicates())"
   ]
  },
  {
   "cell_type": "code",
   "execution_count": 376,
   "metadata": {
    "collapsed": false
   },
   "outputs": [
    {
     "data": {
      "text/html": [
       "<div>\n",
       "<table border=\"1\" class=\"dataframe\">\n",
       "  <thead>\n",
       "    <tr style=\"text-align: right;\">\n",
       "      <th></th>\n",
       "      <th>entrezID</th>\n",
       "      <th>uniprotID</th>\n",
       "      <th>Sequence</th>\n",
       "    </tr>\n",
       "  </thead>\n",
       "  <tbody>\n",
       "    <tr>\n",
       "      <th>1514</th>\n",
       "      <td>10</td>\n",
       "      <td>P11245</td>\n",
       "      <td>MDIEAYFERIGYKNSRNKLDLETLTDILEHQIRAVPFENLNMHCGQ...</td>\n",
       "    </tr>\n",
       "    <tr>\n",
       "      <th>1518</th>\n",
       "      <td>10</td>\n",
       "      <td>A4Z6T7</td>\n",
       "      <td>MDIEAYFERIGYKNSRNKLDLETLTDILEHQIRAVPFENLNMHCGQ...</td>\n",
       "    </tr>\n",
       "    <tr>\n",
       "      <th>15455</th>\n",
       "      <td>100</td>\n",
       "      <td>F5GWI4</td>\n",
       "      <td>MAQTPAFDKPKVELHVHLDGSIKPETILYYGRRRGIALPANTAEGL...</td>\n",
       "    </tr>\n",
       "    <tr>\n",
       "      <th>15450</th>\n",
       "      <td>100</td>\n",
       "      <td>P00813</td>\n",
       "      <td>MAQTPAFDKPKVELHVHLDGSIKPETILYYGRRRGIALPANTAEGL...</td>\n",
       "    </tr>\n",
       "    <tr>\n",
       "      <th>19053</th>\n",
       "      <td>1000</td>\n",
       "      <td>P19022</td>\n",
       "      <td>MCRIAGALRTLLPLLAALLQASVEASGEIALCKTGFPEDVYSAVLS...</td>\n",
       "    </tr>\n",
       "    <tr>\n",
       "      <th>17394</th>\n",
       "      <td>10003</td>\n",
       "      <td>Q9Y3Q0</td>\n",
       "      <td>MAESRGRLYLWMCLAAALASFLMGFMVGWFIKPLKETTTSVRYHQS...</td>\n",
       "    </tr>\n",
       "    <tr>\n",
       "      <th>16147</th>\n",
       "      <td>10004</td>\n",
       "      <td>Q9UQQ1</td>\n",
       "      <td>MQWTKVLGLGLGAAALLGLGIILGHFAIPKKANSLAPQDLDLEILE...</td>\n",
       "    </tr>\n",
       "    <tr>\n",
       "      <th>23536</th>\n",
       "      <td>10005</td>\n",
       "      <td>O14734</td>\n",
       "      <td>MSSPQAPEDGQGCGDRGDPPGDLRSVLVTTVLNLEPLDEDLFRGRH...</td>\n",
       "    </tr>\n",
       "    <tr>\n",
       "      <th>25767</th>\n",
       "      <td>10006</td>\n",
       "      <td>B6VEX5</td>\n",
       "      <td>MAELQMLLEEEIPSGKRALIESYQNLTRVADYCENNYIQATDKRKA...</td>\n",
       "    </tr>\n",
       "    <tr>\n",
       "      <th>25768</th>\n",
       "      <td>10006</td>\n",
       "      <td>Q8IZP0</td>\n",
       "      <td>MAELQMLLEEEIPSGKRALIESYQNLTRVADYCENNYIQATDKRKA...</td>\n",
       "    </tr>\n",
       "    <tr>\n",
       "      <th>25766</th>\n",
       "      <td>10006</td>\n",
       "      <td>B6VEX4</td>\n",
       "      <td>MAELQMLLEEEIPSGKRALIESYQNLTRVADYCENNYIQATDKRKA...</td>\n",
       "    </tr>\n",
       "    <tr>\n",
       "      <th>25765</th>\n",
       "      <td>10006</td>\n",
       "      <td>B6VEX3</td>\n",
       "      <td>MAELQMLLEEEIPSGKRALIESYQNLTRVADYCENNYIQATDKRKA...</td>\n",
       "    </tr>\n",
       "    <tr>\n",
       "      <th>17776</th>\n",
       "      <td>10007</td>\n",
       "      <td>P46926</td>\n",
       "      <td>MKLIILEHYSQASEWAAKYIRNRIIQFNPGPEKYFTLGLPTGSTPL...</td>\n",
       "    </tr>\n",
       "    <tr>\n",
       "      <th>26864</th>\n",
       "      <td>10008</td>\n",
       "      <td>Q9Y6H6</td>\n",
       "      <td>METTNGTETWYESLHAVLKALNATLHSNLLCRPGPGLGPDNQTEER...</td>\n",
       "    </tr>\n",
       "    <tr>\n",
       "      <th>26866</th>\n",
       "      <td>10008</td>\n",
       "      <td>Q6IAE6</td>\n",
       "      <td>METTNGTETWYESLHAVLKALNATLHSNLLCRPGPGLGPDNQTEER...</td>\n",
       "    </tr>\n",
       "    <tr>\n",
       "      <th>17631</th>\n",
       "      <td>10009</td>\n",
       "      <td>Q86T24</td>\n",
       "      <td>MESRKLISATDIQYSGSLLNSLNEQRGHGLFCDVTVIVEDRKFRAH...</td>\n",
       "    </tr>\n",
       "    <tr>\n",
       "      <th>19401</th>\n",
       "      <td>1001</td>\n",
       "      <td>P22223</td>\n",
       "      <td>MGLPRGPLASLLLLQVCWLQCAASEPCRAVFREAEVTLEAGGAEQE...</td>\n",
       "    </tr>\n",
       "    <tr>\n",
       "      <th>11965</th>\n",
       "      <td>100125288</td>\n",
       "      <td>P0C6A0</td>\n",
       "      <td>MTEPQVGCVACPRVHKEPAQVGTPWPAKPRSHPRKRDPTALLPRSL...</td>\n",
       "    </tr>\n",
       "    <tr>\n",
       "      <th>16939</th>\n",
       "      <td>10013</td>\n",
       "      <td>Q9UBN7</td>\n",
       "      <td>MTSTGQDSTTTRQRRSRQNPQSPPQDSSVTSKRNIKKGAVPRSIPN...</td>\n",
       "    </tr>\n",
       "    <tr>\n",
       "      <th>14133</th>\n",
       "      <td>100130733</td>\n",
       "      <td>Q7Z2Q7</td>\n",
       "      <td>MCGLQFSLPCLRLFLVVTCYLLLLLHKEILGCSSVCQLCTGRQINC...</td>\n",
       "    </tr>\n",
       "    <tr>\n",
       "      <th>14128</th>\n",
       "      <td>100130742</td>\n",
       "      <td>Q6ZNQ3</td>\n",
       "      <td>MTERLLIKALSGGKNTKIITLNGKKMTKMPSALGKLPGLKTLVLQN...</td>\n",
       "    </tr>\n",
       "    <tr>\n",
       "      <th>24119</th>\n",
       "      <td>100131187</td>\n",
       "      <td>Q8NFU3</td>\n",
       "      <td>MAGAPTVSLPELRSLLASGRARLFDVRSREEAAAGTIPGALNIPVS...</td>\n",
       "    </tr>\n",
       "    <tr>\n",
       "      <th>3705</th>\n",
       "      <td>100133941</td>\n",
       "      <td>B6EC88</td>\n",
       "      <td>MGRAMVARLGLGLLLLALLLPTQIYSSETTTGTSSNSSQSTSNSGL...</td>\n",
       "    </tr>\n",
       "    <tr>\n",
       "      <th>3706</th>\n",
       "      <td>100133941</td>\n",
       "      <td>P25063</td>\n",
       "      <td>MGRAMVARLGLGLLLLALLLPTQIYSSETTTGTSSNSSQSTSNTGL...</td>\n",
       "    </tr>\n",
       "    <tr>\n",
       "      <th>14180</th>\n",
       "      <td>100137049</td>\n",
       "      <td>P0C869</td>\n",
       "      <td>MAVAEVSRTCLLTVRVLQAHRLPSKDLVTPSDCYVTLWLPTACSHR...</td>\n",
       "    </tr>\n",
       "    <tr>\n",
       "      <th>27346</th>\n",
       "      <td>10014</td>\n",
       "      <td>Q9UQL6</td>\n",
       "      <td>MNSPNESDGMSGREPSLEILPRTSLHSIPVTVEVKPVLPRAMPSSM...</td>\n",
       "    </tr>\n",
       "    <tr>\n",
       "      <th>26889</th>\n",
       "      <td>10015</td>\n",
       "      <td>Q8WUM4</td>\n",
       "      <td>MATFISVQLKKTSEVDLAKPLVKFIQQTYPSGGEEQAQYCRAAEEL...</td>\n",
       "    </tr>\n",
       "    <tr>\n",
       "      <th>7557</th>\n",
       "      <td>1002</td>\n",
       "      <td>P55283</td>\n",
       "      <td>MTAGAGVLLLLLSLSGALRAHNEDLTTRETCKAGFSEDDYTALISQ...</td>\n",
       "    </tr>\n",
       "    <tr>\n",
       "      <th>1125</th>\n",
       "      <td>10020</td>\n",
       "      <td>Q9Y223</td>\n",
       "      <td>MEKNGNNRKLRVCVATCNRADYSKLAPIMFGIKTEPEFFELDVVVL...</td>\n",
       "    </tr>\n",
       "    <tr>\n",
       "      <th>19660</th>\n",
       "      <td>10021</td>\n",
       "      <td>Q9Y3Q4</td>\n",
       "      <td>MDKLPPSMRKRLYSLPQQVGAKAWIMDEEEDAEEEGAGGRQDPSRR...</td>\n",
       "    </tr>\n",
       "    <tr>\n",
       "      <th>...</th>\n",
       "      <td>...</td>\n",
       "      <td>...</td>\n",
       "      <td>...</td>\n",
       "    </tr>\n",
       "    <tr>\n",
       "      <th>5553</th>\n",
       "      <td>9961</td>\n",
       "      <td>Q14764</td>\n",
       "      <td>MATEEFIIRIPPYHYIHVLDQNSNVSRVEVGPKTYIRQDNERVLFA...</td>\n",
       "    </tr>\n",
       "    <tr>\n",
       "      <th>5554</th>\n",
       "      <td>9961</td>\n",
       "      <td>X5D2M8</td>\n",
       "      <td>MATEEFIIRIPPYHYIHVLDQNSNVSRVEVGPKTYIRQDNERVLFA...</td>\n",
       "    </tr>\n",
       "    <tr>\n",
       "      <th>5556</th>\n",
       "      <td>9961</td>\n",
       "      <td>X5DNU0</td>\n",
       "      <td>MATEEFIIRIPPYHYIHVLDQNSNVSRVEVGPKTYIRQDNERVLFA...</td>\n",
       "    </tr>\n",
       "    <tr>\n",
       "      <th>25371</th>\n",
       "      <td>9962</td>\n",
       "      <td>Q9UGH3</td>\n",
       "      <td>MMGIGKNTTSKSMEAGSSTEGKYEDEAKHPAFFTLPVVINGGATSS...</td>\n",
       "    </tr>\n",
       "    <tr>\n",
       "      <th>9923</th>\n",
       "      <td>9963</td>\n",
       "      <td>Q9UHI7</td>\n",
       "      <td>MRAQEDLEGRTQHETTRDPSTPLPTEPKFDMLYKIEDVPPWYLCIL...</td>\n",
       "    </tr>\n",
       "    <tr>\n",
       "      <th>25195</th>\n",
       "      <td>9965</td>\n",
       "      <td>O95750</td>\n",
       "      <td>MRSGCVVVHVWILAGLWLAVAGRPLAFSDAGPHVHYGWGDPIRLRH...</td>\n",
       "    </tr>\n",
       "    <tr>\n",
       "      <th>6830</th>\n",
       "      <td>9966</td>\n",
       "      <td>O95150</td>\n",
       "      <td>MAEDLGLSFGETASVEMLPEHGSCRPKARSSSARWALTCCLVLLPF...</td>\n",
       "    </tr>\n",
       "    <tr>\n",
       "      <th>8775</th>\n",
       "      <td>9967</td>\n",
       "      <td>Q9Y2W1</td>\n",
       "      <td>MSKTNKSKSGSRSSRSRSASRSRSRSFSKSRSRSRSLSRSRKRRLS...</td>\n",
       "    </tr>\n",
       "    <tr>\n",
       "      <th>8209</th>\n",
       "      <td>9969</td>\n",
       "      <td>Q9UHV7</td>\n",
       "      <td>MSASFVPNGASLEDCHCNLFCLADLTGIKWKKYVWQGPTSAPILFP...</td>\n",
       "    </tr>\n",
       "    <tr>\n",
       "      <th>21374</th>\n",
       "      <td>9971</td>\n",
       "      <td>B6ZGS9</td>\n",
       "      <td>MGSKMNLIEHSHLPTTDEFSFSENLFGVLTEQVAGPLGQNLEVEPY...</td>\n",
       "    </tr>\n",
       "    <tr>\n",
       "      <th>21377</th>\n",
       "      <td>9971</td>\n",
       "      <td>F1DAL1</td>\n",
       "      <td>MGSKMNLIEHSHLPTTDEFSFSENLFGVLTEQVAGPLGQNLEVEPY...</td>\n",
       "    </tr>\n",
       "    <tr>\n",
       "      <th>21371</th>\n",
       "      <td>9971</td>\n",
       "      <td>Q96RI1</td>\n",
       "      <td>MVMQFQGLENPIQISPHCSCTPSGFFMEMMSMKPAKGVLTEQVAGP...</td>\n",
       "    </tr>\n",
       "    <tr>\n",
       "      <th>8339</th>\n",
       "      <td>9972</td>\n",
       "      <td>P49790</td>\n",
       "      <td>MASGAGGVGGGGGGKIRTRRCHQGPIKPYQQGRQQHQGILSRVTES...</td>\n",
       "    </tr>\n",
       "    <tr>\n",
       "      <th>17936</th>\n",
       "      <td>9973</td>\n",
       "      <td>O14618</td>\n",
       "      <td>MASDSGNQGTLCTLEFAVQMTCQSCVDAVRKSLQGVAGVQDVEVHL...</td>\n",
       "    </tr>\n",
       "    <tr>\n",
       "      <th>9681</th>\n",
       "      <td>9976</td>\n",
       "      <td>Q92478</td>\n",
       "      <td>MMTKHKKCFIIVGVLITTNIITLIVKLTRDSQSLCPYDWIGFQNKC...</td>\n",
       "    </tr>\n",
       "    <tr>\n",
       "      <th>20896</th>\n",
       "      <td>9978</td>\n",
       "      <td>P62877</td>\n",
       "      <td>MAAAMDVDTPSGTNSGAGKKRFEVKKWNAVALWAWDIVVDNCAICR...</td>\n",
       "    </tr>\n",
       "    <tr>\n",
       "      <th>17616</th>\n",
       "      <td>998</td>\n",
       "      <td>P60953</td>\n",
       "      <td>MQTIKCVVVGDGAVGKTCLLISYTTNKFPSEYVPTVFDNYAVTVMI...</td>\n",
       "    </tr>\n",
       "    <tr>\n",
       "      <th>6768</th>\n",
       "      <td>9984</td>\n",
       "      <td>Q96FV9</td>\n",
       "      <td>MSPTPPLFSLPEARTRFTKSTREALNNKNIKPLLSTFSQVPGSENE...</td>\n",
       "    </tr>\n",
       "    <tr>\n",
       "      <th>7999</th>\n",
       "      <td>9987</td>\n",
       "      <td>O14979</td>\n",
       "      <td>MEVPPRLSHVPPPLFPSAPATLASRSLSHWRPRPPRQLAPLLPSLA...</td>\n",
       "    </tr>\n",
       "    <tr>\n",
       "      <th>23008</th>\n",
       "      <td>9988</td>\n",
       "      <td>B3KMJ8</td>\n",
       "      <td>MAALQIPVQITHVSSADSPATVDSETITLNSGTLQTFEILPSFHLQ...</td>\n",
       "    </tr>\n",
       "    <tr>\n",
       "      <th>23009</th>\n",
       "      <td>9988</td>\n",
       "      <td>Q9Y222</td>\n",
       "      <td>MSTVEEDSDTVTVETVNSVTLTQDTEGNLILHCPQNEADEIDSEDS...</td>\n",
       "    </tr>\n",
       "    <tr>\n",
       "      <th>19671</th>\n",
       "      <td>999</td>\n",
       "      <td>P12830</td>\n",
       "      <td>MGPWSRSLSALLLLLQVSSWLCQEPEPCHPGFDAESYTFTVPRRHL...</td>\n",
       "    </tr>\n",
       "    <tr>\n",
       "      <th>25539</th>\n",
       "      <td>9990</td>\n",
       "      <td>Q9UHW9</td>\n",
       "      <td>MHPPETTTKMASVRFMVTPTKIDDIPGLSDTSPDLSSRSSSRVRFS...</td>\n",
       "    </tr>\n",
       "    <tr>\n",
       "      <th>25541</th>\n",
       "      <td>9990</td>\n",
       "      <td>Q6NSI7</td>\n",
       "      <td>MSEMSGATTSLATVALDPPSDRTSHPQDVIEDLSQNSITGEHSQLL...</td>\n",
       "    </tr>\n",
       "    <tr>\n",
       "      <th>27012</th>\n",
       "      <td>9992</td>\n",
       "      <td>Q9Y6J6</td>\n",
       "      <td>MSTLSNFTQTLEDVFRRIFITYMDNWRQNTTAEQEALQAKVDAENF...</td>\n",
       "    </tr>\n",
       "    <tr>\n",
       "      <th>2473</th>\n",
       "      <td>9993</td>\n",
       "      <td>Q5CZ70</td>\n",
       "      <td>MVPKADSGAFLLLFLLVLTVTEPLRPELRCNPGQFACRSGTIQCIP...</td>\n",
       "    </tr>\n",
       "    <tr>\n",
       "      <th>2472</th>\n",
       "      <td>9993</td>\n",
       "      <td>P98153</td>\n",
       "      <td>MVPKADSGAFLLLFLLVLTVTEPLRPELRCNPGQFACRSGTIQCIP...</td>\n",
       "    </tr>\n",
       "    <tr>\n",
       "      <th>2474</th>\n",
       "      <td>9993</td>\n",
       "      <td>Q8IWC8</td>\n",
       "      <td>MVPKADSGAFLLLFLLVLTVTEPLRPELRCNPGQFACRSGTIQCIP...</td>\n",
       "    </tr>\n",
       "    <tr>\n",
       "      <th>2471</th>\n",
       "      <td>9993</td>\n",
       "      <td>B7Z3T5</td>\n",
       "      <td>MVPKADSGAFLLLFLLVLTVTESLRPEVTGEVRPHHGKEAVDPRQG...</td>\n",
       "    </tr>\n",
       "    <tr>\n",
       "      <th>27265</th>\n",
       "      <td>9997</td>\n",
       "      <td>O43819</td>\n",
       "      <td>MLLLTRSPTAWHRLSQLKPRVLPGTLGGQALHLRSWLLSRQGPAET...</td>\n",
       "    </tr>\n",
       "  </tbody>\n",
       "</table>\n",
       "<p>12081 rows × 3 columns</p>\n",
       "</div>"
      ],
      "text/plain": [
       "        entrezID uniprotID                                           Sequence\n",
       "1514          10    P11245  MDIEAYFERIGYKNSRNKLDLETLTDILEHQIRAVPFENLNMHCGQ...\n",
       "1518          10    A4Z6T7  MDIEAYFERIGYKNSRNKLDLETLTDILEHQIRAVPFENLNMHCGQ...\n",
       "15455        100    F5GWI4  MAQTPAFDKPKVELHVHLDGSIKPETILYYGRRRGIALPANTAEGL...\n",
       "15450        100    P00813  MAQTPAFDKPKVELHVHLDGSIKPETILYYGRRRGIALPANTAEGL...\n",
       "19053       1000    P19022  MCRIAGALRTLLPLLAALLQASVEASGEIALCKTGFPEDVYSAVLS...\n",
       "17394      10003    Q9Y3Q0  MAESRGRLYLWMCLAAALASFLMGFMVGWFIKPLKETTTSVRYHQS...\n",
       "16147      10004    Q9UQQ1  MQWTKVLGLGLGAAALLGLGIILGHFAIPKKANSLAPQDLDLEILE...\n",
       "23536      10005    O14734  MSSPQAPEDGQGCGDRGDPPGDLRSVLVTTVLNLEPLDEDLFRGRH...\n",
       "25767      10006    B6VEX5  MAELQMLLEEEIPSGKRALIESYQNLTRVADYCENNYIQATDKRKA...\n",
       "25768      10006    Q8IZP0  MAELQMLLEEEIPSGKRALIESYQNLTRVADYCENNYIQATDKRKA...\n",
       "25766      10006    B6VEX4  MAELQMLLEEEIPSGKRALIESYQNLTRVADYCENNYIQATDKRKA...\n",
       "25765      10006    B6VEX3  MAELQMLLEEEIPSGKRALIESYQNLTRVADYCENNYIQATDKRKA...\n",
       "17776      10007    P46926  MKLIILEHYSQASEWAAKYIRNRIIQFNPGPEKYFTLGLPTGSTPL...\n",
       "26864      10008    Q9Y6H6  METTNGTETWYESLHAVLKALNATLHSNLLCRPGPGLGPDNQTEER...\n",
       "26866      10008    Q6IAE6  METTNGTETWYESLHAVLKALNATLHSNLLCRPGPGLGPDNQTEER...\n",
       "17631      10009    Q86T24  MESRKLISATDIQYSGSLLNSLNEQRGHGLFCDVTVIVEDRKFRAH...\n",
       "19401       1001    P22223  MGLPRGPLASLLLLQVCWLQCAASEPCRAVFREAEVTLEAGGAEQE...\n",
       "11965  100125288    P0C6A0  MTEPQVGCVACPRVHKEPAQVGTPWPAKPRSHPRKRDPTALLPRSL...\n",
       "16939      10013    Q9UBN7  MTSTGQDSTTTRQRRSRQNPQSPPQDSSVTSKRNIKKGAVPRSIPN...\n",
       "14133  100130733    Q7Z2Q7  MCGLQFSLPCLRLFLVVTCYLLLLLHKEILGCSSVCQLCTGRQINC...\n",
       "14128  100130742    Q6ZNQ3  MTERLLIKALSGGKNTKIITLNGKKMTKMPSALGKLPGLKTLVLQN...\n",
       "24119  100131187    Q8NFU3  MAGAPTVSLPELRSLLASGRARLFDVRSREEAAAGTIPGALNIPVS...\n",
       "3705   100133941    B6EC88  MGRAMVARLGLGLLLLALLLPTQIYSSETTTGTSSNSSQSTSNSGL...\n",
       "3706   100133941    P25063  MGRAMVARLGLGLLLLALLLPTQIYSSETTTGTSSNSSQSTSNTGL...\n",
       "14180  100137049    P0C869  MAVAEVSRTCLLTVRVLQAHRLPSKDLVTPSDCYVTLWLPTACSHR...\n",
       "27346      10014    Q9UQL6  MNSPNESDGMSGREPSLEILPRTSLHSIPVTVEVKPVLPRAMPSSM...\n",
       "26889      10015    Q8WUM4  MATFISVQLKKTSEVDLAKPLVKFIQQTYPSGGEEQAQYCRAAEEL...\n",
       "7557        1002    P55283  MTAGAGVLLLLLSLSGALRAHNEDLTTRETCKAGFSEDDYTALISQ...\n",
       "1125       10020    Q9Y223  MEKNGNNRKLRVCVATCNRADYSKLAPIMFGIKTEPEFFELDVVVL...\n",
       "19660      10021    Q9Y3Q4  MDKLPPSMRKRLYSLPQQVGAKAWIMDEEEDAEEEGAGGRQDPSRR...\n",
       "...          ...       ...                                                ...\n",
       "5553        9961    Q14764  MATEEFIIRIPPYHYIHVLDQNSNVSRVEVGPKTYIRQDNERVLFA...\n",
       "5554        9961    X5D2M8  MATEEFIIRIPPYHYIHVLDQNSNVSRVEVGPKTYIRQDNERVLFA...\n",
       "5556        9961    X5DNU0  MATEEFIIRIPPYHYIHVLDQNSNVSRVEVGPKTYIRQDNERVLFA...\n",
       "25371       9962    Q9UGH3  MMGIGKNTTSKSMEAGSSTEGKYEDEAKHPAFFTLPVVINGGATSS...\n",
       "9923        9963    Q9UHI7  MRAQEDLEGRTQHETTRDPSTPLPTEPKFDMLYKIEDVPPWYLCIL...\n",
       "25195       9965    O95750  MRSGCVVVHVWILAGLWLAVAGRPLAFSDAGPHVHYGWGDPIRLRH...\n",
       "6830        9966    O95150  MAEDLGLSFGETASVEMLPEHGSCRPKARSSSARWALTCCLVLLPF...\n",
       "8775        9967    Q9Y2W1  MSKTNKSKSGSRSSRSRSASRSRSRSFSKSRSRSRSLSRSRKRRLS...\n",
       "8209        9969    Q9UHV7  MSASFVPNGASLEDCHCNLFCLADLTGIKWKKYVWQGPTSAPILFP...\n",
       "21374       9971    B6ZGS9  MGSKMNLIEHSHLPTTDEFSFSENLFGVLTEQVAGPLGQNLEVEPY...\n",
       "21377       9971    F1DAL1  MGSKMNLIEHSHLPTTDEFSFSENLFGVLTEQVAGPLGQNLEVEPY...\n",
       "21371       9971    Q96RI1  MVMQFQGLENPIQISPHCSCTPSGFFMEMMSMKPAKGVLTEQVAGP...\n",
       "8339        9972    P49790  MASGAGGVGGGGGGKIRTRRCHQGPIKPYQQGRQQHQGILSRVTES...\n",
       "17936       9973    O14618  MASDSGNQGTLCTLEFAVQMTCQSCVDAVRKSLQGVAGVQDVEVHL...\n",
       "9681        9976    Q92478  MMTKHKKCFIIVGVLITTNIITLIVKLTRDSQSLCPYDWIGFQNKC...\n",
       "20896       9978    P62877  MAAAMDVDTPSGTNSGAGKKRFEVKKWNAVALWAWDIVVDNCAICR...\n",
       "17616        998    P60953  MQTIKCVVVGDGAVGKTCLLISYTTNKFPSEYVPTVFDNYAVTVMI...\n",
       "6768        9984    Q96FV9  MSPTPPLFSLPEARTRFTKSTREALNNKNIKPLLSTFSQVPGSENE...\n",
       "7999        9987    O14979  MEVPPRLSHVPPPLFPSAPATLASRSLSHWRPRPPRQLAPLLPSLA...\n",
       "23008       9988    B3KMJ8  MAALQIPVQITHVSSADSPATVDSETITLNSGTLQTFEILPSFHLQ...\n",
       "23009       9988    Q9Y222  MSTVEEDSDTVTVETVNSVTLTQDTEGNLILHCPQNEADEIDSEDS...\n",
       "19671        999    P12830  MGPWSRSLSALLLLLQVSSWLCQEPEPCHPGFDAESYTFTVPRRHL...\n",
       "25539       9990    Q9UHW9  MHPPETTTKMASVRFMVTPTKIDDIPGLSDTSPDLSSRSSSRVRFS...\n",
       "25541       9990    Q6NSI7  MSEMSGATTSLATVALDPPSDRTSHPQDVIEDLSQNSITGEHSQLL...\n",
       "27012       9992    Q9Y6J6  MSTLSNFTQTLEDVFRRIFITYMDNWRQNTTAEQEALQAKVDAENF...\n",
       "2473        9993    Q5CZ70  MVPKADSGAFLLLFLLVLTVTEPLRPELRCNPGQFACRSGTIQCIP...\n",
       "2472        9993    P98153  MVPKADSGAFLLLFLLVLTVTEPLRPELRCNPGQFACRSGTIQCIP...\n",
       "2474        9993    Q8IWC8  MVPKADSGAFLLLFLLVLTVTEPLRPELRCNPGQFACRSGTIQCIP...\n",
       "2471        9993    B7Z3T5  MVPKADSGAFLLLFLLVLTVTESLRPEVTGEVRPHHGKEAVDPRQG...\n",
       "27265       9997    O43819  MLLLTRSPTAWHRLSQLKPRVLPGTLGGQALHLRSWLLSRQGPAET...\n",
       "\n",
       "[12081 rows x 3 columns]"
      ]
     },
     "execution_count": 376,
     "metadata": {},
     "output_type": "execute_result"
    }
   ],
   "source": [
    "hc_seq[['entrezID', 'uniprotID', 'Sequence']].drop_duplicates().sort_values(by=['entrezID', 'Sequence'])"
   ]
  },
  {
   "cell_type": "code",
   "execution_count": 331,
   "metadata": {
    "collapsed": false
   },
   "outputs": [],
   "source": [
    "# 일단 GO를 위한 compID, geneID, entrezID 파일을 만든다.\n",
    "hc_go = merged[['compID', 'geneID', 'entrezID']].drop_duplicates()\n",
    "hc_gp = hc_go[hc_go.entrezID != 'null']"
   ]
  },
  {
   "cell_type": "code",
   "execution_count": 332,
   "metadata": {
    "collapsed": false
   },
   "outputs": [
    {
     "data": {
      "text/html": [
       "<div>\n",
       "<table border=\"1\" class=\"dataframe\">\n",
       "  <thead>\n",
       "    <tr style=\"text-align: right;\">\n",
       "      <th></th>\n",
       "      <th>compID</th>\n",
       "      <th>geneID</th>\n",
       "      <th>entrezID</th>\n",
       "    </tr>\n",
       "  </thead>\n",
       "  <tbody>\n",
       "    <tr>\n",
       "      <th>0</th>\n",
       "      <td>119</td>\n",
       "      <td>283</td>\n",
       "      <td>4846</td>\n",
       "    </tr>\n",
       "  </tbody>\n",
       "</table>\n",
       "</div>"
      ],
      "text/plain": [
       "  compID geneID entrezID\n",
       "0    119    283     4846"
      ]
     },
     "execution_count": 332,
     "metadata": {},
     "output_type": "execute_result"
    }
   ],
   "source": [
    "hc_go.head(1)"
   ]
  },
  {
   "cell_type": "code",
   "execution_count": 334,
   "metadata": {
    "collapsed": false
   },
   "outputs": [
    {
     "name": "stdout",
     "output_type": "stream",
     "text": [
      "66\n"
     ]
    }
   ],
   "source": [
    "print len(hc_go.compID.drop_duplicates())"
   ]
  },
  {
   "cell_type": "code",
   "execution_count": 341,
   "metadata": {
    "collapsed": false
   },
   "outputs": [],
   "source": [
    "iid = merged.entrezID.drop_duplicates().tolist()\n",
    "f = open(\"/home/share/aschoi/nas/users/asolchoi/data/Drug_Repositioning/entrez_id.txt\", 'w')\n",
    "for item in iid:\n",
    "    f.write(\"%s\\r\\n\" % item)\n",
    "f.close()"
   ]
  },
  {
   "cell_type": "code",
   "execution_count": 342,
   "metadata": {
    "collapsed": false
   },
   "outputs": [
    {
     "name": "stdout",
     "output_type": "stream",
     "text": [
      "8325\n"
     ]
    }
   ],
   "source": [
    "print len(iid)"
   ]
  },
  {
   "cell_type": "code",
   "execution_count": 335,
   "metadata": {
    "collapsed": false
   },
   "outputs": [],
   "source": [
    "hc_go.to_csv(\"/DAS_Storage1/aschoi/data/Drug_Repositioning/5_new_drug/new_predict/4_3_herbal_compounds_gene.tsv\", sep='\\t', index=False)"
   ]
  },
  {
   "cell_type": "code",
   "execution_count": 276,
   "metadata": {
    "collapsed": false
   },
   "outputs": [
    {
     "data": {
      "text/plain": [
       "236321"
      ]
     },
     "execution_count": 276,
     "metadata": {},
     "output_type": "execute_result"
    }
   ],
   "source": [
    "len(merged.uniprotID.drop_duplicates())"
   ]
  },
  {
   "cell_type": "code",
   "execution_count": 277,
   "metadata": {
    "collapsed": false
   },
   "outputs": [
    {
     "data": {
      "text/plain": [
       "595543"
      ]
     },
     "execution_count": 277,
     "metadata": {},
     "output_type": "execute_result"
    }
   ],
   "source": [
    "len(merged.uniprotID)"
   ]
  },
  {
   "cell_type": "code",
   "execution_count": 284,
   "metadata": {
    "collapsed": true
   },
   "outputs": [],
   "source": [
    "tarSim = pd.read_excel(\"/DAS_Storage1/aschoi/data/Drug_Repositioning/5_new_drug/new_predict/similarity_protein_gold_indep.xlsx\", header=None)"
   ]
  },
  {
   "cell_type": "code",
   "execution_count": 280,
   "metadata": {
    "collapsed": false
   },
   "outputs": [],
   "source": [
    "tarSeq = pd.read_table(\"/DAS_Storage1/aschoi/data/Drug_Repositioning/5_new_drug/new_predict/drug_target_seq.tsv\")"
   ]
  },
  {
   "cell_type": "code",
   "execution_count": 286,
   "metadata": {
    "collapsed": false
   },
   "outputs": [
    {
     "data": {
      "text/html": [
       "<div>\n",
       "<table border=\"1\" class=\"dataframe\">\n",
       "  <thead>\n",
       "    <tr style=\"text-align: right;\">\n",
       "      <th></th>\n",
       "      <th>0</th>\n",
       "      <th>1</th>\n",
       "      <th>2</th>\n",
       "      <th>3</th>\n",
       "      <th>4</th>\n",
       "      <th>5</th>\n",
       "      <th>6</th>\n",
       "      <th>7</th>\n",
       "      <th>8</th>\n",
       "      <th>9</th>\n",
       "      <th>...</th>\n",
       "      <th>2299</th>\n",
       "      <th>2300</th>\n",
       "      <th>2301</th>\n",
       "      <th>2302</th>\n",
       "      <th>2303</th>\n",
       "      <th>2304</th>\n",
       "      <th>2305</th>\n",
       "      <th>2306</th>\n",
       "      <th>2307</th>\n",
       "      <th>2308</th>\n",
       "    </tr>\n",
       "  </thead>\n",
       "  <tbody>\n",
       "    <tr>\n",
       "      <th>0</th>\n",
       "      <td>1.0</td>\n",
       "      <td>0.007301</td>\n",
       "      <td>0.007301</td>\n",
       "      <td>0.00921</td>\n",
       "      <td>0.00921</td>\n",
       "      <td>0.015303</td>\n",
       "      <td>0.015303</td>\n",
       "      <td>0.015303</td>\n",
       "      <td>0.015303</td>\n",
       "      <td>0.013242</td>\n",
       "      <td>...</td>\n",
       "      <td>0.012339</td>\n",
       "      <td>0.013388</td>\n",
       "      <td>0.005891</td>\n",
       "      <td>0.005685</td>\n",
       "      <td>0.013741</td>\n",
       "      <td>0.011477</td>\n",
       "      <td>0.012288</td>\n",
       "      <td>0.010557</td>\n",
       "      <td>0.015177</td>\n",
       "      <td>0.012273</td>\n",
       "    </tr>\n",
       "  </tbody>\n",
       "</table>\n",
       "<p>1 rows × 2309 columns</p>\n",
       "</div>"
      ],
      "text/plain": [
       "   0         1         2        3        4         5         6         7     \\\n",
       "0   1.0  0.007301  0.007301  0.00921  0.00921  0.015303  0.015303  0.015303   \n",
       "\n",
       "       8         9       ...         2299      2300      2301      2302  \\\n",
       "0  0.015303  0.013242    ...     0.012339  0.013388  0.005891  0.005685   \n",
       "\n",
       "       2303      2304      2305      2306      2307      2308  \n",
       "0  0.013741  0.011477  0.012288  0.010557  0.015177  0.012273  \n",
       "\n",
       "[1 rows x 2309 columns]"
      ]
     },
     "execution_count": 286,
     "metadata": {},
     "output_type": "execute_result"
    }
   ],
   "source": [
    "tarSim.head(1)"
   ]
  },
  {
   "cell_type": "code",
   "execution_count": 285,
   "metadata": {
    "collapsed": false
   },
   "outputs": [
    {
     "name": "stdout",
     "output_type": "stream",
     "text": [
      "(2309, 2309)\n",
      "(2309, 5)\n"
     ]
    }
   ],
   "source": [
    "print tarSim.shape\n",
    "print tarSeq.shape"
   ]
  },
  {
   "cell_type": "code",
   "execution_count": 287,
   "metadata": {
    "collapsed": false
   },
   "outputs": [
    {
     "name": "stdout",
     "output_type": "stream",
     "text": [
      "670\n"
     ]
    }
   ],
   "source": [
    "print len(tarSeq.Target.drop_duplicates())"
   ]
  },
  {
   "cell_type": "code",
   "execution_count": 299,
   "metadata": {
    "collapsed": true
   },
   "outputs": [],
   "source": [
    "target_sequence = pd.read_table(\"/home/share/aschoi/nas/users/asolchoi/data/Drug_Repositioning/5_new_drug/protein_seq.txt\")"
   ]
  },
  {
   "cell_type": "code",
   "execution_count": 309,
   "metadata": {
    "collapsed": false
   },
   "outputs": [
    {
     "data": {
      "text/html": [
       "<div>\n",
       "<table border=\"1\" class=\"dataframe\">\n",
       "  <thead>\n",
       "    <tr style=\"text-align: right;\">\n",
       "      <th></th>\n",
       "      <th>Entry</th>\n",
       "      <th>Sequence</th>\n",
       "      <th>Length</th>\n",
       "    </tr>\n",
       "  </thead>\n",
       "  <tbody>\n",
       "    <tr>\n",
       "      <th>0</th>\n",
       "      <td>P19113</td>\n",
       "      <td>MMEPEEYRERGREMVDYICQYLSTVRERRVTPDVQPGYLRAQLPES...</td>\n",
       "      <td>662.0</td>\n",
       "    </tr>\n",
       "    <tr>\n",
       "      <th>1</th>\n",
       "      <td>Q9UI32</td>\n",
       "      <td>MRSMKALQKALSRAGSHCGRGGWGHPSRSPLLGGGVRHHLSEAAAQ...</td>\n",
       "      <td>602.0</td>\n",
       "    </tr>\n",
       "    <tr>\n",
       "      <th>2</th>\n",
       "      <td>P00488</td>\n",
       "      <td>MSETSRTAFGGRRAVPPNNSNAAEDDLPTVELQGVVPRGVNLQEFL...</td>\n",
       "      <td>732.0</td>\n",
       "    </tr>\n",
       "    <tr>\n",
       "      <th>3</th>\n",
       "      <td>P35228</td>\n",
       "      <td>MACPWKFLFKTKFHQYAMNGEKDINNNVEKAPCATSSPVTQDDLQY...</td>\n",
       "      <td>1153.0</td>\n",
       "    </tr>\n",
       "    <tr>\n",
       "      <th>4</th>\n",
       "      <td>P37059</td>\n",
       "      <td>MSTFFSDTAWICLAVPTVLCGTVFCKYKKSSGQLWSWMVCLAGLCA...</td>\n",
       "      <td>387.0</td>\n",
       "    </tr>\n",
       "  </tbody>\n",
       "</table>\n",
       "</div>"
      ],
      "text/plain": [
       "    Entry                                           Sequence  Length\n",
       "0  P19113  MMEPEEYRERGREMVDYICQYLSTVRERRVTPDVQPGYLRAQLPES...   662.0\n",
       "1  Q9UI32  MRSMKALQKALSRAGSHCGRGGWGHPSRSPLLGGGVRHHLSEAAAQ...   602.0\n",
       "2  P00488  MSETSRTAFGGRRAVPPNNSNAAEDDLPTVELQGVVPRGVNLQEFL...   732.0\n",
       "3  P35228  MACPWKFLFKTKFHQYAMNGEKDINNNVEKAPCATSSPVTQDDLQY...  1153.0\n",
       "4  P37059  MSTFFSDTAWICLAVPTVLCGTVFCKYKKSSGQLWSWMVCLAGLCA...   387.0"
      ]
     },
     "execution_count": 309,
     "metadata": {},
     "output_type": "execute_result"
    }
   ],
   "source": [
    "target_sequence.head()"
   ]
  },
  {
   "cell_type": "code",
   "execution_count": 310,
   "metadata": {
    "collapsed": false
   },
   "outputs": [],
   "source": [
    "#tarSeq[~tarSeq.Target.isin(merged.uniprotID)]\n",
    "kkk = merged[merged.uniprotID.isin(target_sequence.Entry)]"
   ]
  },
  {
   "cell_type": "code",
   "execution_count": 314,
   "metadata": {
    "collapsed": false
   },
   "outputs": [
    {
     "name": "stdout",
     "output_type": "stream",
     "text": [
      "1859\n",
      "236321\n",
      "2290\n"
     ]
    }
   ],
   "source": [
    "print len(kkk.uniprotID.drop_duplicates())\n",
    "print len(merged.uniprotID.drop_duplicates())\n",
    "print len(target_sequence.Entry.drop_duplicates())"
   ]
  },
  {
   "cell_type": "code",
   "execution_count": 316,
   "metadata": {
    "collapsed": false
   },
   "outputs": [
    {
     "name": "stdout",
     "output_type": "stream",
     "text": [
      "65\n"
     ]
    }
   ],
   "source": [
    "print len(kkk.compID.drop_duplicates())"
   ]
  },
  {
   "cell_type": "code",
   "execution_count": null,
   "metadata": {
    "collapsed": true
   },
   "outputs": [],
   "source": []
  }
 ],
 "metadata": {
  "kernelspec": {
   "display_name": "Python 2",
   "language": "python",
   "name": "python2"
  },
  "language_info": {
   "codemirror_mode": {
    "name": "ipython",
    "version": 2
   },
   "file_extension": ".py",
   "mimetype": "text/x-python",
   "name": "python",
   "nbconvert_exporter": "python",
   "pygments_lexer": "ipython2",
   "version": "2.7.6"
  }
 },
 "nbformat": 4,
 "nbformat_minor": 0
}
