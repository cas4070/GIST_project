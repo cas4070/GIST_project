{
 "cells": [
  {
   "cell_type": "code",
   "execution_count": 1,
   "metadata": {
    "collapsed": true
   },
   "outputs": [],
   "source": [
    "import MySQLdb\n",
    "import pandas as pd\n",
    "import numpy as np\n",
    "from datetime import datetime"
   ]
  },
  {
   "cell_type": "code",
   "execution_count": 5,
   "metadata": {
    "collapsed": true
   },
   "outputs": [],
   "source": [
    "hc_se = pd.read_table(\"/DAS_Storage1/aschoi/data/Drug_Repositioning/5_new_drug/new_predict/4_2_1_herbal_comp_gold_drug_se_sim_mat_predict.tsv\", index_col=0)\n",
    "hc_str = pd.read_table(\"/DAS_Storage1/aschoi/data/Drug_Repositioning/5_new_drug/new_predict/4_2_1_herbal_comp_gold_drug_se_sim_mat_predict.tsv\", index_col=0)"
   ]
  },
  {
   "cell_type": "code",
   "execution_count": 8,
   "metadata": {
    "collapsed": false
   },
   "outputs": [
    {
     "name": "stdout",
     "output_type": "stream",
     "text": [
      "100\n"
     ]
    }
   ],
   "source": [
    "hc_ids = hc_se.index.tolist()\n",
    "print len(hc_ids)"
   ]
  },
  {
   "cell_type": "code",
   "execution_count": 2,
   "metadata": {
    "collapsed": true
   },
   "outputs": [],
   "source": [
    "#접속하기\n",
    "db_handle = MySQLdb.connect('localhost', 'root','comsysbio', 'COCONUTv5')\n",
    "#cur = db_handle.cursor(MySQLdb.cursors.DictCursor) # query를 통해 데이터를 얻을 때 python의 dict로 얻기 위한 방법\n",
    "cursor = db_handle.cursor()"
   ]
  },
  {
   "cell_type": "code",
   "execution_count": 15,
   "metadata": {
    "collapsed": false
   },
   "outputs": [
    {
     "data": {
      "text/plain": [
       "'(5525, 1020, 732, 9210, 926, 4020, 86025, 70460, 82835, 79944, 79942, 79938, 79941, 1530, 1531, 79939, 153, 8019, 4286, 70319, 8885, 3761, 119, 139, 70410, 70661, 4521, 1878, 622, 543, 9471, 9926, 85183, 3005, 10195, 7874, 59654, 50263, 80081, 80082, 80097, 80164, 2969, 76198, 58454, 61885, 8739, 562, 77956, 614, 40553, 773, 65817, 71038, 70458, 5529, 1166, 71664, 8024, 837, 416, 79982, 7475, 83229, 89181, 760, 10086, 31743, 2682, 823, 79684, 845, 752, 70473, 7859, 78876, 1001, 666, 1574, 58258, 7996, 1167, 71205, 43066, 9670, 141, 243, 1331, 53060, 70973, 8012, 61516, 70924, 77084, 7638, 70692, 71009, 85310, 1343, 1529)'"
      ]
     },
     "execution_count": 15,
     "metadata": {},
     "output_type": "execute_result"
    }
   ],
   "source": [
    "\"{}\".format(tuple(hc_ids))"
   ]
  },
  {
   "cell_type": "code",
   "execution_count": 18,
   "metadata": {
    "collapsed": true
   },
   "outputs": [],
   "source": [
    "# herbal compound와 관련있는 gene id 뽑기\n",
    "query1 = \"SELECT compID, geneID, reference FROM Compound_Gene where compID in {} and (organism=\\\"human\\\" or organism=\\\"homo sapiens\\\")\".format(tuple(hc_ids))\n",
    "cursor.execute(query1); #쿼리 날리는 거\n",
    "results = cursor.fetchall() # cursor.fetchone()은 tuple, cursor.fetchall()은 list of tuples을 리턴한다."
   ]
  },
  {
   "cell_type": "code",
   "execution_count": 41,
   "metadata": {
    "collapsed": false
   },
   "outputs": [],
   "source": [
    "np_results = np.array(results)"
   ]
  },
  {
   "cell_type": "code",
   "execution_count": 43,
   "metadata": {
    "collapsed": false
   },
   "outputs": [],
   "source": [
    "df_results = pd.DataFrame({'compID' : np_results[:, 0], 'geneID' : np_results[:, 1], 'reference' : np_results[:, 2]})"
   ]
  },
  {
   "cell_type": "code",
   "execution_count": 122,
   "metadata": {
    "collapsed": false
   },
   "outputs": [
    {
     "name": "stdout",
     "output_type": "stream",
     "text": [
      "35808\n",
      "66 8342\n",
      "18525\n"
     ]
    },
    {
     "data": {
      "text/html": [
       "<div>\n",
       "<table border=\"1\" class=\"dataframe\">\n",
       "  <thead>\n",
       "    <tr style=\"text-align: right;\">\n",
       "      <th></th>\n",
       "      <th>compID</th>\n",
       "      <th>geneID</th>\n",
       "    </tr>\n",
       "  </thead>\n",
       "  <tbody>\n",
       "    <tr>\n",
       "      <th>0</th>\n",
       "      <td>119</td>\n",
       "      <td>283</td>\n",
       "    </tr>\n",
       "  </tbody>\n",
       "</table>\n",
       "</div>"
      ],
      "text/plain": [
       "  compID geneID\n",
       "0    119    283"
      ]
     },
     "execution_count": 122,
     "metadata": {},
     "output_type": "execute_result"
    }
   ],
   "source": [
    "print len(df_results)\n",
    "print len(df_results.drop_duplicates('compID')), len(df_results.drop_duplicates('geneID'))\n",
    "df_results = df_results[['compID', 'geneID']].drop_duplicates()\n",
    "print len(df_results)\n",
    "df_results.head(1)"
   ]
  },
  {
   "cell_type": "code",
   "execution_count": 124,
   "metadata": {
    "collapsed": false
   },
   "outputs": [
    {
     "data": {
      "text/plain": [
       "Int64Index([70460, 82835, 79944, 79941, 70319,  8885, 70410, 70661, 85183,\n",
       "            59654, 50263, 80081, 76198, 58454, 61885, 40553, 65817, 71038,\n",
       "            70458, 71664, 89181, 31743, 79684, 70473, 71205, 53060, 70973,\n",
       "            61516, 70924, 77084,  7638, 70692, 71009, 85310],\n",
       "           dtype='int64')"
      ]
     },
     "execution_count": 124,
     "metadata": {},
     "output_type": "execute_result"
    }
   ],
   "source": [
    "# gene 정보가 없는 compound들\n",
    "a = [int(x) for x in df_results['compID'].drop_duplicates().tolist()]\n",
    "hc_se.index[~hc_se.index.isin(a)]"
   ]
  },
  {
   "cell_type": "code",
   "execution_count": 125,
   "metadata": {
    "collapsed": true
   },
   "outputs": [],
   "source": [
    "hc_ids2 = hc_se.index[hc_se.index.isin(a)].tolist()"
   ]
  },
  {
   "cell_type": "code",
   "execution_count": 90,
   "metadata": {
    "collapsed": true
   },
   "outputs": [],
   "source": [
    "# geneId에 해당하는 entrezID와 uniprotID 뽑기\n",
    "gene_ids = [int(x) for x in df_results.geneID.drop_duplicates().tolist()]\n",
    "query2 = \"SELECT geneID, entrezID, uniprotID FROM Gene where geneID in {}\".format(tuple(gene_ids))\n",
    "cursor.execute(query2); #쿼리 날리는 거\n",
    "results2 = cursor.fetchall() # cursor.fetchone()은 tuple, cursor.fetchall()은 list of tuples을 리턴한다."
   ]
  },
  {
   "cell_type": "code",
   "execution_count": null,
   "metadata": {
    "collapsed": true
   },
   "outputs": [],
   "source": [
    "np_results2 = np.array(results2)\n",
    "df_results2 = pd.DataFrame({'geneID' : np_results2[:,0], 'entrezID' : np_results2[:,1], 'uniprotID':np_results2[:,2]})\n",
    "\n",
    "print len(df_results2)\n",
    "print len(df_results2.drop_duplicates('entrezID')), len(df_results2.drop_duplicates('geneID')) # entrez는 null 인것이 사라짐\n",
    "print len(df_results2)\n",
    "df_results2.head(1)"
   ]
  },
  {
   "cell_type": "code",
   "execution_count": 200,
   "metadata": {
    "collapsed": false
   },
   "outputs": [
    {
     "name": "stdout",
     "output_type": "stream",
     "text": [
      "8342\n",
      "8325 8342\n",
      "8342\n"
     ]
    },
    {
     "data": {
      "text/html": [
       "<div>\n",
       "<table border=\"1\" class=\"dataframe\">\n",
       "  <thead>\n",
       "    <tr style=\"text-align: right;\">\n",
       "      <th></th>\n",
       "      <th>entrezID</th>\n",
       "      <th>geneID</th>\n",
       "      <th>uniprotID</th>\n",
       "    </tr>\n",
       "  </thead>\n",
       "  <tbody>\n",
       "    <tr>\n",
       "      <th>0</th>\n",
       "      <td>2147</td>\n",
       "      <td>1</td>\n",
       "      <td>P00734 / A0N064|A8IM47|C8BKD1|E7FAN5|G1NEM6|G1...</td>\n",
       "    </tr>\n",
       "  </tbody>\n",
       "</table>\n",
       "</div>"
      ],
      "text/plain": [
       "  entrezID geneID                                          uniprotID\n",
       "0     2147      1  P00734 / A0N064|A8IM47|C8BKD1|E7FAN5|G1NEM6|G1..."
      ]
     },
     "execution_count": 200,
     "metadata": {},
     "output_type": "execute_result"
    }
   ],
   "source": [
    "print len(df_results2)\n",
    "print len(df_results2.drop_duplicates('entrezID')), len(df_results2.drop_duplicates('geneID')) # entrez는 null 인것이 사라짐\n",
    "print len(df_results2)\n",
    "df_results2.head(1)"
   ]
  },
  {
   "cell_type": "code",
   "execution_count": 239,
   "metadata": {
    "collapsed": true
   },
   "outputs": [],
   "source": [
    "# uniprot ID를 row당 하나 오게 바꾸기\n",
    "aa = df_results2['uniprotID'].str.split('/').apply(pd.Series, 1).stack()\n",
    "aa.index = aa.index.droplevel(-1)\n",
    "aa.name = 'uniprotID'\n",
    "temp = df_results2.copy()\n",
    "del temp['uniprotID']\n",
    "bb = temp.join(aa)\n",
    "cc = bb['uniprotID'].str.split('|').apply(pd.Series, 1).stack()\n",
    "cc.index = cc.index.droplevel(-1)\n",
    "cc.name = 'uniprotID'\n",
    "temp = bb.copy()\n",
    "del temp['uniprotID']\n",
    "dd = temp.join(cc)"
   ]
  },
  {
   "cell_type": "code",
   "execution_count": 271,
   "metadata": {
    "collapsed": false
   },
   "outputs": [],
   "source": [
    "df_results3 = dd.drop_duplicates()"
   ]
  },
  {
   "cell_type": "code",
   "execution_count": 426,
   "metadata": {
    "collapsed": false
   },
   "outputs": [
    {
     "data": {
      "text/html": [
       "<div>\n",
       "<table border=\"1\" class=\"dataframe\">\n",
       "  <thead>\n",
       "    <tr style=\"text-align: right;\">\n",
       "      <th></th>\n",
       "      <th>entrezID</th>\n",
       "      <th>geneID</th>\n",
       "      <th>uniprotID</th>\n",
       "    </tr>\n",
       "  </thead>\n",
       "  <tbody>\n",
       "    <tr>\n",
       "      <th>0</th>\n",
       "      <td>2147</td>\n",
       "      <td>1</td>\n",
       "      <td>P00734</td>\n",
       "    </tr>\n",
       "  </tbody>\n",
       "</table>\n",
       "</div>"
      ],
      "text/plain": [
       "  entrezID geneID uniprotID\n",
       "0     2147      1    P00734"
      ]
     },
     "execution_count": 426,
     "metadata": {},
     "output_type": "execute_result"
    }
   ],
   "source": [
    "df_results3.head(1)"
   ]
  },
  {
   "cell_type": "code",
   "execution_count": 272,
   "metadata": {
    "collapsed": true
   },
   "outputs": [],
   "source": [
    "merged = pd.merge(left = df_results, right = df_results3, how='inner')"
   ]
  },
  {
   "cell_type": "code",
   "execution_count": 429,
   "metadata": {
    "collapsed": false
   },
   "outputs": [
    {
     "name": "stdout",
     "output_type": "stream",
     "text": [
      "18525 236703\n",
      "595543 595543\n",
      "66 8325 236321\n"
     ]
    },
    {
     "data": {
      "text/html": [
       "<div>\n",
       "<table border=\"1\" class=\"dataframe\">\n",
       "  <thead>\n",
       "    <tr style=\"text-align: right;\">\n",
       "      <th></th>\n",
       "      <th>compID</th>\n",
       "      <th>geneID</th>\n",
       "      <th>entrezID</th>\n",
       "      <th>uniprotID</th>\n",
       "    </tr>\n",
       "  </thead>\n",
       "  <tbody>\n",
       "    <tr>\n",
       "      <th>0</th>\n",
       "      <td>119</td>\n",
       "      <td>283</td>\n",
       "      <td>4846</td>\n",
       "      <td>P29474</td>\n",
       "    </tr>\n",
       "  </tbody>\n",
       "</table>\n",
       "</div>"
      ],
      "text/plain": [
       "  compID geneID entrezID uniprotID\n",
       "0    119    283     4846    P29474"
      ]
     },
     "execution_count": 429,
     "metadata": {},
     "output_type": "execute_result"
    }
   ],
   "source": [
    "print len(df_results), len(df_results3)\n",
    "print len(merged), len(merged.drop_duplicates())\n",
    "print len(merged.drop_duplicates('compID')), len(merged.drop_duplicates('entrezID')), len(merged.drop_duplicates('uniprotID'))\n",
    "merged.head(1)"
   ]
  },
  {
   "cell_type": "code",
   "execution_count": 344,
   "metadata": {
    "collapsed": false
   },
   "outputs": [],
   "source": [
    "# herbal compounds의 gene id를 uniprot에서 입력으로 넣어서 가져온 protein 정보\n",
    "hc_seq_raw = pd.read_table(\"/home/share/aschoi/nas/users/asolchoi/data/Drug_Repositioning/5_new_drug/new_predict/hc_seq_raw.tab\")"
   ]
  },
  {
   "cell_type": "code",
   "execution_count": 430,
   "metadata": {
    "collapsed": false
   },
   "outputs": [
    {
     "data": {
      "text/html": [
       "<div>\n",
       "<table border=\"1\" class=\"dataframe\">\n",
       "  <thead>\n",
       "    <tr style=\"text-align: right;\">\n",
       "      <th></th>\n",
       "      <th>Entry</th>\n",
       "      <th>Entry name</th>\n",
       "      <th>Sequence</th>\n",
       "      <th>Length</th>\n",
       "      <th>Organism ID</th>\n",
       "    </tr>\n",
       "  </thead>\n",
       "  <tbody>\n",
       "    <tr>\n",
       "      <th>0</th>\n",
       "      <td>A0A0A0MTA6</td>\n",
       "      <td>A0A0A0MTA6_HUMAN</td>\n",
       "      <td>MGNLKSVAQEPGPPCGLGLGLGLGLCGKQGPATPAPEPSRAPASLL...</td>\n",
       "      <td>614</td>\n",
       "      <td>9606</td>\n",
       "    </tr>\n",
       "  </tbody>\n",
       "</table>\n",
       "</div>"
      ],
      "text/plain": [
       "        Entry        Entry name  \\\n",
       "0  A0A0A0MTA6  A0A0A0MTA6_HUMAN   \n",
       "\n",
       "                                            Sequence  Length  Organism ID  \n",
       "0  MGNLKSVAQEPGPPCGLGLGLGLGLCGKQGPATPAPEPSRAPASLL...     614         9606  "
      ]
     },
     "execution_count": 430,
     "metadata": {},
     "output_type": "execute_result"
    }
   ],
   "source": [
    "hc_seq_raw.head(1)"
   ]
  },
  {
   "cell_type": "code",
   "execution_count": 352,
   "metadata": {
    "collapsed": false
   },
   "outputs": [],
   "source": [
    "hc_seq = pd.merge(left = merged, right=hc_seq_raw, left_on = 'uniprotID', right_on='Entry', how='inner')"
   ]
  },
  {
   "cell_type": "code",
   "execution_count": 433,
   "metadata": {
    "collapsed": false
   },
   "outputs": [
    {
     "name": "stdout",
     "output_type": "stream",
     "text": [
      "28096\n"
     ]
    },
    {
     "data": {
      "text/html": [
       "<div>\n",
       "<table border=\"1\" class=\"dataframe\">\n",
       "  <thead>\n",
       "    <tr style=\"text-align: right;\">\n",
       "      <th></th>\n",
       "      <th>compID</th>\n",
       "      <th>geneID</th>\n",
       "      <th>entrezID</th>\n",
       "      <th>uniprotID</th>\n",
       "      <th>Entry</th>\n",
       "      <th>Entry name</th>\n",
       "      <th>Sequence</th>\n",
       "      <th>Length</th>\n",
       "      <th>Organism ID</th>\n",
       "    </tr>\n",
       "  </thead>\n",
       "  <tbody>\n",
       "    <tr>\n",
       "      <th>0</th>\n",
       "      <td>119</td>\n",
       "      <td>283</td>\n",
       "      <td>4846</td>\n",
       "      <td>P29474</td>\n",
       "      <td>P29474</td>\n",
       "      <td>NOS3_HUMAN</td>\n",
       "      <td>MGNLKSVAQEPGPPCGLGLGLGLGLCGKQGPATPAPEPSRAPASLL...</td>\n",
       "      <td>1203</td>\n",
       "      <td>9606</td>\n",
       "    </tr>\n",
       "  </tbody>\n",
       "</table>\n",
       "</div>"
      ],
      "text/plain": [
       "  compID geneID entrezID uniprotID   Entry  Entry name  \\\n",
       "0    119    283     4846    P29474  P29474  NOS3_HUMAN   \n",
       "\n",
       "                                            Sequence  Length  Organism ID  \n",
       "0  MGNLKSVAQEPGPPCGLGLGLGLGLCGKQGPATPAPEPSRAPASLL...    1203         9606  "
      ]
     },
     "execution_count": 433,
     "metadata": {},
     "output_type": "execute_result"
    }
   ],
   "source": [
    "print len(hc_seq)\n",
    "hc_seq.head(1)"
   ]
  },
  {
   "cell_type": "code",
   "execution_count": 436,
   "metadata": {
    "collapsed": true
   },
   "outputs": [],
   "source": [
    "sub = hc_seq[['entrezID', 'uniprotID', 'Sequence']].drop_duplicates()"
   ]
  },
  {
   "cell_type": "code",
   "execution_count": 60,
   "metadata": {
    "collapsed": false
   },
   "outputs": [],
   "source": [
    "id_len = [len(x) for x in sub.uniprotID]"
   ]
  },
  {
   "cell_type": "code",
   "execution_count": 61,
   "metadata": {
    "collapsed": false
   },
   "outputs": [],
   "source": [
    "sub['id_length'] = id_len"
   ]
  },
  {
   "cell_type": "code",
   "execution_count": 62,
   "metadata": {
    "collapsed": false
   },
   "outputs": [],
   "source": [
    "sub_b = sub.sort_values(['entrezID', 'id_length']).drop_duplicates(['entrezID'])"
   ]
  },
  {
   "cell_type": "code",
   "execution_count": 446,
   "metadata": {
    "collapsed": false
   },
   "outputs": [
    {
     "name": "stdout",
     "output_type": "stream",
     "text": [
      "8182 8155 7590\n"
     ]
    }
   ],
   "source": [
    "print len(sub_b.entrezID.drop_duplicates()), len(sub_b.uniprotID.drop_duplicates()), len(sub_b[~sub_b.uniprotID.isin(tarSeq.Target)].drop_duplicates('uniprotID'))"
   ]
  },
  {
   "cell_type": "code",
   "execution_count": 463,
   "metadata": {
    "collapsed": false
   },
   "outputs": [
    {
     "data": {
      "text/plain": [
       "8155"
      ]
     },
     "execution_count": 463,
     "metadata": {},
     "output_type": "execute_result"
    }
   ],
   "source": [
    "len(merged[merged.uniprotID.isin(sub_b.uniprotID)].drop_duplicates('uniprotID'))"
   ]
  },
  {
   "cell_type": "code",
   "execution_count": 450,
   "metadata": {
    "collapsed": false
   },
   "outputs": [],
   "source": [
    "# gold protein을 제외한 hc만의 protein --> 이후 gold protein 내용도 합쳐야함. 하지만 계산 빨리 하기 위해서 지금은 제외함.\n",
    "except_gold_protein = sub_b[~sub_b.uniprotID.isin(tarSeq.Target)].drop_duplicates('uniprotID')[['uniprotID', 'Sequence']]"
   ]
  },
  {
   "cell_type": "code",
   "execution_count": 466,
   "metadata": {
    "collapsed": true
   },
   "outputs": [],
   "source": [
    "#except_gold_protein.to_csv(\"/DAS_Storage1/aschoi/data/Drug_Repositioning/5_new_drug/new_predict/4_3_herbal_compounds_target_except_gold.tsv\", sep='\\t', index=False)\n",
    "except_gold_protein.to_csv(\"/home/share/aschoi/nas/users/asolchoi/data/Drug_Repositioning/5_new_drug/new_predict/4_3_herbal_compounds_target_except_gold.tsv\", sep='\\t', index=False)"
   ]
  },
  {
   "cell_type": "code",
   "execution_count": 469,
   "metadata": {
    "collapsed": false
   },
   "outputs": [],
   "source": [
    "tarSeq[['Target', 'Sequence']].drop_duplicates().to_csv(\"/home/share/aschoi/nas/users/asolchoi/data/Drug_Repositioning/5_new_drug/new_predict/gold_target.tsv\", sep='\\t', index=False)"
   ]
  },
  {
   "cell_type": "code",
   "execution_count": 331,
   "metadata": {
    "collapsed": false
   },
   "outputs": [],
   "source": [
    "# GO를 위한 compID, geneID, entrezID 파일을 만든다.\n",
    "hc_go = merged[['compID', 'geneID', 'entrezID']].drop_duplicates()\n",
    "hc_gp = hc_go[hc_go.entrezID != 'null']"
   ]
  },
  {
   "cell_type": "code",
   "execution_count": 332,
   "metadata": {
    "collapsed": false
   },
   "outputs": [
    {
     "data": {
      "text/html": [
       "<div>\n",
       "<table border=\"1\" class=\"dataframe\">\n",
       "  <thead>\n",
       "    <tr style=\"text-align: right;\">\n",
       "      <th></th>\n",
       "      <th>compID</th>\n",
       "      <th>geneID</th>\n",
       "      <th>entrezID</th>\n",
       "    </tr>\n",
       "  </thead>\n",
       "  <tbody>\n",
       "    <tr>\n",
       "      <th>0</th>\n",
       "      <td>119</td>\n",
       "      <td>283</td>\n",
       "      <td>4846</td>\n",
       "    </tr>\n",
       "  </tbody>\n",
       "</table>\n",
       "</div>"
      ],
      "text/plain": [
       "  compID geneID entrezID\n",
       "0    119    283     4846"
      ]
     },
     "execution_count": 332,
     "metadata": {},
     "output_type": "execute_result"
    }
   ],
   "source": [
    "hc_go.head(1)"
   ]
  },
  {
   "cell_type": "code",
   "execution_count": 334,
   "metadata": {
    "collapsed": false
   },
   "outputs": [
    {
     "name": "stdout",
     "output_type": "stream",
     "text": [
      "66\n"
     ]
    }
   ],
   "source": [
    "print len(hc_go.compID.drop_duplicates())"
   ]
  },
  {
   "cell_type": "code",
   "execution_count": 341,
   "metadata": {
    "collapsed": false
   },
   "outputs": [],
   "source": [
    "iid = merged.entrezID.drop_duplicates().tolist()\n",
    "f = open(\"/home/share/aschoi/nas/users/asolchoi/data/Drug_Repositioning/entrez_id.txt\", 'w')\n",
    "for item in iid:\n",
    "    f.write(\"%s\\r\\n\" % item)\n",
    "f.close()"
   ]
  },
  {
   "cell_type": "code",
   "execution_count": 342,
   "metadata": {
    "collapsed": false
   },
   "outputs": [
    {
     "name": "stdout",
     "output_type": "stream",
     "text": [
      "8325\n"
     ]
    }
   ],
   "source": [
    "print len(iid)"
   ]
  },
  {
   "cell_type": "code",
   "execution_count": 335,
   "metadata": {
    "collapsed": false
   },
   "outputs": [],
   "source": [
    "hc_go.to_csv(\"/DAS_Storage1/aschoi/data/Drug_Repositioning/5_new_drug/new_predict/4_3_herbal_compounds_gene.tsv\", sep='\\t', index=False)"
   ]
  },
  {
   "cell_type": "code",
   "execution_count": 69,
   "metadata": {
    "collapsed": true
   },
   "outputs": [],
   "source": [
    "tarSim = pd.read_excel(\"/DAS_Storage1/aschoi/data/Drug_Repositioning/5_new_drug/new_predict/similarity_protein_gold_indep.xlsx\", header=None)"
   ]
  },
  {
   "cell_type": "code",
   "execution_count": 70,
   "metadata": {
    "collapsed": false
   },
   "outputs": [],
   "source": [
    "tarSeq = pd.read_table(\"/DAS_Storage1/aschoi/data/Drug_Repositioning/5_new_drug/new_predict/drug_target_seq.tsv\")"
   ]
  },
  {
   "cell_type": "code",
   "execution_count": 37,
   "metadata": {
    "collapsed": false
   },
   "outputs": [
    {
     "data": {
      "text/html": [
       "<div>\n",
       "<table border=\"1\" class=\"dataframe\">\n",
       "  <thead>\n",
       "    <tr style=\"text-align: right;\">\n",
       "      <th></th>\n",
       "      <th>0</th>\n",
       "      <th>1</th>\n",
       "      <th>2</th>\n",
       "      <th>3</th>\n",
       "      <th>4</th>\n",
       "      <th>5</th>\n",
       "      <th>6</th>\n",
       "      <th>7</th>\n",
       "      <th>8</th>\n",
       "      <th>9</th>\n",
       "      <th>...</th>\n",
       "      <th>2299</th>\n",
       "      <th>2300</th>\n",
       "      <th>2301</th>\n",
       "      <th>2302</th>\n",
       "      <th>2303</th>\n",
       "      <th>2304</th>\n",
       "      <th>2305</th>\n",
       "      <th>2306</th>\n",
       "      <th>2307</th>\n",
       "      <th>2308</th>\n",
       "    </tr>\n",
       "  </thead>\n",
       "  <tbody>\n",
       "    <tr>\n",
       "      <th>0</th>\n",
       "      <td>1.0</td>\n",
       "      <td>0.007301</td>\n",
       "      <td>0.007301</td>\n",
       "      <td>0.00921</td>\n",
       "      <td>0.00921</td>\n",
       "      <td>0.015303</td>\n",
       "      <td>0.015303</td>\n",
       "      <td>0.015303</td>\n",
       "      <td>0.015303</td>\n",
       "      <td>0.013242</td>\n",
       "      <td>...</td>\n",
       "      <td>0.012339</td>\n",
       "      <td>0.013388</td>\n",
       "      <td>0.005891</td>\n",
       "      <td>0.005685</td>\n",
       "      <td>0.013741</td>\n",
       "      <td>0.011477</td>\n",
       "      <td>0.012288</td>\n",
       "      <td>0.010557</td>\n",
       "      <td>0.015177</td>\n",
       "      <td>0.012273</td>\n",
       "    </tr>\n",
       "  </tbody>\n",
       "</table>\n",
       "<p>1 rows × 2309 columns</p>\n",
       "</div>"
      ],
      "text/plain": [
       "   0         1         2        3        4         5         6         7     \\\n",
       "0   1.0  0.007301  0.007301  0.00921  0.00921  0.015303  0.015303  0.015303   \n",
       "\n",
       "       8         9       ...         2299      2300      2301      2302  \\\n",
       "0  0.015303  0.013242    ...     0.012339  0.013388  0.005891  0.005685   \n",
       "\n",
       "       2303      2304      2305      2306      2307      2308  \n",
       "0  0.013741  0.011477  0.012288  0.010557  0.015177  0.012273  \n",
       "\n",
       "[1 rows x 2309 columns]"
      ]
     },
     "execution_count": 37,
     "metadata": {},
     "output_type": "execute_result"
    }
   ],
   "source": [
    "tarSim.head(1)"
   ]
  },
  {
   "cell_type": "code",
   "execution_count": 38,
   "metadata": {
    "collapsed": false
   },
   "outputs": [
    {
     "name": "stdout",
     "output_type": "stream",
     "text": [
      "(2309, 2309)\n",
      "(2309, 5)\n"
     ]
    }
   ],
   "source": [
    "print tarSim.shape\n",
    "print tarSeq.shape"
   ]
  },
  {
   "cell_type": "code",
   "execution_count": 287,
   "metadata": {
    "collapsed": false
   },
   "outputs": [
    {
     "name": "stdout",
     "output_type": "stream",
     "text": [
      "670\n"
     ]
    }
   ],
   "source": [
    "print len(tarSeq.Target.drop_duplicates())"
   ]
  },
  {
   "cell_type": "code",
   "execution_count": 299,
   "metadata": {
    "collapsed": true
   },
   "outputs": [],
   "source": [
    "target_sequence = pd.read_table(\"/home/share/aschoi/nas/users/asolchoi/data/Drug_Repositioning/5_new_drug/protein_seq.txt\")"
   ]
  },
  {
   "cell_type": "code",
   "execution_count": 309,
   "metadata": {
    "collapsed": false
   },
   "outputs": [
    {
     "data": {
      "text/html": [
       "<div>\n",
       "<table border=\"1\" class=\"dataframe\">\n",
       "  <thead>\n",
       "    <tr style=\"text-align: right;\">\n",
       "      <th></th>\n",
       "      <th>Entry</th>\n",
       "      <th>Sequence</th>\n",
       "      <th>Length</th>\n",
       "    </tr>\n",
       "  </thead>\n",
       "  <tbody>\n",
       "    <tr>\n",
       "      <th>0</th>\n",
       "      <td>P19113</td>\n",
       "      <td>MMEPEEYRERGREMVDYICQYLSTVRERRVTPDVQPGYLRAQLPES...</td>\n",
       "      <td>662.0</td>\n",
       "    </tr>\n",
       "    <tr>\n",
       "      <th>1</th>\n",
       "      <td>Q9UI32</td>\n",
       "      <td>MRSMKALQKALSRAGSHCGRGGWGHPSRSPLLGGGVRHHLSEAAAQ...</td>\n",
       "      <td>602.0</td>\n",
       "    </tr>\n",
       "    <tr>\n",
       "      <th>2</th>\n",
       "      <td>P00488</td>\n",
       "      <td>MSETSRTAFGGRRAVPPNNSNAAEDDLPTVELQGVVPRGVNLQEFL...</td>\n",
       "      <td>732.0</td>\n",
       "    </tr>\n",
       "    <tr>\n",
       "      <th>3</th>\n",
       "      <td>P35228</td>\n",
       "      <td>MACPWKFLFKTKFHQYAMNGEKDINNNVEKAPCATSSPVTQDDLQY...</td>\n",
       "      <td>1153.0</td>\n",
       "    </tr>\n",
       "    <tr>\n",
       "      <th>4</th>\n",
       "      <td>P37059</td>\n",
       "      <td>MSTFFSDTAWICLAVPTVLCGTVFCKYKKSSGQLWSWMVCLAGLCA...</td>\n",
       "      <td>387.0</td>\n",
       "    </tr>\n",
       "  </tbody>\n",
       "</table>\n",
       "</div>"
      ],
      "text/plain": [
       "    Entry                                           Sequence  Length\n",
       "0  P19113  MMEPEEYRERGREMVDYICQYLSTVRERRVTPDVQPGYLRAQLPES...   662.0\n",
       "1  Q9UI32  MRSMKALQKALSRAGSHCGRGGWGHPSRSPLLGGGVRHHLSEAAAQ...   602.0\n",
       "2  P00488  MSETSRTAFGGRRAVPPNNSNAAEDDLPTVELQGVVPRGVNLQEFL...   732.0\n",
       "3  P35228  MACPWKFLFKTKFHQYAMNGEKDINNNVEKAPCATSSPVTQDDLQY...  1153.0\n",
       "4  P37059  MSTFFSDTAWICLAVPTVLCGTVFCKYKKSSGQLWSWMVCLAGLCA...   387.0"
      ]
     },
     "execution_count": 309,
     "metadata": {},
     "output_type": "execute_result"
    }
   ],
   "source": [
    "target_sequence.head()"
   ]
  },
  {
   "cell_type": "code",
   "execution_count": 310,
   "metadata": {
    "collapsed": false
   },
   "outputs": [],
   "source": [
    "#tarSeq[~tarSeq.Target.isin(merged.uniprotID)]\n",
    "kkk = merged[merged.uniprotID.isin(target_sequence.Entry)]"
   ]
  },
  {
   "cell_type": "code",
   "execution_count": 314,
   "metadata": {
    "collapsed": false
   },
   "outputs": [
    {
     "name": "stdout",
     "output_type": "stream",
     "text": [
      "1859\n",
      "236321\n",
      "2290\n"
     ]
    }
   ],
   "source": [
    "print len(kkk.uniprotID.drop_duplicates())\n",
    "print len(merged.uniprotID.drop_duplicates())\n",
    "print len(target_sequence.Entry.drop_duplicates())"
   ]
  },
  {
   "cell_type": "code",
   "execution_count": 316,
   "metadata": {
    "collapsed": false
   },
   "outputs": [
    {
     "name": "stdout",
     "output_type": "stream",
     "text": [
      "65\n"
     ]
    }
   ],
   "source": [
    "print len(kkk.compID.drop_duplicates())"
   ]
  },
  {
   "cell_type": "code",
   "execution_count": 39,
   "metadata": {
    "collapsed": true
   },
   "outputs": [],
   "source": [
    "gold_target = pd.read_table(\"/home/share/aschoi/nas/users/asolchoi/data/Drug_Repositioning/5_new_drug/new_predict/gold_target.tsv\")"
   ]
  },
  {
   "cell_type": "code",
   "execution_count": 50,
   "metadata": {
    "collapsed": false
   },
   "outputs": [],
   "source": [
    "herb_target = pd.read_table(\"/home/share/aschoi/nas/users/asolchoi/data/Drug_Repositioning/5_new_drug/new_predict/4_3_herbal_compounds_target_except_gold.tsv\")"
   ]
  },
  {
   "cell_type": "code",
   "execution_count": 14,
   "metadata": {
    "collapsed": false
   },
   "outputs": [],
   "source": [
    "hc_tar_ex = pd.read_excel(\"/DAS_Storage1/aschoi/data/Drug_Repositioning/5_new_drug/new_predict/similarity_protein_hc_gold.xlsx\", header=None)"
   ]
  },
  {
   "cell_type": "code",
   "execution_count": 15,
   "metadata": {
    "collapsed": false
   },
   "outputs": [
    {
     "data": {
      "text/html": [
       "<div>\n",
       "<table border=\"1\" class=\"dataframe\">\n",
       "  <thead>\n",
       "    <tr style=\"text-align: right;\">\n",
       "      <th></th>\n",
       "      <th>0</th>\n",
       "      <th>1</th>\n",
       "      <th>2</th>\n",
       "      <th>3</th>\n",
       "      <th>4</th>\n",
       "      <th>5</th>\n",
       "      <th>6</th>\n",
       "      <th>7</th>\n",
       "      <th>8</th>\n",
       "      <th>9</th>\n",
       "      <th>...</th>\n",
       "      <th>7580</th>\n",
       "      <th>7581</th>\n",
       "      <th>7582</th>\n",
       "      <th>7583</th>\n",
       "      <th>7584</th>\n",
       "      <th>7585</th>\n",
       "      <th>7586</th>\n",
       "      <th>7587</th>\n",
       "      <th>7588</th>\n",
       "      <th>7589</th>\n",
       "    </tr>\n",
       "  </thead>\n",
       "  <tbody>\n",
       "    <tr>\n",
       "      <th>0</th>\n",
       "      <td>0.014274</td>\n",
       "      <td>0.009387</td>\n",
       "      <td>0.015436</td>\n",
       "      <td>0.020695</td>\n",
       "      <td>0.020867</td>\n",
       "      <td>0.021093</td>\n",
       "      <td>0.026532</td>\n",
       "      <td>0.017220</td>\n",
       "      <td>0.028348</td>\n",
       "      <td>0.014849</td>\n",
       "      <td>...</td>\n",
       "      <td>0</td>\n",
       "      <td>0</td>\n",
       "      <td>0</td>\n",
       "      <td>0</td>\n",
       "      <td>0</td>\n",
       "      <td>0</td>\n",
       "      <td>0</td>\n",
       "      <td>0</td>\n",
       "      <td>0</td>\n",
       "      <td>0</td>\n",
       "    </tr>\n",
       "    <tr>\n",
       "      <th>1</th>\n",
       "      <td>0.013596</td>\n",
       "      <td>0.008355</td>\n",
       "      <td>0.010837</td>\n",
       "      <td>0.011942</td>\n",
       "      <td>0.012551</td>\n",
       "      <td>0.013899</td>\n",
       "      <td>0.012168</td>\n",
       "      <td>0.010569</td>\n",
       "      <td>0.012638</td>\n",
       "      <td>0.011331</td>\n",
       "      <td>...</td>\n",
       "      <td>0</td>\n",
       "      <td>0</td>\n",
       "      <td>0</td>\n",
       "      <td>0</td>\n",
       "      <td>0</td>\n",
       "      <td>0</td>\n",
       "      <td>0</td>\n",
       "      <td>0</td>\n",
       "      <td>0</td>\n",
       "      <td>0</td>\n",
       "    </tr>\n",
       "    <tr>\n",
       "      <th>2</th>\n",
       "      <td>0.012501</td>\n",
       "      <td>0.007523</td>\n",
       "      <td>0.011022</td>\n",
       "      <td>0.016099</td>\n",
       "      <td>0.013382</td>\n",
       "      <td>0.012621</td>\n",
       "      <td>0.015997</td>\n",
       "      <td>0.014141</td>\n",
       "      <td>0.016041</td>\n",
       "      <td>0.012395</td>\n",
       "      <td>...</td>\n",
       "      <td>0</td>\n",
       "      <td>0</td>\n",
       "      <td>0</td>\n",
       "      <td>0</td>\n",
       "      <td>0</td>\n",
       "      <td>0</td>\n",
       "      <td>0</td>\n",
       "      <td>0</td>\n",
       "      <td>0</td>\n",
       "      <td>0</td>\n",
       "    </tr>\n",
       "    <tr>\n",
       "      <th>3</th>\n",
       "      <td>0.010427</td>\n",
       "      <td>0.008572</td>\n",
       "      <td>0.011361</td>\n",
       "      <td>0.015893</td>\n",
       "      <td>0.014182</td>\n",
       "      <td>0.014131</td>\n",
       "      <td>0.015325</td>\n",
       "      <td>0.012385</td>\n",
       "      <td>0.015291</td>\n",
       "      <td>0.012245</td>\n",
       "      <td>...</td>\n",
       "      <td>0</td>\n",
       "      <td>0</td>\n",
       "      <td>0</td>\n",
       "      <td>0</td>\n",
       "      <td>0</td>\n",
       "      <td>0</td>\n",
       "      <td>0</td>\n",
       "      <td>0</td>\n",
       "      <td>0</td>\n",
       "      <td>0</td>\n",
       "    </tr>\n",
       "    <tr>\n",
       "      <th>4</th>\n",
       "      <td>0.019205</td>\n",
       "      <td>0.013697</td>\n",
       "      <td>0.014602</td>\n",
       "      <td>0.023817</td>\n",
       "      <td>0.020186</td>\n",
       "      <td>0.018354</td>\n",
       "      <td>0.015552</td>\n",
       "      <td>0.018959</td>\n",
       "      <td>0.019211</td>\n",
       "      <td>0.015479</td>\n",
       "      <td>...</td>\n",
       "      <td>0</td>\n",
       "      <td>0</td>\n",
       "      <td>0</td>\n",
       "      <td>0</td>\n",
       "      <td>0</td>\n",
       "      <td>0</td>\n",
       "      <td>0</td>\n",
       "      <td>0</td>\n",
       "      <td>0</td>\n",
       "      <td>0</td>\n",
       "    </tr>\n",
       "  </tbody>\n",
       "</table>\n",
       "<p>5 rows × 7590 columns</p>\n",
       "</div>"
      ],
      "text/plain": [
       "       0         1         2         3         4         5         6     \\\n",
       "0  0.014274  0.009387  0.015436  0.020695  0.020867  0.021093  0.026532   \n",
       "1  0.013596  0.008355  0.010837  0.011942  0.012551  0.013899  0.012168   \n",
       "2  0.012501  0.007523  0.011022  0.016099  0.013382  0.012621  0.015997   \n",
       "3  0.010427  0.008572  0.011361  0.015893  0.014182  0.014131  0.015325   \n",
       "4  0.019205  0.013697  0.014602  0.023817  0.020186  0.018354  0.015552   \n",
       "\n",
       "       7         8         9     ...   7580  7581  7582  7583  7584  7585  \\\n",
       "0  0.017220  0.028348  0.014849  ...      0     0     0     0     0     0   \n",
       "1  0.010569  0.012638  0.011331  ...      0     0     0     0     0     0   \n",
       "2  0.014141  0.016041  0.012395  ...      0     0     0     0     0     0   \n",
       "3  0.012385  0.015291  0.012245  ...      0     0     0     0     0     0   \n",
       "4  0.018959  0.019211  0.015479  ...      0     0     0     0     0     0   \n",
       "\n",
       "   7586  7587  7588  7589  \n",
       "0     0     0     0     0  \n",
       "1     0     0     0     0  \n",
       "2     0     0     0     0  \n",
       "3     0     0     0     0  \n",
       "4     0     0     0     0  \n",
       "\n",
       "[5 rows x 7590 columns]"
      ]
     },
     "execution_count": 15,
     "metadata": {},
     "output_type": "execute_result"
    }
   ],
   "source": [
    "hc_tar_ex[hc_tar_ex]"
   ]
  },
  {
   "cell_type": "code",
   "execution_count": 45,
   "metadata": {
    "collapsed": false
   },
   "outputs": [],
   "source": [
    "partial = hc_tar_ex[hc_tar_ex.columns.values[:670]]"
   ]
  },
  {
   "cell_type": "code",
   "execution_count": 42,
   "metadata": {
    "collapsed": false
   },
   "outputs": [
    {
     "data": {
      "text/html": [
       "<div>\n",
       "<table border=\"1\" class=\"dataframe\">\n",
       "  <thead>\n",
       "    <tr style=\"text-align: right;\">\n",
       "      <th></th>\n",
       "      <th>Target</th>\n",
       "      <th>Sequence</th>\n",
       "    </tr>\n",
       "  </thead>\n",
       "  <tbody>\n",
       "    <tr>\n",
       "      <th>0</th>\n",
       "      <td>P35228</td>\n",
       "      <td>MACPWKFLFKTKFHQYAMNGEKDINNNVEKAPCATSSPVTQDDLQY...</td>\n",
       "    </tr>\n",
       "  </tbody>\n",
       "</table>\n",
       "</div>"
      ],
      "text/plain": [
       "   Target                                           Sequence\n",
       "0  P35228  MACPWKFLFKTKFHQYAMNGEKDINNNVEKAPCATSSPVTQDDLQY..."
      ]
     },
     "execution_count": 42,
     "metadata": {},
     "output_type": "execute_result"
    }
   ],
   "source": [
    "gold_target.head(1)"
   ]
  },
  {
   "cell_type": "code",
   "execution_count": 46,
   "metadata": {
    "collapsed": false
   },
   "outputs": [],
   "source": [
    "partial.columns = gold_target.Target.tolist()"
   ]
  },
  {
   "cell_type": "code",
   "execution_count": 52,
   "metadata": {
    "collapsed": false
   },
   "outputs": [
    {
     "data": {
      "text/plain": [
       "(7590, 670)"
      ]
     },
     "execution_count": 52,
     "metadata": {},
     "output_type": "execute_result"
    }
   ],
   "source": [
    "partial.shape"
   ]
  },
  {
   "cell_type": "code",
   "execution_count": 53,
   "metadata": {
    "collapsed": false
   },
   "outputs": [],
   "source": [
    "partial.index = herb_target.uniprotID.tolist()"
   ]
  },
  {
   "cell_type": "code",
   "execution_count": 66,
   "metadata": {
    "collapsed": false
   },
   "outputs": [],
   "source": [
    "partial.to_csv(\"/DAS_Storage1/aschoi/data/Drug_Repositioning/5_new_drug/new_predict/similarity_protein_hc_gold_index.tsv\", sep='\\t')\n",
    "partial.to_csv(\"/home/share/aschoi/nas/users/asolchoi/data/Drug_Repositioning/5_new_drug/new_predict/similarity_protein_hc_gold_index.tsv\", sep='\\t')"
   ]
  },
  {
   "cell_type": "code",
   "execution_count": 68,
   "metadata": {
    "collapsed": true
   },
   "outputs": [],
   "source": [
    "except_gold_protein = pd.read_table(\"/DAS_Storage1/aschoi/data/Drug_Repositioning/5_new_drug/new_predict/4_3_herbal_compounds_target_except_gold_new.tsv\")"
   ]
  },
  {
   "cell_type": "code",
   "execution_count": 71,
   "metadata": {
    "collapsed": false
   },
   "outputs": [],
   "source": [
    "hc_tar_ex_new = partial.filter(items = except_gold_protein.uniprotID, axis=0)"
   ]
  },
  {
   "cell_type": "code",
   "execution_count": 72,
   "metadata": {
    "collapsed": true
   },
   "outputs": [],
   "source": [
    "gold_indep_target = pd.read_table(\"/DAS_Storage1/aschoi/data/Drug_Repositioning/5_new_drug/new_predict/drug_target_seq.tsv\")"
   ]
  },
  {
   "cell_type": "code",
   "execution_count": 73,
   "metadata": {
    "collapsed": true
   },
   "outputs": [],
   "source": [
    "tarSim.columns = gold_indep_target.Entry.tolist()\n",
    "tarSim.index = gold_indep_target.Entry.tolist()"
   ]
  },
  {
   "cell_type": "code",
   "execution_count": 75,
   "metadata": {
    "collapsed": false
   },
   "outputs": [
    {
     "name": "stdout",
     "output_type": "stream",
     "text": [
      "(2309, 2309)\n",
      "(2309, 5)\n",
      "670\n"
     ]
    }
   ],
   "source": [
    "print tarSim.shape\n",
    "print tarSeq.shape\n",
    "print len(tarSeq.Target.drop_duplicates())"
   ]
  },
  {
   "cell_type": "code",
   "execution_count": 76,
   "metadata": {
    "collapsed": true
   },
   "outputs": [],
   "source": [
    "ext_gold_tar_id = sub_b[sub_b.uniprotID.isin(tarSeq.Target)].drop_duplicates('uniprotID').uniprotID.tolist()"
   ]
  },
  {
   "cell_type": "code",
   "execution_count": 77,
   "metadata": {
    "collapsed": true
   },
   "outputs": [],
   "source": [
    "tmp1 = tarSim[~tarSim.index.duplicated()]\n",
    "tmp2 = tmp1.loc[:, ~tmp1.columns.duplicated()]\n",
    "ext_gold_tar = tmp2.filter(items = ext_gold_tar_id, axis=0)"
   ]
  },
  {
   "cell_type": "code",
   "execution_count": 78,
   "metadata": {
    "collapsed": true
   },
   "outputs": [],
   "source": [
    "hc_tar_sim = pd.concat([hc_tar_ex_new, ext_gold_tar])"
   ]
  },
  {
   "cell_type": "code",
   "execution_count": 79,
   "metadata": {
    "collapsed": false
   },
   "outputs": [
    {
     "data": {
      "text/html": [
       "<div>\n",
       "<table border=\"1\" class=\"dataframe\">\n",
       "  <thead>\n",
       "    <tr style=\"text-align: right;\">\n",
       "      <th></th>\n",
       "      <th>P35228</th>\n",
       "      <th>Q9P0X4</th>\n",
       "      <th>P00519</th>\n",
       "      <th>P23219</th>\n",
       "      <th>P21728</th>\n",
       "      <th>P51168</th>\n",
       "      <th>P20309</th>\n",
       "      <th>O43246</th>\n",
       "      <th>Q07869</th>\n",
       "      <th>Q12809</th>\n",
       "      <th>...</th>\n",
       "      <th>Q9UGJ0</th>\n",
       "      <th>Q9UGI9</th>\n",
       "      <th>Q14571</th>\n",
       "      <th>Q14573</th>\n",
       "      <th>Q14123</th>\n",
       "      <th>P51160</th>\n",
       "      <th>P16499</th>\n",
       "      <th>P35913</th>\n",
       "      <th>Q9Y698</th>\n",
       "      <th>Q92806</th>\n",
       "    </tr>\n",
       "  </thead>\n",
       "  <tbody>\n",
       "    <tr>\n",
       "      <th>P11245</th>\n",
       "      <td>0.014274</td>\n",
       "      <td>0.009387</td>\n",
       "      <td>0.015436</td>\n",
       "      <td>0.020695</td>\n",
       "      <td>0.020867</td>\n",
       "      <td>0.021093</td>\n",
       "      <td>0.026532</td>\n",
       "      <td>0.01722</td>\n",
       "      <td>0.028348</td>\n",
       "      <td>0.014849</td>\n",
       "      <td>...</td>\n",
       "      <td>0.034546</td>\n",
       "      <td>0.024622</td>\n",
       "      <td>0.011882</td>\n",
       "      <td>0.010611</td>\n",
       "      <td>0.015694</td>\n",
       "      <td>0.015634</td>\n",
       "      <td>0.0215</td>\n",
       "      <td>0.021294</td>\n",
       "      <td>0.017281</td>\n",
       "      <td>0.022545</td>\n",
       "    </tr>\n",
       "  </tbody>\n",
       "</table>\n",
       "<p>1 rows × 670 columns</p>\n",
       "</div>"
      ],
      "text/plain": [
       "          P35228    Q9P0X4    P00519    P23219    P21728    P51168    P20309  \\\n",
       "P11245  0.014274  0.009387  0.015436  0.020695  0.020867  0.021093  0.026532   \n",
       "\n",
       "         O43246    Q07869    Q12809    ...       Q9UGJ0    Q9UGI9    Q14571  \\\n",
       "P11245  0.01722  0.028348  0.014849    ...     0.034546  0.024622  0.011882   \n",
       "\n",
       "          Q14573    Q14123    P51160  P16499    P35913    Q9Y698    Q92806  \n",
       "P11245  0.010611  0.015694  0.015634  0.0215  0.021294  0.017281  0.022545  \n",
       "\n",
       "[1 rows x 670 columns]"
      ]
     },
     "execution_count": 79,
     "metadata": {},
     "output_type": "execute_result"
    }
   ],
   "source": [
    "hc_tar_sim.head(1)"
   ]
  },
  {
   "cell_type": "code",
   "execution_count": 80,
   "metadata": {
    "collapsed": true
   },
   "outputs": [],
   "source": [
    "gold_tar_sim = pd.read_table(\"/DAS_Storage1/aschoi/data/Drug_Repositioning/5_new_drug/new_predict/1_drug_drug_target_sim_mat.tsv\", index_col=0)"
   ]
  },
  {
   "cell_type": "code",
   "execution_count": 81,
   "metadata": {
    "collapsed": false
   },
   "outputs": [
    {
     "ename": "NameError",
     "evalue": "name 'hc_seq' is not defined",
     "output_type": "error",
     "traceback": [
      "\u001b[0;31m\u001b[0m",
      "\u001b[0;31mNameError\u001b[0mTraceback (most recent call last)",
      "\u001b[0;32m<ipython-input-81-be9e71434a8b>\u001b[0m in \u001b[0;36m<module>\u001b[0;34m()\u001b[0m\n\u001b[0;32m----> 1\u001b[0;31m \u001b[0mhc\u001b[0m \u001b[0;34m=\u001b[0m \u001b[0mhc_seq\u001b[0m\u001b[0;34m.\u001b[0m\u001b[0mcompID\u001b[0m\u001b[0;34m.\u001b[0m\u001b[0mtolist\u001b[0m\u001b[0;34m(\u001b[0m\u001b[0;34m)\u001b[0m\u001b[0;34m\u001b[0m\u001b[0m\n\u001b[0m\u001b[1;32m      2\u001b[0m \u001b[0mgd\u001b[0m \u001b[0;34m=\u001b[0m \u001b[0mgold_tar_sim\u001b[0m\u001b[0;34m.\u001b[0m\u001b[0mindex\u001b[0m\u001b[0;34m.\u001b[0m\u001b[0mtolist\u001b[0m\u001b[0;34m(\u001b[0m\u001b[0;34m)\u001b[0m\u001b[0;34m\u001b[0m\u001b[0m\n\u001b[1;32m      3\u001b[0m \u001b[0mdf\u001b[0m \u001b[0;34m=\u001b[0m \u001b[0mpd\u001b[0m\u001b[0;34m.\u001b[0m\u001b[0mDataFrame\u001b[0m\u001b[0;34m(\u001b[0m\u001b[0mcolumns\u001b[0m\u001b[0;34m=\u001b[0m\u001b[0mgd\u001b[0m\u001b[0;34m,\u001b[0m \u001b[0mindex\u001b[0m\u001b[0;34m=\u001b[0m\u001b[0mhc\u001b[0m\u001b[0;34m)\u001b[0m\u001b[0;34m\u001b[0m\u001b[0m\n\u001b[1;32m      4\u001b[0m \u001b[0mdf\u001b[0m\u001b[0;34m.\u001b[0m\u001b[0mfillna\u001b[0m\u001b[0;34m(\u001b[0m\u001b[0;36m0.0\u001b[0m\u001b[0;34m,\u001b[0m \u001b[0minplace\u001b[0m\u001b[0;34m=\u001b[0m\u001b[0mTrue\u001b[0m\u001b[0;34m)\u001b[0m\u001b[0;34m\u001b[0m\u001b[0m\n",
      "\u001b[0;31mNameError\u001b[0m: name 'hc_seq' is not defined"
     ]
    }
   ],
   "source": [
    "hc = hc_seq.compID.tolist()\n",
    "gd = gold_tar_sim.index.tolist()\n",
    "df = pd.DataFrame(columns=gd, index=hc)\n",
    "df.fillna(0.0, inplace=True)"
   ]
  },
  {
   "cell_type": "code",
   "execution_count": null,
   "metadata": {
    "collapsed": true
   },
   "outputs": [],
   "source": []
  }
 ],
 "metadata": {
  "kernelspec": {
   "display_name": "Python 2",
   "language": "python",
   "name": "python2"
  },
  "language_info": {
   "codemirror_mode": {
    "name": "ipython",
    "version": 2
   },
   "file_extension": ".py",
   "mimetype": "text/x-python",
   "name": "python",
   "nbconvert_exporter": "python",
   "pygments_lexer": "ipython2",
   "version": "2.7.6"
  }
 },
 "nbformat": 4,
 "nbformat_minor": 0
}
