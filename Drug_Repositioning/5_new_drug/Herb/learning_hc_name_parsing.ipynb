{
 "cells": [
  {
   "cell_type": "code",
   "execution_count": 1,
   "metadata": {
    "collapsed": true
   },
   "outputs": [],
   "source": [
    "import MySQLdb\n",
    "import pandas as pd\n",
    "import numpy as np\n",
    "from datetime import datetime"
   ]
  },
  {
   "cell_type": "code",
   "execution_count": 2,
   "metadata": {
    "collapsed": true
   },
   "outputs": [],
   "source": [
    "hc = pd.read_table(\"/DAS_Storage1/aschoi/data/Drug_Repositioning/5_new_drug/new_predict/4_3_2_herbal_comp_gold_drug_tar_sim_mat_predict.tsv\", index_col=0)"
   ]
  },
  {
   "cell_type": "code",
   "execution_count": 4,
   "metadata": {
    "collapsed": false
   },
   "outputs": [
    {
     "name": "stdout",
     "output_type": "stream",
     "text": [
      "66\n"
     ]
    }
   ],
   "source": [
    "hc_ids = hc.index.tolist()\n",
    "print len(hc_ids)"
   ]
  },
  {
   "cell_type": "code",
   "execution_count": 5,
   "metadata": {
    "collapsed": true
   },
   "outputs": [],
   "source": [
    "#접속하기\n",
    "db_handle = MySQLdb.connect('localhost', 'root','comsysbio', 'COCONUTv5')\n",
    "#cur = db_handle.cursor(MySQLdb.cursors.DictCursor) # query를 통해 데이터를 얻을 때 python의 dict로 얻기 위한 방법\n",
    "cursor = db_handle.cursor()"
   ]
  },
  {
   "cell_type": "code",
   "execution_count": 6,
   "metadata": {
    "collapsed": false
   },
   "outputs": [
    {
     "data": {
      "text/plain": [
       "'(119, 614, 1001, 1331, 1530, 1531, 2969, 3005, 3761, 4286, 8019, 58258, 78876, 79938, 79942, 80164, 8739, 7874, 79982, 9926, 752, 562, 8012, 1343, 1878, 243, 4020, 139, 141, 845, 5525, 79939, 1020, 666, 80097, 86025, 7859, 2682, 837, 4521, 10195, 153, 926, 5529, 10086, 543, 760, 7475, 77956, 823, 732, 1166, 8024, 1167, 9210, 416, 1529, 7996, 622, 773, 80082, 9471, 1574, 43066, 83229, 9670)'"
      ]
     },
     "execution_count": 6,
     "metadata": {},
     "output_type": "execute_result"
    }
   ],
   "source": [
    "\"{}\".format(tuple(hc_ids))"
   ]
  },
  {
   "cell_type": "code",
   "execution_count": 7,
   "metadata": {
    "collapsed": true
   },
   "outputs": [],
   "source": [
    "# herbal compound 관련 name, synonym 뽑기\n",
    "query1 = \"SELECT compID, name, synonym FROM Compound where compID in {}\".format(tuple(hc_ids))\n",
    "cursor.execute(query1); #쿼리 날리는 거\n",
    "results = cursor.fetchall() # cursor.fetchone()은 tuple, cursor.fetchall()은 list of tuples을 리턴한다."
   ]
  },
  {
   "cell_type": "code",
   "execution_count": 8,
   "metadata": {
    "collapsed": true
   },
   "outputs": [],
   "source": [
    "np_results = np.array(results)"
   ]
  },
  {
   "cell_type": "code",
   "execution_count": 10,
   "metadata": {
    "collapsed": true
   },
   "outputs": [],
   "source": [
    "df_results = pd.DataFrame({'compID' : np_results[:, 0], 'name' : np_results[:, 1], 'synonym' : np_results[:, 2]})"
   ]
  },
  {
   "cell_type": "code",
   "execution_count": 12,
   "metadata": {
    "collapsed": false
   },
   "outputs": [],
   "source": [
    "df_results.to_csv(\"/DAS_Storage1/aschoi/data/Drug_Repositioning/5_new_drug/new_predict/learning_hc_name_synonym.tsv\", sep='\\t', index=False)"
   ]
  },
  {
   "cell_type": "code",
   "execution_count": null,
   "metadata": {
    "collapsed": true
   },
   "outputs": [],
   "source": []
  }
 ],
 "metadata": {
  "kernelspec": {
   "display_name": "Python 2",
   "language": "python",
   "name": "python2"
  },
  "language_info": {
   "codemirror_mode": {
    "name": "ipython",
    "version": 2
   },
   "file_extension": ".py",
   "mimetype": "text/x-python",
   "name": "python",
   "nbconvert_exporter": "python",
   "pygments_lexer": "ipython2",
   "version": "2.7.6"
  }
 },
 "nbformat": 4,
 "nbformat_minor": 2
}
