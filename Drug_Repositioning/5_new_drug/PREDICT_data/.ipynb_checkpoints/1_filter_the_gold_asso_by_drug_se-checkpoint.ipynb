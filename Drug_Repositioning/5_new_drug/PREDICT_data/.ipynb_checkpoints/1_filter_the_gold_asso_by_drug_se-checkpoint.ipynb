{
 "cells": [
  {
   "cell_type": "code",
   "execution_count": 1,
   "metadata": {
    "collapsed": true
   },
   "outputs": [],
   "source": [
    "import csv\n",
    "import numpy as np\n",
    "import pandas as pd\n",
    "import time\n",
    "from urllib2 import urlopen # python2\n",
    "import urllib2"
   ]
  },
  {
   "cell_type": "code",
   "execution_count": 2,
   "metadata": {
    "collapsed": true
   },
   "outputs": [],
   "source": [
    "sider_id = pd.read_table(\"/DAS_Storage1/aschoi/data/Drug_Repositioning/5_new_drug/3_3_SIDER_STITCHid_DrugBankid.tsv\")\n",
    "sider_se = pd.read_table(\"/DAS_Storage1/aschoi/data/Drug_Repositioning/5_new_drug/3_4_SIDER_db_side_effect.tsv\")\n",
    "offside_id = pd.read_table(\"/DAS_Storage1/aschoi/data/Drug_Repositioning/5_new_drug/4_3_OFFSIDE_STITCHid_DrugBankid.tsv\")\n",
    "offside_se = pd.read_table(\"/DAS_Storage1/aschoi/data/Drug_Repositioning/5_new_drug/4_4_OFFSIDE_db_side_effect.tsv\")"
   ]
  },
  {
   "cell_type": "code",
   "execution_count": 3,
   "metadata": {
    "collapsed": true
   },
   "outputs": [],
   "source": [
    "df_asso = pd.read_table(\"/DAS_Storage1/aschoi/data/Drug_Repositioning/7_new_association/3_PREDICT_id_association.tsv\")"
   ]
  },
  {
   "cell_type": "code",
   "execution_count": 4,
   "metadata": {
    "collapsed": false
   },
   "outputs": [
    {
     "name": "stdout",
     "output_type": "stream",
     "text": [
      "1920\n",
      "588\n",
      "313\n"
     ]
    },
    {
     "data": {
      "text/html": [
       "<div>\n",
       "<table border=\"1\" class=\"dataframe\">\n",
       "  <thead>\n",
       "    <tr style=\"text-align: right;\">\n",
       "      <th></th>\n",
       "      <th>DrugBank_ID</th>\n",
       "      <th>OMIM_ID</th>\n",
       "    </tr>\n",
       "  </thead>\n",
       "  <tbody>\n",
       "    <tr>\n",
       "      <th>0</th>\n",
       "      <td>DB00659</td>\n",
       "      <td>103780</td>\n",
       "    </tr>\n",
       "    <tr>\n",
       "      <th>1</th>\n",
       "      <td>DB00284</td>\n",
       "      <td>125853</td>\n",
       "    </tr>\n",
       "  </tbody>\n",
       "</table>\n",
       "</div>"
      ],
      "text/plain": [
       "  DrugBank_ID  OMIM_ID\n",
       "0     DB00659   103780\n",
       "1     DB00284   125853"
      ]
     },
     "execution_count": 4,
     "metadata": {},
     "output_type": "execute_result"
    }
   ],
   "source": [
    "print(len(df_asso))\n",
    "print(len(df_asso.drop_duplicates(subset='DrugBank_ID')))\n",
    "print(len(df_asso.drop_duplicates(subset='OMIM_ID')))\n",
    "df_asso.head(2)"
   ]
  },
  {
   "cell_type": "code",
   "execution_count": 5,
   "metadata": {
    "collapsed": true
   },
   "outputs": [],
   "source": [
    "sider_merged = pd.merge(left=sider_id, right=sider_se)"
   ]
  },
  {
   "cell_type": "code",
   "execution_count": 6,
   "metadata": {
    "collapsed": false
   },
   "outputs": [
    {
     "name": "stdout",
     "output_type": "stream",
     "text": [
      "73951\n",
      "73951\n"
     ]
    }
   ],
   "source": [
    "sider_db_se = sider_merged[['DrugBank_ID','UMLS_concept_id_for_MedDRA','side_effect_name']]\n",
    "print len(sider_db_se)\n",
    "print len(sider_db_se.drop_duplicates())"
   ]
  },
  {
   "cell_type": "code",
   "execution_count": null,
   "metadata": {
    "collapsed": true
   },
   "outputs": [],
   "source": [
    "sider_db_se.to_csv(\"/home/share/aschoi/nas/users/asolchoi/data/Drug_Repositioning/5_new_drug/3_5_SIDER_DrugBank_sideffect.tsv\", sep='\\t', index=False)\n",
    "sider_db_se.to_csv(\"/DAS_Storage1/aschoi/data/Drug_Repositioning/5_new_drug/3_5_SIDER_DrugBank_sideffect.tsv\", sep='\\t', index=False)"
   ]
  },
  {
   "cell_type": "code",
   "execution_count": 7,
   "metadata": {
    "collapsed": true
   },
   "outputs": [],
   "source": [
    "off_merged = pd.merge(left=offside_id, right=offside_se, left_on = 'STITCH_compound_id_stereo', right_on='stitch_id')"
   ]
  },
  {
   "cell_type": "code",
   "execution_count": 8,
   "metadata": {
    "collapsed": false
   },
   "outputs": [
    {
     "name": "stdout",
     "output_type": "stream",
     "text": [
      "195460\n",
      "195460\n"
     ]
    }
   ],
   "source": [
    "off_db_se = off_merged[['DrugBank_ID', 'umls_id', 'event']]\n",
    "print len(off_db_se)\n",
    "print len(off_db_se.drop_duplicates())"
   ]
  },
  {
   "cell_type": "code",
   "execution_count": null,
   "metadata": {
    "collapsed": true
   },
   "outputs": [],
   "source": [
    "off_db_se.to_csv(\"/home/share/aschoi/nas/users/asolchoi/data/Drug_Repositioning/5_new_drug/4_5_OFFSIDE_DrugBank_sideffect.tsv\", sep='\\t', index=False)\n",
    "off_db_se.to_csv(\"/DAS_Storage1/aschoi/data/Drug_Repositioning/5_new_drug/4_5_OFFSIDE_DrugBank_sideffect.tsv\", sep='\\t', index=False)"
   ]
  },
  {
   "cell_type": "code",
   "execution_count": 9,
   "metadata": {
    "collapsed": true
   },
   "outputs": [],
   "source": [
    "sider_db_se = sider_db_se.rename(columns={'UMLS_concept_id_for_MedDRA':'umls_id', 'side_effect_name':'event'})"
   ]
  },
  {
   "cell_type": "code",
   "execution_count": 10,
   "metadata": {
    "collapsed": false
   },
   "outputs": [
    {
     "name": "stdout",
     "output_type": "stream",
     "text": [
      "269411\n"
     ]
    }
   ],
   "source": [
    "concated = pd.concat([sider_db_se, off_db_se])\n",
    "print len(concated)"
   ]
  },
  {
   "cell_type": "code",
   "execution_count": 11,
   "metadata": {
    "collapsed": true
   },
   "outputs": [],
   "source": [
    "drugbank_se = concated.drop_duplicates(['DrugBank_ID', 'umls_id'])"
   ]
  },
  {
   "cell_type": "code",
   "execution_count": 12,
   "metadata": {
    "collapsed": false
   },
   "outputs": [
    {
     "name": "stdout",
     "output_type": "stream",
     "text": [
      "259679\n",
      "1034\n",
      "10009\n",
      "12209\n"
     ]
    }
   ],
   "source": [
    "print len(drugbank_se)\n",
    "print len(drugbank_se.drop_duplicates('DrugBank_ID'))\n",
    "print len(drugbank_se.drop_duplicates('umls_id'))\n",
    "print len(drugbank_se.drop_duplicates('event'))"
   ]
  },
  {
   "cell_type": "code",
   "execution_count": null,
   "metadata": {
    "collapsed": true
   },
   "outputs": [],
   "source": [
    "drugbank_se.to_csv(\"/DAS_Storage1/aschoi/data/Drug_Repositioning/5_new_drug/5_DrugBank_SideEffect_total.tsv\", sep='\\t', index=False)\n",
    "drugbank_se.to_csv(\"/home/share/aschoi/nas/users/asolchoi/data/Drug_Repositioning/5_new_drug/5_DrugBank_SideEffect_total.tsv\", sep='\\t', index=False)"
   ]
  },
  {
   "cell_type": "code",
   "execution_count": 13,
   "metadata": {
    "collapsed": false
   },
   "outputs": [
    {
     "name": "stdout",
     "output_type": "stream",
     "text": [
      "1920\n",
      "1554\n",
      "460\n",
      "282\n"
     ]
    }
   ],
   "source": [
    "print len(df_asso)\n",
    "df_asso_se = df_asso[df_asso['DrugBank_ID'].isin(drugbank_se['DrugBank_ID'])]\n",
    "print len(df_asso_se)\n",
    "print len(df_asso_se.drop_duplicates('DrugBank_ID'))\n",
    "print len(df_asso_se.drop_duplicates('OMIM_ID'))"
   ]
  },
  {
   "cell_type": "code",
   "execution_count": 14,
   "metadata": {
    "collapsed": false
   },
   "outputs": [
    {
     "name": "stdout",
     "output_type": "stream",
     "text": [
      "158296\n",
      "158296\n",
      "460\n",
      "9092\n"
     ]
    }
   ],
   "source": [
    "gold_se = drugbank_se[drugbank_se['DrugBank_ID'].isin(df_asso['DrugBank_ID'])]\n",
    "print len(gold_se)\n",
    "print len(gold_se.drop_duplicates())\n",
    "print len(gold_se.drop_duplicates('DrugBank_ID'))\n",
    "print len(gold_se.drop_duplicates('umls_id'))"
   ]
  },
  {
   "cell_type": "code",
   "execution_count": null,
   "metadata": {
    "collapsed": true
   },
   "outputs": [],
   "source": [
    "gold_se.to_csv(\"/home/share/aschoi/nas/users/asolchoi/data/Drug_Repositioning/5_new_drug/PREDICT_data/1_gold_drug_se.tsv\", sep='\\t', index=False)\n",
    "gold_se.to_csv(\"/DAS_Storage1/aschoi/data/Drug_Repositioning/5_new_drug/PREDICT_data/1_gold_drug_se.tsv\", sep='\\t', index=False)"
   ]
  },
  {
   "cell_type": "code",
   "execution_count": 17,
   "metadata": {
    "collapsed": true
   },
   "outputs": [],
   "source": [
    "df_asso_se.to_csv(\"/home/share/aschoi/nas/users/asolchoi/data/Drug_Repositioning/7_new_association/PREDICT_data/1_gold_asso_with_se.tsv\", sep='\\t', index=False)\n",
    "df_asso_se.to_csv(\"/DAS_Storage1/aschoi/data/Drug_Repositioning/7_new_association/PREDICT_data/1_gold_asso_with_se.tsv\", sep='\\t', index=False)"
   ]
  },
  {
   "cell_type": "code",
   "execution_count": null,
   "metadata": {
    "collapsed": true
   },
   "outputs": [],
   "source": []
  },
  {
   "cell_type": "code",
   "execution_count": null,
   "metadata": {
    "collapsed": true
   },
   "outputs": [],
   "source": []
  },
  {
   "cell_type": "code",
   "execution_count": null,
   "metadata": {
    "collapsed": true
   },
   "outputs": [],
   "source": []
  },
  {
   "cell_type": "code",
   "execution_count": null,
   "metadata": {
    "collapsed": true
   },
   "outputs": [],
   "source": []
  }
 ],
 "metadata": {
  "kernelspec": {
   "display_name": "Python 2",
   "language": "python",
   "name": "python2"
  },
  "language_info": {
   "codemirror_mode": {
    "name": "ipython",
    "version": 2
   },
   "file_extension": ".py",
   "mimetype": "text/x-python",
   "name": "python",
   "nbconvert_exporter": "python",
   "pygments_lexer": "ipython2",
   "version": "2.7.6"
  }
 },
 "nbformat": 4,
 "nbformat_minor": 2
}
