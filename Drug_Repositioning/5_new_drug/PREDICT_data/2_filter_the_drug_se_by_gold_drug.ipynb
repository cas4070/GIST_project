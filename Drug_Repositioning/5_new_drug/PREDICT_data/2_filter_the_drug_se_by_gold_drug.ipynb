{
 "cells": [
  {
   "cell_type": "code",
   "execution_count": 11,
   "metadata": {
    "collapsed": true
   },
   "outputs": [],
   "source": [
    "import csv\n",
    "import numpy as np\n",
    "import pandas as pd\n",
    "import time\n",
    "from urllib2 import urlopen # python2\n",
    "import urllib2"
   ]
  },
  {
   "cell_type": "code",
   "execution_count": 12,
   "metadata": {
    "collapsed": false
   },
   "outputs": [],
   "source": [
    "drug_se = pd.read_table(\"/DAS_Storage1/aschoi/data/Drug_Repositioning/5_new_drug/PREDICT_data/1_bef_gold_drug_se.tsv\")\n",
    "gold_asso = pd.read_table(\"/DAS_Storage1/aschoi/data/Drug_Repositioning/7_new_association/PREDICT_data/2_gold_asso.tsv\")"
   ]
  },
  {
   "cell_type": "code",
   "execution_count": 15,
   "metadata": {
    "collapsed": false
   },
   "outputs": [
    {
     "name": "stdout",
     "output_type": "stream",
     "text": [
      "97250\n",
      "97250\n",
      "460\n",
      "2276\n"
     ]
    }
   ],
   "source": [
    "print len(drug_se)\n",
    "print len(drug_se.drop_duplicates())\n",
    "print len(drug_se.drop_duplicates('DrugBank_ID'))\n",
    "print len(drug_se.drop_duplicates('umls_id'))"
   ]
  },
  {
   "cell_type": "code",
   "execution_count": 19,
   "metadata": {
    "collapsed": false
   },
   "outputs": [
    {
     "name": "stdout",
     "output_type": "stream",
     "text": [
      "1362\n",
      "1362\n",
      "446\n",
      "235\n"
     ]
    }
   ],
   "source": [
    "print len(gold_asso)\n",
    "print len(gold_asso.drop_duplicates())\n",
    "print len(gold_asso.drop_duplicates('DrugBank_ID'))\n",
    "print len(gold_asso.drop_duplicates('OMIM_ID'))"
   ]
  },
  {
   "cell_type": "code",
   "execution_count": 20,
   "metadata": {
    "collapsed": false
   },
   "outputs": [],
   "source": [
    "gold_se = drug_se[drug_se['DrugBank_ID'].isin(gold_asso['DrugBank_ID'])]"
   ]
  },
  {
   "cell_type": "code",
   "execution_count": 21,
   "metadata": {
    "collapsed": false
   },
   "outputs": [
    {
     "name": "stdout",
     "output_type": "stream",
     "text": [
      "94843\n",
      "446\n",
      "2275\n"
     ]
    }
   ],
   "source": [
    "print len(gold_se)\n",
    "print len(gold_se.drop_duplicates('DrugBank_ID'))\n",
    "print len(gold_se.drop_duplicates('umls_id'))"
   ]
  },
  {
   "cell_type": "code",
   "execution_count": 29,
   "metadata": {
    "collapsed": false
   },
   "outputs": [],
   "source": [
    "gold_se.to_csv(\"/DAS_Storage1/aschoi/data/Drug_Repositioning/5_new_drug/PREDICT_data/2_gold_drug_se.tsv\", index=False, sep='\\t')\n",
    "gold_se.to_csv(\"/home/share/aschoi/nas/users/asolchoi/data/Drug_Repositioning/5_new_drug/PREDICT_data/2_gold_drug_se.tsv\", index=False, sep='\\t')"
   ]
  },
  {
   "cell_type": "code",
   "execution_count": null,
   "metadata": {
    "collapsed": true
   },
   "outputs": [],
   "source": []
  }
 ],
 "metadata": {
  "kernelspec": {
   "display_name": "Python 2",
   "language": "python",
   "name": "python2"
  },
  "language_info": {
   "codemirror_mode": {
    "name": "ipython",
    "version": 2
   },
   "file_extension": ".py",
   "mimetype": "text/x-python",
   "name": "python",
   "nbconvert_exporter": "python",
   "pygments_lexer": "ipython2",
   "version": "2.7.6"
  }
 },
 "nbformat": 4,
 "nbformat_minor": 2
}
