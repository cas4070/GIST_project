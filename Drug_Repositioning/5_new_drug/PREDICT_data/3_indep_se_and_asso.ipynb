{
 "cells": [
  {
   "cell_type": "code",
   "execution_count": 1,
   "metadata": {
    "collapsed": true
   },
   "outputs": [],
   "source": [
    "import csv\n",
    "import numpy as np\n",
    "import pandas as pd\n",
    "import time"
   ]
  },
  {
   "cell_type": "code",
   "execution_count": 2,
   "metadata": {
    "collapsed": true
   },
   "outputs": [],
   "source": [
    "indep = pd.read_table(\"/DAS_Storage1/aschoi/data/Drug_Repositioning/7_new_association/MBiRW-master/Datasets/Datasets_indep/indep_asso.tsv\")"
   ]
  },
  {
   "cell_type": "code",
   "execution_count": 45,
   "metadata": {
    "collapsed": false
   },
   "outputs": [
    {
     "name": "stdout",
     "output_type": "stream",
     "text": [
      "115\n",
      "313\n"
     ]
    },
    {
     "data": {
      "text/html": [
       "<div>\n",
       "<table border=\"1\" class=\"dataframe\">\n",
       "  <thead>\n",
       "    <tr style=\"text-align: right;\">\n",
       "      <th></th>\n",
       "      <th>drug</th>\n",
       "      <th>disease</th>\n",
       "      <th>association</th>\n",
       "    </tr>\n",
       "  </thead>\n",
       "  <tbody>\n",
       "    <tr>\n",
       "      <th>0</th>\n",
       "      <td>DB00035</td>\n",
       "      <td>D102100</td>\n",
       "      <td>0</td>\n",
       "    </tr>\n",
       "  </tbody>\n",
       "</table>\n",
       "</div>"
      ],
      "text/plain": [
       "      drug  disease  association\n",
       "0  DB00035  D102100            0"
      ]
     },
     "execution_count": 45,
     "metadata": {},
     "output_type": "execute_result"
    }
   ],
   "source": [
    "print len(indep.drop_duplicates('drug'))\n",
    "print len(indep.drop_duplicates('disease'))\n",
    "indep.head(1)"
   ]
  },
  {
   "cell_type": "code",
   "execution_count": 3,
   "metadata": {
    "collapsed": false
   },
   "outputs": [],
   "source": [
    "indep_pos = indep[indep.association ==1]"
   ]
  },
  {
   "cell_type": "code",
   "execution_count": 34,
   "metadata": {
    "collapsed": true
   },
   "outputs": [],
   "source": [
    "sider_DrugBank_id = pd.read_table(\"/DAS_Storage1/aschoi/data/Drug_Repositioning/5_new_drug/3_3_SIDER_STITCHid_DrugBankid.tsv\")\n",
    "offside_DrugBank_id = pd.read_table(\"/DAS_Storage1/aschoi/data/Drug_Repositioning/5_new_drug/4_3_OFFSIDE_STITCHid_DrugBankid.tsv\")\n",
    "sider_feature = pd.read_table(\"/DAS_Storage1/aschoi/data/Drug_Repositioning/5_new_drug/3_4_SIDER_db_side_effect.tsv\")\n",
    "offside_feature = pd.read_table(\"/DAS_Storage1/aschoi/data/Drug_Repositioning/5_new_drug/4_4_OFFSIDE_db_side_effect.tsv\")"
   ]
  },
  {
   "cell_type": "code",
   "execution_count": 35,
   "metadata": {
    "collapsed": false
   },
   "outputs": [
    {
     "name": "stdout",
     "output_type": "stream",
     "text": [
      "61\n",
      "61\n"
     ]
    },
    {
     "data": {
      "text/html": [
       "<div>\n",
       "<table border=\"1\" class=\"dataframe\">\n",
       "  <thead>\n",
       "    <tr style=\"text-align: right;\">\n",
       "      <th></th>\n",
       "      <th>STITCH_compound_id_flat</th>\n",
       "      <th>STITCH_compound_id_stereo</th>\n",
       "      <th>DrugBank_ID</th>\n",
       "    </tr>\n",
       "  </thead>\n",
       "  <tbody>\n",
       "    <tr>\n",
       "      <th>9</th>\n",
       "      <td>CID100003075</td>\n",
       "      <td>CID000039186</td>\n",
       "      <td>DB00343</td>\n",
       "    </tr>\n",
       "  </tbody>\n",
       "</table>\n",
       "</div>"
      ],
      "text/plain": [
       "  STITCH_compound_id_flat STITCH_compound_id_stereo DrugBank_ID\n",
       "9            CID100003075              CID000039186     DB00343"
      ]
     },
     "execution_count": 35,
     "metadata": {},
     "output_type": "execute_result"
    }
   ],
   "source": [
    "sider_found = sider_DrugBank_id[sider_DrugBank_id['DrugBank_ID'].isin(indep['drug'])]\n",
    "print len(sider_found)\n",
    "print len(sider_found.drop_duplicates(subset = 'DrugBank_ID'))\n",
    "sider_found.head(1)"
   ]
  },
  {
   "cell_type": "code",
   "execution_count": 36,
   "metadata": {
    "collapsed": false
   },
   "outputs": [
    {
     "name": "stdout",
     "output_type": "stream",
     "text": [
      "46\n",
      "46\n"
     ]
    },
    {
     "data": {
      "text/html": [
       "<div>\n",
       "<table border=\"1\" class=\"dataframe\">\n",
       "  <thead>\n",
       "    <tr style=\"text-align: right;\">\n",
       "      <th></th>\n",
       "      <th>STITCH_compound_id_stereo</th>\n",
       "      <th>DrugBank_ID</th>\n",
       "    </tr>\n",
       "  </thead>\n",
       "  <tbody>\n",
       "    <tr>\n",
       "      <th>7</th>\n",
       "      <td>CID000000702</td>\n",
       "      <td>DB00898</td>\n",
       "    </tr>\n",
       "  </tbody>\n",
       "</table>\n",
       "</div>"
      ],
      "text/plain": [
       "  STITCH_compound_id_stereo DrugBank_ID\n",
       "7              CID000000702     DB00898"
      ]
     },
     "execution_count": 36,
     "metadata": {},
     "output_type": "execute_result"
    }
   ],
   "source": [
    "offside_found = offside_DrugBank_id[offside_DrugBank_id['DrugBank_ID'].isin(indep['drug'])]\n",
    "print len(offside_found)\n",
    "print len(offside_found.drop_duplicates(subset = 'DrugBank_ID'))\n",
    "offside_found.head(1)"
   ]
  },
  {
   "cell_type": "code",
   "execution_count": 37,
   "metadata": {
    "collapsed": true
   },
   "outputs": [],
   "source": [
    "sider_result = pd.DataFrame()\n",
    "for index, row in sider_found.iterrows():\n",
    "    li_row = row.tolist()\n",
    "    flat = li_row[0]\n",
    "    stereo = li_row[1]\n",
    "    drugbank_id = li_row[2]\n",
    "    filtered = sider_feature[(sider_feature.STITCH_compound_id_flat == flat) & (sider_feature.STITCH_compound_id_stereo == stereo)]\n",
    "    for index2, row2 in filtered.iterrows():\n",
    "        umls_id = row2['UMLS_concept_id_for_MedDRA']\n",
    "        temp_df = pd.DataFrame([[drugbank_id, umls_id]], columns=['DrugBank_ID', 'umls_id'])\n",
    "        sider_result = sider_result.append(temp_df)"
   ]
  },
  {
   "cell_type": "code",
   "execution_count": 38,
   "metadata": {
    "collapsed": false
   },
   "outputs": [
    {
     "name": "stdout",
     "output_type": "stream",
     "text": [
      "61\n",
      "1448\n"
     ]
    }
   ],
   "source": [
    "print len(sider_result.drop_duplicates(subset = 'DrugBank_ID'))\n",
    "print len(sider_result.drop_duplicates(subset = 'umls_id'))"
   ]
  },
  {
   "cell_type": "code",
   "execution_count": 39,
   "metadata": {
    "collapsed": true
   },
   "outputs": [],
   "source": [
    "offside_result = pd.DataFrame()\n",
    "for index, row in offside_found.iterrows():\n",
    "    li_row = row.tolist()\n",
    "    stereo = li_row[0]\n",
    "    drugbank_id = li_row[1]\n",
    "    filtered = offside_feature[offside_feature.stitch_id == stereo]\n",
    "    for index2, row2 in filtered.iterrows():\n",
    "        umls_id = row2['umls_id']\n",
    "        temp_df = pd.DataFrame([[drugbank_id, umls_id]], columns=['DrugBank_ID', 'umls_id'])\n",
    "        offside_result = offside_result.append(temp_df)"
   ]
  },
  {
   "cell_type": "code",
   "execution_count": 40,
   "metadata": {
    "collapsed": false
   },
   "outputs": [
    {
     "name": "stdout",
     "output_type": "stream",
     "text": [
      "46\n",
      "4471\n"
     ]
    }
   ],
   "source": [
    "print len(offside_result.drop_duplicates(subset = 'DrugBank_ID'))\n",
    "print len(offside_result.drop_duplicates(subset = 'umls_id'))"
   ]
  },
  {
   "cell_type": "code",
   "execution_count": 41,
   "metadata": {
    "collapsed": true
   },
   "outputs": [],
   "source": [
    "frames = [sider_result, offside_result]\n",
    "combined = pd.concat(frames).sort_values(by = 'DrugBank_ID').drop_duplicates()"
   ]
  },
  {
   "cell_type": "code",
   "execution_count": 42,
   "metadata": {
    "collapsed": false
   },
   "outputs": [
    {
     "name": "stdout",
     "output_type": "stream",
     "text": [
      "23173\n",
      "77\n"
     ]
    }
   ],
   "source": [
    "print len(combined)\n",
    "print len(combined.drop_duplicates(subset = 'DrugBank_ID')) # drug의 수"
   ]
  },
  {
   "cell_type": "code",
   "execution_count": 44,
   "metadata": {
    "collapsed": false
   },
   "outputs": [
    {
     "name": "stdout",
     "output_type": "stream",
     "text": [
      "14816\n",
      "77\n",
      "1864\n"
     ]
    },
    {
     "data": {
      "text/html": [
       "<div>\n",
       "<table border=\"1\" class=\"dataframe\">\n",
       "  <thead>\n",
       "    <tr style=\"text-align: right;\">\n",
       "      <th></th>\n",
       "      <th>DrugBank_ID</th>\n",
       "      <th>umls_id</th>\n",
       "    </tr>\n",
       "  </thead>\n",
       "  <tbody>\n",
       "    <tr>\n",
       "      <th>0</th>\n",
       "      <td>DB00125</td>\n",
       "      <td>C0008301</td>\n",
       "    </tr>\n",
       "  </tbody>\n",
       "</table>\n",
       "</div>"
      ],
      "text/plain": [
       "  DrugBank_ID   umls_id\n",
       "0     DB00125  C0008301"
      ]
     },
     "execution_count": 44,
     "metadata": {},
     "output_type": "execute_result"
    }
   ],
   "source": [
    "filtered = combined[combined['umls_id'].isin(gold_se['umls_id'])]\n",
    "print len(filtered)\n",
    "print len(filtered.drop_duplicates(subset = 'DrugBank_ID')) # indep의 drug 수 \n",
    "print len(filtered.drop_duplicates(subset = 'umls_id')) # 공통되는 feature의 수\n",
    "filtered.head(1)"
   ]
  },
  {
   "cell_type": "code",
   "execution_count": 48,
   "metadata": {
    "collapsed": false
   },
   "outputs": [
    {
     "name": "stdout",
     "output_type": "stream",
     "text": [
      "98\n",
      "98\n",
      "77\n",
      "39\n"
     ]
    },
    {
     "data": {
      "text/html": [
       "<div>\n",
       "<table border=\"1\" class=\"dataframe\">\n",
       "  <thead>\n",
       "    <tr style=\"text-align: right;\">\n",
       "      <th></th>\n",
       "      <th>drug</th>\n",
       "      <th>disease</th>\n",
       "      <th>association</th>\n",
       "    </tr>\n",
       "  </thead>\n",
       "  <tbody>\n",
       "    <tr>\n",
       "      <th>178</th>\n",
       "      <td>DB01200</td>\n",
       "      <td>D102300</td>\n",
       "      <td>1</td>\n",
       "    </tr>\n",
       "  </tbody>\n",
       "</table>\n",
       "</div>"
      ],
      "text/plain": [
       "        drug  disease  association\n",
       "178  DB01200  D102300            1"
      ]
     },
     "execution_count": 48,
     "metadata": {},
     "output_type": "execute_result"
    }
   ],
   "source": [
    "indep_pos_se = indep_pos[indep_pos['drug'].isin(filtered['DrugBank_ID'])]\n",
    "print len(indep_pos_se)\n",
    "print len(indep_pos_se.drop_duplicates())\n",
    "print len(indep_pos_se.drop_duplicates('drug'))\n",
    "print len(indep_pos_se.drop_duplicates('disease'))\n",
    "indep_pos_se.head(1)"
   ]
  },
  {
   "cell_type": "code",
   "execution_count": 49,
   "metadata": {
    "collapsed": false
   },
   "outputs": [
    {
     "name": "stderr",
     "output_type": "stream",
     "text": [
      "/usr/local/lib/python2.7/dist-packages/ipykernel/__main__.py:4: SettingWithCopyWarning: \n",
      "A value is trying to be set on a copy of a slice from a DataFrame.\n",
      "Try using .loc[row_indexer,col_indexer] = value instead\n",
      "\n",
      "See the caveats in the documentation: http://pandas.pydata.org/pandas-docs/stable/indexing.html#indexing-view-versus-copy\n"
     ]
    },
    {
     "data": {
      "text/html": [
       "<div>\n",
       "<table border=\"1\" class=\"dataframe\">\n",
       "  <thead>\n",
       "    <tr style=\"text-align: right;\">\n",
       "      <th></th>\n",
       "      <th>drug</th>\n",
       "      <th>disease</th>\n",
       "      <th>association</th>\n",
       "    </tr>\n",
       "  </thead>\n",
       "  <tbody>\n",
       "    <tr>\n",
       "      <th>178</th>\n",
       "      <td>DB01200</td>\n",
       "      <td>102300</td>\n",
       "      <td>1</td>\n",
       "    </tr>\n",
       "  </tbody>\n",
       "</table>\n",
       "</div>"
      ],
      "text/plain": [
       "        drug  disease  association\n",
       "178  DB01200   102300            1"
      ]
     },
     "execution_count": 49,
     "metadata": {},
     "output_type": "execute_result"
    }
   ],
   "source": [
    "omim = list()\n",
    "for i in indep_pos_se['disease']:\n",
    "    omim.append(int(i[1:]))\n",
    "indep_pos_se['disease'] = omim\n",
    "indep_pos_se.head(1)"
   ]
  },
  {
   "cell_type": "code",
   "execution_count": 52,
   "metadata": {
    "collapsed": false
   },
   "outputs": [
    {
     "name": "stdout",
     "output_type": "stream",
     "text": [
      "93\n",
      "93\n",
      "73\n",
      "35\n"
     ]
    },
    {
     "data": {
      "text/html": [
       "<div>\n",
       "<table border=\"1\" class=\"dataframe\">\n",
       "  <thead>\n",
       "    <tr style=\"text-align: right;\">\n",
       "      <th></th>\n",
       "      <th>drug</th>\n",
       "      <th>disease</th>\n",
       "      <th>association</th>\n",
       "    </tr>\n",
       "  </thead>\n",
       "  <tbody>\n",
       "    <tr>\n",
       "      <th>178</th>\n",
       "      <td>DB01200</td>\n",
       "      <td>102300</td>\n",
       "      <td>1</td>\n",
       "    </tr>\n",
       "    <tr>\n",
       "      <th>601</th>\n",
       "      <td>DB00575</td>\n",
       "      <td>103780</td>\n",
       "      <td>1</td>\n",
       "    </tr>\n",
       "  </tbody>\n",
       "</table>\n",
       "</div>"
      ],
      "text/plain": [
       "        drug  disease  association\n",
       "178  DB01200   102300            1\n",
       "601  DB00575   103780            1"
      ]
     },
     "execution_count": 52,
     "metadata": {},
     "output_type": "execute_result"
    }
   ],
   "source": [
    "gold_asso = pd.read_table(\"/DAS_Storage1/aschoi/data/Drug_Repositioning/7_new_association/PREDICT_data/2_gold_asso.tsv\")\n",
    "indep_pos_se_dige = indep_pos_se[indep_pos_se['disease'].isin(gold_asso['OMIM_ID'])]\n",
    "print len(indep_pos_se_dige)\n",
    "print len(indep_pos_se_dige.drop_duplicates())\n",
    "print len(indep_pos_se_dige.drop_duplicates('drug'))\n",
    "print len(indep_pos_se_dige.drop_duplicates('disease'))\n",
    "indep_pos_se_dige.head(2)"
   ]
  },
  {
   "cell_type": "code",
   "execution_count": 54,
   "metadata": {
    "collapsed": true
   },
   "outputs": [],
   "source": [
    "indep_pos_se_dige.to_csv(\"/home/share/aschoi/nas/users/asolchoi/data/Drug_Repositioning/7_new_association/PREDICT_data/3_indep_asso.tsv\", sep='\\t', index=False)\n",
    "indep_pos_se_dige.to_csv(\"/DAS_Storage1/aschoi/data/Drug_Repositioning/7_new_association/PREDICT_data/3_indep_asso.tsv\", sep='\\t', index=False)"
   ]
  },
  {
   "cell_type": "code",
   "execution_count": 53,
   "metadata": {
    "collapsed": false
   },
   "outputs": [
    {
     "name": "stdout",
     "output_type": "stream",
     "text": [
      "14127\n",
      "73\n",
      "1844\n"
     ]
    },
    {
     "data": {
      "text/html": [
       "<div>\n",
       "<table border=\"1\" class=\"dataframe\">\n",
       "  <thead>\n",
       "    <tr style=\"text-align: right;\">\n",
       "      <th></th>\n",
       "      <th>DrugBank_ID</th>\n",
       "      <th>umls_id</th>\n",
       "    </tr>\n",
       "  </thead>\n",
       "  <tbody>\n",
       "    <tr>\n",
       "      <th>0</th>\n",
       "      <td>DB00125</td>\n",
       "      <td>C0008301</td>\n",
       "    </tr>\n",
       "  </tbody>\n",
       "</table>\n",
       "</div>"
      ],
      "text/plain": [
       "  DrugBank_ID   umls_id\n",
       "0     DB00125  C0008301"
      ]
     },
     "execution_count": 53,
     "metadata": {},
     "output_type": "execute_result"
    }
   ],
   "source": [
    "temp = filtered[filtered['DrugBank_ID'].isin(indep_pos_se_dige['drug'])]\n",
    "print len(temp)\n",
    "print len(temp.drop_duplicates(subset = 'DrugBank_ID')) # indep의 drug 수 \n",
    "print len(temp.drop_duplicates(subset = 'umls_id')) # 공통되는 feature의 수\n",
    "temp.head(1)"
   ]
  },
  {
   "cell_type": "code",
   "execution_count": 55,
   "metadata": {
    "collapsed": true
   },
   "outputs": [],
   "source": [
    "temp.to_csv(\"/home/share/aschoi/nas/users/asolchoi/data/Drug_Repositioning/5_new_drug/PREDICT_data/3_indep_drug_se.tsv\", sep='\\t', index=False)\n",
    "temp.to_csv(\"/DAS_Storage1/aschoi/data/Drug_Repositioning/5_new_drug/PREDICT_data/3_indep_drug_se.tsv\", sep='\\t', index=False)"
   ]
  },
  {
   "cell_type": "code",
   "execution_count": 57,
   "metadata": {
    "collapsed": false
   },
   "outputs": [
    {
     "name": "stdout",
     "output_type": "stream",
     "text": [
      "92321\n",
      "92321\n",
      "446\n",
      "1844\n"
     ]
    }
   ],
   "source": [
    "indep_gold_se = gold_se[gold_se['umls_id'].isin(temp['umls_id'])]\n",
    "print len(indep_gold_se)\n",
    "print len(indep_gold_se.drop_duplicates())\n",
    "print len(indep_gold_se.drop_duplicates('DrugBank_ID'))\n",
    "print len(indep_gold_se.drop_duplicates('umls_id'))"
   ]
  },
  {
   "cell_type": "code",
   "execution_count": 58,
   "metadata": {
    "collapsed": true
   },
   "outputs": [],
   "source": [
    "indep_gold_se.to_csv(\"/home/share/aschoi/nas/users/asolchoi/data/Drug_Repositioning/5_new_drug/PREDICT_data/4_gold_se_by_indep.tsv\", sep='\\t', index=False)\n",
    "indep_gold_se.to_csv(\"/DAS_Storage1/aschoi/data/Drug_Repositioning/5_new_drug/PREDICT_data/4_gold_se_by_indep.tsv\", sep='\\t', index=False)"
   ]
  },
  {
   "cell_type": "code",
   "execution_count": null,
   "metadata": {
    "collapsed": true
   },
   "outputs": [],
   "source": []
  }
 ],
 "metadata": {
  "kernelspec": {
   "display_name": "Python 2",
   "language": "python",
   "name": "python2"
  },
  "language_info": {
   "codemirror_mode": {
    "name": "ipython",
    "version": 2
   },
   "file_extension": ".py",
   "mimetype": "text/x-python",
   "name": "python",
   "nbconvert_exporter": "python",
   "pygments_lexer": "ipython2",
   "version": "2.7.6"
  }
 },
 "nbformat": 4,
 "nbformat_minor": 2
}
