{
 "cells": [
  {
   "cell_type": "code",
   "execution_count": 1,
   "metadata": {
    "collapsed": true
   },
   "outputs": [],
   "source": [
    "import csv\n",
    "import numpy as np\n",
    "import os\n",
    "import pandas as pd\n",
    "import requests\n",
    "import time"
   ]
  },
  {
   "cell_type": "code",
   "execution_count": 4,
   "metadata": {
    "collapsed": false
   },
   "outputs": [],
   "source": [
    "asso = pd.read_table(\"/home/share/aschoi/data/Drug_Repositioning/7_new_association/bi_random_walk_Cdataset_association.tsv\")"
   ]
  },
  {
   "cell_type": "code",
   "execution_count": 20,
   "metadata": {
    "collapsed": false,
    "scrolled": false
   },
   "outputs": [
    {
     "name": "stdout",
     "output_type": "stream",
     "text": [
      "20516\n"
     ]
    },
    {
     "data": {
      "text/html": [
       "<div>\n",
       "<table border=\"1\" class=\"dataframe\">\n",
       "  <thead>\n",
       "    <tr style=\"text-align: right;\">\n",
       "      <th></th>\n",
       "      <th>Prefix</th>\n",
       "      <th>Mim_Number</th>\n",
       "      <th>Preferred Title; symbol</th>\n",
       "      <th>Alternative Title(s); symbol(s)</th>\n",
       "      <th>Included Title(s); symbols</th>\n",
       "    </tr>\n",
       "  </thead>\n",
       "  <tbody>\n",
       "    <tr>\n",
       "      <th>0</th>\n",
       "      <td>NaN</td>\n",
       "      <td>100050</td>\n",
       "      <td>AARSKOG SYNDROME, AUTOSOMAL DOMINANT</td>\n",
       "      <td>NaN</td>\n",
       "      <td>NaN</td>\n",
       "    </tr>\n",
       "  </tbody>\n",
       "</table>\n",
       "</div>"
      ],
      "text/plain": [
       "  Prefix  Mim_Number               Preferred Title; symbol  \\\n",
       "0    NaN      100050  AARSKOG SYNDROME, AUTOSOMAL DOMINANT   \n",
       "\n",
       "  Alternative Title(s); symbol(s) Included Title(s); symbols  \n",
       "0                             NaN                        NaN  "
      ]
     },
     "execution_count": 20,
     "metadata": {},
     "output_type": "execute_result"
    }
   ],
   "source": [
    "mimTitles = pd.read_table(\"/home/share/aschoi/data/Drug_Repositioning/6_new_disease/mimTitles.txt\", skiprows = 2)\n",
    "mimTitles = mimTitles.rename(columns = {\"# Prefix\" : \"Prefix\",\"Mim Number\" : \"Mim_Number\", \"Preferred Tite; symborl\" : \"Preferred_Titles\"})\n",
    "print len(mimTitles)\n",
    "mimTitles.head(1)"
   ]
  },
  {
   "cell_type": "code",
   "execution_count": 32,
   "metadata": {
    "collapsed": false
   },
   "outputs": [
    {
     "data": {
      "text/html": [
       "<div>\n",
       "<table border=\"1\" class=\"dataframe\">\n",
       "  <thead>\n",
       "    <tr style=\"text-align: right;\">\n",
       "      <th></th>\n",
       "      <th>Phenotype</th>\n",
       "      <th>Gene_Symbols</th>\n",
       "      <th>MIM_Number</th>\n",
       "      <th>Cyto_Location</th>\n",
       "    </tr>\n",
       "  </thead>\n",
       "  <tbody>\n",
       "    <tr>\n",
       "      <th>0</th>\n",
       "      <td>17,20-lyase deficiency, isolated, 202110 (3)</td>\n",
       "      <td>CYP17A1, CYP17, P450C17</td>\n",
       "      <td>609300.0</td>\n",
       "      <td>10q24.32</td>\n",
       "    </tr>\n",
       "    <tr>\n",
       "      <th>1</th>\n",
       "      <td>17-alpha-hydroxylase/17,20-lyase deficiency, 2...</td>\n",
       "      <td>CYP17A1, CYP17, P450C17</td>\n",
       "      <td>609300.0</td>\n",
       "      <td>10q24.32</td>\n",
       "    </tr>\n",
       "    <tr>\n",
       "      <th>2</th>\n",
       "      <td>17-beta-hydroxysteroid dehydrogenase X deficie...</td>\n",
       "      <td>HSD17B10, HADH2, ERAB, MRXS10</td>\n",
       "      <td>300256.0</td>\n",
       "      <td>Xp11.22</td>\n",
       "    </tr>\n",
       "    <tr>\n",
       "      <th>3</th>\n",
       "      <td>2-aminoadipic 2-oxoadipic aciduria, 204750 (3)</td>\n",
       "      <td>DHTKD1, KIAA1630, AMOXAD, CMT2Q</td>\n",
       "      <td>614984.0</td>\n",
       "      <td>10p14</td>\n",
       "    </tr>\n",
       "    <tr>\n",
       "      <th>4</th>\n",
       "      <td>2-methylbutyrylglycinuria, 610006 (3)</td>\n",
       "      <td>ACADSB, SBCAD</td>\n",
       "      <td>600301.0</td>\n",
       "      <td>10q26.13</td>\n",
       "    </tr>\n",
       "  </tbody>\n",
       "</table>\n",
       "</div>"
      ],
      "text/plain": [
       "                                           Phenotype  \\\n",
       "0       17,20-lyase deficiency, isolated, 202110 (3)   \n",
       "1  17-alpha-hydroxylase/17,20-lyase deficiency, 2...   \n",
       "2  17-beta-hydroxysteroid dehydrogenase X deficie...   \n",
       "3     2-aminoadipic 2-oxoadipic aciduria, 204750 (3)   \n",
       "4              2-methylbutyrylglycinuria, 610006 (3)   \n",
       "\n",
       "                      Gene_Symbols  MIM_Number Cyto_Location  \n",
       "0          CYP17A1, CYP17, P450C17    609300.0      10q24.32  \n",
       "1          CYP17A1, CYP17, P450C17    609300.0      10q24.32  \n",
       "2    HSD17B10, HADH2, ERAB, MRXS10    300256.0       Xp11.22  \n",
       "3  DHTKD1, KIAA1630, AMOXAD, CMT2Q    614984.0         10p14  \n",
       "4                    ACADSB, SBCAD    600301.0      10q26.13  "
      ]
     },
     "execution_count": 32,
     "metadata": {},
     "output_type": "execute_result"
    }
   ],
   "source": [
    "morbid = pd.read_table(\"/home/share/aschoi/data/Drug_Repositioning/6_new_disease/morbidmap_txt.txt\")\n",
    "morbid.head()"
   ]
  },
  {
   "cell_type": "code",
   "execution_count": null,
   "metadata": {
    "collapsed": true
   },
   "outputs": [],
   "source": []
  },
  {
   "cell_type": "code",
   "execution_count": null,
   "metadata": {
    "collapsed": true
   },
   "outputs": [],
   "source": []
  }
 ],
 "metadata": {
  "kernelspec": {
   "display_name": "Python 2",
   "language": "python",
   "name": "python2"
  },
  "language_info": {
   "codemirror_mode": {
    "name": "ipython",
    "version": 2
   },
   "file_extension": ".py",
   "mimetype": "text/x-python",
   "name": "python",
   "nbconvert_exporter": "python",
   "pygments_lexer": "ipython2",
   "version": "2.7.6"
  }
 },
 "nbformat": 4,
 "nbformat_minor": 0
}
