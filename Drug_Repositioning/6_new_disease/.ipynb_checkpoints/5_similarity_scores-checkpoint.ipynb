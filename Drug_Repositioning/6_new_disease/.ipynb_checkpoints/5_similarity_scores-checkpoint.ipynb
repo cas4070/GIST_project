{
 "cells": [
  {
   "cell_type": "code",
   "execution_count": 1,
   "metadata": {
    "collapsed": true
   },
   "outputs": [],
   "source": [
    "import csv\n",
    "import numpy as np\n",
    "import os\n",
    "import pandas as pd\n",
    "import time"
   ]
  },
  {
   "cell_type": "code",
   "execution_count": 4,
   "metadata": {
    "collapsed": true
   },
   "outputs": [],
   "source": [
    "gold_disease = pd.read_table(\"/DAS_Storage1/aschoi/data/Drug_Repositioning/6_new_disease/8_gold_standard_disease_binary_matrix.tsv\", index_col=0)"
   ]
  },
  {
   "cell_type": "code",
   "execution_count": 7,
   "metadata": {
    "collapsed": false
   },
   "outputs": [
    {
     "data": {
      "text/html": [
       "<div>\n",
       "<table border=\"1\" class=\"dataframe\">\n",
       "  <thead>\n",
       "    <tr style=\"text-align: right;\">\n",
       "      <th></th>\n",
       "      <th>102300</th>\n",
       "      <th>102400</th>\n",
       "      <th>102500</th>\n",
       "      <th>103780</th>\n",
       "      <th>104130</th>\n",
       "      <th>104300</th>\n",
       "      <th>106400</th>\n",
       "      <th>107650</th>\n",
       "      <th>109100</th>\n",
       "      <th>109200</th>\n",
       "      <th>...</th>\n",
       "      <th>607631</th>\n",
       "      <th>607681</th>\n",
       "      <th>607682</th>\n",
       "      <th>607850</th>\n",
       "      <th>608088</th>\n",
       "      <th>608105</th>\n",
       "      <th>608217</th>\n",
       "      <th>608320</th>\n",
       "      <th>608583</th>\n",
       "      <th>608622</th>\n",
       "    </tr>\n",
       "  </thead>\n",
       "  <tbody>\n",
       "    <tr>\n",
       "      <th>100188812</th>\n",
       "      <td>1</td>\n",
       "      <td>0</td>\n",
       "      <td>0</td>\n",
       "      <td>0</td>\n",
       "      <td>0</td>\n",
       "      <td>0</td>\n",
       "      <td>0</td>\n",
       "      <td>0</td>\n",
       "      <td>0</td>\n",
       "      <td>0</td>\n",
       "      <td>...</td>\n",
       "      <td>0</td>\n",
       "      <td>0</td>\n",
       "      <td>0</td>\n",
       "      <td>0</td>\n",
       "      <td>0</td>\n",
       "      <td>0</td>\n",
       "      <td>0</td>\n",
       "      <td>0</td>\n",
       "      <td>0</td>\n",
       "      <td>0</td>\n",
       "    </tr>\n",
       "    <tr>\n",
       "      <th>100188813</th>\n",
       "      <td>1</td>\n",
       "      <td>0</td>\n",
       "      <td>0</td>\n",
       "      <td>0</td>\n",
       "      <td>0</td>\n",
       "      <td>0</td>\n",
       "      <td>0</td>\n",
       "      <td>0</td>\n",
       "      <td>0</td>\n",
       "      <td>0</td>\n",
       "      <td>...</td>\n",
       "      <td>0</td>\n",
       "      <td>0</td>\n",
       "      <td>0</td>\n",
       "      <td>0</td>\n",
       "      <td>0</td>\n",
       "      <td>0</td>\n",
       "      <td>0</td>\n",
       "      <td>0</td>\n",
       "      <td>0</td>\n",
       "      <td>0</td>\n",
       "    </tr>\n",
       "    <tr>\n",
       "      <th>100188839</th>\n",
       "      <td>1</td>\n",
       "      <td>0</td>\n",
       "      <td>0</td>\n",
       "      <td>0</td>\n",
       "      <td>0</td>\n",
       "      <td>0</td>\n",
       "      <td>0</td>\n",
       "      <td>0</td>\n",
       "      <td>0</td>\n",
       "      <td>0</td>\n",
       "      <td>...</td>\n",
       "      <td>0</td>\n",
       "      <td>0</td>\n",
       "      <td>0</td>\n",
       "      <td>0</td>\n",
       "      <td>0</td>\n",
       "      <td>0</td>\n",
       "      <td>0</td>\n",
       "      <td>0</td>\n",
       "      <td>0</td>\n",
       "      <td>0</td>\n",
       "    </tr>\n",
       "    <tr>\n",
       "      <th>100302512</th>\n",
       "      <td>1</td>\n",
       "      <td>0</td>\n",
       "      <td>0</td>\n",
       "      <td>0</td>\n",
       "      <td>0</td>\n",
       "      <td>0</td>\n",
       "      <td>0</td>\n",
       "      <td>0</td>\n",
       "      <td>0</td>\n",
       "      <td>0</td>\n",
       "      <td>...</td>\n",
       "      <td>0</td>\n",
       "      <td>0</td>\n",
       "      <td>0</td>\n",
       "      <td>0</td>\n",
       "      <td>0</td>\n",
       "      <td>0</td>\n",
       "      <td>0</td>\n",
       "      <td>0</td>\n",
       "      <td>0</td>\n",
       "      <td>0</td>\n",
       "    </tr>\n",
       "    <tr>\n",
       "      <th>100302561</th>\n",
       "      <td>1</td>\n",
       "      <td>0</td>\n",
       "      <td>0</td>\n",
       "      <td>0</td>\n",
       "      <td>0</td>\n",
       "      <td>0</td>\n",
       "      <td>0</td>\n",
       "      <td>0</td>\n",
       "      <td>0</td>\n",
       "      <td>0</td>\n",
       "      <td>...</td>\n",
       "      <td>0</td>\n",
       "      <td>0</td>\n",
       "      <td>0</td>\n",
       "      <td>0</td>\n",
       "      <td>0</td>\n",
       "      <td>0</td>\n",
       "      <td>0</td>\n",
       "      <td>0</td>\n",
       "      <td>0</td>\n",
       "      <td>0</td>\n",
       "    </tr>\n",
       "  </tbody>\n",
       "</table>\n",
       "<p>5 rows × 235 columns</p>\n",
       "</div>"
      ],
      "text/plain": [
       "           102300  102400  102500  103780  104130  104300  106400  107650  \\\n",
       "100188812       1       0       0       0       0       0       0       0   \n",
       "100188813       1       0       0       0       0       0       0       0   \n",
       "100188839       1       0       0       0       0       0       0       0   \n",
       "100302512       1       0       0       0       0       0       0       0   \n",
       "100302561       1       0       0       0       0       0       0       0   \n",
       "\n",
       "           109100  109200   ...    607631  607681  607682  607850  608088  \\\n",
       "100188812       0       0   ...         0       0       0       0       0   \n",
       "100188813       0       0   ...         0       0       0       0       0   \n",
       "100188839       0       0   ...         0       0       0       0       0   \n",
       "100302512       0       0   ...         0       0       0       0       0   \n",
       "100302561       0       0   ...         0       0       0       0       0   \n",
       "\n",
       "           608105  608217  608320  608583  608622  \n",
       "100188812       0       0       0       0       0  \n",
       "100188813       0       0       0       0       0  \n",
       "100188839       0       0       0       0       0  \n",
       "100302512       0       0       0       0       0  \n",
       "100302561       0       0       0       0       0  \n",
       "\n",
       "[5 rows x 235 columns]"
      ]
     },
     "execution_count": 7,
     "metadata": {},
     "output_type": "execute_result"
    }
   ],
   "source": [
    "gold_disease.head()"
   ]
  },
  {
   "cell_type": "code",
   "execution_count": 30,
   "metadata": {
    "collapsed": true
   },
   "outputs": [],
   "source": [
    "from sklearn.metrics import jaccard_similarity_score\n",
    "df_jac = pd.DataFrame()\n",
    "disease_id = gold_disease.columns.tolist()\n",
    "for i in disease_id:\n",
    "    desc1 = gold_disease[i]\n",
    "    for j in disease_id:\n",
    "        desc2 = gold_disease[j]\n",
    "        jac_sim = jaccard_similarity_score(desc1,desc2)\n",
    "        \n",
    "        temp_df = pd.DataFrame([[i, j, jac_sim]], columns = ['Disease_ID1','Disease_ID2', 'Similarity_Score'])\n",
    "        df_jac = df_jac.append(temp_df)"
   ]
  },
  {
   "cell_type": "code",
   "execution_count": 26,
   "metadata": {
    "collapsed": false
   },
   "outputs": [],
   "source": [
    "df_jac.to_csv(\"/home/share/aschoi/nas/users/asolchoi/data/Drug_Repositioning/6_new_disease/9_gold_disease_similarity_genetic.tsv\", sep='\\t', index=False)\n",
    "df_jac.to_csv(\"/DAS_Storage1/aschoi/data/Drug_Repositioning/6_new_disease/9_gold_disease_similarity_genetic.tsv\", sep='\\t', index=False)"
   ]
  },
  {
   "cell_type": "code",
   "execution_count": 33,
   "metadata": {
    "collapsed": true
   },
   "outputs": [],
   "source": [
    "df_jac = pd.read_table(\"/DAS_Storage1/aschoi/data/Drug_Repositioning/6_new_disease/9_gold_disease_similarity_genetic.tsv\")"
   ]
  },
  {
   "cell_type": "code",
   "execution_count": 35,
   "metadata": {
    "collapsed": false
   },
   "outputs": [
    {
     "data": {
      "text/html": [
       "<div>\n",
       "<table border=\"1\" class=\"dataframe\">\n",
       "  <thead>\n",
       "    <tr style=\"text-align: right;\">\n",
       "      <th></th>\n",
       "      <th>Disease_ID1</th>\n",
       "      <th>Disease_ID2</th>\n",
       "      <th>Similarity_Score</th>\n",
       "    </tr>\n",
       "  </thead>\n",
       "  <tbody>\n",
       "    <tr>\n",
       "      <th>43088</th>\n",
       "      <td>303110</td>\n",
       "      <td>165199</td>\n",
       "      <td>0.826186</td>\n",
       "    </tr>\n",
       "    <tr>\n",
       "      <th>19688</th>\n",
       "      <td>165199</td>\n",
       "      <td>303110</td>\n",
       "      <td>0.826186</td>\n",
       "    </tr>\n",
       "    <tr>\n",
       "      <th>19606</th>\n",
       "      <td>165199</td>\n",
       "      <td>181500</td>\n",
       "      <td>0.830446</td>\n",
       "    </tr>\n",
       "    <tr>\n",
       "      <th>23818</th>\n",
       "      <td>181500</td>\n",
       "      <td>165199</td>\n",
       "      <td>0.830446</td>\n",
       "    </tr>\n",
       "    <tr>\n",
       "      <th>39563</th>\n",
       "      <td>264120</td>\n",
       "      <td>165199</td>\n",
       "      <td>0.831014</td>\n",
       "    </tr>\n",
       "  </tbody>\n",
       "</table>\n",
       "</div>"
      ],
      "text/plain": [
       "       Disease_ID1  Disease_ID2  Similarity_Score\n",
       "43088       303110       165199          0.826186\n",
       "19688       165199       303110          0.826186\n",
       "19606       165199       181500          0.830446\n",
       "23818       181500       165199          0.830446\n",
       "39563       264120       165199          0.831014"
      ]
     },
     "execution_count": 35,
     "metadata": {},
     "output_type": "execute_result"
    }
   ],
   "source": [
    "df_jac[df_jac.Similarity_Score != 1].sort_values('Similarity_Score').head()"
   ]
  },
  {
   "cell_type": "code",
   "execution_count": 45,
   "metadata": {
    "collapsed": false
   },
   "outputs": [],
   "source": [
    "df_mim = pd.read_table(\"/DAS_Storage1/aschoi/data/Drug_Repositioning/6_new_disease/MimMiner.txt\", header=None)"
   ]
  },
  {
   "cell_type": "code",
   "execution_count": 48,
   "metadata": {
    "collapsed": false
   },
   "outputs": [
    {
     "data": {
      "text/html": [
       "<div>\n",
       "<table border=\"1\" class=\"dataframe\">\n",
       "  <thead>\n",
       "    <tr style=\"text-align: right;\">\n",
       "      <th></th>\n",
       "      <th>0</th>\n",
       "      <th>1</th>\n",
       "      <th>2</th>\n",
       "      <th>3</th>\n",
       "      <th>4</th>\n",
       "      <th>5</th>\n",
       "      <th>6</th>\n",
       "      <th>7</th>\n",
       "      <th>8</th>\n",
       "      <th>9</th>\n",
       "      <th>...</th>\n",
       "      <th>5071</th>\n",
       "      <th>5072</th>\n",
       "      <th>5073</th>\n",
       "      <th>5074</th>\n",
       "      <th>5075</th>\n",
       "      <th>5076</th>\n",
       "      <th>5077</th>\n",
       "      <th>5078</th>\n",
       "      <th>5079</th>\n",
       "      <th>5080</th>\n",
       "    </tr>\n",
       "  </thead>\n",
       "  <tbody>\n",
       "    <tr>\n",
       "      <th>0</th>\n",
       "      <td>100050</td>\n",
       "      <td>1.000000</td>\n",
       "      <td>0.089034</td>\n",
       "      <td>0.361651</td>\n",
       "      <td>0.266263</td>\n",
       "      <td>0.368639</td>\n",
       "      <td>0.197142</td>\n",
       "      <td>0.067881</td>\n",
       "      <td>0.203997</td>\n",
       "      <td>0.238039</td>\n",
       "      <td>...</td>\n",
       "      <td>0.000000</td>\n",
       "      <td>0.056732</td>\n",
       "      <td>0.092064</td>\n",
       "      <td>0.049227</td>\n",
       "      <td>0.178066</td>\n",
       "      <td>0.132249</td>\n",
       "      <td>0.118521</td>\n",
       "      <td>0.157154</td>\n",
       "      <td>0.163718</td>\n",
       "      <td>0.195514</td>\n",
       "    </tr>\n",
       "    <tr>\n",
       "      <th>1</th>\n",
       "      <td>100070</td>\n",
       "      <td>0.089034</td>\n",
       "      <td>1.000000</td>\n",
       "      <td>0.087366</td>\n",
       "      <td>0.026785</td>\n",
       "      <td>0.148069</td>\n",
       "      <td>0.233403</td>\n",
       "      <td>0.125448</td>\n",
       "      <td>0.072799</td>\n",
       "      <td>0.089556</td>\n",
       "      <td>...</td>\n",
       "      <td>0.099061</td>\n",
       "      <td>0.000000</td>\n",
       "      <td>0.113751</td>\n",
       "      <td>0.000000</td>\n",
       "      <td>0.122792</td>\n",
       "      <td>0.130740</td>\n",
       "      <td>0.161343</td>\n",
       "      <td>0.031409</td>\n",
       "      <td>0.137056</td>\n",
       "      <td>0.041865</td>\n",
       "    </tr>\n",
       "  </tbody>\n",
       "</table>\n",
       "<p>2 rows × 5081 columns</p>\n",
       "</div>"
      ],
      "text/plain": [
       "     0         1         2         3         4         5         6     \\\n",
       "0  100050  1.000000  0.089034  0.361651  0.266263  0.368639  0.197142   \n",
       "1  100070  0.089034  1.000000  0.087366  0.026785  0.148069  0.233403   \n",
       "\n",
       "       7         8         9       ...         5071      5072      5073  \\\n",
       "0  0.067881  0.203997  0.238039    ...     0.000000  0.056732  0.092064   \n",
       "1  0.125448  0.072799  0.089556    ...     0.099061  0.000000  0.113751   \n",
       "\n",
       "       5074      5075      5076      5077      5078      5079      5080  \n",
       "0  0.049227  0.178066  0.132249  0.118521  0.157154  0.163718  0.195514  \n",
       "1  0.000000  0.122792  0.130740  0.161343  0.031409  0.137056  0.041865  \n",
       "\n",
       "[2 rows x 5081 columns]"
      ]
     },
     "execution_count": 48,
     "metadata": {},
     "output_type": "execute_result"
    }
   ],
   "source": [
    "df_mim.head(2)"
   ]
  },
  {
   "cell_type": "code",
   "execution_count": 51,
   "metadata": {
    "collapsed": false
   },
   "outputs": [],
   "source": [
    "omim_id = df_mim[0].tolist() # 첫번 째  컬럼이 omim의 id임.\n",
    "df_omim2 = df_mim[[x+1 for x in range(5080)]] # 1부터 마지막 column 선택 위해\n",
    "df_omim2.columns = omim_id\n",
    "df_omim2.index = omim_id"
   ]
  },
  {
   "cell_type": "code",
   "execution_count": 72,
   "metadata": {
    "collapsed": false
   },
   "outputs": [],
   "source": [
    "int_disease_id = [int(x) for x in disease_id]"
   ]
  },
  {
   "cell_type": "code",
   "execution_count": 80,
   "metadata": {
    "collapsed": false
   },
   "outputs": [],
   "source": [
    "temp = df_omim2.filter(items = int_disease_id)\n",
    "temp2 = temp.filter(items = int_disease_id, axis=0)"
   ]
  },
  {
   "cell_type": "code",
   "execution_count": 82,
   "metadata": {
    "collapsed": false
   },
   "outputs": [],
   "source": [
    "temp2.to_csv(\"/home/share/aschoi/nas/users/asolchoi/data/Drug_Repositioning/6_new_disease/9_gold_disease_similarity_mimminer.tsv\", sep='\\t')\n",
    "temp2.to_csv(\"/DAS_Storage1/aschoi/data/Drug_Repositioning/6_new_disease/9_gold_disease_similarity_mimminerc.tsv\", sep='\\t')"
   ]
  },
  {
   "cell_type": "code",
   "execution_count": 63,
   "metadata": {
    "collapsed": false
   },
   "outputs": [],
   "source": []
  },
  {
   "cell_type": "code",
   "execution_count": null,
   "metadata": {
    "collapsed": true
   },
   "outputs": [],
   "source": []
  }
 ],
 "metadata": {
  "kernelspec": {
   "display_name": "Python 2",
   "language": "python",
   "name": "python2"
  },
  "language_info": {
   "codemirror_mode": {
    "name": "ipython",
    "version": 2
   },
   "file_extension": ".py",
   "mimetype": "text/x-python",
   "name": "python",
   "nbconvert_exporter": "python",
   "pygments_lexer": "ipython2",
   "version": "2.7.6"
  }
 },
 "nbformat": 4,
 "nbformat_minor": 1
}
