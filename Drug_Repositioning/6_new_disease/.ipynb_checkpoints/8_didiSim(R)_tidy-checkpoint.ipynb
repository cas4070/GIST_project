{
 "cells": [
  {
   "cell_type": "code",
   "execution_count": 7,
   "metadata": {
    "collapsed": false
   },
   "outputs": [],
   "source": [
    "# R에서 작업한 didiHpo, didiGoSim을 정리하는 작업.\n",
    "# 1. header의 순서를 다른 didi sim mat의 순서와 동일하게 한다. (HpoSim같은 경우 이미 해놓음. 이 작업은 didiGO만 한다.)\n",
    "# 2. gold와 indep 버전을 만든다."
   ]
  },
  {
   "cell_type": "code",
   "execution_count": 3,
   "metadata": {
    "collapsed": true
   },
   "outputs": [],
   "source": [
    "import pandas as pd\n",
    "import numpy as np"
   ]
  },
  {
   "cell_type": "code",
   "execution_count": 19,
   "metadata": {
    "collapsed": true
   },
   "outputs": [],
   "source": [
    "diPhe = pd.read_table(\"/DAS_Storage1/aschoi/data/Drug_Repositioning/6_new_disease/new_predict/1_disease_disease_phe_sim_mat.tsv\", index_col=0)\n",
    "diGo = pd.read_table(\"/home/share/aschoi/nas/users/asolchoi/data/Drug_Repositioning/6_new_disease/diGOSim_resnik_BMA_header.txt\", index_col=0)\n",
    "#diHpo = pd.read_table(\"/home/share/aschoi/nas/users/asolchoi/data/Drug_Repositioning/6_new_disease/HPO_sim(sqrt, funSimMean,PA)_header.tsv\",index_col=0)\n",
    "#diHpo = pd.read_table(\"/home/share/aschoi/nas/users/asolchoi/data/Drug_Repositioning/6_new_disease/HPO_sim(sqrt,BMA,PA)_header.txt\",index_col=0)"
   ]
  },
  {
   "cell_type": "code",
   "execution_count": 5,
   "metadata": {
    "collapsed": false
   },
   "outputs": [
    {
     "data": {
      "text/html": [
       "<div>\n",
       "<table border=\"1\" class=\"dataframe\">\n",
       "  <thead>\n",
       "    <tr style=\"text-align: right;\">\n",
       "      <th></th>\n",
       "      <th>103780</th>\n",
       "      <th>608622</th>\n",
       "      <th>161900</th>\n",
       "      <th>145590</th>\n",
       "      <th>147530</th>\n",
       "      <th>157300</th>\n",
       "      <th>608088</th>\n",
       "      <th>140600</th>\n",
       "      <th>147480</th>\n",
       "      <th>600351</th>\n",
       "      <th>...</th>\n",
       "      <th>173200</th>\n",
       "      <th>115195</th>\n",
       "      <th>256700</th>\n",
       "      <th>601608</th>\n",
       "      <th>194070</th>\n",
       "      <th>115300</th>\n",
       "      <th>277350</th>\n",
       "      <th>240400</th>\n",
       "      <th>206200</th>\n",
       "      <th>250790</th>\n",
       "    </tr>\n",
       "  </thead>\n",
       "  <tbody>\n",
       "    <tr>\n",
       "      <th>103780</th>\n",
       "      <td>1.0</td>\n",
       "      <td>0.231225</td>\n",
       "      <td>0.112214</td>\n",
       "      <td>0.106257</td>\n",
       "      <td>0.078062</td>\n",
       "      <td>0.127741</td>\n",
       "      <td>0.108825</td>\n",
       "      <td>0.0</td>\n",
       "      <td>0.152292</td>\n",
       "      <td>0.057957</td>\n",
       "      <td>...</td>\n",
       "      <td>0.031407</td>\n",
       "      <td>0.150525</td>\n",
       "      <td>0.136234</td>\n",
       "      <td>0.16048</td>\n",
       "      <td>0.12331</td>\n",
       "      <td>0.178678</td>\n",
       "      <td>0.141056</td>\n",
       "      <td>0.200361</td>\n",
       "      <td>0.162371</td>\n",
       "      <td>0.187959</td>\n",
       "    </tr>\n",
       "  </tbody>\n",
       "</table>\n",
       "<p>1 rows × 233 columns</p>\n",
       "</div>"
      ],
      "text/plain": [
       "        103780    608622    161900    145590    147530    157300    608088  \\\n",
       "103780     1.0  0.231225  0.112214  0.106257  0.078062  0.127741  0.108825   \n",
       "\n",
       "        140600    147480    600351    ...       173200    115195    256700  \\\n",
       "103780     0.0  0.152292  0.057957    ...     0.031407  0.150525  0.136234   \n",
       "\n",
       "         601608   194070    115300    277350    240400    206200    250790  \n",
       "103780  0.16048  0.12331  0.178678  0.141056  0.200361  0.162371  0.187959  \n",
       "\n",
       "[1 rows x 233 columns]"
      ]
     },
     "execution_count": 5,
     "metadata": {},
     "output_type": "execute_result"
    }
   ],
   "source": [
    "diPhe.head(1)"
   ]
  },
  {
   "cell_type": "code",
   "execution_count": 15,
   "metadata": {
    "collapsed": false
   },
   "outputs": [
    {
     "data": {
      "text/html": [
       "<div>\n",
       "<table border=\"1\" class=\"dataframe\">\n",
       "  <thead>\n",
       "    <tr style=\"text-align: right;\">\n",
       "      <th></th>\n",
       "      <th>102300</th>\n",
       "      <th>102400</th>\n",
       "      <th>102500</th>\n",
       "      <th>166710</th>\n",
       "      <th>103780</th>\n",
       "      <th>104130</th>\n",
       "      <th>104300</th>\n",
       "      <th>125320</th>\n",
       "      <th>605055</th>\n",
       "      <th>106400</th>\n",
       "      <th>...</th>\n",
       "      <th>604416</th>\n",
       "      <th>605021</th>\n",
       "      <th>606703</th>\n",
       "      <th>606798</th>\n",
       "      <th>607459</th>\n",
       "      <th>607499</th>\n",
       "      <th>607554</th>\n",
       "      <th>608583</th>\n",
       "      <th>608088</th>\n",
       "      <th>608320</th>\n",
       "    </tr>\n",
       "  </thead>\n",
       "  <tbody>\n",
       "    <tr>\n",
       "      <th>102300</th>\n",
       "      <td>0.587</td>\n",
       "      <td>0.233</td>\n",
       "      <td>0.22</td>\n",
       "      <td>0.22</td>\n",
       "      <td>0.218</td>\n",
       "      <td>0.182</td>\n",
       "      <td>0.191</td>\n",
       "      <td>0.187</td>\n",
       "      <td>0.191</td>\n",
       "      <td>0.165</td>\n",
       "      <td>...</td>\n",
       "      <td>0.071</td>\n",
       "      <td>0.318</td>\n",
       "      <td>0.212</td>\n",
       "      <td>0.098</td>\n",
       "      <td>0.183</td>\n",
       "      <td>0.289</td>\n",
       "      <td>0.187</td>\n",
       "      <td>0.182</td>\n",
       "      <td>0.253</td>\n",
       "      <td>0.197</td>\n",
       "    </tr>\n",
       "  </tbody>\n",
       "</table>\n",
       "<p>1 rows × 233 columns</p>\n",
       "</div>"
      ],
      "text/plain": [
       "        102300  102400  102500  166710  103780  104130  104300  125320  \\\n",
       "102300   0.587   0.233    0.22    0.22   0.218   0.182   0.191   0.187   \n",
       "\n",
       "        605055  106400   ...    604416  605021  606703  606798  607459  \\\n",
       "102300   0.191   0.165   ...     0.071   0.318   0.212   0.098   0.183   \n",
       "\n",
       "        607499  607554  608583  608088  608320  \n",
       "102300   0.289   0.187   0.182   0.253   0.197  \n",
       "\n",
       "[1 rows x 233 columns]"
      ]
     },
     "execution_count": 15,
     "metadata": {},
     "output_type": "execute_result"
    }
   ],
   "source": [
    "diGo.head(1)"
   ]
  },
  {
   "cell_type": "code",
   "execution_count": 20,
   "metadata": {
    "collapsed": false
   },
   "outputs": [
    {
     "name": "stdout",
     "output_type": "stream",
     "text": [
      "True\n",
      "False\n"
     ]
    }
   ],
   "source": [
    "# R에서 구할 때, NA값이 있는 애들이 있음 --> 0으로 처리\n",
    "#diHpo.fillna(0.0, inplace=True)\n",
    "#print diHpo.isnull().any().any()\n",
    "print diGo.isnull().any().any()\n",
    "diGo.fillna(0.0, inplace=True)\n",
    "print diGo.isnull().any().any()"
   ]
  },
  {
   "cell_type": "code",
   "execution_count": null,
   "metadata": {
    "collapsed": true
   },
   "outputs": [],
   "source": [
    "# 이과정은 HPOsim의 경우에만 필요(index, column에 OMIM:이 붙어있었기 때문에)\n",
    "#diHpo.columns = diHpo.columns.str.slice(start=5,stop=11)\n",
    "#diHpo.index = [int(x[5:11]) for x in diHpo.index.tolist()]"
   ]
  },
  {
   "cell_type": "code",
   "execution_count": 21,
   "metadata": {
    "collapsed": true
   },
   "outputs": [],
   "source": [
    "# diGo의 column순서를 기존의 didi sim mat순서와 맞춘다.\n",
    "#order = diPhe.columns.values\n",
    "#diHpo = diHpo[order.tolist()]\n",
    "order = diPhe.columns.values\n",
    "diGo = diGo[order.tolist()]"
   ]
  },
  {
   "cell_type": "code",
   "execution_count": 23,
   "metadata": {
    "collapsed": false
   },
   "outputs": [
    {
     "data": {
      "text/plain": [
       "True"
      ]
     },
     "execution_count": 23,
     "metadata": {},
     "output_type": "execute_result"
    }
   ],
   "source": [
    "diPhe.columns.tolist() == diGo.columns.tolist()"
   ]
  },
  {
   "cell_type": "code",
   "execution_count": 24,
   "metadata": {
    "collapsed": true
   },
   "outputs": [],
   "source": [
    "# diGo의 index 순서를 기존의 didi sim mat순서와 맞춘다.\n",
    "diGo = diGo.reindex(index = diPhe.index)"
   ]
  },
  {
   "cell_type": "code",
   "execution_count": 25,
   "metadata": {
    "collapsed": false
   },
   "outputs": [
    {
     "data": {
      "text/plain": [
       "True"
      ]
     },
     "execution_count": 25,
     "metadata": {},
     "output_type": "execute_result"
    }
   ],
   "source": [
    "diPhe.index.tolist() == diGo.index.tolist()"
   ]
  },
  {
   "cell_type": "code",
   "execution_count": 27,
   "metadata": {
    "collapsed": false
   },
   "outputs": [],
   "source": [
    "#diHpo.to_csv(\"/home/share/aschoi/nas/users/asolchoi/data/Drug_Repositioning/6_new_disease/1_disease_disease_HPO_sim_mat(sqrt,BMA,PA).tsv\", sep='\\t')\n",
    "#diHpo.to_csv(\"/DAS_Storage1/aschoi/data/Drug_Repositioning/6_new_disease/new_predict/1_disease_disease_HPO_sim_mat(sqrt,BMA,PA).tsv\", sep='\\t')\n",
    "diGo.to_csv(\"/home/share/aschoi/nas/users/asolchoi/data/Drug_Repositioning/6_new_disease/1_disease_disease_GoSim_mat(resnik,BMA).tsv\", sep='\\t')\n",
    "diGo.to_csv(\"/DAS_Storage1/aschoi/data/Drug_Repositioning/6_new_disease/new_predict/1_disease_disease_GoSim_mat(resnik,BMA).tsv\", sep='\\t')"
   ]
  },
  {
   "cell_type": "code",
   "execution_count": null,
   "metadata": {
    "collapsed": true
   },
   "outputs": [],
   "source": [
    "# 2. ndep 버전을 만든다."
   ]
  },
  {
   "cell_type": "code",
   "execution_count": 32,
   "metadata": {
    "collapsed": true
   },
   "outputs": [],
   "source": [
    "diHpo = pd.read_table(\"/DAS_Storage1/aschoi/data/Drug_Repositioning/6_new_disease/new_predict/1_disease_disease_HPO_sim_mat(sqrt,BMA,PA).tsv\", index_col=0)\n",
    "diGo = pd.read_table(\"/DAS_Storage1/aschoi/data/Drug_Repositioning/6_new_disease/new_predict/1_disease_disease_GoSim_mat(resnik,BMA).tsv\", index_col=0)\n",
    "indep_pheSim  = pd.read_table(\"/DAS_Storage1/aschoi/data/Drug_Repositioning/6_new_disease/new_predict/3_indep_di_gold_di_pheSim_mat.tsv\", index_col=0)"
   ]
  },
  {
   "cell_type": "code",
   "execution_count": 36,
   "metadata": {
    "collapsed": false
   },
   "outputs": [
    {
     "name": "stdout",
     "output_type": "stream",
     "text": [
      "(34, 233)\n"
     ]
    }
   ],
   "source": [
    "print indep_pheSim.shape\n",
    "indep_order = indep_pheSim.columns.values"
   ]
  },
  {
   "cell_type": "code",
   "execution_count": 37,
   "metadata": {
    "collapsed": false
   },
   "outputs": [
    {
     "name": "stdout",
     "output_type": "stream",
     "text": [
      "True\n",
      "True\n"
     ]
    }
   ],
   "source": [
    "indep_hpoSim = diHpo.filter(items = indep_pheSim.index, axis=0)\n",
    "indep_hpoSim = indep_hpoSim[order.tolist()]\n",
    "indep_hpoSim = indep_hpoSim.reindex(index = indep_pheSim.index)\n",
    "print indep_pheSim.columns.tolist() == indep_hpoSim.columns.tolist()\n",
    "print indep_pheSim.index.tolist() == indep_hpoSim.index.tolist()"
   ]
  },
  {
   "cell_type": "code",
   "execution_count": 39,
   "metadata": {
    "collapsed": false
   },
   "outputs": [
    {
     "name": "stdout",
     "output_type": "stream",
     "text": [
      "True\n",
      "True\n"
     ]
    }
   ],
   "source": [
    "indep_goSim = diGo.filter(items = indep_pheSim.index, axis=0)\n",
    "indep_goSim = indep_goSim[order.tolist()]\n",
    "indep_goSim = indep_goSim.reindex(index = indep_pheSim.index)\n",
    "print indep_pheSim.columns.tolist() == indep_goSim.columns.tolist()\n",
    "print indep_pheSim.index.tolist() == indep_goSim.index.tolist()"
   ]
  },
  {
   "cell_type": "code",
   "execution_count": 40,
   "metadata": {
    "collapsed": true
   },
   "outputs": [],
   "source": [
    "indep_hpoSim.to_csv(\"/DAS_Storage1/aschoi/data/Drug_Repositioning/6_new_disease/new_predict/3_indep_di_gold_di_hpoSim_mat.tsv\", sep='\\t')\n",
    "indep_goSim.to_csv(\"/DAS_Storage1/aschoi/data/Drug_Repositioning/6_new_disease/new_predict/3_indep_di_gold_di_goSim_mat.tsv\", sep='\\t')"
   ]
  },
  {
   "cell_type": "code",
   "execution_count": null,
   "metadata": {
    "collapsed": true
   },
   "outputs": [],
   "source": []
  }
 ],
 "metadata": {
  "kernelspec": {
   "display_name": "Python 2",
   "language": "python",
   "name": "python2"
  },
  "language_info": {
   "codemirror_mode": {
    "name": "ipython",
    "version": 2
   },
   "file_extension": ".py",
   "mimetype": "text/x-python",
   "name": "python",
   "nbconvert_exporter": "python",
   "pygments_lexer": "ipython2",
   "version": "2.7.6"
  }
 },
 "nbformat": 4,
 "nbformat_minor": 2
}
