{
 "cells": [
  {
   "cell_type": "code",
   "execution_count": 1,
   "metadata": {
    "collapsed": true
   },
   "outputs": [],
   "source": [
    "import csv\n",
    "import numpy as np\n",
    "import os\n",
    "import pandas as pd\n",
    "import requests\n",
    "import time"
   ]
  },
  {
   "cell_type": "code",
   "execution_count": 4,
   "metadata": {
    "collapsed": false
   },
   "outputs": [],
   "source": [
    "asso = pd.read_table(\"/home/share/aschoi/data/Drug_Repositioning/7_new_association/bi_random_walk_Cdataset_association.tsv\")"
   ]
  },
  {
   "cell_type": "code",
   "execution_count": 62,
   "metadata": {
    "collapsed": false,
    "scrolled": false
   },
   "outputs": [
    {
     "name": "stdout",
     "output_type": "stream",
     "text": [
      "20516\n"
     ]
    },
    {
     "data": {
      "text/html": [
       "<div>\n",
       "<table border=\"1\" class=\"dataframe\">\n",
       "  <thead>\n",
       "    <tr style=\"text-align: right;\">\n",
       "      <th></th>\n",
       "      <th>Prefix</th>\n",
       "      <th>Mim_Number</th>\n",
       "      <th>Preferred_Title</th>\n",
       "      <th>Alternative Title(s); symbol(s)</th>\n",
       "      <th>Included Title(s); symbols</th>\n",
       "    </tr>\n",
       "  </thead>\n",
       "  <tbody>\n",
       "    <tr>\n",
       "      <th>0</th>\n",
       "      <td>NaN</td>\n",
       "      <td>100050</td>\n",
       "      <td>AARSKOG SYNDROME, AUTOSOMAL DOMINANT</td>\n",
       "      <td>NaN</td>\n",
       "      <td>NaN</td>\n",
       "    </tr>\n",
       "  </tbody>\n",
       "</table>\n",
       "</div>"
      ],
      "text/plain": [
       "  Prefix  Mim_Number                       Preferred_Title  \\\n",
       "0    NaN      100050  AARSKOG SYNDROME, AUTOSOMAL DOMINANT   \n",
       "\n",
       "  Alternative Title(s); symbol(s) Included Title(s); symbols  \n",
       "0                             NaN                        NaN  "
      ]
     },
     "execution_count": 62,
     "metadata": {},
     "output_type": "execute_result"
    }
   ],
   "source": [
    "# read the mimTitles file\n",
    "mimTitles = pd.read_table(\"/home/share/aschoi/data/Drug_Repositioning/6_new_disease/mimTitles.txt\", skiprows = 2)\n",
    "mimTitles = mimTitles.rename(columns = {\"# Prefix\" : \"Prefix\",\"Mim Number\" : \"Mim_Number\", \"Preferred Title; symbol\" : \"Preferred_Title\"})\n",
    "print len(mimTitles)\n",
    "mimTitles.head(1)"
   ]
  },
  {
   "cell_type": "code",
   "execution_count": 37,
   "metadata": {
    "collapsed": false
   },
   "outputs": [
    {
     "name": "stdout",
     "output_type": "stream",
     "text": [
      "7257\n"
     ]
    },
    {
     "data": {
      "text/html": [
       "<div>\n",
       "<table border=\"1\" class=\"dataframe\">\n",
       "  <thead>\n",
       "    <tr style=\"text-align: right;\">\n",
       "      <th></th>\n",
       "      <th>Phenotype</th>\n",
       "      <th>Gene_Symbols</th>\n",
       "      <th>MIM_Number</th>\n",
       "      <th>Cyto_Location</th>\n",
       "    </tr>\n",
       "  </thead>\n",
       "  <tbody>\n",
       "    <tr>\n",
       "      <th>0</th>\n",
       "      <td>17,20-lyase deficiency, isolated, 202110 (3)</td>\n",
       "      <td>CYP17A1, CYP17, P450C17</td>\n",
       "      <td>609300.0</td>\n",
       "      <td>10q24.32</td>\n",
       "    </tr>\n",
       "  </tbody>\n",
       "</table>\n",
       "</div>"
      ],
      "text/plain": [
       "                                      Phenotype             Gene_Symbols  \\\n",
       "0  17,20-lyase deficiency, isolated, 202110 (3)  CYP17A1, CYP17, P450C17   \n",
       "\n",
       "   MIM_Number Cyto_Location  \n",
       "0    609300.0      10q24.32  "
      ]
     },
     "execution_count": 37,
     "metadata": {},
     "output_type": "execute_result"
    }
   ],
   "source": [
    "# read the morbidmap file\n",
    "morbid = pd.read_table(\"/home/share/aschoi/data/Drug_Repositioning/6_new_disease/morbidmap_txt.txt\")\n",
    "print len(morbid)\n",
    "morbid.head(1)"
   ]
  },
  {
   "cell_type": "code",
   "execution_count": 38,
   "metadata": {
    "collapsed": false
   },
   "outputs": [
    {
     "name": "stdout",
     "output_type": "stream",
     "text": [
      "2532\n"
     ]
    },
    {
     "data": {
      "text/html": [
       "<div>\n",
       "<table border=\"1\" class=\"dataframe\">\n",
       "  <thead>\n",
       "    <tr style=\"text-align: right;\">\n",
       "      <th></th>\n",
       "      <th>disease_id</th>\n",
       "      <th>drug_id</th>\n",
       "    </tr>\n",
       "  </thead>\n",
       "  <tbody>\n",
       "    <tr>\n",
       "      <th>0</th>\n",
       "      <td>D102100</td>\n",
       "      <td>DB00555</td>\n",
       "    </tr>\n",
       "  </tbody>\n",
       "</table>\n",
       "</div>"
      ],
      "text/plain": [
       "  disease_id  drug_id\n",
       "0    D102100  DB00555"
      ]
     },
     "execution_count": 38,
     "metadata": {},
     "output_type": "execute_result"
    }
   ],
   "source": [
    "print len(asso)\n",
    "asso.head(1)"
   ]
  },
  {
   "cell_type": "code",
   "execution_count": 45,
   "metadata": {
    "collapsed": false
   },
   "outputs": [],
   "source": [
    "di_mimNum = asso['disease_id'].drop_duplicates().str[1:]"
   ]
  },
  {
   "cell_type": "code",
   "execution_count": 55,
   "metadata": {
    "collapsed": true
   },
   "outputs": [],
   "source": [
    "int_di_mimNum = list()\n",
    "for i in di_mimNum:\n",
    "    int_di_mimNum.append (int(i))"
   ]
  },
  {
   "cell_type": "code",
   "execution_count": 64,
   "metadata": {
    "collapsed": false
   },
   "outputs": [],
   "source": [
    "df_disease = mimTitles[mimTitles['Mim_Number'].isin(int_di_mimNum)]"
   ]
  },
  {
   "cell_type": "code",
   "execution_count": 65,
   "metadata": {
    "collapsed": false
   },
   "outputs": [
    {
     "name": "stdout",
     "output_type": "stream",
     "text": [
      "409\n"
     ]
    },
    {
     "data": {
      "text/html": [
       "<div>\n",
       "<table border=\"1\" class=\"dataframe\">\n",
       "  <thead>\n",
       "    <tr style=\"text-align: right;\">\n",
       "      <th></th>\n",
       "      <th>Prefix</th>\n",
       "      <th>Mim_Number</th>\n",
       "      <th>Preferred_Title</th>\n",
       "      <th>Alternative Title(s); symbol(s)</th>\n",
       "      <th>Included Title(s); symbols</th>\n",
       "    </tr>\n",
       "  </thead>\n",
       "  <tbody>\n",
       "    <tr>\n",
       "      <th>39</th>\n",
       "      <td>Percent</td>\n",
       "      <td>102100</td>\n",
       "      <td>ACROMEGALOID CHANGES, CUTIS VERTICIS GYRATA, A...</td>\n",
       "      <td>ROSENTHAL-KLOEPFER SYNDROME</td>\n",
       "      <td>NaN</td>\n",
       "    </tr>\n",
       "  </tbody>\n",
       "</table>\n",
       "</div>"
      ],
      "text/plain": [
       "     Prefix  Mim_Number                                    Preferred_Title  \\\n",
       "39  Percent      102100  ACROMEGALOID CHANGES, CUTIS VERTICIS GYRATA, A...   \n",
       "\n",
       "   Alternative Title(s); symbol(s) Included Title(s); symbols  \n",
       "39     ROSENTHAL-KLOEPFER SYNDROME                        NaN  "
      ]
     },
     "execution_count": 65,
     "metadata": {},
     "output_type": "execute_result"
    }
   ],
   "source": [
    "print len(df_disease)\n",
    "df_disease.head(1)"
   ]
  },
  {
   "cell_type": "code",
   "execution_count": 72,
   "metadata": {
    "collapsed": false
   },
   "outputs": [],
   "source": [
    "pair= pd.DataFrame()\n",
    "for index, row in df_disease.iterrows():\n",
    "    mim_number = row['Mim_Number']\n",
    "    title = row['Preferred_Title']\n",
    "    temp_df = pd.DataFrame([[mim_number, title]], columns = ['Mim_Number','Preferred_Title'])\n",
    "    pair = pair.append(temp_df)"
   ]
  },
  {
   "cell_type": "code",
   "execution_count": 90,
   "metadata": {
    "collapsed": false
   },
   "outputs": [
    {
     "name": "stdout",
     "output_type": "stream",
     "text": [
      "409\n"
     ]
    },
    {
     "data": {
      "text/html": [
       "<div>\n",
       "<table border=\"1\" class=\"dataframe\">\n",
       "  <thead>\n",
       "    <tr style=\"text-align: right;\">\n",
       "      <th></th>\n",
       "      <th>Mim_Number</th>\n",
       "      <th>Preferred_Title</th>\n",
       "    </tr>\n",
       "  </thead>\n",
       "  <tbody>\n",
       "    <tr>\n",
       "      <th>0</th>\n",
       "      <td>102100</td>\n",
       "      <td>ACROMEGALOID CHANGES, CUTIS VERTICIS GYRATA, A...</td>\n",
       "    </tr>\n",
       "  </tbody>\n",
       "</table>\n",
       "</div>"
      ],
      "text/plain": [
       "   Mim_Number                                    Preferred_Title\n",
       "0      102100  ACROMEGALOID CHANGES, CUTIS VERTICIS GYRATA, A..."
      ]
     },
     "execution_count": 90,
     "metadata": {},
     "output_type": "execute_result"
    }
   ],
   "source": [
    "print len(pair)\n",
    "pair.head(1)"
   ]
  },
  {
   "cell_type": "code",
   "execution_count": 169,
   "metadata": {
    "collapsed": false
   },
   "outputs": [],
   "source": [
    "di_phen = pd.DataFrame()\n",
    "result = pd.DataFrame()\n",
    "temp = pd.DataFrame()\n",
    "cnt = 0\n",
    "for index, row in pair.iterrows():\n",
    "    di_mim_number = row['Mim_Number']\n",
    "    found = morbid[morbid['Phenotype'].str.contains(str(di_mim_number))]\n",
    "    if found.empty :\n",
    "        continue\n",
    "    else:\n",
    "        cnt = cnt + 1\n",
    "        phe_mim_number = found['MIM_Number']\n",
    "        #temp_df = pd.DataFrame(data = [[di_mim_number, phe_mim_number]], columns = ['disease', 'phenotype'])\n",
    "        temp_df = pd.DataFrame({'disease' : di_mim_number, 'phenotype' : phe_mim_number})\n",
    "        temp_df2 = pd.DataFrame({'disease' : di_mim_number, 'disease_name' : row['Preferred_Title'], 'phenotype' : phe_mim_number, 'phenotype_title' : found['Phenotype']})\n",
    "        di_phen = di_phen.append(temp_df)\n",
    "        result = result.append(found)\n",
    "        temp = temp.append(temp_df2)"
   ]
  },
  {
   "cell_type": "code",
   "execution_count": 170,
   "metadata": {
    "collapsed": true
   },
   "outputs": [],
   "source": [
    "temp.to_csv(\"/home/share/aschoi/nas/users/asolchoi/data/Drug_Repositioning/6_new_disease/test.tsv\", sep='\\t', index=False)"
   ]
  },
  {
   "cell_type": "code",
   "execution_count": 124,
   "metadata": {
    "collapsed": false
   },
   "outputs": [
    {
     "data": {
      "text/plain": [
       "223"
      ]
     },
     "execution_count": 124,
     "metadata": {},
     "output_type": "execute_result"
    }
   ],
   "source": [
    "cnt"
   ]
  },
  {
   "cell_type": "code",
   "execution_count": 125,
   "metadata": {
    "collapsed": false
   },
   "outputs": [
    {
     "name": "stdout",
     "output_type": "stream",
     "text": [
      "587\n"
     ]
    },
    {
     "data": {
      "text/html": [
       "<div>\n",
       "<table border=\"1\" class=\"dataframe\">\n",
       "  <thead>\n",
       "    <tr style=\"text-align: right;\">\n",
       "      <th></th>\n",
       "      <th>Phenotype</th>\n",
       "      <th>Gene_Symbols</th>\n",
       "      <th>MIM_Number</th>\n",
       "      <th>Cyto_Location</th>\n",
       "    </tr>\n",
       "  </thead>\n",
       "  <tbody>\n",
       "    <tr>\n",
       "      <th>2698</th>\n",
       "      <td>Hajdu-Cheney syndrome, 102500 (3)</td>\n",
       "      <td>NOTCH2, AGS2, HJCYS</td>\n",
       "      <td>600275.0</td>\n",
       "      <td>1p12</td>\n",
       "    </tr>\n",
       "    <tr>\n",
       "      <th>462</th>\n",
       "      <td>ADULT syndrome, 103285 (3)</td>\n",
       "      <td>TP63, TP73L, KET, EEC3, SHFM4, LMS, RHS, OFC8</td>\n",
       "      <td>603273.0</td>\n",
       "      <td>3q28</td>\n",
       "    </tr>\n",
       "    <tr>\n",
       "      <th>6159</th>\n",
       "      <td>{Alcohol dependence, protection against}, 1037...</td>\n",
       "      <td>ADH1B, ADH2</td>\n",
       "      <td>103720.0</td>\n",
       "      <td>4q23</td>\n",
       "    </tr>\n",
       "    <tr>\n",
       "      <th>6160</th>\n",
       "      <td>{Alcohol dependence, protection against}, 1037...</td>\n",
       "      <td>ADH1C, ADH3</td>\n",
       "      <td>103730.0</td>\n",
       "      <td>4q23</td>\n",
       "    </tr>\n",
       "    <tr>\n",
       "      <th>6161</th>\n",
       "      <td>{Alcohol dependence, susceptibility to}, 10378...</td>\n",
       "      <td>GABRA2</td>\n",
       "      <td>137140.0</td>\n",
       "      <td>4p12</td>\n",
       "    </tr>\n",
       "  </tbody>\n",
       "</table>\n",
       "</div>"
      ],
      "text/plain": [
       "                                              Phenotype  \\\n",
       "2698                  Hajdu-Cheney syndrome, 102500 (3)   \n",
       "462                          ADULT syndrome, 103285 (3)   \n",
       "6159  {Alcohol dependence, protection against}, 1037...   \n",
       "6160  {Alcohol dependence, protection against}, 1037...   \n",
       "6161  {Alcohol dependence, susceptibility to}, 10378...   \n",
       "\n",
       "                                       Gene_Symbols  MIM_Number Cyto_Location  \n",
       "2698                            NOTCH2, AGS2, HJCYS    600275.0          1p12  \n",
       "462   TP63, TP73L, KET, EEC3, SHFM4, LMS, RHS, OFC8    603273.0          3q28  \n",
       "6159                                    ADH1B, ADH2    103720.0          4q23  \n",
       "6160                                    ADH1C, ADH3    103730.0          4q23  \n",
       "6161                                         GABRA2    137140.0          4p12  "
      ]
     },
     "execution_count": 125,
     "metadata": {},
     "output_type": "execute_result"
    }
   ],
   "source": [
    "print len(result)\n",
    "result.head()"
   ]
  },
  {
   "cell_type": "code",
   "execution_count": 126,
   "metadata": {
    "collapsed": false
   },
   "outputs": [
    {
     "name": "stdout",
     "output_type": "stream",
     "text": [
      "587\n"
     ]
    },
    {
     "data": {
      "text/html": [
       "<div>\n",
       "<table border=\"1\" class=\"dataframe\">\n",
       "  <thead>\n",
       "    <tr style=\"text-align: right;\">\n",
       "      <th></th>\n",
       "      <th>disease</th>\n",
       "      <th>phenotype</th>\n",
       "    </tr>\n",
       "  </thead>\n",
       "  <tbody>\n",
       "    <tr>\n",
       "      <th>2698</th>\n",
       "      <td>102500</td>\n",
       "      <td>600275.0</td>\n",
       "    </tr>\n",
       "    <tr>\n",
       "      <th>462</th>\n",
       "      <td>103285</td>\n",
       "      <td>603273.0</td>\n",
       "    </tr>\n",
       "    <tr>\n",
       "      <th>6159</th>\n",
       "      <td>103780</td>\n",
       "      <td>103720.0</td>\n",
       "    </tr>\n",
       "    <tr>\n",
       "      <th>6160</th>\n",
       "      <td>103780</td>\n",
       "      <td>103730.0</td>\n",
       "    </tr>\n",
       "    <tr>\n",
       "      <th>6161</th>\n",
       "      <td>103780</td>\n",
       "      <td>137140.0</td>\n",
       "    </tr>\n",
       "  </tbody>\n",
       "</table>\n",
       "</div>"
      ],
      "text/plain": [
       "      disease  phenotype\n",
       "2698   102500   600275.0\n",
       "462    103285   603273.0\n",
       "6159   103780   103720.0\n",
       "6160   103780   103730.0\n",
       "6161   103780   137140.0"
      ]
     },
     "execution_count": 126,
     "metadata": {},
     "output_type": "execute_result"
    }
   ],
   "source": [
    "print len(di_phen)\n",
    "di_phen.head()"
   ]
  },
  {
   "cell_type": "code",
   "execution_count": 127,
   "metadata": {
    "collapsed": false
   },
   "outputs": [
    {
     "name": "stdout",
     "output_type": "stream",
     "text": [
      "223\n",
      "452\n"
     ]
    }
   ],
   "source": [
    "print len(di_phen.drop_duplicates(subset = 'disease'))\n",
    "print len(di_phen.drop_duplicates(subset = 'phenotype'))"
   ]
  },
  {
   "cell_type": "code",
   "execution_count": 133,
   "metadata": {
    "collapsed": false
   },
   "outputs": [],
   "source": [
    "left = pair[~pair['Mim_Number'].isin(di_phen['disease'].drop_duplicates())]"
   ]
  },
  {
   "cell_type": "code",
   "execution_count": 141,
   "metadata": {
    "collapsed": false
   },
   "outputs": [],
   "source": [
    "left.to_csv(\"/home/share/aschoi/data/Drug_Repositioning/6_new_disease/temp2.tsv\", sep=\"\\t\", index=False)"
   ]
  },
  {
   "cell_type": "code",
   "execution_count": 135,
   "metadata": {
    "collapsed": true
   },
   "outputs": [],
   "source": [
    "result1 = result"
   ]
  },
  {
   "cell_type": "code",
   "execution_count": 164,
   "metadata": {
    "collapsed": false
   },
   "outputs": [],
   "source": [
    "cnt = 0 \n",
    "result2 = pd.DataFrame()\n",
    "temp = pd.DataFrame()\n",
    "for index, row in left.iterrows():\n",
    "    di_mim_number = row['Mim_Number']\n",
    "    title = row['Preferred_Title'].split(', ')[0]\n",
    "    found = morbid[morbid['Phenotype'].str.contains(title, case=False)]\n",
    "    if found.empty :\n",
    "        continue\n",
    "    else:\n",
    "        cnt = cnt + 1\n",
    "        phe_mim_number = found['MIM_Number']\n",
    "        #temp_df = pd.DataFrame(data = [[di_mim_number, phe_mim_number]], columns = ['disease', 'phenotype'])\n",
    "        #temp_df = pd.DataFrame({'disease' : di_mim_number, 'phenotype' : phe_mim_number})\n",
    "        temp_df = pd.DataFrame({'disease' : di_mim_number, 'disease_name' : row['Preferred_Title'], 'phenotype' : phe_mim_number, 'phenotype_title' : found['Phenotype']})\n",
    "        #di_phen = di_phen.append(temp_df)\n",
    "        temp = temp.append(temp_df)\n",
    "        result2 = result2.append(found)"
   ]
  },
  {
   "cell_type": "code",
   "execution_count": 161,
   "metadata": {
    "collapsed": false
   },
   "outputs": [
    {
     "data": {
      "text/plain": [
       "'CHROMOSOME 15q11-q13 DUPLICATION SYNDROME'"
      ]
     },
     "execution_count": 161,
     "metadata": {},
     "output_type": "execute_result"
    }
   ],
   "source": [
    "title"
   ]
  },
  {
   "cell_type": "code",
   "execution_count": 165,
   "metadata": {
    "collapsed": false
   },
   "outputs": [
    {
     "data": {
      "text/plain": [
       "92"
      ]
     },
     "execution_count": 165,
     "metadata": {},
     "output_type": "execute_result"
    }
   ],
   "source": [
    "cnt"
   ]
  },
  {
   "cell_type": "code",
   "execution_count": 166,
   "metadata": {
    "collapsed": false
   },
   "outputs": [
    {
     "name": "stdout",
     "output_type": "stream",
     "text": [
      "2475\n"
     ]
    },
    {
     "data": {
      "text/html": [
       "<div>\n",
       "<table border=\"1\" class=\"dataframe\">\n",
       "  <thead>\n",
       "    <tr style=\"text-align: right;\">\n",
       "      <th></th>\n",
       "      <th>Phenotype</th>\n",
       "      <th>Gene_Symbols</th>\n",
       "      <th>MIM_Number</th>\n",
       "      <th>Cyto_Location</th>\n",
       "    </tr>\n",
       "  </thead>\n",
       "  <tbody>\n",
       "    <tr>\n",
       "      <th>7056</th>\n",
       "      <td>{Restless legs syndrome 1} (2)</td>\n",
       "      <td>RLS1</td>\n",
       "      <td>102300.0</td>\n",
       "      <td>12q12-q21</td>\n",
       "    </tr>\n",
       "    <tr>\n",
       "      <th>7057</th>\n",
       "      <td>{Restless legs syndrome 2} (2)</td>\n",
       "      <td>RLS2</td>\n",
       "      <td>608831.0</td>\n",
       "      <td>14q13-q21</td>\n",
       "    </tr>\n",
       "    <tr>\n",
       "      <th>7058</th>\n",
       "      <td>{Restless legs syndrome 3} (2)</td>\n",
       "      <td>RLS3</td>\n",
       "      <td>610438.0</td>\n",
       "      <td>9p24-p22</td>\n",
       "    </tr>\n",
       "    <tr>\n",
       "      <th>7059</th>\n",
       "      <td>{Restless legs syndrome 4} (2)</td>\n",
       "      <td>RLS4</td>\n",
       "      <td>610439.0</td>\n",
       "      <td>2q33</td>\n",
       "    </tr>\n",
       "    <tr>\n",
       "      <th>7060</th>\n",
       "      <td>{Restless legs syndrome 5} (2)</td>\n",
       "      <td>RLS5</td>\n",
       "      <td>611242.0</td>\n",
       "      <td>20p13</td>\n",
       "    </tr>\n",
       "  </tbody>\n",
       "</table>\n",
       "</div>"
      ],
      "text/plain": [
       "                           Phenotype Gene_Symbols  MIM_Number Cyto_Location\n",
       "7056  {Restless legs syndrome 1} (2)         RLS1    102300.0     12q12-q21\n",
       "7057  {Restless legs syndrome 2} (2)         RLS2    608831.0     14q13-q21\n",
       "7058  {Restless legs syndrome 3} (2)         RLS3    610438.0      9p24-p22\n",
       "7059  {Restless legs syndrome 4} (2)         RLS4    610439.0          2q33\n",
       "7060  {Restless legs syndrome 5} (2)         RLS5    611242.0         20p13"
      ]
     },
     "execution_count": 166,
     "metadata": {},
     "output_type": "execute_result"
    }
   ],
   "source": [
    "print len(result2)\n",
    "result2.head()"
   ]
  },
  {
   "cell_type": "code",
   "execution_count": 168,
   "metadata": {
    "collapsed": true
   },
   "outputs": [],
   "source": [
    "temp.to_csv(\"/home/share/aschoi/nas/users/asolchoi/data/Drug_Repositioning/6_new_disease/test.tsv\", sep='\\t', index=False)"
   ]
  },
  {
   "cell_type": "code",
   "execution_count": 167,
   "metadata": {
    "collapsed": false
   },
   "outputs": [
    {
     "name": "stdout",
     "output_type": "stream",
     "text": [
      "2475\n"
     ]
    },
    {
     "data": {
      "text/html": [
       "<div>\n",
       "<table border=\"1\" class=\"dataframe\">\n",
       "  <thead>\n",
       "    <tr style=\"text-align: right;\">\n",
       "      <th></th>\n",
       "      <th>disease</th>\n",
       "      <th>disease_name</th>\n",
       "      <th>phenotype</th>\n",
       "      <th>phenotype_title</th>\n",
       "    </tr>\n",
       "  </thead>\n",
       "  <tbody>\n",
       "    <tr>\n",
       "      <th>7056</th>\n",
       "      <td>102300</td>\n",
       "      <td>RESTLESS LEGS SYNDROME, SUSCEPTIBILITY TO, 1; ...</td>\n",
       "      <td>102300.0</td>\n",
       "      <td>{Restless legs syndrome 1} (2)</td>\n",
       "    </tr>\n",
       "    <tr>\n",
       "      <th>7057</th>\n",
       "      <td>102300</td>\n",
       "      <td>RESTLESS LEGS SYNDROME, SUSCEPTIBILITY TO, 1; ...</td>\n",
       "      <td>608831.0</td>\n",
       "      <td>{Restless legs syndrome 2} (2)</td>\n",
       "    </tr>\n",
       "    <tr>\n",
       "      <th>7058</th>\n",
       "      <td>102300</td>\n",
       "      <td>RESTLESS LEGS SYNDROME, SUSCEPTIBILITY TO, 1; ...</td>\n",
       "      <td>610438.0</td>\n",
       "      <td>{Restless legs syndrome 3} (2)</td>\n",
       "    </tr>\n",
       "    <tr>\n",
       "      <th>7059</th>\n",
       "      <td>102300</td>\n",
       "      <td>RESTLESS LEGS SYNDROME, SUSCEPTIBILITY TO, 1; ...</td>\n",
       "      <td>610439.0</td>\n",
       "      <td>{Restless legs syndrome 4} (2)</td>\n",
       "    </tr>\n",
       "    <tr>\n",
       "      <th>7060</th>\n",
       "      <td>102300</td>\n",
       "      <td>RESTLESS LEGS SYNDROME, SUSCEPTIBILITY TO, 1; ...</td>\n",
       "      <td>611242.0</td>\n",
       "      <td>{Restless legs syndrome 5} (2)</td>\n",
       "    </tr>\n",
       "    <tr>\n",
       "      <th>7061</th>\n",
       "      <td>102300</td>\n",
       "      <td>RESTLESS LEGS SYNDROME, SUSCEPTIBILITY TO, 1; ...</td>\n",
       "      <td>611185.0</td>\n",
       "      <td>{Restless legs syndrome 6} (2)</td>\n",
       "    </tr>\n",
       "    <tr>\n",
       "      <th>7062</th>\n",
       "      <td>102300</td>\n",
       "      <td>RESTLESS LEGS SYNDROME, SUSCEPTIBILITY TO, 1; ...</td>\n",
       "      <td>612853.0</td>\n",
       "      <td>{Restless legs syndrome 7} (2)</td>\n",
       "    </tr>\n",
       "    <tr>\n",
       "      <th>7063</th>\n",
       "      <td>102300</td>\n",
       "      <td>RESTLESS LEGS SYNDROME, SUSCEPTIBILITY TO, 1; ...</td>\n",
       "      <td>615197.0</td>\n",
       "      <td>{Restless legs syndrome 8} (2)</td>\n",
       "    </tr>\n",
       "    <tr>\n",
       "      <th>44</th>\n",
       "      <td>104130</td>\n",
       "      <td>ALOPECIA, PSYCHOMOTOR EPILEPSY, PYORRHEA, AND ...</td>\n",
       "      <td>612074.0</td>\n",
       "      <td>?Alopecia, neurologic defects, and endocrinopa...</td>\n",
       "    </tr>\n",
       "    <tr>\n",
       "      <th>589</th>\n",
       "      <td>104130</td>\n",
       "      <td>ALOPECIA, PSYCHOMOTOR EPILEPSY, PYORRHEA, AND ...</td>\n",
       "      <td>104000.0</td>\n",
       "      <td>Alopecia areata 1 (2)</td>\n",
       "    </tr>\n",
       "    <tr>\n",
       "      <th>590</th>\n",
       "      <td>104130</td>\n",
       "      <td>ALOPECIA, PSYCHOMOTOR EPILEPSY, PYORRHEA, AND ...</td>\n",
       "      <td>610753.0</td>\n",
       "      <td>Alopecia areata 2 (2)</td>\n",
       "    </tr>\n",
       "    <tr>\n",
       "      <th>591</th>\n",
       "      <td>104130</td>\n",
       "      <td>ALOPECIA, PSYCHOMOTOR EPILEPSY, PYORRHEA, AND ...</td>\n",
       "      <td>602302.0</td>\n",
       "      <td>Alopecia universalis, 203655 (3)</td>\n",
       "    </tr>\n",
       "    <tr>\n",
       "      <th>592</th>\n",
       "      <td>104130</td>\n",
       "      <td>ALOPECIA, PSYCHOMOTOR EPILEPSY, PYORRHEA, AND ...</td>\n",
       "      <td>109200.0</td>\n",
       "      <td>Alopecia, androgenetic, 1 (2)</td>\n",
       "    </tr>\n",
       "    <tr>\n",
       "      <th>593</th>\n",
       "      <td>104130</td>\n",
       "      <td>ALOPECIA, PSYCHOMOTOR EPILEPSY, PYORRHEA, AND ...</td>\n",
       "      <td>300710.0</td>\n",
       "      <td>Alopecia, androgenetic, 2 (2)</td>\n",
       "    </tr>\n",
       "    <tr>\n",
       "      <th>594</th>\n",
       "      <td>104130</td>\n",
       "      <td>ALOPECIA, PSYCHOMOTOR EPILEPSY, PYORRHEA, AND ...</td>\n",
       "      <td>612421.0</td>\n",
       "      <td>Alopecia, androgenetic, 3 (2)</td>\n",
       "    </tr>\n",
       "    <tr>\n",
       "      <th>595</th>\n",
       "      <td>104130</td>\n",
       "      <td>ALOPECIA, PSYCHOMOTOR EPILEPSY, PYORRHEA, AND ...</td>\n",
       "      <td>203650.0</td>\n",
       "      <td>Alopecia-mental retardation syndrome 1 (2)</td>\n",
       "    </tr>\n",
       "    <tr>\n",
       "      <th>596</th>\n",
       "      <td>104130</td>\n",
       "      <td>ALOPECIA, PSYCHOMOTOR EPILEPSY, PYORRHEA, AND ...</td>\n",
       "      <td>610422.0</td>\n",
       "      <td>Alopecia-mental retardation syndrome 2 (2)</td>\n",
       "    </tr>\n",
       "    <tr>\n",
       "      <th>597</th>\n",
       "      <td>104130</td>\n",
       "      <td>ALOPECIA, PSYCHOMOTOR EPILEPSY, PYORRHEA, AND ...</td>\n",
       "      <td>613930.0</td>\n",
       "      <td>Alopecia-mental retardation syndrome 3 (2)</td>\n",
       "    </tr>\n",
       "    <tr>\n",
       "      <th>3055</th>\n",
       "      <td>104130</td>\n",
       "      <td>ALOPECIA, PSYCHOMOTOR EPILEPSY, PYORRHEA, AND ...</td>\n",
       "      <td>603718.0</td>\n",
       "      <td>Ichthyosis, leukocyte vacuoles, alopecia, and ...</td>\n",
       "    </tr>\n",
       "    <tr>\n",
       "      <th>3526</th>\n",
       "      <td>104130</td>\n",
       "      <td>ALOPECIA, PSYCHOMOTOR EPILEPSY, PYORRHEA, AND ...</td>\n",
       "      <td>610222.0</td>\n",
       "      <td>Macrocephaly, alopecia, cutis laxa, and scolio...</td>\n",
       "    </tr>\n",
       "    <tr>\n",
       "      <th>3567</th>\n",
       "      <td>104130</td>\n",
       "      <td>ALOPECIA, PSYCHOMOTOR EPILEPSY, PYORRHEA, AND ...</td>\n",
       "      <td>131243.0</td>\n",
       "      <td>Mandibulofacial dysostosis with alopecia, 6163...</td>\n",
       "    </tr>\n",
       "    <tr>\n",
       "      <th>4586</th>\n",
       "      <td>104130</td>\n",
       "      <td>ALOPECIA, PSYCHOMOTOR EPILEPSY, PYORRHEA, AND ...</td>\n",
       "      <td>121014.0</td>\n",
       "      <td>Palmoplantar keratoderma with congenital alope...</td>\n",
       "    </tr>\n",
       "    <tr>\n",
       "      <th>5560</th>\n",
       "      <td>104130</td>\n",
       "      <td>ALOPECIA, PSYCHOMOTOR EPILEPSY, PYORRHEA, AND ...</td>\n",
       "      <td>600838.0</td>\n",
       "      <td>T-cell immunodeficiency, congenital alopecia, ...</td>\n",
       "    </tr>\n",
       "    <tr>\n",
       "      <th>53</th>\n",
       "      <td>107320</td>\n",
       "      <td>ANTIPHOSPHOLIPID SYNDROME, FAMILIAL</td>\n",
       "      <td>107320.0</td>\n",
       "      <td>?Antiphospholipid syndrome, familial (2)</td>\n",
       "    </tr>\n",
       "    <tr>\n",
       "      <th>735</th>\n",
       "      <td>107650</td>\n",
       "      <td>APNEA, OBSTRUCTIVE SLEEP</td>\n",
       "      <td>177400.0</td>\n",
       "      <td>Apnea, postanesthetic (3)</td>\n",
       "    </tr>\n",
       "    <tr>\n",
       "      <th>839</th>\n",
       "      <td>109100</td>\n",
       "      <td>AUTOIMMUNE DISEASE</td>\n",
       "      <td>102582.0</td>\n",
       "      <td>Autoimmune disease, multisystem, infantile-ons...</td>\n",
       "    </tr>\n",
       "    <tr>\n",
       "      <th>840</th>\n",
       "      <td>109100</td>\n",
       "      <td>AUTOIMMUNE DISEASE</td>\n",
       "      <td>176947.0</td>\n",
       "      <td>Autoimmune disease, multisystem, infantile-ons...</td>\n",
       "    </tr>\n",
       "    <tr>\n",
       "      <th>841</th>\n",
       "      <td>109100</td>\n",
       "      <td>AUTOIMMUNE DISEASE</td>\n",
       "      <td>606409.0</td>\n",
       "      <td>Autoimmune disease, multisystem, with facial d...</td>\n",
       "    </tr>\n",
       "    <tr>\n",
       "      <th>6270</th>\n",
       "      <td>109100</td>\n",
       "      <td>AUTOIMMUNE DISEASE</td>\n",
       "      <td>611539.0</td>\n",
       "      <td>{Autoimmune disease, susceptibility to, 1}, 60...</td>\n",
       "    </tr>\n",
       "    <tr>\n",
       "      <th>6271</th>\n",
       "      <td>109100</td>\n",
       "      <td>AUTOIMMUNE DISEASE</td>\n",
       "      <td>608391.0</td>\n",
       "      <td>{Autoimmune disease, susceptibility to, 2} (2)</td>\n",
       "    </tr>\n",
       "    <tr>\n",
       "      <th>...</th>\n",
       "      <td>...</td>\n",
       "      <td>...</td>\n",
       "      <td>...</td>\n",
       "      <td>...</td>\n",
       "    </tr>\n",
       "    <tr>\n",
       "      <th>7179</th>\n",
       "      <td>608437</td>\n",
       "      <td>SYSTEMIC LUPUS ERYTHEMATOSUS, SUSCEPTIBILITY T...</td>\n",
       "      <td>613145.0</td>\n",
       "      <td>{Systemic lupus erythematosus, susceptibility ...</td>\n",
       "    </tr>\n",
       "    <tr>\n",
       "      <th>7180</th>\n",
       "      <td>608437</td>\n",
       "      <td>SYSTEMIC LUPUS ERYTHEMATOSUS, SUSCEPTIBILITY T...</td>\n",
       "      <td>603031.0</td>\n",
       "      <td>{Systemic lupus erythematosus, susceptibility ...</td>\n",
       "    </tr>\n",
       "    <tr>\n",
       "      <th>7181</th>\n",
       "      <td>608437</td>\n",
       "      <td>SYSTEMIC LUPUS ERYTHEMATOSUS, SUSCEPTIBILITY T...</td>\n",
       "      <td>600244.0</td>\n",
       "      <td>{Systemic lupus erythematosus, susceptibility ...</td>\n",
       "    </tr>\n",
       "    <tr>\n",
       "      <th>7182</th>\n",
       "      <td>608437</td>\n",
       "      <td>SYSTEMIC LUPUS ERYTHEMATOSUS, SUSCEPTIBILITY T...</td>\n",
       "      <td>605480.0</td>\n",
       "      <td>{Systemic lupus erythematosus, susceptibility ...</td>\n",
       "    </tr>\n",
       "    <tr>\n",
       "      <th>7183</th>\n",
       "      <td>608437</td>\n",
       "      <td>SYSTEMIC LUPUS ERYTHEMATOSUS, SUSCEPTIBILITY T...</td>\n",
       "      <td>608437.0</td>\n",
       "      <td>{Systemic lupus erythematosus, susceptibility ...</td>\n",
       "    </tr>\n",
       "    <tr>\n",
       "      <th>7184</th>\n",
       "      <td>608437</td>\n",
       "      <td>SYSTEMIC LUPUS ERYTHEMATOSUS, SUSCEPTIBILITY T...</td>\n",
       "      <td>609903.0</td>\n",
       "      <td>{Systemic lupus erythematosus, susceptibility ...</td>\n",
       "    </tr>\n",
       "    <tr>\n",
       "      <th>7185</th>\n",
       "      <td>608437</td>\n",
       "      <td>SYSTEMIC LUPUS ERYTHEMATOSUS, SUSCEPTIBILITY T...</td>\n",
       "      <td>610065.0</td>\n",
       "      <td>{Systemic lupus erythematosus, susceptibility ...</td>\n",
       "    </tr>\n",
       "    <tr>\n",
       "      <th>7186</th>\n",
       "      <td>608437</td>\n",
       "      <td>SYSTEMIC LUPUS ERYTHEMATOSUS, SUSCEPTIBILITY T...</td>\n",
       "      <td>610066.0</td>\n",
       "      <td>{Systemic lupus erythematosus, susceptibility ...</td>\n",
       "    </tr>\n",
       "    <tr>\n",
       "      <th>7187</th>\n",
       "      <td>608437</td>\n",
       "      <td>SYSTEMIC LUPUS ERYTHEMATOSUS, SUSCEPTIBILITY T...</td>\n",
       "      <td>120650.0</td>\n",
       "      <td>{Systemic lupus erythematosus, susceptibility ...</td>\n",
       "    </tr>\n",
       "    <tr>\n",
       "      <th>7188</th>\n",
       "      <td>608437</td>\n",
       "      <td>SYSTEMIC LUPUS ERYTHEMATOSUS, SUSCEPTIBILITY T...</td>\n",
       "      <td>123890.0</td>\n",
       "      <td>{Systemic lupus erythematosus, susceptibility ...</td>\n",
       "    </tr>\n",
       "    <tr>\n",
       "      <th>7189</th>\n",
       "      <td>608437</td>\n",
       "      <td>SYSTEMIC LUPUS ERYTHEMATOSUS, SUSCEPTIBILITY T...</td>\n",
       "      <td>125505.0</td>\n",
       "      <td>{Systemic lupus erythematosus, susceptibility ...</td>\n",
       "    </tr>\n",
       "    <tr>\n",
       "      <th>7190</th>\n",
       "      <td>608437</td>\n",
       "      <td>SYSTEMIC LUPUS ERYTHEMATOSUS, SUSCEPTIBILITY T...</td>\n",
       "      <td>604590.0</td>\n",
       "      <td>{Systemic lupus erythematosus, susceptibility ...</td>\n",
       "    </tr>\n",
       "    <tr>\n",
       "      <th>7191</th>\n",
       "      <td>608437</td>\n",
       "      <td>SYSTEMIC LUPUS ERYTHEMATOSUS, SUSCEPTIBILITY T...</td>\n",
       "      <td>606609.0</td>\n",
       "      <td>{Systemic lupus erythematosus, susceptibility ...</td>\n",
       "    </tr>\n",
       "    <tr>\n",
       "      <th>59</th>\n",
       "      <td>608583</td>\n",
       "      <td>ATRIAL FIBRILLATION, FAMILIAL, 1; ATFB1</td>\n",
       "      <td>606694.0</td>\n",
       "      <td>?Atrial fibrillation 15, 615770 (3)</td>\n",
       "    </tr>\n",
       "    <tr>\n",
       "      <th>801</th>\n",
       "      <td>608583</td>\n",
       "      <td>ATRIAL FIBRILLATION, FAMILIAL, 1; ATFB1</td>\n",
       "      <td>608583.0</td>\n",
       "      <td>Atrial fibrillation, familial, 1 (2)</td>\n",
       "    </tr>\n",
       "    <tr>\n",
       "      <th>802</th>\n",
       "      <td>608583</td>\n",
       "      <td>ATRIAL FIBRILLATION, FAMILIAL, 1; ATFB1</td>\n",
       "      <td>600163.0</td>\n",
       "      <td>Atrial fibrillation, familial, 10, 614022 (3)</td>\n",
       "    </tr>\n",
       "    <tr>\n",
       "      <th>803</th>\n",
       "      <td>608583</td>\n",
       "      <td>ATRIAL FIBRILLATION, FAMILIAL, 1; ATFB1</td>\n",
       "      <td>121013.0</td>\n",
       "      <td>Atrial fibrillation, familial, 11, 614049 (3)</td>\n",
       "    </tr>\n",
       "    <tr>\n",
       "      <th>804</th>\n",
       "      <td>608583</td>\n",
       "      <td>ATRIAL FIBRILLATION, FAMILIAL, 1; ATFB1</td>\n",
       "      <td>601439.0</td>\n",
       "      <td>Atrial fibrillation, familial, 12, 614050 (3)</td>\n",
       "    </tr>\n",
       "    <tr>\n",
       "      <th>805</th>\n",
       "      <td>608583</td>\n",
       "      <td>ATRIAL FIBRILLATION, FAMILIAL, 1; ATFB1</td>\n",
       "      <td>600235.0</td>\n",
       "      <td>Atrial fibrillation, familial, 13, 615377 (3)</td>\n",
       "    </tr>\n",
       "    <tr>\n",
       "      <th>806</th>\n",
       "      <td>608583</td>\n",
       "      <td>ATRIAL FIBRILLATION, FAMILIAL, 1; ATFB1</td>\n",
       "      <td>601327.0</td>\n",
       "      <td>Atrial fibrillation, familial, 14, 615378 (3)</td>\n",
       "    </tr>\n",
       "    <tr>\n",
       "      <th>807</th>\n",
       "      <td>608583</td>\n",
       "      <td>ATRIAL FIBRILLATION, FAMILIAL, 1; ATFB1</td>\n",
       "      <td>608214.0</td>\n",
       "      <td>Atrial fibrillation, familial, 16, 613120 (3)</td>\n",
       "    </tr>\n",
       "    <tr>\n",
       "      <th>808</th>\n",
       "      <td>608583</td>\n",
       "      <td>ATRIAL FIBRILLATION, FAMILIAL, 1; ATFB1</td>\n",
       "      <td>608256.0</td>\n",
       "      <td>Atrial fibrillation, familial, 17, 611819 (3)</td>\n",
       "    </tr>\n",
       "    <tr>\n",
       "      <th>809</th>\n",
       "      <td>608583</td>\n",
       "      <td>ATRIAL FIBRILLATION, FAMILIAL, 1; ATFB1</td>\n",
       "      <td>608988.0</td>\n",
       "      <td>Atrial fibrillation, familial, 2 (2)</td>\n",
       "    </tr>\n",
       "    <tr>\n",
       "      <th>810</th>\n",
       "      <td>608583</td>\n",
       "      <td>ATRIAL FIBRILLATION, FAMILIAL, 1; ATFB1</td>\n",
       "      <td>607542.0</td>\n",
       "      <td>Atrial fibrillation, familial, 3, 607554 (3)</td>\n",
       "    </tr>\n",
       "    <tr>\n",
       "      <th>811</th>\n",
       "      <td>608583</td>\n",
       "      <td>ATRIAL FIBRILLATION, FAMILIAL, 1; ATFB1</td>\n",
       "      <td>603796.0</td>\n",
       "      <td>Atrial fibrillation, familial, 4, 611493 (3)</td>\n",
       "    </tr>\n",
       "    <tr>\n",
       "      <th>812</th>\n",
       "      <td>608583</td>\n",
       "      <td>ATRIAL FIBRILLATION, FAMILIAL, 1; ATFB1</td>\n",
       "      <td>108780.0</td>\n",
       "      <td>Atrial fibrillation, familial, 6, 612201 (3)</td>\n",
       "    </tr>\n",
       "    <tr>\n",
       "      <th>813</th>\n",
       "      <td>608583</td>\n",
       "      <td>ATRIAL FIBRILLATION, FAMILIAL, 1; ATFB1</td>\n",
       "      <td>176267.0</td>\n",
       "      <td>Atrial fibrillation, familial, 7, 612240 (3)</td>\n",
       "    </tr>\n",
       "    <tr>\n",
       "      <th>814</th>\n",
       "      <td>608583</td>\n",
       "      <td>ATRIAL FIBRILLATION, FAMILIAL, 1; ATFB1</td>\n",
       "      <td>613055.0</td>\n",
       "      <td>Atrial fibrillation, familial, 8 (2)</td>\n",
       "    </tr>\n",
       "    <tr>\n",
       "      <th>815</th>\n",
       "      <td>608583</td>\n",
       "      <td>ATRIAL FIBRILLATION, FAMILIAL, 1; ATFB1</td>\n",
       "      <td>600681.0</td>\n",
       "      <td>Atrial fibrillation, familial, 9, 613980 (3)</td>\n",
       "    </tr>\n",
       "    <tr>\n",
       "      <th>6234</th>\n",
       "      <td>608583</td>\n",
       "      <td>ATRIAL FIBRILLATION, FAMILIAL, 1; ATFB1</td>\n",
       "      <td>611494.0</td>\n",
       "      <td>{Atrial fibrillation, familial, 5} (2)</td>\n",
       "    </tr>\n",
       "  </tbody>\n",
       "</table>\n",
       "<p>2475 rows × 4 columns</p>\n",
       "</div>"
      ],
      "text/plain": [
       "      disease                                       disease_name  phenotype  \\\n",
       "7056   102300  RESTLESS LEGS SYNDROME, SUSCEPTIBILITY TO, 1; ...   102300.0   \n",
       "7057   102300  RESTLESS LEGS SYNDROME, SUSCEPTIBILITY TO, 1; ...   608831.0   \n",
       "7058   102300  RESTLESS LEGS SYNDROME, SUSCEPTIBILITY TO, 1; ...   610438.0   \n",
       "7059   102300  RESTLESS LEGS SYNDROME, SUSCEPTIBILITY TO, 1; ...   610439.0   \n",
       "7060   102300  RESTLESS LEGS SYNDROME, SUSCEPTIBILITY TO, 1; ...   611242.0   \n",
       "7061   102300  RESTLESS LEGS SYNDROME, SUSCEPTIBILITY TO, 1; ...   611185.0   \n",
       "7062   102300  RESTLESS LEGS SYNDROME, SUSCEPTIBILITY TO, 1; ...   612853.0   \n",
       "7063   102300  RESTLESS LEGS SYNDROME, SUSCEPTIBILITY TO, 1; ...   615197.0   \n",
       "44     104130  ALOPECIA, PSYCHOMOTOR EPILEPSY, PYORRHEA, AND ...   612074.0   \n",
       "589    104130  ALOPECIA, PSYCHOMOTOR EPILEPSY, PYORRHEA, AND ...   104000.0   \n",
       "590    104130  ALOPECIA, PSYCHOMOTOR EPILEPSY, PYORRHEA, AND ...   610753.0   \n",
       "591    104130  ALOPECIA, PSYCHOMOTOR EPILEPSY, PYORRHEA, AND ...   602302.0   \n",
       "592    104130  ALOPECIA, PSYCHOMOTOR EPILEPSY, PYORRHEA, AND ...   109200.0   \n",
       "593    104130  ALOPECIA, PSYCHOMOTOR EPILEPSY, PYORRHEA, AND ...   300710.0   \n",
       "594    104130  ALOPECIA, PSYCHOMOTOR EPILEPSY, PYORRHEA, AND ...   612421.0   \n",
       "595    104130  ALOPECIA, PSYCHOMOTOR EPILEPSY, PYORRHEA, AND ...   203650.0   \n",
       "596    104130  ALOPECIA, PSYCHOMOTOR EPILEPSY, PYORRHEA, AND ...   610422.0   \n",
       "597    104130  ALOPECIA, PSYCHOMOTOR EPILEPSY, PYORRHEA, AND ...   613930.0   \n",
       "3055   104130  ALOPECIA, PSYCHOMOTOR EPILEPSY, PYORRHEA, AND ...   603718.0   \n",
       "3526   104130  ALOPECIA, PSYCHOMOTOR EPILEPSY, PYORRHEA, AND ...   610222.0   \n",
       "3567   104130  ALOPECIA, PSYCHOMOTOR EPILEPSY, PYORRHEA, AND ...   131243.0   \n",
       "4586   104130  ALOPECIA, PSYCHOMOTOR EPILEPSY, PYORRHEA, AND ...   121014.0   \n",
       "5560   104130  ALOPECIA, PSYCHOMOTOR EPILEPSY, PYORRHEA, AND ...   600838.0   \n",
       "53     107320                ANTIPHOSPHOLIPID SYNDROME, FAMILIAL   107320.0   \n",
       "735    107650                           APNEA, OBSTRUCTIVE SLEEP   177400.0   \n",
       "839    109100                                 AUTOIMMUNE DISEASE   102582.0   \n",
       "840    109100                                 AUTOIMMUNE DISEASE   176947.0   \n",
       "841    109100                                 AUTOIMMUNE DISEASE   606409.0   \n",
       "6270   109100                                 AUTOIMMUNE DISEASE   611539.0   \n",
       "6271   109100                                 AUTOIMMUNE DISEASE   608391.0   \n",
       "...       ...                                                ...        ...   \n",
       "7179   608437  SYSTEMIC LUPUS ERYTHEMATOSUS, SUSCEPTIBILITY T...   613145.0   \n",
       "7180   608437  SYSTEMIC LUPUS ERYTHEMATOSUS, SUSCEPTIBILITY T...   603031.0   \n",
       "7181   608437  SYSTEMIC LUPUS ERYTHEMATOSUS, SUSCEPTIBILITY T...   600244.0   \n",
       "7182   608437  SYSTEMIC LUPUS ERYTHEMATOSUS, SUSCEPTIBILITY T...   605480.0   \n",
       "7183   608437  SYSTEMIC LUPUS ERYTHEMATOSUS, SUSCEPTIBILITY T...   608437.0   \n",
       "7184   608437  SYSTEMIC LUPUS ERYTHEMATOSUS, SUSCEPTIBILITY T...   609903.0   \n",
       "7185   608437  SYSTEMIC LUPUS ERYTHEMATOSUS, SUSCEPTIBILITY T...   610065.0   \n",
       "7186   608437  SYSTEMIC LUPUS ERYTHEMATOSUS, SUSCEPTIBILITY T...   610066.0   \n",
       "7187   608437  SYSTEMIC LUPUS ERYTHEMATOSUS, SUSCEPTIBILITY T...   120650.0   \n",
       "7188   608437  SYSTEMIC LUPUS ERYTHEMATOSUS, SUSCEPTIBILITY T...   123890.0   \n",
       "7189   608437  SYSTEMIC LUPUS ERYTHEMATOSUS, SUSCEPTIBILITY T...   125505.0   \n",
       "7190   608437  SYSTEMIC LUPUS ERYTHEMATOSUS, SUSCEPTIBILITY T...   604590.0   \n",
       "7191   608437  SYSTEMIC LUPUS ERYTHEMATOSUS, SUSCEPTIBILITY T...   606609.0   \n",
       "59     608583            ATRIAL FIBRILLATION, FAMILIAL, 1; ATFB1   606694.0   \n",
       "801    608583            ATRIAL FIBRILLATION, FAMILIAL, 1; ATFB1   608583.0   \n",
       "802    608583            ATRIAL FIBRILLATION, FAMILIAL, 1; ATFB1   600163.0   \n",
       "803    608583            ATRIAL FIBRILLATION, FAMILIAL, 1; ATFB1   121013.0   \n",
       "804    608583            ATRIAL FIBRILLATION, FAMILIAL, 1; ATFB1   601439.0   \n",
       "805    608583            ATRIAL FIBRILLATION, FAMILIAL, 1; ATFB1   600235.0   \n",
       "806    608583            ATRIAL FIBRILLATION, FAMILIAL, 1; ATFB1   601327.0   \n",
       "807    608583            ATRIAL FIBRILLATION, FAMILIAL, 1; ATFB1   608214.0   \n",
       "808    608583            ATRIAL FIBRILLATION, FAMILIAL, 1; ATFB1   608256.0   \n",
       "809    608583            ATRIAL FIBRILLATION, FAMILIAL, 1; ATFB1   608988.0   \n",
       "810    608583            ATRIAL FIBRILLATION, FAMILIAL, 1; ATFB1   607542.0   \n",
       "811    608583            ATRIAL FIBRILLATION, FAMILIAL, 1; ATFB1   603796.0   \n",
       "812    608583            ATRIAL FIBRILLATION, FAMILIAL, 1; ATFB1   108780.0   \n",
       "813    608583            ATRIAL FIBRILLATION, FAMILIAL, 1; ATFB1   176267.0   \n",
       "814    608583            ATRIAL FIBRILLATION, FAMILIAL, 1; ATFB1   613055.0   \n",
       "815    608583            ATRIAL FIBRILLATION, FAMILIAL, 1; ATFB1   600681.0   \n",
       "6234   608583            ATRIAL FIBRILLATION, FAMILIAL, 1; ATFB1   611494.0   \n",
       "\n",
       "                                        phenotype_title  \n",
       "7056                     {Restless legs syndrome 1} (2)  \n",
       "7057                     {Restless legs syndrome 2} (2)  \n",
       "7058                     {Restless legs syndrome 3} (2)  \n",
       "7059                     {Restless legs syndrome 4} (2)  \n",
       "7060                     {Restless legs syndrome 5} (2)  \n",
       "7061                     {Restless legs syndrome 6} (2)  \n",
       "7062                     {Restless legs syndrome 7} (2)  \n",
       "7063                     {Restless legs syndrome 8} (2)  \n",
       "44    ?Alopecia, neurologic defects, and endocrinopa...  \n",
       "589                               Alopecia areata 1 (2)  \n",
       "590                               Alopecia areata 2 (2)  \n",
       "591                    Alopecia universalis, 203655 (3)  \n",
       "592                       Alopecia, androgenetic, 1 (2)  \n",
       "593                       Alopecia, androgenetic, 2 (2)  \n",
       "594                       Alopecia, androgenetic, 3 (2)  \n",
       "595          Alopecia-mental retardation syndrome 1 (2)  \n",
       "596          Alopecia-mental retardation syndrome 2 (2)  \n",
       "597          Alopecia-mental retardation syndrome 3 (2)  \n",
       "3055  Ichthyosis, leukocyte vacuoles, alopecia, and ...  \n",
       "3526  Macrocephaly, alopecia, cutis laxa, and scolio...  \n",
       "3567  Mandibulofacial dysostosis with alopecia, 6163...  \n",
       "4586  Palmoplantar keratoderma with congenital alope...  \n",
       "5560  T-cell immunodeficiency, congenital alopecia, ...  \n",
       "53             ?Antiphospholipid syndrome, familial (2)  \n",
       "735                           Apnea, postanesthetic (3)  \n",
       "839   Autoimmune disease, multisystem, infantile-ons...  \n",
       "840   Autoimmune disease, multisystem, infantile-ons...  \n",
       "841   Autoimmune disease, multisystem, with facial d...  \n",
       "6270  {Autoimmune disease, susceptibility to, 1}, 60...  \n",
       "6271     {Autoimmune disease, susceptibility to, 2} (2)  \n",
       "...                                                 ...  \n",
       "7179  {Systemic lupus erythematosus, susceptibility ...  \n",
       "7180  {Systemic lupus erythematosus, susceptibility ...  \n",
       "7181  {Systemic lupus erythematosus, susceptibility ...  \n",
       "7182  {Systemic lupus erythematosus, susceptibility ...  \n",
       "7183  {Systemic lupus erythematosus, susceptibility ...  \n",
       "7184  {Systemic lupus erythematosus, susceptibility ...  \n",
       "7185  {Systemic lupus erythematosus, susceptibility ...  \n",
       "7186  {Systemic lupus erythematosus, susceptibility ...  \n",
       "7187  {Systemic lupus erythematosus, susceptibility ...  \n",
       "7188  {Systemic lupus erythematosus, susceptibility ...  \n",
       "7189  {Systemic lupus erythematosus, susceptibility ...  \n",
       "7190  {Systemic lupus erythematosus, susceptibility ...  \n",
       "7191  {Systemic lupus erythematosus, susceptibility ...  \n",
       "59                  ?Atrial fibrillation 15, 615770 (3)  \n",
       "801                Atrial fibrillation, familial, 1 (2)  \n",
       "802       Atrial fibrillation, familial, 10, 614022 (3)  \n",
       "803       Atrial fibrillation, familial, 11, 614049 (3)  \n",
       "804       Atrial fibrillation, familial, 12, 614050 (3)  \n",
       "805       Atrial fibrillation, familial, 13, 615377 (3)  \n",
       "806       Atrial fibrillation, familial, 14, 615378 (3)  \n",
       "807       Atrial fibrillation, familial, 16, 613120 (3)  \n",
       "808       Atrial fibrillation, familial, 17, 611819 (3)  \n",
       "809                Atrial fibrillation, familial, 2 (2)  \n",
       "810        Atrial fibrillation, familial, 3, 607554 (3)  \n",
       "811        Atrial fibrillation, familial, 4, 611493 (3)  \n",
       "812        Atrial fibrillation, familial, 6, 612201 (3)  \n",
       "813        Atrial fibrillation, familial, 7, 612240 (3)  \n",
       "814                Atrial fibrillation, familial, 8 (2)  \n",
       "815        Atrial fibrillation, familial, 9, 613980 (3)  \n",
       "6234             {Atrial fibrillation, familial, 5} (2)  \n",
       "\n",
       "[2475 rows x 4 columns]"
      ]
     },
     "execution_count": 167,
     "metadata": {},
     "output_type": "execute_result"
    }
   ],
   "source": [
    "print len(temp)\n",
    "temp"
   ]
  },
  {
   "cell_type": "code",
   "execution_count": 172,
   "metadata": {
    "collapsed": false
   },
   "outputs": [
    {
     "data": {
      "text/html": [
       "<div>\n",
       "<table border=\"1\" class=\"dataframe\">\n",
       "  <thead>\n",
       "    <tr style=\"text-align: right;\">\n",
       "      <th></th>\n",
       "      <th>Phenotype</th>\n",
       "      <th>Gene_Symbols</th>\n",
       "      <th>MIM_Number</th>\n",
       "      <th>Cyto_Location</th>\n",
       "    </tr>\n",
       "  </thead>\n",
       "  <tbody>\n",
       "    <tr>\n",
       "      <th>44</th>\n",
       "      <td>?Alopecia, neurologic defects, and endocrinopa...</td>\n",
       "      <td>RBM28, ANES</td>\n",
       "      <td>612074.0</td>\n",
       "      <td>7q32.1</td>\n",
       "    </tr>\n",
       "    <tr>\n",
       "      <th>589</th>\n",
       "      <td>Alopecia areata 1 (2)</td>\n",
       "      <td>AA1</td>\n",
       "      <td>104000.0</td>\n",
       "      <td>18p11.3-p11.2</td>\n",
       "    </tr>\n",
       "    <tr>\n",
       "      <th>590</th>\n",
       "      <td>Alopecia areata 2 (2)</td>\n",
       "      <td>AA2</td>\n",
       "      <td>610753.0</td>\n",
       "      <td>16q11-q22</td>\n",
       "    </tr>\n",
       "    <tr>\n",
       "      <th>591</th>\n",
       "      <td>Alopecia universalis, 203655 (3)</td>\n",
       "      <td>HR, AU, MUHH1, HYPT4</td>\n",
       "      <td>602302.0</td>\n",
       "      <td>8p21.3</td>\n",
       "    </tr>\n",
       "    <tr>\n",
       "      <th>592</th>\n",
       "      <td>Alopecia, androgenetic, 1 (2)</td>\n",
       "      <td>AFA1, MPB</td>\n",
       "      <td>109200.0</td>\n",
       "      <td>3q26</td>\n",
       "    </tr>\n",
       "    <tr>\n",
       "      <th>593</th>\n",
       "      <td>Alopecia, androgenetic, 2 (2)</td>\n",
       "      <td>AGA2</td>\n",
       "      <td>300710.0</td>\n",
       "      <td>Xq11-q12</td>\n",
       "    </tr>\n",
       "    <tr>\n",
       "      <th>594</th>\n",
       "      <td>Alopecia, androgenetic, 3 (2)</td>\n",
       "      <td>AGA3</td>\n",
       "      <td>612421.0</td>\n",
       "      <td>20p11.22</td>\n",
       "    </tr>\n",
       "    <tr>\n",
       "      <th>595</th>\n",
       "      <td>Alopecia-mental retardation syndrome 1 (2)</td>\n",
       "      <td>APMR1</td>\n",
       "      <td>203650.0</td>\n",
       "      <td>3q26.3-q27.3</td>\n",
       "    </tr>\n",
       "    <tr>\n",
       "      <th>596</th>\n",
       "      <td>Alopecia-mental retardation syndrome 2 (2)</td>\n",
       "      <td>APMR2</td>\n",
       "      <td>610422.0</td>\n",
       "      <td>3q26.2-q26.31</td>\n",
       "    </tr>\n",
       "    <tr>\n",
       "      <th>597</th>\n",
       "      <td>Alopecia-mental retardation syndrome 3 (2)</td>\n",
       "      <td>APMR3</td>\n",
       "      <td>613930.0</td>\n",
       "      <td>18q11.2-q12.2</td>\n",
       "    </tr>\n",
       "    <tr>\n",
       "      <th>3055</th>\n",
       "      <td>Ichthyosis, leukocyte vacuoles, alopecia, and ...</td>\n",
       "      <td>CLDN1, SEMP1, ILVASC</td>\n",
       "      <td>603718.0</td>\n",
       "      <td>3q28</td>\n",
       "    </tr>\n",
       "    <tr>\n",
       "      <th>3526</th>\n",
       "      <td>Macrocephaly, alopecia, cutis laxa, and scolio...</td>\n",
       "      <td>RIN2, MACS</td>\n",
       "      <td>610222.0</td>\n",
       "      <td>20p11.23</td>\n",
       "    </tr>\n",
       "    <tr>\n",
       "      <th>3567</th>\n",
       "      <td>Mandibulofacial dysostosis with alopecia, 6163...</td>\n",
       "      <td>EDNRA, MFDA</td>\n",
       "      <td>131243.0</td>\n",
       "      <td>4q31.22-q31.23</td>\n",
       "    </tr>\n",
       "    <tr>\n",
       "      <th>4586</th>\n",
       "      <td>Palmoplantar keratoderma with congenital alope...</td>\n",
       "      <td>GJA1, CX43, ODDD, SDTY3, ODOD, HSS, AVSD3, HLH...</td>\n",
       "      <td>121014.0</td>\n",
       "      <td>6q22.31</td>\n",
       "    </tr>\n",
       "    <tr>\n",
       "      <th>5560</th>\n",
       "      <td>T-cell immunodeficiency, congenital alopecia, ...</td>\n",
       "      <td>FOXN1, WHN</td>\n",
       "      <td>600838.0</td>\n",
       "      <td>17q11.2</td>\n",
       "    </tr>\n",
       "  </tbody>\n",
       "</table>\n",
       "</div>"
      ],
      "text/plain": [
       "                                              Phenotype  \\\n",
       "44    ?Alopecia, neurologic defects, and endocrinopa...   \n",
       "589                               Alopecia areata 1 (2)   \n",
       "590                               Alopecia areata 2 (2)   \n",
       "591                    Alopecia universalis, 203655 (3)   \n",
       "592                       Alopecia, androgenetic, 1 (2)   \n",
       "593                       Alopecia, androgenetic, 2 (2)   \n",
       "594                       Alopecia, androgenetic, 3 (2)   \n",
       "595          Alopecia-mental retardation syndrome 1 (2)   \n",
       "596          Alopecia-mental retardation syndrome 2 (2)   \n",
       "597          Alopecia-mental retardation syndrome 3 (2)   \n",
       "3055  Ichthyosis, leukocyte vacuoles, alopecia, and ...   \n",
       "3526  Macrocephaly, alopecia, cutis laxa, and scolio...   \n",
       "3567  Mandibulofacial dysostosis with alopecia, 6163...   \n",
       "4586  Palmoplantar keratoderma with congenital alope...   \n",
       "5560  T-cell immunodeficiency, congenital alopecia, ...   \n",
       "\n",
       "                                           Gene_Symbols  MIM_Number  \\\n",
       "44                                          RBM28, ANES    612074.0   \n",
       "589                                                 AA1    104000.0   \n",
       "590                                                 AA2    610753.0   \n",
       "591                                HR, AU, MUHH1, HYPT4    602302.0   \n",
       "592                                           AFA1, MPB    109200.0   \n",
       "593                                                AGA2    300710.0   \n",
       "594                                                AGA3    612421.0   \n",
       "595                                               APMR1    203650.0   \n",
       "596                                               APMR2    610422.0   \n",
       "597                                               APMR3    613930.0   \n",
       "3055                               CLDN1, SEMP1, ILVASC    603718.0   \n",
       "3526                                         RIN2, MACS    610222.0   \n",
       "3567                                        EDNRA, MFDA    131243.0   \n",
       "4586  GJA1, CX43, ODDD, SDTY3, ODOD, HSS, AVSD3, HLH...    121014.0   \n",
       "5560                                         FOXN1, WHN    600838.0   \n",
       "\n",
       "       Cyto_Location  \n",
       "44            7q32.1  \n",
       "589    18p11.3-p11.2  \n",
       "590        16q11-q22  \n",
       "591           8p21.3  \n",
       "592             3q26  \n",
       "593         Xq11-q12  \n",
       "594         20p11.22  \n",
       "595     3q26.3-q27.3  \n",
       "596    3q26.2-q26.31  \n",
       "597    18q11.2-q12.2  \n",
       "3055            3q28  \n",
       "3526        20p11.23  \n",
       "3567  4q31.22-q31.23  \n",
       "4586         6q22.31  \n",
       "5560         17q11.2  "
      ]
     },
     "execution_count": 172,
     "metadata": {},
     "output_type": "execute_result"
    }
   ],
   "source": [
    "found = morbid[morbid['Phenotype'].str.contains('ALOPECIA', case=False)]\n",
    "found"
   ]
  },
  {
   "cell_type": "code",
   "execution_count": 173,
   "metadata": {
    "collapsed": false
   },
   "outputs": [
    {
     "data": {
      "text/plain": [
       "15"
      ]
     },
     "execution_count": 173,
     "metadata": {},
     "output_type": "execute_result"
    }
   ],
   "source": [
    "len(found)"
   ]
  },
  {
   "cell_type": "code",
   "execution_count": null,
   "metadata": {
    "collapsed": true
   },
   "outputs": [],
   "source": []
  }
 ],
 "metadata": {
  "kernelspec": {
   "display_name": "Python 2",
   "language": "python",
   "name": "python2"
  },
  "language_info": {
   "codemirror_mode": {
    "name": "ipython",
    "version": 2
   },
   "file_extension": ".py",
   "mimetype": "text/x-python",
   "name": "python",
   "nbconvert_exporter": "python",
   "pygments_lexer": "ipython2",
   "version": "2.7.6"
  }
 },
 "nbformat": 4,
 "nbformat_minor": 0
}
