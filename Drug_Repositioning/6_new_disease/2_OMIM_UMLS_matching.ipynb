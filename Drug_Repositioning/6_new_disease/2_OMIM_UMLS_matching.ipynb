{
 "cells": [
  {
   "cell_type": "code",
   "execution_count": 1,
   "metadata": {
    "collapsed": true
   },
   "outputs": [],
   "source": [
    "import csv\n",
    "import numpy as np\n",
    "import os\n",
    "import pandas as pd\n",
    "import requests\n",
    "import time"
   ]
  },
  {
   "cell_type": "code",
   "execution_count": 2,
   "metadata": {
    "collapsed": false
   },
   "outputs": [],
   "source": [
    "mapping = pd.read_excel(\"/home/share/aschoi/data/Drug_Repositioning/7_new_association/PREDICT_S6 Mapping between OMIM disease and UMLS concepts.xls\")"
   ]
  },
  {
   "cell_type": "code",
   "execution_count": 3,
   "metadata": {
    "collapsed": false
   },
   "outputs": [
    {
     "name": "stdout",
     "output_type": "stream",
     "text": [
      "617\n"
     ]
    },
    {
     "data": {
      "text/html": [
       "<div>\n",
       "<table border=\"1\" class=\"dataframe\">\n",
       "  <thead>\n",
       "    <tr style=\"text-align: right;\">\n",
       "      <th></th>\n",
       "      <th>OMIM ID</th>\n",
       "      <th>OMIM disease name</th>\n",
       "      <th>UMLS concept ID</th>\n",
       "      <th>UMLS concept name</th>\n",
       "    </tr>\n",
       "  </thead>\n",
       "  <tbody>\n",
       "    <tr>\n",
       "      <th>0</th>\n",
       "      <td>102100</td>\n",
       "      <td>Acromegaloid Changes, Cutis Verticis Gyrata, A...</td>\n",
       "      <td>C1868756</td>\n",
       "      <td>Corneal leukoma</td>\n",
       "    </tr>\n",
       "    <tr>\n",
       "      <th>1</th>\n",
       "      <td>102100</td>\n",
       "      <td>Acromegaloid Changes, Cutis Verticis Gyrata, A...</td>\n",
       "      <td>C0263417</td>\n",
       "      <td>Cutis verticis gyrata</td>\n",
       "    </tr>\n",
       "    <tr>\n",
       "      <th>2</th>\n",
       "      <td>102300</td>\n",
       "      <td>Restless Legs Syndrome, Susceptibility To, 1; ...</td>\n",
       "      <td>C0035258</td>\n",
       "      <td>Restless Legs Syndrome</td>\n",
       "    </tr>\n",
       "    <tr>\n",
       "      <th>3</th>\n",
       "      <td>102300</td>\n",
       "      <td>Restless Legs Syndrome, Susceptibility To, 1; ...</td>\n",
       "      <td>C1876177</td>\n",
       "      <td>RLS1 (Ekbom Syndrome)</td>\n",
       "    </tr>\n",
       "    <tr>\n",
       "      <th>4</th>\n",
       "      <td>102400</td>\n",
       "      <td>Acroosteolysis</td>\n",
       "      <td>C0917990</td>\n",
       "      <td>Acroosteolysis (Acro-Osteolysis)</td>\n",
       "    </tr>\n",
       "  </tbody>\n",
       "</table>\n",
       "</div>"
      ],
      "text/plain": [
       "   OMIM ID                                  OMIM disease name UMLS concept ID  \\\n",
       "0   102100  Acromegaloid Changes, Cutis Verticis Gyrata, A...        C1868756   \n",
       "1   102100  Acromegaloid Changes, Cutis Verticis Gyrata, A...        C0263417   \n",
       "2   102300  Restless Legs Syndrome, Susceptibility To, 1; ...        C0035258   \n",
       "3   102300  Restless Legs Syndrome, Susceptibility To, 1; ...        C1876177   \n",
       "4   102400                                     Acroosteolysis        C0917990   \n",
       "\n",
       "                  UMLS concept name  \n",
       "0                   Corneal leukoma  \n",
       "1             Cutis verticis gyrata  \n",
       "2            Restless Legs Syndrome  \n",
       "3             RLS1 (Ekbom Syndrome)  \n",
       "4  Acroosteolysis (Acro-Osteolysis)  "
      ]
     },
     "execution_count": 3,
     "metadata": {},
     "output_type": "execute_result"
    }
   ],
   "source": [
    "print len(mapping)\n",
    "mapping.head()"
   ]
  },
  {
   "cell_type": "code",
   "execution_count": 4,
   "metadata": {
    "collapsed": true
   },
   "outputs": [],
   "source": [
    "disease = pd.read_table(\"/home/share/aschoi/data/Drug_Repositioning/7_new_association/4_bi_random_walk_Cdataset_association.tsv\")"
   ]
  },
  {
   "cell_type": "code",
   "execution_count": 6,
   "metadata": {
    "collapsed": false
   },
   "outputs": [
    {
     "name": "stdout",
     "output_type": "stream",
     "text": [
      "2532\n"
     ]
    },
    {
     "data": {
      "text/html": [
       "<div>\n",
       "<table border=\"1\" class=\"dataframe\">\n",
       "  <thead>\n",
       "    <tr style=\"text-align: right;\">\n",
       "      <th></th>\n",
       "      <th>disease_id</th>\n",
       "      <th>drug_id</th>\n",
       "    </tr>\n",
       "  </thead>\n",
       "  <tbody>\n",
       "    <tr>\n",
       "      <th>0</th>\n",
       "      <td>D102100</td>\n",
       "      <td>DB00555</td>\n",
       "    </tr>\n",
       "  </tbody>\n",
       "</table>\n",
       "</div>"
      ],
      "text/plain": [
       "  disease_id  drug_id\n",
       "0    D102100  DB00555"
      ]
     },
     "execution_count": 6,
     "metadata": {},
     "output_type": "execute_result"
    }
   ],
   "source": [
    "print len(disease)\n",
    "disease.head(1)"
   ]
  },
  {
   "cell_type": "code",
   "execution_count": 7,
   "metadata": {
    "collapsed": false
   },
   "outputs": [
    {
     "name": "stdout",
     "output_type": "stream",
     "text": [
      "409\n"
     ]
    }
   ],
   "source": [
    "di_mimNum = disease['disease_id'].drop_duplicates().str[1:]\n",
    "int_di_mimNum = list()\n",
    "for i in di_mimNum:\n",
    "    int_di_mimNum.append (int(i))\n",
    "print len(int_di_mimNum)"
   ]
  },
  {
   "cell_type": "code",
   "execution_count": 9,
   "metadata": {
    "collapsed": false
   },
   "outputs": [
    {
     "name": "stdout",
     "output_type": "stream",
     "text": [
      "608\n"
     ]
    },
    {
     "data": {
      "text/html": [
       "<div>\n",
       "<table border=\"1\" class=\"dataframe\">\n",
       "  <thead>\n",
       "    <tr style=\"text-align: right;\">\n",
       "      <th></th>\n",
       "      <th>OMIM ID</th>\n",
       "      <th>OMIM disease name</th>\n",
       "      <th>UMLS concept ID</th>\n",
       "      <th>UMLS concept name</th>\n",
       "    </tr>\n",
       "  </thead>\n",
       "  <tbody>\n",
       "    <tr>\n",
       "      <th>0</th>\n",
       "      <td>102100</td>\n",
       "      <td>Acromegaloid Changes, Cutis Verticis Gyrata, A...</td>\n",
       "      <td>C1868756</td>\n",
       "      <td>Corneal leukoma</td>\n",
       "    </tr>\n",
       "    <tr>\n",
       "      <th>1</th>\n",
       "      <td>102100</td>\n",
       "      <td>Acromegaloid Changes, Cutis Verticis Gyrata, A...</td>\n",
       "      <td>C0263417</td>\n",
       "      <td>Cutis verticis gyrata</td>\n",
       "    </tr>\n",
       "    <tr>\n",
       "      <th>2</th>\n",
       "      <td>102300</td>\n",
       "      <td>Restless Legs Syndrome, Susceptibility To, 1; ...</td>\n",
       "      <td>C0035258</td>\n",
       "      <td>Restless Legs Syndrome</td>\n",
       "    </tr>\n",
       "    <tr>\n",
       "      <th>3</th>\n",
       "      <td>102300</td>\n",
       "      <td>Restless Legs Syndrome, Susceptibility To, 1; ...</td>\n",
       "      <td>C1876177</td>\n",
       "      <td>RLS1 (Ekbom Syndrome)</td>\n",
       "    </tr>\n",
       "    <tr>\n",
       "      <th>4</th>\n",
       "      <td>102400</td>\n",
       "      <td>Acroosteolysis</td>\n",
       "      <td>C0917990</td>\n",
       "      <td>Acroosteolysis (Acro-Osteolysis)</td>\n",
       "    </tr>\n",
       "  </tbody>\n",
       "</table>\n",
       "</div>"
      ],
      "text/plain": [
       "   OMIM ID                                  OMIM disease name UMLS concept ID  \\\n",
       "0   102100  Acromegaloid Changes, Cutis Verticis Gyrata, A...        C1868756   \n",
       "1   102100  Acromegaloid Changes, Cutis Verticis Gyrata, A...        C0263417   \n",
       "2   102300  Restless Legs Syndrome, Susceptibility To, 1; ...        C0035258   \n",
       "3   102300  Restless Legs Syndrome, Susceptibility To, 1; ...        C1876177   \n",
       "4   102400                                     Acroosteolysis        C0917990   \n",
       "\n",
       "                  UMLS concept name  \n",
       "0                   Corneal leukoma  \n",
       "1             Cutis verticis gyrata  \n",
       "2            Restless Legs Syndrome  \n",
       "3             RLS1 (Ekbom Syndrome)  \n",
       "4  Acroosteolysis (Acro-Osteolysis)  "
      ]
     },
     "execution_count": 9,
     "metadata": {},
     "output_type": "execute_result"
    }
   ],
   "source": [
    "omim_umls = mapping[mapping['OMIM ID'].isin(int_di_mimNum)]\n",
    "print len(omim_umls)\n",
    "omim_umls.head()"
   ]
  },
  {
   "cell_type": "code",
   "execution_count": 10,
   "metadata": {
    "collapsed": true
   },
   "outputs": [],
   "source": [
    "omim_umls.to_csv(\"/home/share/aschoi/data/Drug_Repositioning/6_new_disease/omim_umls_mapping_association.tsv\", sep='\\t', index=False)\n",
    "omim_umls.to_csv(\"/home/share/aschoi/nas/users/asolchoi/data/Drug_Repositioning/6_new_disease/omim_umls_mapping_association.tsv\", sep='\\t', index=False)"
   ]
  },
  {
   "cell_type": "code",
   "execution_count": null,
   "metadata": {
    "collapsed": true
   },
   "outputs": [],
   "source": []
  }
 ],
 "metadata": {
  "kernelspec": {
   "display_name": "Python 2",
   "language": "python",
   "name": "python2"
  },
  "language_info": {
   "codemirror_mode": {
    "name": "ipython",
    "version": 2
   },
   "file_extension": ".py",
   "mimetype": "text/x-python",
   "name": "python",
   "nbconvert_exporter": "python",
   "pygments_lexer": "ipython2",
   "version": "2.7.6"
  }
 },
 "nbformat": 4,
 "nbformat_minor": 0
}
