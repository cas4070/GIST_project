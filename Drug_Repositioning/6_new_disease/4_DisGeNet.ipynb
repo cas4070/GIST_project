{
 "cells": [
  {
   "cell_type": "code",
   "execution_count": 1,
   "metadata": {
    "collapsed": true
   },
   "outputs": [],
   "source": [
    "import csv\n",
    "import numpy as np\n",
    "import os\n",
    "import pandas as pd\n",
    "import requests\n",
    "import time"
   ]
  },
  {
   "cell_type": "code",
   "execution_count": 2,
   "metadata": {
    "collapsed": true
   },
   "outputs": [],
   "source": [
    "asso = pd.read_table(\"/home/share/aschoi/data/Drug_Repositioning/7_new_association/4_bi_random_walk_Cdataset_association.tsv\")"
   ]
  },
  {
   "cell_type": "code",
   "execution_count": 3,
   "metadata": {
    "collapsed": true
   },
   "outputs": [],
   "source": [
    "omim_umls = pd.read_table(\"/home/share/aschoi/data/Drug_Repositioning/6_new_disease/omim_umls_mapping_association.tsv\")"
   ]
  },
  {
   "cell_type": "code",
   "execution_count": 5,
   "metadata": {
    "collapsed": false
   },
   "outputs": [],
   "source": [
    "disgen = pd.read_table(\"/home/share/aschoi/data/Drug_Repositioning/6_new_disease/curated_gene_disease_associations.tsv\", skiprows = 21)"
   ]
  },
  {
   "cell_type": "code",
   "execution_count": 19,
   "metadata": {
    "collapsed": false
   },
   "outputs": [
    {
     "data": {
      "text/html": [
       "<div>\n",
       "<table border=\"1\" class=\"dataframe\">\n",
       "  <thead>\n",
       "    <tr style=\"text-align: right;\">\n",
       "      <th></th>\n",
       "      <th>diseaseId</th>\n",
       "      <th>geneId</th>\n",
       "      <th>score</th>\n",
       "      <th>geneName</th>\n",
       "      <th>description</th>\n",
       "      <th>diseaseName</th>\n",
       "      <th>sourceId</th>\n",
       "      <th>NofPmids</th>\n",
       "      <th>NofSnps</th>\n",
       "    </tr>\n",
       "  </thead>\n",
       "  <tbody>\n",
       "    <tr>\n",
       "      <th>0</th>\n",
       "      <td>umls:C0000737</td>\n",
       "      <td>3440</td>\n",
       "      <td>0.12</td>\n",
       "      <td>IFNA2</td>\n",
       "      <td>interferon, alpha 2</td>\n",
       "      <td>Abdominal Pain</td>\n",
       "      <td>CTD_human</td>\n",
       "      <td>1</td>\n",
       "      <td>0</td>\n",
       "    </tr>\n",
       "  </tbody>\n",
       "</table>\n",
       "</div>"
      ],
      "text/plain": [
       "       diseaseId  geneId  score geneName          description     diseaseName  \\\n",
       "0  umls:C0000737    3440   0.12    IFNA2  interferon, alpha 2  Abdominal Pain   \n",
       "\n",
       "    sourceId  NofPmids  NofSnps  \n",
       "0  CTD_human         1        0  "
      ]
     },
     "execution_count": 19,
     "metadata": {},
     "output_type": "execute_result"
    }
   ],
   "source": [
    "disgen.head(1)"
   ]
  },
  {
   "cell_type": "code",
   "execution_count": 18,
   "metadata": {
    "collapsed": false
   },
   "outputs": [
    {
     "data": {
      "text/html": [
       "<div>\n",
       "<table border=\"1\" class=\"dataframe\">\n",
       "  <thead>\n",
       "    <tr style=\"text-align: right;\">\n",
       "      <th></th>\n",
       "      <th>diseaseId</th>\n",
       "      <th>geneId</th>\n",
       "      <th>score</th>\n",
       "      <th>geneName</th>\n",
       "      <th>description</th>\n",
       "      <th>diseaseName</th>\n",
       "      <th>sourceId</th>\n",
       "      <th>NofPmids</th>\n",
       "      <th>NofSnps</th>\n",
       "    </tr>\n",
       "  </thead>\n",
       "  <tbody>\n",
       "    <tr>\n",
       "      <th>16282</th>\n",
       "      <td>umls:C0035258</td>\n",
       "      <td>100188812</td>\n",
       "      <td>0.120543</td>\n",
       "      <td>RLS3</td>\n",
       "      <td>Restless legs syndrome 3</td>\n",
       "      <td>Restless Legs Syndrome</td>\n",
       "      <td>CTD_human</td>\n",
       "      <td>2</td>\n",
       "      <td>0</td>\n",
       "    </tr>\n",
       "  </tbody>\n",
       "</table>\n",
       "</div>"
      ],
      "text/plain": [
       "           diseaseId     geneId     score geneName               description  \\\n",
       "16282  umls:C0035258  100188812  0.120543     RLS3  Restless legs syndrome 3   \n",
       "\n",
       "                  diseaseName   sourceId  NofPmids  NofSnps  \n",
       "16282  Restless Legs Syndrome  CTD_human         2        0  "
      ]
     },
     "execution_count": 18,
     "metadata": {},
     "output_type": "execute_result"
    }
   ],
   "source": [
    "disgen[disgen['diseaseId'].str.contains('C0035258')].head(1)"
   ]
  },
  {
   "cell_type": "code",
   "execution_count": 20,
   "metadata": {
    "collapsed": false
   },
   "outputs": [
    {
     "data": {
      "text/html": [
       "<div>\n",
       "<table border=\"1\" class=\"dataframe\">\n",
       "  <thead>\n",
       "    <tr style=\"text-align: right;\">\n",
       "      <th></th>\n",
       "      <th>OMIM ID</th>\n",
       "      <th>OMIM disease name</th>\n",
       "      <th>UMLS concept ID</th>\n",
       "      <th>UMLS concept name</th>\n",
       "    </tr>\n",
       "  </thead>\n",
       "  <tbody>\n",
       "    <tr>\n",
       "      <th>0</th>\n",
       "      <td>102100</td>\n",
       "      <td>Acromegaloid Changes, Cutis Verticis Gyrata, A...</td>\n",
       "      <td>C1868756</td>\n",
       "      <td>Corneal leukoma</td>\n",
       "    </tr>\n",
       "  </tbody>\n",
       "</table>\n",
       "</div>"
      ],
      "text/plain": [
       "   OMIM ID                                  OMIM disease name UMLS concept ID  \\\n",
       "0   102100  Acromegaloid Changes, Cutis Verticis Gyrata, A...        C1868756   \n",
       "\n",
       "  UMLS concept name  \n",
       "0   Corneal leukoma  "
      ]
     },
     "execution_count": 20,
     "metadata": {},
     "output_type": "execute_result"
    }
   ],
   "source": [
    "omim_umls.head(1)"
   ]
  },
  {
   "cell_type": "code",
   "execution_count": 36,
   "metadata": {
    "collapsed": true
   },
   "outputs": [],
   "source": [
    "result = pd.DataFrame()\n",
    "for index, row in omim_umls.iterrows():\n",
    "    umls = row['UMLS concept ID']\n",
    "    found = disgen[disgen['diseaseId'].str.contains(umls)]\n",
    "    if found.empty :\n",
    "        continue\n",
    "    else:\n",
    "        for index2, row2 in found.iterrows():\n",
    "            temp_df = pd.DataFrame(data = [[row['OMIM ID'], row['OMIM disease name'], umls, row['UMLS concept name'], row2['geneId'], row2['score'], row2['geneName'], row2['sourceId']]], \n",
    "                                       columns = ['OMIM_ID', 'OMIM_disease_name', 'UMLS_concept_ID', 'UMLS_concept_name', 'DisGeNet_geneId', 'DIsGeNet_score', 'DIsGeNet_geneName', 'DIsGeNet_sourceId'])\n",
    "            result = result.append(temp_df) "
   ]
  },
  {
   "cell_type": "code",
   "execution_count": 38,
   "metadata": {
    "collapsed": false
   },
   "outputs": [
    {
     "data": {
      "text/plain": [
       "257"
      ]
     },
     "execution_count": 38,
     "metadata": {},
     "output_type": "execute_result"
    }
   ],
   "source": [
    "len(result['OMIM_ID'].drop_duplicates())"
   ]
  },
  {
   "cell_type": "code",
   "execution_count": 42,
   "metadata": {
    "collapsed": false
   },
   "outputs": [
    {
     "data": {
      "text/html": [
       "<div>\n",
       "<table border=\"1\" class=\"dataframe\">\n",
       "  <thead>\n",
       "    <tr style=\"text-align: right;\">\n",
       "      <th></th>\n",
       "      <th>OMIM_ID</th>\n",
       "      <th>OMIM_disease_name</th>\n",
       "      <th>UMLS_concept_ID</th>\n",
       "      <th>UMLS_concept_name</th>\n",
       "      <th>DisGeNet_geneId</th>\n",
       "      <th>DIsGeNet_score</th>\n",
       "      <th>DIsGeNet_geneName</th>\n",
       "      <th>DIsGeNet_sourceId</th>\n",
       "    </tr>\n",
       "  </thead>\n",
       "  <tbody>\n",
       "    <tr>\n",
       "      <th>0</th>\n",
       "      <td>102300</td>\n",
       "      <td>Restless Legs Syndrome, Susceptibility To, 1; ...</td>\n",
       "      <td>C0035258</td>\n",
       "      <td>Restless Legs Syndrome</td>\n",
       "      <td>100188812</td>\n",
       "      <td>0.120543</td>\n",
       "      <td>RLS3</td>\n",
       "      <td>CTD_human</td>\n",
       "    </tr>\n",
       "  </tbody>\n",
       "</table>\n",
       "</div>"
      ],
      "text/plain": [
       "   OMIM_ID                                  OMIM_disease_name UMLS_concept_ID  \\\n",
       "0   102300  Restless Legs Syndrome, Susceptibility To, 1; ...        C0035258   \n",
       "\n",
       "        UMLS_concept_name  DisGeNet_geneId  DIsGeNet_score DIsGeNet_geneName  \\\n",
       "0  Restless Legs Syndrome        100188812        0.120543              RLS3   \n",
       "\n",
       "  DIsGeNet_sourceId  \n",
       "0         CTD_human  "
      ]
     },
     "execution_count": 42,
     "metadata": {},
     "output_type": "execute_result"
    }
   ],
   "source": [
    "result.head(1)"
   ]
  },
  {
   "cell_type": "code",
   "execution_count": null,
   "metadata": {
    "collapsed": true
   },
   "outputs": [],
   "source": [
    "association 364개 중에 257개 가 얼마나 해당하는지 찾아보기"
   ]
  },
  {
   "cell_type": "code",
   "execution_count": 39,
   "metadata": {
    "collapsed": true
   },
   "outputs": [],
   "source": [
    "filterd_asso = pd.read_table(\"/home/share/aschoi/data/Drug_Repositioning/7_new_association/5_filtered_association(drug).tsv\")"
   ]
  },
  {
   "cell_type": "code",
   "execution_count": 68,
   "metadata": {
    "collapsed": false
   },
   "outputs": [
    {
     "name": "stdout",
     "output_type": "stream",
     "text": [
      "1947\n"
     ]
    },
    {
     "data": {
      "text/html": [
       "<div>\n",
       "<table border=\"1\" class=\"dataframe\">\n",
       "  <thead>\n",
       "    <tr style=\"text-align: right;\">\n",
       "      <th></th>\n",
       "      <th>disease_id</th>\n",
       "      <th>drug_id</th>\n",
       "    </tr>\n",
       "  </thead>\n",
       "  <tbody>\n",
       "    <tr>\n",
       "      <th>0</th>\n",
       "      <td>102100</td>\n",
       "      <td>DB00555</td>\n",
       "    </tr>\n",
       "  </tbody>\n",
       "</table>\n",
       "</div>"
      ],
      "text/plain": [
       "   disease_id  drug_id\n",
       "0      102100  DB00555"
      ]
     },
     "execution_count": 68,
     "metadata": {},
     "output_type": "execute_result"
    }
   ],
   "source": [
    "print len(filterd_asso)\n",
    "filterd_asso.head(1)"
   ]
  },
  {
   "cell_type": "code",
   "execution_count": 44,
   "metadata": {
    "collapsed": false
   },
   "outputs": [
    {
     "name": "stdout",
     "output_type": "stream",
     "text": [
      "364\n",
      "10015\n",
      "235\n"
     ]
    },
    {
     "data": {
      "text/html": [
       "<div>\n",
       "<table border=\"1\" class=\"dataframe\">\n",
       "  <thead>\n",
       "    <tr style=\"text-align: right;\">\n",
       "      <th></th>\n",
       "      <th>OMIM_ID</th>\n",
       "      <th>OMIM_disease_name</th>\n",
       "      <th>UMLS_concept_ID</th>\n",
       "      <th>UMLS_concept_name</th>\n",
       "      <th>DisGeNet_geneId</th>\n",
       "      <th>DIsGeNet_score</th>\n",
       "      <th>DIsGeNet_geneName</th>\n",
       "      <th>DIsGeNet_sourceId</th>\n",
       "    </tr>\n",
       "  </thead>\n",
       "  <tbody>\n",
       "    <tr>\n",
       "      <th>0</th>\n",
       "      <td>102300</td>\n",
       "      <td>Restless Legs Syndrome, Susceptibility To, 1; ...</td>\n",
       "      <td>C0035258</td>\n",
       "      <td>Restless Legs Syndrome</td>\n",
       "      <td>100188812</td>\n",
       "      <td>0.120543</td>\n",
       "      <td>RLS3</td>\n",
       "      <td>CTD_human</td>\n",
       "    </tr>\n",
       "    <tr>\n",
       "      <th>0</th>\n",
       "      <td>102300</td>\n",
       "      <td>Restless Legs Syndrome, Susceptibility To, 1; ...</td>\n",
       "      <td>C0035258</td>\n",
       "      <td>Restless Legs Syndrome</td>\n",
       "      <td>100188813</td>\n",
       "      <td>0.120271</td>\n",
       "      <td>RLS4</td>\n",
       "      <td>CTD_human</td>\n",
       "    </tr>\n",
       "    <tr>\n",
       "      <th>0</th>\n",
       "      <td>102300</td>\n",
       "      <td>Restless Legs Syndrome, Susceptibility To, 1; ...</td>\n",
       "      <td>C0035258</td>\n",
       "      <td>Restless Legs Syndrome</td>\n",
       "      <td>100188839</td>\n",
       "      <td>0.120271</td>\n",
       "      <td>RLS5</td>\n",
       "      <td>CTD_human</td>\n",
       "    </tr>\n",
       "    <tr>\n",
       "      <th>0</th>\n",
       "      <td>102300</td>\n",
       "      <td>Restless Legs Syndrome, Susceptibility To, 1; ...</td>\n",
       "      <td>C0035258</td>\n",
       "      <td>Restless Legs Syndrome</td>\n",
       "      <td>100302512</td>\n",
       "      <td>0.120271</td>\n",
       "      <td>RLS6</td>\n",
       "      <td>CTD_human</td>\n",
       "    </tr>\n",
       "    <tr>\n",
       "      <th>0</th>\n",
       "      <td>102300</td>\n",
       "      <td>Restless Legs Syndrome, Susceptibility To, 1; ...</td>\n",
       "      <td>C0035258</td>\n",
       "      <td>Restless Legs Syndrome</td>\n",
       "      <td>100302561</td>\n",
       "      <td>0.120000</td>\n",
       "      <td>RLS7</td>\n",
       "      <td>CTD_human</td>\n",
       "    </tr>\n",
       "  </tbody>\n",
       "</table>\n",
       "</div>"
      ],
      "text/plain": [
       "   OMIM_ID                                  OMIM_disease_name UMLS_concept_ID  \\\n",
       "0   102300  Restless Legs Syndrome, Susceptibility To, 1; ...        C0035258   \n",
       "0   102300  Restless Legs Syndrome, Susceptibility To, 1; ...        C0035258   \n",
       "0   102300  Restless Legs Syndrome, Susceptibility To, 1; ...        C0035258   \n",
       "0   102300  Restless Legs Syndrome, Susceptibility To, 1; ...        C0035258   \n",
       "0   102300  Restless Legs Syndrome, Susceptibility To, 1; ...        C0035258   \n",
       "\n",
       "        UMLS_concept_name  DisGeNet_geneId  DIsGeNet_score DIsGeNet_geneName  \\\n",
       "0  Restless Legs Syndrome        100188812        0.120543              RLS3   \n",
       "0  Restless Legs Syndrome        100188813        0.120271              RLS4   \n",
       "0  Restless Legs Syndrome        100188839        0.120271              RLS5   \n",
       "0  Restless Legs Syndrome        100302512        0.120271              RLS6   \n",
       "0  Restless Legs Syndrome        100302561        0.120000              RLS7   \n",
       "\n",
       "  DIsGeNet_sourceId  \n",
       "0         CTD_human  \n",
       "0         CTD_human  \n",
       "0         CTD_human  \n",
       "0         CTD_human  \n",
       "0         CTD_human  "
      ]
     },
     "execution_count": 44,
     "metadata": {},
     "output_type": "execute_result"
    }
   ],
   "source": [
    "di_mimNum = filterd_asso['disease_id'].drop_duplicates().str[1:]\n",
    "int_di_mimNum = list()\n",
    "for i in di_mimNum:\n",
    "    int_di_mimNum.append (int(i))\n",
    "print len(int_di_mimNum)\n",
    "filtered = result[result['OMIM_ID'].isin(int_di_mimNum)]\n",
    "print len(filtered)\n",
    "print len(filtered.drop_duplicates(subset = 'OMIM_ID'))\n",
    "filtered.head()"
   ]
  },
  {
   "cell_type": "code",
   "execution_count": 77,
   "metadata": {
    "collapsed": false
   },
   "outputs": [
    {
     "data": {
      "text/plain": [
       "3521"
      ]
     },
     "execution_count": 77,
     "metadata": {},
     "output_type": "execute_result"
    }
   ],
   "source": [
    "len(filtered['DisGeNet_geneId'].drop_duplicates())"
   ]
  },
  {
   "cell_type": "code",
   "execution_count": null,
   "metadata": {
    "collapsed": true
   },
   "outputs": [],
   "source": [
    "235개가 해당"
   ]
  },
  {
   "cell_type": "code",
   "execution_count": null,
   "metadata": {
    "collapsed": true
   },
   "outputs": [],
   "source": [
    "그럼 이 235개와 연관이 있는 drug의 수와 association의 수는?! --> 이게 gold standard 최종이 될것이다. "
   ]
  },
  {
   "cell_type": "code",
   "execution_count": 71,
   "metadata": {
    "collapsed": false
   },
   "outputs": [],
   "source": [
    "gold = filterd_asso[filterd_asso['disease_id'].isin(filtered['OMIM_ID'])]"
   ]
  },
  {
   "cell_type": "code",
   "execution_count": 73,
   "metadata": {
    "collapsed": false
   },
   "outputs": [
    {
     "name": "stdout",
     "output_type": "stream",
     "text": [
      "1434\n",
      "235\n",
      "471\n"
     ]
    }
   ],
   "source": [
    "print len(gold)\n",
    "print len(gold['disease_id'].drop_duplicates())\n",
    "print len(gold['drug_id'].drop_duplicates())"
   ]
  },
  {
   "cell_type": "code",
   "execution_count": 80,
   "metadata": {
    "collapsed": true
   },
   "outputs": [],
   "source": [
    "gold.to_csv(\"/home/share/aschoi/data/Drug_Repositioning/7_new_association/7_gold_association.tsv\", sep='\\t', index=False)\n",
    "gold.to_csv(\"/home/share/aschoi/nas/users/asolchoi/data/Drug_Repositioning/7_new_association/7_gold_association.tsv\", sep='\\t', index=False)"
   ]
  },
  {
   "cell_type": "code",
   "execution_count": 81,
   "metadata": {
    "collapsed": false
   },
   "outputs": [
    {
     "data": {
      "text/html": [
       "<div>\n",
       "<table border=\"1\" class=\"dataframe\">\n",
       "  <thead>\n",
       "    <tr style=\"text-align: right;\">\n",
       "      <th></th>\n",
       "      <th>disease_id</th>\n",
       "      <th>drug_id</th>\n",
       "    </tr>\n",
       "  </thead>\n",
       "  <tbody>\n",
       "    <tr>\n",
       "      <th>3</th>\n",
       "      <td>102300</td>\n",
       "      <td>DB00190</td>\n",
       "    </tr>\n",
       "    <tr>\n",
       "      <th>4</th>\n",
       "      <td>102300</td>\n",
       "      <td>DB00193</td>\n",
       "    </tr>\n",
       "    <tr>\n",
       "      <th>5</th>\n",
       "      <td>102300</td>\n",
       "      <td>DB00268</td>\n",
       "    </tr>\n",
       "    <tr>\n",
       "      <th>6</th>\n",
       "      <td>102300</td>\n",
       "      <td>DB00564</td>\n",
       "    </tr>\n",
       "    <tr>\n",
       "      <th>7</th>\n",
       "      <td>102300</td>\n",
       "      <td>DB00575</td>\n",
       "    </tr>\n",
       "  </tbody>\n",
       "</table>\n",
       "</div>"
      ],
      "text/plain": [
       "   disease_id  drug_id\n",
       "3      102300  DB00190\n",
       "4      102300  DB00193\n",
       "5      102300  DB00268\n",
       "6      102300  DB00564\n",
       "7      102300  DB00575"
      ]
     },
     "execution_count": 81,
     "metadata": {},
     "output_type": "execute_result"
    }
   ],
   "source": [
    "gold.head()"
   ]
  },
  {
   "cell_type": "code",
   "execution_count": 82,
   "metadata": {
    "collapsed": true
   },
   "outputs": [],
   "source": [
    "filtered.to_csv(\"/home/share/aschoi/data/Drug_Repositioning/6_new_disease/8_gold_disease_feature.tsv\", sep=\"\\t\", index=False)\n",
    "filtered.to_csv(\"/home/share/aschoi/nas/users/asolchoi/data/Drug_Repositioning/6_new_disease/8_gold_disease_feature.tsv\", sep=\"\\t\", index=False)"
   ]
  },
  {
   "cell_type": "code",
   "execution_count": null,
   "metadata": {
    "collapsed": true
   },
   "outputs": [],
   "source": []
  }
 ],
 "metadata": {
  "kernelspec": {
   "display_name": "Python 2",
   "language": "python",
   "name": "python2"
  },
  "language_info": {
   "codemirror_mode": {
    "name": "ipython",
    "version": 2
   },
   "file_extension": ".py",
   "mimetype": "text/x-python",
   "name": "python",
   "nbconvert_exporter": "python",
   "pygments_lexer": "ipython2",
   "version": "2.7.6"
  }
 },
 "nbformat": 4,
 "nbformat_minor": 0
}
