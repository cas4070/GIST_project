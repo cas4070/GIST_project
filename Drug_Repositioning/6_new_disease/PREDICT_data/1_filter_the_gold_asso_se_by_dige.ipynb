{
 "cells": [
  {
   "cell_type": "code",
   "execution_count": 26,
   "metadata": {
    "collapsed": true
   },
   "outputs": [],
   "source": [
    "import csv\n",
    "import numpy as np\n",
    "import os\n",
    "import pandas as pd\n",
    "import requests\n",
    "import time"
   ]
  },
  {
   "cell_type": "code",
   "execution_count": 28,
   "metadata": {
    "collapsed": true
   },
   "outputs": [],
   "source": [
    "asso = pd.read_table(\"/DAS_Storage1/aschoi/data/Drug_Repositioning/7_new_association/PREDICT_data/1_bef_gold_asso_with_se.tsv\")"
   ]
  },
  {
   "cell_type": "code",
   "execution_count": 27,
   "metadata": {
    "collapsed": false
   },
   "outputs": [],
   "source": [
    "omim_umls = pd.read_table(\"/DAS_Storage1/aschoi/data/Drug_Repositioning/6_new_disease/1_omim_umls_mapping_association.tsv\")"
   ]
  },
  {
   "cell_type": "code",
   "execution_count": 29,
   "metadata": {
    "collapsed": true
   },
   "outputs": [],
   "source": [
    "disgen = pd.read_table(\"/DAS_Storage1/aschoi/data/Drug_Repositioning/6_new_disease/curated_gene_disease_associations.tsv\", skiprows = 21)"
   ]
  },
  {
   "cell_type": "code",
   "execution_count": 30,
   "metadata": {
    "collapsed": false
   },
   "outputs": [
    {
     "data": {
      "text/html": [
       "<div>\n",
       "<table border=\"1\" class=\"dataframe\">\n",
       "  <thead>\n",
       "    <tr style=\"text-align: right;\">\n",
       "      <th></th>\n",
       "      <th>diseaseId</th>\n",
       "      <th>geneId</th>\n",
       "      <th>score</th>\n",
       "      <th>geneName</th>\n",
       "      <th>description</th>\n",
       "      <th>diseaseName</th>\n",
       "      <th>sourceId</th>\n",
       "      <th>NofPmids</th>\n",
       "      <th>NofSnps</th>\n",
       "    </tr>\n",
       "  </thead>\n",
       "  <tbody>\n",
       "    <tr>\n",
       "      <th>0</th>\n",
       "      <td>umls:C0000737</td>\n",
       "      <td>3440</td>\n",
       "      <td>0.12</td>\n",
       "      <td>IFNA2</td>\n",
       "      <td>interferon, alpha 2</td>\n",
       "      <td>Abdominal Pain</td>\n",
       "      <td>CTD_human</td>\n",
       "      <td>1</td>\n",
       "      <td>0</td>\n",
       "    </tr>\n",
       "  </tbody>\n",
       "</table>\n",
       "</div>"
      ],
      "text/plain": [
       "       diseaseId  geneId  score geneName          description     diseaseName  \\\n",
       "0  umls:C0000737    3440   0.12    IFNA2  interferon, alpha 2  Abdominal Pain   \n",
       "\n",
       "    sourceId  NofPmids  NofSnps  \n",
       "0  CTD_human         1        0  "
      ]
     },
     "execution_count": 30,
     "metadata": {},
     "output_type": "execute_result"
    }
   ],
   "source": [
    "disgen.head(1)"
   ]
  },
  {
   "cell_type": "code",
   "execution_count": 31,
   "metadata": {
    "collapsed": false
   },
   "outputs": [
    {
     "data": {
      "text/html": [
       "<div>\n",
       "<table border=\"1\" class=\"dataframe\">\n",
       "  <thead>\n",
       "    <tr style=\"text-align: right;\">\n",
       "      <th></th>\n",
       "      <th>diseaseId</th>\n",
       "      <th>geneId</th>\n",
       "      <th>score</th>\n",
       "      <th>geneName</th>\n",
       "      <th>description</th>\n",
       "      <th>diseaseName</th>\n",
       "      <th>sourceId</th>\n",
       "      <th>NofPmids</th>\n",
       "      <th>NofSnps</th>\n",
       "    </tr>\n",
       "  </thead>\n",
       "  <tbody>\n",
       "    <tr>\n",
       "      <th>16282</th>\n",
       "      <td>umls:C0035258</td>\n",
       "      <td>100188812</td>\n",
       "      <td>0.120543</td>\n",
       "      <td>RLS3</td>\n",
       "      <td>Restless legs syndrome 3</td>\n",
       "      <td>Restless Legs Syndrome</td>\n",
       "      <td>CTD_human</td>\n",
       "      <td>2</td>\n",
       "      <td>0</td>\n",
       "    </tr>\n",
       "  </tbody>\n",
       "</table>\n",
       "</div>"
      ],
      "text/plain": [
       "           diseaseId     geneId     score geneName               description  \\\n",
       "16282  umls:C0035258  100188812  0.120543     RLS3  Restless legs syndrome 3   \n",
       "\n",
       "                  diseaseName   sourceId  NofPmids  NofSnps  \n",
       "16282  Restless Legs Syndrome  CTD_human         2        0  "
      ]
     },
     "execution_count": 31,
     "metadata": {},
     "output_type": "execute_result"
    }
   ],
   "source": [
    "disgen[disgen['diseaseId'].str.contains('C0035258')].head(1)"
   ]
  },
  {
   "cell_type": "code",
   "execution_count": 32,
   "metadata": {
    "collapsed": false
   },
   "outputs": [
    {
     "name": "stdout",
     "output_type": "stream",
     "text": [
      "608\n"
     ]
    },
    {
     "data": {
      "text/html": [
       "<div>\n",
       "<table border=\"1\" class=\"dataframe\">\n",
       "  <thead>\n",
       "    <tr style=\"text-align: right;\">\n",
       "      <th></th>\n",
       "      <th>OMIM ID</th>\n",
       "      <th>OMIM disease name</th>\n",
       "      <th>UMLS concept ID</th>\n",
       "      <th>UMLS concept name</th>\n",
       "    </tr>\n",
       "  </thead>\n",
       "  <tbody>\n",
       "    <tr>\n",
       "      <th>0</th>\n",
       "      <td>102100</td>\n",
       "      <td>Acromegaloid Changes, Cutis Verticis Gyrata, A...</td>\n",
       "      <td>C1868756</td>\n",
       "      <td>Corneal leukoma</td>\n",
       "    </tr>\n",
       "  </tbody>\n",
       "</table>\n",
       "</div>"
      ],
      "text/plain": [
       "   OMIM ID                                  OMIM disease name UMLS concept ID  \\\n",
       "0   102100  Acromegaloid Changes, Cutis Verticis Gyrata, A...        C1868756   \n",
       "\n",
       "  UMLS concept name  \n",
       "0   Corneal leukoma  "
      ]
     },
     "execution_count": 32,
     "metadata": {},
     "output_type": "execute_result"
    }
   ],
   "source": [
    "print len(omim_umls)\n",
    "omim_umls.head(1)"
   ]
  },
  {
   "cell_type": "code",
   "execution_count": 12,
   "metadata": {
    "collapsed": true
   },
   "outputs": [],
   "source": [
    "result = pd.DataFrame()\n",
    "for index, row in omim_umls.iterrows():\n",
    "    umls = row['UMLS concept ID']\n",
    "    found = disgen[disgen['diseaseId'].str.contains(umls)]\n",
    "    if found.empty :\n",
    "        continue\n",
    "    else:\n",
    "        for index2, row2 in found.iterrows():\n",
    "            temp_df = pd.DataFrame(data = [[row['OMIM ID'], row['OMIM disease name'], umls, row['UMLS concept name'], row2['geneId'], row2['score'], row2['geneName'], row2['sourceId']]], \n",
    "                                       columns = ['OMIM_ID', 'OMIM_disease_name', 'UMLS_concept_ID', 'UMLS_concept_name', 'DisGeNet_geneId', 'DIsGeNet_score', 'DIsGeNet_geneName', 'DIsGeNet_sourceId'])\n",
    "            result = result.append(temp_df) "
   ]
  },
  {
   "cell_type": "code",
   "execution_count": 16,
   "metadata": {
    "collapsed": false
   },
   "outputs": [
    {
     "data": {
      "text/plain": [
       "257"
      ]
     },
     "execution_count": 16,
     "metadata": {},
     "output_type": "execute_result"
    }
   ],
   "source": [
    "len(result['OMIM_ID'].drop_duplicates())"
   ]
  },
  {
   "cell_type": "code",
   "execution_count": 33,
   "metadata": {
    "collapsed": false
   },
   "outputs": [],
   "source": [
    "filtered = asso[asso['OMIM_ID'].isin(result['OMIM_ID'])]"
   ]
  },
  {
   "cell_type": "code",
   "execution_count": 34,
   "metadata": {
    "collapsed": false
   },
   "outputs": [
    {
     "name": "stdout",
     "output_type": "stream",
     "text": [
      "1362\n",
      "235\n",
      "446\n"
     ]
    },
    {
     "data": {
      "text/html": [
       "<div>\n",
       "<table border=\"1\" class=\"dataframe\">\n",
       "  <thead>\n",
       "    <tr style=\"text-align: right;\">\n",
       "      <th></th>\n",
       "      <th>DrugBank_ID</th>\n",
       "      <th>OMIM_ID</th>\n",
       "    </tr>\n",
       "  </thead>\n",
       "  <tbody>\n",
       "    <tr>\n",
       "      <th>0</th>\n",
       "      <td>DB00659</td>\n",
       "      <td>103780</td>\n",
       "    </tr>\n",
       "    <tr>\n",
       "      <th>1</th>\n",
       "      <td>DB01193</td>\n",
       "      <td>608622</td>\n",
       "    </tr>\n",
       "    <tr>\n",
       "      <th>2</th>\n",
       "      <td>DB01193</td>\n",
       "      <td>161900</td>\n",
       "    </tr>\n",
       "    <tr>\n",
       "      <th>3</th>\n",
       "      <td>DB00316</td>\n",
       "      <td>145590</td>\n",
       "    </tr>\n",
       "    <tr>\n",
       "      <th>4</th>\n",
       "      <td>DB00316</td>\n",
       "      <td>147530</td>\n",
       "    </tr>\n",
       "  </tbody>\n",
       "</table>\n",
       "</div>"
      ],
      "text/plain": [
       "  DrugBank_ID  OMIM_ID\n",
       "0     DB00659   103780\n",
       "1     DB01193   608622\n",
       "2     DB01193   161900\n",
       "3     DB00316   145590\n",
       "4     DB00316   147530"
      ]
     },
     "execution_count": 34,
     "metadata": {},
     "output_type": "execute_result"
    }
   ],
   "source": [
    "print len(filtered)\n",
    "print len(filtered.drop_duplicates(subset = 'OMIM_ID'))\n",
    "print len(filtered.drop_duplicates(subset = 'DrugBank_ID'))\n",
    "filtered.head()"
   ]
  },
  {
   "cell_type": "code",
   "execution_count": 35,
   "metadata": {
    "collapsed": false
   },
   "outputs": [
    {
     "name": "stdout",
     "output_type": "stream",
     "text": [
      "10015\n",
      "3521\n"
     ]
    }
   ],
   "source": [
    "print len(result[result['OMIM_ID'].isin(filtered['OMIM_ID'])])\n",
    "print len(result[result['OMIM_ID'].isin(filtered['OMIM_ID'])].drop_duplicates('DisGeNet_geneId'))"
   ]
  },
  {
   "cell_type": "code",
   "execution_count": 36,
   "metadata": {
    "collapsed": true
   },
   "outputs": [],
   "source": [
    "filtered.to_csv(\"/DAS_Storage1/aschoi/data/Drug_Repositioning/7_new_association/PREDICT_data/2_gold_asso.tsv\", sep='\\t', index=False)\n",
    "filtered.to_csv(\"/home/share/aschoi/nas/users/asolchoi/data/Drug_Repositioning/7_new_association/PREDICT_data/2_gold_asso.tsv\", sep='\\t', index=False)"
   ]
  },
  {
   "cell_type": "code",
   "execution_count": null,
   "metadata": {
    "collapsed": true
   },
   "outputs": [],
   "source": []
  }
 ],
 "metadata": {
  "kernelspec": {
   "display_name": "Python 2",
   "language": "python",
   "name": "python2"
  },
  "language_info": {
   "codemirror_mode": {
    "name": "ipython",
    "version": 2
   },
   "file_extension": ".py",
   "mimetype": "text/x-python",
   "name": "python",
   "nbconvert_exporter": "python",
   "pygments_lexer": "ipython2",
   "version": "2.7.6"
  }
 },
 "nbformat": 4,
 "nbformat_minor": 2
}
