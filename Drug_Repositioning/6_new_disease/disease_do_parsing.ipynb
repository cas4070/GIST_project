{
 "cells": [
  {
   "cell_type": "code",
   "execution_count": 1,
   "metadata": {
    "collapsed": true
   },
   "outputs": [],
   "source": [
    "import pandas as pd\n",
    "import numpy as np"
   ]
  },
  {
   "cell_type": "code",
   "execution_count": 132,
   "metadata": {
    "collapsed": true
   },
   "outputs": [],
   "source": [
    "f = open(\"/home/share/aschoi/nas/users/asolchoi/data/Drug_Repositioning/6_new_disease/gold_omim_id.txt\", 'r')\n",
    "gold_di = list()\n",
    "while True:\n",
    "    line = f.readline()\n",
    "    if not line: break\n",
    "    gold_di.append(line.rstrip('\\n'))\n",
    "f.close()"
   ]
  },
  {
   "cell_type": "code",
   "execution_count": 109,
   "metadata": {
    "collapsed": true
   },
   "outputs": [],
   "source": [
    "f = open(\"/home/share/aschoi/nas/users/asolchoi/data/Drug_Repositioning/6_new_disease/HumanDO.obo\", 'r')"
   ]
  },
  {
   "cell_type": "code",
   "execution_count": 110,
   "metadata": {
    "collapsed": false
   },
   "outputs": [],
   "source": [
    "lines = f.readlines()"
   ]
  },
  {
   "cell_type": "code",
   "execution_count": 111,
   "metadata": {
    "collapsed": false
   },
   "outputs": [],
   "source": [
    "data2 = list()\n",
    "for line in lines:\n",
    "    if line.startswith('id: DOID:'):\n",
    "        data2.append(line)\n",
    "        continue\n",
    "    if 'xref: OMIM:' in line:\n",
    "        data2.append(line)\n",
    "f.close()"
   ]
  },
  {
   "cell_type": "code",
   "execution_count": 113,
   "metadata": {
    "collapsed": false
   },
   "outputs": [],
   "source": [
    "def indices(lst, element):\n",
    "    result = []\n",
    "    offset = -1\n",
    "    while True:\n",
    "        try:\n",
    "            offset = lst.index(element, offset+1)\n",
    "        except ValueError:\n",
    "            return result\n",
    "        result.append(offset)"
   ]
  },
  {
   "cell_type": "code",
   "execution_count": 114,
   "metadata": {
    "collapsed": false
   },
   "outputs": [],
   "source": [
    "do_idx = list()\n",
    "for idx in range(len(data2)):\n",
    "    if data2[idx].startswith('id: DO'):\n",
    "        do_idx.append(idx)"
   ]
  },
  {
   "cell_type": "code",
   "execution_count": 115,
   "metadata": {
    "collapsed": false
   },
   "outputs": [],
   "source": [
    "mim_idx = list()\n",
    "for idx in range(len(data2)):\n",
    "    if data2[idx].startswith('xref'):\n",
    "        mim_idx.append(idx)"
   ]
  },
  {
   "cell_type": "code",
   "execution_count": 116,
   "metadata": {
    "collapsed": false,
    "scrolled": true
   },
   "outputs": [
    {
     "name": "stdout",
     "output_type": "stream",
     "text": [
      "10831\n",
      "4215\n"
     ]
    }
   ],
   "source": [
    "print len(do_idx)\n",
    "print len(mim_idx)"
   ]
  },
  {
   "cell_type": "code",
   "execution_count": 117,
   "metadata": {
    "collapsed": false
   },
   "outputs": [
    {
     "data": {
      "text/plain": [
       "['id: DOID:0050115\\n',\n",
       " 'id: DOID:0050116\\n',\n",
       " 'id: DOID:0050117\\n',\n",
       " 'id: DOID:0050118\\n',\n",
       " 'id: DOID:0050119\\n',\n",
       " 'id: DOID:0050120\\n',\n",
       " 'id: DOID:0050123\\n',\n",
       " 'id: DOID:0050125\\n',\n",
       " 'xref: OMIM:614371\\n',\n",
       " 'id: DOID:0050126\\n',\n",
       " 'id: DOID:0050127\\n',\n",
       " 'id: DOID:0050129\\n',\n",
       " 'id: DOID:0050130\\n',\n",
       " 'id: DOID:0050131\\n',\n",
       " 'id: DOID:0050132\\n']"
      ]
     },
     "execution_count": 117,
     "metadata": {},
     "output_type": "execute_result"
    }
   ],
   "source": [
    "data2[75:90]"
   ]
  },
  {
   "cell_type": "code",
   "execution_count": 118,
   "metadata": {
    "collapsed": true
   },
   "outputs": [],
   "source": [
    "raw = pd.DataFrame()\n",
    "for mim in mim_idx:\n",
    "    temp_df = pd.DataFrame(data=[[data2[mim-1], data2[mim]]], columns=['do_id', 'mim_id'])\n",
    "    raw = raw.append(temp_df)"
   ]
  },
  {
   "cell_type": "code",
   "execution_count": 119,
   "metadata": {
    "collapsed": false
   },
   "outputs": [],
   "source": [
    "raw.index = range(len(raw))"
   ]
  },
  {
   "cell_type": "code",
   "execution_count": 120,
   "metadata": {
    "collapsed": false
   },
   "outputs": [],
   "source": [
    "do_idx = raw[raw.do_id.str.contains(\"id:\")].index.values"
   ]
  },
  {
   "cell_type": "code",
   "execution_count": 121,
   "metadata": {
    "collapsed": true
   },
   "outputs": [],
   "source": [
    "tmp_idx = raw[raw.do_id.str.contains(\"xref\")].index.values"
   ]
  },
  {
   "cell_type": "code",
   "execution_count": 122,
   "metadata": {
    "collapsed": false
   },
   "outputs": [
    {
     "data": {
      "text/plain": [
       "array([ 0,  1,  2,  3,  4, 15, 16, 17, 18, 19])"
      ]
     },
     "execution_count": 122,
     "metadata": {},
     "output_type": "execute_result"
    }
   ],
   "source": [
    "do_idx[:10]"
   ]
  },
  {
   "cell_type": "code",
   "execution_count": 123,
   "metadata": {
    "collapsed": false
   },
   "outputs": [
    {
     "data": {
      "text/plain": [
       "array([ 5,  6,  7,  8,  9, 10, 11, 12, 13, 14, 21, 23])"
      ]
     },
     "execution_count": 123,
     "metadata": {},
     "output_type": "execute_result"
    }
   ],
   "source": [
    "tmp_idx[:12]"
   ]
  },
  {
   "cell_type": "code",
   "execution_count": 124,
   "metadata": {
    "collapsed": false
   },
   "outputs": [
    {
     "data": {
      "text/plain": [
       "array([ True,  True,  True,  True,  True,  True,  True,  True,  True,\n",
       "        True,  True,  True, False, False, False, False], dtype=bool)"
      ]
     },
     "execution_count": 124,
     "metadata": {},
     "output_type": "execute_result"
    }
   ],
   "source": [
    "tmp_idx[11] > do_idx[:16]"
   ]
  },
  {
   "cell_type": "code",
   "execution_count": 153,
   "metadata": {
    "collapsed": false
   },
   "outputs": [],
   "source": [
    "tmp = raw\n",
    "for index in tmp_idx:\n",
    "    flag = index> do_idx\n",
    "    setidx = flag.tolist().index(False)\n",
    "    tmp.set_value(index, 'do_id', tmp['do_id'][4])"
   ]
  },
  {
   "cell_type": "code",
   "execution_count": 155,
   "metadata": {
    "collapsed": false
   },
   "outputs": [],
   "source": [
    "tmp.do_id = tmp.do_id.str.lstrip('id: ').str.rstrip('\\n')"
   ]
  },
  {
   "cell_type": "code",
   "execution_count": 156,
   "metadata": {
    "collapsed": false
   },
   "outputs": [],
   "source": [
    "tmp.mim_id = tmp.mim_id.str.lstrip('xref: ').str.rstrip(\"\\n\")"
   ]
  },
  {
   "cell_type": "code",
   "execution_count": 162,
   "metadata": {
    "collapsed": false
   },
   "outputs": [
    {
     "data": {
      "text/html": [
       "<div>\n",
       "<table border=\"1\" class=\"dataframe\">\n",
       "  <thead>\n",
       "    <tr style=\"text-align: right;\">\n",
       "      <th></th>\n",
       "      <th>do_id</th>\n",
       "      <th>mim_id</th>\n",
       "    </tr>\n",
       "  </thead>\n",
       "  <tbody>\n",
       "    <tr>\n",
       "      <th>18</th>\n",
       "      <td>DOID:0050387</td>\n",
       "      <td>OMIM:144700</td>\n",
       "    </tr>\n",
       "    <tr>\n",
       "      <th>20</th>\n",
       "      <td>DOID:0050424</td>\n",
       "      <td>OMIM:175100</td>\n",
       "    </tr>\n",
       "    <tr>\n",
       "      <th>22</th>\n",
       "      <td>DOID:0050425</td>\n",
       "      <td>OMIM:102300</td>\n",
       "    </tr>\n",
       "    <tr>\n",
       "      <th>35</th>\n",
       "      <td>DOID:0050432</td>\n",
       "      <td>OMIM:300494</td>\n",
       "    </tr>\n",
       "    <tr>\n",
       "      <th>60</th>\n",
       "      <td>DOID:0050450</td>\n",
       "      <td>OMIM:263800</td>\n",
       "    </tr>\n",
       "    <tr>\n",
       "      <th>103</th>\n",
       "      <td>DOID:0050489</td>\n",
       "      <td>OMIM:138800</td>\n",
       "    </tr>\n",
       "    <tr>\n",
       "      <th>133</th>\n",
       "      <td>DOID:0050328</td>\n",
       "      <td>OMIM:608088</td>\n",
       "    </tr>\n",
       "    <tr>\n",
       "      <th>339</th>\n",
       "      <td>DOID:0050650</td>\n",
       "      <td>OMIM:607554</td>\n",
       "    </tr>\n",
       "    <tr>\n",
       "      <th>340</th>\n",
       "      <td>DOID:0050328</td>\n",
       "      <td>OMIM:608583</td>\n",
       "    </tr>\n",
       "    <tr>\n",
       "      <th>398</th>\n",
       "      <td>DOID:0050328</td>\n",
       "      <td>OMIM:308350</td>\n",
       "    </tr>\n",
       "    <tr>\n",
       "      <th>437</th>\n",
       "      <td>DOID:0050741</td>\n",
       "      <td>OMIM:103780</td>\n",
       "    </tr>\n",
       "    <tr>\n",
       "      <th>442</th>\n",
       "      <td>DOID:0050754</td>\n",
       "      <td>OMIM:208920</td>\n",
       "    </tr>\n",
       "    <tr>\n",
       "      <th>445</th>\n",
       "      <td>DOID:0050763</td>\n",
       "      <td>OMIM:208085</td>\n",
       "    </tr>\n",
       "    <tr>\n",
       "      <th>452</th>\n",
       "      <td>DOID:0050771</td>\n",
       "      <td>OMIM:171300</td>\n",
       "    </tr>\n",
       "    <tr>\n",
       "      <th>538</th>\n",
       "      <td>DOID:0050801</td>\n",
       "      <td>OMIM:109200</td>\n",
       "    </tr>\n",
       "    <tr>\n",
       "      <th>563</th>\n",
       "      <td>DOID:0050848</td>\n",
       "      <td>OMIM:107650</td>\n",
       "    </tr>\n",
       "    <tr>\n",
       "      <th>572</th>\n",
       "      <td>DOID:0050881</td>\n",
       "      <td>OMIM:167320</td>\n",
       "    </tr>\n",
       "    <tr>\n",
       "      <th>652</th>\n",
       "      <td>DOID:0060055</td>\n",
       "      <td>OMIM:119500</td>\n",
       "    </tr>\n",
       "    <tr>\n",
       "      <th>679</th>\n",
       "      <td>DOID:0050328</td>\n",
       "      <td>OMIM:300125</td>\n",
       "    </tr>\n",
       "    <tr>\n",
       "      <th>681</th>\n",
       "      <td>DOID:0050328</td>\n",
       "      <td>OMIM:607516</td>\n",
       "    </tr>\n",
       "    <tr>\n",
       "      <th>684</th>\n",
       "      <td>DOID:0060180</td>\n",
       "      <td>OMIM:191390</td>\n",
       "    </tr>\n",
       "    <tr>\n",
       "      <th>1187</th>\n",
       "      <td>DOID:0050328</td>\n",
       "      <td>OMIM:155100</td>\n",
       "    </tr>\n",
       "    <tr>\n",
       "      <th>1381</th>\n",
       "      <td>DOID:0060878</td>\n",
       "      <td>OMIM:146255</td>\n",
       "    </tr>\n",
       "    <tr>\n",
       "      <th>1503</th>\n",
       "      <td>DOID:0080122</td>\n",
       "      <td>OMIM:203700</td>\n",
       "    </tr>\n",
       "    <tr>\n",
       "      <th>1546</th>\n",
       "      <td>DOID:0090004</td>\n",
       "      <td>OMIM:208230</td>\n",
       "    </tr>\n",
       "    <tr>\n",
       "      <th>1570</th>\n",
       "      <td>DOID:0090028</td>\n",
       "      <td>OMIM:277460</td>\n",
       "    </tr>\n",
       "    <tr>\n",
       "      <th>1582</th>\n",
       "      <td>DOID:0090041</td>\n",
       "      <td>OMIM:128101</td>\n",
       "    </tr>\n",
       "    <tr>\n",
       "      <th>1585</th>\n",
       "      <td>DOID:0090044</td>\n",
       "      <td>OMIM:601042</td>\n",
       "    </tr>\n",
       "    <tr>\n",
       "      <th>1778</th>\n",
       "      <td>DOID:0110145</td>\n",
       "      <td>OMIM:602522</td>\n",
       "    </tr>\n",
       "    <tr>\n",
       "      <th>1940</th>\n",
       "      <td>DOID:0110308</td>\n",
       "      <td>OMIM:115195</td>\n",
       "    </tr>\n",
       "    <tr>\n",
       "      <th>...</th>\n",
       "      <td>...</td>\n",
       "      <td>...</td>\n",
       "    </tr>\n",
       "    <tr>\n",
       "      <th>3894</th>\n",
       "      <td>DOID:0050328</td>\n",
       "      <td>OMIM:311360</td>\n",
       "    </tr>\n",
       "    <tr>\n",
       "      <th>3904</th>\n",
       "      <td>DOID:5557</td>\n",
       "      <td>OMIM:273300</td>\n",
       "    </tr>\n",
       "    <tr>\n",
       "      <th>3941</th>\n",
       "      <td>DOID:633</td>\n",
       "      <td>OMIM:160750</td>\n",
       "    </tr>\n",
       "    <tr>\n",
       "      <th>3943</th>\n",
       "      <td>DOID:6364</td>\n",
       "      <td>OMIM:157300</td>\n",
       "    </tr>\n",
       "    <tr>\n",
       "      <th>3954</th>\n",
       "      <td>DOID:6498</td>\n",
       "      <td>OMIM:182000</td>\n",
       "    </tr>\n",
       "    <tr>\n",
       "      <th>3957</th>\n",
       "      <td>DOID:6652</td>\n",
       "      <td>OMIM:106400</td>\n",
       "    </tr>\n",
       "    <tr>\n",
       "      <th>3964</th>\n",
       "      <td>DOID:6713</td>\n",
       "      <td>OMIM:601367</td>\n",
       "    </tr>\n",
       "    <tr>\n",
       "      <th>3976</th>\n",
       "      <td>DOID:718</td>\n",
       "      <td>OMIM:205700</td>\n",
       "    </tr>\n",
       "    <tr>\n",
       "      <th>3981</th>\n",
       "      <td>DOID:769</td>\n",
       "      <td>OMIM:256700</td>\n",
       "    </tr>\n",
       "    <tr>\n",
       "      <th>3992</th>\n",
       "      <td>DOID:7997</td>\n",
       "      <td>OMIM:275000</td>\n",
       "    </tr>\n",
       "    <tr>\n",
       "      <th>3999</th>\n",
       "      <td>DOID:8398</td>\n",
       "      <td>OMIM:140600</td>\n",
       "    </tr>\n",
       "    <tr>\n",
       "      <th>4000</th>\n",
       "      <td>DOID:0050328</td>\n",
       "      <td>OMIM:165720</td>\n",
       "    </tr>\n",
       "    <tr>\n",
       "      <th>4001</th>\n",
       "      <td>DOID:0050328</td>\n",
       "      <td>OMIM:607850</td>\n",
       "    </tr>\n",
       "    <tr>\n",
       "      <th>4008</th>\n",
       "      <td>DOID:8534</td>\n",
       "      <td>OMIM:109350</td>\n",
       "    </tr>\n",
       "    <tr>\n",
       "      <th>4010</th>\n",
       "      <td>DOID:8545</td>\n",
       "      <td>OMIM:145600</td>\n",
       "    </tr>\n",
       "    <tr>\n",
       "      <th>4012</th>\n",
       "      <td>DOID:0050328</td>\n",
       "      <td>OMIM:154276</td>\n",
       "    </tr>\n",
       "    <tr>\n",
       "      <th>4018</th>\n",
       "      <td>DOID:8567</td>\n",
       "      <td>OMIM:236000</td>\n",
       "    </tr>\n",
       "    <tr>\n",
       "      <th>4024</th>\n",
       "      <td>DOID:8632</td>\n",
       "      <td>OMIM:148000</td>\n",
       "    </tr>\n",
       "    <tr>\n",
       "      <th>4025</th>\n",
       "      <td>DOID:8691</td>\n",
       "      <td>OMIM:254400</td>\n",
       "    </tr>\n",
       "    <tr>\n",
       "      <th>4070</th>\n",
       "      <td>DOID:8997</td>\n",
       "      <td>OMIM:263300</td>\n",
       "    </tr>\n",
       "    <tr>\n",
       "      <th>4073</th>\n",
       "      <td>DOID:9074</td>\n",
       "      <td>OMIM:152700</td>\n",
       "    </tr>\n",
       "    <tr>\n",
       "      <th>4090</th>\n",
       "      <td>DOID:9119</td>\n",
       "      <td>OMIM:601626</td>\n",
       "    </tr>\n",
       "    <tr>\n",
       "      <th>4098</th>\n",
       "      <td>DOID:9212</td>\n",
       "      <td>OMIM:173200</td>\n",
       "    </tr>\n",
       "    <tr>\n",
       "      <th>4113</th>\n",
       "      <td>DOID:9256</td>\n",
       "      <td>OMIM:114500</td>\n",
       "    </tr>\n",
       "    <tr>\n",
       "      <th>4145</th>\n",
       "      <td>DOID:9352</td>\n",
       "      <td>OMIM:125853</td>\n",
       "    </tr>\n",
       "    <tr>\n",
       "      <th>4160</th>\n",
       "      <td>DOID:9538</td>\n",
       "      <td>OMIM:254500</td>\n",
       "    </tr>\n",
       "    <tr>\n",
       "      <th>4190</th>\n",
       "      <td>DOID:9849</td>\n",
       "      <td>OMIM:156000</td>\n",
       "    </tr>\n",
       "    <tr>\n",
       "      <th>4196</th>\n",
       "      <td>DOID:988</td>\n",
       "      <td>OMIM:157700</td>\n",
       "    </tr>\n",
       "    <tr>\n",
       "      <th>4208</th>\n",
       "      <td>DOID:9952</td>\n",
       "      <td>OMIM:247640</td>\n",
       "    </tr>\n",
       "    <tr>\n",
       "      <th>4214</th>\n",
       "      <td>DOID:9970</td>\n",
       "      <td>OMIM:601665</td>\n",
       "    </tr>\n",
       "  </tbody>\n",
       "</table>\n",
       "<p>154 rows × 2 columns</p>\n",
       "</div>"
      ],
      "text/plain": [
       "             do_id       mim_id\n",
       "18    DOID:0050387  OMIM:144700\n",
       "20    DOID:0050424  OMIM:175100\n",
       "22    DOID:0050425  OMIM:102300\n",
       "35    DOID:0050432  OMIM:300494\n",
       "60    DOID:0050450  OMIM:263800\n",
       "103   DOID:0050489  OMIM:138800\n",
       "133   DOID:0050328  OMIM:608088\n",
       "339   DOID:0050650  OMIM:607554\n",
       "340   DOID:0050328  OMIM:608583\n",
       "398   DOID:0050328  OMIM:308350\n",
       "437   DOID:0050741  OMIM:103780\n",
       "442   DOID:0050754  OMIM:208920\n",
       "445   DOID:0050763  OMIM:208085\n",
       "452   DOID:0050771  OMIM:171300\n",
       "538   DOID:0050801  OMIM:109200\n",
       "563   DOID:0050848  OMIM:107650\n",
       "572   DOID:0050881  OMIM:167320\n",
       "652   DOID:0060055  OMIM:119500\n",
       "679   DOID:0050328  OMIM:300125\n",
       "681   DOID:0050328  OMIM:607516\n",
       "684   DOID:0060180  OMIM:191390\n",
       "1187  DOID:0050328  OMIM:155100\n",
       "1381  DOID:0060878  OMIM:146255\n",
       "1503  DOID:0080122  OMIM:203700\n",
       "1546  DOID:0090004  OMIM:208230\n",
       "1570  DOID:0090028  OMIM:277460\n",
       "1582  DOID:0090041  OMIM:128101\n",
       "1585  DOID:0090044  OMIM:601042\n",
       "1778  DOID:0110145  OMIM:602522\n",
       "1940  DOID:0110308  OMIM:115195\n",
       "...            ...          ...\n",
       "3894  DOID:0050328  OMIM:311360\n",
       "3904     DOID:5557  OMIM:273300\n",
       "3941      DOID:633  OMIM:160750\n",
       "3943     DOID:6364  OMIM:157300\n",
       "3954     DOID:6498  OMIM:182000\n",
       "3957     DOID:6652  OMIM:106400\n",
       "3964     DOID:6713  OMIM:601367\n",
       "3976      DOID:718  OMIM:205700\n",
       "3981      DOID:769  OMIM:256700\n",
       "3992     DOID:7997  OMIM:275000\n",
       "3999     DOID:8398  OMIM:140600\n",
       "4000  DOID:0050328  OMIM:165720\n",
       "4001  DOID:0050328  OMIM:607850\n",
       "4008     DOID:8534  OMIM:109350\n",
       "4010     DOID:8545  OMIM:145600\n",
       "4012  DOID:0050328  OMIM:154276\n",
       "4018     DOID:8567  OMIM:236000\n",
       "4024     DOID:8632  OMIM:148000\n",
       "4025     DOID:8691  OMIM:254400\n",
       "4070     DOID:8997  OMIM:263300\n",
       "4073     DOID:9074  OMIM:152700\n",
       "4090     DOID:9119  OMIM:601626\n",
       "4098     DOID:9212  OMIM:173200\n",
       "4113     DOID:9256  OMIM:114500\n",
       "4145     DOID:9352  OMIM:125853\n",
       "4160     DOID:9538  OMIM:254500\n",
       "4190     DOID:9849  OMIM:156000\n",
       "4196      DOID:988  OMIM:157700\n",
       "4208     DOID:9952  OMIM:247640\n",
       "4214     DOID:9970  OMIM:601665\n",
       "\n",
       "[154 rows x 2 columns]"
      ]
     },
     "execution_count": 162,
     "metadata": {},
     "output_type": "execute_result"
    }
   ],
   "source": [
    "tmp[tmp.mim_id.isin(gold_di)]"
   ]
  },
  {
   "cell_type": "code",
   "execution_count": null,
   "metadata": {
    "collapsed": true
   },
   "outputs": [],
   "source": []
  }
 ],
 "metadata": {
  "kernelspec": {
   "display_name": "Python 2",
   "language": "python",
   "name": "python2"
  },
  "language_info": {
   "codemirror_mode": {
    "name": "ipython",
    "version": 2
   },
   "file_extension": ".py",
   "mimetype": "text/x-python",
   "name": "python",
   "nbconvert_exporter": "python",
   "pygments_lexer": "ipython2",
   "version": "2.7.6"
  }
 },
 "nbformat": 4,
 "nbformat_minor": 0
}
