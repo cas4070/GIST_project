{
 "cells": [
  {
   "cell_type": "code",
   "execution_count": null,
   "metadata": {
    "collapsed": true
   },
   "outputs": [],
   "source": [
    "import numpy as np\n",
    "import pandas as pd\n",
    "from datetime import datetime\n",
    "from sklearn.metrics import jaccard_similarity_score"
   ]
  },
  {
   "cell_type": "code",
   "execution_count": null,
   "metadata": {
    "collapsed": true
   },
   "outputs": [],
   "source": [
    "drug_mat = pd.read_table(\"/DAS_Storage1/aschoi/data/Drug_Repositioning/5_new_drug/8_gold_standard_drug_binary_matrix.tsv\", index_col=0)"
   ]
  },
  {
   "cell_type": "code",
   "execution_count": null,
   "metadata": {
    "collapsed": true
   },
   "outputs": [],
   "source": [
    "desc = pd.read_table(\"/DAS_Storage1/aschoi/data/Drug_Repositioning/8_new_training/2_1_descriptor_combined.tsv\")\n",
    "#desc = pd.read_table(\"/DAS_Storage1/aschoi/data/Drug_Repositioning/8_new_training/2_1_2_removed_descriptor.tsv\")"
   ]
  },
  {
   "cell_type": "code",
   "execution_count": null,
   "metadata": {
    "collapsed": true
   },
   "outputs": [],
   "source": [
    "len(drug_mat.columns)"
   ]
  },
  {
   "cell_type": "code",
   "execution_count": null,
   "metadata": {
    "collapsed": true
   },
   "outputs": [],
   "source": [
    "#2017.3.13. drug-drug_similarity 구하기\n",
    "gold_drug_id = drug_mat.columns.values\n",
    "df_dr_sim = pd.DataFrame()\n",
    "mat_dr_sim = pd.DataFrame(columns = gold_drug_id, index = gold_drug_id)\n",
    "cnt = 0\n",
    "print 'start : ' + datetime.now().strftime('%Y-%m-%d %H:%M:%S')\n",
    "for i in gold_drug_id:\n",
    "    desc1 = drug_mat[i]\n",
    "    for j in gold_drug_id:\n",
    "        desc2 = drug_mat[j]\n",
    "        \n",
    "        sim = jaccard_similarity_score(desc1, desc2)\n",
    "        \n",
    "        #dataframe형\n",
    "        temp_df = pd.DataFrame(data= [[i, j , sim]], columns=['Drug_id1', 'Drug_id2', 'Similarity'])\n",
    "        df_dr_sim = df_dr_sim.append(temp_df)\n",
    "        # matrix형\n",
    "        mat_dr_sim[i].ix[j] = sim\n",
    "    cnt = cnt + 1\n",
    "    if cnt % 100 == 0:\n",
    "        print 'cnt == {} : '.format(cnt) + datetime.now().strftime('%Y-%m-%d %H:%M:%S')\n",
    "print 'end : ' + datetime.now().strftime('%Y-%m-%d %H:%M:%S')"
   ]
  },
  {
   "cell_type": "code",
   "execution_count": null,
   "metadata": {
    "collapsed": true
   },
   "outputs": [],
   "source": [
    "df_dr_sim.to_csv(\"/home/share/aschoi/nas/users/asolchoi/data/Drug_Repositioning/5_new_drug/10_gold_drug_drug_sim.tsv\", sep='\\t', index=False)\n",
    "df_dr_sim.to_csv(\"/DAS_Storage1/aschoi/data/Drug_Repositioning/5_new_drug/10_gold_drug_drug_sim.tsv\", sep='\\t', index=False)\n",
    "mat_dr_sim.to_csv(\"/home/share/aschoi/nas/users/asolchoi/data/Drug_Repositioning/5_new_drug/10_gold_drug_drug_sim_mat.tsv\", sep='\\t')\n",
    "mat_dr_sim.to_csv(\"/DAS_Storage1/aschoi/data/Drug_Repositioning/5_new_drug/10_gold_drug_drug_sim_mat.tsv\", sep='\\t')"
   ]
  },
  {
   "cell_type": "code",
   "execution_count": null,
   "metadata": {
    "collapsed": true
   },
   "outputs": [],
   "source": [
    "disease_mat = pd.read_table(\"/DAS_Storage1/aschoi/data/Drug_Repositioning/6_new_disease/8_gold_standard_disease_binary_matrix.tsv\", index_col=0)"
   ]
  },
  {
   "cell_type": "code",
   "execution_count": null,
   "metadata": {
    "collapsed": true
   },
   "outputs": [],
   "source": [
    "len(disease_mat.columns)"
   ]
  },
  {
   "cell_type": "code",
   "execution_count": null,
   "metadata": {
    "collapsed": true
   },
   "outputs": [],
   "source": [
    "#2017.3.13. drug-drug_similarity 구하기\n",
    "gold_disease_id = disease_mat.columns.values\n",
    "df_di_sim = pd.DataFrame()\n",
    "mat_di_sim = pd.DataFrame(columns = gold_disease_id, index=gold_disease_id)\n",
    "cnt = 0 \n",
    "print 'start : ' + datetime.now().strftime('%Y-%m-%d %H:%M:%S')\n",
    "for i in gold_disease_id:\n",
    "    desc1 = disease_mat[i]\n",
    "    for j in gold_disease_id:\n",
    "        desc2 = disease_mat[j]\n",
    "        \n",
    "        sim = jaccard_similarity_score(desc1, desc2)\n",
    "        \n",
    "        #dataframe형\n",
    "        temp_df = pd.DataFrame(data= [[i, j , sim]], columns=['Disease_id1', 'Disease_id2', 'Similarity'])\n",
    "        df_di_sim = df_di_sim.append(temp_df)\n",
    "        # matrix형\n",
    "        mat_di_sim[i].ix[j] = sim\n",
    "    cnt = cnt + 1\n",
    "    if cnt % 100 == 0:\n",
    "        print 'cnt == {} : '.format(cnt) + datetime.now().strftime('%Y-%m-%d %H:%M:%S')\n",
    "print 'end : ' + datetime.now().strftime('%Y-%m-%d %H:%M:%S')"
   ]
  },
  {
   "cell_type": "code",
   "execution_count": null,
   "metadata": {
    "collapsed": true
   },
   "outputs": [],
   "source": [
    "df_di_sim.to_csv(\"/home/share/aschoi/nas/users/asolchoi/data/Drug_Repositioning/6_new_disease/10_gold_disease_disease_sim.tsv\", sep='\\t', index=False)\n",
    "df_di_sim.to_csv(\"/DAS_Storage1/aschoi/data/Drug_Repositioning/6_new_disease/10_gold_disease_disease_sim.tsv\", sep='\\t', index=False)\n",
    "mat_di_sim.to_csv(\"/home/share/aschoi/nas/users/asolchoi/data/Drug_Repositioning/6_new_disease/10_gold_disease_disease_sim_mat.tsv\", sep='\\t')\n",
    "mat_di_sim.to_csv(\"/DAS_Storage1/aschoi/data/Drug_Repositioning/6_new_disease/10_gold_disease_disease_sim_mat.tsv\", sep='\\t')"
   ]
  },
  {
   "cell_type": "code",
   "execution_count": null,
   "metadata": {
    "collapsed": true
   },
   "outputs": [],
   "source": [
    "#2017.3.13. drug-disease distance #normalize 한 버전"
   ]
  },
  {
   "cell_type": "code",
   "execution_count": null,
   "metadata": {
    "collapsed": true
   },
   "outputs": [],
   "source": [
    "df_dr_sim = pd.read_table(\"/DAS_Storage1/aschoi/data/Drug_Repositioning/5_new_drug/10_gold_drug_drug_sim.tsv\")\n",
    "df_di_sim = pd.read_table(\"/DAS_Storage1/aschoi/data/Drug_Repositioning/6_new_disease/10_gold_disease_disease_sim.tsv\")\n",
    "df_asso = pd.read_table(\"/DAS_Storage1/aschoi/data/Drug_Repositioning/7_new_association/7_gold_association.tsv\")"
   ]
  },
  {
   "cell_type": "code",
   "execution_count": null,
   "metadata": {
    "collapsed": true
   },
   "outputs": [],
   "source": [
    "di_dr_mat = pd.DataFrame(columns = gold_drug_id, index= gold_disease_id) #di에 대한 dr의 distance보기\n",
    "cnt = 0 \n",
    "print 'start : ' + datetime.now().strftime('%Y-%m-%d %H:%M:%S')\n",
    "for i in gold_drug_id:\n",
    "    other_drugs_sim = df_dr_sim[(df_dr_sim.Drug_id1 == i) & (df_dr_sim.Drug_id2 != i)] # 검사할 drug를 제외한 다른 drug들\n",
    "    for j in gold_disease_id:\n",
    "        target_disease = df_asso[(df_asso.disease_id ==int(j))] # 검사할 disease\n",
    "        flags = other_drugs_sim['Drug_id2'].isin(target_disease['drug_id']) # 검사할 disease와 다른 drug들의 association여부\n",
    "        sum_selected_drug = other_drugs_sim[flags]['Similarity'].sum() # association이 있는 것들의 합\n",
    "        sum_all_drug = other_drugs_sim['Similarity'].sum() # similarity의 전체 합\n",
    "        norm = sum_selected_drug / sum_all_drug #normalize한 값\n",
    "        di_dr_mat[i].ix[j] = norm\n",
    "    cnt = cnt + 1\n",
    "    if cnt % 100 == 0:\n",
    "        print 'cnt == {} : '.format(cnt) + datetime.now().strftime('%Y-%m-%d %H:%M:%S')\n",
    "print 'end : ' + datetime.now().strftime('%Y-%m-%d %H:%M:%S')"
   ]
  },
  {
   "cell_type": "code",
   "execution_count": null,
   "metadata": {
    "collapsed": true
   },
   "outputs": [],
   "source": [
    "#2017.3.13. disease-drug distance #normalize 한 버전\n",
    "dr_di_mat = pd.DataFrame(columns = gold_drug_id, index= gold_disease_id) #dr에 대한 di의 distance보기\n",
    "cnt = 0 \n",
    "print 'start : ' + datetime.now().strftime('%Y-%m-%d %H:%M:%S')\n",
    "for i in gold_disease_id:\n",
    "    other_diseases_sim = df_di_sim[(df_di_sim.Disease_id1 == int(i)) & (df_di_sim.Disease_id2 != int(i))] # 검사할 disease를 제외한 다른 disease들\n",
    "    for j in gold_drug_id:\n",
    "        target_drug = df_asso[(df_asso.drug_id ==j)] # 검사할 drug\n",
    "        flags = other_diseases_sim['Disease_id2'].isin(target_drug['disease_id']) # 검사할 drug와 다른 disease들의 association여부\n",
    "        sum_selected_disease = other_diseases_sim[flags]['Similarity'].sum() # association이 있는 것들의 합\n",
    "        sum_all_disease = other_diseases_sim['Similarity'].sum() # similarity의 전체 합\n",
    "        norm = sum_selected_disease / sum_all_disease #normalize한 값\n",
    "        dr_di_mat[j].ix[i] = norm\n",
    "    cnt = cnt + 1\n",
    "    if cnt % 100 == 0:\n",
    "        print 'cnt == {} : '.format(cnt) + datetime.now().strftime('%Y-%m-%d %H:%M:%S')\n",
    "print 'end : ' + datetime.now().strftime('%Y-%m-%d %H:%M:%S')"
   ]
  },
  {
   "cell_type": "code",
   "execution_count": null,
   "metadata": {
    "collapsed": true
   },
   "outputs": [],
   "source": [
    "bef_distance = -(di_dr_mat+dr_di_mat)\n",
    "distance_mat = pd.DataFrame(columns = bef_distance.columns.values, index = bef_distance.index.values)\n",
    "cnt = 0 \n",
    "print 'start : ' + datetime.now().strftime('%Y-%m-%d %H:%M:%S')\n",
    "for i in bef_distance.columns.values:\n",
    "    for j in bef_distance.index.values:\n",
    "        a = bef_distance[i].ix[j]\n",
    "        distance = np.exp(a)\n",
    "        distance_mat[i].ix[j] = distance\n",
    "    cnt = cnt + 1\n",
    "    if cnt % 100 == 0:\n",
    "        print 'cnt == {} : '.format(cnt) + datetime.now().strftime('%Y-%m-%d %H:%M:%S')\n",
    "print 'end : ' + datetime.now().strftime('%Y-%m-%d %H:%M:%S')"
   ]
  },
  {
   "cell_type": "code",
   "execution_count": null,
   "metadata": {
    "collapsed": true
   },
   "outputs": [],
   "source": [
    "print di_dr_mat.min().min()\n",
    "print di_dr_mat.max().max()\n",
    "print dr_di_mat.min().min()\n",
    "print dr_di_mat.max().max()\n",
    "print (di_dr_mat + dr_di_mat).min().min()\n",
    "print (di_dr_mat + dr_di_mat).max().max()\n",
    "print bef_distance.min().min()\n",
    "print bef_distance.max().max()\n",
    "print np.exp(bef_distance.min().min())\n",
    "print np.exp(bef_distance.max().max())"
   ]
  },
  {
   "cell_type": "code",
   "execution_count": null,
   "metadata": {
    "collapsed": true
   },
   "outputs": [],
   "source": [
    "distance_mat.to_csv(\"/DAS_Storage1/aschoi/data/Drug_Repositioning/7_new_association/11_1_drug_disease_distance_norm.tsv\", sep='\\t')\n",
    "distance_mat.to_csv(\"/home/share/aschoi/nas/users/asolchoi/data/Drug_Repositioning/7_new_association/11_1_drug_disease_distance_norm.tsv\", sep='\\t')"
   ]
  },
  {
   "cell_type": "code",
   "execution_count": null,
   "metadata": {
    "collapsed": true
   },
   "outputs": [],
   "source": [
    "#2017.3.13. drug-disease distance #normalize 안 한 버전"
   ]
  },
  {
   "cell_type": "code",
   "execution_count": null,
   "metadata": {
    "collapsed": true
   },
   "outputs": [],
   "source": [
    "di_dr_mat2 = pd.DataFrame(columns = gold_drug_id, index= gold_disease_id) #di에 대한 dr의 distance보기\n",
    "cnt = 0 \n",
    "print 'start : ' + datetime.now().strftime('%Y-%m-%d %H:%M:%S')\n",
    "for i in gold_drug_id:\n",
    "    other_drugs_sim = df_dr_sim[(df_dr_sim.Drug_id1 == i) & (df_dr_sim.Drug_id2 != i)] # 검사할 drug를 제외한 다른 drug들\n",
    "    for j in gold_disease_id:\n",
    "        target_disease = df_asso[(df_asso.disease_id ==int(j))] # 검사할 disease\n",
    "        flags = other_drugs_sim['Drug_id2'].isin(target_disease['drug_id']) # 검사할 disease와 다른 drug들의 association여부\n",
    "        sum_selected_drug = other_drugs_sim[flags]['Similarity'].sum() # association이 있는 것들의 합\n",
    "        #sum_all_drug = other_drugs_sim['Similarity'].sum() # similarity의 전체 합\n",
    "        #norm = sum_selected_drug / sum_all_drug #normalize한 값\n",
    "        di_dr_mat2[i].ix[j] = sum_selected_drug\n",
    "    cnt = cnt + 1\n",
    "    if cnt % 100 == 0:\n",
    "        print 'cnt == {} : '.format(cnt) + datetime.now().strftime('%Y-%m-%d %H:%M:%S')\n",
    "print 'end : ' + datetime.now().strftime('%Y-%m-%d %H:%M:%S')"
   ]
  },
  {
   "cell_type": "code",
   "execution_count": null,
   "metadata": {
    "collapsed": true
   },
   "outputs": [],
   "source": [
    "#2017.3.13. disease-drug distance #normalize 한 버전\n",
    "dr_di_mat2 = pd.DataFrame(columns = gold_drug_id, index= gold_disease_id) #dr에 대한 di의 distance보기\n",
    "cnt = 0 \n",
    "print 'start : ' + datetime.now().strftime('%Y-%m-%d %H:%M:%S')\n",
    "for i in gold_disease_id:\n",
    "    other_diseases_sim = df_di_sim[(df_di_sim.Disease_id1 == int(i)) & (df_di_sim.Disease_id2 != int(i))] # 검사할 disease를 제외한 다른 disease들\n",
    "    for j in gold_drug_id:\n",
    "        target_drug = df_asso[(df_asso.drug_id ==j)] # 검사할 drug\n",
    "        flags = other_diseases_sim['Disease_id2'].isin(target_drug['disease_id']) # 검사할 drug와 다른 disease들의 association여부\n",
    "        sum_selected_disease = other_diseases_sim[flags]['Similarity'].sum() # association이 있는 것들의 합\n",
    "        #sum_all_disease = other_diseases_sim['Similarity'].sum() # similarity의 전체 합\n",
    "        #norm = sum_selected_disease / sum_all_disease #normalize한 값\n",
    "        dr_di_mat2[j].ix[i] = sum_selected_disease\n",
    "    cnt = cnt + 1\n",
    "    if cnt % 100 == 0:\n",
    "        print 'cnt == {} : '.format(cnt) + datetime.now().strftime('%Y-%m-%d %H:%M:%S')\n",
    "print 'end : ' + datetime.now().strftime('%Y-%m-%d %H:%M:%S')"
   ]
  },
  {
   "cell_type": "code",
   "execution_count": null,
   "metadata": {
    "collapsed": true
   },
   "outputs": [],
   "source": [
    "bef_distance2 = -(di_dr_mat2+dr_di_mat2)\n",
    "distance_mat2 = pd.DataFrame(columns = bef_distance2.columns.values, index = bef_distance2.index.values)\n",
    "cnt = 0 \n",
    "print 'start : ' + datetime.now().strftime('%Y-%m-%d %H:%M:%S')\n",
    "for i in bef_distance2.columns.values:\n",
    "    for j in bef_distance2.index.values:\n",
    "        a = bef_distance2[i].ix[j]\n",
    "        distance2 = np.exp(a)\n",
    "        distance_mat2[i].ix[j] = distance2\n",
    "    cnt = cnt + 1\n",
    "    if cnt % 100 == 0:\n",
    "        print 'cnt == {} : '.format(cnt) + datetime.now().strftime('%Y-%m-%d %H:%M:%S')\n",
    "print 'end : ' + datetime.now().strftime('%Y-%m-%d %H:%M:%S')"
   ]
  },
  {
   "cell_type": "code",
   "execution_count": null,
   "metadata": {
    "collapsed": true
   },
   "outputs": [],
   "source": [
    "print di_dr_mat2.min().min()\n",
    "print di_dr_mat2.max().max()\n",
    "print dr_di_mat2.min().min()\n",
    "print dr_di_mat2.max().max()\n",
    "print (di_dr_mat2 + dr_di_mat2).min().min()\n",
    "print (di_dr_mat2 + dr_di_mat2).max().max()\n",
    "print bef_distance2.min().min()\n",
    "print bef_distance2.max().max()\n",
    "print distance_mat2.min().min()\n",
    "print distance_mat2.max().max()"
   ]
  },
  {
   "cell_type": "code",
   "execution_count": null,
   "metadata": {
    "collapsed": true
   },
   "outputs": [],
   "source": [
    "distance_mat2.to_csv(\"/DAS_Storage1/aschoi/data/Drug_Repositioning/7_new_association/11_2_drug_disease_distance.tsv\", sep='\\t')\n",
    "distance_mat2.to_csv(\"/home/share/aschoi/nas/users/asolchoi/data/Drug_Repositioning/7_new_association/11_2_drug_disease_distance.tsv\", sep='\\t')"
   ]
  },
  {
   "cell_type": "code",
   "execution_count": null,
   "metadata": {
    "collapsed": true
   },
   "outputs": [],
   "source": [
    "# TN 찾기 2017.3.14."
   ]
  },
  {
   "cell_type": "code",
   "execution_count": null,
   "metadata": {
    "collapsed": true
   },
   "outputs": [],
   "source": [
    "# 전체 distance matrix에서 거리가 0.1보다 큰 애들을 찾는다. (거리가 먼 애들)\n",
    "li_tn = list()\n",
    "for index, row in distance_mat2.iterrows():\n",
    "    filtered = row[row> 0.1]\n",
    "    if not filtered.empty:\n",
    "        li_tn.append([index, filtered.index.tolist()]) \n",
    "df_tn = pd.DataFrame()\n",
    "for i in li_tn:\n",
    "    for j in i[1]:\n",
    "        temp_df = pd.DataFrame(data = [[i[0], j]], columns = ['disease_id', 'drug_id'])\n",
    "        df_tn = df_tn.append(temp_df)"
   ]
  },
  {
   "cell_type": "code",
   "execution_count": null,
   "metadata": {
    "collapsed": true
   },
   "outputs": [],
   "source": [
    "print len(df_tn)\n",
    "print len(df_tn.drop_duplicates('disease_id'))\n",
    "print len(df_tn.drop_duplicates('drug_id'))\n",
    "df_tn.head(1)"
   ]
  },
  {
   "cell_type": "code",
   "execution_count": null,
   "metadata": {
    "collapsed": true
   },
   "outputs": [],
   "source": [
    "# 구한 TN이 positive associaion과 겹치는게 있는지 체크\n",
    "duplicated = pd.DataFrame()\n",
    "for index, row in df_asso.iterrows():\n",
    "    li_row = row.tolist()\n",
    "    temp = df_tn[(df_tn.disease_id == li_row[0]) & (df_tn.drug_id == li_row[1])]\n",
    "    if temp.empty:\n",
    "        continue\n",
    "    else:\n",
    "        duplicated = duplicated.append(temp)"
   ]
  },
  {
   "cell_type": "code",
   "execution_count": null,
   "metadata": {
    "collapsed": true
   },
   "outputs": [],
   "source": [
    "df_tn.to_csv(\"/home/share/aschoi/nas/users/asolchoi/data/Drug_Repositioning/7_new_association/11_2_2_true_negative_whole.tsv\", sep='\\t', index=False)\n",
    "df_tn.to_csv(\"/DAS_Storage1/aschoi/data/Drug_Repositioning/7_new_association/11_2_2_true_negative_whole.tsv\", sep='\\t', index=False)"
   ]
  },
  {
   "cell_type": "code",
   "execution_count": null,
   "metadata": {
    "collapsed": true
   },
   "outputs": [],
   "source": [
    "# di당 거리가 먼 dr을 일정비율로 뽑는다.\n",
    "li_tn_di = list()\n",
    "for index, row in distance_mat2.iterrows():\n",
    "    idx = int(len(row)*0.1)\n",
    "    filtered = row.sort_values(ascending=False)[:idx]\n",
    "    li_tn_di.append([index, filtered.index.tolist()])\n",
    "\n",
    "df_tn_di = pd.DataFrame()\n",
    "for i in li_tn_di:\n",
    "    for j in i[1]:\n",
    "        temp_df = pd.DataFrame(data=[[i[0], j]], columns = ['disease_id', 'drug_id'])\n",
    "        df_tn_di= df_tn_di.append(temp_df)"
   ]
  },
  {
   "cell_type": "code",
   "execution_count": null,
   "metadata": {
    "collapsed": true
   },
   "outputs": [],
   "source": [
    "print len(df_tn_di)\n",
    "print len(df_tn_di.drop_duplicates('disease_id'))\n",
    "print len(df_tn_di.drop_duplicates('drug_id'))\n",
    "df_tn_di.head(2)"
   ]
  },
  {
   "cell_type": "code",
   "execution_count": null,
   "metadata": {
    "collapsed": true
   },
   "outputs": [],
   "source": [
    "# 구한 TN이 positive associaion과 겹치는게 있는지 체크\n",
    "duplicated = pd.DataFrame()\n",
    "for index, row in df_asso.iterrows():\n",
    "    li_row = row.tolist()\n",
    "    temp = df_tn_di[(df_tn_di.disease_id == li_row[0]) & (df_tn_di.drug_id == li_row[1])]\n",
    "    if temp.empty:\n",
    "        continue\n",
    "    else:\n",
    "        duplicated = duplicated.append(temp)"
   ]
  },
  {
   "cell_type": "code",
   "execution_count": null,
   "metadata": {
    "collapsed": true
   },
   "outputs": [],
   "source": [
    "df_tn_di.to_csv(\"/home/share/aschoi/nas/users/asolchoi/data/Drug_Repositioning/7_new_association/11_2_3_true_negative_di.tsv\", sep='\\t', index=False)\n",
    "df_tn_di.to_csv(\"/DAS_Storage1/aschoi/data/Drug_Repositioning/7_new_association/11_2_3_true_negative_di.tsv\", sep='\\t', index=False)"
   ]
  },
  {
   "cell_type": "code",
   "execution_count": null,
   "metadata": {
    "collapsed": true
   },
   "outputs": [],
   "source": [
    "# dr당 거리가 먼 di을 일정비율로 뽑는다.\n",
    "li_tn_dr = list()\n",
    "for column in distance_mat2:\n",
    "    idx = int(len(distance_mat2[column])*0.1)\n",
    "    filtered = distance_mat2[column].sort_values(ascending=False)[:idx]\n",
    "    li_tn_dr.append([column, filtered.index.tolist()])\n",
    "\n",
    "df_tn_dr = pd.DataFrame()\n",
    "for i in li_tn_dr:\n",
    "    for j in i[1]:\n",
    "        temp_df = pd.DataFrame(data=[[j, i[0]]], columns = ['disease_id', 'drug_id'])\n",
    "        df_tn_dr= df_tn_dr.append(temp_df)"
   ]
  },
  {
   "cell_type": "code",
   "execution_count": null,
   "metadata": {
    "collapsed": true
   },
   "outputs": [],
   "source": [
    "print len(df_tn_dr)\n",
    "print len(df_tn_dr.drop_duplicates('disease_id'))\n",
    "print len(df_tn_dr.drop_duplicates('drug_id'))\n",
    "df_tn_dr.head()"
   ]
  },
  {
   "cell_type": "code",
   "execution_count": null,
   "metadata": {
    "collapsed": true
   },
   "outputs": [],
   "source": [
    "# 구한 TN이 positive associaion과 겹치는게 있는지 체크\n",
    "duplicated = pd.DataFrame()\n",
    "for index, row in df_asso.iterrows():\n",
    "    li_row = row.tolist()\n",
    "    temp = df_tn_dr[(df_tn_dr.disease_id == li_row[0]) & (df_tn_dr.drug_id == li_row[1])]\n",
    "    if temp.empty:\n",
    "        continue\n",
    "    else:\n",
    "        duplicated = duplicated.append(temp)"
   ]
  },
  {
   "cell_type": "code",
   "execution_count": null,
   "metadata": {
    "collapsed": true
   },
   "outputs": [],
   "source": [
    "df_tn_dr.to_csv(\"/home/share/aschoi/nas/users/asolchoi/data/Drug_Repositioning/7_new_association/11_2_4_true_negative_dr.tsv\", sep='\\t', index=False)\n",
    "df_tn_dr.to_csv(\"/DAS_Storage1/aschoi/data/Drug_Repositioning/7_new_association/11_2_4_true_negative_dr.tsv\", sep='\\t', index=False)"
   ]
  },
  {
   "cell_type": "code",
   "execution_count": null,
   "metadata": {
    "collapsed": true
   },
   "outputs": [],
   "source": [
    "desc.head()"
   ]
  },
  {
   "cell_type": "code",
   "execution_count": null,
   "metadata": {
    "collapsed": true
   },
   "outputs": [],
   "source": [
    "# negative descriptor 만들기 -whole\n",
    "df_tn_desc = pd.DataFrame()\n",
    "for index, row in df_tn.iterrows():\n",
    "    temp_df = desc[(desc.drug_id == row['drug_id']) & (desc.disease_id == int(row['disease_id']))]\n",
    "    if temp_df.empty:\n",
    "        continue\n",
    "    else:\n",
    "        df_tn_desc = df_tn_desc.append(temp_df)"
   ]
  },
  {
   "cell_type": "code",
   "execution_count": null,
   "metadata": {
    "collapsed": true
   },
   "outputs": [],
   "source": [
    "desc_pos = desc[desc.association ==1]\n",
    "frames = [desc_pos, df_tn_desc]\n",
    "whole_desc = pd.concat(frames)"
   ]
  },
  {
   "cell_type": "code",
   "execution_count": null,
   "metadata": {
    "collapsed": true
   },
   "outputs": [],
   "source": [
    "whole_desc.to_csv(\"/home/share/aschoi/nas/users/asolchoi/data/Drug_Repositioning/8_new_training/6_2_1_tn_whole_descriptor.tsv\", sep='\\t', index=False)\n",
    "whole_desc.to_csv(\"/DAS_Storage1/aschoi/data/Drug_Repositioning/8_new_training/6_2_1_tn_whole_descriptor.tsv\", sep='\\t', index=False)"
   ]
  },
  {
   "cell_type": "code",
   "execution_count": null,
   "metadata": {
    "collapsed": true
   },
   "outputs": [],
   "source": [
    "whole_desc.head()"
   ]
  },
  {
   "cell_type": "code",
   "execution_count": null,
   "metadata": {
    "collapsed": true
   },
   "outputs": [],
   "source": [
    "# negative descriptor 만들기 -disease\n",
    "df_tn_di_desc = pd.DataFrame()\n",
    "print 'start : ' + datetime.now().strftime('%Y-%m-%d %H:%M:%S')\n",
    "for index, row in df_tn_di.iterrows():\n",
    "    temp_df = desc[(desc.drug_id == row['drug_id']) & (desc.disease_id == int(row['disease_id']))]\n",
    "    if temp_df.empty:\n",
    "        continue\n",
    "    else:\n",
    "        df_tn_di_desc = df_tn_di_desc.append(temp_df)\n",
    "print 'end : ' + datetime.now().strftime('%Y-%m-%d %H:%M:%S')"
   ]
  },
  {
   "cell_type": "code",
   "execution_count": null,
   "metadata": {
    "collapsed": true
   },
   "outputs": [],
   "source": [
    "#desc_pos = desc[desc.association ==1]\n",
    "frames = [desc_pos, df_tn_di_desc]\n",
    "di_desc = pd.concat(frames)"
   ]
  },
  {
   "cell_type": "code",
   "execution_count": null,
   "metadata": {
    "collapsed": true
   },
   "outputs": [],
   "source": [
    "di_desc.to_csv(\"/home/share/aschoi/nas/users/asolchoi/data/Drug_Repositioning/8_new_training/6_2_2_tn_di_descriptor.tsv\", sep='\\t', index=False)\n",
    "di_desc.to_csv(\"/DAS_Storage1/aschoi/data/Drug_Repositioning/8_new_training/6_2_2_tn_di_descriptor.tsv\", sep='\\t', index=False)"
   ]
  },
  {
   "cell_type": "code",
   "execution_count": null,
   "metadata": {
    "collapsed": true
   },
   "outputs": [],
   "source": [
    "# negative descriptor 만들기 -drug\n",
    "df_tn_dr_desc = pd.DataFrame()\n",
    "print 'start : ' + datetime.now().strftime('%Y-%m-%d %H:%M:%S')\n",
    "for index, row in df_tn_dr.iterrows():\n",
    "    temp_df = desc[(desc.drug_id == row['drug_id']) & (desc.disease_id == int(row['disease_id']))]\n",
    "    if temp_df.empty:\n",
    "        continue\n",
    "    else:\n",
    "        df_tn_dr_desc = df_tn_dr_desc.append(temp_df)\n",
    "print 'end : ' + datetime.now().strftime('%Y-%m-%d %H:%M:%S')"
   ]
  },
  {
   "cell_type": "code",
   "execution_count": null,
   "metadata": {
    "collapsed": true
   },
   "outputs": [],
   "source": [
    "print len(df_tn_dr_desc)\n",
    "print len(df_tn_dr_desc.drop_duplicates('disease_id'))\n",
    "print len(df_tn_dr_desc.drop_duplicates('drug_id'))\n",
    "df_tn_dr_desc.head(1)"
   ]
  },
  {
   "cell_type": "code",
   "execution_count": null,
   "metadata": {
    "collapsed": true
   },
   "outputs": [],
   "source": [
    "print len(df_tn_dr)\n",
    "print len(df_tn_dr.drop_duplicates('disease_id'))\n",
    "print len(df_tn_dr.drop_duplicates('drug_id'))\n",
    "df_tn_dr.head(1)"
   ]
  },
  {
   "cell_type": "code",
   "execution_count": null,
   "metadata": {
    "collapsed": true
   },
   "outputs": [],
   "source": [
    "#desc_pos = desc[desc.association ==1]\n",
    "frames = [desc_pos, df_tn_dr_desc]\n",
    "dr_desc = pd.concat(frames)"
   ]
  },
  {
   "cell_type": "code",
   "execution_count": null,
   "metadata": {
    "collapsed": true
   },
   "outputs": [],
   "source": [
    "dr_desc.to_csv(\"/home/share/aschoi/nas/users/asolchoi/data/Drug_Repositioning/8_new_training/6_2_3_tn_dr_descriptor.tsv\", sep='\\t', index=False)\n",
    "dr_desc.to_csv(\"/DAS_Storage1/aschoi/data/Drug_Repositioning/8_new_training/6_2_3_tn_dr_descriptor.tsv\", sep='\\t', index=False)"
   ]
  }
 ],
 "metadata": {
  "kernelspec": {
   "display_name": "Python 2",
   "language": "python",
   "name": "python2"
  },
  "language_info": {
   "codemirror_mode": {
    "name": "ipython",
    "version": 2
   },
   "file_extension": ".py",
   "mimetype": "text/x-python",
   "name": "python",
   "nbconvert_exporter": "python",
   "pygments_lexer": "ipython2",
   "version": "2.7.6"
  }
 },
 "nbformat": 4,
 "nbformat_minor": 1
}
