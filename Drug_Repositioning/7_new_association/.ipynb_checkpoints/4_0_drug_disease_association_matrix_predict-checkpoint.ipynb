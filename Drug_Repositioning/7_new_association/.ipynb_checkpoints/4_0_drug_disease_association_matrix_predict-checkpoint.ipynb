{
 "cells": [
  {
   "cell_type": "code",
   "execution_count": 1,
   "metadata": {
    "collapsed": true
   },
   "outputs": [],
   "source": [
    "import pandas as pd\n",
    "import numpy as np\n",
    "from itertools import product\n",
    "from datetime import datetime"
   ]
  },
  {
   "cell_type": "code",
   "execution_count": 2,
   "metadata": {
    "collapsed": true
   },
   "outputs": [],
   "source": [
    "df_asso = pd.read_table(\"/DAS_Storage1/aschoi/data/Drug_Repositioning/7_new_association/PREDICT_data/2_gold_asso.tsv\")"
   ]
  },
  {
   "cell_type": "code",
   "execution_count": 41,
   "metadata": {
    "collapsed": false
   },
   "outputs": [
    {
     "name": "stdout",
     "output_type": "stream",
     "text": [
      "1362\n",
      "   drug_id  disease_id\n",
      "0  DB00659      103780\n",
      "   drug_id  disease_id\n",
      "0  DB00659      103780\n"
     ]
    }
   ],
   "source": [
    "print len(df_asso)\n",
    "print df_asso.head(1)\n",
    "df_asso = df_asso.rename(columns={'DrugBank_ID' : 'drug_id', 'OMIM_ID' : 'disease_id'})\n",
    "print df_asso.head(1)\n",
    "gold_drug_id = df_asso['drug_id'].drop_duplicates()\n",
    "gold_disease_id = df_asso['disease_id'].drop_duplicates()"
   ]
  },
  {
   "cell_type": "code",
   "execution_count": 27,
   "metadata": {
    "collapsed": false
   },
   "outputs": [],
   "source": [
    "mat = pd.DataFrame(columns = gold_drug_id.tolist(), index = gold_disease_id.tolist())\n",
    "mat = mat.fillna(0)"
   ]
  },
  {
   "cell_type": "code",
   "execution_count": 16,
   "metadata": {
    "collapsed": true
   },
   "outputs": [],
   "source": [
    "del mat2"
   ]
  },
  {
   "cell_type": "code",
   "execution_count": 36,
   "metadata": {
    "collapsed": true
   },
   "outputs": [],
   "source": [
    "f = lambda x: 1 if x else 0\n",
    "    \n",
    "for dg_id in gold_drug_id:\n",
    "    a = df_asso[df_asso.drug_id == dg_id]\n",
    "    disease_id = a['disease_id']\n",
    "    flags = gold_disease_id.isin(disease_id)\n",
    "    oz_flags = map(f, flags)\n",
    "    mat[dg_id] = oz_flags"
   ]
  },
  {
   "cell_type": "code",
   "execution_count": 42,
   "metadata": {
    "collapsed": true
   },
   "outputs": [],
   "source": [
    "mat.to_csv(\"/DAS_Storage1/aschoi/data/Drug_Repositioning/7_new_association/PREDICT_data/2_3_gold_asso_matrix.tsv\", sep='\\t')\n",
    "mat.to_csv(\"/home/share/aschoi/nas/users/asolchoi/data/Drug_Repositioning/7_new_association/PREDICT_data/2_3_gold_asso_matrix.tsv\", sep='\\t')"
   ]
  }
 ],
 "metadata": {
  "kernelspec": {
   "display_name": "Python 2",
   "language": "python",
   "name": "python2"
  },
  "language_info": {
   "codemirror_mode": {
    "name": "ipython",
    "version": 2
   },
   "file_extension": ".py",
   "mimetype": "text/x-python",
   "name": "python",
   "nbconvert_exporter": "python",
   "pygments_lexer": "ipython2",
   "version": "2.7.6"
  }
 },
 "nbformat": 4,
 "nbformat_minor": 2
}
