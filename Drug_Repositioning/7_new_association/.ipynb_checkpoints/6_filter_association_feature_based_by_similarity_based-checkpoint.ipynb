{
 "cells": [
  {
   "cell_type": "code",
   "execution_count": 2,
   "metadata": {
    "collapsed": false
   },
   "outputs": [],
   "source": [
    "import pandas as pd\n",
    "import numpy as np\n",
    "from datetime import datetime"
   ]
  },
  {
   "cell_type": "code",
   "execution_count": 4,
   "metadata": {
    "collapsed": false
   },
   "outputs": [],
   "source": [
    "#gold association\n",
    "f_asso = pd.read_table(\"/DAS_Storage1/aschoi/data/Drug_Repositioning/8_new_training/PREDICT_data/2_1_gold_descriptor_combined.tsv\")\n",
    "s_asso = pd.read_table(\"/DAS_Storage1/aschoi/data/Drug_Repositioning/8_new_training/new_predict/2_3_gold_descriptor.tsv\")\n",
    "#indep association\n",
    "f_indep = pd.read_table(\"/DAS_Storage1/aschoi/data/Drug_Repositioning/8_new_training/PREDICT_data/2_2_indep_descriptor.tsv\")\n",
    "s_indep = pd.read_table(\"/DAS_Storage1/aschoi/data/Drug_Repositioning/8_new_training/new_predict/3_3_indep_descriptor.tsv\")"
   ]
  },
  {
   "cell_type": "code",
   "execution_count": 19,
   "metadata": {
    "collapsed": true
   },
   "outputs": [],
   "source": [
    "s_indep = s_indep.rename(columns = {'drug1' : 'drug_id', 'disease1':'disease_id'})"
   ]
  },
  {
   "cell_type": "code",
   "execution_count": 23,
   "metadata": {
    "collapsed": false
   },
   "outputs": [
    {
     "name": "stdout",
     "output_type": "stream",
     "text": [
      "103146 99493\n",
      "446 434\n",
      "235 233\n"
     ]
    }
   ],
   "source": [
    "print len(f_asso), len(s_asso)\n",
    "print len(f_asso['drug_id'].drop_duplicates()), len(s_asso['drug_id'].drop_duplicates())\n",
    "print len(f_asso['disease_id'].drop_duplicates()), len(s_asso['disease_id'].drop_duplicates())"
   ]
  },
  {
   "cell_type": "code",
   "execution_count": 24,
   "metadata": {
    "collapsed": false
   },
   "outputs": [],
   "source": [
    "# 1차 필터 --> 바로 걸러짐.\n",
    "s_dr_id = s_asso['drug_id'].drop_duplicates()\n",
    "s_di_id = s_asso['disease_id'].drop_duplicates()\n",
    "temp = f_asso[f_asso['drug_id'].isin(s_dr_id)]\n",
    "temp = temp[temp['disease_id'].isin(s_di_id)]"
   ]
  },
  {
   "cell_type": "code",
   "execution_count": 25,
   "metadata": {
    "collapsed": true
   },
   "outputs": [],
   "source": [
    "temp.to_csv(\"/DAS_Storage1/aschoi/data/Drug_Repositioning/8_new_training/new_predict/feature_based/1_gold_descriptor.tsv\", sep='\\t', index=False)"
   ]
  },
  {
   "cell_type": "code",
   "execution_count": 26,
   "metadata": {
    "collapsed": false
   },
   "outputs": [
    {
     "name": "stdout",
     "output_type": "stream",
     "text": [
      "2539 2399\n",
      "73 71\n",
      "35 34\n"
     ]
    }
   ],
   "source": [
    "# indep association\n",
    "print len(f_indep), len(s_indep)\n",
    "print len(f_indep['drug_id'].drop_duplicates()), len(s_indep['drug_id'].drop_duplicates())\n",
    "print len(f_indep['disease_id'].drop_duplicates()), len(s_indep['disease_id'].drop_duplicates())"
   ]
  },
  {
   "cell_type": "code",
   "execution_count": 27,
   "metadata": {
    "collapsed": true
   },
   "outputs": [],
   "source": [
    "s_dr_id = s_indep['drug_id'].drop_duplicates()\n",
    "s_di_id = s_indep['disease_id'].drop_duplicates()\n",
    "temp = f_indep[f_indep['drug_id'].isin(s_dr_id)]\n",
    "temp = temp[temp['disease_id'].isin(s_di_id)]"
   ]
  },
  {
   "cell_type": "code",
   "execution_count": 28,
   "metadata": {
    "collapsed": false,
    "scrolled": true
   },
   "outputs": [
    {
     "name": "stdout",
     "output_type": "stream",
     "text": [
      "2399\n",
      "71\n",
      "34\n"
     ]
    }
   ],
   "source": [
    "print len(temp)\n",
    "print len(temp['drug_id'].drop_duplicates())\n",
    "print len(temp['disease_id'].drop_duplicates())"
   ]
  },
  {
   "cell_type": "code",
   "execution_count": 29,
   "metadata": {
    "collapsed": true
   },
   "outputs": [],
   "source": [
    "temp.to_csv(\"/DAS_Storage1/aschoi/data/Drug_Repositioning/8_new_training/new_predict/feature_based/2_indep_descriptor.tsv\", sep='\\t', index=False)"
   ]
  },
  {
   "cell_type": "code",
   "execution_count": null,
   "metadata": {
    "collapsed": true
   },
   "outputs": [],
   "source": []
  }
 ],
 "metadata": {
  "kernelspec": {
   "display_name": "Python 2",
   "language": "python",
   "name": "python2"
  },
  "language_info": {
   "codemirror_mode": {
    "name": "ipython",
    "version": 2
   },
   "file_extension": ".py",
   "mimetype": "text/x-python",
   "name": "python",
   "nbconvert_exporter": "python",
   "pygments_lexer": "ipython2",
   "version": "2.7.6"
  }
 },
 "nbformat": 4,
 "nbformat_minor": 2
}
