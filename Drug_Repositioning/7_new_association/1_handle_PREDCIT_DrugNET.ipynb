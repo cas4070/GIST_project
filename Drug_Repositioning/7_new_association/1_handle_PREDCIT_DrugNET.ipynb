{
 "cells": [
  {
   "cell_type": "code",
   "execution_count": 1,
   "metadata": {
    "collapsed": false
   },
   "outputs": [],
   "source": [
    "import csv\n",
    "import numpy as np\n",
    "#import matplotlib.pyplot as plt\n",
    "import os\n",
    "import pandas as pd\n",
    "import time\n",
    "import urllib.request\n",
    "import urllib.parse"
   ]
  },
  {
   "cell_type": "code",
   "execution_count": 4,
   "metadata": {
    "collapsed": true
   },
   "outputs": [],
   "source": [
    "############PREDICT_drug_name_to_DrugBank_ID#############"
   ]
  },
  {
   "cell_type": "code",
   "execution_count": 2,
   "metadata": {
    "collapsed": false
   },
   "outputs": [],
   "source": [
    "gold = pd.read_excel(\"/home/share/aschoi/data/Drug_Repositioning/7_new_association/PREDICT_S1 Drug indications gold standard.xls\", sheetname=0)\n",
    "drugbank = pd.read_csv(\"/home/share/aschoi/data/Drug_Repositioning/7_new_association/drugbank vocabulary.csv\")"
   ]
  },
  {
   "cell_type": "code",
   "execution_count": 7,
   "metadata": {
    "collapsed": false
   },
   "outputs": [
    {
     "name": "stdout",
     "output_type": "stream",
     "text": [
      "1933\n",
      "drug : 593\n"
     ]
    },
    {
     "data": {
      "text/html": [
       "<div>\n",
       "<table border=\"1\" class=\"dataframe\">\n",
       "  <thead>\n",
       "    <tr style=\"text-align: right;\">\n",
       "      <th></th>\n",
       "      <th>Drug name</th>\n",
       "      <th>Disease name</th>\n",
       "    </tr>\n",
       "  </thead>\n",
       "  <tbody>\n",
       "    <tr>\n",
       "      <th>0</th>\n",
       "      <td>Acamprosate</td>\n",
       "      <td>Alcohol Dependence</td>\n",
       "    </tr>\n",
       "    <tr>\n",
       "      <th>1</th>\n",
       "      <td>Acarbose</td>\n",
       "      <td>Diabetes Mellitus, Noninsulin-Dependent; Niddm</td>\n",
       "    </tr>\n",
       "    <tr>\n",
       "      <th>2</th>\n",
       "      <td>Acarbose</td>\n",
       "      <td>Maturity-Onset Diabetes Of The Young, Type 1; ...</td>\n",
       "    </tr>\n",
       "    <tr>\n",
       "      <th>3</th>\n",
       "      <td>Acarbose</td>\n",
       "      <td>Maturity-Onset Diabetes Of The Young, Type 2; ...</td>\n",
       "    </tr>\n",
       "    <tr>\n",
       "      <th>4</th>\n",
       "      <td>Acarbose</td>\n",
       "      <td>Maturity-Onset Diabetes Of The Young, Type 3; ...</td>\n",
       "    </tr>\n",
       "  </tbody>\n",
       "</table>\n",
       "</div>"
      ],
      "text/plain": [
       "     Drug name                                       Disease name\n",
       "0  Acamprosate                                 Alcohol Dependence\n",
       "1     Acarbose     Diabetes Mellitus, Noninsulin-Dependent; Niddm\n",
       "2     Acarbose  Maturity-Onset Diabetes Of The Young, Type 1; ...\n",
       "3     Acarbose  Maturity-Onset Diabetes Of The Young, Type 2; ...\n",
       "4     Acarbose  Maturity-Onset Diabetes Of The Young, Type 3; ..."
      ]
     },
     "execution_count": 7,
     "metadata": {},
     "output_type": "execute_result"
    }
   ],
   "source": [
    "print(len(gold))\n",
    "print(\"drug : %d\" % len(gold.drop_duplicates(subset ='Drug name')))\n",
    "gold.head()"
   ]
  },
  {
   "cell_type": "code",
   "execution_count": 8,
   "metadata": {
    "collapsed": true
   },
   "outputs": [],
   "source": [
    "gold_drug_name = gold['Drug name'].drop_duplicates()"
   ]
  },
  {
   "cell_type": "code",
   "execution_count": 9,
   "metadata": {
    "collapsed": false
   },
   "outputs": [
    {
     "name": "stdout",
     "output_type": "stream",
     "text": [
      "560\n"
     ]
    },
    {
     "data": {
      "text/html": [
       "<div>\n",
       "<table border=\"1\" class=\"dataframe\">\n",
       "  <thead>\n",
       "    <tr style=\"text-align: right;\">\n",
       "      <th></th>\n",
       "      <th>DrugBank ID</th>\n",
       "      <th>Accession Numbers</th>\n",
       "      <th>Common name</th>\n",
       "      <th>CAS</th>\n",
       "      <th>UNII</th>\n",
       "      <th>Synonyms</th>\n",
       "      <th>Standard InChI Key</th>\n",
       "    </tr>\n",
       "  </thead>\n",
       "  <tbody>\n",
       "    <tr>\n",
       "      <th>6</th>\n",
       "      <td>DB00007</td>\n",
       "      <td>BTD00009 | BIOD00009</td>\n",
       "      <td>Leuprolide</td>\n",
       "      <td>53714-56-0</td>\n",
       "      <td>EFY6W0M8TG</td>\n",
       "      <td>(D-Leu(6),des-gly-NH2(10),pro-ethylamide(9))-g...</td>\n",
       "      <td>NaN</td>\n",
       "    </tr>\n",
       "    <tr>\n",
       "      <th>9</th>\n",
       "      <td>DB00010</td>\n",
       "      <td>BTD00033 | BIOD00033</td>\n",
       "      <td>Sermorelin</td>\n",
       "      <td>86168-78-7</td>\n",
       "      <td>89243S03TE</td>\n",
       "      <td>NaN</td>\n",
       "      <td>NaN</td>\n",
       "    </tr>\n",
       "    <tr>\n",
       "      <th>13</th>\n",
       "      <td>DB00014</td>\n",
       "      <td>BTD00113 | BIOD00113</td>\n",
       "      <td>Goserelin</td>\n",
       "      <td>65807-02-5</td>\n",
       "      <td>0F65R8P09N</td>\n",
       "      <td>Goserelin | Goserelin acetate | ICI-118630 | Z...</td>\n",
       "      <td>BLCLNMBMMGCOAS-URPVMXJPSA-N</td>\n",
       "    </tr>\n",
       "    <tr>\n",
       "      <th>16</th>\n",
       "      <td>DB00017</td>\n",
       "      <td>BTD00025 | BIOD00025</td>\n",
       "      <td>Salmon Calcitonin</td>\n",
       "      <td>47931-85-1</td>\n",
       "      <td>7SFC6U2VI5</td>\n",
       "      <td>Calcimar | Calcitonin (Salmon Synthetic) | Cal...</td>\n",
       "      <td>NaN</td>\n",
       "    </tr>\n",
       "    <tr>\n",
       "      <th>34</th>\n",
       "      <td>DB00035</td>\n",
       "      <td>BTD00112 | BTD00061 | BIOD00112 | BIOD00061</td>\n",
       "      <td>Desmopressin</td>\n",
       "      <td>16679-58-6</td>\n",
       "      <td>ENR1LLB0FP</td>\n",
       "      <td>1-(3-mercaptopropionic acid)-8-D-arginine-vaso...</td>\n",
       "      <td>NFLWUMRGJYTJIN-NXBWRCJVSA-N</td>\n",
       "    </tr>\n",
       "  </tbody>\n",
       "</table>\n",
       "</div>"
      ],
      "text/plain": [
       "   DrugBank ID                            Accession Numbers  \\\n",
       "6      DB00007                         BTD00009 | BIOD00009   \n",
       "9      DB00010                         BTD00033 | BIOD00033   \n",
       "13     DB00014                         BTD00113 | BIOD00113   \n",
       "16     DB00017                         BTD00025 | BIOD00025   \n",
       "34     DB00035  BTD00112 | BTD00061 | BIOD00112 | BIOD00061   \n",
       "\n",
       "          Common name         CAS        UNII  \\\n",
       "6          Leuprolide  53714-56-0  EFY6W0M8TG   \n",
       "9          Sermorelin  86168-78-7  89243S03TE   \n",
       "13          Goserelin  65807-02-5  0F65R8P09N   \n",
       "16  Salmon Calcitonin  47931-85-1  7SFC6U2VI5   \n",
       "34       Desmopressin  16679-58-6  ENR1LLB0FP   \n",
       "\n",
       "                                             Synonyms  \\\n",
       "6   (D-Leu(6),des-gly-NH2(10),pro-ethylamide(9))-g...   \n",
       "9                                                 NaN   \n",
       "13  Goserelin | Goserelin acetate | ICI-118630 | Z...   \n",
       "16  Calcimar | Calcitonin (Salmon Synthetic) | Cal...   \n",
       "34  1-(3-mercaptopropionic acid)-8-D-arginine-vaso...   \n",
       "\n",
       "             Standard InChI Key  \n",
       "6                           NaN  \n",
       "9                           NaN  \n",
       "13  BLCLNMBMMGCOAS-URPVMXJPSA-N  \n",
       "16                          NaN  \n",
       "34  NFLWUMRGJYTJIN-NXBWRCJVSA-N  "
      ]
     },
     "execution_count": 9,
     "metadata": {},
     "output_type": "execute_result"
    }
   ],
   "source": [
    "flag = drugbank['Common name'].isin(gold_drug_name)\n",
    "gold_drug_name_in_drug_bank = drugbank[flag]\n",
    "print(len(gold_drug_name_in_drug_bank))\n",
    "gold_drug_name_in_drug_bank.head()"
   ]
  },
  {
   "cell_type": "code",
   "execution_count": 10,
   "metadata": {
    "collapsed": true
   },
   "outputs": [],
   "source": [
    "id_name = pd.DataFrame({'DrugBank_ID': gold_drug_name_in_drug_bank['DrugBank ID'], 'Drug_Name': gold_drug_name_in_drug_bank['Common name']})"
   ]
  },
  {
   "cell_type": "code",
   "execution_count": 11,
   "metadata": {
    "collapsed": false
   },
   "outputs": [
    {
     "name": "stdout",
     "output_type": "stream",
     "text": [
      "560\n"
     ]
    },
    {
     "data": {
      "text/html": [
       "<div>\n",
       "<table border=\"1\" class=\"dataframe\">\n",
       "  <thead>\n",
       "    <tr style=\"text-align: right;\">\n",
       "      <th></th>\n",
       "      <th>DrugBank_ID</th>\n",
       "      <th>Drug_Name</th>\n",
       "    </tr>\n",
       "  </thead>\n",
       "  <tbody>\n",
       "    <tr>\n",
       "      <th>6</th>\n",
       "      <td>DB00007</td>\n",
       "      <td>Leuprolide</td>\n",
       "    </tr>\n",
       "    <tr>\n",
       "      <th>9</th>\n",
       "      <td>DB00010</td>\n",
       "      <td>Sermorelin</td>\n",
       "    </tr>\n",
       "    <tr>\n",
       "      <th>13</th>\n",
       "      <td>DB00014</td>\n",
       "      <td>Goserelin</td>\n",
       "    </tr>\n",
       "    <tr>\n",
       "      <th>16</th>\n",
       "      <td>DB00017</td>\n",
       "      <td>Salmon Calcitonin</td>\n",
       "    </tr>\n",
       "    <tr>\n",
       "      <th>34</th>\n",
       "      <td>DB00035</td>\n",
       "      <td>Desmopressin</td>\n",
       "    </tr>\n",
       "  </tbody>\n",
       "</table>\n",
       "</div>"
      ],
      "text/plain": [
       "   DrugBank_ID          Drug_Name\n",
       "6      DB00007         Leuprolide\n",
       "9      DB00010         Sermorelin\n",
       "13     DB00014          Goserelin\n",
       "16     DB00017  Salmon Calcitonin\n",
       "34     DB00035       Desmopressin"
      ]
     },
     "execution_count": 11,
     "metadata": {},
     "output_type": "execute_result"
    }
   ],
   "source": [
    "print(len(id_name))\n",
    "id_name.head()"
   ]
  },
  {
   "cell_type": "code",
   "execution_count": 12,
   "metadata": {
    "collapsed": false
   },
   "outputs": [],
   "source": [
    "flag2 = gold['Drug name'].isin(gold_drug_name_in_drug_bank['Common name'])\n",
    "gold_drug_name_not_in_drug_bank = gold[~flag2].drop_duplicates(subset='Drug name')"
   ]
  },
  {
   "cell_type": "code",
   "execution_count": 13,
   "metadata": {
    "collapsed": false
   },
   "outputs": [
    {
     "name": "stdout",
     "output_type": "stream",
     "text": [
      "33\n"
     ]
    },
    {
     "data": {
      "text/html": [
       "<div>\n",
       "<table border=\"1\" class=\"dataframe\">\n",
       "  <thead>\n",
       "    <tr style=\"text-align: right;\">\n",
       "      <th></th>\n",
       "      <th>Drug name</th>\n",
       "      <th>Disease name</th>\n",
       "    </tr>\n",
       "  </thead>\n",
       "  <tbody>\n",
       "    <tr>\n",
       "      <th>26</th>\n",
       "      <td>Adenosine Monophosphate</td>\n",
       "      <td>Wolff-Parkinson-White Syndrome</td>\n",
       "    </tr>\n",
       "    <tr>\n",
       "      <th>28</th>\n",
       "      <td>Alendronate</td>\n",
       "      <td>Acroosteolysis With Osteoporosis And Changes I...</td>\n",
       "    </tr>\n",
       "    <tr>\n",
       "      <th>82</th>\n",
       "      <td>Arsenic Trioxide</td>\n",
       "      <td>Mismatch Repair Cancer Syndrome</td>\n",
       "    </tr>\n",
       "    <tr>\n",
       "      <th>83</th>\n",
       "      <td>Aspirin</td>\n",
       "      <td>Antiphospholipid Syndrome, Familial</td>\n",
       "    </tr>\n",
       "    <tr>\n",
       "      <th>127</th>\n",
       "      <td>Beclomethasone</td>\n",
       "      <td>Asthma, Nasal Polyps, And Aspirin Intolerance</td>\n",
       "    </tr>\n",
       "    <tr>\n",
       "      <th>144</th>\n",
       "      <td>Benztropine</td>\n",
       "      <td>Dementia/Parkinsonism With Non-Alzheimer Amylo...</td>\n",
       "    </tr>\n",
       "    <tr>\n",
       "      <th>168</th>\n",
       "      <td>Bismuth</td>\n",
       "      <td>Helicobacter Pylori Infection, Susceptibility To</td>\n",
       "    </tr>\n",
       "    <tr>\n",
       "      <th>364</th>\n",
       "      <td>Clobetasol</td>\n",
       "      <td>Dermatosis Papulosa Nigra</td>\n",
       "    </tr>\n",
       "    <tr>\n",
       "      <th>404</th>\n",
       "      <td>Conjugated Estrogens</td>\n",
       "      <td>Acroosteolysis With Osteoporosis And Changes I...</td>\n",
       "    </tr>\n",
       "    <tr>\n",
       "      <th>411</th>\n",
       "      <td>Cromoglicate</td>\n",
       "      <td>Asthma, Nasal Polyps, And Aspirin Intolerance</td>\n",
       "    </tr>\n",
       "    <tr>\n",
       "      <th>515</th>\n",
       "      <td>Dibucaine</td>\n",
       "      <td>Insensitivity To Pain With Hyperplastic Myelin...</td>\n",
       "    </tr>\n",
       "    <tr>\n",
       "      <th>563</th>\n",
       "      <td>Divalproex Sodium</td>\n",
       "      <td>Migraine With Or Without Aura, Susceptibility ...</td>\n",
       "    </tr>\n",
       "    <tr>\n",
       "      <th>670</th>\n",
       "      <td>Ethacrynic Acid</td>\n",
       "      <td>Alpers Diffuse Degeneration Of Cerebral Gray M...</td>\n",
       "    </tr>\n",
       "    <tr>\n",
       "      <th>774</th>\n",
       "      <td>Fondaparinux Sodium</td>\n",
       "      <td>Thrombosis, Susceptibility To</td>\n",
       "    </tr>\n",
       "    <tr>\n",
       "      <th>823</th>\n",
       "      <td>Glibenclamide</td>\n",
       "      <td>Diabetes Mellitus, Noninsulin-Dependent; Niddm</td>\n",
       "    </tr>\n",
       "    <tr>\n",
       "      <th>847</th>\n",
       "      <td>Guanadrel Sulfate</td>\n",
       "      <td>Hypertension, Diastolic, Resistance To</td>\n",
       "    </tr>\n",
       "    <tr>\n",
       "      <th>857</th>\n",
       "      <td>Halobetasol Propionate</td>\n",
       "      <td>Growth Retardation, Small And Puffy Hands And ...</td>\n",
       "    </tr>\n",
       "    <tr>\n",
       "      <th>949</th>\n",
       "      <td>Ipratropium</td>\n",
       "      <td>Asthma, Nasal Polyps, And Aspirin Intolerance</td>\n",
       "    </tr>\n",
       "    <tr>\n",
       "      <th>963</th>\n",
       "      <td>Isoetharine</td>\n",
       "      <td>Asthma, Nasal Polyps, And Aspirin Intolerance</td>\n",
       "    </tr>\n",
       "    <tr>\n",
       "      <th>966</th>\n",
       "      <td>Isoproterenol</td>\n",
       "      <td>Asthma, Nasal Polyps, And Aspirin Intolerance</td>\n",
       "    </tr>\n",
       "    <tr>\n",
       "      <th>1088</th>\n",
       "      <td>Marinol</td>\n",
       "      <td>Autoimmune Disease</td>\n",
       "    </tr>\n",
       "    <tr>\n",
       "      <th>1094</th>\n",
       "      <td>Meclofenamic Acid</td>\n",
       "      <td>Insensitivity To Pain With Hyperplastic Myelin...</td>\n",
       "    </tr>\n",
       "    <tr>\n",
       "      <th>1095</th>\n",
       "      <td>Medroxyprogesterone</td>\n",
       "      <td>Acroosteolysis With Osteoporosis And Changes I...</td>\n",
       "    </tr>\n",
       "    <tr>\n",
       "      <th>1100</th>\n",
       "      <td>Megestrol</td>\n",
       "      <td>Autoimmune Disease</td>\n",
       "    </tr>\n",
       "    <tr>\n",
       "      <th>1115</th>\n",
       "      <td>Meperidine</td>\n",
       "      <td>Insensitivity To Pain With Hyperplastic Myelin...</td>\n",
       "    </tr>\n",
       "    <tr>\n",
       "      <th>1163</th>\n",
       "      <td>Methyl Aminolevulinate</td>\n",
       "      <td>Ankylosing Vertebral Hyperostosis With Tylosis</td>\n",
       "    </tr>\n",
       "    <tr>\n",
       "      <th>1166</th>\n",
       "      <td>Methylergonovine</td>\n",
       "      <td>Migraine With Or Without Aura, Susceptibility ...</td>\n",
       "    </tr>\n",
       "    <tr>\n",
       "      <th>1288</th>\n",
       "      <td>Norethindrone</td>\n",
       "      <td>Acroosteolysis With Osteoporosis And Changes I...</td>\n",
       "    </tr>\n",
       "    <tr>\n",
       "      <th>1528</th>\n",
       "      <td>Propoxyphene</td>\n",
       "      <td>Insensitivity To Pain With Hyperplastic Myelin...</td>\n",
       "    </tr>\n",
       "    <tr>\n",
       "      <th>1581</th>\n",
       "      <td>Rifampin</td>\n",
       "      <td>Leprosy, Susceptibility To, 3; Lprs3</td>\n",
       "    </tr>\n",
       "    <tr>\n",
       "      <th>1611</th>\n",
       "      <td>Salicyclic Acid</td>\n",
       "      <td>Ankylosing Vertebral Hyperostosis With Tylosis</td>\n",
       "    </tr>\n",
       "    <tr>\n",
       "      <th>1730</th>\n",
       "      <td>Thioguanine</td>\n",
       "      <td>Leukemia, Acute Myeloid; Aml</td>\n",
       "    </tr>\n",
       "    <tr>\n",
       "      <th>1912</th>\n",
       "      <td>Zoledronate</td>\n",
       "      <td>Acroosteolysis With Osteoporosis And Changes I...</td>\n",
       "    </tr>\n",
       "  </tbody>\n",
       "</table>\n",
       "</div>"
      ],
      "text/plain": [
       "                    Drug name  \\\n",
       "26    Adenosine Monophosphate   \n",
       "28                Alendronate   \n",
       "82           Arsenic Trioxide   \n",
       "83                    Aspirin   \n",
       "127            Beclomethasone   \n",
       "144               Benztropine   \n",
       "168                   Bismuth   \n",
       "364                Clobetasol   \n",
       "404      Conjugated Estrogens   \n",
       "411              Cromoglicate   \n",
       "515                 Dibucaine   \n",
       "563         Divalproex Sodium   \n",
       "670           Ethacrynic Acid   \n",
       "774       Fondaparinux Sodium   \n",
       "823             Glibenclamide   \n",
       "847         Guanadrel Sulfate   \n",
       "857    Halobetasol Propionate   \n",
       "949               Ipratropium   \n",
       "963               Isoetharine   \n",
       "966             Isoproterenol   \n",
       "1088                  Marinol   \n",
       "1094        Meclofenamic Acid   \n",
       "1095      Medroxyprogesterone   \n",
       "1100                Megestrol   \n",
       "1115               Meperidine   \n",
       "1163   Methyl Aminolevulinate   \n",
       "1166         Methylergonovine   \n",
       "1288            Norethindrone   \n",
       "1528             Propoxyphene   \n",
       "1581                 Rifampin   \n",
       "1611          Salicyclic Acid   \n",
       "1730              Thioguanine   \n",
       "1912              Zoledronate   \n",
       "\n",
       "                                           Disease name  \n",
       "26                       Wolff-Parkinson-White Syndrome  \n",
       "28    Acroosteolysis With Osteoporosis And Changes I...  \n",
       "82                      Mismatch Repair Cancer Syndrome  \n",
       "83                  Antiphospholipid Syndrome, Familial  \n",
       "127       Asthma, Nasal Polyps, And Aspirin Intolerance  \n",
       "144   Dementia/Parkinsonism With Non-Alzheimer Amylo...  \n",
       "168    Helicobacter Pylori Infection, Susceptibility To  \n",
       "364                           Dermatosis Papulosa Nigra  \n",
       "404   Acroosteolysis With Osteoporosis And Changes I...  \n",
       "411       Asthma, Nasal Polyps, And Aspirin Intolerance  \n",
       "515   Insensitivity To Pain With Hyperplastic Myelin...  \n",
       "563   Migraine With Or Without Aura, Susceptibility ...  \n",
       "670   Alpers Diffuse Degeneration Of Cerebral Gray M...  \n",
       "774                       Thrombosis, Susceptibility To  \n",
       "823      Diabetes Mellitus, Noninsulin-Dependent; Niddm  \n",
       "847              Hypertension, Diastolic, Resistance To  \n",
       "857   Growth Retardation, Small And Puffy Hands And ...  \n",
       "949       Asthma, Nasal Polyps, And Aspirin Intolerance  \n",
       "963       Asthma, Nasal Polyps, And Aspirin Intolerance  \n",
       "966       Asthma, Nasal Polyps, And Aspirin Intolerance  \n",
       "1088                                 Autoimmune Disease  \n",
       "1094  Insensitivity To Pain With Hyperplastic Myelin...  \n",
       "1095  Acroosteolysis With Osteoporosis And Changes I...  \n",
       "1100                                 Autoimmune Disease  \n",
       "1115  Insensitivity To Pain With Hyperplastic Myelin...  \n",
       "1163     Ankylosing Vertebral Hyperostosis With Tylosis  \n",
       "1166  Migraine With Or Without Aura, Susceptibility ...  \n",
       "1288  Acroosteolysis With Osteoporosis And Changes I...  \n",
       "1528  Insensitivity To Pain With Hyperplastic Myelin...  \n",
       "1581               Leprosy, Susceptibility To, 3; Lprs3  \n",
       "1611     Ankylosing Vertebral Hyperostosis With Tylosis  \n",
       "1730                       Leukemia, Acute Myeloid; Aml  \n",
       "1912  Acroosteolysis With Osteoporosis And Changes I...  "
      ]
     },
     "execution_count": 13,
     "metadata": {},
     "output_type": "execute_result"
    }
   ],
   "source": [
    "print(len(gold_drug_name_not_in_drug_bank['Drug name'].drop_duplicates()))\n",
    "gold_drug_name_not_in_drug_bank"
   ]
  },
  {
   "cell_type": "code",
   "execution_count": 14,
   "metadata": {
    "collapsed": false
   },
   "outputs": [],
   "source": [
    "id_name.to_csv(\"/home/share/aschoi/data/Drug_Repositioning/7_new_association/1_PREDICT_drug_name_to_DrugBank_id\", sep='\\t', index=False)"
   ]
  },
  {
   "cell_type": "code",
   "execution_count": 15,
   "metadata": {
    "collapsed": false
   },
   "outputs": [
    {
     "data": {
      "text/html": [
       "<div>\n",
       "<table border=\"1\" class=\"dataframe\">\n",
       "  <thead>\n",
       "    <tr style=\"text-align: right;\">\n",
       "      <th></th>\n",
       "      <th>Drug name</th>\n",
       "      <th>Disease name</th>\n",
       "    </tr>\n",
       "  </thead>\n",
       "  <tbody>\n",
       "    <tr>\n",
       "      <th>1611</th>\n",
       "      <td>Salicyclic Acid</td>\n",
       "      <td>Ankylosing Vertebral Hyperostosis With Tylosis</td>\n",
       "    </tr>\n",
       "    <tr>\n",
       "      <th>1612</th>\n",
       "      <td>Salicyclic Acid</td>\n",
       "      <td>Dermatosis Papulosa Nigra</td>\n",
       "    </tr>\n",
       "    <tr>\n",
       "      <th>1613</th>\n",
       "      <td>Salicyclic Acid</td>\n",
       "      <td>Insensitivity To Pain With Hyperplastic Myelin...</td>\n",
       "    </tr>\n",
       "    <tr>\n",
       "      <th>1614</th>\n",
       "      <td>Salicyclic Acid</td>\n",
       "      <td>Pyogenic Sterile Arthritis, Pyoderma Gangrenos...</td>\n",
       "    </tr>\n",
       "  </tbody>\n",
       "</table>\n",
       "</div>"
      ],
      "text/plain": [
       "            Drug name                                       Disease name\n",
       "1611  Salicyclic Acid     Ankylosing Vertebral Hyperostosis With Tylosis\n",
       "1612  Salicyclic Acid                          Dermatosis Papulosa Nigra\n",
       "1613  Salicyclic Acid  Insensitivity To Pain With Hyperplastic Myelin...\n",
       "1614  Salicyclic Acid  Pyogenic Sterile Arthritis, Pyoderma Gangrenos..."
      ]
     },
     "execution_count": 15,
     "metadata": {},
     "output_type": "execute_result"
    }
   ],
   "source": [
    "gold[gold['Drug name'].str.contains('Salicyclic Acid')]"
   ]
  },
  {
   "cell_type": "code",
   "execution_count": 16,
   "metadata": {
    "collapsed": true
   },
   "outputs": [],
   "source": [
    "#########33개에 대해서는 수작업으로 이루어짐.############"
   ]
  },
  {
   "cell_type": "code",
   "execution_count": 17,
   "metadata": {
    "collapsed": true
   },
   "outputs": [],
   "source": [
    "#############PREDCIT disease와 OMIM id matching#########"
   ]
  },
  {
   "cell_type": "code",
   "execution_count": 3,
   "metadata": {
    "collapsed": true
   },
   "outputs": [],
   "source": [
    "omim = pd.read_excel(\"/home/share/aschoi/data/Drug_Repositioning/7_new_association/PREDICT_S6 Mapping between OMIM disease and UMLS concepts.xls\")"
   ]
  },
  {
   "cell_type": "code",
   "execution_count": 19,
   "metadata": {
    "collapsed": false
   },
   "outputs": [
    {
     "name": "stdout",
     "output_type": "stream",
     "text": [
      "617\n"
     ]
    },
    {
     "data": {
      "text/html": [
       "<div>\n",
       "<table border=\"1\" class=\"dataframe\">\n",
       "  <thead>\n",
       "    <tr style=\"text-align: right;\">\n",
       "      <th></th>\n",
       "      <th>OMIM ID</th>\n",
       "      <th>OMIM disease name</th>\n",
       "      <th>UMLS concept ID</th>\n",
       "      <th>UMLS concept name</th>\n",
       "    </tr>\n",
       "  </thead>\n",
       "  <tbody>\n",
       "    <tr>\n",
       "      <th>0</th>\n",
       "      <td>102100</td>\n",
       "      <td>Acromegaloid Changes, Cutis Verticis Gyrata, A...</td>\n",
       "      <td>C1868756</td>\n",
       "      <td>Corneal leukoma</td>\n",
       "    </tr>\n",
       "    <tr>\n",
       "      <th>1</th>\n",
       "      <td>102100</td>\n",
       "      <td>Acromegaloid Changes, Cutis Verticis Gyrata, A...</td>\n",
       "      <td>C0263417</td>\n",
       "      <td>Cutis verticis gyrata</td>\n",
       "    </tr>\n",
       "    <tr>\n",
       "      <th>2</th>\n",
       "      <td>102300</td>\n",
       "      <td>Restless Legs Syndrome, Susceptibility To, 1; ...</td>\n",
       "      <td>C0035258</td>\n",
       "      <td>Restless Legs Syndrome</td>\n",
       "    </tr>\n",
       "    <tr>\n",
       "      <th>3</th>\n",
       "      <td>102300</td>\n",
       "      <td>Restless Legs Syndrome, Susceptibility To, 1; ...</td>\n",
       "      <td>C1876177</td>\n",
       "      <td>RLS1 (Ekbom Syndrome)</td>\n",
       "    </tr>\n",
       "    <tr>\n",
       "      <th>4</th>\n",
       "      <td>102400</td>\n",
       "      <td>Acroosteolysis</td>\n",
       "      <td>C0917990</td>\n",
       "      <td>Acroosteolysis (Acro-Osteolysis)</td>\n",
       "    </tr>\n",
       "  </tbody>\n",
       "</table>\n",
       "</div>"
      ],
      "text/plain": [
       "   OMIM ID                                  OMIM disease name UMLS concept ID  \\\n",
       "0   102100  Acromegaloid Changes, Cutis Verticis Gyrata, A...        C1868756   \n",
       "1   102100  Acromegaloid Changes, Cutis Verticis Gyrata, A...        C0263417   \n",
       "2   102300  Restless Legs Syndrome, Susceptibility To, 1; ...        C0035258   \n",
       "3   102300  Restless Legs Syndrome, Susceptibility To, 1; ...        C1876177   \n",
       "4   102400                                     Acroosteolysis        C0917990   \n",
       "\n",
       "                  UMLS concept name  \n",
       "0                   Corneal leukoma  \n",
       "1             Cutis verticis gyrata  \n",
       "2            Restless Legs Syndrome  \n",
       "3             RLS1 (Ekbom Syndrome)  \n",
       "4  Acroosteolysis (Acro-Osteolysis)  "
      ]
     },
     "execution_count": 19,
     "metadata": {},
     "output_type": "execute_result"
    }
   ],
   "source": [
    "print(len(omim))\n",
    "omim.head()"
   ]
  },
  {
   "cell_type": "code",
   "execution_count": 20,
   "metadata": {
    "collapsed": true
   },
   "outputs": [],
   "source": [
    "gold_disease_name = gold['Disease name'].drop_duplicates()"
   ]
  },
  {
   "cell_type": "code",
   "execution_count": 21,
   "metadata": {
    "collapsed": false
   },
   "outputs": [
    {
     "name": "stdout",
     "output_type": "stream",
     "text": [
      "313\n"
     ]
    }
   ],
   "source": [
    "print(len(gold_disease_name))"
   ]
  },
  {
   "cell_type": "code",
   "execution_count": 22,
   "metadata": {
    "collapsed": false
   },
   "outputs": [],
   "source": [
    "gold_disease_name_in_omim=omim[omim['OMIM disease name'].isin(gold_disease_name)]"
   ]
  },
  {
   "cell_type": "code",
   "execution_count": 23,
   "metadata": {
    "collapsed": false
   },
   "outputs": [],
   "source": [
    "temp_omimid_disease_name = pd.DataFrame({'OMIM_ID':gold_disease_name_in_omim['OMIM ID'], 'Disease_Name':gold_disease_name_in_omim['OMIM disease name']})"
   ]
  },
  {
   "cell_type": "code",
   "execution_count": 24,
   "metadata": {
    "collapsed": false
   },
   "outputs": [],
   "source": [
    "omimid_disease_name=temp_omimid_disease_name.drop_duplicates()"
   ]
  },
  {
   "cell_type": "code",
   "execution_count": 25,
   "metadata": {
    "collapsed": false
   },
   "outputs": [
    {
     "name": "stdout",
     "output_type": "stream",
     "text": [
      "312\n"
     ]
    },
    {
     "data": {
      "text/html": [
       "<div>\n",
       "<table border=\"1\" class=\"dataframe\">\n",
       "  <thead>\n",
       "    <tr style=\"text-align: right;\">\n",
       "      <th></th>\n",
       "      <th>Disease_Name</th>\n",
       "      <th>OMIM_ID</th>\n",
       "    </tr>\n",
       "  </thead>\n",
       "  <tbody>\n",
       "    <tr>\n",
       "      <th>0</th>\n",
       "      <td>Acromegaloid Changes, Cutis Verticis Gyrata, A...</td>\n",
       "      <td>102100</td>\n",
       "    </tr>\n",
       "    <tr>\n",
       "      <th>2</th>\n",
       "      <td>Restless Legs Syndrome, Susceptibility To, 1; ...</td>\n",
       "      <td>102300</td>\n",
       "    </tr>\n",
       "    <tr>\n",
       "      <th>4</th>\n",
       "      <td>Acroosteolysis</td>\n",
       "      <td>102400</td>\n",
       "    </tr>\n",
       "    <tr>\n",
       "      <th>5</th>\n",
       "      <td>Acroosteolysis With Osteoporosis And Changes I...</td>\n",
       "      <td>102500</td>\n",
       "    </tr>\n",
       "    <tr>\n",
       "      <th>9</th>\n",
       "      <td>Adie Pupil</td>\n",
       "      <td>103100</td>\n",
       "    </tr>\n",
       "  </tbody>\n",
       "</table>\n",
       "</div>"
      ],
      "text/plain": [
       "                                        Disease_Name  OMIM_ID\n",
       "0  Acromegaloid Changes, Cutis Verticis Gyrata, A...   102100\n",
       "2  Restless Legs Syndrome, Susceptibility To, 1; ...   102300\n",
       "4                                     Acroosteolysis   102400\n",
       "5  Acroosteolysis With Osteoporosis And Changes I...   102500\n",
       "9                                         Adie Pupil   103100"
      ]
     },
     "execution_count": 25,
     "metadata": {},
     "output_type": "execute_result"
    }
   ],
   "source": [
    "print(len(omimid_disease_name))\n",
    "omimid_disease_name.head()"
   ]
  },
  {
   "cell_type": "code",
   "execution_count": 93,
   "metadata": {
    "collapsed": true
   },
   "outputs": [],
   "source": [
    "omimid_disease_name.to_csv(\"/home/share/aschoi/data/Drug_Repositioning/7_new_association/2_PREDICT_disease_name_to_OMIM_id\", sep='\\t', index=False)"
   ]
  },
  {
   "cell_type": "code",
   "execution_count": null,
   "metadata": {
    "collapsed": true
   },
   "outputs": [],
   "source": [
    "#########여기서 exact matchingdl 안된 하나를 수작업으로 추가했음.#########"
   ]
  },
  {
   "cell_type": "code",
   "execution_count": null,
   "metadata": {
    "collapsed": true
   },
   "outputs": [],
   "source": [
    "###########DrugNet과의 중복 체크###########"
   ]
  },
  {
   "cell_type": "code",
   "execution_count": 5,
   "metadata": {
    "collapsed": false
   },
   "outputs": [],
   "source": [
    "DrugBank_Drug = pd.read_table(\"/home/share/aschoi/data/Drug_Repositioning/7_new_association/1_PREDICT_drug_name_to_DrugBank_id.tsv\")\n",
    "OMIM_Disease = pd.read_table(\"/home/share/aschoi/data/Drug_Repositioning/7_new_association/2_PREDICT_disease_name_to_OMIM_id.tsv\")"
   ]
  },
  {
   "cell_type": "code",
   "execution_count": 6,
   "metadata": {
    "collapsed": false
   },
   "outputs": [
    {
     "data": {
      "text/html": [
       "<div>\n",
       "<table border=\"1\" class=\"dataframe\">\n",
       "  <thead>\n",
       "    <tr style=\"text-align: right;\">\n",
       "      <th></th>\n",
       "      <th>DrugBank_ID</th>\n",
       "      <th>Drug_Name</th>\n",
       "    </tr>\n",
       "  </thead>\n",
       "  <tbody>\n",
       "  </tbody>\n",
       "</table>\n",
       "</div>"
      ],
      "text/plain": [
       "Empty DataFrame\n",
       "Columns: [DrugBank_ID, Drug_Name]\n",
       "Index: []"
      ]
     },
     "execution_count": 6,
     "metadata": {},
     "output_type": "execute_result"
    }
   ],
   "source": [
    "DrugBank_Drug.head(0)"
   ]
  },
  {
   "cell_type": "code",
   "execution_count": 7,
   "metadata": {
    "collapsed": false
   },
   "outputs": [
    {
     "data": {
      "text/html": [
       "<div>\n",
       "<table border=\"1\" class=\"dataframe\">\n",
       "  <thead>\n",
       "    <tr style=\"text-align: right;\">\n",
       "      <th></th>\n",
       "      <th>Disease_Name</th>\n",
       "      <th>OMIM_ID</th>\n",
       "    </tr>\n",
       "  </thead>\n",
       "  <tbody>\n",
       "  </tbody>\n",
       "</table>\n",
       "</div>"
      ],
      "text/plain": [
       "Empty DataFrame\n",
       "Columns: [Disease_Name, OMIM_ID]\n",
       "Index: []"
      ]
     },
     "execution_count": 7,
     "metadata": {},
     "output_type": "execute_result"
    }
   ],
   "source": [
    "OMIM_Disease.head(0)"
   ]
  },
  {
   "cell_type": "code",
   "execution_count": 8,
   "metadata": {
    "collapsed": false
   },
   "outputs": [
    {
     "data": {
      "text/html": [
       "<div>\n",
       "<table border=\"1\" class=\"dataframe\">\n",
       "  <thead>\n",
       "    <tr style=\"text-align: right;\">\n",
       "      <th></th>\n",
       "      <th>Drug name</th>\n",
       "      <th>Disease name</th>\n",
       "    </tr>\n",
       "  </thead>\n",
       "  <tbody>\n",
       "    <tr>\n",
       "      <th>0</th>\n",
       "      <td>Acamprosate</td>\n",
       "      <td>Alcohol Dependence</td>\n",
       "    </tr>\n",
       "    <tr>\n",
       "      <th>1</th>\n",
       "      <td>Acarbose</td>\n",
       "      <td>Diabetes Mellitus, Noninsulin-Dependent; Niddm</td>\n",
       "    </tr>\n",
       "    <tr>\n",
       "      <th>2</th>\n",
       "      <td>Acarbose</td>\n",
       "      <td>Maturity-Onset Diabetes Of The Young, Type 1; ...</td>\n",
       "    </tr>\n",
       "    <tr>\n",
       "      <th>3</th>\n",
       "      <td>Acarbose</td>\n",
       "      <td>Maturity-Onset Diabetes Of The Young, Type 2; ...</td>\n",
       "    </tr>\n",
       "    <tr>\n",
       "      <th>4</th>\n",
       "      <td>Acarbose</td>\n",
       "      <td>Maturity-Onset Diabetes Of The Young, Type 3; ...</td>\n",
       "    </tr>\n",
       "  </tbody>\n",
       "</table>\n",
       "</div>"
      ],
      "text/plain": [
       "     Drug name                                       Disease name\n",
       "0  Acamprosate                                 Alcohol Dependence\n",
       "1     Acarbose     Diabetes Mellitus, Noninsulin-Dependent; Niddm\n",
       "2     Acarbose  Maturity-Onset Diabetes Of The Young, Type 1; ...\n",
       "3     Acarbose  Maturity-Onset Diabetes Of The Young, Type 2; ...\n",
       "4     Acarbose  Maturity-Onset Diabetes Of The Young, Type 3; ..."
      ]
     },
     "execution_count": 8,
     "metadata": {},
     "output_type": "execute_result"
    }
   ],
   "source": [
    "gold.head(5)"
   ]
  },
  {
   "cell_type": "code",
   "execution_count": 9,
   "metadata": {
    "collapsed": false
   },
   "outputs": [],
   "source": [
    "asso = pd.DataFrame()\n",
    "for index, row in gold.iterrows():\n",
    "    drug_name = row['Drug name']\n",
    "    disease_name = row['Disease name']\n",
    "    df_drug_id = DrugBank_Drug[DrugBank_Drug.Drug_Name == drug_name]\n",
    "    drug_id = df_drug_id['DrugBank_ID'].tolist()\n",
    "    df_disease_id = OMIM_Disease[OMIM_Disease.Disease_Name==disease_name]\n",
    "    disease_id = df_disease_id['OMIM_ID'].tolist()\n",
    "    if drug_id ==[]:\n",
    "        continue\n",
    "    temp_df = pd.DataFrame([[drug_id[0], disease_id[0]]], columns=['DrugBank_ID', 'OMIM_ID'])\n",
    "    asso = asso.append(temp_df)"
   ]
  },
  {
   "cell_type": "code",
   "execution_count": 10,
   "metadata": {
    "collapsed": false
   },
   "outputs": [],
   "source": [
    "asso.index = range(0, len(asso))"
   ]
  },
  {
   "cell_type": "code",
   "execution_count": 11,
   "metadata": {
    "collapsed": false
   },
   "outputs": [
    {
     "name": "stdout",
     "output_type": "stream",
     "text": [
      "1920\n",
      "1920\n"
     ]
    },
    {
     "data": {
      "text/html": [
       "<div>\n",
       "<table border=\"1\" class=\"dataframe\">\n",
       "  <thead>\n",
       "    <tr style=\"text-align: right;\">\n",
       "      <th></th>\n",
       "      <th>DrugBank_ID</th>\n",
       "      <th>OMIM_ID</th>\n",
       "    </tr>\n",
       "  </thead>\n",
       "  <tbody>\n",
       "    <tr>\n",
       "      <th>0</th>\n",
       "      <td>DB00659</td>\n",
       "      <td>103780</td>\n",
       "    </tr>\n",
       "  </tbody>\n",
       "</table>\n",
       "</div>"
      ],
      "text/plain": [
       "  DrugBank_ID  OMIM_ID\n",
       "0     DB00659   103780"
      ]
     },
     "execution_count": 11,
     "metadata": {},
     "output_type": "execute_result"
    }
   ],
   "source": [
    "print(len(asso))\n",
    "print(len(asso.drop_duplicates()))\n",
    "asso.head(1)"
   ]
  },
  {
   "cell_type": "code",
   "execution_count": 168,
   "metadata": {
    "collapsed": true
   },
   "outputs": [],
   "source": [
    "asso.to_csv(\"/home/share/aschoi/data/Drug_Repositioning/7_new_association/3_PREDICT_id_association.tsv\", sep='\\t', index=False)"
   ]
  },
  {
   "cell_type": "code",
   "execution_count": 12,
   "metadata": {
    "collapsed": true
   },
   "outputs": [],
   "source": [
    "biRandom = pd.read_excel(\"/home/share/aschoi/data/Drug_Repositioning/7_new_association/bi_random_walk_Cdataset.xls\")\n",
    "drugnet = pd.read_excel(\"/home/share/aschoi/data/Drug_Repositioning/7_new_association/DrugNet.xls\")"
   ]
  },
  {
   "cell_type": "code",
   "execution_count": 14,
   "metadata": {
    "collapsed": false
   },
   "outputs": [
    {
     "name": "stdout",
     "output_type": "stream",
     "text": [
      "5930\n"
     ]
    },
    {
     "data": {
      "text/html": [
       "<div>\n",
       "<table border=\"1\" class=\"dataframe\">\n",
       "  <thead>\n",
       "    <tr style=\"text-align: right;\">\n",
       "      <th></th>\n",
       "      <th>Drug IDs(DrugBank)</th>\n",
       "      <th>Disease IDs(OMIM)</th>\n",
       "    </tr>\n",
       "  </thead>\n",
       "  <tbody>\n",
       "    <tr>\n",
       "      <th>0</th>\n",
       "      <td>DB00007</td>\n",
       "      <td>192000</td>\n",
       "    </tr>\n",
       "    <tr>\n",
       "      <th>1</th>\n",
       "      <td>DB00007</td>\n",
       "      <td>184700</td>\n",
       "    </tr>\n",
       "    <tr>\n",
       "      <th>2</th>\n",
       "      <td>DB00007</td>\n",
       "      <td>102500</td>\n",
       "    </tr>\n",
       "    <tr>\n",
       "      <th>3</th>\n",
       "      <td>DB00007</td>\n",
       "      <td>241100</td>\n",
       "    </tr>\n",
       "    <tr>\n",
       "      <th>4</th>\n",
       "      <td>DB00007</td>\n",
       "      <td>311360</td>\n",
       "    </tr>\n",
       "  </tbody>\n",
       "</table>\n",
       "</div>"
      ],
      "text/plain": [
       "  Drug IDs(DrugBank)  Disease IDs(OMIM)\n",
       "0            DB00007             192000\n",
       "1            DB00007             184700\n",
       "2            DB00007             102500\n",
       "3            DB00007             241100\n",
       "4            DB00007             311360"
      ]
     },
     "execution_count": 14,
     "metadata": {},
     "output_type": "execute_result"
    }
   ],
   "source": [
    "print(len(biRandom))\n",
    "biRandom.head()"
   ]
  },
  {
   "cell_type": "code",
   "execution_count": 19,
   "metadata": {
    "collapsed": false
   },
   "outputs": [
    {
     "name": "stdout",
     "output_type": "stream",
     "text": [
      "1009\n"
     ]
    },
    {
     "data": {
      "text/html": [
       "<div>\n",
       "<table border=\"1\" class=\"dataframe\">\n",
       "  <thead>\n",
       "    <tr style=\"text-align: right;\">\n",
       "      <th></th>\n",
       "      <th>DrugNet drug-disease relations extracted from DrugBank indications field.</th>\n",
       "      <th>Unnamed: 1</th>\n",
       "    </tr>\n",
       "  </thead>\n",
       "  <tbody>\n",
       "    <tr>\n",
       "      <th>0</th>\n",
       "      <td>DRUGS</td>\n",
       "      <td>DISEASES</td>\n",
       "    </tr>\n",
       "    <tr>\n",
       "      <th>1</th>\n",
       "      <td>MESALAZINE</td>\n",
       "      <td>PROCTITIS</td>\n",
       "    </tr>\n",
       "    <tr>\n",
       "      <th>2</th>\n",
       "      <td>SPECTINOMYCIN</td>\n",
       "      <td>PROCTITIS</td>\n",
       "    </tr>\n",
       "    <tr>\n",
       "      <th>3</th>\n",
       "      <td>ISOPROPAMIDE</td>\n",
       "      <td>FUNCTIONAL DIARRHEA</td>\n",
       "    </tr>\n",
       "    <tr>\n",
       "      <th>4</th>\n",
       "      <td>ETHOPROPAZINE</td>\n",
       "      <td>PARKINSON'S DISEASE</td>\n",
       "    </tr>\n",
       "  </tbody>\n",
       "</table>\n",
       "</div>"
      ],
      "text/plain": [
       "  DrugNet drug-disease relations extracted from DrugBank indications field.  \\\n",
       "0                                              DRUGS                          \n",
       "1                                         MESALAZINE                          \n",
       "2                                      SPECTINOMYCIN                          \n",
       "3                                       ISOPROPAMIDE                          \n",
       "4                                      ETHOPROPAZINE                          \n",
       "\n",
       "            Unnamed: 1  \n",
       "0             DISEASES  \n",
       "1            PROCTITIS  \n",
       "2            PROCTITIS  \n",
       "3  FUNCTIONAL DIARRHEA  \n",
       "4  PARKINSON'S DISEASE  "
      ]
     },
     "execution_count": 19,
     "metadata": {},
     "output_type": "execute_result"
    }
   ],
   "source": [
    "print(len(drugnet))\n",
    "drugnet.head()"
   ]
  },
  {
   "cell_type": "code",
   "execution_count": 23,
   "metadata": {
    "collapsed": false
   },
   "outputs": [
    {
     "data": {
      "text/plain": [
       "361"
      ]
     },
     "execution_count": 23,
     "metadata": {},
     "output_type": "execute_result"
    }
   ],
   "source": [
    "len(drugnet['Unnamed: 1'].drop_duplicates())"
   ]
  },
  {
   "cell_type": "code",
   "execution_count": 24,
   "metadata": {
    "collapsed": false
   },
   "outputs": [],
   "source": [
    "biRandom = biRandom.rename(columns={'Drug IDs(DrugBank)':'DrugBank_ID', 'Disease IDs(OMIM)':'OMIM_ID'})"
   ]
  },
  {
   "cell_type": "code",
   "execution_count": 25,
   "metadata": {
    "collapsed": false
   },
   "outputs": [
    {
     "name": "stdout",
     "output_type": "stream",
     "text": [
      "5930\n",
      "5930\n"
     ]
    },
    {
     "data": {
      "text/html": [
       "<div>\n",
       "<table border=\"1\" class=\"dataframe\">\n",
       "  <thead>\n",
       "    <tr style=\"text-align: right;\">\n",
       "      <th></th>\n",
       "      <th>DrugBank_ID</th>\n",
       "      <th>OMIM_ID</th>\n",
       "    </tr>\n",
       "  </thead>\n",
       "  <tbody>\n",
       "    <tr>\n",
       "      <th>0</th>\n",
       "      <td>DB00007</td>\n",
       "      <td>192000</td>\n",
       "    </tr>\n",
       "  </tbody>\n",
       "</table>\n",
       "</div>"
      ],
      "text/plain": [
       "  DrugBank_ID  OMIM_ID\n",
       "0     DB00007   192000"
      ]
     },
     "execution_count": 25,
     "metadata": {},
     "output_type": "execute_result"
    }
   ],
   "source": [
    "print(len(biRandom))\n",
    "print(len(biRandom.drop_duplicates()))\n",
    "biRandom.head(1)"
   ]
  },
  {
   "cell_type": "code",
   "execution_count": 26,
   "metadata": {
    "collapsed": false
   },
   "outputs": [
    {
     "name": "stdout",
     "output_type": "stream",
     "text": [
      "7850\n"
     ]
    },
    {
     "data": {
      "text/html": [
       "<div>\n",
       "<table border=\"1\" class=\"dataframe\">\n",
       "  <thead>\n",
       "    <tr style=\"text-align: right;\">\n",
       "      <th></th>\n",
       "      <th>DrugBank_ID</th>\n",
       "      <th>OMIM_ID</th>\n",
       "    </tr>\n",
       "  </thead>\n",
       "  <tbody>\n",
       "    <tr>\n",
       "      <th>0</th>\n",
       "      <td>DB00659</td>\n",
       "      <td>103780</td>\n",
       "    </tr>\n",
       "    <tr>\n",
       "      <th>1</th>\n",
       "      <td>DB00284</td>\n",
       "      <td>125853</td>\n",
       "    </tr>\n",
       "    <tr>\n",
       "      <th>2</th>\n",
       "      <td>DB00284</td>\n",
       "      <td>125850</td>\n",
       "    </tr>\n",
       "    <tr>\n",
       "      <th>3</th>\n",
       "      <td>DB00284</td>\n",
       "      <td>125851</td>\n",
       "    </tr>\n",
       "    <tr>\n",
       "      <th>4</th>\n",
       "      <td>DB00284</td>\n",
       "      <td>600496</td>\n",
       "    </tr>\n",
       "  </tbody>\n",
       "</table>\n",
       "</div>"
      ],
      "text/plain": [
       "  DrugBank_ID  OMIM_ID\n",
       "0     DB00659   103780\n",
       "1     DB00284   125853\n",
       "2     DB00284   125850\n",
       "3     DB00284   125851\n",
       "4     DB00284   600496"
      ]
     },
     "execution_count": 26,
     "metadata": {},
     "output_type": "execute_result"
    }
   ],
   "source": [
    "frames = [asso, biRandom]\n",
    "merged = pd.concat(frames)\n",
    "print(len(merged))\n",
    "merged.head()"
   ]
  },
  {
   "cell_type": "code",
   "execution_count": 18,
   "metadata": {
    "collapsed": false
   },
   "outputs": [
    {
     "name": "stdout",
     "output_type": "stream",
     "text": [
      "7850\n"
     ]
    }
   ],
   "source": [
    "print(len(merged.drop_duplicates()))"
   ]
  },
  {
   "cell_type": "code",
   "execution_count": 161,
   "metadata": {
    "collapsed": true
   },
   "outputs": [],
   "source": [
    "asso2 = pd.DataFrame() # gold에 있는 데이터 인데 drug Net에는 없는 것\n",
    "for index, row in asso.iterrows():\n",
    "    query = row.tolist()\n",
    "    flag = dru\n",
    "    gNet.query('@query[0]==DrugBank_ID and @query[1]==OMIM_ID').empty\n",
    "    if flag: # 비어있으면\n",
    "        asso2 = asso2.append(row)"
   ]
  },
  {
   "cell_type": "code",
   "execution_count": 162,
   "metadata": {
    "collapsed": false
   },
   "outputs": [],
   "source": [
    "asso3 = pd.DataFrame() # gold에 있는 데이터 인데 drug Net에는 없는 것\n",
    "for index, row in asso.iterrows():\n",
    "    query = row.tolist()\n",
    "    flag = drugNet.query('@query[0]==DrugBank_ID and @query[1]==OMIM_ID').empty\n",
    "    if not flag: # 있으면\n",
    "        asso3 = asso3.append(row)"
   ]
  },
  {
   "cell_type": "code",
   "execution_count": 163,
   "metadata": {
    "collapsed": false
   },
   "outputs": [
    {
     "name": "stdout",
     "output_type": "stream",
     "text": [
      "1920\n",
      "0\n"
     ]
    }
   ],
   "source": [
    "print(len(asso2))\n",
    "print(len(asso3))"
   ]
  },
  {
   "cell_type": "code",
   "execution_count": 164,
   "metadata": {
    "collapsed": true
   },
   "outputs": [],
   "source": [
    "new_asso = pd.DataFrame() # drugNet에 있는 데이터 인데 gold에는 없는 것\n",
    "for index, row in drugNet.iterrows():\n",
    "    query = row.tolist()\n",
    "    flag = asso.query('@query[0]==DrugBank_ID and @query[1]==OMIM_ID').empty\n",
    "    if flag: # 있으면\n",
    "        new_asso = new_asso.append(row)"
   ]
  },
  {
   "cell_type": "code",
   "execution_count": 166,
   "metadata": {
    "collapsed": false
   },
   "outputs": [
    {
     "data": {
      "text/plain": [
       "5930"
      ]
     },
     "execution_count": 166,
     "metadata": {},
     "output_type": "execute_result"
    }
   ],
   "source": [
    "len(new_asso)"
   ]
  },
  {
   "cell_type": "code",
   "execution_count": 169,
   "metadata": {
    "collapsed": false
   },
   "outputs": [
    {
     "name": "stdout",
     "output_type": "stream",
     "text": [
      "593\n",
      "286\n"
     ]
    }
   ],
   "source": [
    "print(len(drugNet.drop_duplicates(subset='DrugBank_ID')))\n",
    "print(len(drugNet.drop_duplicates(subset='OMIM_ID')))"
   ]
  },
  {
   "cell_type": "code",
   "execution_count": null,
   "metadata": {
    "collapsed": true
   },
   "outputs": [],
   "source": []
  }
 ],
 "metadata": {
  "kernelspec": {
   "display_name": "Python 3",
   "language": "python",
   "name": "python3"
  },
  "language_info": {
   "codemirror_mode": {
    "name": "ipython",
    "version": 3
   },
   "file_extension": ".py",
   "mimetype": "text/x-python",
   "name": "python",
   "nbconvert_exporter": "python",
   "pygments_lexer": "ipython3",
   "version": "3.4.3"
  }
 },
 "nbformat": 4,
 "nbformat_minor": 0
}
