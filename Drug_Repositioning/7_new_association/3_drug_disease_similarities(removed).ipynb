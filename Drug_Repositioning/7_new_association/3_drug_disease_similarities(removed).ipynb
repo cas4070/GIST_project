{
 "cells": [
  {
   "cell_type": "code",
   "execution_count": 1,
   "metadata": {
    "collapsed": true
   },
   "outputs": [],
   "source": [
    "import numpy as np\n",
    "import pandas as pd\n",
    "from datetime import datetime\n",
    "from sklearn.metrics import jaccard_similarity_score"
   ]
  },
  {
   "cell_type": "code",
   "execution_count": 2,
   "metadata": {
    "collapsed": true
   },
   "outputs": [],
   "source": [
    "desc = pd.read_table(\"/DAS_Storage1/aschoi/data/Drug_Repositioning/8_new_training/2_1_2_removed_descriptor.tsv\")"
   ]
  },
  {
   "cell_type": "code",
   "execution_count": 3,
   "metadata": {
    "collapsed": true
   },
   "outputs": [],
   "source": [
    "drug_mat = pd.read_table(\"/DAS_Storage1/aschoi/data/Drug_Repositioning/5_new_drug/8_gold_standard_drug_binary_matrix.tsv\", index_col=0)"
   ]
  },
  {
   "cell_type": "code",
   "execution_count": 16,
   "metadata": {
    "collapsed": false
   },
   "outputs": [
    {
     "name": "stdout",
     "output_type": "stream",
     "text": [
      "1847 3521\n"
     ]
    }
   ],
   "source": [
    "#2017.3.15. drug feature를 independent feature 만큼만 제한하기\n",
    "drug_feature = desc.columns.values[3:1850]\n",
    "disease_feature = desc.columns.values[1850:]\n",
    "print len(drug_feature), len(disease_feature)"
   ]
  },
  {
   "cell_type": "code",
   "execution_count": 19,
   "metadata": {
    "collapsed": false
   },
   "outputs": [],
   "source": [
    "# removed drug feature와 drug의 matrix\n",
    "drug_mat2 = drug_mat.filter(items = drug_feature, axis=0)"
   ]
  },
  {
   "cell_type": "code",
   "execution_count": 20,
   "metadata": {
    "collapsed": false
   },
   "outputs": [
    {
     "name": "stdout",
     "output_type": "stream",
     "text": [
      "start : 2017-03-15 15:37:19\n",
      "cnt == 100 : 2017-03-15 15:38:44\n",
      "cnt == 200 : 2017-03-15 15:40:30\n",
      "cnt == 300 : 2017-03-15 15:42:39\n",
      "cnt == 400 : 2017-03-15 15:45:11\n",
      "end : 2017-03-15 15:47:13\n"
     ]
    }
   ],
   "source": [
    "#2017.3.15 drug-drug_similarity 구하기(removed)\n",
    "gold_drug_id = drug_mat2.columns.values\n",
    "df_dr_sim = pd.DataFrame()\n",
    "mat_dr_sim = pd.DataFrame(columns = gold_drug_id, index = gold_drug_id)\n",
    "cnt = 0\n",
    "print 'start : ' + datetime.now().strftime('%Y-%m-%d %H:%M:%S')\n",
    "for i in gold_drug_id:\n",
    "    desc1 = drug_mat2[i]\n",
    "    for j in gold_drug_id:\n",
    "        desc2 = drug_mat2[j]\n",
    "        \n",
    "        sim = jaccard_similarity_score(desc1, desc2)\n",
    "        \n",
    "        #dataframe형\n",
    "        temp_df = pd.DataFrame(data= [[i, j , sim]], columns=['Drug_id1', 'Drug_id2', 'Similarity'])\n",
    "        df_dr_sim = df_dr_sim.append(temp_df)\n",
    "        # matrix형\n",
    "        mat_dr_sim[i].ix[j] = sim\n",
    "    cnt = cnt + 1\n",
    "    if cnt % 100 == 0:\n",
    "        print 'cnt == {} : '.format(cnt) + datetime.now().strftime('%Y-%m-%d %H:%M:%S')\n",
    "print 'end : ' + datetime.now().strftime('%Y-%m-%d %H:%M:%S')"
   ]
  },
  {
   "cell_type": "code",
   "execution_count": 22,
   "metadata": {
    "collapsed": true
   },
   "outputs": [],
   "source": [
    "df_dr_sim.to_csv(\"/home/share/aschoi/nas/users/asolchoi/data/Drug_Repositioning/5_new_drug/10_2_gold_drug_drug_sim_removed.tsv\", sep='\\t', index=False)\n",
    "df_dr_sim.to_csv(\"/DAS_Storage1/aschoi/data/Drug_Repositioning/5_new_drug/10_2_gold_drug_drug_sim_removed.tsv\", sep='\\t', index=False)\n",
    "mat_dr_sim.to_csv(\"/home/share/aschoi/nas/users/asolchoi/data/Drug_Repositioning/5_new_drug/10_2_gold_drug_drug_sim_mat_removed.tsv\", sep='\\t')\n",
    "mat_dr_sim.to_csv(\"/DAS_Storage1/aschoi/data/Drug_Repositioning/5_new_drug/10_2_gold_drug_drug_sim_mat_removed.tsv\", sep='\\t')"
   ]
  },
  {
   "cell_type": "code",
   "execution_count": 21,
   "metadata": {
    "collapsed": true
   },
   "outputs": [],
   "source": [
    "# disease는 feature의 변화가 없으니 이전에 구해둔 것으로 해도 된다."
   ]
  },
  {
   "cell_type": "code",
   "execution_count": 3,
   "metadata": {
    "collapsed": true
   },
   "outputs": [],
   "source": [
    "#2017.3.15. drug-disease similarity #normalize 안함.\n",
    "df_dr_sim = pd.read_table(\"/DAS_Storage1/aschoi/data/Drug_Repositioning/5_new_drug/10_2_gold_drug_drug_sim_removed.tsv\")\n",
    "df_di_sim = pd.read_table(\"/DAS_Storage1/aschoi/data/Drug_Repositioning/6_new_disease/10_gold_disease_disease_sim.tsv\")\n",
    "df_asso = pd.read_table(\"/DAS_Storage1/aschoi/data/Drug_Repositioning/7_new_association/7_gold_association.tsv\")"
   ]
  },
  {
   "cell_type": "code",
   "execution_count": 90,
   "metadata": {
    "collapsed": false
   },
   "outputs": [
    {
     "name": "stdout",
     "output_type": "stream",
     "text": [
      "start : 2017-03-20 21:14:17\n",
      "cnt == 100 : 2017-03-20 21:14:51\n",
      "cnt == 200 : 2017-03-20 21:15:25\n",
      "cnt == 300 : 2017-03-20 21:15:59\n",
      "cnt == 400 : 2017-03-20 21:16:33\n",
      "end : 2017-03-20 21:16:57\n"
     ]
    }
   ],
   "source": [
    "gold_drug_id = df_asso['drug_id'].drop_duplicates().tolist()\n",
    "gold_disease_id = df_asso['disease_id'].drop_duplicates().tolist()\n",
    "di_dr_mat = pd.DataFrame(columns = gold_drug_id, index= gold_disease_id) #di에 대한 dr의 distance보기\n",
    "cnt = 0 \n",
    "print 'start : ' + datetime.now().strftime('%Y-%m-%d %H:%M:%S')\n",
    "for i in gold_drug_id:\n",
    "    other_drugs_sim = df_dr_sim[(df_dr_sim.Drug_id1 == i) & (df_dr_sim.Drug_id2 != i)] # 검사할 drug를 제외한 다른 drug들\n",
    "    for j in gold_disease_id:\n",
    "        target_disease = df_asso[(df_asso.disease_id ==int(j))] # 검사할 disease\n",
    "        flags = other_drugs_sim['Drug_id2'].isin(target_disease['drug_id']) # 검사할 disease와 다른 drug들의 association여부\n",
    "        sum_selected_drug = other_drugs_sim[flags]['Similarity'].sum() # association이 있는 것들의 합\n",
    "        #sum_all_drug = other_drugs_sim['Similarity'].sum() # similarity의 전체 합\n",
    "        #norm = sum_selected_drug / sum_all_drug #normalize한 값\n",
    "        di_dr_mat[i].ix[j] = sum_selected_drug\n",
    "    cnt = cnt + 1\n",
    "    if cnt % 100 == 0:\n",
    "        print 'cnt == {} : '.format(cnt) + datetime.now().strftime('%Y-%m-%d %H:%M:%S')\n",
    "print 'end : ' + datetime.now().strftime('%Y-%m-%d %H:%M:%S')"
   ]
  },
  {
   "cell_type": "code",
   "execution_count": 91,
   "metadata": {
    "collapsed": false
   },
   "outputs": [
    {
     "name": "stdout",
     "output_type": "stream",
     "text": [
      "start : 2017-03-20 21:16:57\n",
      "cnt == 100 : 2017-03-20 21:18:04\n",
      "cnt == 200 : 2017-03-20 21:19:11\n",
      "end : 2017-03-20 21:19:35\n"
     ]
    }
   ],
   "source": [
    "#2017.3.15. disease-drug similarity #normalize 안한 버전\n",
    "dr_di_mat = pd.DataFrame(columns = gold_drug_id, index= gold_disease_id) #dr에 대한 di의 distance보기\n",
    "cnt = 0 \n",
    "print 'start : ' + datetime.now().strftime('%Y-%m-%d %H:%M:%S')\n",
    "for i in gold_disease_id:\n",
    "    other_diseases_sim = df_di_sim[(df_di_sim.Disease_id1 == int(i)) & (df_di_sim.Disease_id2 != int(i))] # 검사할 disease를 제외한 다른 disease들\n",
    "    for j in gold_drug_id:\n",
    "        target_drug = df_asso[(df_asso.drug_id ==j)] # 검사할 drug\n",
    "        flags = other_diseases_sim['Disease_id2'].isin(target_drug['disease_id']) # 검사할 drug와 다른 disease들의 association여부\n",
    "        sum_selected_disease = other_diseases_sim[flags]['Similarity'].sum() # association이 있는 것들의 합\n",
    "        #sum_all_disease = other_diseases_sim['Similarity'].sum() # similarity의 전체 합\n",
    "        #norm = sum_selected_disease / sum_all_disease #normalize한 값\n",
    "        dr_di_mat[j].ix[i] = sum_selected_disease\n",
    "    cnt = cnt + 1\n",
    "    if cnt % 100 == 0:\n",
    "        print 'cnt == {} : '.format(cnt) + datetime.now().strftime('%Y-%m-%d %H:%M:%S')\n",
    "print 'end : ' + datetime.now().strftime('%Y-%m-%d %H:%M:%S')"
   ]
  },
  {
   "cell_type": "code",
   "execution_count": 92,
   "metadata": {
    "collapsed": false
   },
   "outputs": [
    {
     "name": "stdout",
     "output_type": "stream",
     "text": [
      "start : 2017-03-20 21:19:35\n",
      "cnt == 100 : 2017-03-20 21:19:42\n",
      "cnt == 200 : 2017-03-20 21:19:49\n",
      "cnt == 300 : 2017-03-20 21:19:57\n",
      "cnt == 400 : 2017-03-20 21:20:04\n",
      "end : 2017-03-20 21:20:09\n"
     ]
    }
   ],
   "source": [
    "bef_distance = -(di_dr_mat+dr_di_mat)\n",
    "distance_mat = pd.DataFrame(columns = bef_distance.columns.values, index = bef_distance.index.values)\n",
    "cnt = 0 \n",
    "print 'start : ' + datetime.now().strftime('%Y-%m-%d %H:%M:%S')\n",
    "for i in bef_distance.columns.values:\n",
    "    for j in bef_distance.index.values:\n",
    "        a = bef_distance[i].ix[j]\n",
    "        distance = np.exp(a)\n",
    "        distance_mat[i].ix[j] = distance\n",
    "    cnt = cnt + 1\n",
    "    if cnt % 100 == 0:\n",
    "        print 'cnt == {} : '.format(cnt) + datetime.now().strftime('%Y-%m-%d %H:%M:%S')\n",
    "print 'end : ' + datetime.now().strftime('%Y-%m-%d %H:%M:%S')"
   ]
  },
  {
   "cell_type": "code",
   "execution_count": 7,
   "metadata": {
    "collapsed": false
   },
   "outputs": [
    {
     "name": "stdout",
     "output_type": "stream",
     "text": [
      "0.0\n",
      "67.4206821873\n",
      "0.0\n",
      "18.7744958819\n",
      "0.0\n",
      "80.7863062172\n",
      "-80.7863062172\n",
      "0.0\n",
      "8.22153663889e-36\n",
      "1.0\n"
     ]
    }
   ],
   "source": [
    "print di_dr_mat.min().min() #drisease-drug sim의 최소값\n",
    "print di_dr_mat.max().max() #disease-drug sim의 최대값\n",
    "print dr_di_mat.min().min() #drug-disease sim의 최소값\n",
    "print dr_di_mat.max().max() #drug-disease sim의 최소값\n",
    "print (di_dr_mat + dr_di_mat).min().min() #위 두 결과를 더한 matrix의 최소값 (sim의 합의 최소값)\n",
    "print (di_dr_mat + dr_di_mat).max().max() #위 두 결과를 더한 matrix의 최대값 (sim의 합의 최대값)\n",
    "print bef_distance.min().min() #  - (sim의 합의 최대값)--> 최소값 --> 이 값을 exp에 넣으면 거리는 최소가 됨.\n",
    "print bef_distance.max().max() #  - (sim의 합의 최소값)--> 최대값 --> 이 값을 exp에 넣으면 거리는 최대가 됨.\n",
    "print np.exp(bef_distance.min().min()) #거리의 최소값 = 가까운 거리\n",
    "print np.exp(bef_distance.max().max()) # 거리의 최대값 = 먼 거리"
   ]
  },
  {
   "cell_type": "code",
   "execution_count": 36,
   "metadata": {
    "collapsed": true
   },
   "outputs": [],
   "source": [
    "distance_mat.to_csv(\"/DAS_Storage1/aschoi/data/Drug_Repositioning/7_new_association/12_1_drug_disease_distance_removed.tsv\", sep='\\t')\n",
    "distance_mat.to_csv(\"/home/share/aschoi/nas/users/asolchoi/data/Drug_Repositioning/7_new_association/12_1_drug_disease_distance_removed.tsv\", sep='\\t')"
   ]
  },
  {
   "cell_type": "code",
   "execution_count": 166,
   "metadata": {
    "collapsed": false
   },
   "outputs": [
    {
     "name": "stdout",
     "output_type": "stream",
     "text": [
      "110685\n"
     ]
    }
   ],
   "source": [
    "# Similarity histogram (2017.3.20. 추가)\n",
    "summed_sim = list()\n",
    "for index, row in (di_dr_mat + dr_di_mat).iterrows():\n",
    "    for l in row:\n",
    "        summed_sim.append(l)\n",
    "print len(summed_sim) # drug (471) * disease(235)"
   ]
  },
  {
   "cell_type": "code",
   "execution_count": 171,
   "metadata": {
    "collapsed": false,
    "scrolled": true
   },
   "outputs": [
    {
     "data": {
      "text/plain": [
       "<matplotlib.text.Text at 0x7f3a824c3110>"
      ]
     },
     "execution_count": 171,
     "metadata": {},
     "output_type": "execute_result"
    },
    {
     "data": {
      "image/png": "[encoded data removed]",
      "text/plain": [
       "<matplotlib.figure.Figure at 0x7f3a82405c10>"
      ]
     },
     "metadata": {},
     "output_type": "display_data"
    }
   ],
   "source": [
    "# Similarity 분포를 보려고 (2017.3.20. 추가)\n",
    "import matplotlib.pyplot as plt\n",
    "import numpy as np\n",
    "import plotly.plotly as py\n",
    "%matplotlib inline\n",
    "#num_bins = 30\n",
    "#plt.hist(summed_sim, num_bins)\n",
    "plt.scatter(summed_sim, val) ## sim이 낮을 수록 거리가 멀다.\n",
    "plt.xlabel(\"Similarity\")\n",
    "plt.ylabel(\"Distance\")\n",
    "#plt.xlim(0,20)\n",
    "#plt.ylim(0, 0.2)\n",
    "#plt.ylim(0.10, 0.14)"
   ]
  },
  {
   "cell_type": "code",
   "execution_count": 172,
   "metadata": {
    "collapsed": false
   },
   "outputs": [
    {
     "data": {
      "text/plain": [
       "(array([  7.39880000e+04,   2.84380000e+04,   5.02000000e+03,\n",
       "          1.71100000e+03,   1.10000000e+02,   6.80000000e+01,\n",
       "          7.34000000e+02,   3.17000000e+02,   2.90000000e+02,\n",
       "          9.00000000e+00]),\n",
       " array([  0.        ,   8.07863062,  16.15726124,  24.23589187,\n",
       "         32.31452249,  40.39315311,  48.47178373,  56.55041435,\n",
       "         64.62904497,  72.7076756 ,  80.78630622]),\n",
       " <a list of 10 Patch objects>)"
      ]
     },
     "execution_count": 172,
     "metadata": {},
     "output_type": "execute_result"
    },
    {
     "data": {
      "image/png": "[encoded data removed]",
      "text/plain": [
       "<matplotlib.figure.Figure at 0x7f3b10b35850>"
      ]
     },
     "metadata": {},
     "output_type": "display_data"
    }
   ],
   "source": [
    "plt.hist(summed_sim)"
   ]
  },
  {
   "cell_type": "code",
   "execution_count": 160,
   "metadata": {
    "collapsed": false
   },
   "outputs": [
    {
     "name": "stdout",
     "output_type": "stream",
     "text": [
      "9332\n",
      "9332\n",
      "9332\n",
      "9107\n"
     ]
    }
   ],
   "source": [
    "print sum(np.array(val) > 0.11)\n",
    "print sum(np.array(val) > 0.12)\n",
    "print sum(np.array(val) > 0.13)\n",
    "print sum(np.array(val) > 0.14)"
   ]
  },
  {
   "cell_type": "code",
   "execution_count": 145,
   "metadata": {
    "collapsed": false
   },
   "outputs": [
    {
     "data": {
      "text/plain": [
       "9339"
      ]
     },
     "execution_count": 145,
     "metadata": {},
     "output_type": "execute_result"
    }
   ],
   "source": [
    "np.array(val)\n",
    "sum(np.sort(np.array(val)) > 0.1)"
   ]
  },
  {
   "cell_type": "code",
   "execution_count": 137,
   "metadata": {
    "collapsed": false
   },
   "outputs": [
    {
     "data": {
      "text/plain": [
       "15"
      ]
     },
     "execution_count": 137,
     "metadata": {},
     "output_type": "execute_result"
    }
   ],
   "source": [
    "sum(np.sort(np.array(summed_sim) < 0.9162907))"
   ]
  },
  {
   "cell_type": "code",
   "execution_count": 68,
   "metadata": {
    "collapsed": false
   },
   "outputs": [
    {
     "data": {
      "text/plain": [
       "15"
      ]
     },
     "execution_count": 68,
     "metadata": {},
     "output_type": "execute_result"
    }
   ],
   "source": [
    "len(np_distance[np_distance>0.4])"
   ]
  },
  {
   "cell_type": "code",
   "execution_count": 140,
   "metadata": {
    "collapsed": false
   },
   "outputs": [
    {
     "data": {
      "text/plain": [
       "2"
      ]
     },
     "execution_count": 140,
     "metadata": {},
     "output_type": "execute_result"
    }
   ],
   "source": [
    "sum(np_summed_sim == 1)"
   ]
  },
  {
   "cell_type": "code",
   "execution_count": 143,
   "metadata": {
    "collapsed": false
   },
   "outputs": [
    {
     "data": {
      "text/plain": [
       "(array([  7.39880000e+04,   2.84380000e+04,   5.02000000e+03,\n",
       "          1.71100000e+03,   1.10000000e+02,   6.80000000e+01,\n",
       "          7.34000000e+02,   3.17000000e+02,   2.90000000e+02,\n",
       "          9.00000000e+00]),\n",
       " array([  0.        ,   8.07863062,  16.15726124,  24.23589187,\n",
       "         32.31452249,  40.39315311,  48.47178373,  56.55041435,\n",
       "         64.62904497,  72.7076756 ,  80.78630622]),\n",
       " <a list of 10 Patch objects>)"
      ]
     },
     "execution_count": 143,
     "metadata": {},
     "output_type": "execute_result"
    },
    {
     "data": {
      "image/png": "[encoded data removed]",
      "text/plain": [
       "<matplotlib.figure.Figure at 0x7f3a7e956a90>"
      ]
     },
     "metadata": {},
     "output_type": "display_data"
    }
   ],
   "source": [
    "plt.hist(np.sort(np_summed_sim))"
   ]
  },
  {
   "cell_type": "code",
   "execution_count": 80,
   "metadata": {
    "collapsed": false
   },
   "outputs": [
    {
     "name": "stdout",
     "output_type": "stream",
     "text": [
      "84324\n"
     ]
    }
   ],
   "source": [
    "sim_less_10 = np_summed_sim[np_summed_sim<10] # 거리 먼애들\n",
    "print len(sim_less_10)"
   ]
  },
  {
   "cell_type": "code",
   "execution_count": 77,
   "metadata": {
    "collapsed": false
   },
   "outputs": [
    {
     "data": {
      "text/plain": [
       "1.0"
      ]
     },
     "execution_count": 77,
     "metadata": {},
     "output_type": "execute_result"
    }
   ],
   "source": [
    "np.exp(-sim_less_10).max() # 거리 최고로 먼해"
   ]
  },
  {
   "cell_type": "code",
   "execution_count": 78,
   "metadata": {
    "collapsed": false
   },
   "outputs": [
    {
     "data": {
      "text/plain": [
       "4.5428679944720644e-05"
      ]
     },
     "execution_count": 78,
     "metadata": {},
     "output_type": "execute_result"
    }
   ],
   "source": [
    "np.exp(-sim_less_10).min() # 거리 먼애들 중 최고로 작은애 "
   ]
  },
  {
   "cell_type": "code",
   "execution_count": 79,
   "metadata": {
    "collapsed": false
   },
   "outputs": [
    {
     "data": {
      "text/plain": [
       "<matplotlib.collections.PathCollection at 0x7f3a7d4181d0>"
      ]
     },
     "execution_count": 79,
     "metadata": {},
     "output_type": "execute_result"
    },
    {
     "data": {
      "image/png": "[encoded data removed]",
      "text/plain": [
       "<matplotlib.figure.Figure at 0x7f3a7d55df50>"
      ]
     },
     "metadata": {},
     "output_type": "display_data"
    }
   ],
   "source": [
    "plt.scatter(sim_less_10, np.exp(-sim_less_10))"
   ]
  },
  {
   "cell_type": "code",
   "execution_count": null,
   "metadata": {
    "collapsed": true
   },
   "outputs": [],
   "source": []
  },
  {
   "cell_type": "code",
   "execution_count": null,
   "metadata": {
    "collapsed": true
   },
   "outputs": [],
   "source": []
  },
  {
   "cell_type": "code",
   "execution_count": null,
   "metadata": {
    "collapsed": true
   },
   "outputs": [],
   "source": []
  },
  {
   "cell_type": "code",
   "execution_count": 168,
   "metadata": {
    "collapsed": false
   },
   "outputs": [
    {
     "data": {
      "text/plain": [
       "<matplotlib.collections.PathCollection at 0x7f3a82405b10>"
      ]
     },
     "execution_count": 168,
     "metadata": {},
     "output_type": "execute_result"
    },
    {
     "data": {
      "image/png": "[encoded data removed]",
      "text/plain": [
       "<matplotlib.figure.Figure at 0x7f3a7e969cd0>"
      ]
     },
     "metadata": {},
     "output_type": "display_data"
    }
   ],
   "source": [
    "plt.scatter(summed_sim, val)"
   ]
  },
  {
   "cell_type": "code",
   "execution_count": 58,
   "metadata": {
    "collapsed": false
   },
   "outputs": [
    {
     "data": {
      "text/plain": [
       "<matplotlib.collections.PathCollection at 0x7f3a7d6288d0>"
      ]
     },
     "execution_count": 58,
     "metadata": {},
     "output_type": "execute_result"
    },
    {
     "data": {
      "image/png": "[encoded data removed]",
      "text/plain": [
       "<matplotlib.figure.Figure at 0x7f3a7d6aae10>"
      ]
     },
     "metadata": {},
     "output_type": "display_data"
    }
   ],
   "source": [
    "plt.scatter(val, summed_sim)"
   ]
  },
  {
   "cell_type": "code",
   "execution_count": 22,
   "metadata": {
    "collapsed": false
   },
   "outputs": [],
   "source": [
    "np_summed_sim = np.array(summed_sim)"
   ]
  },
  {
   "cell_type": "code",
   "execution_count": 21,
   "metadata": {
    "collapsed": false
   },
   "outputs": [
    {
     "name": "stdout",
     "output_type": "stream",
     "text": [
      "80.7863062172\n",
      "80.7863062172\n",
      "1.0\n",
      "8.22153663889e-36\n"
     ]
    }
   ],
   "source": [
    "print max(summed_sim)\n",
    "print np_summed_sim.max()\n",
    "print max(np.exp(-np_summed_sim))\n",
    "print min(np.exp(-np_summed_sim))"
   ]
  },
  {
   "cell_type": "code",
   "execution_count": null,
   "metadata": {
    "collapsed": true
   },
   "outputs": [],
   "source": []
  },
  {
   "cell_type": "code",
   "execution_count": null,
   "metadata": {
    "collapsed": true
   },
   "outputs": [],
   "source": []
  },
  {
   "cell_type": "code",
   "execution_count": null,
   "metadata": {
    "collapsed": true
   },
   "outputs": [],
   "source": []
  },
  {
   "cell_type": "code",
   "execution_count": null,
   "metadata": {
    "collapsed": true
   },
   "outputs": [],
   "source": []
  },
  {
   "cell_type": "code",
   "execution_count": null,
   "metadata": {
    "collapsed": true
   },
   "outputs": [],
   "source": [
    "# TN 찾기 2017.3.15."
   ]
  },
  {
   "cell_type": "code",
   "execution_count": 170,
   "metadata": {
    "collapsed": false
   },
   "outputs": [
    {
     "name": "stdout",
     "output_type": "stream",
     "text": [
      "110685\n"
     ]
    }
   ],
   "source": [
    "# Distance histogram 그리기 (2017.3.17. 추가)\n",
    "val = list()\n",
    "for index, row in distance_mat.iterrows():\n",
    "    for k in row:\n",
    "        val.append(k)\n",
    "print len(val) # drug (471) * disease(235)"
   ]
  },
  {
   "cell_type": "code",
   "execution_count": 137,
   "metadata": {
    "collapsed": false
   },
   "outputs": [
    {
     "data": {
      "text/plain": [
       "(0, 0.2)"
      ]
     },
     "execution_count": 137,
     "metadata": {},
     "output_type": "execute_result"
    },
    {
     "data": {
      "image/png": "[encoded data removed]",
      "text/plain": [
       "<matplotlib.figure.Figure at 0x7f642dcbb390>"
      ]
     },
     "metadata": {},
     "output_type": "display_data"
    }
   ],
   "source": [
    "#거리가 0.2 이하인 애들의 분포를 보려고\n",
    "import matplotlib.pyplot as plt\n",
    "import numpy as np\n",
    "import plotly.plotly as py\n",
    "%matplotlib inline\n",
    "num_bins = 30\n",
    "plt.hist(val, num_bins)\n",
    "plt.xlim(0,0.2)"
   ]
  },
  {
   "cell_type": "code",
   "execution_count": 138,
   "metadata": {
    "collapsed": false
   },
   "outputs": [
    {
     "data": {
      "text/plain": [
       "(0, 20)"
      ]
     },
     "execution_count": 138,
     "metadata": {},
     "output_type": "execute_result"
    },
    {
     "data": {
      "image/png": "[encoded data removed]",
      "text/plain": [
       "<matplotlib.figure.Figure at 0x7f64b6775950>"
      ]
     },
     "metadata": {},
     "output_type": "display_data"
    }
   ],
   "source": [
    "#거리가 0.2 이상인 애들의 분포를 보려고\n",
    "num_bins = 20\n",
    "plt.hist(val, num_bins)\n",
    "plt.xlim(0,1)\n",
    "plt.ylim(0, 20)"
   ]
  },
  {
   "cell_type": "code",
   "execution_count": 139,
   "metadata": {
    "collapsed": false
   },
   "outputs": [
    {
     "name": "stdout",
     "output_type": "stream",
     "text": [
      "14340\n"
     ]
    }
   ],
   "source": [
    "a = pd.Series(val)\n",
    "sorted_a = a.sort_values(ascending=False)\n",
    "sorted_a.index = range(len(a))\n",
    "print len(sorted_a[:14340])  # positive set보다 10배 많게 만드려고."
   ]
  },
  {
   "cell_type": "code",
   "execution_count": 140,
   "metadata": {
    "collapsed": false
   },
   "outputs": [
    {
     "data": {
      "text/plain": [
       "14338    0.064765\n",
       "14339    0.064759\n",
       "dtype: float64"
      ]
     },
     "execution_count": 140,
     "metadata": {},
     "output_type": "execute_result"
    }
   ],
   "source": [
    "sorted_a[:14340].tail(2)"
   ]
  },
  {
   "cell_type": "code",
   "execution_count": 141,
   "metadata": {
    "collapsed": false
   },
   "outputs": [
    {
     "data": {
      "text/plain": [
       "0.06475940466960653"
      ]
     },
     "execution_count": 141,
     "metadata": {},
     "output_type": "execute_result"
    }
   ],
   "source": [
    "sorted_a[14340-1]"
   ]
  },
  {
   "cell_type": "code",
   "execution_count": 142,
   "metadata": {
    "collapsed": true
   },
   "outputs": [],
   "source": [
    "# 전체 distance matrix에서 거리가 0.1보다 큰 애들을 찾는다. (거리가 먼 애들)\n",
    "li_tn = list()\n",
    "for index, row in distance_mat.iterrows():\n",
    "    filtered = row[row> sorted_a[14339]] #14339는 1434개인 positive의 10배를 맞추기 위해 정한 수\n",
    "    if not filtered.empty:\n",
    "        li_tn.append([index, filtered.index.tolist()]) \n",
    "df_tn = pd.DataFrame()\n",
    "for i in li_tn:\n",
    "    for j in i[1]:\n",
    "        temp_df = pd.DataFrame(data = [[i[0], j]], columns = ['disease_id', 'drug_id'])\n",
    "        df_tn = df_tn.append(temp_df)"
   ]
  },
  {
   "cell_type": "code",
   "execution_count": 143,
   "metadata": {
    "collapsed": false
   },
   "outputs": [
    {
     "name": "stdout",
     "output_type": "stream",
     "text": [
      "14339\n",
      "14339\n",
      "102\n",
      "263\n"
     ]
    },
    {
     "data": {
      "text/html": [
       "<div>\n",
       "<table border=\"1\" class=\"dataframe\">\n",
       "  <thead>\n",
       "    <tr style=\"text-align: right;\">\n",
       "      <th></th>\n",
       "      <th>disease_id</th>\n",
       "      <th>drug_id</th>\n",
       "    </tr>\n",
       "  </thead>\n",
       "  <tbody>\n",
       "    <tr>\n",
       "      <th>0</th>\n",
       "      <td>102400</td>\n",
       "      <td>DB00659</td>\n",
       "    </tr>\n",
       "  </tbody>\n",
       "</table>\n",
       "</div>"
      ],
      "text/plain": [
       "   disease_id  drug_id\n",
       "0      102400  DB00659"
      ]
     },
     "execution_count": 143,
     "metadata": {},
     "output_type": "execute_result"
    }
   ],
   "source": [
    "print len(df_tn)\n",
    "print len(df_tn.drop_duplicates())\n",
    "print len(df_tn.drop_duplicates('disease_id'))\n",
    "print len(df_tn.drop_duplicates('drug_id'))\n",
    "df_tn.head(1)"
   ]
  },
  {
   "cell_type": "code",
   "execution_count": 144,
   "metadata": {
    "collapsed": false
   },
   "outputs": [
    {
     "name": "stdout",
     "output_type": "stream",
     "text": [
      "57\n"
     ]
    }
   ],
   "source": [
    "# 구한 TN이 positive associaion과 겹치는게 있는지 체크\n",
    "duplicated = pd.DataFrame()\n",
    "for index, row in df_asso.iterrows():\n",
    "    li_row = row.tolist()\n",
    "    temp = df_tn[(df_tn.disease_id == li_row[0]) & (df_tn.drug_id == li_row[1])]\n",
    "    if temp.empty:\n",
    "        continue\n",
    "    else:\n",
    "        duplicated = duplicated.append(temp)\n",
    "print len(duplicated)"
   ]
  },
  {
   "cell_type": "code",
   "execution_count": 145,
   "metadata": {
    "collapsed": true
   },
   "outputs": [],
   "source": [
    "# duplicated 를 제외한 나머지 dataframe \n",
    "duplicated['key'] = 0\n",
    "tt = pd.merge(left = df_tn, right = duplicated, how='left')\n",
    "df_tn2 = tt[tt.key != 0][['disease_id', 'drug_id']]"
   ]
  },
  {
   "cell_type": "code",
   "execution_count": 146,
   "metadata": {
    "collapsed": false
   },
   "outputs": [
    {
     "name": "stdout",
     "output_type": "stream",
     "text": [
      "14282\n",
      "14282\n",
      "94\n",
      "254\n"
     ]
    }
   ],
   "source": [
    "print len(df_tn2)\n",
    "print len(df_tn2.drop_duplicates())\n",
    "print len(df_tn2.drop_duplicates('disease_id'))\n",
    "print len(df_tn2.drop_duplicates('drug_id'))"
   ]
  },
  {
   "cell_type": "code",
   "execution_count": 147,
   "metadata": {
    "collapsed": true
   },
   "outputs": [],
   "source": [
    "df_tn2.to_csv(\"/home/share/aschoi/nas/users/asolchoi/data/Drug_Repositioning/7_new_association/12_1_2_true_negative_whole_removed.tsv\", sep='\\t', index=False)\n",
    "df_tn2.to_csv(\"/DAS_Storage1/aschoi/data/Drug_Repositioning/7_new_association/12_1_2_true_negative_whole_removed.tsv\", sep='\\t', index=False)"
   ]
  },
  {
   "cell_type": "code",
   "execution_count": 107,
   "metadata": {
    "collapsed": true
   },
   "outputs": [],
   "source": [
    "# di당 거리가 먼 dr을 일정비율로 뽑는다.\n",
    "li_tn_di = list()\n",
    "for index, row in distance_mat.iterrows():\n",
    "    idx = int(len(row)*0.1)\n",
    "    filtered = row.sort_values(ascending=False)[:idx]\n",
    "    li_tn_di.append([index, filtered.index.tolist()])\n",
    "\n",
    "df_tn_di = pd.DataFrame()\n",
    "for i in li_tn_di:\n",
    "    for j in i[1]:\n",
    "        temp_df = pd.DataFrame(data=[[i[0], j]], columns = ['disease_id', 'drug_id'])\n",
    "        df_tn_di= df_tn_di.append(temp_df)"
   ]
  },
  {
   "cell_type": "code",
   "execution_count": 108,
   "metadata": {
    "collapsed": false
   },
   "outputs": [
    {
     "name": "stdout",
     "output_type": "stream",
     "text": [
      "11045\n",
      "235\n",
      "252\n",
      "11045\n"
     ]
    },
    {
     "data": {
      "text/html": [
       "<div>\n",
       "<table border=\"1\" class=\"dataframe\">\n",
       "  <thead>\n",
       "    <tr style=\"text-align: right;\">\n",
       "      <th></th>\n",
       "      <th>disease_id</th>\n",
       "      <th>drug_id</th>\n",
       "    </tr>\n",
       "  </thead>\n",
       "  <tbody>\n",
       "    <tr>\n",
       "      <th>0</th>\n",
       "      <td>102300</td>\n",
       "      <td>DB00454</td>\n",
       "    </tr>\n",
       "    <tr>\n",
       "      <th>0</th>\n",
       "      <td>102300</td>\n",
       "      <td>DB01006</td>\n",
       "    </tr>\n",
       "  </tbody>\n",
       "</table>\n",
       "</div>"
      ],
      "text/plain": [
       "   disease_id  drug_id\n",
       "0      102300  DB00454\n",
       "0      102300  DB01006"
      ]
     },
     "execution_count": 108,
     "metadata": {},
     "output_type": "execute_result"
    }
   ],
   "source": [
    "print len(df_tn_di)\n",
    "print len(df_tn_di.drop_duplicates('disease_id'))\n",
    "print len(df_tn_di.drop_duplicates('drug_id'))\n",
    "print len(df_tn_di.drop_duplicates())\n",
    "df_tn_di.head(2)"
   ]
  },
  {
   "cell_type": "code",
   "execution_count": 109,
   "metadata": {
    "collapsed": true
   },
   "outputs": [],
   "source": [
    "# 구한 TN이 positive associaion과 겹치는게 있는지 체크\n",
    "duplicated = pd.DataFrame()\n",
    "for index, row in df_asso.iterrows():\n",
    "    li_row = row.tolist()\n",
    "    temp = df_tn_di[(df_tn_di.disease_id == li_row[0]) & (df_tn_di.drug_id == li_row[1])]\n",
    "    if temp.empty:\n",
    "        continue\n",
    "    else:\n",
    "        duplicated = duplicated.append(temp)"
   ]
  },
  {
   "cell_type": "code",
   "execution_count": 110,
   "metadata": {
    "collapsed": false
   },
   "outputs": [
    {
     "name": "stdout",
     "output_type": "stream",
     "text": [
      "321\n"
     ]
    }
   ],
   "source": [
    "print len(duplicated)"
   ]
  },
  {
   "cell_type": "code",
   "execution_count": 111,
   "metadata": {
    "collapsed": true
   },
   "outputs": [],
   "source": [
    "# duplicated 를 제외한 나머지 dataframe \n",
    "duplicated['key'] = 0\n",
    "tt = pd.merge(left = df_tn_di, right = duplicated, how='left')\n",
    "df_tn_di2 = tt[tt.key != 0][['disease_id', 'drug_id']]"
   ]
  },
  {
   "cell_type": "code",
   "execution_count": 113,
   "metadata": {
    "collapsed": false
   },
   "outputs": [],
   "source": [
    "df_tn_di2.to_csv(\"/home/share/aschoi/nas/users/asolchoi/data/Drug_Repositioning/7_new_association/12_2_3_true_negative_di_removed.tsv\", sep='\\t', index=False)\n",
    "df_tn_di2.to_csv(\"/DAS_Storage1/aschoi/data/Drug_Repositioning/7_new_association/12_2_3_true_negative_di_removed.tsv\", sep='\\t', index=False)"
   ]
  },
  {
   "cell_type": "code",
   "execution_count": 115,
   "metadata": {
    "collapsed": false
   },
   "outputs": [],
   "source": [
    "# dr당 거리가 먼 di을 일정비율로 뽑는다.\n",
    "li_tn_dr = list()\n",
    "for column in distance_mat:\n",
    "    idx = int(len(distance_mat[column])*0.1)\n",
    "    filtered = distance_mat[column].sort_values(ascending=False)[:idx]\n",
    "    li_tn_dr.append([column, filtered.index.tolist()])\n",
    "\n",
    "df_tn_dr = pd.DataFrame()\n",
    "for i in li_tn_dr:\n",
    "    for j in i[1]:\n",
    "        temp_df = pd.DataFrame(data=[[j, i[0]]], columns = ['disease_id', 'drug_id'])\n",
    "        df_tn_dr= df_tn_dr.append(temp_df)"
   ]
  },
  {
   "cell_type": "code",
   "execution_count": 116,
   "metadata": {
    "collapsed": false
   },
   "outputs": [
    {
     "name": "stdout",
     "output_type": "stream",
     "text": [
      "10833\n",
      "114\n",
      "471\n"
     ]
    },
    {
     "data": {
      "text/html": [
       "<div>\n",
       "<table border=\"1\" class=\"dataframe\">\n",
       "  <thead>\n",
       "    <tr style=\"text-align: right;\">\n",
       "      <th></th>\n",
       "      <th>disease_id</th>\n",
       "      <th>drug_id</th>\n",
       "    </tr>\n",
       "  </thead>\n",
       "  <tbody>\n",
       "    <tr>\n",
       "      <th>0</th>\n",
       "      <td>145200</td>\n",
       "      <td>DB00190</td>\n",
       "    </tr>\n",
       "    <tr>\n",
       "      <th>0</th>\n",
       "      <td>182000</td>\n",
       "      <td>DB00190</td>\n",
       "    </tr>\n",
       "    <tr>\n",
       "      <th>0</th>\n",
       "      <td>246300</td>\n",
       "      <td>DB00190</td>\n",
       "    </tr>\n",
       "    <tr>\n",
       "      <th>0</th>\n",
       "      <td>208085</td>\n",
       "      <td>DB00190</td>\n",
       "    </tr>\n",
       "    <tr>\n",
       "      <th>0</th>\n",
       "      <td>137800</td>\n",
       "      <td>DB00190</td>\n",
       "    </tr>\n",
       "  </tbody>\n",
       "</table>\n",
       "</div>"
      ],
      "text/plain": [
       "   disease_id  drug_id\n",
       "0      145200  DB00190\n",
       "0      182000  DB00190\n",
       "0      246300  DB00190\n",
       "0      208085  DB00190\n",
       "0      137800  DB00190"
      ]
     },
     "execution_count": 116,
     "metadata": {},
     "output_type": "execute_result"
    }
   ],
   "source": [
    "print len(df_tn_dr)\n",
    "print len(df_tn_dr.drop_duplicates('disease_id'))\n",
    "print len(df_tn_dr.drop_duplicates('drug_id'))\n",
    "df_tn_dr.head()"
   ]
  },
  {
   "cell_type": "code",
   "execution_count": 117,
   "metadata": {
    "collapsed": true
   },
   "outputs": [],
   "source": [
    "# 구한 TN이 positive associaion과 겹치는게 있는지 체크\n",
    "duplicated = pd.DataFrame()\n",
    "for index, row in df_asso.iterrows():\n",
    "    li_row = row.tolist()\n",
    "    temp = df_tn_dr[(df_tn_dr.disease_id == li_row[0]) & (df_tn_dr.drug_id == li_row[1])]\n",
    "    if temp.empty:\n",
    "        continue\n",
    "    else:\n",
    "        duplicated = duplicated.append(temp)"
   ]
  },
  {
   "cell_type": "code",
   "execution_count": 118,
   "metadata": {
    "collapsed": false
   },
   "outputs": [
    {
     "data": {
      "text/plain": [
       "182"
      ]
     },
     "execution_count": 118,
     "metadata": {},
     "output_type": "execute_result"
    }
   ],
   "source": [
    "len(duplicated)"
   ]
  },
  {
   "cell_type": "code",
   "execution_count": 119,
   "metadata": {
    "collapsed": true
   },
   "outputs": [],
   "source": [
    "# duplicated 를 제외한 나머지 dataframe \n",
    "duplicated['key'] = 0\n",
    "tt = pd.merge(left = df_tn_dr, right = duplicated, how='left')\n",
    "df_tn_dr2 = tt[tt.key != 0][['disease_id', 'drug_id']]"
   ]
  },
  {
   "cell_type": "code",
   "execution_count": 121,
   "metadata": {
    "collapsed": true
   },
   "outputs": [],
   "source": [
    "df_tn_dr2.to_csv(\"/home/share/aschoi/nas/users/asolchoi/data/Drug_Repositioning/7_new_association/12_2_4_true_negative_dr_removed.tsv\", sep='\\t', index=False)\n",
    "df_tn_dr2.to_csv(\"/DAS_Storage1/aschoi/data/Drug_Repositioning/7_new_association/12_2_4_true_negative_dr_removed.tsv\", sep='\\t', index=False)"
   ]
  },
  {
   "cell_type": "code",
   "execution_count": 122,
   "metadata": {
    "collapsed": false
   },
   "outputs": [
    {
     "data": {
      "text/html": [
       "<div>\n",
       "<table border=\"1\" class=\"dataframe\">\n",
       "  <thead>\n",
       "    <tr style=\"text-align: right;\">\n",
       "      <th></th>\n",
       "      <th>drug_id</th>\n",
       "      <th>disease_id</th>\n",
       "      <th>association</th>\n",
       "      <th>C0008301</th>\n",
       "      <th>C0011603</th>\n",
       "      <th>C0015230</th>\n",
       "      <th>C0016382</th>\n",
       "      <th>C0018681</th>\n",
       "      <th>C0018965</th>\n",
       "      <th>C0020517</th>\n",
       "      <th>...</th>\n",
       "      <th>387585</th>\n",
       "      <th>388165</th>\n",
       "      <th>55219</th>\n",
       "      <th>55973</th>\n",
       "      <th>65264</th>\n",
       "      <th>80350</th>\n",
       "      <th>84624</th>\n",
       "      <th>84722</th>\n",
       "      <th>91851</th>\n",
       "      <th>406216</th>\n",
       "    </tr>\n",
       "  </thead>\n",
       "  <tbody>\n",
       "    <tr>\n",
       "      <th>0</th>\n",
       "      <td>DB00190</td>\n",
       "      <td>102300</td>\n",
       "      <td>1</td>\n",
       "      <td>0</td>\n",
       "      <td>1</td>\n",
       "      <td>1</td>\n",
       "      <td>1</td>\n",
       "      <td>1</td>\n",
       "      <td>0</td>\n",
       "      <td>1</td>\n",
       "      <td>...</td>\n",
       "      <td>0</td>\n",
       "      <td>0</td>\n",
       "      <td>0</td>\n",
       "      <td>0</td>\n",
       "      <td>0</td>\n",
       "      <td>0</td>\n",
       "      <td>0</td>\n",
       "      <td>0</td>\n",
       "      <td>0</td>\n",
       "      <td>0</td>\n",
       "    </tr>\n",
       "  </tbody>\n",
       "</table>\n",
       "<p>1 rows × 5371 columns</p>\n",
       "</div>"
      ],
      "text/plain": [
       "   drug_id  disease_id  association  C0008301  C0011603  C0015230  C0016382  \\\n",
       "0  DB00190      102300            1         0         1         1         1   \n",
       "\n",
       "   C0018681  C0018965  C0020517   ...    387585  388165  55219  55973  65264  \\\n",
       "0         1         0         1   ...         0       0      0      0      0   \n",
       "\n",
       "   80350  84624  84722  91851  406216  \n",
       "0      0      0      0      0       0  \n",
       "\n",
       "[1 rows x 5371 columns]"
      ]
     },
     "execution_count": 122,
     "metadata": {},
     "output_type": "execute_result"
    }
   ],
   "source": [
    "desc.head(1)"
   ]
  },
  {
   "cell_type": "code",
   "execution_count": 148,
   "metadata": {
    "collapsed": false
   },
   "outputs": [
    {
     "name": "stdout",
     "output_type": "stream",
     "text": [
      "start : 2017-03-17 22:05:40\n",
      "end : 2017-03-17 22:29:25\n"
     ]
    }
   ],
   "source": [
    "# negative descriptor 만들기 -whole\n",
    "df_tn_desc = pd.DataFrame()\n",
    "print 'start : ' + datetime.now().strftime('%Y-%m-%d %H:%M:%S')\n",
    "for index, row in df_tn2.iterrows():\n",
    "    temp_df = desc[(desc.drug_id == row['drug_id']) & (desc.disease_id == int(row['disease_id']))]\n",
    "    if temp_df.empty:\n",
    "        continue\n",
    "    else:\n",
    "        df_tn_desc = df_tn_desc.append(temp_df)\n",
    "print 'end : ' + datetime.now().strftime('%Y-%m-%d %H:%M:%S')"
   ]
  },
  {
   "cell_type": "code",
   "execution_count": 149,
   "metadata": {
    "collapsed": true
   },
   "outputs": [],
   "source": [
    "desc_pos = desc[desc.association ==1]\n",
    "frames = [desc_pos, df_tn_desc]\n",
    "whole_desc = pd.concat(frames)"
   ]
  },
  {
   "cell_type": "code",
   "execution_count": 152,
   "metadata": {
    "collapsed": false
   },
   "outputs": [
    {
     "name": "stdout",
     "output_type": "stream",
     "text": [
      "15716\n",
      "15716\n"
     ]
    }
   ],
   "source": [
    "print len(whole_desc)\n",
    "print len(whole_desc.drop_duplicates())"
   ]
  },
  {
   "cell_type": "code",
   "execution_count": 151,
   "metadata": {
    "collapsed": true
   },
   "outputs": [],
   "source": [
    "whole_desc.to_csv(\"/home/share/aschoi/nas/users/asolchoi/data/Drug_Repositioning/8_new_training/7_2_1_tn_whole_descriptor_removed.tsv\", sep='\\t', index=False)\n",
    "whole_desc.to_csv(\"/DAS_Storage1/aschoi/data/Drug_Repositioning/8_new_training/7_2_1_tn_whole_descriptor_removed.tsv\", sep='\\t', index=False)"
   ]
  },
  {
   "cell_type": "code",
   "execution_count": 127,
   "metadata": {
    "collapsed": false
   },
   "outputs": [
    {
     "name": "stdout",
     "output_type": "stream",
     "text": [
      "start : 2017-03-15 20:17:21\n",
      "end : 2017-03-15 20:26:55\n"
     ]
    }
   ],
   "source": [
    "# negative descriptor 만들기 -disease\n",
    "df_tn_di_desc = pd.DataFrame()\n",
    "print 'start : ' + datetime.now().strftime('%Y-%m-%d %H:%M:%S')\n",
    "for index, row in df_tn_di2.iterrows():\n",
    "    temp_df = desc[(desc.drug_id == row['drug_id']) & (desc.disease_id == int(row['disease_id']))]\n",
    "    if temp_df.empty:\n",
    "        continue\n",
    "    else:\n",
    "        df_tn_di_desc = df_tn_di_desc.append(temp_df)\n",
    "print 'end : ' + datetime.now().strftime('%Y-%m-%d %H:%M:%S')"
   ]
  },
  {
   "cell_type": "code",
   "execution_count": 128,
   "metadata": {
    "collapsed": true
   },
   "outputs": [],
   "source": [
    "#desc_pos = desc[desc.association ==1]\n",
    "frames = [desc_pos, df_tn_di_desc]\n",
    "di_desc = pd.concat(frames)"
   ]
  },
  {
   "cell_type": "code",
   "execution_count": 129,
   "metadata": {
    "collapsed": true
   },
   "outputs": [],
   "source": [
    "di_desc.to_csv(\"/home/share/aschoi/nas/users/asolchoi/data/Drug_Repositioning/8_new_training/7_2_2_tn_di_descriptor_removed.tsv\", sep='\\t', index=False)\n",
    "di_desc.to_csv(\"/DAS_Storage1/aschoi/data/Drug_Repositioning/8_new_training/7_2_2_tn_di_descriptor_removed.tsv\", sep='\\t', index=False)"
   ]
  },
  {
   "cell_type": "code",
   "execution_count": 130,
   "metadata": {
    "collapsed": false
   },
   "outputs": [
    {
     "name": "stdout",
     "output_type": "stream",
     "text": [
      "start : 2017-03-15 20:27:25\n",
      "end : 2017-03-15 20:36:01\n"
     ]
    }
   ],
   "source": [
    "# negative descriptor 만들기 -drug\n",
    "df_tn_dr_desc = pd.DataFrame()\n",
    "print 'start : ' + datetime.now().strftime('%Y-%m-%d %H:%M:%S')\n",
    "for index, row in df_tn_dr2.iterrows():\n",
    "    temp_df = desc[(desc.drug_id == row['drug_id']) & (desc.disease_id == int(row['disease_id']))]\n",
    "    if temp_df.empty:\n",
    "        continue\n",
    "    else:\n",
    "        df_tn_dr_desc = df_tn_dr_desc.append(temp_df)\n",
    "print 'end : ' + datetime.now().strftime('%Y-%m-%d %H:%M:%S')"
   ]
  },
  {
   "cell_type": "code",
   "execution_count": 131,
   "metadata": {
    "collapsed": false
   },
   "outputs": [
    {
     "name": "stdout",
     "output_type": "stream",
     "text": [
      "10651\n",
      "56\n",
      "471\n"
     ]
    },
    {
     "data": {
      "text/html": [
       "<div>\n",
       "<table border=\"1\" class=\"dataframe\">\n",
       "  <thead>\n",
       "    <tr style=\"text-align: right;\">\n",
       "      <th></th>\n",
       "      <th>drug_id</th>\n",
       "      <th>disease_id</th>\n",
       "      <th>association</th>\n",
       "      <th>C0008301</th>\n",
       "      <th>C0011603</th>\n",
       "      <th>C0015230</th>\n",
       "      <th>C0016382</th>\n",
       "      <th>C0018681</th>\n",
       "      <th>C0018965</th>\n",
       "      <th>C0020517</th>\n",
       "      <th>...</th>\n",
       "      <th>387585</th>\n",
       "      <th>388165</th>\n",
       "      <th>55219</th>\n",
       "      <th>55973</th>\n",
       "      <th>65264</th>\n",
       "      <th>80350</th>\n",
       "      <th>84624</th>\n",
       "      <th>84722</th>\n",
       "      <th>91851</th>\n",
       "      <th>406216</th>\n",
       "    </tr>\n",
       "  </thead>\n",
       "  <tbody>\n",
       "    <tr>\n",
       "      <th>54</th>\n",
       "      <td>DB00190</td>\n",
       "      <td>145200</td>\n",
       "      <td>0</td>\n",
       "      <td>0</td>\n",
       "      <td>1</td>\n",
       "      <td>1</td>\n",
       "      <td>1</td>\n",
       "      <td>1</td>\n",
       "      <td>0</td>\n",
       "      <td>1</td>\n",
       "      <td>...</td>\n",
       "      <td>0</td>\n",
       "      <td>0</td>\n",
       "      <td>0</td>\n",
       "      <td>0</td>\n",
       "      <td>0</td>\n",
       "      <td>0</td>\n",
       "      <td>0</td>\n",
       "      <td>0</td>\n",
       "      <td>0</td>\n",
       "      <td>0</td>\n",
       "    </tr>\n",
       "  </tbody>\n",
       "</table>\n",
       "<p>1 rows × 5371 columns</p>\n",
       "</div>"
      ],
      "text/plain": [
       "    drug_id  disease_id  association  C0008301  C0011603  C0015230  C0016382  \\\n",
       "54  DB00190      145200            0         0         1         1         1   \n",
       "\n",
       "    C0018681  C0018965  C0020517   ...    387585  388165  55219  55973  65264  \\\n",
       "54         1         0         1   ...         0       0      0      0      0   \n",
       "\n",
       "    80350  84624  84722  91851  406216  \n",
       "54      0      0      0      0       0  \n",
       "\n",
       "[1 rows x 5371 columns]"
      ]
     },
     "execution_count": 131,
     "metadata": {},
     "output_type": "execute_result"
    }
   ],
   "source": [
    "print len(df_tn_dr_desc)\n",
    "print len(df_tn_dr_desc.drop_duplicates('disease_id'))\n",
    "print len(df_tn_dr_desc.drop_duplicates('drug_id'))\n",
    "df_tn_dr_desc.head(1)"
   ]
  },
  {
   "cell_type": "code",
   "execution_count": 132,
   "metadata": {
    "collapsed": false
   },
   "outputs": [
    {
     "name": "stdout",
     "output_type": "stream",
     "text": [
      "10833\n",
      "114\n",
      "471\n"
     ]
    },
    {
     "data": {
      "text/html": [
       "<div>\n",
       "<table border=\"1\" class=\"dataframe\">\n",
       "  <thead>\n",
       "    <tr style=\"text-align: right;\">\n",
       "      <th></th>\n",
       "      <th>disease_id</th>\n",
       "      <th>drug_id</th>\n",
       "    </tr>\n",
       "  </thead>\n",
       "  <tbody>\n",
       "    <tr>\n",
       "      <th>0</th>\n",
       "      <td>145200</td>\n",
       "      <td>DB00190</td>\n",
       "    </tr>\n",
       "  </tbody>\n",
       "</table>\n",
       "</div>"
      ],
      "text/plain": [
       "   disease_id  drug_id\n",
       "0      145200  DB00190"
      ]
     },
     "execution_count": 132,
     "metadata": {},
     "output_type": "execute_result"
    }
   ],
   "source": [
    "print len(df_tn_dr)\n",
    "print len(df_tn_dr.drop_duplicates('disease_id'))\n",
    "print len(df_tn_dr.drop_duplicates('drug_id'))\n",
    "df_tn_dr.head(1)"
   ]
  },
  {
   "cell_type": "code",
   "execution_count": 133,
   "metadata": {
    "collapsed": true
   },
   "outputs": [],
   "source": [
    "#desc_pos = desc[desc.association ==1]\n",
    "frames = [desc_pos, df_tn_dr_desc]\n",
    "dr_desc = pd.concat(frames)"
   ]
  },
  {
   "cell_type": "code",
   "execution_count": 134,
   "metadata": {
    "collapsed": true
   },
   "outputs": [],
   "source": [
    "dr_desc.to_csv(\"/home/share/aschoi/nas/users/asolchoi/data/Drug_Repositioning/8_new_training/7_2_3_tn_dr_descriptor_removed.tsv\", sep='\\t', index=False)\n",
    "dr_desc.to_csv(\"/DAS_Storage1/aschoi/data/Drug_Repositioning/8_new_training/7_2_3_tn_dr_descriptor_removed.tsv\", sep='\\t', index=False)"
   ]
  },
  {
   "cell_type": "code",
   "execution_count": null,
   "metadata": {
    "collapsed": true
   },
   "outputs": [],
   "source": []
  }
 ],
 "metadata": {
  "kernelspec": {
   "display_name": "Python 2",
   "language": "python",
   "name": "python2"
  },
  "language_info": {
   "codemirror_mode": {
    "name": "ipython",
    "version": 2
   },
   "file_extension": ".py",
   "mimetype": "text/x-python",
   "name": "python",
   "nbconvert_exporter": "python",
   "pygments_lexer": "ipython2",
   "version": "2.7.6"
  }
 },
 "nbformat": 4,
 "nbformat_minor": 1
}
