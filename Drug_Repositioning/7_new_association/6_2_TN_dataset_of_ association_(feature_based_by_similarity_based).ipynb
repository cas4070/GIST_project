{
 "cells": [
  {
   "cell_type": "code",
   "execution_count": 65,
   "metadata": {
    "collapsed": true
   },
   "outputs": [],
   "source": [
    "import pandas as pd\n",
    "import numpy as np\n",
    "from datetime import datetime"
   ]
  },
  {
   "cell_type": "code",
   "execution_count": 66,
   "metadata": {
    "collapsed": true
   },
   "outputs": [],
   "source": [
    "#drug-drug_similarity\n",
    "dr_str = pd.read_table(\"/DAS_Storage1/aschoi/data/Drug_Repositioning/5_new_drug/new_predict/1_drug_drug_str_sim_mat.tsv\", index_col = 0)\n",
    "dr_se = pd.read_table(\"/DAS_Storage1/aschoi/data/Drug_Repositioning/5_new_drug/new_predict/1_drug_drug_se_sim_mat.tsv\", index_col = 0)\n",
    "#disease-disease similarity\n",
    "di_sim = pd.read_table(\"/DAS_Storage1/aschoi/data/Drug_Repositioning/6_new_disease/new_predict/1_disease_disease_combined_sim.tsv\")"
   ]
  },
  {
   "cell_type": "code",
   "execution_count": 68,
   "metadata": {
    "collapsed": false
   },
   "outputs": [
    {
     "name": "stdout",
     "output_type": "stream",
     "text": [
      "233\n"
     ]
    }
   ],
   "source": [
    "print len(di_sim.drop_duplicates('Disease_ID1'))"
   ]
  },
  {
   "cell_type": "code",
   "execution_count": 69,
   "metadata": {
    "collapsed": false
   },
   "outputs": [],
   "source": [
    "dr_sim = 1 - (1-dr_se)*(1-dr_str)"
   ]
  },
  {
   "cell_type": "code",
   "execution_count": 70,
   "metadata": {
    "collapsed": true
   },
   "outputs": [],
   "source": [
    "dr_sim.to_csv(\"/DAS_Storage1/aschoi/data/Drug_Repositioning/5_new_drug/new_predict/1_drug_drug_combined_sim_mat.tsv\", sep='\\t')"
   ]
  },
  {
   "cell_type": "code",
   "execution_count": 71,
   "metadata": {
    "collapsed": true
   },
   "outputs": [],
   "source": [
    "asso = pd.read_table(\"/DAS_Storage1/aschoi/data/Drug_Repositioning/7_new_association/new_predict/1_gold_learning_asso.tsv\")"
   ]
  },
  {
   "cell_type": "code",
   "execution_count": 39,
   "metadata": {
    "collapsed": false
   },
   "outputs": [],
   "source": [
    "#drug-disease similarity"
   ]
  },
  {
   "cell_type": "code",
   "execution_count": 138,
   "metadata": {
    "collapsed": false
   },
   "outputs": [
    {
     "name": "stdout",
     "output_type": "stream",
     "text": [
      "start : 2017-04-19 01:09:09\n",
      "cnt == 100 : 2017-04-19 01:14:33\n",
      "cnt == 200 : 2017-04-19 01:19:08\n",
      "cnt == 300 : 2017-04-19 01:23:26\n",
      "cnt == 400 : 2017-04-19 01:27:45\n",
      "end : 2017-04-19 01:29:13\n"
     ]
    }
   ],
   "source": [
    "di_dr_mat = pd.DataFrame(columns = dr_ids, index= di_ids) #di에 대한 dr의 distance보기\n",
    "cnt = 0 \n",
    "print 'start : ' + datetime.now().strftime('%Y-%m-%d %H:%M:%S')\n",
    "for i in dr_ids:\n",
    "    other_drugs_sim = dr_sim[dr_sim.index != i][i]# 검사할 drug를 제외한 다른 drug들\n",
    "    for j in di_ids:\n",
    "        target_disease = asso[(asso.disease_id == j)] # 검사할 disease\n",
    "        other_drugs_di_sim = other_drugs_sim.filter(items = target_disease['drug_id'].tolist())\n",
    "        sum_selected_drug = other_drugs_di_sim.sum() # association이 있는 것들의 합\n",
    "        sum_all_drug = other_drugs_sim.sum() # similarity의 전체 합\n",
    "        norm = sum_selected_drug / sum_all_drug #normalize한 값\n",
    "        di_dr_mat[i].ix[j] = norm\n",
    "    cnt = cnt + 1\n",
    "    if cnt % 100 == 0:\n",
    "        print 'cnt == {} : '.format(cnt) + datetime.now().strftime('%Y-%m-%d %H:%M:%S')\n",
    "print 'end : ' + datetime.now().strftime('%Y-%m-%d %H:%M:%S')"
   ]
  },
  {
   "cell_type": "code",
   "execution_count": 139,
   "metadata": {
    "collapsed": false
   },
   "outputs": [
    {
     "name": "stdout",
     "output_type": "stream",
     "text": [
      "start : 2017-04-19 01:29:13\n",
      "cnt == 100 : 2017-04-19 01:34:16\n",
      "cnt == 200 : 2017-04-19 01:39:18\n",
      "end : 2017-04-19 01:40:59\n"
     ]
    }
   ],
   "source": [
    "#disease-drug similarity #normalize 한 버전\n",
    "dr_di_mat = pd.DataFrame(columns = dr_ids, index= di_ids) #dr에 대한 di의 distance보기\n",
    "cnt = 0 \n",
    "print 'start : ' + datetime.now().strftime('%Y-%m-%d %H:%M:%S')\n",
    "for i in di_ids:\n",
    "    other_diseases_sim = di_sim[(di_sim.Disease_ID1 == i) & (di_sim.Disease_ID2 != i)] # 검사할 disease를 제외한 다른 disease들\n",
    "    for j in dr_ids:\n",
    "        target_drug = asso[(asso.drug_id ==j)] # 검사할 drug\n",
    "        flags = other_diseases_sim['Disease_ID2'].isin(target_drug['disease_id']) # 검사할 drug와 다른 disease들의 association여부\n",
    "        sum_selected_disease = other_diseases_sim[flags]['Combined'].sum() # association이 있는 것들의 합\n",
    "        sum_all_disease = other_diseases_sim['Combined'].sum() # similarity의 전체 합\n",
    "        norm = sum_selected_disease / sum_all_disease #normalize한 값\n",
    "        dr_di_mat[j].ix[i] = norm\n",
    "    cnt = cnt + 1\n",
    "    if cnt % 100 == 0:\n",
    "        print 'cnt == {} : '.format(cnt) + datetime.now().strftime('%Y-%m-%d %H:%M:%S')\n",
    "print 'end : ' + datetime.now().strftime('%Y-%m-%d %H:%M:%S')"
   ]
  },
  {
   "cell_type": "code",
   "execution_count": 140,
   "metadata": {
    "collapsed": false
   },
   "outputs": [
    {
     "name": "stdout",
     "output_type": "stream",
     "text": [
      "start : 2017-04-19 01:40:59\n",
      "cnt == 100 : 2017-04-19 01:41:06\n",
      "cnt == 200 : 2017-04-19 01:41:13\n",
      "cnt == 300 : 2017-04-19 01:41:21\n",
      "cnt == 400 : 2017-04-19 01:41:28\n",
      "end : 2017-04-19 01:41:30\n"
     ]
    }
   ],
   "source": [
    "bef_distance = -(di_dr_mat+dr_di_mat)\n",
    "distance_mat = pd.DataFrame(columns = bef_distance.columns.values, index = bef_distance.index.values)\n",
    "cnt = 0 \n",
    "print 'start : ' + datetime.now().strftime('%Y-%m-%d %H:%M:%S')\n",
    "for i in bef_distance.columns.values:\n",
    "    for j in bef_distance.index.values:\n",
    "        a = bef_distance[i].ix[j]\n",
    "        distance = np.exp(a)\n",
    "        distance_mat[i].ix[j] = distance\n",
    "    cnt = cnt + 1\n",
    "    if cnt % 100 == 0:\n",
    "        print 'cnt == {} : '.format(cnt) + datetime.now().strftime('%Y-%m-%d %H:%M:%S')\n",
    "print 'end : ' + datetime.now().strftime('%Y-%m-%d %H:%M:%S')"
   ]
  },
  {
   "cell_type": "code",
   "execution_count": 141,
   "metadata": {
    "collapsed": false
   },
   "outputs": [
    {
     "name": "stdout",
     "output_type": "stream",
     "text": [
      "0.889090625749\n",
      "1.0\n",
      "0.848865265108\n",
      "1.0\n",
      "1.74576498185\n",
      "2.0\n",
      "-2.0\n",
      "-1.74576498185\n",
      "0.135335283237\n",
      "0.174511439808\n"
     ]
    }
   ],
   "source": [
    "print di_dr_mat.min().min() #drisease-drug sim의 최소값\n",
    "print di_dr_mat.max().max() #disease-drug sim의 최대값\n",
    "print dr_di_mat.min().min() #drug-disease sim의 최소값\n",
    "print dr_di_mat.max().max() #drug-disease sim의 최소값\n",
    "print (di_dr_mat + dr_di_mat).min().min() #위 두 결과를 더한 matrix의 최소값 (sim의 합의 최소값)\n",
    "print (di_dr_mat + dr_di_mat).max().max() #위 두 결과를 더한 matrix의 최대값 (sim의 합의 최대값)\n",
    "print bef_distance.min().min() #  - (sim의 합의 최대값)--> 최소값 --> 이 값을 exp에 넣으면 거리는 최소가 됨.\n",
    "print bef_distance.max().max() #  - (sim의 합의 최소값)--> 최대값 --> 이 값을 exp에 넣으면 거리는 최대가 됨.\n",
    "print np.exp(bef_distance.min().min()) #거리의 최소값 = 가까운 거리\n",
    "print np.exp(bef_distance.max().max()) # 거리의 최대값 = 먼 거리"
   ]
  },
  {
   "cell_type": "code",
   "execution_count": null,
   "metadata": {
    "collapsed": true
   },
   "outputs": [],
   "source": [
    "distance_mat.to_csv(\"/DAS_Storage1/aschoi/data/Drug_Repositioning/7_new_association/PREDICT_data/4_2_drug_disease_norm_distance_predict.tsv\", sep='\\t')\n",
    "distance_mat.to_csv(\"/home/share/aschoi/nas/users/asolchoi/data/Drug_Repositioning/7_new_association/PREDICT_data/4_2_drug_disease_norm_distance_predict.tsv\", sep='\\t')"
   ]
  },
  {
   "cell_type": "code",
   "execution_count": 115,
   "metadata": {
    "collapsed": false
   },
   "outputs": [
    {
     "name": "stdout",
     "output_type": "stream",
     "text": [
      "101122\n"
     ]
    }
   ],
   "source": [
    "# Distance histogram 그리기 (2017.3.27. 추가)\n",
    "val = list()\n",
    "for index, row in distance_mat.iterrows():\n",
    "    for k in row:\n",
    "        val.append(k)\n",
    "print len(val) # drug (446) * disease(235)"
   ]
  },
  {
   "cell_type": "code",
   "execution_count": null,
   "metadata": {
    "collapsed": true
   },
   "outputs": [],
   "source": []
  }
 ],
 "metadata": {
  "kernelspec": {
   "display_name": "Python 2",
   "language": "python",
   "name": "python2"
  },
  "language_info": {
   "codemirror_mode": {
    "name": "ipython",
    "version": 2
   },
   "file_extension": ".py",
   "mimetype": "text/x-python",
   "name": "python",
   "nbconvert_exporter": "python",
   "pygments_lexer": "ipython2",
   "version": "2.7.6"
  }
 },
 "nbformat": 4,
 "nbformat_minor": 2
}
