{
 "cells": [
  {
   "cell_type": "code",
   "execution_count": 1,
   "metadata": {
    "collapsed": true
   },
   "outputs": [],
   "source": [
    "import pandas as pd\n",
    "import time\n",
    "import numpy as np"
   ]
  },
  {
   "cell_type": "code",
   "execution_count": 2,
   "metadata": {
    "collapsed": true
   },
   "outputs": [],
   "source": [
    "df_desc = pd.read_table(\"/DAS_Storage1/aschoi/data/Drug_Repositioning/8_new_training/2_1_descriptor_combined.tsv\")\n",
    "indep_asso = pd.read_table(\"/DAS_Storage1/aschoi/data/Drug_Repositioning/7_new_association/9_2_indep_learning_association.tsv\")\n",
    "indep_drug = pd.read_table(\"/DAS_Storage1/aschoi/data/Drug_Repositioning/5_new_drug/8_2_indep_standard_drug_binary_matrix.tsv\", index_col=0)"
   ]
  },
  {
   "cell_type": "code",
   "execution_count": 3,
   "metadata": {
    "collapsed": false
   },
   "outputs": [],
   "source": [
    "# 2017.3.8. 작성. 기존의 gold descriptor를 independet의 feature에 맞춰 수정한다.\n",
    "indep_drug_feature = indep_drug.index.values\n",
    "disease_feature = df_desc.columns.values[2279:]"
   ]
  },
  {
   "cell_type": "code",
   "execution_count": 8,
   "metadata": {
    "collapsed": false
   },
   "outputs": [],
   "source": [
    "df_desc_drug = df_desc.filter(items = indep_drug_feature)\n",
    "df_desc_disease = df_desc.filter(items= disease_feature)"
   ]
  },
  {
   "cell_type": "code",
   "execution_count": 17,
   "metadata": {
    "collapsed": false
   },
   "outputs": [],
   "source": [
    "frames = [df_desc.loc[:, :'association'], df_desc_drug, df_desc_disease]\n",
    "df_new_gold_desc = pd.concat(frames, axis = 1)"
   ]
  },
  {
   "cell_type": "code",
   "execution_count": 20,
   "metadata": {
    "collapsed": false
   },
   "outputs": [],
   "source": [
    "df_new_gold_desc.to_csv(\"/home/share/aschoi/nas/users/asolchoi/data/Drug_Repositioning/8_new_training/2_1_2_new_descriptor.tsv\", sep='\\t', index=False)\n",
    "df_new_gold_desc.to_csv(\"/DAS_Storage1/aschoi/data/Drug_Repositioning/8_new_training/2_1_2_new_descriptor.tsv\", sep='\\t', index=False)"
   ]
  },
  {
   "cell_type": "code",
   "execution_count": 24,
   "metadata": {
    "collapsed": true
   },
   "outputs": [],
   "source": [
    "# 2017.3.8. 작성. 기존의 independent descriptor를 independent feature에 맞춰 수정한다.\n",
    "df_indep = pd.read_table(\"/DAS_Storage1/aschoi/data/Drug_Repositioning/8_new_training/2_2_indep_asso_descriptor.tsv\")"
   ]
  },
  {
   "cell_type": "code",
   "execution_count": null,
   "metadata": {
    "collapsed": false
   },
   "outputs": [],
   "source": [
    "df_new_indep_desc = df_indep.filter(items = df_new_gold_desc.columns.values)"
   ]
  },
  {
   "cell_type": "code",
   "execution_count": null,
   "metadata": {
    "collapsed": true
   },
   "outputs": [],
   "source": [
    "df_new_indep_desc.to_csv(\"/home/share/aschoi/nas/users/asolchoi/data/Drug_Repositioning/8_new_training/2_2_2_new_indep_asso_descriptor.tsv\", sep='\\t', index=False)\n",
    "df_new_indep_desc.to_csv(\"/DAS_Storage1/aschoi/data/Drug_Repositioning/8_new_training/2_2_2_new_indep_asso_descriptor.tsv\", sep='\\t', index=False)"
   ]
  },
  {
   "cell_type": "code",
   "execution_count": null,
   "metadata": {
    "collapsed": true
   },
   "outputs": [],
   "source": [
    "#snake make 사용을 위한 분할저장"
   ]
  },
  {
   "cell_type": "code",
   "execution_count": 25,
   "metadata": {
    "collapsed": true
   },
   "outputs": [],
   "source": [
    "pos = df_new_gold_desc[df_new_gold_desc.association == 1]\n",
    "neg = df_new_gold_desc[df_new_gold_desc.association == 0]"
   ]
  },
  {
   "cell_type": "code",
   "execution_count": null,
   "metadata": {
    "collapsed": false
   },
   "outputs": [],
   "source": [
    "pos_index = pos.index\n",
    "neg_index = neg.index"
   ]
  },
  {
   "cell_type": "code",
   "execution_count": null,
   "metadata": {
    "collapsed": false
   },
   "outputs": [],
   "source": [
    "from itertools import product\n",
    "pos_neg=pd.DataFrame(list(product(pos_index, neg_index)), columns = ['positive_index', 'negative_index'])"
   ]
  },
  {
   "cell_type": "code",
   "execution_count": null,
   "metadata": {
    "collapsed": false
   },
   "outputs": [],
   "source": [
    "print len(pos_neg)\n",
    "pos_neg.head()"
   ]
  },
  {
   "cell_type": "code",
   "execution_count": null,
   "metadata": {
    "collapsed": true
   },
   "outputs": [],
   "source": [
    "a = np.array_split(pos_neg, 200)"
   ]
  },
  {
   "cell_type": "code",
   "execution_count": null,
   "metadata": {
    "collapsed": true
   },
   "outputs": [],
   "source": [
    "for df, i in zip(a, range(200)):\n",
    "    df.to_csv(\"/home/share/aschoi/snakemake/jaccard_score/input/2_1_2_new_descriptor_index\"+str(i+1)+\".tsv\", sep='\\t', index=False)"
   ]
  },
  {
   "cell_type": "code",
   "execution_count": null,
   "metadata": {
    "collapsed": false
   },
   "outputs": [],
   "source": [
    "df_new_gold_desc.head(2)"
   ]
  },
  {
   "cell_type": "code",
   "execution_count": null,
   "metadata": {
    "collapsed": true
   },
   "outputs": [],
   "source": [
    "# 아래는 similarity score구하는거."
   ]
  },
  {
   "cell_type": "code",
   "execution_count": null,
   "metadata": {
    "collapsed": true
   },
   "outputs": [],
   "source": [
    "from sklearn.metrics import jaccard_similarity_score"
   ]
  },
  {
   "cell_type": "code",
   "execution_count": 22,
   "metadata": {
    "collapsed": false
   },
   "outputs": [],
   "source": [
    "index = pd.read_table(\"/home/share/aschoi/snakemake/jaccard_score/input/2_1_2_new_descriptor_index1.tsv\")"
   ]
  },
  {
   "cell_type": "code",
   "execution_count": null,
   "metadata": {
    "collapsed": false
   },
   "outputs": [],
   "source": [
    "df_jac = pd.DataFrame()\n",
    "for index, row in df_index.iterrows():\n",
    "    pos_index = row[0]\n",
    "    neg_index = row[1]\n",
    "    pos_desc = df_new_gold_desc.iloc[pos_index]\n",
    "    neg_desc = df_new_gold_desc.iloc[neg_index]\n",
    "    \n",
    "    jac_sim = jaccard_similarity_score(pos_desc[3:].tolist(), neg_desc[3:].tolist())\n",
    "    \n",
    "    temp_df = pd.DataFrame([[pos_desc[0], pos_desc[1], neg_desc[0], neg_desc[1], jac_sim]],\n",
    "                           columns = ['Pos_Drug', 'Pos_Disease', 'Neg_DRug', 'Neg_disease', 'Sim_score'])\n",
    "    df_jac = df_jac.append(temp_df)    "
   ]
  },
  {
   "cell_type": "code",
   "execution_count": null,
   "metadata": {
    "collapsed": false
   },
   "outputs": [],
   "source": [
    "df_jac.to_csv(sys.argv[3], index=False)"
   ]
  },
  {
   "cell_type": "code",
   "execution_count": null,
   "metadata": {
    "collapsed": true
   },
   "outputs": [],
   "source": []
  }
 ],
 "metadata": {
  "kernelspec": {
   "display_name": "Python 2",
   "language": "python",
   "name": "python2"
  },
  "language_info": {
   "codemirror_mode": {
    "name": "ipython",
    "version": 2
   },
   "file_extension": ".py",
   "mimetype": "text/x-python",
   "name": "python",
   "nbconvert_exporter": "python",
   "pygments_lexer": "ipython2",
   "version": "2.7.6"
  }
 },
 "nbformat": 4,
 "nbformat_minor": 1
}
