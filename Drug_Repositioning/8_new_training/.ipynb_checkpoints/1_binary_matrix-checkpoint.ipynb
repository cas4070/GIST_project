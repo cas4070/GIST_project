{
 "cells": [
  {
   "cell_type": "code",
   "execution_count": 2,
   "metadata": {
    "collapsed": true
   },
   "outputs": [],
   "source": [
    "import csv\n",
    "import numpy as np\n",
    "import os\n",
    "import pandas as pd\n",
    "import requests\n",
    "import time"
   ]
  },
  {
   "cell_type": "code",
   "execution_count": 3,
   "metadata": {
    "collapsed": true
   },
   "outputs": [],
   "source": [
    "############# Asssociation ##############"
   ]
  },
  {
   "cell_type": "code",
   "execution_count": 5,
   "metadata": {
    "collapsed": false
   },
   "outputs": [],
   "source": [
    "asso = pd.read_table(\"/DAS_Storage1/aschoi/data/Drug_Repositioning/7_new_association/7_gold_association.tsv\")"
   ]
  },
  {
   "cell_type": "code",
   "execution_count": 6,
   "metadata": {
    "collapsed": false
   },
   "outputs": [
    {
     "name": "stdout",
     "output_type": "stream",
     "text": [
      "1434\n"
     ]
    },
    {
     "data": {
      "text/html": [
       "<div>\n",
       "<table border=\"1\" class=\"dataframe\">\n",
       "  <thead>\n",
       "    <tr style=\"text-align: right;\">\n",
       "      <th></th>\n",
       "      <th>disease_id</th>\n",
       "      <th>drug_id</th>\n",
       "    </tr>\n",
       "  </thead>\n",
       "  <tbody>\n",
       "    <tr>\n",
       "      <th>0</th>\n",
       "      <td>102300</td>\n",
       "      <td>DB00190</td>\n",
       "    </tr>\n",
       "  </tbody>\n",
       "</table>\n",
       "</div>"
      ],
      "text/plain": [
       "   disease_id  drug_id\n",
       "0      102300  DB00190"
      ]
     },
     "execution_count": 6,
     "metadata": {},
     "output_type": "execute_result"
    }
   ],
   "source": [
    "print len(asso)\n",
    "asso.head(1)"
   ]
  },
  {
   "cell_type": "code",
   "execution_count": 7,
   "metadata": {
    "collapsed": true
   },
   "outputs": [],
   "source": [
    "disease_ids = asso['disease_id'].drop_duplicates()\n",
    "dg_ids = asso['drug_id'].drop_duplicates()"
   ]
  },
  {
   "cell_type": "code",
   "execution_count": 8,
   "metadata": {
    "collapsed": true
   },
   "outputs": [],
   "source": [
    "binary_asso = pd.DataFrame(columns = disease_ids.tolist(), index = dg_ids.tolist())\n",
    "binary_asso = binary_asso.fillna(0)"
   ]
  },
  {
   "cell_type": "code",
   "execution_count": 10,
   "metadata": {
    "collapsed": false
   },
   "outputs": [],
   "source": [
    "f = lambda x: 1 if x else 0\n",
    "    \n",
    "for di_id in disease_ids:\n",
    "    di_df = asso[asso.disease_id == di_id]\n",
    "    dg_id = di_df['drug_id']\n",
    "    flags = dg_ids.isin(dg_id)\n",
    "    oz_flags = map(f, flags)\n",
    "    binary_asso[di_id] = oz_flags\n",
    "                   "
   ]
  },
  {
   "cell_type": "code",
   "execution_count": 30,
   "metadata": {
    "collapsed": false
   },
   "outputs": [],
   "source": [
    "binary_asso.to_csv(\"/home/share/aschoi/data/Drug_Repositioning/7_new_association/8_gold_standard_association_bianry_matrix.tsv\", sep='\\t')\n",
    "binary_asso.to_csv(\"/home/share/aschoi/nas/users/asolchoi/data/Drug_Repositioning/7_new_association/8_gold_standard_association_bianry_matrix.tsv\", sep='\\t')"
   ]
  },
  {
   "cell_type": "code",
   "execution_count": 11,
   "metadata": {
    "collapsed": true
   },
   "outputs": [],
   "source": [
    "########### drug ############"
   ]
  },
  {
   "cell_type": "code",
   "execution_count": 14,
   "metadata": {
    "collapsed": false
   },
   "outputs": [],
   "source": [
    "drug = pd.read_table(\"/DAS_Storage1/aschoi/data/Drug_Repositioning/5_new_drug/7_2_gold_drug_feature_id.tsv\")"
   ]
  },
  {
   "cell_type": "code",
   "execution_count": 15,
   "metadata": {
    "collapsed": false
   },
   "outputs": [
    {
     "name": "stdout",
     "output_type": "stream",
     "text": [
      "99083\n"
     ]
    },
    {
     "data": {
      "text/html": [
       "<div>\n",
       "<table border=\"1\" class=\"dataframe\">\n",
       "  <thead>\n",
       "    <tr style=\"text-align: right;\">\n",
       "      <th></th>\n",
       "      <th>DrugBank_ID</th>\n",
       "      <th>umls_id</th>\n",
       "    </tr>\n",
       "  </thead>\n",
       "  <tbody>\n",
       "    <tr>\n",
       "      <th>0</th>\n",
       "      <td>DB00215</td>\n",
       "      <td>C0000737</td>\n",
       "    </tr>\n",
       "  </tbody>\n",
       "</table>\n",
       "</div>"
      ],
      "text/plain": [
       "  DrugBank_ID   umls_id\n",
       "0     DB00215  C0000737"
      ]
     },
     "execution_count": 15,
     "metadata": {},
     "output_type": "execute_result"
    }
   ],
   "source": [
    "print len(drug)\n",
    "drug.head(1)"
   ]
  },
  {
   "cell_type": "code",
   "execution_count": 16,
   "metadata": {
    "collapsed": true
   },
   "outputs": [],
   "source": [
    "dg_ids = drug['DrugBank_ID'].drop_duplicates()\n",
    "umls_ids = drug['umls_id'].drop_duplicates()"
   ]
  },
  {
   "cell_type": "code",
   "execution_count": 17,
   "metadata": {
    "collapsed": true
   },
   "outputs": [],
   "source": [
    "binary_drug = pd.DataFrame(columns = dg_ids.tolist(), index = umls_ids.tolist())\n",
    "binary_drug = binary_drug.fillna(0)"
   ]
  },
  {
   "cell_type": "code",
   "execution_count": 18,
   "metadata": {
    "collapsed": true
   },
   "outputs": [],
   "source": [
    "f = lambda x: 1 if x else 0\n",
    "    \n",
    "for dg_id in dg_ids:\n",
    "    dg_df = drug[drug.DrugBank_ID == dg_id]\n",
    "    umls_id = dg_df['umls_id']\n",
    "    flags = umls_ids.isin(umls_id)\n",
    "    oz_flags = map(f, flags)\n",
    "    binary_drug[dg_id] = oz_flags"
   ]
  },
  {
   "cell_type": "code",
   "execution_count": 41,
   "metadata": {
    "collapsed": false
   },
   "outputs": [],
   "source": [
    "binary_drug.to_csv(\"/home/share/aschoi/data/Drug_Repositioning/5_new_drug/8_gold_standard_drug_binary_matrix.tsv\", sep='\\t')\n",
    "binary_drug.to_csv(\"/home/share/aschoi/nas/users/asolchoi/data/Drug_Repositioning/5_new_drug/8_gold_standard_drug_binary_matrix.tsv\", sep='\\t')"
   ]
  },
  {
   "cell_type": "code",
   "execution_count": null,
   "metadata": {
    "collapsed": true
   },
   "outputs": [],
   "source": [
    "########### disease ############"
   ]
  },
  {
   "cell_type": "code",
   "execution_count": 3,
   "metadata": {
    "collapsed": false
   },
   "outputs": [],
   "source": [
    "disease = pd.read_table(\"/DAS_Storage1/aschoi/data/Drug_Repositioning/6_new_disease/8_gold_disease_feature.tsv\")"
   ]
  },
  {
   "cell_type": "code",
   "execution_count": 4,
   "metadata": {
    "collapsed": false
   },
   "outputs": [
    {
     "name": "stdout",
     "output_type": "stream",
     "text": [
      "10015\n"
     ]
    },
    {
     "data": {
      "text/html": [
       "<div>\n",
       "<table border=\"1\" class=\"dataframe\">\n",
       "  <thead>\n",
       "    <tr style=\"text-align: right;\">\n",
       "      <th></th>\n",
       "      <th>OMIM_ID</th>\n",
       "      <th>OMIM_disease_name</th>\n",
       "      <th>UMLS_concept_ID</th>\n",
       "      <th>UMLS_concept_name</th>\n",
       "      <th>DisGeNet_geneId</th>\n",
       "      <th>DIsGeNet_score</th>\n",
       "      <th>DIsGeNet_geneName</th>\n",
       "      <th>DIsGeNet_sourceId</th>\n",
       "    </tr>\n",
       "  </thead>\n",
       "  <tbody>\n",
       "    <tr>\n",
       "      <th>0</th>\n",
       "      <td>102300</td>\n",
       "      <td>Restless Legs Syndrome, Susceptibility To, 1; ...</td>\n",
       "      <td>C0035258</td>\n",
       "      <td>Restless Legs Syndrome</td>\n",
       "      <td>100188812</td>\n",
       "      <td>0.120543</td>\n",
       "      <td>RLS3</td>\n",
       "      <td>CTD_human</td>\n",
       "    </tr>\n",
       "  </tbody>\n",
       "</table>\n",
       "</div>"
      ],
      "text/plain": [
       "   OMIM_ID                                  OMIM_disease_name UMLS_concept_ID  \\\n",
       "0   102300  Restless Legs Syndrome, Susceptibility To, 1; ...        C0035258   \n",
       "\n",
       "        UMLS_concept_name  DisGeNet_geneId  DIsGeNet_score DIsGeNet_geneName  \\\n",
       "0  Restless Legs Syndrome        100188812        0.120543              RLS3   \n",
       "\n",
       "  DIsGeNet_sourceId  \n",
       "0         CTD_human  "
      ]
     },
     "execution_count": 4,
     "metadata": {},
     "output_type": "execute_result"
    }
   ],
   "source": [
    "print len(disease)\n",
    "disease.head(1)"
   ]
  },
  {
   "cell_type": "code",
   "execution_count": 5,
   "metadata": {
    "collapsed": false
   },
   "outputs": [
    {
     "name": "stdout",
     "output_type": "stream",
     "text": [
      "235\n",
      "3521\n"
     ]
    }
   ],
   "source": [
    "disease_ids = disease['OMIM_ID'].drop_duplicates()\n",
    "gene_ids = disease['DisGeNet_geneId'].drop_duplicates()\n",
    "print len(disease_ids)\n",
    "print len(gene_ids)"
   ]
  },
  {
   "cell_type": "code",
   "execution_count": 6,
   "metadata": {
    "collapsed": true
   },
   "outputs": [],
   "source": [
    "binary_disease = pd.DataFrame(columns = disease_ids.tolist(), index = gene_ids.tolist())\n",
    "binary_disease = binary_disease.fillna(0)"
   ]
  },
  {
   "cell_type": "code",
   "execution_count": 9,
   "metadata": {
    "collapsed": false
   },
   "outputs": [],
   "source": [
    "f = lambda x: 1 if x else 0\n",
    "    \n",
    "for disease_id in disease_ids:\n",
    "    disease_df = disease[disease.OMIM_ID == disease_id]\n",
    "    gene_id = disease_df['DisGeNet_geneId']\n",
    "    flags = gene_ids.isin(gene_id)\n",
    "    oz_flags = map(f, flags)\n",
    "    binary_disease[disease_id] = oz_flags"
   ]
  },
  {
   "cell_type": "code",
   "execution_count": null,
   "metadata": {
    "collapsed": true
   },
   "outputs": [],
   "source": [
    "혹은,"
   ]
  },
  {
   "cell_type": "code",
   "execution_count": 12,
   "metadata": {
    "collapsed": true
   },
   "outputs": [],
   "source": [
    "omim_ids = disease['OMIM_ID']\n",
    "gene_ids= disease['DisGeNet_geneId']\n",
    "\n",
    "result = pd.DataFrame(columns = omim_ids.drop_duplicates().tolist(), index = gene_ids.drop_duplicates().tolist())\n",
    "result = result.fillna(0)\n",
    "\n",
    "for omim_id in omim_ids.drop_duplicates():\n",
    "    found = disease[disease.OMIM_ID == omim_id]\n",
    "    if found.empty:\n",
    "        continue\n",
    "    else:\n",
    "        for index, row in found.iterrows():\n",
    "            result[omim_id].loc[row['DisGeNet_geneId']] = 1"
   ]
  },
  {
   "cell_type": "code",
   "execution_count": null,
   "metadata": {
    "collapsed": true
   },
   "outputs": [],
   "source": [
    "#실제 training에는 두번째 방법으로 만든 binary matrix를 쓴다."
   ]
  },
  {
   "cell_type": "code",
   "execution_count": null,
   "metadata": {
    "collapsed": true
   },
   "outputs": [],
   "source": [
    "result.to_csv(\"/DAS_Storage1/aschoi/data/Drug_Repositioning/6_new_disease/8_gold_standard_disease_binary_matrix.tsv\",sep ='\\t')"
   ]
  }
 ],
 "metadata": {
  "kernelspec": {
   "display_name": "Python 2",
   "language": "python",
   "name": "python2"
  },
  "language_info": {
   "codemirror_mode": {
    "name": "ipython",
    "version": 2
   },
   "file_extension": ".py",
   "mimetype": "text/x-python",
   "name": "python",
   "nbconvert_exporter": "python",
   "pygments_lexer": "ipython2",
   "version": "2.7.6"
  }
 },
 "nbformat": 4,
 "nbformat_minor": 0
}
