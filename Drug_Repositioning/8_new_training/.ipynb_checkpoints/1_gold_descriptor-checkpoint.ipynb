{
 "cells": [
  {
   "cell_type": "code",
   "execution_count": 1,
   "metadata": {
    "collapsed": true
   },
   "outputs": [],
   "source": [
    "import numpy as np\n",
    "#import matplotlib.pyplot as plt\n",
    "\n",
    "from sklearn.linear_model import LogisticRegression\n",
    "from sklearn.preprocessing import StandardScaler\n",
    "from sklearn import datasets\n",
    "from sklearn import metrics\n",
    "import pandas as pd\n",
    "import time"
   ]
  },
  {
   "cell_type": "code",
   "execution_count": 2,
   "metadata": {
    "collapsed": false
   },
   "outputs": [],
   "source": [
    "association_data = pd.read_table(\"/DAS_Storage1/aschoi/data/Drug_Repositioning/7_new_association/8_gold_standard_association_bianry_matrix.tsv\", index_col = 0)\n",
    "drug = pd.read_table(\"/DAS_Storage1/aschoi/data/Drug_Repositioning/5_new_drug/8_gold_standard_drug_binary_matrix.tsv\", index_col = 0)\n",
    "disease = pd.read_table(\"/DAS_Storage1/aschoi/data/Drug_Repositioning/6_new_disease/8_gold_standard_disease_binary_matrix.tsv\", index_col = 0)\n",
    "df_gold_asso = pd.read_table(\"/DAS_Storage1/aschoi/data/Drug_Repositioning/7_new_association/9_gold_learning_association.tsv\")\n",
    "df_indep_asso = pd.read_table(\"/DAS_Storage1/aschoi/data/Drug_Repositioning/7_new_association/9_2_indep_learning_association.tsv\")"
   ]
  },
  {
   "cell_type": "code",
   "execution_count": 3,
   "metadata": {
    "collapsed": false
   },
   "outputs": [
    {
     "name": "stdout",
     "output_type": "stream",
     "text": [
      "110685\n"
     ]
    },
    {
     "data": {
      "text/html": [
       "<div>\n",
       "<table border=\"1\" class=\"dataframe\">\n",
       "  <thead>\n",
       "    <tr style=\"text-align: right;\">\n",
       "      <th></th>\n",
       "      <th>drug</th>\n",
       "      <th>disease</th>\n",
       "      <th>association</th>\n",
       "    </tr>\n",
       "  </thead>\n",
       "  <tbody>\n",
       "    <tr>\n",
       "      <th>0</th>\n",
       "      <td>DB00190</td>\n",
       "      <td>102300</td>\n",
       "      <td>1</td>\n",
       "    </tr>\n",
       "  </tbody>\n",
       "</table>\n",
       "</div>"
      ],
      "text/plain": [
       "      drug  disease  association\n",
       "0  DB00190   102300            1"
      ]
     },
     "execution_count": 3,
     "metadata": {},
     "output_type": "execute_result"
    }
   ],
   "source": [
    "print len(df_gold_asso)\n",
    "df_gold_asso.head(1)"
   ]
  },
  {
   "cell_type": "code",
   "execution_count": 4,
   "metadata": {
    "collapsed": false
   },
   "outputs": [
    {
     "data": {
      "text/html": [
       "<div>\n",
       "<table border=\"1\" class=\"dataframe\">\n",
       "  <thead>\n",
       "    <tr style=\"text-align: right;\">\n",
       "      <th></th>\n",
       "      <th>DB00215</th>\n",
       "      <th>DB01327</th>\n",
       "      <th>DB00537</th>\n",
       "      <th>DB00175</th>\n",
       "      <th>DB00181</th>\n",
       "      <th>DB00257</th>\n",
       "      <th>DB00343</th>\n",
       "      <th>DB01128</th>\n",
       "      <th>DB00678</th>\n",
       "      <th>DB00808</th>\n",
       "      <th>...</th>\n",
       "      <th>DB01098</th>\n",
       "      <th>DB01033</th>\n",
       "      <th>DB01254</th>\n",
       "      <th>DB01261</th>\n",
       "      <th>DB00323</th>\n",
       "      <th>DB00287</th>\n",
       "      <th>DB00905</th>\n",
       "      <th>DB01088</th>\n",
       "      <th>DB01268</th>\n",
       "      <th>DB01590</th>\n",
       "    </tr>\n",
       "  </thead>\n",
       "  <tbody>\n",
       "    <tr>\n",
       "      <th>C0000737</th>\n",
       "      <td>1</td>\n",
       "      <td>1</td>\n",
       "      <td>1</td>\n",
       "      <td>1</td>\n",
       "      <td>1</td>\n",
       "      <td>1</td>\n",
       "      <td>1</td>\n",
       "      <td>1</td>\n",
       "      <td>1</td>\n",
       "      <td>1</td>\n",
       "      <td>...</td>\n",
       "      <td>1</td>\n",
       "      <td>1</td>\n",
       "      <td>0</td>\n",
       "      <td>0</td>\n",
       "      <td>0</td>\n",
       "      <td>1</td>\n",
       "      <td>0</td>\n",
       "      <td>0</td>\n",
       "      <td>0</td>\n",
       "      <td>1</td>\n",
       "    </tr>\n",
       "  </tbody>\n",
       "</table>\n",
       "<p>1 rows × 471 columns</p>\n",
       "</div>"
      ],
      "text/plain": [
       "          DB00215  DB01327  DB00537  DB00175  DB00181  DB00257  DB00343  \\\n",
       "C0000737        1        1        1        1        1        1        1   \n",
       "\n",
       "          DB01128  DB00678  DB00808   ...     DB01098  DB01033  DB01254  \\\n",
       "C0000737        1        1        1   ...           1        1        0   \n",
       "\n",
       "          DB01261  DB00323  DB00287  DB00905  DB01088  DB01268  DB01590  \n",
       "C0000737        0        0        1        0        0        0        1  \n",
       "\n",
       "[1 rows x 471 columns]"
      ]
     },
     "execution_count": 4,
     "metadata": {},
     "output_type": "execute_result"
    }
   ],
   "source": [
    "drug.head(1)"
   ]
  },
  {
   "cell_type": "code",
   "execution_count": 5,
   "metadata": {
    "collapsed": false
   },
   "outputs": [
    {
     "name": "stdout",
     "output_type": "stream",
     "text": [
      "(110685, 3)\n"
     ]
    },
    {
     "data": {
      "text/plain": [
       "array([['DB00190', 102300, 1],\n",
       "       ['DB00190', 102400, 0],\n",
       "       ['DB00190', 102500, 0],\n",
       "       ..., \n",
       "       ['DB00775', 608320, 1],\n",
       "       ['DB00775', 608583, 0],\n",
       "       ['DB00775', 608622, 0]], dtype=object)"
      ]
     },
     "execution_count": 5,
     "metadata": {},
     "output_type": "execute_result"
    }
   ],
   "source": [
    "print df_gold_asso.shape\n",
    "df_gold_asso.values"
   ]
  },
  {
   "cell_type": "code",
   "execution_count": 6,
   "metadata": {
    "collapsed": false
   },
   "outputs": [
    {
     "data": {
      "text/plain": [
       "Index([u'C0000737', u'C0000786', u'C0001824', u'C0002170', u'C0002453',\n",
       "       u'C0002622', u'C0002792', u'C0002871', u'C0002884', u'C0002962',\n",
       "       ...\n",
       "       u'C0395005', u'C0424082', u'C0549334', u'C1096460', u'C0008497',\n",
       "       u'C0581395', u'C0151964', u'C1697943', u'C0567085', u'C0854954'],\n",
       "      dtype='object', length=2276)"
      ]
     },
     "execution_count": 6,
     "metadata": {},
     "output_type": "execute_result"
    }
   ],
   "source": [
    "drug.index"
   ]
  },
  {
   "cell_type": "code",
   "execution_count": 36,
   "metadata": {
    "collapsed": false
   },
   "outputs": [
    {
     "name": "stdout",
     "output_type": "stream",
     "text": [
      "28659\n"
     ]
    }
   ],
   "source": [
    "print cnt"
   ]
  },
  {
   "cell_type": "code",
   "execution_count": 38,
   "metadata": {
    "collapsed": false
   },
   "outputs": [
    {
     "name": "stdout",
     "output_type": "stream",
     "text": [
      "1000 : Fri 15:08:07\n",
      "2000 : Fri 15:09:01\n",
      "3000 : Fri 15:10:31\n",
      "4000 : Fri 15:12:38\n",
      "5000 : Fri 15:15:22\n",
      "6000 : Fri 15:18:47\n",
      "7000 : Fri 15:22:55\n",
      "8000 : Fri 15:27:51\n",
      "9000 : Fri 15:33:10\n",
      "10000 : Fri 15:39:13\n",
      "end : 10001 : Fri 15:39:14\n",
      "10001\n",
      "(10002, 5800)\n"
     ]
    }
   ],
   "source": [
    "############### 1.13. 추가 ######### descriptor id도 같이\n",
    "start = 0\n",
    "end = 10001\n",
    "cnt = 0\n",
    "arr = np.empty((0,5797), dtype=np.int64)\n",
    "arr = np.hstack((['drug_id', 'disease_id', 'association', drug.index, disease.index]))\n",
    "for i in df_gold_asso.values[start:end]:\n",
    "    drug_id = i[0]\n",
    "    disease_id = i[1]\n",
    "    association = i[2]\n",
    "    feature = np.hstack([drug_id, disease_id, association, drug[drug_id], disease[str(disease_id)]])\n",
    "    arr = np.vstack([arr, feature])\n",
    "    cnt = cnt + 1\n",
    "    if cnt % 1000 == 0:\n",
    "        print \"%d : \" % cnt + time.strftime('%a %H:%M:%S')\n",
    "print \"end : %d : \" % cnt + time.strftime('%a %H:%M:%S')\n",
    "print cnt\n",
    "print arr.shape"
   ]
  },
  {
   "cell_type": "code",
   "execution_count": 56,
   "metadata": {
    "collapsed": false
   },
   "outputs": [],
   "source": [
    "df_arr = pd.DataFrame(data = arr[1:],columns = arr[0])\n",
    "df_arr.to_csv(\"/DAS_Storage1/aschoi/data/Drug_Repositioning/8_new_training/2_1_descriptor_0_10000.tsv\", sep='\\t', index = False)"
   ]
  },
  {
   "cell_type": "code",
   "execution_count": 96,
   "metadata": {
    "collapsed": false
   },
   "outputs": [],
   "source": [
    "arr1 = pd.read_table(\"/DAS_Storage1/aschoi/data/Drug_Repositioning/8_new_training/2_1_descriptor_0_10000.tsv\")\n",
    "arr2 = pd.read_table(\"/DAS_Storage1/aschoi/data/Drug_Repositioning/8_new_training/2_1_descriptor_10001_20000.tsv\")\n",
    "arr3 = pd.read_table(\"/DAS_Storage1/aschoi/data/Drug_Repositioning/8_new_training/2_1_descriptor_20001_30000.tsv\")\n",
    "arr4 = pd.read_table(\"/DAS_Storage1/aschoi/data/Drug_Repositioning/8_new_training/2_1_descriptor_30001_40000.tsv\")\n",
    "arr5 = pd.read_table(\"/DAS_Storage1/aschoi/data/Drug_Repositioning/8_new_training/2_1_descriptor_40001_50000.tsv\")\n",
    "arr6 = pd.read_table(\"/DAS_Storage1/aschoi/data/Drug_Repositioning/8_new_training/2_1_descriptor_50001_60000.tsv\")\n",
    "arr7 = pd.read_table(\"/DAS_Storage1/aschoi/data/Drug_Repositioning/8_new_training/2_1_descriptor_60001_70000.tsv\")\n",
    "arr8 = pd.read_table(\"/DAS_Storage1/aschoi/data/Drug_Repositioning/8_new_training/2_1_descriptor_70001_80000.tsv\")\n",
    "arr9 = pd.read_table(\"/DAS_Storage1/aschoi/data/Drug_Repositioning/8_new_training/2_1_descriptor_80001_90000.tsv\")\n",
    "arr10 = pd.read_table(\"/DAS_Storage1/aschoi/data/Drug_Repositioning/8_new_training/2_1_descriptor_90001_100000.tsv\")\n",
    "arr11 = pd.read_table(\"/DAS_Storage1/aschoi/data/Drug_Repositioning/8_new_training/2_1_descriptor_100001_110685.tsv\")"
   ]
  },
  {
   "cell_type": "code",
   "execution_count": 98,
   "metadata": {
    "collapsed": false
   },
   "outputs": [
    {
     "name": "stdout",
     "output_type": "stream",
     "text": [
      "110685\n"
     ]
    },
    {
     "data": {
      "text/html": [
       "<div>\n",
       "<table border=\"1\" class=\"dataframe\">\n",
       "  <thead>\n",
       "    <tr style=\"text-align: right;\">\n",
       "      <th></th>\n",
       "      <th>drug_id</th>\n",
       "      <th>disease_id</th>\n",
       "      <th>association</th>\n",
       "      <th>C0000737</th>\n",
       "      <th>C0000786</th>\n",
       "      <th>C0001824</th>\n",
       "      <th>C0002170</th>\n",
       "      <th>C0002453</th>\n",
       "      <th>C0002622</th>\n",
       "      <th>C0002792</th>\n",
       "      <th>...</th>\n",
       "      <th>387585</th>\n",
       "      <th>388165</th>\n",
       "      <th>55219</th>\n",
       "      <th>55973</th>\n",
       "      <th>65264</th>\n",
       "      <th>80350</th>\n",
       "      <th>84624</th>\n",
       "      <th>84722</th>\n",
       "      <th>91851</th>\n",
       "      <th>406216</th>\n",
       "    </tr>\n",
       "  </thead>\n",
       "  <tbody>\n",
       "    <tr>\n",
       "      <th>0</th>\n",
       "      <td>DB00190</td>\n",
       "      <td>102300</td>\n",
       "      <td>1</td>\n",
       "      <td>1</td>\n",
       "      <td>0</td>\n",
       "      <td>1</td>\n",
       "      <td>1</td>\n",
       "      <td>0</td>\n",
       "      <td>0</td>\n",
       "      <td>0</td>\n",
       "      <td>...</td>\n",
       "      <td>0</td>\n",
       "      <td>0</td>\n",
       "      <td>0</td>\n",
       "      <td>0</td>\n",
       "      <td>0</td>\n",
       "      <td>0</td>\n",
       "      <td>0</td>\n",
       "      <td>0</td>\n",
       "      <td>0</td>\n",
       "      <td>0</td>\n",
       "    </tr>\n",
       "  </tbody>\n",
       "</table>\n",
       "<p>1 rows × 5800 columns</p>\n",
       "</div>"
      ],
      "text/plain": [
       "   drug_id  disease_id  association  C0000737  C0000786  C0001824  C0002170  \\\n",
       "0  DB00190      102300            1         1         0         1         1   \n",
       "\n",
       "   C0002453  C0002622  C0002792   ...    387585  388165  55219  55973  65264  \\\n",
       "0         0         0         0   ...         0       0      0      0      0   \n",
       "\n",
       "   80350  84624  84722  91851  406216  \n",
       "0      0      0      0      0       0  \n",
       "\n",
       "[1 rows x 5800 columns]"
      ]
     },
     "execution_count": 98,
     "metadata": {},
     "output_type": "execute_result"
    }
   ],
   "source": [
    "frames = [arr1, arr2, arr3, arr4, arr5, arr6, arr7, arr8, arr9, arr10, arr11]\n",
    "df_arr_all = pd.concat(frames , axis=0)\n",
    "print len(df_arr_all)\n",
    "df_arr_all.head(1)"
   ]
  },
  {
   "cell_type": "code",
   "execution_count": 99,
   "metadata": {
    "collapsed": false
   },
   "outputs": [],
   "source": [
    "df_arr_all.to_csv(\"/DAS_Storage1/aschoi/data/Drug_Repositioning/8_new_training/2_1_descriptor_combined.tsv\", sep = '\\t', index = False)"
   ]
  },
  {
   "cell_type": "code",
   "execution_count": null,
   "metadata": {
    "collapsed": true
   },
   "outputs": [],
   "source": []
  },
  {
   "cell_type": "code",
   "execution_count": 20,
   "metadata": {
    "collapsed": false,
    "scrolled": true
   },
   "outputs": [
    {
     "name": "stdout",
     "output_type": "stream",
     "text": [
      "start 0 : Wed 16:26:08\n",
      "1000 : Wed 16:26:14\n",
      "2000 : Wed 16:26:41\n",
      "3000 : Wed 16:27:33\n",
      "4000 : Wed 16:28:47\n",
      "5000 : Wed 16:30:18\n",
      "6000 : Wed 16:32:02\n",
      "7000 : Wed 16:34:19\n",
      "8000 : Wed 16:36:51\n",
      "9000 : Wed 16:39:28\n",
      "10000 : Wed 16:42:21\n",
      "end : 10001 : Wed 16:42:21\n",
      "10001\n",
      "(10001, 5797)\n"
     ]
    }
   ],
   "source": [
    "# 이전 버전\n",
    "start = 0\n",
    "end = 10001\n",
    "cnt = 0\n",
    "arr = np.empty((0,5797), dtype=np.int64)\n",
    "print \"start %d : \" % cnt + time.strftime('%a %H:%M:%S')\n",
    "for i in df_asso.values[start:end]:\n",
    "    drug_id = i[0]\n",
    "    disease_id = i[1]\n",
    "    feature = np.hstack([drug[drug_id], disease[str(disease_id)]])\n",
    "    arr = np.vstack([arr, feature])\n",
    "    cnt = cnt + 1\n",
    "    if cnt % 1000 == 0:\n",
    "        print \"%d : \" % cnt + time.strftime('%a %H:%M:%S')\n",
    "print \"end : %d : \" % cnt + time.strftime('%a %H:%M:%S')\n",
    "print cnt\n",
    "print arr.shape"
   ]
  },
  {
   "cell_type": "code",
   "execution_count": null,
   "metadata": {
    "collapsed": true
   },
   "outputs": [],
   "source": [
    "# 이전 버전\n",
    "print \"start %d : \" % cnt + time.strftime('%a %H:%M:%S')\n",
    "np.savetxt(\"/DAS_Storage1/aschoi/data/Drug_Repositioning/8_new_training/2_1_descriptor_0_10000.tsv\", arr, delimiter=\"\\t\")\n",
    "print \"end : %d : \" % cnt + time.strftime('%a %H:%M:%S')"
   ]
  },
  {
   "cell_type": "code",
   "execution_count": 22,
   "metadata": {
    "collapsed": true
   },
   "outputs": [],
   "source": [
    "arr2 = pd.read_table(\"/DAS_Storage1/aschoi/data/Drug_Repositioning/8_new_training/2_1_descriptor_10001_20000.tsv\", header = None)\n",
    "arr3 = pd.read_table(\"/DAS_Storage1/aschoi/data/Drug_Repositioning/8_new_training/2_1_descriptor_20001_30000.tsv\", header = None)\n",
    "arr4 = pd.read_table(\"/DAS_Storage1/aschoi/data/Drug_Repositioning/8_new_training/2_1_descriptor_30001_40000.tsv\", header = None)\n",
    "arr5 = pd.read_table(\"/DAS_Storage1/aschoi/data/Drug_Repositioning/8_new_training/2_1_descriptor_40001_50000.tsv\", header = None)\n",
    "arr6 = pd.read_table(\"/DAS_Storage1/aschoi/data/Drug_Repositioning/8_new_training/2_1_descriptor_50001_60000.tsv\", header = None)\n",
    "arr7 = pd.read_table(\"/DAS_Storage1/aschoi/data/Drug_Repositioning/8_new_training/2_1_descriptor_60001_70000.tsv\", header = None)\n",
    "arr8 = pd.read_table(\"/DAS_Storage1/aschoi/data/Drug_Repositioning/8_new_training/2_1_descriptor_70001_80000.tsv\", header = None)\n",
    "arr9 = pd.read_table(\"/DAS_Storage1/aschoi/data/Drug_Repositioning/8_new_training/2_1_descriptor_80001_90000.tsv\", header = None)\n",
    "arr10 = pd.read_table(\"/DAS_Storage1/aschoi/data/Drug_Repositioning/8_new_training/2_1_descriptor_90001_100000.tsv\", header = None)\n",
    "arr11 = pd.read_table(\"/DAS_Storage1/aschoi/data/Drug_Repositioning/8_new_training/2_1_descriptor_100001_110685.tsv\", header = None)"
   ]
  },
  {
   "cell_type": "code",
   "execution_count": 23,
   "metadata": {
    "collapsed": false
   },
   "outputs": [
    {
     "name": "stdout",
     "output_type": "stream",
     "text": [
      "10001 10000 10000 10000 10000 10000 10000 10000 10000 10000 10684\n"
     ]
    }
   ],
   "source": [
    "print len(arr), len(arr2), len(arr3), len(arr4), len(arr5), len(arr6), len(arr7), len(arr8), len(arr9), len(arr10), len(arr11)"
   ]
  },
  {
   "cell_type": "code",
   "execution_count": 24,
   "metadata": {
    "collapsed": false
   },
   "outputs": [
    {
     "name": "stdout",
     "output_type": "stream",
     "text": [
      "100684\n"
     ]
    }
   ],
   "source": [
    "frames = [arr2, arr3, arr4, arr5, arr6, arr7, arr8, arr9, arr10, arr11]\n",
    "arr2_11 = pd.concat(frames)\n",
    "print len(arr2_11)"
   ]
  },
  {
   "cell_type": "code",
   "execution_count": 27,
   "metadata": {
    "collapsed": false
   },
   "outputs": [
    {
     "data": {
      "text/plain": [
       "(110685, 5797)"
      ]
     },
     "execution_count": 27,
     "metadata": {},
     "output_type": "execute_result"
    }
   ],
   "source": [
    "features = np.vstack([arr,arr2_11.values])\n",
    "features.shape"
   ]
  },
  {
   "cell_type": "code",
   "execution_count": 63,
   "metadata": {
    "collapsed": false
   },
   "outputs": [],
   "source": [
    "np.savetxt(\"/DAS_Storage1/aschoi/data/Drug_Repositioning/8_new_training/2_1_descriptor_combined.tsv\", features, delimiter=\"\\t\")"
   ]
  },
  {
   "cell_type": "code",
   "execution_count": null,
   "metadata": {
    "collapsed": true
   },
   "outputs": [],
   "source": []
  },
  {
   "cell_type": "code",
   "execution_count": null,
   "metadata": {
    "collapsed": true
   },
   "outputs": [],
   "source": []
  },
  {
   "cell_type": "code",
   "execution_count": null,
   "metadata": {
    "collapsed": true
   },
   "outputs": [],
   "source": []
  },
  {
   "cell_type": "code",
   "execution_count": null,
   "metadata": {
    "collapsed": true
   },
   "outputs": [],
   "source": []
  },
  {
   "cell_type": "code",
   "execution_count": null,
   "metadata": {
    "collapsed": true
   },
   "outputs": [],
   "source": []
  },
  {
   "cell_type": "code",
   "execution_count": null,
   "metadata": {
    "collapsed": true
   },
   "outputs": [],
   "source": []
  },
  {
   "cell_type": "code",
   "execution_count": 59,
   "metadata": {
    "collapsed": false
   },
   "outputs": [
    {
     "name": "stdout",
     "output_type": "stream",
     "text": [
      "start : Thu 16:50:53\n",
      "end : Thu 16:50:55\n",
      "(83013, 5797) (83013,)\n",
      "(27672, 5797) (27672,)\n"
     ]
    }
   ],
   "source": [
    "y = df_asso.values[:, 2]\n",
    "from sklearn.cross_validation import train_test_split\n",
    "print \"start : \" + time.strftime('%a %H:%M:%S')\n",
    "X_train, X_test, y_train, y_test = train_test_split(features, y, test_size = 0.25)\n",
    "print \"end : \" + time.strftime('%a %H:%M:%S')\n",
    "\n",
    "print X_train.shape, y_train.shape\n",
    "print X_test.shape, y_test.shape\n",
    "Y_train = list(y_train)\n",
    "Y_test = list(y_test)"
   ]
  },
  {
   "cell_type": "code",
   "execution_count": 60,
   "metadata": {
    "collapsed": false
   },
   "outputs": [
    {
     "name": "stdout",
     "output_type": "stream",
     "text": [
      "1051 383\n"
     ]
    }
   ],
   "source": [
    "print sum(Y_train), sum(Y_test)"
   ]
  },
  {
   "cell_type": "code",
   "execution_count": 61,
   "metadata": {
    "collapsed": false
   },
   "outputs": [
    {
     "name": "stdout",
     "output_type": "stream",
     "text": [
      "start : Thu 16:51:18\n",
      "C=10000.0000\n",
      "Sparsity with L1 penalty: 0.17%\n",
      "score with L1 penalty: 0.9873\n",
      "0.987255008252\n",
      "0.986014744146\n",
      "             precision    recall  f1-score   support\n",
      "\n",
      "          0       0.99      1.00      0.99     27289\n",
      "          1       0.00      0.00      0.00       383\n",
      "\n",
      "avg / total       0.97      0.99      0.98     27672\n",
      "\n",
      "C=1000.0000\n",
      "Sparsity with L1 penalty: 0.55%\n",
      "score with L1 penalty: 0.9873\n",
      "0.987255008252\n",
      "0.985978606534\n",
      "             precision    recall  f1-score   support\n",
      "\n",
      "          0       0.99      1.00      0.99     27289\n",
      "          1       0.00      0.00      0.00       383\n",
      "\n",
      "avg / total       0.97      0.99      0.98     27672\n",
      "\n",
      "C=100.0000\n",
      "Sparsity with L1 penalty: 8.19%\n",
      "score with L1 penalty: 0.9873\n",
      "0.987267054558\n",
      "0.986014744146\n",
      "             precision    recall  f1-score   support\n",
      "\n",
      "          0       0.99      1.00      0.99     27289\n",
      "          1       0.00      0.00      0.00       383\n",
      "\n",
      "avg / total       0.97      0.99      0.98     27672\n",
      "\n",
      "C=10.0000\n",
      "Sparsity with L1 penalty: 44.42%\n",
      "score with L1 penalty: 0.9873\n",
      "0.987267054558\n",
      "0.986014744146\n",
      "             precision    recall  f1-score   support\n",
      "\n",
      "          0       0.99      1.00      0.99     27289\n",
      "          1       0.00      0.00      0.00       383\n",
      "\n",
      "avg / total       0.97      0.99      0.98     27672\n",
      "\n",
      "C=1.0000\n",
      "Sparsity with L1 penalty: 80.65%\n",
      "score with L1 penalty: 0.9873\n",
      "0.987267054558\n",
      "0.986050881758\n",
      "             precision    recall  f1-score   support\n",
      "\n",
      "          0       0.99      1.00      0.99     27289\n",
      "          1       0.00      0.00      0.00       383\n",
      "\n",
      "avg / total       0.97      0.99      0.98     27672\n",
      "\n",
      "C=0.1000\n",
      "Sparsity with L1 penalty: 95.86%\n",
      "score with L1 penalty: 0.9873\n",
      "0.987315239782\n",
      "0.986159294594\n",
      "             precision    recall  f1-score   support\n",
      "\n",
      "          0       0.99      1.00      0.99     27289\n",
      "          1       0.00      0.00      0.00       383\n",
      "\n",
      "avg / total       0.97      0.99      0.98     27672\n",
      "\n",
      "C=0.0100\n",
      "Sparsity with L1 penalty: 99.71%\n",
      "score with L1 penalty: 0.9873\n",
      "0.987339332394\n",
      "0.986159294594\n",
      "             precision    recall  f1-score   support\n",
      "\n",
      "          0       0.99      1.00      0.99     27289\n",
      "          1       0.00      0.00      0.00       383\n",
      "\n",
      "avg / total       0.97      0.99      0.98     27672\n",
      "\n",
      "C=0.0010\n",
      "Sparsity with L1 penalty: 100.00%\n",
      "score with L1 penalty: 0.9873\n",
      "0.987339332394\n",
      "0.986159294594\n",
      "             precision    recall  f1-score   support\n",
      "\n",
      "          0       0.99      1.00      0.99     27289\n",
      "          1       0.00      0.00      0.00       383\n",
      "\n",
      "avg / total       0.97      0.99      0.98     27672\n",
      "\n",
      "C=0.0001\n",
      "Sparsity with L1 penalty: 100.00%\n",
      "score with L1 penalty: 0.9873\n",
      "0.987339332394\n",
      "0.986159294594\n",
      "             precision    recall  f1-score   support\n",
      "\n",
      "          0       0.99      1.00      0.99     27289\n",
      "          1       0.00      0.00      0.00       383\n",
      "\n",
      "avg / total       0.97      0.99      0.98     27672\n",
      "\n",
      "end : Thu 16:52:24\n"
     ]
    }
   ],
   "source": [
    "print \"start : \" + time.strftime('%a %H:%M:%S')\n",
    "for i, C in enumerate((10000, 1000, 100, 10, 1, 0.1, 0.01, 0.001, 0.0001)):\n",
    "    clf_l1_LR = LogisticRegression(C=C, penalty='l1', tol= 0.01)\n",
    "    #clf_l1_LR.fit(X_train, y_train)\n",
    "    clf_l1_LR.fit(X_train, Y_train)\n",
    "    \n",
    "    coef_l1_LR = clf_l1_LR.coef_.ravel()\n",
    "    \n",
    "    sparsity_l1_LR = np.mean(coef_l1_LR == 0) * 100\n",
    "\n",
    "    #print \"%.4lf : \" % C + time.strftime('%a %H:%M:%S')\n",
    "    \n",
    "    print(\"C=%.4f\" % C)\n",
    "    print(\"Sparsity with L1 penalty: %.2f%%\" % sparsity_l1_LR)\n",
    "    print(\"score with L1 penalty: %.4f\" % clf_l1_LR.score(X_train, Y_train))\n",
    "    \n",
    "    \n",
    "    # 성능 측정-정확도 : training data에서의 정확도 츨정. classifier가 정확하게 분류한 인스턴스의 비율을 측정한다. --> 이걸로 측정하면 안됨.\n",
    "    y_train_pred = clf_l1_LR.predict(X_train)\n",
    "    print metrics.accuracy_score(Y_train, y_train_pred)\n",
    "    \n",
    "    # test data에서의 정확도 측정 : 일반적으로 training data에서보다 낮은 정확도를 보인다.\n",
    "    y_pred = clf_l1_LR.predict(X_test)\n",
    "    print metrics.accuracy_score(Y_test, y_pred)\n",
    "    \n",
    "    #평가함수\n",
    "    print metrics.classification_report(Y_test, y_pred)\n",
    "    \n",
    "    \n",
    "print \"end : \" + time.strftime('%a %H:%M:%S')"
   ]
  },
  {
   "cell_type": "code",
   "execution_count": null,
   "metadata": {
    "collapsed": true
   },
   "outputs": [],
   "source": []
  },
  {
   "cell_type": "code",
   "execution_count": null,
   "metadata": {
    "collapsed": true
   },
   "outputs": [],
   "source": []
  }
 ],
 "metadata": {
  "kernelspec": {
   "display_name": "Python 2",
   "language": "python",
   "name": "python2"
  },
  "language_info": {
   "codemirror_mode": {
    "name": "ipython",
    "version": 2
   },
   "file_extension": ".py",
   "mimetype": "text/x-python",
   "name": "python",
   "nbconvert_exporter": "python",
   "pygments_lexer": "ipython2",
   "version": "2.7.6"
  }
 },
 "nbformat": 4,
 "nbformat_minor": 0
}
