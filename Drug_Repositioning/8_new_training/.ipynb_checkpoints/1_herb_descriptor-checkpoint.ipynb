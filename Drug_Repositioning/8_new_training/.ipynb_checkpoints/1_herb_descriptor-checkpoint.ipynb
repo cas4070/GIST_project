{
 "cells": [
  {
   "cell_type": "code",
   "execution_count": 1,
   "metadata": {
    "collapsed": true
   },
   "outputs": [],
   "source": [
    "import numpy as np\n",
    "import pandas as pd\n",
    "import time"
   ]
  },
  {
   "cell_type": "code",
   "execution_count": 53,
   "metadata": {
    "collapsed": false
   },
   "outputs": [],
   "source": [
    "herb = pd.read_table(\"/DAS_Storage1/aschoi/data/COCONUT_Herbal/6_Herb/7_herb_compound_combined_common_phenotypic_effects.tsv\")\n",
    "herb_asso = pd.read_table(\"/DAS_Storage1/aschoi/data/COCONUT_Herbal/6_Herb/7_2_learning_herb_compound_disease_association.tsv\")\n",
    "disease = pd.read_table(\"/DAS_Storage1/aschoi/data/Drug_Repositioning/6_new_disease/8_gold_disease_feature.tsv\")\n",
    "disgenet = pd.read_table(\"/DAS_Storage1/aschoi/data/Drug_Repositioning/6_new_disease/curated_gene_disease_associations.tsv\", skiprows = 21)"
   ]
  },
  {
   "cell_type": "code",
   "execution_count": 16,
   "metadata": {
    "collapsed": false
   },
   "outputs": [
    {
     "name": "stdout",
     "output_type": "stream",
     "text": [
      "20442\n",
      "143\n",
      "1879\n"
     ]
    },
    {
     "data": {
      "text/html": [
       "<div>\n",
       "<table border=\"1\" class=\"dataframe\">\n",
       "  <thead>\n",
       "    <tr style=\"text-align: right;\">\n",
       "      <th></th>\n",
       "      <th>compID</th>\n",
       "      <th>umls_id</th>\n",
       "    </tr>\n",
       "  </thead>\n",
       "  <tbody>\n",
       "    <tr>\n",
       "      <th>0</th>\n",
       "      <td>1020.0</td>\n",
       "      <td>C0002170</td>\n",
       "    </tr>\n",
       "  </tbody>\n",
       "</table>\n",
       "</div>"
      ],
      "text/plain": [
       "   compID   umls_id\n",
       "0  1020.0  C0002170"
      ]
     },
     "execution_count": 16,
     "metadata": {},
     "output_type": "execute_result"
    }
   ],
   "source": [
    "print len(herb)\n",
    "print len(herb['compID'].drop_duplicates())\n",
    "print len(herb['umls_id'].drop_duplicates())\n",
    "herb.head(1)"
   ]
  },
  {
   "cell_type": "code",
   "execution_count": 34,
   "metadata": {
    "collapsed": false
   },
   "outputs": [
    {
     "data": {
      "text/html": [
       "<div>\n",
       "<table border=\"1\" class=\"dataframe\">\n",
       "  <thead>\n",
       "    <tr style=\"text-align: right;\">\n",
       "      <th></th>\n",
       "      <th>OMIM_ID</th>\n",
       "      <th>OMIM_disease_name</th>\n",
       "      <th>UMLS_concept_ID</th>\n",
       "      <th>UMLS_concept_name</th>\n",
       "      <th>DisGeNet_geneId</th>\n",
       "      <th>DIsGeNet_score</th>\n",
       "      <th>DIsGeNet_geneName</th>\n",
       "      <th>DIsGeNet_sourceId</th>\n",
       "    </tr>\n",
       "  </thead>\n",
       "  <tbody>\n",
       "    <tr>\n",
       "      <th>0</th>\n",
       "      <td>102300</td>\n",
       "      <td>Restless Legs Syndrome, Susceptibility To, 1; ...</td>\n",
       "      <td>C0035258</td>\n",
       "      <td>Restless Legs Syndrome</td>\n",
       "      <td>100188812</td>\n",
       "      <td>0.120543</td>\n",
       "      <td>RLS3</td>\n",
       "      <td>CTD_human</td>\n",
       "    </tr>\n",
       "  </tbody>\n",
       "</table>\n",
       "</div>"
      ],
      "text/plain": [
       "   OMIM_ID                                  OMIM_disease_name UMLS_concept_ID  \\\n",
       "0   102300  Restless Legs Syndrome, Susceptibility To, 1; ...        C0035258   \n",
       "\n",
       "        UMLS_concept_name  DisGeNet_geneId  DIsGeNet_score DIsGeNet_geneName  \\\n",
       "0  Restless Legs Syndrome        100188812        0.120543              RLS3   \n",
       "\n",
       "  DIsGeNet_sourceId  \n",
       "0         CTD_human  "
      ]
     },
     "execution_count": 34,
     "metadata": {},
     "output_type": "execute_result"
    }
   ],
   "source": [
    "disease.head(1)"
   ]
  },
  {
   "cell_type": "code",
   "execution_count": 123,
   "metadata": {
    "collapsed": false
   },
   "outputs": [
    {
     "name": "stdout",
     "output_type": "stream",
     "text": [
      "10015\n",
      "265\n",
      "235\n",
      "3521\n"
     ]
    },
    {
     "data": {
      "text/html": [
       "<div>\n",
       "<table border=\"1\" class=\"dataframe\">\n",
       "  <thead>\n",
       "    <tr style=\"text-align: right;\">\n",
       "      <th></th>\n",
       "      <th>OMIM_ID</th>\n",
       "      <th>OMIM_disease_name</th>\n",
       "      <th>UMLS_concept_ID</th>\n",
       "      <th>UMLS_concept_name</th>\n",
       "      <th>DisGeNet_geneId</th>\n",
       "      <th>DIsGeNet_score</th>\n",
       "      <th>DIsGeNet_geneName</th>\n",
       "      <th>DIsGeNet_sourceId</th>\n",
       "    </tr>\n",
       "  </thead>\n",
       "  <tbody>\n",
       "    <tr>\n",
       "      <th>0</th>\n",
       "      <td>102300</td>\n",
       "      <td>Restless Legs Syndrome, Susceptibility To, 1; ...</td>\n",
       "      <td>C0035258</td>\n",
       "      <td>Restless Legs Syndrome</td>\n",
       "      <td>100188812</td>\n",
       "      <td>0.120543</td>\n",
       "      <td>RLS3</td>\n",
       "      <td>CTD_human</td>\n",
       "    </tr>\n",
       "  </tbody>\n",
       "</table>\n",
       "</div>"
      ],
      "text/plain": [
       "   OMIM_ID                                  OMIM_disease_name UMLS_concept_ID  \\\n",
       "0   102300  Restless Legs Syndrome, Susceptibility To, 1; ...        C0035258   \n",
       "\n",
       "        UMLS_concept_name  DisGeNet_geneId  DIsGeNet_score DIsGeNet_geneName  \\\n",
       "0  Restless Legs Syndrome        100188812        0.120543              RLS3   \n",
       "\n",
       "  DIsGeNet_sourceId  \n",
       "0         CTD_human  "
      ]
     },
     "execution_count": 123,
     "metadata": {},
     "output_type": "execute_result"
    }
   ],
   "source": [
    "print len(disease)\n",
    "print len(disease['UMLS_concept_ID'].drop_duplicates())\n",
    "print len(disease['OMIM_ID'].drop_duplicates())\n",
    "print len(disease['DisGeNet_geneId'].drop_duplicates())\n",
    "disease.head(1)"
   ]
  },
  {
   "cell_type": "code",
   "execution_count": 54,
   "metadata": {
    "collapsed": false
   },
   "outputs": [
    {
     "name": "stdout",
     "output_type": "stream",
     "text": [
      "32834\n",
      "7607\n",
      "9362\n"
     ]
    },
    {
     "data": {
      "text/html": [
       "<div>\n",
       "<table border=\"1\" class=\"dataframe\">\n",
       "  <thead>\n",
       "    <tr style=\"text-align: right;\">\n",
       "      <th></th>\n",
       "      <th>diseaseId</th>\n",
       "      <th>geneId</th>\n",
       "      <th>score</th>\n",
       "      <th>geneName</th>\n",
       "      <th>description</th>\n",
       "      <th>diseaseName</th>\n",
       "      <th>sourceId</th>\n",
       "      <th>NofPmids</th>\n",
       "      <th>NofSnps</th>\n",
       "    </tr>\n",
       "  </thead>\n",
       "  <tbody>\n",
       "    <tr>\n",
       "      <th>0</th>\n",
       "      <td>C0000737</td>\n",
       "      <td>3440</td>\n",
       "      <td>0.12</td>\n",
       "      <td>IFNA2</td>\n",
       "      <td>interferon, alpha 2</td>\n",
       "      <td>Abdominal Pain</td>\n",
       "      <td>CTD_human</td>\n",
       "      <td>1</td>\n",
       "      <td>0</td>\n",
       "    </tr>\n",
       "  </tbody>\n",
       "</table>\n",
       "</div>"
      ],
      "text/plain": [
       "  diseaseId  geneId  score geneName          description     diseaseName  \\\n",
       "0  C0000737    3440   0.12    IFNA2  interferon, alpha 2  Abdominal Pain   \n",
       "\n",
       "    sourceId  NofPmids  NofSnps  \n",
       "0  CTD_human         1        0  "
      ]
     },
     "execution_count": 54,
     "metadata": {},
     "output_type": "execute_result"
    }
   ],
   "source": [
    "print len(disgenet)\n",
    "print len(disgenet['diseaseId'].drop_duplicates())\n",
    "print len(disgenet['geneId'].drop_duplicates())\n",
    "disgenet['diseaseId']  = disgenet['diseaseId'].str.slice(start = 5)\n",
    "disgenet.head(1)"
   ]
  },
  {
   "cell_type": "code",
   "execution_count": 28,
   "metadata": {
    "collapsed": false
   },
   "outputs": [
    {
     "name": "stdout",
     "output_type": "stream",
     "text": [
      "6037\n",
      "23\n",
      "1775\n"
     ]
    },
    {
     "data": {
      "text/html": [
       "<div>\n",
       "<table border=\"1\" class=\"dataframe\">\n",
       "  <thead>\n",
       "    <tr style=\"text-align: right;\">\n",
       "      <th></th>\n",
       "      <th>compID</th>\n",
       "      <th>effectType</th>\n",
       "      <th>evidence</th>\n",
       "      <th>phenID</th>\n",
       "      <th>reference</th>\n",
       "      <th>umlsID</th>\n",
       "    </tr>\n",
       "  </thead>\n",
       "  <tbody>\n",
       "    <tr>\n",
       "      <th>0</th>\n",
       "      <td>5525.0</td>\n",
       "      <td>Association</td>\n",
       "      <td>Adenocarcinoma</td>\n",
       "      <td>912.0</td>\n",
       "      <td>CTD[D019905]</td>\n",
       "      <td>C0001418</td>\n",
       "    </tr>\n",
       "  </tbody>\n",
       "</table>\n",
       "</div>"
      ],
      "text/plain": [
       "   compID   effectType        evidence  phenID     reference    umlsID\n",
       "0  5525.0  Association  Adenocarcinoma   912.0  CTD[D019905]  C0001418"
      ]
     },
     "execution_count": 28,
     "metadata": {},
     "output_type": "execute_result"
    }
   ],
   "source": [
    "print len(herb_asso)\n",
    "print len(herb_asso['compID'].drop_duplicates()) # disease association이 존재하는 herbal compound(이 compound들은 drug feature처리가 되어있음.)\n",
    "print len(herb_asso['umlsID'].drop_duplicates()) # disease의 수\n",
    "herb_asso.head(1)"
   ]
  },
  {
   "cell_type": "code",
   "execution_count": 69,
   "metadata": {
    "collapsed": false
   },
   "outputs": [
    {
     "name": "stdout",
     "output_type": "stream",
     "text": [
      "5134\n",
      "23\n",
      "1468\n"
     ]
    }
   ],
   "source": [
    "# herb_asso의 disease 중, feature를 가지고 있는 애들\n",
    "k = herb_asso[herb_asso['umlsID'].isin(disgenet['diseaseId'])]\n",
    "print len(k)\n",
    "print len(k['compID'].drop_duplicates())\n",
    "print len(k['umlsID'].drop_duplicates())"
   ]
  },
  {
   "cell_type": "code",
   "execution_count": 59,
   "metadata": {
    "collapsed": false
   },
   "outputs": [
    {
     "name": "stdout",
     "output_type": "stream",
     "text": [
      "1468\n",
      "6626\n"
     ]
    }
   ],
   "source": [
    "# disgenet 중에, herb_asso의 disease를 보기\n",
    "c = disgenet[disgenet['diseaseId'].isin(herb_asso['umlsID'])]\n",
    "print len(c['diseaseId'].drop_duplicates())\n",
    "print len(c['geneId'].drop_duplicates())"
   ]
  },
  {
   "cell_type": "code",
   "execution_count": 71,
   "metadata": {
    "collapsed": false
   },
   "outputs": [
    {
     "name": "stdout",
     "output_type": "stream",
     "text": [
      "159296\n",
      "159296\n",
      "5134\n",
      "23\n",
      "1468\n",
      "1468\n",
      "6626\n"
     ]
    },
    {
     "data": {
      "text/html": [
       "<div>\n",
       "<table border=\"1\" class=\"dataframe\">\n",
       "  <thead>\n",
       "    <tr style=\"text-align: right;\">\n",
       "      <th></th>\n",
       "      <th>compID</th>\n",
       "      <th>effectType</th>\n",
       "      <th>evidence</th>\n",
       "      <th>phenID</th>\n",
       "      <th>reference</th>\n",
       "      <th>umlsID</th>\n",
       "      <th>diseaseId</th>\n",
       "      <th>geneId</th>\n",
       "      <th>score</th>\n",
       "      <th>geneName</th>\n",
       "      <th>description</th>\n",
       "      <th>diseaseName</th>\n",
       "      <th>sourceId</th>\n",
       "      <th>NofPmids</th>\n",
       "      <th>NofSnps</th>\n",
       "    </tr>\n",
       "  </thead>\n",
       "  <tbody>\n",
       "    <tr>\n",
       "      <th>0</th>\n",
       "      <td>5525.0</td>\n",
       "      <td>Association</td>\n",
       "      <td>Adenocarcinoma</td>\n",
       "      <td>912.0</td>\n",
       "      <td>CTD[D019905]</td>\n",
       "      <td>C0001418</td>\n",
       "      <td>C0001418</td>\n",
       "      <td>10232</td>\n",
       "      <td>0.126263</td>\n",
       "      <td>MSLN</td>\n",
       "      <td>mesothelin</td>\n",
       "      <td>Adenocarcinoma</td>\n",
       "      <td>CTD_human</td>\n",
       "      <td>5</td>\n",
       "      <td>0</td>\n",
       "    </tr>\n",
       "  </tbody>\n",
       "</table>\n",
       "</div>"
      ],
      "text/plain": [
       "   compID   effectType        evidence  phenID     reference    umlsID  \\\n",
       "0  5525.0  Association  Adenocarcinoma   912.0  CTD[D019905]  C0001418   \n",
       "\n",
       "  diseaseId  geneId     score geneName description     diseaseName   sourceId  \\\n",
       "0  C0001418   10232  0.126263     MSLN  mesothelin  Adenocarcinoma  CTD_human   \n",
       "\n",
       "   NofPmids  NofSnps  \n",
       "0         5        0  "
      ]
     },
     "execution_count": 71,
     "metadata": {},
     "output_type": "execute_result"
    }
   ],
   "source": [
    "# 둘이 join 함\n",
    "combined = pd.merge(left = k, right = c, left_on = 'umlsID', right_on='diseaseId')\n",
    "print len(combined)\n",
    "print len(combined.drop_duplicates())\n",
    "print len(combined.drop_duplicates(subset = ['compID', 'umlsID']))\n",
    "print len(combined['compID'].drop_duplicates())\n",
    "print len(combined['umlsID'].drop_duplicates())\n",
    "print len(combined['diseaseId'].drop_duplicates())\n",
    "print len(combined['geneId'].drop_duplicates())\n",
    "combined.head(1)"
   ]
  },
  {
   "cell_type": "code",
   "execution_count": 72,
   "metadata": {
    "collapsed": false
   },
   "outputs": [
    {
     "name": "stdout",
     "output_type": "stream",
     "text": [
      "114687\n",
      "114687\n",
      "4911\n",
      "23\n",
      "1289\n",
      "3248\n"
     ]
    },
    {
     "data": {
      "text/html": [
       "<div>\n",
       "<table border=\"1\" class=\"dataframe\">\n",
       "  <thead>\n",
       "    <tr style=\"text-align: right;\">\n",
       "      <th></th>\n",
       "      <th>compID</th>\n",
       "      <th>effectType</th>\n",
       "      <th>evidence</th>\n",
       "      <th>phenID</th>\n",
       "      <th>reference</th>\n",
       "      <th>umlsID</th>\n",
       "      <th>diseaseId</th>\n",
       "      <th>geneId</th>\n",
       "      <th>score</th>\n",
       "      <th>geneName</th>\n",
       "      <th>description</th>\n",
       "      <th>diseaseName</th>\n",
       "      <th>sourceId</th>\n",
       "      <th>NofPmids</th>\n",
       "      <th>NofSnps</th>\n",
       "    </tr>\n",
       "  </thead>\n",
       "  <tbody>\n",
       "    <tr>\n",
       "      <th>3</th>\n",
       "      <td>5525.0</td>\n",
       "      <td>Association</td>\n",
       "      <td>Adenocarcinoma</td>\n",
       "      <td>912.0</td>\n",
       "      <td>CTD[D019905]</td>\n",
       "      <td>C0001418</td>\n",
       "      <td>C0001418</td>\n",
       "      <td>1029</td>\n",
       "      <td>0.180217</td>\n",
       "      <td>CDKN2A</td>\n",
       "      <td>cyclin-dependent kinase inhibitor 2A</td>\n",
       "      <td>Adenocarcinoma</td>\n",
       "      <td>CTD_human</td>\n",
       "      <td>105</td>\n",
       "      <td>0</td>\n",
       "    </tr>\n",
       "  </tbody>\n",
       "</table>\n",
       "</div>"
      ],
      "text/plain": [
       "   compID   effectType        evidence  phenID     reference    umlsID  \\\n",
       "3  5525.0  Association  Adenocarcinoma   912.0  CTD[D019905]  C0001418   \n",
       "\n",
       "  diseaseId  geneId     score geneName                           description  \\\n",
       "3  C0001418    1029  0.180217   CDKN2A  cyclin-dependent kinase inhibitor 2A   \n",
       "\n",
       "      diseaseName   sourceId  NofPmids  NofSnps  \n",
       "3  Adenocarcinoma  CTD_human       105        0  "
      ]
     },
     "execution_count": 72,
     "metadata": {},
     "output_type": "execute_result"
    }
   ],
   "source": [
    "# learning에 쓰이는 gold standard disease feature로 filter해야함.\n",
    "h = combined[combined['geneId'].isin(disease['DisGeNet_geneId'])]\n",
    "print len(h)\n",
    "print len(h.drop_duplicates())\n",
    "print len(h.drop_duplicates(subset = ['compID', 'umlsID']))\n",
    "print len(h['compID'].drop_duplicates())\n",
    "print len(h['umlsID'].drop_duplicates())\n",
    "print len(h['geneId'].drop_duplicates())\n",
    "h.head(1)"
   ]
  },
  {
   "cell_type": "code",
   "execution_count": 65,
   "metadata": {
    "collapsed": false
   },
   "outputs": [
    {
     "data": {
      "text/plain": [
       "array(['compID', 'effectType', 'evidence', 'phenID', 'reference', 'umlsID',\n",
       "       'diseaseId', 'geneId', 'score', 'geneName', 'description',\n",
       "       'diseaseName', 'sourceId', 'NofPmids', 'NofSnps'], dtype=object)"
      ]
     },
     "execution_count": 65,
     "metadata": {},
     "output_type": "execute_result"
    }
   ],
   "source": [
    "h.columns.values"
   ]
  },
  {
   "cell_type": "code",
   "execution_count": 132,
   "metadata": {
    "collapsed": false
   },
   "outputs": [
    {
     "name": "stdout",
     "output_type": "stream",
     "text": [
      "76265\n",
      "76265\n",
      "4257\n",
      "22\n",
      "1149\n",
      "2046\n"
     ]
    }
   ],
   "source": [
    "filtered = h[['compID', 'effectType', 'evidence', 'phenID', 'reference', 'umlsID','diseaseId', 'geneId', 'score', 'geneName', 'description','diseaseName', 'sourceId']]\n",
    "results = filtered[~filtered['umlsID'].isin(disease['UMLS_concept_ID'])]\n",
    "print len(results)\n",
    "print len(results.drop_duplicates())\n",
    "print len(results.drop_duplicates(subset = ['compID', 'umlsID']))\n",
    "print len(results.drop_duplicates(subset = 'compID'))\n",
    "print len(results.drop_duplicates(subset = 'umlsID'))\n",
    "print len(results.drop_duplicates(subset = 'geneId'))"
   ]
  },
  {
   "cell_type": "code",
   "execution_count": 133,
   "metadata": {
    "collapsed": true
   },
   "outputs": [],
   "source": [
    "results.to_csv(\"/home/share/aschoi/nas/users/asolchoi/data/COCONUT_Herbal/6_Herb/7_3_learning_herb_compound_disease_association_final.tsv\", index=False)\n",
    "results.to_csv(\"/DAS_Storage1/aschoi/data/COCONUT_Herbal/6_Herb/7_3_learning_herb_compound_disease_association_final.tsv\", index=False)"
   ]
  },
  {
   "cell_type": "code",
   "execution_count": 79,
   "metadata": {
    "collapsed": false
   },
   "outputs": [],
   "source": [
    "# learning에 쓰일 수 있는 형태로 만들기\n",
    "herb_feature = pd.read_table(\"/DAS_Storage1/aschoi/data/COCONUT_Herbal/6_Herb/7_herb_compound_combined_common_phenotypic_effects.tsv\")\n",
    "common_feature = pd.read_table(\"/DAS_Storage1/aschoi/data/Drug_Repositioning/5_new_drug/7_2_gold_drug_feature_id.tsv\")"
   ]
  },
  {
   "cell_type": "code",
   "execution_count": 99,
   "metadata": {
    "collapsed": true
   },
   "outputs": [],
   "source": [
    "disease_mat = pd.read_table(\"/DAS_Storage1/aschoi/data/Drug_Repositioning/6_new_disease/8_gold_standard_disease_binary_matrix.tsv\", index_col=0)\n",
    "drug_mat = pd.read_table(\"/DAS_Storage1/aschoi/data/Drug_Repositioning/5_new_drug/8_gold_standard_drug_binary_matrix.tsv\", index_col = 0)"
   ]
  },
  {
   "cell_type": "code",
   "execution_count": 100,
   "metadata": {
    "collapsed": false
   },
   "outputs": [
    {
     "data": {
      "text/html": [
       "<div>\n",
       "<table border=\"1\" class=\"dataframe\">\n",
       "  <thead>\n",
       "    <tr style=\"text-align: right;\">\n",
       "      <th></th>\n",
       "      <th>102300</th>\n",
       "      <th>102400</th>\n",
       "      <th>102500</th>\n",
       "      <th>103780</th>\n",
       "      <th>104130</th>\n",
       "      <th>104300</th>\n",
       "      <th>106400</th>\n",
       "      <th>107650</th>\n",
       "      <th>109100</th>\n",
       "      <th>109200</th>\n",
       "      <th>...</th>\n",
       "      <th>607631</th>\n",
       "      <th>607681</th>\n",
       "      <th>607682</th>\n",
       "      <th>607850</th>\n",
       "      <th>608088</th>\n",
       "      <th>608105</th>\n",
       "      <th>608217</th>\n",
       "      <th>608320</th>\n",
       "      <th>608583</th>\n",
       "      <th>608622</th>\n",
       "    </tr>\n",
       "  </thead>\n",
       "  <tbody>\n",
       "    <tr>\n",
       "      <th>100188812</th>\n",
       "      <td>1</td>\n",
       "      <td>0</td>\n",
       "      <td>0</td>\n",
       "      <td>0</td>\n",
       "      <td>0</td>\n",
       "      <td>0</td>\n",
       "      <td>0</td>\n",
       "      <td>0</td>\n",
       "      <td>0</td>\n",
       "      <td>0</td>\n",
       "      <td>...</td>\n",
       "      <td>0</td>\n",
       "      <td>0</td>\n",
       "      <td>0</td>\n",
       "      <td>0</td>\n",
       "      <td>0</td>\n",
       "      <td>0</td>\n",
       "      <td>0</td>\n",
       "      <td>0</td>\n",
       "      <td>0</td>\n",
       "      <td>0</td>\n",
       "    </tr>\n",
       "  </tbody>\n",
       "</table>\n",
       "<p>1 rows × 235 columns</p>\n",
       "</div>"
      ],
      "text/plain": [
       "           102300  102400  102500  103780  104130  104300  106400  107650  \\\n",
       "100188812       1       0       0       0       0       0       0       0   \n",
       "\n",
       "           109100  109200   ...    607631  607681  607682  607850  608088  \\\n",
       "100188812       0       0   ...         0       0       0       0       0   \n",
       "\n",
       "           608105  608217  608320  608583  608622  \n",
       "100188812       0       0       0       0       0  \n",
       "\n",
       "[1 rows x 235 columns]"
      ]
     },
     "execution_count": 100,
     "metadata": {},
     "output_type": "execute_result"
    }
   ],
   "source": [
    "disease_mat.head(1)"
   ]
  },
  {
   "cell_type": "code",
   "execution_count": 84,
   "metadata": {
    "collapsed": false
   },
   "outputs": [
    {
     "name": "stdout",
     "output_type": "stream",
     "text": [
      "99083\n",
      "2276\n"
     ]
    },
    {
     "data": {
      "text/html": [
       "<div>\n",
       "<table border=\"1\" class=\"dataframe\">\n",
       "  <thead>\n",
       "    <tr style=\"text-align: right;\">\n",
       "      <th></th>\n",
       "      <th>DrugBank_ID</th>\n",
       "      <th>umls_id</th>\n",
       "    </tr>\n",
       "  </thead>\n",
       "  <tbody>\n",
       "    <tr>\n",
       "      <th>0</th>\n",
       "      <td>DB00215</td>\n",
       "      <td>C0000737</td>\n",
       "    </tr>\n",
       "  </tbody>\n",
       "</table>\n",
       "</div>"
      ],
      "text/plain": [
       "  DrugBank_ID   umls_id\n",
       "0     DB00215  C0000737"
      ]
     },
     "execution_count": 84,
     "metadata": {},
     "output_type": "execute_result"
    }
   ],
   "source": [
    "print len(common_feature)\n",
    "print len(common_feature.drop_duplicates(subset = 'umls_id'))\n",
    "common_feature.head(1)"
   ]
  },
  {
   "cell_type": "code",
   "execution_count": 91,
   "metadata": {
    "collapsed": false
   },
   "outputs": [
    {
     "name": "stdout",
     "output_type": "stream",
     "text": [
      "2276 3521\n"
     ]
    }
   ],
   "source": [
    "drug_feature = common_feature['umls_id'].drop_duplicates()\n",
    "disease_feature = disease['DisGeNet_geneId'].drop_duplicates()\n",
    "print len(drug_feature), len(disease_feature)"
   ]
  },
  {
   "cell_type": "code",
   "execution_count": 112,
   "metadata": {
    "collapsed": false
   },
   "outputs": [],
   "source": [
    "features = pd.concat([drug_feature, disease_feature], axis = 0)\n",
    "features.index = range(0, len(features))"
   ]
  },
  {
   "cell_type": "code",
   "execution_count": 137,
   "metadata": {
    "collapsed": true
   },
   "outputs": [],
   "source": [
    "herb_disease_asso = results[['compID', 'umlsID']].drop_duplicates()\n",
    "herb_disease_asso.index = range(len(herb_disease_asso))"
   ]
  },
  {
   "cell_type": "code",
   "execution_count": 139,
   "metadata": {
    "collapsed": false
   },
   "outputs": [
    {
     "name": "stdout",
     "output_type": "stream",
     "text": [
      "4257\n",
      "22\n",
      "1149\n"
     ]
    },
    {
     "data": {
      "text/html": [
       "<div>\n",
       "<table border=\"1\" class=\"dataframe\">\n",
       "  <thead>\n",
       "    <tr style=\"text-align: right;\">\n",
       "      <th></th>\n",
       "      <th>compID</th>\n",
       "      <th>umlsID</th>\n",
       "    </tr>\n",
       "  </thead>\n",
       "  <tbody>\n",
       "    <tr>\n",
       "      <th>0</th>\n",
       "      <td>5525.0</td>\n",
       "      <td>C0001418</td>\n",
       "    </tr>\n",
       "  </tbody>\n",
       "</table>\n",
       "</div>"
      ],
      "text/plain": [
       "   compID    umlsID\n",
       "0  5525.0  C0001418"
      ]
     },
     "execution_count": 139,
     "metadata": {},
     "output_type": "execute_result"
    }
   ],
   "source": [
    "print len(herb_disease_asso)\n",
    "print len(herb_disease_asso.drop_duplicates(subset = 'compID'))\n",
    "print len(herb_disease_asso.drop_duplicates(subset = 'umlsID'))\n",
    "herb_disease_asso.head(1)"
   ]
  },
  {
   "cell_type": "code",
   "execution_count": 140,
   "metadata": {
    "collapsed": false
   },
   "outputs": [
    {
     "name": "stdout",
     "output_type": "stream",
     "text": [
      "20442\n",
      "143\n",
      "1879\n"
     ]
    },
    {
     "data": {
      "text/html": [
       "<div>\n",
       "<table border=\"1\" class=\"dataframe\">\n",
       "  <thead>\n",
       "    <tr style=\"text-align: right;\">\n",
       "      <th></th>\n",
       "      <th>compID</th>\n",
       "      <th>umls_id</th>\n",
       "    </tr>\n",
       "  </thead>\n",
       "  <tbody>\n",
       "    <tr>\n",
       "      <th>0</th>\n",
       "      <td>1020.0</td>\n",
       "      <td>C0002170</td>\n",
       "    </tr>\n",
       "  </tbody>\n",
       "</table>\n",
       "</div>"
      ],
      "text/plain": [
       "   compID   umls_id\n",
       "0  1020.0  C0002170"
      ]
     },
     "execution_count": 140,
     "metadata": {},
     "output_type": "execute_result"
    }
   ],
   "source": [
    "print len(herb_feature)\n",
    "print len(herb_feature.drop_duplicates(subset = 'compID'))\n",
    "print len(herb_feature.drop_duplicates(subset = 'umls_id'))\n",
    "herb_feature.head(1)"
   ]
  },
  {
   "cell_type": "code",
   "execution_count": null,
   "metadata": {
    "collapsed": false
   },
   "outputs": [
    {
     "name": "stdout",
     "output_type": "stream",
     "text": [
      "1000 : Wed 21:12:41\n",
      "2000 : Wed 21:13:16\n"
     ]
    }
   ],
   "source": [
    "f = lambda x: 1 if x else 0\n",
    "\n",
    "cnt = 0\n",
    "arr = np.empty((0,5797), dtype=np.int64)\n",
    "\n",
    "for index, row in herb_disease_asso.iterrows():\n",
    "    compID = row['compID']\n",
    "    umlsID = row['umlsID']\n",
    "    \n",
    "    temp_herb_compound = herb_feature[herb_feature.compID == compID]['umls_id']\n",
    "    hc_flags = drug_feature.isin(temp_herb_compound)\n",
    "    herb_compound_flags = map(f, hc_flags)\n",
    "    \n",
    "    temp_herb_disease = results[results.umlsID == umlsID]['geneId'].drop_duplicates()\n",
    "    hd_flags = disease_feature.isin(temp_herb_disease)\n",
    "    herb_disease_flags = map(f, hd_flags)\n",
    "    \n",
    "    feature = np.hstack([np.array(herb_compound_flags), np.array(herb_disease_flags)])\n",
    "    arr = np.vstack([arr, feature])\n",
    "    cnt = cnt + 1\n",
    "    if cnt % 1000 == 0 :\n",
    "        print \"%d : \" % cnt + time.strftime('%a %H:%M:%S')\n",
    "print \"end : %d : \" % cnt + time.strftime('%a %H:%M:%S')\n",
    "print cnt\n",
    "print arr.shape"
   ]
  },
  {
   "cell_type": "code",
   "execution_count": null,
   "metadata": {
    "collapsed": true
   },
   "outputs": [],
   "source": [
    "df_arr = pd.DataFrame(arr)\n",
    "print len(df_arr)\n",
    "df_arr.head(1)"
   ]
  },
  {
   "cell_type": "code",
   "execution_count": null,
   "metadata": {
    "collapsed": true
   },
   "outputs": [],
   "source": [
    "herb_compound_descriptor = pd.concat([herb_disease_asso, df_arr], axis=1)"
   ]
  }
 ],
 "metadata": {
  "kernelspec": {
   "display_name": "Python 2",
   "language": "python",
   "name": "python2"
  },
  "language_info": {
   "codemirror_mode": {
    "name": "ipython",
    "version": 2
   },
   "file_extension": ".py",
   "mimetype": "text/x-python",
   "name": "python",
   "nbconvert_exporter": "python",
   "pygments_lexer": "ipython2",
   "version": "2.7.6"
  }
 },
 "nbformat": 4,
 "nbformat_minor": 0
}
