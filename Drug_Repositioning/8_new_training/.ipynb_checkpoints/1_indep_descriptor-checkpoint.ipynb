{
 "cells": [
  {
   "cell_type": "code",
   "execution_count": 209,
   "metadata": {
    "collapsed": true
   },
   "outputs": [],
   "source": [
    "import numpy as np\n",
    "import pandas as pd\n",
    "from sklearn.linear_model import LogisticRegression\n",
    "from sklearn.preprocessing import StandardScaler\n",
    "import time"
   ]
  },
  {
   "cell_type": "code",
   "execution_count": 210,
   "metadata": {
    "collapsed": false
   },
   "outputs": [],
   "source": [
    "asso = pd.read_excel(\"/DAS_Storage1/aschoi/data/Drug_Repositioning/7_new_association/MBiRW-master/Datasets/Datasets_indep/DiDrMat.xlsx\", header=None)\n",
    "#asso = pd.read_table(\"/home/share/aschoi/nas/users/asolchoi/data/Drug_Repositioning/7_new_association/MBiRW-master/Datasets/Datasets_indep/DiDrMat.txt\")\n",
    "drug = pd.read_table(\"/DAS_Storage1/aschoi/data/Drug_Repositioning/7_new_association/MBiRW-master/Datasets/Datasets_indep/DrugsName\", header=None)\n",
    "disease = pd.read_table(\"/DAS_Storage1/aschoi/data/Drug_Repositioning/7_new_association/MBiRW-master/Datasets/Datasets_indep/DiseasesName\", header=None)"
   ]
  },
  {
   "cell_type": "code",
   "execution_count": 211,
   "metadata": {
    "collapsed": false
   },
   "outputs": [],
   "source": [
    "drug = drug.rename(columns = {0 : 'drug_id'})\n",
    "disease = disease.rename(columns = {0 : 'disease_id'})"
   ]
  },
  {
   "cell_type": "code",
   "execution_count": 212,
   "metadata": {
    "collapsed": false
   },
   "outputs": [],
   "source": [
    "asso.columns = drug['drug_id'].tolist()"
   ]
  },
  {
   "cell_type": "code",
   "execution_count": 213,
   "metadata": {
    "collapsed": false
   },
   "outputs": [
    {
     "name": "stdout",
     "output_type": "stream",
     "text": [
      "313\n",
      "115\n"
     ]
    }
   ],
   "source": [
    "print len(disease)\n",
    "print len(drug)"
   ]
  },
  {
   "cell_type": "code",
   "execution_count": 214,
   "metadata": {
    "collapsed": false
   },
   "outputs": [],
   "source": [
    "asso.index = disease['disease_id'].tolist()"
   ]
  },
  {
   "cell_type": "code",
   "execution_count": 215,
   "metadata": {
    "collapsed": false
   },
   "outputs": [],
   "source": [
    "df_asso = pd.DataFrame()\n",
    "for disease_id in asso.index.values:\n",
    "    for drug_id in asso.columns.values:\n",
    "        temp_df = pd.DataFrame([[drug_id, disease_id, asso[drug_id].loc[disease_id]]], columns = ['drug', 'disease', 'association'])\n",
    "        df_asso = df_asso.append(temp_df)"
   ]
  },
  {
   "cell_type": "code",
   "execution_count": 216,
   "metadata": {
    "collapsed": false
   },
   "outputs": [
    {
     "name": "stdout",
     "output_type": "stream",
     "text": [
      "144\n",
      "35851\n"
     ]
    }
   ],
   "source": [
    "print len(df_asso[df_asso.association == 1]) # positive\n",
    "print len(df_asso[df_asso.association == 0]) # negative"
   ]
  },
  {
   "cell_type": "code",
   "execution_count": 75,
   "metadata": {
    "collapsed": false
   },
   "outputs": [],
   "source": [
    "df_asso.to_csv(\"/DAS_Storage1/aschoi/data/Drug_Repositioning/7_new_association/MBiRW-master/Datasets/Datasets_indep/indep_asso.tsv\", sep='\\t', index=False)\n",
    "df_asso.to_csv(\"/home/share/aschoi/nas/users/asolchoi/data/Drug_Repositioning/7_new_association/MBiRW-master/Datasets/Datasets_indep/indep_asso.tsv\", sep='\\t', index=False)"
   ]
  },
  {
   "cell_type": "code",
   "execution_count": null,
   "metadata": {
    "collapsed": true
   },
   "outputs": [],
   "source": [
    "# 사용할 수 있는 애들"
   ]
  },
  {
   "cell_type": "code",
   "execution_count": 217,
   "metadata": {
    "collapsed": true
   },
   "outputs": [],
   "source": [
    "sider_DrugBank_id = pd.read_table(\"/DAS_Storage1/aschoi/data/Drug_Repositioning/5_new_drug/3_3_SIDER_STITCHid_DrugBankid.tsv\")\n",
    "offside_DrugBank_id = pd.read_table(\"/DAS_Storage1/aschoi/data/Drug_Repositioning/5_new_drug/4_3_OFFSIDE_STITCHid_DrugBankid.tsv\")\n",
    "sider_feature = pd.read_table(\"/DAS_Storage1/aschoi/data/Drug_Repositioning/5_new_drug/3_4_SIDER_db_side_effect.tsv\")\n",
    "offside_feature = pd.read_table(\"/DAS_Storage1/aschoi/data/Drug_Repositioning/5_new_drug/4_4_OFFSIDE_db_side_effect.tsv\")"
   ]
  },
  {
   "cell_type": "code",
   "execution_count": 218,
   "metadata": {
    "collapsed": false
   },
   "outputs": [
    {
     "name": "stdout",
     "output_type": "stream",
     "text": [
      "61\n",
      "61\n"
     ]
    },
    {
     "data": {
      "text/html": [
       "<div>\n",
       "<table border=\"1\" class=\"dataframe\">\n",
       "  <thead>\n",
       "    <tr style=\"text-align: right;\">\n",
       "      <th></th>\n",
       "      <th>STITCH_compound_id_flat</th>\n",
       "      <th>STITCH_compound_id_stereo</th>\n",
       "      <th>DrugBank_ID</th>\n",
       "    </tr>\n",
       "  </thead>\n",
       "  <tbody>\n",
       "    <tr>\n",
       "      <th>9</th>\n",
       "      <td>CID100003075</td>\n",
       "      <td>CID000039186</td>\n",
       "      <td>DB00343</td>\n",
       "    </tr>\n",
       "  </tbody>\n",
       "</table>\n",
       "</div>"
      ],
      "text/plain": [
       "  STITCH_compound_id_flat STITCH_compound_id_stereo DrugBank_ID\n",
       "9            CID100003075              CID000039186     DB00343"
      ]
     },
     "execution_count": 218,
     "metadata": {},
     "output_type": "execute_result"
    }
   ],
   "source": [
    "sider_found = sider_DrugBank_id[sider_DrugBank_id['DrugBank_ID'].isin(drug['drug_id'])]\n",
    "print len(sider_found)\n",
    "print len(sider_found.drop_duplicates(subset = 'DrugBank_ID'))\n",
    "sider_found.head(1)"
   ]
  },
  {
   "cell_type": "code",
   "execution_count": 219,
   "metadata": {
    "collapsed": false
   },
   "outputs": [
    {
     "name": "stdout",
     "output_type": "stream",
     "text": [
      "46\n",
      "46\n"
     ]
    },
    {
     "data": {
      "text/html": [
       "<div>\n",
       "<table border=\"1\" class=\"dataframe\">\n",
       "  <thead>\n",
       "    <tr style=\"text-align: right;\">\n",
       "      <th></th>\n",
       "      <th>STITCH_compound_id_stereo</th>\n",
       "      <th>DrugBank_ID</th>\n",
       "    </tr>\n",
       "  </thead>\n",
       "  <tbody>\n",
       "    <tr>\n",
       "      <th>7</th>\n",
       "      <td>CID000000702</td>\n",
       "      <td>DB00898</td>\n",
       "    </tr>\n",
       "  </tbody>\n",
       "</table>\n",
       "</div>"
      ],
      "text/plain": [
       "  STITCH_compound_id_stereo DrugBank_ID\n",
       "7              CID000000702     DB00898"
      ]
     },
     "execution_count": 219,
     "metadata": {},
     "output_type": "execute_result"
    }
   ],
   "source": [
    "offside_found = offside_DrugBank_id[offside_DrugBank_id['DrugBank_ID'].isin(drug['drug_id'])]\n",
    "print len(offside_found)\n",
    "print len(offside_found.drop_duplicates(subset = 'DrugBank_ID'))\n",
    "offside_found.head(1)"
   ]
  },
  {
   "cell_type": "code",
   "execution_count": 220,
   "metadata": {
    "collapsed": false
   },
   "outputs": [
    {
     "data": {
      "text/html": [
       "<div>\n",
       "<table border=\"1\" class=\"dataframe\">\n",
       "  <thead>\n",
       "    <tr style=\"text-align: right;\">\n",
       "      <th></th>\n",
       "      <th>stitch_id</th>\n",
       "      <th>drug</th>\n",
       "      <th>umls_id</th>\n",
       "      <th>event</th>\n",
       "    </tr>\n",
       "  </thead>\n",
       "  <tbody>\n",
       "    <tr>\n",
       "      <th>0</th>\n",
       "      <td>CID000000119</td>\n",
       "      <td>GABA</td>\n",
       "      <td>C0000833</td>\n",
       "      <td>abscess</td>\n",
       "    </tr>\n",
       "  </tbody>\n",
       "</table>\n",
       "</div>"
      ],
      "text/plain": [
       "      stitch_id  drug   umls_id    event\n",
       "0  CID000000119  GABA  C0000833  abscess"
      ]
     },
     "execution_count": 220,
     "metadata": {},
     "output_type": "execute_result"
    }
   ],
   "source": [
    "offside_feature.head(1)"
   ]
  },
  {
   "cell_type": "code",
   "execution_count": 221,
   "metadata": {
    "collapsed": true
   },
   "outputs": [],
   "source": [
    "sider_result = pd.DataFrame()\n",
    "for index, row in sider_found.iterrows():\n",
    "    li_row = row.tolist()\n",
    "    flat = li_row[0]\n",
    "    stereo = li_row[1]\n",
    "    drugbank_id = li_row[2]\n",
    "    filtered = sider_feature[(sider_feature.STITCH_compound_id_flat == flat) & (sider_feature.STITCH_compound_id_stereo == stereo)]\n",
    "    for index2, row2 in filtered.iterrows():\n",
    "        umls_id = row2['UMLS_concept_id_for_MedDRA']\n",
    "        temp_df = pd.DataFrame([[drugbank_id, umls_id]], columns=['DrugBank_ID', 'umls_id'])\n",
    "        sider_result = sider_result.append(temp_df)"
   ]
  },
  {
   "cell_type": "code",
   "execution_count": 222,
   "metadata": {
    "collapsed": false
   },
   "outputs": [
    {
     "name": "stdout",
     "output_type": "stream",
     "text": [
      "61\n",
      "1448\n"
     ]
    }
   ],
   "source": [
    "print len(sider_result.drop_duplicates(subset = 'DrugBank_ID'))\n",
    "print len(sider_result.drop_duplicates(subset = 'umls_id'))"
   ]
  },
  {
   "cell_type": "code",
   "execution_count": 223,
   "metadata": {
    "collapsed": true
   },
   "outputs": [],
   "source": [
    "offside_result = pd.DataFrame()\n",
    "for index, row in offside_found.iterrows():\n",
    "    li_row = row.tolist()\n",
    "    stereo = li_row[0]\n",
    "    drugbank_id = li_row[1]\n",
    "    filtered = offside_feature[offside_feature.stitch_id == stereo]\n",
    "    for index2, row2 in filtered.iterrows():\n",
    "        umls_id = row2['umls_id']\n",
    "        temp_df = pd.DataFrame([[drugbank_id, umls_id]], columns=['DrugBank_ID', 'umls_id'])\n",
    "        offside_result = offside_result.append(temp_df)"
   ]
  },
  {
   "cell_type": "code",
   "execution_count": 224,
   "metadata": {
    "collapsed": false
   },
   "outputs": [
    {
     "name": "stdout",
     "output_type": "stream",
     "text": [
      "46\n",
      "4471\n"
     ]
    }
   ],
   "source": [
    "print len(offside_result.drop_duplicates(subset = 'DrugBank_ID'))\n",
    "print len(offside_result.drop_duplicates(subset = 'umls_id'))"
   ]
  },
  {
   "cell_type": "code",
   "execution_count": 225,
   "metadata": {
    "collapsed": false
   },
   "outputs": [],
   "source": [
    "frames = [sider_result, offside_result]\n",
    "combined = pd.concat(frames).sort_values(by = 'DrugBank_ID').drop_duplicates()"
   ]
  },
  {
   "cell_type": "code",
   "execution_count": 226,
   "metadata": {
    "collapsed": false
   },
   "outputs": [
    {
     "name": "stdout",
     "output_type": "stream",
     "text": [
      "23173\n",
      "77\n"
     ]
    }
   ],
   "source": [
    "print len(combined)\n",
    "print len(combined.drop_duplicates(subset = 'DrugBank_ID')) # drug의 수"
   ]
  },
  {
   "cell_type": "code",
   "execution_count": 255,
   "metadata": {
    "collapsed": false
   },
   "outputs": [
    {
     "data": {
      "text/html": [
       "<div>\n",
       "<table border=\"1\" class=\"dataframe\">\n",
       "  <thead>\n",
       "    <tr style=\"text-align: right;\">\n",
       "      <th></th>\n",
       "      <th>DrugBank_ID</th>\n",
       "      <th>umls_id</th>\n",
       "    </tr>\n",
       "  </thead>\n",
       "  <tbody>\n",
       "    <tr>\n",
       "      <th>0</th>\n",
       "      <td>DB00125</td>\n",
       "      <td>C0221201</td>\n",
       "    </tr>\n",
       "  </tbody>\n",
       "</table>\n",
       "</div>"
      ],
      "text/plain": [
       "  DrugBank_ID   umls_id\n",
       "0     DB00125  C0221201"
      ]
     },
     "execution_count": 255,
     "metadata": {},
     "output_type": "execute_result"
    }
   ],
   "source": [
    "combined.head(1)"
   ]
  },
  {
   "cell_type": "code",
   "execution_count": 227,
   "metadata": {
    "collapsed": false
   },
   "outputs": [],
   "source": [
    "gold_drug_feature = pd.read_table(\"/DAS_Storage1/aschoi/data/Drug_Repositioning/5_new_drug/7_2_gold_drug_feature_id.tsv\")"
   ]
  },
  {
   "cell_type": "code",
   "execution_count": 254,
   "metadata": {
    "collapsed": false
   },
   "outputs": [
    {
     "name": "stdout",
     "output_type": "stream",
     "text": [
      "99083\n",
      "2276\n"
     ]
    },
    {
     "data": {
      "text/html": [
       "<div>\n",
       "<table border=\"1\" class=\"dataframe\">\n",
       "  <thead>\n",
       "    <tr style=\"text-align: right;\">\n",
       "      <th></th>\n",
       "      <th>DrugBank_ID</th>\n",
       "      <th>umls_id</th>\n",
       "    </tr>\n",
       "  </thead>\n",
       "  <tbody>\n",
       "    <tr>\n",
       "      <th>0</th>\n",
       "      <td>DB00215</td>\n",
       "      <td>C0000737</td>\n",
       "    </tr>\n",
       "  </tbody>\n",
       "</table>\n",
       "</div>"
      ],
      "text/plain": [
       "  DrugBank_ID   umls_id\n",
       "0     DB00215  C0000737"
      ]
     },
     "execution_count": 254,
     "metadata": {},
     "output_type": "execute_result"
    }
   ],
   "source": [
    "print len(gold_drug_feature)\n",
    "print len(gold_drug_feature.drop_duplicates(subset = 'umls_id'))\n",
    "gold_drug_feature.head(1)"
   ]
  },
  {
   "cell_type": "code",
   "execution_count": 228,
   "metadata": {
    "collapsed": false
   },
   "outputs": [],
   "source": [
    "common_feature = gold_drug_feature['umls_id'].drop_duplicates()"
   ]
  },
  {
   "cell_type": "code",
   "execution_count": 229,
   "metadata": {
    "collapsed": false
   },
   "outputs": [],
   "source": [
    "filtered = combined[combined['umls_id'].isin(common_feature)]"
   ]
  },
  {
   "cell_type": "code",
   "execution_count": 230,
   "metadata": {
    "collapsed": false,
    "scrolled": true
   },
   "outputs": [
    {
     "name": "stdout",
     "output_type": "stream",
     "text": [
      "14819\n",
      "77\n",
      "1867\n"
     ]
    },
    {
     "data": {
      "text/html": [
       "<div>\n",
       "<table border=\"1\" class=\"dataframe\">\n",
       "  <thead>\n",
       "    <tr style=\"text-align: right;\">\n",
       "      <th></th>\n",
       "      <th>DrugBank_ID</th>\n",
       "      <th>umls_id</th>\n",
       "    </tr>\n",
       "  </thead>\n",
       "  <tbody>\n",
       "    <tr>\n",
       "      <th>0</th>\n",
       "      <td>DB00125</td>\n",
       "      <td>C0008301</td>\n",
       "    </tr>\n",
       "  </tbody>\n",
       "</table>\n",
       "</div>"
      ],
      "text/plain": [
       "  DrugBank_ID   umls_id\n",
       "0     DB00125  C0008301"
      ]
     },
     "execution_count": 230,
     "metadata": {},
     "output_type": "execute_result"
    }
   ],
   "source": [
    "print len(filtered)\n",
    "print len(filtered.drop_duplicates(subset = 'DrugBank_ID')) # indep의 drug 수 \n",
    "print len(filtered.drop_duplicates(subset = 'umls_id')) # 공통되는 feature의 수\n",
    "filtered.head(1)"
   ]
  },
  {
   "cell_type": "code",
   "execution_count": 231,
   "metadata": {
    "collapsed": false
   },
   "outputs": [
    {
     "name": "stdout",
     "output_type": "stream",
     "text": [
      "24003\n",
      "98\n",
      "77\n",
      "313\n"
     ]
    },
    {
     "data": {
      "text/html": [
       "<div>\n",
       "<table border=\"1\" class=\"dataframe\">\n",
       "  <thead>\n",
       "    <tr style=\"text-align: right;\">\n",
       "      <th></th>\n",
       "      <th>drug</th>\n",
       "      <th>disease</th>\n",
       "      <th>association</th>\n",
       "    </tr>\n",
       "  </thead>\n",
       "  <tbody>\n",
       "    <tr>\n",
       "      <th>0</th>\n",
       "      <td>DB00125</td>\n",
       "      <td>D102100</td>\n",
       "      <td>0</td>\n",
       "    </tr>\n",
       "  </tbody>\n",
       "</table>\n",
       "</div>"
      ],
      "text/plain": [
       "      drug  disease  association\n",
       "0  DB00125  D102100            0"
      ]
     },
     "execution_count": 231,
     "metadata": {},
     "output_type": "execute_result"
    }
   ],
   "source": [
    "final_asso = df_asso[df_asso['drug'].isin(filtered['DrugBank_ID'])]\n",
    "print len(final_asso[final_asso.association == 0]) # negative\n",
    "print len(final_asso[final_asso.association == 1]) # positive\n",
    "print len(final_asso.drop_duplicates('drug'))\n",
    "print len(final_asso.drop_duplicates('disease'))\n",
    "final_asso.head(1)"
   ]
  },
  {
   "cell_type": "code",
   "execution_count": 232,
   "metadata": {
    "collapsed": false,
    "scrolled": true
   },
   "outputs": [
    {
     "name": "stdout",
     "output_type": "stream",
     "text": [
      "24101\n",
      "24101\n"
     ]
    },
    {
     "name": "stderr",
     "output_type": "stream",
     "text": [
      "/usr/local/lib/python2.7/dist-packages/ipykernel/__main__.py:8: SettingWithCopyWarning: \n",
      "A value is trying to be set on a copy of a slice from a DataFrame.\n",
      "Try using .loc[row_indexer,col_indexer] = value instead\n",
      "\n",
      "See the caveats in the documentation: http://pandas.pydata.org/pandas-docs/stable/indexing.html#indexing-view-versus-copy\n"
     ]
    }
   ],
   "source": [
    "di_mimNum = final_asso['disease'].str[1:]\n",
    "int_di_mimNum = list()\n",
    "for i in di_mimNum:\n",
    "    int_di_mimNum.append (int(i))\n",
    "print len(di_mimNum)\n",
    "print len(int_di_mimNum)\n",
    "\n",
    "final_asso['disease'] = int_di_mimNum"
   ]
  },
  {
   "cell_type": "code",
   "execution_count": null,
   "metadata": {
    "collapsed": true
   },
   "outputs": [],
   "source": [
    "여기서 positive만 고려한것이 필요함."
   ]
  },
  {
   "cell_type": "code",
   "execution_count": 233,
   "metadata": {
    "collapsed": false
   },
   "outputs": [
    {
     "name": "stdout",
     "output_type": "stream",
     "text": [
      "77\n",
      "39\n",
      "98\n"
     ]
    },
    {
     "data": {
      "text/html": [
       "<div>\n",
       "<table border=\"1\" class=\"dataframe\">\n",
       "  <thead>\n",
       "    <tr style=\"text-align: right;\">\n",
       "      <th></th>\n",
       "      <th>drug_id</th>\n",
       "      <th>disease_id</th>\n",
       "      <th>association</th>\n",
       "    </tr>\n",
       "  </thead>\n",
       "  <tbody>\n",
       "    <tr>\n",
       "      <th>0</th>\n",
       "      <td>DB01200</td>\n",
       "      <td>102300</td>\n",
       "      <td>1</td>\n",
       "    </tr>\n",
       "  </tbody>\n",
       "</table>\n",
       "</div>"
      ],
      "text/plain": [
       "   drug_id  disease_id  association\n",
       "0  DB01200      102300            1"
      ]
     },
     "execution_count": 233,
     "metadata": {},
     "output_type": "execute_result"
    }
   ],
   "source": [
    "df_positive = final_asso[final_asso.association == 1]\n",
    "print len(df_positive['drug'].drop_duplicates()) #drug의 수 \n",
    "print len(df_positive['disease'].drop_duplicates()) #disease의 수\n",
    "print len(df_positive) # positive association의 수 \n",
    "df_positive = df_positive.rename(columns={'drug' : 'drug_id', 'disease' : 'disease_id'})\n",
    "df_positive.head(1)"
   ]
  },
  {
   "cell_type": "code",
   "execution_count": 237,
   "metadata": {
    "collapsed": false
   },
   "outputs": [
    {
     "name": "stdout",
     "output_type": "stream",
     "text": [
      "235\n",
      "39\n",
      "93\n",
      "0\n",
      "93\n",
      "73\n",
      "35\n"
     ]
    },
    {
     "data": {
      "text/html": [
       "<div>\n",
       "<table border=\"1\" class=\"dataframe\">\n",
       "  <thead>\n",
       "    <tr style=\"text-align: right;\">\n",
       "      <th></th>\n",
       "      <th>drug_id</th>\n",
       "      <th>disease_id</th>\n",
       "      <th>association</th>\n",
       "    </tr>\n",
       "  </thead>\n",
       "  <tbody>\n",
       "    <tr>\n",
       "      <th>0</th>\n",
       "      <td>DB01200</td>\n",
       "      <td>102300</td>\n",
       "      <td>1</td>\n",
       "    </tr>\n",
       "  </tbody>\n",
       "</table>\n",
       "</div>"
      ],
      "text/plain": [
       "   drug_id  disease_id  association\n",
       "0  DB01200      102300            1"
      ]
     },
     "execution_count": 237,
     "metadata": {},
     "output_type": "execute_result"
    }
   ],
   "source": [
    "#이 중에 disease feature가 없는 disease가 있음. 걸러내야함.\n",
    "disease = pd.read_table(\"/DAS_Storage1/aschoi/data/Drug_Repositioning/6_new_disease/8_gold_standard_disease_binary_matrix.tsv\", index_col=0)\n",
    "\n",
    "print len(disease.columns.values) # gold standard disease의 수\n",
    "disease_entry = pd.Series(disease.columns.values)\n",
    "\n",
    "print len(df_positive['disease_id'].drop_duplicates()) # 현재 indep disease의 수 \n",
    "indep_disease_entry = df_positive['disease_id'].drop_duplicates()\n",
    "indep_feature_disease_entry = disease_entry[disease_entry.isin(indep_disease_entry.values.astype(str))] # gold standard disease에서 indep disease가 포함되는 것만 거른것\n",
    "# --> gold standard에서 거른것은, indep disease는 기존의 disease와 같기 때문. 그리고 gold standard disease는 disease feature가 있는 것이 확실한 애들이기 때문.\n",
    "\n",
    "final_indep_asso = df_positive[df_positive['disease_id'].isin(indep_feature_disease_entry.values.astype(int))]\n",
    "\n",
    "print len(final_indep_asso)\n",
    "print len(final_indep_asso[final_indep_asso.association == 0])\n",
    "print len(final_indep_asso[final_indep_asso.association == 1])\n",
    "print len(final_indep_asso.drop_duplicates(subset = 'drug_id'))\n",
    "print len(final_indep_asso.drop_duplicates(subset = 'disease_id'))\n",
    "final_indep_asso.head(1)"
   ]
  },
  {
   "cell_type": "code",
   "execution_count": 238,
   "metadata": {
    "collapsed": true
   },
   "outputs": [],
   "source": [
    "final_indep_asso[['drug_id', 'disease_id']].to_csv(\"/DAS_Storage1/aschoi/data/Drug_Repositioning/7_new_association/7_2_indep_association.tsv\", sep='\\t', index=False)\n",
    "final_indep_asso[['drug_id', 'disease_id']].to_csv(\"/home/share/aschoi/nas/users/asolchoi/data/Drug_Repositioning/7_new_association/7_2_indep_ssociation.tsv\", sep='\\t', index=False)"
   ]
  },
  {
   "cell_type": "code",
   "execution_count": 243,
   "metadata": {
    "collapsed": false
   },
   "outputs": [
    {
     "name": "stdout",
     "output_type": "stream",
     "text": [
      "73\n",
      "35\n",
      "93\n"
     ]
    },
    {
     "data": {
      "text/html": [
       "<div>\n",
       "<table border=\"1\" class=\"dataframe\">\n",
       "  <thead>\n",
       "    <tr style=\"text-align: right;\">\n",
       "      <th></th>\n",
       "      <th>drug</th>\n",
       "      <th>disease</th>\n",
       "      <th>association</th>\n",
       "    </tr>\n",
       "  </thead>\n",
       "  <tbody>\n",
       "    <tr>\n",
       "      <th>0</th>\n",
       "      <td>DB00125</td>\n",
       "      <td>102300</td>\n",
       "      <td>0</td>\n",
       "    </tr>\n",
       "  </tbody>\n",
       "</table>\n",
       "</div>"
      ],
      "text/plain": [
       "      drug  disease  association\n",
       "0  DB00125   102300            0"
      ]
     },
     "execution_count": 243,
     "metadata": {},
     "output_type": "execute_result"
    }
   ],
   "source": [
    "#learning 꼴로 만들기.\n",
    "learning_asso = final_asso[final_asso['disease'].isin(final_indep_asso['disease_id'])] # final_asso에서 disease id filter\n",
    "learning_asso = learning_asso[learning_asso['drug'].isin(final_indep_asso['drug_id'])] # final_asso에서 drug id filter\n",
    "print len(learning_asso.drop_duplicates(subset = 'drug'))\n",
    "print len(learning_asso.drop_duplicates(subset = 'disease'))\n",
    "print len(learning_asso[learning_asso.association == 1])\n",
    "learning_asso.head(1)"
   ]
  },
  {
   "cell_type": "code",
   "execution_count": 244,
   "metadata": {
    "collapsed": true
   },
   "outputs": [],
   "source": [
    "learning_asso.to_csv(\"/DAS_Storage1/aschoi/data/Drug_Repositioning/7_new_association/9_2_indep_learning_association.tsv\", sep='\\t', index=False)\n",
    "learning_asso.to_csv(\"/home/share/aschoi/nas/users/asolchoi/data/Drug_Repositioning/7_new_association/9_2_indep_learning_association.tsv\", sep='\\t', index=False)"
   ]
  },
  {
   "cell_type": "code",
   "execution_count": null,
   "metadata": {
    "collapsed": true
   },
   "outputs": [],
   "source": [
    "#binary matrix 꼴로 만들기 (drug, association)"
   ]
  },
  {
   "cell_type": "code",
   "execution_count": null,
   "metadata": {
    "collapsed": true
   },
   "outputs": [],
   "source": [
    "여기서부터 손보기"
   ]
  },
  {
   "cell_type": "code",
   "execution_count": 264,
   "metadata": {
    "collapsed": false
   },
   "outputs": [
    {
     "data": {
      "text/html": [
       "<div>\n",
       "<table border=\"1\" class=\"dataframe\">\n",
       "  <thead>\n",
       "    <tr style=\"text-align: right;\">\n",
       "      <th></th>\n",
       "      <th>DrugBank_ID</th>\n",
       "      <th>umls_id</th>\n",
       "    </tr>\n",
       "  </thead>\n",
       "  <tbody>\n",
       "    <tr>\n",
       "      <th>0</th>\n",
       "      <td>DB00125</td>\n",
       "      <td>C0008301</td>\n",
       "    </tr>\n",
       "  </tbody>\n",
       "</table>\n",
       "</div>"
      ],
      "text/plain": [
       "  DrugBank_ID   umls_id\n",
       "0     DB00125  C0008301"
      ]
     },
     "execution_count": 264,
     "metadata": {},
     "output_type": "execute_result"
    }
   ],
   "source": [
    "filtered.index = range(len(filtered))\n",
    "filtered.head(1)"
   ]
  },
  {
   "cell_type": "code",
   "execution_count": 265,
   "metadata": {
    "collapsed": false
   },
   "outputs": [
    {
     "data": {
      "text/html": [
       "<div>\n",
       "<table border=\"1\" class=\"dataframe\">\n",
       "  <thead>\n",
       "    <tr style=\"text-align: right;\">\n",
       "      <th></th>\n",
       "      <th>drug</th>\n",
       "      <th>disease</th>\n",
       "      <th>association</th>\n",
       "    </tr>\n",
       "  </thead>\n",
       "  <tbody>\n",
       "    <tr>\n",
       "      <th>0</th>\n",
       "      <td>DB00125</td>\n",
       "      <td>102300</td>\n",
       "      <td>0</td>\n",
       "    </tr>\n",
       "  </tbody>\n",
       "</table>\n",
       "</div>"
      ],
      "text/plain": [
       "      drug  disease  association\n",
       "0  DB00125   102300            0"
      ]
     },
     "execution_count": 265,
     "metadata": {},
     "output_type": "execute_result"
    }
   ],
   "source": [
    "learning_asso.index = range(len(learning_asso))\n",
    "learning_asso.head(1)"
   ]
  },
  {
   "cell_type": "code",
   "execution_count": 271,
   "metadata": {
    "collapsed": false
   },
   "outputs": [
    {
     "name": "stdout",
     "output_type": "stream",
     "text": [
      "14130\n",
      "73\n",
      "1847\n"
     ]
    },
    {
     "data": {
      "text/html": [
       "<div>\n",
       "<table border=\"1\" class=\"dataframe\">\n",
       "  <thead>\n",
       "    <tr style=\"text-align: right;\">\n",
       "      <th></th>\n",
       "      <th>DrugBank_ID</th>\n",
       "      <th>umls_id</th>\n",
       "    </tr>\n",
       "  </thead>\n",
       "  <tbody>\n",
       "    <tr>\n",
       "      <th>0</th>\n",
       "      <td>DB00125</td>\n",
       "      <td>C0008301</td>\n",
       "    </tr>\n",
       "  </tbody>\n",
       "</table>\n",
       "</div>"
      ],
      "text/plain": [
       "  DrugBank_ID   umls_id\n",
       "0     DB00125  C0008301"
      ]
     },
     "execution_count": 271,
     "metadata": {},
     "output_type": "execute_result"
    }
   ],
   "source": [
    "df_learnig_drug_feature = filtered[filtered['DrugBank_ID'].isin(learning_asso['drug'])]\n",
    "print len(df_learnig_drug_feature)\n",
    "print len(df_learnig_drug_feature.drop_duplicates(subset ='DrugBank_ID'))\n",
    "print len(df_learnig_drug_feature.drop_duplicates(subset ='umls_id'))\n",
    "df_learnig_drug_feature.head(1)"
   ]
  },
  {
   "cell_type": "code",
   "execution_count": 272,
   "metadata": {
    "collapsed": true
   },
   "outputs": [],
   "source": [
    "df_learnig_drug_feature.to_csv(\"/DAS_Storage1/aschoi/data/Drug_Repositioning/5_new_drug/7_3_indep_drug_feature_id.tsv\", sep = '\\t', index = False)\n",
    "df_learnig_drug_feature.to_csv(\"/home/share/aschoi/nas/users/asolchoi/data/Drug_Repositioning/5_new_drug/7_3_indep_drug_feature_id.tsv\", sep = '\\t', index = False)"
   ]
  },
  {
   "cell_type": "code",
   "execution_count": 274,
   "metadata": {
    "collapsed": false
   },
   "outputs": [
    {
     "name": "stdout",
     "output_type": "stream",
     "text": [
      "(1847, 73)\n"
     ]
    }
   ],
   "source": [
    "#drug\n",
    "#dg_ids = filtered['DrugBank_ID'].drop_duplicates()\n",
    "dg_ids = df_learnig_drug_feature['DrugBank_ID'].drop_duplicates()\n",
    "umls_ids = df_learnig_drug_feature['umls_id'].drop_duplicates()\n",
    "\n",
    "binary_drug = pd.DataFrame(columns = dg_ids.tolist(), index = umls_ids.tolist())\n",
    "binary_drug = binary_drug.fillna(0)\n",
    "\n",
    "f = lambda x: 1 if x else 0\n",
    "for dg_id in dg_ids:\n",
    "    dg_df = filtered[filtered.DrugBank_ID == dg_id]\n",
    "    umls_id = dg_df['umls_id']\n",
    "    flags = umls_ids.isin(umls_id)\n",
    "    oz_flags = map(f, flags)\n",
    "    binary_drug[dg_id] = oz_flags\n",
    "print binary_drug.shape"
   ]
  },
  {
   "cell_type": "code",
   "execution_count": 277,
   "metadata": {
    "collapsed": false
   },
   "outputs": [],
   "source": [
    "binary_drug.to_csv(\"/DAS_Storage1/aschoi/data/Drug_Repositioning/5_new_drug/8_2_indep_standard_drug_binary_matrix.tsv\", sep='\\t')\n",
    "binary_drug.to_csv(\"/home/share/aschoi/nas/users/asolchoi/data/Drug_Repositioning/5_new_drug/8_2_indep_standard_drug_binary_matrix.tsv\", sep='\\t')"
   ]
  },
  {
   "cell_type": "code",
   "execution_count": null,
   "metadata": {
    "collapsed": true
   },
   "outputs": [],
   "source": [
    "#association"
   ]
  },
  {
   "cell_type": "code",
   "execution_count": 279,
   "metadata": {
    "collapsed": false
   },
   "outputs": [
    {
     "name": "stdout",
     "output_type": "stream",
     "text": [
      "(73, 35)\n"
     ]
    }
   ],
   "source": [
    "disease_ids = learning_asso['disease'].drop_duplicates()\n",
    "dg_ids = learning_asso['drug'].drop_duplicates()\n",
    "\n",
    "binary_asso = pd.DataFrame(columns = disease_ids.tolist(), index = dg_ids.tolist())\n",
    "binary_asso = binary_asso.fillna(0)\n",
    "\n",
    "f = lambda x: 1 if x else 0\n",
    "    \n",
    "for di_id in disease_ids:\n",
    "    di_df = learning_asso[learning_asso.disease == di_id]\n",
    "    dg_id = di_df['drug']\n",
    "    flags = dg_ids.isin(dg_id)\n",
    "    oz_flags = map(f, flags)\n",
    "    binary_asso[di_id] = oz_flags \n",
    "print binary_asso.shape"
   ]
  },
  {
   "cell_type": "code",
   "execution_count": 280,
   "metadata": {
    "collapsed": true
   },
   "outputs": [],
   "source": [
    "binary_asso.to_csv(\"/DAS_Storage1/aschoi/data/Drug_Repositioning/7_new_association/8_2_indep_association_bianry_matrix.tsv\", sep='\\t')\n",
    "binary_asso.to_csv(\"/home/share/aschoi/nas/users/asolchoi/data/Drug_Repositioning/7_new_association/8_2_indep_association_bianry_matrix.tsv\", sep='\\t')"
   ]
  },
  {
   "cell_type": "code",
   "execution_count": null,
   "metadata": {
    "collapsed": true
   },
   "outputs": [],
   "source": []
  },
  {
   "cell_type": "code",
   "execution_count": null,
   "metadata": {
    "collapsed": true
   },
   "outputs": [],
   "source": [
    "#descriptor"
   ]
  },
  {
   "cell_type": "code",
   "execution_count": 281,
   "metadata": {
    "collapsed": true
   },
   "outputs": [],
   "source": [
    "indep_asso = pd.read_table(\"/DAS_Storage1/aschoi/data/Drug_Repositioning/7_new_association/9_2_indep_learning_association.tsv\")\n",
    "indep_drug = pd.read_table(\"/DAS_Storage1/aschoi/data/Drug_Repositioning/5_new_drug/8_2_indep_standard_drug_binary_matrix.tsv\", index_col=0)\n",
    "disease = pd.read_table(\"/DAS_Storage1/aschoi/data/Drug_Repositioning/6_new_disease/8_gold_standard_disease_binary_matrix.tsv\", index_col=0)\n",
    "drug = pd.read_table(\"/DAS_Storage1/aschoi/data/Drug_Repositioning/5_new_drug/8_gold_standard_drug_binary_matrix.tsv\", index_col = 0)"
   ]
  },
  {
   "cell_type": "code",
   "execution_count": 286,
   "metadata": {
    "collapsed": false,
    "scrolled": true
   },
   "outputs": [
    {
     "name": "stdout",
     "output_type": "stream",
     "text": [
      "2555\n",
      "93\n",
      "2462\n",
      "73\n",
      "35\n",
      "(2555, 3)\n"
     ]
    },
    {
     "data": {
      "text/html": [
       "<div>\n",
       "<table border=\"1\" class=\"dataframe\">\n",
       "  <thead>\n",
       "    <tr style=\"text-align: right;\">\n",
       "      <th></th>\n",
       "      <th>drug</th>\n",
       "      <th>disease</th>\n",
       "      <th>association</th>\n",
       "    </tr>\n",
       "  </thead>\n",
       "  <tbody>\n",
       "    <tr>\n",
       "      <th>0</th>\n",
       "      <td>DB00125</td>\n",
       "      <td>102300</td>\n",
       "      <td>0</td>\n",
       "    </tr>\n",
       "  </tbody>\n",
       "</table>\n",
       "</div>"
      ],
      "text/plain": [
       "      drug  disease  association\n",
       "0  DB00125   102300            0"
      ]
     },
     "execution_count": 286,
     "metadata": {},
     "output_type": "execute_result"
    }
   ],
   "source": [
    "print len(indep_asso)\n",
    "print len(indep_asso[indep_asso.association == 1]) # positive\n",
    "print len(indep_asso[indep_asso.association == 0]) # negative\n",
    "print len(indep_asso['drug'].drop_duplicates())\n",
    "print len(indep_asso['disease'].drop_duplicates())\n",
    "print indep_asso.shape\n",
    "indep_asso.head(1)"
   ]
  },
  {
   "cell_type": "code",
   "execution_count": 289,
   "metadata": {
    "collapsed": false
   },
   "outputs": [
    {
     "name": "stdout",
     "output_type": "stream",
     "text": [
      "(1847, 73)\n"
     ]
    },
    {
     "data": {
      "text/html": [
       "<div>\n",
       "<table border=\"1\" class=\"dataframe\">\n",
       "  <thead>\n",
       "    <tr style=\"text-align: right;\">\n",
       "      <th></th>\n",
       "      <th>DB00125</th>\n",
       "      <th>DB00136</th>\n",
       "      <th>DB00153</th>\n",
       "      <th>DB00176</th>\n",
       "      <th>DB00193</th>\n",
       "      <th>DB00195</th>\n",
       "      <th>DB00253</th>\n",
       "      <th>DB00280</th>\n",
       "      <th>DB00283</th>\n",
       "      <th>DB00286</th>\n",
       "      <th>...</th>\n",
       "      <th>DB01195</th>\n",
       "      <th>DB01200</th>\n",
       "      <th>DB01210</th>\n",
       "      <th>DB01254</th>\n",
       "      <th>DB01393</th>\n",
       "      <th>DB01399</th>\n",
       "      <th>DB01410</th>\n",
       "      <th>DB01586</th>\n",
       "      <th>DB01611</th>\n",
       "      <th>DB01620</th>\n",
       "    </tr>\n",
       "  </thead>\n",
       "  <tbody>\n",
       "    <tr>\n",
       "      <th>C0008301</th>\n",
       "      <td>1</td>\n",
       "      <td>0</td>\n",
       "      <td>0</td>\n",
       "      <td>0</td>\n",
       "      <td>0</td>\n",
       "      <td>0</td>\n",
       "      <td>0</td>\n",
       "      <td>1</td>\n",
       "      <td>0</td>\n",
       "      <td>0</td>\n",
       "      <td>...</td>\n",
       "      <td>0</td>\n",
       "      <td>0</td>\n",
       "      <td>0</td>\n",
       "      <td>0</td>\n",
       "      <td>0</td>\n",
       "      <td>0</td>\n",
       "      <td>0</td>\n",
       "      <td>0</td>\n",
       "      <td>0</td>\n",
       "      <td>0</td>\n",
       "    </tr>\n",
       "  </tbody>\n",
       "</table>\n",
       "<p>1 rows × 73 columns</p>\n",
       "</div>"
      ],
      "text/plain": [
       "          DB00125  DB00136  DB00153  DB00176  DB00193  DB00195  DB00253  \\\n",
       "C0008301        1        0        0        0        0        0        0   \n",
       "\n",
       "          DB00280  DB00283  DB00286   ...     DB01195  DB01200  DB01210  \\\n",
       "C0008301        1        0        0   ...           0        0        0   \n",
       "\n",
       "          DB01254  DB01393  DB01399  DB01410  DB01586  DB01611  DB01620  \n",
       "C0008301        0        0        0        0        0        0        0  \n",
       "\n",
       "[1 rows x 73 columns]"
      ]
     },
     "execution_count": 289,
     "metadata": {},
     "output_type": "execute_result"
    }
   ],
   "source": [
    "print indep_drug.shape\n",
    "indep_drug.head(1)"
   ]
  },
  {
   "cell_type": "code",
   "execution_count": 300,
   "metadata": {
    "collapsed": false
   },
   "outputs": [
    {
     "name": "stdout",
     "output_type": "stream",
     "text": [
      "start 0 : Tue 11:05:38\n",
      "1000 : Tue 11:05:45\n",
      "2000 : Tue 11:06:09\n",
      "end : 2555 : Tue 11:06:29\n",
      "2555\n",
      "(2555, 5797)\n"
     ]
    }
   ],
   "source": [
    "cnt = 0\n",
    "arr = np.empty((0,5797), dtype=np.int64)\n",
    "print \"start %d : \" % cnt + time.strftime('%a %H:%M:%S')\n",
    "for i in indep_asso.values:\n",
    "    drug_id = i[0]\n",
    "    disease_id = i[1]\n",
    "    \n",
    "    f = lambda x: 1 if x else 0\n",
    "    temp_indep_drug = indep_drug[drug_id][indep_drug[drug_id] == 1] # drug_id에 해당하는 umls_id들만 추린것.(umls_id는 index임)\n",
    "    flags = drug.index.isin(temp_indep_drug.index)\n",
    "    indep_drug_flags = map(f, flags)\n",
    "    \n",
    "    feature = np.hstack([np.array(indep_drug_flags), disease[str(disease_id)]])\n",
    "    arr = np.vstack([arr, feature])\n",
    "    cnt = cnt + 1\n",
    "    if cnt % 1000 == 0:\n",
    "        print \"%d : \" % cnt + time.strftime('%a %H:%M:%S')\n",
    "print \"end : %d : \" % cnt + time.strftime('%a %H:%M:%S')\n",
    "print cnt\n",
    "print arr.shape"
   ]
  },
  {
   "cell_type": "code",
   "execution_count": 307,
   "metadata": {
    "collapsed": false
   },
   "outputs": [
    {
     "name": "stdout",
     "output_type": "stream",
     "text": [
      "2555\n"
     ]
    },
    {
     "data": {
      "text/html": [
       "<div>\n",
       "<table border=\"1\" class=\"dataframe\">\n",
       "  <thead>\n",
       "    <tr style=\"text-align: right;\">\n",
       "      <th></th>\n",
       "      <th>0</th>\n",
       "      <th>1</th>\n",
       "      <th>2</th>\n",
       "      <th>3</th>\n",
       "      <th>4</th>\n",
       "      <th>5</th>\n",
       "      <th>6</th>\n",
       "      <th>7</th>\n",
       "      <th>8</th>\n",
       "      <th>9</th>\n",
       "      <th>...</th>\n",
       "      <th>5787</th>\n",
       "      <th>5788</th>\n",
       "      <th>5789</th>\n",
       "      <th>5790</th>\n",
       "      <th>5791</th>\n",
       "      <th>5792</th>\n",
       "      <th>5793</th>\n",
       "      <th>5794</th>\n",
       "      <th>5795</th>\n",
       "      <th>5796</th>\n",
       "    </tr>\n",
       "  </thead>\n",
       "  <tbody>\n",
       "    <tr>\n",
       "      <th>0</th>\n",
       "      <td>0</td>\n",
       "      <td>0</td>\n",
       "      <td>0</td>\n",
       "      <td>0</td>\n",
       "      <td>0</td>\n",
       "      <td>0</td>\n",
       "      <td>1</td>\n",
       "      <td>0</td>\n",
       "      <td>0</td>\n",
       "      <td>0</td>\n",
       "      <td>...</td>\n",
       "      <td>0</td>\n",
       "      <td>0</td>\n",
       "      <td>0</td>\n",
       "      <td>0</td>\n",
       "      <td>0</td>\n",
       "      <td>0</td>\n",
       "      <td>0</td>\n",
       "      <td>0</td>\n",
       "      <td>0</td>\n",
       "      <td>0</td>\n",
       "    </tr>\n",
       "  </tbody>\n",
       "</table>\n",
       "<p>1 rows × 5797 columns</p>\n",
       "</div>"
      ],
      "text/plain": [
       "   0     1     2     3     4     5     6     7     8     9     ...   5787  \\\n",
       "0     0     0     0     0     0     0     1     0     0     0  ...      0   \n",
       "\n",
       "   5788  5789  5790  5791  5792  5793  5794  5795  5796  \n",
       "0     0     0     0     0     0     0     0     0     0  \n",
       "\n",
       "[1 rows x 5797 columns]"
      ]
     },
     "execution_count": 307,
     "metadata": {},
     "output_type": "execute_result"
    }
   ],
   "source": [
    "df_arr = pd.DataFrame(arr)\n",
    "print len(df_arr)\n",
    "df_arr.head(1)"
   ]
  },
  {
   "cell_type": "code",
   "execution_count": 309,
   "metadata": {
    "collapsed": false
   },
   "outputs": [],
   "source": [
    "indep_asso_descriptor = pd.concat([indep_asso, df_arr], axis=1)"
   ]
  },
  {
   "cell_type": "code",
   "execution_count": 310,
   "metadata": {
    "collapsed": true
   },
   "outputs": [],
   "source": [
    "indep_asso_descriptor.to_csv(\"/DAS_Storage1/aschoi/data/Drug_Repositioning/8_new_training/2_indep_asso_descriptor.tsv\", sep='\\t', index=False)\n",
    "indep_asso_descriptor.to_csv(\"/home/share/aschoi/nas/users/asolchoi/data/Drug_Repositioning/8_new_training/2_indep_asso_descriptor.tsv\", sep='\\t', index=False)"
   ]
  },
  {
   "cell_type": "code",
   "execution_count": 311,
   "metadata": {
    "collapsed": false
   },
   "outputs": [
    {
     "data": {
      "text/html": [
       "<div>\n",
       "<table border=\"1\" class=\"dataframe\">\n",
       "  <thead>\n",
       "    <tr style=\"text-align: right;\">\n",
       "      <th></th>\n",
       "      <th>drug</th>\n",
       "      <th>disease</th>\n",
       "      <th>association</th>\n",
       "      <th>0</th>\n",
       "      <th>1</th>\n",
       "      <th>2</th>\n",
       "      <th>3</th>\n",
       "      <th>4</th>\n",
       "      <th>5</th>\n",
       "      <th>6</th>\n",
       "      <th>...</th>\n",
       "      <th>5787</th>\n",
       "      <th>5788</th>\n",
       "      <th>5789</th>\n",
       "      <th>5790</th>\n",
       "      <th>5791</th>\n",
       "      <th>5792</th>\n",
       "      <th>5793</th>\n",
       "      <th>5794</th>\n",
       "      <th>5795</th>\n",
       "      <th>5796</th>\n",
       "    </tr>\n",
       "  </thead>\n",
       "  <tbody>\n",
       "    <tr>\n",
       "      <th>0</th>\n",
       "      <td>DB00125</td>\n",
       "      <td>102300</td>\n",
       "      <td>0</td>\n",
       "      <td>0</td>\n",
       "      <td>0</td>\n",
       "      <td>0</td>\n",
       "      <td>0</td>\n",
       "      <td>0</td>\n",
       "      <td>0</td>\n",
       "      <td>1</td>\n",
       "      <td>...</td>\n",
       "      <td>0</td>\n",
       "      <td>0</td>\n",
       "      <td>0</td>\n",
       "      <td>0</td>\n",
       "      <td>0</td>\n",
       "      <td>0</td>\n",
       "      <td>0</td>\n",
       "      <td>0</td>\n",
       "      <td>0</td>\n",
       "      <td>0</td>\n",
       "    </tr>\n",
       "  </tbody>\n",
       "</table>\n",
       "<p>1 rows × 5800 columns</p>\n",
       "</div>"
      ],
      "text/plain": [
       "      drug  disease  association  0  1  2  3  4  5  6  ...   5787  5788  5789  \\\n",
       "0  DB00125   102300            0  0  0  0  0  0  0  1  ...      0     0     0   \n",
       "\n",
       "   5790  5791  5792  5793  5794  5795  5796  \n",
       "0     0     0     0     0     0     0     0  \n",
       "\n",
       "[1 rows x 5800 columns]"
      ]
     },
     "execution_count": 311,
     "metadata": {},
     "output_type": "execute_result"
    }
   ],
   "source": [
    "indep_asso_descriptor.head(1)"
   ]
  },
  {
   "cell_type": "code",
   "execution_count": null,
   "metadata": {
    "collapsed": true
   },
   "outputs": [],
   "source": []
  }
 ],
 "metadata": {
  "kernelspec": {
   "display_name": "Python 2",
   "language": "python",
   "name": "python2"
  },
  "language_info": {
   "codemirror_mode": {
    "name": "ipython",
    "version": 2
   },
   "file_extension": ".py",
   "mimetype": "text/x-python",
   "name": "python",
   "nbconvert_exporter": "python",
   "pygments_lexer": "ipython2",
   "version": "2.7.6"
  }
 },
 "nbformat": 4,
 "nbformat_minor": 0
}
