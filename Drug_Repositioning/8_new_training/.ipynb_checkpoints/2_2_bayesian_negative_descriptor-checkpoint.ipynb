{
 "cells": [
  {
   "cell_type": "code",
   "execution_count": 43,
   "metadata": {
    "collapsed": true
   },
   "outputs": [],
   "source": [
    "import numpy as np\n",
    "import pandas as pd\n",
    "import time\n",
    "from __future__ import division"
   ]
  },
  {
   "cell_type": "code",
   "execution_count": 2,
   "metadata": {
    "collapsed": true
   },
   "outputs": [],
   "source": [
    "gold = pd.read_table(\"/DAS_Storage1/aschoi/data/Drug_Repositioning/8_new_training/2_1_descriptor_combined.tsv\")\n",
    "pos_feature_sum = pd.read_table(\"/DAS_Storage1/aschoi/data/Drug_Repositioning/8_new_training/3_2_pos_feature_sum.tsv\", header=None)\n",
    "neg_feature_sum = pd.read_table(\"/DAS_Storage1/aschoi/data/Drug_Repositioning/8_new_training/3_1_neg_feature_sum.tsv\", header=None)"
   ]
  },
  {
   "cell_type": "code",
   "execution_count": 30,
   "metadata": {
    "collapsed": true
   },
   "outputs": [],
   "source": [
    "pos_feature_sum = pos_feature_sum.rename(columns = {0:'feature', 1:'sum'})\n",
    "neg_feature_sum = neg_feature_sum.rename(columns = {0:'feature', 1:'sum'})"
   ]
  },
  {
   "cell_type": "code",
   "execution_count": 79,
   "metadata": {
    "collapsed": false
   },
   "outputs": [],
   "source": [
    "pos_gold = gold[gold.association == 1]\n",
    "neg_gold = gold[gold.association == 0]"
   ]
  },
  {
   "cell_type": "code",
   "execution_count": null,
   "metadata": {
    "collapsed": false
   },
   "outputs": [],
   "source": [
    "from sklearn.metrics import jaccard_similarity_score\n",
    "df_jac = pd.DataFrame()\n",
    "cnt = 0\n",
    "print time.strftime('%a %H:%M:%S')\n",
    "for index, row in pos_gold.iterrows():\n",
    "    li_row = row.tolist()\n",
    "    drug = li_row[0]\n",
    "    disease = li_row[1]\n",
    "    desc1 = li_row[2:]\n",
    "    for index2, row2 in neg_gold.iterrows():\n",
    "        li_row2 = row2.tolist()\n",
    "        drug2 = li_row2[0]\n",
    "        disease2 = li_row2[1]\n",
    "        desc2 = li_row2[2:]\n",
    "        \n",
    "        jac_sim = jaccard_similarity_score(desc1,desc2)\n",
    "        \n",
    "        temp_df = pd.DataFrame([[drug, disease, drug2, disease2,jac_sim]], columns = ['Pos_Drug', 'Pos_Disease', 'Neg_Drug', 'Neg_disease', 'Sim_scrore'])\n",
    "        df_jac = df_jac.append(temp_df)\n",
    "        cnt = cnt + 1\n",
    "        if cnt % 10000 == 0 :\n",
    "            print \"{} : \".format(cnt) + time.strftime('%a %H:%M:%S')\n",
    "print time.strftime('%a %H:%M:%S')"
   ]
  },
  {
   "cell_type": "code",
   "execution_count": null,
   "metadata": {
    "collapsed": true
   },
   "outputs": [],
   "source": [
    "cnt "
   ]
  },
  {
   "cell_type": "code",
   "execution_count": 81,
   "metadata": {
    "collapsed": false
   },
   "outputs": [
    {
     "data": {
      "text/html": [
       "<div>\n",
       "<table border=\"1\" class=\"dataframe\">\n",
       "  <thead>\n",
       "    <tr style=\"text-align: right;\">\n",
       "      <th></th>\n",
       "      <th>drug_id</th>\n",
       "      <th>disease_id</th>\n",
       "      <th>association</th>\n",
       "      <th>C0000737</th>\n",
       "      <th>C0000786</th>\n",
       "      <th>C0001824</th>\n",
       "      <th>C0002170</th>\n",
       "      <th>C0002453</th>\n",
       "      <th>C0002622</th>\n",
       "      <th>C0002792</th>\n",
       "      <th>...</th>\n",
       "      <th>387585</th>\n",
       "      <th>388165</th>\n",
       "      <th>55219</th>\n",
       "      <th>55973</th>\n",
       "      <th>65264</th>\n",
       "      <th>80350</th>\n",
       "      <th>84624</th>\n",
       "      <th>84722</th>\n",
       "      <th>91851</th>\n",
       "      <th>406216</th>\n",
       "    </tr>\n",
       "  </thead>\n",
       "  <tbody>\n",
       "    <tr>\n",
       "      <th>0</th>\n",
       "      <td>DB00190</td>\n",
       "      <td>102300</td>\n",
       "      <td>1</td>\n",
       "      <td>1</td>\n",
       "      <td>0</td>\n",
       "      <td>1</td>\n",
       "      <td>1</td>\n",
       "      <td>0</td>\n",
       "      <td>0</td>\n",
       "      <td>0</td>\n",
       "      <td>...</td>\n",
       "      <td>0</td>\n",
       "      <td>0</td>\n",
       "      <td>0</td>\n",
       "      <td>0</td>\n",
       "      <td>0</td>\n",
       "      <td>0</td>\n",
       "      <td>0</td>\n",
       "      <td>0</td>\n",
       "      <td>0</td>\n",
       "      <td>0</td>\n",
       "    </tr>\n",
       "  </tbody>\n",
       "</table>\n",
       "<p>1 rows × 5800 columns</p>\n",
       "</div>"
      ],
      "text/plain": [
       "   drug_id  disease_id  association  C0000737  C0000786  C0001824  C0002170  \\\n",
       "0  DB00190      102300            1         1         0         1         1   \n",
       "\n",
       "   C0002453  C0002622  C0002792   ...    387585  388165  55219  55973  65264  \\\n",
       "0         0         0         0   ...         0       0      0      0      0   \n",
       "\n",
       "   80350  84624  84722  91851  406216  \n",
       "0      0      0      0      0       0  \n",
       "\n",
       "[1 rows x 5800 columns]"
      ]
     },
     "execution_count": 81,
     "metadata": {},
     "output_type": "execute_result"
    }
   ],
   "source": [
    "pos_gold.head(1)"
   ]
  },
  {
   "cell_type": "code",
   "execution_count": null,
   "metadata": {
    "collapsed": true
   },
   "outputs": [],
   "source": []
  },
  {
   "cell_type": "code",
   "execution_count": 80,
   "metadata": {
    "collapsed": false
   },
   "outputs": [
    {
     "data": {
      "text/html": [
       "<div>\n",
       "<table border=\"1\" class=\"dataframe\">\n",
       "  <thead>\n",
       "    <tr style=\"text-align: right;\">\n",
       "      <th></th>\n",
       "      <th>drug_id</th>\n",
       "      <th>disease_id</th>\n",
       "      <th>association</th>\n",
       "      <th>C0000737</th>\n",
       "      <th>C0000786</th>\n",
       "      <th>C0001824</th>\n",
       "      <th>C0002170</th>\n",
       "      <th>C0002453</th>\n",
       "      <th>C0002622</th>\n",
       "      <th>C0002792</th>\n",
       "      <th>...</th>\n",
       "      <th>387585</th>\n",
       "      <th>388165</th>\n",
       "      <th>55219</th>\n",
       "      <th>55973</th>\n",
       "      <th>65264</th>\n",
       "      <th>80350</th>\n",
       "      <th>84624</th>\n",
       "      <th>84722</th>\n",
       "      <th>91851</th>\n",
       "      <th>406216</th>\n",
       "    </tr>\n",
       "  </thead>\n",
       "  <tbody>\n",
       "    <tr>\n",
       "      <th>0</th>\n",
       "      <td>DB00190</td>\n",
       "      <td>102300</td>\n",
       "      <td>1</td>\n",
       "      <td>1</td>\n",
       "      <td>0</td>\n",
       "      <td>1</td>\n",
       "      <td>1</td>\n",
       "      <td>0</td>\n",
       "      <td>0</td>\n",
       "      <td>0</td>\n",
       "      <td>...</td>\n",
       "      <td>0</td>\n",
       "      <td>0</td>\n",
       "      <td>0</td>\n",
       "      <td>0</td>\n",
       "      <td>0</td>\n",
       "      <td>0</td>\n",
       "      <td>0</td>\n",
       "      <td>0</td>\n",
       "      <td>0</td>\n",
       "      <td>0</td>\n",
       "    </tr>\n",
       "    <tr>\n",
       "      <th>25</th>\n",
       "      <td>DB00190</td>\n",
       "      <td>125320</td>\n",
       "      <td>1</td>\n",
       "      <td>1</td>\n",
       "      <td>0</td>\n",
       "      <td>1</td>\n",
       "      <td>1</td>\n",
       "      <td>0</td>\n",
       "      <td>0</td>\n",
       "      <td>0</td>\n",
       "      <td>...</td>\n",
       "      <td>0</td>\n",
       "      <td>0</td>\n",
       "      <td>0</td>\n",
       "      <td>0</td>\n",
       "      <td>0</td>\n",
       "      <td>0</td>\n",
       "      <td>0</td>\n",
       "      <td>0</td>\n",
       "      <td>0</td>\n",
       "      <td>0</td>\n",
       "    </tr>\n",
       "    <tr>\n",
       "      <th>89</th>\n",
       "      <td>DB00190</td>\n",
       "      <td>168100</td>\n",
       "      <td>1</td>\n",
       "      <td>1</td>\n",
       "      <td>0</td>\n",
       "      <td>1</td>\n",
       "      <td>1</td>\n",
       "      <td>0</td>\n",
       "      <td>0</td>\n",
       "      <td>0</td>\n",
       "      <td>...</td>\n",
       "      <td>0</td>\n",
       "      <td>0</td>\n",
       "      <td>0</td>\n",
       "      <td>0</td>\n",
       "      <td>0</td>\n",
       "      <td>0</td>\n",
       "      <td>0</td>\n",
       "      <td>0</td>\n",
       "      <td>0</td>\n",
       "      <td>0</td>\n",
       "    </tr>\n",
       "    <tr>\n",
       "      <th>90</th>\n",
       "      <td>DB00190</td>\n",
       "      <td>168600</td>\n",
       "      <td>1</td>\n",
       "      <td>1</td>\n",
       "      <td>0</td>\n",
       "      <td>1</td>\n",
       "      <td>1</td>\n",
       "      <td>0</td>\n",
       "      <td>0</td>\n",
       "      <td>0</td>\n",
       "      <td>...</td>\n",
       "      <td>0</td>\n",
       "      <td>0</td>\n",
       "      <td>0</td>\n",
       "      <td>0</td>\n",
       "      <td>0</td>\n",
       "      <td>0</td>\n",
       "      <td>0</td>\n",
       "      <td>0</td>\n",
       "      <td>0</td>\n",
       "      <td>0</td>\n",
       "    </tr>\n",
       "    <tr>\n",
       "      <th>235</th>\n",
       "      <td>DB00193</td>\n",
       "      <td>102300</td>\n",
       "      <td>1</td>\n",
       "      <td>1</td>\n",
       "      <td>0</td>\n",
       "      <td>0</td>\n",
       "      <td>0</td>\n",
       "      <td>0</td>\n",
       "      <td>1</td>\n",
       "      <td>1</td>\n",
       "      <td>...</td>\n",
       "      <td>0</td>\n",
       "      <td>0</td>\n",
       "      <td>0</td>\n",
       "      <td>0</td>\n",
       "      <td>0</td>\n",
       "      <td>0</td>\n",
       "      <td>0</td>\n",
       "      <td>0</td>\n",
       "      <td>0</td>\n",
       "      <td>0</td>\n",
       "    </tr>\n",
       "  </tbody>\n",
       "</table>\n",
       "<p>5 rows × 5800 columns</p>\n",
       "</div>"
      ],
      "text/plain": [
       "     drug_id  disease_id  association  C0000737  C0000786  C0001824  C0002170  \\\n",
       "0    DB00190      102300            1         1         0         1         1   \n",
       "25   DB00190      125320            1         1         0         1         1   \n",
       "89   DB00190      168100            1         1         0         1         1   \n",
       "90   DB00190      168600            1         1         0         1         1   \n",
       "235  DB00193      102300            1         1         0         0         0   \n",
       "\n",
       "     C0002453  C0002622  C0002792   ...    387585  388165  55219  55973  \\\n",
       "0           0         0         0   ...         0       0      0      0   \n",
       "25          0         0         0   ...         0       0      0      0   \n",
       "89          0         0         0   ...         0       0      0      0   \n",
       "90          0         0         0   ...         0       0      0      0   \n",
       "235         0         1         1   ...         0       0      0      0   \n",
       "\n",
       "     65264  80350  84624  84722  91851  406216  \n",
       "0        0      0      0      0      0       0  \n",
       "25       0      0      0      0      0       0  \n",
       "89       0      0      0      0      0       0  \n",
       "90       0      0      0      0      0       0  \n",
       "235      0      0      0      0      0       0  \n",
       "\n",
       "[5 rows x 5800 columns]"
      ]
     },
     "execution_count": 80,
     "metadata": {},
     "output_type": "execute_result"
    }
   ],
   "source": [
    "pos_gold.head()"
   ]
  },
  {
   "cell_type": "code",
   "execution_count": null,
   "metadata": {
    "collapsed": true
   },
   "outputs": [],
   "source": [
    "pos_gold.groupby()"
   ]
  },
  {
   "cell_type": "code",
   "execution_count": 56,
   "metadata": {
    "collapsed": false
   },
   "outputs": [],
   "source": [
    "#pos_feature_sum, neg_feature_sum을 descriptor 순서로\n",
    "sorter = gold.columns[3:].tolist()\n",
    "neg_feature_sum.feature = neg_feature_sum.feature.astype(\"category\")\n",
    "neg_feature_sum.feature.cat.set_categories(sorter, inplace=True)\n",
    "neg_feature_sum = neg_feature_sum.sort_values([\"feature\"])\n",
    "\n",
    "pos_feature_sum.feature = pos_feature_sum.feature.astype(\"category\")\n",
    "pos_feature_sum.feature.cat.set_categories(sorter, inplace=True)\n",
    "pos_feature_sum = pos_feature_sum.sort_values([\"feature\"])"
   ]
  },
  {
   "cell_type": "code",
   "execution_count": 65,
   "metadata": {
    "collapsed": true
   },
   "outputs": [],
   "source": [
    "#### Labplace Smoothing\n",
    "numP = 1434 # len(gold[gold.association==1]) #1434\n",
    "numN = 109251#len(gold[gold.association==0]) #109,251\n",
    "LapP = (numP +1) / (numP + numN + 2)\n",
    "LapN = (numN +1 ) / (numP + numN + 2)"
   ]
  },
  {
   "cell_type": "code",
   "execution_count": 67,
   "metadata": {
    "collapsed": false
   },
   "outputs": [],
   "source": [
    "# P(Feature | Positive), P(Feature | Negative)\n",
    "LapF_P = (pos_feature_sum['sum'] + 1) / (numP + 2)\n",
    "LapF_N = (neg_feature_sum['sum'] + 1) / (numN + 2)"
   ]
  },
  {
   "cell_type": "code",
   "execution_count": 68,
   "metadata": {
    "collapsed": false
   },
   "outputs": [],
   "source": [
    "# P(Positive | Featue), P(Negative | Feature) : positive일 경우  (LapF_P * LapP) / (LapF_P * LapP + LapF_N + LapN)\n",
    "LapP_F = (LapF_P * LapP) / (LapF_P * LapP + LapF_N * LapN)\n",
    "LapN_F = (LapF_N * LapN) / (LapF_P * LapP + LapF_N * LapN)"
   ]
  },
  {
   "cell_type": "code",
   "execution_count": 70,
   "metadata": {
    "collapsed": false
   },
   "outputs": [
    {
     "data": {
      "text/plain": [
       "0.024828070325270263"
      ]
     },
     "execution_count": 70,
     "metadata": {},
     "output_type": "execute_result"
    }
   ],
   "source": [
    "LapP_F.max()"
   ]
  },
  {
   "cell_type": "code",
   "execution_count": 74,
   "metadata": {
    "collapsed": false
   },
   "outputs": [
    {
     "data": {
      "text/plain": [
       "0.9956074031354738"
      ]
     },
     "execution_count": 74,
     "metadata": {},
     "output_type": "execute_result"
    }
   ],
   "source": [
    "LapN_F.max()"
   ]
  },
  {
   "cell_type": "code",
   "execution_count": 76,
   "metadata": {
    "collapsed": false
   },
   "outputs": [
    {
     "data": {
      "text/plain": [
       "0       0.013391\n",
       "1       0.013605\n",
       "2       0.013298\n",
       "3       0.013486\n",
       "4       0.013492\n",
       "5       0.013504\n",
       "6       0.013476\n",
       "7       0.013801\n",
       "8       0.013787\n",
       "9       0.013774\n",
       "10      0.013778\n",
       "11      0.013567\n",
       "12      0.013486\n",
       "13      0.013657\n",
       "14      0.013777\n",
       "15      0.013539\n",
       "16      0.014147\n",
       "17      0.014122\n",
       "18      0.014232\n",
       "19      0.014189\n",
       "20      0.014019\n",
       "21      0.014044\n",
       "22      0.013852\n",
       "23      0.013814\n",
       "24      0.013707\n",
       "25      0.013756\n",
       "26      0.014105\n",
       "27      0.014170\n",
       "28      0.014175\n",
       "29      0.014143\n",
       "          ...   \n",
       "5767    0.008469\n",
       "5768    0.008469\n",
       "5769    0.008469\n",
       "5770    0.008469\n",
       "5771    0.008469\n",
       "5772    0.008469\n",
       "5773    0.008469\n",
       "5774    0.008505\n",
       "5775    0.008505\n",
       "5776    0.008505\n",
       "5777    0.008505\n",
       "5778    0.008505\n",
       "5779    0.008505\n",
       "5780    0.008505\n",
       "5781    0.008505\n",
       "5782    0.008505\n",
       "5783    0.008505\n",
       "5784    0.008541\n",
       "5785    0.008541\n",
       "5786    0.008541\n",
       "5787    0.008541\n",
       "5788    0.008541\n",
       "5789    0.008578\n",
       "5790    0.008578\n",
       "5791    0.008578\n",
       "5792    0.008578\n",
       "5793    0.008615\n",
       "5794    0.008615\n",
       "5795    0.008652\n",
       "5796    0.008963\n",
       "Name: sum, dtype: float64"
      ]
     },
     "execution_count": 76,
     "metadata": {},
     "output_type": "execute_result"
    }
   ],
   "source": [
    "LapP_F"
   ]
  },
  {
   "cell_type": "code",
   "execution_count": null,
   "metadata": {
    "collapsed": true
   },
   "outputs": [],
   "source": []
  }
 ],
 "metadata": {
  "kernelspec": {
   "display_name": "Python 2",
   "language": "python",
   "name": "python2"
  },
  "language_info": {
   "codemirror_mode": {
    "name": "ipython",
    "version": 2
   },
   "file_extension": ".py",
   "mimetype": "text/x-python",
   "name": "python",
   "nbconvert_exporter": "python",
   "pygments_lexer": "ipython2",
   "version": "2.7.6"
  }
 },
 "nbformat": 4,
 "nbformat_minor": 0
}
