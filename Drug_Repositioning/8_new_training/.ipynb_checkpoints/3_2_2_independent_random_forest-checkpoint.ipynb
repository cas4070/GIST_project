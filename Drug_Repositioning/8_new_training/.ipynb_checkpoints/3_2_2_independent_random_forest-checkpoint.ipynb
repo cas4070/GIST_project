{
 "cells": [
  {
   "cell_type": "code",
   "execution_count": 10,
   "metadata": {
    "collapsed": true
   },
   "outputs": [],
   "source": [
    "import pandas as pd\n",
    "from sklearn.ensemble import RandomForestClassifier\n",
    "from sklearn.metrics import confusion_matrix\n",
    "from sklearn.model_selection import StratifiedKFold\n",
    "from imblearn.under_sampling import RandomUnderSampler\n",
    "from imblearn.under_sampling import OneSidedSelection\n",
    "from imblearn.under_sampling import NearMiss\n",
    "from sklearn.metrics import precision_recall_curve\n",
    "from sklearn.metrics import average_precision_score\n",
    "from imblearn.metrics import sensitivity_specificity_support\n",
    "from sklearn.metrics import precision_recall_fscore_support\n",
    "from itertools import cycle\n",
    "from collections import Counter\n",
    "import matplotlib.pyplot as plt\n",
    "from sklearn.metrics import roc_curve, auc, average_precision_score\n",
    "import time"
   ]
  },
  {
   "cell_type": "code",
   "execution_count": 2,
   "metadata": {
    "collapsed": true
   },
   "outputs": [],
   "source": [
    "#independent dataset\n",
    "indep = pd.read_table(\"/DAS_Storage1/aschoi/data/Drug_Repositioning/8_new_training/2_2_indep_asso_descriptor.tsv\")\n",
    "indep_x = indep.values[:, 3:].astype(float)\n",
    "indep_y = indep.values[:,2].astype(int)"
   ]
  },
  {
   "cell_type": "code",
   "execution_count": 3,
   "metadata": {
    "collapsed": true
   },
   "outputs": [],
   "source": [
    "#기존 데이터\n",
    "#association_data = pd.read_table(\"/DAS_Storage1/aschoi/data/Drug_Repositioning/7_new_association/9_gold_learning_association.tsv\")\n",
    "#descriptor_data = pd.read_table(\"/DAS_Storage1/aschoi/data/Drug_Repositioning/8_new_training/2_1_descriptor_combined.tsv\", header=None) # 이거 현재 바뀜.\n",
    "df = pd.read_table(\"/DAS_Storage1/aschoi/data/Drug_Repositioning/8_new_training/2_1_descriptor_combined.tsv\")\n",
    "x_whole_data = df[df.columns.values[3:].tolist()].values\n",
    "y_whole_data = df[\"association\"].values"
   ]
  },
  {
   "cell_type": "code",
   "execution_count": 4,
   "metadata": {
    "collapsed": false
   },
   "outputs": [],
   "source": [
    "# new descriptor - TN 구분한 data(2017.1.16.) 수정됨. 2017.1.23.\n",
    "df = pd.read_table(\"/DAS_Storage1/aschoi/data/Drug_Repositioning/8_new_training/4_gold_descriptor_revised_1%.tsv\")\n",
    "x_whole_data_1 = df[df.columns.values[3:].tolist()].values\n",
    "y_whole_data_1 = df[\"association\"].values\n",
    "\n",
    "# new descriptor - TN 구분한 data(2017.1.16.) 수정됨. 2017.1.23. 추가됨 2017.2.1.\n",
    "df = pd.read_table(\"/DAS_Storage1/aschoi/data/Drug_Repositioning/8_new_training/4_gold_descriptor_revised_0.5%.tsv\")\n",
    "x_whole_data_0_5 = df[df.columns.values[3:].tolist()].values\n",
    "y_whole_data_0_5 = df[\"association\"].values\n",
    "\n",
    "df = pd.read_table(\"/DAS_Storage1/aschoi/data/Drug_Repositioning/8_new_training/4_gold_descriptor_revised_0.1%.tsv\")\n",
    "x_whole_data_0_1 = df[df.columns.values[3:].tolist()].values\n",
    "y_whole_data_0_1 = df[\"association\"].values"
   ]
  },
  {
   "cell_type": "code",
   "execution_count": 13,
   "metadata": {
    "collapsed": true
   },
   "outputs": [],
   "source": [
    "df = pd.read_table(\"/DAS_Storage1/aschoi/data/Drug_Repositioning/8_new_training/4_gold_descriptor_revised_0.1%.tsv\")\n",
    "x_whole_data_0_1 = df[df.columns.values[3:].tolist()].values\n",
    "y_whole_data_0_1 = df[\"association\"].values"
   ]
  },
  {
   "cell_type": "code",
   "execution_count": 7,
   "metadata": {
    "collapsed": true
   },
   "outputs": [],
   "source": [
    "from sklearn.metrics import roc_curve, auc, average_precision_score\n",
    "\n",
    "def Random_Forest_independent(x_whole_data, y_whole_data, indep_x, indep_y, user_estimators):\n",
    "\n",
    "    #classifier = LogisticRegression(penalty='l1', C=user_c, n_jobs = -1)\n",
    "    classifier = RandomForestClassifier(n_estimators=user_estimators, n_jobs=-1, class_weight='balanced')\n",
    "    classifier.fit(x_whole_data, y_whole_data)\n",
    "    indep_y_predicted_proba = classifier.predict_proba(indep_x)\n",
    "    indep_y_predicted_label = classifier.predict(indep_x)\n",
    "\n",
    "    indep_accuracy = classifier.score(indep_x, indep_y)\n",
    "    indep_fpr, indep_tpr, indep_thresholds = roc_curve(indep_y, indep_y_predicted_proba[:, 1], pos_label = 1)\n",
    "    indep_auc = auc(indep_fpr, indep_tpr)\n",
    "    indep_sn, indep_sp, _ = sensitivity_specificity_support(indep_y, indep_y_predicted_label)\n",
    "    indep_precision, indep_recall, _, _ = precision_recall_fscore_support(y_validation_set, y_predicted_label, average = 'binary')\n",
    "    indep_aupr = average_precision_score(indep_y, indep_y_predicted_proba[:, 1])\n",
    "    indep_confusion_matirx = confusion_matrix(indep_y, indep_y_predicted_label)\n",
    "    indep_precision_vec, indep_recall_vec, _ = precision_recall_curve(indep_y, indep_y_predicted_proba[:, 1])\n",
    "\n",
    "    return [indep_accuracy, indep_auc, indep_aupr, indep_confusion_matirx, inep_sn, indep_sp, indep_precision, indep_recall]\n",
    "  "
   ]
  },
  {
   "cell_type": "code",
   "execution_count": 96,
   "metadata": {
    "collapsed": true
   },
   "outputs": [],
   "source": [
    "def Random_Forest_independent_10_fold(x_whole_data, y_whole_data, indep_x, indep_y, user_estimators, undersampler):\n",
    "    #rus = RandomUnderSampler()\n",
    "    whole_accuracy = list()\n",
    "    whole_auc = list()\n",
    "    whole_aupr = list()\n",
    "    whole_confusion_mat = list()\n",
    "    whole_precision = list()\n",
    "    whole_recall = list()\n",
    "    whole_sn = list()\n",
    "    whole_sp = list()\n",
    "    for i in range(0, 10):\n",
    "        x_resampled, y_resampled = undersampler.fit_sample(indep_x, indep_y)\n",
    "        indep_result = Random_Forest_independent(x_whole_data, y_whole_data, x_resampled, y_resampled, user_estimators)\n",
    "        whole_accuracy.append(indep_result[0])\n",
    "        whole_auc.append(indep_result[1])\n",
    "        whole_aupr.append(indep_result[2])\n",
    "        whole_confusion_mat.append(indep_result[3])\n",
    "        #whole_predicted_proba.append([y_resampled, indep_result[4]])\n",
    "        whole_sn.append(indep_result[4])\n",
    "        whole_sp.append(indep_result[5])\n",
    "        whole_precision.append(indep_result[6])\n",
    "        whole_recall.append(indep_result[7])\n",
    "        print('Original dataset shape {}'.format(Counter(indep_y)))\n",
    "    print('\\nResampled dataset shape {}'.format(Counter(y_resampled)))\n",
    "    avg_acc = sum(whole_accuracy)/len(whole_accuracy)\n",
    "    avg_auc = sum(whole_auc)/len(whole_auc)\n",
    "    avg_aupr = sum(whole_aupr)/len(whole_aupr)\n",
    "    confusion_matrix = sum(whole_confusion_mat)\n",
    "    avg_sn = sum(whole_sn) / len(whole_sn)\n",
    "    avg_sp = sum(whole_sp) / len(whole_sp)\n",
    "    avg_precision = sum(whole_precision) / len(whole_precision)\n",
    "    avg_recall = sum(whole_recall) / len(whole_recall)\n",
    "    return [avg_acc, avg_auc, avg_aupr, confusion_matrix, avg_sn, avg_sp, avg_precision, avg_recall]"
   ]
  },
  {
   "cell_type": "code",
   "execution_count": 6,
   "metadata": {
    "collapsed": true
   },
   "outputs": [],
   "source": [
    "def write_output(filedescritor, results):\n",
    "    f.write(\"Accuracy : {}\\r\\n\".format(results[0]))\n",
    "    f.write(\"AUC : {}\\r\\n\".format(results[1]))\n",
    "    f.write(\"  Sensitivity avg : {}\\r\\n\".format(results[4]))\n",
    "    f.write(\"  Specificity avg : {}\\r\\n\".format(results[5]))\n",
    "    f.write(\"AUPR : {}\\r\\n\".format(results[2]))\n",
    "    f.write(\"  Precision avg : {}\\r\\n\".format(results[6]))\n",
    "    f.write(\"  Recall avg : {}\\r\\n\".format(results[7]))\n",
    "    f.write(\"confusion amtrix : {}\\r\\n\".format(results[3]))"
   ]
  },
  {
   "cell_type": "code",
   "execution_count": 99,
   "metadata": {
    "collapsed": false
   },
   "outputs": [],
   "source": [
    "def write_proba_output(file_name, results):\n",
    "    with open(\"/home/share/aschoi/nas/users/asolchoi/data/Drug_Repositioning/8_new_training/{}\".format(file_name), 'w') as fd:\n",
    "        indep_y_predicted_proba = results[4].tolist()\n",
    "        for item in indep_y_predicted_proba:\n",
    "            fd.write(\"{}\\t{}\\n\".format(item[0], item[1]))"
   ]
  },
  {
   "cell_type": "code",
   "execution_count": 4,
   "metadata": {
    "collapsed": true
   },
   "outputs": [],
   "source": [
    "plt.clf()\n",
    "f, axes = plt.subplots(1, 2, figsize=(15, 5))\n",
    "def draw_AUC_curve(f, axes, fpr, tpr, recall_vec, precision_vec, i):\n",
    "    \n",
    "    # setup plot details\n",
    "    %matplotlib inline\n",
    "\n",
    "    lw = 2\n",
    "    colors = cycle(['cyan', 'indigo', 'seagreen', 'yellow', 'blue', 'darkorange', 'red', 'violet', 'fuchsia', 'sienna'])\n",
    "    \n",
    "    # plot AUC\n",
    "    axes[0].plot(fpr, tpr, lw=lw, color=color, label=lab1)\n",
    "    lab1 = 'Fold %d AUC=%.4f' % (i+1, current_auc)\n",
    "    \n",
    "    # plot AUPR\n",
    "    axes[1].plot(recall_vec, precision_vec, lw=lw, color=color, label=lab2)\n",
    "    lab2 = 'Fold %d AUPR=%.4f' % (i+1, current_aupr)\n",
    "    \n",
    "    axes[0].set_xlabel('FPR')\n",
    "    axes[0].set_ylabel('TPR')\n",
    "    axes[0].set_ylim([0.0, 1.05])\n",
    "    axes[0].set_xlim([0.0, 1.0])\n",
    "    axes[0].set_title('Average AUC={0:0.2f}'.format(avg_auc))\n",
    "    axes[0].legend(bbox_to_anchor=(1.05, 1), loc=2, borderaxespad=0)\n",
    "    axes[1].set_xlabel('Recall')\n",
    "    axes[1].set_ylabel('Precision')\n",
    "    axes[1].set_ylim([0.0, 1.05])\n",
    "    axes[1].set_xlim([0.0, 1.0])\n",
    "    axes[1].set_title('Agerage AUPR={0:0.2f}'.format(avg_aupr))\n",
    "    axes[1].legend(bbox_to_anchor=(1.05, 1), loc=2, borderaxespad=0)\n",
    "    f.subplots_adjust(wspace=0.8)\n",
    "    \n",
    "    \n",
    "    \n",
    "    #f, axes = plt.subplots(1, 2, figsize=(15, 5))\n",
    "    #plt.plot(recall, precision, lw=lw, color='navy', label='Precision-Recall Curve')\n",
    "    #plt.xlabel('Recall')\n",
    "    #plt.ylabel('Precision')\n",
    "    #plt.ylim([0.0, 1.05])\n",
    "    #plt.xlim([0.0, 1.0])\n",
    "    #plt.title('Precision-Recall example: AUC={0:0.2f}'.format(average_precision))\n",
    "    #plt.legend(loc=\"lower left\")\n",
    "    #plt.show()    "
   ]
  },
  {
   "cell_type": "code",
   "execution_count": 5,
   "metadata": {
    "collapsed": false
   },
   "outputs": [],
   "source": [
    "# undersampler\n",
    "rus = RandomUnderSampler()\n",
    "oss = OneSidedSelection()\n",
    "nm = NearMiss()"
   ]
  },
  {
   "cell_type": "code",
   "execution_count": 9,
   "metadata": {
    "collapsed": false
   },
   "outputs": [
    {
     "name": "stdout",
     "output_type": "stream",
     "text": [
      "Fri 01:13:48\n"
     ]
    },
    {
     "ename": "NameError",
     "evalue": "name 'roc_curve' is not defined",
     "output_type": "error",
     "traceback": [
      "\u001b[1;31m---------------------------------------------------------------------------\u001b[0m",
      "\u001b[1;31mNameError\u001b[0m                                 Traceback (most recent call last)",
      "\u001b[1;32m<ipython-input-9-bc9f3fa8aeb0>\u001b[0m in \u001b[0;36m<module>\u001b[1;34m()\u001b[0m\n\u001b[0;32m     11\u001b[0m \u001b[1;33m\u001b[0m\u001b[0m\n\u001b[0;32m     12\u001b[0m     \u001b[0mindep_accuracy\u001b[0m \u001b[1;33m=\u001b[0m \u001b[0mclassifier\u001b[0m\u001b[1;33m.\u001b[0m\u001b[0mscore\u001b[0m\u001b[1;33m(\u001b[0m\u001b[0mindep_x\u001b[0m\u001b[1;33m,\u001b[0m \u001b[0mindep_y\u001b[0m\u001b[1;33m)\u001b[0m\u001b[1;33m\u001b[0m\u001b[0m\n\u001b[1;32m---> 13\u001b[1;33m     \u001b[0mindep_fpr\u001b[0m\u001b[1;33m,\u001b[0m \u001b[0mindep_tpr\u001b[0m\u001b[1;33m,\u001b[0m \u001b[0mindep_thresholds\u001b[0m \u001b[1;33m=\u001b[0m \u001b[0mroc_curve\u001b[0m\u001b[1;33m(\u001b[0m\u001b[0mindep_y\u001b[0m\u001b[1;33m,\u001b[0m \u001b[0mindep_y_predicted_proba\u001b[0m\u001b[1;33m[\u001b[0m\u001b[1;33m:\u001b[0m\u001b[1;33m,\u001b[0m \u001b[1;36m1\u001b[0m\u001b[1;33m]\u001b[0m\u001b[1;33m,\u001b[0m \u001b[0mpos_label\u001b[0m \u001b[1;33m=\u001b[0m \u001b[1;36m1\u001b[0m\u001b[1;33m)\u001b[0m\u001b[1;33m\u001b[0m\u001b[0m\n\u001b[0m\u001b[0;32m     14\u001b[0m     \u001b[0mindep_auc\u001b[0m \u001b[1;33m=\u001b[0m \u001b[0mauc\u001b[0m\u001b[1;33m(\u001b[0m\u001b[0mindep_fpr\u001b[0m\u001b[1;33m,\u001b[0m \u001b[0mindep_tpr\u001b[0m\u001b[1;33m)\u001b[0m\u001b[1;33m\u001b[0m\u001b[0m\n\u001b[0;32m     15\u001b[0m     \u001b[0mindep_sn\u001b[0m\u001b[1;33m,\u001b[0m \u001b[0mindep_sp\u001b[0m\u001b[1;33m,\u001b[0m \u001b[0m_\u001b[0m \u001b[1;33m=\u001b[0m \u001b[0msensitivity_specificity_support\u001b[0m\u001b[1;33m(\u001b[0m\u001b[0mindep_y\u001b[0m\u001b[1;33m,\u001b[0m \u001b[0mindep_y_predicted_label\u001b[0m\u001b[1;33m)\u001b[0m\u001b[1;33m\u001b[0m\u001b[0m\n",
      "\u001b[1;31mNameError\u001b[0m: name 'roc_curve' is not defined"
     ]
    }
   ],
   "source": [
    "# 기존 dataset, independent, 2017.2.14. 작성 # 2017.2.24 수정.\n",
    "print time.strftime('%a %H:%M:%S')\n",
    "with open(\"/home/share/aschoi/nas/users/asolchoi/data/Drug_Repositioning/8_new_training/RF_original_ver2.txt\", 'w') as f :\n",
    "    user_estimators = 1200\n",
    "    f.write(\"<independent>\\r\\n\")\n",
    "    \n",
    "    classifier = RandomForestClassifier(n_estimators=user_estimators, n_jobs=-1, class_weight='balanced')\n",
    "    classifier.fit(x_whole_data, y_whole_data)\n",
    "    indep_y_predicted_proba = classifier.predict_proba(indep_x)\n",
    "    indep_y_predicted_label = classifier.predict(indep_x)\n",
    "\n",
    "    indep_accuracy = classifier.score(indep_x, indep_y)\n",
    "    indep_fpr, indep_tpr, indep_thresholds = roc_curve(indep_y, indep_y_predicted_proba[:, 1], pos_label = 1)\n",
    "    indep_auc = auc(indep_fpr, indep_tpr)\n",
    "    indep_sn, indep_sp, _ = sensitivity_specificity_support(indep_y, indep_y_predicted_label)\n",
    "    indep_precision, indep_recall, _, _ = precision_recall_fscore_support(indep_y, indep_y_predicted_label, average = 'binary')\n",
    "    indep_aupr = average_precision_score(indep_y, indep_y_predicted_proba[:, 1])\n",
    "    indep_confusion_matirx = confusion_matrix(indep_y, indep_y_predicted_label)\n",
    "    indep_precision_vec, indep_recall_vec, _ = precision_recall_curve(indep_y, indep_y_predicted_proba[:, 1])\n",
    "    \n",
    "    f.write(\"Accuracy : {}\\r\\n\".format(indep_accuracy))\n",
    "    f.write(\"AUC : {}\\r\\n\".format(indep_auc))\n",
    "    f.write(\"  Sensitivity avg : {}\\r\\n\".format(indep_sn))\n",
    "    f.write(\"  Specificity avg : {}\\r\\n\".format(indep_sp))\n",
    "    f.write(\"AUPR : {}\\r\\n\".format(indep_aupr))\n",
    "    f.write(\"  Precision avg : {}\\r\\n\".format(indep_precision))\n",
    "    f.write(\"  Recall avg : {}\\r\\n\".format(indep_recall))\n",
    "    f.write(\"confusion amtrix : {}\\r\\n\".format(indep_confusion_matirx))\n",
    "\n",
    "    %matplotlib inline\n",
    "    plt.clf()\n",
    "    ff, axes = plt.subplots(1, 2, figsize=(15, 5))\n",
    "    \n",
    "    # setup plot details\n",
    "    i=0\n",
    "    lw = 2\n",
    "    colors = cycle(['cyan', 'indigo', 'seagreen', 'yellow', 'blue', 'darkorange', 'red', 'violet', 'fuchsia', 'sienna'])\n",
    "    \n",
    "    # plot AUC\n",
    "    lab1 = 'Fold %d AUC=%.4f' % (i+1, indep_auc)\n",
    "    axes[0].plot(indep_fpr, indep_tpr, lw=lw, color='cyan', label=lab1)\n",
    "    \n",
    "    \n",
    "    # plot AUPR\n",
    "    lab2 = 'Fold %d AUPR=%.4f' % (i+1, indep_aupr)\n",
    "    axes[1].plot(indep_recall_vec, indep_precision_vec, lw=lw, color='cyan', label=lab2)\n",
    "    \n",
    "    \n",
    "    axes[0].set_xlabel('FPR')\n",
    "    axes[0].set_ylabel('TPR')\n",
    "    axes[0].set_ylim([0.0, 1.05])\n",
    "    axes[0].set_xlim([0.0, 1.0])\n",
    "    axes[0].set_title('Average AUC={0:0.2f}'.format(indep_auc))\n",
    "    axes[0].legend(bbox_to_anchor=(1.05, 1), loc=2, borderaxespad=0)\n",
    "    axes[1].set_xlabel('Recall')\n",
    "    axes[1].set_ylabel('Precision')\n",
    "    axes[1].set_ylim([0.0, 1.05])\n",
    "    axes[1].set_xlim([0.0, 1.0])\n",
    "    axes[1].set_title('Agerage AUPR={0:0.2f}'.format(indep_aupr))\n",
    "    axes[1].legend(bbox_to_anchor=(1.05, 1), loc=2, borderaxespad=0)\n",
    "    ff.subplots_adjust(wspace=0.8)\n",
    "\n",
    "print time.strftime('%a %H:%M:%S')"
   ]
  },
  {
   "cell_type": "code",
   "execution_count": 12,
   "metadata": {
    "collapsed": false
   },
   "outputs": [
    {
     "name": "stdout",
     "output_type": "stream",
     "text": [
      "Fri 01:27:57\n",
      "Fri 01:27:57\n"
     ]
    },
    {
     "data": {
      "text/plain": [
       "<matplotlib.figure.Figure at 0x7ff36c8f9590>"
      ]
     },
     "metadata": {},
     "output_type": "display_data"
    },
    {
     "data": {
      "image/png": "[encoded data removed]",
      "text/plain": [
       "<matplotlib.figure.Figure at 0x7ff36c858c50>"
      ]
     },
     "metadata": {},
     "output_type": "display_data"
    }
   ],
   "source": [
    "# 기존 dataset, independent, 2017.2.14. 작성 # 2017.2.24 수정.\n",
    "print time.strftime('%a %H:%M:%S')\n",
    "with open(\"/home/share/aschoi/nas/users/asolchoi/data/Drug_Repositioning/8_new_training/RF_original_ver2.txt\", 'w') as f :\n",
    "    \n",
    "    indep_fpr, indep_tpr, indep_thresholds = roc_curve(indep_y, indep_y_predicted_proba[:, 1], pos_label = 1)\n",
    "    indep_auc = auc(indep_fpr, indep_tpr)\n",
    "    indep_sn, indep_sp, _ = sensitivity_specificity_support(indep_y, indep_y_predicted_label)\n",
    "    indep_precision, indep_recall, _, _ = precision_recall_fscore_support(indep_y, indep_y_predicted_label, average = 'binary')\n",
    "    indep_aupr = average_precision_score(indep_y, indep_y_predicted_proba[:, 1])\n",
    "    indep_confusion_matirx = confusion_matrix(indep_y, indep_y_predicted_label)\n",
    "    indep_precision_vec, indep_recall_vec, _ = precision_recall_curve(indep_y, indep_y_predicted_proba[:, 1])\n",
    "    \n",
    "    f.write(\"Accuracy : {}\\r\\n\".format(indep_accuracy))\n",
    "    f.write(\"AUC : {}\\r\\n\".format(indep_auc))\n",
    "    f.write(\"  Sensitivity avg : {}\\r\\n\".format(indep_sn))\n",
    "    f.write(\"  Specificity avg : {}\\r\\n\".format(indep_sp))\n",
    "    f.write(\"AUPR : {}\\r\\n\".format(indep_aupr))\n",
    "    f.write(\"  Precision avg : {}\\r\\n\".format(indep_precision))\n",
    "    f.write(\"  Recall avg : {}\\r\\n\".format(indep_recall))\n",
    "    f.write(\"confusion amtrix : {}\\r\\n\".format(indep_confusion_matirx))\n",
    "\n",
    "    %matplotlib inline\n",
    "    plt.clf()\n",
    "    ff, axes = plt.subplots(1, 2, figsize=(15, 5))\n",
    "    \n",
    "    # setup plot details\n",
    "    i=0\n",
    "    lw = 2\n",
    "    colors = cycle(['cyan', 'indigo', 'seagreen', 'yellow', 'blue', 'darkorange', 'red', 'violet', 'fuchsia', 'sienna'])\n",
    "    \n",
    "    # plot AUC\n",
    "    lab1 = 'Fold %d AUC=%.4f' % (i+1, indep_auc)\n",
    "    axes[0].plot(indep_fpr, indep_tpr, lw=lw, color='cyan', label=lab1)\n",
    "    \n",
    "    \n",
    "    # plot AUPR\n",
    "    lab2 = 'Fold %d AUPR=%.4f' % (i+1, indep_aupr)\n",
    "    axes[1].plot(indep_recall_vec, indep_precision_vec, lw=lw, color='cyan', label=lab2)\n",
    "    \n",
    "    \n",
    "    axes[0].set_xlabel('FPR')\n",
    "    axes[0].set_ylabel('TPR')\n",
    "    axes[0].set_ylim([0.0, 1.05])\n",
    "    axes[0].set_xlim([0.0, 1.0])\n",
    "    axes[0].set_title('Average AUC={0:0.2f}'.format(indep_auc))\n",
    "    axes[0].legend(bbox_to_anchor=(1.05, 1), loc=2, borderaxespad=0)\n",
    "    axes[1].set_xlabel('Recall')\n",
    "    axes[1].set_ylabel('Precision')\n",
    "    axes[1].set_ylim([0.0, 1.05])\n",
    "    axes[1].set_xlim([0.0, 1.0])\n",
    "    axes[1].set_title('Agerage AUPR={0:0.2f}'.format(indep_aupr))\n",
    "    axes[1].legend(bbox_to_anchor=(1.05, 1), loc=2, borderaxespad=0)\n",
    "    ff.subplots_adjust(wspace=0.8)\n",
    "\n",
    "print time.strftime('%a %H:%M:%S')"
   ]
  },
  {
   "cell_type": "code",
   "execution_count": null,
   "metadata": {
    "collapsed": false
   },
   "outputs": [
    {
     "name": "stdout",
     "output_type": "stream",
     "text": [
      "Fri 02:01:03\n"
     ]
    }
   ],
   "source": [
    "# 기존 dataset, independent, 2017.2.14. 작성 # 2017.2.24 수정.\n",
    "print time.strftime('%a %H:%M:%S')\n",
    "with open(\"/home/share/aschoi/nas/users/asolchoi/data/Drug_Repositioning/8_new_training/RF_original_ver2.txt\", 'w') as f :\n",
    "    user_estimators = 1200\n",
    "    f.write(\"<independent>\\r\\n\")\n",
    "    \n",
    "    classifier = RandomForestClassifier(n_estimators=user_estimators, n_jobs=-1, class_weight='balanced')\n",
    "    classifier.fit(x_whole_data_0_1, y_whole_data_0_1)\n",
    "    indep_y_predicted_proba = classifier.predict_proba(indep_x)\n",
    "    indep_y_predicted_label = classifier.predict(indep_x)\n",
    "\n",
    "    indep_accuracy = classifier.score(indep_x, indep_y)\n",
    "    indep_fpr, indep_tpr, indep_thresholds = roc_curve(indep_y, indep_y_predicted_proba[:, 1], pos_label = 1)\n",
    "    indep_auc = auc(indep_fpr, indep_tpr)\n",
    "    indep_sn, indep_sp, _ = sensitivity_specificity_support(indep_y, indep_y_predicted_label)\n",
    "    indep_precision, indep_recall, _, _ = precision_recall_fscore_support(indep_y, indep_y_predicted_label, average = 'binary')\n",
    "    indep_aupr = average_precision_score(indep_y, indep_y_predicted_proba[:, 1])\n",
    "    indep_confusion_matirx = confusion_matrix(indep_y, indep_y_predicted_label)\n",
    "    indep_precision_vec, indep_recall_vec, _ = precision_recall_curve(indep_y, indep_y_predicted_proba[:, 1])\n",
    "    \n",
    "    f.write(\"Accuracy : {}\\r\\n\".format(indep_accuracy))\n",
    "    f.write(\"AUC : {}\\r\\n\".format(indep_auc))\n",
    "    f.write(\"  Sensitivity avg : {}\\r\\n\".format(indep_sn))\n",
    "    f.write(\"  Specificity avg : {}\\r\\n\".format(indep_sp))\n",
    "    f.write(\"AUPR : {}\\r\\n\".format(indep_aupr))\n",
    "    f.write(\"  Precision avg : {}\\r\\n\".format(indep_precision))\n",
    "    f.write(\"  Recall avg : {}\\r\\n\".format(indep_recall))\n",
    "    f.write(\"confusion amtrix : {}\\r\\n\".format(indep_confusion_matirx))\n",
    "\n",
    "    %matplotlib inline\n",
    "    plt.clf()\n",
    "    ff, axes = plt.subplots(1, 2, figsize=(15, 5))\n",
    "    \n",
    "    # setup plot details\n",
    "    i=0\n",
    "    lw = 2\n",
    "    colors = cycle(['cyan', 'indigo', 'seagreen', 'yellow', 'blue', 'darkorange', 'red', 'violet', 'fuchsia', 'sienna'])\n",
    "    \n",
    "    # plot AUC\n",
    "    lab1 = 'Fold %d AUC=%.4f' % (i+1, indep_auc)\n",
    "    axes[0].plot(indep_fpr, indep_tpr, lw=lw, color='cyan', label=lab1)\n",
    "    \n",
    "    \n",
    "    # plot AUPR\n",
    "    lab2 = 'Fold %d AUPR=%.4f' % (i+1, indep_aupr)\n",
    "    axes[1].plot(indep_recall_vec, indep_precision_vec, lw=lw, color='cyan', label=lab2)\n",
    "    \n",
    "    \n",
    "    axes[0].set_xlabel('FPR')\n",
    "    axes[0].set_ylabel('TPR')\n",
    "    axes[0].set_ylim([0.0, 1.05])\n",
    "    axes[0].set_xlim([0.0, 1.0])\n",
    "    axes[0].set_title('Average AUC={0:0.2f}'.format(indep_auc))\n",
    "    axes[0].legend(bbox_to_anchor=(1.05, 1), loc=2, borderaxespad=0)\n",
    "    axes[1].set_xlabel('Recall')\n",
    "    axes[1].set_ylabel('Precision')\n",
    "    axes[1].set_ylim([0.0, 1.05])\n",
    "    axes[1].set_xlim([0.0, 1.0])\n",
    "    axes[1].set_title('Average AUPR={0:0.2f}'.format(indep_aupr))\n",
    "    axes[1].legend(bbox_to_anchor=(1.05, 1), loc=2, borderaxespad=0)\n",
    "    ff.subplots_adjust(wspace=0.8)\n",
    "\n",
    "print time.strftime('%a %H:%M:%S')"
   ]
  },
  {
   "cell_type": "code",
   "execution_count": null,
   "metadata": {
    "collapsed": true
   },
   "outputs": [],
   "source": []
  },
  {
   "cell_type": "code",
   "execution_count": null,
   "metadata": {
    "collapsed": true
   },
   "outputs": [],
   "source": []
  },
  {
   "cell_type": "code",
   "execution_count": null,
   "metadata": {
    "collapsed": true
   },
   "outputs": [],
   "source": []
  },
  {
   "cell_type": "code",
   "execution_count": null,
   "metadata": {
    "collapsed": true
   },
   "outputs": [],
   "source": []
  },
  {
   "cell_type": "code",
   "execution_count": null,
   "metadata": {
    "collapsed": true
   },
   "outputs": [],
   "source": []
  },
  {
   "cell_type": "code",
   "execution_count": 87,
   "metadata": {
    "collapsed": false
   },
   "outputs": [
    {
     "name": "stdout",
     "output_type": "stream",
     "text": [
      "Thu 00:05:36\n"
     ]
    },
    {
     "data": {
      "image/png": "[encoded data removed]",
      "text/plain": [
       "<matplotlib.figure.Figure at 0x7f51f40b7290>"
      ]
     },
     "metadata": {},
     "output_type": "display_data"
    },
    {
     "name": "stdout",
     "output_type": "stream",
     "text": [
      "Original dataset shape Counter({0: 2462, 1: 93})\n",
      "\n",
      "Resampled dataset shape Counter({0: 93, 1: 93})\n",
      "Thu 00:15:17\n"
     ]
    }
   ],
   "source": [
    "# 기존 dataset, independent, 2017.2.14. 작성 # 2017.2.22. 수정.\n",
    "print time.strftime('%a %H:%M:%S')\n",
    "with open(\"/home/share/aschoi/nas/users/asolchoi/data/Drug_Repositioning/8_new_training/RF_original_label.txt\", 'w') as f :\n",
    "    user_estimators = 800\n",
    "    f.write(\"<independent>\\r\\n\")\n",
    "    indep_results = Random_Forest_independent(x_whole_data, y_whole_data, indep_x, indep_y, user_estimators)\n",
    "    write_output(f, indep_results)\n",
    "    write_proba_output(\"RF_original_proba.txt\", indep_results)\n",
    "    draw_AUC_curve(indep_results[4])\n",
    "    \n",
    "    f.write(\"<independent 1:1>\\r\\n\")\n",
    "    indep_results_10 = Random_Forest_independent_10_fold(x_whole_data, y_whole_data, indep_x, indep_y, user_estimators, rus)\n",
    "    write_output(f, indep_results_10)\n",
    "    \n",
    "print time.strftime('%a %H:%M:%S')"
   ]
  },
  {
   "cell_type": "code",
   "execution_count": 88,
   "metadata": {
    "collapsed": false
   },
   "outputs": [],
   "source": [
    "y_true = indep_results_10[4][0][0]\n",
    "y_pre = indep_results_10[4][0][1]"
   ]
  },
  {
   "cell_type": "code",
   "execution_count": 89,
   "metadata": {
    "collapsed": false
   },
   "outputs": [
    {
     "name": "stdout",
     "output_type": "stream",
     "text": [
      "(186,)\n",
      "(186, 2)\n"
     ]
    }
   ],
   "source": [
    "print y_true.shape\n",
    "print y_pre.shape"
   ]
  },
  {
   "cell_type": "code",
   "execution_count": 93,
   "metadata": {
    "collapsed": false
   },
   "outputs": [
    {
     "data": {
      "text/plain": [
       "0.91242513414827209"
      ]
     },
     "execution_count": 93,
     "metadata": {},
     "output_type": "execute_result"
    }
   ],
   "source": [
    "average_precision"
   ]
  },
  {
   "cell_type": "code",
   "execution_count": null,
   "metadata": {
    "collapsed": true
   },
   "outputs": [],
   "source": [
    "aver"
   ]
  },
  {
   "cell_type": "code",
   "execution_count": 91,
   "metadata": {
    "collapsed": false
   },
   "outputs": [
    {
     "data": {
      "image/png": "[encoded data removed]",
      "text/plain": [
       "<matplotlib.figure.Figure at 0x7f523c043e50>"
      ]
     },
     "metadata": {},
     "output_type": "display_data"
    }
   ],
   "source": [
    "precision, recall, _ = precision_recall_curve(y_true, y_pre[:, 1])\n",
    "average_precision = average_precision_score(y_true, y_pre[:, 1])\n",
    "\n",
    "# setup plot details\n",
    "%matplotlib inline\n",
    "\n",
    "lw = 2\n",
    "plt.clf()\n",
    "plt.plot(recall, precision, lw=lw, color='navy', label='Precision-Recall Curve')\n",
    "plt.xlabel('Recall')\n",
    "plt.ylabel('Precision')\n",
    "plt.ylim([0.0, 1.05])\n",
    "plt.xlim([0.0, 1.0])\n",
    "plt.title('Precision-Recall example: AUC={0:0.2f}'.format(average_precision))\n",
    "plt.legend(loc=\"lower left\")\n",
    "plt.show()    "
   ]
  },
  {
   "cell_type": "code",
   "execution_count": 14,
   "metadata": {
    "collapsed": false
   },
   "outputs": [
    {
     "name": "stdout",
     "output_type": "stream",
     "text": [
      "Wed 12:04:29\n",
      "Wed 12:09:11\n"
     ]
    }
   ],
   "source": [
    "# undersampling dataset(1%), independent, 2017.2.14. 작성\n",
    "print time.strftime('%a %H:%M:%S')\n",
    "with open(\"/home/share/aschoi/nas/users/asolchoi/data/Drug_Repositioning/8_new_training/RF_2_2_feature_based(1%)_indep.txt\", 'w') as f :\n",
    "    user_estimators = 800\n",
    "    f.write(\"<independent>\\r\\n\")\n",
    "    indep_results = Random_Forest_independent(x_whole_data_1, y_whole_data_1, indep_x, indep_y, user_estimators)\n",
    "    write_output(f, indep_results)\n",
    "    f.write(\"<independent 1:1>\\r\\n\")\n",
    "    indep_results_10 = Random_Forest_independent_10_fold(x_whole_data_1, y_whole_data_1, indep_x, indep_y, user_estimators, rus)\n",
    "    write_output(f, indep_results_10)\n",
    "print time.strftime('%a %H:%M:%S')"
   ]
  },
  {
   "cell_type": "code",
   "execution_count": 13,
   "metadata": {
    "collapsed": false
   },
   "outputs": [
    {
     "name": "stdout",
     "output_type": "stream",
     "text": [
      "Wed 11:56:36\n",
      "Wed 12:04:29\n"
     ]
    }
   ],
   "source": [
    "# undersampling dataset(0.5%), independent, 2017.2.14. 작성\n",
    "print time.strftime('%a %H:%M:%S')\n",
    "with open(\"/home/share/aschoi/nas/users/asolchoi/data/Drug_Repositioning/8_new_training/RF_2_3_feature_based(0.5%)_indep.txt\", 'w') as f :\n",
    "    user_estimators = 1200\n",
    "    f.write(\"<independent>\\r\\n\")\n",
    "    indep_results = Random_Forest_independent(x_whole_data_0_5, y_whole_data_0_5, indep_x, indep_y, user_estimators)\n",
    "    write_output(f, indep_results)\n",
    "    f.write(\"<independent 1:1>\\r\\n\")\n",
    "    indep_results_10 = Random_Forest_independent_10_fold(x_whole_data_0_5, y_whole_data_0_5, indep_x, indep_y, user_estimators, rus)\n",
    "    write_output(f, indep_results_10)\n",
    "print time.strftime('%a %H:%M:%S')"
   ]
  },
  {
   "cell_type": "code",
   "execution_count": 12,
   "metadata": {
    "collapsed": false
   },
   "outputs": [
    {
     "name": "stdout",
     "output_type": "stream",
     "text": [
      "Wed 11:46:49\n",
      "Wed 11:56:36\n"
     ]
    }
   ],
   "source": [
    "# undersampling dataset(0.1%), independent, 2017.2.14. 작성\n",
    "print time.strftime('%a %H:%M:%S')\n",
    "with open(\"/home/share/aschoi/nas/users/asolchoi/data/Drug_Repositioning/8_new_training/RF_2_4_feature_based(0.1%)_indep.txt\", 'w') as f :\n",
    "    user_estimators = 1200\n",
    "    f.write(\"<independent>\\r\\n\")\n",
    "    indep_results = Random_Forest_independent(x_whole_data_0_1, y_whole_data_0_1, indep_x, indep_y, user_estimators)\n",
    "    write_output(f, indep_results)\n",
    "    f.write(\"<independent 1:1>\\r\\n\")\n",
    "    indep_results_10 = Random_Forest_independent_10_fold(x_whole_data_0_1, y_whole_data_0_1, indep_x, indep_y, user_estimators, rus)\n",
    "    write_output(f, indep_results_10)\n",
    "print time.strftime('%a %H:%M:%S')"
   ]
  },
  {
   "cell_type": "code",
   "execution_count": 18,
   "metadata": {
    "collapsed": false
   },
   "outputs": [
    {
     "name": "stdout",
     "output_type": "stream",
     "text": [
      "Wed 15:25:33\n",
      "Random : Wed 15:25:33\n",
      "Original dataset shape Counter({0: 2462, 1: 93})\n",
      "\n",
      "Resampled dataset shape Counter({0: 93, 1: 93})\n",
      "NearMiss : Wed 15:37:22\n",
      "Original dataset shape Counter({0: 2462, 1: 93})\n",
      "\n",
      "Resampled dataset shape Counter({0: 93, 1: 93})\n",
      "OneSidedSelection : Wed 15:49:35\n",
      "Original dataset shape Counter({0: 2462, 1: 93})\n",
      "\n",
      "Resampled dataset shape Counter({0: 2440, 1: 93})\n",
      "Wed 16:06:33\n"
     ]
    }
   ],
   "source": [
    "# 기존 dataset, Random undersampling, 2017.2.14. 작성\n",
    "print time.strftime('%a %H:%M:%S')\n",
    "with open(\"/home/share/aschoi/nas/users/asolchoi/data/Drug_Repositioning/8_new_training/RF_2_5_Random_undersampling.txt\", 'w') as f :\n",
    "    user_estimators = 1200\n",
    "    print 'Random : ' + time.strftime('%a %H:%M:%S')\n",
    "    f.write(\"<Random undersampling independent 1:1>\\r\\n\")\n",
    "    indep_results_10 = Random_Forest_independent_10_fold(x_whole_data, y_whole_data, indep_x, indep_y, user_estimators, rus)\n",
    "    write_output(f, indep_results_10)\n",
    "    \n",
    "    print 'NearMiss : ' + time.strftime('%a %H:%M:%S')\n",
    "    f.write(\"<NearMiss undersampling independent 1:1>\\r\\n\")\n",
    "    indep_results_10 = Random_Forest_independent_10_fold(x_whole_data, y_whole_data, indep_x, indep_y, user_estimators, nm)\n",
    "    write_output(f, indep_results_10)\n",
    "    \n",
    "    print 'OneSidedSelection : ' + time.strftime('%a %H:%M:%S')\n",
    "    f.write(\"<OneSidedSelection undersampling independent 1:1>\\r\\n\")\n",
    "    indep_results_10 = Random_Forest_independent_10_fold(x_whole_data, y_whole_data, indep_x, indep_y, user_estimators, oss)\n",
    "    write_output(f, indep_results_10)\n",
    "    \n",
    "print time.strftime('%a %H:%M:%S')\n"
   ]
  },
  {
   "cell_type": "code",
   "execution_count": null,
   "metadata": {
    "collapsed": true
   },
   "outputs": [],
   "source": []
  }
 ],
 "metadata": {
  "kernelspec": {
   "display_name": "Python 2",
   "language": "python",
   "name": "python2"
  },
  "language_info": {
   "codemirror_mode": {
    "name": "ipython",
    "version": 2
   },
   "file_extension": ".py",
   "mimetype": "text/x-python",
   "name": "python",
   "nbconvert_exporter": "python",
   "pygments_lexer": "ipython2",
   "version": "2.7.6"
  }
 },
 "nbformat": 4,
 "nbformat_minor": 0
}
