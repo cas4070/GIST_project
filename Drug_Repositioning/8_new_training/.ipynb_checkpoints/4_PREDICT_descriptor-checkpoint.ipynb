{
 "cells": [
  {
   "cell_type": "code",
   "execution_count": 1,
   "metadata": {
    "collapsed": true
   },
   "outputs": [],
   "source": [
    "import numpy as np\n",
    "import os\n",
    "import pandas as pd\n",
    "import time\n",
    "from itertools import product\n",
    "import math"
   ]
  },
  {
   "cell_type": "code",
   "execution_count": 2,
   "metadata": {
    "collapsed": false
   },
   "outputs": [],
   "source": [
    "#### disease similarities 합치는 과정\n",
    "#disease_ph = pd.read_table(\"/DAS_Storage1/aschoi/data/Drug_Repositioning/6_new_disease/9_gold_disease_similarity_mimminerc.tsv\", index_col=0)\n",
    "#disease_ge = pd.read_table(\"/DAS_Storage1/aschoi/data/Drug_Repositioning/6_new_disease/9_gold_disease_similarity_genetic.tsv\")\n",
    "#disease_ph2 = pd.DataFrame()\n",
    "#for i in disease_ph.columns.values:\n",
    "#    for j in disease_ph.index.values:\n",
    "#        temp_df = pd.DataFrame(data = [[int(i), int(j), disease_ph[[i]].loc[j].values[0]]], columns = ['Disease_ID1', 'Disease_ID2', 'Similarity_Score'] )\n",
    "#        disease_ph2 = disease_ph2.append(temp_df)\n",
    "#df_disease_sim = pd.merge(left = disease_ph2, right= disease_ge, left_on = ['Disease_ID1', 'Disease_ID2'], right_on = ['Disease_ID1', 'Disease_ID2'])\n",
    "#df_disease_sim.to_csv(\"/home/share/aschoi/nas/users/asolchoi/data/Drug_Repositioning/6_new_disease/9_gold_disease_similarity_whole.tsv\", sep='\\t', index=False)\n",
    "#df_disease_sim.to_csv(\"/DAS_Storage1/aschoi/data/Drug_Repositioning/6_new_disease/9_gold_disease_similarity_whole.tsv\", sep='\\t', index=False)\n",
    "#df_disease_sim = df_disease_sim.rename(columns = {'Similarity_Score_x':'PheSim', 'Similarity_Score_y':'GeSim'})\n",
    "df_disease_sim = pd.read_table(\"/DAS_Storage1/aschoi/data/Drug_Repositioning/6_new_disease/9_gold_disease_similarity_whole.tsv\")"
   ]
  },
  {
   "cell_type": "code",
   "execution_count": 3,
   "metadata": {
    "collapsed": true
   },
   "outputs": [],
   "source": [
    "#### drug similarities 합치는 과정\n",
    "#drug_ch = pd.read_table(\"/DAS_Storage1/aschoi/data/Drug_Repositioning/5_new_drug/9_gold_drug_similarity_structure.tsv\")\n",
    "#drug_ph = pd.read_table(\"/DAS_Storage1/aschoi/data/Drug_Repositioning/5_new_drug/9_gold_drug_similarity_phenotype.tsv\")\n",
    "#df_drug_sim = pd.merge(left = drug_ch, right= drug_ph, left_on = ['DrugBank_ID1', 'DrugBank_ID2'], right_on = ['DrugBank_ID1', 'DrugBank_ID2'])\n",
    "#df_drug_sim = df_drug_sim.rename(columns = {'Similarity_Score_x' : 'CheSim', 'Similarity_Score_y':'PheSim'})\n",
    "#df_drug_sim.to_csv(\"/home/share/aschoi/nas/users/asolchoi/data/Drug_Repositioning/5_new_drug/9_gold_drug_similarity_whole.tsv\", index=False, sep='\\t')\n",
    "#df_drug_sim.to_csv(\"/DAS_Storage1/aschoi/data/Drug_Repositioning/5_new_drug/9_gold_drug_similarity_whole.tsv\", index=False, sep='\\t')\n",
    "df_drug_sim = pd.read_table(\"/DAS_Storage1/aschoi/data/Drug_Repositioning/5_new_drug/9_gold_drug_similarity_whole.tsv\")"
   ]
  },
  {
   "cell_type": "code",
   "execution_count": 4,
   "metadata": {
    "collapsed": true
   },
   "outputs": [],
   "source": [
    "#### PREDICT용 새로운 association\n",
    "#asso = pd.read_table(\"/DAS_Storage1/aschoi/data/Drug_Repositioning/7_new_association/9_gold_learning_association.tsv\")\n",
    "#new_asso = asso[asso['drug'].isin(df_drug_sim['DrugBank_ID1'].drop_duplicates())]\n",
    "#new_asso.index = range(len(new_asso))\n",
    "#new_asso.to_csv(\"/home/share/aschoi/nas/users/asolchoi/data/Drug_Repositioning/7_new_association/10_PREDICT_association.tsv\", sep='\\t', index=False)\n",
    "#new_asso.to_csv(\"/DAS_Storage1/aschoi/data/Drug_Repositioning/7_new_association/10_PREDICT_association.tsv\", sep='\\t', index=False)\n",
    "new_asso = pd.read_table(\"/DAS_Storage1/aschoi/data/Drug_Repositioning/7_new_association/10_PREDICT_association.tsv\")"
   ]
  },
  {
   "cell_type": "code",
   "execution_count": 5,
   "metadata": {
    "collapsed": false
   },
   "outputs": [
    {
     "name": "stdout",
     "output_type": "stream",
     "text": [
      "207936\n"
     ]
    },
    {
     "data": {
      "text/html": [
       "<div>\n",
       "<table border=\"1\" class=\"dataframe\">\n",
       "  <thead>\n",
       "    <tr style=\"text-align: right;\">\n",
       "      <th></th>\n",
       "      <th>DrugBank_ID1</th>\n",
       "      <th>DrugBank_ID2</th>\n",
       "      <th>CheSim</th>\n",
       "      <th>PheSim</th>\n",
       "    </tr>\n",
       "  </thead>\n",
       "  <tbody>\n",
       "    <tr>\n",
       "      <th>0</th>\n",
       "      <td>DB00215</td>\n",
       "      <td>DB00215</td>\n",
       "      <td>1.0</td>\n",
       "      <td>1.0</td>\n",
       "    </tr>\n",
       "  </tbody>\n",
       "</table>\n",
       "</div>"
      ],
      "text/plain": [
       "  DrugBank_ID1 DrugBank_ID2  CheSim  PheSim\n",
       "0      DB00215      DB00215     1.0     1.0"
      ]
     },
     "execution_count": 5,
     "metadata": {},
     "output_type": "execute_result"
    }
   ],
   "source": [
    "print len(df_drug_sim)\n",
    "df_drug_sim.head(1)"
   ]
  },
  {
   "cell_type": "code",
   "execution_count": 6,
   "metadata": {
    "collapsed": false,
    "scrolled": true
   },
   "outputs": [
    {
     "name": "stdout",
     "output_type": "stream",
     "text": [
      "55225\n"
     ]
    },
    {
     "data": {
      "text/html": [
       "<div>\n",
       "<table border=\"1\" class=\"dataframe\">\n",
       "  <thead>\n",
       "    <tr style=\"text-align: right;\">\n",
       "      <th></th>\n",
       "      <th>Disease_ID1</th>\n",
       "      <th>Disease_ID2</th>\n",
       "      <th>PheSim</th>\n",
       "      <th>GeSim</th>\n",
       "    </tr>\n",
       "  </thead>\n",
       "  <tbody>\n",
       "    <tr>\n",
       "      <th>0</th>\n",
       "      <td>102300</td>\n",
       "      <td>102300</td>\n",
       "      <td>1.0</td>\n",
       "      <td>1.0</td>\n",
       "    </tr>\n",
       "  </tbody>\n",
       "</table>\n",
       "</div>"
      ],
      "text/plain": [
       "   Disease_ID1  Disease_ID2  PheSim  GeSim\n",
       "0       102300       102300     1.0    1.0"
      ]
     },
     "execution_count": 6,
     "metadata": {},
     "output_type": "execute_result"
    }
   ],
   "source": [
    "print len(df_disease_sim)\n",
    "df_disease_sim.head(1)"
   ]
  },
  {
   "cell_type": "code",
   "execution_count": 7,
   "metadata": {
    "collapsed": false
   },
   "outputs": [
    {
     "name": "stdout",
     "output_type": "stream",
     "text": [
      "107160\n"
     ]
    },
    {
     "data": {
      "text/html": [
       "<div>\n",
       "<table border=\"1\" class=\"dataframe\">\n",
       "  <thead>\n",
       "    <tr style=\"text-align: right;\">\n",
       "      <th></th>\n",
       "      <th>drug</th>\n",
       "      <th>disease</th>\n",
       "      <th>association</th>\n",
       "    </tr>\n",
       "  </thead>\n",
       "  <tbody>\n",
       "    <tr>\n",
       "      <th>0</th>\n",
       "      <td>DB00190</td>\n",
       "      <td>102300</td>\n",
       "      <td>1</td>\n",
       "    </tr>\n",
       "  </tbody>\n",
       "</table>\n",
       "</div>"
      ],
      "text/plain": [
       "      drug  disease  association\n",
       "0  DB00190   102300            1"
      ]
     },
     "execution_count": 7,
     "metadata": {},
     "output_type": "execute_result"
    }
   ],
   "source": [
    "print len(new_asso)\n",
    "new_asso.head(1)"
   ]
  },
  {
   "cell_type": "code",
   "execution_count": 8,
   "metadata": {
    "collapsed": false
   },
   "outputs": [
    {
     "name": "stdout",
     "output_type": "stream",
     "text": [
      "1397\n",
      "105763\n"
     ]
    }
   ],
   "source": [
    "pos = new_asso[new_asso.association == 1]\n",
    "neg = new_asso[new_asso.association == 0]\n",
    "print len(pos)\n",
    "print len(neg)"
   ]
  },
  {
   "cell_type": "code",
   "execution_count": 93,
   "metadata": {
    "collapsed": false
   },
   "outputs": [],
   "source": [
    "pos.to_csv(\"/DAS_Storage1/aschoi/data/Drug_Repositioning/8_new_training/5_PREDICT_descriptor/test_pos.tsv\", sep='\\t', index=False)\n",
    "neg.to_csv(\"/home/share/aschoi/nas/users/asolchoi/data/Drug_Repositioning/8_new_training/test_neg.tsv\", sep='\\t', index=False)"
   ]
  },
  {
   "cell_type": "code",
   "execution_count": 9,
   "metadata": {
    "collapsed": false
   },
   "outputs": [],
   "source": [
    "new_asso_li = list()\n",
    "for index, row in new_asso.iterrows():\n",
    "    query_drug = row['drug']\n",
    "    query_disease = row['disease']\n",
    "    query_asso = row['association']\n",
    "    new_asso_li.append((query_drug, query_disease, query_asso))"
   ]
  },
  {
   "cell_type": "code",
   "execution_count": 10,
   "metadata": {
    "collapsed": false
   },
   "outputs": [],
   "source": [
    "new_pos_li = list()\n",
    "for index2, row2 in pos.iterrows():\n",
    "    pos_drug = row2['drug']\n",
    "    pos_disease = row2['disease']\n",
    "    new_pos_li.append((pos_drug, pos_disease)) "
   ]
  },
  {
   "cell_type": "code",
   "execution_count": 11,
   "metadata": {
    "collapsed": false
   },
   "outputs": [
    {
     "name": "stdout",
     "output_type": "stream",
     "text": [
      "start : Mon 22:45:42\n",
      "end : Mon 22:45:55\n"
     ]
    }
   ],
   "source": [
    "print 'start : ' + time.strftime('%a %H:%M:%S')\n",
    "desc_pair = list(product(new_asso_li, new_pos_li))\n",
    "print 'end : ' + time.strftime('%a %H:%M:%S')"
   ]
  },
  {
   "cell_type": "code",
   "execution_count": 33,
   "metadata": {
    "collapsed": false
   },
   "outputs": [
    {
     "name": "stdout",
     "output_type": "stream",
     "text": [
      "149702520\n"
     ]
    },
    {
     "data": {
      "text/plain": [
       "[(('DB00190', 102300, 1), ('DB00868', 608088)),\n",
       " (('DB00190', 102300, 1), ('DB00775', 608320)),\n",
       " (('DB00190', 102400, 0), ('DB00190', 102300)),\n",
       " (('DB00190', 102400, 0), ('DB00190', 125320))]"
      ]
     },
     "execution_count": 33,
     "metadata": {},
     "output_type": "execute_result"
    }
   ],
   "source": [
    "print len(desc_pair)\n",
    "desc_pair[1395:1399]"
   ]
  },
  {
   "cell_type": "code",
   "execution_count": 43,
   "metadata": {
    "collapsed": false
   },
   "outputs": [
    {
     "name": "stdout",
     "output_type": "stream",
     "text": [
      "start : Mon 23:10:07\n",
      "1000 : Mon 23:10:24\n",
      "2000 : Mon 23:10:43\n",
      "3000 : Mon 23:11:01\n",
      "4000 : Mon 23:11:20\n",
      "5000 : Mon 23:11:38\n",
      "6000 : Mon 23:11:56\n",
      "7000 : Mon 23:12:14\n",
      "8000 : Mon 23:12:32\n",
      "9000 : Mon 23:12:49\n",
      "10000 : Mon 23:13:07\n",
      "11000 : Mon 23:13:26\n",
      "12000 : Mon 23:13:43\n",
      "13000 : Mon 23:14:01\n",
      "14000 : Mon 23:14:19\n",
      "15000 : Mon 23:14:38\n",
      "16000 : Mon 23:14:56\n",
      "17000 : Mon 23:15:14\n",
      "18000 : Mon 23:15:31\n",
      "19000 : Mon 23:15:48\n",
      "20000 : Mon 23:16:06\n",
      "21000 : Mon 23:16:24\n",
      "22000 : Mon 23:16:42\n",
      "23000 : Mon 23:16:59\n",
      "24000 : Mon 23:17:15\n",
      "25000 : Mon 23:17:30\n",
      "26000 : Mon 23:17:45\n",
      "27000 : Mon 23:17:59\n",
      "28000 : Mon 23:18:14\n",
      "29000 : Mon 23:18:28\n",
      "30000 : Mon 23:18:43\n",
      "31000 : Mon 23:18:58\n",
      "32000 : Mon 23:19:12\n",
      "33000 : Mon 23:19:27\n",
      "34000 : Mon 23:19:42\n",
      "35000 : Mon 23:19:56\n",
      "36000 : Mon 23:20:11\n",
      "37000 : Mon 23:20:26\n",
      "38000 : Mon 23:20:40\n",
      "39000 : Mon 23:20:55\n",
      "40000 : Mon 23:21:10\n",
      "41000 : Mon 23:21:25\n",
      "42000 : Mon 23:21:39\n",
      "43000 : Mon 23:21:54\n",
      "44000 : Mon 23:22:09\n",
      "45000 : Mon 23:22:24\n",
      "46000 : Mon 23:22:39\n",
      "47000 : Mon 23:22:54\n",
      "48000 : Mon 23:23:09\n",
      "49000 : Mon 23:23:24\n",
      "50000 : Mon 23:23:38\n",
      "51000 : Mon 23:23:53\n",
      "52000 : Mon 23:24:08\n",
      "53000 : Mon 23:24:24\n",
      "54000 : Mon 23:24:39\n",
      "55000 : Mon 23:24:54\n",
      "56000 : Mon 23:25:09\n",
      "57000 : Mon 23:25:24\n",
      "58000 : Mon 23:25:39\n",
      "59000 : Mon 23:25:55\n",
      "60000 : Mon 23:26:10\n",
      "61000 : Mon 23:26:25\n",
      "62000 : Mon 23:26:40\n",
      "63000 : Mon 23:26:56\n",
      "64000 : Mon 23:27:11\n",
      "65000 : Mon 23:27:26\n",
      "66000 : Mon 23:27:41\n",
      "67000 : Mon 23:27:57\n",
      "68000 : Mon 23:28:12\n",
      "69000 : Mon 23:28:27\n",
      "70000 : Mon 23:28:43\n",
      "71000 : Mon 23:28:58\n",
      "72000 : Mon 23:29:14\n",
      "73000 : Mon 23:29:29\n",
      "74000 : Mon 23:29:44\n",
      "75000 : Mon 23:30:00\n",
      "76000 : Mon 23:30:15\n",
      "77000 : Mon 23:30:31\n",
      "78000 : Mon 23:30:46\n",
      "79000 : Mon 23:31:02\n",
      "80000 : Mon 23:31:17\n",
      "81000 : Mon 23:31:33\n",
      "82000 : Mon 23:31:48\n",
      "83000 : Mon 23:32:04\n",
      "84000 : Mon 23:32:19\n",
      "85000 : Mon 23:32:35\n",
      "86000 : Mon 23:32:50\n",
      "87000 : Mon 23:33:06\n",
      "88000 : Mon 23:33:22\n",
      "89000 : Mon 23:33:37\n",
      "90000 : Mon 23:33:53\n",
      "91000 : Mon 23:34:09\n",
      "92000 : Mon 23:34:24\n",
      "93000 : Mon 23:34:40\n",
      "94000 : Mon 23:34:56\n",
      "95000 : Mon 23:35:13\n",
      "96000 : Mon 23:35:30\n",
      "97000 : Mon 23:35:48\n",
      "98000 : Mon 23:36:07\n",
      "99000 : Mon 23:36:26\n",
      "100000 : Mon 23:36:45\n",
      "101000 : Mon 23:37:05\n",
      "102000 : Mon 23:37:24\n",
      "103000 : Mon 23:37:43\n",
      "104000 : Mon 23:38:02\n",
      "105000 : Mon 23:38:22\n",
      "106000 : Mon 23:38:42\n",
      "107000 : Mon 23:39:02\n",
      "108000 : Mon 23:39:21\n",
      "109000 : Mon 23:39:41\n",
      "110000 : Mon 23:40:01\n",
      "111000 : Mon 23:40:20\n",
      "112000 : Mon 23:40:40\n",
      "113000 : Mon 23:40:59\n",
      "114000 : Mon 23:41:18\n",
      "115000 : Mon 23:41:38\n",
      "116000 : Mon 23:41:58\n",
      "117000 : Mon 23:42:18\n",
      "118000 : Mon 23:42:38\n",
      "119000 : Mon 23:42:59\n",
      "120000 : Mon 23:43:26\n",
      "121000 : Mon 23:43:47\n",
      "122000 : Mon 23:44:07\n",
      "123000 : Mon 23:44:28\n",
      "124000 : Mon 23:44:59\n",
      "125000 : Mon 23:45:36\n",
      "126000 : Mon 23:46:07\n",
      "127000 : Mon 23:46:40\n",
      "128000 : Mon 23:47:42\n",
      "129000 : Mon 23:51:28\n"
     ]
    },
    {
     "ename": "KeyboardInterrupt",
     "evalue": "",
     "output_type": "error",
     "traceback": [
      "\u001b[1;31m---------------------------------------------------------------------------\u001b[0m",
      "\u001b[1;31mKeyboardInterrupt\u001b[0m                         Traceback (most recent call last)",
      "\u001b[1;32m<ipython-input-43-488777a28071>\u001b[0m in \u001b[0;36m<module>\u001b[1;34m()\u001b[0m\n\u001b[0;32m     25\u001b[0m         temp_df = pd.DataFrame(data = [[query_drug, query_disease, query_asso, sim[0], sim[1], sim[2], sim[3]]],\n\u001b[0;32m     26\u001b[0m                            columns=['drug', 'disease', 'association', 'DrChe_DiGe', 'DrChe_DiPhe', 'DrPhe_DiGe', 'DrPhe_DiPhe'])\n\u001b[1;32m---> 27\u001b[1;33m         \u001b[0mdescriptor\u001b[0m \u001b[1;33m=\u001b[0m \u001b[0mdescriptor\u001b[0m\u001b[1;33m.\u001b[0m\u001b[0mappend\u001b[0m\u001b[1;33m(\u001b[0m\u001b[0mtemp_df\u001b[0m\u001b[1;33m)\u001b[0m\u001b[1;33m\u001b[0m\u001b[0m\n\u001b[0m\u001b[0;32m     28\u001b[0m         \u001b[0mcnt\u001b[0m \u001b[1;33m=\u001b[0m \u001b[0mcnt\u001b[0m \u001b[1;33m+\u001b[0m\u001b[1;36m1\u001b[0m\u001b[1;33m\u001b[0m\u001b[0m\n\u001b[0;32m     29\u001b[0m         \u001b[1;32mif\u001b[0m \u001b[0mcnt\u001b[0m \u001b[1;33m%\u001b[0m \u001b[1;36m1000\u001b[0m \u001b[1;33m==\u001b[0m \u001b[1;36m0\u001b[0m\u001b[1;33m:\u001b[0m\u001b[1;33m\u001b[0m\u001b[0m\n",
      "\u001b[1;32m/usr/local/lib/python2.7/dist-packages/pandas/core/frame.pyc\u001b[0m in \u001b[0;36mappend\u001b[1;34m(self, other, ignore_index, verify_integrity)\u001b[0m\n\u001b[0;32m   4336\u001b[0m             \u001b[0mto_concat\u001b[0m \u001b[1;33m=\u001b[0m \u001b[1;33m[\u001b[0m\u001b[0mself\u001b[0m\u001b[1;33m,\u001b[0m \u001b[0mother\u001b[0m\u001b[1;33m]\u001b[0m\u001b[1;33m\u001b[0m\u001b[0m\n\u001b[0;32m   4337\u001b[0m         return concat(to_concat, ignore_index=ignore_index,\n\u001b[1;32m-> 4338\u001b[1;33m                       verify_integrity=verify_integrity)\n\u001b[0m\u001b[0;32m   4339\u001b[0m \u001b[1;33m\u001b[0m\u001b[0m\n\u001b[0;32m   4340\u001b[0m     def join(self, other, on=None, how='left', lsuffix='', rsuffix='',\n",
      "\u001b[1;32m/usr/local/lib/python2.7/dist-packages/pandas/tools/merge.pyc\u001b[0m in \u001b[0;36mconcat\u001b[1;34m(objs, axis, join, join_axes, ignore_index, keys, levels, names, verify_integrity, copy)\u001b[0m\n\u001b[0;32m    844\u001b[0m                        \u001b[0mverify_integrity\u001b[0m\u001b[1;33m=\u001b[0m\u001b[0mverify_integrity\u001b[0m\u001b[1;33m,\u001b[0m\u001b[1;33m\u001b[0m\u001b[0m\n\u001b[0;32m    845\u001b[0m                        copy=copy)\n\u001b[1;32m--> 846\u001b[1;33m     \u001b[1;32mreturn\u001b[0m \u001b[0mop\u001b[0m\u001b[1;33m.\u001b[0m\u001b[0mget_result\u001b[0m\u001b[1;33m(\u001b[0m\u001b[1;33m)\u001b[0m\u001b[1;33m\u001b[0m\u001b[0m\n\u001b[0m\u001b[0;32m    847\u001b[0m \u001b[1;33m\u001b[0m\u001b[0m\n\u001b[0;32m    848\u001b[0m \u001b[1;33m\u001b[0m\u001b[0m\n",
      "\u001b[1;32m/usr/local/lib/python2.7/dist-packages/pandas/tools/merge.pyc\u001b[0m in \u001b[0;36mget_result\u001b[1;34m(self)\u001b[0m\n\u001b[0;32m   1036\u001b[0m                                                   \u001b[0mself\u001b[0m\u001b[1;33m.\u001b[0m\u001b[0mnew_axes\u001b[0m\u001b[1;33m,\u001b[0m\u001b[1;33m\u001b[0m\u001b[0m\n\u001b[0;32m   1037\u001b[0m                                                   \u001b[0mconcat_axis\u001b[0m\u001b[1;33m=\u001b[0m\u001b[0mself\u001b[0m\u001b[1;33m.\u001b[0m\u001b[0maxis\u001b[0m\u001b[1;33m,\u001b[0m\u001b[1;33m\u001b[0m\u001b[0m\n\u001b[1;32m-> 1038\u001b[1;33m                                                   copy=self.copy)\n\u001b[0m\u001b[0;32m   1039\u001b[0m             \u001b[1;32mif\u001b[0m \u001b[1;32mnot\u001b[0m \u001b[0mself\u001b[0m\u001b[1;33m.\u001b[0m\u001b[0mcopy\u001b[0m\u001b[1;33m:\u001b[0m\u001b[1;33m\u001b[0m\u001b[0m\n\u001b[0;32m   1040\u001b[0m                 \u001b[0mnew_data\u001b[0m\u001b[1;33m.\u001b[0m\u001b[0m_consolidate_inplace\u001b[0m\u001b[1;33m(\u001b[0m\u001b[1;33m)\u001b[0m\u001b[1;33m\u001b[0m\u001b[0m\n",
      "\u001b[1;32m/usr/local/lib/python2.7/dist-packages/pandas/core/internals.pyc\u001b[0m in \u001b[0;36mconcatenate_block_managers\u001b[1;34m(mgrs_indexers, axes, concat_axis, copy)\u001b[0m\n\u001b[0;32m   4543\u001b[0m                                                 copy=copy),\n\u001b[0;32m   4544\u001b[0m                          placement=placement)\n\u001b[1;32m-> 4545\u001b[1;33m               for placement, join_units in concat_plan]\n\u001b[0m\u001b[0;32m   4546\u001b[0m \u001b[1;33m\u001b[0m\u001b[0m\n\u001b[0;32m   4547\u001b[0m     \u001b[1;32mreturn\u001b[0m \u001b[0mBlockManager\u001b[0m\u001b[1;33m(\u001b[0m\u001b[0mblocks\u001b[0m\u001b[1;33m,\u001b[0m \u001b[0maxes\u001b[0m\u001b[1;33m)\u001b[0m\u001b[1;33m\u001b[0m\u001b[0m\n",
      "\u001b[1;32m/usr/local/lib/python2.7/dist-packages/pandas/core/internals.pyc\u001b[0m in \u001b[0;36mconcatenate_join_units\u001b[1;34m(join_units, concat_axis, copy)\u001b[0m\n\u001b[0;32m   4648\u001b[0m             \u001b[0mconcat_values\u001b[0m \u001b[1;33m=\u001b[0m \u001b[0mconcat_values\u001b[0m\u001b[1;33m.\u001b[0m\u001b[0mcopy\u001b[0m\u001b[1;33m(\u001b[0m\u001b[1;33m)\u001b[0m\u001b[1;33m\u001b[0m\u001b[0m\n\u001b[0;32m   4649\u001b[0m     \u001b[1;32melse\u001b[0m\u001b[1;33m:\u001b[0m\u001b[1;33m\u001b[0m\u001b[0m\n\u001b[1;32m-> 4650\u001b[1;33m         \u001b[0mconcat_values\u001b[0m \u001b[1;33m=\u001b[0m \u001b[0m_concat\u001b[0m\u001b[1;33m.\u001b[0m\u001b[0m_concat_compat\u001b[0m\u001b[1;33m(\u001b[0m\u001b[0mto_concat\u001b[0m\u001b[1;33m,\u001b[0m \u001b[0maxis\u001b[0m\u001b[1;33m=\u001b[0m\u001b[0mconcat_axis\u001b[0m\u001b[1;33m)\u001b[0m\u001b[1;33m\u001b[0m\u001b[0m\n\u001b[0m\u001b[0;32m   4651\u001b[0m \u001b[1;33m\u001b[0m\u001b[0m\n\u001b[0;32m   4652\u001b[0m     \u001b[1;32mreturn\u001b[0m \u001b[0mconcat_values\u001b[0m\u001b[1;33m\u001b[0m\u001b[0m\n",
      "\u001b[1;32m/usr/local/lib/python2.7/dist-packages/pandas/types/concat.pyc\u001b[0m in \u001b[0;36m_concat_compat\u001b[1;34m(to_concat, axis)\u001b[0m\n\u001b[0;32m    142\u001b[0m                 \u001b[0mto_concat\u001b[0m \u001b[1;33m=\u001b[0m \u001b[1;33m[\u001b[0m\u001b[0mx\u001b[0m\u001b[1;33m.\u001b[0m\u001b[0mastype\u001b[0m\u001b[1;33m(\u001b[0m\u001b[1;34m'object'\u001b[0m\u001b[1;33m)\u001b[0m \u001b[1;32mfor\u001b[0m \u001b[0mx\u001b[0m \u001b[1;32min\u001b[0m \u001b[0mto_concat\u001b[0m\u001b[1;33m]\u001b[0m\u001b[1;33m\u001b[0m\u001b[0m\n\u001b[0;32m    143\u001b[0m \u001b[1;33m\u001b[0m\u001b[0m\n\u001b[1;32m--> 144\u001b[1;33m     \u001b[1;32mreturn\u001b[0m \u001b[0mnp\u001b[0m\u001b[1;33m.\u001b[0m\u001b[0mconcatenate\u001b[0m\u001b[1;33m(\u001b[0m\u001b[0mto_concat\u001b[0m\u001b[1;33m,\u001b[0m \u001b[0maxis\u001b[0m\u001b[1;33m=\u001b[0m\u001b[0maxis\u001b[0m\u001b[1;33m)\u001b[0m\u001b[1;33m\u001b[0m\u001b[0m\n\u001b[0m\u001b[0;32m    145\u001b[0m \u001b[1;33m\u001b[0m\u001b[0m\n\u001b[0;32m    146\u001b[0m \u001b[1;33m\u001b[0m\u001b[0m\n",
      "\u001b[1;31mKeyboardInterrupt\u001b[0m: "
     ]
    }
   ],
   "source": [
    "descriptor = pd.DataFrame()\n",
    "cnt = 0\n",
    "print 'start : ' + time.strftime('%a %H:%M:%S')\n",
    "for pair in desc_pair:\n",
    "    query_drug = pair[0][0]\n",
    "    query_disease = pair[0][1]\n",
    "    query_asso = pair[0][2]\n",
    "    pos_drug = pair[1][0]\n",
    "    pos_disease = pair[1][1]\n",
    "    if (query_drug == pos_drug) & (query_disease == pos_disease):\n",
    "            continue\n",
    "    else:\n",
    "        found_drug = df_drug_sim[(df_drug_sim.DrugBank_ID1 == query_drug) & (df_drug_sim.DrugBank_ID2 == pos_drug)]\n",
    "        drug_cheSim = found_drug['CheSim'].values[0]\n",
    "        drug_pheSim = found_drug['PheSim'].values[0]\n",
    "    \n",
    "        found_disease = df_disease_sim[(df_disease_sim.Disease_ID1 == query_disease) & (df_disease_sim.Disease_ID2 == pos_disease)]\n",
    "        disease_pheSim = found_disease['PheSim'].values[0]\n",
    "        disease_geSim = found_disease['GeSim'].values[0]\n",
    "    \n",
    "        drug_sim = [drug_cheSim, drug_pheSim]\n",
    "        disease_sim = [disease_geSim, disease_pheSim]\n",
    "        \n",
    "        sim = [math.sqrt(x[0]*x[1]) for x in list(product(drug_sim, disease_sim))]\n",
    "        temp_df = pd.DataFrame(data = [[query_drug, query_disease, query_asso, sim[0], sim[1], sim[2], sim[3]]],\n",
    "                           columns=['drug', 'disease', 'association', 'DrChe_DiGe', 'DrChe_DiPhe', 'DrPhe_DiGe', 'DrPhe_DiPhe'])\n",
    "        descriptor = descriptor.append(temp_df)\n",
    "        cnt = cnt +1\n",
    "        if cnt % 1000 == 0:\n",
    "            print \"{} : \".format(cnt) + time.strftime('%a %H:%M:%S')\n",
    "print 'end : ' + time.strftime('%a %H:%M:%S')"
   ]
  },
  {
   "cell_type": "code",
   "execution_count": 44,
   "metadata": {
    "collapsed": false
   },
   "outputs": [
    {
     "data": {
      "text/plain": [
       "129824"
      ]
     },
     "execution_count": 44,
     "metadata": {},
     "output_type": "execute_result"
    }
   ],
   "source": [
    "cnt"
   ]
  },
  {
   "cell_type": "code",
   "execution_count": 46,
   "metadata": {
    "collapsed": false
   },
   "outputs": [],
   "source": [
    "descriptor.to_csv(\"/DAS_Storage1/aschoi/data/Drug_Repositioning/8_new_training/5_PREDICT_descriptor/pre_desc_0_129824.tsv\", sep='\\t', index=False)"
   ]
  },
  {
   "cell_type": "code",
   "execution_count": 47,
   "metadata": {
    "collapsed": false
   },
   "outputs": [
    {
     "data": {
      "text/html": [
       "<div>\n",
       "<table border=\"1\" class=\"dataframe\">\n",
       "  <thead>\n",
       "    <tr style=\"text-align: right;\">\n",
       "      <th></th>\n",
       "      <th>drug</th>\n",
       "      <th>disease</th>\n",
       "      <th>association</th>\n",
       "      <th>DrChe_DiGe</th>\n",
       "      <th>DrChe_DiPhe</th>\n",
       "      <th>DrPhe_DiGe</th>\n",
       "      <th>DrPhe_DiPhe</th>\n",
       "    </tr>\n",
       "  </thead>\n",
       "  <tbody>\n",
       "    <tr>\n",
       "      <th>0</th>\n",
       "      <td>DB00190</td>\n",
       "      <td>102300</td>\n",
       "      <td>1</td>\n",
       "      <td>0.970745</td>\n",
       "      <td>0.410585</td>\n",
       "      <td>0.970745</td>\n",
       "      <td>0.410585</td>\n",
       "    </tr>\n",
       "    <tr>\n",
       "      <th>0</th>\n",
       "      <td>DB00190</td>\n",
       "      <td>102300</td>\n",
       "      <td>1</td>\n",
       "      <td>0.982234</td>\n",
       "      <td>0.522589</td>\n",
       "      <td>0.982234</td>\n",
       "      <td>0.522589</td>\n",
       "    </tr>\n",
       "    <tr>\n",
       "      <th>0</th>\n",
       "      <td>DB00190</td>\n",
       "      <td>102300</td>\n",
       "      <td>1</td>\n",
       "      <td>0.982234</td>\n",
       "      <td>0.396621</td>\n",
       "      <td>0.982234</td>\n",
       "      <td>0.396621</td>\n",
       "    </tr>\n",
       "    <tr>\n",
       "      <th>0</th>\n",
       "      <td>DB00190</td>\n",
       "      <td>102300</td>\n",
       "      <td>1</td>\n",
       "      <td>0.617611</td>\n",
       "      <td>0.617611</td>\n",
       "      <td>0.917272</td>\n",
       "      <td>0.917272</td>\n",
       "    </tr>\n",
       "    <tr>\n",
       "      <th>0</th>\n",
       "      <td>DB00190</td>\n",
       "      <td>102300</td>\n",
       "      <td>1</td>\n",
       "      <td>0.607798</td>\n",
       "      <td>0.136358</td>\n",
       "      <td>0.902698</td>\n",
       "      <td>0.202518</td>\n",
       "    </tr>\n",
       "  </tbody>\n",
       "</table>\n",
       "</div>"
      ],
      "text/plain": [
       "      drug  disease  association  DrChe_DiGe  DrChe_DiPhe  DrPhe_DiGe  \\\n",
       "0  DB00190   102300            1    0.970745     0.410585    0.970745   \n",
       "0  DB00190   102300            1    0.982234     0.522589    0.982234   \n",
       "0  DB00190   102300            1    0.982234     0.396621    0.982234   \n",
       "0  DB00190   102300            1    0.617611     0.617611    0.917272   \n",
       "0  DB00190   102300            1    0.607798     0.136358    0.902698   \n",
       "\n",
       "   DrPhe_DiPhe  \n",
       "0     0.410585  \n",
       "0     0.522589  \n",
       "0     0.396621  \n",
       "0     0.917272  \n",
       "0     0.202518  "
      ]
     },
     "execution_count": 47,
     "metadata": {},
     "output_type": "execute_result"
    }
   ],
   "source": [
    "descriptor.head()"
   ]
  },
  {
   "cell_type": "code",
   "execution_count": 64,
   "metadata": {
    "collapsed": false
   },
   "outputs": [
    {
     "name": "stdout",
     "output_type": "stream",
     "text": [
      "1396\n",
      "1397\n",
      "1304\n"
     ]
    }
   ],
   "source": [
    "print len(descriptor[(descriptor.drug == 'DB00190') & (descriptor.disease == 102300)]) # known\n",
    "print len(descriptor[(descriptor.drug == 'DB00190') & (descriptor.disease == 102400)]) # unknwon\n",
    "print len(descriptor[(descriptor.drug == 'DB00190') & (descriptor.disease == 173200)]) # unknwon 되다만거"
   ]
  },
  {
   "cell_type": "code",
   "execution_count": 87,
   "metadata": {
    "collapsed": false
   },
   "outputs": [],
   "source": [
    "real_desc = descriptor.groupby(['drug','disease']).max()\n",
    "#real_desc.loc['DB00190',102300] # data 접근시\n",
    "## 밑에거 잘라내기. partial slicing\n",
    "real_desc = real_desc.loc[('DB00190', 102300):('DB00190', 171300)] # partial slicing (range로)"
   ]
  },
  {
   "cell_type": "code",
   "execution_count": 90,
   "metadata": {
    "collapsed": false
   },
   "outputs": [],
   "source": [
    "real_desc.to_csv(\"/DAS_Storage1/aschoi/data/Drug_Repositioning/8_new_training/5_PREDICT_descriptor/real_desc_0_129824.tsv\", sep='\\t')\n",
    "real_desc.to_csv(\"/home/share/aschoi/nas/users/asolchoi/data/Drug_Repositioning/8_new_training/5_PREDICT_descriptor/real_desc_0_129824.tsv\", sep='\\t')"
   ]
  },
  {
   "cell_type": "code",
   "execution_count": null,
   "metadata": {
    "collapsed": true
   },
   "outputs": [],
   "source": []
  },
  {
   "cell_type": "code",
   "execution_count": null,
   "metadata": {
    "collapsed": true
   },
   "outputs": [],
   "source": []
  },
  {
   "cell_type": "code",
   "execution_count": null,
   "metadata": {
    "collapsed": true
   },
   "outputs": [],
   "source": []
  },
  {
   "cell_type": "code",
   "execution_count": null,
   "metadata": {
    "collapsed": true
   },
   "outputs": [],
   "source": []
  },
  {
   "cell_type": "code",
   "execution_count": null,
   "metadata": {
    "collapsed": true
   },
   "outputs": [],
   "source": []
  },
  {
   "cell_type": "code",
   "execution_count": null,
   "metadata": {
    "collapsed": true
   },
   "outputs": [],
   "source": []
  },
  {
   "cell_type": "code",
   "execution_count": null,
   "metadata": {
    "collapsed": true
   },
   "outputs": [],
   "source": []
  },
  {
   "cell_type": "code",
   "execution_count": null,
   "metadata": {
    "collapsed": true
   },
   "outputs": [],
   "source": []
  },
  {
   "cell_type": "code",
   "execution_count": null,
   "metadata": {
    "collapsed": true
   },
   "outputs": [],
   "source": []
  },
  {
   "cell_type": "code",
   "execution_count": null,
   "metadata": {
    "collapsed": true
   },
   "outputs": [],
   "source": []
  },
  {
   "cell_type": "code",
   "execution_count": 119,
   "metadata": {
    "collapsed": false
   },
   "outputs": [
    {
     "name": "stdout",
     "output_type": "stream",
     "text": [
      "start : Mon 21:27:27\n",
      "Mon 21:27:27\n",
      "Mon 21:28:07\n",
      "Mon 21:28:07\n",
      "Mon 21:28:47\n",
      "Mon 21:28:47\n",
      "Mon 21:29:28\n",
      "Mon 21:29:28\n",
      "Mon 21:30:08\n",
      "Mon 21:30:08\n",
      "Mon 21:30:48\n",
      "Mon 21:30:48\n",
      "Mon 21:31:29\n",
      "Mon 21:31:29\n",
      "Mon 21:32:09\n",
      "Mon 21:32:09\n"
     ]
    },
    {
     "ename": "KeyboardInterrupt",
     "evalue": "",
     "output_type": "error",
     "traceback": [
      "\u001b[1;31m---------------------------------------------------------------------------\u001b[0m",
      "\u001b[1;31mKeyboardInterrupt\u001b[0m                         Traceback (most recent call last)",
      "\u001b[1;32m<ipython-input-119-00d2d09584e7>\u001b[0m in \u001b[0;36m<module>\u001b[1;34m()\u001b[0m\n\u001b[0;32m     15\u001b[0m             \u001b[1;32mcontinue\u001b[0m\u001b[1;33m\u001b[0m\u001b[0m\n\u001b[0;32m     16\u001b[0m         \u001b[1;32melse\u001b[0m\u001b[1;33m:\u001b[0m\u001b[1;33m\u001b[0m\u001b[0m\n\u001b[1;32m---> 17\u001b[1;33m             \u001b[0mdrug_cheSim\u001b[0m \u001b[1;33m=\u001b[0m \u001b[0mdrug_ch\u001b[0m\u001b[1;33m[\u001b[0m\u001b[1;33m(\u001b[0m\u001b[0mdrug_ch\u001b[0m\u001b[1;33m.\u001b[0m\u001b[0mDrugBank_ID1\u001b[0m \u001b[1;33m==\u001b[0m \u001b[0mquery_drug\u001b[0m\u001b[1;33m)\u001b[0m \u001b[1;33m&\u001b[0m \u001b[1;33m(\u001b[0m\u001b[0mdrug_ch\u001b[0m\u001b[1;33m.\u001b[0m\u001b[0mDrugBank_ID2\u001b[0m \u001b[1;33m==\u001b[0m \u001b[0mpos_drug\u001b[0m\u001b[1;33m)\u001b[0m\u001b[1;33m]\u001b[0m\u001b[1;33m[\u001b[0m\u001b[1;34m'Similarity_Score'\u001b[0m\u001b[1;33m]\u001b[0m\u001b[1;33m\u001b[0m\u001b[0m\n\u001b[0m\u001b[0;32m     18\u001b[0m             \u001b[0mdrug_pheSim\u001b[0m \u001b[1;33m=\u001b[0m \u001b[0mdrug_ph\u001b[0m\u001b[1;33m[\u001b[0m\u001b[1;33m(\u001b[0m\u001b[0mdrug_ph\u001b[0m\u001b[1;33m.\u001b[0m\u001b[0mDrugBank_ID1\u001b[0m \u001b[1;33m==\u001b[0m \u001b[0mquery_drug\u001b[0m\u001b[1;33m)\u001b[0m \u001b[1;33m&\u001b[0m \u001b[1;33m(\u001b[0m\u001b[0mdrug_ph\u001b[0m\u001b[1;33m.\u001b[0m\u001b[0mDrugBank_ID2\u001b[0m \u001b[1;33m==\u001b[0m \u001b[0mpos_drug\u001b[0m\u001b[1;33m)\u001b[0m\u001b[1;33m]\u001b[0m\u001b[1;33m[\u001b[0m\u001b[1;34m'Similarity_Score'\u001b[0m\u001b[1;33m]\u001b[0m\u001b[1;33m\u001b[0m\u001b[0m\n\u001b[0;32m     19\u001b[0m             \u001b[0mdisease_pheSim\u001b[0m \u001b[1;33m=\u001b[0m \u001b[0mdisease_ph\u001b[0m\u001b[1;33m[\u001b[0m\u001b[1;33m[\u001b[0m\u001b[0mstr\u001b[0m\u001b[1;33m(\u001b[0m\u001b[0mquery_disease\u001b[0m\u001b[1;33m)\u001b[0m\u001b[1;33m]\u001b[0m\u001b[1;33m]\u001b[0m\u001b[1;33m.\u001b[0m\u001b[0mloc\u001b[0m\u001b[1;33m[\u001b[0m\u001b[0mpos_disease\u001b[0m\u001b[1;33m]\u001b[0m\u001b[1;33m\u001b[0m\u001b[0m\n",
      "\u001b[1;32m/usr/local/lib/python2.7/dist-packages/pandas/core/ops.pyc\u001b[0m in \u001b[0;36mwrapper\u001b[1;34m(self, other, axis)\u001b[0m\n\u001b[0;32m    761\u001b[0m                 \u001b[0mother\u001b[0m \u001b[1;33m=\u001b[0m \u001b[0mnp\u001b[0m\u001b[1;33m.\u001b[0m\u001b[0masarray\u001b[0m\u001b[1;33m(\u001b[0m\u001b[0mother\u001b[0m\u001b[1;33m)\u001b[0m\u001b[1;33m\u001b[0m\u001b[0m\n\u001b[0;32m    762\u001b[0m \u001b[1;33m\u001b[0m\u001b[0m\n\u001b[1;32m--> 763\u001b[1;33m             \u001b[0mres\u001b[0m \u001b[1;33m=\u001b[0m \u001b[0mna_op\u001b[0m\u001b[1;33m(\u001b[0m\u001b[0mvalues\u001b[0m\u001b[1;33m,\u001b[0m \u001b[0mother\u001b[0m\u001b[1;33m)\u001b[0m\u001b[1;33m\u001b[0m\u001b[0m\n\u001b[0m\u001b[0;32m    764\u001b[0m             \u001b[1;32mif\u001b[0m \u001b[0misscalar\u001b[0m\u001b[1;33m(\u001b[0m\u001b[0mres\u001b[0m\u001b[1;33m)\u001b[0m\u001b[1;33m:\u001b[0m\u001b[1;33m\u001b[0m\u001b[0m\n\u001b[0;32m    765\u001b[0m                 raise TypeError('Could not compare %s type with Series' %\n",
      "\u001b[1;32m/usr/local/lib/python2.7/dist-packages/pandas/core/ops.pyc\u001b[0m in \u001b[0;36mna_op\u001b[1;34m(x, y)\u001b[0m\n\u001b[0;32m    681\u001b[0m                     \u001b[0mresult\u001b[0m \u001b[1;33m=\u001b[0m \u001b[0mlib\u001b[0m\u001b[1;33m.\u001b[0m\u001b[0mvec_compare\u001b[0m\u001b[1;33m(\u001b[0m\u001b[0mx\u001b[0m\u001b[1;33m,\u001b[0m \u001b[0my\u001b[0m\u001b[1;33m,\u001b[0m \u001b[0mop\u001b[0m\u001b[1;33m)\u001b[0m\u001b[1;33m\u001b[0m\u001b[0m\n\u001b[0;32m    682\u001b[0m             \u001b[1;32melse\u001b[0m\u001b[1;33m:\u001b[0m\u001b[1;33m\u001b[0m\u001b[0m\n\u001b[1;32m--> 683\u001b[1;33m                 \u001b[0mresult\u001b[0m \u001b[1;33m=\u001b[0m \u001b[0mlib\u001b[0m\u001b[1;33m.\u001b[0m\u001b[0mscalar_compare\u001b[0m\u001b[1;33m(\u001b[0m\u001b[0mx\u001b[0m\u001b[1;33m,\u001b[0m \u001b[0my\u001b[0m\u001b[1;33m,\u001b[0m \u001b[0mop\u001b[0m\u001b[1;33m)\u001b[0m\u001b[1;33m\u001b[0m\u001b[0m\n\u001b[0m\u001b[0;32m    684\u001b[0m         \u001b[1;32melse\u001b[0m\u001b[1;33m:\u001b[0m\u001b[1;33m\u001b[0m\u001b[0m\n\u001b[0;32m    685\u001b[0m \u001b[1;33m\u001b[0m\u001b[0m\n",
      "\u001b[1;31mKeyboardInterrupt\u001b[0m: "
     ]
    }
   ],
   "source": [
    "##### similarity tensor product 전까지만. \n",
    "descriptor = pd.DataFrame()\n",
    "cnt = 0\n",
    "print 'start : ' + time.strftime('%a %H:%M:%S')\n",
    "bef_descriptor = list()\n",
    "for index, row in new_asso.iterrows(): # all association\n",
    "    print time.strftime('%a %H:%M:%S')\n",
    "    query_drug = row['drug']\n",
    "    query_disease = row['disease']\n",
    "    query_asso = row['association']\n",
    "    similarities = list()\n",
    "    for index2, row2, in pos.iterrows(): # known association\n",
    "        pos_drug = row2['drug']\n",
    "        pos_disease = row2['disease']\n",
    "        if (query_drug == pos_drug) & (query_disease == pos_disease):\n",
    "            continue\n",
    "        else:\n",
    "            drug_cheSim = drug_ch[(drug_ch.DrugBank_ID1 == query_drug) & (drug_ch.DrugBank_ID2 == pos_drug)]['Similarity_Score']\n",
    "            drug_pheSim = drug_ph[(drug_ph.DrugBank_ID1 == query_drug) & (drug_ph.DrugBank_ID2 == pos_drug)]['Similarity_Score']\n",
    "            disease_pheSim = disease_ph[[str(query_disease)]].loc[pos_disease]\n",
    "            disease_geSim = disease_ge[(disease_ge.Disease_ID1 == query_disease) & (disease_ge.Disease_ID2 == pos_disease)]['Similarity_Score']\n",
    "            drug_sim = [drug_cheSim.values[0], drug_pheSim.values[0]]\n",
    "            disease_sim = [disease_geSim.values[0], disease_pheSim.values[0]]\n",
    "            similarities.append([drug_sim, disease_sim])\n",
    "            #similarities.append([math.sqrt(x[0]*x[1]) for x in list(product(drug_sim, disease_sim))])\n",
    "    bef_descriptor.append(similarities)    \n",
    "    cnt = cnt + 1\n",
    "    print time.strftime('%a %H:%M:%S')\n",
    "    if cnt % 1000 == 0 :\n",
    "        print \"cnt : {} \".format(cnt) + time.strftime('%a %H:%M:%S')\n",
    "print 'end : ' + time.strftime('%a %H:%M:%S')"
   ]
  },
  {
   "cell_type": "code",
   "execution_count": 111,
   "metadata": {
    "collapsed": false
   },
   "outputs": [
    {
     "name": "stdout",
     "output_type": "stream",
     "text": [
      "102300\n",
      "608320\n",
      "102300    0.0\n",
      "Name: 608320, dtype: float64\n"
     ]
    }
   ],
   "source": [
    "print query_disease\n",
    "print pos_disease\n",
    "print disease_ph[[str(query_disease)]].loc[pos_disease]"
   ]
  },
  {
   "cell_type": "code",
   "execution_count": 99,
   "metadata": {
    "collapsed": false
   },
   "outputs": [
    {
     "name": "stdout",
     "output_type": "stream",
     "text": [
      "Mon 19:48:26\n",
      "Mon 19:48:26\n",
      "Mon 19:49:02\n",
      "Mon 19:49:02\n"
     ]
    }
   ],
   "source": [
    "##### similarity tensor product 후 score까지만. \n",
    "cnt = 0\n",
    "print time.strftime('%a %H:%M:%S')\n",
    "bef_descriptor = list()\n",
    "for index, row in new_asso.iterrows(): # all association\n",
    "    query_drug = row['drug']\n",
    "    query_disease = row['disease']\n",
    "    query_asso = row['association']\n",
    "    similarities = list()\n",
    "    print time.strftime('%a %H:%M:%S')\n",
    "    for index2, row2, in pos.iterrows(): # known association\n",
    "        pos_drug = row2['drug']\n",
    "        pos_disease = row2['disease']\n",
    "        if (query_drug == pos_drug) & (query_disease == pos_disease):\n",
    "            continue\n",
    "        else:\n",
    "            drug_cheSim = drug_ch[(drug_ch.DrugBank_ID1 == query_drug) & (drug_ch.DrugBank_ID2 == pos_drug)]['Similarity_Score']\n",
    "            drug_pheSim = drug_ph[(drug_ph.DrugBank_ID1 == query_drug) & (drug_ph.DrugBank_ID2 == pos_drug)]['Similarity_Score']\n",
    "            disease_pheSim = disease_ph[[str(query_disease)]].loc[pos_disease]\n",
    "            disease_geSim = disease_ge[(disease_ge.Disease_ID1 == query_disease) & (disease_ge.Disease_ID2 == pos_disease)]['Similarity_Score']\n",
    "            drug_sim = [drug_cheSim.values[0], drug_pheSim.values[0]]\n",
    "            disease_sim = [disease_geSim.values[0], disease_pheSim.values[0]]\n",
    "            similarities.append([math.sqrt(x[0]*x[1]) for x in list(product(drug_sim, disease_sim))])\n",
    "\n",
    "    bef_descriptor.append(similarities)\n",
    "    print time.strftime('%a %H:%M:%S')\n",
    "    break\n",
    "    cnt = cnt + 1\n",
    "    if cnt % 1000 == 0 :\n",
    "        print \"cnt : {} \".format(cnt) + time.strftime('%a %H:%M:%S')\n",
    "print time.strftime('%a %H:%M:%S')"
   ]
  },
  {
   "cell_type": "code",
   "execution_count": 98,
   "metadata": {
    "collapsed": false
   },
   "outputs": [
    {
     "data": {
      "text/plain": [
       "0"
      ]
     },
     "execution_count": 98,
     "metadata": {},
     "output_type": "execute_result"
    }
   ],
   "source": [
    "cnt"
   ]
  },
  {
   "cell_type": "code",
   "execution_count": null,
   "metadata": {
    "collapsed": true
   },
   "outputs": [],
   "source": []
  }
 ],
 "metadata": {
  "kernelspec": {
   "display_name": "Python 2",
   "language": "python",
   "name": "python2"
  },
  "language_info": {
   "codemirror_mode": {
    "name": "ipython",
    "version": 2
   },
   "file_extension": ".py",
   "mimetype": "text/x-python",
   "name": "python",
   "nbconvert_exporter": "python",
   "pygments_lexer": "ipython2",
   "version": "2.7.6"
  }
 },
 "nbformat": 4,
 "nbformat_minor": 1
}
