{
 "cells": [
  {
   "cell_type": "code",
   "execution_count": 1,
   "metadata": {
    "collapsed": true
   },
   "outputs": [],
   "source": [
    "import pandas as pd\n",
    "import numpy as np"
   ]
  },
  {
   "cell_type": "code",
   "execution_count": 8,
   "metadata": {
    "collapsed": false
   },
   "outputs": [
    {
     "data": {
      "text/html": [
       "<div>\n",
       "<table border=\"1\" class=\"dataframe\">\n",
       "  <thead>\n",
       "    <tr style=\"text-align: right;\">\n",
       "      <th></th>\n",
       "      <th>Disease_id</th>\n",
       "      <th>Drug_id</th>\n",
       "      <th>Predicted_label</th>\n",
       "      <th>Predicted_proba</th>\n",
       "      <th>y_true</th>\n",
       "    </tr>\n",
       "  </thead>\n",
       "  <tbody>\n",
       "    <tr>\n",
       "      <th>0</th>\n",
       "      <td>104300</td>\n",
       "      <td>DB01200</td>\n",
       "      <td>1</td>\n",
       "      <td>0.77</td>\n",
       "      <td>0</td>\n",
       "    </tr>\n",
       "  </tbody>\n",
       "</table>\n",
       "</div>"
      ],
      "text/plain": [
       "   Disease_id  Drug_id  Predicted_label  Predicted_proba  y_true\n",
       "0      104300  DB01200                1             0.77       0"
      ]
     },
     "execution_count": 8,
     "metadata": {},
     "output_type": "execute_result"
    }
   ],
   "source": [
    "fp = pd.read_table(\"/home/share/aschoi/nas/users/asolchoi/data/Drug_Repositioning/8_new_training/PREDICT_data/2_6_RF_indep_fp.tsv\")\n",
    "fp.head(1)"
   ]
  },
  {
   "cell_type": "code",
   "execution_count": 9,
   "metadata": {
    "collapsed": false
   },
   "outputs": [
    {
     "data": {
      "text/html": [
       "<div>\n",
       "<table border=\"1\" class=\"dataframe\">\n",
       "  <thead>\n",
       "    <tr style=\"text-align: right;\">\n",
       "      <th></th>\n",
       "      <th>OMIM_ID</th>\n",
       "      <th>OMIM_disease_name</th>\n",
       "      <th>UMLS_concept_ID</th>\n",
       "      <th>UMLS_concept_name</th>\n",
       "    </tr>\n",
       "  </thead>\n",
       "  <tbody>\n",
       "    <tr>\n",
       "      <th>0</th>\n",
       "      <td>102100</td>\n",
       "      <td>Acromegaloid Changes, Cutis Verticis Gyrata, A...</td>\n",
       "      <td>C1868756</td>\n",
       "      <td>Corneal leukoma</td>\n",
       "    </tr>\n",
       "  </tbody>\n",
       "</table>\n",
       "</div>"
      ],
      "text/plain": [
       "   OMIM_ID                                  OMIM_disease_name UMLS_concept_ID  \\\n",
       "0   102100  Acromegaloid Changes, Cutis Verticis Gyrata, A...        C1868756   \n",
       "\n",
       "  UMLS_concept_name  \n",
       "0   Corneal leukoma  "
      ]
     },
     "execution_count": 9,
     "metadata": {},
     "output_type": "execute_result"
    }
   ],
   "source": [
    "omim = pd.read_table(\"/DAS_Storage1/aschoi/data/Drug_Repositioning/6_new_disease/1_omim_umls_mapping_association.tsv\")\n",
    "omim.head(1)"
   ]
  },
  {
   "cell_type": "code",
   "execution_count": 10,
   "metadata": {
    "collapsed": false,
    "scrolled": true
   },
   "outputs": [
    {
     "data": {
      "text/html": [
       "<div>\n",
       "<table border=\"1\" class=\"dataframe\">\n",
       "  <thead>\n",
       "    <tr style=\"text-align: right;\">\n",
       "      <th></th>\n",
       "      <th>DrugBank_ID</th>\n",
       "      <th>Drug_Name</th>\n",
       "      <th>synonym</th>\n",
       "    </tr>\n",
       "  </thead>\n",
       "  <tbody>\n",
       "    <tr>\n",
       "      <th>0</th>\n",
       "      <td>DB00001</td>\n",
       "      <td>Lepirudin</td>\n",
       "      <td>Hirudin variant-1</td>\n",
       "    </tr>\n",
       "  </tbody>\n",
       "</table>\n",
       "</div>"
      ],
      "text/plain": [
       "  DrugBank_ID  Drug_Name             synonym\n",
       "0     DB00001  Lepirudin  Hirudin variant-1 "
      ]
     },
     "execution_count": 10,
     "metadata": {},
     "output_type": "execute_result"
    }
   ],
   "source": [
    "drugbank = pd.read_table(\"/DAS_Storage1/aschoi/data/Drug_Repositioning/5_new_drug/1_DrugBank_Id_Name.tsv\")\n",
    "drugbank.head(1)"
   ]
  },
  {
   "cell_type": "code",
   "execution_count": 16,
   "metadata": {
    "collapsed": false
   },
   "outputs": [
    {
     "name": "stdout",
     "output_type": "stream",
     "text": [
      "702 1250 1250\n"
     ]
    },
    {
     "data": {
      "text/html": [
       "<div>\n",
       "<table border=\"1\" class=\"dataframe\">\n",
       "  <thead>\n",
       "    <tr style=\"text-align: right;\">\n",
       "      <th></th>\n",
       "      <th>Drug_id</th>\n",
       "      <th>Disease_id</th>\n",
       "      <th>UMLS_concept_name</th>\n",
       "      <th>Predicted_proba</th>\n",
       "    </tr>\n",
       "  </thead>\n",
       "  <tbody>\n",
       "    <tr>\n",
       "      <th>0</th>\n",
       "      <td>DB01210</td>\n",
       "      <td>102300</td>\n",
       "      <td>Restless Legs Syndrome</td>\n",
       "      <td>0.520000</td>\n",
       "    </tr>\n",
       "    <tr>\n",
       "      <th>1</th>\n",
       "      <td>DB00434</td>\n",
       "      <td>102300</td>\n",
       "      <td>Restless Legs Syndrome</td>\n",
       "      <td>0.676667</td>\n",
       "    </tr>\n",
       "    <tr>\n",
       "      <th>2</th>\n",
       "      <td>DB00620</td>\n",
       "      <td>102300</td>\n",
       "      <td>Restless Legs Syndrome</td>\n",
       "      <td>0.716667</td>\n",
       "    </tr>\n",
       "    <tr>\n",
       "      <th>3</th>\n",
       "      <td>DB00635</td>\n",
       "      <td>102300</td>\n",
       "      <td>Restless Legs Syndrome</td>\n",
       "      <td>0.816667</td>\n",
       "    </tr>\n",
       "    <tr>\n",
       "      <th>4</th>\n",
       "      <td>DB01210</td>\n",
       "      <td>102300</td>\n",
       "      <td>RLS1 (Ekbom Syndrome)</td>\n",
       "      <td>0.520000</td>\n",
       "    </tr>\n",
       "  </tbody>\n",
       "</table>\n",
       "</div>"
      ],
      "text/plain": [
       "   Drug_id  Disease_id       UMLS_concept_name  Predicted_proba\n",
       "0  DB01210      102300  Restless Legs Syndrome         0.520000\n",
       "1  DB00434      102300  Restless Legs Syndrome         0.676667\n",
       "2  DB00620      102300  Restless Legs Syndrome         0.716667\n",
       "3  DB00635      102300  Restless Legs Syndrome         0.816667\n",
       "4  DB01210      102300   RLS1 (Ekbom Syndrome)         0.520000"
      ]
     },
     "execution_count": 16,
     "metadata": {},
     "output_type": "execute_result"
    }
   ],
   "source": [
    "fp_omim = pd.merge(right = fp, left = omim, right_on = 'Disease_id', left_on = 'OMIM_ID')\n",
    "fp_omim2 = fp_omim[['Drug_id','Disease_id','UMLS_concept_name', 'Predicted_proba']]\n",
    "print len(fp), len(fp_omim2), len(fp_omim2.drop_duplicates())\n",
    "fp_omim2.head()"
   ]
  },
  {
   "cell_type": "code",
   "execution_count": 17,
   "metadata": {
    "collapsed": false
   },
   "outputs": [
    {
     "name": "stdout",
     "output_type": "stream",
     "text": [
      "1250 1250 1250\n"
     ]
    },
    {
     "data": {
      "text/html": [
       "<div>\n",
       "<table border=\"1\" class=\"dataframe\">\n",
       "  <thead>\n",
       "    <tr style=\"text-align: right;\">\n",
       "      <th></th>\n",
       "      <th>Drug_id</th>\n",
       "      <th>Drug_Name</th>\n",
       "      <th>synonym</th>\n",
       "      <th>Disease_id</th>\n",
       "      <th>UMLS_concept_name</th>\n",
       "      <th>Predicted_proba</th>\n",
       "    </tr>\n",
       "  </thead>\n",
       "  <tbody>\n",
       "    <tr>\n",
       "      <th>0</th>\n",
       "      <td>DB00125</td>\n",
       "      <td>Adenosine monophosphate</td>\n",
       "      <td>5'-Adenosine monophosphate 5'-Adenylic acid 5'...</td>\n",
       "      <td>103780</td>\n",
       "      <td>Alcohol Dependence (Alcoholic Intoxication, Ch...</td>\n",
       "      <td>0.536667</td>\n",
       "    </tr>\n",
       "    <tr>\n",
       "      <th>1</th>\n",
       "      <td>DB00125</td>\n",
       "      <td>Adenosine monophosphate</td>\n",
       "      <td>5'-Adenosine monophosphate 5'-Adenylic acid 5'...</td>\n",
       "      <td>104300</td>\n",
       "      <td>Alzheimer's Disease</td>\n",
       "      <td>0.850000</td>\n",
       "    </tr>\n",
       "    <tr>\n",
       "      <th>2</th>\n",
       "      <td>DB00125</td>\n",
       "      <td>Adenosine monophosphate</td>\n",
       "      <td>5'-Adenosine monophosphate 5'-Adenylic acid 5'...</td>\n",
       "      <td>137750</td>\n",
       "      <td>Glaucoma, Open-Angle</td>\n",
       "      <td>0.930000</td>\n",
       "    </tr>\n",
       "    <tr>\n",
       "      <th>3</th>\n",
       "      <td>DB00125</td>\n",
       "      <td>Adenosine monophosphate</td>\n",
       "      <td>5'-Adenosine monophosphate 5'-Adenylic acid 5'...</td>\n",
       "      <td>137750</td>\n",
       "      <td>GLC1A (GLAUCOMA 1, OPEN ANGLE, A)</td>\n",
       "      <td>0.930000</td>\n",
       "    </tr>\n",
       "    <tr>\n",
       "      <th>4</th>\n",
       "      <td>DB00125</td>\n",
       "      <td>Adenosine monophosphate</td>\n",
       "      <td>5'-Adenosine monophosphate 5'-Adenylic acid 5'...</td>\n",
       "      <td>137760</td>\n",
       "      <td>POAG (Primary open angle glaucoma)</td>\n",
       "      <td>0.693333</td>\n",
       "    </tr>\n",
       "  </tbody>\n",
       "</table>\n",
       "</div>"
      ],
      "text/plain": [
       "   Drug_id                Drug_Name  \\\n",
       "0  DB00125  Adenosine monophosphate   \n",
       "1  DB00125  Adenosine monophosphate   \n",
       "2  DB00125  Adenosine monophosphate   \n",
       "3  DB00125  Adenosine monophosphate   \n",
       "4  DB00125  Adenosine monophosphate   \n",
       "\n",
       "                                             synonym  Disease_id  \\\n",
       "0  5'-Adenosine monophosphate 5'-Adenylic acid 5'...      103780   \n",
       "1  5'-Adenosine monophosphate 5'-Adenylic acid 5'...      104300   \n",
       "2  5'-Adenosine monophosphate 5'-Adenylic acid 5'...      137750   \n",
       "3  5'-Adenosine monophosphate 5'-Adenylic acid 5'...      137750   \n",
       "4  5'-Adenosine monophosphate 5'-Adenylic acid 5'...      137760   \n",
       "\n",
       "                                   UMLS_concept_name  Predicted_proba  \n",
       "0  Alcohol Dependence (Alcoholic Intoxication, Ch...         0.536667  \n",
       "1                                Alzheimer's Disease         0.850000  \n",
       "2                               Glaucoma, Open-Angle         0.930000  \n",
       "3                  GLC1A (GLAUCOMA 1, OPEN ANGLE, A)         0.930000  \n",
       "4                 POAG (Primary open angle glaucoma)         0.693333  "
      ]
     },
     "execution_count": 17,
     "metadata": {},
     "output_type": "execute_result"
    }
   ],
   "source": [
    "fp_omim_drug = pd.merge(right = fp_omim2, left = drugbank, right_on = 'Drug_id', left_on = 'DrugBank_ID')\n",
    "fp_omim_drug2 = fp_omim_drug[['Drug_id','Drug_Name','synonym','Disease_id','UMLS_concept_name', 'Predicted_proba']]\n",
    "print len(fp_omim2), len(fp_omim_drug2), len(fp_omim_drug2.drop_duplicates())\n",
    "fp_omim_drug2.head()"
   ]
  },
  {
   "cell_type": "code",
   "execution_count": 19,
   "metadata": {
    "collapsed": false
   },
   "outputs": [],
   "source": [
    "fp_omim_drug2.to_csv(\"/home/share/aschoi/nas/users/asolchoi/data/Drug_Repositioning/8_new_training/PREDICT_data/2_6_RF_indep_fp_name.tsv\",\n",
    "                    sep='\\t', index=False)"
   ]
  },
  {
   "cell_type": "code",
   "execution_count": null,
   "metadata": {
    "collapsed": true
   },
   "outputs": [],
   "source": []
  }
 ],
 "metadata": {
  "kernelspec": {
   "display_name": "Python 2",
   "language": "python",
   "name": "python2"
  },
  "language_info": {
   "codemirror_mode": {
    "name": "ipython",
    "version": 2
   },
   "file_extension": ".py",
   "mimetype": "text/x-python",
   "name": "python",
   "nbconvert_exporter": "python",
   "pygments_lexer": "ipython2",
   "version": "2.7.6"
  }
 },
 "nbformat": 4,
 "nbformat_minor": 2
}
