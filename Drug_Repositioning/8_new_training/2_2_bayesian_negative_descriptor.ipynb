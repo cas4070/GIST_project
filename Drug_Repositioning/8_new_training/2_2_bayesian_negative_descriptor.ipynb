{
 "cells": [
  {
   "cell_type": "code",
   "execution_count": 1,
   "metadata": {
    "collapsed": true
   },
   "outputs": [],
   "source": [
    "import numpy as np\n",
    "import pandas as pd\n",
    "import time\n",
    "from __future__ import division"
   ]
  },
  {
   "cell_type": "code",
   "execution_count": 38,
   "metadata": {
    "collapsed": true
   },
   "outputs": [],
   "source": [
    "gold = pd.read_table(\"/DAS_Storage1/aschoi/data/Drug_Repositioning/8_new_training/7_2_1_tn_whole_descriptor_removed.tsv\")"
   ]
  },
  {
   "cell_type": "code",
   "execution_count": 39,
   "metadata": {
    "collapsed": true
   },
   "outputs": [],
   "source": [
    "pos = gold[gold.association == 1]\n",
    "neg = gold[gold.association == 0]"
   ]
  },
  {
   "cell_type": "code",
   "execution_count": 40,
   "metadata": {
    "collapsed": true
   },
   "outputs": [],
   "source": [
    "features = gold.columns.values[3:].tolist()\n",
    "pos = pos[features]\n",
    "neg = neg[features]"
   ]
  },
  {
   "cell_type": "code",
   "execution_count": 41,
   "metadata": {
    "collapsed": false
   },
   "outputs": [],
   "source": [
    "pos_feature_sum = pos.sum(axis=0)\n",
    "neg_feature_sum = neg.sum(axis=0)"
   ]
  },
  {
   "cell_type": "code",
   "execution_count": 42,
   "metadata": {
    "collapsed": false
   },
   "outputs": [],
   "source": [
    "df_pos_sum = pd.DataFrame({'feature' : pos_feature_sum.index.values, 'sum' : pos_feature_sum.values})\n",
    "df_neg_sum = pd.DataFrame({'feature' : neg_feature_sum.index.values, 'sum' : neg_feature_sum.values})"
   ]
  },
  {
   "cell_type": "code",
   "execution_count": 5,
   "metadata": {
    "collapsed": false
   },
   "outputs": [],
   "source": [
    "#pos_feature_sum, neg_feature_sum을 descriptor 순서로\n",
    "sorter = gold.columns[3:].tolist()\n",
    "neg_feature_sum.feature = neg_feature_sum.feature.astype(\"category\")\n",
    "neg_feature_sum.feature.cat.set_categories(sorter, inplace=True)\n",
    "neg_feature_sum = neg_feature_sum.sort_values([\"feature\"])\n",
    "\n",
    "pos_feature_sum.feature = pos_feature_sum.feature.astype(\"category\")\n",
    "pos_feature_sum.feature.cat.set_categories(sorter, inplace=True)\n",
    "pos_feature_sum = pos_feature_sum.sort_values([\"feature\"])"
   ]
  },
  {
   "cell_type": "code",
   "execution_count": 43,
   "metadata": {
    "collapsed": false
   },
   "outputs": [
    {
     "data": {
      "text/plain": [
       "9293"
      ]
     },
     "execution_count": 43,
     "metadata": {},
     "output_type": "execute_result"
    }
   ],
   "source": [
    "len(neg)"
   ]
  },
  {
   "cell_type": "code",
   "execution_count": 44,
   "metadata": {
    "collapsed": true
   },
   "outputs": [],
   "source": [
    "#### Labplace Smoothing\n",
    "numP = 1434 # len(pos)\n",
    "numN = 9293 #len(neg) \n",
    "LapP = (numP +1) / (numP + numN + 2)\n",
    "LapN = (numN +1 ) / (numP + numN + 2)"
   ]
  },
  {
   "cell_type": "code",
   "execution_count": 45,
   "metadata": {
    "collapsed": false
   },
   "outputs": [],
   "source": [
    "# P(Feature | Positive), P(Feature | Negative)\n",
    "LapF_P = (df_pos_sum['sum'] + 1) / (numP + 2)\n",
    "LapF_N = (df_neg_sum['sum'] + 1) / (numN + 2)"
   ]
  },
  {
   "cell_type": "code",
   "execution_count": 46,
   "metadata": {
    "collapsed": false
   },
   "outputs": [],
   "source": [
    "# P(Positive | Featue), P(Negative | Feature) : positive일 경우  (LapF_P * LapP) / (LapF_P * LapP + LapF_N + LapN)\n",
    "LapP_F = (LapF_P * LapP) / (LapF_P * LapP + LapF_N * LapN)\n",
    "LapN_F = (LapF_N * LapN) / (LapF_P * LapP + LapF_N * LapN)"
   ]
  },
  {
   "cell_type": "code",
   "execution_count": 53,
   "metadata": {
    "collapsed": false
   },
   "outputs": [
    {
     "name": "stdout",
     "output_type": "stream",
     "text": [
      "0.996195486834\n",
      "0.996195486834\n"
     ]
    }
   ],
   "source": [
    "print LapP_F.max()\n",
    "print LapP_F.max()"
   ]
  },
  {
   "cell_type": "code",
   "execution_count": 60,
   "metadata": {
    "collapsed": false
   },
   "outputs": [
    {
     "data": {
      "text/plain": [
       "1.0"
      ]
     },
     "execution_count": 60,
     "metadata": {},
     "output_type": "execute_result"
    }
   ],
   "source": [
    "import math\n",
    "math.log(2, 2)"
   ]
  },
  {
   "cell_type": "code",
   "execution_count": 63,
   "metadata": {
    "collapsed": false
   },
   "outputs": [
    {
     "data": {
      "text/plain": [
       "0      -2.792775\n",
       "1      -2.496130\n",
       "2      -2.626539\n",
       "3      -2.133121\n",
       "4      -2.564205\n",
       "5      -2.308433\n",
       "6      -2.444802\n",
       "7      -2.546525\n",
       "8      -2.401849\n",
       "9      -2.497189\n",
       "10     -2.275810\n",
       "11     -2.538552\n",
       "12     -2.566398\n",
       "13     -1.661363\n",
       "14     -2.421614\n",
       "15     -2.386767\n",
       "16     -1.733437\n",
       "17     -2.140575\n",
       "18     -1.853148\n",
       "19     -2.277744\n",
       "20     -1.924371\n",
       "21     -2.294235\n",
       "22     -2.590112\n",
       "23     -2.308224\n",
       "24     -2.537946\n",
       "25     -2.324233\n",
       "26     -2.170561\n",
       "27     -2.000850\n",
       "28     -2.295970\n",
       "29     -2.511812\n",
       "          ...   \n",
       "5338    2.999150\n",
       "5339    2.999150\n",
       "5340    2.999150\n",
       "5341    2.999150\n",
       "5342    2.999150\n",
       "5343    2.999150\n",
       "5344    2.999150\n",
       "5345    2.999150\n",
       "5346    2.999150\n",
       "5347    2.999150\n",
       "5348    2.999150\n",
       "5349    2.999150\n",
       "5350    2.999150\n",
       "5351    2.999150\n",
       "5352    2.999150\n",
       "5353    2.999150\n",
       "5354    2.999150\n",
       "5355    2.999150\n",
       "5356    2.999150\n",
       "5357    2.999150\n",
       "5358    2.999150\n",
       "5359    2.999150\n",
       "5360    2.999150\n",
       "5361    2.999150\n",
       "5362    2.999150\n",
       "5363    2.999150\n",
       "5364    2.999150\n",
       "5365    2.999150\n",
       "5366    2.999150\n",
       "5367    3.321078\n",
       "Name: sum, dtype: float64"
      ]
     },
     "execution_count": 63,
     "metadata": {},
     "output_type": "execute_result"
    }
   ],
   "source": [
    "# Log odds ratio\n",
    "np.log2(LapP_F) - np.log2(LapN_F)"
   ]
  },
  {
   "cell_type": "code",
   "execution_count": null,
   "metadata": {
    "collapsed": true
   },
   "outputs": [],
   "source": []
  }
 ],
 "metadata": {
  "kernelspec": {
   "display_name": "Python 2",
   "language": "python",
   "name": "python2"
  },
  "language_info": {
   "codemirror_mode": {
    "name": "ipython",
    "version": 2
   },
   "file_extension": ".py",
   "mimetype": "text/x-python",
   "name": "python",
   "nbconvert_exporter": "python",
   "pygments_lexer": "ipython2",
   "version": "2.7.6"
  }
 },
 "nbformat": 4,
 "nbformat_minor": 0
}
