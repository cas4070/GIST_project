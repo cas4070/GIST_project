{
 "cells": [
  {
   "cell_type": "code",
   "execution_count": 134,
   "metadata": {
    "collapsed": false
   },
   "outputs": [],
   "source": [
    "import numpy as np\n",
    "import pandas as pd\n",
    "from datetime import datetime\n",
    "from __future__ import division"
   ]
  },
  {
   "cell_type": "code",
   "execution_count": 42,
   "metadata": {
    "collapsed": true
   },
   "outputs": [],
   "source": [
    "gold = pd.read_table(\"/DAS_Storage1/aschoi/data/Drug_Repositioning/8_new_training/7_2_1_tn_whole_descriptor_removed.tsv\")"
   ]
  },
  {
   "cell_type": "code",
   "execution_count": 62,
   "metadata": {
    "collapsed": false
   },
   "outputs": [
    {
     "data": {
      "text/html": [
       "<div>\n",
       "<table border=\"1\" class=\"dataframe\">\n",
       "  <thead>\n",
       "    <tr style=\"text-align: right;\">\n",
       "      <th></th>\n",
       "      <th>drug_id</th>\n",
       "      <th>disease_id</th>\n",
       "      <th>association</th>\n",
       "      <th>C0008301</th>\n",
       "      <th>C0011603</th>\n",
       "      <th>C0015230</th>\n",
       "      <th>C0016382</th>\n",
       "      <th>C0018681</th>\n",
       "      <th>C0018965</th>\n",
       "      <th>C0020517</th>\n",
       "      <th>...</th>\n",
       "      <th>387585</th>\n",
       "      <th>388165</th>\n",
       "      <th>55219</th>\n",
       "      <th>55973</th>\n",
       "      <th>65264</th>\n",
       "      <th>80350</th>\n",
       "      <th>84624</th>\n",
       "      <th>84722</th>\n",
       "      <th>91851</th>\n",
       "      <th>406216</th>\n",
       "    </tr>\n",
       "  </thead>\n",
       "  <tbody>\n",
       "    <tr>\n",
       "      <th>0</th>\n",
       "      <td>DB00190</td>\n",
       "      <td>102300</td>\n",
       "      <td>1</td>\n",
       "      <td>0</td>\n",
       "      <td>1</td>\n",
       "      <td>1</td>\n",
       "      <td>1</td>\n",
       "      <td>1</td>\n",
       "      <td>0</td>\n",
       "      <td>1</td>\n",
       "      <td>...</td>\n",
       "      <td>0</td>\n",
       "      <td>0</td>\n",
       "      <td>0</td>\n",
       "      <td>0</td>\n",
       "      <td>0</td>\n",
       "      <td>0</td>\n",
       "      <td>0</td>\n",
       "      <td>0</td>\n",
       "      <td>0</td>\n",
       "      <td>0</td>\n",
       "    </tr>\n",
       "    <tr>\n",
       "      <th>1</th>\n",
       "      <td>DB00190</td>\n",
       "      <td>125320</td>\n",
       "      <td>1</td>\n",
       "      <td>0</td>\n",
       "      <td>1</td>\n",
       "      <td>1</td>\n",
       "      <td>1</td>\n",
       "      <td>1</td>\n",
       "      <td>0</td>\n",
       "      <td>1</td>\n",
       "      <td>...</td>\n",
       "      <td>0</td>\n",
       "      <td>0</td>\n",
       "      <td>0</td>\n",
       "      <td>0</td>\n",
       "      <td>0</td>\n",
       "      <td>0</td>\n",
       "      <td>0</td>\n",
       "      <td>0</td>\n",
       "      <td>0</td>\n",
       "      <td>0</td>\n",
       "    </tr>\n",
       "    <tr>\n",
       "      <th>2</th>\n",
       "      <td>DB00190</td>\n",
       "      <td>168100</td>\n",
       "      <td>1</td>\n",
       "      <td>0</td>\n",
       "      <td>1</td>\n",
       "      <td>1</td>\n",
       "      <td>1</td>\n",
       "      <td>1</td>\n",
       "      <td>0</td>\n",
       "      <td>1</td>\n",
       "      <td>...</td>\n",
       "      <td>0</td>\n",
       "      <td>0</td>\n",
       "      <td>0</td>\n",
       "      <td>0</td>\n",
       "      <td>0</td>\n",
       "      <td>0</td>\n",
       "      <td>0</td>\n",
       "      <td>0</td>\n",
       "      <td>0</td>\n",
       "      <td>0</td>\n",
       "    </tr>\n",
       "    <tr>\n",
       "      <th>3</th>\n",
       "      <td>DB00190</td>\n",
       "      <td>168600</td>\n",
       "      <td>1</td>\n",
       "      <td>0</td>\n",
       "      <td>1</td>\n",
       "      <td>1</td>\n",
       "      <td>1</td>\n",
       "      <td>1</td>\n",
       "      <td>0</td>\n",
       "      <td>1</td>\n",
       "      <td>...</td>\n",
       "      <td>0</td>\n",
       "      <td>0</td>\n",
       "      <td>0</td>\n",
       "      <td>0</td>\n",
       "      <td>0</td>\n",
       "      <td>0</td>\n",
       "      <td>0</td>\n",
       "      <td>0</td>\n",
       "      <td>0</td>\n",
       "      <td>0</td>\n",
       "    </tr>\n",
       "    <tr>\n",
       "      <th>4</th>\n",
       "      <td>DB00193</td>\n",
       "      <td>102300</td>\n",
       "      <td>1</td>\n",
       "      <td>0</td>\n",
       "      <td>1</td>\n",
       "      <td>1</td>\n",
       "      <td>1</td>\n",
       "      <td>1</td>\n",
       "      <td>1</td>\n",
       "      <td>1</td>\n",
       "      <td>...</td>\n",
       "      <td>0</td>\n",
       "      <td>0</td>\n",
       "      <td>0</td>\n",
       "      <td>0</td>\n",
       "      <td>0</td>\n",
       "      <td>0</td>\n",
       "      <td>0</td>\n",
       "      <td>0</td>\n",
       "      <td>0</td>\n",
       "      <td>0</td>\n",
       "    </tr>\n",
       "  </tbody>\n",
       "</table>\n",
       "<p>5 rows × 5371 columns</p>\n",
       "</div>"
      ],
      "text/plain": [
       "   drug_id  disease_id  association  C0008301  C0011603  C0015230  C0016382  \\\n",
       "0  DB00190      102300            1         0         1         1         1   \n",
       "1  DB00190      125320            1         0         1         1         1   \n",
       "2  DB00190      168100            1         0         1         1         1   \n",
       "3  DB00190      168600            1         0         1         1         1   \n",
       "4  DB00193      102300            1         0         1         1         1   \n",
       "\n",
       "   C0018681  C0018965  C0020517   ...    387585  388165  55219  55973  65264  \\\n",
       "0         1         0         1   ...         0       0      0      0      0   \n",
       "1         1         0         1   ...         0       0      0      0      0   \n",
       "2         1         0         1   ...         0       0      0      0      0   \n",
       "3         1         0         1   ...         0       0      0      0      0   \n",
       "4         1         1         1   ...         0       0      0      0      0   \n",
       "\n",
       "   80350  84624  84722  91851  406216  \n",
       "0      0      0      0      0       0  \n",
       "1      0      0      0      0       0  \n",
       "2      0      0      0      0       0  \n",
       "3      0      0      0      0       0  \n",
       "4      0      0      0      0       0  \n",
       "\n",
       "[5 rows x 5371 columns]"
      ]
     },
     "execution_count": 62,
     "metadata": {},
     "output_type": "execute_result"
    }
   ],
   "source": [
    "gold.head()"
   ]
  },
  {
   "cell_type": "code",
   "execution_count": 68,
   "metadata": {
    "collapsed": true
   },
   "outputs": [],
   "source": [
    "df_pos = gold[gold.association == 1]\n",
    "df_neg = gold[gold.association == 0]"
   ]
  },
  {
   "cell_type": "code",
   "execution_count": 69,
   "metadata": {
    "collapsed": true
   },
   "outputs": [],
   "source": [
    "features = gold.columns.values[3:].tolist()\n",
    "pos = df_pos[features]\n",
    "neg = df_neg[features]"
   ]
  },
  {
   "cell_type": "code",
   "execution_count": 70,
   "metadata": {
    "collapsed": false
   },
   "outputs": [],
   "source": [
    "pos_feature_sum = pos.sum(axis=0)\n",
    "neg_feature_sum = neg.sum(axis=0)"
   ]
  },
  {
   "cell_type": "code",
   "execution_count": 71,
   "metadata": {
    "collapsed": false
   },
   "outputs": [],
   "source": [
    "df_pos_sum = pd.DataFrame({'feature' : pos_feature_sum.index.values, 'sum' : pos_feature_sum.values})\n",
    "df_neg_sum = pd.DataFrame({'feature' : neg_feature_sum.index.values, 'sum' : neg_feature_sum.values})"
   ]
  },
  {
   "cell_type": "code",
   "execution_count": 72,
   "metadata": {
    "collapsed": false
   },
   "outputs": [
    {
     "data": {
      "text/plain": [
       "14282"
      ]
     },
     "execution_count": 72,
     "metadata": {},
     "output_type": "execute_result"
    }
   ],
   "source": [
    "len(neg)"
   ]
  },
  {
   "cell_type": "code",
   "execution_count": 73,
   "metadata": {
    "collapsed": true
   },
   "outputs": [],
   "source": [
    "#### Labplace Smoothing\n",
    "numP = 1434 # len(pos)\n",
    "numN = 9293 #len(neg) \n",
    "LapP = (numP +1) / (numP + numN + 2)\n",
    "LapN = (numN +1 ) / (numP + numN + 2)"
   ]
  },
  {
   "cell_type": "code",
   "execution_count": 74,
   "metadata": {
    "collapsed": false
   },
   "outputs": [],
   "source": [
    "# P(Feature | Positive), P(Feature | Negative)\n",
    "LapF_P = (df_pos_sum['sum'] + 1) / (numP + 2)\n",
    "LapF_N = (df_neg_sum['sum'] + 1) / (numN + 2)"
   ]
  },
  {
   "cell_type": "code",
   "execution_count": 75,
   "metadata": {
    "collapsed": false
   },
   "outputs": [],
   "source": [
    "# P(Positive | Featue), P(Negative | Feature) : positive일 경우  (LapF_P * LapP) / (LapF_P * LapP + LapF_N + LapN)\n",
    "LapP_F = (LapF_P * LapP) / (LapF_P * LapP + LapF_N * LapN)\n",
    "LapN_F = (LapF_N * LapN) / (LapF_P * LapP + LapF_N * LapN)"
   ]
  },
  {
   "cell_type": "code",
   "execution_count": 76,
   "metadata": {
    "collapsed": false
   },
   "outputs": [
    {
     "name": "stdout",
     "output_type": "stream",
     "text": [
      "0.996195486834\n",
      "0.996195486834\n"
     ]
    }
   ],
   "source": [
    "print LapP_F.max()\n",
    "print LapP_F.max()"
   ]
  },
  {
   "cell_type": "code",
   "execution_count": 77,
   "metadata": {
    "collapsed": false
   },
   "outputs": [
    {
     "name": "stdout",
     "output_type": "stream",
     "text": [
      "-6.99708787317\n",
      "8.03257320957\n"
     ]
    }
   ],
   "source": [
    "# Log odds ratio\n",
    "odds = np.log2(LapP_F) - np.log2(LapN_F)\n",
    "print odds.min()\n",
    "print odds.max()"
   ]
  },
  {
   "cell_type": "code",
   "execution_count": 78,
   "metadata": {
    "collapsed": false,
    "scrolled": true
   },
   "outputs": [
    {
     "data": {
      "text/plain": [
       "<matplotlib.text.Text at 0x7f2430e20250>"
      ]
     },
     "execution_count": 78,
     "metadata": {},
     "output_type": "execute_result"
    },
    {
     "data": {
      "image/png": "[encoded data removed]",
      "text/plain": [
       "<matplotlib.figure.Figure at 0x7f23aa420090>"
      ]
     },
     "metadata": {},
     "output_type": "display_data"
    }
   ],
   "source": [
    "import matplotlib.pyplot as plt\n",
    "import numpy as np\n",
    "import plotly.plotly as py\n",
    "%matplotlib inline\n",
    "num_bins = 17\n",
    "plt.hist(odds, num_bins)\n",
    "plt.xticks(np.arange(-8, 9, 1))\n",
    "plt.xlabel(\"odds ratio\")\n",
    "plt.ylabel(\"# of features\")"
   ]
  },
  {
   "cell_type": "code",
   "execution_count": 79,
   "metadata": {
    "collapsed": false
   },
   "outputs": [],
   "source": [
    "df_odds = pd.DataFrame({'feature' : features, 'odds' : odds})"
   ]
  },
  {
   "cell_type": "code",
   "execution_count": 80,
   "metadata": {
    "collapsed": false
   },
   "outputs": [],
   "source": [
    "df_odds.to_csv(\"/home/share/aschoi/nas/users/asolchoi/data/Drug_Repositioning/7_new_association/13_odds_by_feature.tsv\", sep='\\t', index=False)\n",
    "df_odds.to_csv(\"/DAS_Storage1/aschoi/data/Drug_Repositioning/7_new_association/13_odds_by_feature.tsv\", sep='\\t', index=False)"
   ]
  },
  {
   "cell_type": "code",
   "execution_count": 159,
   "metadata": {
    "collapsed": false
   },
   "outputs": [
    {
     "name": "stdout",
     "output_type": "stream",
     "text": [
      "odds>8 start : 2017-03-18 01:13:22\n",
      "    len(filtered) :  2\n",
      "    len(tn) : 14282\n",
      "odds>1 end : 2017-03-18 01:13:23\n",
      "odds>7 start : 2017-03-18 01:13:23\n",
      "    len(filtered) :  144\n",
      "    len(tn) : 14282\n",
      "odds>143 end : 2017-03-18 01:13:58\n",
      "odds>6 start : 2017-03-18 01:13:58\n",
      "    len(filtered) :  137\n",
      "    len(tn) : 14282\n",
      "odds>136 end : 2017-03-18 01:14:32\n",
      "odds>5 start : 2017-03-18 01:14:32\n",
      "    len(filtered) :  223\n",
      "    len(tn) : 14282\n",
      "odds>222 end : 2017-03-18 01:15:27\n",
      "odds>4 start : 2017-03-18 01:15:27\n",
      "    len(filtered) :  823\n",
      "    len(tn) : 14282\n",
      "odds>822 end : 2017-03-18 01:18:31\n",
      "odds>3 start : 2017-03-18 01:18:31\n",
      "    len(filtered) :  613\n",
      "    len(tn) : 14279\n",
      "odds>612 end : 2017-03-18 01:20:47\n",
      "odds>2 start : 2017-03-18 01:20:47\n",
      "    len(filtered) :  757\n",
      "    len(tn) : 14274\n",
      "odds>756 end : 2017-03-18 01:23:33\n",
      "odds>1 start : 2017-03-18 01:23:33\n",
      "    len(filtered) :  158\n",
      "    len(tn) : 13982\n",
      "odds>157 end : 2017-03-18 01:24:07\n",
      "odds>0 start : 2017-03-18 01:24:07\n",
      "    len(filtered) :  27\n",
      "    len(tn) : 11719\n",
      "odds>26 end : 2017-03-18 01:24:12\n"
     ]
    }
   ],
   "source": [
    "# odds ratio 구간별로 얼마나 많은 negative association을 제거하는지 확인해봄.\n",
    "for i in range(8, -1, -1):\n",
    "    print 'odds>{} start : '.format(i) + datetime.now().strftime('%Y-%m-%d %H:%M:%S')\n",
    "    filtered = df_odds[(df_odds.odds > i) & (df_odds.odds < i+1)]\n",
    "    feature_ids = filtered['feature'].tolist()\n",
    "    print \"    len(filtered) :  {}\".format(len(feature_ids))\n",
    "    for j in range(len(feature_ids)):\n",
    "        feature_id = feature_ids[i]\n",
    "        if i ==0:\n",
    "            temp = df_neg[df_neg[feature_id] == 0] # positive feature가 0인 negative association\n",
    "        else:\n",
    "            temp = temp[temp[feature_id] ==0 ]\n",
    "    print \"    len(tn) : {}\".format(len(temp))\n",
    "    print 'odds>{} end : '.format(i) + datetime.now().strftime('%Y-%m-%d %H:%M:%S')"
   ]
  },
  {
   "cell_type": "code",
   "execution_count": 166,
   "metadata": {
    "collapsed": false
   },
   "outputs": [
    {
     "name": "stdout",
     "output_type": "stream",
     "text": [
      "2884\n"
     ]
    }
   ],
   "source": [
    "#positive feature를 전부 고려했을 시의 negative association\n",
    "filtered = df_odds[df_odds.odds > 0]\n",
    "feature_ids = filtered['feature'].tolist()\n",
    "print len(filtered)\n",
    "for i in range(len(filtered)):\n",
    "    feature_id = feature_ids[i]\n",
    "    if i ==0 :\n",
    "        temp = df_neg[df_neg[feature_id] == 0] # positive feature가 0인 negative association \n",
    "    else:\n",
    "        temp = temp[temp[feature_id] == 0]"
   ]
  },
  {
   "cell_type": "code",
   "execution_count": 168,
   "metadata": {
    "collapsed": false
   },
   "outputs": [
    {
     "data": {
      "text/plain": [
       "11556"
      ]
     },
     "execution_count": 168,
     "metadata": {},
     "output_type": "execute_result"
    }
   ],
   "source": [
    "len(temp)"
   ]
  },
  {
   "cell_type": "code",
   "execution_count": null,
   "metadata": {
    "collapsed": true
   },
   "outputs": [],
   "source": []
  }
 ],
 "metadata": {
  "kernelspec": {
   "display_name": "Python 2",
   "language": "python",
   "name": "python2"
  },
  "language_info": {
   "codemirror_mode": {
    "name": "ipython",
    "version": 2
   },
   "file_extension": ".py",
   "mimetype": "text/x-python",
   "name": "python",
   "nbconvert_exporter": "python",
   "pygments_lexer": "ipython2",
   "version": "2.7.6"
  }
 },
 "nbformat": 4,
 "nbformat_minor": 0
}
