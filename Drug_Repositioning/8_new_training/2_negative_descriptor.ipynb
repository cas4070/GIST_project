{
 "cells": [
  {
   "cell_type": "code",
   "execution_count": 1,
   "metadata": {
    "collapsed": true
   },
   "outputs": [],
   "source": [
    "import numpy as np\n",
    "#import matplotlib.pyplot as plt\n",
    "import pandas as pd\n",
    "import time"
   ]
  },
  {
   "cell_type": "code",
   "execution_count": 20,
   "metadata": {
    "collapsed": true
   },
   "outputs": [],
   "source": [
    "#########2017.1.17. positive에는 많고, negative feature에는 적은 feature를 선별해야 함."
   ]
  },
  {
   "cell_type": "code",
   "execution_count": 17,
   "metadata": {
    "collapsed": true
   },
   "outputs": [],
   "source": [
    "gold = pd.read_table(\"/DAS_Storage1/aschoi/data/Drug_Repositioning/8_new_training/2_1_descriptor_combined.tsv\")\n",
    "pos_feature_sum = pd.read_table(\"/DAS_Storage1/aschoi/data/Drug_Repositioning/8_new_training/3_2_pos_feature_sum.tsv\", header=None)\n",
    "neg_feature_sum = pd.read_table(\"/DAS_Storage1/aschoi/data/Drug_Repositioning/8_new_training/3_1_neg_feature_sum.tsv\", header=None)"
   ]
  },
  {
   "cell_type": "code",
   "execution_count": 19,
   "metadata": {
    "collapsed": false
   },
   "outputs": [
    {
     "name": "stdout",
     "output_type": "stream",
     "text": [
      "1434\n",
      "109251\n"
     ]
    }
   ],
   "source": [
    "gold_positive = gold[gold.association == 1]\n",
    "gold_negative = gold[gold.association == 0]\n",
    "print len(gold_positive)\n",
    "print len(gold_negative)"
   ]
  },
  {
   "cell_type": "code",
   "execution_count": 102,
   "metadata": {
    "collapsed": true
   },
   "outputs": [],
   "source": [
    "# pos feature가 negative feature 순위가 어떻게 되는지 확인함. 값이 작을 수록 neg에서도 자주 나오는 feature임.\n",
    "\n",
    "neg_index = list()\n",
    "for i in pos_feature_sum[0]:\n",
    "    idx = neg_feature_sum[0].tolist().index(i)\n",
    "    neg_index.append(idx)"
   ]
  },
  {
   "cell_type": "code",
   "execution_count": 55,
   "metadata": {
    "collapsed": true
   },
   "outputs": [],
   "source": [
    "# neg_feature_sum을 pos_feature_sum의 feature 순위대로 정렬한것\n",
    "\n",
    "#temp = pd.DataFrame({'feature':list(neg_feature_sum[0].values), 'sum':list(neg_feature_sum[1].values)})\n",
    "#temp.feature = temp.feature.astype(\"category\")\n",
    "#temp.feature.cat.set_categories(list(pos_feature_sum[0].values), inplace=True)\n",
    "#temp = temp.sort_values([\"feature\"])\n",
    "#temp.to_csv(\"/home/share/aschoi/nas/users/asolchoi/data/Drug_Repositioning/8_new_training/3_3_neg_sum_by_pos.tsv\", sep=\"\\t\", index=False)\n",
    "\n",
    "#위 결과를 파일로 저장했음. 그 파일을 읽어오기\n",
    "neg_sum_by_pos = pd.read_table(\"/DAS_Storage1/aschoi/data/Drug_Repositioning/8_new_training/3_3__neg_sum_by_pos.tsv\")"
   ]
  },
  {
   "cell_type": "code",
   "execution_count": 4,
   "metadata": {
    "collapsed": false
   },
   "outputs": [],
   "source": [
    "# percentage를 적용할 df 만듬. feature 순위, feature sum, neg-pos feature sum 정보가 있음. absolute values는 rank 뺀걸로 만듬.\n",
    "\n",
    "#positive_rank= range(5798)[1:]\n",
    "#negative_rank = [x+1 for x in neg_index]\n",
    "#abs_difference = abs(pd.Series(positive_rank) - pd.Series(negative_rank))\n",
    "#df = pd.DataFrame(data = {'feature' : list(pos_feature_sum[0].values), \n",
    "#              'positive_sum' : list(pos_feature_sum[1].values), 'positive_cover' : (pos_feature_sum[1]/1434*100).values, 'positive_rank' : positive_rank,\n",
    "#              'negative_sum' : neg_sum_by_pos['sum'].values, 'negative_cover' : (neg_sum_by_pos['sum']/109251*100).values, 'negative_rank' : negative_rank,\n",
    "#              'absolute_difference' : abs_difference.values}, index = range(5797))\n",
    "#df = df[['feature', 'positive_sum', 'positive_cover', 'negative_sum', 'negative_cover', 'positive_rank', 'negative_rank', 'absolute_difference']]\n",
    "\n",
    "#df.to_csv(\"/home/share/aschoi/nas/users/asolchoi/data/Drug_Repositioning/8_new_training/3_4_neg_pos_feature_rank.tsv\", sep='\\t', index=False)\n",
    "#df.to_csv(\"/DAS_Storage1/aschoi/data/Drug_Repositioning/8_new_training/3_4_neg_pos_feature_rank.tsv\", sep='\\t', index=False)\n",
    "\n",
    "#위 결과를 파일로 저장했음. 그 파일을 읽어오기\n",
    "df = pd.read_table(\"/DAS_Storage1/aschoi/data/Drug_Repositioning/8_new_training/3_4_neg_pos_feature_rank.tsv\")"
   ]
  },
  {
   "cell_type": "code",
   "execution_count": 5,
   "metadata": {
    "collapsed": false
   },
   "outputs": [
    {
     "data": {
      "text/html": [
       "<div>\n",
       "<table border=\"1\" class=\"dataframe\">\n",
       "  <thead>\n",
       "    <tr style=\"text-align: right;\">\n",
       "      <th></th>\n",
       "      <th>feature</th>\n",
       "      <th>positive_sum</th>\n",
       "      <th>positive_cover</th>\n",
       "      <th>negative_sum</th>\n",
       "      <th>negative_cover</th>\n",
       "      <th>positive_rank</th>\n",
       "      <th>negative_rank</th>\n",
       "      <th>absolute_difference</th>\n",
       "    </tr>\n",
       "  </thead>\n",
       "  <tbody>\n",
       "    <tr>\n",
       "      <th>1648</th>\n",
       "      <td>5368</td>\n",
       "      <td>63</td>\n",
       "      <td>4.393305</td>\n",
       "      <td>408</td>\n",
       "      <td>0.373452</td>\n",
       "      <td>1649</td>\n",
       "      <td>5740</td>\n",
       "      <td>4091</td>\n",
       "    </tr>\n",
       "  </tbody>\n",
       "</table>\n",
       "</div>"
      ],
      "text/plain": [
       "     feature  positive_sum  positive_cover  negative_sum  negative_cover  \\\n",
       "1648    5368            63        4.393305           408        0.373452   \n",
       "\n",
       "      positive_rank  negative_rank  absolute_difference  \n",
       "1648           1649           5740                 4091  "
      ]
     },
     "execution_count": 5,
     "metadata": {},
     "output_type": "execute_result"
    }
   ],
   "source": [
    "sorted_df = df.sort_values(by = 'absolute_difference', ascending = False)\n",
    "sorted_df.head(1)"
   ]
  },
  {
   "cell_type": "code",
   "execution_count": 123,
   "metadata": {
    "collapsed": false
   },
   "outputs": [
    {
     "name": "stdout",
     "output_type": "stream",
     "text": [
      "58\n",
      "58\n"
     ]
    },
    {
     "data": {
      "text/html": [
       "<div>\n",
       "<table border=\"1\" class=\"dataframe\">\n",
       "  <thead>\n",
       "    <tr style=\"text-align: right;\">\n",
       "      <th></th>\n",
       "      <th>feature</th>\n",
       "      <th>positive_sum</th>\n",
       "      <th>positive_cover</th>\n",
       "      <th>negative_sum</th>\n",
       "      <th>negative_cover</th>\n",
       "      <th>positive_rank</th>\n",
       "      <th>negative_rank</th>\n",
       "      <th>absolute_difference</th>\n",
       "    </tr>\n",
       "  </thead>\n",
       "  <tbody>\n",
       "    <tr>\n",
       "      <th>939</th>\n",
       "      <td>2006</td>\n",
       "      <td>136</td>\n",
       "      <td>9.483961</td>\n",
       "      <td>806</td>\n",
       "      <td>0.737751</td>\n",
       "      <td>940</td>\n",
       "      <td>3982</td>\n",
       "      <td>3042</td>\n",
       "    </tr>\n",
       "    <tr>\n",
       "      <th>927</th>\n",
       "      <td>10928</td>\n",
       "      <td>136</td>\n",
       "      <td>9.483961</td>\n",
       "      <td>806</td>\n",
       "      <td>0.737751</td>\n",
       "      <td>928</td>\n",
       "      <td>3974</td>\n",
       "      <td>3046</td>\n",
       "    </tr>\n",
       "    <tr>\n",
       "      <th>920</th>\n",
       "      <td>2863</td>\n",
       "      <td>136</td>\n",
       "      <td>9.483961</td>\n",
       "      <td>806</td>\n",
       "      <td>0.737751</td>\n",
       "      <td>921</td>\n",
       "      <td>3992</td>\n",
       "      <td>3071</td>\n",
       "    </tr>\n",
       "    <tr>\n",
       "      <th>921</th>\n",
       "      <td>27347</td>\n",
       "      <td>136</td>\n",
       "      <td>9.483961</td>\n",
       "      <td>806</td>\n",
       "      <td>0.737751</td>\n",
       "      <td>922</td>\n",
       "      <td>3991</td>\n",
       "      <td>3069</td>\n",
       "    </tr>\n",
       "    <tr>\n",
       "      <th>919</th>\n",
       "      <td>27020</td>\n",
       "      <td>136</td>\n",
       "      <td>9.483961</td>\n",
       "      <td>806</td>\n",
       "      <td>0.737751</td>\n",
       "      <td>920</td>\n",
       "      <td>3989</td>\n",
       "      <td>3069</td>\n",
       "    </tr>\n",
       "  </tbody>\n",
       "</table>\n",
       "</div>"
      ],
      "text/plain": [
       "    feature  positive_sum  positive_cover  negative_sum  negative_cover  \\\n",
       "939    2006           136        9.483961           806        0.737751   \n",
       "927   10928           136        9.483961           806        0.737751   \n",
       "920    2863           136        9.483961           806        0.737751   \n",
       "921   27347           136        9.483961           806        0.737751   \n",
       "919   27020           136        9.483961           806        0.737751   \n",
       "\n",
       "     positive_rank  negative_rank  absolute_difference  \n",
       "939            940           3982                 3042  \n",
       "927            928           3974                 3046  \n",
       "920            921           3992                 3071  \n",
       "921            922           3991                 3069  \n",
       "919            920           3989                 3069  "
      ]
     },
     "execution_count": 123,
     "metadata": {},
     "output_type": "execute_result"
    }
   ],
   "source": [
    "over_cutoff = sorted_df[:int(round(len(sorted_df)*0.01))]\n",
    "print len(over_cutoff)\n",
    "print len(over_cutoff[over_cutoff.positive_rank < over_cutoff.negative_rank])\n",
    "over_cutoff[over_cutoff.positive_rank < over_cutoff.negative_rank].sort_values(by = 'positive_cover', ascending = False).head(5)"
   ]
  },
  {
   "cell_type": "code",
   "execution_count": 125,
   "metadata": {
    "collapsed": false
   },
   "outputs": [
    {
     "name": "stdout",
     "output_type": "stream",
     "text": [
      "5797\n"
     ]
    },
    {
     "data": {
      "text/html": [
       "<div>\n",
       "<table border=\"1\" class=\"dataframe\">\n",
       "  <thead>\n",
       "    <tr style=\"text-align: right;\">\n",
       "      <th></th>\n",
       "      <th>feature</th>\n",
       "      <th>sum</th>\n",
       "    </tr>\n",
       "  </thead>\n",
       "  <tbody>\n",
       "    <tr>\n",
       "      <th>0</th>\n",
       "      <td>C0027497</td>\n",
       "      <td>91814</td>\n",
       "    </tr>\n",
       "  </tbody>\n",
       "</table>\n",
       "</div>"
      ],
      "text/plain": [
       "    feature    sum\n",
       "0  C0027497  91814"
      ]
     },
     "execution_count": 125,
     "metadata": {},
     "output_type": "execute_result"
    }
   ],
   "source": [
    "print len(neg_sum_by_pos)\n",
    "neg_sum_by_pos.head(1)"
   ]
  },
  {
   "cell_type": "code",
   "execution_count": 2,
   "metadata": {
    "collapsed": false
   },
   "outputs": [],
   "source": [
    "# percentage를 적용할 df 만듬. feature 순위, feature sum, neg-pos feature sum 정보가 있음. absolute values는  ocver 범위 뺀걸로 만듬.\n",
    "\n",
    "#positive_rank= range(5798)[1:]\n",
    "#negative_rank = [x+1 for x in neg_index]\n",
    "#positive_cover = (pos_feature_sum[1]/1434*100).values\n",
    "#negative_cover = (neg_sum_by_pos['sum']/109251*100).values\n",
    "#abs_difference2 = abs(pd.Series(positive_cover) - pd.Series(negative_cover))\n",
    "#df2 = pd.DataFrame(data = {'feature' : list(pos_feature_sum[0].values), \n",
    "#              'positive_sum' : list(pos_feature_sum[1].values), 'positive_cover' : positive_cover, 'positive_rank' : positive_rank,\n",
    "#              'negative_sum' : neg_sum_by_pos['sum'].values, 'negative_cover' : negative_cover, 'negative_rank' : negative_rank,\n",
    "#              'absolute_difference' : abs_difference2.values}, index = range(5797))\n",
    "#df2 = df2[['feature', 'positive_sum', 'positive_cover', 'negative_sum', 'negative_cover', 'positive_rank', 'negative_rank', 'absolute_difference']]\n",
    "\n",
    "#df2.to_csv(\"/home/share/aschoi/nas/users/asolchoi/data/Drug_Repositioning/8_new_training/3_5_neg_pos_feature_percent.tsv\", sep='\\t', index=False)\n",
    "#df2.to_csv(\"/DAS_Storage1/aschoi/data/Drug_Repositioning/8_new_training/3_5_neg_pos_feature_percent.tsv\", sep='\\t', index=False)\n",
    "\n",
    "#위 결과를 파일로 저장했음. 그 파일을 읽어오기\n",
    "df2 = pd.read_table(\"/DAS_Storage1/aschoi/data/Drug_Repositioning/8_new_training/3_5_neg_pos_feature_percent.tsv\")"
   ]
  },
  {
   "cell_type": "code",
   "execution_count": 6,
   "metadata": {
    "collapsed": false
   },
   "outputs": [
    {
     "name": "stdout",
     "output_type": "stream",
     "text": [
      "5797\n"
     ]
    },
    {
     "data": {
      "text/html": [
       "<div>\n",
       "<table border=\"1\" class=\"dataframe\">\n",
       "  <thead>\n",
       "    <tr style=\"text-align: right;\">\n",
       "      <th></th>\n",
       "      <th>feature</th>\n",
       "      <th>positive_sum</th>\n",
       "      <th>positive_cover</th>\n",
       "      <th>negative_sum</th>\n",
       "      <th>negative_cover</th>\n",
       "      <th>positive_rank</th>\n",
       "      <th>negative_rank</th>\n",
       "      <th>absolute_difference</th>\n",
       "    </tr>\n",
       "  </thead>\n",
       "  <tbody>\n",
       "    <tr>\n",
       "      <th>171</th>\n",
       "      <td>7124</td>\n",
       "      <td>441</td>\n",
       "      <td>30.753138</td>\n",
       "      <td>14631</td>\n",
       "      <td>13.392097</td>\n",
       "      <td>172</td>\n",
       "      <td>515</td>\n",
       "      <td>17.361041</td>\n",
       "    </tr>\n",
       "  </tbody>\n",
       "</table>\n",
       "</div>"
      ],
      "text/plain": [
       "    feature  positive_sum  positive_cover  negative_sum  negative_cover  \\\n",
       "171    7124           441       30.753138         14631       13.392097   \n",
       "\n",
       "     positive_rank  negative_rank  absolute_difference  \n",
       "171            172            515            17.361041  "
      ]
     },
     "execution_count": 6,
     "metadata": {},
     "output_type": "execute_result"
    }
   ],
   "source": [
    "sorted_df2 = df2.sort_values(by = 'absolute_difference', ascending = False)\n",
    "print len(sorted_df)\n",
    "sorted_df2.head(1)"
   ]
  },
  {
   "cell_type": "code",
   "execution_count": 7,
   "metadata": {
    "collapsed": false
   },
   "outputs": [
    {
     "name": "stdout",
     "output_type": "stream",
     "text": [
      "6\n",
      "6\n"
     ]
    },
    {
     "data": {
      "text/html": [
       "<div>\n",
       "<table border=\"1\" class=\"dataframe\">\n",
       "  <thead>\n",
       "    <tr style=\"text-align: right;\">\n",
       "      <th></th>\n",
       "      <th>feature</th>\n",
       "      <th>positive_sum</th>\n",
       "      <th>positive_cover</th>\n",
       "      <th>negative_sum</th>\n",
       "      <th>negative_cover</th>\n",
       "      <th>positive_rank</th>\n",
       "      <th>negative_rank</th>\n",
       "      <th>absolute_difference</th>\n",
       "    </tr>\n",
       "  </thead>\n",
       "  <tbody>\n",
       "    <tr>\n",
       "      <th>171</th>\n",
       "      <td>7124</td>\n",
       "      <td>441</td>\n",
       "      <td>30.753138</td>\n",
       "      <td>14631</td>\n",
       "      <td>13.392097</td>\n",
       "      <td>172</td>\n",
       "      <td>515</td>\n",
       "      <td>17.361041</td>\n",
       "    </tr>\n",
       "    <tr>\n",
       "      <th>230</th>\n",
       "      <td>7040</td>\n",
       "      <td>380</td>\n",
       "      <td>26.499303</td>\n",
       "      <td>10453</td>\n",
       "      <td>9.567876</td>\n",
       "      <td>231</td>\n",
       "      <td>701</td>\n",
       "      <td>16.931427</td>\n",
       "    </tr>\n",
       "    <tr>\n",
       "      <th>259</th>\n",
       "      <td>1906</td>\n",
       "      <td>356</td>\n",
       "      <td>24.825662</td>\n",
       "      <td>9064</td>\n",
       "      <td>8.296492</td>\n",
       "      <td>260</td>\n",
       "      <td>792</td>\n",
       "      <td>16.529171</td>\n",
       "    </tr>\n",
       "    <tr>\n",
       "      <th>275</th>\n",
       "      <td>3162</td>\n",
       "      <td>341</td>\n",
       "      <td>23.779637</td>\n",
       "      <td>8137</td>\n",
       "      <td>7.447987</td>\n",
       "      <td>276</td>\n",
       "      <td>874</td>\n",
       "      <td>16.331651</td>\n",
       "    </tr>\n",
       "    <tr>\n",
       "      <th>392</th>\n",
       "      <td>1813</td>\n",
       "      <td>269</td>\n",
       "      <td>18.758717</td>\n",
       "      <td>4441</td>\n",
       "      <td>4.064951</td>\n",
       "      <td>393</td>\n",
       "      <td>1361</td>\n",
       "      <td>14.693766</td>\n",
       "    </tr>\n",
       "    <tr>\n",
       "      <th>412</th>\n",
       "      <td>5020</td>\n",
       "      <td>261</td>\n",
       "      <td>18.200837</td>\n",
       "      <td>3036</td>\n",
       "      <td>2.778922</td>\n",
       "      <td>413</td>\n",
       "      <td>1644</td>\n",
       "      <td>15.421915</td>\n",
       "    </tr>\n",
       "  </tbody>\n",
       "</table>\n",
       "</div>"
      ],
      "text/plain": [
       "    feature  positive_sum  positive_cover  negative_sum  negative_cover  \\\n",
       "171    7124           441       30.753138         14631       13.392097   \n",
       "230    7040           380       26.499303         10453        9.567876   \n",
       "259    1906           356       24.825662          9064        8.296492   \n",
       "275    3162           341       23.779637          8137        7.447987   \n",
       "392    1813           269       18.758717          4441        4.064951   \n",
       "412    5020           261       18.200837          3036        2.778922   \n",
       "\n",
       "     positive_rank  negative_rank  absolute_difference  \n",
       "171            172            515            17.361041  \n",
       "230            231            701            16.931427  \n",
       "259            260            792            16.529171  \n",
       "275            276            874            16.331651  \n",
       "392            393           1361            14.693766  \n",
       "412            413           1644            15.421915  "
      ]
     },
     "execution_count": 7,
     "metadata": {},
     "output_type": "execute_result"
    }
   ],
   "source": [
    "over_cutoff2 = sorted_df2[:int(round(len(sorted_df)*0.001))]\n",
    "print len(over_cutoff2)\n",
    "# a나 b나 같은 결과임.\n",
    "#a = over_cutoff2[over_cutoff2.positive_rank < over_cutoff2.negative_rank].sort_values(by = 'positive_cover', ascending = False)\n",
    "b = over_cutoff2[over_cutoff2.positive_cover > over_cutoff2.negative_cover].sort_values(by = 'positive_cover', ascending = False)\n",
    "print len(b)\n",
    "b.head(10)"
   ]
  },
  {
   "cell_type": "code",
   "execution_count": 148,
   "metadata": {
    "collapsed": false
   },
   "outputs": [],
   "source": [
    "positive_feature = b['feature']\n",
    "positive_feature.index = range(len(positive_feature))\n",
    "for i in range(len(positive_feature)):\n",
    "    feature_id = positive_feature[i]\n",
    "    if i == 0 :\n",
    "        temp = gold_negative[gold_negative[feature_id] == 0]\n",
    "    else :\n",
    "        temp = temp[temp[feature_id] == 0]\n",
    "#길이 제한 없음 최종 temp가 0이면 0되기 전에 끝내야함."
   ]
  },
  {
   "cell_type": "code",
   "execution_count": 149,
   "metadata": {
    "collapsed": false
   },
   "outputs": [
    {
     "name": "stdout",
     "output_type": "stream",
     "text": [
      "109251\n",
      "83946\n"
     ]
    },
    {
     "data": {
      "text/html": [
       "<div>\n",
       "<table border=\"1\" class=\"dataframe\">\n",
       "  <thead>\n",
       "    <tr style=\"text-align: right;\">\n",
       "      <th></th>\n",
       "      <th>drug_id</th>\n",
       "      <th>disease_id</th>\n",
       "      <th>association</th>\n",
       "      <th>C0000737</th>\n",
       "      <th>C0000786</th>\n",
       "      <th>C0001824</th>\n",
       "      <th>C0002170</th>\n",
       "      <th>C0002453</th>\n",
       "      <th>C0002622</th>\n",
       "      <th>C0002792</th>\n",
       "      <th>...</th>\n",
       "      <th>387585</th>\n",
       "      <th>388165</th>\n",
       "      <th>55219</th>\n",
       "      <th>55973</th>\n",
       "      <th>65264</th>\n",
       "      <th>80350</th>\n",
       "      <th>84624</th>\n",
       "      <th>84722</th>\n",
       "      <th>91851</th>\n",
       "      <th>406216</th>\n",
       "    </tr>\n",
       "  </thead>\n",
       "  <tbody>\n",
       "    <tr>\n",
       "      <th>1</th>\n",
       "      <td>DB00190</td>\n",
       "      <td>102400</td>\n",
       "      <td>0</td>\n",
       "      <td>1</td>\n",
       "      <td>0</td>\n",
       "      <td>1</td>\n",
       "      <td>1</td>\n",
       "      <td>0</td>\n",
       "      <td>0</td>\n",
       "      <td>0</td>\n",
       "      <td>...</td>\n",
       "      <td>0</td>\n",
       "      <td>0</td>\n",
       "      <td>0</td>\n",
       "      <td>0</td>\n",
       "      <td>0</td>\n",
       "      <td>0</td>\n",
       "      <td>0</td>\n",
       "      <td>0</td>\n",
       "      <td>0</td>\n",
       "      <td>0</td>\n",
       "    </tr>\n",
       "  </tbody>\n",
       "</table>\n",
       "<p>1 rows × 5800 columns</p>\n",
       "</div>"
      ],
      "text/plain": [
       "   drug_id  disease_id  association  C0000737  C0000786  C0001824  C0002170  \\\n",
       "1  DB00190      102400            0         1         0         1         1   \n",
       "\n",
       "   C0002453  C0002622  C0002792   ...    387585  388165  55219  55973  65264  \\\n",
       "1         0         0         0   ...         0       0      0      0      0   \n",
       "\n",
       "   80350  84624  84722  91851  406216  \n",
       "1      0      0      0      0       0  \n",
       "\n",
       "[1 rows x 5800 columns]"
      ]
     },
     "execution_count": 149,
     "metadata": {},
     "output_type": "execute_result"
    }
   ],
   "source": [
    "print len(gold_negative)\n",
    "print len(temp)\n",
    "temp.head(1)"
   ]
  },
  {
   "cell_type": "code",
   "execution_count": 150,
   "metadata": {
    "collapsed": false
   },
   "outputs": [],
   "source": [
    "#combine positive, negative\n",
    "temp.index = range(len(temp))\n",
    "frames = [gold_positive, temp]\n",
    "combined = pd.concat(frames, axis = 0)\n",
    "combined.to_csv(\"/DAS_Storage1/aschoi/data/Drug_Repositioning/8_new_training/4_gold_descriptor_revised_0.1%.tsv\", sep='\\t', index=False)\n",
    "combined.to_csv(\"/home/share/aschoi/nas/users/asolchoi/data/Drug_Repositioning/8_new_training/4_gold_descriptor_revised_0.1%.tsv\", sep='\\t', index=False)"
   ]
  },
  {
   "cell_type": "code",
   "execution_count": null,
   "metadata": {
    "collapsed": true
   },
   "outputs": [],
   "source": []
  },
  {
   "cell_type": "code",
   "execution_count": null,
   "metadata": {
    "collapsed": true
   },
   "outputs": [],
   "source": []
  },
  {
   "cell_type": "code",
   "execution_count": null,
   "metadata": {
    "collapsed": true
   },
   "outputs": [],
   "source": []
  },
  {
   "cell_type": "code",
   "execution_count": null,
   "metadata": {
    "collapsed": true
   },
   "outputs": [],
   "source": [
    "# 2017.1.16. 잘못된 descriptor (pos_feature_sum, neg_feature_sum 구하는 부분\n",
    "\n",
    ")\n",
    "\n",
    "gold = pd.read_table(\"/DAS_Storage1/aschoi/data/Drug_Repositioning/8_new_training/2_1_descriptor_combined.tsv\")\n",
    "indep = pd.read_table(\"/DAS_Storage1/aschoi/data/Drug_Repositioning/8_new_training/2_indep_asso_descriptor.tsv\")\n",
    "herb = pd.read_table(\"/DAS_Storage1/aschoi/data/Drug_Repositioning/8_new_training/3_herb_asso_descriptor.tsv\")\n",
    "\n",
    "gold_positive = gold[gold.association == 1]\n",
    "gold_negative = gold[gold.association == 0]\n",
    "print len(gold_positive)\n",
    "print len(gold_negative)\n",
    "\n",
    "\n",
    "features = gold.columns.values[3:].tolist()\n",
    "df_positive_feature = gold_positive[features]\n",
    "df_negative_feature = gold_negative[features]\n",
    "pos_feature_sum = df_positive_feature.sum(axis=0)\n",
    "neg_feature_sum = df_negative_feature.sum(axis=0)\n",
    "\n",
    "pos_feature_sum = pos_feature_sum.sort_values(ascending=False)\n",
    "neg_feature_sum = neg_feature_sum.sort_values(ascending=False)\n",
    "\n",
    "positive_length = len(gold_positive)\n",
    "percentage = 70\n",
    "cutoff = positive_length * percentage / 100\n",
    "filtered = pos_feature_sum[pos_feature_sum>cutoff]\n",
    "print cutoff\n",
    "print len(filtered)\n",
    "\n",
    "for i in range(len(filtered.index)):\n",
    "    feature_id = filtered.index[i]\n",
    "    if i == 0 :\n",
    "        temp = gold_negative[gold_negative[feature_id] == 0]\n",
    "    else :\n",
    "        temp = temp[temp[feature_id] == 0]\n",
    "#길이 제한 없음 최종 temp가 0이면 0되기 전에 끝내야함.\n",
    "\n",
    "print len(temp)\n",
    "\n",
    "#combine positive, negative #이거 잘못된거임.\n",
    "temp.index = range(len(temp))\n",
    "frames = [gold_positive, temp]\n",
    "combined = pd.concat(frames, axis = 0)\n",
    "combined.to_csv(\"/DAS_Storage1/aschoi/data/Drug_Repositioning/8_new_training/4_gold_descriptor_revised.tsv\", sep='\\t', index=False)\n",
    "combined.to_csv(\"/home/share/aschoi/nas/users/asolchoi/data/Drug_Repositioning/8_new_training/4_gold_descriptor_revised.tsv\", sep='\\t', index=False)\n",
    "\n"
   ]
  }
 ],
 "metadata": {
  "kernelspec": {
   "display_name": "Python 2",
   "language": "python",
   "name": "python2"
  },
  "language_info": {
   "codemirror_mode": {
    "name": "ipython",
    "version": 2
   },
   "file_extension": ".py",
   "mimetype": "text/x-python",
   "name": "python",
   "nbconvert_exporter": "python",
   "pygments_lexer": "ipython2",
   "version": "2.7.6"
  }
 },
 "nbformat": 4,
 "nbformat_minor": 0
}
