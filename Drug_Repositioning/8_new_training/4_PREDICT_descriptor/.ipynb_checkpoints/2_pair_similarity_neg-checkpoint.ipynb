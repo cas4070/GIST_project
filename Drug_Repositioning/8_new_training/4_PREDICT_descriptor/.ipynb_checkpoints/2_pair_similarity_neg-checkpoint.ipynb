{
 "cells": [
  {
   "cell_type": "code",
   "execution_count": 5,
   "metadata": {
    "collapsed": true
   },
   "outputs": [],
   "source": [
    "import numpy as np\n",
    "import os\n",
    "import pandas as pd\n",
    "import time\n",
    "from itertools import product\n",
    "import math"
   ]
  },
  {
   "cell_type": "code",
   "execution_count": 7,
   "metadata": {
    "collapsed": false
   },
   "outputs": [
    {
     "name": "stdout",
     "output_type": "stream",
     "text": [
      "1330\n",
      "98163\n"
     ]
    }
   ],
   "source": [
    "drPhe = pd.read_table(\"/DAS_Storage1/aschoi/data/Drug_Repositioning/5_new_drug/new_predict/1_drug_drug_se_sim_mat.tsv\", index_col=0)\n",
    "drStr = pd.read_table(\"/DAS_Storage1/aschoi/data/Drug_Repositioning/5_new_drug/new_predict/1_drug_drug_str_sim_mat.tsv\", index_col=0)\n",
    "diPhe = pd.read_table(\"/DAS_Storage1/aschoi/data/Drug_Repositioning/6_new_disease/new_predict/1_disease_disease_phe_sim_mat.tsv\", index_col=0)\n",
    "#diHpo = pd.read_table(\"/DAS_Storage1/aschoi/data/Drug_Repositioning/6_new_disease/new_predict/1_disease_disease_ge_sim_mat.tsv\", index_col=0)\n",
    "diHpo = pd.read_table(\"/home/share/aschoi/nas/users/asolchoi/data/Drug_Repositioning/6_new_disease/HPO_sim(sqrt, funSimMean,PA)_header.tsv\",index_col=0)\n",
    "new_asso = pd.read_table(\"/DAS_Storage1/aschoi/data/Drug_Repositioning/7_new_association/new_predict/1_gold_learning_asso.tsv\")\n",
    "\n",
    "pos = new_asso[new_asso.association == 1]\n",
    "neg = new_asso[new_asso.association == 0]\n",
    "print len(pos)\n",
    "print len(neg)"
   ]
  },
  {
   "cell_type": "code",
   "execution_count": 3,
   "metadata": {
    "collapsed": false
   },
   "outputs": [
    {
     "name": "stdout",
     "output_type": "stream",
     "text": [
      "start : Mon 04:23:19\n",
      "end : Mon 04:23:30\n"
     ]
    }
   ],
   "source": [
    "neg_li = list()\n",
    "for index, row in neg.iterrows():\n",
    "    query_drug = row['drug_id']\n",
    "    query_disease = row['disease_id']\n",
    "    #query_asso = row['association']\n",
    "    neg_li.append((query_drug, query_disease))#, query_asso))\n",
    "    \n",
    "pos_li = list()\n",
    "for index2, row2 in pos.iterrows():\n",
    "    pos_drug = row2['drug_id']\n",
    "    pos_disease = row2['disease_id']\n",
    "    pos_li.append((pos_drug, pos_disease)) \n",
    "print 'start : ' + time.strftime('%a %H:%M:%S')\n",
    "desc_pair = list(product(neg_li, pos_li))\n",
    "print 'end : ' + time.strftime('%a %H:%M:%S')"
   ]
  },
  {
   "cell_type": "code",
   "execution_count": 4,
   "metadata": {
    "collapsed": false
   },
   "outputs": [
    {
     "name": "stdout",
     "output_type": "stream",
     "text": [
      "start : Mon 04:24:29\n",
      "130556790\n",
      "10000000 : Mon 04:26:08\n"
     ]
    },
    {
     "ename": "KeyboardInterrupt",
     "evalue": "",
     "output_type": "error",
     "traceback": [
      "\u001b[1;31m---------------------------------------------------------------------------\u001b[0m",
      "\u001b[1;31mKeyboardInterrupt\u001b[0m                         Traceback (most recent call last)",
      "\u001b[1;32m<ipython-input-4-99f2dfab613a>\u001b[0m in \u001b[0;36m<module>\u001b[1;34m()\u001b[0m\n\u001b[0;32m      6\u001b[0m \u001b[1;32mfor\u001b[0m \u001b[0mpair\u001b[0m \u001b[1;32min\u001b[0m \u001b[0mdesc_pair\u001b[0m\u001b[1;33m:\u001b[0m\u001b[1;33m\u001b[0m\u001b[0m\n\u001b[0;32m      7\u001b[0m \u001b[1;33m\u001b[0m\u001b[0m\n\u001b[1;32m----> 8\u001b[1;33m         \u001b[0mdrug_pheSim\u001b[0m \u001b[1;33m=\u001b[0m \u001b[0mdrPhe\u001b[0m\u001b[1;33m[\u001b[0m\u001b[0mpair\u001b[0m\u001b[1;33m[\u001b[0m\u001b[1;36m0\u001b[0m\u001b[1;33m]\u001b[0m\u001b[1;33m[\u001b[0m\u001b[1;36m0\u001b[0m\u001b[1;33m]\u001b[0m\u001b[1;33m]\u001b[0m\u001b[1;33m[\u001b[0m\u001b[0mpair\u001b[0m\u001b[1;33m[\u001b[0m\u001b[1;36m1\u001b[0m\u001b[1;33m]\u001b[0m\u001b[1;33m[\u001b[0m\u001b[1;36m0\u001b[0m\u001b[1;33m]\u001b[0m\u001b[1;33m]\u001b[0m\u001b[1;33m\u001b[0m\u001b[0m\n\u001b[0m\u001b[0;32m      9\u001b[0m         \u001b[0mval\u001b[0m\u001b[1;33m.\u001b[0m\u001b[0mappend\u001b[0m\u001b[1;33m(\u001b[0m\u001b[0mdrug_pheSim\u001b[0m\u001b[1;33m)\u001b[0m\u001b[1;33m\u001b[0m\u001b[0m\n\u001b[0;32m     10\u001b[0m         \u001b[0mcnt\u001b[0m \u001b[1;33m=\u001b[0m \u001b[0mcnt\u001b[0m \u001b[1;33m+\u001b[0m\u001b[1;36m1\u001b[0m\u001b[1;33m\u001b[0m\u001b[0m\n",
      "\u001b[1;31mKeyboardInterrupt\u001b[0m: "
     ]
    }
   ],
   "source": [
    "# drPhe(negDrug:posDrug)\n",
    "cnt = 0\n",
    "print 'start : ' + time.strftime('%a %H:%M:%S')\n",
    "val = list()\n",
    "print len(desc_pair)\n",
    "for pair in desc_pair:\n",
    "    \n",
    "        drug_pheSim = drPhe[pair[0][0]][pair[1][0]]\n",
    "        val.append(drug_pheSim)\n",
    "        cnt = cnt +1\n",
    "        if cnt % 10000000 == 0:\n",
    "            print \"{} : \".format(cnt) + time.strftime('%a %H:%M:%S')\n",
    "print 'end : ' + time.strftime('%a %H:%M:%S')\n",
    "print cnt"
   ]
  },
  {
   "cell_type": "code",
   "execution_count": 8,
   "metadata": {
    "collapsed": false
   },
   "outputs": [],
   "source": [
    "drug1 = list()\n",
    "drug2 = list()\n",
    "for pair in desc_pair:\n",
    "    drug1.append(pair[0][0])\n",
    "    drug2.append(pair[1][0])\n",
    "pair_dr_PheSim = pd.DataFrame({'query_drug':drug1,'pos_drug':drug2, 'drPheSim':val})"
   ]
  },
  {
   "cell_type": "code",
   "execution_count": 9,
   "metadata": {
    "collapsed": false
   },
   "outputs": [
    {
     "data": {
      "text/html": [
       "<div>\n",
       "<table border=\"1\" class=\"dataframe\">\n",
       "  <thead>\n",
       "    <tr style=\"text-align: right;\">\n",
       "      <th></th>\n",
       "      <th>drPheSim</th>\n",
       "      <th>pos_drug</th>\n",
       "      <th>query_drug</th>\n",
       "    </tr>\n",
       "  </thead>\n",
       "  <tbody>\n",
       "    <tr>\n",
       "      <th>0</th>\n",
       "      <td>1.000000</td>\n",
       "      <td>DB00659</td>\n",
       "      <td>DB00659</td>\n",
       "    </tr>\n",
       "    <tr>\n",
       "      <th>1</th>\n",
       "      <td>0.802603</td>\n",
       "      <td>DB01193</td>\n",
       "      <td>DB00659</td>\n",
       "    </tr>\n",
       "    <tr>\n",
       "      <th>2</th>\n",
       "      <td>0.802603</td>\n",
       "      <td>DB01193</td>\n",
       "      <td>DB00659</td>\n",
       "    </tr>\n",
       "    <tr>\n",
       "      <th>3</th>\n",
       "      <td>0.795553</td>\n",
       "      <td>DB00316</td>\n",
       "      <td>DB00659</td>\n",
       "    </tr>\n",
       "    <tr>\n",
       "      <th>4</th>\n",
       "      <td>0.795553</td>\n",
       "      <td>DB00316</td>\n",
       "      <td>DB00659</td>\n",
       "    </tr>\n",
       "  </tbody>\n",
       "</table>\n",
       "</div>"
      ],
      "text/plain": [
       "   drPheSim pos_drug query_drug\n",
       "0  1.000000  DB00659    DB00659\n",
       "1  0.802603  DB01193    DB00659\n",
       "2  0.802603  DB01193    DB00659\n",
       "3  0.795553  DB00316    DB00659\n",
       "4  0.795553  DB00316    DB00659"
      ]
     },
     "execution_count": 9,
     "metadata": {},
     "output_type": "execute_result"
    }
   ],
   "source": [
    "pair_dr_PheSim.head()"
   ]
  },
  {
   "cell_type": "code",
   "execution_count": 10,
   "metadata": {
    "collapsed": true
   },
   "outputs": [],
   "source": [
    "pair_dr_PheSim.to_csv(\"/DAS_Storage1/aschoi/data/Drug_Repositioning/8_new_training/new_predict/1_neg_drdr_PheSim.tsv\", sep='\\t', index=False)"
   ]
  },
  {
   "cell_type": "code",
   "execution_count": null,
   "metadata": {
    "collapsed": true
   },
   "outputs": [],
   "source": [
    "# drStr(negDrug:posDrug)\n",
    "cnt = 0\n",
    "print 'start : ' + time.strftime('%a %H:%M:%S')\n",
    "val = list()\n",
    "print len(desc_pair)\n",
    "for pair in desc_pair:\n",
    "        drug_strSim = drStr[pair[0][0]][pair[1][0]]\n",
    "        val.append(drug_strSim)\n",
    "        cnt = cnt +1\n",
    "        if cnt % 10000000 == 0:\n",
    "            print \"{} : \".format(cnt) + time.strftime('%a %H:%M:%S')\n",
    "print 'end : ' + time.strftime('%a %H:%M:%S')\n",
    "print cnt"
   ]
  },
  {
   "cell_type": "code",
   "execution_count": null,
   "metadata": {
    "collapsed": true
   },
   "outputs": [],
   "source": [
    "# diPhe(negDisease:posDisease)\n",
    "cnt = 0\n",
    "print 'start : ' + time.strftime('%a %H:%M:%S')\n",
    "val = list()\n",
    "print len(desc_pair)\n",
    "for pair in desc_pair:\n",
    "        disease_pheSim = diPhe[str(pair[0][1])][pair[1][1]]\n",
    "        val.append(disease_pheSim)\n",
    "        cnt = cnt +1\n",
    "        if cnt % 10000000 == 0:\n",
    "            print \"{} : \".format(cnt) + time.strftime('%a %H:%M:%S')\n",
    "print 'end : ' + time.strftime('%a %H:%M:%S')\n",
    "print cnt"
   ]
  },
  {
   "cell_type": "code",
   "execution_count": 8,
   "metadata": {
    "collapsed": false
   },
   "outputs": [
    {
     "name": "stdout",
     "output_type": "stream",
     "text": [
      "start : Mon 04:33:52\n",
      "130556790\n",
      "10000000 : Mon 04:35:49\n",
      "20000000 : Mon 04:37:44\n",
      "30000000 : Mon 04:39:39\n",
      "end : Mon 04:39:46\n",
      "30556789\n"
     ]
    }
   ],
   "source": [
    "# diHpo(negDisease:posDisease)\n",
    "cnt = 0\n",
    "print 'start : ' + time.strftime('%a %H:%M:%S')\n",
    "val = list()\n",
    "print len(desc_pair)\n",
    "for pair in desc_pair[100000001:]:\n",
    "        disease_hpoSim = diHpo[str(pair[0][1])][pair[1][1]]\n",
    "        val.append(disease_hpoSim)\n",
    "        cnt = cnt +1\n",
    "        if cnt % 10000000 == 0:\n",
    "            print \"{} : \".format(cnt) + time.strftime('%a %H:%M:%S')\n",
    "print 'end : ' + time.strftime('%a %H:%M:%S')\n",
    "print cnt"
   ]
  },
  {
   "cell_type": "code",
   "execution_count": null,
   "metadata": {
    "collapsed": true
   },
   "outputs": [],
   "source": []
  },
  {
   "cell_type": "code",
   "execution_count": 9,
   "metadata": {
    "collapsed": true
   },
   "outputs": [],
   "source": [
    "disease1 = list()\n",
    "disease2 = list()\n",
    "for pair in desc_pair[100000001:]:\n",
    "    disease1.append(pair[0][1])\n",
    "    disease2.append(pair[1][1])\n",
    "disease_hpoSim = pd.DataFrame({'disease1':disease1,'disease2':disease2, 'diHpoSim':val})\n",
    "\n",
    "disease_hpoSim.head()\n",
    "\n",
    "disease_hpoSim.to_csv(\"/DAS_Storage1/aschoi/data/Drug_Repositioning/8_new_training/hpo_neg4.tsv\", sep='\\t', index=False)"
   ]
  },
  {
   "cell_type": "code",
   "execution_count": null,
   "metadata": {
    "collapsed": true
   },
   "outputs": [],
   "source": []
  },
  {
   "cell_type": "code",
   "execution_count": null,
   "metadata": {
    "collapsed": true
   },
   "outputs": [],
   "source": []
  },
  {
   "cell_type": "code",
   "execution_count": null,
   "metadata": {
    "collapsed": true
   },
   "outputs": [],
   "source": [
    "#descriptor 만들기--------------------------------------------------"
   ]
  },
  {
   "cell_type": "code",
   "execution_count": 10,
   "metadata": {
    "collapsed": true
   },
   "outputs": [],
   "source": [
    "pair_di_PheSim = pd.read_table(\"/DAS_Storage1/aschoi/data/Drug_Repositioning/8_new_training/2_similarity_based-PREDICT/1_neg_didi_PheSim.tsv\")\n",
    "pair_dr_StrSim = pd.read_table(\"/DAS_Storage1/aschoi/data/Drug_Repositioning/8_new_training/2_similarity_based-PREDICT/1_neg_drdr_StrSim.tsv\")\n",
    "pair_dr_PheSim = pd.read_table(\"/DAS_Storage1/aschoi/data/Drug_Repositioning/8_new_training/2_similarity_based-PREDICT/1_neg_drdr_PheSim.tsv\")"
   ]
  },
  {
   "cell_type": "code",
   "execution_count": 12,
   "metadata": {
    "collapsed": false
   },
   "outputs": [],
   "source": [
    "#pair_di_HpoSim = pd.read_table(\"/DAS_Storage1/aschoi/data/Drug_Repositioning/8_new_training/new_predict/1_neg_didi_HpoSim.tsv\")\n",
    "pair_di_HpoSim = pd.read_table(\"/DAS_Storage1/aschoi/data/Drug_Repositioning/8_new_training/2_similarity_based-PREDICT/1_didi_HpoSim.tsv\")"
   ]
  },
  {
   "cell_type": "code",
   "execution_count": 14,
   "metadata": {
    "collapsed": false
   },
   "outputs": [
    {
     "name": "stdout",
     "output_type": "stream",
     "text": [
      "130556790\n",
      "130556790\n",
      "130556790\n",
      "130556790\n"
     ]
    }
   ],
   "source": [
    "print len(pair_di_HpoSim)\n",
    "print len(pair_di_PheSim)\n",
    "print len(pair_dr_StrSim)\n",
    "print len(pair_dr_PheSim)"
   ]
  },
  {
   "cell_type": "code",
   "execution_count": 15,
   "metadata": {
    "collapsed": true
   },
   "outputs": [],
   "source": [
    "# drStr + diHpo\n",
    "temp = pd.concat([pair_dr_StrSim, pair_di_HpoSim], axis=1)\n",
    "drStr_diHpo = temp[['query_drug', 'disease1', 'pos_drug', 'disease2', 'drStrSim', 'diHpoSim']]\n",
    "del temp\n",
    "drStr_diHpo['drStr_diHpo'] = np.sqrt(drStr_diHpo['drStrSim'] * drStr_diHpo['diHpoSim'])\n",
    "#drStr_diHpo = drStr_diHpo[~((drStr_diHpo.drug1 == drStr_diHpo.drug2) &(drStr_diHpo.disease1 == drStr_diHpo.disease2))]\n",
    "sub_drStr_diHpo = drStr_diHpo[['query_drug', 'disease1', 'pos_drug','disease2', 'drStr_diHpo']]\n",
    "desc = sub_drStr_diHpo.groupby(['query_drug', 'disease1'])[['drStr_diHpo']].max()"
   ]
  },
  {
   "cell_type": "code",
   "execution_count": 23,
   "metadata": {
    "collapsed": false
   },
   "outputs": [
    {
     "data": {
      "text/html": [
       "<div>\n",
       "<table border=\"1\" class=\"dataframe\">\n",
       "  <thead>\n",
       "    <tr style=\"text-align: right;\">\n",
       "      <th></th>\n",
       "      <th></th>\n",
       "      <th>drStr_diHpo</th>\n",
       "    </tr>\n",
       "    <tr>\n",
       "      <th>query_drug</th>\n",
       "      <th>disease1</th>\n",
       "      <th></th>\n",
       "    </tr>\n",
       "  </thead>\n",
       "  <tbody>\n",
       "    <tr>\n",
       "      <th rowspan=\"5\" valign=\"top\">DB00114</th>\n",
       "      <th>102300</th>\n",
       "      <td>0.502454</td>\n",
       "    </tr>\n",
       "    <tr>\n",
       "      <th>102400</th>\n",
       "      <td>0.407394</td>\n",
       "    </tr>\n",
       "    <tr>\n",
       "      <th>102500</th>\n",
       "      <td>0.509175</td>\n",
       "    </tr>\n",
       "    <tr>\n",
       "      <th>103780</th>\n",
       "      <td>0.523635</td>\n",
       "    </tr>\n",
       "    <tr>\n",
       "      <th>104130</th>\n",
       "      <td>inf</td>\n",
       "    </tr>\n",
       "  </tbody>\n",
       "</table>\n",
       "</div>"
      ],
      "text/plain": [
       "                     drStr_diHpo\n",
       "query_drug disease1             \n",
       "DB00114    102300       0.502454\n",
       "           102400       0.407394\n",
       "           102500       0.509175\n",
       "           103780       0.523635\n",
       "           104130            inf"
      ]
     },
     "execution_count": 23,
     "metadata": {},
     "output_type": "execute_result"
    }
   ],
   "source": [
    "desc.head()"
   ]
  },
  {
   "cell_type": "code",
   "execution_count": 24,
   "metadata": {
    "collapsed": false
   },
   "outputs": [],
   "source": [
    "# drStr + diPhe\n",
    "temp = pd.concat([pair_dr_StrSim, pair_di_PheSim], axis=1)\n",
    "drStr_diPhe = temp[['query_drug', 'disease1', 'pos_drug', 'disease2', 'drStrSim', 'diPheSim']]\n",
    "del temp\n",
    "drStr_diPhe['drStr_diPhe'] = np.sqrt(drStr_diPhe['drStrSim'] * drStr_diPhe['diPheSim'])\n",
    "sub_drStr_diPhe = drStr_diPhe[['query_drug', 'disease1', 'pos_drug','disease2', 'drStr_diPhe']]\n",
    "#desc['drStr_diPhe'] = sub_drStr_diPhe.groupby(['query_drug', 'disease1'])[['drStr_diPhe']].max()['drStr_diPhe']\n",
    "desc2 = sub_drStr_diPhe.groupby(['query_drug', 'disease1'])[['drStr_diPhe']].max()"
   ]
  },
  {
   "cell_type": "code",
   "execution_count": 25,
   "metadata": {
    "collapsed": false
   },
   "outputs": [
    {
     "data": {
      "text/html": [
       "<div>\n",
       "<table border=\"1\" class=\"dataframe\">\n",
       "  <thead>\n",
       "    <tr style=\"text-align: right;\">\n",
       "      <th></th>\n",
       "      <th></th>\n",
       "      <th>drStr_diPhe</th>\n",
       "    </tr>\n",
       "    <tr>\n",
       "      <th>query_drug</th>\n",
       "      <th>disease1</th>\n",
       "      <th></th>\n",
       "    </tr>\n",
       "  </thead>\n",
       "  <tbody>\n",
       "    <tr>\n",
       "      <th rowspan=\"5\" valign=\"top\">DB00114</th>\n",
       "      <th>102300</th>\n",
       "      <td>0.429415</td>\n",
       "    </tr>\n",
       "    <tr>\n",
       "      <th>102400</th>\n",
       "      <td>0.316070</td>\n",
       "    </tr>\n",
       "    <tr>\n",
       "      <th>102500</th>\n",
       "      <td>0.509175</td>\n",
       "    </tr>\n",
       "    <tr>\n",
       "      <th>103780</th>\n",
       "      <td>0.523635</td>\n",
       "    </tr>\n",
       "    <tr>\n",
       "      <th>104130</th>\n",
       "      <td>0.376493</td>\n",
       "    </tr>\n",
       "  </tbody>\n",
       "</table>\n",
       "</div>"
      ],
      "text/plain": [
       "                     drStr_diPhe\n",
       "query_drug disease1             \n",
       "DB00114    102300       0.429415\n",
       "           102400       0.316070\n",
       "           102500       0.509175\n",
       "           103780       0.523635\n",
       "           104130       0.376493"
      ]
     },
     "execution_count": 25,
     "metadata": {},
     "output_type": "execute_result"
    }
   ],
   "source": [
    "desc2.head()"
   ]
  },
  {
   "cell_type": "code",
   "execution_count": 26,
   "metadata": {
    "collapsed": true
   },
   "outputs": [],
   "source": [
    "# drPhe + diHpo\n",
    "temp = pd.concat([pair_dr_PheSim, pair_di_HpoSim], axis=1)\n",
    "drPhe_diHpo = temp[['query_drug', 'disease1', 'pos_drug', 'disease2', 'drPheSim', 'diHpoSim']]\n",
    "del temp\n",
    "drPhe_diHpo['drPhe_diHpo'] = np.sqrt(drPhe_diHpo['drPheSim'] * drPhe_diHpo['diHpoSim'])\n",
    "sub_drPhe_diHpo = drPhe_diHpo[['query_drug', 'disease1', 'pos_drug','disease2', 'drPhe_diHpo']]\n",
    "#desc['drPhe_diHpo'] = sub_drPhe_diHpo.groupby(['query_drug', 'disease1'])[['drPhe_diHpo']].max()['drPhe_diHpo']\n",
    "desc3 = desc['drPhe_diHpo'] = sub_drPhe_diHpo.groupby(['query_drug', 'disease1'])[['drPhe_diHpo']].max()"
   ]
  },
  {
   "cell_type": "code",
   "execution_count": 27,
   "metadata": {
    "collapsed": false
   },
   "outputs": [
    {
     "data": {
      "text/html": [
       "<div>\n",
       "<table border=\"1\" class=\"dataframe\">\n",
       "  <thead>\n",
       "    <tr style=\"text-align: right;\">\n",
       "      <th></th>\n",
       "      <th></th>\n",
       "      <th>drPhe_diHpo</th>\n",
       "    </tr>\n",
       "    <tr>\n",
       "      <th>query_drug</th>\n",
       "      <th>disease1</th>\n",
       "      <th></th>\n",
       "    </tr>\n",
       "  </thead>\n",
       "  <tbody>\n",
       "    <tr>\n",
       "      <th rowspan=\"5\" valign=\"top\">DB00114</th>\n",
       "      <th>102300</th>\n",
       "      <td>0.943927</td>\n",
       "    </tr>\n",
       "    <tr>\n",
       "      <th>102400</th>\n",
       "      <td>0.939031</td>\n",
       "    </tr>\n",
       "    <tr>\n",
       "      <th>102500</th>\n",
       "      <td>0.951651</td>\n",
       "    </tr>\n",
       "    <tr>\n",
       "      <th>103780</th>\n",
       "      <td>0.943352</td>\n",
       "    </tr>\n",
       "    <tr>\n",
       "      <th>104130</th>\n",
       "      <td>inf</td>\n",
       "    </tr>\n",
       "  </tbody>\n",
       "</table>\n",
       "</div>"
      ],
      "text/plain": [
       "                     drPhe_diHpo\n",
       "query_drug disease1             \n",
       "DB00114    102300       0.943927\n",
       "           102400       0.939031\n",
       "           102500       0.951651\n",
       "           103780       0.943352\n",
       "           104130            inf"
      ]
     },
     "execution_count": 27,
     "metadata": {},
     "output_type": "execute_result"
    }
   ],
   "source": [
    "desc3.head()"
   ]
  },
  {
   "cell_type": "code",
   "execution_count": 28,
   "metadata": {
    "collapsed": true
   },
   "outputs": [],
   "source": [
    "# drPhe + diPhe\n",
    "temp = pd.concat([pair_dr_PheSim, pair_di_PheSim], axis=1)\n",
    "drPhe_diPhe = temp[['query_drug', 'disease1', 'pos_drug', 'disease2', 'drPheSim', 'diPheSim']]\n",
    "del temp\n",
    "drPhe_diPhe['drPhe_diPhe'] = np.sqrt(drPhe_diPhe['drPheSim'] * drPhe_diPhe['diPheSim'])\n",
    "sub_drPhe_diPhe = drPhe_diPhe[['query_drug', 'disease1', 'pos_drug','disease2', 'drPhe_diPhe']]\n",
    "#desc['drPhe_diPhe'] = sub_drPhe_diPhe.groupby(['query_drug', 'disease1'])[['drPhe_diPhe']].max()['drPhe_diPhe']\n",
    "desc4 = desc['drPhe_diPhe'] = sub_drPhe_diPhe.groupby(['query_drug', 'disease1'])[['drPhe_diPhe']].max()"
   ]
  },
  {
   "cell_type": "code",
   "execution_count": 29,
   "metadata": {
    "collapsed": false
   },
   "outputs": [
    {
     "data": {
      "text/html": [
       "<div>\n",
       "<table border=\"1\" class=\"dataframe\">\n",
       "  <thead>\n",
       "    <tr style=\"text-align: right;\">\n",
       "      <th></th>\n",
       "      <th></th>\n",
       "      <th>drPhe_diPhe</th>\n",
       "    </tr>\n",
       "    <tr>\n",
       "      <th>query_drug</th>\n",
       "      <th>disease1</th>\n",
       "      <th></th>\n",
       "    </tr>\n",
       "  </thead>\n",
       "  <tbody>\n",
       "    <tr>\n",
       "      <th rowspan=\"5\" valign=\"top\">DB00114</th>\n",
       "      <th>102300</th>\n",
       "      <td>0.943927</td>\n",
       "    </tr>\n",
       "    <tr>\n",
       "      <th>102400</th>\n",
       "      <td>0.939031</td>\n",
       "    </tr>\n",
       "    <tr>\n",
       "      <th>102500</th>\n",
       "      <td>0.951651</td>\n",
       "    </tr>\n",
       "    <tr>\n",
       "      <th>103780</th>\n",
       "      <td>0.943352</td>\n",
       "    </tr>\n",
       "    <tr>\n",
       "      <th>104130</th>\n",
       "      <td>0.959878</td>\n",
       "    </tr>\n",
       "  </tbody>\n",
       "</table>\n",
       "</div>"
      ],
      "text/plain": [
       "                     drPhe_diPhe\n",
       "query_drug disease1             \n",
       "DB00114    102300       0.943927\n",
       "           102400       0.939031\n",
       "           102500       0.951651\n",
       "           103780       0.943352\n",
       "           104130       0.959878"
      ]
     },
     "execution_count": 29,
     "metadata": {},
     "output_type": "execute_result"
    }
   ],
   "source": [
    "desc4.head()"
   ]
  },
  {
   "cell_type": "code",
   "execution_count": 31,
   "metadata": {
    "collapsed": false
   },
   "outputs": [
    {
     "data": {
      "text/plain": [
       "'desc4.to_csv(\"/DAS_Storage1/aschoi/data/Drug_Repositioning/8_new_training/new_predict/2_2_neg_descriptor_drPhediPhe.tsv\", sep=\\'\\t\\')'"
      ]
     },
     "execution_count": 31,
     "metadata": {},
     "output_type": "execute_result"
    }
   ],
   "source": [
    "desc.to_csv(\"/DAS_Storage1/aschoi/data/Drug_Repositioning/8_new_training/2_similarity_based-PREDICT/2_2_neg_descriptor_drStrdiHpo.tsv\", sep='\\t')\n",
    "'''desc2.to_csv(\"/DAS_Storage1/aschoi/data/Drug_Repositioning/8_new_training/new_predict/2_2_neg_descriptor_drStrdiPhe.tsv\", sep='\\t')'''\n",
    "desc3.to_csv(\"/DAS_Storage1/aschoi/data/Drug_Repositioning/8_new_training/2_similarity_based-PREDICT/2_2_neg_descriptor_drPhediHpo.tsv\", sep='\\t')\n",
    "'''desc4.to_csv(\"/DAS_Storage1/aschoi/data/Drug_Repositioning/8_new_training/new_predict/2_2_neg_descriptor_drPhediPhe.tsv\", sep='\\t')'''"
   ]
  },
  {
   "cell_type": "code",
   "execution_count": 37,
   "metadata": {
    "collapsed": false
   },
   "outputs": [],
   "source": [
    "desc = pd.read_table(\"/DAS_Storage1/aschoi/data/Drug_Repositioning/8_new_training/2_similarity_based-PREDICT/2_2_neg_descriptor_drStrdiHpo.tsv\")\n",
    "desc2 = pd.read_table(\"/DAS_Storage1/aschoi/data/Drug_Repositioning/8_new_training/2_similarity_based-PREDICT/2_2_neg_descriptor_drStrdiPhe.tsv\")\n",
    "desc3 = pd.read_table(\"/DAS_Storage1/aschoi/data/Drug_Repositioning/8_new_training/2_similarity_based-PREDICT/2_2_neg_descriptor_drPhediHpo.tsv\")\n",
    "desc4 = pd.read_table(\"/DAS_Storage1/aschoi/data/Drug_Repositioning/8_new_training/2_similarity_based-PREDICT/2_2_neg_descriptor_drPhediPhe.tsv\")"
   ]
  },
  {
   "cell_type": "code",
   "execution_count": 38,
   "metadata": {
    "collapsed": false
   },
   "outputs": [],
   "source": [
    "result = desc.merge(desc2).merge(desc3).merge(desc4)"
   ]
  },
  {
   "cell_type": "code",
   "execution_count": 39,
   "metadata": {
    "collapsed": false
   },
   "outputs": [
    {
     "data": {
      "text/html": [
       "<div>\n",
       "<table border=\"1\" class=\"dataframe\">\n",
       "  <thead>\n",
       "    <tr style=\"text-align: right;\">\n",
       "      <th></th>\n",
       "      <th>query_drug</th>\n",
       "      <th>disease1</th>\n",
       "      <th>drStr_diHpo</th>\n",
       "      <th>drPhe_diHpo</th>\n",
       "      <th>drPhe_diPhe</th>\n",
       "    </tr>\n",
       "  </thead>\n",
       "  <tbody>\n",
       "    <tr>\n",
       "      <th>0</th>\n",
       "      <td>DB00114</td>\n",
       "      <td>102300</td>\n",
       "      <td>0.502454</td>\n",
       "      <td>0.943927</td>\n",
       "      <td>0.943927</td>\n",
       "    </tr>\n",
       "  </tbody>\n",
       "</table>\n",
       "</div>"
      ],
      "text/plain": [
       "  query_drug  disease1  drStr_diHpo  drPhe_diHpo  drPhe_diPhe\n",
       "0    DB00114    102300     0.502454     0.943927     0.943927"
      ]
     },
     "execution_count": 39,
     "metadata": {},
     "output_type": "execute_result"
    }
   ],
   "source": [
    "desc.head(1)"
   ]
  },
  {
   "cell_type": "code",
   "execution_count": 40,
   "metadata": {
    "collapsed": false
   },
   "outputs": [
    {
     "data": {
      "text/html": [
       "<div>\n",
       "<table border=\"1\" class=\"dataframe\">\n",
       "  <thead>\n",
       "    <tr style=\"text-align: right;\">\n",
       "      <th></th>\n",
       "      <th>query_drug</th>\n",
       "      <th>disease1</th>\n",
       "      <th>drStr_diPhe</th>\n",
       "    </tr>\n",
       "  </thead>\n",
       "  <tbody>\n",
       "    <tr>\n",
       "      <th>0</th>\n",
       "      <td>DB00114</td>\n",
       "      <td>102300</td>\n",
       "      <td>0.429415</td>\n",
       "    </tr>\n",
       "  </tbody>\n",
       "</table>\n",
       "</div>"
      ],
      "text/plain": [
       "  query_drug  disease1  drStr_diPhe\n",
       "0    DB00114    102300     0.429415"
      ]
     },
     "execution_count": 40,
     "metadata": {},
     "output_type": "execute_result"
    }
   ],
   "source": [
    "desc2.head(1)"
   ]
  },
  {
   "cell_type": "code",
   "execution_count": 41,
   "metadata": {
    "collapsed": false
   },
   "outputs": [
    {
     "data": {
      "text/html": [
       "<div>\n",
       "<table border=\"1\" class=\"dataframe\">\n",
       "  <thead>\n",
       "    <tr style=\"text-align: right;\">\n",
       "      <th></th>\n",
       "      <th>query_drug</th>\n",
       "      <th>disease1</th>\n",
       "      <th>drPhe_diHpo</th>\n",
       "    </tr>\n",
       "  </thead>\n",
       "  <tbody>\n",
       "    <tr>\n",
       "      <th>0</th>\n",
       "      <td>DB00114</td>\n",
       "      <td>102300</td>\n",
       "      <td>0.943927</td>\n",
       "    </tr>\n",
       "  </tbody>\n",
       "</table>\n",
       "</div>"
      ],
      "text/plain": [
       "  query_drug  disease1  drPhe_diHpo\n",
       "0    DB00114    102300     0.943927"
      ]
     },
     "execution_count": 41,
     "metadata": {},
     "output_type": "execute_result"
    }
   ],
   "source": [
    "desc3.head(1)"
   ]
  },
  {
   "cell_type": "code",
   "execution_count": 42,
   "metadata": {
    "collapsed": false
   },
   "outputs": [
    {
     "data": {
      "text/html": [
       "<div>\n",
       "<table border=\"1\" class=\"dataframe\">\n",
       "  <thead>\n",
       "    <tr style=\"text-align: right;\">\n",
       "      <th></th>\n",
       "      <th>query_drug</th>\n",
       "      <th>disease1</th>\n",
       "      <th>drPhe_diPhe</th>\n",
       "    </tr>\n",
       "  </thead>\n",
       "  <tbody>\n",
       "    <tr>\n",
       "      <th>0</th>\n",
       "      <td>DB00114</td>\n",
       "      <td>102300</td>\n",
       "      <td>0.943927</td>\n",
       "    </tr>\n",
       "  </tbody>\n",
       "</table>\n",
       "</div>"
      ],
      "text/plain": [
       "  query_drug  disease1  drPhe_diPhe\n",
       "0    DB00114    102300     0.943927"
      ]
     },
     "execution_count": 42,
     "metadata": {},
     "output_type": "execute_result"
    }
   ],
   "source": [
    "desc4.head(1)"
   ]
  },
  {
   "cell_type": "code",
   "execution_count": 43,
   "metadata": {
    "collapsed": false
   },
   "outputs": [
    {
     "name": "stdout",
     "output_type": "stream",
     "text": [
      "98163\n"
     ]
    },
    {
     "data": {
      "text/html": [
       "<div>\n",
       "<table border=\"1\" class=\"dataframe\">\n",
       "  <thead>\n",
       "    <tr style=\"text-align: right;\">\n",
       "      <th></th>\n",
       "      <th>query_drug</th>\n",
       "      <th>disease1</th>\n",
       "      <th>drStr_diHpo</th>\n",
       "      <th>drPhe_diHpo</th>\n",
       "      <th>drPhe_diPhe</th>\n",
       "      <th>drStr_diPhe</th>\n",
       "    </tr>\n",
       "  </thead>\n",
       "  <tbody>\n",
       "    <tr>\n",
       "      <th>0</th>\n",
       "      <td>DB00114</td>\n",
       "      <td>102300</td>\n",
       "      <td>0.502454</td>\n",
       "      <td>0.943927</td>\n",
       "      <td>0.943927</td>\n",
       "      <td>0.429415</td>\n",
       "    </tr>\n",
       "    <tr>\n",
       "      <th>1</th>\n",
       "      <td>DB00114</td>\n",
       "      <td>102400</td>\n",
       "      <td>0.407394</td>\n",
       "      <td>0.939031</td>\n",
       "      <td>0.939031</td>\n",
       "      <td>0.316070</td>\n",
       "    </tr>\n",
       "    <tr>\n",
       "      <th>2</th>\n",
       "      <td>DB00114</td>\n",
       "      <td>102500</td>\n",
       "      <td>0.509175</td>\n",
       "      <td>0.951651</td>\n",
       "      <td>0.951651</td>\n",
       "      <td>0.509175</td>\n",
       "    </tr>\n",
       "    <tr>\n",
       "      <th>3</th>\n",
       "      <td>DB00114</td>\n",
       "      <td>103780</td>\n",
       "      <td>0.523635</td>\n",
       "      <td>0.943352</td>\n",
       "      <td>0.943352</td>\n",
       "      <td>0.523635</td>\n",
       "    </tr>\n",
       "    <tr>\n",
       "      <th>4</th>\n",
       "      <td>DB00114</td>\n",
       "      <td>104130</td>\n",
       "      <td>inf</td>\n",
       "      <td>inf</td>\n",
       "      <td>0.959878</td>\n",
       "      <td>0.376493</td>\n",
       "    </tr>\n",
       "  </tbody>\n",
       "</table>\n",
       "</div>"
      ],
      "text/plain": [
       "  query_drug  disease1  drStr_diHpo  drPhe_diHpo  drPhe_diPhe  drStr_diPhe\n",
       "0    DB00114    102300     0.502454     0.943927     0.943927     0.429415\n",
       "1    DB00114    102400     0.407394     0.939031     0.939031     0.316070\n",
       "2    DB00114    102500     0.509175     0.951651     0.951651     0.509175\n",
       "3    DB00114    103780     0.523635     0.943352     0.943352     0.523635\n",
       "4    DB00114    104130          inf          inf     0.959878     0.376493"
      ]
     },
     "execution_count": 43,
     "metadata": {},
     "output_type": "execute_result"
    }
   ],
   "source": [
    "print len(result)\n",
    "result.head()"
   ]
  },
  {
   "cell_type": "code",
   "execution_count": 44,
   "metadata": {
    "collapsed": true
   },
   "outputs": [],
   "source": [
    "result.replace(\"inf\", 0, inplace=True)"
   ]
  },
  {
   "cell_type": "code",
   "execution_count": 46,
   "metadata": {
    "collapsed": false
   },
   "outputs": [],
   "source": [
    "result.to_csv(\"/DAS_Storage1/aschoi/data/Drug_Repositioning/8_new_training/2_similarity_based-PREDICT/2_2_neg_descriptor_hpo.tsv\", sep='\\t', index=False)"
   ]
  },
  {
   "cell_type": "code",
   "execution_count": null,
   "metadata": {
    "collapsed": true
   },
   "outputs": [],
   "source": [
    "#positive descriptor와 합치기"
   ]
  },
  {
   "cell_type": "code",
   "execution_count": 56,
   "metadata": {
    "collapsed": true
   },
   "outputs": [],
   "source": [
    "pos_desc = pd.read_table(\"/DAS_Storage1/aschoi/data/Drug_Repositioning/8_new_training/2_similarity_based-PREDICT/2_1_pos_descriptor_hpo.tsv\")"
   ]
  },
  {
   "cell_type": "code",
   "execution_count": 57,
   "metadata": {
    "collapsed": false
   },
   "outputs": [
    {
     "data": {
      "text/html": [
       "<div>\n",
       "<table border=\"1\" class=\"dataframe\">\n",
       "  <thead>\n",
       "    <tr style=\"text-align: right;\">\n",
       "      <th></th>\n",
       "      <th>drug_id</th>\n",
       "      <th>disease_id</th>\n",
       "      <th>drStr_diHpo</th>\n",
       "      <th>drStr_diPhe</th>\n",
       "      <th>drPhe_diHpo</th>\n",
       "      <th>drPhe_diPhe</th>\n",
       "      <th>association</th>\n",
       "    </tr>\n",
       "  </thead>\n",
       "  <tbody>\n",
       "    <tr>\n",
       "      <th>0</th>\n",
       "      <td>DB00114</td>\n",
       "      <td>239350</td>\n",
       "      <td>0.80403</td>\n",
       "      <td>0.80403</td>\n",
       "      <td>0.962981</td>\n",
       "      <td>0.962981</td>\n",
       "      <td>1</td>\n",
       "    </tr>\n",
       "  </tbody>\n",
       "</table>\n",
       "</div>"
      ],
      "text/plain": [
       "   drug_id  disease_id  drStr_diHpo  drStr_diPhe  drPhe_diHpo  drPhe_diPhe  \\\n",
       "0  DB00114      239350      0.80403      0.80403     0.962981     0.962981   \n",
       "\n",
       "   association  \n",
       "0            1  "
      ]
     },
     "execution_count": 57,
     "metadata": {},
     "output_type": "execute_result"
    }
   ],
   "source": [
    "pos_desc['association'] = 1\n",
    "pos_desc = pos_desc.rename(columns={'drug1':'drug_id', 'disease1':'disease_id'})\n",
    "pos_desc.head(1)"
   ]
  },
  {
   "cell_type": "code",
   "execution_count": 58,
   "metadata": {
    "collapsed": true
   },
   "outputs": [],
   "source": [
    "result = result.rename(columns={'query_drug':'drug_id', 'disease1' :'disease_id'})"
   ]
  },
  {
   "cell_type": "code",
   "execution_count": 59,
   "metadata": {
    "collapsed": false
   },
   "outputs": [
    {
     "data": {
      "text/html": [
       "<div>\n",
       "<table border=\"1\" class=\"dataframe\">\n",
       "  <thead>\n",
       "    <tr style=\"text-align: right;\">\n",
       "      <th></th>\n",
       "      <th>drug_id</th>\n",
       "      <th>disease_id</th>\n",
       "      <th>drStr_diHpo</th>\n",
       "      <th>drPhe_diHpo</th>\n",
       "      <th>drPhe_diPhe</th>\n",
       "      <th>drStr_diPhe</th>\n",
       "      <th>association</th>\n",
       "    </tr>\n",
       "  </thead>\n",
       "  <tbody>\n",
       "    <tr>\n",
       "      <th>0</th>\n",
       "      <td>DB00114</td>\n",
       "      <td>102300</td>\n",
       "      <td>0.502454</td>\n",
       "      <td>0.943927</td>\n",
       "      <td>0.943927</td>\n",
       "      <td>0.429415</td>\n",
       "      <td>0</td>\n",
       "    </tr>\n",
       "  </tbody>\n",
       "</table>\n",
       "</div>"
      ],
      "text/plain": [
       "   drug_id  disease_id  drStr_diHpo  drPhe_diHpo  drPhe_diPhe  drStr_diPhe  \\\n",
       "0  DB00114      102300     0.502454     0.943927     0.943927     0.429415   \n",
       "\n",
       "   association  \n",
       "0            0  "
      ]
     },
     "execution_count": 59,
     "metadata": {},
     "output_type": "execute_result"
    }
   ],
   "source": [
    "result['association'] = 0\n",
    "result.head(1)"
   ]
  },
  {
   "cell_type": "code",
   "execution_count": 60,
   "metadata": {
    "collapsed": false
   },
   "outputs": [],
   "source": [
    "combined = pd.concat([result, pos_desc])\n",
    "combined = combined[['drug_id', 'disease_id', 'association', 'drStr_diHpo', 'drStr_diPhe', 'drPhe_diHpo', 'drPhe_diPhe']]"
   ]
  },
  {
   "cell_type": "code",
   "execution_count": 61,
   "metadata": {
    "collapsed": false
   },
   "outputs": [
    {
     "name": "stdout",
     "output_type": "stream",
     "text": [
      "99493\n"
     ]
    }
   ],
   "source": [
    "print len(combined)"
   ]
  },
  {
   "cell_type": "code",
   "execution_count": 62,
   "metadata": {
    "collapsed": false
   },
   "outputs": [],
   "source": [
    "combined.to_csv(\"/DAS_Storage1/aschoi/data/Drug_Repositioning/8_new_training/2_similarity_based-PREDICT/2_3_gold_descriptor_hpo.tsv\", sep='\\t', index=False)"
   ]
  },
  {
   "cell_type": "code",
   "execution_count": 68,
   "metadata": {
    "collapsed": false
   },
   "outputs": [
    {
     "data": {
      "text/html": [
       "<div>\n",
       "<table border=\"1\" class=\"dataframe\">\n",
       "  <thead>\n",
       "    <tr style=\"text-align: right;\">\n",
       "      <th></th>\n",
       "      <th>drug_id</th>\n",
       "      <th>disease_id</th>\n",
       "      <th>association</th>\n",
       "      <th>drStr_diHpo</th>\n",
       "      <th>drStr_diPhe</th>\n",
       "      <th>drPhe_diHpo</th>\n",
       "      <th>drPhe_diPhe</th>\n",
       "    </tr>\n",
       "  </thead>\n",
       "  <tbody>\n",
       "    <tr>\n",
       "      <th>0</th>\n",
       "      <td>DB00114</td>\n",
       "      <td>102300</td>\n",
       "      <td>0</td>\n",
       "      <td>0.502454</td>\n",
       "      <td>0.429415</td>\n",
       "      <td>0.943927</td>\n",
       "      <td>0.943927</td>\n",
       "    </tr>\n",
       "    <tr>\n",
       "      <th>1</th>\n",
       "      <td>DB00114</td>\n",
       "      <td>102400</td>\n",
       "      <td>0</td>\n",
       "      <td>0.407394</td>\n",
       "      <td>0.316070</td>\n",
       "      <td>0.939031</td>\n",
       "      <td>0.939031</td>\n",
       "    </tr>\n",
       "    <tr>\n",
       "      <th>2</th>\n",
       "      <td>DB00114</td>\n",
       "      <td>102500</td>\n",
       "      <td>0</td>\n",
       "      <td>0.509175</td>\n",
       "      <td>0.509175</td>\n",
       "      <td>0.951651</td>\n",
       "      <td>0.951651</td>\n",
       "    </tr>\n",
       "    <tr>\n",
       "      <th>3</th>\n",
       "      <td>DB00114</td>\n",
       "      <td>103780</td>\n",
       "      <td>0</td>\n",
       "      <td>0.523635</td>\n",
       "      <td>0.523635</td>\n",
       "      <td>0.943352</td>\n",
       "      <td>0.943352</td>\n",
       "    </tr>\n",
       "    <tr>\n",
       "      <th>4</th>\n",
       "      <td>DB00114</td>\n",
       "      <td>104130</td>\n",
       "      <td>0</td>\n",
       "      <td>0.000000</td>\n",
       "      <td>0.376493</td>\n",
       "      <td>0.000000</td>\n",
       "      <td>0.959878</td>\n",
       "    </tr>\n",
       "  </tbody>\n",
       "</table>\n",
       "</div>"
      ],
      "text/plain": [
       "   drug_id  disease_id  association  drStr_diHpo  drStr_diPhe  drPhe_diHpo  \\\n",
       "0  DB00114      102300            0     0.502454     0.429415     0.943927   \n",
       "1  DB00114      102400            0     0.407394     0.316070     0.939031   \n",
       "2  DB00114      102500            0     0.509175     0.509175     0.951651   \n",
       "3  DB00114      103780            0     0.523635     0.523635     0.943352   \n",
       "4  DB00114      104130            0     0.000000     0.376493     0.000000   \n",
       "\n",
       "   drPhe_diPhe  \n",
       "0     0.943927  \n",
       "1     0.939031  \n",
       "2     0.951651  \n",
       "3     0.943352  \n",
       "4     0.959878  "
      ]
     },
     "execution_count": 68,
     "metadata": {},
     "output_type": "execute_result"
    }
   ],
   "source": [
    "combined.head()"
   ]
  },
  {
   "cell_type": "code",
   "execution_count": 67,
   "metadata": {
    "collapsed": false
   },
   "outputs": [],
   "source": [
    "import matplotlib.pyplot as plt\n",
    "import numpy as np\n",
    "%matplotlib inline"
   ]
  },
  {
   "cell_type": "code",
   "execution_count": 71,
   "metadata": {
    "collapsed": false
   },
   "outputs": [
    {
     "data": {
      "text/plain": [
       "<matplotlib.axes.AxesSubplot at 0x7f7663103790>"
      ]
     },
     "execution_count": 71,
     "metadata": {},
     "output_type": "execute_result"
    },
    {
     "data": {
      "image/png": "[encoded data removed]",
      "text/plain": [
       "<matplotlib.figure.Figure at 0x7f770270fd10>"
      ]
     },
     "metadata": {},
     "output_type": "display_data"
    }
   ],
   "source": [
    "combined['drPhe_diHpo'].hist()"
   ]
  },
  {
   "cell_type": "code",
   "execution_count": null,
   "metadata": {
    "collapsed": true
   },
   "outputs": [],
   "source": [
    "combined['drPhe_diHpo'].hist()\n"
   ]
  }
 ],
 "metadata": {
  "kernelspec": {
   "display_name": "Python 2",
   "language": "python",
   "name": "python2"
  },
  "language_info": {
   "codemirror_mode": {
    "name": "ipython",
    "version": 2
   },
   "file_extension": ".py",
   "mimetype": "text/x-python",
   "name": "python",
   "nbconvert_exporter": "python",
   "pygments_lexer": "ipython2",
   "version": "2.7.6"
  }
 },
 "nbformat": 4,
 "nbformat_minor": 2
}
