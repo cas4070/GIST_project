{
 "cells": [
  {
   "cell_type": "code",
   "execution_count": 16,
   "metadata": {
    "collapsed": false
   },
   "outputs": [],
   "source": [
    "import pandas as pd\n",
    "import numpy as np\n",
    "from datetime import datetime\n",
    "from sklearn.linear_model import LogisticRegression\n",
    "from sklearn.ensemble import RandomForestClassifier\n",
    "from sklearn.model_selection import StratifiedKFold\n",
    "from sklearn.metrics import confusion_matrix\n",
    "from sklearn.metrics import roc_auc_score # AUC score\n",
    "from sklearn.metrics import average_precision_score # AUPR score\n",
    "from sklearn.metrics import precision_recall_fscore_support # precision, recall\n",
    "from imblearn.metrics import sensitivity_specificity_support # sensitivity, specificity\n",
    "from sklearn.metrics import roc_curve # to draw auc curve\n",
    "from sklearn.metrics import precision_recall_curve # to draw aupr curve\n",
    "from imblearn.under_sampling import RandomUnderSampler\n",
    "from imblearn.under_sampling import OneSidedSelection\n",
    "from imblearn.under_sampling import NearMiss\n",
    "from itertools import cycle\n",
    "import matplotlib.pyplot as plt\n",
    "%matplotlib inline"
   ]
  },
  {
   "cell_type": "code",
   "execution_count": 17,
   "metadata": {
    "collapsed": true
   },
   "outputs": [],
   "source": [
    "# independent dataset\n",
    "indep = pd.read_table(\"/DAS_Storage1/aschoi/data/Drug_Repositioning/8_new_training/new_predict/3_2_indep_descriptor.tsv\")\n",
    "indep_x = indep.values[:, 3:].astype(float)\n",
    "indep_y = indep.values[:,2].astype(int)"
   ]
  },
  {
   "cell_type": "code",
   "execution_count": 18,
   "metadata": {
    "collapsed": true
   },
   "outputs": [],
   "source": [
    "#2017.04.12. PREDICT\n",
    "df = pd.read_table(\"/DAS_Storage1/aschoi/data/Drug_Repositioning/8_new_training/new_predict/2_3_gold_descriptor.tsv\")\n",
    "x_whole_data = df[df.columns.values[3:].tolist()].values\n",
    "y_whole_data = df[\"association\"].values"
   ]
  },
  {
   "cell_type": "code",
   "execution_count": 21,
   "metadata": {
    "collapsed": false
   },
   "outputs": [
    {
     "data": {
      "text/html": [
       "<div>\n",
       "<table border=\"1\" class=\"dataframe\">\n",
       "  <thead>\n",
       "    <tr style=\"text-align: right;\">\n",
       "      <th></th>\n",
       "      <th>drug_id</th>\n",
       "      <th>disease_id</th>\n",
       "      <th>association</th>\n",
       "      <th>drStr_diGe</th>\n",
       "      <th>drStr_diPhe</th>\n",
       "      <th>drPhe_diGe</th>\n",
       "      <th>drPhe_diPhe</th>\n",
       "    </tr>\n",
       "  </thead>\n",
       "  <tbody>\n",
       "    <tr>\n",
       "      <th>0</th>\n",
       "      <td>DB00125</td>\n",
       "      <td>102300</td>\n",
       "      <td>0</td>\n",
       "      <td>0.988000</td>\n",
       "      <td>0.377060</td>\n",
       "      <td>0.988698</td>\n",
       "      <td>0.973507</td>\n",
       "    </tr>\n",
       "    <tr>\n",
       "      <th>1</th>\n",
       "      <td>DB00125</td>\n",
       "      <td>103780</td>\n",
       "      <td>0</td>\n",
       "      <td>0.984400</td>\n",
       "      <td>0.439811</td>\n",
       "      <td>0.984882</td>\n",
       "      <td>0.913192</td>\n",
       "    </tr>\n",
       "    <tr>\n",
       "      <th>2</th>\n",
       "      <td>DB00125</td>\n",
       "      <td>104300</td>\n",
       "      <td>0</td>\n",
       "      <td>0.968402</td>\n",
       "      <td>0.515095</td>\n",
       "      <td>0.968402</td>\n",
       "      <td>0.968303</td>\n",
       "    </tr>\n",
       "    <tr>\n",
       "      <th>3</th>\n",
       "      <td>DB00125</td>\n",
       "      <td>115195</td>\n",
       "      <td>0</td>\n",
       "      <td>0.986705</td>\n",
       "      <td>0.382821</td>\n",
       "      <td>0.987428</td>\n",
       "      <td>0.963070</td>\n",
       "    </tr>\n",
       "    <tr>\n",
       "      <th>4</th>\n",
       "      <td>DB00125</td>\n",
       "      <td>137580</td>\n",
       "      <td>0</td>\n",
       "      <td>0.989292</td>\n",
       "      <td>0.555586</td>\n",
       "      <td>0.989967</td>\n",
       "      <td>0.967168</td>\n",
       "    </tr>\n",
       "  </tbody>\n",
       "</table>\n",
       "</div>"
      ],
      "text/plain": [
       "   drug_id  disease_id  association  drStr_diGe  drStr_diPhe  drPhe_diGe  \\\n",
       "0  DB00125      102300            0    0.988000     0.377060    0.988698   \n",
       "1  DB00125      103780            0    0.984400     0.439811    0.984882   \n",
       "2  DB00125      104300            0    0.968402     0.515095    0.968402   \n",
       "3  DB00125      115195            0    0.986705     0.382821    0.987428   \n",
       "4  DB00125      137580            0    0.989292     0.555586    0.989967   \n",
       "\n",
       "   drPhe_diPhe  \n",
       "0     0.973507  \n",
       "1     0.913192  \n",
       "2     0.968303  \n",
       "3     0.963070  \n",
       "4     0.967168  "
      ]
     },
     "execution_count": 21,
     "metadata": {},
     "output_type": "execute_result"
    }
   ],
   "source": [
    "indep.head()"
   ]
  },
  {
   "cell_type": "code",
   "execution_count": 26,
   "metadata": {
    "collapsed": false
   },
   "outputs": [
    {
     "data": {
      "text/html": [
       "<div>\n",
       "<table border=\"1\" class=\"dataframe\">\n",
       "  <thead>\n",
       "    <tr style=\"text-align: right;\">\n",
       "      <th></th>\n",
       "      <th>drug_id</th>\n",
       "      <th>disease_id</th>\n",
       "      <th>association</th>\n",
       "      <th>drStr_diGe</th>\n",
       "      <th>drStr_diPhe</th>\n",
       "      <th>drPhe_diGe</th>\n",
       "      <th>drPhe_diPhe</th>\n",
       "    </tr>\n",
       "  </thead>\n",
       "  <tbody>\n",
       "    <tr>\n",
       "      <th>0</th>\n",
       "      <td>DB00125</td>\n",
       "      <td>102300</td>\n",
       "      <td>0</td>\n",
       "      <td>0.988</td>\n",
       "      <td>0.37706</td>\n",
       "      <td>0.988698</td>\n",
       "      <td>0.973507</td>\n",
       "    </tr>\n",
       "  </tbody>\n",
       "</table>\n",
       "</div>"
      ],
      "text/plain": [
       "   drug_id  disease_id  association  drStr_diGe  drStr_diPhe  drPhe_diGe  \\\n",
       "0  DB00125      102300            0       0.988      0.37706    0.988698   \n",
       "\n",
       "   drPhe_diPhe  \n",
       "0     0.973507  "
      ]
     },
     "execution_count": 26,
     "metadata": {},
     "output_type": "execute_result"
    }
   ],
   "source": [
    "indep[(indep.drug_id == 'DB00125') & (indep.disease_id == 102300)]"
   ]
  },
  {
   "cell_type": "code",
   "execution_count": 27,
   "metadata": {
    "collapsed": false
   },
   "outputs": [
    {
     "data": {
      "text/html": [
       "<div>\n",
       "<table border=\"1\" class=\"dataframe\">\n",
       "  <thead>\n",
       "    <tr style=\"text-align: right;\">\n",
       "      <th></th>\n",
       "      <th>drug_id</th>\n",
       "      <th>disease_id</th>\n",
       "      <th>association</th>\n",
       "      <th>drStr_diGe</th>\n",
       "      <th>drStr_diPhe</th>\n",
       "      <th>drPhe_diGe</th>\n",
       "      <th>drPhe_diPhe</th>\n",
       "    </tr>\n",
       "  </thead>\n",
       "  <tbody>\n",
       "    <tr>\n",
       "      <th>2094</th>\n",
       "      <td>DB01200</td>\n",
       "      <td>102300</td>\n",
       "      <td>1</td>\n",
       "      <td>0.828459</td>\n",
       "      <td>0.32257</td>\n",
       "      <td>0.972986</td>\n",
       "      <td>0.423237</td>\n",
       "    </tr>\n",
       "  </tbody>\n",
       "</table>\n",
       "</div>"
      ],
      "text/plain": [
       "      drug_id  disease_id  association  drStr_diGe  drStr_diPhe  drPhe_diGe  \\\n",
       "2094  DB01200      102300            1    0.828459      0.32257    0.972986   \n",
       "\n",
       "      drPhe_diPhe  \n",
       "2094     0.423237  "
      ]
     },
     "execution_count": 27,
     "metadata": {},
     "output_type": "execute_result"
    }
   ],
   "source": [
    "indep[(indep.drug_id == 'DB01200') & (indep.disease_id == 102300)]"
   ]
  },
  {
   "cell_type": "code",
   "execution_count": 19,
   "metadata": {
    "collapsed": true
   },
   "outputs": [],
   "source": [
    "# undersampler\n",
    "rus = RandomUnderSampler()\n",
    "oss = OneSidedSelection()\n",
    "nm = NearMiss()"
   ]
  },
  {
   "cell_type": "code",
   "execution_count": 5,
   "metadata": {
    "collapsed": true
   },
   "outputs": [],
   "source": [
    "def Logistic_Regression_independent_graph(X, y, indep_X, indep_y, user_c):\n",
    "\n",
    "    folds_results = dict()\n",
    "    draw_results = {'fpr':[], 'tpr':[], 'precision_vec':[], 'recall_vec':[]}\n",
    "    \n",
    "    classifier = LogisticRegression(penalty='l1', C=user_c, n_jobs = -1)\n",
    "    classifier.fit(X, y)\n",
    "    indep_y_predicted_proba = classifier.predict_proba(indep_x)\n",
    "    indep_y_predicted_label = classifier.predict(indep_x)\n",
    "\n",
    "    # Accuracy\n",
    "    indep_acc = classifier.score(indep_x, indep_y)\n",
    "    folds_results['acc']=indep_acc\n",
    "    \n",
    "    # AUC\n",
    "    indep_auc = roc_auc_score(indep_y, indep_y_predicted_proba[:,1])\n",
    "    folds_results['auc']=indep_auc\n",
    "    \n",
    "    # Sensitivity, Specificity\n",
    "    indep_sn, indep_sp, support = sensitivity_specificity_support(indep_y, indep_y_predicted_label)\n",
    "    folds_results['sn']=indep_sn\n",
    "    folds_results['sp']=indep_sp\n",
    "    \n",
    "    # AUPR\n",
    "    indep_aupr = average_precision_score(indep_y, indep_y_predicted_proba[:,1])\n",
    "    folds_results['aupr']=indep_aupr\n",
    "    \n",
    "    # Precision, Recall\n",
    "    indep_precision, indep_recall, _, _ = precision_recall_fscore_support(indep_y, indep_y_predicted_label, average = 'binary')\n",
    "    folds_results['precision']=indep_precision\n",
    "    folds_results['recall']=indep_recall\n",
    "    \n",
    "    # Confusion Matirx\n",
    "    indep_confusion_matirx = confusion_matrix(indep_y, indep_y_predicted_label)\n",
    "    folds_results['confusion_matrix']=indep_confusion_matirx\n",
    "    \n",
    "    # draw graph\n",
    "    indep_fpr, indep_tpr, thresholds = roc_curve(indep_y, indep_y_predicted_proba[:, 1], pos_label=1)\n",
    "    draw_results['fpr'].append(indep_fpr)\n",
    "    draw_results['tpr'].append(indep_tpr)\n",
    "        \n",
    "    indep_precision_vec, indep_recall_vec, _ = precision_recall_curve(indep_y, indep_y_predicted_proba[:, 1])\n",
    "    draw_results['precision_vec'].append(indep_precision_vec)\n",
    "    draw_results['recall_vec'].append(indep_recall_vec)\n",
    "\n",
    "    return folds_results, draw_results"
   ]
  },
  {
   "cell_type": "code",
   "execution_count": 6,
   "metadata": {
    "collapsed": true
   },
   "outputs": [],
   "source": [
    "def draw_plot(draw_results, final_result, user_c):\n",
    "    #colors = cycle(['cyan', 'indigo', 'seagreen', 'yellow', 'blue', 'darkorange', 'red', 'violet', 'fuchsia', 'sienna'])\n",
    "    colors = ['cyan', 'indigo', 'seagreen', 'yellow', 'blue', 'darkorange', 'red', 'violet', 'fuchsia', 'sienna']\n",
    "    lw = 1\n",
    "    plt.clf()\n",
    "    fig, (ax1, ax2) = plt.subplots(nrows=1, ncols=2, figsize=(6, 3))\n",
    "    print \"{}------------------------------------\".format(user_c)\n",
    "    for i in draw_results:\n",
    "        for fpr, tpr in zip(i['fpr'], i['tpr']):\n",
    "            ax1.plot(fpr, tpr, lw=lw)\n",
    "        for recall_vec, precision_vec in zip(i['recall_vec'], i['precision_vec']):\n",
    "            ax2.plot(recall_vec, precision_vec, lw=lw)\n",
    "    ax1.set_xlabel('FPR')\n",
    "    ax1.set_ylabel('TPR')\n",
    "    ax1.set_color_cycle(colors)\n",
    "    ax1.set_title('C={0}, Average AUC={1:0.2f}'.format(user_c, final_result['auc']))\n",
    "    ax1.set_ylim([0.0, 1.05])\n",
    "    ax1.set_xlim([0.0, 1.0])\n",
    "    ax2.set_xlabel('Recall')\n",
    "    ax2.set_ylabel('Precision')\n",
    "    ax2.set_color_cycle(colors)\n",
    "    ax2.set_title('C={0}, Average AUPR={1:0.2f}'.format(user_c, final_result['aupr']))\n",
    "    ax2.set_ylim([0.0, 1.05])\n",
    "    ax2.set_xlim([0.0, 1.0])\n",
    "    plt.tight_layout()\n",
    "    plt.show()"
   ]
  },
  {
   "cell_type": "code",
   "execution_count": 7,
   "metadata": {
    "collapsed": true
   },
   "outputs": [],
   "source": [
    "def average_result(folds_results):\n",
    "    avg_result = dict()\n",
    "    avg_result['acc'] = sum(folds_results['acc']) / len(folds_results['acc'])\n",
    "    avg_result['auc'] = sum(folds_results['auc']) / len(folds_results['auc'])\n",
    "    avg_result['aupr'] = sum(folds_results['aupr']) / len(folds_results['aupr'])\n",
    "    avg_result['sn'] = sum(folds_results['sn']) / len(folds_results['sn'])\n",
    "    avg_result['sp'] = sum(folds_results['sp']) / len(folds_results['sp'])\n",
    "    avg_result['precision'] = sum(folds_results['precision']) / len(folds_results['precision'])\n",
    "    avg_result['recall'] = sum(folds_results['recall']) / len(folds_results['recall'])\n",
    "    avg_result['confusion_matrix'] = sum(folds_results['confusion_matrix'])\n",
    "    \n",
    "    return avg_result"
   ]
  },
  {
   "cell_type": "code",
   "execution_count": 8,
   "metadata": {
    "collapsed": true
   },
   "outputs": [],
   "source": [
    "def seperate_results(indep_results):\n",
    "    temp_results = {'acc':[], 'auc':[], 'aupr':[], 'confusion_matrix':[], 'sn':[], 'sp':[], 'precision':[], 'recall':[]}\n",
    "    for i in range(independent_count):\n",
    "        temp_results['acc'].append(indep_results[i]['acc'])\n",
    "        temp_results['auc'].append(indep_results[i]['auc'])\n",
    "        temp_results['aupr'].append(indep_results[i]['aupr'])\n",
    "        temp_results['confusion_matrix'].append(indep_results[i]['confusion_matrix'])\n",
    "        temp_results['sn'].append(indep_results[i]['sn'])\n",
    "        temp_results['sp'].append(indep_results[i]['sp'])\n",
    "        temp_results['precision'].append(indep_results[i]['precision'])\n",
    "        temp_results['recall'].append(indep_results[i]['recall'])\n",
    "    return temp_results"
   ]
  },
  {
   "cell_type": "code",
   "execution_count": 9,
   "metadata": {
    "collapsed": true
   },
   "outputs": [],
   "source": [
    "def write_output(fd, write_results, user_c):\n",
    "    fd.write(\"C={}-------------------------------------------------\\r\\n\".format(user_c))\n",
    "    fd.write(\"Accuracy avg : {}\\r\\n\".format(write_results['acc']))\n",
    "    fd.write(\"AUC avg : {}\\r\\n\".format(write_results['auc']))\n",
    "    fd.write(\"  Sensitivity avg : {}\\r\\n\".format(write_results['sn']))\n",
    "    fd.write(\"  Specificity avg : {}\\r\\n\".format(write_results['sp']))\n",
    "    fd.write(\"AUPR avg : {}\\r\\n\".format(write_results['aupr']))\n",
    "    fd.write(\"  Precision avg : {}\\r\\n\".format(write_results['precision']))\n",
    "    fd.write(\"  Recall avg : {}\\r\\n\".format(write_results['recall']))\n",
    "    fd.write(\"confusion amtrix : {}\\r\\n\".format(write_results['confusion_matrix']))"
   ]
  },
  {
   "cell_type": "code",
   "execution_count": 20,
   "metadata": {
    "collapsed": false
   },
   "outputs": [
    {
     "name": "stdout",
     "output_type": "stream",
     "text": [
      "2017-04-14 16:13:28\n",
      "1000------------------------------------\n"
     ]
    },
    {
     "data": {
      "text/plain": [
       "<matplotlib.figure.Figure at 0x7f1bb75855d0>"
      ]
     },
     "metadata": {},
     "output_type": "display_data"
    },
    {
     "data": {
      "image/png": "[encoded data removed]",
      "text/plain": [
       "<matplotlib.figure.Figure at 0x7f1bb77ba450>"
      ]
     },
     "metadata": {},
     "output_type": "display_data"
    },
    {
     "name": "stdout",
     "output_type": "stream",
     "text": [
      "1000------------------------------------\n"
     ]
    },
    {
     "data": {
      "text/plain": [
       "<matplotlib.figure.Figure at 0x7f1bb781b6d0>"
      ]
     },
     "metadata": {},
     "output_type": "display_data"
    },
    {
     "data": {
      "image/png": "[encoded data removed]",
      "text/plain": [
       "<matplotlib.figure.Figure at 0x7f1bb7c3ba10>"
      ]
     },
     "metadata": {},
     "output_type": "display_data"
    },
    {
     "name": "stdout",
     "output_type": "stream",
     "text": [
      "2017-04-14 16:14:19\n"
     ]
    }
   ],
   "source": [
    "# Logistic_Regression_independent_graph + 파일 입출력 + 1:1\n",
    "# PREDICT original indep\n",
    "print datetime.now().strftime('%Y-%m-%d %H:%M:%S')\n",
    "path = '/home/share/aschoi/nas/users/asolchoi/data/Drug_Repositioning/8_new_training/new_predict/'\n",
    "with open(path + \"1_LR_indep.txt\", 'w') as fd :\n",
    "    user_c = 1000\n",
    "    fd.write(\"<independent>\\r\\n\")\n",
    "    folds_results, draw_results = Logistic_Regression_independent_graph(x_whole_data, y_whole_data, indep_x, indep_y, user_c)\n",
    "    draw_plot([draw_results], folds_results, user_c)\n",
    "    write_output(fd, folds_results, user_c)\n",
    "    #--------------------------------------------------------------\n",
    "    fd.write(\"<1:1 independent>\\r\\n\")\n",
    "    independent_count = 10\n",
    "    indep_results = dict()\n",
    "    indep_draw = list()\n",
    "    for i in range(independent_count):\n",
    "        x_resampled, y_resampled = rus.fit_sample(x_whole_data, y_whole_data)\n",
    "        folds_results2, draw_results2 = Logistic_Regression_independent_graph(x_resampled, y_resampled, indep_x, indep_y, user_c)\n",
    "        indep_results[i] = folds_results2\n",
    "        indep_draw.append(draw_results2)    \n",
    "    seperated = seperate_results(indep_results)\n",
    "    final_result = average_result(seperated)\n",
    "    draw_plot(indep_draw, final_result, user_c)\n",
    "    write_output(fd, final_result, user_c)    \n",
    "print datetime.now().strftime('%Y-%m-%d %H:%M:%S')"
   ]
  },
  {
   "cell_type": "code",
   "execution_count": null,
   "metadata": {
    "collapsed": true
   },
   "outputs": [],
   "source": []
  }
 ],
 "metadata": {
  "kernelspec": {
   "display_name": "Python 2",
   "language": "python",
   "name": "python2"
  },
  "language_info": {
   "codemirror_mode": {
    "name": "ipython",
    "version": 2
   },
   "file_extension": ".py",
   "mimetype": "text/x-python",
   "name": "python",
   "nbconvert_exporter": "python",
   "pygments_lexer": "ipython2",
   "version": "2.7.6"
  }
 },
 "nbformat": 4,
 "nbformat_minor": 2
}
