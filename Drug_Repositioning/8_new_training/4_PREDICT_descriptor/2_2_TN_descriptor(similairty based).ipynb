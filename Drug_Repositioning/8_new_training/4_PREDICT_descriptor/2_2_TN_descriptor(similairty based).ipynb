{
 "cells": [
  {
   "cell_type": "code",
   "execution_count": 2,
   "metadata": {
    "collapsed": false
   },
   "outputs": [],
   "source": [
    "import pandas as pd\n",
    "import numpy as np\n",
    "from datetime import datetime"
   ]
  },
  {
   "cell_type": "code",
   "execution_count": 32,
   "metadata": {
    "collapsed": true
   },
   "outputs": [],
   "source": [
    "drSim = pd.read_table(\"/DAS_Storage1/aschoi/data/Drug_Repositioning/5_new_drug/new_predict/1_drug_drug_combined_sim_mat.tsv\", index_col=0)"
   ]
  },
  {
   "cell_type": "code",
   "execution_count": 33,
   "metadata": {
    "collapsed": false
   },
   "outputs": [],
   "source": [
    "diSim = pd.read_table(\"/DAS_Storage1/aschoi/data/Drug_Repositioning/6_new_disease/new_predict/1_disease_disease_combined_sim_mat.tsv\", index_col=0)"
   ]
  },
  {
   "cell_type": "code",
   "execution_count": 56,
   "metadata": {
    "collapsed": false
   },
   "outputs": [],
   "source": [
    "asso = pd.read_table(\"/DAS_Storage1/aschoi/data/Drug_Repositioning/7_new_association/new_predict/1_gold_learning_asso.tsv\")"
   ]
  },
  {
   "cell_type": "code",
   "execution_count": 42,
   "metadata": {
    "collapsed": false
   },
   "outputs": [
    {
     "data": {
      "text/html": [
       "<div>\n",
       "<table border=\"1\" class=\"dataframe\">\n",
       "  <thead>\n",
       "    <tr style=\"text-align: right;\">\n",
       "      <th></th>\n",
       "      <th>DB00114</th>\n",
       "      <th>DB00126</th>\n",
       "      <th>DB00136</th>\n",
       "      <th>DB00153</th>\n",
       "      <th>DB00162</th>\n",
       "      <th>DB00165</th>\n",
       "      <th>DB00175</th>\n",
       "      <th>DB00176</th>\n",
       "      <th>DB00177</th>\n",
       "      <th>DB00178</th>\n",
       "      <th>...</th>\n",
       "      <th>DB01576</th>\n",
       "      <th>DB01577</th>\n",
       "      <th>DB01590</th>\n",
       "      <th>DB01623</th>\n",
       "      <th>DB02546</th>\n",
       "      <th>DB03904</th>\n",
       "      <th>DB04272</th>\n",
       "      <th>DB04844</th>\n",
       "      <th>DB04861</th>\n",
       "      <th>DB09026</th>\n",
       "    </tr>\n",
       "  </thead>\n",
       "  <tbody>\n",
       "    <tr>\n",
       "      <th>DB00114</th>\n",
       "      <td>1.0</td>\n",
       "      <td>0.938622</td>\n",
       "      <td>0.903264</td>\n",
       "      <td>0.925363</td>\n",
       "      <td>0.936529</td>\n",
       "      <td>0.909315</td>\n",
       "      <td>0.894658</td>\n",
       "      <td>0.879588</td>\n",
       "      <td>0.917654</td>\n",
       "      <td>0.889333</td>\n",
       "      <td>...</td>\n",
       "      <td>0.901224</td>\n",
       "      <td>0.933101</td>\n",
       "      <td>0.887883</td>\n",
       "      <td>0.916233</td>\n",
       "      <td>0.888166</td>\n",
       "      <td>0.908213</td>\n",
       "      <td>0.931833</td>\n",
       "      <td>0.898121</td>\n",
       "      <td>0.886401</td>\n",
       "      <td>0.905366</td>\n",
       "    </tr>\n",
       "  </tbody>\n",
       "</table>\n",
       "<p>1 rows × 434 columns</p>\n",
       "</div>"
      ],
      "text/plain": [
       "         DB00114   DB00126   DB00136   DB00153   DB00162   DB00165   DB00175  \\\n",
       "DB00114      1.0  0.938622  0.903264  0.925363  0.936529  0.909315  0.894658   \n",
       "\n",
       "          DB00176   DB00177   DB00178    ...      DB01576   DB01577   DB01590  \\\n",
       "DB00114  0.879588  0.917654  0.889333    ...     0.901224  0.933101  0.887883   \n",
       "\n",
       "          DB01623   DB02546   DB03904   DB04272   DB04844   DB04861   DB09026  \n",
       "DB00114  0.916233  0.888166  0.908213  0.931833  0.898121  0.886401  0.905366  \n",
       "\n",
       "[1 rows x 434 columns]"
      ]
     },
     "execution_count": 42,
     "metadata": {},
     "output_type": "execute_result"
    }
   ],
   "source": [
    "drSim.head(1)"
   ]
  },
  {
   "cell_type": "code",
   "execution_count": 53,
   "metadata": {
    "collapsed": false
   },
   "outputs": [],
   "source": [
    "dr_id = drSim.columns.values.tolist()\n",
    "di_id = diSim.columns.values.tolist()"
   ]
  },
  {
   "cell_type": "code",
   "execution_count": 111,
   "metadata": {
    "collapsed": true
   },
   "outputs": [],
   "source": [
    "pos = asso[asso.association == 1]"
   ]
  },
  {
   "cell_type": "code",
   "execution_count": 112,
   "metadata": {
    "collapsed": false
   },
   "outputs": [
    {
     "name": "stdout",
     "output_type": "stream",
     "text": [
      "start : 2017-04-23 21:47:44\n",
      "cnt == 100 : 2017-04-23 21:48:27\n",
      "cnt == 200 : 2017-04-23 21:49:08\n",
      "cnt == 300 : 2017-04-23 21:49:47\n",
      "cnt == 400 : 2017-04-23 21:50:27\n",
      "end : 2017-04-23 21:50:41\n"
     ]
    }
   ],
   "source": [
    "# drug-disease similarity, normalize\n",
    "di_dr_mat = pd.DataFrame(columns = dr_id, index= di_id) #di에 대한 dr의 distance보기\n",
    "cnt = 0 \n",
    "print 'start : ' + datetime.now().strftime('%Y-%m-%d %H:%M:%S')\n",
    "for i in dr_id:\n",
    "    other_drugs_sim = drSim[drSim.index != i][i] # 검사할 drug를 제외한 다른 drug들\n",
    "    for j in di_id:\n",
    "        target_disease = pos[(pos.disease_id == int(j))]\n",
    "        other_drugs_di_sim = other_drugs_sim.filter(items = target_disease['drug_id'].tolist())\n",
    "        sum_selected_drug = other_drugs_di_sim.sum() # association이 있는 것들의 합\n",
    "        sum_all_drug = other_drugs_sim.sum() # similarity의 전체 합\n",
    "        norm = sum_selected_drug / sum_all_drug #normalize한 값\n",
    "        di_dr_mat[i].ix[j] = norm\n",
    "    cnt = cnt + 1\n",
    "    if cnt % 100 == 0\n",
    "        print 'cnt == {} : '.format(cnt) + datetime.now().strftime('%Y-%m-%d %H:%M:%S')\n",
    "print 'end : ' + datetime.now().strftime('%Y-%m-%d %H:%M:%S')\n",
    "    "
   ]
  },
  {
   "cell_type": "code",
   "execution_count": 119,
   "metadata": {
    "collapsed": true
   },
   "outputs": [],
   "source": [
    "di_dr_mat.to_csv(\"/DAS_Storage1/aschoi/data/Drug_Repositioning/7_new_association/new_predict/2_1_drug_disease_sim_matrix.tsv\", sep='\\t')"
   ]
  },
  {
   "cell_type": "code",
   "execution_count": 115,
   "metadata": {
    "collapsed": false
   },
   "outputs": [
    {
     "name": "stdout",
     "output_type": "stream",
     "text": [
      "start : 2017-04-23 21:52:13\n",
      "cnt == 100 : 2017-04-23 21:53:24\n",
      "cnt == 200 : 2017-04-23 21:54:34\n",
      "end : 2017-04-23 21:54:56\n"
     ]
    }
   ],
   "source": [
    "#disease-drug similarity #normalize 한 버전\n",
    "dr_di_mat = pd.DataFrame(columns = dr_id, index= di_id) #dr에 대한 di의 distance보기\n",
    "cnt = 0 \n",
    "print 'start : ' + datetime.now().strftime('%Y-%m-%d %H:%M:%S')\n",
    "for i in di_id:\n",
    "    other_diseases_sim = diSim[diSim.index != int(i)][i] # 검사할 disease를 제외한 다른 disease들\n",
    "    for j in dr_id:\n",
    "        target_drugs = pos[(pos.drug_id ==j)] # 검사할 drug\n",
    "        other_diseases_dr_sim = other_diseases_sim.filter(items = target_drugs['disease_id'].tolist())\n",
    "        sum_selected_disease = other_diseases_dr_sim.sum()\n",
    "        sum_all_disease = other_diseases_sim.sum()\n",
    "        norm = sum_selected_disease / sum_all_disease\n",
    "        dr_di_mat[j].ix[i] = norm   \n",
    "    cnt = cnt + 1\n",
    "    if cnt % 100 == 0:\n",
    "        print 'cnt == {} : '.format(cnt) + datetime.now().strftime('%Y-%m-%d %H:%M:%S')\n",
    "print 'end : ' + datetime.now().strftime('%Y-%m-%d %H:%M:%S')"
   ]
  },
  {
   "cell_type": "code",
   "execution_count": 120,
   "metadata": {
    "collapsed": true
   },
   "outputs": [],
   "source": [
    "dr_di_mat.to_csv(\"/DAS_Storage1/aschoi/data/Drug_Repositioning/7_new_association/new_predict/2_2_disease_drug_sim_matrix.tsv\", sep='\\t')"
   ]
  },
  {
   "cell_type": "code",
   "execution_count": 117,
   "metadata": {
    "collapsed": false
   },
   "outputs": [
    {
     "name": "stdout",
     "output_type": "stream",
     "text": [
      "start : 2017-04-23 21:55:23\n",
      "cnt == 100 : 2017-04-23 21:55:31\n",
      "cnt == 200 : 2017-04-23 21:55:40\n",
      "cnt == 300 : 2017-04-23 21:55:48\n",
      "cnt == 400 : 2017-04-23 21:55:56\n",
      "end : 2017-04-23 21:55:59\n"
     ]
    }
   ],
   "source": [
    "bef_distance = -(di_dr_mat+dr_di_mat)\n",
    "distance_mat = pd.DataFrame(columns = bef_distance.columns.values, index = bef_distance.index.values)\n",
    "cnt = 0 \n",
    "print 'start : ' + datetime.now().strftime('%Y-%m-%d %H:%M:%S')\n",
    "for i in bef_distance.columns.values:\n",
    "    for j in bef_distance.index.values:\n",
    "        a = bef_distance[i].ix[j]\n",
    "        distance = np.exp(a)\n",
    "        distance_mat[i].ix[j] = distance\n",
    "    cnt = cnt + 1\n",
    "    if cnt % 100 == 0:\n",
    "        print 'cnt == {} : '.format(cnt) + datetime.now().strftime('%Y-%m-%d %H:%M:%S')\n",
    "print 'end : ' + datetime.now().strftime('%Y-%m-%d %H:%M:%S')"
   ]
  },
  {
   "cell_type": "code",
   "execution_count": 118,
   "metadata": {
    "collapsed": false
   },
   "outputs": [
    {
     "name": "stdout",
     "output_type": "stream",
     "text": [
      "0.0\n",
      "0.179212877729\n",
      "0.0\n",
      "0.0824104003554\n",
      "0.0\n",
      "0.258910218901\n",
      "-0.258910218901\n",
      "-0.0\n",
      "0.771892321274\n",
      "1.0\n"
     ]
    }
   ],
   "source": [
    "print di_dr_mat.min().min() #drisease-drug sim의 최소값\n",
    "print di_dr_mat.max().max() #disease-drug sim의 최대값\n",
    "print dr_di_mat.min().min() #drug-disease sim의 최소값\n",
    "print dr_di_mat.max().max() #drug-disease sim의 최소값\n",
    "print (di_dr_mat + dr_di_mat).min().min() #위 두 결과를 더한 matrix의 최소값 (sim의 합의 최소값)\n",
    "print (di_dr_mat + dr_di_mat).max().max() #위 두 결과를 더한 matrix의 최대값 (sim의 합의 최대값)\n",
    "print bef_distance.min().min() #  - (sim의 합의 최대값)--> 최소값 --> 이 값을 exp에 넣으면 거리는 최소가 됨.\n",
    "print bef_distance.max().max() #  - (sim의 합의 최소값)--> 최대값 --> 이 값을 exp에 넣으면 거리는 최대가 됨.\n",
    "print np.exp(bef_distance.min().min()) #거리의 최소값 = 가까운 거리\n",
    "print np.exp(bef_distance.max().max()) # 거리의 최대값 = 먼 거리"
   ]
  },
  {
   "cell_type": "code",
   "execution_count": 122,
   "metadata": {
    "collapsed": false
   },
   "outputs": [],
   "source": [
    "distance_mat.to_csv(\"/DAS_Storage1/aschoi/data/Drug_Repositioning/7_new_association/new_predict/2_3_drug_disease_norm_distance.tsv\", sep='\\t')"
   ]
  },
  {
   "cell_type": "code",
   "execution_count": 124,
   "metadata": {
    "collapsed": false
   },
   "outputs": [
    {
     "name": "stdout",
     "output_type": "stream",
     "text": [
      "101122\n",
      "101122\n"
     ]
    }
   ],
   "source": [
    "# Similarity histogram\n",
    "summed_sim = list()\n",
    "for index, row in (di_dr_mat + dr_di_mat).iterrows():\n",
    "    for l in row:\n",
    "        summed_sim.append(l)\n",
    "print len(summed_sim)\n",
    "\n",
    "val = list()\n",
    "for index, row in distance_mat.iterrows():\n",
    "    for k in row:\n",
    "        val.append(k)\n",
    "print len(val)"
   ]
  },
  {
   "cell_type": "code",
   "execution_count": 125,
   "metadata": {
    "collapsed": false
   },
   "outputs": [
    {
     "name": "stderr",
     "output_type": "stream",
     "text": [
      "/usr/local/lib/python2.7/dist-packages/matplotlib/font_manager.py:273: UserWarning: Matplotlib is building the font cache using fc-list. This may take a moment.\n",
      "  warnings.warn('Matplotlib is building the font cache using fc-list. This may take a moment.')\n"
     ]
    },
    {
     "data": {
      "text/plain": [
       "<matplotlib.text.Text at 0x7fd1b4133fd0>"
      ]
     },
     "execution_count": 125,
     "metadata": {},
     "output_type": "execute_result"
    },
    {
     "data": {
      "image/png": "[encoded data removed]",
      "text/plain": [
       "<matplotlib.figure.Figure at 0x7fd1b41706d0>"
      ]
     },
     "metadata": {},
     "output_type": "display_data"
    }
   ],
   "source": [
    "# Similarity 분포를 보려고 (2017.4.18.)\n",
    "import matplotlib.pyplot as plt\n",
    "import numpy as np\n",
    "import plotly.plotly as py\n",
    "%matplotlib inline\n",
    "#num_bins = 30\n",
    "#plt.hist(summed_sim, num_bins)\n",
    "plt.scatter(summed_sim, val) ## sim이 낮을 수록 거리가 멀다.\n",
    "plt.xlabel(\"Similarity\")\n",
    "plt.ylabel(\"Distance\")\n",
    "#plt.xlim(0,20)\n",
    "#plt.ylim(0, 0.2)\n",
    "#plt.ylim(0.10, 0.14)"
   ]
  },
  {
   "cell_type": "code",
   "execution_count": null,
   "metadata": {
    "collapsed": true
   },
   "outputs": [],
   "source": [
    "# TN 찾기 (local 고려, pos 정보 없앰. indep도.) "
   ]
  },
  {
   "cell_type": "code",
   "execution_count": 127,
   "metadata": {
    "collapsed": false
   },
   "outputs": [],
   "source": [
    "distance_mat = pd.read_table(\"/DAS_Storage1/aschoi/data/Drug_Repositioning/7_new_association/new_predict/2_3_drug_disease_norm_distance.tsv\", sep='\\t', index_col=0)"
   ]
  },
  {
   "cell_type": "code",
   "execution_count": 235,
   "metadata": {
    "collapsed": true
   },
   "outputs": [],
   "source": [
    "# di당 거리가 먼 dr을 일정비율로 뽑는다.\n",
    "li_tn_di = list()\n",
    "for index, row in distance_mat.iterrows():\n",
    "    #idx = int(len(row)*0.1)\n",
    "    #idx = 29 #positive와 TN 비율을 1:10으로 할때\n",
    "    #idx = 43 # poisitive : TN = 1: 15\n",
    "    #idx = 58 # poisitive : TN = 1: 20\n",
    "    #idx = 87 # poisitive : TN = 1: 30\n",
    "    #idx = 15 # poisitive : TN = 1: 5\n",
    "    idx = 4 # poisitive : TN = 1: 1\n",
    "    filtered = row.sort_values(ascending=False)[:idx]\n",
    "    li_tn_di.append([index, filtered.index.tolist()])\n",
    "\n",
    "df_tn_di = pd.DataFrame()\n",
    "for i in li_tn_di:\n",
    "    for j in i[1]:\n",
    "        temp_df = pd.DataFrame(data=[[i[0], j]], columns = ['disease_id', 'drug_id'])\n",
    "        df_tn_di= df_tn_di.append(temp_df)"
   ]
  },
  {
   "cell_type": "code",
   "execution_count": 228,
   "metadata": {
    "collapsed": true
   },
   "outputs": [],
   "source": [
    "# dr당 거리가 먼 di을 일정비율로 뽑는다.\n",
    "li_tn_dr = list()\n",
    "for column in distance_mat:\n",
    "    #idx = int(len(distance_mat2[column])*0.1)\n",
    "    #idx = 15 #positive와 TN 비율을 1:10으로 할때\n",
    "    #idx = 23 # poisitive : TN = 1: 15\n",
    "    #idx = 31 # poisitive : TN = 1: 20\n",
    "    #idx = 46 # poisitive : TN = 1: 30\n",
    "    #idx = 8 # poisitive : TN = 1: 5\n",
    "    idx = 2 # poisitive : TN = 1: 1\n",
    "    filtered = distance_mat[column].sort_values(ascending=False)[:idx]\n",
    "    li_tn_dr.append([column, filtered.index.tolist()])\n",
    "\n",
    "df_tn_dr = pd.DataFrame()\n",
    "for i in li_tn_dr:\n",
    "    for j in i[1]:\n",
    "        temp_df = pd.DataFrame(data=[[j, i[0]]], columns = ['disease_id', 'drug_id'])\n",
    "        df_tn_dr= df_tn_dr.append(temp_df)"
   ]
  },
  {
   "cell_type": "code",
   "execution_count": 236,
   "metadata": {
    "collapsed": false
   },
   "outputs": [
    {
     "name": "stdout",
     "output_type": "stream",
     "text": [
      "1750\n"
     ]
    },
    {
     "data": {
      "text/html": [
       "<div>\n",
       "<table border=\"1\" class=\"dataframe\">\n",
       "  <thead>\n",
       "    <tr style=\"text-align: right;\">\n",
       "      <th></th>\n",
       "      <th></th>\n",
       "    </tr>\n",
       "    <tr>\n",
       "      <th>drug_id</th>\n",
       "      <th>disease_id</th>\n",
       "    </tr>\n",
       "  </thead>\n",
       "  <tbody>\n",
       "    <tr>\n",
       "      <th>DB00193</th>\n",
       "      <th>102300</th>\n",
       "    </tr>\n",
       "  </tbody>\n",
       "</table>\n",
       "</div>"
      ],
      "text/plain": [
       "Empty DataFrame\n",
       "Columns: []\n",
       "Index: [(DB00193, 102300)]"
      ]
     },
     "execution_count": 236,
     "metadata": {},
     "output_type": "execute_result"
    }
   ],
   "source": [
    "concatenated = pd.concat([df_tn_di, df_tn_dr]).drop_duplicates()[['drug_id', 'disease_id']]\n",
    "print len(concatenated)\n",
    "#concatenated.index = range(len(concatenated))\n",
    "concatenated.set_index(['drug_id', 'disease_id'], inplace=True)\n",
    "concatenated.head(1)"
   ]
  },
  {
   "cell_type": "code",
   "execution_count": 237,
   "metadata": {
    "collapsed": false
   },
   "outputs": [
    {
     "name": "stdout",
     "output_type": "stream",
     "text": [
      "total :1330, drug : 434, disease : 233\n"
     ]
    },
    {
     "data": {
      "text/html": [
       "<div>\n",
       "<table border=\"1\" class=\"dataframe\">\n",
       "  <thead>\n",
       "    <tr style=\"text-align: right;\">\n",
       "      <th></th>\n",
       "      <th></th>\n",
       "      <th>association</th>\n",
       "    </tr>\n",
       "    <tr>\n",
       "      <th>drug_id</th>\n",
       "      <th>disease_id</th>\n",
       "      <th></th>\n",
       "    </tr>\n",
       "  </thead>\n",
       "  <tbody>\n",
       "    <tr>\n",
       "      <th>DB00659</th>\n",
       "      <th>103780</th>\n",
       "      <td>1</td>\n",
       "    </tr>\n",
       "  </tbody>\n",
       "</table>\n",
       "</div>"
      ],
      "text/plain": [
       "                    association\n",
       "drug_id disease_id             \n",
       "DB00659 103780                1"
      ]
     },
     "execution_count": 237,
     "metadata": {},
     "output_type": "execute_result"
    }
   ],
   "source": [
    "print \"total :{}, drug : {}, disease : {}\".format(len(pos),\n",
    "                                                  len(pos.index.get_level_values(0).drop_duplicates()),\n",
    "                                                  len(pos.index.get_level_values(1).drop_duplicates()))\n",
    "#pos.set_index(['drug_id', 'disease_id'], inplace=True)\n",
    "pos.head(1)"
   ]
  },
  {
   "cell_type": "code",
   "execution_count": 238,
   "metadata": {
    "collapsed": false
   },
   "outputs": [
    {
     "name": "stdout",
     "output_type": "stream",
     "text": [
      "1417\n"
     ]
    },
    {
     "data": {
      "text/html": [
       "<div>\n",
       "<table border=\"1\" class=\"dataframe\">\n",
       "  <thead>\n",
       "    <tr style=\"text-align: right;\">\n",
       "      <th></th>\n",
       "      <th></th>\n",
       "    </tr>\n",
       "    <tr>\n",
       "      <th>drug_id</th>\n",
       "      <th>disease_id</th>\n",
       "    </tr>\n",
       "  </thead>\n",
       "  <tbody>\n",
       "    <tr>\n",
       "      <th>DB01356</th>\n",
       "      <th>102300</th>\n",
       "    </tr>\n",
       "  </tbody>\n",
       "</table>\n",
       "</div>"
      ],
      "text/plain": [
       "Empty DataFrame\n",
       "Columns: []\n",
       "Index: [(DB01356, 102300)]"
      ]
     },
     "execution_count": 238,
     "metadata": {},
     "output_type": "execute_result"
    }
   ],
   "source": [
    "# 구한 TN이 positive associaion과 겹치는게 있는지 체크 \n",
    "tn_pos = concatenated[~concatenated.index.isin(pos.index.tolist())]\n",
    "print len(tn_pos) # tn - pos\n",
    "tn_pos.head(1)"
   ]
  },
  {
   "cell_type": "code",
   "execution_count": 135,
   "metadata": {
    "collapsed": true
   },
   "outputs": [],
   "source": [
    "# 구한 TN이 indep과 겹치는게 있는지 체크\n",
    "#indep = pd.read_table(\"/DAS_Storage1/aschoi/data/Drug_Repositioning/8_new_training/PREDICT_data/2_2_indep_descriptor.tsv\")\n",
    "path = \"/DAS_Storage1/aschoi/data/Drug_Repositioning/8_new_training/1_feature_based-Systematic/4_PREDICT_dataset_ver2/\"\n",
    "indep = pd.read_table(path + \"2_indep_descriptor.tsv\", index_col = [0,1])"
   ]
  },
  {
   "cell_type": "code",
   "execution_count": 239,
   "metadata": {
    "collapsed": false
   },
   "outputs": [
    {
     "name": "stdout",
     "output_type": "stream",
     "text": [
      "1414\n"
     ]
    },
    {
     "data": {
      "text/html": [
       "<div>\n",
       "<table border=\"1\" class=\"dataframe\">\n",
       "  <thead>\n",
       "    <tr style=\"text-align: right;\">\n",
       "      <th></th>\n",
       "      <th></th>\n",
       "    </tr>\n",
       "    <tr>\n",
       "      <th>drug_id</th>\n",
       "      <th>disease_id</th>\n",
       "    </tr>\n",
       "  </thead>\n",
       "  <tbody>\n",
       "    <tr>\n",
       "      <th>DB01356</th>\n",
       "      <th>102300</th>\n",
       "    </tr>\n",
       "  </tbody>\n",
       "</table>\n",
       "</div>"
      ],
      "text/plain": [
       "Empty DataFrame\n",
       "Columns: []\n",
       "Index: [(DB01356, 102300)]"
      ]
     },
     "execution_count": 239,
     "metadata": {},
     "output_type": "execute_result"
    }
   ],
   "source": [
    "tn_pos_indep = tn_pos[~tn_pos.index.isin(indep.index.tolist())]\n",
    "print len(tn_pos_indep) # tn - pos - indep\n",
    "tn_pos_indep.head(1)"
   ]
  },
  {
   "cell_type": "code",
   "execution_count": 240,
   "metadata": {
    "collapsed": true
   },
   "outputs": [],
   "source": [
    "#tn_pos_indep.to_csv(\"/DAS_Storage1/aschoi/data/Drug_Repositioning/7_new_association/new_predict/4_1_tn_local_norm_1_10.tsv\", sep='\\t')\n",
    "#tn_pos_indep.to_csv(\"/DAS_Storage1/aschoi/data/Drug_Repositioning/7_new_association/new_predict/4_2_tn_local_norm_1_20.tsv\", sep='\\t')\n",
    "#tn_pos_indep.to_csv(\"/DAS_Storage1/aschoi/data/Drug_Repositioning/7_new_association/new_predict/4_3_tn_local_norm_1_15.tsv\", sep='\\t')\n",
    "#tn_pos_indep.to_csv(\"/DAS_Storage1/aschoi/data/Drug_Repositioning/7_new_association/new_predict/4_4_tn_local_norm_1_5.tsv\", sep='\\t')\n",
    "tn_pos_indep.to_csv(\"/DAS_Storage1/aschoi/data/Drug_Repositioning/7_new_association/new_predict/4_5_tn_local_norm_1_1.tsv\", sep='\\t')"
   ]
  },
  {
   "cell_type": "code",
   "execution_count": null,
   "metadata": {
    "collapsed": true
   },
   "outputs": [],
   "source": [
    "# negative descriptor 만들기 -local"
   ]
  },
  {
   "cell_type": "code",
   "execution_count": 241,
   "metadata": {
    "collapsed": true
   },
   "outputs": [],
   "source": [
    "#concatenated = pd.read_table(\"/DAS_Storage1/aschoi/data/Drug_Repositioning/7_new_association/new_predict/4_1_tn_local_norm_1_10.tsv\", sep='\\t')\n",
    "#concatenated = pd.read_table(\"/DAS_Storage1/aschoi/data/Drug_Repositioning/7_new_association/new_predict/4_2_tn_local_norm_1_20.tsv\", sep='\\t')\n",
    "#concatenated = pd.read_table(\"/DAS_Storage1/aschoi/data/Drug_Repositioning/7_new_association/new_predict/4_3_tn_local_norm_1_15.tsv\", sep='\\t')\n",
    "#concatenated = pd.read_table(\"/DAS_Storage1/aschoi/data/Drug_Repositioning/7_new_association/new_predict/4_4_tn_local_norm_1_5.tsv\", sep='\\t')\n",
    "concatenated = pd.read_table(\"/DAS_Storage1/aschoi/data/Drug_Repositioning/7_new_association/new_predict/4_5_tn_local_norm_1_1.tsv\", sep='\\t')"
   ]
  },
  {
   "cell_type": "code",
   "execution_count": 242,
   "metadata": {
    "collapsed": false
   },
   "outputs": [
    {
     "name": "stdout",
     "output_type": "stream",
     "text": [
      "1414\n",
      "1414\n"
     ]
    },
    {
     "data": {
      "text/html": [
       "<div>\n",
       "<table border=\"1\" class=\"dataframe\">\n",
       "  <thead>\n",
       "    <tr style=\"text-align: right;\">\n",
       "      <th></th>\n",
       "      <th>drug_id</th>\n",
       "      <th>disease_id</th>\n",
       "    </tr>\n",
       "  </thead>\n",
       "  <tbody>\n",
       "    <tr>\n",
       "      <th>0</th>\n",
       "      <td>DB01356</td>\n",
       "      <td>102300</td>\n",
       "    </tr>\n",
       "  </tbody>\n",
       "</table>\n",
       "</div>"
      ],
      "text/plain": [
       "   drug_id  disease_id\n",
       "0  DB01356      102300"
      ]
     },
     "execution_count": 242,
     "metadata": {},
     "output_type": "execute_result"
    }
   ],
   "source": [
    "print len(concatenated)\n",
    "print len(concatenated.drop_duplicates())\n",
    "concatenated.head(1)"
   ]
  },
  {
   "cell_type": "code",
   "execution_count": 148,
   "metadata": {
    "collapsed": true
   },
   "outputs": [],
   "source": [
    "path = \"/DAS_Storage1/aschoi/data/Drug_Repositioning/8_new_training/2_similarity_based-PREDICT/\"\n",
    "desc = pd.read_table(path + \"2_3_gold_descriptor.tsv\", index_col = [0,1])"
   ]
  },
  {
   "cell_type": "code",
   "execution_count": 243,
   "metadata": {
    "collapsed": true
   },
   "outputs": [],
   "source": [
    "tns = [tuple(x) for x in concatenated[['drug_id', 'disease_id']].values]"
   ]
  },
  {
   "cell_type": "code",
   "execution_count": 244,
   "metadata": {
    "collapsed": false
   },
   "outputs": [
    {
     "name": "stdout",
     "output_type": "stream",
     "text": [
      "1414\n"
     ]
    },
    {
     "data": {
      "text/html": [
       "<div>\n",
       "<table border=\"1\" class=\"dataframe\">\n",
       "  <thead>\n",
       "    <tr style=\"text-align: right;\">\n",
       "      <th></th>\n",
       "      <th></th>\n",
       "      <th>association</th>\n",
       "      <th>drStr_diGe</th>\n",
       "      <th>drStr_diPhe</th>\n",
       "      <th>drPhe_diGe</th>\n",
       "      <th>drPhe_diPhe</th>\n",
       "    </tr>\n",
       "    <tr>\n",
       "      <th>drug_id</th>\n",
       "      <th>disease_id</th>\n",
       "      <th></th>\n",
       "      <th></th>\n",
       "      <th></th>\n",
       "      <th></th>\n",
       "      <th></th>\n",
       "    </tr>\n",
       "  </thead>\n",
       "  <tbody>\n",
       "    <tr>\n",
       "      <th>DB01356</th>\n",
       "      <th>102300</th>\n",
       "      <td>0</td>\n",
       "      <td>0.957341</td>\n",
       "      <td>0.408694</td>\n",
       "      <td>0.975566</td>\n",
       "      <td>0.966915</td>\n",
       "    </tr>\n",
       "  </tbody>\n",
       "</table>\n",
       "</div>"
      ],
      "text/plain": [
       "                    association  drStr_diGe  drStr_diPhe  drPhe_diGe  \\\n",
       "drug_id disease_id                                                     \n",
       "DB01356 102300                0    0.957341     0.408694    0.975566   \n",
       "\n",
       "                    drPhe_diPhe  \n",
       "drug_id disease_id               \n",
       "DB01356 102300         0.966915  "
      ]
     },
     "execution_count": 244,
     "metadata": {},
     "output_type": "execute_result"
    }
   ],
   "source": [
    "df_tn_desc = desc.filter(items = tns, axis=0)\n",
    "print len(df_tn_desc)\n",
    "df_tn_desc.head(1)"
   ]
  },
  {
   "cell_type": "code",
   "execution_count": 245,
   "metadata": {
    "collapsed": false
   },
   "outputs": [],
   "source": [
    "desc_pos = desc[desc.association ==1]\n",
    "frames = [desc_pos, df_tn_desc]\n",
    "whole_desc = pd.concat(frames)"
   ]
  },
  {
   "cell_type": "code",
   "execution_count": 246,
   "metadata": {
    "collapsed": false
   },
   "outputs": [
    {
     "name": "stdout",
     "output_type": "stream",
     "text": [
      "1330\n",
      "1414\n",
      "2744\n"
     ]
    },
    {
     "data": {
      "text/html": [
       "<div>\n",
       "<table border=\"1\" class=\"dataframe\">\n",
       "  <thead>\n",
       "    <tr style=\"text-align: right;\">\n",
       "      <th></th>\n",
       "      <th></th>\n",
       "      <th>association</th>\n",
       "      <th>drStr_diGe</th>\n",
       "      <th>drStr_diPhe</th>\n",
       "      <th>drPhe_diGe</th>\n",
       "      <th>drPhe_diPhe</th>\n",
       "    </tr>\n",
       "    <tr>\n",
       "      <th>drug_id</th>\n",
       "      <th>disease_id</th>\n",
       "      <th></th>\n",
       "      <th></th>\n",
       "      <th></th>\n",
       "      <th></th>\n",
       "      <th></th>\n",
       "    </tr>\n",
       "  </thead>\n",
       "  <tbody>\n",
       "    <tr>\n",
       "      <th>DB00114</th>\n",
       "      <th>239350</th>\n",
       "      <td>1</td>\n",
       "      <td>0.80403</td>\n",
       "      <td>0.80403</td>\n",
       "      <td>0.962981</td>\n",
       "      <td>0.962981</td>\n",
       "    </tr>\n",
       "  </tbody>\n",
       "</table>\n",
       "</div>"
      ],
      "text/plain": [
       "                    association  drStr_diGe  drStr_diPhe  drPhe_diGe  \\\n",
       "drug_id disease_id                                                     \n",
       "DB00114 239350                1     0.80403      0.80403    0.962981   \n",
       "\n",
       "                    drPhe_diPhe  \n",
       "drug_id disease_id               \n",
       "DB00114 239350         0.962981  "
      ]
     },
     "execution_count": 246,
     "metadata": {},
     "output_type": "execute_result"
    }
   ],
   "source": [
    "print len(desc_pos)\n",
    "print len(df_tn_desc)\n",
    "print len(whole_desc)\n",
    "whole_desc.head(1)"
   ]
  },
  {
   "cell_type": "code",
   "execution_count": 247,
   "metadata": {
    "collapsed": false
   },
   "outputs": [
    {
     "name": "stdout",
     "output_type": "stream",
     "text": [
      "434\n",
      "233\n"
     ]
    }
   ],
   "source": [
    "print len(whole_desc.index.get_level_values(0).drop_duplicates())\n",
    "print len(whole_desc.index.get_level_values(1).drop_duplicates())"
   ]
  },
  {
   "cell_type": "code",
   "execution_count": 249,
   "metadata": {
    "collapsed": true
   },
   "outputs": [],
   "source": [
    "path = \"/DAS_Storage1/aschoi/data/Drug_Repositioning/8_new_training/2_similarity_based-PREDICT/\"\n",
    "#whole_desc.to_csv(path + \"4_tn_local_norm_1_10_descriptor.tsv\", sep='\\t')\n",
    "#whole_desc.to_csv(path + \"4_2_tn_local_norm_1_20_descriptor.tsv\", sep='\\t')\n",
    "#whole_desc.to_csv(path + \"4_3_tn_local_norm_1_15_descriptor.tsv\", sep='\\t')\n",
    "#whole_desc.to_csv(path + \"4_4_tn_local_norm_1_5_descriptor.tsv\", sep='\\t')\n",
    "whole_desc.to_csv(path + \"4_5_tn_local_norm_1_1_descriptor.tsv\", sep='\\t')"
   ]
  },
  {
   "cell_type": "code",
   "execution_count": null,
   "metadata": {
    "collapsed": true
   },
   "outputs": [],
   "source": [
    "# 4.24. noTN 구하기"
   ]
  },
  {
   "cell_type": "code",
   "execution_count": 252,
   "metadata": {
    "collapsed": true
   },
   "outputs": [],
   "source": [
    "path = \"/DAS_Storage1/aschoi/data/Drug_Repositioning/8_new_training/2_similarity_based-PREDICT/\"\n",
    "desc = pd.read_table(path + \"2_3_gold_descriptor.tsv\", index_col = [0,1])\n",
    "indep = pd.read_table(path + \"3_2_indep_descriptor.tsv\", index_col = [0,1])\n",
    "tn = pd.read_table(\"/DAS_Storage1/aschoi/data/Drug_Repositioning/7_new_association/new_predict/4_5_tn_local_norm_1_1.tsv\", index_col = [0,1])"
   ]
  },
  {
   "cell_type": "code",
   "execution_count": 254,
   "metadata": {
    "collapsed": false
   },
   "outputs": [
    {
     "name": "stdout",
     "output_type": "stream",
     "text": [
      "99493\n",
      "1414\n"
     ]
    }
   ],
   "source": [
    "print len(desc)\n",
    "print len(tn)"
   ]
  },
  {
   "cell_type": "code",
   "execution_count": 257,
   "metadata": {
    "collapsed": false
   },
   "outputs": [
    {
     "name": "stdout",
     "output_type": "stream",
     "text": [
      "98163\n"
     ]
    },
    {
     "data": {
      "text/html": [
       "<div>\n",
       "<table border=\"1\" class=\"dataframe\">\n",
       "  <thead>\n",
       "    <tr style=\"text-align: right;\">\n",
       "      <th></th>\n",
       "      <th></th>\n",
       "      <th>association</th>\n",
       "      <th>drStr_diGe</th>\n",
       "      <th>drStr_diPhe</th>\n",
       "      <th>drPhe_diGe</th>\n",
       "      <th>drPhe_diPhe</th>\n",
       "    </tr>\n",
       "    <tr>\n",
       "      <th>drug_id</th>\n",
       "      <th>disease_id</th>\n",
       "      <th></th>\n",
       "      <th></th>\n",
       "      <th></th>\n",
       "      <th></th>\n",
       "      <th></th>\n",
       "    </tr>\n",
       "  </thead>\n",
       "  <tbody>\n",
       "    <tr>\n",
       "      <th>DB00114</th>\n",
       "      <th>102300</th>\n",
       "      <td>0</td>\n",
       "      <td>0.983534</td>\n",
       "      <td>0.429415</td>\n",
       "      <td>0.983534</td>\n",
       "      <td>0.943927</td>\n",
       "    </tr>\n",
       "  </tbody>\n",
       "</table>\n",
       "</div>"
      ],
      "text/plain": [
       "                    association  drStr_diGe  drStr_diPhe  drPhe_diGe  \\\n",
       "drug_id disease_id                                                     \n",
       "DB00114 102300                0    0.983534     0.429415    0.983534   \n",
       "\n",
       "                    drPhe_diPhe  \n",
       "drug_id disease_id               \n",
       "DB00114 102300         0.943927  "
      ]
     },
     "execution_count": 257,
     "metadata": {},
     "output_type": "execute_result"
    }
   ],
   "source": [
    "neg = desc[desc.association == 0]\n",
    "print len(neg)\n",
    "neg.head(1)"
   ]
  },
  {
   "cell_type": "code",
   "execution_count": 258,
   "metadata": {
    "collapsed": false
   },
   "outputs": [
    {
     "name": "stdout",
     "output_type": "stream",
     "text": [
      "96749\n",
      "2399\n",
      "96749\n"
     ]
    }
   ],
   "source": [
    "# neg - tn - indep\n",
    "neg_tn = neg[~neg.index.isin(tn.index.values.tolist())]\n",
    "neg_tn_indep = neg_tn[~neg_tn.index.isin(indep.index.values.tolist())]\n",
    "print len(neg_tn)\n",
    "print len(indep)\n",
    "print len(neg_tn_indep)  # 이미 desc 만들 때, indep과 중복을 제거한 후라서 수의 변화가 없다."
   ]
  },
  {
   "cell_type": "code",
   "execution_count": 262,
   "metadata": {
    "collapsed": true
   },
   "outputs": [],
   "source": [
    "Opath = \"/DAS_Storage1/aschoi/data/Drug_Repositioning/8_new_training/2_similarity_based-PREDICT/\"\n",
    "neg_tn_indep.to_csv(Opath + \"4_5_2_noTn_only_local_norm_descriptor.tsv\", sep='\\t')"
   ]
  },
  {
   "cell_type": "code",
   "execution_count": 261,
   "metadata": {
    "collapsed": false
   },
   "outputs": [],
   "source": [
    "pos = desc[desc.association == 1]\n",
    "neg_tn_indep_pos = pd.concat([pos, neg_tn_indep])"
   ]
  },
  {
   "cell_type": "code",
   "execution_count": 263,
   "metadata": {
    "collapsed": true
   },
   "outputs": [],
   "source": [
    "neg_tn_indep_pos.to_csv(Opath + \"4_5_3_noTn_1_1_local_norm_descriptor.tsv\", sep='\\t')"
   ]
  },
  {
   "cell_type": "code",
   "execution_count": null,
   "metadata": {
    "collapsed": true
   },
   "outputs": [],
   "source": []
  }
 ],
 "metadata": {
  "kernelspec": {
   "display_name": "Python 2",
   "language": "python",
   "name": "python2"
  },
  "language_info": {
   "codemirror_mode": {
    "name": "ipython",
    "version": 2
   },
   "file_extension": ".py",
   "mimetype": "text/x-python",
   "name": "python",
   "nbconvert_exporter": "python",
   "pygments_lexer": "ipython2",
   "version": "2.7.6"
  }
 },
 "nbformat": 4,
 "nbformat_minor": 2
}
