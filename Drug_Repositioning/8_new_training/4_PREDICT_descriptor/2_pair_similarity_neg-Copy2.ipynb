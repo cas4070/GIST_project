{
 "cells": [
  {
   "cell_type": "code",
   "execution_count": 1,
   "metadata": {
    "collapsed": true
   },
   "outputs": [],
   "source": [
    "import numpy as np\n",
    "import os\n",
    "import pandas as pd\n",
    "import time\n",
    "from itertools import product\n",
    "import math"
   ]
  },
  {
   "cell_type": "code",
   "execution_count": 2,
   "metadata": {
    "collapsed": false
   },
   "outputs": [
    {
     "name": "stdout",
     "output_type": "stream",
     "text": [
      "1330\n",
      "98163\n"
     ]
    }
   ],
   "source": [
    "drPhe = pd.read_table(\"/DAS_Storage1/aschoi/data/Drug_Repositioning/5_new_drug/new_predict/1_drug_drug_se_sim_mat.tsv\", index_col=0)\n",
    "drStr = pd.read_table(\"/DAS_Storage1/aschoi/data/Drug_Repositioning/5_new_drug/new_predict/1_drug_drug_str_sim_mat.tsv\", index_col=0)\n",
    "diPhe = pd.read_table(\"/DAS_Storage1/aschoi/data/Drug_Repositioning/6_new_disease/new_predict/1_disease_disease_phe_sim_mat.tsv\", index_col=0)\n",
    "diGe = pd.read_table(\"/DAS_Storage1/aschoi/data/Drug_Repositioning/6_new_disease/new_predict/1_disease_disease_ge_sim_mat.tsv\", index_col=0)\n",
    "new_asso = pd.read_table(\"/DAS_Storage1/aschoi/data/Drug_Repositioning/7_new_association/new_predict/1_gold_learning_asso.tsv\")\n",
    "\n",
    "pos = new_asso[new_asso.association == 1]\n",
    "neg = new_asso[new_asso.association == 0]\n",
    "print len(pos)\n",
    "print len(neg)"
   ]
  },
  {
   "cell_type": "code",
   "execution_count": 3,
   "metadata": {
    "collapsed": false
   },
   "outputs": [
    {
     "name": "stdout",
     "output_type": "stream",
     "text": [
      "start : Fri 00:49:37\n",
      "end : Fri 00:49:48\n"
     ]
    }
   ],
   "source": [
    "neg_li = list()\n",
    "for index, row in neg.iterrows():\n",
    "    query_drug = row['drug_id']\n",
    "    query_disease = row['disease_id']\n",
    "    #query_asso = row['association']\n",
    "    neg_li.append((query_drug, query_disease))#, query_asso))\n",
    "    \n",
    "pos_li = list()\n",
    "for index2, row2 in pos.iterrows():\n",
    "    pos_drug = row2['drug_id']\n",
    "    pos_disease = row2['disease_id']\n",
    "    pos_li.append((pos_drug, pos_disease)) \n",
    "print 'start : ' + time.strftime('%a %H:%M:%S')\n",
    "desc_pair = list(product(neg_li, pos_li))\n",
    "print 'end : ' + time.strftime('%a %H:%M:%S')"
   ]
  },
  {
   "cell_type": "code",
   "execution_count": null,
   "metadata": {
    "collapsed": true
   },
   "outputs": [],
   "source": [
    "# drPhe(negDrug:posDrug)\n",
    "cnt = 0\n",
    "print 'start : ' + time.strftime('%a %H:%M:%S')\n",
    "val = list()\n",
    "print len(desc_pair)\n",
    "for pair in desc_pair:\n",
    "        drug_pheSim = drPhe[pair[0][0]][pair[1][0]]\n",
    "        val.append(drug_pheSim)\n",
    "        cnt = cnt +1\n",
    "        if cnt % 10000000 == 0:\n",
    "            print \"{} : \".format(cnt) + time.strftime('%a %H:%M:%S')\n",
    "print 'end : ' + time.strftime('%a %H:%M:%S')\n",
    "print cnt"
   ]
  },
  {
   "cell_type": "code",
   "execution_count": null,
   "metadata": {
    "collapsed": true
   },
   "outputs": [],
   "source": [
    "# drStr(negDrug:posDrug)\n",
    "cnt = 0\n",
    "print 'start : ' + time.strftime('%a %H:%M:%S')\n",
    "val = list()\n",
    "print len(desc_pair)\n",
    "for pair in desc_pair:\n",
    "        drug_strSim = drStr[pair[0][0]][pair[1][0]]\n",
    "        val.append(drug_strSim)\n",
    "        cnt = cnt +1\n",
    "        if cnt % 10000000 == 0:\n",
    "            print \"{} : \".format(cnt) + time.strftime('%a %H:%M:%S')\n",
    "print 'end : ' + time.strftime('%a %H:%M:%S')\n",
    "print cnt"
   ]
  },
  {
   "cell_type": "code",
   "execution_count": 4,
   "metadata": {
    "collapsed": false
   },
   "outputs": [
    {
     "name": "stdout",
     "output_type": "stream",
     "text": [
      "start : Fri 00:51:43\n",
      "130556790\n",
      "10000000 : Fri 00:56:16\n",
      "20000000 : Fri 01:00:46\n",
      "30000000 : Fri 01:05:15\n",
      "40000000 : Fri 01:09:40\n",
      "50000000 : Fri 01:14:03\n",
      "60000000 : Fri 01:18:22\n",
      "70000000 : Fri 01:22:44\n",
      "80000000 : Fri 01:27:06\n",
      "90000000 : Fri 01:31:26\n",
      "100000000 : Fri 01:35:42\n",
      "110000000 : Fri 01:39:57\n",
      "120000000 : Fri 01:44:10\n",
      "130000000 : Fri 01:48:24\n",
      "end : Fri 01:48:38\n",
      "130556790\n"
     ]
    }
   ],
   "source": [
    "# diPhe(negDisease:posDisease)\n",
    "cnt = 0\n",
    "print 'start : ' + time.strftime('%a %H:%M:%S')\n",
    "val = list()\n",
    "print len(desc_pair)\n",
    "for pair in desc_pair:\n",
    "        disease_pheSim = diPhe[str(pair[0][1])][pair[1][1]]\n",
    "        val.append(disease_pheSim)\n",
    "        cnt = cnt +1\n",
    "        if cnt % 10000000 == 0:\n",
    "            print \"{} : \".format(cnt) + time.strftime('%a %H:%M:%S')\n",
    "print 'end : ' + time.strftime('%a %H:%M:%S')\n",
    "print cnt"
   ]
  },
  {
   "cell_type": "code",
   "execution_count": 5,
   "metadata": {
    "collapsed": true
   },
   "outputs": [],
   "source": [
    "disease1 = list()\n",
    "disease2 = list()\n",
    "for pair in desc_pair:\n",
    "    disease1.append(pair[0][1])\n",
    "    disease2.append(pair[1][1])\n",
    "pair_di_PheSim = pd.DataFrame({'disease1':disease1,'disease2':disease2, 'diPheSim':val})\n",
    "pair_di_PheSim.to_csv(\"/DAS_Storage1/aschoi/data/Drug_Repositioning/8_new_training/new_predict/1_neg_didi_PheSim.tsv\", sep='\\t', index=False)"
   ]
  },
  {
   "cell_type": "code",
   "execution_count": 6,
   "metadata": {
    "collapsed": false
   },
   "outputs": [
    {
     "name": "stdout",
     "output_type": "stream",
     "text": [
      "start : Fri 01:59:11\n",
      "130556790\n",
      "10000000 : Fri 02:03:28\n",
      "20000000 : Fri 02:07:42\n",
      "30000000 : Fri 02:11:52\n",
      "40000000 : Fri 02:16:21\n",
      "50000000 : Fri 02:20:54\n",
      "60000000 : Fri 02:25:23\n",
      "70000000 : Fri 02:29:27\n",
      "80000000 : Fri 02:33:33\n",
      "90000000 : Fri 02:37:39\n",
      "100000000 : Fri 02:41:44\n",
      "110000000 : Fri 02:45:49\n",
      "120000000 : Fri 02:49:56\n",
      "130000000 : Fri 02:54:01\n",
      "end : Fri 02:54:15\n",
      "130556790\n"
     ]
    }
   ],
   "source": [
    "# diGe(negDisease:posDisease)\n",
    "cnt = 0\n",
    "print 'start : ' + time.strftime('%a %H:%M:%S')\n",
    "val = list()\n",
    "print len(desc_pair)\n",
    "for pair in desc_pair:\n",
    "        disease_geSim = diGe[str(pair[0][1])][pair[1][1]]\n",
    "        val.append(disease_geSim)\n",
    "        cnt = cnt +1\n",
    "        if cnt % 10000000 == 0:\n",
    "            print \"{} : \".format(cnt) + time.strftime('%a %H:%M:%S')\n",
    "print 'end : ' + time.strftime('%a %H:%M:%S')\n",
    "print cnt"
   ]
  },
  {
   "cell_type": "code",
   "execution_count": null,
   "metadata": {
    "collapsed": true
   },
   "outputs": [],
   "source": []
  },
  {
   "cell_type": "code",
   "execution_count": null,
   "metadata": {
    "collapsed": true
   },
   "outputs": [],
   "source": []
  },
  {
   "cell_type": "code",
   "execution_count": null,
   "metadata": {
    "collapsed": true
   },
   "outputs": [],
   "source": []
  },
  {
   "cell_type": "code",
   "execution_count": null,
   "metadata": {
    "collapsed": true
   },
   "outputs": [],
   "source": [
    "max_pheSim = list()\n",
    "val = list()\n",
    "for i in range(len(desc_pair)):\n",
    "    #drug_pheSim = drPhe[pair[i][1][0]][pair[i][0][0]]\n",
    "    #val.append(drug_pheSim)\n",
    "    elementwise 곱\n",
    "    if (i+1) % 1316 == 0: # neg한개 끝난것.\n",
    "        max(val)"
   ]
  },
  {
   "cell_type": "code",
   "execution_count": null,
   "metadata": {
    "collapsed": true
   },
   "outputs": [],
   "source": []
  }
 ],
 "metadata": {
  "kernelspec": {
   "display_name": "Python 2",
   "language": "python",
   "name": "python2"
  },
  "language_info": {
   "codemirror_mode": {
    "name": "ipython",
    "version": 2
   },
   "file_extension": ".py",
   "mimetype": "text/x-python",
   "name": "python",
   "nbconvert_exporter": "python",
   "pygments_lexer": "ipython2",
   "version": "2.7.6"
  }
 },
 "nbformat": 4,
 "nbformat_minor": 2
}
