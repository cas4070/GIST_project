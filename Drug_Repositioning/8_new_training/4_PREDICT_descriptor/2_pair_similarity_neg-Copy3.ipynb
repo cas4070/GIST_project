{
 "cells": [
  {
   "cell_type": "code",
   "execution_count": 1,
   "metadata": {
    "collapsed": true
   },
   "outputs": [],
   "source": [
    "import numpy as np\n",
    "import os\n",
    "import pandas as pd\n",
    "import time\n",
    "from itertools import product\n",
    "import math"
   ]
  },
  {
   "cell_type": "code",
   "execution_count": 2,
   "metadata": {
    "collapsed": false
   },
   "outputs": [
    {
     "name": "stdout",
     "output_type": "stream",
     "text": [
      "1330\n",
      "98163\n"
     ]
    }
   ],
   "source": [
    "drPhe = pd.read_table(\"/DAS_Storage1/aschoi/data/Drug_Repositioning/5_new_drug/new_predict/1_drug_drug_se_sim_mat.tsv\", index_col=0)\n",
    "drStr = pd.read_table(\"/DAS_Storage1/aschoi/data/Drug_Repositioning/5_new_drug/new_predict/1_drug_drug_str_sim_mat.tsv\", index_col=0)\n",
    "diPhe = pd.read_table(\"/DAS_Storage1/aschoi/data/Drug_Repositioning/6_new_disease/new_predict/1_disease_disease_phe_sim_mat.tsv\", index_col=0)\n",
    "diGe = pd.read_table(\"/DAS_Storage1/aschoi/data/Drug_Repositioning/6_new_disease/new_predict/1_disease_disease_ge_sim_mat.tsv\", index_col=0)\n",
    "new_asso = pd.read_table(\"/DAS_Storage1/aschoi/data/Drug_Repositioning/7_new_association/new_predict/1_gold_learning_asso.tsv\")\n",
    "\n",
    "pos = new_asso[new_asso.association == 1]\n",
    "neg = new_asso[new_asso.association == 0]\n",
    "print len(pos)\n",
    "print len(neg)"
   ]
  },
  {
   "cell_type": "code",
   "execution_count": 3,
   "metadata": {
    "collapsed": false
   },
   "outputs": [
    {
     "name": "stdout",
     "output_type": "stream",
     "text": [
      "start : Fri 00:49:47\n",
      "end : Fri 00:49:57\n"
     ]
    }
   ],
   "source": [
    "neg_li = list()\n",
    "for index, row in neg.iterrows():\n",
    "    query_drug = row['drug_id']\n",
    "    query_disease = row['disease_id']\n",
    "    #query_asso = row['association']\n",
    "    neg_li.append((query_drug, query_disease))#, query_asso))\n",
    "    \n",
    "pos_li = list()\n",
    "for index2, row2 in pos.iterrows():\n",
    "    pos_drug = row2['drug_id']\n",
    "    pos_disease = row2['disease_id']\n",
    "    pos_li.append((pos_drug, pos_disease)) \n",
    "print 'start : ' + time.strftime('%a %H:%M:%S')\n",
    "desc_pair = list(product(neg_li, pos_li))\n",
    "print 'end : ' + time.strftime('%a %H:%M:%S')"
   ]
  },
  {
   "cell_type": "code",
   "execution_count": null,
   "metadata": {
    "collapsed": true
   },
   "outputs": [],
   "source": [
    "# drPhe(negDrug:posDrug)\n",
    "cnt = 0\n",
    "print 'start : ' + time.strftime('%a %H:%M:%S')\n",
    "val = list()\n",
    "print len(desc_pair)\n",
    "for pair in desc_pair:\n",
    "        drug_pheSim = drPhe[pair[0][0]][pair[1][0]]\n",
    "        val.append(drug_pheSim)\n",
    "        cnt = cnt +1\n",
    "        if cnt % 10000000 == 0:\n",
    "            print \"{} : \".format(cnt) + time.strftime('%a %H:%M:%S')\n",
    "print 'end : ' + time.strftime('%a %H:%M:%S')\n",
    "print cnt"
   ]
  },
  {
   "cell_type": "code",
   "execution_count": 4,
   "metadata": {
    "collapsed": false
   },
   "outputs": [
    {
     "name": "stdout",
     "output_type": "stream",
     "text": [
      "start : Fri 00:51:12\n",
      "130556790\n",
      "10000000 : Fri 00:57:23\n",
      "20000000 : Fri 01:03:31\n",
      "30000000 : Fri 01:09:33\n",
      "40000000 : Fri 01:15:44\n",
      "50000000 : Fri 01:21:51\n",
      "60000000 : Fri 01:28:00\n",
      "70000000 : Fri 01:34:04\n",
      "80000000 : Fri 01:40:13\n",
      "90000000 : Fri 01:46:41\n",
      "100000000 : Fri 01:52:50\n",
      "110000000 : Fri 01:58:50\n",
      "120000000 : Fri 02:04:45\n",
      "130000000 : Fri 02:10:56\n",
      "end : Fri 02:11:17\n",
      "130556790\n"
     ]
    }
   ],
   "source": [
    "# drStr(negDrug:posDrug)\n",
    "cnt = 0\n",
    "print 'start : ' + time.strftime('%a %H:%M:%S')\n",
    "val = list()\n",
    "print len(desc_pair)\n",
    "for pair in desc_pair:\n",
    "        drug_strSim = drStr[pair[0][0]][pair[1][0]]\n",
    "        val.append(drug_strSim)\n",
    "        cnt = cnt +1\n",
    "        if cnt % 10000000 == 0:\n",
    "            print \"{} : \".format(cnt) + time.strftime('%a %H:%M:%S')\n",
    "print 'end : ' + time.strftime('%a %H:%M:%S')\n",
    "print cnt"
   ]
  },
  {
   "cell_type": "code",
   "execution_count": 5,
   "metadata": {
    "collapsed": true
   },
   "outputs": [],
   "source": [
    "drug1 = list()\n",
    "drug2 = list()\n",
    "for pair in desc_pair:\n",
    "    drug1.append(pair[0][0])\n",
    "    drug2.append(pair[1][0])\n",
    "pair_dr_StrSim = pd.DataFrame({'query_drug':drug1,'pos_drug':drug2, 'drStrSim':val})"
   ]
  },
  {
   "cell_type": "code",
   "execution_count": 6,
   "metadata": {
    "collapsed": false
   },
   "outputs": [
    {
     "data": {
      "text/html": [
       "<div>\n",
       "<table border=\"1\" class=\"dataframe\">\n",
       "  <thead>\n",
       "    <tr style=\"text-align: right;\">\n",
       "      <th></th>\n",
       "      <th>drStrSim</th>\n",
       "      <th>pos_drug</th>\n",
       "      <th>query_drug</th>\n",
       "    </tr>\n",
       "  </thead>\n",
       "  <tbody>\n",
       "    <tr>\n",
       "      <th>0</th>\n",
       "      <td>1.000000</td>\n",
       "      <td>DB00659</td>\n",
       "      <td>DB00659</td>\n",
       "    </tr>\n",
       "    <tr>\n",
       "      <th>1</th>\n",
       "      <td>0.125984</td>\n",
       "      <td>DB01193</td>\n",
       "      <td>DB00659</td>\n",
       "    </tr>\n",
       "    <tr>\n",
       "      <th>2</th>\n",
       "      <td>0.125984</td>\n",
       "      <td>DB01193</td>\n",
       "      <td>DB00659</td>\n",
       "    </tr>\n",
       "    <tr>\n",
       "      <th>3</th>\n",
       "      <td>0.171875</td>\n",
       "      <td>DB00316</td>\n",
       "      <td>DB00659</td>\n",
       "    </tr>\n",
       "    <tr>\n",
       "      <th>4</th>\n",
       "      <td>0.171875</td>\n",
       "      <td>DB00316</td>\n",
       "      <td>DB00659</td>\n",
       "    </tr>\n",
       "  </tbody>\n",
       "</table>\n",
       "</div>"
      ],
      "text/plain": [
       "   drStrSim pos_drug query_drug\n",
       "0  1.000000  DB00659    DB00659\n",
       "1  0.125984  DB01193    DB00659\n",
       "2  0.125984  DB01193    DB00659\n",
       "3  0.171875  DB00316    DB00659\n",
       "4  0.171875  DB00316    DB00659"
      ]
     },
     "execution_count": 6,
     "metadata": {},
     "output_type": "execute_result"
    }
   ],
   "source": [
    "pair_dr_StrSim.head()"
   ]
  },
  {
   "cell_type": "code",
   "execution_count": 7,
   "metadata": {
    "collapsed": true
   },
   "outputs": [],
   "source": [
    "pair_dr_StrSim.to_csv(\"/DAS_Storage1/aschoi/data/Drug_Repositioning/8_new_training/new_predict/1_neg_drdr_StrSim.tsv\", sep='\\t', index=False)"
   ]
  },
  {
   "cell_type": "code",
   "execution_count": null,
   "metadata": {
    "collapsed": true
   },
   "outputs": [],
   "source": [
    "# diPhe(negDisease:posDisease)\n",
    "cnt = 0\n",
    "print 'start : ' + time.strftime('%a %H:%M:%S')\n",
    "val = list()\n",
    "print len(desc_pair)\n",
    "for pair in desc_pair:\n",
    "        disease_pheSim = diPhe[str(pair[0][1])][pair[1][1]]\n",
    "        val.append(disease_pheSim)\n",
    "        cnt = cnt +1\n",
    "        if cnt % 10000000 == 0:\n",
    "            print \"{} : \".format(cnt) + time.strftime('%a %H:%M:%S')\n",
    "print 'end : ' + time.strftime('%a %H:%M:%S')\n",
    "print cnt"
   ]
  },
  {
   "cell_type": "code",
   "execution_count": null,
   "metadata": {
    "collapsed": true
   },
   "outputs": [],
   "source": [
    "# diGe(negDisease:posDisease)\n",
    "cnt = 0\n",
    "print 'start : ' + time.strftime('%a %H:%M:%S')\n",
    "val = list()\n",
    "print len(desc_pair)\n",
    "for pair in desc_pair:\n",
    "        disease_geSim = diGe[str(pair[0][1])][pair[1][1]]\n",
    "        val.append(disease_geSim)\n",
    "        cnt = cnt +1\n",
    "        if cnt % 10000000 == 0:\n",
    "            print \"{} : \".format(cnt) + time.strftime('%a %H:%M:%S')\n",
    "print 'end : ' + time.strftime('%a %H:%M:%S')\n",
    "print cnt"
   ]
  },
  {
   "cell_type": "code",
   "execution_count": null,
   "metadata": {
    "collapsed": true
   },
   "outputs": [],
   "source": []
  },
  {
   "cell_type": "code",
   "execution_count": null,
   "metadata": {
    "collapsed": true
   },
   "outputs": [],
   "source": []
  },
  {
   "cell_type": "code",
   "execution_count": null,
   "metadata": {
    "collapsed": true
   },
   "outputs": [],
   "source": []
  },
  {
   "cell_type": "code",
   "execution_count": null,
   "metadata": {
    "collapsed": true
   },
   "outputs": [],
   "source": [
    "max_pheSim = list()\n",
    "val = list()\n",
    "for i in range(len(desc_pair)):\n",
    "    #drug_pheSim = drPhe[pair[i][1][0]][pair[i][0][0]]\n",
    "    #val.append(drug_pheSim)\n",
    "    elementwise 곱\n",
    "    if (i+1) % 1316 == 0: # neg한개 끝난것.\n",
    "        max(val)"
   ]
  },
  {
   "cell_type": "code",
   "execution_count": null,
   "metadata": {
    "collapsed": true
   },
   "outputs": [],
   "source": []
  }
 ],
 "metadata": {
  "kernelspec": {
   "display_name": "Python 2",
   "language": "python",
   "name": "python2"
  },
  "language_info": {
   "codemirror_mode": {
    "name": "ipython",
    "version": 2
   },
   "file_extension": ".py",
   "mimetype": "text/x-python",
   "name": "python",
   "nbconvert_exporter": "python",
   "pygments_lexer": "ipython2",
   "version": "2.7.6"
  }
 },
 "nbformat": 4,
 "nbformat_minor": 2
}
