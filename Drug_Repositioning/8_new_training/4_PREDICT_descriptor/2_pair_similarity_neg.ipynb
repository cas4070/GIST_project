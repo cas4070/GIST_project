{
 "cells": [
  {
   "cell_type": "code",
   "execution_count": 1,
   "metadata": {
    "collapsed": true
   },
   "outputs": [],
   "source": [
    "import numpy as np\n",
    "import os\n",
    "import pandas as pd\n",
    "import time\n",
    "from itertools import product\n",
    "import math"
   ]
  },
  {
   "cell_type": "code",
   "execution_count": 2,
   "metadata": {
    "collapsed": false
   },
   "outputs": [
    {
     "name": "stdout",
     "output_type": "stream",
     "text": [
      "1316\n",
      "96546\n"
     ]
    }
   ],
   "source": [
    "'''drPhe = pd.read_table(\"/DAS_Storage1/aschoi/data/Drug_Repositioning/5_new_drug/new_predict/1_drug_drug_se_sim_mat.tsv\", index_col=0)\n",
    "drStr = pd.read_table(\"/DAS_Storage1/aschoi/data/Drug_Repositioning/5_new_drug/new_predict/1_drug_drug_str_sim_mat.tsv\", index_col=0)\n",
    "diPhe = pd.read_table(\"/DAS_Storage1/aschoi/data/Drug_Repositioning/6_new_disease/new_predict/1_disease_disease_phe_sim_mat.tsv\", index_col=0)\n",
    "diGe = pd.read_table(\"/DAS_Storage1/aschoi/data/Drug_Repositioning/6_new_disease/new_predict/1_disease_disease_ge_sim_mat.tsv\", index_col=0)'''\n",
    "new_asso = pd.read_table(\"/DAS_Storage1/aschoi/data/Drug_Repositioning/7_new_association/new_predict/1_gold_learning_asso.tsv\")\n",
    "\n",
    "pos = new_asso[new_asso.association == 1]\n",
    "neg = new_asso[new_asso.association == 0]\n",
    "print len(pos)\n",
    "print len(neg)"
   ]
  },
  {
   "cell_type": "code",
   "execution_count": 29,
   "metadata": {
    "collapsed": false
   },
   "outputs": [
    {
     "name": "stdout",
     "output_type": "stream",
     "text": [
      "start : Tue 17:38:52\n",
      "end : Tue 17:39:07\n"
     ]
    }
   ],
   "source": [
    "neg_li = list()\n",
    "for index, row in neg.iterrows():\n",
    "    query_drug = row['drug_id']\n",
    "    query_disease = row['disease_id']\n",
    "    #query_asso = row['association']\n",
    "    neg_li.append((query_drug, query_disease))#, query_asso))\n",
    "    \n",
    "pos_li = list()\n",
    "for index2, row2 in pos.iterrows():\n",
    "    pos_drug = row2['drug_id']\n",
    "    pos_disease = row2['disease_id']\n",
    "    pos_li.append((pos_drug, pos_disease)) \n",
    "print 'start : ' + time.strftime('%a %H:%M:%S')\n",
    "desc_pair = list(product(neg_li, pos_li))\n",
    "print 'end : ' + time.strftime('%a %H:%M:%S')"
   ]
  },
  {
   "cell_type": "code",
   "execution_count": 4,
   "metadata": {
    "collapsed": true
   },
   "outputs": [
    {
     "name": "stdout",
     "output_type": "stream",
     "text": [
      "start : Tue 14:39:41\n",
      "127054536\n",
      "10000000 : Tue 14:46:36\n",
      "20000000 : Tue 14:54:12\n",
      "30000000 : Tue 15:00:46\n",
      "40000000 : Tue 15:07:10\n",
      "50000000 : Tue 15:13:33\n",
      "60000000 : Tue 15:20:01\n",
      "70000000 : Tue 15:26:28\n",
      "80000000 : Tue 15:33:12\n",
      "90000000 : Tue 15:39:34\n",
      "100000000 : Tue 15:45:41\n",
      "110000000 : Tue 15:51:56\n",
      "120000000 : Tue 15:58:10\n",
      "end : Tue 16:02:27\n",
      "127054536\n"
     ]
    }
   ],
   "source": [
    "# drPhe(negDrug:posDrug)\n",
    "cnt = 0\n",
    "print 'start : ' + time.strftime('%a %H:%M:%S')\n",
    "val = list()\n",
    "print len(desc_pair)\n",
    "for pair in desc_pair:\n",
    "        drug_pheSim = drPhe[pair[0][0]][pair[1][0]]\n",
    "        val.append(drug_pheSim)\n",
    "        cnt = cnt +1\n",
    "        if cnt % 10000000 == 0:\n",
    "            print \"{} : \".format(cnt) + time.strftime('%a %H:%M:%S')\n",
    "print 'end : ' + time.strftime('%a %H:%M:%S')\n",
    "print cnt"
   ]
  },
  {
   "cell_type": "code",
   "execution_count": 31,
   "metadata": {
    "collapsed": false
   },
   "outputs": [],
   "source": [
    "drug1 = list()\n",
    "drug2 = list()\n",
    "for pair in desc_pair:\n",
    "    drug1.append(pair[0][0])\n",
    "    drug2.append(pair[1][0])\n",
    "pair_dr_PheSim = pd.DataFrame({'query_drug':drug1,'pos_drug':drug2, 'drPheSim':val})"
   ]
  },
  {
   "cell_type": "code",
   "execution_count": 32,
   "metadata": {
    "collapsed": false
   },
   "outputs": [
    {
     "data": {
      "text/html": [
       "<div>\n",
       "<table border=\"1\" class=\"dataframe\">\n",
       "  <thead>\n",
       "    <tr style=\"text-align: right;\">\n",
       "      <th></th>\n",
       "      <th>drPheSim</th>\n",
       "      <th>pos_drug</th>\n",
       "      <th>query_drug</th>\n",
       "    </tr>\n",
       "  </thead>\n",
       "  <tbody>\n",
       "    <tr>\n",
       "      <th>0</th>\n",
       "      <td>1.000000</td>\n",
       "      <td>DB00659</td>\n",
       "      <td>DB00659</td>\n",
       "    </tr>\n",
       "    <tr>\n",
       "      <th>1</th>\n",
       "      <td>0.802603</td>\n",
       "      <td>DB01193</td>\n",
       "      <td>DB00659</td>\n",
       "    </tr>\n",
       "    <tr>\n",
       "      <th>2</th>\n",
       "      <td>0.802603</td>\n",
       "      <td>DB01193</td>\n",
       "      <td>DB00659</td>\n",
       "    </tr>\n",
       "    <tr>\n",
       "      <th>3</th>\n",
       "      <td>0.795553</td>\n",
       "      <td>DB00316</td>\n",
       "      <td>DB00659</td>\n",
       "    </tr>\n",
       "    <tr>\n",
       "      <th>4</th>\n",
       "      <td>0.795553</td>\n",
       "      <td>DB00316</td>\n",
       "      <td>DB00659</td>\n",
       "    </tr>\n",
       "  </tbody>\n",
       "</table>\n",
       "</div>"
      ],
      "text/plain": [
       "   drPheSim pos_drug query_drug\n",
       "0  1.000000  DB00659    DB00659\n",
       "1  0.802603  DB01193    DB00659\n",
       "2  0.802603  DB01193    DB00659\n",
       "3  0.795553  DB00316    DB00659\n",
       "4  0.795553  DB00316    DB00659"
      ]
     },
     "execution_count": 32,
     "metadata": {},
     "output_type": "execute_result"
    }
   ],
   "source": [
    "pair_dr_PheSim.head()"
   ]
  },
  {
   "cell_type": "code",
   "execution_count": 33,
   "metadata": {
    "collapsed": true
   },
   "outputs": [],
   "source": [
    "pair_dr_PheSim.to_csv(\"/DAS_Storage1/aschoi/data/Drug_Repositioning/8_new_training/new_predict/1_neg_drdr_PheSim.tsv\", sep='\\t', index=False)"
   ]
  },
  {
   "cell_type": "code",
   "execution_count": null,
   "metadata": {
    "collapsed": true
   },
   "outputs": [],
   "source": [
    "# drStr(negDrug:posDrug)\n",
    "cnt = 0\n",
    "print 'start : ' + time.strftime('%a %H:%M:%S')\n",
    "val = list()\n",
    "print len(desc_pair)\n",
    "for pair in desc_pair:\n",
    "        drug_strSim = drStr[pair[0][0]][pair[1][0]]\n",
    "        val.append(drug_strSim)\n",
    "        cnt = cnt +1\n",
    "        if cnt % 10000000 == 0:\n",
    "            print \"{} : \".format(cnt) + time.strftime('%a %H:%M:%S')\n",
    "print 'end : ' + time.strftime('%a %H:%M:%S')\n",
    "print cnt"
   ]
  },
  {
   "cell_type": "code",
   "execution_count": null,
   "metadata": {
    "collapsed": true
   },
   "outputs": [],
   "source": [
    "# diPhe(negDisease:posDisease)\n",
    "cnt = 0\n",
    "print 'start : ' + time.strftime('%a %H:%M:%S')\n",
    "val = list()\n",
    "print len(desc_pair)\n",
    "for pair in desc_pair:\n",
    "        disease_pheSim = diPhe[str(pair[0][1])][pair[1][1]]\n",
    "        val.append(disease_pheSim)\n",
    "        cnt = cnt +1\n",
    "        if cnt % 10000000 == 0:\n",
    "            print \"{} : \".format(cnt) + time.strftime('%a %H:%M:%S')\n",
    "print 'end : ' + time.strftime('%a %H:%M:%S')\n",
    "print cnt"
   ]
  },
  {
   "cell_type": "code",
   "execution_count": null,
   "metadata": {
    "collapsed": true
   },
   "outputs": [],
   "source": [
    "# diGe(negDisease:posDisease)\n",
    "cnt = 0\n",
    "print 'start : ' + time.strftime('%a %H:%M:%S')\n",
    "val = list()\n",
    "print len(desc_pair)\n",
    "for pair in desc_pair:\n",
    "        disease_geSim = diGe[str(pair[0][1])][pair[1][1]]\n",
    "        val.append(disease_geSim)\n",
    "        cnt = cnt +1\n",
    "        if cnt % 10000000 == 0:\n",
    "            print \"{} : \".format(cnt) + time.strftime('%a %H:%M:%S')\n",
    "print 'end : ' + time.strftime('%a %H:%M:%S')\n",
    "print cnt"
   ]
  },
  {
   "cell_type": "code",
   "execution_count": null,
   "metadata": {
    "collapsed": true
   },
   "outputs": [],
   "source": [
    "#descriptor 만들기--------------------------------------------------"
   ]
  },
  {
   "cell_type": "code",
   "execution_count": 3,
   "metadata": {
    "collapsed": true
   },
   "outputs": [],
   "source": [
    "pair_di_GeSim = pd.read_table(\"/DAS_Storage1/aschoi/data/Drug_Repositioning/8_new_training/new_predict/1_neg_didi_GeSim.tsv\")\n",
    "pair_di_PheSim = pd.read_table(\"/DAS_Storage1/aschoi/data/Drug_Repositioning/8_new_training/new_predict/1_neg_didi_PheSim.tsv\")\n",
    "pair_dr_StrSim = pd.read_table(\"/DAS_Storage1/aschoi/data/Drug_Repositioning/8_new_training/new_predict/1_neg_drdr_StrSim.tsv\")\n",
    "pair_dr_PheSim = pd.read_table(\"/DAS_Storage1/aschoi/data/Drug_Repositioning/8_new_training/new_predict/1_neg_drdr_PheSim.tsv\")"
   ]
  },
  {
   "cell_type": "code",
   "execution_count": 56,
   "metadata": {
    "collapsed": true
   },
   "outputs": [],
   "source": [
    "# drStr + diGe\n",
    "temp = pd.concat([pair_dr_StrSim, pair_di_GeSim], axis=1)\n",
    "drStr_diGe = temp[['query_drug', 'disease1', 'pos_drug', 'disease2', 'drStrSim', 'diGeSim']]\n",
    "del temp\n",
    "drStr_diGe['drStr_diGe'] = np.sqrt(drStr_diGe['drStrSim'] * drStr_diGe['diGeSim'])\n",
    "#drStr_diGe = drStr_diGe[~((drStr_diGe.drug1 == drStr_diGe.drug2) &(drStr_diGe.disease1 == drStr_diGe.disease2))]\n",
    "sub_drStr_diGe = drStr_diGe[['query_drug', 'disease1', 'pos_drug','disease2', 'drStr_diGe']]\n",
    "desc = sub_drStr_diGe.groupby(['query_drug', 'disease1'])[['drStr_diGe']].max()"
   ]
  },
  {
   "cell_type": "code",
   "execution_count": 46,
   "metadata": {
    "collapsed": false
   },
   "outputs": [],
   "source": [
    "# drStr + diPhe\n",
    "temp = pd.concat([pair_dr_StrSim, pair_di_PheSim], axis=1)\n",
    "drStr_diPhe = temp[['query_drug', 'disease1', 'pos_drug', 'disease2', 'drStrSim', 'diPheSim']]\n",
    "del temp\n",
    "drStr_diPhe['drStr_diPhe'] = np.sqrt(drStr_diPhe['drStrSim'] * drStr_diPhe['diPheSim'])\n",
    "sub_drStr_diPhe = drStr_diPhe[['query_drug', 'disease1', 'pos_drug','disease2', 'drStr_diPhe']]\n",
    "#desc['drStr_diPhe'] = sub_drStr_diPhe.groupby(['query_drug', 'disease1'])[['drStr_diPhe']].max()['drStr_diPhe']\n",
    "desc2 = sub_drStr_diPhe.groupby(['query_drug', 'disease1'])[['drStr_diPhe']].max()"
   ]
  },
  {
   "cell_type": "code",
   "execution_count": 47,
   "metadata": {
    "collapsed": true
   },
   "outputs": [],
   "source": [
    "# drPhe + diGe\n",
    "temp = pd.concat([pair_dr_PheSim, pair_di_GeSim], axis=1)\n",
    "drPhe_diGe = temp[['query_drug', 'disease1', 'pos_drug', 'disease2', 'drPheSim', 'diGeSim']]\n",
    "del temp\n",
    "drPhe_diGe['drPhe_diGe'] = np.sqrt(drPhe_diGe['drPheSim'] * drPhe_diGe['diGeSim'])\n",
    "sub_drPhe_diGe = drPhe_diGe[['query_drug', 'disease1', 'pos_drug','disease2', 'drPhe_diGe']]\n",
    "#desc['drPhe_diGe'] = sub_drPhe_diGe.groupby(['query_drug', 'disease1'])[['drPhe_diGe']].max()['drPhe_diGe']\n",
    "desc3 = desc['drPhe_diGe'] = sub_drPhe_diGe.groupby(['query_drug', 'disease1'])[['drPhe_diGe']].max()"
   ]
  },
  {
   "cell_type": "code",
   "execution_count": 48,
   "metadata": {
    "collapsed": true
   },
   "outputs": [],
   "source": [
    "# drPhe + diPhe\n",
    "temp = pd.concat([pair_dr_PheSim, pair_di_PheSim], axis=1)\n",
    "drPhe_diPhe = temp[['query_drug', 'disease1', 'pos_drug', 'disease2', 'drPheSim', 'diPheSim']]\n",
    "del temp\n",
    "drPhe_diPhe['drPhe_diPhe'] = np.sqrt(drPhe_diPhe['drPheSim'] * drPhe_diPhe['diPheSim'])\n",
    "sub_drPhe_diPhe = drPhe_diPhe[['query_drug', 'disease1', 'pos_drug','disease2', 'drPhe_diPhe']]\n",
    "#desc['drPhe_diPhe'] = sub_drPhe_diPhe.groupby(['query_drug', 'disease1'])[['drPhe_diPhe']].max()['drPhe_diPhe']\n",
    "desc4 = desc['drPhe_diPhe'] = sub_drPhe_diPhe.groupby(['query_drug', 'disease1'])[['drPhe_diPhe']].max()"
   ]
  },
  {
   "cell_type": "code",
   "execution_count": 105,
   "metadata": {
    "collapsed": true
   },
   "outputs": [],
   "source": [
    "desc.to_csv(\"/DAS_Storage1/aschoi/data/Drug_Repositioning/8_new_training/new_predict/2_2_neg_descriptor_drStrdiGe.tsv\", sep='\\t')\n",
    "desc2.to_csv(\"/DAS_Storage1/aschoi/data/Drug_Repositioning/8_new_training/new_predict/2_2_neg_descriptor_drStrdiPhe.tsv\", sep='\\t')\n",
    "desc3.to_csv(\"/DAS_Storage1/aschoi/data/Drug_Repositioning/8_new_training/new_predict/2_2_neg_descriptor_drPhediGe.tsv\", sep='\\t')\n",
    "desc4.to_csv(\"/DAS_Storage1/aschoi/data/Drug_Repositioning/8_new_training/new_predict/2_2_neg_descriptor_drPhediPhe.tsv\", sep='\\t')"
   ]
  },
  {
   "cell_type": "code",
   "execution_count": 106,
   "metadata": {
    "collapsed": true
   },
   "outputs": [],
   "source": [
    "desc = pd.read_table(\"/DAS_Storage1/aschoi/data/Drug_Repositioning/8_new_training/new_predict/2_2_neg_descriptor_drStrdiGe.tsv\")\n",
    "desc2 = pd.read_table(\"/DAS_Storage1/aschoi/data/Drug_Repositioning/8_new_training/new_predict/2_2_neg_descriptor_drStrdiPhe.tsv\")\n",
    "desc3 = pd.read_table(\"/DAS_Storage1/aschoi/data/Drug_Repositioning/8_new_training/new_predict/2_2_neg_descriptor_drPhediGe.tsv\")\n",
    "desc4 = pd.read_table(\"/DAS_Storage1/aschoi/data/Drug_Repositioning/8_new_training/new_predict/2_2_neg_descriptor_drPhediPhe.tsv\")"
   ]
  },
  {
   "cell_type": "code",
   "execution_count": 113,
   "metadata": {
    "collapsed": false
   },
   "outputs": [],
   "source": [
    "result = desc.merge(desc2).merge(desc3).merge(desc4)"
   ]
  },
  {
   "cell_type": "code",
   "execution_count": 114,
   "metadata": {
    "collapsed": true
   },
   "outputs": [],
   "source": [
    "result.to_csv(\"/DAS_Storage1/aschoi/data/Drug_Repositioning/8_new_training/new_predict/2_2_neg_descriptor.tsv\", sep='\\t', index=False)"
   ]
  },
  {
   "cell_type": "code",
   "execution_count": 118,
   "metadata": {
    "collapsed": false
   },
   "outputs": [
    {
     "data": {
      "text/html": [
       "<div>\n",
       "<table border=\"1\" class=\"dataframe\">\n",
       "  <thead>\n",
       "    <tr style=\"text-align: right;\">\n",
       "      <th></th>\n",
       "      <th>query_drug</th>\n",
       "      <th>disease1</th>\n",
       "      <th>drStr_diGe</th>\n",
       "      <th>drStr_diPhe</th>\n",
       "      <th>drPhe_diGe</th>\n",
       "      <th>drPhe_diPhe</th>\n",
       "    </tr>\n",
       "  </thead>\n",
       "  <tbody>\n",
       "    <tr>\n",
       "      <th>0</th>\n",
       "      <td>DB00126</td>\n",
       "      <td>102300</td>\n",
       "      <td>0.997868</td>\n",
       "      <td>0.376288</td>\n",
       "      <td>0.997868</td>\n",
       "      <td>0.9739</td>\n",
       "    </tr>\n",
       "  </tbody>\n",
       "</table>\n",
       "</div>"
      ],
      "text/plain": [
       "  query_drug  disease1  drStr_diGe  drStr_diPhe  drPhe_diGe  drPhe_diPhe\n",
       "0    DB00126    102300    0.997868     0.376288    0.997868       0.9739"
      ]
     },
     "execution_count": 118,
     "metadata": {},
     "output_type": "execute_result"
    }
   ],
   "source": [
    "result.head(1)"
   ]
  },
  {
   "cell_type": "code",
   "execution_count": null,
   "metadata": {
    "collapsed": true
   },
   "outputs": [],
   "source": [
    "#positive descriptor와 합치기"
   ]
  },
  {
   "cell_type": "code",
   "execution_count": 115,
   "metadata": {
    "collapsed": true
   },
   "outputs": [],
   "source": [
    "pos_desc = pd.read_table(\"/DAS_Storage1/aschoi/data/Drug_Repositioning/8_new_training/new_predict/2_pos_descriptor.tsv\")"
   ]
  },
  {
   "cell_type": "code",
   "execution_count": 125,
   "metadata": {
    "collapsed": false
   },
   "outputs": [
    {
     "data": {
      "text/html": [
       "<div>\n",
       "<table border=\"1\" class=\"dataframe\">\n",
       "  <thead>\n",
       "    <tr style=\"text-align: right;\">\n",
       "      <th></th>\n",
       "      <th>drug_id</th>\n",
       "      <th>disease_id</th>\n",
       "      <th>drStr_diGe</th>\n",
       "      <th>drStr_diPhe</th>\n",
       "      <th>drPhe_diGe</th>\n",
       "      <th>drPhe_diPhe</th>\n",
       "      <th>association</th>\n",
       "    </tr>\n",
       "  </thead>\n",
       "  <tbody>\n",
       "    <tr>\n",
       "      <th>0</th>\n",
       "      <td>DB00659</td>\n",
       "      <td>103780</td>\n",
       "      <td>0.586071</td>\n",
       "      <td>0.384111</td>\n",
       "      <td>0.965858</td>\n",
       "      <td>0.939608</td>\n",
       "      <td>1</td>\n",
       "    </tr>\n",
       "  </tbody>\n",
       "</table>\n",
       "</div>"
      ],
      "text/plain": [
       "   drug_id  disease_id  drStr_diGe  drStr_diPhe  drPhe_diGe  drPhe_diPhe  \\\n",
       "0  DB00659      103780    0.586071     0.384111    0.965858     0.939608   \n",
       "\n",
       "   association  \n",
       "0            1  "
      ]
     },
     "execution_count": 125,
     "metadata": {},
     "output_type": "execute_result"
    }
   ],
   "source": [
    "pos_desc['association'] = 1\n",
    "pos_desc.head(1)"
   ]
  },
  {
   "cell_type": "code",
   "execution_count": 120,
   "metadata": {
    "collapsed": true
   },
   "outputs": [],
   "source": [
    "result = result.rename(columns={'query_drug':'drug_id', 'disease1' :'disease_id'})"
   ]
  },
  {
   "cell_type": "code",
   "execution_count": 126,
   "metadata": {
    "collapsed": false
   },
   "outputs": [
    {
     "data": {
      "text/html": [
       "<div>\n",
       "<table border=\"1\" class=\"dataframe\">\n",
       "  <thead>\n",
       "    <tr style=\"text-align: right;\">\n",
       "      <th></th>\n",
       "      <th>drug_id</th>\n",
       "      <th>disease_id</th>\n",
       "      <th>drStr_diGe</th>\n",
       "      <th>drStr_diPhe</th>\n",
       "      <th>drPhe_diGe</th>\n",
       "      <th>drPhe_diPhe</th>\n",
       "      <th>association</th>\n",
       "    </tr>\n",
       "  </thead>\n",
       "  <tbody>\n",
       "    <tr>\n",
       "      <th>0</th>\n",
       "      <td>DB00126</td>\n",
       "      <td>102300</td>\n",
       "      <td>0.997868</td>\n",
       "      <td>0.376288</td>\n",
       "      <td>0.997868</td>\n",
       "      <td>0.9739</td>\n",
       "      <td>0</td>\n",
       "    </tr>\n",
       "  </tbody>\n",
       "</table>\n",
       "</div>"
      ],
      "text/plain": [
       "   drug_id  disease_id  drStr_diGe  drStr_diPhe  drPhe_diGe  drPhe_diPhe  \\\n",
       "0  DB00126      102300    0.997868     0.376288    0.997868       0.9739   \n",
       "\n",
       "   association  \n",
       "0            0  "
      ]
     },
     "execution_count": 126,
     "metadata": {},
     "output_type": "execute_result"
    }
   ],
   "source": [
    "result['association'] = 0\n",
    "result.head(1)"
   ]
  },
  {
   "cell_type": "code",
   "execution_count": 129,
   "metadata": {
    "collapsed": false
   },
   "outputs": [],
   "source": [
    "combined = pd.concat([result, pos_desc])\n",
    "combined = combined[['drug_id', 'disease_id', 'association', 'drStr_diGe', 'drStr_diPhe', 'drPhe_diGe', 'drPhe_diPhe']]"
   ]
  },
  {
   "cell_type": "code",
   "execution_count": 130,
   "metadata": {
    "collapsed": true
   },
   "outputs": [],
   "source": [
    "combined.to_csv(\"/DAS_Storage1/aschoi/data/Drug_Repositioning/8_new_training/new_predict/2_3_gold_descriptor.tsv\", sep='\\t', index=False)"
   ]
  },
  {
   "cell_type": "code",
   "execution_count": null,
   "metadata": {
    "collapsed": true
   },
   "outputs": [],
   "source": []
  }
 ],
 "metadata": {
  "kernelspec": {
   "display_name": "Python 2",
   "language": "python",
   "name": "python2"
  },
  "language_info": {
   "codemirror_mode": {
    "name": "ipython",
    "version": 2
   },
   "file_extension": ".py",
   "mimetype": "text/x-python",
   "name": "python",
   "nbconvert_exporter": "python",
   "pygments_lexer": "ipython2",
   "version": "2.7.6"
  }
 },
 "nbformat": 4,
 "nbformat_minor": 2
}
