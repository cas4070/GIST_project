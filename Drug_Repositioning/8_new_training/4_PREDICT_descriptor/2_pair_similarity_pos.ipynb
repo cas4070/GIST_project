{
 "cells": [
  {
   "cell_type": "code",
   "execution_count": 1,
   "metadata": {
    "collapsed": true
   },
   "outputs": [],
   "source": [
    "import numpy as np\n",
    "import os\n",
    "import pandas as pd\n",
    "import time\n",
    "from itertools import product\n",
    "import math"
   ]
  },
  {
   "cell_type": "code",
   "execution_count": 2,
   "metadata": {
    "collapsed": false
   },
   "outputs": [
    {
     "name": "stdout",
     "output_type": "stream",
     "text": [
      "1316\n",
      "96546\n"
     ]
    }
   ],
   "source": [
    "drPhe = pd.read_table(\"/DAS_Storage1/aschoi/data/Drug_Repositioning/5_new_drug/new_predict/1_drug_drug_se_sim_mat.tsv\", index_col=0)\n",
    "drStr = pd.read_table(\"/DAS_Storage1/aschoi/data/Drug_Repositioning/5_new_drug/new_predict/1_drug_drug_str_sim_mat.tsv\", index_col=0)\n",
    "diPhe = pd.read_table(\"/DAS_Storage1/aschoi/data/Drug_Repositioning/6_new_disease/new_predict/1_disease_disease_phe_sim_mat.tsv\", index_col=0)\n",
    "diGe = pd.read_table(\"/DAS_Storage1/aschoi/data/Drug_Repositioning/6_new_disease/new_predict/1_disease_disease_ge_sim_mat.tsv\", index_col=0)\n",
    "new_asso = pd.read_table(\"/DAS_Storage1/aschoi/data/Drug_Repositioning/7_new_association/new_predict/1_gold_learning_asso.tsv\")\n",
    "\n",
    "pos = new_asso[new_asso.association == 1]\n",
    "neg = new_asso[new_asso.association == 0]\n",
    "print len(pos)\n",
    "print len(neg)"
   ]
  },
  {
   "cell_type": "code",
   "execution_count": 3,
   "metadata": {
    "collapsed": false
   },
   "outputs": [
    {
     "name": "stdout",
     "output_type": "stream",
     "text": [
      "start : Tue 15:19:05\n",
      "end : Tue 15:19:05\n"
     ]
    }
   ],
   "source": [
    "'''neg_li = list()\n",
    "for index, row in neg.iterrows():\n",
    "    query_drug = row['drug_id']\n",
    "    query_disease = row['disease_id']\n",
    "    #query_asso = row['association']\n",
    "    neg_li.append((query_drug, query_disease))#, query_asso))\n",
    "    '''\n",
    "pos_li = list()\n",
    "for index2, row2 in pos.iterrows():\n",
    "    pos_drug = row2['drug_id']\n",
    "    pos_disease = row2['disease_id']\n",
    "    pos_li.append((pos_drug, pos_disease)) \n",
    "print 'start : ' + time.strftime('%a %H:%M:%S')\n",
    "desc_pair = list(product(pos_li, pos_li))\n",
    "print 'end : ' + time.strftime('%a %H:%M:%S')"
   ]
  },
  {
   "cell_type": "code",
   "execution_count": 4,
   "metadata": {
    "collapsed": false
   },
   "outputs": [
    {
     "name": "stdout",
     "output_type": "stream",
     "text": [
      "start : Tue 15:19:17\n",
      "1731856\n",
      "end : Tue 15:20:22\n",
      "1731856\n"
     ]
    }
   ],
   "source": [
    "# drPhe(negDrug:posDrug)\n",
    "cnt = 0\n",
    "print 'start : ' + time.strftime('%a %H:%M:%S')\n",
    "val = list()\n",
    "print len(desc_pair)\n",
    "for pair in desc_pair:\n",
    "        drug_pheSim = drPhe[pair[0][0]][pair[1][0]]\n",
    "        val.append(drug_pheSim)\n",
    "        cnt = cnt +1\n",
    "        if cnt % 10000000 == 0:\n",
    "            print \"{} : \".format(cnt) + time.strftime('%a %H:%M:%S')\n",
    "print 'end : ' + time.strftime('%a %H:%M:%S')\n",
    "print cnt"
   ]
  },
  {
   "cell_type": "code",
   "execution_count": 15,
   "metadata": {
    "collapsed": false
   },
   "outputs": [],
   "source": [
    "drug1 = list()\n",
    "drug2 = list()\n",
    "for pair in desc_pair:\n",
    "    drug1.append(pair[0][0])\n",
    "    drug2.append(pair[1][0])\n",
    "pair_dr_PheSim = pd.DataFrame({'drug1':drug1,'drug2':drug2, 'drPheSim':val})"
   ]
  },
  {
   "cell_type": "code",
   "execution_count": 24,
   "metadata": {
    "collapsed": false
   },
   "outputs": [
    {
     "name": "stdout",
     "output_type": "stream",
     "text": [
      "start : Tue 15:59:55\n",
      "1731856\n",
      "end : Tue 16:00:56\n",
      "1731856\n"
     ]
    }
   ],
   "source": [
    "# drStr(negDrug:posDrug)\n",
    "cnt = 0\n",
    "print 'start : ' + time.strftime('%a %H:%M:%S')\n",
    "val = list()\n",
    "print len(desc_pair)\n",
    "for pair in desc_pair:\n",
    "        drug_strSim = drStr[pair[0][0]][pair[1][0]]\n",
    "        val.append(drug_strSim)\n",
    "        cnt = cnt +1\n",
    "        if cnt % 10000000 == 0:\n",
    "            print \"{} : \".format(cnt) + time.strftime('%a %H:%M:%S')\n",
    "print 'end : ' + time.strftime('%a %H:%M:%S')\n",
    "print cnt"
   ]
  },
  {
   "cell_type": "code",
   "execution_count": 25,
   "metadata": {
    "collapsed": true
   },
   "outputs": [],
   "source": [
    "'''drug1 = list()\n",
    "drug2 = list()\n",
    "for pair in desc_pair:\n",
    "    drug1.append(pair[0][0])\n",
    "    drug2.append(pair[1][0])'''\n",
    "pair_dr_StrSim = pd.DataFrame({'drug1':drug1,'drug2':drug2, 'drStrSim':val})"
   ]
  },
  {
   "cell_type": "code",
   "execution_count": 29,
   "metadata": {
    "collapsed": false
   },
   "outputs": [
    {
     "name": "stdout",
     "output_type": "stream",
     "text": [
      "start : Tue 16:02:30\n",
      "1731856\n",
      "end : Tue 16:03:12\n",
      "1731856\n"
     ]
    }
   ],
   "source": [
    "# diPhe(negDisease:posDisease)\n",
    "cnt = 0\n",
    "print 'start : ' + time.strftime('%a %H:%M:%S')\n",
    "val = list()\n",
    "print len(desc_pair)\n",
    "for pair in desc_pair:\n",
    "        disease_pheSim = diPhe[str(pair[0][1])][pair[1][1]]\n",
    "        val.append(disease_pheSim)\n",
    "        cnt = cnt +1\n",
    "        if cnt % 10000000 == 0:\n",
    "            print \"{} : \".format(cnt) + time.strftime('%a %H:%M:%S')\n",
    "print 'end : ' + time.strftime('%a %H:%M:%S')\n",
    "print cnt"
   ]
  },
  {
   "cell_type": "code",
   "execution_count": 30,
   "metadata": {
    "collapsed": true
   },
   "outputs": [],
   "source": [
    "disease1 = list()\n",
    "disease2 = list()\n",
    "for pair in desc_pair:\n",
    "    disease1.append(pair[0][1])\n",
    "    disease2.append(pair[1][1])\n",
    "pair_di_PheSim = pd.DataFrame({'disease1':disease1,'disease2':disease2, 'diPheSim':val})"
   ]
  },
  {
   "cell_type": "code",
   "execution_count": 31,
   "metadata": {
    "collapsed": false
   },
   "outputs": [
    {
     "name": "stdout",
     "output_type": "stream",
     "text": [
      "start : Tue 16:04:17\n",
      "1731856\n",
      "end : Tue 16:04:59\n",
      "1731856\n"
     ]
    }
   ],
   "source": [
    "# diGe(negDisease:posDisease)\n",
    "cnt = 0\n",
    "print 'start : ' + time.strftime('%a %H:%M:%S')\n",
    "val = list()\n",
    "print len(desc_pair)\n",
    "for pair in desc_pair:\n",
    "        disease_geSim = diGe[str(pair[0][1])][pair[1][1]]\n",
    "        val.append(disease_geSim)\n",
    "        cnt = cnt +1\n",
    "        if cnt % 10000000 == 0:\n",
    "            print \"{} : \".format(cnt) + time.strftime('%a %H:%M:%S')\n",
    "print 'end : ' + time.strftime('%a %H:%M:%S')\n",
    "print cnt"
   ]
  },
  {
   "cell_type": "code",
   "execution_count": 32,
   "metadata": {
    "collapsed": true
   },
   "outputs": [],
   "source": [
    "'''disease1 = list()\n",
    "disease2 = list()\n",
    "for pair in desc_pair:\n",
    "    disease1.append(pair[0][1])\n",
    "    disease2.append(pair[1][1])'''\n",
    "pair_di_GeSim = pd.DataFrame({'disease1':disease1,'disease2':disease2, 'diGeSim':val})"
   ]
  },
  {
   "cell_type": "code",
   "execution_count": 136,
   "metadata": {
    "collapsed": false
   },
   "outputs": [],
   "source": [
    "pair_di_GeSim.to_csv(\"/DAS_Storage1/aschoi/data/Drug_Repositioning/8_new_training/new_predict/1_pos_didi_GeSim.tsv\", sep='\\t', index=False)\n",
    "pair_di_PheSim.to_csv(\"/DAS_Storage1/aschoi/data/Drug_Repositioning/8_new_training/new_predict/1_pos_didi_PheSim.tsv\", sep='\\t', index=False)\n",
    "pair_dr_StrSim.to_csv(\"/DAS_Storage1/aschoi/data/Drug_Repositioning/8_new_training/new_predict/1_pos_drdr_StrSim.tsv\", sep='\\t', index=False)\n",
    "pair_dr_PheSim.to_csv(\"/DAS_Storage1/aschoi/data/Drug_Repositioning/8_new_training/new_predict/1_pos_drdr_PheSim.tsv\", sep='\\t', index=False)"
   ]
  },
  {
   "cell_type": "code",
   "execution_count": null,
   "metadata": {
    "collapsed": true
   },
   "outputs": [],
   "source": [
    "#descriptor 만들기."
   ]
  },
  {
   "cell_type": "code",
   "execution_count": 97,
   "metadata": {
    "collapsed": false
   },
   "outputs": [
    {
     "name": "stdout",
     "output_type": "stream",
     "text": [
      "427 233\n"
     ]
    }
   ],
   "source": [
    "gold_dr_id = pos['drug_id'].drop_duplicates()\n",
    "gold_di_id = pos['disease_id'].drop_duplicates()\n",
    "print len(gold_dr_id), len(gold_di_id)"
   ]
  },
  {
   "cell_type": "code",
   "execution_count": 40,
   "metadata": {
    "collapsed": false
   },
   "outputs": [],
   "source": [
    "# drStr + diGe\n",
    "temp = pd.concat([pair_dr_StrSim, pair_di_GeSim], axis=1)\n",
    "drStr_diGe = temp[['drug1', 'disease1', 'drug2', 'disease2', 'drStrSim', 'diGeSim']]\n",
    "del temp"
   ]
  },
  {
   "cell_type": "code",
   "execution_count": 49,
   "metadata": {
    "collapsed": false
   },
   "outputs": [],
   "source": [
    "drStr_diGe['drStr_diGe'] = np.sqrt(drStr_diGe['drStrSim'] * drStr_diGe['diGeSim'])"
   ]
  },
  {
   "cell_type": "code",
   "execution_count": 54,
   "metadata": {
    "collapsed": false
   },
   "outputs": [],
   "source": [
    "drStr_diGe = drStr_diGe[~((drStr_diGe.drug1 == drStr_diGe.drug2) &(drStr_diGe.disease1 == drStr_diGe.disease2))]"
   ]
  },
  {
   "cell_type": "code",
   "execution_count": 88,
   "metadata": {
    "collapsed": true
   },
   "outputs": [],
   "source": [
    "sub_drStr_diGe = drStr_diGe[['drug1', 'disease1', 'drug2','disease2', 'drStr_diGe']]"
   ]
  },
  {
   "cell_type": "code",
   "execution_count": 102,
   "metadata": {
    "collapsed": false
   },
   "outputs": [],
   "source": [
    "desc = pd.DataFrame()\n",
    "cnt = 0\n",
    "for index, row in pos.iterrows():\n",
    "    dr_id = row['drug_id']\n",
    "    di_id = row['disease_id']\n",
    "    temp = sub_drStr_diGe[(sub_drStr_diGe.drug1 == dr_id)&(sub_drStr_diGe.disease1 == di_id)]\n",
    "    temp_df = pd.DataFrame(data = [[dr_id, di_id, temp['drStr_diGe'].max()]], columns=['drug_id', 'disease_id', 'drStr_diGe'])\n",
    "    desc = desc.append(temp_df)"
   ]
  },
  {
   "cell_type": "code",
   "execution_count": 109,
   "metadata": {
    "collapsed": true
   },
   "outputs": [],
   "source": [
    "desc.index = range(len(desc))"
   ]
  },
  {
   "cell_type": "code",
   "execution_count": 122,
   "metadata": {
    "collapsed": false
   },
   "outputs": [
    {
     "name": "stdout",
     "output_type": "stream",
     "text": [
      "1730540\n",
      "start : Tue 19:58:29\n",
      "end : Tue 20:01:06\n"
     ]
    }
   ],
   "source": [
    "# drStr + diPhe\n",
    "temp = pd.concat([pair_dr_StrSim, pair_di_PheSim], axis=1)\n",
    "drStr_diPhe = temp[['drug1', 'disease1', 'drug2', 'disease2', 'drStrSim', 'diPheSim']]\n",
    "del temp\n",
    "drStr_diPhe['drStr_diPhe'] = np.sqrt(drStr_diPhe['drStrSim'] * drStr_diPhe['diPheSim'])\n",
    "drStr_diPhe = drStr_diPhe[~((drStr_diPhe.drug1 == drStr_diPhe.drug2) &(drStr_diPhe.disease1 == drStr_diPhe.disease2))]\n",
    "print len(drStr_diPhe)\n",
    "sub_drStr_diPhe = drStr_diPhe[['drug1', 'disease1', 'drug2','disease2', 'drStr_diPhe']]\n",
    "desc['drStr_diPhe'] = -2\n",
    "print 'start : ' + time.strftime('%a %H:%M:%S')\n",
    "for index, row in pos.iterrows():\n",
    "    dr_id = row['drug_id']\n",
    "    di_id = row['disease_id']\n",
    "    temp = sub_drStr_diPhe[(sub_drStr_diPhe.drug1 == dr_id)&(sub_drStr_diPhe.disease1 == di_id)]\n",
    "    found = desc[(desc.drug_id == dr_id) & (desc.disease_id == di_id)]\n",
    "    desc.set_value(found.index, 'drStr_diPhe', temp['drStr_diPhe'].max())\n",
    "print 'end : ' + time.strftime('%a %H:%M:%S')"
   ]
  },
  {
   "cell_type": "code",
   "execution_count": 125,
   "metadata": {
    "collapsed": false
   },
   "outputs": [
    {
     "name": "stdout",
     "output_type": "stream",
     "text": [
      "1730540\n",
      "start : Tue 20:04:36\n",
      "end : Tue 20:06:47\n"
     ]
    }
   ],
   "source": [
    "# drPhe + diGe\n",
    "temp = pd.concat([pair_dr_PheSim, pair_di_GeSim], axis=1)\n",
    "drPhe_diGe = temp[['drug1', 'disease1', 'drug2', 'disease2', 'drPheSim', 'diGeSim']]\n",
    "del temp\n",
    "drPhe_diGe['drPhe_diGe'] = np.sqrt(drPhe_diGe['drPheSim'] * drPhe_diGe['diGeSim'])\n",
    "drPhe_diGe = drPhe_diGe[~((drPhe_diGe.drug1 == drPhe_diGe.drug2) &(drPhe_diGe.disease1 == drPhe_diGe.disease2))]\n",
    "print len(drPhe_diGe)\n",
    "sub_drPhe_diGe = drPhe_diGe[['drug1', 'disease1', 'drug2','disease2', 'drPhe_diGe']]\n",
    "desc['drPhe_diGe'] = -2\n",
    "print 'start : ' + time.strftime('%a %H:%M:%S')\n",
    "for index, row in pos.iterrows():\n",
    "    dr_id = row['drug_id']\n",
    "    di_id = row['disease_id']\n",
    "    temp = sub_drPhe_diGe[(sub_drPhe_diGe.drug1 == dr_id)&(sub_drPhe_diGe.disease1 == di_id)]\n",
    "    found = desc[(desc.drug_id == dr_id) & (desc.disease_id == di_id)]\n",
    "    desc.set_value(found.index, 'drPhe_diGe', temp['drPhe_diGe'].max())\n",
    "print 'end : ' + time.strftime('%a %H:%M:%S')"
   ]
  },
  {
   "cell_type": "code",
   "execution_count": 129,
   "metadata": {
    "collapsed": false
   },
   "outputs": [
    {
     "name": "stdout",
     "output_type": "stream",
     "text": [
      "1730540\n",
      "start : Tue 20:09:09\n",
      "end : Tue 20:11:20\n"
     ]
    }
   ],
   "source": [
    "# drPhe + diPhe\n",
    "temp = pd.concat([pair_dr_PheSim, pair_di_PheSim], axis=1)\n",
    "drPhe_diPhe = temp[['drug1', 'disease1', 'drug2', 'disease2', 'drPheSim', 'diPheSim']]\n",
    "del temp\n",
    "drPhe_diPhe['drPhe_diPhe'] = np.sqrt(drPhe_diPhe['drPheSim'] * drPhe_diPhe['diPheSim'])\n",
    "drPhe_diPhe = drPhe_diPhe[~((drPhe_diPhe.drug1 == drPhe_diPhe.drug2) &(drPhe_diPhe.disease1 == drPhe_diPhe.disease2))]\n",
    "print len(drPhe_diPhe)\n",
    "sub_drPhe_diPhe = drPhe_diPhe[['drug1', 'disease1', 'drug2','disease2', 'drPhe_diPhe']]\n",
    "desc['drPhe_diPhe'] = -2\n",
    "print 'start : ' + time.strftime('%a %H:%M:%S')\n",
    "for index, row in pos.iterrows():\n",
    "    dr_id = row['drug_id']\n",
    "    di_id = row['disease_id']\n",
    "    temp = sub_drPhe_diPhe[(sub_drPhe_diPhe.drug1 == dr_id)&(sub_drPhe_diPhe.disease1 == di_id)]\n",
    "    found = desc[(desc.drug_id == dr_id) & (desc.disease_id == di_id)]\n",
    "    desc.set_value(found.index, 'drPhe_diPhe', temp['drPhe_diPhe'].max())\n",
    "print 'end : ' + time.strftime('%a %H:%M:%S')"
   ]
  },
  {
   "cell_type": "code",
   "execution_count": 137,
   "metadata": {
    "collapsed": true
   },
   "outputs": [],
   "source": [
    "desc.to_csv(\"/DAS_Storage1/aschoi/data/Drug_Repositioning/8_new_training/new_predict/2_pos_descriptor.tsv\", sep='\\t', index=False)"
   ]
  },
  {
   "cell_type": "code",
   "execution_count": null,
   "metadata": {
    "collapsed": true
   },
   "outputs": [],
   "source": []
  }
 ],
 "metadata": {
  "kernelspec": {
   "display_name": "Python 2",
   "language": "python",
   "name": "python2"
  },
  "language_info": {
   "codemirror_mode": {
    "name": "ipython",
    "version": 2
   },
   "file_extension": ".py",
   "mimetype": "text/x-python",
   "name": "python",
   "nbconvert_exporter": "python",
   "pygments_lexer": "ipython2",
   "version": "2.7.6"
  }
 },
 "nbformat": 4,
 "nbformat_minor": 2
}
