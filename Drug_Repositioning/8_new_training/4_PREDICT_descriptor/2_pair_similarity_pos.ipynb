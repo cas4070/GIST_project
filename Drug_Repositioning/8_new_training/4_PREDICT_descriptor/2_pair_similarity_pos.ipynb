{
 "cells": [
  {
   "cell_type": "code",
   "execution_count": 1,
   "metadata": {
    "collapsed": true
   },
   "outputs": [],
   "source": [
    "import numpy as np\n",
    "import os\n",
    "import pandas as pd\n",
    "import time\n",
    "from itertools import product\n",
    "import math"
   ]
  },
  {
   "cell_type": "code",
   "execution_count": 2,
   "metadata": {
    "collapsed": false
   },
   "outputs": [
    {
     "name": "stdout",
     "output_type": "stream",
     "text": [
      "1330\n",
      "98163\n"
     ]
    }
   ],
   "source": [
    "#drPhe = pd.read_table(\"/DAS_Storage1/aschoi/data/Drug_Repositioning/5_new_drug/new_predict/1_drug_drug_se_sim_mat.tsv\", index_col=0)\n",
    "#drStr = pd.read_table(\"/DAS_Storage1/aschoi/data/Drug_Repositioning/5_new_drug/new_predict/1_drug_drug_str_sim_mat.tsv\", index_col=0)\n",
    "#diPhe = pd.read_table(\"/DAS_Storage1/aschoi/data/Drug_Repositioning/6_new_disease/new_predict/1_disease_disease_phe_sim_mat.tsv\", index_col=0)\n",
    "#diGe = pd.read_table(\"/DAS_Storage1/aschoi/data/Drug_Repositioning/6_new_disease/new_predict/1_disease_disease_ge_sim_mat.tsv\", index_col=0)\n",
    "drGo = pd.read_table(\"/DAS_Storage1/aschoi/data/Drug_Repositioning/5_new_drug/new_predict/1_drug_drug_GoSim_bma_mat.tsv\", index_col=0)\n",
    "drTar = pd.read_table(\"/DAS_Storage1/aschoi/data/Drug_Repositioning/5_new_drug/new_predict/1_drug_drug_targetSim_mat.tsv\", index_col=0)\n",
    "diGo = pd.read_table(\"/DAS_Storage1/aschoi/data/Drug_Repositioning/6_new_disease/new_predict/1_disease_disease_GoSim_mat(resnik,BMA).tsv\", index_col=0)\n",
    "new_asso = pd.read_table(\"/DAS_Storage1/aschoi/data/Drug_Repositioning/7_new_association/new_predict/1_gold_learning_asso.tsv\")\n",
    "pos = new_asso[new_asso.association == 1]\n",
    "neg = new_asso[new_asso.association == 0]\n",
    "print len(pos)\n",
    "print len(neg)"
   ]
  },
  {
   "cell_type": "code",
   "execution_count": 3,
   "metadata": {
    "collapsed": false
   },
   "outputs": [
    {
     "name": "stdout",
     "output_type": "stream",
     "text": [
      "start : Wed 19:46:34\n",
      "end : Wed 19:46:34\n"
     ]
    }
   ],
   "source": [
    "'''neg_li = list()\n",
    "for index, row in neg.iterrows():\n",
    "    query_drug = row['drug_id']\n",
    "    query_disease = row['disease_id']\n",
    "    #query_asso = row['association']\n",
    "    neg_li.append((query_drug, query_disease))#, query_asso))\n",
    "    '''\n",
    "pos_li = list()\n",
    "for index2, row2 in pos.iterrows():\n",
    "    pos_drug = row2['drug_id']\n",
    "    pos_disease = row2['disease_id']\n",
    "    pos_li.append((pos_drug, pos_disease)) \n",
    "print 'start : ' + time.strftime('%a %H:%M:%S')\n",
    "desc_pair = list(product(pos_li, pos_li))\n",
    "print 'end : ' + time.strftime('%a %H:%M:%S')"
   ]
  },
  {
   "cell_type": "code",
   "execution_count": 22,
   "metadata": {
    "collapsed": false
   },
   "outputs": [
    {
     "name": "stdout",
     "output_type": "stream",
     "text": [
      "start : Mon 04:10:26\n",
      "1768900\n",
      "end : Mon 04:10:43\n",
      "1768900\n"
     ]
    }
   ],
   "source": [
    "# drPhe(negDrug:posDrug)\n",
    "cnt = 0\n",
    "print 'start : ' + time.strftime('%a %H:%M:%S')\n",
    "val = list()\n",
    "print len(desc_pair)\n",
    "for pair in desc_pair:\n",
    "        drug_pheSim = drPhe[pair[0][0]][pair[1][0]]\n",
    "        val.append(drug_pheSim)\n",
    "        cnt = cnt +1\n",
    "        if cnt % 10000000 == 0:\n",
    "            print \"{} : \".format(cnt) + time.strftime('%a %H:%M:%S')\n",
    "print 'end : ' + time.strftime('%a %H:%M:%S')\n",
    "print cnt"
   ]
  },
  {
   "cell_type": "code",
   "execution_count": 23,
   "metadata": {
    "collapsed": false
   },
   "outputs": [
    {
     "data": {
      "text/plain": [
       "(('DB00909', 190300), ('DB00909', 190300))"
      ]
     },
     "execution_count": 23,
     "metadata": {},
     "output_type": "execute_result"
    }
   ],
   "source": [
    "pair"
   ]
  },
  {
   "cell_type": "code",
   "execution_count": 24,
   "metadata": {
    "collapsed": false
   },
   "outputs": [],
   "source": [
    "drug1 = list()\n",
    "drug2 = list()\n",
    "for pair in desc_pair:\n",
    "    drug1.append(pair[0][0])\n",
    "    drug2.append(pair[1][0])\n",
    "pair_dr_PheSim = pd.DataFrame({'drug1':drug1,'drug2':drug2, 'drPheSim':val})"
   ]
  },
  {
   "cell_type": "code",
   "execution_count": 25,
   "metadata": {
    "collapsed": false
   },
   "outputs": [
    {
     "name": "stdout",
     "output_type": "stream",
     "text": [
      "start : Mon 04:10:48\n",
      "1768900\n",
      "end : Mon 04:11:06\n",
      "1768900\n"
     ]
    }
   ],
   "source": [
    "# drStr(negDrug:posDrug)\n",
    "cnt = 0\n",
    "print 'start : ' + time.strftime('%a %H:%M:%S')\n",
    "val = list()\n",
    "print len(desc_pair)\n",
    "for pair in desc_pair:\n",
    "        drug_strSim = drStr[pair[0][0]][pair[1][0]]\n",
    "        val.append(drug_strSim)\n",
    "        cnt = cnt +1\n",
    "        if cnt % 10000000 == 0:\n",
    "            print \"{} : \".format(cnt) + time.strftime('%a %H:%M:%S')\n",
    "print 'end : ' + time.strftime('%a %H:%M:%S')\n",
    "print cnt"
   ]
  },
  {
   "cell_type": "code",
   "execution_count": 26,
   "metadata": {
    "collapsed": true
   },
   "outputs": [],
   "source": [
    "'''drug1 = list()\n",
    "drug2 = list()\n",
    "for pair in desc_pair:\n",
    "    drug1.append(pair[0][0])\n",
    "    drug2.append(pair[1][0])'''\n",
    "pair_dr_StrSim = pd.DataFrame({'drug1':drug1,'drug2':drug2, 'drStrSim':val})"
   ]
  },
  {
   "cell_type": "code",
   "execution_count": 27,
   "metadata": {
    "collapsed": false
   },
   "outputs": [
    {
     "name": "stdout",
     "output_type": "stream",
     "text": [
      "start : Mon 04:11:06\n",
      "1768900\n",
      "end : Mon 04:11:27\n",
      "1768900\n"
     ]
    }
   ],
   "source": [
    "# diPhe(negDisease:posDisease)\n",
    "cnt = 0\n",
    "print 'start : ' + time.strftime('%a %H:%M:%S')\n",
    "val = list()\n",
    "print len(desc_pair)\n",
    "for pair in desc_pair:\n",
    "        disease_pheSim = diPhe[str(pair[0][1])][pair[1][1]]\n",
    "        val.append(disease_pheSim)\n",
    "        cnt = cnt +1\n",
    "        if cnt % 10000000 == 0:\n",
    "            print \"{} : \".format(cnt) + time.strftime('%a %H:%M:%S')\n",
    "print 'end : ' + time.strftime('%a %H:%M:%S')\n",
    "print cnt"
   ]
  },
  {
   "cell_type": "code",
   "execution_count": 28,
   "metadata": {
    "collapsed": true
   },
   "outputs": [],
   "source": [
    "disease1 = list()\n",
    "disease2 = list()\n",
    "for pair in desc_pair:\n",
    "    disease1.append(pair[0][1])\n",
    "    disease2.append(pair[1][1])\n",
    "pair_di_PheSim = pd.DataFrame({'disease1':disease1,'disease2':disease2, 'diPheSim':val})"
   ]
  },
  {
   "cell_type": "code",
   "execution_count": 190,
   "metadata": {
    "collapsed": false
   },
   "outputs": [
    {
     "name": "stdout",
     "output_type": "stream",
     "text": [
      "start : Thu 04:01:52\n",
      "1768900\n",
      "end : Thu 04:02:11\n",
      "1768900\n"
     ]
    }
   ],
   "source": [
    "# diHPO(negDisease:posDisease)\n",
    "cnt = 0\n",
    "print 'start : ' + time.strftime('%a %H:%M:%S')\n",
    "val = list()\n",
    "print len(desc_pair)\n",
    "for pair in desc_pair:\n",
    "        disease_hpoSim = diHpo[str(pair[0][1])][pair[1][1]]\n",
    "        val.append(disease_hpoSim)\n",
    "        cnt = cnt +1\n",
    "        if cnt % 10000000 == 0:\n",
    "            print \"{} : \".format(cnt) + time.strftime('%a %H:%M:%S')\n",
    "print 'end : ' + time.strftime('%a %H:%M:%S')\n",
    "print cnt"
   ]
  },
  {
   "cell_type": "code",
   "execution_count": 12,
   "metadata": {
    "collapsed": false
   },
   "outputs": [
    {
     "name": "stdout",
     "output_type": "stream",
     "text": [
      "start : Wed 19:55:40\n",
      "1768900\n",
      "end : Wed 19:56:43\n",
      "1768900\n"
     ]
    }
   ],
   "source": [
    "# drGo(negDrug:posDrug)\n",
    "cnt = 0\n",
    "print 'start : ' + time.strftime('%a %H:%M:%S')\n",
    "val = list()\n",
    "print len(desc_pair)\n",
    "for pair in desc_pair:\n",
    "    drug_goSim = drGo[pair[0][0]][pair[1][0]]\n",
    "    val.append(drug_goSim)\n",
    "    cnt = cnt +1\n",
    "    if cnt % 10000000 == 0:\n",
    "        print \"{} : \".format(cnt) + time.strftime('%a %H:%M:%S')\n",
    "print 'end : ' + time.strftime('%a %H:%M:%S')\n",
    "print cnt"
   ]
  },
  {
   "cell_type": "code",
   "execution_count": 13,
   "metadata": {
    "collapsed": true
   },
   "outputs": [],
   "source": [
    "drug1 = list()\n",
    "drug2 = list()\n",
    "for pair in desc_pair:\n",
    "    drug1.append(pair[0][0])\n",
    "    drug2.append(pair[1][0])\n",
    "pair_dr_GoSim = pd.DataFrame({'drug1':drug1,'drug2':drug2, 'drGoSim':val})"
   ]
  },
  {
   "cell_type": "code",
   "execution_count": 16,
   "metadata": {
    "collapsed": false
   },
   "outputs": [
    {
     "name": "stdout",
     "output_type": "stream",
     "text": [
      "start : Wed 19:58:12\n",
      "1768900\n",
      "end : Wed 19:59:11\n",
      "1768900\n"
     ]
    }
   ],
   "source": [
    "# drTarget(negDrug:posDrug)\n",
    "cnt = 0\n",
    "print 'start : ' + time.strftime('%a %H:%M:%S')\n",
    "val = list()\n",
    "print len(desc_pair)\n",
    "for pair in desc_pair:\n",
    "    drug_tarSim = drTar[pair[0][0]][pair[1][0]]\n",
    "    val.append(drug_tarSim)\n",
    "    cnt = cnt +1\n",
    "    if cnt % 10000000 == 0:\n",
    "        print \"{} : \".format(cnt) + time.strftime('%a %H:%M:%S')\n",
    "print 'end : ' + time.strftime('%a %H:%M:%S')\n",
    "print cnt"
   ]
  },
  {
   "cell_type": "code",
   "execution_count": 17,
   "metadata": {
    "collapsed": true
   },
   "outputs": [],
   "source": [
    "'''drug1 = list()\n",
    "drug2 = list()\n",
    "for pair in desc_pair:\n",
    "    drug1.append(pair[0][0])\n",
    "    drug2.append(pair[1][0])'''\n",
    "pair_dr_TarSim = pd.DataFrame({'drug1':drug1,'drug2':drug2, 'drTarSim':val})"
   ]
  },
  {
   "cell_type": "code",
   "execution_count": 19,
   "metadata": {
    "collapsed": false
   },
   "outputs": [
    {
     "name": "stdout",
     "output_type": "stream",
     "text": [
      "start : Wed 19:59:29\n",
      "1768900\n",
      "end : Wed 20:00:19\n",
      "1768900\n"
     ]
    }
   ],
   "source": [
    "# diGo(negDisease:posDisease)\n",
    "cnt = 0\n",
    "print 'start : ' + time.strftime('%a %H:%M:%S')\n",
    "val = list()\n",
    "print len(desc_pair)\n",
    "for pair in desc_pair:\n",
    "        disease_goSim = diGo[str(pair[0][1])][pair[1][1]]\n",
    "        val.append(disease_goSim)\n",
    "        cnt = cnt +1\n",
    "        if cnt % 10000000 == 0:\n",
    "            print \"{} : \".format(cnt) + time.strftime('%a %H:%M:%S')\n",
    "print 'end : ' + time.strftime('%a %H:%M:%S')\n",
    "print cnt"
   ]
  },
  {
   "cell_type": "code",
   "execution_count": 20,
   "metadata": {
    "collapsed": true
   },
   "outputs": [],
   "source": [
    "disease1 = list()\n",
    "disease2 = list()\n",
    "for pair in desc_pair:\n",
    "    disease1.append(pair[0][1])\n",
    "    disease2.append(pair[1][1])\n",
    "pair_di_GoSim = pd.DataFrame({'disease1':disease1,'disease2':disease2, 'diGoSim':val})"
   ]
  },
  {
   "cell_type": "code",
   "execution_count": 22,
   "metadata": {
    "collapsed": false
   },
   "outputs": [],
   "source": [
    "pair_dr_GoSim.to_csv(\"/DAS_Storage1/aschoi/data/Drug_Repositioning/8_new_training/2_similarity_based-PREDICT/final/1_pos_drdr_GoSim_bma.tsv\", sep='\\t', index=False)\n",
    "pair_dr_TarSim.to_csv(\"/DAS_Storage1/aschoi/data/Drug_Repositioning/8_new_training/2_similarity_based-PREDICT/final/1_pos_drdr_TarSim.tsv\", sep='\\t', index=False)\n",
    "pair_di_GoSim.to_csv(\"/DAS_Storage1/aschoi/data/Drug_Repositioning/8_new_training/2_similarity_based-PREDICT/final/1_pos_didi_GoSim_bma.tsv\", sep='\\t', index=False)\n",
    "#pair_di_HpoSim.to_csv(\"/DAS_Storage1/aschoi/data/Drug_Repositioning/8_new_training/2_similarity_based-PREDICT/1_pos_didi_HpoSim_BMA.tsv\", sep='\\t', index=False)\n",
    "#pair_di_GeSim.to_csv(\"/DAS_Storage1/aschoi/data/Drug_Repositioning/8_new_training/new_predict/1_pos_didi_GeSim.tsv\", sep='\\t', index=False)\n",
    "#pair_di_PheSim.to_csv(\"/DAS_Storage1/aschoi/data/Drug_Repositioning/8_new_training/new_predict/1_pos_didi_PheSim.tsv\", sep='\\t', index=False)\n",
    "#pair_dr_StrSim.to_csv(\"/DAS_Storage1/aschoi/data/Drug_Repositioning/8_new_training/new_predict/1_pos_drdr_StrSim.tsv\", sep='\\t', index=False)\n",
    "#pair_dr_PheSim.to_csv(\"/DAS_Storage1/aschoi/data/Drug_Repositioning/8_new_training/new_predict/1_pos_drdr_PheSim.tsv\", sep='\\t', index=False)"
   ]
  },
  {
   "cell_type": "code",
   "execution_count": 86,
   "metadata": {
    "collapsed": true
   },
   "outputs": [],
   "source": [
    "#descriptor 만들기."
   ]
  },
  {
   "cell_type": "code",
   "execution_count": 26,
   "metadata": {
    "collapsed": false
   },
   "outputs": [],
   "source": [
    "# drug\n",
    "pair_dr_StrSim = pd.read_table(\"/DAS_Storage1/aschoi/data/Drug_Repositioning/8_new_training/2_similarity_based-PREDICT/final/1_pos_drdr_StrSim.tsv\")\n",
    "pair_dr_PheSim = pd.read_table(\"/DAS_Storage1/aschoi/data/Drug_Repositioning/8_new_training/2_similarity_based-PREDICT/final/1_pos_drdr_PheSim.tsv\")\n",
    "pair_dr_GoSim = pd.read_table(\"/DAS_Storage1/aschoi/data/Drug_Repositioning/8_new_training/2_similarity_based-PREDICT/final/1_pos_drdr_GoSim_bma.tsv\")\n",
    "pair_dr_TarSim = pd.read_table(\"/DAS_Storage1/aschoi/data/Drug_Repositioning/8_new_training/2_similarity_based-PREDICT/final/1_pos_drdr_TarSim.tsv\")\n",
    "\n",
    "# disease\n",
    "pair_di_PheSim = pd.read_table(\"/DAS_Storage1/aschoi/data/Drug_Repositioning/8_new_training/2_similarity_based-PREDICT/final/1_pos_didi_PheSim.tsv\")\n",
    "pair_di_GoSim = pd.read_table(\"/DAS_Storage1/aschoi/data/Drug_Repositioning/8_new_training/2_similarity_based-PREDICT/final/1_pos_didi_GoSim_bma.tsv\")\n",
    "pair_di_HpoSim = pd.read_table(\"/DAS_Storage1/aschoi/data/Drug_Repositioning/8_new_training/2_similarity_based-PREDICT/final/1_pos_didi_HpoSim_BMA.tsv\")"
   ]
  },
  {
   "cell_type": "code",
   "execution_count": 27,
   "metadata": {
    "collapsed": false
   },
   "outputs": [
    {
     "name": "stdout",
     "output_type": "stream",
     "text": [
      "434 233\n"
     ]
    }
   ],
   "source": [
    "gold_dr_id = pos['drug_id'].drop_duplicates()\n",
    "gold_di_id = pos['disease_id'].drop_duplicates()\n",
    "print len(gold_dr_id), len(gold_di_id)"
   ]
  },
  {
   "cell_type": "code",
   "execution_count": 196,
   "metadata": {
    "collapsed": false
   },
   "outputs": [],
   "source": [
    "# drStr + diHpo\n",
    "temp = pd.concat([pair_dr_StrSim, pair_di_HpoSim], axis=1)\n",
    "drStr_diHpo = temp[['drug1', 'disease1', 'drug2', 'disease2', 'drStrSim', 'diHpoSim']]\n",
    "del temp"
   ]
  },
  {
   "cell_type": "code",
   "execution_count": 197,
   "metadata": {
    "collapsed": false
   },
   "outputs": [],
   "source": [
    "drStr_diHpo['drStr_diHpo'] = np.sqrt(drStr_diHpo['drStrSim'] * drStr_diHpo['diHpoSim'])"
   ]
  },
  {
   "cell_type": "code",
   "execution_count": 198,
   "metadata": {
    "collapsed": false
   },
   "outputs": [
    {
     "data": {
      "text/html": [
       "<div>\n",
       "<table border=\"1\" class=\"dataframe\">\n",
       "  <thead>\n",
       "    <tr style=\"text-align: right;\">\n",
       "      <th></th>\n",
       "      <th>drug1</th>\n",
       "      <th>disease1</th>\n",
       "      <th>drug2</th>\n",
       "      <th>disease2</th>\n",
       "      <th>drStrSim</th>\n",
       "      <th>diHpoSim</th>\n",
       "      <th>drStr_diHpo</th>\n",
       "    </tr>\n",
       "  </thead>\n",
       "  <tbody>\n",
       "    <tr>\n",
       "      <th>0</th>\n",
       "      <td>DB00659</td>\n",
       "      <td>103780</td>\n",
       "      <td>DB00659</td>\n",
       "      <td>103780</td>\n",
       "      <td>1.000000</td>\n",
       "      <td>1.0</td>\n",
       "      <td>1.0</td>\n",
       "    </tr>\n",
       "    <tr>\n",
       "      <th>1</th>\n",
       "      <td>DB00659</td>\n",
       "      <td>103780</td>\n",
       "      <td>DB01193</td>\n",
       "      <td>608622</td>\n",
       "      <td>0.125984</td>\n",
       "      <td>0.0</td>\n",
       "      <td>0.0</td>\n",
       "    </tr>\n",
       "  </tbody>\n",
       "</table>\n",
       "</div>"
      ],
      "text/plain": [
       "     drug1  disease1    drug2  disease2  drStrSim  diHpoSim  drStr_diHpo\n",
       "0  DB00659    103780  DB00659    103780  1.000000       1.0          1.0\n",
       "1  DB00659    103780  DB01193    608622  0.125984       0.0          0.0"
      ]
     },
     "execution_count": 198,
     "metadata": {},
     "output_type": "execute_result"
    }
   ],
   "source": [
    "drStr_diHpo.head(2)"
   ]
  },
  {
   "cell_type": "code",
   "execution_count": 199,
   "metadata": {
    "collapsed": false
   },
   "outputs": [],
   "source": [
    "drStr_diHpo = drStr_diHpo[~((drStr_diHpo.drug1 == drStr_diHpo.drug2) &(drStr_diHpo.disease1 == drStr_diHpo.disease2))]"
   ]
  },
  {
   "cell_type": "code",
   "execution_count": 200,
   "metadata": {
    "collapsed": true
   },
   "outputs": [],
   "source": [
    "sub_drStr_diHpo = drStr_diHpo[['drug1', 'disease1', 'drug2','disease2', 'drStr_diHpo']]"
   ]
  },
  {
   "cell_type": "code",
   "execution_count": 201,
   "metadata": {
    "collapsed": false
   },
   "outputs": [
    {
     "data": {
      "text/plain": [
       "\"desc = pd.DataFrame()\\ncnt = 0\\nfor index, row in pos.iterrows():\\n    dr_id = row['drug_id']\\n    di_id = row['disease_id']\\n    temp = sub_drStr_diGe[(sub_drStr_diGe.drug1 == dr_id)&(sub_drStr_diGe.disease1 == di_id)]\\n    temp_df = pd.DataFrame(data = [[dr_id, di_id, temp['drStr_diGe'].max()]], columns=['drug_id', 'disease_id', 'drStr_diGe'])\\n    desc = desc.append(temp_df)\\n    desc.index = range(len(desc))\""
      ]
     },
     "execution_count": 201,
     "metadata": {},
     "output_type": "execute_result"
    }
   ],
   "source": [
    "desc = sub_drStr_diHpo.groupby(['drug1', 'disease1'])[['drStr_diHpo']].max()\n",
    "'''desc = pd.DataFrame()\n",
    "cnt = 0\n",
    "for index, row in pos.iterrows():\n",
    "    dr_id = row['drug_id']\n",
    "    di_id = row['disease_id']\n",
    "    temp = sub_drStr_diGe[(sub_drStr_diGe.drug1 == dr_id)&(sub_drStr_diGe.disease1 == di_id)]\n",
    "    temp_df = pd.DataFrame(data = [[dr_id, di_id, temp['drStr_diGe'].max()]], columns=['drug_id', 'disease_id', 'drStr_diGe'])\n",
    "    desc = desc.append(temp_df)\n",
    "    desc.index = range(len(desc))'''"
   ]
  },
  {
   "cell_type": "code",
   "execution_count": 94,
   "metadata": {
    "collapsed": false
   },
   "outputs": [
    {
     "name": "stdout",
     "output_type": "stream",
     "text": [
      "1767570\n"
     ]
    },
    {
     "data": {
      "text/plain": [
       "\"desc['drStr_diPhe'] = -2\\nprint 'start : ' + time.strftime('%a %H:%M:%S')\\nfor index, row in pos.iterrows():\\n    dr_id = row['drug_id']\\n    di_id = row['disease_id']\\n    temp = sub_drStr_diPhe[(sub_drStr_diPhe.drug1 == dr_id)&(sub_drStr_diPhe.disease1 == di_id)]\\n    found = desc[(desc.drug_id == dr_id) & (desc.disease_id == di_id)]\\n    desc.set_value(found.index, 'drStr_diPhe', temp['drStr_diPhe'].max())\\nprint 'end : ' + time.strftime('%a %H:%M:%S')\""
      ]
     },
     "execution_count": 94,
     "metadata": {},
     "output_type": "execute_result"
    }
   ],
   "source": [
    "# drStr + diPhe\n",
    "temp = pd.concat([pair_dr_StrSim, pair_di_PheSim], axis=1)\n",
    "drStr_diPhe = temp[['drug1', 'disease1', 'drug2', 'disease2', 'drStrSim', 'diPheSim']]\n",
    "del temp\n",
    "drStr_diPhe['drStr_diPhe'] = np.sqrt(drStr_diPhe['drStrSim'] * drStr_diPhe['diPheSim'])\n",
    "drStr_diPhe = drStr_diPhe[~((drStr_diPhe.drug1 == drStr_diPhe.drug2) &(drStr_diPhe.disease1 == drStr_diPhe.disease2))]\n",
    "print len(drStr_diPhe)\n",
    "sub_drStr_diPhe = drStr_diPhe[['drug1', 'disease1', 'drug2','disease2', 'drStr_diPhe']]\n",
    "desc2 = sub_drStr_diPhe.groupby(['drug1', 'disease1'])[['drStr_diPhe']].max()\n",
    "'''desc['drStr_diPhe'] = -2\n",
    "print 'start : ' + time.strftime('%a %H:%M:%S')\n",
    "for index, row in pos.iterrows():\n",
    "    dr_id = row['drug_id']\n",
    "    di_id = row['disease_id']\n",
    "    temp = sub_drStr_diPhe[(sub_drStr_diPhe.drug1 == dr_id)&(sub_drStr_diPhe.disease1 == di_id)]\n",
    "    found = desc[(desc.drug_id == dr_id) & (desc.disease_id == di_id)]\n",
    "    desc.set_value(found.index, 'drStr_diPhe', temp['drStr_diPhe'].max())\n",
    "print 'end : ' + time.strftime('%a %H:%M:%S')'''"
   ]
  },
  {
   "cell_type": "code",
   "execution_count": 202,
   "metadata": {
    "collapsed": false
   },
   "outputs": [
    {
     "name": "stdout",
     "output_type": "stream",
     "text": [
      "1767570\n"
     ]
    },
    {
     "data": {
      "text/plain": [
       "\"desc['drPhe_diHpo'] = -2\\nprint 'start : ' + time.strftime('%a %H:%M:%S')\\nfor index, row in pos.iterrows():\\n    dr_id = row['drug_id']\\n    di_id = row['disease_id']\\n    temp = sub_drPhe_diHpo[(sub_drPhe_diHpo.drug1 == dr_id)&(sub_drPhe_diHpo.disease1 == di_id)]\\n    found = desc[(desc.drug_id == dr_id) & (desc.disease_id == di_id)]\\n    desc.set_value(found.index, 'drPhe_diHpo', temp['drPhe_diHpo'].max())\\nprint 'end : ' + time.strftime('%a %H:%M:%S')\""
      ]
     },
     "execution_count": 202,
     "metadata": {},
     "output_type": "execute_result"
    }
   ],
   "source": [
    "# drPhe + diHpo\n",
    "temp = pd.concat([pair_dr_PheSim, pair_di_HpoSim], axis=1)\n",
    "drPhe_diHpo = temp[['drug1', 'disease1', 'drug2', 'disease2', 'drPheSim', 'diHpoSim']]\n",
    "del temp\n",
    "drPhe_diHpo['drPhe_diHpo'] = np.sqrt(drPhe_diHpo['drPheSim'] * drPhe_diHpo['diHpoSim'])\n",
    "drPhe_diHpo = drPhe_diHpo[~((drPhe_diHpo.drug1 == drPhe_diHpo.drug2) &(drPhe_diHpo.disease1 == drPhe_diHpo.disease2))]\n",
    "print len(drPhe_diHpo)\n",
    "sub_drPhe_diHpo = drPhe_diHpo[['drug1', 'disease1', 'drug2','disease2', 'drPhe_diHpo']]\n",
    "desc3 = sub_drPhe_diHpo.groupby(['drug1', 'disease1'])[['drPhe_diHpo']].max()\n",
    "'''desc['drPhe_diHpo'] = -2\n",
    "print 'start : ' + time.strftime('%a %H:%M:%S')\n",
    "for index, row in pos.iterrows():\n",
    "    dr_id = row['drug_id']\n",
    "    di_id = row['disease_id']\n",
    "    temp = sub_drPhe_diHpo[(sub_drPhe_diHpo.drug1 == dr_id)&(sub_drPhe_diHpo.disease1 == di_id)]\n",
    "    found = desc[(desc.drug_id == dr_id) & (desc.disease_id == di_id)]\n",
    "    desc.set_value(found.index, 'drPhe_diHpo', temp['drPhe_diHpo'].max())\n",
    "print 'end : ' + time.strftime('%a %H:%M:%S')'''"
   ]
  },
  {
   "cell_type": "code",
   "execution_count": 96,
   "metadata": {
    "collapsed": false
   },
   "outputs": [
    {
     "name": "stdout",
     "output_type": "stream",
     "text": [
      "1767570\n"
     ]
    },
    {
     "data": {
      "text/plain": [
       "\"desc['drPhe_diPhe'] = -2\\nprint 'start : ' + time.strftime('%a %H:%M:%S')\\nfor index, row in pos.iterrows():\\n    dr_id = row['drug_id']\\n    di_id = row['disease_id']\\n    temp = sub_drPhe_diPhe[(sub_drPhe_diPhe.drug1 == dr_id)&(sub_drPhe_diPhe.disease1 == di_id)]\\n    found = desc[(desc.drug_id == dr_id) & (desc.disease_id == di_id)]\\n    desc.set_value(found.index, 'drPhe_diPhe', temp['drPhe_diPhe'].max())\\nprint 'end : ' + time.strftime('%a %H:%M:%S')\""
      ]
     },
     "execution_count": 96,
     "metadata": {},
     "output_type": "execute_result"
    }
   ],
   "source": [
    "# drPhe + diPhe\n",
    "temp = pd.concat([pair_dr_PheSim, pair_di_PheSim], axis=1)\n",
    "drPhe_diPhe = temp[['drug1', 'disease1', 'drug2', 'disease2', 'drPheSim', 'diPheSim']]\n",
    "del temp\n",
    "drPhe_diPhe['drPhe_diPhe'] = np.sqrt(drPhe_diPhe['drPheSim'] * drPhe_diPhe['diPheSim'])\n",
    "drPhe_diPhe = drPhe_diPhe[~((drPhe_diPhe.drug1 == drPhe_diPhe.drug2) &(drPhe_diPhe.disease1 == drPhe_diPhe.disease2))]\n",
    "print len(drPhe_diPhe)\n",
    "sub_drPhe_diPhe = drPhe_diPhe[['drug1', 'disease1', 'drug2','disease2', 'drPhe_diPhe']]\n",
    "desc4 = sub_drPhe_diPhe.groupby(['drug1', 'disease1'])[['drPhe_diPhe']].max()\n",
    "'''desc['drPhe_diPhe'] = -2\n",
    "print 'start : ' + time.strftime('%a %H:%M:%S')\n",
    "for index, row in pos.iterrows():\n",
    "    dr_id = row['drug_id']\n",
    "    di_id = row['disease_id']\n",
    "    temp = sub_drPhe_diPhe[(sub_drPhe_diPhe.drug1 == dr_id)&(sub_drPhe_diPhe.disease1 == di_id)]\n",
    "    found = desc[(desc.drug_id == dr_id) & (desc.disease_id == di_id)]\n",
    "    desc.set_value(found.index, 'drPhe_diPhe', temp['drPhe_diPhe'].max())\n",
    "print 'end : ' + time.strftime('%a %H:%M:%S')'''"
   ]
  },
  {
   "cell_type": "code",
   "execution_count": 137,
   "metadata": {
    "collapsed": true
   },
   "outputs": [],
   "source": [
    "'''desc.to_csv(\"/DAS_Storage1/aschoi/data/Drug_Repositioning/8_new_training/new_predict/2_pos_descriptor.tsv\", sep='\\t', index=False)'''"
   ]
  },
  {
   "cell_type": "code",
   "execution_count": 203,
   "metadata": {
    "collapsed": false
   },
   "outputs": [],
   "source": [
    "desc.to_csv(\"/DAS_Storage1/aschoi/data/Drug_Repositioning/8_new_training/2_similarity_based-PREDICT/2_1_pos_descriptor_drStrdiHpo_BMA.tsv\", sep='\\t')\n",
    "#desc2.to_csv(\"/DAS_Storage1/aschoi/data/Drug_Repositioning/8_new_training/new_predict/2_1_pos_descriptor_drStrdiPhe.tsv\", sep='\\t')\n",
    "desc3.to_csv(\"/DAS_Storage1/aschoi/data/Drug_Repositioning/8_new_training/2_similarity_based-PREDICT/2_1_pos_descriptor_drPhediHpo_BMA.tsv\", sep='\\t')\n",
    "#desc4.to_csv(\"/DAS_Storage1/aschoi/data/Drug_Repositioning/8_new_training/new_predict/2_1_pos_descriptor_drPhediPhe.tsv\", sep='\\t')"
   ]
  },
  {
   "cell_type": "code",
   "execution_count": 204,
   "metadata": {
    "collapsed": true
   },
   "outputs": [],
   "source": [
    "#desc = pd.read_table(\"/DAS_Storage1/aschoi/data/Drug_Repositioning/8_new_training/new_predict/2_1_pos_descriptor_drStrdiGe.tsv\")\n",
    "desc = pd.read_table(\"/DAS_Storage1/aschoi/data/Drug_Repositioning/8_new_training/2_similarity_based-PREDICT/2_1_pos_descriptor_drStrdiHpo_BMA.tsv\")\n",
    "desc2 = pd.read_table(\"/DAS_Storage1/aschoi/data/Drug_Repositioning/8_new_training/2_similarity_based-PREDICT/2_1_pos_descriptor_drStrdiPhe.tsv\")\n",
    "#desc3 = pd.read_table(\"/DAS_Storage1/aschoi/data/Drug_Repositioning/8_new_training/new_predict/2_1_pos_descriptor_drPhediGe.tsv\")\n",
    "desc3 = pd.read_table(\"/DAS_Storage1/aschoi/data/Drug_Repositioning/8_new_training/2_similarity_based-PREDICT/2_1_pos_descriptor_drPhediHpo_BMA.tsv\")\n",
    "desc4 = pd.read_table(\"/DAS_Storage1/aschoi/data/Drug_Repositioning/8_new_training/2_similarity_based-PREDICT/2_1_pos_descriptor_drPhediPhe.tsv\")"
   ]
  },
  {
   "cell_type": "code",
   "execution_count": 205,
   "metadata": {
    "collapsed": false
   },
   "outputs": [],
   "source": [
    "result = desc.merge(desc2).merge(desc3).merge(desc4)\n",
    "#result.replace(\"inf\", 0, inplace=True)"
   ]
  },
  {
   "cell_type": "code",
   "execution_count": 208,
   "metadata": {
    "collapsed": true
   },
   "outputs": [],
   "source": [
    "result.to_csv(\"/DAS_Storage1/aschoi/data/Drug_Repositioning/8_new_training/2_similarity_based-PREDICT/2_1_pos_descriptor_hpo_BMA.tsv\", sep='\\t', index=False)"
   ]
  },
  {
   "cell_type": "code",
   "execution_count": 206,
   "metadata": {
    "collapsed": false
   },
   "outputs": [
    {
     "data": {
      "text/html": [
       "<div>\n",
       "<table border=\"1\" class=\"dataframe\">\n",
       "  <thead>\n",
       "    <tr style=\"text-align: right;\">\n",
       "      <th></th>\n",
       "      <th>drug1</th>\n",
       "      <th>disease1</th>\n",
       "      <th>drStr_diHpo</th>\n",
       "      <th>drStr_diPhe</th>\n",
       "      <th>drPhe_diHpo</th>\n",
       "      <th>drPhe_diPhe</th>\n",
       "    </tr>\n",
       "  </thead>\n",
       "  <tbody>\n",
       "    <tr>\n",
       "      <th>0</th>\n",
       "      <td>DB00114</td>\n",
       "      <td>239350</td>\n",
       "      <td>0.804030</td>\n",
       "      <td>0.804030</td>\n",
       "      <td>0.962981</td>\n",
       "      <td>0.962981</td>\n",
       "    </tr>\n",
       "    <tr>\n",
       "      <th>1</th>\n",
       "      <td>DB00126</td>\n",
       "      <td>206200</td>\n",
       "      <td>0.776847</td>\n",
       "      <td>0.485498</td>\n",
       "      <td>0.897388</td>\n",
       "      <td>0.660397</td>\n",
       "    </tr>\n",
       "    <tr>\n",
       "      <th>2</th>\n",
       "      <td>DB00126</td>\n",
       "      <td>240400</td>\n",
       "      <td>0.325227</td>\n",
       "      <td>0.485498</td>\n",
       "      <td>0.793351</td>\n",
       "      <td>0.593436</td>\n",
       "    </tr>\n",
       "    <tr>\n",
       "      <th>3</th>\n",
       "      <td>DB00126</td>\n",
       "      <td>250790</td>\n",
       "      <td>0.776847</td>\n",
       "      <td>0.450390</td>\n",
       "      <td>0.776847</td>\n",
       "      <td>0.539446</td>\n",
       "    </tr>\n",
       "    <tr>\n",
       "      <th>4</th>\n",
       "      <td>DB00136</td>\n",
       "      <td>146255</td>\n",
       "      <td>0.000000</td>\n",
       "      <td>0.938591</td>\n",
       "      <td>0.000000</td>\n",
       "      <td>0.980283</td>\n",
       "    </tr>\n",
       "  </tbody>\n",
       "</table>\n",
       "</div>"
      ],
      "text/plain": [
       "     drug1  disease1  drStr_diHpo  drStr_diPhe  drPhe_diHpo  drPhe_diPhe\n",
       "0  DB00114    239350     0.804030     0.804030     0.962981     0.962981\n",
       "1  DB00126    206200     0.776847     0.485498     0.897388     0.660397\n",
       "2  DB00126    240400     0.325227     0.485498     0.793351     0.593436\n",
       "3  DB00126    250790     0.776847     0.450390     0.776847     0.539446\n",
       "4  DB00136    146255     0.000000     0.938591     0.000000     0.980283"
      ]
     },
     "execution_count": 206,
     "metadata": {},
     "output_type": "execute_result"
    }
   ],
   "source": [
    "result.head()"
   ]
  },
  {
   "cell_type": "code",
   "execution_count": null,
   "metadata": {
    "collapsed": true
   },
   "outputs": [],
   "source": [
    "#### drStr_diGo, drPhe_diGo, drGo_diPhe, drGo_diGo, drGo_diHpo, drTar_diPhe, drTar_diGo, drTar_diHpo"
   ]
  },
  {
   "cell_type": "code",
   "execution_count": 28,
   "metadata": {
    "collapsed": false
   },
   "outputs": [
    {
     "name": "stdout",
     "output_type": "stream",
     "text": [
      "1767570\n"
     ]
    }
   ],
   "source": [
    "# drStr + diGo\n",
    "temp = pd.concat([pair_dr_StrSim, pair_di_GoSim], axis=1)\n",
    "drStr_diGo = temp[['drug1', 'disease1', 'drug2', 'disease2', 'drStrSim', 'diGoSim']]\n",
    "del temp\n",
    "drStr_diGo['drStr_diGo'] = np.sqrt(drStr_diGo['drStrSim'] * drStr_diGo['diGoSim'])\n",
    "drStr_diGo = drStr_diGo[~((drStr_diGo.drug1 == drStr_diGo.drug2) &(drStr_diGo.disease1 == drStr_diGo.disease2))]\n",
    "print len(drStr_diGo)\n",
    "sub_drStr_diGo = drStr_diGo[['drug1', 'disease1', 'drug2','disease2', 'drStr_diGo']]\n",
    "desc_drStr_diGo = sub_drStr_diGo.groupby(['drug1', 'disease1'])[['drStr_diGo']].max()"
   ]
  },
  {
   "cell_type": "code",
   "execution_count": 30,
   "metadata": {
    "collapsed": false
   },
   "outputs": [],
   "source": [
    "desc_drStr_diGo.to_csv(\"/DAS_Storage1/aschoi/data/Drug_Repositioning/8_new_training/2_similarity_based-PREDICT/final/2_1_pos_descriptor_drStrdiGo_BMA.tsv\", sep='\\t', index=False)"
   ]
  },
  {
   "cell_type": "code",
   "execution_count": 31,
   "metadata": {
    "collapsed": false
   },
   "outputs": [
    {
     "name": "stdout",
     "output_type": "stream",
     "text": [
      "1767570\n"
     ]
    }
   ],
   "source": [
    "# drPhe + diGo\n",
    "temp = pd.concat([pair_dr_PheSim, pair_di_GoSim], axis=1)\n",
    "drPhe_diGo = temp[['drug1', 'disease1', 'drug2', 'disease2', 'drPheSim', 'diGoSim']]\n",
    "del temp\n",
    "drPhe_diGo['drPhe_diGo'] = np.sqrt(drPhe_diGo['drPheSim'] * drPhe_diGo['diGoSim'])\n",
    "drPhe_diGo = drPhe_diGo[~((drPhe_diGo.drug1 == drPhe_diGo.drug2) &(drPhe_diGo.disease1 == drPhe_diGo.disease2))]\n",
    "print len(drPhe_diGo)\n",
    "sub_drPhe_diGo = drPhe_diGo[['drug1', 'disease1', 'drug2','disease2', 'drPhe_diGo']]\n",
    "desc_drPhe_diGo = sub_drPhe_diGo.groupby(['drug1', 'disease1'])[['drPhe_diGo']].max()\n",
    "desc_drPhe_diGo.to_csv(\"/DAS_Storage1/aschoi/data/Drug_Repositioning/8_new_training/2_similarity_based-PREDICT/final/2_1_pos_descriptor_drPhediGo_BMA.tsv\", sep='\\t', index=False)"
   ]
  },
  {
   "cell_type": "code",
   "execution_count": 33,
   "metadata": {
    "collapsed": false
   },
   "outputs": [
    {
     "name": "stdout",
     "output_type": "stream",
     "text": [
      "1767570\n"
     ]
    }
   ],
   "source": [
    "# drTar + diGo\n",
    "temp = pd.concat([pair_dr_TarSim, pair_di_GoSim], axis=1)\n",
    "drTar_diGo = temp[['drug1', 'disease1', 'drug2', 'disease2', 'drTarSim', 'diGoSim']]\n",
    "del temp\n",
    "drTar_diGo['drTar_diGo'] = np.sqrt(drTar_diGo['drTarSim'] * drTar_diGo['diGoSim'])\n",
    "drTar_diGo = drTar_diGo[~((drTar_diGo.drug1 == drTar_diGo.drug2) &(drTar_diGo.disease1 == drTar_diGo.disease2))]\n",
    "print len(drTar_diGo)\n",
    "sub_drTar_diGo = drTar_diGo[['drug1', 'disease1', 'drug2','disease2', 'drTar_diGo']]\n",
    "desc_drTar_diGo = sub_drTar_diGo.groupby(['drug1', 'disease1'])[['drTar_diGo']].max()\n",
    "desc_drTar_diGo.to_csv(\"/DAS_Storage1/aschoi/data/Drug_Repositioning/8_new_training/2_similarity_based-PREDICT/final/2_1_pos_descriptor_drTardiGo_BMA.tsv\", sep='\\t', index=False)"
   ]
  },
  {
   "cell_type": "code",
   "execution_count": 34,
   "metadata": {
    "collapsed": false
   },
   "outputs": [
    {
     "name": "stdout",
     "output_type": "stream",
     "text": [
      "1767570\n"
     ]
    }
   ],
   "source": [
    "# drGo + diGo\n",
    "temp = pd.concat([pair_dr_GoSim, pair_di_GoSim], axis=1)\n",
    "drGo_diGo = temp[['drug1', 'disease1', 'drug2', 'disease2', 'drGoSim', 'diGoSim']]\n",
    "del temp\n",
    "drGo_diGo['drGo_diGo'] = np.sqrt(drGo_diGo['drGoSim'] * drGo_diGo['diGoSim'])\n",
    "drGo_diGo = drGo_diGo[~((drGo_diGo.drug1 == drGo_diGo.drug2) &(drGo_diGo.disease1 == drGo_diGo.disease2))]\n",
    "print len(drGo_diGo)\n",
    "sub_drGo_diGo = drGo_diGo[['drug1', 'disease1', 'drug2','disease2', 'drGo_diGo']]\n",
    "desc_drGo_diGo = sub_drGo_diGo.groupby(['drug1', 'disease1'])[['drGo_diGo']].max()\n",
    "desc_drGo_diGo.to_csv(\"/DAS_Storage1/aschoi/data/Drug_Repositioning/8_new_training/2_similarity_based-PREDICT/final/2_1_pos_descriptor_drGodiGo_BMA.tsv\", sep='\\t', index=False)"
   ]
  },
  {
   "cell_type": "code",
   "execution_count": 35,
   "metadata": {
    "collapsed": false
   },
   "outputs": [
    {
     "name": "stdout",
     "output_type": "stream",
     "text": [
      "1767570\n"
     ]
    }
   ],
   "source": [
    "# drGo + diPhe\n",
    "temp = pd.concat([pair_dr_GoSim, pair_di_PheSim], axis=1)\n",
    "drGo_diPhe = temp[['drug1', 'disease1', 'drug2', 'disease2', 'drGoSim', 'diPheSim']]\n",
    "del temp\n",
    "drGo_diPhe['drGo_diPhe'] = np.sqrt(drGo_diPhe['drGoSim'] * drGo_diPhe['diPheSim'])\n",
    "drGo_diPhe = drGo_diPhe[~((drGo_diPhe.drug1 == drGo_diPhe.drug2) &(drGo_diPhe.disease1 == drGo_diPhe.disease2))]\n",
    "print len(drGo_diPhe)\n",
    "sub_drGo_diPhe = drGo_diPhe[['drug1', 'disease1', 'drug2','disease2', 'drGo_diPhe']]\n",
    "desc_drGo_diPhe = sub_drGo_diPhe.groupby(['drug1', 'disease1'])[['drGo_diPhe']].max()\n",
    "desc_drGo_diPhe.to_csv(\"/DAS_Storage1/aschoi/data/Drug_Repositioning/8_new_training/2_similarity_based-PREDICT/final/2_1_pos_descriptor_drGo_BMAdiPhe.tsv\", sep='\\t', index=False)"
   ]
  },
  {
   "cell_type": "code",
   "execution_count": 36,
   "metadata": {
    "collapsed": false
   },
   "outputs": [
    {
     "name": "stdout",
     "output_type": "stream",
     "text": [
      "1767570\n"
     ]
    }
   ],
   "source": [
    "# drGo + diHpo\n",
    "temp = pd.concat([pair_dr_GoSim, pair_di_HpoSim], axis=1)\n",
    "drGo_diHpo = temp[['drug1', 'disease1', 'drug2', 'disease2', 'drGoSim', 'diHpoSim']]\n",
    "del temp\n",
    "drGo_diHpo['drGo_diHpo'] = np.sqrt(drGo_diHpo['drGoSim'] * drGo_diHpo['diHpoSim'])\n",
    "drGo_diHpo = drGo_diHpo[~((drGo_diHpo.drug1 == drGo_diHpo.drug2) &(drGo_diHpo.disease1 == drGo_diHpo.disease2))]\n",
    "print len(drGo_diHpo)\n",
    "sub_drGo_diHpo = drGo_diHpo[['drug1', 'disease1', 'drug2','disease2', 'drGo_diHpo']]\n",
    "desc_drGo_diHpo = sub_drGo_diHpo.groupby(['drug1', 'disease1'])[['drGo_diHpo']].max()\n",
    "desc_drGo_diHpo.to_csv(\"/DAS_Storage1/aschoi/data/Drug_Repositioning/8_new_training/2_similarity_based-PREDICT/final/2_1_pos_descriptor_drGo_BMAdiHpo_BMA.tsv\", sep='\\t', index=False)"
   ]
  },
  {
   "cell_type": "code",
   "execution_count": null,
   "metadata": {
    "collapsed": true
   },
   "outputs": [],
   "source": [
    "# drTar + diPhe\n",
    "temp = pd.concat([pair_dr_TarSim, pair_di_PheSim], axis=1)\n",
    "drTar_diPhe = temp[['drug1', 'disease1', 'drug2', 'disease2', 'drTarSim', 'diPheSim']]\n",
    "del temp\n",
    "drTar_diPhe['drTar_diPhe'] = np.sqrt(drTar_diPhe['drTarSim'] * drTar_diPhe['diPheSim'])\n",
    "drTar_diPhe = drTar_diPhe[~((drTar_diPhe.drug1 == drTar_diPhe.drug2) &(drTar_diPhe.disease1 == drTar_diPhe.disease2))]\n",
    "print len(drTar_diPhe)\n",
    "sub_drTar_diPhe = drTar_diPhe[['drug1', 'disease1', 'drug2','disease2', 'drTar_diPhe']]\n",
    "desc_drTar_diPhe = sub_drTar_diPhe.groupby(['drug1', 'disease1'])[['drTar_diPhe']].max()\n",
    "desc_drTar_diPhe.to_csv(\"/DAS_Storage1/aschoi/data/Drug_Repositioning/8_new_training/2_similarity_based-PREDICT/final/2_1_pos_descriptor_drTardiPhe_BMA.tsv\", sep='\\t', index=False)"
   ]
  }
 ],
 "metadata": {
  "kernelspec": {
   "display_name": "Python 2",
   "language": "python",
   "name": "python2"
  },
  "language_info": {
   "codemirror_mode": {
    "name": "ipython",
    "version": 2
   },
   "file_extension": ".py",
   "mimetype": "text/x-python",
   "name": "python",
   "nbconvert_exporter": "python",
   "pygments_lexer": "ipython2",
   "version": "2.7.6"
  }
 },
 "nbformat": 4,
 "nbformat_minor": 2
}
