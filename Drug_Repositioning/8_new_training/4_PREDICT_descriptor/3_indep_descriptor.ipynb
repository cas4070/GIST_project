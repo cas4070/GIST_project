{
 "cells": [
  {
   "cell_type": "code",
   "execution_count": 1,
   "metadata": {
    "collapsed": true
   },
   "outputs": [],
   "source": [
    "import numpy as np\n",
    "import os\n",
    "import pandas as pd\n",
    "import time\n",
    "from itertools import product\n",
    "import math"
   ]
  },
  {
   "cell_type": "code",
   "execution_count": null,
   "metadata": {
    "collapsed": true
   },
   "outputs": [],
   "source": [
    "'''indep descriptor만드는데 문제가 있었음: indep drug, indep disease와 gold drug, gold disease간의 similarity를 사용했어야 하는데\n",
    "indep drug, disease간의 similarity를 구했었다.\n",
    "이를 고친다. 2017.4.21.\n",
    "'''"
   ]
  },
  {
   "cell_type": "code",
   "execution_count": 2,
   "metadata": {
    "collapsed": false
   },
   "outputs": [
    {
     "name": "stdout",
     "output_type": "stream",
     "text": [
      "1330\n",
      "98163\n",
      "2399\n"
     ]
    }
   ],
   "source": [
    "#drPhe = pd.read_table(\"/DAS_Storage1/aschoi/data/Drug_Repositioning/5_new_drug/new_predict/2_2_2_indep_drug_gold_drug_se_sim_mat.tsv\", index_col=0)\n",
    "#drStr = pd.read_table(\"/DAS_Storage1/aschoi/data/Drug_Repositioning/5_new_drug/new_predict/2_2_2_indep_drug_gold_drug_str_sim_mat.tsv\", index_col=0)\n",
    "#diPhe = pd.read_table(\"/DAS_Storage1/aschoi/data/Drug_Repositioning/6_new_disease/new_predict/3_indep_di_gold_di_pheSim_mat.tsv\", index_col=0)\n",
    "#diHpo = pd.read_table(\"/DAS_Storage1/aschoi/data/Drug_Repositioning/6_new_disease/new_predict/3_indep_di_gold_di_hpoSim_mat.tsv\", index_col=0)\n",
    "#diHpo = pd.read_table(\"/home/share/aschoi/nas/users/asolchoi/data/Drug_Repositioning/6_new_disease/HPO_sim(sqrt, funSimMean,PA)_header.tsv\", index_col=0)\n",
    "drGo = pd.read_table(\"/DAS_Storage1/aschoi/data/Drug_Repositioning/5_new_drug/new_predict/2_2_2_indep_drug_gold_drug_GoSim_bma_mat.tsv\", index_col=0)\n",
    "drTar = pd.read_table(\"/DAS_Storage1/aschoi/data/Drug_Repositioning/5_new_drug/new_predict/2_2_2_indep_drug_gold_drug_target_sim_mat.tsv\", index_col=0)\n",
    "diGo = pd.read_table(\"/DAS_Storage1/aschoi/data/Drug_Repositioning/6_new_disease/new_predict/3_indep_di_gold_di_goSim_mat.tsv\", index_col=0)\n",
    "\n",
    "indep_asso = pd.read_table(\"/DAS_Storage1/aschoi/data/Drug_Repositioning/7_new_association/new_predict/3_indep_learning_asso.tsv\")\n",
    "gold_asso = pd.read_table(\"/DAS_Storage1/aschoi/data/Drug_Repositioning/7_new_association/new_predict/1_gold_learning_asso.tsv\")\n",
    "pos = gold_asso[gold_asso.association == 1]\n",
    "neg = gold_asso[gold_asso.association == 0]\n",
    "print len(pos)\n",
    "print len(neg)\n",
    "print len(indep_asso)"
   ]
  },
  {
   "cell_type": "code",
   "execution_count": 3,
   "metadata": {
    "collapsed": false
   },
   "outputs": [
    {
     "name": "stdout",
     "output_type": "stream",
     "text": [
      "(71, 434)\n",
      "(71, 434)\n",
      "(34, 233)\n"
     ]
    }
   ],
   "source": [
    "print drGo.shape\n",
    "print drTar.shape\n",
    "print diGo.shape"
   ]
  },
  {
   "cell_type": "code",
   "execution_count": 4,
   "metadata": {
    "collapsed": false
   },
   "outputs": [
    {
     "name": "stdout",
     "output_type": "stream",
     "text": [
      "1330\n",
      "2399\n"
     ]
    }
   ],
   "source": [
    "pos_pair = pos[['drug_id', 'disease_id']].values.tolist()\n",
    "indep_pair = indep_asso[['drug_id', 'disease_id','association']].values.tolist()\n",
    "print len(pos_pair)\n",
    "print len(indep_pair)"
   ]
  },
  {
   "cell_type": "code",
   "execution_count": 5,
   "metadata": {
    "collapsed": false
   },
   "outputs": [
    {
     "name": "stdout",
     "output_type": "stream",
     "text": [
      "3190670\n"
     ]
    }
   ],
   "source": [
    "desc_pair = list(product(indep_pair, pos_pair))\n",
    "print len(desc_pair)"
   ]
  },
  {
   "cell_type": "code",
   "execution_count": 6,
   "metadata": {
    "collapsed": false
   },
   "outputs": [
    {
     "name": "stdout",
     "output_type": "stream",
     "text": [
      "71\n"
     ]
    },
    {
     "data": {
      "text/html": [
       "<div>\n",
       "<table border=\"1\" class=\"dataframe\">\n",
       "  <thead>\n",
       "    <tr style=\"text-align: right;\">\n",
       "      <th></th>\n",
       "      <th>DB00659</th>\n",
       "      <th>DB01193</th>\n",
       "      <th>DB00316</th>\n",
       "      <th>DB00819</th>\n",
       "      <th>DB00210</th>\n",
       "      <th>DB00640</th>\n",
       "      <th>DB00240</th>\n",
       "      <th>DB00630</th>\n",
       "      <th>DB00346</th>\n",
       "      <th>DB09026</th>\n",
       "      <th>...</th>\n",
       "      <th>DB00162</th>\n",
       "      <th>DB00126</th>\n",
       "      <th>DB02546</th>\n",
       "      <th>DB00682</th>\n",
       "      <th>DB00549</th>\n",
       "      <th>DB00744</th>\n",
       "      <th>DB00246</th>\n",
       "      <th>DB00399</th>\n",
       "      <th>DB00315</th>\n",
       "      <th>DB00909</th>\n",
       "    </tr>\n",
       "  </thead>\n",
       "  <tbody>\n",
       "    <tr>\n",
       "      <th>DB01200</th>\n",
       "      <td>0.234</td>\n",
       "      <td>0.474</td>\n",
       "      <td>0.091</td>\n",
       "      <td>0.096</td>\n",
       "      <td>0.217</td>\n",
       "      <td>0.2</td>\n",
       "      <td>0.17</td>\n",
       "      <td>0.153</td>\n",
       "      <td>0.259</td>\n",
       "      <td>0.076</td>\n",
       "      <td>...</td>\n",
       "      <td>0.108</td>\n",
       "      <td>0.074</td>\n",
       "      <td>0.119</td>\n",
       "      <td>0.0</td>\n",
       "      <td>0.127</td>\n",
       "      <td>0.054</td>\n",
       "      <td>0.649</td>\n",
       "      <td>0.051</td>\n",
       "      <td>0.325</td>\n",
       "      <td>0.117</td>\n",
       "    </tr>\n",
       "  </tbody>\n",
       "</table>\n",
       "<p>1 rows × 434 columns</p>\n",
       "</div>"
      ],
      "text/plain": [
       "         DB00659  DB01193  DB00316  DB00819  DB00210  DB00640  DB00240  \\\n",
       "DB01200    0.234    0.474    0.091    0.096    0.217      0.2     0.17   \n",
       "\n",
       "         DB00630  DB00346  DB09026   ...     DB00162  DB00126  DB02546  \\\n",
       "DB01200    0.153    0.259    0.076   ...       0.108    0.074    0.119   \n",
       "\n",
       "         DB00682  DB00549  DB00744  DB00246  DB00399  DB00315  DB00909  \n",
       "DB01200      0.0    0.127    0.054    0.649    0.051    0.325    0.117  \n",
       "\n",
       "[1 rows x 434 columns]"
      ]
     },
     "execution_count": 6,
     "metadata": {},
     "output_type": "execute_result"
    }
   ],
   "source": [
    "print len(drGo)\n",
    "drGo.head(1)"
   ]
  },
  {
   "cell_type": "code",
   "execution_count": 8,
   "metadata": {
    "collapsed": false
   },
   "outputs": [
    {
     "name": "stdout",
     "output_type": "stream",
     "text": [
      "(['DB01200', 102300, 1], ['DB00659', 103780])\n",
      "['DB01200', 102300, 1]\n",
      "['DB00659', 103780]\n"
     ]
    }
   ],
   "source": [
    "pair = desc_pair[0]\n",
    "print pair\n",
    "print pair[0]\n",
    "print pair[1]"
   ]
  },
  {
   "cell_type": "code",
   "execution_count": 15,
   "metadata": {
    "collapsed": false
   },
   "outputs": [
    {
     "name": "stdout",
     "output_type": "stream",
     "text": [
      "start : Mon 05:44:52\n",
      "3190670\n",
      "end : Mon 05:45:21\n"
     ]
    }
   ],
   "source": [
    "# drPhe(negDrug:posDrug)\n",
    "cnt = 0\n",
    "print 'start : ' + time.strftime('%a %H:%M:%S')\n",
    "val = list()\n",
    "print len(desc_pair)\n",
    "for pair in desc_pair:\n",
    "        drug_pheSim = drPhe[pair[1][0]][pair[0][0]] # drPhe[[gold_drug][indep_drug]]\n",
    "        val.append(drug_pheSim)\n",
    "print 'end : ' + time.strftime('%a %H:%M:%S')"
   ]
  },
  {
   "cell_type": "code",
   "execution_count": 11,
   "metadata": {
    "collapsed": false
   },
   "outputs": [],
   "source": [
    "drug1 = list() # indep_drug\n",
    "drug2 = list() # gold_drug\n",
    "asso = list()\n",
    "for pair in desc_pair:\n",
    "    drug1.append(pair[0][0]) #indep_drug\n",
    "    drug2.append(pair[1][0]) #gold_drug\n",
    "    asso.append(pair[0][2])  #indep_asso\n",
    "pair_dr_PheSim = pd.DataFrame({'indep_drug':drug1,'gold_drug':drug2, 'association':asso, 'drPheSim':val})"
   ]
  },
  {
   "cell_type": "code",
   "execution_count": 19,
   "metadata": {
    "collapsed": false
   },
   "outputs": [
    {
     "name": "stdout",
     "output_type": "stream",
     "text": [
      "71\n"
     ]
    },
    {
     "data": {
      "text/html": [
       "<div>\n",
       "<table border=\"1\" class=\"dataframe\">\n",
       "  <thead>\n",
       "    <tr style=\"text-align: right;\">\n",
       "      <th></th>\n",
       "      <th>DB00659</th>\n",
       "      <th>DB01193</th>\n",
       "      <th>DB00316</th>\n",
       "      <th>DB00819</th>\n",
       "      <th>DB00210</th>\n",
       "      <th>DB00640</th>\n",
       "      <th>DB00240</th>\n",
       "      <th>DB00630</th>\n",
       "      <th>DB00346</th>\n",
       "      <th>DB09026</th>\n",
       "      <th>...</th>\n",
       "      <th>DB00162</th>\n",
       "      <th>DB00126</th>\n",
       "      <th>DB02546</th>\n",
       "      <th>DB00682</th>\n",
       "      <th>DB00549</th>\n",
       "      <th>DB00744</th>\n",
       "      <th>DB00246</th>\n",
       "      <th>DB00399</th>\n",
       "      <th>DB00315</th>\n",
       "      <th>DB00909</th>\n",
       "    </tr>\n",
       "  </thead>\n",
       "  <tbody>\n",
       "    <tr>\n",
       "      <th>DB01200</th>\n",
       "      <td>0.084559</td>\n",
       "      <td>0.190789</td>\n",
       "      <td>0.088889</td>\n",
       "      <td>0.106109</td>\n",
       "      <td>0.145833</td>\n",
       "      <td>0.176282</td>\n",
       "      <td>0.107639</td>\n",
       "      <td>0.045775</td>\n",
       "      <td>0.271523</td>\n",
       "      <td>0.232082</td>\n",
       "      <td>...</td>\n",
       "      <td>0.070111</td>\n",
       "      <td>0.121107</td>\n",
       "      <td>0.130435</td>\n",
       "      <td>0.133333</td>\n",
       "      <td>0.304217</td>\n",
       "      <td>0.145215</td>\n",
       "      <td>0.253968</td>\n",
       "      <td>0.077703</td>\n",
       "      <td>0.352273</td>\n",
       "      <td>0.116505</td>\n",
       "    </tr>\n",
       "  </tbody>\n",
       "</table>\n",
       "<p>1 rows × 434 columns</p>\n",
       "</div>"
      ],
      "text/plain": [
       "          DB00659   DB01193   DB00316   DB00819   DB00210   DB00640   DB00240  \\\n",
       "DB01200  0.084559  0.190789  0.088889  0.106109  0.145833  0.176282  0.107639   \n",
       "\n",
       "          DB00630   DB00346   DB09026    ...      DB00162   DB00126   DB02546  \\\n",
       "DB01200  0.045775  0.271523  0.232082    ...     0.070111  0.121107  0.130435   \n",
       "\n",
       "          DB00682   DB00549   DB00744   DB00246   DB00399   DB00315   DB00909  \n",
       "DB01200  0.133333  0.304217  0.145215  0.253968  0.077703  0.352273  0.116505  \n",
       "\n",
       "[1 rows x 434 columns]"
      ]
     },
     "execution_count": 19,
     "metadata": {},
     "output_type": "execute_result"
    }
   ],
   "source": [
    "print len(drStr)\n",
    "drStr.head(1)"
   ]
  },
  {
   "cell_type": "code",
   "execution_count": 20,
   "metadata": {
    "collapsed": false
   },
   "outputs": [
    {
     "name": "stdout",
     "output_type": "stream",
     "text": [
      "start : Fri 23:49:49\n",
      "3190670\n",
      "end : Fri 23:50:16\n"
     ]
    }
   ],
   "source": [
    "# drStr\n",
    "print 'start : ' + time.strftime('%a %H:%M:%S')\n",
    "val = list()\n",
    "print len(desc_pair)\n",
    "for pair in desc_pair:\n",
    "        drug_strSim = drStr[pair[1][0]][pair[0][0]] # drStr[[gold_drug][indep_drug]]\n",
    "        val.append(drug_strSim)\n",
    "print 'end : ' + time.strftime('%a %H:%M:%S')"
   ]
  },
  {
   "cell_type": "code",
   "execution_count": 21,
   "metadata": {
    "collapsed": true
   },
   "outputs": [],
   "source": [
    "'''drug1 = list()\n",
    "drug2 = list()\n",
    "for pair in desc_pair:\n",
    "    drug1.append(pair[0][0])\n",
    "    drug2.append(pair[1][0])'''\n",
    "pair_dr_StrSim = pd.DataFrame({'indep_drug':drug1,'gold_drug':drug2, 'association':asso, 'drStrSim':val})"
   ]
  },
  {
   "cell_type": "code",
   "execution_count": 22,
   "metadata": {
    "collapsed": false
   },
   "outputs": [
    {
     "name": "stdout",
     "output_type": "stream",
     "text": [
      "start : Fri 23:51:51\n",
      "3190670\n",
      "end : Fri 23:52:20\n"
     ]
    }
   ],
   "source": [
    "# diPhe\n",
    "print 'start : ' + time.strftime('%a %H:%M:%S')\n",
    "val = list()\n",
    "print len(desc_pair)\n",
    "for pair in desc_pair:\n",
    "        disease_pheSim = diPhe[str(pair[1][1])][pair[0][1]] # diPhe[[gold_disease][indep_disease]]\n",
    "        val.append(disease_pheSim)\n",
    "print 'end : ' + time.strftime('%a %H:%M:%S')"
   ]
  },
  {
   "cell_type": "code",
   "execution_count": 16,
   "metadata": {
    "collapsed": true
   },
   "outputs": [],
   "source": [
    "disease1 = list() #indep disease\n",
    "disease2 = list() # gold disease\n",
    "for pair in desc_pair:\n",
    "    disease1.append(pair[0][1]) # indep disease\n",
    "    disease2.append(pair[1][1]) # gold disease\n",
    "pair_di_PheSim = pd.DataFrame({'indep_disease':disease1,'gold_disease':disease2, 'association':asso, 'diPheSim':val})"
   ]
  },
  {
   "cell_type": "code",
   "execution_count": 17,
   "metadata": {
    "collapsed": false
   },
   "outputs": [
    {
     "name": "stdout",
     "output_type": "stream",
     "text": [
      "start : Mon 05:45:49\n",
      "3190670\n",
      "end : Mon 05:46:21\n"
     ]
    }
   ],
   "source": [
    "# diHpo\n",
    "print 'start : ' + time.strftime('%a %H:%M:%S')\n",
    "val = list()\n",
    "print len(desc_pair)\n",
    "for pair in desc_pair:\n",
    "        disease_hpoSim = diHpo[str(pair[1][1])][pair[0][1]] # diHpo[[gold_disease][indep_disease]]\n",
    "        val.append(disease_hpoSim)\n",
    "print 'end : ' + time.strftime('%a %H:%M:%S')"
   ]
  },
  {
   "cell_type": "code",
   "execution_count": 20,
   "metadata": {
    "collapsed": false
   },
   "outputs": [],
   "source": [
    "'''disease1 = list()\n",
    "disease2 = list()\n",
    "for pair in desc_pair:\n",
    "    disease1.append(pair[0][1])\n",
    "    disease2.append(pair[1][1])'''\n",
    "pair_di_hpoSim = pd.DataFrame({'indep_disease':disease1,'gold_disease':disease2, 'association':asso, 'diHpoSim':val})"
   ]
  },
  {
   "cell_type": "code",
   "execution_count": 22,
   "metadata": {
    "collapsed": false
   },
   "outputs": [],
   "source": [
    "path = \"/DAS_Storage1/aschoi/data/Drug_Repositioning/8_new_training/2_similarity_based-PREDICT/\"\n",
    "pair_di_hpoSim.to_csv(path + \"3_indep_didi_hpoSim.tsv\", sep='\\t', index=False)\n",
    "#pair_di_PheSim.to_csv(path + \"3_indep_didi_PheSim.tsv\", sep='\\t', index=False)\n",
    "#pair_dr_StrSim.to_csv(path + \"3_indep_drdr_StrSim.tsv\", sep='\\t', index=False)\n",
    "#pair_dr_PheSim.to_csv(path + \"3_indep_drdr_PheSim.tsv\", sep='\\t', index=False)"
   ]
  },
  {
   "cell_type": "code",
   "execution_count": 9,
   "metadata": {
    "collapsed": false
   },
   "outputs": [
    {
     "name": "stdout",
     "output_type": "stream",
     "text": [
      "start : Wed 20:53:05\n",
      "3190670\n",
      "end : Wed 20:55:18\n"
     ]
    }
   ],
   "source": [
    "# drGo\n",
    "print 'start : ' + time.strftime('%a %H:%M:%S')\n",
    "val = list()\n",
    "print len(desc_pair)\n",
    "for pair in desc_pair:\n",
    "        drug_goSim = drGo[pair[1][0]][pair[0][0]] # drGo[[gold_drug][indep_drug]]\n",
    "        val.append(drug_goSim)\n",
    "print 'end : ' + time.strftime('%a %H:%M:%S')"
   ]
  },
  {
   "cell_type": "code",
   "execution_count": 13,
   "metadata": {
    "collapsed": false
   },
   "outputs": [],
   "source": [
    "drug1 = list()\n",
    "drug2 = list()\n",
    "asso = list()\n",
    "for pair in desc_pair:\n",
    "    drug1.append(pair[0][0])\n",
    "    drug2.append(pair[1][0])\n",
    "    asso.append(pair[0][2])  #indep_asso\n",
    "pair_dr_GoSim = pd.DataFrame({'indep_drug':drug1,'gold_drug':drug2, 'association':asso, 'drGoSim':val})"
   ]
  },
  {
   "cell_type": "code",
   "execution_count": 15,
   "metadata": {
    "collapsed": false
   },
   "outputs": [],
   "source": [
    "path = \"/DAS_Storage1/aschoi/data/Drug_Repositioning/8_new_training/2_similarity_based-PREDICT/final/\"\n",
    "pair_dr_GoSim.to_csv(path + \"3_indep_drdr_goSim.tsv\", sep='\\t', index=False)"
   ]
  },
  {
   "cell_type": "code",
   "execution_count": 17,
   "metadata": {
    "collapsed": false
   },
   "outputs": [
    {
     "name": "stdout",
     "output_type": "stream",
     "text": [
      "start : Wed 21:28:09\n",
      "3190670\n",
      "end : Wed 21:30:18\n"
     ]
    }
   ],
   "source": [
    "# drTar\n",
    "print 'start : ' + time.strftime('%a %H:%M:%S')\n",
    "val = list()\n",
    "print len(desc_pair)\n",
    "for pair in desc_pair:\n",
    "        drug_tarSim = drTar[pair[1][0]][pair[0][0]] # drTar[[gold_drug][indep_drug]]\n",
    "        val.append(drug_tarSim)\n",
    "print 'end : ' + time.strftime('%a %H:%M:%S')"
   ]
  },
  {
   "cell_type": "code",
   "execution_count": 18,
   "metadata": {
    "collapsed": true
   },
   "outputs": [],
   "source": [
    "'''drug1 = list()\n",
    "drug2 = list()\n",
    "for pair in desc_pair:\n",
    "    drug1.append(pair[0][0])\n",
    "    drug2.append(pair[1][0])'''\n",
    "pair_dr_TarSim = pd.DataFrame({'indep_drug':drug1,'gold_drug':drug2, 'association':asso, 'drTarSim':val})"
   ]
  },
  {
   "cell_type": "code",
   "execution_count": 19,
   "metadata": {
    "collapsed": true
   },
   "outputs": [],
   "source": [
    "path = \"/DAS_Storage1/aschoi/data/Drug_Repositioning/8_new_training/2_similarity_based-PREDICT/final/\"\n",
    "pair_dr_TarSim.to_csv(path + \"3_indep_drdr_tarSim.tsv\", sep='\\t', index=False)"
   ]
  },
  {
   "cell_type": "code",
   "execution_count": 20,
   "metadata": {
    "collapsed": false
   },
   "outputs": [
    {
     "name": "stdout",
     "output_type": "stream",
     "text": [
      "start : Wed 21:30:32\n",
      "3190670\n",
      "end : Wed 21:32:07\n"
     ]
    }
   ],
   "source": [
    "# diGo\n",
    "print 'start : ' + time.strftime('%a %H:%M:%S')\n",
    "val = list()\n",
    "print len(desc_pair)\n",
    "for pair in desc_pair:\n",
    "        disease_goSim = diGo[str(pair[1][1])][pair[0][1]] # diGo[[gold_disease][indep_disease]]\n",
    "        val.append(disease_goSim)\n",
    "print 'end : ' + time.strftime('%a %H:%M:%S')"
   ]
  },
  {
   "cell_type": "code",
   "execution_count": 21,
   "metadata": {
    "collapsed": true
   },
   "outputs": [],
   "source": [
    "disease1 = list()\n",
    "disease2 = list()\n",
    "for pair in desc_pair:\n",
    "    disease1.append(pair[0][1])\n",
    "    disease2.append(pair[1][1])\n",
    "pair_di_goSim = pd.DataFrame({'indep_disease':disease1,'gold_disease':disease2, 'association':asso, 'diGoSim':val})"
   ]
  },
  {
   "cell_type": "code",
   "execution_count": 22,
   "metadata": {
    "collapsed": true
   },
   "outputs": [],
   "source": [
    "path = \"/DAS_Storage1/aschoi/data/Drug_Repositioning/8_new_training/2_similarity_based-PREDICT/final/\"\n",
    "pair_dr_TarSim.to_csv(path + \"3_indep_didi_goSim.tsv\", sep='\\t', index=False)"
   ]
  },
  {
   "cell_type": "code",
   "execution_count": null,
   "metadata": {
    "collapsed": true
   },
   "outputs": [],
   "source": []
  },
  {
   "cell_type": "code",
   "execution_count": 41,
   "metadata": {
    "collapsed": true
   },
   "outputs": [],
   "source": [
    "#descriptor 만들기."
   ]
  },
  {
   "cell_type": "code",
   "execution_count": 23,
   "metadata": {
    "collapsed": false
   },
   "outputs": [],
   "source": [
    "pair_di_PheSim = pd.read_table(path + \"3_indep_didi_PheSim.tsv\")\n",
    "pair_dr_StrSim = pd.read_table(path + \"3_indep_drdr_StrSim.tsv\")\n",
    "pair_dr_PheSim = pd.read_table(path + \"3_indep_drdr_PheSim.tsv\")"
   ]
  },
  {
   "cell_type": "code",
   "execution_count": 24,
   "metadata": {
    "collapsed": false
   },
   "outputs": [
    {
     "name": "stdout",
     "output_type": "stream",
     "text": [
      "434 233\n"
     ]
    }
   ],
   "source": [
    "gold_dr_id = pos['drug_id'].drop_duplicates()\n",
    "gold_di_id = pos['disease_id'].drop_duplicates()\n",
    "print len(gold_dr_id), len(gold_di_id)"
   ]
  },
  {
   "cell_type": "code",
   "execution_count": 25,
   "metadata": {
    "collapsed": false
   },
   "outputs": [
    {
     "data": {
      "text/html": [
       "<div>\n",
       "<table border=\"1\" class=\"dataframe\">\n",
       "  <thead>\n",
       "    <tr style=\"text-align: right;\">\n",
       "      <th></th>\n",
       "      <th>association</th>\n",
       "      <th>drStrSim</th>\n",
       "      <th>gold_drug</th>\n",
       "      <th>indep_drug</th>\n",
       "    </tr>\n",
       "  </thead>\n",
       "  <tbody>\n",
       "    <tr>\n",
       "      <th>0</th>\n",
       "      <td>1</td>\n",
       "      <td>0.084559</td>\n",
       "      <td>DB00659</td>\n",
       "      <td>DB01200</td>\n",
       "    </tr>\n",
       "    <tr>\n",
       "      <th>1</th>\n",
       "      <td>1</td>\n",
       "      <td>0.190789</td>\n",
       "      <td>DB01193</td>\n",
       "      <td>DB01200</td>\n",
       "    </tr>\n",
       "  </tbody>\n",
       "</table>\n",
       "</div>"
      ],
      "text/plain": [
       "   association  drStrSim gold_drug indep_drug\n",
       "0            1  0.084559   DB00659    DB01200\n",
       "1            1  0.190789   DB01193    DB01200"
      ]
     },
     "execution_count": 25,
     "metadata": {},
     "output_type": "execute_result"
    }
   ],
   "source": [
    "pair_dr_StrSim.head(2)"
   ]
  },
  {
   "cell_type": "code",
   "execution_count": 26,
   "metadata": {
    "collapsed": false
   },
   "outputs": [
    {
     "data": {
      "text/html": [
       "<div>\n",
       "<table border=\"1\" class=\"dataframe\">\n",
       "  <thead>\n",
       "    <tr style=\"text-align: right;\">\n",
       "      <th></th>\n",
       "      <th>association</th>\n",
       "      <th>diHpoSim</th>\n",
       "      <th>gold_disease</th>\n",
       "      <th>indep_disease</th>\n",
       "    </tr>\n",
       "  </thead>\n",
       "  <tbody>\n",
       "    <tr>\n",
       "      <th>0</th>\n",
       "      <td>1</td>\n",
       "      <td>0.385441</td>\n",
       "      <td>103780</td>\n",
       "      <td>102300</td>\n",
       "    </tr>\n",
       "    <tr>\n",
       "      <th>1</th>\n",
       "      <td>1</td>\n",
       "      <td>0.000000</td>\n",
       "      <td>608622</td>\n",
       "      <td>102300</td>\n",
       "    </tr>\n",
       "  </tbody>\n",
       "</table>\n",
       "</div>"
      ],
      "text/plain": [
       "   association  diHpoSim  gold_disease  indep_disease\n",
       "0            1  0.385441        103780         102300\n",
       "1            1  0.000000        608622         102300"
      ]
     },
     "execution_count": 26,
     "metadata": {},
     "output_type": "execute_result"
    }
   ],
   "source": [
    "pair_di_hpoSim.head(2)"
   ]
  },
  {
   "cell_type": "code",
   "execution_count": 27,
   "metadata": {
    "collapsed": false
   },
   "outputs": [
    {
     "name": "stdout",
     "output_type": "stream",
     "text": [
      "3190670\n",
      "2399\n"
     ]
    }
   ],
   "source": [
    "# drStr + diHpo\n",
    "temp = pd.concat([pair_dr_StrSim, pair_di_hpoSim], axis=1)\n",
    "drStr_diHpo = temp[['indep_drug', 'indep_disease', 'gold_drug', 'gold_disease', 'drStrSim', 'diHpoSim','association']]\n",
    "drStr_diHpo = drStr_diHpo.loc[:,~drStr_diHpo.columns.duplicated()]\n",
    "del temp\n",
    "drStr_diHpo['drStr_diHpo'] = np.sqrt(drStr_diHpo['drStrSim'] * drStr_diHpo['diHpoSim'])\n",
    "print len(drStr_diHpo)\n",
    "sub_drStr_diHpo = drStr_diHpo[['indep_drug', 'indep_disease', 'gold_drug', 'gold_disease', 'drStr_diHpo', 'association']]\n",
    "desc = sub_drStr_diHpo.groupby(['indep_drug', 'indep_disease', 'association'])[['drStr_diHpo']].max()\n",
    "print len(desc)"
   ]
  },
  {
   "cell_type": "code",
   "execution_count": 28,
   "metadata": {
    "collapsed": false
   },
   "outputs": [
    {
     "name": "stdout",
     "output_type": "stream",
     "text": [
      "3190670\n",
      "2399\n"
     ]
    }
   ],
   "source": [
    "# drStr + diPhe\n",
    "temp = pd.concat([pair_dr_StrSim, pair_di_PheSim], axis=1)\n",
    "drStr_diPhe = temp[['indep_drug', 'indep_disease', 'gold_drug', 'gold_disease', 'drStrSim', 'diPheSim','association']]\n",
    "drStr_diPhe = drStr_diPhe.loc[:,~drStr_diPhe.columns.duplicated()]\n",
    "del temp\n",
    "drStr_diPhe['drStr_diPhe'] = np.sqrt(drStr_diPhe['drStrSim'] * drStr_diPhe['diPheSim'])\n",
    "print len(drStr_diPhe)\n",
    "sub_drStr_diPhe = drStr_diPhe[['indep_drug', 'indep_disease', 'gold_drug', 'gold_disease', 'drStr_diPhe', 'association']]\n",
    "desc2 = sub_drStr_diPhe.groupby(['indep_drug', 'indep_disease', 'association'])[['drStr_diPhe']].max()\n",
    "print len(desc2)"
   ]
  },
  {
   "cell_type": "code",
   "execution_count": 29,
   "metadata": {
    "collapsed": false
   },
   "outputs": [
    {
     "name": "stdout",
     "output_type": "stream",
     "text": [
      "3190670\n"
     ]
    }
   ],
   "source": [
    "# drPhe + diHpo\n",
    "temp = pd.concat([pair_dr_PheSim, pair_di_hpoSim], axis=1)\n",
    "drPhe_diHpo = temp[['indep_drug', 'indep_disease', 'gold_drug', 'gold_disease', 'drPheSim', 'diHpoSim','association']]\n",
    "drPhe_diHpo = drPhe_diHpo.loc[:,~drPhe_diHpo.columns.duplicated()]\n",
    "del temp\n",
    "drPhe_diHpo['drPhe_diHpo'] = np.sqrt(drPhe_diHpo['drPheSim'] * drPhe_diHpo['diHpoSim'])\n",
    "print len(drPhe_diHpo)\n",
    "sub_drPhe_diHpo = drPhe_diHpo[['indep_drug', 'indep_disease', 'gold_drug', 'gold_disease', 'drPhe_diHpo', 'association']]\n",
    "desc3 = sub_drPhe_diHpo.groupby(['indep_drug', 'indep_disease', 'association'])[['drPhe_diHpo']].max()"
   ]
  },
  {
   "cell_type": "code",
   "execution_count": 30,
   "metadata": {
    "collapsed": false
   },
   "outputs": [
    {
     "name": "stdout",
     "output_type": "stream",
     "text": [
      "3190670\n"
     ]
    }
   ],
   "source": [
    "# drPhe + diPhe\n",
    "temp = pd.concat([pair_dr_PheSim, pair_di_PheSim], axis=1)\n",
    "drPhe_diPhe = temp[['indep_drug', 'indep_disease', 'gold_drug', 'gold_disease', 'drPheSim', 'diPheSim','association']]\n",
    "drPhe_diPhe = drPhe_diPhe.loc[:,~drPhe_diPhe.columns.duplicated()]\n",
    "del temp\n",
    "drPhe_diPhe['drPhe_diPhe'] = np.sqrt(drPhe_diPhe['drPheSim'] * drPhe_diPhe['diPheSim'])\n",
    "print len(drPhe_diPhe)\n",
    "sub_drPhe_diPhe = drPhe_diPhe[['indep_drug', 'indep_disease', 'gold_drug', 'gold_disease', 'drPhe_diPhe', 'association']]\n",
    "desc4 = sub_drPhe_diPhe.groupby(['indep_drug', 'indep_disease', 'association'])[['drPhe_diPhe']].max()"
   ]
  },
  {
   "cell_type": "code",
   "execution_count": 31,
   "metadata": {
    "collapsed": true
   },
   "outputs": [],
   "source": [
    "desc.to_csv(path + \"3_2_indep_descriptor_drStrdiHpo.tsv\", sep='\\t')\n",
    "#desc2.to_csv(path + \"3_2_indep_descriptor_drStrdiPhe.tsv\", sep='\\t')\n",
    "desc3.to_csv(path + \"3_2_indep_descriptor_drPhediHpo.tsv\", sep='\\t')\n",
    "#desc4.to_csv(path + \"3_2_indep_descriptor_drPhediPhe.tsv\", sep='\\t')"
   ]
  },
  {
   "cell_type": "code",
   "execution_count": 32,
   "metadata": {
    "collapsed": true
   },
   "outputs": [],
   "source": [
    "desc = pd.read_table(path + \"3_2_indep_descriptor_drStrdiHpo.tsv\")\n",
    "desc2 = pd.read_table(path + \"3_2_indep_descriptor_drStrdiPhe.tsv\")\n",
    "desc3 = pd.read_table(path + \"3_2_indep_descriptor_drPhediHpo.tsv\")\n",
    "desc4 = pd.read_table(path + \"3_2_indep_descriptor_drPhediPhe.tsv\")"
   ]
  },
  {
   "cell_type": "code",
   "execution_count": 33,
   "metadata": {
    "collapsed": true
   },
   "outputs": [],
   "source": [
    "result = desc.merge(desc2).merge(desc3).merge(desc4)"
   ]
  },
  {
   "cell_type": "code",
   "execution_count": 34,
   "metadata": {
    "collapsed": false
   },
   "outputs": [
    {
     "data": {
      "text/html": [
       "<div>\n",
       "<table border=\"1\" class=\"dataframe\">\n",
       "  <thead>\n",
       "    <tr style=\"text-align: right;\">\n",
       "      <th></th>\n",
       "      <th>drug_id</th>\n",
       "      <th>disease_id</th>\n",
       "      <th>association</th>\n",
       "      <th>drStr_diHpo</th>\n",
       "      <th>drStr_diPhe</th>\n",
       "      <th>drPhe_diHpo</th>\n",
       "      <th>drPhe_diPhe</th>\n",
       "    </tr>\n",
       "  </thead>\n",
       "  <tbody>\n",
       "    <tr>\n",
       "      <th>0</th>\n",
       "      <td>DB00125</td>\n",
       "      <td>102300</td>\n",
       "      <td>0</td>\n",
       "      <td>0.632456</td>\n",
       "      <td>0.632456</td>\n",
       "      <td>0.972786</td>\n",
       "      <td>0.972786</td>\n",
       "    </tr>\n",
       "    <tr>\n",
       "      <th>1</th>\n",
       "      <td>DB00125</td>\n",
       "      <td>103780</td>\n",
       "      <td>0</td>\n",
       "      <td>0.457357</td>\n",
       "      <td>0.404520</td>\n",
       "      <td>0.968316</td>\n",
       "      <td>0.968316</td>\n",
       "    </tr>\n",
       "    <tr>\n",
       "      <th>2</th>\n",
       "      <td>DB00125</td>\n",
       "      <td>104300</td>\n",
       "      <td>0</td>\n",
       "      <td>0.583874</td>\n",
       "      <td>0.583874</td>\n",
       "      <td>0.963825</td>\n",
       "      <td>0.963825</td>\n",
       "    </tr>\n",
       "    <tr>\n",
       "      <th>3</th>\n",
       "      <td>DB00125</td>\n",
       "      <td>115195</td>\n",
       "      <td>0</td>\n",
       "      <td>0.462190</td>\n",
       "      <td>0.381616</td>\n",
       "      <td>0.933819</td>\n",
       "      <td>0.933819</td>\n",
       "    </tr>\n",
       "    <tr>\n",
       "      <th>4</th>\n",
       "      <td>DB00125</td>\n",
       "      <td>137580</td>\n",
       "      <td>0</td>\n",
       "      <td>0.545777</td>\n",
       "      <td>0.545777</td>\n",
       "      <td>0.990738</td>\n",
       "      <td>0.990738</td>\n",
       "    </tr>\n",
       "  </tbody>\n",
       "</table>\n",
       "</div>"
      ],
      "text/plain": [
       "   drug_id  disease_id  association  drStr_diHpo  drStr_diPhe  drPhe_diHpo  \\\n",
       "0  DB00125      102300            0     0.632456     0.632456     0.972786   \n",
       "1  DB00125      103780            0     0.457357     0.404520     0.968316   \n",
       "2  DB00125      104300            0     0.583874     0.583874     0.963825   \n",
       "3  DB00125      115195            0     0.462190     0.381616     0.933819   \n",
       "4  DB00125      137580            0     0.545777     0.545777     0.990738   \n",
       "\n",
       "   drPhe_diPhe  \n",
       "0     0.972786  \n",
       "1     0.968316  \n",
       "2     0.963825  \n",
       "3     0.933819  \n",
       "4     0.990738  "
      ]
     },
     "execution_count": 34,
     "metadata": {},
     "output_type": "execute_result"
    }
   ],
   "source": [
    "result = result.rename(columns={'indep_drug' : 'drug_id', 'indep_disease' : 'disease_id'})\n",
    "result = result[['drug_id', 'disease_id', 'association', 'drStr_diHpo', 'drStr_diPhe', 'drPhe_diHpo', 'drPhe_diPhe']]\n",
    "result.head()"
   ]
  },
  {
   "cell_type": "code",
   "execution_count": 37,
   "metadata": {
    "collapsed": false
   },
   "outputs": [],
   "source": [
    "result.replace(\"inf\", 0, inplace=True)\n",
    "result.to_csv(path+\"3_2_indep_descriptor_hpo.tsv\", sep='\\t', index=False)"
   ]
  },
  {
   "cell_type": "code",
   "execution_count": null,
   "metadata": {
    "collapsed": true
   },
   "outputs": [],
   "source": []
  }
 ],
 "metadata": {
  "kernelspec": {
   "display_name": "Python 2",
   "language": "python",
   "name": "python2"
  },
  "language_info": {
   "codemirror_mode": {
    "name": "ipython",
    "version": 2
   },
   "file_extension": ".py",
   "mimetype": "text/x-python",
   "name": "python",
   "nbconvert_exporter": "python",
   "pygments_lexer": "ipython2",
   "version": "2.7.6"
  }
 },
 "nbformat": 4,
 "nbformat_minor": 2
}
