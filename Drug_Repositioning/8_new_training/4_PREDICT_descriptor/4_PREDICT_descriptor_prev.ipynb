{
 "cells": [
  {
   "cell_type": "code",
   "execution_count": null,
   "metadata": {
    "collapsed": true
   },
   "outputs": [],
   "source": [
    "import numpy as np\n",
    "import os\n",
    "import pandas as pd\n",
    "import time\n",
    "from itertools import product\n",
    "import math"
   ]
  },
  {
   "cell_type": "code",
   "execution_count": null,
   "metadata": {
    "collapsed": true
   },
   "outputs": [],
   "source": [
    "drug_ch = pd.read_table(\"/DAS_Storage1/aschoi/data/Drug_Repositioning/5_new_drug/9_gold_drug_similarity_structure.tsv\")\n",
    "drug_ph = pd.read_table(\"/DAS_Storage1/aschoi/data/Drug_Repositioning/5_new_drug/9_gold_drug_similarity_phenotype.tsv\")\n",
    "disease_ph = pd.read_table(\"/DAS_Storage1/aschoi/data/Drug_Repositioning/6_new_disease/9_gold_disease_similarity_mimminerc.tsv\", index_col=0)\n",
    "disease_ge = pd.read_table(\"/DAS_Storage1/aschoi/data/Drug_Repositioning/6_new_disease/9_gold_disease_similarity_genetic.tsv\")"
   ]
  },
  {
   "cell_type": "code",
   "execution_count": null,
   "metadata": {
    "collapsed": true
   },
   "outputs": [],
   "source": [
    "asso = pd.read_table(\"/DAS_Storage1/aschoi/data/Drug_Repositioning/7_new_association/9_gold_learning_association.tsv\")"
   ]
  },
  {
   "cell_type": "code",
   "execution_count": null,
   "metadata": {
    "collapsed": false
   },
   "outputs": [],
   "source": [
    "print len(drug_ch)\n",
    "print len(drug_ch['DrugBank_ID1'].drop_duplicates())\n",
    "drug_ch.head(1)"
   ]
  },
  {
   "cell_type": "code",
   "execution_count": null,
   "metadata": {
    "collapsed": false
   },
   "outputs": [],
   "source": [
    "print len(drug_ph)\n",
    "print len(drug_ph['DrugBank_ID1'].drop_duplicates())\n",
    "drug_ph.head(1)"
   ]
  },
  {
   "cell_type": "code",
   "execution_count": null,
   "metadata": {
    "collapsed": false
   },
   "outputs": [],
   "source": [
    "print len(disease_ph)\n",
    "disease_ph.head(1)"
   ]
  },
  {
   "cell_type": "code",
   "execution_count": null,
   "metadata": {
    "collapsed": false
   },
   "outputs": [],
   "source": [
    "print len(disease_ge)\n",
    "disease_ge.head(1)"
   ]
  },
  {
   "cell_type": "code",
   "execution_count": null,
   "metadata": {
    "collapsed": false
   },
   "outputs": [],
   "source": [
    "new_asso = asso[asso['drug'].isin(drug_ph['DrugBank_ID1'].drop_duplicates())]\n",
    "new_asso.index = range(len(new_asso))\n",
    "print len(new_asso)\n",
    "new_asso.head(1)"
   ]
  },
  {
   "cell_type": "code",
   "execution_count": null,
   "metadata": {
    "collapsed": false
   },
   "outputs": [],
   "source": [
    "pos = new_asso[new_asso.association == 1]\n",
    "neg = new_asso[new_asso.association == 0]\n",
    "print len(pos)\n",
    "print len(neg)"
   ]
  },
  {
   "cell_type": "code",
   "execution_count": null,
   "metadata": {
    "collapsed": false
   },
   "outputs": [],
   "source": [
    "descriptor = pd.DataFrame()\n",
    "cnt = 0\n",
    "start = 0\n",
    "end = 5001\n",
    "print 'start : ' + time.strftime('%a %H:%M:%S')\n",
    "for index, row in new_asso[start:end].iterrows(): # all association\n",
    "    query_drug = row['drug']\n",
    "    query_disease = row['disease']\n",
    "    query_asso = row['association']\n",
    "    similarities = list()\n",
    "    for index2, row2, in pos.iterrows(): # known association\n",
    "        pos_drug = row2['drug']\n",
    "        pos_disease = row2['disease']\n",
    "        if (query_drug == pos_drug) & (query_disease == pos_disease):\n",
    "            continue\n",
    "        else:\n",
    "            drug_cheSim = drug_ch[(drug_ch.DrugBank_ID1 == query_drug) & (drug_ch.DrugBank_ID2 == pos_drug)]['Similarity_Score']\n",
    "            drug_pheSim = drug_ph[(drug_ph.DrugBank_ID1 == query_drug) & (drug_ph.DrugBank_ID2 == pos_drug)]['Similarity_Score']\n",
    "            disease_pheSim = disease_ph[[str(query_disease)]].loc[pos_disease]\n",
    "            disease_geSim = disease_ge[(disease_ge.Disease_ID1 == query_disease) & (disease_ge.Disease_ID2 == pos_disease)]['Similarity_Score']\n",
    "            drug_sim = [drug_cheSim.values[0], drug_pheSim.values[0]]\n",
    "            disease_sim = [disease_geSim.values[0], disease_pheSim.values[0]]\n",
    "            similarities.append([math.sqrt(x[0]*x[1]) for x in list(product(drug_sim, disease_sim))])\n",
    "    sim1 = list()\n",
    "    sim2 = list()\n",
    "    sim3 = list()\n",
    "    sim4 = list()\n",
    "    for i in similarities:\n",
    "        sim1.append(i[0])\n",
    "        sim2.append(i[1])\n",
    "        sim3.append(i[2])\n",
    "        sim4.append(i[3])\n",
    "    temp_df = pd.DataFrame(data = [[query_drug, query_disease, query_asso, max(sim1), max(sim2), max(sim3), max(sim4)]],\n",
    "                           columns=['drug', 'disease', 'association', 'DrChe_DiGe', 'DrChe_DiPhe', 'DrPhe_DiGe', 'DrPhe_DiPhe'])\n",
    "    descriptor = descriptor.append(temp_df)\n",
    "    \n",
    "    cnt = cnt + 1\n",
    "    if cnt % 1000 == 0 :\n",
    "        print \"{} : \".format(cnt) + time.strftime('%a %H:%M:%S')\n",
    "print 'end : ' + time.strftime('%a %H:%M:%S')\n",
    "print cnt\n",
    "print descriptor.shape"
   ]
  },
  {
   "cell_type": "code",
   "execution_count": null,
   "metadata": {
    "collapsed": true
   },
   "outputs": [],
   "source": [
    "descriptor.to_csv(\"/DAS_Storage1/aschoi/data/Drug_Repositioning/8_new_training/5_PREDICT_descriptor/predict_descriptor_{}_{}.tsv\".format(start, end-1),\n",
    "                  sep = '\\t', index=False)"
   ]
  },
  {
   "cell_type": "code",
   "execution_count": 11,
   "metadata": {
    "collapsed": false
   },
   "outputs": [
    {
     "data": {
      "text/plain": [
       "249"
      ]
     },
     "execution_count": 11,
     "metadata": {},
     "output_type": "execute_result"
    }
   ],
   "source": [
    "cnt"
   ]
  },
  {
   "cell_type": "code",
   "execution_count": null,
   "metadata": {
    "collapsed": true
   },
   "outputs": [],
   "source": []
  },
  {
   "cell_type": "code",
   "execution_count": null,
   "metadata": {
    "collapsed": true
   },
   "outputs": [],
   "source": []
  },
  {
   "cell_type": "code",
   "execution_count": 99,
   "metadata": {
    "collapsed": false
   },
   "outputs": [
    {
     "name": "stdout",
     "output_type": "stream",
     "text": [
      "Mon 19:48:26\n",
      "Mon 19:48:26\n",
      "Mon 19:49:02\n",
      "Mon 19:49:02\n"
     ]
    }
   ],
   "source": [
    "cnt = 0\n",
    "print time.strftime('%a %H:%M:%S')\n",
    "bef_descriptor = list()\n",
    "for index, row in new_asso.iterrows(): # all association\n",
    "    query_drug = row['drug']\n",
    "    query_disease = row['disease']\n",
    "    query_asso = row['association']\n",
    "    similarities = list()\n",
    "    print time.strftime('%a %H:%M:%S')\n",
    "    for index2, row2, in pos.iterrows(): # known association\n",
    "        pos_drug = row2['drug']\n",
    "        pos_disease = row2['disease']\n",
    "        if (query_drug == pos_drug) & (query_disease == pos_disease):\n",
    "            continue\n",
    "        else:\n",
    "            drug_cheSim = drug_ch[(drug_ch.DrugBank_ID1 == query_drug) & (drug_ch.DrugBank_ID2 == pos_drug)]['Similarity_Score']\n",
    "            drug_pheSim = drug_ph[(drug_ph.DrugBank_ID1 == query_drug) & (drug_ph.DrugBank_ID2 == pos_drug)]['Similarity_Score']\n",
    "            disease_pheSim = disease_ph[[str(query_disease)]].loc[pos_disease]\n",
    "            disease_geSim = disease_ge[(disease_ge.Disease_ID1 == query_disease) & (disease_ge.Disease_ID2 == pos_disease)]['Similarity_Score']\n",
    "            drug_sim = [drug_cheSim.values[0], drug_pheSim.values[0]]\n",
    "            disease_sim = [disease_geSim.values[0], disease_pheSim.values[0]]\n",
    "            similarities.append([math.sqrt(x[0]*x[1]) for x in list(product(drug_sim, disease_sim))])\n",
    "\n",
    "    bef_descriptor.append(similarities)\n",
    "    print time.strftime('%a %H:%M:%S')\n",
    "    break\n",
    "    cnt = cnt + 1\n",
    "    if cnt % 1000 == 0 :\n",
    "        print \"cnt : {} \".format(cnt) + time.strftime('%a %H:%M:%S')\n",
    "print time.strftime('%a %H:%M:%S')"
   ]
  },
  {
   "cell_type": "code",
   "execution_count": 98,
   "metadata": {
    "collapsed": false
   },
   "outputs": [
    {
     "data": {
      "text/plain": [
       "0"
      ]
     },
     "execution_count": 98,
     "metadata": {},
     "output_type": "execute_result"
    }
   ],
   "source": [
    "cnt"
   ]
  },
  {
   "cell_type": "code",
   "execution_count": null,
   "metadata": {
    "collapsed": true
   },
   "outputs": [],
   "source": []
  }
 ],
 "metadata": {
  "kernelspec": {
   "display_name": "Python 2",
   "language": "python",
   "name": "python2"
  },
  "language_info": {
   "codemirror_mode": {
    "name": "ipython",
    "version": 2
   },
   "file_extension": ".py",
   "mimetype": "text/x-python",
   "name": "python",
   "nbconvert_exporter": "python",
   "pygments_lexer": "ipython2",
   "version": "2.7.6"
  }
 },
 "nbformat": 4,
 "nbformat_minor": 1
}
