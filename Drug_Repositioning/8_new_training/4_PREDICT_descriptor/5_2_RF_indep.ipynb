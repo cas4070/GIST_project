{
 "cells": [
  {
   "cell_type": "code",
   "execution_count": 1,
   "metadata": {
    "collapsed": false
   },
   "outputs": [
    {
     "name": "stderr",
     "output_type": "stream",
     "text": [
      "/usr/local/lib/python2.7/dist-packages/matplotlib/font_manager.py:273: UserWarning: Matplotlib is building the font cache using fc-list. This may take a moment.\n",
      "  warnings.warn('Matplotlib is building the font cache using fc-list. This may take a moment.')\n"
     ]
    }
   ],
   "source": [
    "import pandas as pd\n",
    "import numpy as np\n",
    "from datetime import datetime\n",
    "from sklearn.linear_model import LogisticRegression\n",
    "from sklearn.ensemble import RandomForestClassifier\n",
    "from sklearn.model_selection import StratifiedKFold\n",
    "from sklearn.metrics import confusion_matrix\n",
    "from sklearn.metrics import roc_auc_score # AUC score\n",
    "from sklearn.metrics import average_precision_score # AUPR score\n",
    "from sklearn.metrics import precision_recall_fscore_support # precision, recall\n",
    "from imblearn.metrics import sensitivity_specificity_support # sensitivity, specificity\n",
    "from sklearn.metrics import roc_curve # to draw auc curve\n",
    "from sklearn.metrics import precision_recall_curve # to draw aupr curve\n",
    "from imblearn.under_sampling import RandomUnderSampler\n",
    "from imblearn.under_sampling import OneSidedSelection\n",
    "from imblearn.under_sampling import NearMiss\n",
    "from itertools import cycle\n",
    "import matplotlib.pyplot as plt\n",
    "%matplotlib inline"
   ]
  },
  {
   "cell_type": "code",
   "execution_count": 2,
   "metadata": {
    "collapsed": true
   },
   "outputs": [],
   "source": [
    "# independent dataset\n",
    "indep = pd.read_table(\"/DAS_Storage1/aschoi/data/Drug_Repositioning/8_new_training/new_predict/3_2_indep_descriptor.tsv\")\n",
    "indep_x = indep.values[:, 3:].astype(float)\n",
    "indep_y = indep.values[:,2].astype(int)"
   ]
  },
  {
   "cell_type": "code",
   "execution_count": 3,
   "metadata": {
    "collapsed": true
   },
   "outputs": [],
   "source": [
    "#2017.04.12. PREDICT\n",
    "df = pd.read_table(\"/DAS_Storage1/aschoi/data/Drug_Repositioning/8_new_training/new_predict/2_3_gold_descriptor.tsv\")\n",
    "x_whole_data = df[df.columns.values[3:].tolist()].values\n",
    "y_whole_data = df[\"association\"].values"
   ]
  },
  {
   "cell_type": "code",
   "execution_count": 4,
   "metadata": {
    "collapsed": true
   },
   "outputs": [],
   "source": [
    "# undersampler\n",
    "rus = RandomUnderSampler()\n",
    "oss = OneSidedSelection()\n",
    "nm = NearMiss()"
   ]
  },
  {
   "cell_type": "code",
   "execution_count": 5,
   "metadata": {
    "collapsed": true
   },
   "outputs": [],
   "source": [
    "def Random_Forest_independent_graph(X, y, indep_X, indep_y, user_estimator):\n",
    "\n",
    "    folds_results = dict()\n",
    "    draw_results = {'fpr':[], 'tpr':[], 'precision_vec':[], 'recall_vec':[]}\n",
    "    fp_results = dict()\n",
    "    \n",
    "    classifier = RandomForestClassifier(n_estimators=user_estimator, n_jobs=-1, class_weight='balanced')\n",
    "    classifier.fit(X, y)\n",
    "    indep_y_predicted_proba = classifier.predict_proba(indep_X)\n",
    "    indep_y_predicted_label = classifier.predict(indep_X)\n",
    "    fp_results['predicted_proba'] = indep_y_predicted_proba\n",
    "    fp_results['Predicted_label'] = indep_y_predicted_label\n",
    "    fp_results['y_true'] = indep_y\n",
    "\n",
    "    # Accuracy\n",
    "    indep_acc = classifier.score(indep_X, indep_y)\n",
    "    folds_results['acc']=indep_acc\n",
    "    \n",
    "    # AUC\n",
    "    indep_auc = roc_auc_score(indep_y, indep_y_predicted_proba[:,1])\n",
    "    folds_results['auc']=indep_auc\n",
    "    \n",
    "    # Sensitivity, Specificity\n",
    "    indep_sn, indep_sp, support = sensitivity_specificity_support(indep_y, indep_y_predicted_label)\n",
    "    folds_results['sn']=indep_sn\n",
    "    folds_results['sp']=indep_sp\n",
    "    \n",
    "    # AUPR\n",
    "    indep_aupr = average_precision_score(indep_y, indep_y_predicted_proba[:,1])\n",
    "    folds_results['aupr']=indep_aupr\n",
    "    \n",
    "    # Precision, Recall\n",
    "    indep_precision, indep_recall, _, _ = precision_recall_fscore_support(indep_y, indep_y_predicted_label, average = 'binary')\n",
    "    folds_results['precision']=indep_precision\n",
    "    folds_results['recall']=indep_recall\n",
    "    \n",
    "    # Confusion Matirx\n",
    "    indep_confusion_matirx = confusion_matrix(indep_y, indep_y_predicted_label)\n",
    "    folds_results['confusion_matrix']=indep_confusion_matirx\n",
    "    \n",
    "    # draw graph\n",
    "    indep_fpr, indep_tpr, thresholds = roc_curve(indep_y, indep_y_predicted_proba[:, 1], pos_label=1)\n",
    "    draw_results['fpr'].append(indep_fpr)\n",
    "    draw_results['tpr'].append(indep_tpr)\n",
    "        \n",
    "    indep_precision_vec, indep_recall_vec, _ = precision_recall_curve(indep_y, indep_y_predicted_proba[:, 1])\n",
    "    draw_results['precision_vec'].append(indep_precision_vec)\n",
    "    draw_results['recall_vec'].append(indep_recall_vec)\n",
    "\n",
    "    return folds_results, draw_results, fp_results"
   ]
  },
  {
   "cell_type": "code",
   "execution_count": 6,
   "metadata": {
    "collapsed": true
   },
   "outputs": [],
   "source": [
    "def draw_plot(draw_results, final_result, user_estimator):\n",
    "    #colors = cycle(['cyan', 'indigo', 'seagreen', 'yellow', 'blue', 'darkorange', 'red', 'violet', 'fuchsia', 'sienna'])\n",
    "    colors = ['cyan', 'indigo', 'seagreen', 'yellow', 'blue', 'darkorange', 'red', 'violet', 'fuchsia', 'sienna']\n",
    "    lw = 1\n",
    "    plt.clf()\n",
    "    fig, (ax1, ax2) = plt.subplots(nrows=1, ncols=2, figsize=(6, 3))\n",
    "    print \"{}------------------------------------\".format(user_estimator)\n",
    "    for i in draw_results:\n",
    "        for fpr, tpr in zip(i['fpr'], i['tpr']):\n",
    "            ax1.plot(fpr, tpr, lw=lw)\n",
    "        for recall_vec, precision_vec in zip(i['recall_vec'], i['precision_vec']):\n",
    "            ax2.plot(recall_vec, precision_vec, lw=lw)\n",
    "    ax1.set_xlabel('FPR')\n",
    "    ax1.set_ylabel('TPR')\n",
    "    ax1.set_color_cycle(colors)\n",
    "    ax1.set_title('N={0}, Average AUC={1:0.2f}'.format(user_estimator, final_result['auc']))\n",
    "    ax1.set_ylim([0.0, 1.05])\n",
    "    ax1.set_xlim([0.0, 1.0])\n",
    "    ax2.set_xlabel('Recall')\n",
    "    ax2.set_ylabel('Precision')\n",
    "    ax2.set_color_cycle(colors)\n",
    "    ax2.set_title('N={0}, Average AUPR={1:0.2f}'.format(user_estimator, final_result['aupr']))\n",
    "    ax2.set_ylim([0.0, 1.05])\n",
    "    ax2.set_xlim([0.0, 1.0])\n",
    "    plt.tight_layout()\n",
    "    plt.show()"
   ]
  },
  {
   "cell_type": "code",
   "execution_count": 7,
   "metadata": {
    "collapsed": true
   },
   "outputs": [],
   "source": [
    "def average_result(folds_results):\n",
    "    avg_result = dict()\n",
    "    avg_result['acc'] = sum(folds_results['acc']) / len(folds_results['acc'])\n",
    "    avg_result['auc'] = sum(folds_results['auc']) / len(folds_results['auc'])\n",
    "    avg_result['aupr'] = sum(folds_results['aupr']) / len(folds_results['aupr'])\n",
    "    avg_result['sn'] = sum(folds_results['sn']) / len(folds_results['sn'])\n",
    "    avg_result['sp'] = sum(folds_results['sp']) / len(folds_results['sp'])\n",
    "    avg_result['precision'] = sum(folds_results['precision']) / len(folds_results['precision'])\n",
    "    avg_result['recall'] = sum(folds_results['recall']) / len(folds_results['recall'])\n",
    "    avg_result['confusion_matrix'] = sum(folds_results['confusion_matrix'])\n",
    "    \n",
    "    return avg_result"
   ]
  },
  {
   "cell_type": "code",
   "execution_count": 8,
   "metadata": {
    "collapsed": true
   },
   "outputs": [],
   "source": [
    "def seperate_results(indep_results):\n",
    "    temp_results = {'acc':[], 'auc':[], 'aupr':[], 'confusion_matrix':[], 'sn':[], 'sp':[], 'precision':[], 'recall':[]}\n",
    "    for i in range(independent_count):\n",
    "        temp_results['acc'].append(indep_results[i]['acc'])\n",
    "        temp_results['auc'].append(indep_results[i]['auc'])\n",
    "        temp_results['aupr'].append(indep_results[i]['aupr'])\n",
    "        temp_results['confusion_matrix'].append(indep_results[i]['confusion_matrix'])\n",
    "        temp_results['sn'].append(indep_results[i]['sn'])\n",
    "        temp_results['sp'].append(indep_results[i]['sp'])\n",
    "        temp_results['precision'].append(indep_results[i]['precision'])\n",
    "        temp_results['recall'].append(indep_results[i]['recall'])\n",
    "    return temp_results"
   ]
  },
  {
   "cell_type": "code",
   "execution_count": 9,
   "metadata": {
    "collapsed": true
   },
   "outputs": [],
   "source": [
    "def write_output(fd, write_results, user_estimator):\n",
    "    fd.write(\"N={}-------------------------------------------------\\r\\n\".format(user_estimator))\n",
    "    fd.write(\"Accuracy avg : {}\\r\\n\".format(write_results['acc']))\n",
    "    fd.write(\"AUC avg : {}\\r\\n\".format(write_results['auc']))\n",
    "    fd.write(\"  Sensitivity avg : {}\\r\\n\".format(write_results['sn']))\n",
    "    fd.write(\"  Specificity avg : {}\\r\\n\".format(write_results['sp']))\n",
    "    fd.write(\"AUPR avg : {}\\r\\n\".format(write_results['aupr']))\n",
    "    fd.write(\"  Precision avg : {}\\r\\n\".format(write_results['precision']))\n",
    "    fd.write(\"  Recall avg : {}\\r\\n\".format(write_results['recall']))\n",
    "    fd.write(\"confusion amtrix : {}\\r\\n\".format(write_results['confusion_matrix']))"
   ]
  },
  {
   "cell_type": "code",
   "execution_count": 10,
   "metadata": {
    "collapsed": false
   },
   "outputs": [
    {
     "name": "stdout",
     "output_type": "stream",
     "text": [
      "2017-04-12 02:13:16\n",
      "500------------------------------------\n"
     ]
    },
    {
     "name": "stderr",
     "output_type": "stream",
     "text": [
      "/usr/local/lib/python2.7/dist-packages/matplotlib/cbook.py:137: MatplotlibDeprecationWarning: The set_color_cycle attribute was deprecated in version 1.5. Use set_prop_cycle instead.\n",
      "  warnings.warn(message, mplDeprecation, stacklevel=1)\n"
     ]
    },
    {
     "data": {
      "text/plain": [
       "<matplotlib.figure.Figure at 0x7f79a7f9c190>"
      ]
     },
     "metadata": {},
     "output_type": "display_data"
    },
    {
     "data": {
      "image/png": "[encoded data removed]",
      "text/plain": [
       "<matplotlib.figure.Figure at 0x7f7a331ba350>"
      ]
     },
     "metadata": {},
     "output_type": "display_data"
    },
    {
     "name": "stdout",
     "output_type": "stream",
     "text": [
      "500------------------------------------\n"
     ]
    },
    {
     "data": {
      "text/plain": [
       "<matplotlib.figure.Figure at 0x7f7a502e3cd0>"
      ]
     },
     "metadata": {},
     "output_type": "display_data"
    },
    {
     "data": {
      "image/png": "[encoded data removed]",
      "text/plain": [
       "<matplotlib.figure.Figure at 0x7f7a50301290>"
      ]
     },
     "metadata": {},
     "output_type": "display_data"
    },
    {
     "name": "stdout",
     "output_type": "stream",
     "text": [
      "2017-04-12 02:13:52\n"
     ]
    }
   ],
   "source": [
    "# Random_Forest_independent_graph + 파일 입출력 + 1:1\n",
    "# PREDICT original\n",
    "print datetime.now().strftime('%Y-%m-%d %H:%M:%S')\n",
    "path = '/home/share/aschoi/nas/users/asolchoi/data/Drug_Repositioning/8_new_training/new_predict/'\n",
    "with open(path + \"2_RF_indep.txt\", 'w') as fd :\n",
    "    user_estimator = 500\n",
    "    \n",
    "    fd.write(\"<independent>\\r\\n\")\n",
    "    folds_results, draw_results, fp_results = Random_Forest_independent_graph(x_whole_data, y_whole_data, indep_x, indep_y, user_estimator)\n",
    "    draw_plot([draw_results], folds_results, user_estimator)\n",
    "    write_output(fd, folds_results, user_estimator)\n",
    "    #--------------------------------------------------------------\n",
    "    fd.write(\"<1:1 independent>\\r\\n\")\n",
    "    independent_count = 10\n",
    "    indep_results = dict()\n",
    "    indep_draw = list()\n",
    "    for i in range(independent_count):\n",
    "        x_resampled, y_resampled = rus.fit_sample(x_whole_data, y_whole_data)\n",
    "        folds_results2, draw_results2, indep_results2= Random_Forest_independent_graph(x_resampled, y_resampled, indep_x, indep_y, user_estimator)\n",
    "        indep_results[i] = folds_results2\n",
    "        indep_draw.append(draw_results2)    \n",
    "    seperated = seperate_results(indep_results)\n",
    "    final_result = average_result(seperated)\n",
    "    draw_plot(indep_draw, final_result, user_estimator)\n",
    "    write_output(fd, final_result, user_estimator)    \n",
    "print datetime.now().strftime('%Y-%m-%d %H:%M:%S')"
   ]
  },
  {
   "cell_type": "code",
   "execution_count": null,
   "metadata": {
    "collapsed": true
   },
   "outputs": [],
   "source": []
  }
 ],
 "metadata": {
  "kernelspec": {
   "display_name": "Python 2",
   "language": "python",
   "name": "python2"
  },
  "language_info": {
   "codemirror_mode": {
    "name": "ipython",
    "version": 2
   },
   "file_extension": ".py",
   "mimetype": "text/x-python",
   "name": "python",
   "nbconvert_exporter": "python",
   "pygments_lexer": "ipython2",
   "version": "2.7.6"
  }
 },
 "nbformat": 4,
 "nbformat_minor": 2
}
