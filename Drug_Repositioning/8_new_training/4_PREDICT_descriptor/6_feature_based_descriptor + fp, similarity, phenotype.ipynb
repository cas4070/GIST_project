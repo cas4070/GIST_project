{
 "cells": [
  {
   "cell_type": "code",
   "execution_count": 2,
   "metadata": {
    "collapsed": true
   },
   "outputs": [],
   "source": [
    "import pandas as pd\n",
    "import numpy as np"
   ]
  },
  {
   "cell_type": "code",
   "execution_count": 3,
   "metadata": {
    "collapsed": false
   },
   "outputs": [],
   "source": [
    "#fp2 = pd.read_table(\"/DAS_Storage1/aschoi/data/Drug_Repositioning/5_new_drug/new_predict/3_drug_fp2_fps.tsv\", index_col=0)\n",
    "#mac = pd.read_table(\"/DAS_Storage1/aschoi/data/Drug_Repositioning/5_new_drug/new_predict/3_drug_maccs_fps.tsv\", index_col=0)\n",
    "sim = pd.read_table(\"/DAS_Storage1/aschoi/data/Drug_Repositioning/5_new_drug/new_predict/1_drug_drug_str_sim_mat.tsv\", index_col=0)\n",
    "#miner = pd.read_table(\"/DAS_Storage1/aschoi/data/Drug_Repositioning/6_new_disease/new_predict/1_disease_disease_phe_sim_mat.tsv\", index_col=0)"
   ]
  },
  {
   "cell_type": "code",
   "execution_count": 4,
   "metadata": {
    "collapsed": false
   },
   "outputs": [],
   "source": [
    "path = \"/DAS_Storage1/aschoi/data/Drug_Repositioning/8_new_training/1_feature_based-Systematic/4_PREDICT_dataset_ver2/\"\n",
    "desc_multi = pd.read_table(path + \"1_gold_descriptor.tsv\", index_col=[0,1])"
   ]
  },
  {
   "cell_type": "code",
   "execution_count": 5,
   "metadata": {
    "collapsed": false
   },
   "outputs": [
    {
     "name": "stdout",
     "output_type": "stream",
     "text": [
      "99493\n",
      "434\n",
      "233\n"
     ]
    },
    {
     "data": {
      "text/html": [
       "<div>\n",
       "<table border=\"1\" class=\"dataframe\">\n",
       "  <thead>\n",
       "    <tr style=\"text-align: right;\">\n",
       "      <th></th>\n",
       "      <th></th>\n",
       "      <th>association</th>\n",
       "      <th>C0000727</th>\n",
       "      <th>C0000731</th>\n",
       "      <th>C0000737</th>\n",
       "      <th>C0000768</th>\n",
       "      <th>C0000772</th>\n",
       "      <th>C0000786</th>\n",
       "      <th>C0000814</th>\n",
       "      <th>C0000832</th>\n",
       "      <th>C0000833</th>\n",
       "      <th>...</th>\n",
       "      <th>387585</th>\n",
       "      <th>388165</th>\n",
       "      <th>55219</th>\n",
       "      <th>55973</th>\n",
       "      <th>65264</th>\n",
       "      <th>80350</th>\n",
       "      <th>84624</th>\n",
       "      <th>84722</th>\n",
       "      <th>91851</th>\n",
       "      <th>406216</th>\n",
       "    </tr>\n",
       "    <tr>\n",
       "      <th>drug_id</th>\n",
       "      <th>disease_id</th>\n",
       "      <th></th>\n",
       "      <th></th>\n",
       "      <th></th>\n",
       "      <th></th>\n",
       "      <th></th>\n",
       "      <th></th>\n",
       "      <th></th>\n",
       "      <th></th>\n",
       "      <th></th>\n",
       "      <th></th>\n",
       "      <th></th>\n",
       "      <th></th>\n",
       "      <th></th>\n",
       "      <th></th>\n",
       "      <th></th>\n",
       "      <th></th>\n",
       "      <th></th>\n",
       "      <th></th>\n",
       "      <th></th>\n",
       "      <th></th>\n",
       "      <th></th>\n",
       "    </tr>\n",
       "  </thead>\n",
       "  <tbody>\n",
       "    <tr>\n",
       "      <th>DB00659</th>\n",
       "      <th>103780</th>\n",
       "      <td>1</td>\n",
       "      <td>0</td>\n",
       "      <td>1</td>\n",
       "      <td>0</td>\n",
       "      <td>0</td>\n",
       "      <td>0</td>\n",
       "      <td>0</td>\n",
       "      <td>0</td>\n",
       "      <td>0</td>\n",
       "      <td>0</td>\n",
       "      <td>...</td>\n",
       "      <td>0</td>\n",
       "      <td>0</td>\n",
       "      <td>0</td>\n",
       "      <td>0</td>\n",
       "      <td>0</td>\n",
       "      <td>0</td>\n",
       "      <td>0</td>\n",
       "      <td>0</td>\n",
       "      <td>0</td>\n",
       "      <td>0</td>\n",
       "    </tr>\n",
       "  </tbody>\n",
       "</table>\n",
       "<p>1 rows × 5366 columns</p>\n",
       "</div>"
      ],
      "text/plain": [
       "                    association  C0000727  C0000731  C0000737  C0000768  \\\n",
       "drug_id disease_id                                                        \n",
       "DB00659 103780                1         0         1         0         0   \n",
       "\n",
       "                    C0000772  C0000786  C0000814  C0000832  C0000833   ...    \\\n",
       "drug_id disease_id                                                     ...     \n",
       "DB00659 103780             0         0         0         0         0   ...     \n",
       "\n",
       "                    387585  388165  55219  55973  65264  80350  84624  84722  \\\n",
       "drug_id disease_id                                                             \n",
       "DB00659 103780           0       0      0      0      0      0      0      0   \n",
       "\n",
       "                    91851  406216  \n",
       "drug_id disease_id                 \n",
       "DB00659 103780          0       0  \n",
       "\n",
       "[1 rows x 5366 columns]"
      ]
     },
     "execution_count": 5,
     "metadata": {},
     "output_type": "execute_result"
    }
   ],
   "source": [
    "print len(desc_multi)\n",
    "print len(desc_multi.index.get_level_values(0).drop_duplicates())\n",
    "print len(desc_multi.index.get_level_values(1).drop_duplicates())\n",
    "desc_multi.head(1)"
   ]
  },
  {
   "cell_type": "code",
   "execution_count": 284,
   "metadata": {
    "collapsed": false
   },
   "outputs": [],
   "source": [
    "# maccs를 descriptor에 추가한다.\n",
    "mac_fp = mac[mac.columns.tolist()[:-1]]\n",
    "mac_fp.index.name = 'drug_id' # drug_id로 join하기 위해 set해줌"
   ]
  },
  {
   "cell_type": "code",
   "execution_count": 285,
   "metadata": {
    "collapsed": false
   },
   "outputs": [
    {
     "name": "stdout",
     "output_type": "stream",
     "text": [
      "99493\n"
     ]
    },
    {
     "data": {
      "text/html": [
       "<div>\n",
       "<table border=\"1\" class=\"dataframe\">\n",
       "  <thead>\n",
       "    <tr style=\"text-align: right;\">\n",
       "      <th></th>\n",
       "      <th></th>\n",
       "      <th>association</th>\n",
       "      <th>C0000727</th>\n",
       "      <th>C0000731</th>\n",
       "      <th>C0000737</th>\n",
       "      <th>C0000768</th>\n",
       "      <th>C0000772</th>\n",
       "      <th>C0000786</th>\n",
       "      <th>C0000814</th>\n",
       "      <th>C0000832</th>\n",
       "      <th>C0000833</th>\n",
       "      <th>...</th>\n",
       "      <th>MACCS_157</th>\n",
       "      <th>MACCS_158</th>\n",
       "      <th>MACCS_159</th>\n",
       "      <th>MACCS_160</th>\n",
       "      <th>MACCS_161</th>\n",
       "      <th>MACCS_162</th>\n",
       "      <th>MACCS_163</th>\n",
       "      <th>MACCS_164</th>\n",
       "      <th>MACCS_165</th>\n",
       "      <th>MACCS_166</th>\n",
       "    </tr>\n",
       "    <tr>\n",
       "      <th>drug_id</th>\n",
       "      <th>disease_id</th>\n",
       "      <th></th>\n",
       "      <th></th>\n",
       "      <th></th>\n",
       "      <th></th>\n",
       "      <th></th>\n",
       "      <th></th>\n",
       "      <th></th>\n",
       "      <th></th>\n",
       "      <th></th>\n",
       "      <th></th>\n",
       "      <th></th>\n",
       "      <th></th>\n",
       "      <th></th>\n",
       "      <th></th>\n",
       "      <th></th>\n",
       "      <th></th>\n",
       "      <th></th>\n",
       "      <th></th>\n",
       "      <th></th>\n",
       "      <th></th>\n",
       "      <th></th>\n",
       "    </tr>\n",
       "  </thead>\n",
       "  <tbody>\n",
       "    <tr>\n",
       "      <th>DB00659</th>\n",
       "      <th>103780</th>\n",
       "      <td>1</td>\n",
       "      <td>0</td>\n",
       "      <td>1</td>\n",
       "      <td>0</td>\n",
       "      <td>0</td>\n",
       "      <td>0</td>\n",
       "      <td>0</td>\n",
       "      <td>0</td>\n",
       "      <td>0</td>\n",
       "      <td>0</td>\n",
       "      <td>...</td>\n",
       "      <td>0</td>\n",
       "      <td>1</td>\n",
       "      <td>1</td>\n",
       "      <td>1</td>\n",
       "      <td>1</td>\n",
       "      <td>0</td>\n",
       "      <td>0</td>\n",
       "      <td>1</td>\n",
       "      <td>0</td>\n",
       "      <td>0</td>\n",
       "    </tr>\n",
       "    <tr>\n",
       "      <th>DB01193</th>\n",
       "      <th>608622</th>\n",
       "      <td>1</td>\n",
       "      <td>0</td>\n",
       "      <td>1</td>\n",
       "      <td>1</td>\n",
       "      <td>0</td>\n",
       "      <td>0</td>\n",
       "      <td>0</td>\n",
       "      <td>0</td>\n",
       "      <td>0</td>\n",
       "      <td>0</td>\n",
       "      <td>...</td>\n",
       "      <td>1</td>\n",
       "      <td>1</td>\n",
       "      <td>1</td>\n",
       "      <td>1</td>\n",
       "      <td>1</td>\n",
       "      <td>1</td>\n",
       "      <td>1</td>\n",
       "      <td>1</td>\n",
       "      <td>1</td>\n",
       "      <td>0</td>\n",
       "    </tr>\n",
       "  </tbody>\n",
       "</table>\n",
       "<p>2 rows × 5532 columns</p>\n",
       "</div>"
      ],
      "text/plain": [
       "                    association  C0000727  C0000731  C0000737  C0000768  \\\n",
       "drug_id disease_id                                                        \n",
       "DB00659 103780                1         0         1         0         0   \n",
       "DB01193 608622                1         0         1         1         0   \n",
       "\n",
       "                    C0000772  C0000786  C0000814  C0000832  C0000833  \\\n",
       "drug_id disease_id                                                     \n",
       "DB00659 103780             0         0         0         0         0   \n",
       "DB01193 608622             0         0         0         0         0   \n",
       "\n",
       "                      ...      MACCS_157  MACCS_158  MACCS_159  MACCS_160  \\\n",
       "drug_id disease_id    ...                                                   \n",
       "DB00659 103780        ...              0          1          1          1   \n",
       "DB01193 608622        ...              1          1          1          1   \n",
       "\n",
       "                    MACCS_161  MACCS_162  MACCS_163  MACCS_164  MACCS_165  \\\n",
       "drug_id disease_id                                                          \n",
       "DB00659 103780              1          0          0          1          0   \n",
       "DB01193 608622              1          1          1          1          1   \n",
       "\n",
       "                    MACCS_166  \n",
       "drug_id disease_id             \n",
       "DB00659 103780              0  \n",
       "DB01193 608622              0  \n",
       "\n",
       "[2 rows x 5532 columns]"
      ]
     },
     "execution_count": 285,
     "metadata": {},
     "output_type": "execute_result"
    }
   ],
   "source": [
    "mac_desc = desc_multi.join(mac_fp) # index인 drug__id로 left join을 하게됨.\n",
    "print len(mac_desc)\n",
    "mac_desc.head(2)"
   ]
  },
  {
   "cell_type": "code",
   "execution_count": 287,
   "metadata": {
    "collapsed": true
   },
   "outputs": [],
   "source": [
    "mac_desc.to_csv(\"/DAS_Storage1/aschoi/data/Drug_Repositioning/8_new_training/new_predict/feature_based/3_gold_MACCS_descriptor.tsv\", sep='\\t')"
   ]
  },
  {
   "cell_type": "code",
   "execution_count": 288,
   "metadata": {
    "collapsed": true
   },
   "outputs": [],
   "source": [
    "# fp2를 descriptor에 추가한다.\n",
    "fp2_fp = fp2[fp2.columns.tolist()[:-1]]\n",
    "fp2_fp.index.name = 'drug_id' # drug_id로 join하기 위해 set해줌"
   ]
  },
  {
   "cell_type": "code",
   "execution_count": 289,
   "metadata": {
    "collapsed": false
   },
   "outputs": [
    {
     "name": "stdout",
     "output_type": "stream",
     "text": [
      "99493\n"
     ]
    },
    {
     "data": {
      "text/html": [
       "<div>\n",
       "<table border=\"1\" class=\"dataframe\">\n",
       "  <thead>\n",
       "    <tr style=\"text-align: right;\">\n",
       "      <th></th>\n",
       "      <th></th>\n",
       "      <th>association</th>\n",
       "      <th>C0000727</th>\n",
       "      <th>C0000731</th>\n",
       "      <th>C0000737</th>\n",
       "      <th>C0000768</th>\n",
       "      <th>C0000772</th>\n",
       "      <th>C0000786</th>\n",
       "      <th>C0000814</th>\n",
       "      <th>C0000832</th>\n",
       "      <th>C0000833</th>\n",
       "      <th>...</th>\n",
       "      <th>FP2_1015</th>\n",
       "      <th>FP2_1016</th>\n",
       "      <th>FP2_1017</th>\n",
       "      <th>FP2_1018</th>\n",
       "      <th>FP2_1019</th>\n",
       "      <th>FP2_1020</th>\n",
       "      <th>FP2_1021</th>\n",
       "      <th>FP2_1022</th>\n",
       "      <th>FP2_1023</th>\n",
       "      <th>FP2_1024</th>\n",
       "    </tr>\n",
       "    <tr>\n",
       "      <th>drug_id</th>\n",
       "      <th>disease_id</th>\n",
       "      <th></th>\n",
       "      <th></th>\n",
       "      <th></th>\n",
       "      <th></th>\n",
       "      <th></th>\n",
       "      <th></th>\n",
       "      <th></th>\n",
       "      <th></th>\n",
       "      <th></th>\n",
       "      <th></th>\n",
       "      <th></th>\n",
       "      <th></th>\n",
       "      <th></th>\n",
       "      <th></th>\n",
       "      <th></th>\n",
       "      <th></th>\n",
       "      <th></th>\n",
       "      <th></th>\n",
       "      <th></th>\n",
       "      <th></th>\n",
       "      <th></th>\n",
       "    </tr>\n",
       "  </thead>\n",
       "  <tbody>\n",
       "    <tr>\n",
       "      <th>DB00659</th>\n",
       "      <th>103780</th>\n",
       "      <td>1</td>\n",
       "      <td>0</td>\n",
       "      <td>1</td>\n",
       "      <td>0</td>\n",
       "      <td>0</td>\n",
       "      <td>0</td>\n",
       "      <td>0</td>\n",
       "      <td>0</td>\n",
       "      <td>0</td>\n",
       "      <td>0</td>\n",
       "      <td>...</td>\n",
       "      <td>0</td>\n",
       "      <td>0</td>\n",
       "      <td>0</td>\n",
       "      <td>0</td>\n",
       "      <td>0</td>\n",
       "      <td>0</td>\n",
       "      <td>0</td>\n",
       "      <td>0</td>\n",
       "      <td>0</td>\n",
       "      <td>0</td>\n",
       "    </tr>\n",
       "    <tr>\n",
       "      <th>DB01193</th>\n",
       "      <th>608622</th>\n",
       "      <td>1</td>\n",
       "      <td>0</td>\n",
       "      <td>1</td>\n",
       "      <td>1</td>\n",
       "      <td>0</td>\n",
       "      <td>0</td>\n",
       "      <td>0</td>\n",
       "      <td>0</td>\n",
       "      <td>0</td>\n",
       "      <td>0</td>\n",
       "      <td>...</td>\n",
       "      <td>0</td>\n",
       "      <td>0</td>\n",
       "      <td>0</td>\n",
       "      <td>0</td>\n",
       "      <td>1</td>\n",
       "      <td>0</td>\n",
       "      <td>0</td>\n",
       "      <td>0</td>\n",
       "      <td>0</td>\n",
       "      <td>0</td>\n",
       "    </tr>\n",
       "  </tbody>\n",
       "</table>\n",
       "<p>2 rows × 6390 columns</p>\n",
       "</div>"
      ],
      "text/plain": [
       "                    association  C0000727  C0000731  C0000737  C0000768  \\\n",
       "drug_id disease_id                                                        \n",
       "DB00659 103780                1         0         1         0         0   \n",
       "DB01193 608622                1         0         1         1         0   \n",
       "\n",
       "                    C0000772  C0000786  C0000814  C0000832  C0000833  \\\n",
       "drug_id disease_id                                                     \n",
       "DB00659 103780             0         0         0         0         0   \n",
       "DB01193 608622             0         0         0         0         0   \n",
       "\n",
       "                      ...     FP2_1015  FP2_1016  FP2_1017  FP2_1018  \\\n",
       "drug_id disease_id    ...                                              \n",
       "DB00659 103780        ...            0         0         0         0   \n",
       "DB01193 608622        ...            0         0         0         0   \n",
       "\n",
       "                    FP2_1019  FP2_1020  FP2_1021  FP2_1022  FP2_1023  FP2_1024  \n",
       "drug_id disease_id                                                              \n",
       "DB00659 103780             0         0         0         0         0         0  \n",
       "DB01193 608622             1         0         0         0         0         0  \n",
       "\n",
       "[2 rows x 6390 columns]"
      ]
     },
     "execution_count": 289,
     "metadata": {},
     "output_type": "execute_result"
    }
   ],
   "source": [
    "fp2_desc = desc_multi.join(fp2_fp) # index인 drug__id로 left join을 하게됨.\n",
    "print len(fp2_desc)\n",
    "fp2_desc.head(2)"
   ]
  },
  {
   "cell_type": "code",
   "execution_count": 291,
   "metadata": {
    "collapsed": true
   },
   "outputs": [],
   "source": [
    "fp2_desc.to_csv(\"/DAS_Storage1/aschoi/data/Drug_Repositioning/8_new_training/new_predict/feature_based/4_gold_FP2_descriptor.tsv\", sep='\\t')"
   ]
  },
  {
   "cell_type": "code",
   "execution_count": null,
   "metadata": {
    "collapsed": true
   },
   "outputs": [],
   "source": [
    "# structure similarities를 descriptor에 추가한다."
   ]
  },
  {
   "cell_type": "code",
   "execution_count": 8,
   "metadata": {
    "collapsed": false
   },
   "outputs": [
    {
     "data": {
      "text/html": [
       "<div>\n",
       "<table border=\"1\" class=\"dataframe\">\n",
       "  <thead>\n",
       "    <tr style=\"text-align: right;\">\n",
       "      <th></th>\n",
       "      <th>DB00114</th>\n",
       "      <th>DB00126</th>\n",
       "      <th>DB00136</th>\n",
       "      <th>DB00153</th>\n",
       "      <th>DB00162</th>\n",
       "      <th>DB00165</th>\n",
       "      <th>DB00175</th>\n",
       "      <th>DB00176</th>\n",
       "      <th>DB00177</th>\n",
       "      <th>DB00178</th>\n",
       "      <th>...</th>\n",
       "      <th>DB01576</th>\n",
       "      <th>DB01577</th>\n",
       "      <th>DB01590</th>\n",
       "      <th>DB01623</th>\n",
       "      <th>DB02546</th>\n",
       "      <th>DB03904</th>\n",
       "      <th>DB04272</th>\n",
       "      <th>DB04844</th>\n",
       "      <th>DB04861</th>\n",
       "      <th>DB09026</th>\n",
       "    </tr>\n",
       "    <tr>\n",
       "      <th>drug_id</th>\n",
       "      <th></th>\n",
       "      <th></th>\n",
       "      <th></th>\n",
       "      <th></th>\n",
       "      <th></th>\n",
       "      <th></th>\n",
       "      <th></th>\n",
       "      <th></th>\n",
       "      <th></th>\n",
       "      <th></th>\n",
       "      <th></th>\n",
       "      <th></th>\n",
       "      <th></th>\n",
       "      <th></th>\n",
       "      <th></th>\n",
       "      <th></th>\n",
       "      <th></th>\n",
       "      <th></th>\n",
       "      <th></th>\n",
       "      <th></th>\n",
       "      <th></th>\n",
       "    </tr>\n",
       "  </thead>\n",
       "  <tbody>\n",
       "    <tr>\n",
       "      <th>DB00114</th>\n",
       "      <td>1.0</td>\n",
       "      <td>0.087248</td>\n",
       "      <td>0.030534</td>\n",
       "      <td>0.030769</td>\n",
       "      <td>0.04065</td>\n",
       "      <td>0.646465</td>\n",
       "      <td>0.075</td>\n",
       "      <td>0.15894</td>\n",
       "      <td>0.16568</td>\n",
       "      <td>0.127907</td>\n",
       "      <td>...</td>\n",
       "      <td>0.089286</td>\n",
       "      <td>0.086207</td>\n",
       "      <td>0.085202</td>\n",
       "      <td>0.091371</td>\n",
       "      <td>0.111111</td>\n",
       "      <td>0.010204</td>\n",
       "      <td>0.061947</td>\n",
       "      <td>0.146067</td>\n",
       "      <td>0.123529</td>\n",
       "      <td>0.156977</td>\n",
       "    </tr>\n",
       "  </tbody>\n",
       "</table>\n",
       "<p>1 rows × 434 columns</p>\n",
       "</div>"
      ],
      "text/plain": [
       "         DB00114   DB00126   DB00136   DB00153  DB00162   DB00165  DB00175  \\\n",
       "drug_id                                                                      \n",
       "DB00114      1.0  0.087248  0.030534  0.030769  0.04065  0.646465    0.075   \n",
       "\n",
       "         DB00176  DB00177   DB00178    ...      DB01576   DB01577   DB01590  \\\n",
       "drug_id                                ...                                    \n",
       "DB00114  0.15894  0.16568  0.127907    ...     0.089286  0.086207  0.085202   \n",
       "\n",
       "          DB01623   DB02546   DB03904   DB04272   DB04844   DB04861   DB09026  \n",
       "drug_id                                                                        \n",
       "DB00114  0.091371  0.111111  0.010204  0.061947  0.146067  0.123529  0.156977  \n",
       "\n",
       "[1 rows x 434 columns]"
      ]
     },
     "execution_count": 8,
     "metadata": {},
     "output_type": "execute_result"
    }
   ],
   "source": [
    "sim.head(1)"
   ]
  },
  {
   "cell_type": "code",
   "execution_count": 7,
   "metadata": {
    "collapsed": false
   },
   "outputs": [],
   "source": [
    "sim.index.name = 'drug_id'"
   ]
  },
  {
   "cell_type": "code",
   "execution_count": 9,
   "metadata": {
    "collapsed": false
   },
   "outputs": [
    {
     "name": "stdout",
     "output_type": "stream",
     "text": [
      "99493\n"
     ]
    },
    {
     "data": {
      "text/html": [
       "<div>\n",
       "<table border=\"1\" class=\"dataframe\">\n",
       "  <thead>\n",
       "    <tr style=\"text-align: right;\">\n",
       "      <th></th>\n",
       "      <th></th>\n",
       "      <th>association</th>\n",
       "      <th>C0000727</th>\n",
       "      <th>C0000731</th>\n",
       "      <th>C0000737</th>\n",
       "      <th>C0000768</th>\n",
       "      <th>C0000772</th>\n",
       "      <th>C0000786</th>\n",
       "      <th>C0000814</th>\n",
       "      <th>C0000832</th>\n",
       "      <th>C0000833</th>\n",
       "      <th>...</th>\n",
       "      <th>DB01576</th>\n",
       "      <th>DB01577</th>\n",
       "      <th>DB01590</th>\n",
       "      <th>DB01623</th>\n",
       "      <th>DB02546</th>\n",
       "      <th>DB03904</th>\n",
       "      <th>DB04272</th>\n",
       "      <th>DB04844</th>\n",
       "      <th>DB04861</th>\n",
       "      <th>DB09026</th>\n",
       "    </tr>\n",
       "    <tr>\n",
       "      <th>drug_id</th>\n",
       "      <th>disease_id</th>\n",
       "      <th></th>\n",
       "      <th></th>\n",
       "      <th></th>\n",
       "      <th></th>\n",
       "      <th></th>\n",
       "      <th></th>\n",
       "      <th></th>\n",
       "      <th></th>\n",
       "      <th></th>\n",
       "      <th></th>\n",
       "      <th></th>\n",
       "      <th></th>\n",
       "      <th></th>\n",
       "      <th></th>\n",
       "      <th></th>\n",
       "      <th></th>\n",
       "      <th></th>\n",
       "      <th></th>\n",
       "      <th></th>\n",
       "      <th></th>\n",
       "      <th></th>\n",
       "    </tr>\n",
       "  </thead>\n",
       "  <tbody>\n",
       "    <tr>\n",
       "      <th>DB00659</th>\n",
       "      <th>103780</th>\n",
       "      <td>1</td>\n",
       "      <td>0</td>\n",
       "      <td>1</td>\n",
       "      <td>0</td>\n",
       "      <td>0</td>\n",
       "      <td>0</td>\n",
       "      <td>0</td>\n",
       "      <td>0</td>\n",
       "      <td>0</td>\n",
       "      <td>0</td>\n",
       "      <td>...</td>\n",
       "      <td>0.083333</td>\n",
       "      <td>0.131148</td>\n",
       "      <td>0.114458</td>\n",
       "      <td>0.120567</td>\n",
       "      <td>0.162500</td>\n",
       "      <td>0.076923</td>\n",
       "      <td>0.067797</td>\n",
       "      <td>0.105263</td>\n",
       "      <td>0.107438</td>\n",
       "      <td>0.126984</td>\n",
       "    </tr>\n",
       "    <tr>\n",
       "      <th>DB01193</th>\n",
       "      <th>608622</th>\n",
       "      <td>1</td>\n",
       "      <td>0</td>\n",
       "      <td>1</td>\n",
       "      <td>1</td>\n",
       "      <td>0</td>\n",
       "      <td>0</td>\n",
       "      <td>0</td>\n",
       "      <td>0</td>\n",
       "      <td>0</td>\n",
       "      <td>0</td>\n",
       "      <td>...</td>\n",
       "      <td>0.189189</td>\n",
       "      <td>0.214286</td>\n",
       "      <td>0.183099</td>\n",
       "      <td>0.153846</td>\n",
       "      <td>0.344538</td>\n",
       "      <td>0.028302</td>\n",
       "      <td>0.101695</td>\n",
       "      <td>0.266272</td>\n",
       "      <td>0.456522</td>\n",
       "      <td>0.331210</td>\n",
       "    </tr>\n",
       "  </tbody>\n",
       "</table>\n",
       "<p>2 rows × 5800 columns</p>\n",
       "</div>"
      ],
      "text/plain": [
       "                    association  C0000727  C0000731  C0000737  C0000768  \\\n",
       "drug_id disease_id                                                        \n",
       "DB00659 103780                1         0         1         0         0   \n",
       "DB01193 608622                1         0         1         1         0   \n",
       "\n",
       "                    C0000772  C0000786  C0000814  C0000832  C0000833  \\\n",
       "drug_id disease_id                                                     \n",
       "DB00659 103780             0         0         0         0         0   \n",
       "DB01193 608622             0         0         0         0         0   \n",
       "\n",
       "                      ...      DB01576   DB01577   DB01590   DB01623  \\\n",
       "drug_id disease_id    ...                                              \n",
       "DB00659 103780        ...     0.083333  0.131148  0.114458  0.120567   \n",
       "DB01193 608622        ...     0.189189  0.214286  0.183099  0.153846   \n",
       "\n",
       "                     DB02546   DB03904   DB04272   DB04844   DB04861   DB09026  \n",
       "drug_id disease_id                                                              \n",
       "DB00659 103780      0.162500  0.076923  0.067797  0.105263  0.107438  0.126984  \n",
       "DB01193 608622      0.344538  0.028302  0.101695  0.266272  0.456522  0.331210  \n",
       "\n",
       "[2 rows x 5800 columns]"
      ]
     },
     "execution_count": 9,
     "metadata": {},
     "output_type": "execute_result"
    }
   ],
   "source": [
    "sim_desc = desc_multi.join(sim)\n",
    "print len(sim_desc)\n",
    "sim_desc.head(2)"
   ]
  },
  {
   "cell_type": "code",
   "execution_count": 183,
   "metadata": {
    "collapsed": true
   },
   "outputs": [],
   "source": [
    "sim_desc.to_csv(\"/DAS_Storage1/aschoi/data/Drug_Repositioning/8_new_training/new_predict/feature_based/5_gold_strSim_descriptor.tsv\", sep='\\t')"
   ]
  },
  {
   "cell_type": "code",
   "execution_count": null,
   "metadata": {
    "collapsed": true
   },
   "outputs": [],
   "source": [
    "# mimMiner를 descriptor에 추가한다."
   ]
  },
  {
   "cell_type": "code",
   "execution_count": 185,
   "metadata": {
    "collapsed": true
   },
   "outputs": [],
   "source": [
    "miner.index.name = 'disease_id'"
   ]
  },
  {
   "cell_type": "code",
   "execution_count": 189,
   "metadata": {
    "collapsed": false
   },
   "outputs": [
    {
     "name": "stdout",
     "output_type": "stream",
     "text": [
      "99493\n"
     ]
    },
    {
     "data": {
      "text/html": [
       "<div>\n",
       "<table border=\"1\" class=\"dataframe\">\n",
       "  <thead>\n",
       "    <tr style=\"text-align: right;\">\n",
       "      <th></th>\n",
       "      <th></th>\n",
       "      <th>association</th>\n",
       "      <th>C0000727</th>\n",
       "      <th>C0000731</th>\n",
       "      <th>C0000737</th>\n",
       "      <th>C0000768</th>\n",
       "      <th>C0000772</th>\n",
       "      <th>C0000786</th>\n",
       "      <th>C0000814</th>\n",
       "      <th>C0000832</th>\n",
       "      <th>C0000833</th>\n",
       "      <th>...</th>\n",
       "      <th>173200</th>\n",
       "      <th>115195</th>\n",
       "      <th>256700</th>\n",
       "      <th>601608</th>\n",
       "      <th>194070</th>\n",
       "      <th>115300</th>\n",
       "      <th>277350</th>\n",
       "      <th>240400</th>\n",
       "      <th>206200</th>\n",
       "      <th>250790</th>\n",
       "    </tr>\n",
       "    <tr>\n",
       "      <th>drug_id</th>\n",
       "      <th>disease_id</th>\n",
       "      <th></th>\n",
       "      <th></th>\n",
       "      <th></th>\n",
       "      <th></th>\n",
       "      <th></th>\n",
       "      <th></th>\n",
       "      <th></th>\n",
       "      <th></th>\n",
       "      <th></th>\n",
       "      <th></th>\n",
       "      <th></th>\n",
       "      <th></th>\n",
       "      <th></th>\n",
       "      <th></th>\n",
       "      <th></th>\n",
       "      <th></th>\n",
       "      <th></th>\n",
       "      <th></th>\n",
       "      <th></th>\n",
       "      <th></th>\n",
       "      <th></th>\n",
       "    </tr>\n",
       "  </thead>\n",
       "  <tbody>\n",
       "    <tr>\n",
       "      <th>DB00659</th>\n",
       "      <th>103780</th>\n",
       "      <td>1</td>\n",
       "      <td>0</td>\n",
       "      <td>1</td>\n",
       "      <td>0</td>\n",
       "      <td>0</td>\n",
       "      <td>0</td>\n",
       "      <td>0</td>\n",
       "      <td>0</td>\n",
       "      <td>0</td>\n",
       "      <td>0</td>\n",
       "      <td>...</td>\n",
       "      <td>0.031407</td>\n",
       "      <td>0.150525</td>\n",
       "      <td>0.136234</td>\n",
       "      <td>0.160480</td>\n",
       "      <td>0.123310</td>\n",
       "      <td>0.178678</td>\n",
       "      <td>0.141056</td>\n",
       "      <td>0.200361</td>\n",
       "      <td>0.162371</td>\n",
       "      <td>0.187959</td>\n",
       "    </tr>\n",
       "    <tr>\n",
       "      <th>DB01193</th>\n",
       "      <th>608622</th>\n",
       "      <td>1</td>\n",
       "      <td>0</td>\n",
       "      <td>1</td>\n",
       "      <td>1</td>\n",
       "      <td>0</td>\n",
       "      <td>0</td>\n",
       "      <td>0</td>\n",
       "      <td>0</td>\n",
       "      <td>0</td>\n",
       "      <td>0</td>\n",
       "      <td>...</td>\n",
       "      <td>0.046228</td>\n",
       "      <td>0.168139</td>\n",
       "      <td>0.152600</td>\n",
       "      <td>0.033908</td>\n",
       "      <td>0.105949</td>\n",
       "      <td>0.217154</td>\n",
       "      <td>0.132708</td>\n",
       "      <td>0.169155</td>\n",
       "      <td>0.254315</td>\n",
       "      <td>0.107550</td>\n",
       "    </tr>\n",
       "  </tbody>\n",
       "</table>\n",
       "<p>2 rows × 5599 columns</p>\n",
       "</div>"
      ],
      "text/plain": [
       "                    association  C0000727  C0000731  C0000737  C0000768  \\\n",
       "drug_id disease_id                                                        \n",
       "DB00659 103780                1         0         1         0         0   \n",
       "DB01193 608622                1         0         1         1         0   \n",
       "\n",
       "                    C0000772  C0000786  C0000814  C0000832  C0000833  \\\n",
       "drug_id disease_id                                                     \n",
       "DB00659 103780             0         0         0         0         0   \n",
       "DB01193 608622             0         0         0         0         0   \n",
       "\n",
       "                      ...       173200    115195    256700    601608  \\\n",
       "drug_id disease_id    ...                                              \n",
       "DB00659 103780        ...     0.031407  0.150525  0.136234  0.160480   \n",
       "DB01193 608622        ...     0.046228  0.168139  0.152600  0.033908   \n",
       "\n",
       "                      194070    115300    277350    240400    206200    250790  \n",
       "drug_id disease_id                                                              \n",
       "DB00659 103780      0.123310  0.178678  0.141056  0.200361  0.162371  0.187959  \n",
       "DB01193 608622      0.105949  0.217154  0.132708  0.169155  0.254315  0.107550  \n",
       "\n",
       "[2 rows x 5599 columns]"
      ]
     },
     "execution_count": 189,
     "metadata": {},
     "output_type": "execute_result"
    }
   ],
   "source": [
    "miner_desc = desc_multi.join(miner)\n",
    "print len(miner_desc)\n",
    "miner_desc.head(2)"
   ]
  },
  {
   "cell_type": "code",
   "execution_count": 190,
   "metadata": {
    "collapsed": true
   },
   "outputs": [],
   "source": [
    "miner_desc.to_csv(\"/DAS_Storage1/aschoi/data/Drug_Repositioning/8_new_training/new_predict/feature_based/6_gold_mimMiner_descriptor.tsv\", sep='\\t')"
   ]
  },
  {
   "cell_type": "code",
   "execution_count": null,
   "metadata": {
    "collapsed": true
   },
   "outputs": [],
   "source": [
    "gold와 indep의 column 순서가 같은지 확인해봐야함. --> 같음"
   ]
  },
  {
   "cell_type": "code",
   "execution_count": null,
   "metadata": {
    "collapsed": true
   },
   "outputs": [],
   "source": [
    "# indep의 descriptor 만들기"
   ]
  },
  {
   "cell_type": "code",
   "execution_count": 11,
   "metadata": {
    "collapsed": false
   },
   "outputs": [],
   "source": [
    "path = \"/DAS_Storage1/aschoi/data/Drug_Repositioning/8_new_training/1_feature_based-Systematic/4_PREDICT_dataset_ver2/\"\n",
    "indep = pd.read_table(path+\"2_indep_descriptor.tsv\", index_col = [0,1])"
   ]
  },
  {
   "cell_type": "code",
   "execution_count": 318,
   "metadata": {
    "collapsed": false
   },
   "outputs": [
    {
     "name": "stdout",
     "output_type": "stream",
     "text": [
      "2399\n"
     ]
    },
    {
     "data": {
      "text/html": [
       "<div>\n",
       "<table border=\"1\" class=\"dataframe\">\n",
       "  <thead>\n",
       "    <tr style=\"text-align: right;\">\n",
       "      <th></th>\n",
       "      <th></th>\n",
       "      <th>association</th>\n",
       "      <th>C0000727</th>\n",
       "      <th>C0000731</th>\n",
       "      <th>C0000737</th>\n",
       "      <th>C0000768</th>\n",
       "      <th>C0000772</th>\n",
       "      <th>C0000786</th>\n",
       "      <th>C0000814</th>\n",
       "      <th>C0000832</th>\n",
       "      <th>C0000833</th>\n",
       "      <th>...</th>\n",
       "      <th>MACCS_157</th>\n",
       "      <th>MACCS_158</th>\n",
       "      <th>MACCS_159</th>\n",
       "      <th>MACCS_160</th>\n",
       "      <th>MACCS_161</th>\n",
       "      <th>MACCS_162</th>\n",
       "      <th>MACCS_163</th>\n",
       "      <th>MACCS_164</th>\n",
       "      <th>MACCS_165</th>\n",
       "      <th>MACCS_166</th>\n",
       "    </tr>\n",
       "    <tr>\n",
       "      <th>drug_id</th>\n",
       "      <th>disease_id</th>\n",
       "      <th></th>\n",
       "      <th></th>\n",
       "      <th></th>\n",
       "      <th></th>\n",
       "      <th></th>\n",
       "      <th></th>\n",
       "      <th></th>\n",
       "      <th></th>\n",
       "      <th></th>\n",
       "      <th></th>\n",
       "      <th></th>\n",
       "      <th></th>\n",
       "      <th></th>\n",
       "      <th></th>\n",
       "      <th></th>\n",
       "      <th></th>\n",
       "      <th></th>\n",
       "      <th></th>\n",
       "      <th></th>\n",
       "      <th></th>\n",
       "      <th></th>\n",
       "    </tr>\n",
       "  </thead>\n",
       "  <tbody>\n",
       "    <tr>\n",
       "      <th rowspan=\"2\" valign=\"top\">DB01200</th>\n",
       "      <th>102300</th>\n",
       "      <td>1</td>\n",
       "      <td>0</td>\n",
       "      <td>0</td>\n",
       "      <td>1</td>\n",
       "      <td>0</td>\n",
       "      <td>0</td>\n",
       "      <td>0</td>\n",
       "      <td>0</td>\n",
       "      <td>0</td>\n",
       "      <td>0</td>\n",
       "      <td>...</td>\n",
       "      <td>1</td>\n",
       "      <td>1</td>\n",
       "      <td>1</td>\n",
       "      <td>1</td>\n",
       "      <td>1</td>\n",
       "      <td>1</td>\n",
       "      <td>1</td>\n",
       "      <td>1</td>\n",
       "      <td>1</td>\n",
       "      <td>0</td>\n",
       "    </tr>\n",
       "    <tr>\n",
       "      <th>103780</th>\n",
       "      <td>0</td>\n",
       "      <td>0</td>\n",
       "      <td>0</td>\n",
       "      <td>1</td>\n",
       "      <td>0</td>\n",
       "      <td>0</td>\n",
       "      <td>0</td>\n",
       "      <td>0</td>\n",
       "      <td>0</td>\n",
       "      <td>0</td>\n",
       "      <td>...</td>\n",
       "      <td>1</td>\n",
       "      <td>1</td>\n",
       "      <td>1</td>\n",
       "      <td>1</td>\n",
       "      <td>1</td>\n",
       "      <td>1</td>\n",
       "      <td>1</td>\n",
       "      <td>1</td>\n",
       "      <td>1</td>\n",
       "      <td>0</td>\n",
       "    </tr>\n",
       "  </tbody>\n",
       "</table>\n",
       "<p>2 rows × 5532 columns</p>\n",
       "</div>"
      ],
      "text/plain": [
       "                    association  C0000727  C0000731  C0000737  C0000768  \\\n",
       "drug_id disease_id                                                        \n",
       "DB01200 102300                1         0         0         1         0   \n",
       "        103780                0         0         0         1         0   \n",
       "\n",
       "                    C0000772  C0000786  C0000814  C0000832  C0000833  \\\n",
       "drug_id disease_id                                                     \n",
       "DB01200 102300             0         0         0         0         0   \n",
       "        103780             0         0         0         0         0   \n",
       "\n",
       "                      ...      MACCS_157  MACCS_158  MACCS_159  MACCS_160  \\\n",
       "drug_id disease_id    ...                                                   \n",
       "DB01200 102300        ...              1          1          1          1   \n",
       "        103780        ...              1          1          1          1   \n",
       "\n",
       "                    MACCS_161  MACCS_162  MACCS_163  MACCS_164  MACCS_165  \\\n",
       "drug_id disease_id                                                          \n",
       "DB01200 102300              1          1          1          1          1   \n",
       "        103780              1          1          1          1          1   \n",
       "\n",
       "                    MACCS_166  \n",
       "drug_id disease_id             \n",
       "DB01200 102300              0  \n",
       "        103780              0  \n",
       "\n",
       "[2 rows x 5532 columns]"
      ]
     },
     "execution_count": 318,
     "metadata": {},
     "output_type": "execute_result"
    }
   ],
   "source": [
    "#indep의 mac descriptor\n",
    "mac_indep = indep.join(mac_fp) # index인 drug__id로 left join을 하게됨.\n",
    "print len(mac_indep)\n",
    "mac_indep.head(2)"
   ]
  },
  {
   "cell_type": "code",
   "execution_count": 319,
   "metadata": {
    "collapsed": false
   },
   "outputs": [
    {
     "data": {
      "text/plain": [
       "False"
      ]
     },
     "execution_count": 319,
     "metadata": {},
     "output_type": "execute_result"
    }
   ],
   "source": [
    "mac_indep.isnull().any().any()"
   ]
  },
  {
   "cell_type": "code",
   "execution_count": 320,
   "metadata": {
    "collapsed": true
   },
   "outputs": [],
   "source": [
    "mac_indep.to_csv(\"/DAS_Storage1/aschoi/data/Drug_Repositioning/8_new_training/new_predict/feature_based/3_2_indep_MACCS_descriptor.tsv\", sep='\\t')"
   ]
  },
  {
   "cell_type": "code",
   "execution_count": 303,
   "metadata": {
    "collapsed": false
   },
   "outputs": [
    {
     "name": "stdout",
     "output_type": "stream",
     "text": [
      "2399\n",
      "False\n"
     ]
    }
   ],
   "source": [
    "# indep의 fp2 descriptor\n",
    "fp2_indep = indep.join(fp2_fp) # index인 drug__id로 left join을 하게됨.\n",
    "print len(fp2_indep)\n",
    "print fp2_indep.isnull().any().any()\n",
    "fp2_indep.head(2)\n",
    "fp2_indep.to_csv(\"/DAS_Storage1/aschoi/data/Drug_Repositioning/8_new_training/new_predict/feature_based/4_2_indep_FP2_descriptor.tsv\", sep='\\t')"
   ]
  },
  {
   "cell_type": "code",
   "execution_count": 20,
   "metadata": {
    "collapsed": false
   },
   "outputs": [],
   "source": [
    "# indep의 structure sim descriptor \n",
    "#indep_sim = pd.read_table(\"/DAS_Storage1/aschoi/data/Drug_Repositioning/5_new_drug/new_predict/2_indep_drug_drug_str_sim_mat.tsv\", index_col = 0)\n",
    "indep_sim = pd.read_table(\"/DAS_Storage1/aschoi/data/Drug_Repositioning/5_new_drug/new_predict/2_2_2_indep_drug_gold_drug_str_sim_mat.tsv\", index_col = 0)"
   ]
  },
  {
   "cell_type": "code",
   "execution_count": 25,
   "metadata": {
    "collapsed": false
   },
   "outputs": [],
   "source": [
    "path = \"/DAS_Storage1/aschoi/data/Drug_Repositioning/8_new_training/1_feature_based-Systematic/4_PREDICT_dataset_ver2/2_similarity/Structure/\"\n",
    "sim_desc = pd.read_table(path + \"5_gold_strSim_descriptor.tsv\", index_col=[0,1])"
   ]
  },
  {
   "cell_type": "code",
   "execution_count": 21,
   "metadata": {
    "collapsed": false
   },
   "outputs": [
    {
     "name": "stdout",
     "output_type": "stream",
     "text": [
      "71\n",
      "434\n"
     ]
    }
   ],
   "source": [
    "indep_dr_id = indep_sim.index.tolist()\n",
    "gold_dr_id = sim.index.tolist()\n",
    "print len(indep_dr_id)\n",
    "print len(gold_dr_id)"
   ]
  },
  {
   "cell_type": "code",
   "execution_count": 43,
   "metadata": {
    "collapsed": false
   },
   "outputs": [
    {
     "data": {
      "text/plain": [
       "True"
      ]
     },
     "execution_count": 43,
     "metadata": {},
     "output_type": "execute_result"
    }
   ],
   "source": [
    "#gold의 column 순서와 indep의 column 순서가 같은지 확인\n",
    "indep_sim = indep_sim[sim.columns.values.tolist()]\n",
    "sim.columns.values.tolist() == indep_sim.columns.values.tolist()"
   ]
  },
  {
   "cell_type": "code",
   "execution_count": 50,
   "metadata": {
    "collapsed": false
   },
   "outputs": [
    {
     "name": "stdout",
     "output_type": "stream",
     "text": [
      "2399\n",
      "False\n",
      "True\n"
     ]
    }
   ],
   "source": [
    "sim_indep = indep.join(indep_sim)\n",
    "print len(sim_indep)\n",
    "print sim_indep.isnull().any().any()\n",
    "print sim_indep.columns.values.tolist() == sim_desc.columns.values.tolist()\n",
    "sim_indep.head(2)\n",
    "#sim_indep.to_csv(\"/DAS_Storage1/aschoi/data/Drug_Repositioning/8_new_training/new_predict/feature_based/5_2_indep_strSim_descriptor.tsv\", sep='\\t')\n",
    "sim_indep.to_csv(path + \"5_2_indep_strSim_descriptor.tsv\", sep='\\t')"
   ]
  },
  {
   "cell_type": "code",
   "execution_count": 196,
   "metadata": {
    "collapsed": false
   },
   "outputs": [
    {
     "name": "stdout",
     "output_type": "stream",
     "text": [
      "2399\n"
     ]
    }
   ],
   "source": [
    "# indep의 disease sim descriptor\n",
    "miner_indep = indep.join(miner)\n",
    "print len(miner_indep)\n",
    "miner_indep.head(2)\n",
    "miner_indep.to_csv(\"/DAS_Storage1/aschoi/data/Drug_Repositioning/8_new_training/new_predict/feature_based/6_2_indep_mimMiner_descriptor.tsv\", sep='\\t')"
   ]
  },
  {
   "cell_type": "code",
   "execution_count": null,
   "metadata": {
    "collapsed": true
   },
   "outputs": [],
   "source": []
  }
 ],
 "metadata": {
  "kernelspec": {
   "display_name": "Python 2",
   "language": "python",
   "name": "python2"
  },
  "language_info": {
   "codemirror_mode": {
    "name": "ipython",
    "version": 2
   },
   "file_extension": ".py",
   "mimetype": "text/x-python",
   "name": "python",
   "nbconvert_exporter": "python",
   "pygments_lexer": "ipython2",
   "version": "2.7.6"
  }
 },
 "nbformat": 4,
 "nbformat_minor": 2
}
