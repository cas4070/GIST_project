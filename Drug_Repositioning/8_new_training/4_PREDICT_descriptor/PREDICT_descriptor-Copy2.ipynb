{
 "cells": [
  {
   "cell_type": "code",
   "execution_count": 1,
   "metadata": {
    "collapsed": true
   },
   "outputs": [],
   "source": [
    "import numpy as np\n",
    "import os\n",
    "import pandas as pd\n",
    "import time\n",
    "from itertools import product\n",
    "import math"
   ]
  },
  {
   "cell_type": "code",
   "execution_count": 2,
   "metadata": {
    "collapsed": true
   },
   "outputs": [],
   "source": [
    "start = 1385601\n",
    "\n",
    "end = 1558801\n"
   ]
  },
  {
   "cell_type": "code",
   "execution_count": 3,
   "metadata": {
    "collapsed": false
   },
   "outputs": [
    {
     "name": "stdout",
     "output_type": "stream",
     "text": [
      "1316\n",
      "96546\n",
      "start : Tue 02:08:36\n",
      "end : Tue 02:08:36\n",
      "1731856\n",
      "start : Tue 02:08:36\n",
      "10000 : Tue 02:13:15\n",
      "20000 : Tue 02:17:54\n",
      "30000 : Tue 02:22:37\n",
      "40000 : Tue 02:27:24\n",
      "50000 : Tue 02:32:14\n",
      "60000 : Tue 02:37:09\n",
      "70000 : Tue 02:42:06\n",
      "80000 : Tue 02:47:05\n",
      "90000 : Tue 02:52:07\n",
      "100000 : Tue 02:57:12\n",
      "110000 : Tue 03:02:19\n",
      "120000 : Tue 03:07:29\n",
      "130000 : Tue 03:12:41\n",
      "140000 : Tue 03:17:32\n",
      "150000 : Tue 03:21:54\n",
      "160000 : Tue 03:26:18\n",
      "170000 : Tue 03:30:48\n",
      "end : Tue 03:32:10\n",
      "173069\n",
      "(173069, 7)\n"
     ]
    }
   ],
   "source": [
    "# positive descriptor\n",
    "df_disease_sim = pd.read_table(\"/DAS_Storage1/aschoi/data/Drug_Repositioning/6_new_disease/new_predict/1_disease_disease_whole_sim.tsv\")\n",
    "df_drug_sim = pd.read_table(\"/DAS_Storage1/aschoi/data/Drug_Repositioning/5_new_drug/new_predict/1_drug_drug_whole_sim.tsv\")\n",
    "new_asso = pd.read_table(\"/DAS_Storage1/aschoi/data/Drug_Repositioning/7_new_association/new_predict/1_gold_learning_asso.tsv\")\n",
    "\n",
    "pos = new_asso[new_asso.association == 1]\n",
    "neg = new_asso[new_asso.association == 0]\n",
    "print len(pos)\n",
    "print len(neg)\n",
    "\n",
    "'''asso_li = list()\n",
    "for index, row in new_asso.iterrows():\n",
    "    query_drug = row['drug']\n",
    "    query_disease = row['disease']\n",
    "    query_asso = row['association']\n",
    "    asso_li.append((query_drug, query_disease, query_asso))'''\n",
    "    \n",
    "pos_li = list()\n",
    "for index2, row2 in pos.iterrows():\n",
    "    pos_drug = row2['drug_id']\n",
    "    pos_disease = row2['disease_id']\n",
    "    pos_li.append((pos_drug, pos_disease)) \n",
    "print 'start : ' + time.strftime('%a %H:%M:%S')\n",
    "pos_desc_pair = list(product(pos_li, pos_li))\n",
    "print 'end : ' + time.strftime('%a %H:%M:%S')\n",
    "\n",
    "pos_descriptor = pd.DataFrame()\n",
    "cnt = 0\n",
    "print len(pos_desc_pair)\n",
    "print 'start : ' + time.strftime('%a %H:%M:%S')\n",
    "for pair in pos_desc_pair[start:end]:\n",
    "    query_drug = pair[0][0]\n",
    "    query_disease = pair[0][1]\n",
    "    #query_asso = pair[0][2]\n",
    "    pos_drug = pair[1][0]\n",
    "    pos_disease = pair[1][1]\n",
    "    if (query_drug == pos_drug) & (query_disease == pos_disease):\n",
    "            continue\n",
    "    else:\n",
    "        found_drug = df_drug_sim[(df_drug_sim.DrugBank_ID1 == query_drug) & (df_drug_sim.DrugBank_ID2 == pos_drug)]\n",
    "        drug_cheSim = found_drug['CheSim'].values[0]\n",
    "        drug_pheSim = found_drug['PheSim'].values[0]\n",
    "    \n",
    "        found_disease = df_disease_sim[(df_disease_sim.Disease_ID1 == query_disease) & (df_disease_sim.Disease_ID2 == pos_disease)]\n",
    "        disease_pheSim = found_disease['PheSim'].values[0]\n",
    "        disease_geSim = found_disease['GeSim'].values[0]\n",
    "    \n",
    "        drug_sim = [drug_cheSim, drug_pheSim]\n",
    "        disease_sim = [disease_geSim, disease_pheSim]\n",
    "        \n",
    "        sim = [math.sqrt(x[0]*x[1]) for x in list(product(drug_sim, disease_sim))]\n",
    "        temp_df = pd.DataFrame(data = [[query_drug, query_disease, 1, sim[0], sim[1], sim[2], sim[3]]],\n",
    "                           columns=['drug', 'disease', 'association', 'DrChe_DiGe', 'DrChe_DiPhe', 'DrPhe_DiGe', 'DrPhe_DiPhe'])\n",
    "        pos_descriptor = pos_descriptor.append(temp_df)\n",
    "        cnt = cnt +1\n",
    "        if cnt % 10000 == 0:\n",
    "            print \"{} : \".format(cnt) + time.strftime('%a %H:%M:%S')\n",
    "print 'end : ' + time.strftime('%a %H:%M:%S')\n",
    "print cnt\n",
    "print pos_descriptor.shape\n",
    "\n",
    "pos_descriptor.to_csv(\"/DAS_Storage1/aschoi/data/Drug_Repositioning/8_new_training/new_predict/predict_descriptor_{}_{}.tsv\".format(start, end-1),\n",
    "                  sep = '\\t', index=False)"
   ]
  },
  {
   "cell_type": "code",
   "execution_count": null,
   "metadata": {
    "collapsed": true
   },
   "outputs": [],
   "source": []
  },
  {
   "cell_type": "code",
   "execution_count": null,
   "metadata": {
    "collapsed": true
   },
   "outputs": [],
   "source": []
  },
  {
   "cell_type": "code",
   "execution_count": null,
   "metadata": {
    "collapsed": false
   },
   "outputs": [
    {
     "name": "stdout",
     "output_type": "stream",
     "text": [
      "1397\n",
      "105763\n",
      "start : Mon 23:41:24\n",
      "end : Mon 23:41:36\n",
      "start : Mon 23:41:36\n",
      "1000 : Mon 23:42:03\n",
      "2000 : Mon 23:42:30\n",
      "3000 : Mon 23:42:57\n"
     ]
    }
   ],
   "source": [
    "#처음 PREDICT 했을 때.\n",
    "df_disease_sim = pd.read_table(\"/DAS_Storage1/aschoi/data/Drug_Repositioning/6_new_disease/9_gold_disease_similarity_whole.tsv\")\n",
    "df_drug_sim = pd.read_table(\"/DAS_Storage1/aschoi/data/Drug_Repositioning/5_new_drug/9_gold_drug_similarity_whole.tsv\")\n",
    "new_asso = pd.read_table(\"/DAS_Storage1/aschoi/data/Drug_Repositioning/7_new_association/10_PREDICT_association.tsv\")\n",
    "\n",
    "pos = new_asso[new_asso.association == 1]\n",
    "neg = new_asso[new_asso.association == 0]\n",
    "print len(pos)\n",
    "print len(neg)\n",
    "\n",
    "new_asso_li = list()\n",
    "for index, row in new_asso.iterrows():\n",
    "    query_drug = row['drug']\n",
    "    query_disease = row['disease']\n",
    "    query_asso = row['association']\n",
    "    new_asso_li.append((query_drug, query_disease, query_asso))\n",
    "    \n",
    "new_pos_li = list()\n",
    "for index2, row2 in pos.iterrows():\n",
    "    pos_drug = row2['drug']\n",
    "    pos_disease = row2['disease']\n",
    "    new_pos_li.append((pos_drug, pos_disease)) \n",
    "print 'start : ' + time.strftime('%a %H:%M:%S')\n",
    "desc_pair = list(product(new_asso_li, new_pos_li))\n",
    "print 'end : ' + time.strftime('%a %H:%M:%S')\n",
    "\n",
    "descriptor = pd.DataFrame()\n",
    "cnt = 0\n",
    "print 'start : ' + time.strftime('%a %H:%M:%S')\n",
    "for pair in desc_pair[start:end]:\n",
    "    query_drug = pair[0][0]\n",
    "    query_disease = pair[0][1]\n",
    "    query_asso = pair[0][2]\n",
    "    pos_drug = pair[1][0]\n",
    "    pos_disease = pair[1][1]\n",
    "    if (query_drug == pos_drug) & (query_disease == pos_disease):\n",
    "            continue\n",
    "    else:\n",
    "        found_drug = df_drug_sim[(df_drug_sim.DrugBank_ID1 == query_drug) & (df_drug_sim.DrugBank_ID2 == pos_drug)]\n",
    "        drug_cheSim = found_drug['CheSim'].values[0]\n",
    "        drug_pheSim = found_drug['PheSim'].values[0]\n",
    "    \n",
    "        found_disease = df_disease_sim[(df_disease_sim.Disease_ID1 == query_disease) & (df_disease_sim.Disease_ID2 == pos_disease)]\n",
    "        disease_pheSim = found_disease['PheSim'].values[0]\n",
    "        disease_geSim = found_disease['GeSim'].values[0]\n",
    "    \n",
    "        drug_sim = [drug_cheSim, drug_pheSim]\n",
    "        disease_sim = [disease_geSim, disease_pheSim]\n",
    "        \n",
    "        sim = [math.sqrt(x[0]*x[1]) for x in list(product(drug_sim, disease_sim))]\n",
    "        temp_df = pd.DataFrame(data = [[query_drug, query_disease, query_asso, sim[0], sim[1], sim[2], sim[3]]],\n",
    "                           columns=['drug', 'disease', 'association', 'DrChe_DiGe', 'DrChe_DiPhe', 'DrPhe_DiGe', 'DrPhe_DiPhe'])\n",
    "        descriptor = descriptor.append(temp_df)\n",
    "        cnt = cnt +1\n",
    "        if cnt % 1000 == 0:\n",
    "            print \"{} : \".format(cnt) + time.strftime('%a %H:%M:%S')\n",
    "print 'end : ' + time.strftime('%a %H:%M:%S')\n",
    "print cnt\n",
    "print descriptor.shape\n",
    "\n",
    "descriptor.to_csv(\"/DAS_Storage1/aschoi/data/Drug_Repositioning/8_new_training/5_PREDICT_descriptor/predict_descriptor_{}_{}.tsv\".format(start, end-1),\n",
    "                  sep = '\\t', index=False)"
   ]
  },
  {
   "cell_type": "code",
   "execution_count": null,
   "metadata": {
    "collapsed": true
   },
   "outputs": [],
   "source": []
  },
  {
   "cell_type": "code",
   "execution_count": null,
   "metadata": {
    "collapsed": true
   },
   "outputs": [],
   "source": []
  },
  {
   "cell_type": "code",
   "execution_count": null,
   "metadata": {
    "collapsed": true
   },
   "outputs": [],
   "source": []
  },
  {
   "cell_type": "code",
   "execution_count": null,
   "metadata": {
    "collapsed": true
   },
   "outputs": [],
   "source": []
  },
  {
   "cell_type": "code",
   "execution_count": null,
   "metadata": {
    "collapsed": true
   },
   "outputs": [],
   "source": []
  },
  {
   "cell_type": "code",
   "execution_count": null,
   "metadata": {
    "collapsed": false
   },
   "outputs": [],
   "source": [
    "#### disease similarities 합치는 과정\n",
    "#disease_ph = pd.read_table(\"/DAS_Storage1/aschoi/data/Drug_Repositioning/6_new_disease/9_gold_disease_similarity_mimminerc.tsv\", index_col=0)\n",
    "#disease_ge = pd.read_table(\"/DAS_Storage1/aschoi/data/Drug_Repositioning/6_new_disease/9_gold_disease_similarity_genetic.tsv\")\n",
    "#disease_ph2 = pd.DataFrame()\n",
    "#for i in disease_ph.columns.values:\n",
    "#    for j in disease_ph.index.values:\n",
    "#        temp_df = pd.DataFrame(data = [[int(i), int(j), disease_ph[[i]].loc[j].values[0]]], columns = ['Disease_ID1', 'Disease_ID2', 'Similarity_Score'] )\n",
    "#        disease_ph2 = disease_ph2.append(temp_df)\n",
    "#df_disease_sim = pd.merge(left = disease_ph2, right= disease_ge, left_on = ['Disease_ID1', 'Disease_ID2'], right_on = ['Disease_ID1', 'Disease_ID2'])\n",
    "#df_disease_sim.to_csv(\"/home/share/aschoi/nas/users/asolchoi/data/Drug_Repositioning/6_new_disease/9_gold_disease_similarity_whole.tsv\", sep='\\t', index=False)\n",
    "#df_disease_sim.to_csv(\"/DAS_Storage1/aschoi/data/Drug_Repositioning/6_new_disease/9_gold_disease_similarity_whole.tsv\", sep='\\t', index=False)\n",
    "#df_disease_sim = df_disease_sim.rename(columns = {'Similarity_Score_x':'PheSim', 'Similarity_Score_y':'GeSim'})\n",
    "df_disease_sim = pd.read_table(\"/DAS_Storage1/aschoi/data/Drug_Repositioning/6_new_disease/9_gold_disease_similarity_whole.tsv\")"
   ]
  },
  {
   "cell_type": "code",
   "execution_count": null,
   "metadata": {
    "collapsed": true
   },
   "outputs": [],
   "source": [
    "#### drug similarities 합치는 과정\n",
    "#drug_ch = pd.read_table(\"/DAS_Storage1/aschoi/data/Drug_Repositioning/5_new_drug/9_gold_drug_similarity_structure.tsv\")\n",
    "#drug_ph = pd.read_table(\"/DAS_Storage1/aschoi/data/Drug_Repositioning/5_new_drug/9_gold_drug_similarity_phenotype.tsv\")\n",
    "#df_drug_sim = pd.merge(left = drug_ch, right= drug_ph, left_on = ['DrugBank_ID1', 'DrugBank_ID2'], right_on = ['DrugBank_ID1', 'DrugBank_ID2'])\n",
    "#df_drug_sim = df_drug_sim.rename(columns = {'Similarity_Score_x' : 'CheSim', 'Similarity_Score_y':'PheSim'})\n",
    "#df_drug_sim.to_csv(\"/home/share/aschoi/nas/users/asolchoi/data/Drug_Repositioning/5_new_drug/9_gold_drug_similarity_whole.tsv\", index=False, sep='\\t')\n",
    "#df_drug_sim.to_csv(\"/DAS_Storage1/aschoi/data/Drug_Repositioning/5_new_drug/9_gold_drug_similarity_whole.tsv\", index=False, sep='\\t')\n",
    "df_drug_sim = pd.read_table(\"/DAS_Storage1/aschoi/data/Drug_Repositioning/5_new_drug/9_gold_drug_similarity_whole.tsv\")"
   ]
  },
  {
   "cell_type": "code",
   "execution_count": null,
   "metadata": {
    "collapsed": true
   },
   "outputs": [],
   "source": [
    "#### PREDICT용 새로운 association\n",
    "#asso = pd.read_table(\"/DAS_Storage1/aschoi/data/Drug_Repositioning/7_new_association/9_gold_learning_association.tsv\")\n",
    "#new_asso = asso[asso['drug'].isin(df_drug_sim['DrugBank_ID1'].drop_duplicates())]\n",
    "#new_asso.index = range(len(new_asso))\n",
    "#new_asso.to_csv(\"/home/share/aschoi/nas/users/asolchoi/data/Drug_Repositioning/7_new_association/10_PREDICT_association.tsv\", sep='\\t', index=False)\n",
    "#new_asso.to_csv(\"/DAS_Storage1/aschoi/data/Drug_Repositioning/7_new_association/10_PREDICT_association.tsv\", sep='\\t', index=False)\n",
    "new_asso = pd.read_table(\"/DAS_Storage1/aschoi/data/Drug_Repositioning/7_new_association/10_PREDICT_association.tsv\")"
   ]
  },
  {
   "cell_type": "code",
   "execution_count": null,
   "metadata": {
    "collapsed": false
   },
   "outputs": [],
   "source": [
    "print len(df_drug_sim)\n",
    "df_drug_sim.head(1)"
   ]
  },
  {
   "cell_type": "code",
   "execution_count": null,
   "metadata": {
    "collapsed": false,
    "scrolled": true
   },
   "outputs": [],
   "source": [
    "print len(df_disease_sim)\n",
    "df_disease_sim.head(1)"
   ]
  },
  {
   "cell_type": "code",
   "execution_count": null,
   "metadata": {
    "collapsed": false
   },
   "outputs": [],
   "source": [
    "print len(new_asso)\n",
    "new_asso.head(1)"
   ]
  },
  {
   "cell_type": "code",
   "execution_count": null,
   "metadata": {
    "collapsed": false
   },
   "outputs": [],
   "source": [
    "pos = new_asso[new_asso.association == 1]\n",
    "neg = new_asso[new_asso.association == 0]\n",
    "print len(pos)\n",
    "print len(neg)"
   ]
  },
  {
   "cell_type": "code",
   "execution_count": null,
   "metadata": {
    "collapsed": false
   },
   "outputs": [],
   "source": [
    "new_asso_li = list()\n",
    "for index, row in new_asso.iterrows():\n",
    "    query_drug = row['drug']\n",
    "    query_disease = row['disease']\n",
    "    query_asso = row['association']\n",
    "    new_asso_li.append((query_drug, query_disease, query_asso))"
   ]
  },
  {
   "cell_type": "code",
   "execution_count": null,
   "metadata": {
    "collapsed": false
   },
   "outputs": [],
   "source": [
    "new_pos_li = list()\n",
    "for index2, row2 in pos.iterrows():\n",
    "    pos_drug = row2['drug']\n",
    "    pos_disease = row2['disease']\n",
    "    new_pos_li.append((pos_drug, pos_disease)) "
   ]
  },
  {
   "cell_type": "code",
   "execution_count": null,
   "metadata": {
    "collapsed": false
   },
   "outputs": [],
   "source": [
    "print 'start : ' + time.strftime('%a %H:%M:%S')\n",
    "desc_pair = list(product(new_asso_li, new_pos_li))\n",
    "print 'end : ' + time.strftime('%a %H:%M:%S')"
   ]
  },
  {
   "cell_type": "code",
   "execution_count": null,
   "metadata": {
    "collapsed": false
   },
   "outputs": [],
   "source": [
    "print len(desc_pair)\n",
    "desc_pair[1395:1399]"
   ]
  },
  {
   "cell_type": "code",
   "execution_count": null,
   "metadata": {
    "collapsed": false
   },
   "outputs": [],
   "source": [
    "descriptor = pd.DataFrame()\n",
    "cnt = 0\n",
    "print 'start : ' + time.strftime('%a %H:%M:%S')\n",
    "for pair in desc_pair:\n",
    "    query_drug = pair[0][0]\n",
    "    query_disease = pair[0][1]\n",
    "    query_asso = pair[0][2]\n",
    "    pos_drug = pair[1][0]\n",
    "    pos_disease = pair[1][1]\n",
    "    if (query_drug == pos_drug) & (query_disease == pos_disease):\n",
    "            continue\n",
    "    else:\n",
    "        found_drug = df_drug_sim[(df_drug_sim.DrugBank_ID1 == query_drug) & (df_drug_sim.DrugBank_ID2 == pos_drug)]\n",
    "        drug_cheSim = found_drug['CheSim'].values[0]\n",
    "        drug_pheSim = found_drug['PheSim'].values[0]\n",
    "    \n",
    "        found_disease = df_disease_sim[(df_disease_sim.Disease_ID1 == query_disease) & (df_disease_sim.Disease_ID2 == pos_disease)]\n",
    "        disease_pheSim = found_disease['PheSim'].values[0]\n",
    "        disease_geSim = found_disease['GeSim'].values[0]\n",
    "    \n",
    "        drug_sim = [drug_cheSim, drug_pheSim]\n",
    "        disease_sim = [disease_geSim, disease_pheSim]\n",
    "        \n",
    "        sim = [math.sqrt(x[0]*x[1]) for x in list(product(drug_sim, disease_sim))]\n",
    "        temp_df = pd.DataFrame(data = [[query_drug, query_disease, query_asso, sim[0], sim[1], sim[2], sim[3]]],\n",
    "                           columns=['drug', 'disease', 'association', 'DrChe_DiGe', 'DrChe_DiPhe', 'DrPhe_DiGe', 'DrPhe_DiPhe'])\n",
    "        descriptor = descriptor.append(temp_df)\n",
    "        cnt = cnt +1\n",
    "        if cnt % 1000 == 0:\n",
    "            print \"{} : \".format(cnt) + time.strftime('%a %H:%M:%S')\n",
    "print 'end : ' + time.strftime('%a %H:%M:%S')"
   ]
  },
  {
   "cell_type": "code",
   "execution_count": null,
   "metadata": {
    "collapsed": true
   },
   "outputs": [],
   "source": []
  },
  {
   "cell_type": "code",
   "execution_count": null,
   "metadata": {
    "collapsed": true
   },
   "outputs": [],
   "source": []
  },
  {
   "cell_type": "code",
   "execution_count": null,
   "metadata": {
    "collapsed": true
   },
   "outputs": [],
   "source": []
  },
  {
   "cell_type": "code",
   "execution_count": null,
   "metadata": {
    "collapsed": true
   },
   "outputs": [],
   "source": []
  },
  {
   "cell_type": "code",
   "execution_count": null,
   "metadata": {
    "collapsed": true
   },
   "outputs": [],
   "source": []
  },
  {
   "cell_type": "code",
   "execution_count": null,
   "metadata": {
    "collapsed": true
   },
   "outputs": [],
   "source": []
  },
  {
   "cell_type": "code",
   "execution_count": null,
   "metadata": {
    "collapsed": true
   },
   "outputs": [],
   "source": []
  },
  {
   "cell_type": "code",
   "execution_count": null,
   "metadata": {
    "collapsed": true
   },
   "outputs": [],
   "source": []
  },
  {
   "cell_type": "code",
   "execution_count": null,
   "metadata": {
    "collapsed": true
   },
   "outputs": [],
   "source": []
  },
  {
   "cell_type": "code",
   "execution_count": null,
   "metadata": {
    "collapsed": false
   },
   "outputs": [],
   "source": [
    "descriptor = pd.DataFrame()\n",
    "cnt = 0\n",
    "print 'start : ' + time.strftime('%a %H:%M:%S')\n",
    "bef_descriptor = list()\n",
    "for index, row in new_asso.iterrows(): # all association\n",
    "    print time.strftime('%a %H:%M:%S')\n",
    "    query_drug = row['drug']\n",
    "    query_disease = row['disease']\n",
    "    query_asso = row['association']\n",
    "    similarities = list()\n",
    "    for index2, row2, in pos.iterrows(): # known association\n",
    "        pos_drug = row2['drug']\n",
    "        pos_disease = row2['disease']\n",
    "        if (query_drug == pos_drug) & (query_disease == pos_disease):\n",
    "            continue\n",
    "        else:\n",
    "            drug_cheSim = drug_ch[(drug_ch.DrugBank_ID1 == query_drug) & (drug_ch.DrugBank_ID2 == pos_drug)]['Similarity_Score']\n",
    "            drug_pheSim = drug_ph[(drug_ph.DrugBank_ID1 == query_drug) & (drug_ph.DrugBank_ID2 == pos_drug)]['Similarity_Score']\n",
    "            disease_pheSim = disease_ph[[str(query_disease)]].loc[pos_disease]\n",
    "            disease_geSim = disease_ge[(disease_ge.Disease_ID1 == query_disease) & (disease_ge.Disease_ID2 == pos_disease)]['Similarity_Score']\n",
    "            drug_sim = [drug_cheSim.values[0], drug_pheSim.values[0]]\n",
    "            disease_sim = [disease_geSim.values[0], disease_pheSim.values[0]]\n",
    "            similarities.append([drug_sim, disease_sim])\n",
    "            #similarities.append([math.sqrt(x[0]*x[1]) for x in list(product(drug_sim, disease_sim))])\n",
    "    bef_descriptor.append(similarities)    \n",
    "    cnt = cnt + 1\n",
    "    print time.strftime('%a %H:%M:%S')\n",
    "    if cnt % 1000 == 0 :\n",
    "        print \"cnt : {} \".format(cnt) + time.strftime('%a %H:%M:%S')\n",
    "print 'end : ' + time.strftime('%a %H:%M:%S')"
   ]
  },
  {
   "cell_type": "code",
   "execution_count": null,
   "metadata": {
    "collapsed": false
   },
   "outputs": [],
   "source": [
    "print query_disease\n",
    "print pos_disease\n",
    "print disease_ph[[str(query_disease)]].loc[pos_disease]"
   ]
  },
  {
   "cell_type": "code",
   "execution_count": null,
   "metadata": {
    "collapsed": false
   },
   "outputs": [],
   "source": [
    "cnt = 0\n",
    "print time.strftime('%a %H:%M:%S')\n",
    "bef_descriptor = list()\n",
    "for index, row in new_asso.iterrows(): # all association\n",
    "    query_drug = row['drug']\n",
    "    query_disease = row['disease']\n",
    "    query_asso = row['association']\n",
    "    similarities = list()\n",
    "    print time.strftime('%a %H:%M:%S')\n",
    "    for index2, row2, in pos.iterrows(): # known association\n",
    "        pos_drug = row2['drug']\n",
    "        pos_disease = row2['disease']\n",
    "        if (query_drug == pos_drug) & (query_disease == pos_disease):\n",
    "            continue\n",
    "        else:\n",
    "            drug_cheSim = drug_ch[(drug_ch.DrugBank_ID1 == query_drug) & (drug_ch.DrugBank_ID2 == pos_drug)]['Similarity_Score']\n",
    "            drug_pheSim = drug_ph[(drug_ph.DrugBank_ID1 == query_drug) & (drug_ph.DrugBank_ID2 == pos_drug)]['Similarity_Score']\n",
    "            disease_pheSim = disease_ph[[str(query_disease)]].loc[pos_disease]\n",
    "            disease_geSim = disease_ge[(disease_ge.Disease_ID1 == query_disease) & (disease_ge.Disease_ID2 == pos_disease)]['Similarity_Score']\n",
    "            drug_sim = [drug_cheSim.values[0], drug_pheSim.values[0]]\n",
    "            disease_sim = [disease_geSim.values[0], disease_pheSim.values[0]]\n",
    "            similarities.append([math.sqrt(x[0]*x[1]) for x in list(product(drug_sim, disease_sim))])\n",
    "\n",
    "    bef_descriptor.append(similarities)\n",
    "    print time.strftime('%a %H:%M:%S')\n",
    "    break\n",
    "    cnt = cnt + 1\n",
    "    if cnt % 1000 == 0 :\n",
    "        print \"cnt : {} \".format(cnt) + time.strftime('%a %H:%M:%S')\n",
    "print time.strftime('%a %H:%M:%S')"
   ]
  },
  {
   "cell_type": "code",
   "execution_count": null,
   "metadata": {
    "collapsed": false
   },
   "outputs": [],
   "source": [
    "cnt"
   ]
  },
  {
   "cell_type": "code",
   "execution_count": null,
   "metadata": {
    "collapsed": true
   },
   "outputs": [],
   "source": []
  }
 ],
 "metadata": {
  "kernelspec": {
   "display_name": "Python 2",
   "language": "python",
   "name": "python2"
  },
  "language_info": {
   "codemirror_mode": {
    "name": "ipython",
    "version": 2
   },
   "file_extension": ".py",
   "mimetype": "text/x-python",
   "name": "python",
   "nbconvert_exporter": "python",
   "pygments_lexer": "ipython2",
   "version": "2.7.6"
  }
 },
 "nbformat": 4,
 "nbformat_minor": 1
}
