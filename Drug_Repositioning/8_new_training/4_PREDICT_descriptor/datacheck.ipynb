{
 "cells": [
  {
   "cell_type": "code",
   "execution_count": 19,
   "metadata": {
    "collapsed": true
   },
   "outputs": [],
   "source": [
    "import pandas as pd\n",
    "import numpy as np\n",
    "from datetime import datetime"
   ]
  },
  {
   "cell_type": "code",
   "execution_count": 20,
   "metadata": {
    "collapsed": true
   },
   "outputs": [],
   "source": [
    "gold = pd.read_table(\"/DAS_Storage1/aschoi/data/Drug_Repositioning/8_new_training/new_predict/2_3_gold_descriptor.tsv\")\n",
    "indep = pd.read_table(\"/DAS_Storage1/aschoi/data/Drug_Repositioning/8_new_training/new_predict/3_2_indep_descriptor.tsv\")"
   ]
  },
  {
   "cell_type": "code",
   "execution_count": 21,
   "metadata": {
    "collapsed": false
   },
   "outputs": [
    {
     "data": {
      "text/html": [
       "<div>\n",
       "<table border=\"1\" class=\"dataframe\">\n",
       "  <thead>\n",
       "    <tr style=\"text-align: right;\">\n",
       "      <th></th>\n",
       "      <th>drug_id</th>\n",
       "      <th>disease_id</th>\n",
       "      <th>association</th>\n",
       "      <th>drStr_diGe</th>\n",
       "      <th>drStr_diPhe</th>\n",
       "      <th>drPhe_diGe</th>\n",
       "      <th>drPhe_diPhe</th>\n",
       "    </tr>\n",
       "  </thead>\n",
       "  <tbody>\n",
       "    <tr>\n",
       "      <th>0</th>\n",
       "      <td>DB00114</td>\n",
       "      <td>102300</td>\n",
       "      <td>0</td>\n",
       "      <td>0.983534</td>\n",
       "      <td>0.429415</td>\n",
       "      <td>0.983534</td>\n",
       "      <td>0.943927</td>\n",
       "    </tr>\n",
       "  </tbody>\n",
       "</table>\n",
       "</div>"
      ],
      "text/plain": [
       "   drug_id  disease_id  association  drStr_diGe  drStr_diPhe  drPhe_diGe  \\\n",
       "0  DB00114      102300            0    0.983534     0.429415    0.983534   \n",
       "\n",
       "   drPhe_diPhe  \n",
       "0     0.943927  "
      ]
     },
     "execution_count": 21,
     "metadata": {},
     "output_type": "execute_result"
    }
   ],
   "source": [
    "gold.head(1)"
   ]
  },
  {
   "cell_type": "code",
   "execution_count": 22,
   "metadata": {
    "collapsed": false
   },
   "outputs": [
    {
     "data": {
      "text/plain": [
       "drug1           DB01620\n",
       "disease1         607850\n",
       "association           0\n",
       "drStr_diGe     0.979048\n",
       "drStr_diPhe    0.546869\n",
       "drPhe_diGe     0.979356\n",
       "drPhe_diPhe    0.979356\n",
       "Name: 2398, dtype: object"
      ]
     },
     "execution_count": 22,
     "metadata": {},
     "output_type": "execute_result"
    }
   ],
   "source": [
    "row"
   ]
  },
  {
   "cell_type": "code",
   "execution_count": 33,
   "metadata": {
    "collapsed": false
   },
   "outputs": [
    {
     "name": "stdout",
     "output_type": "stream",
     "text": [
      "2399\n",
      "start : 2017-04-14 16:45:10\n",
      "cnt : 1000 : 2017-04-14 16:45:16\n",
      "cnt : 2000 : 2017-04-14 16:45:23\n",
      "end : 2017-04-14 16:45:26\n"
     ]
    }
   ],
   "source": [
    "temp = pd.DataFrame()\n",
    "cnt = 0\n",
    "print len(indep)\n",
    "print 'start : ' + datetime.now().strftime('%Y-%m-%d %H:%M:%S')\n",
    "for index, row in indep.iterrows():\n",
    "    dr_id = row['drug_id']\n",
    "    di_id = row['disease_id']\n",
    "    found = gold[(gold.drug_id == dr_id) & (gold.disease_id == di_id)]\n",
    "    if len(found) != 0:\n",
    "        temp = temp.append(found)\n",
    "    cnt = cnt + 1\n",
    "    if cnt % 1000 == 0:\n",
    "        print \"cnt : {} : \".format(cnt) + datetime.now().strftime('%Y-%m-%d %H:%M:%S')\n",
    "print 'end : ' + datetime.now().strftime('%Y-%m-%d %H:%M:%S')"
   ]
  },
  {
   "cell_type": "code",
   "execution_count": 25,
   "metadata": {
    "collapsed": true
   },
   "outputs": [],
   "source": [
    "prev_indep = pd.read_table(\"/DAS_Storage1/aschoi/data/Drug_Repositioning/8_new_training/PREDICT_data/2_2_indep_descriptor.tsv\")"
   ]
  },
  {
   "cell_type": "code",
   "execution_count": 27,
   "metadata": {
    "collapsed": false
   },
   "outputs": [
    {
     "data": {
      "text/html": [
       "<div>\n",
       "<table border=\"1\" class=\"dataframe\">\n",
       "  <thead>\n",
       "    <tr style=\"text-align: right;\">\n",
       "      <th></th>\n",
       "      <th>drug_id</th>\n",
       "      <th>disease_id</th>\n",
       "      <th>association</th>\n",
       "      <th>C0000727</th>\n",
       "      <th>C0000731</th>\n",
       "      <th>C0000737</th>\n",
       "      <th>C0000768</th>\n",
       "      <th>C0000772</th>\n",
       "      <th>C0000786</th>\n",
       "      <th>C0000814</th>\n",
       "      <th>...</th>\n",
       "      <th>387585</th>\n",
       "      <th>388165</th>\n",
       "      <th>55219</th>\n",
       "      <th>55973</th>\n",
       "      <th>65264</th>\n",
       "      <th>80350</th>\n",
       "      <th>84624</th>\n",
       "      <th>84722</th>\n",
       "      <th>91851</th>\n",
       "      <th>406216</th>\n",
       "    </tr>\n",
       "  </thead>\n",
       "  <tbody>\n",
       "    <tr>\n",
       "      <th>0</th>\n",
       "      <td>DB01200</td>\n",
       "      <td>102300</td>\n",
       "      <td>1</td>\n",
       "      <td>0</td>\n",
       "      <td>0</td>\n",
       "      <td>1</td>\n",
       "      <td>0</td>\n",
       "      <td>0</td>\n",
       "      <td>0</td>\n",
       "      <td>0</td>\n",
       "      <td>...</td>\n",
       "      <td>0</td>\n",
       "      <td>0</td>\n",
       "      <td>0</td>\n",
       "      <td>0</td>\n",
       "      <td>0</td>\n",
       "      <td>0</td>\n",
       "      <td>0</td>\n",
       "      <td>0</td>\n",
       "      <td>0</td>\n",
       "      <td>0</td>\n",
       "    </tr>\n",
       "  </tbody>\n",
       "</table>\n",
       "<p>1 rows × 5368 columns</p>\n",
       "</div>"
      ],
      "text/plain": [
       "   drug_id  disease_id  association  C0000727  C0000731  C0000737  C0000768  \\\n",
       "0  DB01200      102300            1         0         0         1         0   \n",
       "\n",
       "   C0000772  C0000786  C0000814   ...    387585  388165  55219  55973  65264  \\\n",
       "0         0         0         0   ...         0       0      0      0      0   \n",
       "\n",
       "   80350  84624  84722  91851  406216  \n",
       "0      0      0      0      0       0  \n",
       "\n",
       "[1 rows x 5368 columns]"
      ]
     },
     "execution_count": 27,
     "metadata": {},
     "output_type": "execute_result"
    }
   ],
   "source": [
    "prev_indep[(prev_indep.drug_id == 'DB01200') & (prev_indep.disease_id == 102300)]"
   ]
  },
  {
   "cell_type": "code",
   "execution_count": 28,
   "metadata": {
    "collapsed": false
   },
   "outputs": [
    {
     "data": {
      "text/html": [
       "<div>\n",
       "<table border=\"1\" class=\"dataframe\">\n",
       "  <thead>\n",
       "    <tr style=\"text-align: right;\">\n",
       "      <th></th>\n",
       "      <th>drug_id</th>\n",
       "      <th>disease_id</th>\n",
       "      <th>association</th>\n",
       "      <th>drStr_diGe</th>\n",
       "      <th>drStr_diPhe</th>\n",
       "      <th>drPhe_diGe</th>\n",
       "      <th>drPhe_diPhe</th>\n",
       "    </tr>\n",
       "  </thead>\n",
       "  <tbody>\n",
       "    <tr>\n",
       "      <th>2094</th>\n",
       "      <td>DB01200</td>\n",
       "      <td>102300</td>\n",
       "      <td>1</td>\n",
       "      <td>0.828459</td>\n",
       "      <td>0.32257</td>\n",
       "      <td>0.972986</td>\n",
       "      <td>0.423237</td>\n",
       "    </tr>\n",
       "  </tbody>\n",
       "</table>\n",
       "</div>"
      ],
      "text/plain": [
       "      drug_id  disease_id  association  drStr_diGe  drStr_diPhe  drPhe_diGe  \\\n",
       "2094  DB01200      102300            1    0.828459      0.32257    0.972986   \n",
       "\n",
       "      drPhe_diPhe  \n",
       "2094     0.423237  "
      ]
     },
     "execution_count": 28,
     "metadata": {},
     "output_type": "execute_result"
    }
   ],
   "source": [
    "indep[(indep.drug_id == 'DB01200') & (indep.disease_id == 102300)]"
   ]
  },
  {
   "cell_type": "code",
   "execution_count": 47,
   "metadata": {
    "collapsed": false
   },
   "outputs": [],
   "source": [
    "# 현재 indep의 association 정보가 제대로 된건지 확인\n",
    "temp = pd.DataFrame()\n",
    "for index, row in indep.iterrows():\n",
    "    dr_id = row['drug_id']\n",
    "    di_id = row['disease_id']\n",
    "    asso = row['association']\n",
    "    found = prev_indep[(prev_indep.drug_id == dr_id) & (prev_indep.disease_id == di_id)]\n",
    "    if found.empty:\n",
    "        continue\n",
    "    else:\n",
    "        for index2, row2 in found.iterrows():\n",
    "            if row2['association'] == asso:\n",
    "                continue\n",
    "            else:\n",
    "                print dr_id, di_id, asso"
   ]
  },
  {
   "cell_type": "code",
   "execution_count": 48,
   "metadata": {
    "collapsed": false
   },
   "outputs": [
    {
     "data": {
      "text/html": [
       "<div>\n",
       "<table border=\"1\" class=\"dataframe\">\n",
       "  <thead>\n",
       "    <tr style=\"text-align: right;\">\n",
       "      <th></th>\n",
       "      <th>drug_id</th>\n",
       "      <th>disease_id</th>\n",
       "      <th>association</th>\n",
       "      <th>C0000727</th>\n",
       "      <th>C0000731</th>\n",
       "      <th>C0000737</th>\n",
       "      <th>C0000768</th>\n",
       "      <th>C0000772</th>\n",
       "      <th>C0000786</th>\n",
       "      <th>C0000814</th>\n",
       "      <th>...</th>\n",
       "      <th>387585</th>\n",
       "      <th>388165</th>\n",
       "      <th>55219</th>\n",
       "      <th>55973</th>\n",
       "      <th>65264</th>\n",
       "      <th>80350</th>\n",
       "      <th>84624</th>\n",
       "      <th>84722</th>\n",
       "      <th>91851</th>\n",
       "      <th>406216</th>\n",
       "    </tr>\n",
       "  </thead>\n",
       "  <tbody>\n",
       "    <tr>\n",
       "      <th>2293</th>\n",
       "      <td>DB01620</td>\n",
       "      <td>607850</td>\n",
       "      <td>0</td>\n",
       "      <td>0</td>\n",
       "      <td>0</td>\n",
       "      <td>0</td>\n",
       "      <td>0</td>\n",
       "      <td>0</td>\n",
       "      <td>1</td>\n",
       "      <td>0</td>\n",
       "      <td>...</td>\n",
       "      <td>0</td>\n",
       "      <td>0</td>\n",
       "      <td>0</td>\n",
       "      <td>0</td>\n",
       "      <td>0</td>\n",
       "      <td>0</td>\n",
       "      <td>0</td>\n",
       "      <td>0</td>\n",
       "      <td>0</td>\n",
       "      <td>0</td>\n",
       "    </tr>\n",
       "  </tbody>\n",
       "</table>\n",
       "<p>1 rows × 5368 columns</p>\n",
       "</div>"
      ],
      "text/plain": [
       "      drug_id  disease_id  association  C0000727  C0000731  C0000737  \\\n",
       "2293  DB01620      607850            0         0         0         0   \n",
       "\n",
       "      C0000768  C0000772  C0000786  C0000814   ...    387585  388165  55219  \\\n",
       "2293         0         0         1         0   ...         0       0      0   \n",
       "\n",
       "      55973  65264  80350  84624  84722  91851  406216  \n",
       "2293      0      0      0      0      0      0       0  \n",
       "\n",
       "[1 rows x 5368 columns]"
      ]
     },
     "execution_count": 48,
     "metadata": {},
     "output_type": "execute_result"
    }
   ],
   "source": [
    "found"
   ]
  },
  {
   "cell_type": "code",
   "execution_count": 49,
   "metadata": {
    "collapsed": false
   },
   "outputs": [
    {
     "data": {
      "text/plain": [
       "0"
      ]
     },
     "execution_count": 49,
     "metadata": {},
     "output_type": "execute_result"
    }
   ],
   "source": [
    "asso"
   ]
  },
  {
   "cell_type": "code",
   "execution_count": 50,
   "metadata": {
    "collapsed": false
   },
   "outputs": [
    {
     "data": {
      "text/plain": [
       "2293    True\n",
       "Name: association, dtype: bool"
      ]
     },
     "execution_count": 50,
     "metadata": {},
     "output_type": "execute_result"
    }
   ],
   "source": [
    "found['association'] == asso"
   ]
  },
  {
   "cell_type": "code",
   "execution_count": null,
   "metadata": {
    "collapsed": true
   },
   "outputs": [],
   "source": []
  }
 ],
 "metadata": {
  "kernelspec": {
   "display_name": "Python 2",
   "language": "python",
   "name": "python2"
  },
  "language_info": {
   "codemirror_mode": {
    "name": "ipython",
    "version": 2
   },
   "file_extension": ".py",
   "mimetype": "text/x-python",
   "name": "python",
   "nbconvert_exporter": "python",
   "pygments_lexer": "ipython2",
   "version": "2.7.6"
  }
 },
 "nbformat": 4,
 "nbformat_minor": 2
}
