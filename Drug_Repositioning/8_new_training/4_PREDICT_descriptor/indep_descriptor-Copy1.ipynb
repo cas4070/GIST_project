{
 "cells": [
  {
   "cell_type": "code",
   "execution_count": 1,
   "metadata": {
    "collapsed": true
   },
   "outputs": [],
   "source": [
    "import numpy as np\n",
    "import os\n",
    "import pandas as pd\n",
    "import time\n",
    "from itertools import product\n",
    "import math"
   ]
  },
  {
   "cell_type": "code",
   "execution_count": 2,
   "metadata": {
    "collapsed": true
   },
   "outputs": [],
   "source": [
    "start = 165900\n",
    "\n",
    "end = 221165\n"
   ]
  },
  {
   "cell_type": "code",
   "execution_count": 3,
   "metadata": {
    "collapsed": false
   },
   "outputs": [
    {
     "name": "stdout",
     "output_type": "stream",
     "text": [
      "2485\n",
      "start : Tue 17:00:39\n",
      "end : Tue 17:00:39\n",
      "221165\n",
      "start : Tue 17:00:39\n",
      "10000 : Tue 17:02:03\n",
      "20000 : Tue 17:03:11\n",
      "30000 : Tue 17:04:30\n",
      "40000 : Tue 17:06:08\n",
      "50000 : Tue 17:08:10\n",
      "end : Tue 17:08:58\n",
      "55228\n",
      "(55228, 7)\n"
     ]
    }
   ],
   "source": [
    "df_disease_sim = pd.read_table(\"/DAS_Storage1/aschoi/data/Drug_Repositioning/6_new_disease/9_indep_disease_similarity_whole.tsv\")\n",
    "df_drug_sim = pd.read_table(\"/DAS_Storage1/aschoi/data/Drug_Repositioning/5_new_drug/9_indep_drug_similarity_whole.tsv\")\n",
    "asso = pd.read_table(\"/DAS_Storage1/aschoi/data/Drug_Repositioning/7_new_association/10_PREDICT_association_indep.tsv\")\n",
    "\n",
    "print len(asso)\n",
    "pos = asso[asso.association ==1]\n",
    "\n",
    "new_asso_li = list()\n",
    "for index, row in asso.iterrows():\n",
    "    query_drug = row['drug']\n",
    "    query_disease = row['disease']\n",
    "    query_asso = row['association']\n",
    "    new_asso_li.append((query_drug, query_disease, query_asso))\n",
    "\n",
    "new_pos_li = list()\n",
    "for index2, row2 in pos.iterrows():\n",
    "    pos_drug = row2['drug']\n",
    "    pos_disease = row2['disease']\n",
    "    new_pos_li.append((pos_drug, pos_disease))\n",
    "\n",
    "    \n",
    "print 'start : ' + time.strftime('%a %H:%M:%S')\n",
    "desc_pair = list(product(new_asso_li, new_pos_li))\n",
    "print 'end : ' + time.strftime('%a %H:%M:%S')\n",
    "print len(desc_pair)\n",
    "\n",
    "\n",
    "descriptor = pd.DataFrame()\n",
    "cnt = 0\n",
    "print 'start : ' + time.strftime('%a %H:%M:%S')\n",
    "for pair in desc_pair[start:]:\n",
    "    query_drug = pair[0][0]\n",
    "    query_disease = pair[0][1]\n",
    "    query_asso = pair[0][2]\n",
    "    pos_drug = pair[1][0]\n",
    "    pos_disease = pair[1][1]\n",
    "    if (query_drug == pos_drug) & (query_disease == pos_disease):\n",
    "            continue\n",
    "    else:\n",
    "        found_drug = df_drug_sim[(df_drug_sim.DrugBank_ID1 == query_drug) & (df_drug_sim.DrugBank_ID2 == pos_drug)]\n",
    "        drug_cheSim = found_drug['CheSim'].values[0]\n",
    "        drug_pheSim = found_drug['PheSim'].values[0]\n",
    "    \n",
    "        found_disease = df_disease_sim[(df_disease_sim.Disease_ID1 == query_disease) & (df_disease_sim.Disease_ID2 == pos_disease)]\n",
    "        disease_pheSim = found_disease['PheSim'].values[0]\n",
    "        disease_geSim = found_disease['GeSim'].values[0]\n",
    "    \n",
    "        drug_sim = [drug_cheSim, drug_pheSim]\n",
    "        disease_sim = [disease_geSim, disease_pheSim]\n",
    "        \n",
    "        sim = [math.sqrt(x[0]*x[1]) for x in list(product(drug_sim, disease_sim))]\n",
    "        temp_df = pd.DataFrame(data = [[query_drug, query_disease, query_asso, sim[0], sim[1], sim[2], sim[3]]],\n",
    "                           columns=['drug', 'disease', 'association', 'DrChe_DiGe', 'DrChe_DiPhe', 'DrPhe_DiGe', 'DrPhe_DiPhe'])\n",
    "        descriptor = descriptor.append(temp_df)\n",
    "        cnt = cnt +1\n",
    "        if cnt % 10000 == 0:\n",
    "            print \"{} : \".format(cnt) + time.strftime('%a %H:%M:%S')\n",
    "print 'end : ' + time.strftime('%a %H:%M:%S')\n",
    "print cnt\n",
    "print descriptor.shape\n",
    "\n",
    "descriptor.to_csv(\"/DAS_Storage1/aschoi/data/Drug_Repositioning/8_new_training/5_PREDICT_descriptor/indep_descriptor_{}_{}.tsv\".format(start, end-1),\n",
    "                  sep = '\\t', index=False)\n",
    "\n",
    "#real_desc = descriptor.groupby(['drug','disease']).max()\n",
    "#real_desc.to_csv(\"/DAS_Storage1/aschoi/data/Drug_Repositioning/8_new_training/5_PREDICT_descriptor/indep_descriptor_{}_{}.tsv\".format(start, end-1),\n",
    "                  sep = '\\t')"
   ]
  },
  {
   "cell_type": "code",
   "execution_count": 6,
   "metadata": {
    "collapsed": true
   },
   "outputs": [],
   "source": [
    "descriptor.to_csv(\"/DAS_Storage1/aschoi/data/Drug_Repositioning/8_new_training/5_PREDICT_descriptor/indep_descriptor_{}_{}.tsv\".format(start, end-1),\n",
    "                  sep = '\\t', index=False)"
   ]
  },
  {
   "cell_type": "code",
   "execution_count": null,
   "metadata": {
    "collapsed": true
   },
   "outputs": [],
   "source": []
  }
 ],
 "metadata": {
  "kernelspec": {
   "display_name": "Python 2",
   "language": "python",
   "name": "python2"
  },
  "language_info": {
   "codemirror_mode": {
    "name": "ipython",
    "version": 2
   },
   "file_extension": ".py",
   "mimetype": "text/x-python",
   "name": "python",
   "nbconvert_exporter": "python",
   "pygments_lexer": "ipython2",
   "version": "2.7.6"
  }
 },
 "nbformat": 4,
 "nbformat_minor": 0
}
