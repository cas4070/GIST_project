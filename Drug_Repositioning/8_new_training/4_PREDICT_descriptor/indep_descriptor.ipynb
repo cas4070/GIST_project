{
 "cells": [
  {
   "cell_type": "code",
   "execution_count": 11,
   "metadata": {
    "collapsed": true
   },
   "outputs": [],
   "source": [
    "import numpy as np\n",
    "import os\n",
    "import pandas as pd\n",
    "import time\n",
    "from itertools import product\n",
    "import math"
   ]
  },
  {
   "cell_type": "code",
   "execution_count": 12,
   "metadata": {
    "collapsed": true
   },
   "outputs": [],
   "source": [
    "start = 0\n",
    "\n",
    "end = 55300\n",
    " "
   ]
  },
  {
   "cell_type": "code",
   "execution_count": 13,
   "metadata": {
    "collapsed": false
   },
   "outputs": [
    {
     "name": "stdout",
     "output_type": "stream",
     "text": [
      "2485\n",
      "start : Tue 16:59:55\n",
      "end : Tue 16:59:56\n",
      "221165\n",
      "start : Tue 16:59:56\n",
      "10000 : Tue 17:01:05\n",
      "20000 : Tue 17:02:16\n",
      "30000 : Tue 17:03:32\n",
      "40000 : Tue 17:04:49\n",
      "50000 : Tue 17:06:20\n",
      "end : Tue 17:07:12\n",
      "55282\n",
      "(55282, 7)\n"
     ]
    }
   ],
   "source": [
    "df_disease_sim = pd.read_table(\"/DAS_Storage1/aschoi/data/Drug_Repositioning/6_new_disease/9_indep_disease_similarity_whole.tsv\")\n",
    "df_drug_sim = pd.read_table(\"/DAS_Storage1/aschoi/data/Drug_Repositioning/5_new_drug/9_indep_drug_similarity_whole.tsv\")\n",
    "asso = pd.read_table(\"/DAS_Storage1/aschoi/data/Drug_Repositioning/7_new_association/10_PREDICT_association_indep.tsv\")\n",
    "\n",
    "print len(asso)\n",
    "pos = asso[asso.association ==1]\n",
    "\n",
    "new_asso_li = list()\n",
    "for index, row in asso.iterrows():\n",
    "    query_drug = row['drug']\n",
    "    query_disease = row['disease']\n",
    "    query_asso = row['association']\n",
    "    new_asso_li.append((query_drug, query_disease, query_asso))\n",
    "\n",
    "new_pos_li = list()\n",
    "for index2, row2 in pos.iterrows():\n",
    "    pos_drug = row2['drug']\n",
    "    pos_disease = row2['disease']\n",
    "    new_pos_li.append((pos_drug, pos_disease))\n",
    "\n",
    "    \n",
    "print 'start : ' + time.strftime('%a %H:%M:%S')\n",
    "desc_pair = list(product(new_asso_li, new_pos_li))\n",
    "print 'end : ' + time.strftime('%a %H:%M:%S')\n",
    "print len(desc_pair)\n",
    "\n",
    "\n",
    "descriptor = pd.DataFrame()\n",
    "cnt = 0\n",
    "print 'start : ' + time.strftime('%a %H:%M:%S')\n",
    "for pair in desc_pair[start:end]:\n",
    "    query_drug = pair[0][0]\n",
    "    query_disease = pair[0][1]\n",
    "    query_asso = pair[0][2]\n",
    "    pos_drug = pair[1][0]\n",
    "    pos_disease = pair[1][1]\n",
    "    if (query_drug == pos_drug) & (query_disease == pos_disease):\n",
    "            continue\n",
    "    else:\n",
    "        found_drug = df_drug_sim[(df_drug_sim.DrugBank_ID1 == query_drug) & (df_drug_sim.DrugBank_ID2 == pos_drug)]\n",
    "        drug_cheSim = found_drug['CheSim'].values[0]\n",
    "        drug_pheSim = found_drug['PheSim'].values[0]\n",
    "    \n",
    "        found_disease = df_disease_sim[(df_disease_sim.Disease_ID1 == query_disease) & (df_disease_sim.Disease_ID2 == pos_disease)]\n",
    "        disease_pheSim = found_disease['PheSim'].values[0]\n",
    "        disease_geSim = found_disease['GeSim'].values[0]\n",
    "    \n",
    "        drug_sim = [drug_cheSim, drug_pheSim]\n",
    "        disease_sim = [disease_geSim, disease_pheSim]\n",
    "        \n",
    "        sim = [math.sqrt(x[0]*x[1]) for x in list(product(drug_sim, disease_sim))]\n",
    "        temp_df = pd.DataFrame(data = [[query_drug, query_disease, query_asso, sim[0], sim[1], sim[2], sim[3]]],\n",
    "                           columns=['drug', 'disease', 'association', 'DrChe_DiGe', 'DrChe_DiPhe', 'DrPhe_DiGe', 'DrPhe_DiPhe'])\n",
    "        descriptor = descriptor.append(temp_df)\n",
    "        cnt = cnt +1\n",
    "        if cnt % 10000 == 0:\n",
    "            print \"{} : \".format(cnt) + time.strftime('%a %H:%M:%S')\n",
    "print 'end : ' + time.strftime('%a %H:%M:%S')\n",
    "print cnt\n",
    "print descriptor.shape\n",
    "\n",
    "descriptor.to_csv(\"/DAS_Storage1/aschoi/data/Drug_Repositioning/8_new_training/5_PREDICT_descriptor/indep_descriptor_{}_{}.tsv\".format(start, end-1),\n",
    "                  sep = '\\t', index=False)\n",
    "\n",
    "#real_desc = descriptor.groupby(['drug','disease']).max()\n",
    "#real_desc.to_csv(\"/DAS_Storage1/aschoi/data/Drug_Repositioning/8_new_training/5_PREDICT_descriptor/indep_descriptor_{}_{}.tsv\".format(start, end-1),\n",
    "                  sep = '\\t')"
   ]
  },
  {
   "cell_type": "code",
   "execution_count": 68,
   "metadata": {
    "collapsed": true
   },
   "outputs": [],
   "source": [
    "descriptor.to_csv(\"/DAS_Storage1/aschoi/data/Drug_Repositioning/8_new_training/5_PREDICT_descriptor/indep_descriptor_{}_{}.tsv\".format(start, end-1),\n",
    "                  sep = '\\t', index=False)"
   ]
  },
  {
   "cell_type": "code",
   "execution_count": 69,
   "metadata": {
    "collapsed": false
   },
   "outputs": [],
   "source": [
    "indep1 = pd.read_table(\"/DAS_Storage1/aschoi/data/Drug_Repositioning/8_new_training/5_PREDICT_descriptor/indep_descriptor_0_55299.tsv\")\n",
    "indep2 = pd.read_table(\"/DAS_Storage1/aschoi/data/Drug_Repositioning/8_new_training/5_PREDICT_descriptor/indep_descriptor_55300_110599.tsv\")\n",
    "indep3 = pd.read_table(\"/DAS_Storage1/aschoi/data/Drug_Repositioning/8_new_training/5_PREDICT_descriptor/indep_descriptor_110600_165899.tsv\")\n",
    "indep4 = pd.read_table(\"/DAS_Storage1/aschoi/data/Drug_Repositioning/8_new_training/5_PREDICT_descriptor/indep_descriptor_165900_221164.tsv\")"
   ]
  },
  {
   "cell_type": "code",
   "execution_count": 71,
   "metadata": {
    "collapsed": false
   },
   "outputs": [
    {
     "data": {
      "text/html": [
       "<div>\n",
       "<table border=\"1\" class=\"dataframe\">\n",
       "  <thead>\n",
       "    <tr style=\"text-align: right;\">\n",
       "      <th></th>\n",
       "      <th>drug</th>\n",
       "      <th>disease</th>\n",
       "      <th>association</th>\n",
       "      <th>DrChe_DiGe</th>\n",
       "      <th>DrChe_DiPhe</th>\n",
       "      <th>DrPhe_DiGe</th>\n",
       "      <th>DrPhe_DiPhe</th>\n",
       "    </tr>\n",
       "  </thead>\n",
       "  <tbody>\n",
       "    <tr>\n",
       "      <th>0</th>\n",
       "      <td>DB00125</td>\n",
       "      <td>102300</td>\n",
       "      <td>0</td>\n",
       "      <td>0.346194</td>\n",
       "      <td>0.346194</td>\n",
       "      <td>0.973507</td>\n",
       "      <td>0.973507</td>\n",
       "    </tr>\n",
       "    <tr>\n",
       "      <th>1</th>\n",
       "      <td>DB00125</td>\n",
       "      <td>102300</td>\n",
       "      <td>0</td>\n",
       "      <td>0.345525</td>\n",
       "      <td>0.145640</td>\n",
       "      <td>0.906293</td>\n",
       "      <td>0.382007</td>\n",
       "    </tr>\n",
       "  </tbody>\n",
       "</table>\n",
       "</div>"
      ],
      "text/plain": [
       "      drug  disease  association  DrChe_DiGe  DrChe_DiPhe  DrPhe_DiGe  \\\n",
       "0  DB00125   102300            0    0.346194     0.346194    0.973507   \n",
       "1  DB00125   102300            0    0.345525     0.145640    0.906293   \n",
       "\n",
       "   DrPhe_DiPhe  \n",
       "0     0.973507  \n",
       "1     0.382007  "
      ]
     },
     "execution_count": 71,
     "metadata": {},
     "output_type": "execute_result"
    }
   ],
   "source": [
    "frames = [indep1, indep2, indep2, indep3, indep4]\n",
    "indep = pd.concat(frames, axis=0)\n",
    "indep.head(2)"
   ]
  },
  {
   "cell_type": "code",
   "execution_count": 74,
   "metadata": {
    "collapsed": false
   },
   "outputs": [],
   "source": [
    "real_indep = indep.groupby(['drug', 'disease']).max()"
   ]
  },
  {
   "cell_type": "code",
   "execution_count": 77,
   "metadata": {
    "collapsed": false
   },
   "outputs": [],
   "source": [
    "real_indep.to_csv(\"/home/share/aschoi/nas/users/asolchoi/data/Drug_Repositioning/8_new_training/5_PREDICT_descriptor/indep_descriptor.tsv\", sep='\\t')\n",
    "real_indep.to_csv(\"/DAS_Storage1/aschoi/data/Drug_Repositioning/8_new_training/5_PREDICT_descriptor/indep_descriptor.tsv\", sep='\\t')"
   ]
  },
  {
   "cell_type": "code",
   "execution_count": 79,
   "metadata": {
    "collapsed": false
   },
   "outputs": [],
   "source": [
    "real_indep = pd.read_table(\"/DAS_Storage1/aschoi/data/Drug_Repositioning/8_new_training/5_PREDICT_descriptor/indep_descriptor.tsv\")"
   ]
  },
  {
   "cell_type": "code",
   "execution_count": 82,
   "metadata": {
    "collapsed": false
   },
   "outputs": [
    {
     "name": "stdout",
     "output_type": "stream",
     "text": [
      "2485\n",
      "2485\n",
      "71\n",
      "35\n"
     ]
    },
    {
     "data": {
      "text/html": [
       "<div>\n",
       "<table border=\"1\" class=\"dataframe\">\n",
       "  <thead>\n",
       "    <tr style=\"text-align: right;\">\n",
       "      <th></th>\n",
       "      <th>drug</th>\n",
       "      <th>disease</th>\n",
       "      <th>association</th>\n",
       "      <th>DrChe_DiGe</th>\n",
       "      <th>DrChe_DiPhe</th>\n",
       "      <th>DrPhe_DiGe</th>\n",
       "      <th>DrPhe_DiPhe</th>\n",
       "    </tr>\n",
       "  </thead>\n",
       "  <tbody>\n",
       "    <tr>\n",
       "      <th>0</th>\n",
       "      <td>DB00125</td>\n",
       "      <td>102300</td>\n",
       "      <td>0</td>\n",
       "      <td>0.9880</td>\n",
       "      <td>0.377060</td>\n",
       "      <td>0.988698</td>\n",
       "      <td>0.973507</td>\n",
       "    </tr>\n",
       "    <tr>\n",
       "      <th>1</th>\n",
       "      <td>DB00125</td>\n",
       "      <td>103780</td>\n",
       "      <td>0</td>\n",
       "      <td>0.9844</td>\n",
       "      <td>0.439811</td>\n",
       "      <td>0.984882</td>\n",
       "      <td>0.913192</td>\n",
       "    </tr>\n",
       "  </tbody>\n",
       "</table>\n",
       "</div>"
      ],
      "text/plain": [
       "      drug  disease  association  DrChe_DiGe  DrChe_DiPhe  DrPhe_DiGe  \\\n",
       "0  DB00125   102300            0      0.9880     0.377060    0.988698   \n",
       "1  DB00125   103780            0      0.9844     0.439811    0.984882   \n",
       "\n",
       "   DrPhe_DiPhe  \n",
       "0     0.973507  \n",
       "1     0.913192  "
      ]
     },
     "execution_count": 82,
     "metadata": {},
     "output_type": "execute_result"
    }
   ],
   "source": [
    "print len(real_indep)\n",
    "print len(real_indep.drop_duplicates(['drug', 'disease']))\n",
    "print len(real_indep.drop_duplicates('drug'))\n",
    "print len(real_indep.drop_duplicates('disease'))\n",
    "real_indep.head(2)"
   ]
  },
  {
   "cell_type": "code",
   "execution_count": null,
   "metadata": {
    "collapsed": true
   },
   "outputs": [],
   "source": []
  }
 ],
 "metadata": {
  "kernelspec": {
   "display_name": "Python 2",
   "language": "python",
   "name": "python2"
  },
  "language_info": {
   "codemirror_mode": {
    "name": "ipython",
    "version": 2
   },
   "file_extension": ".py",
   "mimetype": "text/x-python",
   "name": "python",
   "nbconvert_exporter": "python",
   "pygments_lexer": "ipython2",
   "version": "2.7.6"
  }
 },
 "nbformat": 4,
 "nbformat_minor": 0
}
