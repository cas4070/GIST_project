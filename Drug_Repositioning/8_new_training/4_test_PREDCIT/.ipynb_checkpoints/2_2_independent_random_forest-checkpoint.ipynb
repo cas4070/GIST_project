{
 "cells": [
  {
   "cell_type": "code",
   "execution_count": null,
   "metadata": {
    "collapsed": true
   },
   "outputs": [],
   "source": [
    "import pandas as pd\n",
    "from sklearn.ensemble import RandomForestClassifier\n",
    "from sklearn.metrics import confusion_matrix\n",
    "from sklearn.model_selection import StratifiedKFold\n",
    "from imblearn.under_sampling import RandomUnderSampler\n",
    "from imblearn.under_sampling import OneSidedSelection\n",
    "from imblearn.under_sampling import NearMiss\n",
    "from sklearn.metrics import roc_curve, auc, average_precision_score\n",
    "from collections import Counter\n",
    "import time"
   ]
  },
  {
   "cell_type": "code",
   "execution_count": null,
   "metadata": {
    "collapsed": true
   },
   "outputs": [],
   "source": [
    "#independent 만들어야함\n",
    "#indep = pd.read_table(\"/DAS_Storage1/aschoi/data/Drug_Repositioning/8_new_training/2_2_indep_asso_descriptor.tsv\")\n",
    "#indep_x = indep.values[:, 3:].astype(float)\n",
    "#indep_y = indep.values[:,2].astype(int)"
   ]
  },
  {
   "cell_type": "code",
   "execution_count": null,
   "metadata": {
    "collapsed": true
   },
   "outputs": [],
   "source": [
    "def Random_Forest_independent(x_whole_data, y_whole_data, indep_x, indep_y, user_estimators):\n",
    "    #indep = pd.read_table(\"/DAS_Storage1/aschoi/data/Drug_Repositioning/8_new_training/2_2_indep_asso_descriptor.tsv\")\n",
    "    #indep_x = indep[indep.columns.values[3:].tolist()].values\n",
    "    #indep_y = indep[\"association\"].values\n",
    "\n",
    "    #classifier = LogisticRegression(penalty='l1', C=user_c, n_jobs = -1)\n",
    "    classifier = RandomForestClassifier(n_estimators=user_estimators, n_jobs=-1, class_weight='balanced')\n",
    "    classifier.fit(x_whole_data, y_whole_data)\n",
    "    indep_y_predicted_proba = classifier.predict_proba(indep_x)\n",
    "    indep_y_predicted_label = classifier.predict(indep_x)\n",
    "\n",
    "    indep_accuracy = classifier.score(indep_x, indep_y)\n",
    "    indep_fpr, indep_tpr, indep_thresholds = roc_curve(indep_y, indep_y_predicted_proba[:, 1], pos_label = 1)\n",
    "    indep_auc = auc(indep_fpr, indep_tpr)\n",
    "    indep_confusion_matirx = confusion_matrix(indep_y, indep_y_predicted_label)\n",
    "    indep_aupr = average_precision_score(indep_y, indep_y_predicted_proba[:, 1])\n",
    "\n",
    "    #print(\"{}----------------------------------------------------\".format(user_estimators))\n",
    "    #print(\"Independent Accuracy : {}\".format(indep_accuracy))\n",
    "    #print(\"Independent AUC : {}\".format(indep_auc))\n",
    "    #print(\"Independent AUPR : {}\".format(indep_aupr))\n",
    "    #print(\"Independent Confustion matrix\")\n",
    "    #print(indep_confusion_matirx)\n",
    "    #print(\"\\t\")\n",
    "    \n",
    "    return [indep_accuracy, indep_auc, indep_aupr, indep_confusion_matirx]"
   ]
  },
  {
   "cell_type": "code",
   "execution_count": null,
   "metadata": {
    "collapsed": true
   },
   "outputs": [],
   "source": [
    "def Random_Forest_independent_10_fold(x_whole_data, y_whole_data, indep_x, indep_y, user_estimators, undersampler):\n",
    "    #rus = RandomUnderSampler()\n",
    "    whole_accuracy = list()\n",
    "    whole_auc = list()\n",
    "    whole_aupr = list()\n",
    "    whole_confusion_mat = list()\n",
    "    for i in range(0, 10):\n",
    "        x_resampled, y_resampled = undersampler.fit_sample(indep_x, indep_y)\n",
    "        indep_result = Random_Forest_independent(x_whole_data, y_whole_data, x_resampled, y_resampled, user_estimators)\n",
    "        whole_accuracy.append(indep_result[0])\n",
    "        whole_auc.append(indep_result[1])\n",
    "        whole_aupr.append(indep_result[2])\n",
    "        whole_confusion_mat.append(indep_result[3])\n",
    "    print('Original dataset shape {}'.format(Counter(indep_y)))\n",
    "    print('\\nResampled dataset shape {}'.format(Counter(y_resampled)))\n",
    "    avg_acc = sum(whole_accuracy)/len(whole_accuracy)\n",
    "    avg_auc = sum(whole_auc)/len(whole_auc)\n",
    "    avg_aupr = sum(whole_aupr)/len(whole_aupr)\n",
    "    confusion_matrix = sum(whole_confusion_mat)\n",
    "    return [avg_acc, avg_auc, avg_aupr, confusion_matrix]"
   ]
  },
  {
   "cell_type": "code",
   "execution_count": null,
   "metadata": {
    "collapsed": true
   },
   "outputs": [],
   "source": [
    "def write_output(filedescritor, results):\n",
    "    f.write(\"Accuracy : {}\\r\\n\".format(results[0]))\n",
    "    f.write(\"AUC : {}\\r\\n\".format(results[1]))\n",
    "    f.write(\"AUPR : {}\\r\\n\".format(results[2]))\n",
    "    f.write(\"confusion amtrix : {}\\r\\n\".format(results[3]))"
   ]
  },
  {
   "cell_type": "code",
   "execution_count": null,
   "metadata": {
    "collapsed": true
   },
   "outputs": [],
   "source": [
    "# undersampler\n",
    "rus = RandomUnderSampler()\n",
    "oss = OneSidedSelection()\n",
    "nm = NearMiss()"
   ]
  },
  {
   "cell_type": "code",
   "execution_count": null,
   "metadata": {
    "collapsed": true
   },
   "outputs": [],
   "source": [
    "# 기존 dataset, independent, 2017.2.14. 작성\n",
    "print time.strftime('%a %H:%M:%S')\n",
    "with open(\"/home/share/aschoi/nas/users/asolchoi/data/Drug_Repositioning/8_new_training/5_PREDICT_descriptor/\", 'w') as f :\n",
    "    user_estimators = \n",
    "    f.write(\"<independent>\\r\\n\")\n",
    "    indep_results = Random_Forest_independent(x_whole_data, y_whole_data, indep_x, indep_y, user_estimators)\n",
    "    write_output(f, indep_results)\n",
    "    f.write(\"<independent 1:1>\\r\\n\")\n",
    "    indep_results_10 = Random_Forest_independent_10_fold(x_whole_data, y_whole_data, indep_x, indep_y, user_estimators, rus)\n",
    "    write_output(f, indep_results_10)\n",
    "    \n",
    "print time.strftime('%a %H:%M:%S')"
   ]
  },
  {
   "cell_type": "code",
   "execution_count": null,
   "metadata": {
    "collapsed": true
   },
   "outputs": [],
   "source": []
  },
  {
   "cell_type": "code",
   "execution_count": null,
   "metadata": {
    "collapsed": true
   },
   "outputs": [],
   "source": []
  }
 ],
 "metadata": {
  "kernelspec": {
   "display_name": "Python 2",
   "language": "python",
   "name": "python2"
  },
  "language_info": {
   "codemirror_mode": {
    "name": "ipython",
    "version": 2
   },
   "file_extension": ".py",
   "mimetype": "text/x-python",
   "name": "python",
   "nbconvert_exporter": "python",
   "pygments_lexer": "ipython2",
   "version": "2.7.6"
  }
 },
 "nbformat": 4,
 "nbformat_minor": 0
}
