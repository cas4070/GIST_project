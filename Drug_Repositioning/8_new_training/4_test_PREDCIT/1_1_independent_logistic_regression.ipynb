{
 "cells": [
  {
   "cell_type": "code",
   "execution_count": 14,
   "metadata": {
    "collapsed": false
   },
   "outputs": [],
   "source": [
    "import pandas as pd\n",
    "from sklearn.linear_model import LogisticRegression\n",
    "from sklearn.metrics import confusion_matrix\n",
    "from sklearn.model_selection import StratifiedKFold\n",
    "from imblearn.under_sampling import RandomUnderSampler\n",
    "from imblearn.under_sampling import OneSidedSelection\n",
    "from imblearn.under_sampling import NearMiss\n",
    "from sklearn.metrics import roc_curve, auc, average_precision_score\n",
    "from collections import Counter\n",
    "import time"
   ]
  },
  {
   "cell_type": "code",
   "execution_count": 2,
   "metadata": {
    "collapsed": true
   },
   "outputs": [],
   "source": [
    "#independent dataset\n",
    "indep =pd.read_table(\"/DAS_Storage1/aschoi/data/Drug_Repositioning/8_new_training/5_PREDICT_descriptor/indep_descriptor.tsv\")\n",
    "indep_x = indep[indep.columns.values[3:].tolist()].values\n",
    "indep_y = indep['association'].values"
   ]
  },
  {
   "cell_type": "code",
   "execution_count": 3,
   "metadata": {
    "collapsed": true
   },
   "outputs": [],
   "source": [
    "# 기존 데이터 set\n",
    "df =pd.read_table(\"/DAS_Storage1/aschoi/data/Drug_Repositioning/8_new_training/5_PREDICT_descriptor/test_whole_descriptor.tsv\")\n",
    "x_whole_data = df[df.columns.values[3:].tolist()].values\n",
    "y_whole_data = df['association'].values"
   ]
  },
  {
   "cell_type": "code",
   "execution_count": 5,
   "metadata": {
    "collapsed": true
   },
   "outputs": [],
   "source": [
    "def Logist_Regression_independent(x_whole_data, y_whole_data, indep_x, indep_y, user_c):\n",
    "    #indep = pd.read_table(\"/DAS_Storage1/aschoi/data/Drug_Repositioning/8_new_training/2_2_indep_asso_descriptor.tsv\")\n",
    "    #indep_x = indep[indep.columns.values[3:].tolist()].values\n",
    "    #indep_y = indep[\"association\"].values\n",
    "\n",
    "    classifier = LogisticRegression(penalty='l1', C=user_c, n_jobs = -1)\n",
    "    #classifier = RandomForestClassifier(n_estimators=user_estimators, n_jobs=-1, class_weight='balanced')\n",
    "    classifier.fit(x_whole_data, y_whole_data)\n",
    "    indep_y_predicted_proba = classifier.predict_proba(indep_x)\n",
    "    indep_y_predicted_label = classifier.predict(indep_x)\n",
    "\n",
    "    indep_accuracy = classifier.score(indep_x, indep_y)\n",
    "    indep_fpr, indep_tpr, indep_thresholds = roc_curve(indep_y, indep_y_predicted_proba[:, 1], pos_label = 1)\n",
    "    indep_auc = auc(indep_fpr, indep_tpr)\n",
    "    indep_confusion_matirx = confusion_matrix(indep_y, indep_y_predicted_label)\n",
    "    indep_aupr = average_precision_score(indep_y, indep_y_predicted_proba[:, 1])\n",
    "\n",
    "    #print(\"{}----------------------------------------------------\".format(user_estimators))\n",
    "    #print(\"Independent Accuracy : {}\".format(indep_accuracy))\n",
    "    #print(\"Independent AUC : {}\".format(indep_auc))\n",
    "    #print(\"Independent AUPR : {}\".format(indep_aupr))\n",
    "    #print(\"Independent Confustion matrix\")\n",
    "    #print(indep_confusion_matirx)\n",
    "    #print(\"\\t\")\n",
    "    \n",
    "    return [indep_accuracy, indep_auc, indep_aupr, indep_confusion_matirx]\n",
    "  "
   ]
  },
  {
   "cell_type": "code",
   "execution_count": 6,
   "metadata": {
    "collapsed": true
   },
   "outputs": [],
   "source": [
    "def Logist_Regression_independent_10_fold(x_whole_data, y_whole_data, indep_x, indep_y, user_c, undersampler):\n",
    "    #rus = RandomUnderSampler()\n",
    "    whole_accuracy = list()\n",
    "    whole_auc = list()\n",
    "    whole_aupr = list()\n",
    "    whole_confusion_mat = list()\n",
    "    for i in range(0, 10):\n",
    "        x_resampled, y_resampled = undersampler.fit_sample(indep_x, indep_y)\n",
    "        indep_result = Logist_Regression_independent(x_whole_data, y_whole_data, x_resampled, y_resampled, user_c)\n",
    "        whole_accuracy.append(indep_result[0])\n",
    "        whole_auc.append(indep_result[1])\n",
    "        whole_aupr.append(indep_result[2])\n",
    "        whole_confusion_mat.append(indep_result[3])\n",
    "    print('Original dataset shape {}'.format(Counter(indep_y)))\n",
    "    print('\\nResampled dataset shape {}'.format(Counter(y_resampled)))\n",
    "    avg_acc = sum(whole_accuracy)/len(whole_accuracy)\n",
    "    avg_auc = sum(whole_auc)/len(whole_auc)\n",
    "    avg_aupr = sum(whole_aupr)/len(whole_aupr)\n",
    "    confusion_matrix = sum(whole_confusion_mat)\n",
    "    return [avg_acc, avg_auc, avg_aupr, confusion_matrix]"
   ]
  },
  {
   "cell_type": "code",
   "execution_count": 7,
   "metadata": {
    "collapsed": true
   },
   "outputs": [],
   "source": [
    "def write_output(filedescritor, results):\n",
    "    f.write(\"Accuracy : {}\\r\\n\".format(results[0]))\n",
    "    f.write(\"AUC : {}\\r\\n\".format(results[1]))\n",
    "    f.write(\"AUPR : {}\\r\\n\".format(results[2]))\n",
    "    f.write(\"confusion amtrix : {}\\r\\n\".format(results[3]))"
   ]
  },
  {
   "cell_type": "code",
   "execution_count": 8,
   "metadata": {
    "collapsed": true
   },
   "outputs": [],
   "source": [
    "# undersampler\n",
    "rus = RandomUnderSampler()\n",
    "oss = OneSidedSelection()\n",
    "nm = NearMiss()"
   ]
  },
  {
   "cell_type": "code",
   "execution_count": 15,
   "metadata": {
    "collapsed": false
   },
   "outputs": [
    {
     "name": "stdout",
     "output_type": "stream",
     "text": [
      "Tue 17:45:23\n",
      "Original dataset shape Counter({0: 2396, 1: 89})\n",
      "\n",
      "Resampled dataset shape Counter({0: 89, 1: 89})\n",
      "Tue 17:45:42\n"
     ]
    }
   ],
   "source": [
    "print time.strftime('%a %H:%M:%S')\n",
    "with open(\"/home/share/aschoi/nas/users/asolchoi/data/Drug_Repositioning/8_new_training/5_PREDICT_descriptor/1_2_original_indep.txt\", 'w') as f :\n",
    "    user_c = 1000\n",
    "    f.write(\"<independent>\\r\\n\")\n",
    "    indep_results = Logist_Regression_independent(x_whole_data, y_whole_data, indep_x, indep_y, user_c)\n",
    "    write_output(f, indep_results)\n",
    "    f.write(\"<independent 1:1>\\r\\n\")\n",
    "    indep_results_10 = Logist_Regression_independent_10_fold(x_whole_data, y_whole_data, indep_x, indep_y, user_c, rus)\n",
    "    write_output(f, indep_results_10)\n",
    "print time.strftime('%a %H:%M:%S')"
   ]
  },
  {
   "cell_type": "code",
   "execution_count": null,
   "metadata": {
    "collapsed": true
   },
   "outputs": [],
   "source": []
  }
 ],
 "metadata": {
  "kernelspec": {
   "display_name": "Python 2",
   "language": "python",
   "name": "python2"
  },
  "language_info": {
   "codemirror_mode": {
    "name": "ipython",
    "version": 2
   },
   "file_extension": ".py",
   "mimetype": "text/x-python",
   "name": "python",
   "nbconvert_exporter": "python",
   "pygments_lexer": "ipython2",
   "version": "2.7.6"
  }
 },
 "nbformat": 4,
 "nbformat_minor": 0
}
