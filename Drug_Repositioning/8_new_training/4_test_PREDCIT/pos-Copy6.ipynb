{
 "cells": [
  {
   "cell_type": "code",
   "execution_count": 1,
   "metadata": {
    "collapsed": true
   },
   "outputs": [],
   "source": [
    "import numpy as np\n",
    "import os\n",
    "import pandas as pd\n",
    "import time\n",
    "from itertools import product\n",
    "import math"
   ]
  },
  {
   "cell_type": "code",
   "execution_count": 2,
   "metadata": {
    "collapsed": true
   },
   "outputs": [],
   "source": [
    "start = 500000\n",
    "\n",
    "end = 750000\n"
   ]
  },
  {
   "cell_type": "code",
   "execution_count": 3,
   "metadata": {
    "collapsed": false
   },
   "outputs": [
    {
     "name": "stdout",
     "output_type": "stream",
     "text": [
      "1397\n",
      "start : Tue 11:36:03\n",
      "end : Tue 11:36:04\n",
      "start : Tue 11:36:04\n",
      "10000 : Tue 11:40:54\n",
      "20000 : Tue 11:44:39\n",
      "30000 : Tue 11:48:32\n",
      "40000 : Tue 11:52:25\n",
      "50000 : Tue 11:56:26\n",
      "60000 : Tue 12:00:33\n",
      "70000 : Tue 12:05:04\n",
      "80000 : Tue 12:09:56\n",
      "90000 : Tue 12:14:55\n",
      "100000 : Tue 12:19:53\n",
      "110000 : Tue 12:25:01\n",
      "120000 : Tue 12:30:14\n",
      "130000 : Tue 12:35:28\n",
      "140000 : Tue 12:40:29\n",
      "150000 : Tue 12:46:00\n",
      "160000 : Tue 12:51:53\n",
      "170000 : Tue 12:57:45\n",
      "180000 : Tue 13:03:37\n",
      "190000 : Tue 13:09:29\n",
      "200000 : Tue 13:15:43\n",
      "210000 : Tue 13:22:20\n",
      "220000 : Tue 13:28:26\n",
      "230000 : Tue 13:34:50\n",
      "240000 : Tue 13:41:40\n",
      "end : Tue 13:48:09\n",
      "249821\n",
      "(249821, 7)\n"
     ]
    }
   ],
   "source": [
    "df_disease_sim = pd.read_table(\"/DAS_Storage1/aschoi/data/Drug_Repositioning/6_new_disease/9_gold_disease_similarity_whole.tsv\")\n",
    "df_drug_sim = pd.read_table(\"/DAS_Storage1/aschoi/data/Drug_Repositioning/5_new_drug/9_gold_drug_similarity_whole.tsv\")\n",
    "pos = pd.read_table(\"/DAS_Storage1/aschoi/data/Drug_Repositioning/8_new_training/5_PREDICT_descriptor/test_pos.tsv\")\n",
    "#neg = pd.read_table(\"/DAS_Storage1/aschoi/data/Drug_Repositioning/8_new_training/5_PREDICT_descriptor/test_neg.tsv\")\n",
    "\n",
    "print len(pos)\n",
    "#print len(neg)\n",
    "\n",
    "new_asso_li = list()\n",
    "for index, row in pos.iterrows():\n",
    "    query_drug = row['drug']\n",
    "    query_disease = row['disease']\n",
    "    query_asso = row['association']\n",
    "    new_asso_li.append((query_drug, query_disease, query_asso))\n",
    "\n",
    "new_pos_li = list()\n",
    "for index2, row2 in pos.iterrows():\n",
    "    pos_drug = row2['drug']\n",
    "    pos_disease = row2['disease']\n",
    "    new_pos_li.append((pos_drug, pos_disease)) \n",
    "\n",
    "print 'start : ' + time.strftime('%a %H:%M:%S')\n",
    "desc_pair = list(product(new_asso_li, new_pos_li))\n",
    "print 'end : ' + time.strftime('%a %H:%M:%S')\n",
    "\n",
    "descriptor = pd.DataFrame()\n",
    "cnt = 0\n",
    "print 'start : ' + time.strftime('%a %H:%M:%S')\n",
    "for pair in desc_pair[start:end]:\n",
    "    query_drug = pair[0][0]\n",
    "    query_disease = pair[0][1]\n",
    "    query_asso = pair[0][2]\n",
    "    pos_drug = pair[1][0]\n",
    "    pos_disease = pair[1][1]\n",
    "    if (query_drug == pos_drug) & (query_disease == pos_disease):\n",
    "            continue\n",
    "    else:\n",
    "        found_drug = df_drug_sim[(df_drug_sim.DrugBank_ID1 == query_drug) & (df_drug_sim.DrugBank_ID2 == pos_drug)]\n",
    "        drug_cheSim = found_drug['CheSim'].values[0]\n",
    "        drug_pheSim = found_drug['PheSim'].values[0]\n",
    "    \n",
    "        found_disease = df_disease_sim[(df_disease_sim.Disease_ID1 == query_disease) & (df_disease_sim.Disease_ID2 == pos_disease)]\n",
    "        disease_pheSim = found_disease['PheSim'].values[0]\n",
    "        disease_geSim = found_disease['GeSim'].values[0]\n",
    "    \n",
    "        drug_sim = [drug_cheSim, drug_pheSim]\n",
    "        disease_sim = [disease_geSim, disease_pheSim]\n",
    "        \n",
    "        sim = [math.sqrt(x[0]*x[1]) for x in list(product(drug_sim, disease_sim))]\n",
    "        temp_df = pd.DataFrame(data = [[query_drug, query_disease, query_asso, sim[0], sim[1], sim[2], sim[3]]],\n",
    "                           columns=['drug', 'disease', 'association', 'DrChe_DiGe', 'DrChe_DiPhe', 'DrPhe_DiGe', 'DrPhe_DiPhe'])\n",
    "        descriptor = descriptor.append(temp_df)\n",
    "        cnt = cnt +1\n",
    "        if cnt % 10000 == 0:\n",
    "            print \"{} : \".format(cnt) + time.strftime('%a %H:%M:%S')\n",
    "print 'end : ' + time.strftime('%a %H:%M:%S')\n",
    "print cnt\n",
    "print descriptor.shape\n",
    "\n",
    "real_desc = descriptor.groupby(['drug','disease']).max()\n",
    "real_desc.to_csv(\"/DAS_Storage1/aschoi/data/Drug_Repositioning/8_new_training/5_PREDICT_descriptor/test_pos_descriptor_{}_{}.tsv\".format(start, end-1),\n",
    "                  sep = '\\t', index=False)\n",
    "\n",
    "\n",
    "\n"
   ]
  },
  {
   "cell_type": "code",
   "execution_count": 4,
   "metadata": {
    "collapsed": true
   },
   "outputs": [],
   "source": [
    "descriptor.to_csv(\"/DAS_Storage1/aschoi/data/Drug_Repositioning/8_new_training/5_PREDICT_descriptor/test_pos_bef_descriptor_{}_{}.tsv\".format(start, end-1),\n",
    "                  sep = '\\t', index=False)"
   ]
  },
  {
   "cell_type": "code",
   "execution_count": null,
   "metadata": {
    "collapsed": true
   },
   "outputs": [],
   "source": []
  }
 ],
 "metadata": {
  "kernelspec": {
   "display_name": "Python 2",
   "language": "python",
   "name": "python2"
  },
  "language_info": {
   "codemirror_mode": {
    "name": "ipython",
    "version": 2
   },
   "file_extension": ".py",
   "mimetype": "text/x-python",
   "name": "python",
   "nbconvert_exporter": "python",
   "pygments_lexer": "ipython2",
   "version": "2.7.6"
  }
 },
 "nbformat": 4,
 "nbformat_minor": 0
}
