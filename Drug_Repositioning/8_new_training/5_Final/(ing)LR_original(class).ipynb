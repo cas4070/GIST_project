{
 "cells": [
  {
   "cell_type": "code",
   "execution_count": 1,
   "metadata": {
    "collapsed": true
   },
   "outputs": [],
   "source": [
    "import pandas as pd\n",
    "import numpy as np\n",
    "from datetime import datetime\n",
    "from sklearn.linear_model import LogisticRegression\n",
    "from sklearn.ensemble import RandomForestClassifier\n",
    "from sklearn.model_selection import StratifiedKFold\n",
    "from sklearn.metrics import confusion_matrix\n",
    "from sklearn.metrics import roc_auc_score # AUC score\n",
    "from sklearn.metrics import average_precision_score # AUPR score\n",
    "from sklearn.metrics import precision_recall_fscore_support # precision, recall\n",
    "from imblearn.metrics import sensitivity_specificity_support # sensitivity, specificity\n",
    "from sklearn.metrics import roc_curve # to draw auc curve\n",
    "from sklearn.metrics import precision_recall_curve # to draw aupr curve\n",
    "from imblearn.under_sampling import RandomUnderSampler\n",
    "from imblearn.under_sampling import OneSidedSelection\n",
    "from imblearn.under_sampling import NearMiss\n",
    "from itertools import cycle\n",
    "import matplotlib.pyplot as plt\n",
    "%matplotlib inline"
   ]
  },
  {
   "cell_type": "code",
   "execution_count": null,
   "metadata": {
    "collapsed": true
   },
   "outputs": [],
   "source": [
    "# LogsiticRegression_K_fold_grpah + 파일 입출력\n",
    "# PREDICT feature based + MACCS, no undersampling , 2017.4.18.\n",
    "print datetime.now().strftime('%Y-%m-%d %H:%M:%S')\n",
    "path = '/home/share/aschoi/nas/users/asolchoi/data/Drug_Repositioning/8_new_training/new_predict/'\n",
    "with open(path + \"3_LR_MACSS_training_10-fold(noIndep).txt\", 'w') as fd :\n",
    "    param_results = {0.0001:[], 0.001:[], 0.01:[], 0.1:[], 1:[], 10:[], 100:[], 1000:[], 10000:[]}\n",
    "    draw_total = {0.0001:[], 0.001:[], 0.01:[], 0.1:[], 1:[], 10:[], 100:[], 1000:[], 10000:[]}\n",
    "    independent_count = 1 # independent test 하고 싶은 횟수, 횟수만큼 랜덤 추출 하여 k-fold cv를 돌린다.\n",
    "    k = 10 # k-fold cv\n",
    "    for i in range(independent_count):\n",
    "        #x_resampled, y_resampled = rus.fit_sample(x_whole_data, y_whole_data)\n",
    "        for user_c in [0.0001, 0.001, 0.01, 0.1, 1, 10, 100, 1000, 10000]:\n",
    "            folds_results, draw_results = Logistic_Regression_K_fold_graph(x_whole_data, y_whole_data, k, user_c)\n",
    "            avg_result = average_result(folds_results) # parameter 별로 K-fold한 결과와 average를 구한다.\n",
    "            param_results[user_c].append(avg_result) # parameter 별로 indepedent 결과 저장한다.\n",
    "            draw_total[user_c].append(draw_results)\n",
    "\n",
    "    final_param_results = {0.0001:[], 0.001:[], 0.01:[], 0.1:[], 1:[], 10:[], 100:[], 1000:[], 10000:[]}\n",
    "    for user_c in [0.0001, 0.001, 0.01, 0.1, 1, 10, 100, 1000, 10000]: #independent 결과를 parameter별로 평균 낸다.\n",
    "        indep_results = independent_results(param_results[user_c])\n",
    "        final_param_results[user_c] = final_results(indep_results)\n",
    "        draw_plot(draw_total[user_c],\n",
    "                  final_param_results[user_c], user_c)\n",
    "        write_output(fd, final_param_results[user_c], user_c)\n",
    "print datetime.now().strftime('%Y-%m-%d %H:%M:%S')"
   ]
  },
  {
   "cell_type": "code",
   "execution_count": 24,
   "metadata": {
    "collapsed": true
   },
   "outputs": [],
   "source": [
    "class LR:\n",
    "    def __init__(self):\n",
    "        LR.param_results = {0.0001:[], 0.001:[], 0.01:[], 0.1:[], 1:[], 10:[], 100:[], 1000:[], 10000:[]}\n",
    "        LR.draw_total = {0.0001:[], 0.001:[], 0.01:[], 0.1:[], 1:[], 10:[], 100:[], 1000:[], 10000:[]}\n",
    "        LR.independent_count = 1\n",
    "        LR.k = 10\n",
    "        LR.parameter = [0.0001, 0.001, 0.01, 0.1, 1, 10, 100, 1000, 10000] \n",
    "        LR.final_param_results = {0.0001:[], 0.001:[], 0.01:[], 0.1:[], 1:[], 10:[], 100:[], 1000:[], 10000:[]}\n",
    "\n",
    "    def Logistic_Regression_K_fold_graph(self, X, y, k, user_c):\n",
    "        skf = StratifiedKFold(n_splits=k, shuffle=True) # n_splits = k (k fold라서.), pos:neg의 비율을 고려해서 k 개의 subgroup으로 나누어줌.\n",
    "        folds_results = {'acc':[], 'auc':[], 'aupr':[], 'confusion_matrix':[], 'sn':[], 'sp':[], 'precision':[], 'recall':[]}\n",
    "        draw_results = {'fpr':[], 'tpr':[], 'precision_vec':[], 'recall_vec':[]}\n",
    "        for training_index, validation_index in skf.split(X, y):\n",
    "            x_training_set = X[training_index]\n",
    "            y_training_set = y[training_index]\n",
    "            x_validation_set = X[validation_index]\n",
    "            y_validation_set = y[validation_index]\n",
    "\n",
    "            classifier = LogisticRegression('l1', C=user_c, n_jobs=-1) #n_jobs=-1 이면 모든 node 쓰는것, 신경쓰이면 30개 정도.\n",
    "            classifier.fit(x_training_set, y_training_set)\n",
    "\n",
    "            y_predicted_proba = classifier.predict_proba(x_validation_set) # [0에 대한 확률, 1에 대한 확률], shpae = [n_samples, n_class]\n",
    "            y_predicted_label = classifier.predict(x_validation_set) # 예측된 label을 보여줌, shpae = [n_samples]\n",
    "\n",
    "            # Accuracy \n",
    "            current_acc = classifier.score(x_validation_set, y_validation_set)\n",
    "            folds_results['acc'].append(current_acc)\n",
    "\n",
    "            # AUC\n",
    "            current_auc = roc_auc_score(y_validation_set, y_predicted_proba[:,1])\n",
    "            folds_results['auc'].append(current_auc)\n",
    "\n",
    "            # Sensitivity, Specificity\n",
    "            sn, sp, support = sensitivity_specificity_support(y_validation_set, y_predicted_label)\n",
    "            folds_results['sn'].append(sn)\n",
    "            folds_results['sp'].append(sp)\n",
    "\n",
    "            # AUPR\n",
    "            current_aupr = average_precision_score(y_validation_set, y_predicted_proba[:,1])\n",
    "            folds_results['aupr'].append(current_aupr)\n",
    "\n",
    "            # Precision, Recall\n",
    "            precision, recall, _, _ =  precision_recall_fscore_support(y_validation_set, y_predicted_label, average = 'binary')\n",
    "            folds_results['precision'].append(precision)\n",
    "            folds_results['recall'].append(recall)\n",
    "\n",
    "            # Confusion Matrix\n",
    "            current_confusion_matrix = confusion_matrix(y_validation_set,y_predicted_label)\n",
    "            folds_results['confusion_matrix'].append(current_confusion_matrix)\n",
    "\n",
    "            #draw graph\n",
    "            fpr, tpr, thresholds = roc_curve(y_validation_set, y_predicted_proba[:, 1], pos_label=1)\n",
    "            draw_results['fpr'].append(fpr)\n",
    "            draw_results['tpr'].append(tpr)\n",
    "\n",
    "            precision_vec, recall_vec, _ = precision_recall_curve(y_validation_set, y_predicted_proba[:, 1])\n",
    "            draw_results['precision_vec'].append(precision_vec)\n",
    "            draw_results['recall_vec'].append(recall_vec)\n",
    "\n",
    "        return folds_results, draw_results\n",
    "    def draw_plot(self, draw_results, final_result, user_c):\n",
    "        #colors = cycle(['cyan', 'indigo', 'seagreen', 'yellow', 'blue', 'darkorange', 'red', 'violet', 'fuchsia', 'sienna'])\n",
    "        colors = ['cyan', 'indigo', 'seagreen', 'yellow', 'blue', 'darkorange', 'red', 'violet', 'fuchsia', 'sienna']\n",
    "        lw = 1\n",
    "        plt.clf()\n",
    "        fig, (ax1, ax2) = plt.subplots(nrows=1, ncols=2, figsize=(6, 3))\n",
    "        print \"{}------------------------------------\".format(user_c)\n",
    "        for i in draw_results:\n",
    "            for fpr, tpr in zip(i['fpr'], i['tpr']):\n",
    "                ax1.plot(fpr, tpr, lw=lw)\n",
    "            for recall_vec, precision_vec in zip(i['recall_vec'], i['precision_vec']):\n",
    "                ax2.plot(recall_vec, precision_vec, lw=lw)\n",
    "        ax1.set_xlabel('FPR')\n",
    "        ax1.set_ylabel('TPR')\n",
    "        ax1.set_color_cycle(colors)\n",
    "        ax1.set_title('C={0}, Average AUC={1:0.2f}'.format(user_c, final_result['auc']))\n",
    "        ax1.set_ylim([0.0, 1.05])\n",
    "        ax1.set_xlim([0.0, 1.0])\n",
    "        ax2.set_xlabel('Recall')\n",
    "        ax2.set_ylabel('Precision')\n",
    "        ax2.set_color_cycle(colors)\n",
    "        ax2.set_title('C={0}, Average AUPR={1:0.2f}'.format(user_c, final_result['aupr']))\n",
    "        ax2.set_ylim([0.0, 1.05])\n",
    "        ax2.set_xlim([0.0, 1.0])\n",
    "        plt.tight_layout()\n",
    "        plt.show()\n",
    "    def average_result(self, folds_results):\n",
    "        avg_result = dict()\n",
    "        avg_result['avg_acc'] = sum(folds_results['acc']) / len(folds_results['acc'])\n",
    "        avg_result['avg_auc'] = sum(folds_results['auc']) / len(folds_results['auc'])\n",
    "        avg_result['avg_aupr'] = sum(folds_results['aupr']) / len(folds_results['aupr'])\n",
    "        avg_result['avg_sn'] = sum(folds_results['sn']) / len(folds_results['sn'])\n",
    "        avg_result['avg_sp'] = sum(folds_results['sp']) / len(folds_results['sp'])\n",
    "        avg_result['avg_precision'] = sum(folds_results['precision']) / len(folds_results['precision'])\n",
    "        avg_result['avg_recall'] = sum(folds_results['recall']) / len(folds_results['recall'])\n",
    "        avg_result['sum_confusion_matrix'] = sum(folds_results['confusion_matrix'])\n",
    "\n",
    "        return avg_result\n",
    "    def independent_results(self, param_result):\n",
    "        indep_results = {'indep_acc':[], 'indep_auc':[], 'indep_aupr':[], 'indep_confusion_matrix':[],\n",
    "                         'indep_sn':[], 'indep_sp':[], 'indep_precision':[], 'indep_recall':[]}\n",
    "        for fold in param_result:\n",
    "            indep_results['indep_acc'].append(fold['avg_acc'])\n",
    "            indep_results['indep_auc'].append(fold['avg_auc'])\n",
    "            indep_results['indep_aupr'].append(fold['avg_aupr'])\n",
    "            indep_results['indep_sn'].append(fold['avg_sn'])\n",
    "            indep_results['indep_sp'].append(fold['avg_sp'])\n",
    "            indep_results['indep_precision'].append(fold['avg_precision'])\n",
    "            indep_results['indep_recall'].append(fold['avg_recall'])\n",
    "            indep_results['indep_confusion_matrix'].append(fold['sum_confusion_matrix'])\n",
    "        return indep_results\n",
    "    def final_results (self, indep_results):\n",
    "        results = {'acc':[], 'auc':[], 'aupr':[], 'confusion_matrix':[],\n",
    "                   'sn':[], 'sp':[], 'precision':[], 'recall':[]}\n",
    "        results['acc'] = sum(indep_results['indep_acc']) / len(indep_results['indep_acc'])\n",
    "        results['auc'] = sum(indep_results['indep_auc']) / len(indep_results['indep_auc'])\n",
    "        results['aupr'] = sum(indep_results['indep_aupr']) / len(indep_results['indep_aupr'])\n",
    "        results['sn'] = sum(indep_results['indep_sn']) / len(indep_results['indep_sn'])\n",
    "        results['sp'] = sum(indep_results['indep_sp']) / len(indep_results['indep_sp'])\n",
    "        results['precision'] = sum(indep_results['indep_precision']) / len(indep_results['indep_precision'])\n",
    "        results['recall'] = sum(indep_results['indep_recall']) / len(indep_results['indep_recall'])\n",
    "        results['confusion_matrix'] = sum(indep_results['indep_confusion_matrix'])\n",
    "        return results\n",
    "    def write_output(self, fd, write_results, user_c):\n",
    "        fd.write(\"C={}-------------------------------------------------\\r\\n\".format(user_c))\n",
    "        fd.write(\"Accuracy avg : {}\\r\\n\".format(write_results['acc']))\n",
    "        fd.write(\"AUC avg : {}\\r\\n\".format(write_results['auc']))\n",
    "        fd.write(\"  Sensitivity avg : {}\\r\\n\".format(write_results['sn']))\n",
    "        fd.write(\"  Specificity avg : {}\\r\\n\".format(write_results['sp']))\n",
    "        fd.write(\"AUPR avg : {}\\r\\n\".format(write_results['aupr']))\n",
    "        fd.write(\"  Precision avg : {}\\r\\n\".format(write_results['precision']))\n",
    "        fd.write(\"  Recall avg : {}\\r\\n\".format(write_results['recall']))\n",
    "        fd.write(\"confusion amtrix : {}\\r\\n\".format(write_results['confusion_matrix']))\n",
    "    def write_output(self, fd, write_results, user_c):\n",
    "        fd.write(\"C={}-------------------------------------------------\\r\\n\".format(user_c))\n",
    "        fd.write(\"Accuracy avg : {}\\r\\n\".format(write_results['acc']))\n",
    "        fd.write(\"AUC avg : {}\\r\\n\".format(write_results['auc']))\n",
    "        fd.write(\"  Sensitivity avg : {}\\r\\n\".format(write_results['sn']))\n",
    "        fd.write(\"  Specificity avg : {}\\r\\n\".format(write_results['sp']))\n",
    "        fd.write(\"AUPR avg : {}\\r\\n\".format(write_results['aupr']))\n",
    "        fd.write(\"  Precision avg : {}\\r\\n\".format(write_results['precision']))\n",
    "        fd.write(\"  Recall avg : {}\\r\\n\".format(write_results['recall']))\n",
    "        fd.write(\"confusion amtrix : {}\\r\\n\".format(write_results['confusion_matrix']))\n",
    "    def seperate_results(self, indep_results):\n",
    "        temp_results = {'acc':[], 'auc':[], 'aupr':[], 'confusion_matrix':[], 'sn':[], 'sp':[], 'precision':[], 'recall':[]}\n",
    "        for i in range(independent_count):\n",
    "            temp_results['acc'].append(indep_results[i]['acc'])\n",
    "            temp_results['auc'].append(indep_results[i]['auc'])\n",
    "            temp_results['aupr'].append(indep_results[i]['aupr'])\n",
    "            temp_results['confusion_matrix'].append(indep_results[i]['confusion_matrix'])\n",
    "            temp_results['sn'].append(indep_results[i]['sn'])\n",
    "            temp_results['sp'].append(indep_results[i]['sp'])\n",
    "            temp_results['precision'].append(indep_results[i]['precision'])\n",
    "            temp_results['recall'].append(indep_results[i]['recall'])\n",
    "        return temp_results\n",
    "    def run_10_fold"
   ]
  },
  {
   "cell_type": "code",
   "execution_count": 25,
   "metadata": {
    "collapsed": true
   },
   "outputs": [],
   "source": [
    "a = LR()"
   ]
  },
  {
   "cell_type": "code",
   "execution_count": 27,
   "metadata": {
    "collapsed": false
   },
   "outputs": [
    {
     "data": {
      "text/plain": [
       "{0.0001: [],\n",
       " 0.001: [],\n",
       " 0.01: [],\n",
       " 0.1: [],\n",
       " 1: [],\n",
       " 10: [],\n",
       " 100: [],\n",
       " 1000: [],\n",
       " 10000: []}"
      ]
     },
     "execution_count": 27,
     "metadata": {},
     "output_type": "execute_result"
    }
   ],
   "source": [
    "a.param_results"
   ]
  },
  {
   "cell_type": "code",
   "execution_count": 9,
   "metadata": {
    "collapsed": true
   },
   "outputs": [],
   "source": [
    "class A :\n",
    "    param_result = dict()"
   ]
  },
  {
   "cell_type": "code",
   "execution_count": 10,
   "metadata": {
    "collapsed": true
   },
   "outputs": [],
   "source": [
    "a = A()"
   ]
  },
  {
   "cell_type": "code",
   "execution_count": 11,
   "metadata": {
    "collapsed": false
   },
   "outputs": [
    {
     "data": {
      "text/plain": [
       "{}"
      ]
     },
     "execution_count": 11,
     "metadata": {},
     "output_type": "execute_result"
    }
   ],
   "source": [
    "a.param_result"
   ]
  },
  {
   "cell_type": "code",
   "execution_count": null,
   "metadata": {
    "collapsed": true
   },
   "outputs": [],
   "source": []
  }
 ],
 "metadata": {
  "kernelspec": {
   "display_name": "Python 2",
   "language": "python",
   "name": "python2"
  },
  "language_info": {
   "codemirror_mode": {
    "name": "ipython",
    "version": 2
   },
   "file_extension": ".py",
   "mimetype": "text/x-python",
   "name": "python",
   "nbconvert_exporter": "python",
   "pygments_lexer": "ipython2",
   "version": "2.7.6"
  }
 },
 "nbformat": 4,
 "nbformat_minor": 0
}
