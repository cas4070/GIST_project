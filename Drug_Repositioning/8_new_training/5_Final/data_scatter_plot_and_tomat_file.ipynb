{
 "cells": [
  {
   "cell_type": "code",
   "execution_count": 1,
   "metadata": {
    "collapsed": true
   },
   "outputs": [],
   "source": [
    "import pandas as pd\n",
    "import numpy as np\n",
    "from datetime import datetime"
   ]
  },
  {
   "cell_type": "code",
   "execution_count": 85,
   "metadata": {
    "collapsed": true
   },
   "outputs": [],
   "source": [
    "#2017.5.1.\n",
    "path = \"/DAS_Storage1/aschoi/data/Drug_Repositioning/8_new_training/2_similarity_based-PREDICT/\"\n",
    "tn = pd.read_table(path + \"4_5_tn_local_norm_1_1_descriptor.tsv\")\n",
    "no_tn = pd.read_table(path + \"4_5_2_noTn_only_local_norm_1_1_descriptor.tsv\")"
   ]
  },
  {
   "cell_type": "code",
   "execution_count": 84,
   "metadata": {
    "collapsed": true
   },
   "outputs": [],
   "source": [
    "#2017.4.24. independent dataset\n",
    "path = \"/DAS_Storage1/aschoi/data/Drug_Repositioning/8_new_training/2_similarity_based-PREDICT/\"\n",
    "indep = pd.read_table(path+\"3_2_indep_descriptor.tsv\")\n",
    "indep_x = indep.values[:, 3:].astype(float)\n",
    "indep_y = indep.values[:,2].astype(int)"
   ]
  },
  {
   "cell_type": "code",
   "execution_count": 3,
   "metadata": {
    "collapsed": true
   },
   "outputs": [],
   "source": [
    "f = open(\"/home/share/aschoi/nas/users/asolchoi/data/Drug_Repositioning/8_new_training/5_final/tn+noise_1by1_idex.txt\", \"r\")\n",
    "indices = list()\n",
    "while True:\n",
    "    line=f.readline()\n",
    "    if not line : break\n",
    "    indices.append(line.lstrip('[').rstrip(']\\n').split(', '))\n",
    "f.close()"
   ]
  },
  {
   "cell_type": "code",
   "execution_count": 4,
   "metadata": {
    "collapsed": true
   },
   "outputs": [],
   "source": [
    "lindices = list()\n",
    "for i in indices:\n",
    "    tmp = list()\n",
    "    for j in i:\n",
    "        tmp.append(int(j))\n",
    "    lindices.append(tmp)"
   ]
  },
  {
   "cell_type": "code",
   "execution_count": 78,
   "metadata": {
    "collapsed": false
   },
   "outputs": [
    {
     "data": {
      "text/plain": [
       "1414"
      ]
     },
     "execution_count": 78,
     "metadata": {},
     "output_type": "execute_result"
    }
   ],
   "source": [
    "len(indices[1])"
   ]
  },
  {
   "cell_type": "code",
   "execution_count": 79,
   "metadata": {
    "collapsed": false
   },
   "outputs": [],
   "source": [
    "i=1\n",
    "idx = lindices[i]\n",
    "filtered = no_tn.filter(items = idx, axis=0) # 뽑은 index만큼 filter\n",
    "noise_tn = pd.concat([tn,filtered])\n",
    "\n",
    "x_whole_data = noise_tn[noise_tn.columns.values[3:].tolist()].values\n",
    "y_whole_data = noise_tn[\"association\"].values"
   ]
  },
  {
   "cell_type": "code",
   "execution_count": 10,
   "metadata": {
    "collapsed": false
   },
   "outputs": [
    {
     "data": {
      "text/plain": [
       "array([[ 0.80403025,  0.80403025,  0.96298073,  0.96298073],\n",
       "       [ 0.99928972,  0.48549768,  0.99928972,  0.6603973 ],\n",
       "       [ 0.99928972,  0.48549768,  0.99928972,  0.59343608],\n",
       "       ..., \n",
       "       [ 0.99672853,  0.64241607,  0.99615848,  0.89860099],\n",
       "       [ 0.98972282,  0.527713  ,  0.98972282,  0.92213089],\n",
       "       [ 0.99630103,  0.4599837 ,  0.99630103,  0.98497388]])"
      ]
     },
     "execution_count": 10,
     "metadata": {},
     "output_type": "execute_result"
    }
   ],
   "source": [
    "x_whole_data"
   ]
  },
  {
   "cell_type": "code",
   "execution_count": 38,
   "metadata": {
    "collapsed": false
   },
   "outputs": [],
   "source": [
    "try:\n",
    "    from sklearn.manifold import TSNE\n",
    "    import matplotlib.pyplot as plt\n",
    "    tsne = TSNE(perplexity=30, n_components=2, init='pca', n_iter=5000)\n",
    "    #plot_only = 1000\n",
    "    low_dim_embs = tsne.fit_transform(x_whole_data)\n",
    "    labels = y_whole_data\n",
    "    plot_with_labels(low_dim_embs, labels, \"training\")\n",
    "except ImportError:\n",
    "    print(\"Please install sklearn, matplotlib, and scipy to visualize embeddings.\")"
   ]
  },
  {
   "cell_type": "code",
   "execution_count": 36,
   "metadata": {
    "collapsed": true
   },
   "outputs": [],
   "source": [
    "low_dim_embs = tsne.fit_transform(indep_x)\n",
    "labels = indep_y\n",
    "plot_with_labels(low_dim_embs, labels)"
   ]
  },
  {
   "cell_type": "code",
   "execution_count": 5,
   "metadata": {
    "collapsed": false
   },
   "outputs": [],
   "source": [
    "def plot_with_labels(low_dim_embs, labels, filename='temp.png'):\n",
    "    assert low_dim_embs.shape[0] >= len(labels), \"More labels than embeddings\"\n",
    "    import matplotlib.pyplot as plt\n",
    "    \n",
    "    plt.figure(figsize=(10, 10))  # in inches\n",
    "    for i, label in enumerate(labels):\n",
    "        x, y = low_dim_embs[i, :]\n",
    "        if label==1:\n",
    "            plt.scatter(x, y, color=\"blue\", alpha=1)\n",
    "        else:\n",
    "            plt.scatter(x, y, color=\"red\", alpha=0.3)\n",
    "    plt.savefig(\"/home/share/aschoi/nas/users/asolchoi/\"+filename)\n",
    "    #plt.show()"
   ]
  },
  {
   "cell_type": "code",
   "execution_count": 51,
   "metadata": {
    "collapsed": false
   },
   "outputs": [],
   "source": [
    "tomat = noise_tn[['drStr_diGe', 'drStr_diPhe', 'drPhe_diGe', 'drPhe_diPhe', 'association']]"
   ]
  },
  {
   "cell_type": "code",
   "execution_count": 52,
   "metadata": {
    "collapsed": false
   },
   "outputs": [],
   "source": [
    "import scipy.io as sio\n",
    "a_dict = {col_name : tomat[col_name].values for col_name in tomat.columns.values}\n",
    "sio.savemat('/home/share/aschoi/nas/users/asolchoi/data/Drug_Repositioning/8_new_training/2_similarity_based(PREDICT)/1_tn_noise_1_2.mat', {'struct':a_dict})"
   ]
  },
  {
   "cell_type": "code",
   "execution_count": 53,
   "metadata": {
    "collapsed": false
   },
   "outputs": [
    {
     "data": {
      "text/plain": [
       "{'association': array([1, 1, 1, ..., 0, 0, 0]),\n",
       " 'drPhe_diGe': array([ 0.96298073,  0.99928972,  0.99928972, ...,  0.99615848,\n",
       "         0.98972282,  0.99630103]),\n",
       " 'drPhe_diPhe': array([ 0.96298073,  0.6603973 ,  0.59343608, ...,  0.89860099,\n",
       "         0.92213089,  0.98497388]),\n",
       " 'drStr_diGe': array([ 0.80403025,  0.99928972,  0.99928972, ...,  0.99672853,\n",
       "         0.98972282,  0.99630103]),\n",
       " 'drStr_diPhe': array([ 0.80403025,  0.48549768,  0.48549768, ...,  0.64241607,\n",
       "         0.527713  ,  0.4599837 ])}"
      ]
     },
     "execution_count": 53,
     "metadata": {},
     "output_type": "execute_result"
    }
   ],
   "source": [
    "a_dict"
   ]
  },
  {
   "cell_type": "code",
   "execution_count": 54,
   "metadata": {
    "collapsed": true
   },
   "outputs": [],
   "source": [
    "tomat.to_csv('/home/share/aschoi/nas/users/asolchoi/data/Drug_Repositioning/8_new_training/2_similarity_based(PREDICT)/1_tn_noise_1_2.csv', index=False)"
   ]
  },
  {
   "cell_type": "code",
   "execution_count": 56,
   "metadata": {
    "collapsed": false
   },
   "outputs": [],
   "source": [
    "indep[['drStr_diGe', 'drStr_diPhe', 'drPhe_diGe', 'drPhe_diPhe', 'association']].to_csv('/home/share/aschoi/nas/users/asolchoi/data/Drug_Repositioning/8_new_training/2_similarity_based(PREDICT)/1_indep_1_2.csv', index=False)"
   ]
  },
  {
   "cell_type": "code",
   "execution_count": 71,
   "metadata": {
    "collapsed": false
   },
   "outputs": [],
   "source": [
    "import random\n",
    "pos = tn[tn.association == 1]\n",
    "tn_neg = tn[tn.association == 0]\n",
    "neg = pd.concat([tn_neg, no_tn])\n",
    "neg.index = range(len(neg))\n",
    "pos_cnt = len(pos)\n",
    "idx = random.sample(xrange(0, len(neg)), pos_cnt*2)\n",
    "fitered = neg.filter(items = idx, axis=0)\n",
    "result = pd.concat([pos, filtered])"
   ]
  },
  {
   "cell_type": "code",
   "execution_count": 72,
   "metadata": {
    "collapsed": true
   },
   "outputs": [],
   "source": [
    "x_whole_data = result[result.columns.values[3:].tolist()].values\n",
    "y_whole_data = result[\"association\"].values"
   ]
  },
  {
   "cell_type": "code",
   "execution_count": 67,
   "metadata": {
    "collapsed": false
   },
   "outputs": [],
   "source": [
    "try:\n",
    "    from sklearn.manifold import TSNE\n",
    "    import matplotlib.pyplot as plt\n",
    "    tsne = TSNE(perplexity=30, n_components=2, init='pca', n_iter=5000)\n",
    "    #plot_only = 1000\n",
    "    low_dim_embs = tsne.fit_transform(x_whole_data)\n",
    "    labels = y_whole_data\n",
    "    plot_with_labels(low_dim_embs, labels, \"training_random\")\n",
    "except ImportError:\n",
    "    print(\"Please install sklearn, matplotlib, and scipy to visualize embeddings.\")"
   ]
  },
  {
   "cell_type": "code",
   "execution_count": null,
   "metadata": {
    "collapsed": true
   },
   "outputs": [],
   "source": [
    "low_dim_embs = tsne.fit_transform(x_whole_data)\n",
    "labels = y_whole_data\n",
    "plot_with_labels(low_dim_embs, labels, \"training_random\")"
   ]
  },
  {
   "cell_type": "code",
   "execution_count": 73,
   "metadata": {
    "collapsed": false
   },
   "outputs": [
    {
     "data": {
      "text/plain": [
       "2744"
      ]
     },
     "execution_count": 73,
     "metadata": {},
     "output_type": "execute_result"
    }
   ],
   "source": [
    "len(y_whole_data)"
   ]
  },
  {
   "cell_type": "code",
   "execution_count": 81,
   "metadata": {
    "collapsed": true
   },
   "outputs": [],
   "source": [
    "x_whole_data = tn[tn.columns.values[3:].tolist()].values\n",
    "y_whole_data = tn[\"association\"].values"
   ]
  },
  {
   "cell_type": "code",
   "execution_count": 83,
   "metadata": {
    "collapsed": false
   },
   "outputs": [],
   "source": [
    "low_dim_embs = tsne.fit_transform(x_whole_data)\n",
    "labels = y_whole_data\n",
    "plot_with_labels(low_dim_embs, labels, \"training_tn_only\")"
   ]
  },
  {
   "cell_type": "code",
   "execution_count": 86,
   "metadata": {
    "collapsed": true
   },
   "outputs": [],
   "source": [
    "temp = pd.concat([pos, no_tn])\n",
    "x_whole_data = temp[temp.columns.values[3:].tolist()].values\n",
    "y_whole_data = temp[\"association\"].values"
   ]
  },
  {
   "cell_type": "code",
   "execution_count": 87,
   "metadata": {
    "collapsed": true
   },
   "outputs": [],
   "source": [
    "low_dim_embs = tsne.fit_transform(x_whole_data)\n",
    "labels = y_whole_data\n",
    "plot_with_labels(low_dim_embs, labels, \"training_no_tn\")"
   ]
  },
  {
   "cell_type": "code",
   "execution_count": 89,
   "metadata": {
    "collapsed": true
   },
   "outputs": [],
   "source": [
    "plot_with_labels(low_dim_embs, labels, \"training_no_tn2\")"
   ]
  },
  {
   "cell_type": "code",
   "execution_count": 90,
   "metadata": {
    "collapsed": true
   },
   "outputs": [],
   "source": [
    "path = \"/DAS_Storage1/aschoi/data/Drug_Repositioning/8_new_training/1_feature_based-Systematic/2_PREDICT_dataset/\"\n",
    "f_tn = pd.read_table(path + \"2_TN_local/2_normalize_indep_check/6_4_4_tn_local_norm_1_1_descriptor.tsv\")\n",
    "f_indep = pd.read_table(path + \"2_2_indep_descriptor.tsv\")"
   ]
  },
  {
   "cell_type": "code",
   "execution_count": 92,
   "metadata": {
    "collapsed": false
   },
   "outputs": [
    {
     "name": "stdout",
     "output_type": "stream",
     "text": [
      "1362\n",
      "1430\n"
     ]
    }
   ],
   "source": [
    "print len(f_tn[f_tn.association == 1])\n",
    "print len(f_tn[f_tn.association == 0])"
   ]
  },
  {
   "cell_type": "code",
   "execution_count": 94,
   "metadata": {
    "collapsed": true
   },
   "outputs": [],
   "source": [
    "f_x_whole_data = f_tn[f_tn.columns.values[3:].tolist()].values\n",
    "f_y_whole_data = f_tn[\"association\"].values\n",
    "fg_low_dim_embs = tsne.fit_transform(f_x_whole_data)\n",
    "fg_labels = f_y_whole_data\n",
    "plot_with_labels(fg_low_dim_embs, fg_labels, \"feature_based_training.png\")"
   ]
  },
  {
   "cell_type": "code",
   "execution_count": 93,
   "metadata": {
    "collapsed": true
   },
   "outputs": [],
   "source": [
    "f_indep_x = f_indep.values[:, 3:].astype(float)\n",
    "f_indep_y = f_indep.values[:,2].astype(int)\n",
    "fi_low_dim_embs = tsne.fit_transform(f_indep_x)\n",
    "fi_labels = f_indep_y\n",
    "plot_with_labels(fi_low_dim_embs, fi_labels, 'feature_based_indep.png')"
   ]
  },
  {
   "cell_type": "code",
   "execution_count": 4,
   "metadata": {
    "collapsed": true
   },
   "outputs": [],
   "source": [
    "# 2017.6.2.\n",
    "under = pd.read_table(\"/DAS_Storage1/aschoi/data/Drug_Repositioning/data/desc_12/under.tsv\")"
   ]
  },
  {
   "cell_type": "code",
   "execution_count": 6,
   "metadata": {
    "collapsed": true
   },
   "outputs": [],
   "source": [
    "x_whole_data = under[under.columns.values[3:].tolist()].values\n",
    "y_whole_data = under[\"association\"].values"
   ]
  },
  {
   "cell_type": "code",
   "execution_count": 7,
   "metadata": {
    "collapsed": false
   },
   "outputs": [
    {
     "name": "stderr",
     "output_type": "stream",
     "text": [
      "/usr/local/lib/python2.7/dist-packages/matplotlib/font_manager.py:273: UserWarning: Matplotlib is building the font cache using fc-list. This may take a moment.\n",
      "  warnings.warn('Matplotlib is building the font cache using fc-list. This may take a moment.')\n"
     ]
    }
   ],
   "source": [
    "try:\n",
    "    from sklearn.manifold import TSNE\n",
    "    import matplotlib.pyplot as plt\n",
    "    tsne = TSNE(perplexity=30, n_components=2, init='pca', n_iter=5000)\n",
    "    #plot_only = 1000\n",
    "    low_dim_embs = tsne.fit_transform(x_whole_data)\n",
    "    labels = y_whole_data\n",
    "    plot_with_labels(low_dim_embs, labels, \"underunder\")\n",
    "except ImportError:\n",
    "    print(\"Please install sklearn, matplotlib, and scipy to visualize embeddings.\")"
   ]
  },
  {
   "cell_type": "code",
   "execution_count": 9,
   "metadata": {
    "collapsed": true
   },
   "outputs": [],
   "source": [
    "neg = pd.read_table(\"/DAS_Storage1/aschoi/data/Drug_Repositioning/data/desc_12/gold_neg_desc12.tsv\")\n",
    "pos = pd.read_table(\"/DAS_Storage1/aschoi/data/Drug_Repositioning/data/desc_12/gold_pos_desc12.tsv\")"
   ]
  },
  {
   "cell_type": "code",
   "execution_count": 11,
   "metadata": {
    "collapsed": false
   },
   "outputs": [],
   "source": [
    "concated = pd.concat([neg, pos])"
   ]
  },
  {
   "cell_type": "code",
   "execution_count": 20,
   "metadata": {
    "collapsed": true
   },
   "outputs": [],
   "source": [
    "indep = pd.read_table(\"/DAS_Storage1/aschoi/data/Drug_Repositioning/data/desc_12/indep_desc12.tsv\")\n",
    "indep_x = indep[indep.columns.values[3:].tolist()].values\n",
    "indep_y = indep[\"association\"].values"
   ]
  },
  {
   "cell_type": "code",
   "execution_count": 14,
   "metadata": {
    "collapsed": true
   },
   "outputs": [],
   "source": [
    "x_whole_data = concated[concated.columns.values[3:].tolist()].values\n",
    "y_whole_data = concated[\"association\"].values"
   ]
  },
  {
   "cell_type": "code",
   "execution_count": 17,
   "metadata": {
    "collapsed": false
   },
   "outputs": [],
   "source": [
    "from imblearn.under_sampling import RandomUnderSampler\n",
    "# undersampler\n",
    "rus = RandomUnderSampler(ratio=0.5)\n",
    "x_resampled, y_resampled = rus.fit_sample(x_whole_data, y_whole_data)"
   ]
  },
  {
   "cell_type": "code",
   "execution_count": 18,
   "metadata": {
    "collapsed": false
   },
   "outputs": [],
   "source": [
    "low_dim_embs = tsne.fit_transform(x_resampled)\n",
    "labels = y_resampled\n",
    "plot_with_labels(low_dim_embs, labels, \"under2\")"
   ]
  },
  {
   "cell_type": "code",
   "execution_count": 21,
   "metadata": {
    "collapsed": true
   },
   "outputs": [],
   "source": [
    "low_dim_embs = tsne.fit_transform(indep_x)\n",
    "labels = indep_y\n",
    "plot_with_labels(low_dim_embs, labels, \"indep_12\")"
   ]
  },
  {
   "cell_type": "code",
   "execution_count": null,
   "metadata": {
    "collapsed": true
   },
   "outputs": [],
   "source": []
  }
 ],
 "metadata": {
  "kernelspec": {
   "display_name": "Python 2",
   "language": "python",
   "name": "python2"
  },
  "language_info": {
   "codemirror_mode": {
    "name": "ipython",
    "version": 2
   },
   "file_extension": ".py",
   "mimetype": "text/x-python",
   "name": "python",
   "nbconvert_exporter": "python",
   "pygments_lexer": "ipython2",
   "version": "2.7.6"
  }
 },
 "nbformat": 4,
 "nbformat_minor": 0
}
