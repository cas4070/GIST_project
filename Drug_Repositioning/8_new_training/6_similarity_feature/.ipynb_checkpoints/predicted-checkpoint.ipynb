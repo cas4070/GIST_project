{
 "cells": [
  {
   "cell_type": "code",
   "execution_count": 2,
   "metadata": {
    "collapsed": true
   },
   "outputs": [],
   "source": [
    "import pandas as pd\n",
    "import numpy as np"
   ]
  },
  {
   "cell_type": "code",
   "execution_count": 4,
   "metadata": {
    "collapsed": false
   },
   "outputs": [],
   "source": [
    "g_pos = pd.read_table(\"/DAS_Storage1/aschoi/data/Drug_Repositioning/data/desc_12/gold_pos_desc12.tsv\")\n",
    "g_neg = pd.read_table(\"/DAS_Storage1/aschoi/data/Drug_Repositioning/data/desc_12/gold_neg_desc12.tsv\")\n",
    "ind = pd.read_table(\"/DAS_Storage1/aschoi/data/Drug_Repositioning/data/desc_12/indep_desc12.tsv\")\n",
    "diGo = pd.read_table(\"/DAS_Storage1/aschoi/data/Drug_Repositioning/data/1_neg_didi_GoSim.tsv\")\n",
    "diHpo = pd.read_table(\"/DAS_Storage1/aschoi/data/Drug_Repositioning/data/1_neg_didi_HpoSim.tsv\")\n",
    "diPhe = pd.read_table(\"/DAS_Storage1/aschoi/data/Drug_Repositioning/data/1_neg_didi_PheSim.tsv\")\n",
    "drGo = pd.read_table(\"/DAS_Storage1/aschoi/data/Drug_Repositioning/data/1_neg_drdr_GoSim.tsv\")\n",
    "drStr = pd.read_table(\"/DAS_Storage1/aschoi/data/Drug_Repositioning/data/1_neg_drdr_StrSim.tsv\")\n",
    "drPhe = pd.read_table(\"/DAS_Storage1/aschoi/data/Drug_Repositioning/data/1_neg_drdr_PheSim.tsv\")\n",
    "drTar = pd.read_table(\"/DAS_Storage1/aschoi/data/Drug_Repositioning/data/1_neg_drdr_TarSim.tsv\")"
   ]
  },
  {
   "cell_type": "code",
   "execution_count": 40,
   "metadata": {
    "collapsed": true
   },
   "outputs": [],
   "source": [
    "idiGo = pd.read_table(\"/DAS_Storage1/aschoi/data/Drug_Repositioning/data/3_indep_didi_goSim.tsv\")\n",
    "idiHpo = pd.read_table(\"/DAS_Storage1/aschoi/data/Drug_Repositioning/data/3_indep_didi_hpoSim.tsv\")\n",
    "idiPhe = pd.read_table(\"/DAS_Storage1/aschoi/data/Drug_Repositioning/data/3_indep_didi_pheSim.tsv\")\n",
    "idrGo = pd.read_table(\"/DAS_Storage1/aschoi/data/Drug_Repositioning/data/3_indep_drdr_goSim.tsv\")\n",
    "idrStr = pd.read_table(\"/DAS_Storage1/aschoi/data/Drug_Repositioning/data/3_indep_drdr_strSim.tsv\")\n",
    "idrPhe = pd.read_table(\"/DAS_Storage1/aschoi/data/Drug_Repositioning/data/3_indep_drdr_pheSim.tsv\")\n",
    "idrTar = pd.read_table(\"/DAS_Storage1/aschoi/data/Drug_Repositioning/data/3_indep_drdr_tarSim.tsv\")"
   ]
  },
  {
   "cell_type": "code",
   "execution_count": 5,
   "metadata": {
    "collapsed": true
   },
   "outputs": [],
   "source": [
    "gold = pd.concat([g_pos, g_neg])"
   ]
  },
  {
   "cell_type": "code",
   "execution_count": 45,
   "metadata": {
    "collapsed": false
   },
   "outputs": [
    {
     "name": "stdout",
     "output_type": "stream",
     "text": [
      "71 34\n"
     ]
    },
    {
     "data": {
      "text/html": [
       "<div>\n",
       "<table border=\"1\" class=\"dataframe\">\n",
       "  <thead>\n",
       "    <tr style=\"text-align: right;\">\n",
       "      <th></th>\n",
       "      <th>drug_id</th>\n",
       "      <th>disease_id</th>\n",
       "      <th>association</th>\n",
       "      <th>drStr_diGo</th>\n",
       "      <th>drStr_diHpo</th>\n",
       "      <th>drStr_diPhe</th>\n",
       "      <th>drPhe_diGo</th>\n",
       "      <th>drPhe_diHpo</th>\n",
       "      <th>drPhe_diPhe</th>\n",
       "      <th>drGo_diGo</th>\n",
       "      <th>drGo_diHpo</th>\n",
       "      <th>drGo_diPhe</th>\n",
       "      <th>drTar_diGo</th>\n",
       "      <th>drTar_diHpo</th>\n",
       "      <th>drTar_diPhe</th>\n",
       "    </tr>\n",
       "  </thead>\n",
       "  <tbody>\n",
       "    <tr>\n",
       "      <th>0</th>\n",
       "      <td>DB00125</td>\n",
       "      <td>102300</td>\n",
       "      <td>0</td>\n",
       "      <td>0.484562</td>\n",
       "      <td>0.632456</td>\n",
       "      <td>0.632456</td>\n",
       "      <td>0.745309</td>\n",
       "      <td>0.972786</td>\n",
       "      <td>0.972786</td>\n",
       "      <td>0.353597</td>\n",
       "      <td>0.461519</td>\n",
       "      <td>0.461519</td>\n",
       "      <td>0.452769</td>\n",
       "      <td>0.467175</td>\n",
       "      <td>0.315289</td>\n",
       "    </tr>\n",
       "  </tbody>\n",
       "</table>\n",
       "</div>"
      ],
      "text/plain": [
       "   drug_id  disease_id  association  drStr_diGo  drStr_diHpo  drStr_diPhe  \\\n",
       "0  DB00125      102300            0    0.484562     0.632456     0.632456   \n",
       "\n",
       "   drPhe_diGo  drPhe_diHpo  drPhe_diPhe  drGo_diGo  drGo_diHpo  drGo_diPhe  \\\n",
       "0    0.745309     0.972786     0.972786   0.353597    0.461519    0.461519   \n",
       "\n",
       "   drTar_diGo  drTar_diHpo  drTar_diPhe  \n",
       "0    0.452769     0.467175     0.315289  "
      ]
     },
     "execution_count": 45,
     "metadata": {},
     "output_type": "execute_result"
    }
   ],
   "source": [
    "print len(ind.drug_id.drop_duplicates()), len(ind.disease_id.drop_duplicates())\n",
    "ind.head(1)"
   ]
  },
  {
   "cell_type": "code",
   "execution_count": 49,
   "metadata": {
    "collapsed": false
   },
   "outputs": [
    {
     "data": {
      "text/html": [
       "<div>\n",
       "<table border=\"1\" class=\"dataframe\">\n",
       "  <thead>\n",
       "    <tr style=\"text-align: right;\">\n",
       "      <th></th>\n",
       "      <th>drug_id</th>\n",
       "      <th>disease_id</th>\n",
       "      <th>association</th>\n",
       "      <th>drStr_diGo</th>\n",
       "      <th>drStr_diHpo</th>\n",
       "      <th>drStr_diPhe</th>\n",
       "      <th>drPhe_diGo</th>\n",
       "      <th>drPhe_diHpo</th>\n",
       "      <th>drPhe_diPhe</th>\n",
       "      <th>drGo_diGo</th>\n",
       "      <th>drGo_diHpo</th>\n",
       "      <th>drGo_diPhe</th>\n",
       "      <th>drTar_diGo</th>\n",
       "      <th>drTar_diHpo</th>\n",
       "      <th>drTar_diPhe</th>\n",
       "    </tr>\n",
       "  </thead>\n",
       "  <tbody>\n",
       "    <tr>\n",
       "      <th>0</th>\n",
       "      <td>DB00114</td>\n",
       "      <td>239350</td>\n",
       "      <td>1</td>\n",
       "      <td>0.661067</td>\n",
       "      <td>0.80403</td>\n",
       "      <td>0.80403</td>\n",
       "      <td>0.854511</td>\n",
       "      <td>0.962981</td>\n",
       "      <td>0.962981</td>\n",
       "      <td>0.459157</td>\n",
       "      <td>0.557674</td>\n",
       "      <td>0.557674</td>\n",
       "      <td>0.822192</td>\n",
       "      <td>1.0</td>\n",
       "      <td>1.0</td>\n",
       "    </tr>\n",
       "  </tbody>\n",
       "</table>\n",
       "</div>"
      ],
      "text/plain": [
       "   drug_id  disease_id  association  drStr_diGo  drStr_diHpo  drStr_diPhe  \\\n",
       "0  DB00114      239350            1    0.661067      0.80403      0.80403   \n",
       "\n",
       "   drPhe_diGo  drPhe_diHpo  drPhe_diPhe  drGo_diGo  drGo_diHpo  drGo_diPhe  \\\n",
       "0    0.854511     0.962981     0.962981   0.459157    0.557674    0.557674   \n",
       "\n",
       "   drTar_diGo  drTar_diHpo  drTar_diPhe  \n",
       "0    0.822192          1.0          1.0  "
      ]
     },
     "execution_count": 49,
     "metadata": {},
     "output_type": "execute_result"
    }
   ],
   "source": [
    "gold.head(1)"
   ]
  },
  {
   "cell_type": "code",
   "execution_count": 52,
   "metadata": {
    "collapsed": false
   },
   "outputs": [
    {
     "data": {
      "text/html": [
       "<div>\n",
       "<table border=\"1\" class=\"dataframe\">\n",
       "  <thead>\n",
       "    <tr style=\"text-align: right;\">\n",
       "      <th></th>\n",
       "      <th>association</th>\n",
       "      <th>drGoSim</th>\n",
       "      <th>gold_drug</th>\n",
       "      <th>indep_drug</th>\n",
       "    </tr>\n",
       "  </thead>\n",
       "  <tbody>\n",
       "    <tr>\n",
       "      <th>0</th>\n",
       "      <td>1</td>\n",
       "      <td>0.234</td>\n",
       "      <td>DB00659</td>\n",
       "      <td>DB01200</td>\n",
       "    </tr>\n",
       "  </tbody>\n",
       "</table>\n",
       "</div>"
      ],
      "text/plain": [
       "   association  drGoSim gold_drug indep_drug\n",
       "0            1    0.234   DB00659    DB01200"
      ]
     },
     "execution_count": 52,
     "metadata": {},
     "output_type": "execute_result"
    }
   ],
   "source": [
    "idrGo.head(1)"
   ]
  },
  {
   "cell_type": "code",
   "execution_count": 54,
   "metadata": {
    "collapsed": false
   },
   "outputs": [
    {
     "data": {
      "text/plain": [
       "68     DB00215\n",
       "623    DB00659\n",
       "685    DB00704\n",
       "819    DB00822\n",
       "898    DB00904\n",
       "Name: drug_id, dtype: object"
      ]
     },
     "execution_count": 54,
     "metadata": {},
     "output_type": "execute_result"
    }
   ],
   "source": [
    "ids = g_pos[g_pos.disease_id == 103780]['drug_id'].drop_duplicates()\n",
    "ids"
   ]
  },
  {
   "cell_type": "code",
   "execution_count": 69,
   "metadata": {
    "collapsed": false
   },
   "outputs": [
    {
     "data": {
      "text/html": [
       "<div>\n",
       "<table border=\"1\" class=\"dataframe\">\n",
       "  <thead>\n",
       "    <tr style=\"text-align: right;\">\n",
       "      <th></th>\n",
       "      <th>association</th>\n",
       "      <th>drGoSim</th>\n",
       "      <th>gold_drug</th>\n",
       "      <th>indep_drug</th>\n",
       "    </tr>\n",
       "  </thead>\n",
       "  <tbody>\n",
       "    <tr>\n",
       "      <th>2874130</th>\n",
       "      <td>0</td>\n",
       "      <td>0.139</td>\n",
       "      <td>DB00659</td>\n",
       "      <td>DB00176</td>\n",
       "    </tr>\n",
       "    <tr>\n",
       "      <th>2874366</th>\n",
       "      <td>0</td>\n",
       "      <td>0.443</td>\n",
       "      <td>DB00215</td>\n",
       "      <td>DB00176</td>\n",
       "    </tr>\n",
       "    <tr>\n",
       "      <th>2874490</th>\n",
       "      <td>0</td>\n",
       "      <td>0.015</td>\n",
       "      <td>DB00822</td>\n",
       "      <td>DB00176</td>\n",
       "    </tr>\n",
       "    <tr>\n",
       "      <th>2874972</th>\n",
       "      <td>0</td>\n",
       "      <td>0.121</td>\n",
       "      <td>DB00704</td>\n",
       "      <td>DB00176</td>\n",
       "    </tr>\n",
       "    <tr>\n",
       "      <th>2875025</th>\n",
       "      <td>0</td>\n",
       "      <td>0.147</td>\n",
       "      <td>DB00904</td>\n",
       "      <td>DB00176</td>\n",
       "    </tr>\n",
       "  </tbody>\n",
       "</table>\n",
       "</div>"
      ],
      "text/plain": [
       "         association  drGoSim gold_drug indep_drug\n",
       "2874130            0    0.139   DB00659    DB00176\n",
       "2874366            0    0.443   DB00215    DB00176\n",
       "2874490            0    0.015   DB00822    DB00176\n",
       "2874972            0    0.121   DB00704    DB00176\n",
       "2875025            0    0.147   DB00904    DB00176"
      ]
     },
     "execution_count": 69,
     "metadata": {},
     "output_type": "execute_result"
    }
   ],
   "source": [
    "idrGo[(idrGo.gold_drug.isin(ids))&(idrGo.indep_drug == 'DB00176')].drop_duplicates(['gold_drug', 'indep_drug'])"
   ]
  },
  {
   "cell_type": "code",
   "execution_count": 70,
   "metadata": {
    "collapsed": false,
    "scrolled": true
   },
   "outputs": [
    {
     "data": {
      "text/html": [
       "<div>\n",
       "<table border=\"1\" class=\"dataframe\">\n",
       "  <thead>\n",
       "    <tr style=\"text-align: right;\">\n",
       "      <th></th>\n",
       "      <th>association</th>\n",
       "      <th>drStrSim</th>\n",
       "      <th>gold_drug</th>\n",
       "      <th>indep_drug</th>\n",
       "    </tr>\n",
       "  </thead>\n",
       "  <tbody>\n",
       "    <tr>\n",
       "      <th>2874130</th>\n",
       "      <td>0</td>\n",
       "      <td>0.053571</td>\n",
       "      <td>DB00659</td>\n",
       "      <td>DB00176</td>\n",
       "    </tr>\n",
       "    <tr>\n",
       "      <th>2874366</th>\n",
       "      <td>0</td>\n",
       "      <td>0.312977</td>\n",
       "      <td>DB00215</td>\n",
       "      <td>DB00176</td>\n",
       "    </tr>\n",
       "    <tr>\n",
       "      <th>2874490</th>\n",
       "      <td>0</td>\n",
       "      <td>0.046729</td>\n",
       "      <td>DB00822</td>\n",
       "      <td>DB00176</td>\n",
       "    </tr>\n",
       "    <tr>\n",
       "      <th>2874972</th>\n",
       "      <td>0</td>\n",
       "      <td>0.229947</td>\n",
       "      <td>DB00704</td>\n",
       "      <td>DB00176</td>\n",
       "    </tr>\n",
       "    <tr>\n",
       "      <th>2875025</th>\n",
       "      <td>0</td>\n",
       "      <td>0.240223</td>\n",
       "      <td>DB00904</td>\n",
       "      <td>DB00176</td>\n",
       "    </tr>\n",
       "  </tbody>\n",
       "</table>\n",
       "</div>"
      ],
      "text/plain": [
       "         association  drStrSim gold_drug indep_drug\n",
       "2874130            0  0.053571   DB00659    DB00176\n",
       "2874366            0  0.312977   DB00215    DB00176\n",
       "2874490            0  0.046729   DB00822    DB00176\n",
       "2874972            0  0.229947   DB00704    DB00176\n",
       "2875025            0  0.240223   DB00904    DB00176"
      ]
     },
     "execution_count": 70,
     "metadata": {},
     "output_type": "execute_result"
    }
   ],
   "source": [
    "idrStr[(idrStr.gold_drug.isin(ids))&(idrStr.indep_drug == 'DB00176')].drop_duplicates(['gold_drug', 'indep_drug'])"
   ]
  },
  {
   "cell_type": "code",
   "execution_count": 71,
   "metadata": {
    "collapsed": false,
    "scrolled": true
   },
   "outputs": [
    {
     "data": {
      "text/html": [
       "<div>\n",
       "<table border=\"1\" class=\"dataframe\">\n",
       "  <thead>\n",
       "    <tr style=\"text-align: right;\">\n",
       "      <th></th>\n",
       "      <th>association</th>\n",
       "      <th>drPheSim</th>\n",
       "      <th>gold_drug</th>\n",
       "      <th>indep_drug</th>\n",
       "    </tr>\n",
       "  </thead>\n",
       "  <tbody>\n",
       "    <tr>\n",
       "      <th>2874130</th>\n",
       "      <td>0</td>\n",
       "      <td>0.867137</td>\n",
       "      <td>DB00659</td>\n",
       "      <td>DB00176</td>\n",
       "    </tr>\n",
       "    <tr>\n",
       "      <th>2874366</th>\n",
       "      <td>0</td>\n",
       "      <td>0.725054</td>\n",
       "      <td>DB00215</td>\n",
       "      <td>DB00176</td>\n",
       "    </tr>\n",
       "    <tr>\n",
       "      <th>2874490</th>\n",
       "      <td>0</td>\n",
       "      <td>0.853037</td>\n",
       "      <td>DB00822</td>\n",
       "      <td>DB00176</td>\n",
       "    </tr>\n",
       "    <tr>\n",
       "      <th>2874972</th>\n",
       "      <td>0</td>\n",
       "      <td>0.853037</td>\n",
       "      <td>DB00704</td>\n",
       "      <td>DB00176</td>\n",
       "    </tr>\n",
       "    <tr>\n",
       "      <th>2875025</th>\n",
       "      <td>0</td>\n",
       "      <td>0.799349</td>\n",
       "      <td>DB00904</td>\n",
       "      <td>DB00176</td>\n",
       "    </tr>\n",
       "  </tbody>\n",
       "</table>\n",
       "</div>"
      ],
      "text/plain": [
       "         association  drPheSim gold_drug indep_drug\n",
       "2874130            0  0.867137   DB00659    DB00176\n",
       "2874366            0  0.725054   DB00215    DB00176\n",
       "2874490            0  0.853037   DB00822    DB00176\n",
       "2874972            0  0.853037   DB00704    DB00176\n",
       "2875025            0  0.799349   DB00904    DB00176"
      ]
     },
     "execution_count": 71,
     "metadata": {},
     "output_type": "execute_result"
    }
   ],
   "source": [
    "idrPhe[(idrPhe.gold_drug.isin(ids))&(idrPhe.indep_drug == 'DB00176')].drop_duplicates(['gold_drug', 'indep_drug'])"
   ]
  },
  {
   "cell_type": "code",
   "execution_count": 72,
   "metadata": {
    "collapsed": false,
    "scrolled": true
   },
   "outputs": [
    {
     "data": {
      "text/html": [
       "<div>\n",
       "<table border=\"1\" class=\"dataframe\">\n",
       "  <thead>\n",
       "    <tr style=\"text-align: right;\">\n",
       "      <th></th>\n",
       "      <th>association</th>\n",
       "      <th>drTarSim</th>\n",
       "      <th>gold_drug</th>\n",
       "      <th>indep_drug</th>\n",
       "    </tr>\n",
       "  </thead>\n",
       "  <tbody>\n",
       "    <tr>\n",
       "      <th>2874130</th>\n",
       "      <td>0</td>\n",
       "      <td>0.020685</td>\n",
       "      <td>DB00659</td>\n",
       "      <td>DB00176</td>\n",
       "    </tr>\n",
       "    <tr>\n",
       "      <th>2874366</th>\n",
       "      <td>0</td>\n",
       "      <td>1.000000</td>\n",
       "      <td>DB00215</td>\n",
       "      <td>DB00176</td>\n",
       "    </tr>\n",
       "    <tr>\n",
       "      <th>2874490</th>\n",
       "      <td>0</td>\n",
       "      <td>0.015072</td>\n",
       "      <td>DB00822</td>\n",
       "      <td>DB00176</td>\n",
       "    </tr>\n",
       "    <tr>\n",
       "      <th>2874972</th>\n",
       "      <td>0</td>\n",
       "      <td>0.021860</td>\n",
       "      <td>DB00704</td>\n",
       "      <td>DB00176</td>\n",
       "    </tr>\n",
       "    <tr>\n",
       "      <th>2875025</th>\n",
       "      <td>0</td>\n",
       "      <td>0.021756</td>\n",
       "      <td>DB00904</td>\n",
       "      <td>DB00176</td>\n",
       "    </tr>\n",
       "  </tbody>\n",
       "</table>\n",
       "</div>"
      ],
      "text/plain": [
       "         association  drTarSim gold_drug indep_drug\n",
       "2874130            0  0.020685   DB00659    DB00176\n",
       "2874366            0  1.000000   DB00215    DB00176\n",
       "2874490            0  0.015072   DB00822    DB00176\n",
       "2874972            0  0.021860   DB00704    DB00176\n",
       "2875025            0  0.021756   DB00904    DB00176"
      ]
     },
     "execution_count": 72,
     "metadata": {},
     "output_type": "execute_result"
    }
   ],
   "source": [
    "idrTar[(idrTar.gold_drug.isin(ids))&(idrTar.indep_drug == 'DB00176')].drop_duplicates(['gold_drug', 'indep_drug'])"
   ]
  },
  {
   "cell_type": "code",
   "execution_count": 90,
   "metadata": {
    "collapsed": false
   },
   "outputs": [
    {
     "data": {
      "text/html": [
       "<div>\n",
       "<table border=\"1\" class=\"dataframe\">\n",
       "  <thead>\n",
       "    <tr style=\"text-align: right;\">\n",
       "      <th></th>\n",
       "      <th>drug_id</th>\n",
       "      <th>disease_id</th>\n",
       "      <th>association</th>\n",
       "      <th>drStr_diGo</th>\n",
       "      <th>drStr_diHpo</th>\n",
       "      <th>drStr_diPhe</th>\n",
       "      <th>drPhe_diGo</th>\n",
       "      <th>drPhe_diHpo</th>\n",
       "      <th>drPhe_diPhe</th>\n",
       "      <th>drGo_diGo</th>\n",
       "      <th>drGo_diHpo</th>\n",
       "      <th>drGo_diPhe</th>\n",
       "      <th>drTar_diGo</th>\n",
       "      <th>drTar_diHpo</th>\n",
       "      <th>drTar_diPhe</th>\n",
       "    </tr>\n",
       "  </thead>\n",
       "  <tbody>\n",
       "    <tr>\n",
       "      <th>103</th>\n",
       "      <td>DB00176</td>\n",
       "      <td>103780</td>\n",
       "      <td>0</td>\n",
       "      <td>0.563028</td>\n",
       "      <td>0.810822</td>\n",
       "      <td>0.559444</td>\n",
       "      <td>0.749603</td>\n",
       "      <td>0.931202</td>\n",
       "      <td>0.931202</td>\n",
       "      <td>0.535784</td>\n",
       "      <td>0.665582</td>\n",
       "      <td>0.665582</td>\n",
       "      <td>0.804984</td>\n",
       "      <td>1.0</td>\n",
       "      <td>1.0</td>\n",
       "    </tr>\n",
       "  </tbody>\n",
       "</table>\n",
       "</div>"
      ],
      "text/plain": [
       "     drug_id  disease_id  association  drStr_diGo  drStr_diHpo  drStr_diPhe  \\\n",
       "103  DB00176      103780            0    0.563028     0.810822     0.559444   \n",
       "\n",
       "     drPhe_diGo  drPhe_diHpo  drPhe_diPhe  drGo_diGo  drGo_diHpo  drGo_diPhe  \\\n",
       "103    0.749603     0.931202     0.931202   0.535784    0.665582    0.665582   \n",
       "\n",
       "     drTar_diGo  drTar_diHpo  drTar_diPhe  \n",
       "103    0.804984          1.0          1.0  "
      ]
     },
     "execution_count": 90,
     "metadata": {},
     "output_type": "execute_result"
    }
   ],
   "source": [
    "ind[(ind.drug_id == 'DB00176') & (ind.disease_id == 103780)]"
   ]
  },
  {
   "cell_type": "code",
   "execution_count": 73,
   "metadata": {
    "collapsed": false
   },
   "outputs": [
    {
     "data": {
      "text/plain": [
       "14    164230\n",
       "Name: disease_id, dtype: int64"
      ]
     },
     "execution_count": 73,
     "metadata": {},
     "output_type": "execute_result"
    }
   ],
   "source": [
    "ids2 = g_pos[(g_pos.drug_id == 'DB00176')]['disease_id'].drop_duplicates()\n",
    "ids2"
   ]
  },
  {
   "cell_type": "code",
   "execution_count": null,
   "metadata": {
    "collapsed": true
   },
   "outputs": [],
   "source": [
    "idrTar[(idrTar.gold_drug.isin(ids))&(idrTar.indep_drug == 'DB00176')].drop_duplicates(['gold_drug', 'indep_drug'])"
   ]
  },
  {
   "cell_type": "code",
   "execution_count": null,
   "metadata": {
    "collapsed": true
   },
   "outputs": [],
   "source": [
    "idrTar[(idrTar.gold_drug.isin(ids))&(idrTar.indep_drug == 'DB00176')].drop_duplicates(['gold_drug', 'indep_drug'])"
   ]
  },
  {
   "cell_type": "code",
   "execution_count": null,
   "metadata": {
    "collapsed": true
   },
   "outputs": [],
   "source": [
    "idrTar[(idrTar.gold_drug.isin(ids))&(idrTar.indep_drug == 'DB00176')].drop_duplicates(['gold_drug', 'indep_drug'])"
   ]
  },
  {
   "cell_type": "code",
   "execution_count": 89,
   "metadata": {
    "collapsed": false
   },
   "outputs": [
    {
     "data": {
      "text/plain": [
       "association           1.000\n",
       "diGoSim               0.648\n",
       "gold_disease     608622.000\n",
       "indep_disease    103780.000\n",
       "dtype: float64"
      ]
     },
     "execution_count": 89,
     "metadata": {},
     "output_type": "execute_result"
    }
   ],
   "source": [
    "#idrStr[(idrStr.indep_drug == 'DB00176')&(idrStr.drStrSim !=  1)]\n",
    "idiGo[(idiGo.indep_disease == 103780)].max()"
   ]
  },
  {
   "cell_type": "code",
   "execution_count": null,
   "metadata": {
    "collapsed": true
   },
   "outputs": [],
   "source": [
    "idrStr[(idrStr.indep_drug == 'DB00176')&(idrStr.drStrSim !=  1)]"
   ]
  },
  {
   "cell_type": "code",
   "execution_count": 38,
   "metadata": {
    "collapsed": false
   },
   "outputs": [
    {
     "data": {
      "text/html": [
       "<div>\n",
       "<table border=\"1\" class=\"dataframe\">\n",
       "  <thead>\n",
       "    <tr style=\"text-align: right;\">\n",
       "      <th></th>\n",
       "      <th>drug_id</th>\n",
       "      <th>disease_id</th>\n",
       "      <th>association</th>\n",
       "      <th>drStr_diGo</th>\n",
       "      <th>drStr_diHpo</th>\n",
       "      <th>drStr_diPhe</th>\n",
       "      <th>drPhe_diGo</th>\n",
       "      <th>drPhe_diHpo</th>\n",
       "      <th>drPhe_diPhe</th>\n",
       "      <th>drGo_diGo</th>\n",
       "      <th>drGo_diHpo</th>\n",
       "      <th>drGo_diPhe</th>\n",
       "      <th>drTar_diGo</th>\n",
       "      <th>drTar_diHpo</th>\n",
       "      <th>drTar_diPhe</th>\n",
       "    </tr>\n",
       "  </thead>\n",
       "  <tbody>\n",
       "    <tr>\n",
       "      <th>0</th>\n",
       "      <td>DB00125</td>\n",
       "      <td>102300</td>\n",
       "      <td>0</td>\n",
       "      <td>0.484562</td>\n",
       "      <td>0.632456</td>\n",
       "      <td>0.632456</td>\n",
       "      <td>0.745309</td>\n",
       "      <td>0.972786</td>\n",
       "      <td>0.972786</td>\n",
       "      <td>0.353597</td>\n",
       "      <td>0.461519</td>\n",
       "      <td>0.461519</td>\n",
       "      <td>0.452769</td>\n",
       "      <td>0.467175</td>\n",
       "      <td>0.315289</td>\n",
       "    </tr>\n",
       "    <tr>\n",
       "      <th>1</th>\n",
       "      <td>DB00125</td>\n",
       "      <td>103780</td>\n",
       "      <td>0</td>\n",
       "      <td>0.411825</td>\n",
       "      <td>0.506835</td>\n",
       "      <td>0.404520</td>\n",
       "      <td>0.779479</td>\n",
       "      <td>0.968316</td>\n",
       "      <td>0.968316</td>\n",
       "      <td>0.421788</td>\n",
       "      <td>0.439318</td>\n",
       "      <td>0.439318</td>\n",
       "      <td>0.644981</td>\n",
       "      <td>0.379749</td>\n",
       "      <td>0.353454</td>\n",
       "    </tr>\n",
       "    <tr>\n",
       "      <th>2</th>\n",
       "      <td>DB00125</td>\n",
       "      <td>104300</td>\n",
       "      <td>0</td>\n",
       "      <td>0.474701</td>\n",
       "      <td>0.583874</td>\n",
       "      <td>0.583874</td>\n",
       "      <td>0.873914</td>\n",
       "      <td>0.963825</td>\n",
       "      <td>0.963825</td>\n",
       "      <td>0.484071</td>\n",
       "      <td>0.515752</td>\n",
       "      <td>0.515752</td>\n",
       "      <td>0.682642</td>\n",
       "      <td>0.357869</td>\n",
       "      <td>0.474516</td>\n",
       "    </tr>\n",
       "    <tr>\n",
       "      <th>3</th>\n",
       "      <td>DB00125</td>\n",
       "      <td>115195</td>\n",
       "      <td>0</td>\n",
       "      <td>0.383578</td>\n",
       "      <td>0.418241</td>\n",
       "      <td>0.381616</td>\n",
       "      <td>0.756335</td>\n",
       "      <td>0.933819</td>\n",
       "      <td>0.933819</td>\n",
       "      <td>0.396201</td>\n",
       "      <td>0.488876</td>\n",
       "      <td>0.488876</td>\n",
       "      <td>0.577062</td>\n",
       "      <td>0.174921</td>\n",
       "      <td>0.229918</td>\n",
       "    </tr>\n",
       "    <tr>\n",
       "      <th>4</th>\n",
       "      <td>DB00125</td>\n",
       "      <td>137580</td>\n",
       "      <td>0</td>\n",
       "      <td>0.477912</td>\n",
       "      <td>0.545777</td>\n",
       "      <td>0.545777</td>\n",
       "      <td>0.816983</td>\n",
       "      <td>0.990738</td>\n",
       "      <td>0.990738</td>\n",
       "      <td>0.374273</td>\n",
       "      <td>0.453872</td>\n",
       "      <td>0.453872</td>\n",
       "      <td>0.384708</td>\n",
       "      <td>0.501640</td>\n",
       "      <td>0.367978</td>\n",
       "    </tr>\n",
       "  </tbody>\n",
       "</table>\n",
       "</div>"
      ],
      "text/plain": [
       "   drug_id  disease_id  association  drStr_diGo  drStr_diHpo  drStr_diPhe  \\\n",
       "0  DB00125      102300            0    0.484562     0.632456     0.632456   \n",
       "1  DB00125      103780            0    0.411825     0.506835     0.404520   \n",
       "2  DB00125      104300            0    0.474701     0.583874     0.583874   \n",
       "3  DB00125      115195            0    0.383578     0.418241     0.381616   \n",
       "4  DB00125      137580            0    0.477912     0.545777     0.545777   \n",
       "\n",
       "   drPhe_diGo  drPhe_diHpo  drPhe_diPhe  drGo_diGo  drGo_diHpo  drGo_diPhe  \\\n",
       "0    0.745309     0.972786     0.972786   0.353597    0.461519    0.461519   \n",
       "1    0.779479     0.968316     0.968316   0.421788    0.439318    0.439318   \n",
       "2    0.873914     0.963825     0.963825   0.484071    0.515752    0.515752   \n",
       "3    0.756335     0.933819     0.933819   0.396201    0.488876    0.488876   \n",
       "4    0.816983     0.990738     0.990738   0.374273    0.453872    0.453872   \n",
       "\n",
       "   drTar_diGo  drTar_diHpo  drTar_diPhe  \n",
       "0    0.452769     0.467175     0.315289  \n",
       "1    0.644981     0.379749     0.353454  \n",
       "2    0.682642     0.357869     0.474516  \n",
       "3    0.577062     0.174921     0.229918  \n",
       "4    0.384708     0.501640     0.367978  "
      ]
     },
     "execution_count": 38,
     "metadata": {},
     "output_type": "execute_result"
    }
   ],
   "source": [
    "ind.head()"
   ]
  },
  {
   "cell_type": "code",
   "execution_count": 91,
   "metadata": {
    "collapsed": true
   },
   "outputs": [],
   "source": [
    "drStr_diGo = pd.read_table(\"/DAS_Storage1/aschoi/data/Drug_Repositioning/data/4_indep_descriptor_drStrdiGo.tsv\")"
   ]
  },
  {
   "cell_type": "code",
   "execution_count": 94,
   "metadata": {
    "collapsed": false
   },
   "outputs": [
    {
     "data": {
      "text/html": [
       "<div>\n",
       "<table border=\"1\" class=\"dataframe\">\n",
       "  <thead>\n",
       "    <tr style=\"text-align: right;\">\n",
       "      <th></th>\n",
       "      <th>indep_drug</th>\n",
       "      <th>indep_disease</th>\n",
       "      <th>drStr_diGo</th>\n",
       "    </tr>\n",
       "  </thead>\n",
       "  <tbody>\n",
       "    <tr>\n",
       "      <th>103</th>\n",
       "      <td>DB00176</td>\n",
       "      <td>103780</td>\n",
       "      <td>0.563028</td>\n",
       "    </tr>\n",
       "  </tbody>\n",
       "</table>\n",
       "</div>"
      ],
      "text/plain": [
       "    indep_drug  indep_disease  drStr_diGo\n",
       "103    DB00176         103780    0.563028"
      ]
     },
     "execution_count": 94,
     "metadata": {},
     "output_type": "execute_result"
    }
   ],
   "source": [
    "drStr_diGo[(drStr_diGo.indep_drug == 'DB00176')&(drStr_diGo.indep_disease == 103780)]"
   ]
  },
  {
   "cell_type": "code",
   "execution_count": 97,
   "metadata": {
    "collapsed": false
   },
   "outputs": [
    {
     "data": {
      "text/html": [
       "<div>\n",
       "<table border=\"1\" class=\"dataframe\">\n",
       "  <thead>\n",
       "    <tr style=\"text-align: right;\">\n",
       "      <th></th>\n",
       "      <th>drStrSim</th>\n",
       "      <th>pos_drug</th>\n",
       "      <th>query_drug</th>\n",
       "    </tr>\n",
       "  </thead>\n",
       "  <tbody>\n",
       "    <tr>\n",
       "      <th>0</th>\n",
       "      <td>1.000000</td>\n",
       "      <td>DB00659</td>\n",
       "      <td>DB00659</td>\n",
       "    </tr>\n",
       "    <tr>\n",
       "      <th>1</th>\n",
       "      <td>0.125984</td>\n",
       "      <td>DB01193</td>\n",
       "      <td>DB00659</td>\n",
       "    </tr>\n",
       "    <tr>\n",
       "      <th>2</th>\n",
       "      <td>0.125984</td>\n",
       "      <td>DB01193</td>\n",
       "      <td>DB00659</td>\n",
       "    </tr>\n",
       "    <tr>\n",
       "      <th>3</th>\n",
       "      <td>0.171875</td>\n",
       "      <td>DB00316</td>\n",
       "      <td>DB00659</td>\n",
       "    </tr>\n",
       "    <tr>\n",
       "      <th>4</th>\n",
       "      <td>0.171875</td>\n",
       "      <td>DB00316</td>\n",
       "      <td>DB00659</td>\n",
       "    </tr>\n",
       "  </tbody>\n",
       "</table>\n",
       "</div>"
      ],
      "text/plain": [
       "   drStrSim pos_drug query_drug\n",
       "0  1.000000  DB00659    DB00659\n",
       "1  0.125984  DB01193    DB00659\n",
       "2  0.125984  DB01193    DB00659\n",
       "3  0.171875  DB00316    DB00659\n",
       "4  0.171875  DB00316    DB00659"
      ]
     },
     "execution_count": 97,
     "metadata": {},
     "output_type": "execute_result"
    }
   ],
   "source": [
    "drStr.head()"
   ]
  },
  {
   "cell_type": "code",
   "execution_count": 112,
   "metadata": {
    "collapsed": false
   },
   "outputs": [
    {
     "name": "stdout",
     "output_type": "stream",
     "text": [
      "3190670\n",
      "2399\n"
     ]
    }
   ],
   "source": [
    "# drStr + diGo\n",
    "temp = pd.concat([idrStr, idiGo], axis=1)\n",
    "drStr_diGo = temp[['indep_drug', 'indep_disease', 'gold_drug', 'gold_disease', 'drStrSim', 'diGoSim','association']]\n",
    "drStr_diGo = drStr_diGo.loc[:,~drStr_diGo.columns.duplicated()]\n",
    "del temp\n",
    "drStr_diGo['drStr_diGo'] = np.sqrt(drStr_diGo['drStrSim'] * drStr_diGo['diGoSim'])\n",
    "print len(drStr_diGo)\n",
    "sub_drStr_diGo = drStr_diGo[['indep_drug', 'indep_disease', 'gold_drug', 'gold_disease', 'drStr_diGo', 'association']]\n",
    "desc2 = sub_drStr_diGo.groupby(['indep_drug', 'indep_disease', 'association'])[['drStr_diGo']].max()\n",
    "print len(desc2)"
   ]
  },
  {
   "cell_type": "code",
   "execution_count": 131,
   "metadata": {
    "collapsed": false
   },
   "outputs": [
    {
     "name": "stdout",
     "output_type": "stream",
     "text": [
      "3190670\n",
      "2399\n"
     ]
    }
   ],
   "source": [
    "# drStr + diHpo\n",
    "temp = pd.concat([idrStr, idiHpo], axis=1)\n",
    "drStr_diHpo = temp[['indep_drug', 'indep_disease', 'gold_drug', 'gold_disease', 'drStrSim', 'diHpoSim','association']]\n",
    "drStr_diHpo = drStr_diHpo.loc[:,~drStr_diHpo.columns.duplicated()]\n",
    "del temp\n",
    "drStr_diHpo['drStr_diHpo'] = np.sqrt(drStr_diHpo['drStrSim'] * drStr_diHpo['diHpoSim'])\n",
    "print len(drStr_diHpo)\n",
    "sub_drStr_diHpo = drStr_diHpo[['indep_drug', 'indep_disease', 'gold_drug', 'gold_disease', 'drStr_diHpo', 'association']]\n",
    "desc2 = sub_drStr_diHpo.groupby(['indep_drug', 'indep_disease', 'association'])[['drStr_diHpo']].max()\n",
    "print len(desc2)"
   ]
  },
  {
   "cell_type": "code",
   "execution_count": 132,
   "metadata": {
    "collapsed": false
   },
   "outputs": [
    {
     "name": "stdout",
     "output_type": "stream",
     "text": [
      "3190670\n",
      "2399\n"
     ]
    }
   ],
   "source": [
    "# drStr + diPhe\n",
    "temp = pd.concat([idrStr, idiPhe], axis=1)\n",
    "drStr_diPhe = temp[['indep_drug', 'indep_disease', 'gold_drug', 'gold_disease', 'drStrSim', 'diPheSim','association']]\n",
    "drStr_diPhe = drStr_diPhe.loc[:,~drStr_diPhe.columns.duplicated()]\n",
    "del temp\n",
    "drStr_diPhe['drStr_diPhe'] = np.sqrt(drStr_diPhe['drStrSim'] * drStr_diPhe['diPheSim'])\n",
    "print len(drStr_diPhe)\n",
    "sub_drStr_diPhe = drStr_diPhe[['indep_drug', 'indep_disease', 'gold_drug', 'gold_disease', 'drStr_diPhe', 'association']]\n",
    "desc2 = sub_drStr_diPhe.groupby(['indep_drug', 'indep_disease', 'association'])[['drStr_diPhe']].max()\n",
    "print len(desc2)"
   ]
  },
  {
   "cell_type": "code",
   "execution_count": 113,
   "metadata": {
    "collapsed": false
   },
   "outputs": [
    {
     "name": "stdout",
     "output_type": "stream",
     "text": [
      "3190670\n",
      "2399\n"
     ]
    }
   ],
   "source": [
    "# drPhe + diGo\n",
    "temp = pd.concat([idrPhe, idiGo], axis=1)\n",
    "drPhe_diGo = temp[['indep_drug', 'indep_disease', 'gold_drug', 'gold_disease', 'drPheSim', 'diGoSim','association']]\n",
    "drPhe_diGo = drPhe_diGo.loc[:,~drPhe_diGo.columns.duplicated()]\n",
    "del temp\n",
    "drPhe_diGo['drPhe_diGo'] = np.sqrt(drPhe_diGo['drPheSim'] * drPhe_diGo['diGoSim'])\n",
    "print len(drPhe_diGo)\n",
    "sub_drPhe_diGo = drPhe_diGo[['indep_drug', 'indep_disease', 'gold_drug', 'gold_disease', 'drPhe_diGo', 'association']]\n",
    "desc3 = sub_drPhe_diGo.groupby(['indep_drug', 'indep_disease', 'association'])[['drPhe_diGo']].max()\n",
    "print len(desc2)"
   ]
  },
  {
   "cell_type": "code",
   "execution_count": 133,
   "metadata": {
    "collapsed": false
   },
   "outputs": [
    {
     "name": "stdout",
     "output_type": "stream",
     "text": [
      "3190670\n",
      "2399\n"
     ]
    }
   ],
   "source": [
    "# drPhe + diHpo\n",
    "temp = pd.concat([idrPhe, idiHpo], axis=1)\n",
    "drPhe_diHpo = temp[['indep_drug', 'indep_disease', 'gold_drug', 'gold_disease', 'drPheSim', 'diHpoSim','association']]\n",
    "drPhe_diHpo = drPhe_diHpo.loc[:,~drPhe_diHpo.columns.duplicated()]\n",
    "del temp\n",
    "drPhe_diHpo['drPhe_diHpo'] = np.sqrt(drPhe_diHpo['drPheSim'] * drPhe_diHpo['diHpoSim'])\n",
    "print len(drPhe_diHpo)\n",
    "sub_drPhe_diHpo = drPhe_diHpo[['indep_drug', 'indep_disease', 'gold_drug', 'gold_disease', 'drPhe_diHpo', 'association']]\n",
    "desc2 = sub_drPhe_diHpo.groupby(['indep_drug', 'indep_disease', 'association'])[['drPhe_diHpo']].max()\n",
    "print len(desc2)"
   ]
  },
  {
   "cell_type": "code",
   "execution_count": 134,
   "metadata": {
    "collapsed": false
   },
   "outputs": [
    {
     "name": "stdout",
     "output_type": "stream",
     "text": [
      "3190670\n",
      "2399\n"
     ]
    }
   ],
   "source": [
    "# drPhe + diPhe\n",
    "temp = pd.concat([idrPhe, idiPhe], axis=1)\n",
    "drPhe_diPhe = temp[['indep_drug', 'indep_disease', 'gold_drug', 'gold_disease', 'drPheSim', 'diPheSim','association']]\n",
    "drPhe_diPhe = drPhe_diPhe.loc[:,~drPhe_diPhe.columns.duplicated()]\n",
    "del temp\n",
    "drPhe_diPhe['drPhe_diPhe'] = np.sqrt(drPhe_diPhe['drPheSim'] * drPhe_diPhe['diPheSim'])\n",
    "print len(drPhe_diPhe)\n",
    "sub_drPhe_diPhe = drPhe_diPhe[['indep_drug', 'indep_disease', 'gold_drug', 'gold_disease', 'drPhe_diPhe', 'association']]\n",
    "desc2 = sub_drPhe_diPhe.groupby(['indep_drug', 'indep_disease', 'association'])[['drPhe_diPhe']].max()\n",
    "print len(desc2)"
   ]
  },
  {
   "cell_type": "code",
   "execution_count": 135,
   "metadata": {
    "collapsed": false
   },
   "outputs": [
    {
     "name": "stdout",
     "output_type": "stream",
     "text": [
      "3190670\n",
      "2399\n"
     ]
    }
   ],
   "source": [
    "# drGo + diGo\n",
    "temp = pd.concat([idrGo, idiGo], axis=1)\n",
    "drGo_diGo = temp[['indep_drug', 'indep_disease', 'gold_drug', 'gold_disease', 'drGoSim', 'diGoSim','association']]\n",
    "drGo_diGo = drGo_diGo.loc[:,~drGo_diGo.columns.duplicated()]\n",
    "del temp\n",
    "drGo_diGo['drGo_diGo'] = np.sqrt(drGo_diGo['drGoSim'] * drGo_diGo['diGoSim'])\n",
    "print len(drGo_diGo)\n",
    "sub_drGo_diGo = drGo_diGo[['indep_drug', 'indep_disease', 'gold_drug', 'gold_disease', 'drGo_diGo', 'association']]\n",
    "desc2 = sub_drGo_diGo.groupby(['indep_drug', 'indep_disease', 'association'])[['drGo_diGo']].max()\n",
    "print len(desc2)"
   ]
  },
  {
   "cell_type": "code",
   "execution_count": 136,
   "metadata": {
    "collapsed": false
   },
   "outputs": [
    {
     "name": "stdout",
     "output_type": "stream",
     "text": [
      "3190670\n",
      "2399\n"
     ]
    }
   ],
   "source": [
    "# drGo + diHpo\n",
    "temp = pd.concat([idrGo, idiHpo], axis=1)\n",
    "drGo_diHpo = temp[['indep_drug', 'indep_disease', 'gold_drug', 'gold_disease', 'drGoSim', 'diHpoSim','association']]\n",
    "drGo_diHpo = drGo_diHpo.loc[:,~drGo_diHpo.columns.duplicated()]\n",
    "del temp\n",
    "drGo_diHpo['drGo_diHpo'] = np.sqrt(drGo_diHpo['drGoSim'] * drGo_diHpo['diHpoSim'])\n",
    "print len(drGo_diHpo)\n",
    "sub_drGo_diHpo = drGo_diHpo[['indep_drug', 'indep_disease', 'gold_drug', 'gold_disease', 'drGo_diHpo', 'association']]\n",
    "desc2 = sub_drGo_diHpo.groupby(['indep_drug', 'indep_disease', 'association'])[['drGo_diHpo']].max()\n",
    "print len(desc2)"
   ]
  },
  {
   "cell_type": "code",
   "execution_count": 137,
   "metadata": {
    "collapsed": false
   },
   "outputs": [
    {
     "name": "stdout",
     "output_type": "stream",
     "text": [
      "3190670\n",
      "2399\n"
     ]
    }
   ],
   "source": [
    "# drGo + diPhe\n",
    "temp = pd.concat([idrGo, idiPhe], axis=1)\n",
    "drGo_diPhe = temp[['indep_drug', 'indep_disease', 'gold_drug', 'gold_disease', 'drGoSim', 'diPheSim','association']]\n",
    "drGo_diPhe = drGo_diPhe.loc[:,~drGo_diPhe.columns.duplicated()]\n",
    "del temp\n",
    "drGo_diPhe['drGo_diPhe'] = np.sqrt(drGo_diPhe['drGoSim'] * drGo_diPhe['diPheSim'])\n",
    "print len(drGo_diPhe)\n",
    "sub_drGo_diPhe = drGo_diPhe[['indep_drug', 'indep_disease', 'gold_drug', 'gold_disease', 'drGo_diPhe', 'association']]\n",
    "desc2 = sub_drGo_diPhe.groupby(['indep_drug', 'indep_disease', 'association'])[['drGo_diPhe']].max()\n",
    "print len(desc2)"
   ]
  },
  {
   "cell_type": "code",
   "execution_count": 138,
   "metadata": {
    "collapsed": false
   },
   "outputs": [
    {
     "name": "stdout",
     "output_type": "stream",
     "text": [
      "3190670\n",
      "2399\n"
     ]
    }
   ],
   "source": [
    "# drTar + diGo\n",
    "temp = pd.concat([idrTar, idiGo], axis=1)\n",
    "drTar_diGo = temp[['indep_drug', 'indep_disease', 'gold_drug', 'gold_disease', 'drTarSim', 'diGoSim','association']]\n",
    "drTar_diGo = drTar_diGo.loc[:,~drTar_diGo.columns.duplicated()]\n",
    "del temp\n",
    "drTar_diGo['drTar_diGo'] = np.sqrt(drTar_diGo['drTarSim'] * drTar_diGo['diGoSim'])\n",
    "print len(drTar_diGo)\n",
    "sub_drTar_diGo = drTar_diGo[['indep_drug', 'indep_disease', 'gold_drug', 'gold_disease', 'drTar_diGo', 'association']]\n",
    "desc2 = sub_drTar_diGo.groupby(['indep_drug', 'indep_disease', 'association'])[['drTar_diGo']].max()\n",
    "print len(desc2)"
   ]
  },
  {
   "cell_type": "code",
   "execution_count": 139,
   "metadata": {
    "collapsed": false
   },
   "outputs": [
    {
     "name": "stdout",
     "output_type": "stream",
     "text": [
      "3190670\n",
      "2399\n"
     ]
    }
   ],
   "source": [
    "# drTar + diHpo\n",
    "temp = pd.concat([idrTar, idiHpo], axis=1)\n",
    "drTar_diHpo = temp[['indep_drug', 'indep_disease', 'gold_drug', 'gold_disease', 'drTarSim', 'diHpoSim','association']]\n",
    "drTar_diHpo = drTar_diHpo.loc[:,~drTar_diHpo.columns.duplicated()]\n",
    "del temp\n",
    "drTar_diHpo['drTar_diHpo'] = np.sqrt(drTar_diHpo['drTarSim'] * drTar_diHpo['diHpoSim'])\n",
    "print len(drTar_diHpo)\n",
    "sub_drTar_diHpo = drTar_diHpo[['indep_drug', 'indep_disease', 'gold_drug', 'gold_disease', 'drTar_diHpo', 'association']]\n",
    "desc2 = sub_drTar_diHpo.groupby(['indep_drug', 'indep_disease', 'association'])[['drTar_diHpo']].max()\n",
    "print len(desc2)"
   ]
  },
  {
   "cell_type": "code",
   "execution_count": 140,
   "metadata": {
    "collapsed": false
   },
   "outputs": [
    {
     "name": "stdout",
     "output_type": "stream",
     "text": [
      "3190670\n",
      "2399\n"
     ]
    }
   ],
   "source": [
    "# drTar + diPhe\n",
    "temp = pd.concat([idrTar, idiPhe], axis=1)\n",
    "drTar_diPhe = temp[['indep_drug', 'indep_disease', 'gold_drug', 'gold_disease', 'drTarSim', 'diPheSim','association']]\n",
    "drTar_diPhe = drTar_diPhe.loc[:,~drTar_diPhe.columns.duplicated()]\n",
    "del temp\n",
    "drTar_diPhe['drTar_diPhe'] = np.sqrt(drTar_diPhe['drTarSim'] * drTar_diPhe['diPheSim'])\n",
    "print len(drTar_diPhe)\n",
    "sub_drTar_diPhe = drTar_diPhe[['indep_drug', 'indep_disease', 'gold_drug', 'gold_disease', 'drTar_diPhe', 'association']]\n",
    "desc2 = sub_drTar_diPhe.groupby(['indep_drug', 'indep_disease', 'association'])[['drTar_diPhe']].max()\n",
    "print len(desc2)"
   ]
  },
  {
   "cell_type": "code",
   "execution_count": 104,
   "metadata": {
    "collapsed": false
   },
   "outputs": [
    {
     "data": {
      "text/html": [
       "<div>\n",
       "<table border=\"1\" class=\"dataframe\">\n",
       "  <thead>\n",
       "    <tr style=\"text-align: right;\">\n",
       "      <th></th>\n",
       "      <th>drStr_diGo</th>\n",
       "    </tr>\n",
       "    <tr>\n",
       "      <th>association</th>\n",
       "      <th></th>\n",
       "    </tr>\n",
       "  </thead>\n",
       "  <tbody>\n",
       "    <tr>\n",
       "      <th>0</th>\n",
       "      <td>0.563028</td>\n",
       "    </tr>\n",
       "  </tbody>\n",
       "</table>\n",
       "</div>"
      ],
      "text/plain": [
       "             drStr_diGo\n",
       "association            \n",
       "0              0.563028"
      ]
     },
     "execution_count": 104,
     "metadata": {},
     "output_type": "execute_result"
    }
   ],
   "source": [
    "desc2.loc['DB00176', 103780]"
   ]
  },
  {
   "cell_type": "code",
   "execution_count": 114,
   "metadata": {
    "collapsed": false
   },
   "outputs": [
    {
     "data": {
      "text/html": [
       "<div>\n",
       "<table border=\"1\" class=\"dataframe\">\n",
       "  <thead>\n",
       "    <tr style=\"text-align: right;\">\n",
       "      <th></th>\n",
       "      <th>drPhe_diGo</th>\n",
       "    </tr>\n",
       "    <tr>\n",
       "      <th>association</th>\n",
       "      <th></th>\n",
       "    </tr>\n",
       "  </thead>\n",
       "  <tbody>\n",
       "    <tr>\n",
       "      <th>0</th>\n",
       "      <td>0.749603</td>\n",
       "    </tr>\n",
       "  </tbody>\n",
       "</table>\n",
       "</div>"
      ],
      "text/plain": [
       "             drPhe_diGo\n",
       "association            \n",
       "0              0.749603"
      ]
     },
     "execution_count": 114,
     "metadata": {},
     "output_type": "execute_result"
    }
   ],
   "source": [
    "desc3.loc['DB00176', 103780]"
   ]
  },
  {
   "cell_type": "code",
   "execution_count": null,
   "metadata": {
    "collapsed": true
   },
   "outputs": [],
   "source": []
  },
  {
   "cell_type": "code",
   "execution_count": 116,
   "metadata": {
    "collapsed": false
   },
   "outputs": [
    {
     "data": {
      "text/html": [
       "<div>\n",
       "<table border=\"1\" class=\"dataframe\">\n",
       "  <thead>\n",
       "    <tr style=\"text-align: right;\">\n",
       "      <th></th>\n",
       "      <th>indep_drug</th>\n",
       "      <th>indep_disease</th>\n",
       "      <th>gold_drug</th>\n",
       "      <th>gold_disease</th>\n",
       "      <th>drStrSim</th>\n",
       "      <th>diGoSim</th>\n",
       "      <th>association</th>\n",
       "      <th>drStr_diGo</th>\n",
       "    </tr>\n",
       "  </thead>\n",
       "  <tbody>\n",
       "    <tr>\n",
       "      <th>2875959</th>\n",
       "      <td>DB00176</td>\n",
       "      <td>103780</td>\n",
       "      <td>DB00176</td>\n",
       "      <td>164230</td>\n",
       "      <td>1.0</td>\n",
       "      <td>0.317</td>\n",
       "      <td>0</td>\n",
       "      <td>0.563028</td>\n",
       "    </tr>\n",
       "  </tbody>\n",
       "</table>\n",
       "</div>"
      ],
      "text/plain": [
       "        indep_drug  indep_disease gold_drug  gold_disease  drStrSim  diGoSim  \\\n",
       "2875959    DB00176         103780   DB00176        164230       1.0    0.317   \n",
       "\n",
       "         association  drStr_diGo  \n",
       "2875959            0    0.563028  "
      ]
     },
     "execution_count": 116,
     "metadata": {},
     "output_type": "execute_result"
    }
   ],
   "source": [
    "drStr_diGo[(drStr_diGo.indep_drug == 'DB00176')&(drStr_diGo.indep_disease == 103780)].sort_values('drStr_diGo', ascending=False).head(1)"
   ]
  },
  {
   "cell_type": "code",
   "execution_count": 117,
   "metadata": {
    "collapsed": false
   },
   "outputs": [
    {
     "data": {
      "text/html": [
       "<div>\n",
       "<table border=\"1\" class=\"dataframe\">\n",
       "  <thead>\n",
       "    <tr style=\"text-align: right;\">\n",
       "      <th></th>\n",
       "      <th>indep_drug</th>\n",
       "      <th>indep_disease</th>\n",
       "      <th>gold_drug</th>\n",
       "      <th>gold_disease</th>\n",
       "      <th>drPheSim</th>\n",
       "      <th>diGoSim</th>\n",
       "      <th>association</th>\n",
       "      <th>drPhe_diGo</th>\n",
       "    </tr>\n",
       "  </thead>\n",
       "  <tbody>\n",
       "    <tr>\n",
       "      <th>2875460</th>\n",
       "      <td>DB00176</td>\n",
       "      <td>103780</td>\n",
       "      <td>DB00659</td>\n",
       "      <td>103780</td>\n",
       "      <td>0.867137</td>\n",
       "      <td>0.648</td>\n",
       "      <td>0</td>\n",
       "      <td>0.749603</td>\n",
       "    </tr>\n",
       "  </tbody>\n",
       "</table>\n",
       "</div>"
      ],
      "text/plain": [
       "        indep_drug  indep_disease gold_drug  gold_disease  drPheSim  diGoSim  \\\n",
       "2875460    DB00176         103780   DB00659        103780  0.867137    0.648   \n",
       "\n",
       "         association  drPhe_diGo  \n",
       "2875460            0    0.749603  "
      ]
     },
     "execution_count": 117,
     "metadata": {},
     "output_type": "execute_result"
    }
   ],
   "source": [
    "drPhe_diGo[(drPhe_diGo.indep_drug == 'DB00176')&(drPhe_diGo.indep_disease == 103780)].sort_values('drPhe_diGo', ascending=False).head(1)"
   ]
  },
  {
   "cell_type": "code",
   "execution_count": 118,
   "metadata": {
    "collapsed": false
   },
   "outputs": [
    {
     "data": {
      "text/plain": [
       "68     DB00215\n",
       "623    DB00659\n",
       "685    DB00704\n",
       "819    DB00822\n",
       "898    DB00904\n",
       "Name: drug_id, dtype: object"
      ]
     },
     "execution_count": 118,
     "metadata": {},
     "output_type": "execute_result"
    }
   ],
   "source": [
    "g_pos[(g_pos.disease_id == 103780)]['drug_id']"
   ]
  },
  {
   "cell_type": "code",
   "execution_count": 122,
   "metadata": {
    "collapsed": false
   },
   "outputs": [
    {
     "data": {
      "text/plain": [
       "0       DB00125\n",
       "202     DB00253\n",
       "270     DB00283\n",
       "304     DB00286\n",
       "405     DB00341\n",
       "708     DB00528\n",
       "842     DB00589\n",
       "1042    DB00700\n",
       "1076    DB00748\n",
       "1144    DB00780\n",
       "1178    DB00784\n",
       "1381    DB00906\n",
       "1517    DB00950\n",
       "1652    DB00967\n",
       "1720    DB01026\n",
       "1754    DB01037\n",
       "1822    DB01071\n",
       "1856    DB01077\n",
       "1924    DB01100\n",
       "1958    DB01146\n",
       "2195    DB01393\n",
       "2297    DB01586\n",
       "2331    DB01611\n",
       "2365    DB01620\n",
       "Name: drug_id, dtype: object"
      ]
     },
     "execution_count": 122,
     "metadata": {},
     "output_type": "execute_result"
    }
   ],
   "source": [
    "ind.drug_id[~ind.drug_id.isin(g_pos.drug_id)].drop_duplicates()"
   ]
  },
  {
   "cell_type": "code",
   "execution_count": 127,
   "metadata": {
    "collapsed": false
   },
   "outputs": [
    {
     "data": {
      "text/plain": [
       "1884    602080\n",
       "Name: disease_id, dtype: int64"
      ]
     },
     "execution_count": 127,
     "metadata": {},
     "output_type": "execute_result"
    }
   ],
   "source": [
    "ind[(ind.drug_id == \"DB01077\")&(ind.association == 1)].disease_id.drop_duplicates()"
   ]
  },
  {
   "cell_type": "code",
   "execution_count": null,
   "metadata": {
    "collapsed": true
   },
   "outputs": [],
   "source": []
  },
  {
   "cell_type": "code",
   "execution_count": 153,
   "metadata": {
    "collapsed": false
   },
   "outputs": [
    {
     "data": {
      "text/html": [
       "<div>\n",
       "<table border=\"1\" class=\"dataframe\">\n",
       "  <thead>\n",
       "    <tr style=\"text-align: right;\">\n",
       "      <th></th>\n",
       "      <th>indep_drug</th>\n",
       "      <th>indep_disease</th>\n",
       "      <th>gold_drug</th>\n",
       "      <th>gold_disease</th>\n",
       "      <th>drStrSim</th>\n",
       "      <th>diGoSim</th>\n",
       "      <th>association</th>\n",
       "      <th>drStr_diGo</th>\n",
       "    </tr>\n",
       "  </thead>\n",
       "  <tbody>\n",
       "    <tr>\n",
       "      <th>1991939</th>\n",
       "      <td>DB01077</td>\n",
       "      <td>166710</td>\n",
       "      <td>DB00282</td>\n",
       "      <td>166710</td>\n",
       "      <td>0.657143</td>\n",
       "      <td>0.675</td>\n",
       "      <td>0</td>\n",
       "      <td>0.666012</td>\n",
       "    </tr>\n",
       "  </tbody>\n",
       "</table>\n",
       "</div>"
      ],
      "text/plain": [
       "        indep_drug  indep_disease gold_drug  gold_disease  drStrSim  diGoSim  \\\n",
       "1991939    DB01077         166710   DB00282        166710  0.657143    0.675   \n",
       "\n",
       "         association  drStr_diGo  \n",
       "1991939            0    0.666012  "
      ]
     },
     "execution_count": 153,
     "metadata": {},
     "output_type": "execute_result"
    }
   ],
   "source": [
    "# pazet 병\n",
    "drStr_diGo[(drStr_diGo.indep_drug == 'DB01077')&(drStr_diGo.indep_disease == 166710)].sort_values('drStr_diGo', ascending=False).head(1)"
   ]
  },
  {
   "cell_type": "code",
   "execution_count": 141,
   "metadata": {
    "collapsed": false
   },
   "outputs": [
    {
     "data": {
      "text/html": [
       "<div>\n",
       "<table border=\"1\" class=\"dataframe\">\n",
       "  <thead>\n",
       "    <tr style=\"text-align: right;\">\n",
       "      <th></th>\n",
       "      <th>indep_drug</th>\n",
       "      <th>indep_disease</th>\n",
       "      <th>gold_drug</th>\n",
       "      <th>gold_disease</th>\n",
       "      <th>drStrSim</th>\n",
       "      <th>diHpoSim</th>\n",
       "      <th>association</th>\n",
       "      <th>drStr_diHpo</th>\n",
       "    </tr>\n",
       "  </thead>\n",
       "  <tbody>\n",
       "    <tr>\n",
       "      <th>1991939</th>\n",
       "      <td>DB01077</td>\n",
       "      <td>166710</td>\n",
       "      <td>DB00282</td>\n",
       "      <td>166710</td>\n",
       "      <td>0.657143</td>\n",
       "      <td>1.0</td>\n",
       "      <td>0</td>\n",
       "      <td>0.810643</td>\n",
       "    </tr>\n",
       "  </tbody>\n",
       "</table>\n",
       "</div>"
      ],
      "text/plain": [
       "        indep_drug  indep_disease gold_drug  gold_disease  drStrSim  diHpoSim  \\\n",
       "1991939    DB01077         166710   DB00282        166710  0.657143       1.0   \n",
       "\n",
       "         association  drStr_diHpo  \n",
       "1991939            0     0.810643  "
      ]
     },
     "execution_count": 141,
     "metadata": {},
     "output_type": "execute_result"
    }
   ],
   "source": [
    "# pazet 병\n",
    "drStr_diHpo[(drStr_diHpo.indep_drug == 'DB01077')&(drStr_diHpo.indep_disease == 166710)].sort_values('drStr_diHpo', ascending=False).head(1)"
   ]
  },
  {
   "cell_type": "code",
   "execution_count": 142,
   "metadata": {
    "collapsed": false
   },
   "outputs": [
    {
     "data": {
      "text/html": [
       "<div>\n",
       "<table border=\"1\" class=\"dataframe\">\n",
       "  <thead>\n",
       "    <tr style=\"text-align: right;\">\n",
       "      <th></th>\n",
       "      <th>indep_drug</th>\n",
       "      <th>indep_disease</th>\n",
       "      <th>gold_drug</th>\n",
       "      <th>gold_disease</th>\n",
       "      <th>drStrSim</th>\n",
       "      <th>diGoSim</th>\n",
       "      <th>association</th>\n",
       "      <th>drStr_diGo</th>\n",
       "    </tr>\n",
       "  </thead>\n",
       "  <tbody>\n",
       "    <tr>\n",
       "      <th>1991939</th>\n",
       "      <td>DB01077</td>\n",
       "      <td>166710</td>\n",
       "      <td>DB00282</td>\n",
       "      <td>166710</td>\n",
       "      <td>0.657143</td>\n",
       "      <td>0.675</td>\n",
       "      <td>0</td>\n",
       "      <td>0.666012</td>\n",
       "    </tr>\n",
       "  </tbody>\n",
       "</table>\n",
       "</div>"
      ],
      "text/plain": [
       "        indep_drug  indep_disease gold_drug  gold_disease  drStrSim  diGoSim  \\\n",
       "1991939    DB01077         166710   DB00282        166710  0.657143    0.675   \n",
       "\n",
       "         association  drStr_diGo  \n",
       "1991939            0    0.666012  "
      ]
     },
     "execution_count": 142,
     "metadata": {},
     "output_type": "execute_result"
    }
   ],
   "source": [
    "# pazet 병\n",
    "drStr_diGo[(drStr_diGo.indep_drug == 'DB01077')&(drStr_diGo.indep_disease == 166710)].sort_values('drStr_diGo', ascending=False).head(1)"
   ]
  },
  {
   "cell_type": "code",
   "execution_count": 143,
   "metadata": {
    "collapsed": false
   },
   "outputs": [
    {
     "data": {
      "text/html": [
       "<div>\n",
       "<table border=\"1\" class=\"dataframe\">\n",
       "  <thead>\n",
       "    <tr style=\"text-align: right;\">\n",
       "      <th></th>\n",
       "      <th>indep_drug</th>\n",
       "      <th>indep_disease</th>\n",
       "      <th>gold_drug</th>\n",
       "      <th>gold_disease</th>\n",
       "      <th>drPheSim</th>\n",
       "      <th>diGoSim</th>\n",
       "      <th>association</th>\n",
       "      <th>drPhe_diGo</th>\n",
       "    </tr>\n",
       "  </thead>\n",
       "  <tbody>\n",
       "    <tr>\n",
       "      <th>1991939</th>\n",
       "      <td>DB01077</td>\n",
       "      <td>166710</td>\n",
       "      <td>DB00282</td>\n",
       "      <td>166710</td>\n",
       "      <td>0.866052</td>\n",
       "      <td>0.675</td>\n",
       "      <td>0</td>\n",
       "      <td>0.764582</td>\n",
       "    </tr>\n",
       "  </tbody>\n",
       "</table>\n",
       "</div>"
      ],
      "text/plain": [
       "        indep_drug  indep_disease gold_drug  gold_disease  drPheSim  diGoSim  \\\n",
       "1991939    DB01077         166710   DB00282        166710  0.866052    0.675   \n",
       "\n",
       "         association  drPhe_diGo  \n",
       "1991939            0    0.764582  "
      ]
     },
     "execution_count": 143,
     "metadata": {},
     "output_type": "execute_result"
    }
   ],
   "source": [
    "# pazet 병\n",
    "drPhe_diGo[(drPhe_diGo.indep_drug == 'DB01077')&(drPhe_diGo.indep_disease == 166710)].sort_values('drPhe_diGo', ascending=False).head(1)"
   ]
  },
  {
   "cell_type": "code",
   "execution_count": 161,
   "metadata": {
    "collapsed": false
   },
   "outputs": [
    {
     "data": {
      "text/html": [
       "<div>\n",
       "<table border=\"1\" class=\"dataframe\">\n",
       "  <thead>\n",
       "    <tr style=\"text-align: right;\">\n",
       "      <th></th>\n",
       "      <th>indep_drug</th>\n",
       "      <th>indep_disease</th>\n",
       "      <th>gold_drug</th>\n",
       "      <th>gold_disease</th>\n",
       "      <th>drPheSim</th>\n",
       "      <th>diHpoSim</th>\n",
       "      <th>association</th>\n",
       "      <th>drPhe_diHpo</th>\n",
       "    </tr>\n",
       "  </thead>\n",
       "  <tbody>\n",
       "    <tr>\n",
       "      <th>1991939</th>\n",
       "      <td>DB01077</td>\n",
       "      <td>166710</td>\n",
       "      <td>DB00282</td>\n",
       "      <td>166710</td>\n",
       "      <td>0.866052</td>\n",
       "      <td>1.0</td>\n",
       "      <td>0</td>\n",
       "      <td>0.930619</td>\n",
       "    </tr>\n",
       "  </tbody>\n",
       "</table>\n",
       "</div>"
      ],
      "text/plain": [
       "        indep_drug  indep_disease gold_drug  gold_disease  drPheSim  diHpoSim  \\\n",
       "1991939    DB01077         166710   DB00282        166710  0.866052       1.0   \n",
       "\n",
       "         association  drPhe_diHpo  \n",
       "1991939            0     0.930619  "
      ]
     },
     "execution_count": 161,
     "metadata": {},
     "output_type": "execute_result"
    }
   ],
   "source": [
    "# pazet 병\n",
    "drPhe_diHpo[(drPhe_diHpo.indep_drug == 'DB01077')&(drPhe_diHpo.indep_disease == 166710)].sort_values('drPhe_diHpo', ascending=False).head(1)"
   ]
  },
  {
   "cell_type": "code",
   "execution_count": 165,
   "metadata": {
    "collapsed": false
   },
   "outputs": [
    {
     "data": {
      "text/html": [
       "<div>\n",
       "<table border=\"1\" class=\"dataframe\">\n",
       "  <thead>\n",
       "    <tr style=\"text-align: right;\">\n",
       "      <th></th>\n",
       "      <th>indep_drug</th>\n",
       "      <th>indep_disease</th>\n",
       "      <th>gold_drug</th>\n",
       "      <th>gold_disease</th>\n",
       "      <th>drPheSim</th>\n",
       "      <th>diPheSim</th>\n",
       "      <th>association</th>\n",
       "      <th>drPhe_diPhe</th>\n",
       "    </tr>\n",
       "  </thead>\n",
       "  <tbody>\n",
       "    <tr>\n",
       "      <th>1991939</th>\n",
       "      <td>DB01077</td>\n",
       "      <td>166710</td>\n",
       "      <td>DB00282</td>\n",
       "      <td>166710</td>\n",
       "      <td>0.866052</td>\n",
       "      <td>1.0</td>\n",
       "      <td>0</td>\n",
       "      <td>0.930619</td>\n",
       "    </tr>\n",
       "  </tbody>\n",
       "</table>\n",
       "</div>"
      ],
      "text/plain": [
       "        indep_drug  indep_disease gold_drug  gold_disease  drPheSim  diPheSim  \\\n",
       "1991939    DB01077         166710   DB00282        166710  0.866052       1.0   \n",
       "\n",
       "         association  drPhe_diPhe  \n",
       "1991939            0     0.930619  "
      ]
     },
     "execution_count": 165,
     "metadata": {},
     "output_type": "execute_result"
    }
   ],
   "source": [
    "# pazet 병\n",
    "drPhe_diPhe[(drPhe_diPhe.indep_drug == 'DB01077')&(drPhe_diPhe.indep_disease == 166710)].sort_values('drPhe_diPhe', ascending=False).head(1)"
   ]
  },
  {
   "cell_type": "code",
   "execution_count": 157,
   "metadata": {
    "collapsed": false
   },
   "outputs": [
    {
     "data": {
      "text/html": [
       "<div>\n",
       "<table border=\"1\" class=\"dataframe\">\n",
       "  <thead>\n",
       "    <tr style=\"text-align: right;\">\n",
       "      <th></th>\n",
       "      <th>indep_drug</th>\n",
       "      <th>indep_disease</th>\n",
       "      <th>gold_drug</th>\n",
       "      <th>gold_disease</th>\n",
       "      <th>drGoSim</th>\n",
       "      <th>diGoSim</th>\n",
       "      <th>association</th>\n",
       "      <th>drGo_diGo</th>\n",
       "    </tr>\n",
       "  </thead>\n",
       "  <tbody>\n",
       "    <tr>\n",
       "      <th>1991028</th>\n",
       "      <td>DB01077</td>\n",
       "      <td>166710</td>\n",
       "      <td>DB00630</td>\n",
       "      <td>166710</td>\n",
       "      <td>0.289</td>\n",
       "      <td>0.675</td>\n",
       "      <td>0</td>\n",
       "      <td>0.441673</td>\n",
       "    </tr>\n",
       "  </tbody>\n",
       "</table>\n",
       "</div>"
      ],
      "text/plain": [
       "        indep_drug  indep_disease gold_drug  gold_disease  drGoSim  diGoSim  \\\n",
       "1991028    DB01077         166710   DB00630        166710    0.289    0.675   \n",
       "\n",
       "         association  drGo_diGo  \n",
       "1991028            0   0.441673  "
      ]
     },
     "execution_count": 157,
     "metadata": {},
     "output_type": "execute_result"
    }
   ],
   "source": [
    "# pazet 병\n",
    "drGo_diGo[(drGo_diGo.indep_drug == 'DB01077')&(drGo_diGo.indep_disease == 166710)].sort_values('drGo_diGo', ascending=False).head(1)"
   ]
  },
  {
   "cell_type": "code",
   "execution_count": 166,
   "metadata": {
    "collapsed": false
   },
   "outputs": [
    {
     "data": {
      "text/html": [
       "<div>\n",
       "<table border=\"1\" class=\"dataframe\">\n",
       "  <thead>\n",
       "    <tr style=\"text-align: right;\">\n",
       "      <th></th>\n",
       "      <th>indep_drug</th>\n",
       "      <th>indep_disease</th>\n",
       "      <th>gold_drug</th>\n",
       "      <th>gold_disease</th>\n",
       "      <th>drGoSim</th>\n",
       "      <th>diGoSim</th>\n",
       "      <th>association</th>\n",
       "      <th>drGo_diGo</th>\n",
       "    </tr>\n",
       "  </thead>\n",
       "  <tbody>\n",
       "    <tr>\n",
       "      <th>1991939</th>\n",
       "      <td>DB01077</td>\n",
       "      <td>166710</td>\n",
       "      <td>DB00282</td>\n",
       "      <td>166710</td>\n",
       "      <td>0.105</td>\n",
       "      <td>0.675</td>\n",
       "      <td>0</td>\n",
       "      <td>0.266224</td>\n",
       "    </tr>\n",
       "  </tbody>\n",
       "</table>\n",
       "</div>"
      ],
      "text/plain": [
       "        indep_drug  indep_disease gold_drug  gold_disease  drGoSim  diGoSim  \\\n",
       "1991939    DB01077         166710   DB00282        166710    0.105    0.675   \n",
       "\n",
       "         association  drGo_diGo  \n",
       "1991939            0   0.266224  "
      ]
     },
     "execution_count": 166,
     "metadata": {},
     "output_type": "execute_result"
    }
   ],
   "source": [
    "# pazet 병 (확인)\n",
    "drGo_diGo[(drGo_diGo.indep_drug == 'DB01077')&(drGo_diGo.indep_disease == 166710)&(drGo_diGo.gold_drug == 'DB00282')].sort_values('drGo_diGo', ascending=False).head(1)"
   ]
  },
  {
   "cell_type": "code",
   "execution_count": 147,
   "metadata": {
    "collapsed": false
   },
   "outputs": [
    {
     "data": {
      "text/html": [
       "<div>\n",
       "<table border=\"1\" class=\"dataframe\">\n",
       "  <thead>\n",
       "    <tr style=\"text-align: right;\">\n",
       "      <th></th>\n",
       "      <th>indep_drug</th>\n",
       "      <th>indep_disease</th>\n",
       "      <th>gold_drug</th>\n",
       "      <th>gold_disease</th>\n",
       "      <th>drGoSim</th>\n",
       "      <th>diHpoSim</th>\n",
       "      <th>association</th>\n",
       "      <th>drGo_diHpo</th>\n",
       "    </tr>\n",
       "  </thead>\n",
       "  <tbody>\n",
       "    <tr>\n",
       "      <th>1991028</th>\n",
       "      <td>DB01077</td>\n",
       "      <td>166710</td>\n",
       "      <td>DB00630</td>\n",
       "      <td>166710</td>\n",
       "      <td>0.289</td>\n",
       "      <td>1.0</td>\n",
       "      <td>0</td>\n",
       "      <td>0.537587</td>\n",
       "    </tr>\n",
       "  </tbody>\n",
       "</table>\n",
       "</div>"
      ],
      "text/plain": [
       "        indep_drug  indep_disease gold_drug  gold_disease  drGoSim  diHpoSim  \\\n",
       "1991028    DB01077         166710   DB00630        166710    0.289       1.0   \n",
       "\n",
       "         association  drGo_diHpo  \n",
       "1991028            0    0.537587  "
      ]
     },
     "execution_count": 147,
     "metadata": {},
     "output_type": "execute_result"
    }
   ],
   "source": [
    "# pazet 병\n",
    "drGo_diHpo[(drGo_diHpo.indep_drug == 'DB01077')&(drGo_diHpo.indep_disease== 166710)].sort_values('drGo_diHpo', ascending=False).head(1)"
   ]
  },
  {
   "cell_type": "code",
   "execution_count": 168,
   "metadata": {
    "collapsed": false
   },
   "outputs": [
    {
     "data": {
      "text/html": [
       "<div>\n",
       "<table border=\"1\" class=\"dataframe\">\n",
       "  <thead>\n",
       "    <tr style=\"text-align: right;\">\n",
       "      <th></th>\n",
       "      <th>indep_drug</th>\n",
       "      <th>indep_disease</th>\n",
       "      <th>gold_drug</th>\n",
       "      <th>gold_disease</th>\n",
       "      <th>drGoSim</th>\n",
       "      <th>diHpoSim</th>\n",
       "      <th>association</th>\n",
       "      <th>drGo_diHpo</th>\n",
       "    </tr>\n",
       "  </thead>\n",
       "  <tbody>\n",
       "    <tr>\n",
       "      <th>1991939</th>\n",
       "      <td>DB01077</td>\n",
       "      <td>166710</td>\n",
       "      <td>DB00282</td>\n",
       "      <td>166710</td>\n",
       "      <td>0.105</td>\n",
       "      <td>1.0</td>\n",
       "      <td>0</td>\n",
       "      <td>0.324037</td>\n",
       "    </tr>\n",
       "  </tbody>\n",
       "</table>\n",
       "</div>"
      ],
      "text/plain": [
       "        indep_drug  indep_disease gold_drug  gold_disease  drGoSim  diHpoSim  \\\n",
       "1991939    DB01077         166710   DB00282        166710    0.105       1.0   \n",
       "\n",
       "         association  drGo_diHpo  \n",
       "1991939            0    0.324037  "
      ]
     },
     "execution_count": 168,
     "metadata": {},
     "output_type": "execute_result"
    }
   ],
   "source": [
    "# pazet 병 (확인)\n",
    "drGo_diHpo[(drGo_diHpo.indep_drug == 'DB01077')&(drGo_diHpo.indep_disease == 166710)&(drGo_diHpo.gold_drug == 'DB00282')].sort_values('drGo_diHpo', ascending=False).head(1)"
   ]
  },
  {
   "cell_type": "code",
   "execution_count": 148,
   "metadata": {
    "collapsed": false
   },
   "outputs": [
    {
     "data": {
      "text/html": [
       "<div>\n",
       "<table border=\"1\" class=\"dataframe\">\n",
       "  <thead>\n",
       "    <tr style=\"text-align: right;\">\n",
       "      <th></th>\n",
       "      <th>indep_drug</th>\n",
       "      <th>indep_disease</th>\n",
       "      <th>gold_drug</th>\n",
       "      <th>gold_disease</th>\n",
       "      <th>drGoSim</th>\n",
       "      <th>diPheSim</th>\n",
       "      <th>association</th>\n",
       "      <th>drGo_diPhe</th>\n",
       "    </tr>\n",
       "  </thead>\n",
       "  <tbody>\n",
       "    <tr>\n",
       "      <th>1991028</th>\n",
       "      <td>DB01077</td>\n",
       "      <td>166710</td>\n",
       "      <td>DB00630</td>\n",
       "      <td>166710</td>\n",
       "      <td>0.289</td>\n",
       "      <td>1.0</td>\n",
       "      <td>0</td>\n",
       "      <td>0.537587</td>\n",
       "    </tr>\n",
       "  </tbody>\n",
       "</table>\n",
       "</div>"
      ],
      "text/plain": [
       "        indep_drug  indep_disease gold_drug  gold_disease  drGoSim  diPheSim  \\\n",
       "1991028    DB01077         166710   DB00630        166710    0.289       1.0   \n",
       "\n",
       "         association  drGo_diPhe  \n",
       "1991028            0    0.537587  "
      ]
     },
     "execution_count": 148,
     "metadata": {},
     "output_type": "execute_result"
    }
   ],
   "source": [
    "# pazet 병\n",
    "drGo_diPhe[(drGo_diPhe.indep_drug == 'DB01077')&(drGo_diPhe.indep_disease== 166710)].sort_values('drGo_diPhe', ascending=False).head(1)"
   ]
  },
  {
   "cell_type": "code",
   "execution_count": 169,
   "metadata": {
    "collapsed": false
   },
   "outputs": [
    {
     "data": {
      "text/html": [
       "<div>\n",
       "<table border=\"1\" class=\"dataframe\">\n",
       "  <thead>\n",
       "    <tr style=\"text-align: right;\">\n",
       "      <th></th>\n",
       "      <th>indep_drug</th>\n",
       "      <th>indep_disease</th>\n",
       "      <th>gold_drug</th>\n",
       "      <th>gold_disease</th>\n",
       "      <th>drGoSim</th>\n",
       "      <th>diPheSim</th>\n",
       "      <th>association</th>\n",
       "      <th>drGo_diPhe</th>\n",
       "    </tr>\n",
       "  </thead>\n",
       "  <tbody>\n",
       "    <tr>\n",
       "      <th>1991939</th>\n",
       "      <td>DB01077</td>\n",
       "      <td>166710</td>\n",
       "      <td>DB00282</td>\n",
       "      <td>166710</td>\n",
       "      <td>0.105</td>\n",
       "      <td>1.0</td>\n",
       "      <td>0</td>\n",
       "      <td>0.324037</td>\n",
       "    </tr>\n",
       "  </tbody>\n",
       "</table>\n",
       "</div>"
      ],
      "text/plain": [
       "        indep_drug  indep_disease gold_drug  gold_disease  drGoSim  diPheSim  \\\n",
       "1991939    DB01077         166710   DB00282        166710    0.105       1.0   \n",
       "\n",
       "         association  drGo_diPhe  \n",
       "1991939            0    0.324037  "
      ]
     },
     "execution_count": 169,
     "metadata": {},
     "output_type": "execute_result"
    }
   ],
   "source": [
    "# pazet 병 (확인)\n",
    "drGo_diPhe[(drGo_diPhe.indep_drug == 'DB01077')&(drGo_diPhe.indep_disease == 166710)&(drGo_diPhe.gold_drug == 'DB00282')].sort_values('drGo_diPhe', ascending=False).head(1)"
   ]
  },
  {
   "cell_type": "code",
   "execution_count": 149,
   "metadata": {
    "collapsed": false
   },
   "outputs": [
    {
     "data": {
      "text/html": [
       "<div>\n",
       "<table border=\"1\" class=\"dataframe\">\n",
       "  <thead>\n",
       "    <tr style=\"text-align: right;\">\n",
       "      <th></th>\n",
       "      <th>indep_drug</th>\n",
       "      <th>indep_disease</th>\n",
       "      <th>gold_drug</th>\n",
       "      <th>gold_disease</th>\n",
       "      <th>drTarSim</th>\n",
       "      <th>diGoSim</th>\n",
       "      <th>association</th>\n",
       "      <th>drTar_diGo</th>\n",
       "    </tr>\n",
       "  </thead>\n",
       "  <tbody>\n",
       "    <tr>\n",
       "      <th>1991028</th>\n",
       "      <td>DB01077</td>\n",
       "      <td>166710</td>\n",
       "      <td>DB00630</td>\n",
       "      <td>166710</td>\n",
       "      <td>1.0</td>\n",
       "      <td>0.675</td>\n",
       "      <td>0</td>\n",
       "      <td>0.821584</td>\n",
       "    </tr>\n",
       "  </tbody>\n",
       "</table>\n",
       "</div>"
      ],
      "text/plain": [
       "        indep_drug  indep_disease gold_drug  gold_disease  drTarSim  diGoSim  \\\n",
       "1991028    DB01077         166710   DB00630        166710       1.0    0.675   \n",
       "\n",
       "         association  drTar_diGo  \n",
       "1991028            0    0.821584  "
      ]
     },
     "execution_count": 149,
     "metadata": {},
     "output_type": "execute_result"
    }
   ],
   "source": [
    "# pazet 병\n",
    "drTar_diGo[(drTar_diGo.indep_drug == 'DB01077')&(drTar_diGo.indep_disease== 166710)].sort_values('drTar_diGo', ascending=False).head(1)"
   ]
  },
  {
   "cell_type": "code",
   "execution_count": 170,
   "metadata": {
    "collapsed": false
   },
   "outputs": [
    {
     "data": {
      "text/html": [
       "<div>\n",
       "<table border=\"1\" class=\"dataframe\">\n",
       "  <thead>\n",
       "    <tr style=\"text-align: right;\">\n",
       "      <th></th>\n",
       "      <th>indep_drug</th>\n",
       "      <th>indep_disease</th>\n",
       "      <th>gold_drug</th>\n",
       "      <th>gold_disease</th>\n",
       "      <th>drTarSim</th>\n",
       "      <th>diGoSim</th>\n",
       "      <th>association</th>\n",
       "      <th>drTar_diGo</th>\n",
       "    </tr>\n",
       "  </thead>\n",
       "  <tbody>\n",
       "    <tr>\n",
       "      <th>1991939</th>\n",
       "      <td>DB01077</td>\n",
       "      <td>166710</td>\n",
       "      <td>DB00282</td>\n",
       "      <td>166710</td>\n",
       "      <td>0.016489</td>\n",
       "      <td>0.675</td>\n",
       "      <td>0</td>\n",
       "      <td>0.105499</td>\n",
       "    </tr>\n",
       "  </tbody>\n",
       "</table>\n",
       "</div>"
      ],
      "text/plain": [
       "        indep_drug  indep_disease gold_drug  gold_disease  drTarSim  diGoSim  \\\n",
       "1991939    DB01077         166710   DB00282        166710  0.016489    0.675   \n",
       "\n",
       "         association  drTar_diGo  \n",
       "1991939            0    0.105499  "
      ]
     },
     "execution_count": 170,
     "metadata": {},
     "output_type": "execute_result"
    }
   ],
   "source": [
    "# pazet 병 (확인)\n",
    "drTar_diGo[(drTar_diGo.indep_drug == 'DB01077')&(drTar_diGo.gold_drug == \"DB00282\")].sort_values('drTar_diGo', ascending=False).head(1)"
   ]
  },
  {
   "cell_type": "code",
   "execution_count": 150,
   "metadata": {
    "collapsed": false
   },
   "outputs": [
    {
     "data": {
      "text/html": [
       "<div>\n",
       "<table border=\"1\" class=\"dataframe\">\n",
       "  <thead>\n",
       "    <tr style=\"text-align: right;\">\n",
       "      <th></th>\n",
       "      <th>indep_drug</th>\n",
       "      <th>indep_disease</th>\n",
       "      <th>gold_drug</th>\n",
       "      <th>gold_disease</th>\n",
       "      <th>drTarSim</th>\n",
       "      <th>diHpoSim</th>\n",
       "      <th>association</th>\n",
       "      <th>drTar_diHpo</th>\n",
       "    </tr>\n",
       "  </thead>\n",
       "  <tbody>\n",
       "    <tr>\n",
       "      <th>1991028</th>\n",
       "      <td>DB01077</td>\n",
       "      <td>166710</td>\n",
       "      <td>DB00630</td>\n",
       "      <td>166710</td>\n",
       "      <td>1.0</td>\n",
       "      <td>1.0</td>\n",
       "      <td>0</td>\n",
       "      <td>1.0</td>\n",
       "    </tr>\n",
       "  </tbody>\n",
       "</table>\n",
       "</div>"
      ],
      "text/plain": [
       "        indep_drug  indep_disease gold_drug  gold_disease  drTarSim  diHpoSim  \\\n",
       "1991028    DB01077         166710   DB00630        166710       1.0       1.0   \n",
       "\n",
       "         association  drTar_diHpo  \n",
       "1991028            0          1.0  "
      ]
     },
     "execution_count": 150,
     "metadata": {},
     "output_type": "execute_result"
    }
   ],
   "source": [
    "# pazet 병\n",
    "drTar_diHpo[(drTar_diHpo.indep_drug == 'DB01077')&(drTar_diHpo.indep_disease== 166710)].sort_values('drTar_diHpo', ascending=False).head(1)"
   ]
  },
  {
   "cell_type": "code",
   "execution_count": 172,
   "metadata": {
    "collapsed": false
   },
   "outputs": [
    {
     "data": {
      "text/html": [
       "<div>\n",
       "<table border=\"1\" class=\"dataframe\">\n",
       "  <thead>\n",
       "    <tr style=\"text-align: right;\">\n",
       "      <th></th>\n",
       "      <th>indep_drug</th>\n",
       "      <th>indep_disease</th>\n",
       "      <th>gold_drug</th>\n",
       "      <th>gold_disease</th>\n",
       "      <th>drTarSim</th>\n",
       "      <th>diHpoSim</th>\n",
       "      <th>association</th>\n",
       "      <th>drTar_diHpo</th>\n",
       "    </tr>\n",
       "  </thead>\n",
       "  <tbody>\n",
       "    <tr>\n",
       "      <th>1991939</th>\n",
       "      <td>DB01077</td>\n",
       "      <td>166710</td>\n",
       "      <td>DB00282</td>\n",
       "      <td>166710</td>\n",
       "      <td>0.016489</td>\n",
       "      <td>1.0</td>\n",
       "      <td>0</td>\n",
       "      <td>0.128409</td>\n",
       "    </tr>\n",
       "  </tbody>\n",
       "</table>\n",
       "</div>"
      ],
      "text/plain": [
       "        indep_drug  indep_disease gold_drug  gold_disease  drTarSim  diHpoSim  \\\n",
       "1991939    DB01077         166710   DB00282        166710  0.016489       1.0   \n",
       "\n",
       "         association  drTar_diHpo  \n",
       "1991939            0     0.128409  "
      ]
     },
     "execution_count": 172,
     "metadata": {},
     "output_type": "execute_result"
    }
   ],
   "source": [
    "# pazet 병 (확인)\n",
    "drTar_diHpo[(drTar_diHpo.indep_drug == 'DB01077')&(drTar_diHpo.gold_drug == \"DB00282\")].sort_values('drTar_diHpo', ascending=False).head(1)"
   ]
  },
  {
   "cell_type": "code",
   "execution_count": 151,
   "metadata": {
    "collapsed": false
   },
   "outputs": [
    {
     "data": {
      "text/html": [
       "<div>\n",
       "<table border=\"1\" class=\"dataframe\">\n",
       "  <thead>\n",
       "    <tr style=\"text-align: right;\">\n",
       "      <th></th>\n",
       "      <th>indep_drug</th>\n",
       "      <th>indep_disease</th>\n",
       "      <th>gold_drug</th>\n",
       "      <th>gold_disease</th>\n",
       "      <th>drTarSim</th>\n",
       "      <th>diPheSim</th>\n",
       "      <th>association</th>\n",
       "      <th>drTar_diPhe</th>\n",
       "    </tr>\n",
       "  </thead>\n",
       "  <tbody>\n",
       "    <tr>\n",
       "      <th>1991028</th>\n",
       "      <td>DB01077</td>\n",
       "      <td>166710</td>\n",
       "      <td>DB00630</td>\n",
       "      <td>166710</td>\n",
       "      <td>1.0</td>\n",
       "      <td>1.0</td>\n",
       "      <td>0</td>\n",
       "      <td>1.0</td>\n",
       "    </tr>\n",
       "  </tbody>\n",
       "</table>\n",
       "</div>"
      ],
      "text/plain": [
       "        indep_drug  indep_disease gold_drug  gold_disease  drTarSim  diPheSim  \\\n",
       "1991028    DB01077         166710   DB00630        166710       1.0       1.0   \n",
       "\n",
       "         association  drTar_diPhe  \n",
       "1991028            0          1.0  "
      ]
     },
     "execution_count": 151,
     "metadata": {},
     "output_type": "execute_result"
    }
   ],
   "source": [
    "# pazet 병\n",
    "drTar_diPhe[(drTar_diPhe.indep_drug == 'DB01077')&(drTar_diPhe.indep_disease== 166710)].sort_values('drTar_diPhe', ascending=False).head(1)"
   ]
  },
  {
   "cell_type": "code",
   "execution_count": 171,
   "metadata": {
    "collapsed": false
   },
   "outputs": [
    {
     "data": {
      "text/html": [
       "<div>\n",
       "<table border=\"1\" class=\"dataframe\">\n",
       "  <thead>\n",
       "    <tr style=\"text-align: right;\">\n",
       "      <th></th>\n",
       "      <th>indep_drug</th>\n",
       "      <th>indep_disease</th>\n",
       "      <th>gold_drug</th>\n",
       "      <th>gold_disease</th>\n",
       "      <th>drTarSim</th>\n",
       "      <th>diPheSim</th>\n",
       "      <th>association</th>\n",
       "      <th>drTar_diPhe</th>\n",
       "    </tr>\n",
       "  </thead>\n",
       "  <tbody>\n",
       "    <tr>\n",
       "      <th>1991939</th>\n",
       "      <td>DB01077</td>\n",
       "      <td>166710</td>\n",
       "      <td>DB00282</td>\n",
       "      <td>166710</td>\n",
       "      <td>0.016489</td>\n",
       "      <td>1.0</td>\n",
       "      <td>0</td>\n",
       "      <td>0.128409</td>\n",
       "    </tr>\n",
       "  </tbody>\n",
       "</table>\n",
       "</div>"
      ],
      "text/plain": [
       "        indep_drug  indep_disease gold_drug  gold_disease  drTarSim  diPheSim  \\\n",
       "1991939    DB01077         166710   DB00282        166710  0.016489       1.0   \n",
       "\n",
       "         association  drTar_diPhe  \n",
       "1991939            0     0.128409  "
      ]
     },
     "execution_count": 171,
     "metadata": {},
     "output_type": "execute_result"
    }
   ],
   "source": [
    "# pazet 병 (확인)\n",
    "drTar_diPhe[(drTar_diPhe.indep_drug == 'DB01077')&(drTar_diPhe.gold_drug == \"DB00282\")].sort_values('drTar_diPhe', ascending=False).head(1)"
   ]
  },
  {
   "cell_type": "code",
   "execution_count": 178,
   "metadata": {
    "collapsed": false
   },
   "outputs": [
    {
     "data": {
      "text/html": [
       "<div>\n",
       "<table border=\"1\" class=\"dataframe\">\n",
       "  <thead>\n",
       "    <tr style=\"text-align: right;\">\n",
       "      <th></th>\n",
       "      <th>indep_drug</th>\n",
       "      <th>indep_disease</th>\n",
       "      <th>gold_drug</th>\n",
       "      <th>gold_disease</th>\n",
       "      <th>drStrSim</th>\n",
       "      <th>diGoSim</th>\n",
       "      <th>association</th>\n",
       "      <th>drStr_diGo</th>\n",
       "    </tr>\n",
       "  </thead>\n",
       "  <tbody>\n",
       "    <tr>\n",
       "      <th>1991028</th>\n",
       "      <td>DB01077</td>\n",
       "      <td>166710</td>\n",
       "      <td>DB00630</td>\n",
       "      <td>166710</td>\n",
       "      <td>0.575</td>\n",
       "      <td>0.675</td>\n",
       "      <td>0</td>\n",
       "      <td>0.622997</td>\n",
       "    </tr>\n",
       "  </tbody>\n",
       "</table>\n",
       "</div>"
      ],
      "text/plain": [
       "        indep_drug  indep_disease gold_drug  gold_disease  drStrSim  diGoSim  \\\n",
       "1991028    DB01077         166710   DB00630        166710     0.575    0.675   \n",
       "\n",
       "         association  drStr_diGo  \n",
       "1991028            0    0.622997  "
      ]
     },
     "execution_count": 178,
     "metadata": {},
     "output_type": "execute_result"
    }
   ],
   "source": [
    "# pazet 병\n",
    "drStr_diGo[(drStr_diGo.indep_drug == 'DB01077')&(drStr_diGo.indep_disease == 166710)&(drStr_diGo.gold_drug == 'DB00630')].sort_values('drStr_diGo', ascending=False).head(1)"
   ]
  },
  {
   "cell_type": "code",
   "execution_count": 177,
   "metadata": {
    "collapsed": false
   },
   "outputs": [
    {
     "data": {
      "text/html": [
       "<div>\n",
       "<table border=\"1\" class=\"dataframe\">\n",
       "  <thead>\n",
       "    <tr style=\"text-align: right;\">\n",
       "      <th></th>\n",
       "      <th>indep_drug</th>\n",
       "      <th>indep_disease</th>\n",
       "      <th>gold_drug</th>\n",
       "      <th>gold_disease</th>\n",
       "      <th>drPheSim</th>\n",
       "      <th>diGoSim</th>\n",
       "      <th>association</th>\n",
       "      <th>drPhe_diGo</th>\n",
       "    </tr>\n",
       "  </thead>\n",
       "  <tbody>\n",
       "    <tr>\n",
       "      <th>1991028</th>\n",
       "      <td>DB01077</td>\n",
       "      <td>166710</td>\n",
       "      <td>DB00630</td>\n",
       "      <td>166710</td>\n",
       "      <td>0.781996</td>\n",
       "      <td>0.675</td>\n",
       "      <td>0</td>\n",
       "      <td>0.726531</td>\n",
       "    </tr>\n",
       "  </tbody>\n",
       "</table>\n",
       "</div>"
      ],
      "text/plain": [
       "        indep_drug  indep_disease gold_drug  gold_disease  drPheSim  diGoSim  \\\n",
       "1991028    DB01077         166710   DB00630        166710  0.781996    0.675   \n",
       "\n",
       "         association  drPhe_diGo  \n",
       "1991028            0    0.726531  "
      ]
     },
     "execution_count": 177,
     "metadata": {},
     "output_type": "execute_result"
    }
   ],
   "source": [
    "# pazet 병\n",
    "drPhe_diGo[(drPhe_diGo.indep_drug == 'DB01077')&(drPhe_diGo.indep_disease == 166710)&(drPhe_diGo.gold_drug == 'DB00630')].sort_values('drPhe_diGo', ascending=False).head(1)"
   ]
  },
  {
   "cell_type": "code",
   "execution_count": 130,
   "metadata": {
    "collapsed": false
   },
   "outputs": [
    {
     "data": {
      "text/html": [
       "<div>\n",
       "<table border=\"1\" class=\"dataframe\">\n",
       "  <thead>\n",
       "    <tr style=\"text-align: right;\">\n",
       "      <th></th>\n",
       "      <th>drug_id</th>\n",
       "      <th>disease_id</th>\n",
       "      <th>association</th>\n",
       "      <th>drStr_diGo</th>\n",
       "      <th>drStr_diHpo</th>\n",
       "      <th>drStr_diPhe</th>\n",
       "      <th>drPhe_diGo</th>\n",
       "      <th>drPhe_diHpo</th>\n",
       "      <th>drPhe_diPhe</th>\n",
       "      <th>drGo_diGo</th>\n",
       "      <th>drGo_diHpo</th>\n",
       "      <th>drGo_diPhe</th>\n",
       "      <th>drTar_diGo</th>\n",
       "      <th>drTar_diHpo</th>\n",
       "      <th>drTar_diPhe</th>\n",
       "    </tr>\n",
       "  </thead>\n",
       "  <tbody>\n",
       "    <tr>\n",
       "      <th>1869</th>\n",
       "      <td>DB01077</td>\n",
       "      <td>166710</td>\n",
       "      <td>0</td>\n",
       "      <td>0.666012</td>\n",
       "      <td>0.810643</td>\n",
       "      <td>0.810643</td>\n",
       "      <td>0.764582</td>\n",
       "      <td>0.930619</td>\n",
       "      <td>0.930619</td>\n",
       "      <td>0.441673</td>\n",
       "      <td>0.537587</td>\n",
       "      <td>0.537587</td>\n",
       "      <td>0.821584</td>\n",
       "      <td>1.0</td>\n",
       "      <td>1.0</td>\n",
       "    </tr>\n",
       "  </tbody>\n",
       "</table>\n",
       "</div>"
      ],
      "text/plain": [
       "      drug_id  disease_id  association  drStr_diGo  drStr_diHpo  drStr_diPhe  \\\n",
       "1869  DB01077      166710            0    0.666012     0.810643     0.810643   \n",
       "\n",
       "      drPhe_diGo  drPhe_diHpo  drPhe_diPhe  drGo_diGo  drGo_diHpo  drGo_diPhe  \\\n",
       "1869    0.764582     0.930619     0.930619   0.441673    0.537587    0.537587   \n",
       "\n",
       "      drTar_diGo  drTar_diHpo  drTar_diPhe  \n",
       "1869    0.821584          1.0          1.0  "
      ]
     },
     "execution_count": 130,
     "metadata": {},
     "output_type": "execute_result"
    }
   ],
   "source": [
    "ind[(ind.drug_id == \"DB01077\") &(ind.disease_id == 166710)]# pazet 병\n",
    "drPhe_diGo[(drPhe_diGo.indep_drug == 'DB01077')&(drPhe_diGo.indep_disease == 166710)&(drPhe_diGo.gold_drug == 'DB00630')].sort_values('drPhe_diGo', ascending=False).head(1)"
   ]
  },
  {
   "cell_type": "code",
   "execution_count": null,
   "metadata": {
    "collapsed": true
   },
   "outputs": [],
   "source": []
  }
 ],
 "metadata": {
  "kernelspec": {
   "display_name": "Python 2",
   "language": "python",
   "name": "python2"
  },
  "language_info": {
   "codemirror_mode": {
    "name": "ipython",
    "version": 2
   },
   "file_extension": ".py",
   "mimetype": "text/x-python",
   "name": "python",
   "nbconvert_exporter": "python",
   "pygments_lexer": "ipython2",
   "version": "2.7.6"
  }
 },
 "nbformat": 4,
 "nbformat_minor": 2
}
