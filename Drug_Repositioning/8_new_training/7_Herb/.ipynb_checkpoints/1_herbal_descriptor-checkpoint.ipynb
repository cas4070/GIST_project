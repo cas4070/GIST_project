{
 "cells": [
  {
   "cell_type": "code",
   "execution_count": 46,
   "metadata": {
    "collapsed": true
   },
   "outputs": [],
   "source": [
    "import numpy as np\n",
    "import os\n",
    "import pandas as pd\n",
    "from datetime import datetime\n",
    "from itertools import product\n",
    "import math"
   ]
  },
  {
   "cell_type": "code",
   "execution_count": 47,
   "metadata": {
    "collapsed": true
   },
   "outputs": [],
   "source": [
    "hcPhe = pd.read_table(\"/DAS_Storage1/aschoi/data/Drug_Repositioning/5_new_drug/new_predict/4_2_1_herbal_comp_gold_drug_se_sim_mat_predict.tsv\", index_col = 0)\n",
    "hcStr = pd.read_table(\"/DAS_Storage1/aschoi/data/Drug_Repositioning/5_new_drug/new_predict/4_2_2_herbal_comp_gold_drug_str_sim_mat_predict.tsv\", index_col = 0)\n",
    "diPhe = pd.read_table(\"/DAS_Storage1/aschoi/data/Drug_Repositioning/6_new_disease/new_predict/1_disease_disease_phe_sim_mat.tsv\", index_col=0)\n",
    "diGe = pd.read_table(\"/DAS_Storage1/aschoi/data/Drug_Repositioning/6_new_disease/new_predict/1_disease_disease_ge_sim_mat.tsv\", index_col=0)"
   ]
  },
  {
   "cell_type": "code",
   "execution_count": 9,
   "metadata": {
    "collapsed": true
   },
   "outputs": [],
   "source": [
    "new_asso = pd.read_table(\"/DAS_Storage1/aschoi/data/Drug_Repositioning/7_new_association/new_predict/1_gold_learning_asso.tsv\")"
   ]
  },
  {
   "cell_type": "code",
   "execution_count": 13,
   "metadata": {
    "collapsed": false
   },
   "outputs": [
    {
     "name": "stdout",
     "output_type": "stream",
     "text": [
      "1330\n"
     ]
    }
   ],
   "source": [
    "pos = new_asso[new_asso.association == 1]\n",
    "print len(pos)"
   ]
  },
  {
   "cell_type": "code",
   "execution_count": 22,
   "metadata": {
    "collapsed": false
   },
   "outputs": [
    {
     "name": "stdout",
     "output_type": "stream",
     "text": [
      "100 233\n"
     ]
    }
   ],
   "source": [
    "print len(hc_id), len(di_id)"
   ]
  },
  {
   "cell_type": "code",
   "execution_count": 20,
   "metadata": {
    "collapsed": true
   },
   "outputs": [],
   "source": [
    "hc_id = hcPhe.index.tolist()\n",
    "di_id = set(pos.disease_id.tolist())\n",
    "hc_asso = list(product(hc_id, di_id))"
   ]
  },
  {
   "cell_type": "code",
   "execution_count": 23,
   "metadata": {
    "collapsed": false
   },
   "outputs": [
    {
     "data": {
      "text/plain": [
       "[(5525, 102400),\n",
       " (5525, 157700),\n",
       " (5525, 303110),\n",
       " (5525, 182280),\n",
       " (5525, 173200)]"
      ]
     },
     "execution_count": 23,
     "metadata": {},
     "output_type": "execute_result"
    }
   ],
   "source": [
    "hc_asso[:5]"
   ]
  },
  {
   "cell_type": "code",
   "execution_count": 25,
   "metadata": {
    "collapsed": false
   },
   "outputs": [],
   "source": [
    "lPos = list()\n",
    "for index, row in pos.iterrows():\n",
    "    pDrug = row['drug_id']\n",
    "    pDisease = row['disease_id']\n",
    "    lPos.append((pDrug, pDisease))\n",
    "desc_pair = list(product(hc_asso, lPos))"
   ]
  },
  {
   "cell_type": "code",
   "execution_count": 26,
   "metadata": {
    "collapsed": false
   },
   "outputs": [
    {
     "name": "stdout",
     "output_type": "stream",
     "text": [
      "23300 1330 30989000\n"
     ]
    }
   ],
   "source": [
    "print len(hc_asso), len(lPos), len(desc_pair)"
   ]
  },
  {
   "cell_type": "code",
   "execution_count": 11,
   "metadata": {
    "collapsed": false
   },
   "outputs": [
    {
     "name": "stdout",
     "output_type": "stream",
     "text": [
      "100 100 233 233\n"
     ]
    }
   ],
   "source": [
    "print len(hcPhe), len(hcStr), len(diPhe), len(diGe)"
   ]
  },
  {
   "cell_type": "code",
   "execution_count": 35,
   "metadata": {
    "collapsed": false
   },
   "outputs": [
    {
     "data": {
      "text/html": [
       "<div>\n",
       "<table border=\"1\" class=\"dataframe\">\n",
       "  <thead>\n",
       "    <tr style=\"text-align: right;\">\n",
       "      <th></th>\n",
       "      <th>DB00114</th>\n",
       "      <th>DB00126</th>\n",
       "      <th>DB00136</th>\n",
       "      <th>DB00153</th>\n",
       "      <th>DB00162</th>\n",
       "      <th>DB00165</th>\n",
       "      <th>DB00175</th>\n",
       "      <th>DB00176</th>\n",
       "      <th>DB00177</th>\n",
       "      <th>DB00178</th>\n",
       "      <th>...</th>\n",
       "      <th>DB01576</th>\n",
       "      <th>DB01577</th>\n",
       "      <th>DB01590</th>\n",
       "      <th>DB01623</th>\n",
       "      <th>DB02546</th>\n",
       "      <th>DB03904</th>\n",
       "      <th>DB04272</th>\n",
       "      <th>DB04844</th>\n",
       "      <th>DB04861</th>\n",
       "      <th>DB09026</th>\n",
       "    </tr>\n",
       "  </thead>\n",
       "  <tbody>\n",
       "    <tr>\n",
       "      <th>5525</th>\n",
       "      <td>0.930586</td>\n",
       "      <td>0.990239</td>\n",
       "      <td>0.956616</td>\n",
       "      <td>0.981562</td>\n",
       "      <td>0.991323</td>\n",
       "      <td>0.754338</td>\n",
       "      <td>0.932755</td>\n",
       "      <td>0.893709</td>\n",
       "      <td>0.954447</td>\n",
       "      <td>0.918655</td>\n",
       "      <td>...</td>\n",
       "      <td>0.949024</td>\n",
       "      <td>0.984273</td>\n",
       "      <td>0.914317</td>\n",
       "      <td>0.963124</td>\n",
       "      <td>0.914317</td>\n",
       "      <td>0.933297</td>\n",
       "      <td>0.984816</td>\n",
       "      <td>0.928416</td>\n",
       "      <td>0.91269</td>\n",
       "      <td>0.937636</td>\n",
       "    </tr>\n",
       "  </tbody>\n",
       "</table>\n",
       "<p>1 rows × 434 columns</p>\n",
       "</div>"
      ],
      "text/plain": [
       "       DB00114   DB00126   DB00136   DB00153   DB00162   DB00165   DB00175  \\\n",
       "5525  0.930586  0.990239  0.956616  0.981562  0.991323  0.754338  0.932755   \n",
       "\n",
       "       DB00176   DB00177   DB00178    ...      DB01576   DB01577   DB01590  \\\n",
       "5525  0.893709  0.954447  0.918655    ...     0.949024  0.984273  0.914317   \n",
       "\n",
       "       DB01623   DB02546   DB03904   DB04272   DB04844  DB04861   DB09026  \n",
       "5525  0.963124  0.914317  0.933297  0.984816  0.928416  0.91269  0.937636  \n",
       "\n",
       "[1 rows x 434 columns]"
      ]
     },
     "execution_count": 35,
     "metadata": {},
     "output_type": "execute_result"
    }
   ],
   "source": [
    "hcPhe.head(1)"
   ]
  },
  {
   "cell_type": "code",
   "execution_count": 6,
   "metadata": {
    "collapsed": false
   },
   "outputs": [
    {
     "data": {
      "text/html": [
       "<div>\n",
       "<table border=\"1\" class=\"dataframe\">\n",
       "  <thead>\n",
       "    <tr style=\"text-align: right;\">\n",
       "      <th></th>\n",
       "      <th>103780</th>\n",
       "      <th>608622</th>\n",
       "      <th>161900</th>\n",
       "      <th>145590</th>\n",
       "      <th>147530</th>\n",
       "      <th>157300</th>\n",
       "      <th>608088</th>\n",
       "      <th>140600</th>\n",
       "      <th>147480</th>\n",
       "      <th>600351</th>\n",
       "      <th>...</th>\n",
       "      <th>173200</th>\n",
       "      <th>115195</th>\n",
       "      <th>256700</th>\n",
       "      <th>601608</th>\n",
       "      <th>194070</th>\n",
       "      <th>115300</th>\n",
       "      <th>277350</th>\n",
       "      <th>240400</th>\n",
       "      <th>206200</th>\n",
       "      <th>250790</th>\n",
       "    </tr>\n",
       "  </thead>\n",
       "  <tbody>\n",
       "    <tr>\n",
       "      <th>103780</th>\n",
       "      <td>1.0</td>\n",
       "      <td>0.231225</td>\n",
       "      <td>0.112214</td>\n",
       "      <td>0.106257</td>\n",
       "      <td>0.078062</td>\n",
       "      <td>0.127741</td>\n",
       "      <td>0.108825</td>\n",
       "      <td>0.0</td>\n",
       "      <td>0.152292</td>\n",
       "      <td>0.057957</td>\n",
       "      <td>...</td>\n",
       "      <td>0.031407</td>\n",
       "      <td>0.150525</td>\n",
       "      <td>0.136234</td>\n",
       "      <td>0.16048</td>\n",
       "      <td>0.12331</td>\n",
       "      <td>0.178678</td>\n",
       "      <td>0.141056</td>\n",
       "      <td>0.200361</td>\n",
       "      <td>0.162371</td>\n",
       "      <td>0.187959</td>\n",
       "    </tr>\n",
       "  </tbody>\n",
       "</table>\n",
       "<p>1 rows × 233 columns</p>\n",
       "</div>"
      ],
      "text/plain": [
       "        103780    608622    161900    145590    147530    157300    608088  \\\n",
       "103780     1.0  0.231225  0.112214  0.106257  0.078062  0.127741  0.108825   \n",
       "\n",
       "        140600    147480    600351    ...       173200    115195    256700  \\\n",
       "103780     0.0  0.152292  0.057957    ...     0.031407  0.150525  0.136234   \n",
       "\n",
       "         601608   194070    115300    277350    240400    206200    250790  \n",
       "103780  0.16048  0.12331  0.178678  0.141056  0.200361  0.162371  0.187959  \n",
       "\n",
       "[1 rows x 233 columns]"
      ]
     },
     "execution_count": 6,
     "metadata": {},
     "output_type": "execute_result"
    }
   ],
   "source": [
    "diPhe.head(1)"
   ]
  },
  {
   "cell_type": "code",
   "execution_count": 38,
   "metadata": {
    "collapsed": false
   },
   "outputs": [
    {
     "name": "stdout",
     "output_type": "stream",
     "text": [
      "5525 DB00659\n"
     ]
    }
   ],
   "source": [
    "print pair[0][0],pair[1][0]"
   ]
  },
  {
   "cell_type": "code",
   "execution_count": 41,
   "metadata": {
    "collapsed": false
   },
   "outputs": [
    {
     "name": "stdout",
     "output_type": "stream",
     "text": [
      "0.00037407875061\n",
      "0.000993967056274\n"
     ]
    }
   ],
   "source": [
    "import timeit\n",
    "start_time = timeit.default_timer()\n",
    "hcPhe[pair[1][0]][pair[0][0]]\n",
    "print(timeit.default_timer() - start_time)\n",
    "\n",
    "start_time = timeit.default_timer()\n",
    "hcPhe.loc[pair[0][0],pair[1][0]]\n",
    "print(timeit.default_timer() - start_time)\n"
   ]
  },
  {
   "cell_type": "code",
   "execution_count": 42,
   "metadata": {
    "collapsed": false
   },
   "outputs": [
    {
     "name": "stdout",
     "output_type": "stream",
     "text": [
      "start : 2017-04-28 17:53:21\n",
      "30989000\n",
      "3098900 : 2017-04-28 18:01:18\n",
      "6197800 : 2017-04-28 18:09:11\n",
      "9296700 : 2017-04-28 18:17:02\n",
      "12395600 : 2017-04-28 18:25:00\n",
      "15494500 : 2017-04-28 18:32:55\n",
      "18593400 : 2017-04-28 18:40:58\n",
      "21692300 : 2017-04-28 18:48:59\n",
      "24791200 : 2017-04-28 18:56:56\n",
      "27890100 : 2017-04-28 19:04:55\n",
      "30989000 : 2017-04-28 19:12:55\n",
      "end : 2017-04-28 19:12:55\n",
      "30989000\n"
     ]
    }
   ],
   "source": [
    "# hcPhe\n",
    "cnt = 0\n",
    "print 'start : ' + datetime.now().strftime('%Y-%m-%d %H:%M:%S')\n",
    "val = list()\n",
    "print len(desc_pair)\n",
    "for pair in desc_pair:\n",
    "    \n",
    "        hc_pheSim = hcPhe.loc[pair[0][0],pair[1][0]]\n",
    "        val.append(hc_pheSim)\n",
    "        cnt = cnt +1\n",
    "        if cnt % 3098900 == 0:\n",
    "            print \"{} : \".format(cnt) + datetime.now().strftime('%Y-%m-%d %H:%M:%S')\n",
    "print 'end : ' + datetime.now().strftime('%Y-%m-%d %H:%M:%S')\n",
    "print cnt"
   ]
  },
  {
   "cell_type": "code",
   "execution_count": 50,
   "metadata": {
    "collapsed": true
   },
   "outputs": [],
   "source": [
    "hc = list()\n",
    "drug = list()\n",
    "for pair in desc_pair:\n",
    "    hc.append(pair[0][0])\n",
    "    drug.append(pair[1][0])\n",
    "pair_hc_PheSim = pd.DataFrame({'herbal_compounds':hc,'pos_drug':drug, 'hcPheSim':val})"
   ]
  },
  {
   "cell_type": "code",
   "execution_count": 52,
   "metadata": {
    "collapsed": false
   },
   "outputs": [],
   "source": [
    "pair_hc_PheSim.to_csv(\"/DAS_Storage1/aschoi/data/Drug_Repositioning/8_new_training/2_similarity_based-PREDICT/herbal_compounds/1_hcdr_PheSim.tsv\", sep='\\t', index=False)"
   ]
  },
  {
   "cell_type": "code",
   "execution_count": 53,
   "metadata": {
    "collapsed": false
   },
   "outputs": [
    {
     "name": "stdout",
     "output_type": "stream",
     "text": [
      "start : 2017-04-29 23:21:17\n",
      "30989000\n",
      "3098900 : Sat 23:28:18\n",
      "6197800 : Sat 23:35:17\n",
      "9296700 : Sat 23:42:09\n",
      "12395600 : Sat 23:49:02\n",
      "15494500 : Sat 23:55:54\n",
      "18593400 : Sun 00:02:28\n",
      "21692300 : Sun 00:09:01\n",
      "24791200 : Sun 00:15:32\n",
      "27890100 : Sun 00:22:06\n",
      "30989000 : Sun 00:28:39\n",
      "end : 2017-04-30 00:28:39\n",
      "30989000\n"
     ]
    }
   ],
   "source": [
    "# hcStr\n",
    "cnt = 0\n",
    "print 'start : ' + datetime.now().strftime('%Y-%m-%d %H:%M:%S')\n",
    "val2 = list()\n",
    "print len(desc_pair)\n",
    "for pair in desc_pair:\n",
    "        hc_strSim = hcStr.loc[pair[0][0],pair[1][0]]\n",
    "        val2.append(hc_strSim)\n",
    "        cnt = cnt +1\n",
    "        if cnt % 3098900 == 0:\n",
    "            print \"{} : \".format(cnt) + time.strftime('%a %H:%M:%S')\n",
    "print 'end : ' + datetime.now().strftime('%Y-%m-%d %H:%M:%S')\n",
    "print cnt"
   ]
  },
  {
   "cell_type": "code",
   "execution_count": 55,
   "metadata": {
    "collapsed": true
   },
   "outputs": [],
   "source": [
    "pair_hc_StrSim = pd.DataFrame({'herbal_compounds':hc,'pos_drug':drug, 'hcStrSim':val2})"
   ]
  },
  {
   "cell_type": "code",
   "execution_count": 56,
   "metadata": {
    "collapsed": true
   },
   "outputs": [],
   "source": [
    "pair_hc_StrSim.to_csv(\"/DAS_Storage1/aschoi/data/Drug_Repositioning/8_new_training/2_similarity_based-PREDICT/herbal_compounds/1_hcdr_StrSim.tsv\", sep='\\t', index=False)"
   ]
  },
  {
   "cell_type": "code",
   "execution_count": 59,
   "metadata": {
    "collapsed": false
   },
   "outputs": [
    {
     "name": "stdout",
     "output_type": "stream",
     "text": [
      "start : Sun 00:38:36\n",
      "30989000\n",
      "3098900 : Sun 00:39:08\n",
      "6197800 : Sun 00:39:40\n",
      "9296700 : Sun 00:40:12\n",
      "12395600 : Sun 00:40:45\n",
      "15494500 : Sun 00:41:18\n",
      "18593400 : Sun 00:41:50\n",
      "21692300 : Sun 00:42:23\n",
      "24791200 : Sun 00:42:55\n",
      "27890100 : Sun 00:43:28\n",
      "30989000 : Sun 00:44:00\n",
      "end : Sun 00:44:00\n",
      "30989000\n"
     ]
    }
   ],
   "source": [
    "# diPhe\n",
    "cnt = 0\n",
    "print 'start : ' + time.strftime('%a %H:%M:%S')\n",
    "val = list()\n",
    "print len(desc_pair)\n",
    "for pair in desc_pair:\n",
    "        disease_pheSim = diPhe[str(pair[0][1])][pair[1][1]]\n",
    "        val.append(disease_pheSim)\n",
    "        cnt = cnt +1\n",
    "        if cnt % 3098900 == 0:\n",
    "            print \"{} : \".format(cnt) + time.strftime('%a %H:%M:%S')\n",
    "print 'end : ' + time.strftime('%a %H:%M:%S')\n",
    "print cnt"
   ]
  },
  {
   "cell_type": "code",
   "execution_count": 60,
   "metadata": {
    "collapsed": true
   },
   "outputs": [],
   "source": [
    "query_disease = list()\n",
    "pos_disease = list()\n",
    "for pair in desc_pair:\n",
    "    query_disease.append(pair[0][1])\n",
    "    pos_disease.append(pair[1][1])\n",
    "pair_di_PheSim = pd.DataFrame({'query_disease':query_disease,'pos_disease':pos_disease, 'diPheSim':val})\n",
    "pair_di_PheSim.to_csv(\"/DAS_Storage1/aschoi/data/Drug_Repositioning/8_new_training/2_similarity_based-PREDICT/herbal_compounds/1_hcdidi_PheSim.tsv\", sep='\\t', index=False)"
   ]
  },
  {
   "cell_type": "code",
   "execution_count": 61,
   "metadata": {
    "collapsed": false
   },
   "outputs": [
    {
     "name": "stdout",
     "output_type": "stream",
     "text": [
      "start : Sun 00:46:13\n",
      "30989000\n",
      "3098900 : Sun 00:46:46\n",
      "6197800 : Sun 00:47:18\n",
      "9296700 : Sun 00:47:50\n",
      "12395600 : Sun 00:48:22\n",
      "15494500 : Sun 00:48:53\n",
      "18593400 : Sun 00:49:25\n",
      "21692300 : Sun 00:49:57\n",
      "24791200 : Sun 00:50:28\n",
      "27890100 : Sun 00:51:00\n",
      "30989000 : Sun 00:51:32\n",
      "end : Sun 00:51:32\n",
      "30989000\n"
     ]
    }
   ],
   "source": [
    "# diGe\n",
    "cnt = 0\n",
    "print 'start : ' + time.strftime('%a %H:%M:%S')\n",
    "val2 = list()\n",
    "print len(desc_pair)\n",
    "for pair in desc_pair:\n",
    "        disease_geSim = diGe[str(pair[0][1])][pair[1][1]]\n",
    "        val2.append(disease_geSim)\n",
    "        cnt = cnt +1\n",
    "        if cnt % 3098900 == 0:\n",
    "            print \"{} : \".format(cnt) + time.strftime('%a %H:%M:%S')\n",
    "print 'end : ' + time.strftime('%a %H:%M:%S')\n",
    "print cnt"
   ]
  },
  {
   "cell_type": "code",
   "execution_count": 62,
   "metadata": {
    "collapsed": true
   },
   "outputs": [],
   "source": [
    "pair_di_GeSim = pd.DataFrame({'query_disease':query_disease,'pos_disease':pos_disease, 'diGeSim':val2})\n",
    "\n",
    "pair_di_GeSim.head()\n",
    "\n",
    "pair_di_GeSim.to_csv(\"/DAS_Storage1/aschoi/data/Drug_Repositioning/8_new_training/2_similarity_based-PREDICT/herbal_compounds/1_hcdidi_GeSim.tsv\", sep='\\t', index=False)\n"
   ]
  },
  {
   "cell_type": "code",
   "execution_count": null,
   "metadata": {
    "collapsed": true
   },
   "outputs": [],
   "source": [
    "# descriptor 만들기"
   ]
  },
  {
   "cell_type": "code",
   "execution_count": 66,
   "metadata": {
    "collapsed": true
   },
   "outputs": [],
   "source": [
    "# hcStr + diGe\n",
    "temp = pd.concat([pair_hc_StrSim, pair_di_GeSim], axis = 1)\n",
    "hcStr_diGe = temp[['herbal_compounds', 'query_disease', 'pos_drug', 'pos_disease', 'hcStrSim', 'diGeSim']]\n",
    "del temp"
   ]
  },
  {
   "cell_type": "code",
   "execution_count": 68,
   "metadata": {
    "collapsed": false
   },
   "outputs": [],
   "source": [
    "hcStr_diGe['hcStr_diGe'] = np.sqrt(hcStr_diGe['hcStrSim'] * hcStr_diGe['diGeSim'])"
   ]
  },
  {
   "cell_type": "code",
   "execution_count": 69,
   "metadata": {
    "collapsed": false
   },
   "outputs": [
    {
     "data": {
      "text/html": [
       "<div>\n",
       "<table border=\"1\" class=\"dataframe\">\n",
       "  <thead>\n",
       "    <tr style=\"text-align: right;\">\n",
       "      <th></th>\n",
       "      <th>herbal_compounds</th>\n",
       "      <th>query_disease</th>\n",
       "      <th>pos_drug</th>\n",
       "      <th>pos_disease</th>\n",
       "      <th>hcStrSim</th>\n",
       "      <th>diGeSim</th>\n",
       "      <th>hcStr_diGe</th>\n",
       "    </tr>\n",
       "  </thead>\n",
       "  <tbody>\n",
       "    <tr>\n",
       "      <th>0</th>\n",
       "      <td>5525</td>\n",
       "      <td>102400</td>\n",
       "      <td>DB00659</td>\n",
       "      <td>103780</td>\n",
       "      <td>0.018182</td>\n",
       "      <td>0.988072</td>\n",
       "      <td>0.134033</td>\n",
       "    </tr>\n",
       "    <tr>\n",
       "      <th>1</th>\n",
       "      <td>5525</td>\n",
       "      <td>102400</td>\n",
       "      <td>DB01193</td>\n",
       "      <td>608622</td>\n",
       "      <td>0.128440</td>\n",
       "      <td>0.944334</td>\n",
       "      <td>0.348268</td>\n",
       "    </tr>\n",
       "  </tbody>\n",
       "</table>\n",
       "</div>"
      ],
      "text/plain": [
       "   herbal_compounds  query_disease pos_drug  pos_disease  hcStrSim   diGeSim  \\\n",
       "0              5525         102400  DB00659       103780  0.018182  0.988072   \n",
       "1              5525         102400  DB01193       608622  0.128440  0.944334   \n",
       "\n",
       "   hcStr_diGe  \n",
       "0    0.134033  \n",
       "1    0.348268  "
      ]
     },
     "execution_count": 69,
     "metadata": {},
     "output_type": "execute_result"
    }
   ],
   "source": [
    "hcStr_diGe.head(2)"
   ]
  },
  {
   "cell_type": "code",
   "execution_count": 70,
   "metadata": {
    "collapsed": true
   },
   "outputs": [],
   "source": [
    "sub_hcStr_diGe = hcStr_diGe[['herbal_compounds', 'query_disease', 'pos_drug', 'pos_disease', 'hcStr_diGe']]"
   ]
  },
  {
   "cell_type": "code",
   "execution_count": 74,
   "metadata": {
    "collapsed": true
   },
   "outputs": [],
   "source": [
    "desc = sub_hcStr_diGe.groupby(['herbal_compounds', 'query_disease'])[['hcStr_diGe']].max()"
   ]
  },
  {
   "cell_type": "code",
   "execution_count": 77,
   "metadata": {
    "collapsed": false
   },
   "outputs": [
    {
     "name": "stdout",
     "output_type": "stream",
     "text": [
      "30989000\n"
     ]
    }
   ],
   "source": [
    "# hcStr + diPhe\n",
    "temp = pd.concat([pair_hc_StrSim, pair_di_PheSim], axis=1)\n",
    "hcStr_diPhe = temp[['herbal_compounds', 'query_disease', 'pos_drug', 'pos_disease', 'hcStrSim', 'diPheSim']]\n",
    "del temp\n",
    "hcStr_diPhe['hcStr_diPhe'] = np.sqrt(hcStr_diPhe['hcStrSim'] * hcStr_diPhe['diPheSim'])\n",
    "print len(hcStr_diPhe)\n",
    "sub_hcStr_diPhe = hcStr_diPhe[['herbal_compounds', 'query_disease', 'pos_drug','pos_disease', 'hcStr_diPhe']]\n",
    "desc2 = sub_hcStr_diPhe.groupby(['herbal_compounds', 'query_disease'])[['hcStr_diPhe']].max()"
   ]
  },
  {
   "cell_type": "code",
   "execution_count": 78,
   "metadata": {
    "collapsed": false
   },
   "outputs": [
    {
     "name": "stdout",
     "output_type": "stream",
     "text": [
      "30989000\n"
     ]
    }
   ],
   "source": [
    "# hcPhe + diGe\n",
    "temp = pd.concat([pair_hc_PheSim, pair_di_GeSim], axis=1)\n",
    "hcPhe_diGe = temp[['herbal_compounds', 'query_disease', 'pos_drug', 'pos_disease', 'hcPheSim', 'diGeSim']]\n",
    "del temp\n",
    "hcPhe_diGe['hcPhe_diGe'] = np.sqrt(hcPhe_diGe['hcPheSim'] * hcPhe_diGe['diGeSim'])\n",
    "print len(hcPhe_diGe)\n",
    "sub_hcPhe_diGe = hcPhe_diGe[['herbal_compounds', 'query_disease', 'pos_drug','pos_disease', 'hcPhe_diGe']]\n",
    "desc3 = sub_hcPhe_diGe.groupby(['herbal_compounds', 'query_disease'])[['hcPhe_diGe']].max()"
   ]
  },
  {
   "cell_type": "code",
   "execution_count": 79,
   "metadata": {
    "collapsed": false
   },
   "outputs": [
    {
     "name": "stdout",
     "output_type": "stream",
     "text": [
      "30989000\n"
     ]
    }
   ],
   "source": [
    "# hcPhe + diPhe\n",
    "temp = pd.concat([pair_hc_PheSim, pair_di_PheSim], axis=1)\n",
    "hcPhe_diPhe = temp[['herbal_compounds', 'query_disease', 'pos_drug', 'pos_disease', 'hcPheSim', 'diPheSim']]\n",
    "del temp\n",
    "hcPhe_diPhe['hcPhe_diPhe'] = np.sqrt(hcPhe_diPhe['hcPheSim'] * hcPhe_diPhe['diPheSim'])\n",
    "print len(hcPhe_diPhe)\n",
    "sub_hcPhe_diPhe = hcPhe_diPhe[['herbal_compounds', 'query_disease', 'pos_drug','pos_disease', 'hcPhe_diPhe']]\n",
    "desc4 = sub_hcPhe_diPhe.groupby(['herbal_compounds', 'query_disease'])[['hcPhe_diPhe']].max()"
   ]
  },
  {
   "cell_type": "code",
   "execution_count": 91,
   "metadata": {
    "collapsed": false
   },
   "outputs": [],
   "source": [
    "result = desc.join(desc2).join(desc3).join(desc4)"
   ]
  },
  {
   "cell_type": "code",
   "execution_count": 93,
   "metadata": {
    "collapsed": false
   },
   "outputs": [],
   "source": [
    "result['association'] = 0"
   ]
  },
  {
   "cell_type": "code",
   "execution_count": null,
   "metadata": {
    "collapsed": true
   },
   "outputs": [],
   "source": [
    "combined[['drug_id', 'disease_id', 'association', 'drStr_diGe', 'drStr_diPhe', 'drPhe_diGe', 'drPhe_diPhe']]"
   ]
  },
  {
   "cell_type": "code",
   "execution_count": 95,
   "metadata": {
    "collapsed": false
   },
   "outputs": [],
   "source": [
    "result = result[['association', 'hcStr_diGe', 'hcStr_diPhe', 'hcPhe_diGe', 'hcPhe_diPhe']]"
   ]
  },
  {
   "cell_type": "code",
   "execution_count": 97,
   "metadata": {
    "collapsed": true
   },
   "outputs": [],
   "source": [
    "result.to_csv(\"/DAS_Storage1/aschoi/data/Drug_Repositioning/8_new_training/2_similarity_based-PREDICT/herbal_compounds/1_2_herbal_descriptor.tsv\", sep='\\t')"
   ]
  },
  {
   "cell_type": "code",
   "execution_count": null,
   "metadata": {
    "collapsed": true
   },
   "outputs": [],
   "source": []
  }
 ],
 "metadata": {
  "kernelspec": {
   "display_name": "Python 2",
   "language": "python",
   "name": "python2"
  },
  "language_info": {
   "codemirror_mode": {
    "name": "ipython",
    "version": 2
   },
   "file_extension": ".py",
   "mimetype": "text/x-python",
   "name": "python",
   "nbconvert_exporter": "python",
   "pygments_lexer": "ipython2",
   "version": "2.7.6"
  }
 },
 "nbformat": 4,
 "nbformat_minor": 0
}
