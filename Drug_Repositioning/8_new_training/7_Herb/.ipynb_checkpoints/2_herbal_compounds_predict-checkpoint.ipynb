{
 "cells": [
  {
   "cell_type": "code",
   "execution_count": 2,
   "metadata": {
    "collapsed": false
   },
   "outputs": [],
   "source": [
    "import pandas as pd\n",
    "import numpy as np\n",
    "from datetime import datetime\n",
    "import random\n",
    "from sklearn.linear_model import LogisticRegression\n",
    "from sklearn.ensemble import RandomForestClassifier\n",
    "from sklearn.model_selection import StratifiedKFold\n",
    "from sklearn.metrics import confusion_matrix\n",
    "from sklearn.metrics import roc_auc_score # AUC score\n",
    "from sklearn.metrics import average_precision_score # AUPR score\n",
    "from sklearn.metrics import precision_recall_fscore_support # precision, recall\n",
    "from imblearn.metrics import sensitivity_specificity_support # sensitivity, specificity\n",
    "from sklearn.metrics import roc_curve # to draw auc curve\n",
    "from sklearn.metrics import precision_recall_curve # to draw aupr curve\n",
    "from imblearn.under_sampling import RandomUnderSampler\n",
    "from imblearn.under_sampling import OneSidedSelection\n",
    "from imblearn.under_sampling import NearMiss\n",
    "from itertools import cycle\n",
    "import matplotlib.pyplot as plt\n",
    "%matplotlib inline"
   ]
  },
  {
   "cell_type": "code",
   "execution_count": 3,
   "metadata": {
    "collapsed": true
   },
   "outputs": [],
   "source": [
    "#2017.4.30. \n",
    "#path = \"/DAS_Storage1/aschoi/data/Drug_Repositioning/8_new_training/2_similarity_based-PREDICT/\"\n",
    "#tn = pd.read_table(path + \"4_5_tn_local_norm_1_1_descriptor.tsv\")\n",
    "#no_tn = pd.read_table(path + \"4_5_2_noTn_only_local_norm_1_1_descriptor.tsv\")\n",
    "#2017.6.7.\n",
    "gold_pos = pd.read_table(\"/DAS_Storage1/aschoi/data/Drug_Repositioning/data/desc_12/gold_pos_desc12.tsv\")\n",
    "gold_neg = pd.read_table(\"/DAS_Storage1/aschoi/data/Drug_Repositioning/data/desc_12/gold_neg_desc12.tsv\")\n",
    "gold = pd.concat([gold_pos, gold_neg])\n",
    "x_whole_data = gold[gold.columns.values[3:].tolist()].values\n",
    "y_whole_data = gold[\"association\"].values"
   ]
  },
  {
   "cell_type": "code",
   "execution_count": 15,
   "metadata": {
    "collapsed": false
   },
   "outputs": [],
   "source": [
    "#2017.4.30. herbal #2017.6.7.\n",
    "path = \"/DAS_Storage1/aschoi/data/Drug_Repositioning/8_new_training/2_similarity_based-PREDICT/herbal_compounds/\"\n",
    "#herbal = pd.read_table(path+\"1_2_herbal_descriptor.tsv\")\n",
    "herbal = pd.read_table(path+\"4_herbal_descriptor.tsv\")\n",
    "herbal.set_value(0, 'association', 1) # 예측을 위해 하나를 1로 변경\n",
    "herbal_x = herbal.values[:, 3:].astype(float)\n",
    "herbal_y = herbal.values[:,2].astype(int)"
   ]
  },
  {
   "cell_type": "code",
   "execution_count": 9,
   "metadata": {
    "collapsed": true
   },
   "outputs": [],
   "source": [
    "# undersampler\n",
    "rus = RandomUnderSampler(ratio=0.5)"
   ]
  },
  {
   "cell_type": "code",
   "execution_count": 10,
   "metadata": {
    "collapsed": true
   },
   "outputs": [],
   "source": [
    "x_rs = list()\n",
    "y_rs = list()\n",
    "for i in range(30):\n",
    "    x_resampled, y_resampled = rus.fit_sample(x_whole_data, y_whole_data)\n",
    "    x_rs.append(x_resampled)\n",
    "    y_rs.append(y_resampled)"
   ]
  },
  {
   "cell_type": "code",
   "execution_count": 18,
   "metadata": {
    "collapsed": false
   },
   "outputs": [
    {
     "name": "stdout",
     "output_type": "stream",
     "text": [
      "2017-06-07 00:52:59\n",
      "start 2017-06-07 00:52:59\n",
      "   start : 0 trials 2017-06-07 00:52:59\n",
      "   start : 10 trials 2017-06-07 00:54:00\n",
      "   start : 20 trials 2017-06-07 00:55:01\n",
      "end : 2017-06-07 00:56:01\n"
     ]
    }
   ],
   "source": [
    "# pick random noise by 1:1 herbal compounds (P:TN:Noise = 1:1:1 --> P:N = 1:2)\n",
    "print datetime.now().strftime('%Y-%m-%d %H:%M:%S')\n",
    "path = '/home/share/aschoi/nas/users/asolchoi/data/Drug_Repositioning/8_new_training/7_non/herb/'\n",
    "\n",
    "user_estimator = 1200\n",
    "classifier = RandomForestClassifier(n_estimators=user_estimator, n_jobs=-1, class_weight='balanced')\n",
    "trials = dict()\n",
    "print \"start \" + datetime.now().strftime('%Y-%m-%d %H:%M:%S')\n",
    "for x_resampled, y_resampled, i in zip(x_rs, y_rs, range(30)):\n",
    "    if i% 10 == 0:\n",
    "        print \"   start : {} trials \".format(i) + datetime.now().strftime('%Y-%m-%d %H:%M:%S')\n",
    "    classifier.fit(x_resampled, y_resampled)\n",
    "    indep_y_predicted_proba = classifier.predict_proba(herbal_x)\n",
    "    indep_y_predicted_label = classifier.predict(herbal_x)\n",
    "    fp_results = dict()\n",
    "    fp_results['predicted_proba'] = indep_y_predicted_proba\n",
    "    fp_results['Predicted_label'] = indep_y_predicted_label\n",
    "    fp_results['y_true'] = herbal_y\n",
    "    trials[i] = fp_results\n",
    "print \"end : \" + datetime.now().strftime('%Y-%m-%d %H:%M:%S')"
   ]
  },
  {
   "cell_type": "code",
   "execution_count": 19,
   "metadata": {
    "collapsed": false
   },
   "outputs": [
    {
     "data": {
      "text/plain": [
       "{0: {'Predicted_label': array([0, 0, 0, ..., 0, 0, 0]),\n",
       "  'predicted_proba': array([[ 0.94416667,  0.05583333],\n",
       "         [ 0.94833333,  0.05166667],\n",
       "         [ 0.9725    ,  0.0275    ],\n",
       "         ..., \n",
       "         [ 0.58833333,  0.41166667],\n",
       "         [ 0.58666667,  0.41333333],\n",
       "         [ 0.62416667,  0.37583333]]),\n",
       "  'y_true': array([1, 0, 0, ..., 0, 0, 0])},\n",
       " 1: {'Predicted_label': array([0, 0, 0, ..., 0, 0, 0]),\n",
       "  'predicted_proba': array([[ 0.95833333,  0.04166667],\n",
       "         [ 0.95416667,  0.04583333],\n",
       "         [ 0.975     ,  0.025     ],\n",
       "         ..., \n",
       "         [ 0.62666667,  0.37333333],\n",
       "         [ 0.60166667,  0.39833333],\n",
       "         [ 0.64833333,  0.35166667]]),\n",
       "  'y_true': array([1, 0, 0, ..., 0, 0, 0])},\n",
       " 2: {'Predicted_label': array([0, 0, 0, ..., 0, 0, 0]),\n",
       "  'predicted_proba': array([[ 0.95333333,  0.04666667],\n",
       "         [ 0.95416667,  0.04583333],\n",
       "         [ 0.965     ,  0.035     ],\n",
       "         ..., \n",
       "         [ 0.62416667,  0.37583333],\n",
       "         [ 0.61083333,  0.38916667],\n",
       "         [ 0.64416667,  0.35583333]]),\n",
       "  'y_true': array([1, 0, 0, ..., 0, 0, 0])},\n",
       " 3: {'Predicted_label': array([0, 0, 0, ..., 0, 0, 0]),\n",
       "  'predicted_proba': array([[ 0.94416667,  0.05583333],\n",
       "         [ 0.97666667,  0.02333333],\n",
       "         [ 0.97833333,  0.02166667],\n",
       "         ..., \n",
       "         [ 0.59833333,  0.40166667],\n",
       "         [ 0.58416667,  0.41583333],\n",
       "         [ 0.60833333,  0.39166667]]),\n",
       "  'y_true': array([1, 0, 0, ..., 0, 0, 0])},\n",
       " 4: {'Predicted_label': array([0, 0, 0, ..., 0, 0, 0]),\n",
       "  'predicted_proba': array([[ 0.94583333,  0.05416667],\n",
       "         [ 0.95833333,  0.04166667],\n",
       "         [ 0.97166667,  0.02833333],\n",
       "         ..., \n",
       "         [ 0.6175    ,  0.3825    ],\n",
       "         [ 0.58083333,  0.41916667],\n",
       "         [ 0.60416667,  0.39583333]]),\n",
       "  'y_true': array([1, 0, 0, ..., 0, 0, 0])},\n",
       " 5: {'Predicted_label': array([0, 0, 0, ..., 0, 0, 0]),\n",
       "  'predicted_proba': array([[ 0.9625    ,  0.0375    ],\n",
       "         [ 0.97333333,  0.02666667],\n",
       "         [ 0.975     ,  0.025     ],\n",
       "         ..., \n",
       "         [ 0.59083333,  0.40916667],\n",
       "         [ 0.62583333,  0.37416667],\n",
       "         [ 0.59416667,  0.40583333]]),\n",
       "  'y_true': array([1, 0, 0, ..., 0, 0, 0])},\n",
       " 6: {'Predicted_label': array([0, 0, 0, ..., 0, 0, 0]),\n",
       "  'predicted_proba': array([[ 0.93916667,  0.06083333],\n",
       "         [ 0.9625    ,  0.0375    ],\n",
       "         [ 0.975     ,  0.025     ],\n",
       "         ..., \n",
       "         [ 0.5075    ,  0.4925    ],\n",
       "         [ 0.68666667,  0.31333333],\n",
       "         [ 0.51666667,  0.48333333]]),\n",
       "  'y_true': array([1, 0, 0, ..., 0, 0, 0])},\n",
       " 7: {'Predicted_label': array([0, 0, 0, ..., 0, 0, 0]),\n",
       "  'predicted_proba': array([[ 0.9575    ,  0.0425    ],\n",
       "         [ 0.93666667,  0.06333333],\n",
       "         [ 0.98083333,  0.01916667],\n",
       "         ..., \n",
       "         [ 0.57666667,  0.42333333],\n",
       "         [ 0.58166667,  0.41833333],\n",
       "         [ 0.6075    ,  0.3925    ]]),\n",
       "  'y_true': array([1, 0, 0, ..., 0, 0, 0])},\n",
       " 8: {'Predicted_label': array([0, 0, 0, ..., 0, 0, 0]),\n",
       "  'predicted_proba': array([[ 0.94083333,  0.05916667],\n",
       "         [ 0.9475    ,  0.0525    ],\n",
       "         [ 0.96666667,  0.03333333],\n",
       "         ..., \n",
       "         [ 0.6325    ,  0.3675    ],\n",
       "         [ 0.59166667,  0.40833333],\n",
       "         [ 0.61      ,  0.39      ]]),\n",
       "  'y_true': array([1, 0, 0, ..., 0, 0, 0])},\n",
       " 9: {'Predicted_label': array([0, 0, 0, ..., 0, 0, 0]),\n",
       "  'predicted_proba': array([[ 0.96583333,  0.03416667],\n",
       "         [ 0.9675    ,  0.0325    ],\n",
       "         [ 0.98333333,  0.01666667],\n",
       "         ..., \n",
       "         [ 0.66583333,  0.33416667],\n",
       "         [ 0.62166667,  0.37833333],\n",
       "         [ 0.63166667,  0.36833333]]),\n",
       "  'y_true': array([1, 0, 0, ..., 0, 0, 0])},\n",
       " 10: {'Predicted_label': array([0, 0, 0, ..., 0, 0, 0]),\n",
       "  'predicted_proba': array([[ 0.96666667,  0.03333333],\n",
       "         [ 0.94916667,  0.05083333],\n",
       "         [ 0.96666667,  0.03333333],\n",
       "         ..., \n",
       "         [ 0.59833333,  0.40166667],\n",
       "         [ 0.61666667,  0.38333333],\n",
       "         [ 0.62333333,  0.37666667]]),\n",
       "  'y_true': array([1, 0, 0, ..., 0, 0, 0])},\n",
       " 11: {'Predicted_label': array([0, 0, 0, ..., 0, 0, 0]),\n",
       "  'predicted_proba': array([[ 0.9575    ,  0.0425    ],\n",
       "         [ 0.95416667,  0.04583333],\n",
       "         [ 0.97916667,  0.02083333],\n",
       "         ..., \n",
       "         [ 0.5875    ,  0.4125    ],\n",
       "         [ 0.6225    ,  0.3775    ],\n",
       "         [ 0.59083333,  0.40916667]]),\n",
       "  'y_true': array([1, 0, 0, ..., 0, 0, 0])},\n",
       " 12: {'Predicted_label': array([0, 0, 0, ..., 0, 0, 0]),\n",
       "  'predicted_proba': array([[ 0.96416667,  0.03583333],\n",
       "         [ 0.94083333,  0.05916667],\n",
       "         [ 0.985     ,  0.015     ],\n",
       "         ..., \n",
       "         [ 0.62916667,  0.37083333],\n",
       "         [ 0.60833333,  0.39166667],\n",
       "         [ 0.62083333,  0.37916667]]),\n",
       "  'y_true': array([1, 0, 0, ..., 0, 0, 0])},\n",
       " 13: {'Predicted_label': array([0, 0, 0, ..., 0, 0, 0]),\n",
       "  'predicted_proba': array([[ 0.9525    ,  0.0475    ],\n",
       "         [ 0.975     ,  0.025     ],\n",
       "         [ 0.9675    ,  0.0325    ],\n",
       "         ..., \n",
       "         [ 0.67583333,  0.32416667],\n",
       "         [ 0.5925    ,  0.4075    ],\n",
       "         [ 0.58666667,  0.41333333]]),\n",
       "  'y_true': array([1, 0, 0, ..., 0, 0, 0])},\n",
       " 14: {'Predicted_label': array([0, 0, 0, ..., 0, 0, 0]),\n",
       "  'predicted_proba': array([[ 0.95666667,  0.04333333],\n",
       "         [ 0.96666667,  0.03333333],\n",
       "         [ 0.9775    ,  0.0225    ],\n",
       "         ..., \n",
       "         [ 0.61      ,  0.39      ],\n",
       "         [ 0.63333333,  0.36666667],\n",
       "         [ 0.66166667,  0.33833333]]),\n",
       "  'y_true': array([1, 0, 0, ..., 0, 0, 0])},\n",
       " 15: {'Predicted_label': array([0, 0, 0, ..., 0, 0, 0]),\n",
       "  'predicted_proba': array([[ 0.96083333,  0.03916667],\n",
       "         [ 0.96083333,  0.03916667],\n",
       "         [ 0.9725    ,  0.0275    ],\n",
       "         ..., \n",
       "         [ 0.6225    ,  0.3775    ],\n",
       "         [ 0.53583333,  0.46416667],\n",
       "         [ 0.62      ,  0.38      ]]),\n",
       "  'y_true': array([1, 0, 0, ..., 0, 0, 0])},\n",
       " 16: {'Predicted_label': array([0, 0, 0, ..., 0, 0, 0]),\n",
       "  'predicted_proba': array([[ 0.95833333,  0.04166667],\n",
       "         [ 0.96583333,  0.03416667],\n",
       "         [ 0.9775    ,  0.0225    ],\n",
       "         ..., \n",
       "         [ 0.6175    ,  0.3825    ],\n",
       "         [ 0.5625    ,  0.4375    ],\n",
       "         [ 0.60583333,  0.39416667]]),\n",
       "  'y_true': array([1, 0, 0, ..., 0, 0, 0])},\n",
       " 17: {'Predicted_label': array([0, 0, 0, ..., 0, 0, 0]),\n",
       "  'predicted_proba': array([[ 0.9575    ,  0.0425    ],\n",
       "         [ 0.96166667,  0.03833333],\n",
       "         [ 0.96833333,  0.03166667],\n",
       "         ..., \n",
       "         [ 0.5825    ,  0.4175    ],\n",
       "         [ 0.56166667,  0.43833333],\n",
       "         [ 0.59083333,  0.40916667]]),\n",
       "  'y_true': array([1, 0, 0, ..., 0, 0, 0])},\n",
       " 18: {'Predicted_label': array([0, 0, 0, ..., 0, 0, 0]),\n",
       "  'predicted_proba': array([[ 0.935     ,  0.065     ],\n",
       "         [ 0.98      ,  0.02      ],\n",
       "         [ 0.97166667,  0.02833333],\n",
       "         ..., \n",
       "         [ 0.55833333,  0.44166667],\n",
       "         [ 0.52      ,  0.48      ],\n",
       "         [ 0.54666667,  0.45333333]]),\n",
       "  'y_true': array([1, 0, 0, ..., 0, 0, 0])},\n",
       " 19: {'Predicted_label': array([0, 0, 0, ..., 0, 0, 0]),\n",
       "  'predicted_proba': array([[ 0.95666667,  0.04333333],\n",
       "         [ 0.95583333,  0.04416667],\n",
       "         [ 0.97666667,  0.02333333],\n",
       "         ..., \n",
       "         [ 0.5625    ,  0.4375    ],\n",
       "         [ 0.615     ,  0.385     ],\n",
       "         [ 0.59      ,  0.41      ]]),\n",
       "  'y_true': array([1, 0, 0, ..., 0, 0, 0])},\n",
       " 20: {'Predicted_label': array([0, 0, 0, ..., 0, 0, 0]),\n",
       "  'predicted_proba': array([[ 0.94666667,  0.05333333],\n",
       "         [ 0.95333333,  0.04666667],\n",
       "         [ 0.98666667,  0.01333333],\n",
       "         ..., \n",
       "         [ 0.58333333,  0.41666667],\n",
       "         [ 0.58916667,  0.41083333],\n",
       "         [ 0.5525    ,  0.4475    ]]),\n",
       "  'y_true': array([1, 0, 0, ..., 0, 0, 0])},\n",
       " 21: {'Predicted_label': array([0, 0, 0, ..., 0, 0, 0]),\n",
       "  'predicted_proba': array([[ 0.9475    ,  0.0525    ],\n",
       "         [ 0.94583333,  0.05416667],\n",
       "         [ 0.96666667,  0.03333333],\n",
       "         ..., \n",
       "         [ 0.6725    ,  0.3275    ],\n",
       "         [ 0.58416667,  0.41583333],\n",
       "         [ 0.63416667,  0.36583333]]),\n",
       "  'y_true': array([1, 0, 0, ..., 0, 0, 0])},\n",
       " 22: {'Predicted_label': array([0, 0, 0, ..., 0, 0, 0]),\n",
       "  'predicted_proba': array([[ 0.9325    ,  0.0675    ],\n",
       "         [ 0.94833333,  0.05166667],\n",
       "         [ 0.98166667,  0.01833333],\n",
       "         ..., \n",
       "         [ 0.61583333,  0.38416667],\n",
       "         [ 0.5675    ,  0.4325    ],\n",
       "         [ 0.61416667,  0.38583333]]),\n",
       "  'y_true': array([1, 0, 0, ..., 0, 0, 0])},\n",
       " 23: {'Predicted_label': array([0, 0, 0, ..., 0, 0, 0]),\n",
       "  'predicted_proba': array([[ 0.96      ,  0.04      ],\n",
       "         [ 0.97083333,  0.02916667],\n",
       "         [ 0.96833333,  0.03166667],\n",
       "         ..., \n",
       "         [ 0.64083333,  0.35916667],\n",
       "         [ 0.57666667,  0.42333333],\n",
       "         [ 0.62083333,  0.37916667]]),\n",
       "  'y_true': array([1, 0, 0, ..., 0, 0, 0])},\n",
       " 24: {'Predicted_label': array([0, 0, 0, ..., 0, 0, 0]),\n",
       "  'predicted_proba': array([[ 0.93083333,  0.06916667],\n",
       "         [ 0.97416667,  0.02583333],\n",
       "         [ 0.96583333,  0.03416667],\n",
       "         ..., \n",
       "         [ 0.56416667,  0.43583333],\n",
       "         [ 0.58      ,  0.42      ],\n",
       "         [ 0.56166667,  0.43833333]]),\n",
       "  'y_true': array([1, 0, 0, ..., 0, 0, 0])},\n",
       " 25: {'Predicted_label': array([0, 0, 0, ..., 0, 0, 0]),\n",
       "  'predicted_proba': array([[ 0.94      ,  0.06      ],\n",
       "         [ 0.96416667,  0.03583333],\n",
       "         [ 0.97166667,  0.02833333],\n",
       "         ..., \n",
       "         [ 0.55166667,  0.44833333],\n",
       "         [ 0.57      ,  0.43      ],\n",
       "         [ 0.56166667,  0.43833333]]),\n",
       "  'y_true': array([1, 0, 0, ..., 0, 0, 0])},\n",
       " 26: {'Predicted_label': array([0, 0, 0, ..., 0, 0, 0]),\n",
       "  'predicted_proba': array([[ 0.94083333,  0.05916667],\n",
       "         [ 0.95666667,  0.04333333],\n",
       "         [ 0.96916667,  0.03083333],\n",
       "         ..., \n",
       "         [ 0.63166667,  0.36833333],\n",
       "         [ 0.61583333,  0.38416667],\n",
       "         [ 0.6275    ,  0.3725    ]]),\n",
       "  'y_true': array([1, 0, 0, ..., 0, 0, 0])},\n",
       " 27: {'Predicted_label': array([0, 0, 0, ..., 0, 0, 0]),\n",
       "  'predicted_proba': array([[ 0.945     ,  0.055     ],\n",
       "         [ 0.97416667,  0.02583333],\n",
       "         [ 0.98      ,  0.02      ],\n",
       "         ..., \n",
       "         [ 0.59916667,  0.40083333],\n",
       "         [ 0.57833333,  0.42166667],\n",
       "         [ 0.58666667,  0.41333333]]),\n",
       "  'y_true': array([1, 0, 0, ..., 0, 0, 0])},\n",
       " 28: {'Predicted_label': array([0, 0, 0, ..., 0, 0, 0]),\n",
       "  'predicted_proba': array([[ 0.94166667,  0.05833333],\n",
       "         [ 0.96583333,  0.03416667],\n",
       "         [ 0.95333333,  0.04666667],\n",
       "         ..., \n",
       "         [ 0.58333333,  0.41666667],\n",
       "         [ 0.55916667,  0.44083333],\n",
       "         [ 0.58      ,  0.42      ]]),\n",
       "  'y_true': array([1, 0, 0, ..., 0, 0, 0])},\n",
       " 29: {'Predicted_label': array([0, 0, 0, ..., 0, 0, 0]),\n",
       "  'predicted_proba': array([[ 0.95416667,  0.04583333],\n",
       "         [ 0.95833333,  0.04166667],\n",
       "         [ 0.96916667,  0.03083333],\n",
       "         ..., \n",
       "         [ 0.65      ,  0.35      ],\n",
       "         [ 0.63      ,  0.37      ],\n",
       "         [ 0.61333333,  0.38666667]]),\n",
       "  'y_true': array([1, 0, 0, ..., 0, 0, 0])}}"
      ]
     },
     "execution_count": 19,
     "metadata": {},
     "output_type": "execute_result"
    }
   ],
   "source": [
    "회수별로 공통적으로 1이라고 판명된 herbal compounds를 찾는다. "
   ]
  },
  {
   "cell_type": "code",
   "execution_count": 58,
   "metadata": {
    "collapsed": false
   },
   "outputs": [],
   "source": [
    "df_dic = dict()\n",
    "for i in range(30):\n",
    "    df_dic[i] = predicted_results(trials[i])"
   ]
  },
  {
   "cell_type": "code",
   "execution_count": 59,
   "metadata": {
    "collapsed": false
   },
   "outputs": [],
   "source": [
    "fp_dic = dict()\n",
    "fp_lst = list()\n",
    "for i in range(30):\n",
    "    fp_dic[i] = df_dic[i][df_dic[i].Predicted_label == 1]\n",
    "    fp_lst.append(df_dic[i][df_dic[i].Predicted_label == 1])"
   ]
  },
  {
   "cell_type": "code",
   "execution_count": 61,
   "metadata": {
    "collapsed": false
   },
   "outputs": [],
   "source": [
    "fp_final = reduce(lambda left, right: pd.merge(left, right, on=['Disease_id', 'Drug_id', 'Predicted_label', 'y_true']), fp_lst)"
   ]
  },
  {
   "cell_type": "code",
   "execution_count": 93,
   "metadata": {
    "collapsed": false
   },
   "outputs": [],
   "source": [
    "columns_names = ['Drug_id','Disease_id','y_true', 'Predicted_label' ] + ['trial'+str(i) for i in range(30)] "
   ]
  },
  {
   "cell_type": "code",
   "execution_count": 95,
   "metadata": {
    "collapsed": false
   },
   "outputs": [],
   "source": [
    "fp_final.columns = columns_names"
   ]
  },
  {
   "cell_type": "code",
   "execution_count": 100,
   "metadata": {
    "collapsed": false
   },
   "outputs": [
    {
     "data": {
      "text/html": [
       "<div>\n",
       "<table border=\"1\" class=\"dataframe\">\n",
       "  <thead>\n",
       "    <tr style=\"text-align: right;\">\n",
       "      <th></th>\n",
       "      <th>Drug_id</th>\n",
       "      <th>Disease_id</th>\n",
       "      <th>y_true</th>\n",
       "      <th>Predicted_label</th>\n",
       "      <th>trial0</th>\n",
       "      <th>trial1</th>\n",
       "      <th>trial2</th>\n",
       "      <th>trial3</th>\n",
       "      <th>trial4</th>\n",
       "      <th>trial5</th>\n",
       "      <th>...</th>\n",
       "      <th>trial20</th>\n",
       "      <th>trial21</th>\n",
       "      <th>trial22</th>\n",
       "      <th>trial23</th>\n",
       "      <th>trial24</th>\n",
       "      <th>trial25</th>\n",
       "      <th>trial26</th>\n",
       "      <th>trial27</th>\n",
       "      <th>trial28</th>\n",
       "      <th>trial29</th>\n",
       "    </tr>\n",
       "  </thead>\n",
       "  <tbody>\n",
       "    <tr>\n",
       "      <th>0</th>\n",
       "      <td>141</td>\n",
       "      <td>239350</td>\n",
       "      <td>0</td>\n",
       "      <td>1</td>\n",
       "      <td>0.947500</td>\n",
       "      <td>0.903333</td>\n",
       "      <td>0.974167</td>\n",
       "      <td>0.995833</td>\n",
       "      <td>0.955833</td>\n",
       "      <td>0.968333</td>\n",
       "      <td>...</td>\n",
       "      <td>0.925000</td>\n",
       "      <td>0.835</td>\n",
       "      <td>0.896667</td>\n",
       "      <td>0.958333</td>\n",
       "      <td>0.972500</td>\n",
       "      <td>0.934167</td>\n",
       "      <td>0.9400</td>\n",
       "      <td>0.974167</td>\n",
       "      <td>0.939167</td>\n",
       "      <td>0.985833</td>\n",
       "    </tr>\n",
       "    <tr>\n",
       "      <th>1</th>\n",
       "      <td>153</td>\n",
       "      <td>140600</td>\n",
       "      <td>0</td>\n",
       "      <td>1</td>\n",
       "      <td>0.820833</td>\n",
       "      <td>0.843333</td>\n",
       "      <td>0.795833</td>\n",
       "      <td>0.725833</td>\n",
       "      <td>0.878333</td>\n",
       "      <td>0.792500</td>\n",
       "      <td>...</td>\n",
       "      <td>0.861667</td>\n",
       "      <td>0.780</td>\n",
       "      <td>0.871667</td>\n",
       "      <td>0.867500</td>\n",
       "      <td>0.793333</td>\n",
       "      <td>0.876667</td>\n",
       "      <td>0.6875</td>\n",
       "      <td>0.699167</td>\n",
       "      <td>0.775000</td>\n",
       "      <td>0.820000</td>\n",
       "    </tr>\n",
       "  </tbody>\n",
       "</table>\n",
       "<p>2 rows × 34 columns</p>\n",
       "</div>"
      ],
      "text/plain": [
       "   Drug_id  Disease_id  y_true  Predicted_label    trial0    trial1    trial2  \\\n",
       "0      141      239350       0                1  0.947500  0.903333  0.974167   \n",
       "1      153      140600       0                1  0.820833  0.843333  0.795833   \n",
       "\n",
       "     trial3    trial4    trial5    ...      trial20  trial21   trial22  \\\n",
       "0  0.995833  0.955833  0.968333    ...     0.925000    0.835  0.896667   \n",
       "1  0.725833  0.878333  0.792500    ...     0.861667    0.780  0.871667   \n",
       "\n",
       "    trial23   trial24   trial25  trial26   trial27   trial28   trial29  \n",
       "0  0.958333  0.972500  0.934167   0.9400  0.974167  0.939167  0.985833  \n",
       "1  0.867500  0.793333  0.876667   0.6875  0.699167  0.775000  0.820000  \n",
       "\n",
       "[2 rows x 34 columns]"
      ]
     },
     "execution_count": 100,
     "metadata": {},
     "output_type": "execute_result"
    }
   ],
   "source": [
    "fp_final.head(2)"
   ]
  },
  {
   "cell_type": "code",
   "execution_count": 134,
   "metadata": {
    "collapsed": true
   },
   "outputs": [],
   "source": [
    "fp_final['avg'] = fp_final[fp_final.columns.values.tolist()[4:]].mean(axis=1)"
   ]
  },
  {
   "cell_type": "code",
   "execution_count": 140,
   "metadata": {
    "collapsed": false
   },
   "outputs": [],
   "source": [
    "fp_final = fp_final[['Drug_id','Disease_id','y_true', 'Predicted_label', 'avg' ] + ['trial'+str(i) for i in range(30)]]"
   ]
  },
  {
   "cell_type": "code",
   "execution_count": 145,
   "metadata": {
    "collapsed": false
   },
   "outputs": [],
   "source": [
    "sorted_fp = fp_final.sort_values(by='avg', ascending=False)"
   ]
  },
  {
   "cell_type": "code",
   "execution_count": 147,
   "metadata": {
    "collapsed": false
   },
   "outputs": [],
   "source": [
    "sorted_fp.rename(columns={'Drug_id' : 'Herbal_compID'}, inplace=True)"
   ]
  },
  {
   "cell_type": "code",
   "execution_count": 148,
   "metadata": {
    "collapsed": true
   },
   "outputs": [],
   "source": [
    "sorted_fp.to_csv(\"/home/share/aschoi/nas/users/asolchoi/data/Drug_Repositioning/8_new_training/7_non/herb/herbal_compound_positive.tsv\", sep='\\t', index=False)"
   ]
  },
  {
   "cell_type": "code",
   "execution_count": null,
   "metadata": {
    "collapsed": true
   },
   "outputs": [],
   "source": [
    "#이름 매칭"
   ]
  },
  {
   "cell_type": "code",
   "execution_count": 153,
   "metadata": {
    "collapsed": false
   },
   "outputs": [
    {
     "data": {
      "text/html": [
       "<div>\n",
       "<table border=\"1\" class=\"dataframe\">\n",
       "  <thead>\n",
       "    <tr style=\"text-align: right;\">\n",
       "      <th></th>\n",
       "      <th>herbID</th>\n",
       "      <th>herbName</th>\n",
       "      <th>compID</th>\n",
       "      <th>compName</th>\n",
       "      <th>pubchemID</th>\n",
       "      <th>casID</th>\n",
       "      <th>chemblID</th>\n",
       "      <th>stitchID</th>\n",
       "    </tr>\n",
       "  </thead>\n",
       "  <tbody>\n",
       "    <tr>\n",
       "      <th>0</th>\n",
       "      <td>[1, 168]</td>\n",
       "      <td>['Melia azedarach', 'Melia azed-arach']</td>\n",
       "      <td>31598</td>\n",
       "      <td>5-(3'-Methoxycarbonylbutyroyl)aminomethyl-tran...</td>\n",
       "      <td>null</td>\n",
       "      <td>null</td>\n",
       "      <td>null</td>\n",
       "      <td>null</td>\n",
       "    </tr>\n",
       "  </tbody>\n",
       "</table>\n",
       "</div>"
      ],
      "text/plain": [
       "     herbID                                 herbName  compID  \\\n",
       "0  [1, 168]  ['Melia azedarach', 'Melia azed-arach']   31598   \n",
       "\n",
       "                                            compName pubchemID casID chemblID  \\\n",
       "0  5-(3'-Methoxycarbonylbutyroyl)aminomethyl-tran...      null  null     null   \n",
       "\n",
       "  stitchID  \n",
       "0     null  "
      ]
     },
     "execution_count": 153,
     "metadata": {},
     "output_type": "execute_result"
    }
   ],
   "source": [
    "hc = pd.read_table(\"/DAS_Storage1/aschoi/data/COCONUT_Herbal/6_Herb/2_2_COCONUT_herb_compound_ID(remove_duplicate)_tab.txt\")\n",
    "hc.head(1)"
   ]
  },
  {
   "cell_type": "code",
   "execution_count": 158,
   "metadata": {
    "collapsed": false
   },
   "outputs": [
    {
     "data": {
      "text/html": [
       "<div>\n",
       "<table border=\"1\" class=\"dataframe\">\n",
       "  <thead>\n",
       "    <tr style=\"text-align: right;\">\n",
       "      <th></th>\n",
       "      <th>compID</th>\n",
       "      <th>name</th>\n",
       "      <th>synonym</th>\n",
       "    </tr>\n",
       "  </thead>\n",
       "  <tbody>\n",
       "    <tr>\n",
       "      <th>0</th>\n",
       "      <td>119</td>\n",
       "      <td>L-(+)-Arginine</td>\n",
       "      <td>(2S)-2-amino-5-(Carbamimidamido)pentanoic acid...</td>\n",
       "    </tr>\n",
       "  </tbody>\n",
       "</table>\n",
       "</div>"
      ],
      "text/plain": [
       "   compID            name                                            synonym\n",
       "0     119  L-(+)-Arginine  (2S)-2-amino-5-(Carbamimidamido)pentanoic acid..."
      ]
     },
     "execution_count": 158,
     "metadata": {},
     "output_type": "execute_result"
    }
   ],
   "source": [
    "hc_name = pd.read_table(\"/DAS_Storage1/aschoi/data/Drug_Repositioning/5_new_drug/new_predict/learning_hc_name_synonym.tsv\")\n",
    "hc_name.head(1)"
   ]
  },
  {
   "cell_type": "code",
   "execution_count": 152,
   "metadata": {
    "collapsed": false
   },
   "outputs": [
    {
     "data": {
      "text/html": [
       "<div>\n",
       "<table border=\"1\" class=\"dataframe\">\n",
       "  <thead>\n",
       "    <tr style=\"text-align: right;\">\n",
       "      <th></th>\n",
       "      <th>OMIM_ID</th>\n",
       "      <th>OMIM_disease_name</th>\n",
       "      <th>UMLS_concept_ID</th>\n",
       "      <th>UMLS_concept_name</th>\n",
       "    </tr>\n",
       "  </thead>\n",
       "  <tbody>\n",
       "    <tr>\n",
       "      <th>0</th>\n",
       "      <td>102100</td>\n",
       "      <td>Acromegaloid Changes, Cutis Verticis Gyrata, A...</td>\n",
       "      <td>C1868756</td>\n",
       "      <td>Corneal leukoma</td>\n",
       "    </tr>\n",
       "  </tbody>\n",
       "</table>\n",
       "</div>"
      ],
      "text/plain": [
       "   OMIM_ID                                  OMIM_disease_name UMLS_concept_ID  \\\n",
       "0   102100  Acromegaloid Changes, Cutis Verticis Gyrata, A...        C1868756   \n",
       "\n",
       "  UMLS_concept_name  \n",
       "0   Corneal leukoma  "
      ]
     },
     "execution_count": 152,
     "metadata": {},
     "output_type": "execute_result"
    }
   ],
   "source": [
    "omim = pd.read_table(\"/DAS_Storage1/aschoi/data/Drug_Repositioning/6_new_disease/1_omim_umls_mapping_association.tsv\")\n",
    "omim.head(1)"
   ]
  },
  {
   "cell_type": "code",
   "execution_count": 154,
   "metadata": {
    "collapsed": false
   },
   "outputs": [
    {
     "data": {
      "text/html": [
       "<div>\n",
       "<table border=\"1\" class=\"dataframe\">\n",
       "  <thead>\n",
       "    <tr style=\"text-align: right;\">\n",
       "      <th></th>\n",
       "      <th>OMIM_ID</th>\n",
       "      <th>OMIM_disease_name</th>\n",
       "      <th>UMLS_concept_ID</th>\n",
       "      <th>UMLS_concept_name</th>\n",
       "      <th>Herbal_compID</th>\n",
       "      <th>Disease_id</th>\n",
       "      <th>y_true</th>\n",
       "      <th>Predicted_label</th>\n",
       "      <th>avg</th>\n",
       "      <th>trial0</th>\n",
       "      <th>...</th>\n",
       "      <th>trial20</th>\n",
       "      <th>trial21</th>\n",
       "      <th>trial22</th>\n",
       "      <th>trial23</th>\n",
       "      <th>trial24</th>\n",
       "      <th>trial25</th>\n",
       "      <th>trial26</th>\n",
       "      <th>trial27</th>\n",
       "      <th>trial28</th>\n",
       "      <th>trial29</th>\n",
       "    </tr>\n",
       "  </thead>\n",
       "  <tbody>\n",
       "    <tr>\n",
       "      <th>0</th>\n",
       "      <td>102300</td>\n",
       "      <td>Restless Legs Syndrome, Susceptibility To, 1; ...</td>\n",
       "      <td>C0035258</td>\n",
       "      <td>Restless Legs Syndrome</td>\n",
       "      <td>83229</td>\n",
       "      <td>102300</td>\n",
       "      <td>0</td>\n",
       "      <td>1</td>\n",
       "      <td>0.823278</td>\n",
       "      <td>0.776667</td>\n",
       "      <td>...</td>\n",
       "      <td>0.905</td>\n",
       "      <td>0.820833</td>\n",
       "      <td>0.774167</td>\n",
       "      <td>0.886667</td>\n",
       "      <td>0.7025</td>\n",
       "      <td>0.866667</td>\n",
       "      <td>0.751667</td>\n",
       "      <td>0.905</td>\n",
       "      <td>0.730833</td>\n",
       "      <td>0.854167</td>\n",
       "    </tr>\n",
       "  </tbody>\n",
       "</table>\n",
       "<p>1 rows × 39 columns</p>\n",
       "</div>"
      ],
      "text/plain": [
       "   OMIM_ID                                  OMIM_disease_name UMLS_concept_ID  \\\n",
       "0   102300  Restless Legs Syndrome, Susceptibility To, 1; ...        C0035258   \n",
       "\n",
       "        UMLS_concept_name  Herbal_compID  Disease_id  y_true  Predicted_label  \\\n",
       "0  Restless Legs Syndrome          83229      102300       0                1   \n",
       "\n",
       "        avg    trial0    ...     trial20   trial21   trial22   trial23  \\\n",
       "0  0.823278  0.776667    ...       0.905  0.820833  0.774167  0.886667   \n",
       "\n",
       "   trial24   trial25   trial26  trial27   trial28   trial29  \n",
       "0   0.7025  0.866667  0.751667    0.905  0.730833  0.854167  \n",
       "\n",
       "[1 rows x 39 columns]"
      ]
     },
     "execution_count": 154,
     "metadata": {},
     "output_type": "execute_result"
    }
   ],
   "source": [
    "fp_omim = pd.merge(right = sorted_fp, left = omim, right_on = 'Disease_id', left_on = 'OMIM_ID')\n",
    "fp_omim.head(1)"
   ]
  },
  {
   "cell_type": "code",
   "execution_count": 155,
   "metadata": {
    "collapsed": false
   },
   "outputs": [
    {
     "name": "stdout",
     "output_type": "stream",
     "text": [
      "258 647 258\n"
     ]
    },
    {
     "data": {
      "text/html": [
       "<div>\n",
       "<table border=\"1\" class=\"dataframe\">\n",
       "  <thead>\n",
       "    <tr style=\"text-align: right;\">\n",
       "      <th></th>\n",
       "      <th>Herbal_compID</th>\n",
       "      <th>Disease_id</th>\n",
       "      <th>OMIM_disease_name</th>\n",
       "      <th>avg</th>\n",
       "    </tr>\n",
       "  </thead>\n",
       "  <tbody>\n",
       "    <tr>\n",
       "      <th>0</th>\n",
       "      <td>83229</td>\n",
       "      <td>102300</td>\n",
       "      <td>Restless Legs Syndrome, Susceptibility To, 1; ...</td>\n",
       "      <td>0.823278</td>\n",
       "    </tr>\n",
       "    <tr>\n",
       "      <th>1</th>\n",
       "      <td>83229</td>\n",
       "      <td>102300</td>\n",
       "      <td>Restless Legs Syndrome, Susceptibility To, 1; ...</td>\n",
       "      <td>0.823278</td>\n",
       "    </tr>\n",
       "  </tbody>\n",
       "</table>\n",
       "</div>"
      ],
      "text/plain": [
       "   Herbal_compID  Disease_id  \\\n",
       "0          83229      102300   \n",
       "1          83229      102300   \n",
       "\n",
       "                                   OMIM_disease_name       avg  \n",
       "0  Restless Legs Syndrome, Susceptibility To, 1; ...  0.823278  \n",
       "1  Restless Legs Syndrome, Susceptibility To, 1; ...  0.823278  "
      ]
     },
     "execution_count": 155,
     "metadata": {},
     "output_type": "execute_result"
    }
   ],
   "source": [
    "fp_omim2 = fp_omim[['Herbal_compID','Disease_id','OMIM_disease_name', 'avg']]\n",
    "print len(sorted_fp), len(fp_omim2), len(fp_omim2.drop_duplicates())\n",
    "fp_omim2.head(2)"
   ]
  },
  {
   "cell_type": "code",
   "execution_count": 156,
   "metadata": {
    "collapsed": false
   },
   "outputs": [
    {
     "data": {
      "text/html": [
       "<div>\n",
       "<table border=\"1\" class=\"dataframe\">\n",
       "  <thead>\n",
       "    <tr style=\"text-align: right;\">\n",
       "      <th></th>\n",
       "      <th>herbID</th>\n",
       "      <th>herbName</th>\n",
       "      <th>compID</th>\n",
       "      <th>compName</th>\n",
       "      <th>pubchemID</th>\n",
       "      <th>casID</th>\n",
       "      <th>chemblID</th>\n",
       "      <th>stitchID</th>\n",
       "      <th>Herbal_compID</th>\n",
       "      <th>Disease_id</th>\n",
       "      <th>OMIM_disease_name</th>\n",
       "      <th>avg</th>\n",
       "    </tr>\n",
       "  </thead>\n",
       "  <tbody>\n",
       "    <tr>\n",
       "      <th>0</th>\n",
       "      <td>[3, 314, 336, 792, 3227, 3838, 4161, 4689, 492...</td>\n",
       "      <td>['Paeonia lactiflora', 'Crocus sativus', 'Isat...</td>\n",
       "      <td>1020</td>\n",
       "      <td>Probenecid</td>\n",
       "      <td>4911</td>\n",
       "      <td>57-66-9</td>\n",
       "      <td>CHEMBL897</td>\n",
       "      <td>null</td>\n",
       "      <td>1020</td>\n",
       "      <td>161900</td>\n",
       "      <td>Renal Failure, Progressive, With Hypertension</td>\n",
       "      <td>0.726056</td>\n",
       "    </tr>\n",
       "  </tbody>\n",
       "</table>\n",
       "</div>"
      ],
      "text/plain": [
       "                                              herbID  \\\n",
       "0  [3, 314, 336, 792, 3227, 3838, 4161, 4689, 492...   \n",
       "\n",
       "                                            herbName  compID    compName  \\\n",
       "0  ['Paeonia lactiflora', 'Crocus sativus', 'Isat...    1020  Probenecid   \n",
       "\n",
       "  pubchemID    casID   chemblID stitchID  Herbal_compID  Disease_id  \\\n",
       "0      4911  57-66-9  CHEMBL897     null           1020      161900   \n",
       "\n",
       "                               OMIM_disease_name       avg  \n",
       "0  Renal Failure, Progressive, With Hypertension  0.726056  "
      ]
     },
     "execution_count": 156,
     "metadata": {},
     "output_type": "execute_result"
    }
   ],
   "source": [
    "fp_omim_drug = pd.merge(right = fp_omim2, left = hc, right_on = 'Herbal_compID', left_on = 'compID')\n",
    "fp_omim_drug.head(1)"
   ]
  },
  {
   "cell_type": "code",
   "execution_count": 159,
   "metadata": {
    "collapsed": false
   },
   "outputs": [
    {
     "data": {
      "text/html": [
       "<div>\n",
       "<table border=\"1\" class=\"dataframe\">\n",
       "  <thead>\n",
       "    <tr style=\"text-align: right;\">\n",
       "      <th></th>\n",
       "      <th>compID_x</th>\n",
       "      <th>name</th>\n",
       "      <th>synonym</th>\n",
       "      <th>herbID</th>\n",
       "      <th>herbName</th>\n",
       "      <th>compID_y</th>\n",
       "      <th>compName</th>\n",
       "      <th>pubchemID</th>\n",
       "      <th>casID</th>\n",
       "      <th>chemblID</th>\n",
       "      <th>stitchID</th>\n",
       "      <th>Herbal_compID</th>\n",
       "      <th>Disease_id</th>\n",
       "      <th>OMIM_disease_name</th>\n",
       "      <th>avg</th>\n",
       "    </tr>\n",
       "  </thead>\n",
       "  <tbody>\n",
       "    <tr>\n",
       "      <th>0</th>\n",
       "      <td>141</td>\n",
       "      <td>Pyridoxal</td>\n",
       "      <td>3-HYDROXY-5-(hydroxymethyl)-2-methylisonicotin...</td>\n",
       "      <td>[3349]</td>\n",
       "      <td>['Solanum aculeatissimum']</td>\n",
       "      <td>141</td>\n",
       "      <td>Pyridoxal</td>\n",
       "      <td>null</td>\n",
       "      <td>65-22-5</td>\n",
       "      <td>null</td>\n",
       "      <td>null</td>\n",
       "      <td>141</td>\n",
       "      <td>239350</td>\n",
       "      <td>Hyperphosphatemia, Polyuria, And Seizures</td>\n",
       "      <td>0.952639</td>\n",
       "    </tr>\n",
       "  </tbody>\n",
       "</table>\n",
       "</div>"
      ],
      "text/plain": [
       "   compID_x       name                                            synonym  \\\n",
       "0       141  Pyridoxal  3-HYDROXY-5-(hydroxymethyl)-2-methylisonicotin...   \n",
       "\n",
       "   herbID                    herbName  compID_y   compName pubchemID    casID  \\\n",
       "0  [3349]  ['Solanum aculeatissimum']       141  Pyridoxal      null  65-22-5   \n",
       "\n",
       "  chemblID stitchID  Herbal_compID  Disease_id  \\\n",
       "0     null     null            141      239350   \n",
       "\n",
       "                           OMIM_disease_name       avg  \n",
       "0  Hyperphosphatemia, Polyuria, And Seizures  0.952639  "
      ]
     },
     "execution_count": 159,
     "metadata": {},
     "output_type": "execute_result"
    }
   ],
   "source": [
    "fp_omim_drug2 = pd.merge(right = fp_omim_drug, left = hc_name, right_on = 'Herbal_compID', left_on = 'compID')\n",
    "fp_omim_drug2.head(1)"
   ]
  },
  {
   "cell_type": "code",
   "execution_count": 162,
   "metadata": {
    "collapsed": false
   },
   "outputs": [
    {
     "name": "stdout",
     "output_type": "stream",
     "text": [
      "647 258\n"
     ]
    },
    {
     "data": {
      "text/html": [
       "<div>\n",
       "<table border=\"1\" class=\"dataframe\">\n",
       "  <thead>\n",
       "    <tr style=\"text-align: right;\">\n",
       "      <th></th>\n",
       "      <th>herbID</th>\n",
       "      <th>herbName</th>\n",
       "      <th>Herbal_compID</th>\n",
       "      <th>compName</th>\n",
       "      <th>synonym</th>\n",
       "      <th>Disease_id</th>\n",
       "      <th>OMIM_disease_name</th>\n",
       "      <th>avg</th>\n",
       "    </tr>\n",
       "  </thead>\n",
       "  <tbody>\n",
       "    <tr>\n",
       "      <th>0</th>\n",
       "      <td>[3349]</td>\n",
       "      <td>['Solanum aculeatissimum']</td>\n",
       "      <td>141</td>\n",
       "      <td>Pyridoxal</td>\n",
       "      <td>3-HYDROXY-5-(hydroxymethyl)-2-methylisonicotin...</td>\n",
       "      <td>239350</td>\n",
       "      <td>Hyperphosphatemia, Polyuria, And Seizures</td>\n",
       "      <td>0.952639</td>\n",
       "    </tr>\n",
       "    <tr>\n",
       "      <th>1</th>\n",
       "      <td>[3349]</td>\n",
       "      <td>['Solanum aculeatissimum']</td>\n",
       "      <td>141</td>\n",
       "      <td>Pyridoxal</td>\n",
       "      <td>3-HYDROXY-5-(hydroxymethyl)-2-methylisonicotin...</td>\n",
       "      <td>239350</td>\n",
       "      <td>Hyperphosphatemia, Polyuria, And Seizures</td>\n",
       "      <td>0.952639</td>\n",
       "    </tr>\n",
       "  </tbody>\n",
       "</table>\n",
       "</div>"
      ],
      "text/plain": [
       "   herbID                    herbName  Herbal_compID   compName  \\\n",
       "0  [3349]  ['Solanum aculeatissimum']            141  Pyridoxal   \n",
       "1  [3349]  ['Solanum aculeatissimum']            141  Pyridoxal   \n",
       "\n",
       "                                             synonym  Disease_id  \\\n",
       "0  3-HYDROXY-5-(hydroxymethyl)-2-methylisonicotin...      239350   \n",
       "1  3-HYDROXY-5-(hydroxymethyl)-2-methylisonicotin...      239350   \n",
       "\n",
       "                           OMIM_disease_name       avg  \n",
       "0  Hyperphosphatemia, Polyuria, And Seizures  0.952639  \n",
       "1  Hyperphosphatemia, Polyuria, And Seizures  0.952639  "
      ]
     },
     "execution_count": 162,
     "metadata": {},
     "output_type": "execute_result"
    }
   ],
   "source": [
    "herb_ver = fp_omim_drug2[['herbID','herbName','Herbal_compID','compName','synonym','Disease_id','OMIM_disease_name', 'avg']]\n",
    "print len(herb_ver), len(herb_ver.drop_duplicates())\n",
    "herb_ver.head(2)"
   ]
  },
  {
   "cell_type": "code",
   "execution_count": 163,
   "metadata": {
    "collapsed": false
   },
   "outputs": [
    {
     "name": "stdout",
     "output_type": "stream",
     "text": [
      "647 258\n"
     ]
    },
    {
     "data": {
      "text/html": [
       "<div>\n",
       "<table border=\"1\" class=\"dataframe\">\n",
       "  <thead>\n",
       "    <tr style=\"text-align: right;\">\n",
       "      <th></th>\n",
       "      <th>Herbal_compID</th>\n",
       "      <th>compName</th>\n",
       "      <th>synonym</th>\n",
       "      <th>Disease_id</th>\n",
       "      <th>OMIM_disease_name</th>\n",
       "      <th>avg</th>\n",
       "    </tr>\n",
       "  </thead>\n",
       "  <tbody>\n",
       "    <tr>\n",
       "      <th>0</th>\n",
       "      <td>141</td>\n",
       "      <td>Pyridoxal</td>\n",
       "      <td>3-HYDROXY-5-(hydroxymethyl)-2-methylisonicotin...</td>\n",
       "      <td>239350</td>\n",
       "      <td>Hyperphosphatemia, Polyuria, And Seizures</td>\n",
       "      <td>0.952639</td>\n",
       "    </tr>\n",
       "    <tr>\n",
       "      <th>1</th>\n",
       "      <td>141</td>\n",
       "      <td>Pyridoxal</td>\n",
       "      <td>3-HYDROXY-5-(hydroxymethyl)-2-methylisonicotin...</td>\n",
       "      <td>239350</td>\n",
       "      <td>Hyperphosphatemia, Polyuria, And Seizures</td>\n",
       "      <td>0.952639</td>\n",
       "    </tr>\n",
       "  </tbody>\n",
       "</table>\n",
       "</div>"
      ],
      "text/plain": [
       "   Herbal_compID   compName  \\\n",
       "0            141  Pyridoxal   \n",
       "1            141  Pyridoxal   \n",
       "\n",
       "                                             synonym  Disease_id  \\\n",
       "0  3-HYDROXY-5-(hydroxymethyl)-2-methylisonicotin...      239350   \n",
       "1  3-HYDROXY-5-(hydroxymethyl)-2-methylisonicotin...      239350   \n",
       "\n",
       "                           OMIM_disease_name       avg  \n",
       "0  Hyperphosphatemia, Polyuria, And Seizures  0.952639  \n",
       "1  Hyperphosphatemia, Polyuria, And Seizures  0.952639  "
      ]
     },
     "execution_count": 163,
     "metadata": {},
     "output_type": "execute_result"
    }
   ],
   "source": [
    "herb_ext = fp_omim_drug2[['Herbal_compID','compName','synonym','Disease_id','OMIM_disease_name', 'avg']]\n",
    "print len(herb_ext), len(herb_ext.drop_duplicates())\n",
    "herb_ext.head(2)"
   ]
  },
  {
   "cell_type": "code",
   "execution_count": 165,
   "metadata": {
    "collapsed": false
   },
   "outputs": [],
   "source": [
    "herb_ver.to_csv(\"/home/share/aschoi/nas/users/asolchoi/data/Drug_Repositioning/8_new_training/7_non/herb/herbal_compound_positive_name_herb_info.tsv\", index=False)\n",
    "herb_ext.to_csv(\"/home/share/aschoi/nas/users/asolchoi/data/Drug_Repositioning/8_new_training/7_non/herb/herbal_compound_positive_name.tsv\", index=False)"
   ]
  },
  {
   "cell_type": "code",
   "execution_count": null,
   "metadata": {
    "collapsed": true
   },
   "outputs": [],
   "source": []
  },
  {
   "cell_type": "code",
   "execution_count": null,
   "metadata": {
    "collapsed": true
   },
   "outputs": [],
   "source": []
  },
  {
   "cell_type": "code",
   "execution_count": 31,
   "metadata": {
    "collapsed": false
   },
   "outputs": [],
   "source": [
    "f = open(\"/home/share/aschoi/nas/users/asolchoi/data/Drug_Repositioning/8_new_training/5_final/tn+noise_1by1_idex.txt\", \"r\")\n",
    "indices = list()\n",
    "while True:\n",
    "    line=f.readline()\n",
    "    if not line : break\n",
    "    indices.append(line.lstrip('[').rstrip(']\\n').split(', '))\n",
    "f.close()"
   ]
  },
  {
   "cell_type": "code",
   "execution_count": 37,
   "metadata": {
    "collapsed": false
   },
   "outputs": [],
   "source": [
    "lindices = list()\n",
    "for i in indices:\n",
    "    tmp = list()\n",
    "    for j in i:\n",
    "        tmp.append(int(j))\n",
    "    lindices.append(tmp)"
   ]
  },
  {
   "cell_type": "code",
   "execution_count": 72,
   "metadata": {
    "collapsed": false
   },
   "outputs": [
    {
     "name": "stdout",
     "output_type": "stream",
     "text": [
      "2017-04-30 22:09:27\n",
      "2017-04-30 22:09:29\n"
     ]
    }
   ],
   "source": [
    "# pick random noise by 1:1 herbal compounds (P:TN:Noise = 1:1:1 --> P:N = 1:2)\n",
    "print datetime.now().strftime('%Y-%m-%d %H:%M:%S')\n",
    "path = '/home/share/aschoi/nas/users/asolchoi/data/Drug_Repositioning/8_new_training/5_final/'\n",
    "with open(path + \"6_herbal_tn+noise_1by1.txt\", 'w') as fd :\n",
    "    user_estimator = 300\n",
    "    i=1\n",
    "    idx = lindices[i]\n",
    "    fd.write(\"<{} : independent>\\r\\n\".format(i))\n",
    "    filtered = no_tn.filter(items = idx, axis=0) # 뽑은 index만큼 filter\n",
    "    noise_tn = pd.concat([tn,filtered])\n",
    "\n",
    "    x_whole_data = noise_tn[noise_tn.columns.values[3:].tolist()].values\n",
    "    y_whole_data = noise_tn[\"association\"].values\n",
    "\n",
    "    fp_results = dict()\n",
    "    \n",
    "    classifier = RandomForestClassifier(n_estimators=user_estimator, n_jobs=-1, class_weight='balanced')\n",
    "    classifier.fit(x_whole_data, y_whole_data)\n",
    "    indep_y_predicted_proba = classifier.predict_proba(herbal_x)\n",
    "    indep_y_predicted_label = classifier.predict(herbal_x)\n",
    "    fp_results['predicted_proba'] = indep_y_predicted_proba\n",
    "    fp_results['Predicted_label'] = indep_y_predicted_label\n",
    "    fp_results['y_true'] = herbal_y\n",
    "    \n",
    "    #write_output(fd, folds_results, i, user_estimator)\n",
    "#li_noise1.append(predicted_results(fp_results))\n",
    "print datetime.now().strftime('%Y-%m-%d %H:%M:%S')"
   ]
  },
  {
   "cell_type": "code",
   "execution_count": 74,
   "metadata": {
    "collapsed": false
   },
   "outputs": [],
   "source": [
    "result = predicted_results(fp_results)"
   ]
  },
  {
   "cell_type": "code",
   "execution_count": 84,
   "metadata": {
    "collapsed": false
   },
   "outputs": [
    {
     "name": "stdout",
     "output_type": "stream",
     "text": [
      "19859\n",
      "3441\n",
      "23300\n"
     ]
    }
   ],
   "source": [
    "print len(result[result.Predicted_label == 1])\n",
    "print len(result[result.Predicted_label == 0])\n",
    "print len(result)"
   ]
  },
  {
   "cell_type": "code",
   "execution_count": 81,
   "metadata": {
    "collapsed": false
   },
   "outputs": [],
   "source": [
    "positive_predicted = result[result.Predicted_label == 1]"
   ]
  },
  {
   "cell_type": "code",
   "execution_count": 87,
   "metadata": {
    "collapsed": false
   },
   "outputs": [
    {
     "name": "stdout",
     "output_type": "stream",
     "text": [
      "126\n",
      "1473\n"
     ]
    }
   ],
   "source": [
    "print len(positive_predicted[positive_predicted.Predicted_proba == 1])\n",
    "print len(positive_predicted[positive_predicted.Predicted_proba == 0.99])"
   ]
  },
  {
   "cell_type": "code",
   "execution_count": 93,
   "metadata": {
    "collapsed": false
   },
   "outputs": [
    {
     "name": "stdout",
     "output_type": "stream",
     "text": [
      "126\n"
     ]
    },
    {
     "data": {
      "text/html": [
       "<div>\n",
       "<table border=\"1\" class=\"dataframe\">\n",
       "  <thead>\n",
       "    <tr style=\"text-align: right;\">\n",
       "      <th></th>\n",
       "      <th>Disease_id</th>\n",
       "      <th>Predicted_label</th>\n",
       "      <th>Predicted_proba</th>\n",
       "      <th>y_true</th>\n",
       "    </tr>\n",
       "    <tr>\n",
       "      <th>Drug_id</th>\n",
       "      <th></th>\n",
       "      <th></th>\n",
       "      <th></th>\n",
       "      <th></th>\n",
       "    </tr>\n",
       "  </thead>\n",
       "  <tbody>\n",
       "    <tr>\n",
       "      <th>119</th>\n",
       "      <td>1</td>\n",
       "      <td>1</td>\n",
       "      <td>1</td>\n",
       "      <td>1</td>\n",
       "    </tr>\n",
       "    <tr>\n",
       "      <th>139</th>\n",
       "      <td>6</td>\n",
       "      <td>6</td>\n",
       "      <td>6</td>\n",
       "      <td>6</td>\n",
       "    </tr>\n",
       "    <tr>\n",
       "      <th>752</th>\n",
       "      <td>3</td>\n",
       "      <td>3</td>\n",
       "      <td>3</td>\n",
       "      <td>3</td>\n",
       "    </tr>\n",
       "    <tr>\n",
       "      <th>837</th>\n",
       "      <td>15</td>\n",
       "      <td>15</td>\n",
       "      <td>15</td>\n",
       "      <td>15</td>\n",
       "    </tr>\n",
       "    <tr>\n",
       "      <th>926</th>\n",
       "      <td>4</td>\n",
       "      <td>4</td>\n",
       "      <td>4</td>\n",
       "      <td>4</td>\n",
       "    </tr>\n",
       "    <tr>\n",
       "      <th>1001</th>\n",
       "      <td>3</td>\n",
       "      <td>3</td>\n",
       "      <td>3</td>\n",
       "      <td>3</td>\n",
       "    </tr>\n",
       "    <tr>\n",
       "      <th>1343</th>\n",
       "      <td>1</td>\n",
       "      <td>1</td>\n",
       "      <td>1</td>\n",
       "      <td>1</td>\n",
       "    </tr>\n",
       "    <tr>\n",
       "      <th>1529</th>\n",
       "      <td>3</td>\n",
       "      <td>3</td>\n",
       "      <td>3</td>\n",
       "      <td>3</td>\n",
       "    </tr>\n",
       "    <tr>\n",
       "      <th>1574</th>\n",
       "      <td>1</td>\n",
       "      <td>1</td>\n",
       "      <td>1</td>\n",
       "      <td>1</td>\n",
       "    </tr>\n",
       "    <tr>\n",
       "      <th>2682</th>\n",
       "      <td>9</td>\n",
       "      <td>9</td>\n",
       "      <td>9</td>\n",
       "      <td>9</td>\n",
       "    </tr>\n",
       "    <tr>\n",
       "      <th>2969</th>\n",
       "      <td>1</td>\n",
       "      <td>1</td>\n",
       "      <td>1</td>\n",
       "      <td>1</td>\n",
       "    </tr>\n",
       "    <tr>\n",
       "      <th>4020</th>\n",
       "      <td>1</td>\n",
       "      <td>1</td>\n",
       "      <td>1</td>\n",
       "      <td>1</td>\n",
       "    </tr>\n",
       "    <tr>\n",
       "      <th>4521</th>\n",
       "      <td>12</td>\n",
       "      <td>12</td>\n",
       "      <td>12</td>\n",
       "      <td>12</td>\n",
       "    </tr>\n",
       "    <tr>\n",
       "      <th>7638</th>\n",
       "      <td>6</td>\n",
       "      <td>6</td>\n",
       "      <td>6</td>\n",
       "      <td>6</td>\n",
       "    </tr>\n",
       "    <tr>\n",
       "      <th>7859</th>\n",
       "      <td>5</td>\n",
       "      <td>5</td>\n",
       "      <td>5</td>\n",
       "      <td>5</td>\n",
       "    </tr>\n",
       "    <tr>\n",
       "      <th>7874</th>\n",
       "      <td>2</td>\n",
       "      <td>2</td>\n",
       "      <td>2</td>\n",
       "      <td>2</td>\n",
       "    </tr>\n",
       "    <tr>\n",
       "      <th>9471</th>\n",
       "      <td>2</td>\n",
       "      <td>2</td>\n",
       "      <td>2</td>\n",
       "      <td>2</td>\n",
       "    </tr>\n",
       "    <tr>\n",
       "      <th>9926</th>\n",
       "      <td>2</td>\n",
       "      <td>2</td>\n",
       "      <td>2</td>\n",
       "      <td>2</td>\n",
       "    </tr>\n",
       "    <tr>\n",
       "      <th>10195</th>\n",
       "      <td>4</td>\n",
       "      <td>4</td>\n",
       "      <td>4</td>\n",
       "      <td>4</td>\n",
       "    </tr>\n",
       "    <tr>\n",
       "      <th>50263</th>\n",
       "      <td>1</td>\n",
       "      <td>1</td>\n",
       "      <td>1</td>\n",
       "      <td>1</td>\n",
       "    </tr>\n",
       "    <tr>\n",
       "      <th>58454</th>\n",
       "      <td>12</td>\n",
       "      <td>12</td>\n",
       "      <td>12</td>\n",
       "      <td>12</td>\n",
       "    </tr>\n",
       "    <tr>\n",
       "      <th>61885</th>\n",
       "      <td>1</td>\n",
       "      <td>1</td>\n",
       "      <td>1</td>\n",
       "      <td>1</td>\n",
       "    </tr>\n",
       "    <tr>\n",
       "      <th>70458</th>\n",
       "      <td>1</td>\n",
       "      <td>1</td>\n",
       "      <td>1</td>\n",
       "      <td>1</td>\n",
       "    </tr>\n",
       "    <tr>\n",
       "      <th>70473</th>\n",
       "      <td>1</td>\n",
       "      <td>1</td>\n",
       "      <td>1</td>\n",
       "      <td>1</td>\n",
       "    </tr>\n",
       "    <tr>\n",
       "      <th>70692</th>\n",
       "      <td>1</td>\n",
       "      <td>1</td>\n",
       "      <td>1</td>\n",
       "      <td>1</td>\n",
       "    </tr>\n",
       "    <tr>\n",
       "      <th>71038</th>\n",
       "      <td>1</td>\n",
       "      <td>1</td>\n",
       "      <td>1</td>\n",
       "      <td>1</td>\n",
       "    </tr>\n",
       "    <tr>\n",
       "      <th>76198</th>\n",
       "      <td>1</td>\n",
       "      <td>1</td>\n",
       "      <td>1</td>\n",
       "      <td>1</td>\n",
       "    </tr>\n",
       "    <tr>\n",
       "      <th>77956</th>\n",
       "      <td>10</td>\n",
       "      <td>10</td>\n",
       "      <td>10</td>\n",
       "      <td>10</td>\n",
       "    </tr>\n",
       "    <tr>\n",
       "      <th>79982</th>\n",
       "      <td>8</td>\n",
       "      <td>8</td>\n",
       "      <td>8</td>\n",
       "      <td>8</td>\n",
       "    </tr>\n",
       "    <tr>\n",
       "      <th>85183</th>\n",
       "      <td>5</td>\n",
       "      <td>5</td>\n",
       "      <td>5</td>\n",
       "      <td>5</td>\n",
       "    </tr>\n",
       "    <tr>\n",
       "      <th>85310</th>\n",
       "      <td>3</td>\n",
       "      <td>3</td>\n",
       "      <td>3</td>\n",
       "      <td>3</td>\n",
       "    </tr>\n",
       "  </tbody>\n",
       "</table>\n",
       "</div>"
      ],
      "text/plain": [
       "         Disease_id  Predicted_label  Predicted_proba  y_true\n",
       "Drug_id                                                      \n",
       "119               1                1                1       1\n",
       "139               6                6                6       6\n",
       "752               3                3                3       3\n",
       "837              15               15               15      15\n",
       "926               4                4                4       4\n",
       "1001              3                3                3       3\n",
       "1343              1                1                1       1\n",
       "1529              3                3                3       3\n",
       "1574              1                1                1       1\n",
       "2682              9                9                9       9\n",
       "2969              1                1                1       1\n",
       "4020              1                1                1       1\n",
       "4521             12               12               12      12\n",
       "7638              6                6                6       6\n",
       "7859              5                5                5       5\n",
       "7874              2                2                2       2\n",
       "9471              2                2                2       2\n",
       "9926              2                2                2       2\n",
       "10195             4                4                4       4\n",
       "50263             1                1                1       1\n",
       "58454            12               12               12      12\n",
       "61885             1                1                1       1\n",
       "70458             1                1                1       1\n",
       "70473             1                1                1       1\n",
       "70692             1                1                1       1\n",
       "71038             1                1                1       1\n",
       "76198             1                1                1       1\n",
       "77956            10               10               10      10\n",
       "79982             8                8                8       8\n",
       "85183             5                5                5       5\n",
       "85310             3                3                3       3"
      ]
     },
     "execution_count": 93,
     "metadata": {},
     "output_type": "execute_result"
    }
   ],
   "source": [
    "pro_1 = positive_predicted[positive_predicted.Predicted_proba == 1]\n",
    "print len(pro_1)\n",
    "pro_1.groupby('Drug_id').count()"
   ]
  },
  {
   "cell_type": "code",
   "execution_count": 82,
   "metadata": {
    "collapsed": false
   },
   "outputs": [
    {
     "data": {
      "text/plain": [
       "array([[<matplotlib.axes.AxesSubplot object at 0x7fe657effe90>,\n",
       "        <matplotlib.axes.AxesSubplot object at 0x7fe657f18b50>],\n",
       "       [<matplotlib.axes.AxesSubplot object at 0x7fe654459450>,\n",
       "        <matplotlib.axes.AxesSubplot object at 0x7fe657eadbd0>],\n",
       "       [<matplotlib.axes.AxesSubplot object at 0x7fe657a36990>,\n",
       "        <matplotlib.axes.AxesSubplot object at 0x7fe657a12590>]], dtype=object)"
      ]
     },
     "execution_count": 82,
     "metadata": {},
     "output_type": "execute_result"
    },
    {
     "data": {
      "image/png": "[encoded data removed]",
      "text/plain": [
       "<matplotlib.figure.Figure at 0x7fe6543fe090>"
      ]
     },
     "metadata": {},
     "output_type": "display_data"
    }
   ],
   "source": [
    "positive_predicted.hist()"
   ]
  },
  {
   "cell_type": "code",
   "execution_count": 67,
   "metadata": {
    "collapsed": false
   },
   "outputs": [
    {
     "data": {
      "text/plain": [
       "{'Predicted_label': array([1, 1, 1, ..., 1, 1, 1]),\n",
       " 'predicted_proba': array([[ 0.26666667,  0.73333333],\n",
       "        [ 0.00666667,  0.99333333],\n",
       "        [ 0.01      ,  0.99      ],\n",
       "        ..., \n",
       "        [ 0.03333333,  0.96666667],\n",
       "        [ 0.01333333,  0.98666667],\n",
       "        [ 0.08666667,  0.91333333]]),\n",
       " 'y_true': array([0, 0, 0, ..., 0, 0, 0])}"
      ]
     },
     "execution_count": 67,
     "metadata": {},
     "output_type": "execute_result"
    }
   ],
   "source": [
    "fp_results"
   ]
  },
  {
   "cell_type": "code",
   "execution_count": null,
   "metadata": {
    "collapsed": true
   },
   "outputs": [],
   "source": []
  },
  {
   "cell_type": "code",
   "execution_count": 57,
   "metadata": {
    "collapsed": true
   },
   "outputs": [],
   "source": [
    "def predicted_results(fp_results):\n",
    "    df_predicted_result = pd.DataFrame({'Drug_id':herbal['herbal_compounds'],'Disease_id':herbal['query_disease'],\n",
    "                                        'y_true':fp_results['y_true'],\n",
    "                                        'Predicted_label' : fp_results['Predicted_label'],\n",
    "                                        'Predicted_proba' : fp_results['predicted_proba'][:,1]})\n",
    "    df_predicted_result= df_predicted_result[['Drug_id', 'Disease_id', 'y_true', 'Predicted_label', 'Predicted_proba']]\n",
    "    return df_predicted_result"
   ]
  },
  {
   "cell_type": "code",
   "execution_count": 7,
   "metadata": {
    "collapsed": true
   },
   "outputs": [],
   "source": [
    "# undersampler\n",
    "rus = RandomUnderSampler()\n",
    "oss = OneSidedSelection()\n",
    "nm = NearMiss()"
   ]
  },
  {
   "cell_type": "code",
   "execution_count": 6,
   "metadata": {
    "collapsed": true
   },
   "outputs": [],
   "source": [
    "def Random_Forest_independent_graph(X, y, indep_X, indep_y, user_estimator):\n",
    "\n",
    "    folds_results = dict()\n",
    "    draw_results = {'fpr':[], 'tpr':[], 'precision_vec':[], 'recall_vec':[]}\n",
    "    fp_results = dict()\n",
    "    \n",
    "    classifier = RandomForestClassifier(n_estimators=user_estimator, n_jobs=-1, class_weight='balanced')\n",
    "    classifier.fit(X, y)\n",
    "    indep_y_predicted_proba = classifier.predict_proba(indep_X)\n",
    "    indep_y_predicted_label = classifier.predict(indep_X)\n",
    "    fp_results['predicted_proba'] = indep_y_predicted_proba\n",
    "    fp_results['Predicted_label'] = indep_y_predicted_label\n",
    "    fp_results['y_true'] = indep_y\n",
    "\n",
    "    # Accuracy\n",
    "    indep_acc = classifier.score(indep_X, indep_y)\n",
    "    folds_results['acc']=indep_acc\n",
    "    \n",
    "    # AUC\n",
    "    indep_auc = roc_auc_score(indep_y, indep_y_predicted_proba[:,1])\n",
    "    folds_results['auc']=indep_auc\n",
    "    \n",
    "    # Sensitivity, Specificity\n",
    "    indep_sn, indep_sp, support = sensitivity_specificity_support(indep_y, indep_y_predicted_label)\n",
    "    folds_results['sn']=indep_sn\n",
    "    folds_results['sp']=indep_sp\n",
    "    \n",
    "    # AUPR\n",
    "    indep_aupr = average_precision_score(indep_y, indep_y_predicted_proba[:,1])\n",
    "    folds_results['aupr']=indep_aupr\n",
    "    \n",
    "    # Precision, Recall\n",
    "    indep_precision, indep_recall, _, _ = precision_recall_fscore_support(indep_y, indep_y_predicted_label, average = 'binary')\n",
    "    folds_results['precision']=indep_precision\n",
    "    folds_results['recall']=indep_recall\n",
    "    \n",
    "    # Confusion Matirx\n",
    "    indep_confusion_matirx = confusion_matrix(indep_y, indep_y_predicted_label)\n",
    "    folds_results['confusion_matrix']=indep_confusion_matirx\n",
    "    \n",
    "    # draw graph\n",
    "    indep_fpr, indep_tpr, thresholds = roc_curve(indep_y, indep_y_predicted_proba[:, 1], pos_label=1)\n",
    "    draw_results['fpr'].append(indep_fpr)\n",
    "    draw_results['tpr'].append(indep_tpr)\n",
    "        \n",
    "    indep_precision_vec, indep_recall_vec, _ = precision_recall_curve(indep_y, indep_y_predicted_proba[:, 1])\n",
    "    draw_results['precision_vec'].append(indep_precision_vec)\n",
    "    draw_results['recall_vec'].append(indep_recall_vec)\n",
    "\n",
    "    return folds_results, draw_results, fp_results\n",
    "def draw_plot(draw_results, final_result, i, user_estimator):\n",
    "    #colors = cycle(['cyan', 'indigo', 'seagreen', 'yellow', 'blue', 'darkorange', 'red', 'violet', 'fuchsia', 'sienna'])\n",
    "    colors = ['cyan', 'indigo', 'seagreen', 'yellow', 'blue', 'darkorange', 'red', 'violet', 'fuchsia', 'sienna']\n",
    "    lw = 1\n",
    "    plt.clf()\n",
    "    fig, (ax1, ax2) = plt.subplots(nrows=1, ncols=2, figsize=(6, 3))\n",
    "    print \"{} : {}------------------------------------\".format(i, user_estimator)\n",
    "    for i in draw_results:\n",
    "        for fpr, tpr in zip(i['fpr'], i['tpr']):\n",
    "            ax1.plot(fpr, tpr, lw=lw)\n",
    "        for recall_vec, precision_vec in zip(i['recall_vec'], i['precision_vec']):\n",
    "            ax2.plot(recall_vec, precision_vec, lw=lw)\n",
    "    ax1.set_xlabel('FPR')\n",
    "    ax1.set_ylabel('TPR')\n",
    "    ax1.set_color_cycle(colors)\n",
    "    ax1.set_title('N={0}, Average AUC={1:0.2f}'.format(user_estimator, final_result['auc']))\n",
    "    ax1.set_ylim([0.0, 1.05])\n",
    "    ax1.set_xlim([0.0, 1.0])\n",
    "    ax2.set_xlabel('Recall')\n",
    "    ax2.set_ylabel('Precision')\n",
    "    ax2.set_color_cycle(colors)\n",
    "    ax2.set_title('N={0}, Average AUPR={1:0.2f}'.format(user_estimator, final_result['aupr']))\n",
    "    ax2.set_ylim([0.0, 1.05])\n",
    "    ax2.set_xlim([0.0, 1.0])\n",
    "    plt.tight_layout()\n",
    "    plt.show()\n",
    "def write_output(fd, write_results, i, user_estimator):\n",
    "    fd.write(\"try={}, N={}-------------------------------------------------\\r\\n\".format(i, user_estimator))\n",
    "    fd.write(\"Accuracy avg : {}\\r\\n\".format(write_results['acc']))\n",
    "    fd.write(\"AUC avg : {}\\r\\n\".format(write_results['auc']))\n",
    "    fd.write(\"  Sensitivity avg : {}\\r\\n\".format(write_results['sn']))\n",
    "    fd.write(\"  Specificity avg : {}\\r\\n\".format(write_results['sp']))\n",
    "    fd.write(\"AUPR avg : {}\\r\\n\".format(write_results['aupr']))\n",
    "    fd.write(\"  Precision avg : {}\\r\\n\".format(write_results['precision']))\n",
    "    fd.write(\"  Recall avg : {}\\r\\n\".format(write_results['recall']))\n",
    "    fd.write(\"confusion amtrix : {}\\r\\n\".format(write_results['confusion_matrix']))\n",
    "def average_result(folds_results):\n",
    "    avg_result = dict()\n",
    "    avg_result['avg_acc'] = sum(folds_results['acc']) / len(folds_results['acc'])\n",
    "    avg_result['avg_auc'] = sum(folds_results['auc']) / len(folds_results['auc'])\n",
    "    avg_result['avg_aupr'] = sum(folds_results['aupr']) / len(folds_results['aupr'])\n",
    "    avg_result['avg_sn'] = sum(folds_results['sn']) / len(folds_results['sn'])\n",
    "    avg_result['avg_sp'] = sum(folds_results['sp']) / len(folds_results['sp'])\n",
    "    avg_result['avg_precision'] = sum(folds_results['precision']) / len(folds_results['precision'])\n",
    "    avg_result['avg_recall'] = sum(folds_results['recall']) / len(folds_results['recall'])\n",
    "    avg_result['sum_confusion_matrix'] = sum(folds_results['confusion_matrix'])\n",
    "    \n",
    "    return avg_result\n",
    "def independent_results(param_result):\n",
    "    indep_results = {'indep_acc':[], 'indep_auc':[], 'indep_aupr':[], 'indep_confusion_matrix':[],\n",
    "                     'indep_sn':[], 'indep_sp':[], 'indep_precision':[], 'indep_recall':[]}\n",
    "    for fold in param_result:\n",
    "        indep_results['indep_acc'].append(fold['avg_acc'])\n",
    "        indep_results['indep_auc'].append(fold['avg_auc'])\n",
    "        indep_results['indep_aupr'].append(fold['avg_aupr'])\n",
    "        indep_results['indep_sn'].append(fold['avg_sn'])\n",
    "        indep_results['indep_sp'].append(fold['avg_sp'])\n",
    "        indep_results['indep_precision'].append(fold['avg_precision'])\n",
    "        indep_results['indep_recall'].append(fold['avg_recall'])\n",
    "        indep_results['indep_confusion_matrix'].append(fold['sum_confusion_matrix'])\n",
    "    return indep_results\n",
    "def final_results (indep_results):\n",
    "    results = {'acc':[], 'auc':[], 'aupr':[], 'confusion_matrix':[],\n",
    "               'sn':[], 'sp':[], 'precision':[], 'recall':[]}\n",
    "    results['acc'] = sum(indep_results['indep_acc']) / len(indep_results['indep_acc'])\n",
    "    results['auc'] = sum(indep_results['indep_auc']) / len(indep_results['indep_auc'])\n",
    "    results['aupr'] = sum(indep_results['indep_aupr']) / len(indep_results['indep_aupr'])\n",
    "    results['sn'] = sum(indep_results['indep_sn']) / len(indep_results['indep_sn'])\n",
    "    results['sp'] = sum(indep_results['indep_sp']) / len(indep_results['indep_sp'])\n",
    "    results['precision'] = sum(indep_results['indep_precision']) / len(indep_results['indep_precision'])\n",
    "    results['recall'] = sum(indep_results['indep_recall']) / len(indep_results['indep_recall'])\n",
    "    results['confusion_matrix'] = sum(indep_results['indep_confusion_matrix'])\n",
    "    return results"
   ]
  },
  {
   "cell_type": "code",
   "execution_count": null,
   "metadata": {
    "collapsed": true
   },
   "outputs": [],
   "source": [
    "%cd "
   ]
  }
 ],
 "metadata": {
  "kernelspec": {
   "display_name": "Python 2",
   "language": "python",
   "name": "python2"
  },
  "language_info": {
   "codemirror_mode": {
    "name": "ipython",
    "version": 2
   },
   "file_extension": ".py",
   "mimetype": "text/x-python",
   "name": "python",
   "nbconvert_exporter": "python",
   "pygments_lexer": "ipython2",
   "version": "2.7.6"
  }
 },
 "nbformat": 4,
 "nbformat_minor": 0
}
