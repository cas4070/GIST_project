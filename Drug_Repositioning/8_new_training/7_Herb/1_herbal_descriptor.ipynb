{
 "cells": [
  {
   "cell_type": "code",
   "execution_count": 1,
   "metadata": {
    "collapsed": true
   },
   "outputs": [],
   "source": [
    "import numpy as np\n",
    "import os\n",
    "import pandas as pd\n",
    "from datetime import datetime\n",
    "from itertools import product\n",
    "import math"
   ]
  },
  {
   "cell_type": "code",
   "execution_count": 14,
   "metadata": {
    "collapsed": false
   },
   "outputs": [],
   "source": [
    "hcPhe = pd.read_table(\"/DAS_Storage1/aschoi/data/Drug_Repositioning/5_new_drug/new_predict/4_2_1_herbal_comp_gold_drug_se_sim_mat_predict.tsv\", index_col = 0)\n",
    "hcStr = pd.read_table(\"/DAS_Storage1/aschoi/data/Drug_Repositioning/5_new_drug/new_predict/4_2_2_herbal_comp_gold_drug_str_sim_mat_predict.tsv\", index_col = 0)\n",
    "hcTar = pd.read_table(\"/DAS_Storage1/aschoi/data/Drug_Repositioning/5_new_drug/new_predict/4_3_2_herbal_comp_gold_drug_tar_sim_mat_predict.tsv\", index_col = 0)\n",
    "hcGo = pd.read_table(\"/DAS_Storage1/aschoi/data/Drug_Repositioning/5_new_drug/new_predict/hc_gosemsim_resnik_BMA_seperated.txt\", index_col=0)\n",
    "diPhe = pd.read_table(\"/DAS_Storage1/aschoi/data/Drug_Repositioning/6_new_disease/new_predict/1_disease_disease_phe_sim_mat.tsv\", index_col=0)\n",
    "diGo = pd.read_table(\"/DAS_Storage1/aschoi/data/Drug_Repositioning/6_new_disease/new_predict/1_disease_disease_GoSim_mat(resnik,BMA).tsv\", index_col=0)\n",
    "diHpo = pd.read_table(\"/DAS_Storage1/aschoi/data/Drug_Repositioning/6_new_disease/new_predict/1_disease_disease_HPO_sim_mat(sqrt,BMA,PA).tsv\", index_col = 0)\n",
    "#diGe = pd.read_table(\"/DAS_Storage1/aschoi/data/Drug_Repositioning/6_new_disease/new_predict/1_disease_disease_ge_sim_mat.tsv\", index_col=0)"
   ]
  },
  {
   "cell_type": "code",
   "execution_count": 15,
   "metadata": {
    "collapsed": true
   },
   "outputs": [],
   "source": [
    "new_asso = pd.read_table(\"/DAS_Storage1/aschoi/data/Drug_Repositioning/7_new_association/new_predict/1_gold_learning_asso.tsv\")"
   ]
  },
  {
   "cell_type": "code",
   "execution_count": 16,
   "metadata": {
    "collapsed": false
   },
   "outputs": [
    {
     "name": "stdout",
     "output_type": "stream",
     "text": [
      "1330\n"
     ]
    }
   ],
   "source": [
    "pos = new_asso[new_asso.association == 1]\n",
    "print len(pos)"
   ]
  },
  {
   "cell_type": "code",
   "execution_count": 17,
   "metadata": {
    "collapsed": true
   },
   "outputs": [],
   "source": [
    "hc_id = hcTar.index.tolist()\n",
    "di_id = set(pos.disease_id.tolist())\n",
    "hc_asso = list(product(hc_id, di_id))"
   ]
  },
  {
   "cell_type": "code",
   "execution_count": 10,
   "metadata": {
    "collapsed": false
   },
   "outputs": [
    {
     "name": "stdout",
     "output_type": "stream",
     "text": [
      "66 233\n"
     ]
    }
   ],
   "source": [
    "print len(hc_id), len(di_id)"
   ]
  },
  {
   "cell_type": "code",
   "execution_count": 22,
   "metadata": {
    "collapsed": false
   },
   "outputs": [],
   "source": [
    "lPos = list()\n",
    "for index, row in pos.iterrows():\n",
    "    pDrug = row['drug_id']\n",
    "    pDisease = row['disease_id']\n",
    "    lPos.append((pDrug, pDisease))\n",
    "desc_pair = list(product(hc_asso, lPos))"
   ]
  },
  {
   "cell_type": "code",
   "execution_count": 23,
   "metadata": {
    "collapsed": false
   },
   "outputs": [
    {
     "name": "stdout",
     "output_type": "stream",
     "text": [
      "15378 1330 20452740\n"
     ]
    }
   ],
   "source": [
    "print len(hc_asso), len(lPos), len(desc_pair)"
   ]
  },
  {
   "cell_type": "code",
   "execution_count": 25,
   "metadata": {
    "collapsed": false
   },
   "outputs": [
    {
     "name": "stdout",
     "output_type": "stream",
     "text": [
      "\n"
     ]
    }
   ],
   "source": [
    "hcPhe = hcPhe.filter(items = hc_id, axis=0)\n",
    "hcStr = hcStr.filter(items=hc_id, axis=0)\n",
    "hcGo = hcGo.filter(items=hc_id, axis=0)"
   ]
  },
  {
   "cell_type": "code",
   "execution_count": 26,
   "metadata": {
    "collapsed": false
   },
   "outputs": [
    {
     "name": "stdout",
     "output_type": "stream",
     "text": [
      "66 66 66 66 233 233 233\n"
     ]
    }
   ],
   "source": [
    "print len(hcPhe), len(hcStr), len(hcStr), len(hcGo), len(diPhe), len(diGo), len(diHpo)"
   ]
  },
  {
   "cell_type": "code",
   "execution_count": 27,
   "metadata": {
    "collapsed": false
   },
   "outputs": [
    {
     "data": {
      "text/html": [
       "<div>\n",
       "<table border=\"1\" class=\"dataframe\">\n",
       "  <thead>\n",
       "    <tr style=\"text-align: right;\">\n",
       "      <th></th>\n",
       "      <th>DB00114</th>\n",
       "      <th>DB00126</th>\n",
       "      <th>DB00136</th>\n",
       "      <th>DB00153</th>\n",
       "      <th>DB00162</th>\n",
       "      <th>DB00165</th>\n",
       "      <th>DB00175</th>\n",
       "      <th>DB00176</th>\n",
       "      <th>DB00177</th>\n",
       "      <th>DB00178</th>\n",
       "      <th>...</th>\n",
       "      <th>DB01576</th>\n",
       "      <th>DB01577</th>\n",
       "      <th>DB01590</th>\n",
       "      <th>DB01623</th>\n",
       "      <th>DB02546</th>\n",
       "      <th>DB03904</th>\n",
       "      <th>DB04272</th>\n",
       "      <th>DB04844</th>\n",
       "      <th>DB04861</th>\n",
       "      <th>DB09026</th>\n",
       "    </tr>\n",
       "  </thead>\n",
       "  <tbody>\n",
       "    <tr>\n",
       "      <th>119</th>\n",
       "      <td>0.927332</td>\n",
       "      <td>0.988069</td>\n",
       "      <td>0.956616</td>\n",
       "      <td>0.979393</td>\n",
       "      <td>0.991323</td>\n",
       "      <td>0.756508</td>\n",
       "      <td>0.934924</td>\n",
       "      <td>0.892625</td>\n",
       "      <td>0.955531</td>\n",
       "      <td>0.920824</td>\n",
       "      <td>...</td>\n",
       "      <td>0.955531</td>\n",
       "      <td>0.985358</td>\n",
       "      <td>0.912148</td>\n",
       "      <td>0.966377</td>\n",
       "      <td>0.914317</td>\n",
       "      <td>0.932213</td>\n",
       "      <td>0.983731</td>\n",
       "      <td>0.930586</td>\n",
       "      <td>0.911605</td>\n",
       "      <td>0.936551</td>\n",
       "    </tr>\n",
       "  </tbody>\n",
       "</table>\n",
       "<p>1 rows × 434 columns</p>\n",
       "</div>"
      ],
      "text/plain": [
       "      DB00114   DB00126   DB00136   DB00153   DB00162   DB00165   DB00175  \\\n",
       "119  0.927332  0.988069  0.956616  0.979393  0.991323  0.756508  0.934924   \n",
       "\n",
       "      DB00176   DB00177   DB00178    ...      DB01576   DB01577   DB01590  \\\n",
       "119  0.892625  0.955531  0.920824    ...     0.955531  0.985358  0.912148   \n",
       "\n",
       "      DB01623   DB02546   DB03904   DB04272   DB04844   DB04861   DB09026  \n",
       "119  0.966377  0.914317  0.932213  0.983731  0.930586  0.911605  0.936551  \n",
       "\n",
       "[1 rows x 434 columns]"
      ]
     },
     "execution_count": 27,
     "metadata": {},
     "output_type": "execute_result"
    }
   ],
   "source": [
    "hcPhe.head(1)"
   ]
  },
  {
   "cell_type": "code",
   "execution_count": 28,
   "metadata": {
    "collapsed": false
   },
   "outputs": [
    {
     "data": {
      "text/html": [
       "<div>\n",
       "<table border=\"1\" class=\"dataframe\">\n",
       "  <thead>\n",
       "    <tr style=\"text-align: right;\">\n",
       "      <th></th>\n",
       "      <th>103780</th>\n",
       "      <th>608622</th>\n",
       "      <th>161900</th>\n",
       "      <th>145590</th>\n",
       "      <th>147530</th>\n",
       "      <th>157300</th>\n",
       "      <th>608088</th>\n",
       "      <th>140600</th>\n",
       "      <th>147480</th>\n",
       "      <th>600351</th>\n",
       "      <th>...</th>\n",
       "      <th>173200</th>\n",
       "      <th>115195</th>\n",
       "      <th>256700</th>\n",
       "      <th>601608</th>\n",
       "      <th>194070</th>\n",
       "      <th>115300</th>\n",
       "      <th>277350</th>\n",
       "      <th>240400</th>\n",
       "      <th>206200</th>\n",
       "      <th>250790</th>\n",
       "    </tr>\n",
       "  </thead>\n",
       "  <tbody>\n",
       "    <tr>\n",
       "      <th>103780</th>\n",
       "      <td>1.0</td>\n",
       "      <td>0.231225</td>\n",
       "      <td>0.112214</td>\n",
       "      <td>0.106257</td>\n",
       "      <td>0.078062</td>\n",
       "      <td>0.127741</td>\n",
       "      <td>0.108825</td>\n",
       "      <td>0.0</td>\n",
       "      <td>0.152292</td>\n",
       "      <td>0.057957</td>\n",
       "      <td>...</td>\n",
       "      <td>0.031407</td>\n",
       "      <td>0.150525</td>\n",
       "      <td>0.136234</td>\n",
       "      <td>0.16048</td>\n",
       "      <td>0.12331</td>\n",
       "      <td>0.178678</td>\n",
       "      <td>0.141056</td>\n",
       "      <td>0.200361</td>\n",
       "      <td>0.162371</td>\n",
       "      <td>0.187959</td>\n",
       "    </tr>\n",
       "  </tbody>\n",
       "</table>\n",
       "<p>1 rows × 233 columns</p>\n",
       "</div>"
      ],
      "text/plain": [
       "        103780    608622    161900    145590    147530    157300    608088  \\\n",
       "103780     1.0  0.231225  0.112214  0.106257  0.078062  0.127741  0.108825   \n",
       "\n",
       "        140600    147480    600351    ...       173200    115195    256700  \\\n",
       "103780     0.0  0.152292  0.057957    ...     0.031407  0.150525  0.136234   \n",
       "\n",
       "         601608   194070    115300    277350    240400    206200    250790  \n",
       "103780  0.16048  0.12331  0.178678  0.141056  0.200361  0.162371  0.187959  \n",
       "\n",
       "[1 rows x 233 columns]"
      ]
     },
     "execution_count": 28,
     "metadata": {},
     "output_type": "execute_result"
    }
   ],
   "source": [
    "diPhe.head(1)"
   ]
  },
  {
   "cell_type": "code",
   "execution_count": 31,
   "metadata": {
    "collapsed": false
   },
   "outputs": [
    {
     "name": "stdout",
     "output_type": "stream",
     "text": [
      "start : 2017-06-06 18:24:29\n",
      "20452740\n",
      "3098900 : 2017-06-06 18:31:43\n",
      "6197800 : 2017-06-06 18:38:56\n",
      "9296700 : 2017-06-06 18:46:07\n",
      "12395600 : 2017-06-06 18:53:17\n",
      "15494500 : 2017-06-06 19:00:19\n",
      "18593400 : 2017-06-06 19:07:13\n",
      "end : 2017-06-06 19:11:21\n",
      "20452740\n"
     ]
    }
   ],
   "source": [
    "# hcPhe\n",
    "cnt = 0\n",
    "print 'start : ' + datetime.now().strftime('%Y-%m-%d %H:%M:%S')\n",
    "val = list()\n",
    "print len(desc_pair)\n",
    "for pair in desc_pair:\n",
    "    \n",
    "        hc_pheSim = hcPhe.loc[pair[0][0],pair[1][0]]\n",
    "        val.append(hc_pheSim)\n",
    "        cnt = cnt +1\n",
    "        if cnt % 3098900 == 0:\n",
    "            print \"{} : \".format(cnt) + datetime.now().strftime('%Y-%m-%d %H:%M:%S')\n",
    "print 'end : ' + datetime.now().strftime('%Y-%m-%d %H:%M:%S')\n",
    "print cnt"
   ]
  },
  {
   "cell_type": "code",
   "execution_count": 32,
   "metadata": {
    "collapsed": true
   },
   "outputs": [],
   "source": [
    "hc = list()\n",
    "drug = list()\n",
    "for pair in desc_pair:\n",
    "    hc.append(pair[0][0])\n",
    "    drug.append(pair[1][0])\n",
    "pair_hc_PheSim = pd.DataFrame({'herbal_compounds':hc,'pos_drug':drug, 'hcPheSim':val})"
   ]
  },
  {
   "cell_type": "code",
   "execution_count": 35,
   "metadata": {
    "collapsed": false
   },
   "outputs": [],
   "source": [
    "pair_hc_PheSim.to_csv(\"/DAS_Storage1/aschoi/data/Drug_Repositioning/8_new_training/2_similarity_based-PREDICT/herbal_compounds/2_hcdr_PheSim.tsv\", sep='\\t', index=False)"
   ]
  },
  {
   "cell_type": "code",
   "execution_count": 36,
   "metadata": {
    "collapsed": false
   },
   "outputs": [
    {
     "name": "stdout",
     "output_type": "stream",
     "text": [
      "start : 2017-06-06 19:39:07\n",
      "20452740\n",
      "3098900 : 2017-06-06 19:46:01\n",
      "6197800 : 2017-06-06 19:52:39\n",
      "9296700 : 2017-06-06 19:59:27\n",
      "12395600 : 2017-06-06 20:06:18\n",
      "15494500 : 2017-06-06 20:13:10\n",
      "18593400 : 2017-06-06 20:20:03\n",
      "end : 2017-06-06 20:24:01\n",
      "20452740\n"
     ]
    }
   ],
   "source": [
    "# hcStr\n",
    "cnt = 0\n",
    "print 'start : ' + datetime.now().strftime('%Y-%m-%d %H:%M:%S')\n",
    "val2 = list()\n",
    "print len(desc_pair)\n",
    "for pair in desc_pair:\n",
    "        hc_strSim = hcStr.loc[pair[0][0],pair[1][0]]\n",
    "        val2.append(hc_strSim)\n",
    "        cnt = cnt +1\n",
    "        if cnt % 3098900 == 0:\n",
    "            print \"{} : \".format(cnt) + datetime.now().strftime('%Y-%m-%d %H:%M:%S')\n",
    "print 'end : ' + datetime.now().strftime('%Y-%m-%d %H:%M:%S')\n",
    "print cnt"
   ]
  },
  {
   "cell_type": "code",
   "execution_count": 37,
   "metadata": {
    "collapsed": true
   },
   "outputs": [],
   "source": [
    "pair_hc_StrSim = pd.DataFrame({'herbal_compounds':hc,'pos_drug':drug, 'hcStrSim':val2})"
   ]
  },
  {
   "cell_type": "code",
   "execution_count": 38,
   "metadata": {
    "collapsed": true
   },
   "outputs": [],
   "source": [
    "pair_hc_StrSim.to_csv(\"/DAS_Storage1/aschoi/data/Drug_Repositioning/8_new_training/2_similarity_based-PREDICT/herbal_compounds/2_hcdr_StrSim.tsv\", sep='\\t', index=False)"
   ]
  },
  {
   "cell_type": "code",
   "execution_count": 39,
   "metadata": {
    "collapsed": false
   },
   "outputs": [
    {
     "name": "stdout",
     "output_type": "stream",
     "text": [
      "start : 2017-06-06 20:26:53\n",
      "20452740\n",
      "3098900 : 2017-06-06 20:33:43\n",
      "6197800 : 2017-06-06 20:40:32\n",
      "9296700 : 2017-06-06 20:47:25\n",
      "12395600 : 2017-06-06 20:54:16\n",
      "15494500 : 2017-06-06 21:01:05\n",
      "18593400 : 2017-06-06 21:08:02\n",
      "end : 2017-06-06 21:12:12\n",
      "20452740\n"
     ]
    }
   ],
   "source": [
    "# hcGo\n",
    "cnt = 0\n",
    "print 'start : ' + datetime.now().strftime('%Y-%m-%d %H:%M:%S')\n",
    "val3 = list()\n",
    "print len(desc_pair)\n",
    "for pair in desc_pair:\n",
    "        hc_goSim = hcGo.loc[pair[0][0],pair[1][0]]\n",
    "        val3.append(hc_goSim)\n",
    "        cnt = cnt +1\n",
    "        if cnt % 3098900 == 0:\n",
    "            print \"{} : \".format(cnt) + datetime.now().strftime('%Y-%m-%d %H:%M:%S')\n",
    "print 'end : ' + datetime.now().strftime('%Y-%m-%d %H:%M:%S')\n",
    "print cnt\n",
    "pair_hc_GoSim = pd.DataFrame({'herbal_compounds':hc,'pos_drug':drug, 'hcStrSim':val3})"
   ]
  },
  {
   "cell_type": "code",
   "execution_count": 78,
   "metadata": {
    "collapsed": true
   },
   "outputs": [],
   "source": [
    "pair_hc_GoSim.to_csv(\"/DAS_Storage1/aschoi/data/Drug_Repositioning/8_new_training/2_similarity_based-PREDICT/herbal_compounds/3_hcdr_GoSim.tsv\", sep='\\t', index=False)"
   ]
  },
  {
   "cell_type": "code",
   "execution_count": 42,
   "metadata": {
    "collapsed": false
   },
   "outputs": [
    {
     "name": "stdout",
     "output_type": "stream",
     "text": [
      "start : 2017-06-06 21:55:56\n",
      "20452740\n",
      "3098900 : 2017-06-06 22:02:34\n",
      "6197800 : 2017-06-06 22:09:23\n",
      "9296700 : 2017-06-06 22:16:15\n",
      "12395600 : 2017-06-06 22:23:08\n",
      "15494500 : 2017-06-06 22:30:00\n",
      "18593400 : 2017-06-06 22:36:52\n",
      "end : 2017-06-06 22:41:01\n",
      "20452740\n"
     ]
    }
   ],
   "source": [
    "# hcTar\n",
    "cnt = 0\n",
    "print 'start : ' + datetime.now().strftime('%Y-%m-%d %H:%M:%S')\n",
    "val4 = list()\n",
    "print len(desc_pair)\n",
    "for pair in desc_pair:\n",
    "        hc_tarSim = hcTar.loc[pair[0][0],pair[1][0]]\n",
    "        val4.append(hc_tarSim)\n",
    "        cnt = cnt +1\n",
    "        if cnt % 3098900 == 0:\n",
    "            print \"{} : \".format(cnt) + datetime.now().strftime('%Y-%m-%d %H:%M:%S')\n",
    "print 'end : ' + datetime.now().strftime('%Y-%m-%d %H:%M:%S')\n",
    "print cnt\n",
    "pair_hc_TarSim = pd.DataFrame({'herbal_compounds':hc,'pos_drug':drug, 'hcStrSim':val4})"
   ]
  },
  {
   "cell_type": "code",
   "execution_count": 82,
   "metadata": {
    "collapsed": true
   },
   "outputs": [],
   "source": [
    "pair_hc_TarSim.to_csv(\"/DAS_Storage1/aschoi/data/Drug_Repositioning/8_new_training/2_similarity_based-PREDICT/herbal_compounds/3_hcdr_TarSim.tsv\", sep='\\t', index=False)"
   ]
  },
  {
   "cell_type": "code",
   "execution_count": 46,
   "metadata": {
    "collapsed": false
   },
   "outputs": [
    {
     "name": "stdout",
     "output_type": "stream",
     "text": [
      "start : 2017-06-06 22:44:08\n",
      "20452740\n",
      "3098900 : 2017-06-06 22:45:24\n",
      "6197800 : 2017-06-06 22:46:38\n",
      "9296700 : 2017-06-06 22:47:52\n",
      "12395600 : 2017-06-06 22:49:06\n",
      "15494500 : 2017-06-06 22:50:20\n",
      "18593400 : 2017-06-06 22:51:34\n",
      "end : 2017-06-06 22:52:19\n",
      "20452740\n"
     ]
    }
   ],
   "source": [
    "# diPhe\n",
    "cnt = 0\n",
    "print 'start : ' + datetime.now().strftime('%Y-%m-%d %H:%M:%S')\n",
    "val = list()\n",
    "print len(desc_pair)\n",
    "for pair in desc_pair:\n",
    "        disease_pheSim = diPhe[str(pair[0][1])][pair[1][1]]\n",
    "        val.append(disease_pheSim)\n",
    "        cnt = cnt +1\n",
    "        if cnt % 3098900 == 0:\n",
    "            print \"{} : \".format(cnt) + datetime.now().strftime('%Y-%m-%d %H:%M:%S')\n",
    "print 'end : ' + datetime.now().strftime('%Y-%m-%d %H:%M:%S')\n",
    "print cnt"
   ]
  },
  {
   "cell_type": "code",
   "execution_count": 47,
   "metadata": {
    "collapsed": true
   },
   "outputs": [],
   "source": [
    "query_disease = list()\n",
    "pos_disease = list()\n",
    "for pair in desc_pair:\n",
    "    query_disease.append(pair[0][1])\n",
    "    pos_disease.append(pair[1][1])\n",
    "pair_di_PheSim = pd.DataFrame({'query_disease':query_disease,'pos_disease':pos_disease, 'diPheSim':val})\n",
    "pair_di_PheSim.to_csv(\"/DAS_Storage1/aschoi/data/Drug_Repositioning/8_new_training/2_similarity_based-PREDICT/herbal_compounds/3_hcdidi_PheSim.tsv\", sep='\\t', index=False)"
   ]
  },
  {
   "cell_type": "code",
   "execution_count": 48,
   "metadata": {
    "collapsed": false
   },
   "outputs": [
    {
     "name": "stdout",
     "output_type": "stream",
     "text": [
      "start : 2017-06-06 22:52:52\n",
      "20452740\n",
      "3098900 : 2017-06-06 22:54:07\n",
      "6197800 : 2017-06-06 22:55:21\n",
      "9296700 : 2017-06-06 22:56:36\n",
      "12395600 : 2017-06-06 22:57:49\n",
      "15494500 : 2017-06-06 22:59:03\n",
      "18593400 : 2017-06-06 23:00:17\n",
      "end : 2017-06-06 23:01:00\n",
      "20452740\n"
     ]
    }
   ],
   "source": [
    "# diGo\n",
    "cnt = 0\n",
    "print 'start : ' + datetime.now().strftime('%Y-%m-%d %H:%M:%S')\n",
    "val2 = list()\n",
    "print len(desc_pair)\n",
    "for pair in desc_pair:\n",
    "        disease_goSim = diGo[str(pair[0][1])][pair[1][1]]\n",
    "        val2.append(disease_goSim)\n",
    "        cnt = cnt +1\n",
    "        if cnt % 3098900 == 0:\n",
    "            print \"{} : \".format(cnt) + datetime.now().strftime('%Y-%m-%d %H:%M:%S')\n",
    "print 'end : ' + datetime.now().strftime('%Y-%m-%d %H:%M:%S')\n",
    "print cnt\n",
    "pair_di_GoSim = pd.DataFrame({'query_disease':query_disease,'pos_disease':pos_disease, 'diGoSim':val2})\n",
    "pair_di_GoSim.to_csv(\"/DAS_Storage1/aschoi/data/Drug_Repositioning/8_new_training/2_similarity_based-PREDICT/herbal_compounds/3_hcdidi_GoSim.tsv\", sep='\\t', index=False)"
   ]
  },
  {
   "cell_type": "code",
   "execution_count": 50,
   "metadata": {
    "collapsed": false
   },
   "outputs": [],
   "source": [
    "# diHpo\n",
    "cnt = 0\n",
    "print 'start : ' + datetime.now().strftime('%Y-%m-%d %H:%M:%S')\n",
    "val3 = list()\n",
    "print len(desc_pair)\n",
    "for pair in desc_pair:\n",
    "        disease_hpoSim = diHpo[str(pair[0][1])][pair[1][1]]\n",
    "        val3.append(disease_hpoSim)\n",
    "        cnt = cnt +1\n",
    "        if cnt % 3098900 == 0:\n",
    "            print \"{} : \".format(cnt) + datetime.now().strftime('%Y-%m-%d %H:%M:%S')\n",
    "print 'end : ' + datetime.now().strftime('%Y-%m-%d %H:%M:%S')\n",
    "print cnt\n",
    "pair_di_HpoSim = pd.DataFrame({'query_disease':query_disease,'pos_disease':pos_disease, 'diHpoSim':val3})\n",
    "pair_di_HpoSim.to_csv(\"/DAS_Storage1/aschoi/data/Drug_Repositioning/8_new_training/2_similarity_based-PREDICT/herbal_compounds/3_hcdidi_HpoSim.tsv\", sep='\\t', index=False)"
   ]
  },
  {
   "cell_type": "code",
   "execution_count": null,
   "metadata": {
    "collapsed": true
   },
   "outputs": [],
   "source": [
    "# descriptor 만들기"
   ]
  },
  {
   "cell_type": "code",
   "execution_count": 51,
   "metadata": {
    "collapsed": true
   },
   "outputs": [],
   "source": [
    "# hcStr + diGo\n",
    "temp = pd.concat([pair_hc_StrSim, pair_di_GoSim], axis = 1)\n",
    "hcStr_diGo = temp[['herbal_compounds', 'query_disease', 'pos_drug', 'pos_disease', 'hcStrSim', 'diGoSim']]\n",
    "del temp"
   ]
  },
  {
   "cell_type": "code",
   "execution_count": 52,
   "metadata": {
    "collapsed": false
   },
   "outputs": [],
   "source": [
    "hcStr_diGo['hcStr_diGo'] = np.sqrt(hcStr_diGo['hcStrSim'] * hcStr_diGo['diGoSim'])"
   ]
  },
  {
   "cell_type": "code",
   "execution_count": 53,
   "metadata": {
    "collapsed": false
   },
   "outputs": [
    {
     "data": {
      "text/html": [
       "<div>\n",
       "<table border=\"1\" class=\"dataframe\">\n",
       "  <thead>\n",
       "    <tr style=\"text-align: right;\">\n",
       "      <th></th>\n",
       "      <th>herbal_compounds</th>\n",
       "      <th>query_disease</th>\n",
       "      <th>pos_drug</th>\n",
       "      <th>pos_disease</th>\n",
       "      <th>hcStrSim</th>\n",
       "      <th>diGoSim</th>\n",
       "      <th>hcStr_diGo</th>\n",
       "    </tr>\n",
       "  </thead>\n",
       "  <tbody>\n",
       "    <tr>\n",
       "      <th>0</th>\n",
       "      <td>119</td>\n",
       "      <td>102400</td>\n",
       "      <td>DB00659</td>\n",
       "      <td>103780</td>\n",
       "      <td>0.142857</td>\n",
       "      <td>0.522</td>\n",
       "      <td>0.273078</td>\n",
       "    </tr>\n",
       "    <tr>\n",
       "      <th>1</th>\n",
       "      <td>119</td>\n",
       "      <td>102400</td>\n",
       "      <td>DB01193</td>\n",
       "      <td>608622</td>\n",
       "      <td>0.157480</td>\n",
       "      <td>0.606</td>\n",
       "      <td>0.308922</td>\n",
       "    </tr>\n",
       "  </tbody>\n",
       "</table>\n",
       "</div>"
      ],
      "text/plain": [
       "   herbal_compounds  query_disease pos_drug  pos_disease  hcStrSim  diGoSim  \\\n",
       "0               119         102400  DB00659       103780  0.142857    0.522   \n",
       "1               119         102400  DB01193       608622  0.157480    0.606   \n",
       "\n",
       "   hcStr_diGo  \n",
       "0    0.273078  \n",
       "1    0.308922  "
      ]
     },
     "execution_count": 53,
     "metadata": {},
     "output_type": "execute_result"
    }
   ],
   "source": [
    "hcStr_diGo.head(2)"
   ]
  },
  {
   "cell_type": "code",
   "execution_count": 54,
   "metadata": {
    "collapsed": true
   },
   "outputs": [],
   "source": [
    "sub_hcStr_diGo = hcStr_diGo[['herbal_compounds', 'query_disease', 'pos_drug', 'pos_disease', 'hcStr_diGo']]"
   ]
  },
  {
   "cell_type": "code",
   "execution_count": 55,
   "metadata": {
    "collapsed": true
   },
   "outputs": [],
   "source": [
    "desc = sub_hcStr_diGo.groupby(['herbal_compounds', 'query_disease'])[['hcStr_diGo']].max()"
   ]
  },
  {
   "cell_type": "code",
   "execution_count": 97,
   "metadata": {
    "collapsed": false
   },
   "outputs": [
    {
     "name": "stdout",
     "output_type": "stream",
     "text": [
      "20452740\n"
     ]
    }
   ],
   "source": [
    "# hcStr + diHpo\n",
    "temp = pd.concat([pair_hc_StrSim, pair_di_HpoSim], axis=1)\n",
    "hcStr_diHpo = temp[['herbal_compounds', 'query_disease', 'pos_drug', 'pos_disease', 'hcStrSim', 'diHpoSim']]\n",
    "del temp\n",
    "hcStr_diHpo['hcStr_diHpo'] = np.sqrt(hcStr_diHpo['hcStrSim'] * hcStr_diHpo['diHpoSim'])\n",
    "print len(hcStr_diHpo)\n",
    "sub_hcStr_diHpo = hcStr_diHpo[['herbal_compounds', 'query_disease', 'pos_drug','pos_disease', 'hcStr_diHpo']]\n",
    "desc2 = sub_hcStr_diHpo.groupby(['herbal_compounds', 'query_disease'])[['hcStr_diHpo']].max()"
   ]
  },
  {
   "cell_type": "code",
   "execution_count": 98,
   "metadata": {
    "collapsed": false
   },
   "outputs": [
    {
     "name": "stdout",
     "output_type": "stream",
     "text": [
      "20452740\n"
     ]
    }
   ],
   "source": [
    "# hcStr + diPhe\n",
    "temp = pd.concat([pair_hc_StrSim, pair_di_PheSim], axis=1)\n",
    "hcStr_diPhe = temp[['herbal_compounds', 'query_disease', 'pos_drug', 'pos_disease', 'hcStrSim', 'diPheSim']]\n",
    "del temp\n",
    "hcStr_diPhe['hcStr_diPhe'] = np.sqrt(hcStr_diPhe['hcStrSim'] * hcStr_diPhe['diPheSim'])\n",
    "print len(hcStr_diPhe)\n",
    "sub_hcStr_diPhe = hcStr_diPhe[['herbal_compounds', 'query_disease', 'pos_drug','pos_disease', 'hcStr_diPhe']]\n",
    "desc3 = sub_hcStr_diPhe.groupby(['herbal_compounds', 'query_disease'])[['hcStr_diPhe']].max()"
   ]
  },
  {
   "cell_type": "code",
   "execution_count": 99,
   "metadata": {
    "collapsed": false
   },
   "outputs": [
    {
     "name": "stdout",
     "output_type": "stream",
     "text": [
      "20452740\n"
     ]
    }
   ],
   "source": [
    "# hcPhe + diGo\n",
    "temp = pd.concat([pair_hc_PheSim, pair_di_GoSim], axis=1)\n",
    "hcPhe_diGo = temp[['herbal_compounds', 'query_disease', 'pos_drug', 'pos_disease', 'hcPheSim', 'diGoSim']]\n",
    "del temp\n",
    "hcPhe_diGo['hcPhe_diGo'] = np.sqrt(hcPhe_diGo['hcPheSim'] * hcPhe_diGo['diGoSim'])\n",
    "print len(hcPhe_diGo)\n",
    "sub_hcPhe_diGo = hcPhe_diGo[['herbal_compounds', 'query_disease', 'pos_drug','pos_disease', 'hcPhe_diGo']]\n",
    "desc4 = sub_hcPhe_diGo.groupby(['herbal_compounds', 'query_disease'])[['hcPhe_diGo']].max()"
   ]
  },
  {
   "cell_type": "code",
   "execution_count": 100,
   "metadata": {
    "collapsed": false
   },
   "outputs": [
    {
     "name": "stdout",
     "output_type": "stream",
     "text": [
      "20452740\n"
     ]
    }
   ],
   "source": [
    "# hcPhe + diHpo\n",
    "temp = pd.concat([pair_hc_PheSim, pair_di_HpoSim], axis=1)\n",
    "hcPhe_diHpo = temp[['herbal_compounds', 'query_disease', 'pos_drug', 'pos_disease', 'hcPheSim', 'diHpoSim']]\n",
    "del temp\n",
    "hcPhe_diHpo['hcPhe_diHpo'] = np.sqrt(hcPhe_diHpo['hcPheSim'] * hcPhe_diHpo['diHpoSim'])\n",
    "print len(hcPhe_diHpo)\n",
    "sub_hcPhe_diHpo = hcPhe_diHpo[['herbal_compounds', 'query_disease', 'pos_drug','pos_disease', 'hcPhe_diHpo']]\n",
    "desc5 = sub_hcPhe_diHpo.groupby(['herbal_compounds', 'query_disease'])[['hcPhe_diHpo']].max()"
   ]
  },
  {
   "cell_type": "code",
   "execution_count": 90,
   "metadata": {
    "collapsed": false
   },
   "outputs": [
    {
     "name": "stdout",
     "output_type": "stream",
     "text": [
      "20452740\n"
     ]
    }
   ],
   "source": [
    "# hcPhe + diPhe\n",
    "temp = pd.concat([pair_hc_PheSim, pair_di_PheSim], axis=1)\n",
    "hcPhe_diPhe = temp[['herbal_compounds', 'query_disease', 'pos_drug', 'pos_disease', 'hcPheSim', 'diPheSim']]\n",
    "del temp\n",
    "hcPhe_diPhe['hcPhe_diPhe'] = np.sqrt(hcPhe_diPhe['hcPheSim'] * hcPhe_diPhe['diPheSim'])\n",
    "print len(hcPhe_diPhe)\n",
    "sub_hcPhe_diPhe = hcPhe_diPhe[['herbal_compounds', 'query_disease', 'pos_drug','pos_disease', 'hcPhe_diPhe']]\n",
    "desc6 = sub_hcPhe_diPhe.groupby(['herbal_compounds', 'query_disease'])[['hcPhe_diPhe']].max()"
   ]
  },
  {
   "cell_type": "code",
   "execution_count": 91,
   "metadata": {
    "collapsed": false
   },
   "outputs": [
    {
     "name": "stdout",
     "output_type": "stream",
     "text": [
      "20452740\n"
     ]
    }
   ],
   "source": [
    "# hcGo + diGo\n",
    "temp = pd.concat([pair_hc_GoSim, pair_di_GoSim], axis=1)\n",
    "hcGo_diGo = temp[['herbal_compounds', 'query_disease', 'pos_drug', 'pos_disease', 'hcGoSim', 'diGoSim']]\n",
    "del temp\n",
    "hcGo_diGo['hcGo_diGo'] = np.sqrt(hcGo_diGo['hcGoSim'] * hcGo_diGo['diGoSim'])\n",
    "print len(hcGo_diGo)\n",
    "sub_hcGo_diGo = hcGo_diGo[['herbal_compounds', 'query_disease', 'pos_drug','pos_disease', 'hcGo_diGo']]\n",
    "desc7 = sub_hcGo_diGo.groupby(['herbal_compounds', 'query_disease'])[['hcGo_diGo']].max()"
   ]
  },
  {
   "cell_type": "code",
   "execution_count": 92,
   "metadata": {
    "collapsed": false
   },
   "outputs": [
    {
     "name": "stdout",
     "output_type": "stream",
     "text": [
      "20452740\n"
     ]
    }
   ],
   "source": [
    "# hcGo + diHpo\n",
    "temp = pd.concat([pair_hc_GoSim, pair_di_HpoSim], axis=1)\n",
    "hcGo_diHpo = temp[['herbal_compounds', 'query_disease', 'pos_drug', 'pos_disease', 'hcGoSim', 'diHpoSim']]\n",
    "del temp\n",
    "hcGo_diHpo['hcGo_diHpo'] = np.sqrt(hcGo_diHpo['hcGoSim'] * hcGo_diHpo['diHpoSim'])\n",
    "print len(hcGo_diHpo)\n",
    "sub_hcGo_diHpo = hcGo_diHpo[['herbal_compounds', 'query_disease', 'pos_drug','pos_disease', 'hcGo_diHpo']]\n",
    "desc8 = sub_hcGo_diHpo.groupby(['herbal_compounds', 'query_disease'])[['hcGo_diHpo']].max()"
   ]
  },
  {
   "cell_type": "code",
   "execution_count": 93,
   "metadata": {
    "collapsed": false
   },
   "outputs": [
    {
     "name": "stdout",
     "output_type": "stream",
     "text": [
      "20452740\n"
     ]
    }
   ],
   "source": [
    "# hcGo + diPhe\n",
    "temp = pd.concat([pair_hc_GoSim, pair_di_PheSim], axis=1)\n",
    "hcGo_diPhe = temp[['herbal_compounds', 'query_disease', 'pos_drug', 'pos_disease', 'hcGoSim', 'diPheSim']]\n",
    "del temp\n",
    "hcGo_diPhe['hcGo_diPhe'] = np.sqrt(hcGo_diPhe['hcGoSim'] * hcGo_diPhe['diPheSim'])\n",
    "print len(hcGo_diPhe)\n",
    "sub_hcGo_diPhe = hcGo_diPhe[['herbal_compounds', 'query_disease', 'pos_drug','pos_disease', 'hcGo_diPhe']]\n",
    "desc9 = sub_hcGo_diPhe.groupby(['herbal_compounds', 'query_disease'])[['hcGo_diPhe']].max()"
   ]
  },
  {
   "cell_type": "code",
   "execution_count": 94,
   "metadata": {
    "collapsed": false
   },
   "outputs": [
    {
     "name": "stdout",
     "output_type": "stream",
     "text": [
      "20452740\n"
     ]
    }
   ],
   "source": [
    "# hcTar + diGo\n",
    "temp = pd.concat([pair_hc_TarSim, pair_di_GoSim], axis=1)\n",
    "hcTar_diGo = temp[['herbal_compounds', 'query_disease', 'pos_drug', 'pos_disease', 'hcTarSim', 'diGoSim']]\n",
    "del temp\n",
    "hcTar_diGo['hcTar_diGo'] = np.sqrt(hcTar_diGo['hcTarSim'] * hcTar_diGo['diGoSim'])\n",
    "print len(hcTar_diGo)\n",
    "sub_hcTar_diGo = hcTar_diGo[['herbal_compounds', 'query_disease', 'pos_drug','pos_disease', 'hcTar_diGo']]\n",
    "desc10 = sub_hcTar_diGo.groupby(['herbal_compounds', 'query_disease'])[['hcTar_diGo']].max()"
   ]
  },
  {
   "cell_type": "code",
   "execution_count": 95,
   "metadata": {
    "collapsed": false
   },
   "outputs": [
    {
     "name": "stdout",
     "output_type": "stream",
     "text": [
      "20452740\n"
     ]
    }
   ],
   "source": [
    "# hcTar + diHpo\n",
    "temp = pd.concat([pair_hc_TarSim, pair_di_HpoSim], axis=1)\n",
    "hcTar_diHpo = temp[['herbal_compounds', 'query_disease', 'pos_drug', 'pos_disease', 'hcTarSim', 'diHpoSim']]\n",
    "del temp\n",
    "hcTar_diHpo['hcTar_diHpo'] = np.sqrt(hcTar_diHpo['hcTarSim'] * hcTar_diHpo['diHpoSim'])\n",
    "print len(hcTar_diHpo)\n",
    "sub_hcTar_diHpo = hcTar_diHpo[['herbal_compounds', 'query_disease', 'pos_drug','pos_disease', 'hcTar_diHpo']]\n",
    "desc11 = sub_hcTar_diHpo.groupby(['herbal_compounds', 'query_disease'])[['hcTar_diHpo']].max()"
   ]
  },
  {
   "cell_type": "code",
   "execution_count": 96,
   "metadata": {
    "collapsed": false
   },
   "outputs": [
    {
     "name": "stdout",
     "output_type": "stream",
     "text": [
      "20452740\n"
     ]
    }
   ],
   "source": [
    "# hcTar + diPhe\n",
    "temp = pd.concat([pair_hc_TarSim, pair_di_PheSim], axis=1)\n",
    "hcTar_diPhe = temp[['herbal_compounds', 'query_disease', 'pos_drug', 'pos_disease', 'hcTarSim', 'diPheSim']]\n",
    "del temp\n",
    "hcTar_diPhe['hcTar_diPhe'] = np.sqrt(hcTar_diPhe['hcTarSim'] * hcTar_diPhe['diPheSim'])\n",
    "print len(hcTar_diPhe)\n",
    "sub_hcTar_diPhe = hcTar_diPhe[['herbal_compounds', 'query_disease', 'pos_drug','pos_disease', 'hcTar_diPhe']]\n",
    "desc12 = sub_hcTar_diPhe.groupby(['herbal_compounds', 'query_disease'])[['hcTar_diPhe']].max()"
   ]
  },
  {
   "cell_type": "code",
   "execution_count": 101,
   "metadata": {
    "collapsed": false
   },
   "outputs": [],
   "source": [
    "result = desc.join(desc2).join(desc3).join(desc4).join(desc5).join(desc6).join(desc7).join(desc8).join(desc9).join(desc10).join(desc11).join(desc12)"
   ]
  },
  {
   "cell_type": "code",
   "execution_count": 144,
   "metadata": {
    "collapsed": false
   },
   "outputs": [],
   "source": [
    "result['association'] = 0"
   ]
  },
  {
   "cell_type": "code",
   "execution_count": 149,
   "metadata": {
    "collapsed": false
   },
   "outputs": [
    {
     "data": {
      "text/plain": [
       "['herbal_compounds',\n",
       " 'query_disease',\n",
       " 'hcStr_diGo',\n",
       " 'hcStr_diHpo',\n",
       " 'hcStr_diPhe',\n",
       " 'hcPhe_diGo',\n",
       " 'hcPhe_diHpo',\n",
       " 'hcPhe_diPhe',\n",
       " 'hcGo_diGo',\n",
       " 'hcGo_diHpo',\n",
       " 'hcGo_diPhe',\n",
       " 'hcTar_diGo',\n",
       " 'hcTar_diHpo',\n",
       " 'hcTar_diPhe',\n",
       " 'association']"
      ]
     },
     "execution_count": 149,
     "metadata": {},
     "output_type": "execute_result"
    }
   ],
   "source": [
    "result.columns.tolist()"
   ]
  },
  {
   "cell_type": "code",
   "execution_count": 148,
   "metadata": {
    "collapsed": false
   },
   "outputs": [],
   "source": [
    "result.reset_index(['herbal_compounds', 'query_disease'], inplace=True)"
   ]
  },
  {
   "cell_type": "code",
   "execution_count": 151,
   "metadata": {
    "collapsed": false
   },
   "outputs": [
    {
     "data": {
      "text/plain": [
       "\"combined[['herbal_compounds', 'query_disease', 'association', \\n          'hcStr_diGo', 'hcStr_diHpo', 'hcStr_diPhe', \\n          'hcPhe_diGo', 'hcPhe_diHpo', 'hcPhe_diPhe', \\n          'hcGo_diGo', 'hcGo_diHpo', 'hcGo_diPhe', \\n          'hcTar_diGo', 'hcTar_diHpo', 'hcTar_diPhe']]\""
      ]
     },
     "execution_count": 151,
     "metadata": {},
     "output_type": "execute_result"
    }
   ],
   "source": [
    "'''combined[['herbal_compounds', 'query_disease', 'association', \n",
    "          'hcStr_diGo', 'hcStr_diHpo', 'hcStr_diPhe', \n",
    "          'hcPhe_diGo', 'hcPhe_diHpo', 'hcPhe_diPhe', \n",
    "          'hcGo_diGo', 'hcGo_diHpo', 'hcGo_diPhe', \n",
    "          'hcTar_diGo', 'hcTar_diHpo', 'hcTar_diPhe']]'''"
   ]
  },
  {
   "cell_type": "code",
   "execution_count": 152,
   "metadata": {
    "collapsed": false
   },
   "outputs": [],
   "source": [
    "result = result[['herbal_compounds', 'query_disease', 'association', \n",
    "          'hcStr_diGo', 'hcStr_diHpo', 'hcStr_diPhe', \n",
    "          'hcPhe_diGo', 'hcPhe_diHpo', 'hcPhe_diPhe', \n",
    "          'hcGo_diGo', 'hcGo_diHpo', 'hcGo_diPhe', \n",
    "          'hcTar_diGo', 'hcTar_diHpo', 'hcTar_diPhe']]"
   ]
  },
  {
   "cell_type": "code",
   "execution_count": 155,
   "metadata": {
    "collapsed": true
   },
   "outputs": [],
   "source": [
    "result.to_csv(\"/DAS_Storage1/aschoi/data/Drug_Repositioning/8_new_training/2_similarity_based-PREDICT/herbal_compounds/4_herbal_descriptor.tsv\", sep='\\t', index=False)"
   ]
  },
  {
   "cell_type": "code",
   "execution_count": null,
   "metadata": {
    "collapsed": true
   },
   "outputs": [],
   "source": []
  }
 ],
 "metadata": {
  "kernelspec": {
   "display_name": "Python 2",
   "language": "python",
   "name": "python2"
  },
  "language_info": {
   "codemirror_mode": {
    "name": "ipython",
    "version": 2
   },
   "file_extension": ".py",
   "mimetype": "text/x-python",
   "name": "python",
   "nbconvert_exporter": "python",
   "pygments_lexer": "ipython2",
   "version": "2.7.6"
  }
 },
 "nbformat": 4,
 "nbformat_minor": 0
}
