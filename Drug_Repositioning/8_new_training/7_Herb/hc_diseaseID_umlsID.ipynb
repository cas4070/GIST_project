{
 "cells": [
  {
   "cell_type": "code",
   "execution_count": 63,
   "metadata": {
    "collapsed": true
   },
   "outputs": [],
   "source": [
    "import pandas as pd\n",
    "import numpy as np"
   ]
  },
  {
   "cell_type": "code",
   "execution_count": 64,
   "metadata": {
    "collapsed": true
   },
   "outputs": [],
   "source": [
    "hc = pd.read_table(\"/home/share/aschoi/nas/users/asolchoi/data/Drug_Repositioning/8_new_training/7_non/herb/1_herbal_compound_positive_name.tsv\")"
   ]
  },
  {
   "cell_type": "code",
   "execution_count": 65,
   "metadata": {
    "collapsed": false
   },
   "outputs": [],
   "source": [
    "mim_umls = pd.read_table(\"/DAS_Storage1/aschoi/data/Drug_Repositioning/6_new_disease/1_omim_umls_mapping_association.tsv\", sep='\\t')"
   ]
  },
  {
   "cell_type": "code",
   "execution_count": 69,
   "metadata": {
    "collapsed": false
   },
   "outputs": [
    {
     "data": {
      "text/html": [
       "<div>\n",
       "<table border=\"1\" class=\"dataframe\">\n",
       "  <thead>\n",
       "    <tr style=\"text-align: right;\">\n",
       "      <th></th>\n",
       "      <th>Herbal_compID</th>\n",
       "      <th>compName</th>\n",
       "      <th>synonym</th>\n",
       "      <th>Disease_id</th>\n",
       "      <th>OMIM_disease_name</th>\n",
       "      <th>avg</th>\n",
       "    </tr>\n",
       "  </thead>\n",
       "  <tbody>\n",
       "    <tr>\n",
       "      <th>0</th>\n",
       "      <td>141</td>\n",
       "      <td>Pyridoxal</td>\n",
       "      <td>3-HYDROXY-5-(hydroxymethyl)-2-methylisonicotin...</td>\n",
       "      <td>239350</td>\n",
       "      <td>Hyperphosphatemia, Polyuria, And Seizures</td>\n",
       "      <td>0.952639</td>\n",
       "    </tr>\n",
       "    <tr>\n",
       "      <th>1</th>\n",
       "      <td>153</td>\n",
       "      <td>Eicosapentanoic acid</td>\n",
       "      <td>(5Z,8Z,11Z,14Z,17Z)-5,8,11,14,17-Eicosapentaen...</td>\n",
       "      <td>140600</td>\n",
       "      <td>Osteoarthritis Susceptibility 2; Os2</td>\n",
       "      <td>0.808611</td>\n",
       "    </tr>\n",
       "    <tr>\n",
       "      <th>2</th>\n",
       "      <td>153</td>\n",
       "      <td>Eicosapentanoic acid</td>\n",
       "      <td>(5Z,8Z,11Z,14Z,17Z)-5,8,11,14,17-Eicosapentaen...</td>\n",
       "      <td>161900</td>\n",
       "      <td>Renal Failure, Progressive, With Hypertension</td>\n",
       "      <td>0.778500</td>\n",
       "    </tr>\n",
       "    <tr>\n",
       "      <th>3</th>\n",
       "      <td>416</td>\n",
       "      <td>(S)-(-)-atropine</td>\n",
       "      <td>(-)-Atropine/(-)-Hyoscyamine/(?)-atropine/(?)-...</td>\n",
       "      <td>143465</td>\n",
       "      <td>Attention Deficit-Hyperactivity Disorder; Adhd</td>\n",
       "      <td>0.822583</td>\n",
       "    </tr>\n",
       "    <tr>\n",
       "      <th>4</th>\n",
       "      <td>416</td>\n",
       "      <td>(S)-(-)-atropine</td>\n",
       "      <td>(-)-Atropine/(-)-Hyoscyamine/(?)-atropine/(?)-...</td>\n",
       "      <td>147530</td>\n",
       "      <td>Insensitivity To Pain With Hyperplastic Myelin...</td>\n",
       "      <td>0.784667</td>\n",
       "    </tr>\n",
       "  </tbody>\n",
       "</table>\n",
       "</div>"
      ],
      "text/plain": [
       "   Herbal_compID              compName  \\\n",
       "0            141             Pyridoxal   \n",
       "1            153  Eicosapentanoic acid   \n",
       "2            153  Eicosapentanoic acid   \n",
       "3            416      (S)-(-)-atropine   \n",
       "4            416      (S)-(-)-atropine   \n",
       "\n",
       "                                             synonym  Disease_id  \\\n",
       "0  3-HYDROXY-5-(hydroxymethyl)-2-methylisonicotin...      239350   \n",
       "1  (5Z,8Z,11Z,14Z,17Z)-5,8,11,14,17-Eicosapentaen...      140600   \n",
       "2  (5Z,8Z,11Z,14Z,17Z)-5,8,11,14,17-Eicosapentaen...      161900   \n",
       "3  (-)-Atropine/(-)-Hyoscyamine/(?)-atropine/(?)-...      143465   \n",
       "4  (-)-Atropine/(-)-Hyoscyamine/(?)-atropine/(?)-...      147530   \n",
       "\n",
       "                                   OMIM_disease_name       avg  \n",
       "0          Hyperphosphatemia, Polyuria, And Seizures  0.952639  \n",
       "1               Osteoarthritis Susceptibility 2; Os2  0.808611  \n",
       "2      Renal Failure, Progressive, With Hypertension  0.778500  \n",
       "3     Attention Deficit-Hyperactivity Disorder; Adhd  0.822583  \n",
       "4  Insensitivity To Pain With Hyperplastic Myelin...  0.784667  "
      ]
     },
     "execution_count": 69,
     "metadata": {},
     "output_type": "execute_result"
    }
   ],
   "source": [
    "hc.head()"
   ]
  },
  {
   "cell_type": "code",
   "execution_count": 70,
   "metadata": {
    "collapsed": false
   },
   "outputs": [],
   "source": [
    "raw = pd.merge(hc,mim_umls, left_on = 'Disease_id', right_on = 'OMIM_ID', how='inner')"
   ]
  },
  {
   "cell_type": "code",
   "execution_count": 71,
   "metadata": {
    "collapsed": false
   },
   "outputs": [],
   "source": [
    "raw.rename(columns = {'Herbal_compID':'compID', 'Disease_id' : 'diseaseID', 'OMIM_ID':'mimID', 'OMIM_disease_name_x' : 'omim_disease_name', 'UMLS_concept_ID' : 'umls_id', 'UMLS_concept_name' :'umls_name'}, inplace=True)"
   ]
  },
  {
   "cell_type": "code",
   "execution_count": 72,
   "metadata": {
    "collapsed": false
   },
   "outputs": [
    {
     "name": "stdout",
     "output_type": "stream",
     "text": [
      "647 31 647\n"
     ]
    }
   ],
   "source": [
    "print len(raw), len(raw.compID.drop_duplicates()), len(raw.diseaseID)"
   ]
  },
  {
   "cell_type": "code",
   "execution_count": 74,
   "metadata": {
    "collapsed": false
   },
   "outputs": [],
   "source": [
    "df = raw[['compID','compName','synonym','diseaseID', 'omim_disease_name', 'umls_id', 'umls_name', 'avg']].sort_values(by='avg', ascending=False)"
   ]
  },
  {
   "cell_type": "code",
   "execution_count": 79,
   "metadata": {
    "collapsed": false
   },
   "outputs": [],
   "source": [
    "df.to_csv(\"/home/share/aschoi/nas/users/asolchoi/data/Drug_Repositioning/8_new_training/7_non/herb/1_herbal_compound_positive_umlsID.tsv\",sep='\\t', index=False)"
   ]
  },
  {
   "cell_type": "code",
   "execution_count": null,
   "metadata": {
    "collapsed": true
   },
   "outputs": [],
   "source": []
  }
 ],
 "metadata": {
  "kernelspec": {
   "display_name": "Python 2",
   "language": "python",
   "name": "python2"
  },
  "language_info": {
   "codemirror_mode": {
    "name": "ipython",
    "version": 2
   },
   "file_extension": ".py",
   "mimetype": "text/x-python",
   "name": "python",
   "nbconvert_exporter": "python",
   "pygments_lexer": "ipython2",
   "version": "2.7.6"
  }
 },
 "nbformat": 4,
 "nbformat_minor": 0
}
