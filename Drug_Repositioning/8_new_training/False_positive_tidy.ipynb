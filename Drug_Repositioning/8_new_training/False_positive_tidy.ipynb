{
 "cells": [
  {
   "cell_type": "code",
   "execution_count": 1,
   "metadata": {
    "collapsed": true
   },
   "outputs": [],
   "source": [
    "import pandas as pd\n",
    "import numpy as np"
   ]
  },
  {
   "cell_type": "code",
   "execution_count": 8,
   "metadata": {
    "collapsed": false
   },
   "outputs": [
    {
     "data": {
      "text/html": [
       "<div>\n",
       "<table border=\"1\" class=\"dataframe\">\n",
       "  <thead>\n",
       "    <tr style=\"text-align: right;\">\n",
       "      <th></th>\n",
       "      <th>Disease_id</th>\n",
       "      <th>Drug_id</th>\n",
       "      <th>Predicted_label</th>\n",
       "      <th>Predicted_proba</th>\n",
       "      <th>y_true</th>\n",
       "    </tr>\n",
       "  </thead>\n",
       "  <tbody>\n",
       "    <tr>\n",
       "      <th>0</th>\n",
       "      <td>104300</td>\n",
       "      <td>DB01200</td>\n",
       "      <td>1</td>\n",
       "      <td>0.77</td>\n",
       "      <td>0</td>\n",
       "    </tr>\n",
       "  </tbody>\n",
       "</table>\n",
       "</div>"
      ],
      "text/plain": [
       "   Disease_id  Drug_id  Predicted_label  Predicted_proba  y_true\n",
       "0      104300  DB01200                1             0.77       0"
      ]
     },
     "execution_count": 8,
     "metadata": {},
     "output_type": "execute_result"
    }
   ],
   "source": [
    "fp = pd.read_table(\"/home/share/aschoi/nas/users/asolchoi/data/Drug_Repositioning/8_new_training/PREDICT_data/2_6_RF_indep_fp.tsv\")\n",
    "fp.head(1)"
   ]
  },
  {
   "cell_type": "code",
   "execution_count": 9,
   "metadata": {
    "collapsed": false
   },
   "outputs": [
    {
     "data": {
      "text/html": [
       "<div>\n",
       "<table border=\"1\" class=\"dataframe\">\n",
       "  <thead>\n",
       "    <tr style=\"text-align: right;\">\n",
       "      <th></th>\n",
       "      <th>OMIM_ID</th>\n",
       "      <th>OMIM_disease_name</th>\n",
       "      <th>UMLS_concept_ID</th>\n",
       "      <th>UMLS_concept_name</th>\n",
       "    </tr>\n",
       "  </thead>\n",
       "  <tbody>\n",
       "    <tr>\n",
       "      <th>0</th>\n",
       "      <td>102100</td>\n",
       "      <td>Acromegaloid Changes, Cutis Verticis Gyrata, A...</td>\n",
       "      <td>C1868756</td>\n",
       "      <td>Corneal leukoma</td>\n",
       "    </tr>\n",
       "  </tbody>\n",
       "</table>\n",
       "</div>"
      ],
      "text/plain": [
       "   OMIM_ID                                  OMIM_disease_name UMLS_concept_ID  \\\n",
       "0   102100  Acromegaloid Changes, Cutis Verticis Gyrata, A...        C1868756   \n",
       "\n",
       "  UMLS_concept_name  \n",
       "0   Corneal leukoma  "
      ]
     },
     "execution_count": 9,
     "metadata": {},
     "output_type": "execute_result"
    }
   ],
   "source": [
    "omim = pd.read_table(\"/DAS_Storage1/aschoi/data/Drug_Repositioning/6_new_disease/1_omim_umls_mapping_association.tsv\")\n",
    "omim.head(1)"
   ]
  },
  {
   "cell_type": "code",
   "execution_count": 45,
   "metadata": {
    "collapsed": false,
    "scrolled": true
   },
   "outputs": [
    {
     "data": {
      "text/html": [
       "<div>\n",
       "<table border=\"1\" class=\"dataframe\">\n",
       "  <thead>\n",
       "    <tr style=\"text-align: right;\">\n",
       "      <th></th>\n",
       "      <th>DrugBank_ID</th>\n",
       "      <th>Common_name</th>\n",
       "      <th>Synonyms</th>\n",
       "    </tr>\n",
       "  </thead>\n",
       "  <tbody>\n",
       "    <tr>\n",
       "      <th>0</th>\n",
       "      <td>DB00001</td>\n",
       "      <td>Lepirudin</td>\n",
       "      <td>Hirudin variant-1 | Lepirudin recombinant</td>\n",
       "    </tr>\n",
       "  </tbody>\n",
       "</table>\n",
       "</div>"
      ],
      "text/plain": [
       "  DrugBank_ID Common_name                                   Synonyms\n",
       "0     DB00001   Lepirudin  Hirudin variant-1 | Lepirudin recombinant"
      ]
     },
     "execution_count": 45,
     "metadata": {},
     "output_type": "execute_result"
    }
   ],
   "source": [
    "drugbank = pd.read_csv(\"/DAS_Storage1/aschoi/data/Drug_Repositioning/7_new_association/drugbank vocabulary.csv\")\n",
    "drugbank_part = drugbank[['DrugBank ID', 'Common name', 'Synonyms']]\n",
    "drugbank_part = drugbank_part.rename(columns={'DrugBank ID' : 'DrugBank_ID', 'Common name':'Common_name'})\n",
    "drugbank_part.head(1)"
   ]
  },
  {
   "cell_type": "code",
   "execution_count": 46,
   "metadata": {
    "collapsed": false
   },
   "outputs": [
    {
     "data": {
      "text/html": [
       "<div>\n",
       "<table border=\"1\" class=\"dataframe\">\n",
       "  <thead>\n",
       "    <tr style=\"text-align: right;\">\n",
       "      <th></th>\n",
       "      <th>DrugBank_ID</th>\n",
       "      <th>Common_name</th>\n",
       "      <th>Synonyms</th>\n",
       "    </tr>\n",
       "  </thead>\n",
       "  <tbody>\n",
       "    <tr>\n",
       "      <th>1197</th>\n",
       "      <td>DB01210</td>\n",
       "      <td>Levobunolol</td>\n",
       "      <td>(-)-Bunolol | (S)-5-(3-((1,1-Dimethylethyl)ami...</td>\n",
       "    </tr>\n",
       "  </tbody>\n",
       "</table>\n",
       "</div>"
      ],
      "text/plain": [
       "     DrugBank_ID  Common_name  \\\n",
       "1197     DB01210  Levobunolol   \n",
       "\n",
       "                                               Synonyms  \n",
       "1197  (-)-Bunolol | (S)-5-(3-((1,1-Dimethylethyl)ami...  "
      ]
     },
     "execution_count": 46,
     "metadata": {},
     "output_type": "execute_result"
    }
   ],
   "source": [
    "drugbank_part[drugbank_part.DrugBank_ID == 'DB01210']"
   ]
  },
  {
   "cell_type": "code",
   "execution_count": 51,
   "metadata": {
    "collapsed": false
   },
   "outputs": [
    {
     "data": {
      "text/html": [
       "<div>\n",
       "<table border=\"1\" class=\"dataframe\">\n",
       "  <thead>\n",
       "    <tr style=\"text-align: right;\">\n",
       "      <th></th>\n",
       "      <th>OMIM_ID</th>\n",
       "      <th>OMIM_disease_name</th>\n",
       "      <th>UMLS_concept_ID</th>\n",
       "      <th>UMLS_concept_name</th>\n",
       "      <th>Disease_id</th>\n",
       "      <th>Drug_id</th>\n",
       "      <th>Predicted_label</th>\n",
       "      <th>Predicted_proba</th>\n",
       "      <th>y_true</th>\n",
       "    </tr>\n",
       "  </thead>\n",
       "  <tbody>\n",
       "    <tr>\n",
       "      <th>0</th>\n",
       "      <td>102300</td>\n",
       "      <td>Restless Legs Syndrome, Susceptibility To, 1; ...</td>\n",
       "      <td>C0035258</td>\n",
       "      <td>Restless Legs Syndrome</td>\n",
       "      <td>102300</td>\n",
       "      <td>DB01210</td>\n",
       "      <td>1</td>\n",
       "      <td>0.52</td>\n",
       "      <td>0</td>\n",
       "    </tr>\n",
       "  </tbody>\n",
       "</table>\n",
       "</div>"
      ],
      "text/plain": [
       "   OMIM_ID                                  OMIM_disease_name UMLS_concept_ID  \\\n",
       "0   102300  Restless Legs Syndrome, Susceptibility To, 1; ...        C0035258   \n",
       "\n",
       "        UMLS_concept_name  Disease_id  Drug_id  Predicted_label  \\\n",
       "0  Restless Legs Syndrome      102300  DB01210                1   \n",
       "\n",
       "   Predicted_proba  y_true  \n",
       "0             0.52       0  "
      ]
     },
     "execution_count": 51,
     "metadata": {},
     "output_type": "execute_result"
    }
   ],
   "source": [
    "fp_omim = pd.merge(right = fp, left = omim, right_on = 'Disease_id', left_on = 'OMIM_ID')\n",
    "fp_omim.head(1)"
   ]
  },
  {
   "cell_type": "code",
   "execution_count": 57,
   "metadata": {
    "collapsed": false
   },
   "outputs": [
    {
     "name": "stdout",
     "output_type": "stream",
     "text": [
      "702 1250 702\n"
     ]
    },
    {
     "data": {
      "text/html": [
       "<div>\n",
       "<table border=\"1\" class=\"dataframe\">\n",
       "  <thead>\n",
       "    <tr style=\"text-align: right;\">\n",
       "      <th></th>\n",
       "      <th>Drug_id</th>\n",
       "      <th>Disease_id</th>\n",
       "      <th>OMIM_disease_name</th>\n",
       "      <th>Predicted_proba</th>\n",
       "    </tr>\n",
       "  </thead>\n",
       "  <tbody>\n",
       "    <tr>\n",
       "      <th>0</th>\n",
       "      <td>DB01210</td>\n",
       "      <td>102300</td>\n",
       "      <td>Restless Legs Syndrome, Susceptibility To, 1; ...</td>\n",
       "      <td>0.520000</td>\n",
       "    </tr>\n",
       "    <tr>\n",
       "      <th>1</th>\n",
       "      <td>DB00434</td>\n",
       "      <td>102300</td>\n",
       "      <td>Restless Legs Syndrome, Susceptibility To, 1; ...</td>\n",
       "      <td>0.676667</td>\n",
       "    </tr>\n",
       "  </tbody>\n",
       "</table>\n",
       "</div>"
      ],
      "text/plain": [
       "   Drug_id  Disease_id                                  OMIM_disease_name  \\\n",
       "0  DB01210      102300  Restless Legs Syndrome, Susceptibility To, 1; ...   \n",
       "1  DB00434      102300  Restless Legs Syndrome, Susceptibility To, 1; ...   \n",
       "\n",
       "   Predicted_proba  \n",
       "0         0.520000  \n",
       "1         0.676667  "
      ]
     },
     "execution_count": 57,
     "metadata": {},
     "output_type": "execute_result"
    }
   ],
   "source": [
    "fp_omim2 = fp_omim[['Drug_id','Disease_id','OMIM_disease_name', 'Predicted_proba']]\n",
    "print len(fp), len(fp_omim2), len(fp_omim2.drop_duplicates())\n",
    "fp_omim2.head(2)"
   ]
  },
  {
   "cell_type": "code",
   "execution_count": 55,
   "metadata": {
    "collapsed": false
   },
   "outputs": [
    {
     "data": {
      "text/html": [
       "<div>\n",
       "<table border=\"1\" class=\"dataframe\">\n",
       "  <thead>\n",
       "    <tr style=\"text-align: right;\">\n",
       "      <th></th>\n",
       "      <th>DrugBank_ID</th>\n",
       "      <th>Common_name</th>\n",
       "      <th>Synonyms</th>\n",
       "      <th>Drug_id</th>\n",
       "      <th>Disease_id</th>\n",
       "      <th>OMIM_disease_name</th>\n",
       "      <th>Predicted_proba</th>\n",
       "    </tr>\n",
       "  </thead>\n",
       "  <tbody>\n",
       "    <tr>\n",
       "      <th>0</th>\n",
       "      <td>DB00125</td>\n",
       "      <td>L-Arginine</td>\n",
       "      <td>(2S)-2-amino-5-(Carbamimidamido)pentanoic acid...</td>\n",
       "      <td>DB00125</td>\n",
       "      <td>103780</td>\n",
       "      <td>Alcohol Dependence</td>\n",
       "      <td>0.536667</td>\n",
       "    </tr>\n",
       "  </tbody>\n",
       "</table>\n",
       "</div>"
      ],
      "text/plain": [
       "  DrugBank_ID Common_name                                           Synonyms  \\\n",
       "0     DB00125  L-Arginine  (2S)-2-amino-5-(Carbamimidamido)pentanoic acid...   \n",
       "\n",
       "   Drug_id  Disease_id   OMIM_disease_name  Predicted_proba  \n",
       "0  DB00125      103780  Alcohol Dependence         0.536667  "
      ]
     },
     "execution_count": 55,
     "metadata": {},
     "output_type": "execute_result"
    }
   ],
   "source": [
    "fp_omim_drug = pd.merge(right = fp_omim2, left = drugbank_part, right_on = 'Drug_id', left_on = 'DrugBank_ID')\n",
    "fp_omim_drug.head(1)"
   ]
  },
  {
   "cell_type": "code",
   "execution_count": 60,
   "metadata": {
    "collapsed": false
   },
   "outputs": [
    {
     "name": "stdout",
     "output_type": "stream",
     "text": [
      "1250 1250 702\n"
     ]
    },
    {
     "data": {
      "text/html": [
       "<div>\n",
       "<table border=\"1\" class=\"dataframe\">\n",
       "  <thead>\n",
       "    <tr style=\"text-align: right;\">\n",
       "      <th></th>\n",
       "      <th>Drug_id</th>\n",
       "      <th>Common_name</th>\n",
       "      <th>Synonyms</th>\n",
       "      <th>Disease_id</th>\n",
       "      <th>OMIM_disease_name</th>\n",
       "      <th>Predicted_proba</th>\n",
       "    </tr>\n",
       "  </thead>\n",
       "  <tbody>\n",
       "    <tr>\n",
       "      <th>0</th>\n",
       "      <td>DB00125</td>\n",
       "      <td>L-Arginine</td>\n",
       "      <td>(2S)-2-amino-5-(Carbamimidamido)pentanoic acid...</td>\n",
       "      <td>103780</td>\n",
       "      <td>Alcohol Dependence</td>\n",
       "      <td>0.536667</td>\n",
       "    </tr>\n",
       "    <tr>\n",
       "      <th>1</th>\n",
       "      <td>DB00125</td>\n",
       "      <td>L-Arginine</td>\n",
       "      <td>(2S)-2-amino-5-(Carbamimidamido)pentanoic acid...</td>\n",
       "      <td>104300</td>\n",
       "      <td>Alzheimer Disease; Ad</td>\n",
       "      <td>0.850000</td>\n",
       "    </tr>\n",
       "  </tbody>\n",
       "</table>\n",
       "</div>"
      ],
      "text/plain": [
       "   Drug_id Common_name                                           Synonyms  \\\n",
       "0  DB00125  L-Arginine  (2S)-2-amino-5-(Carbamimidamido)pentanoic acid...   \n",
       "1  DB00125  L-Arginine  (2S)-2-amino-5-(Carbamimidamido)pentanoic acid...   \n",
       "\n",
       "   Disease_id      OMIM_disease_name  Predicted_proba  \n",
       "0      103780     Alcohol Dependence         0.536667  \n",
       "1      104300  Alzheimer Disease; Ad         0.850000  "
      ]
     },
     "execution_count": 60,
     "metadata": {},
     "output_type": "execute_result"
    }
   ],
   "source": [
    "fp_omim_drug2 = fp_omim_drug[['Drug_id','Common_name','Synonyms','Disease_id','OMIM_disease_name', 'Predicted_proba']]\n",
    "print len(fp_omim2), len(fp_omim_drug2), len(fp_omim_drug2.drop_duplicates())\n",
    "fp_omim_drug2.head(2)"
   ]
  },
  {
   "cell_type": "code",
   "execution_count": 62,
   "metadata": {
    "collapsed": false
   },
   "outputs": [],
   "source": [
    "fp_omim_drug2.drop_duplicates().to_csv(\"/home/share/aschoi/nas/users/asolchoi/data/Drug_Repositioning/8_new_training/PREDICT_data/2_6_RF_indep_fp_name.tsv\",\n",
    "                    sep='\\t', index=False)"
   ]
  },
  {
   "cell_type": "code",
   "execution_count": null,
   "metadata": {
    "collapsed": true
   },
   "outputs": [],
   "source": []
  }
 ],
 "metadata": {
  "kernelspec": {
   "display_name": "Python 2",
   "language": "python",
   "name": "python2"
  },
  "language_info": {
   "codemirror_mode": {
    "name": "ipython",
    "version": 2
   },
   "file_extension": ".py",
   "mimetype": "text/x-python",
   "name": "python",
   "nbconvert_exporter": "python",
   "pygments_lexer": "ipython2",
   "version": "2.7.6"
  }
 },
 "nbformat": 4,
 "nbformat_minor": 2
}
