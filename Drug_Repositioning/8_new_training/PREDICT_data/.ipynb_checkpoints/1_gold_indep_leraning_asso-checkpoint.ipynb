{
 "cells": [
  {
   "cell_type": "code",
   "execution_count": 1,
   "metadata": {
    "collapsed": true
   },
   "outputs": [],
   "source": [
    "import pandas as pd\n",
    "import numpy as numpy\n",
    "from itertools import product\n",
    "from datetime import datetime"
   ]
  },
  {
   "cell_type": "code",
   "execution_count": 2,
   "metadata": {
    "collapsed": true
   },
   "outputs": [],
   "source": [
    "asso = pd.read_table(\"/DAS_Storage1/aschoi/data/Drug_Repositioning/7_new_association/PREDICT_data/2_gold_asso.tsv\")\n",
    "drug = pd.read_table(\"/DAS_Storage1/aschoi/data/Drug_Repositioning/5_new_drug/PREDICT_data/4_gold_se_by_indep.tsv\")\n",
    "disease = pd.read_table(\"/DAS_Storage1/aschoi/data/Drug_Repositioning/6_new_disease/8_gold_disease_feature.tsv\")\n",
    "indep = pd.read_table(\"/DAS_Storage1/aschoi/data/Drug_Repositioning/7_new_association/PREDICT_data/3_indep_asso.tsv\")"
   ]
  },
  {
   "cell_type": "code",
   "execution_count": 3,
   "metadata": {
    "collapsed": false
   },
   "outputs": [
    {
     "name": "stdout",
     "output_type": "stream",
     "text": [
      "1362\n",
      "93\n"
     ]
    }
   ],
   "source": [
    "print len(asso)\n",
    "print len(indep)"
   ]
  },
  {
   "cell_type": "code",
   "execution_count": 4,
   "metadata": {
    "collapsed": true
   },
   "outputs": [],
   "source": [
    "gold_dr = asso['DrugBank_ID'].drop_duplicates()\n",
    "gold_di = asso['OMIM_ID'].drop_duplicates()\n",
    "indep_dr = indep['drug'].drop_duplicates()\n",
    "indep_di = indep['disease'].drop_duplicates()"
   ]
  },
  {
   "cell_type": "code",
   "execution_count": 5,
   "metadata": {
    "collapsed": false
   },
   "outputs": [
    {
     "name": "stdout",
     "output_type": "stream",
     "text": [
      "446\n",
      "235\n",
      "73\n",
      "35\n"
     ]
    }
   ],
   "source": [
    "print len(gold_dr)\n",
    "print len(gold_di)\n",
    "print len(indep_dr)\n",
    "print len(indep_di)"
   ]
  },
  {
   "cell_type": "code",
   "execution_count": 6,
   "metadata": {
    "collapsed": false
   },
   "outputs": [],
   "source": [
    "# gold_drug, gold_disease에서 나올 수 있는 모든 association pair\n",
    "all_pair = pd.DataFrame(list(product(gold_dr, gold_di)), columns = ['drug_id', 'disease_id'])"
   ]
  },
  {
   "cell_type": "code",
   "execution_count": 9,
   "metadata": {
    "collapsed": false
   },
   "outputs": [
    {
     "name": "stdout",
     "output_type": "stream",
     "text": [
      "2555\n"
     ]
    },
    {
     "data": {
      "text/html": [
       "<div>\n",
       "<table border=\"1\" class=\"dataframe\">\n",
       "  <thead>\n",
       "    <tr style=\"text-align: right;\">\n",
       "      <th></th>\n",
       "      <th>drug_id</th>\n",
       "      <th>disease_id</th>\n",
       "      <th>association</th>\n",
       "    </tr>\n",
       "  </thead>\n",
       "  <tbody>\n",
       "    <tr>\n",
       "      <th>0</th>\n",
       "      <td>DB01200</td>\n",
       "      <td>102300</td>\n",
       "      <td>0</td>\n",
       "    </tr>\n",
       "  </tbody>\n",
       "</table>\n",
       "</div>"
      ],
      "text/plain": [
       "   drug_id  disease_id  association\n",
       "0  DB01200      102300            0"
      ]
     },
     "execution_count": 9,
     "metadata": {},
     "output_type": "execute_result"
    }
   ],
   "source": [
    "# indep_drug, indep_disease에서 나올 수 있는 모든 association pair\n",
    "indep_all_pair = pd.DataFrame(list(product(indep_dr, indep_di)), columns = ['drug_id', 'disease_id'])\n",
    "print len(indep_all_pair)\n",
    "# 일단 모든 association을 0으로 표시한다.\n",
    "indep_all_pair['association'] = 0\n",
    "indep_all_pair.head(1)"
   ]
  },
  {
   "cell_type": "code",
   "execution_count": 10,
   "metadata": {
    "collapsed": false
   },
   "outputs": [],
   "source": [
    "# gold asso(positive)에 포함되어 있는 association을 independent에서 제거 (아마 indep의 negative에서 제거 될 거임.)\n",
    "for index, row in indep_all_pair.iterrows():\n",
    "    dr_id = row['drug_id']\n",
    "    di_id = row['disease_id']\n",
    "    found = asso[(asso.DrugBank_ID == dr_id) & (asso.OMIM_ID == di_id)]\n",
    "    if found.empty:\n",
    "        continue\n",
    "    else:\n",
    "        indep_all_pair.loc[index, 'association'] = 2 # gold의 positive와 겹치면 association을 2로 set한다."
   ]
  },
  {
   "cell_type": "code",
   "execution_count": 11,
   "metadata": {
    "collapsed": false
   },
   "outputs": [
    {
     "name": "stdout",
     "output_type": "stream",
     "text": [
      "2555\n",
      "16\n",
      "2539\n"
     ]
    }
   ],
   "source": [
    "print len(indep_all_pair)\n",
    "print len(indep_all_pair[(indep_all_pair.association ==2)]) # gold positive와 겹치는 independent의 association 수\n",
    "indep_pair = indep_all_pair[~(indep_all_pair.association ==2)] # gold positive와 겹치는 independent의 association을 제거함.\n",
    "print len(indep_pair)"
   ]
  },
  {
   "cell_type": "code",
   "execution_count": 12,
   "metadata": {
    "collapsed": false
   },
   "outputs": [
    {
     "name": "stderr",
     "output_type": "stream",
     "text": [
      "/usr/local/lib/python2.7/dist-packages/pandas/core/indexing.py:465: SettingWithCopyWarning: \n",
      "A value is trying to be set on a copy of a slice from a DataFrame.\n",
      "Try using .loc[row_indexer,col_indexer] = value instead\n",
      "\n",
      "See the caveats in the documentation: http://pandas.pydata.org/pandas-docs/stable/indexing.html#indexing-view-versus-copy\n",
      "  self.obj[item] = s\n"
     ]
    }
   ],
   "source": [
    "# positive인 independent 정보를 all pair(gold positive와는 중복 제거된)에 표시한다.\n",
    "for index, row in indep.iterrows():\n",
    "    dr = row['drug']\n",
    "    di = row['disease']\n",
    "    found = indep_pair[(indep_pair.drug_id == dr) & (indep_pair.disease_id == di)]\n",
    "    indep_pair.loc[found.index, 'association'] = 1"
   ]
  },
  {
   "cell_type": "code",
   "execution_count": 13,
   "metadata": {
    "collapsed": false
   },
   "outputs": [
    {
     "name": "stdout",
     "output_type": "stream",
     "text": [
      "2539\n",
      "93\n",
      "2446\n",
      "73\n",
      "35\n"
     ]
    }
   ],
   "source": [
    "print len(indep_pair)\n",
    "print len(indep_pair[indep_pair.association ==1])\n",
    "print len(indep_pair[indep_pair.association ==0])\n",
    "print len(indep_pair.drop_duplicates('drug_id'))\n",
    "print len(indep_pair.drop_duplicates('disease_id'))"
   ]
  },
  {
   "cell_type": "code",
   "execution_count": 14,
   "metadata": {
    "collapsed": false
   },
   "outputs": [
    {
     "name": "stdout",
     "output_type": "stream",
     "text": [
      "48\n",
      "35\n",
      "62\n"
     ]
    }
   ],
   "source": [
    "temp = indep_pair[indep_pair['drug_id'].isin(gold_dr)] # independent data중 gold dr과 연관이 있는 association\n",
    "print len(temp.drop_duplicates('drug_id'))\n",
    "print len(temp.drop_duplicates('disease_id'))\n",
    "print len(temp[temp.association ==1]) # 그 중 positive association의 수"
   ]
  },
  {
   "cell_type": "code",
   "execution_count": 15,
   "metadata": {
    "collapsed": false
   },
   "outputs": [
    {
     "name": "stdout",
     "output_type": "stream",
     "text": [
      "1602\n",
      "48\n",
      "844\n",
      "25\n"
     ]
    }
   ],
   "source": [
    "p = indep_pair[indep_pair.association ==1]\n",
    "n= indep_pair[indep_pair.association ==0]\n",
    "print len(n[n['drug_id'].isin(gold_dr)])\n",
    "print len(n[n['drug_id'].isin(gold_dr)].drop_duplicates('drug_id'))\n",
    "print len(n[~n['drug_id'].isin(gold_dr)])\n",
    "print len(n[~n['drug_id'].isin(gold_dr)].drop_duplicates('drug_id'))"
   ]
  },
  {
   "cell_type": "code",
   "execution_count": 22,
   "metadata": {
    "collapsed": true
   },
   "outputs": [],
   "source": [
    "indep_pair.to_csv(\"/DAS_Storage1/aschoi/data/Drug_Repositioning/7_new_association/PREDICT_data/3_2_indep_learning_asso.tsv\", sep='\\t', index=False)\n",
    "indep_pair.to_csv(\"/home/share/aschoi/nas/users/asolchoi/data/Drug_Repositioning/7_new_association/PREDICT_data/3_2_indep_learning_asso.tsv\", sep='\\t', index=False)"
   ]
  },
  {
   "cell_type": "code",
   "execution_count": 23,
   "metadata": {
    "collapsed": false
   },
   "outputs": [
    {
     "name": "stdout",
     "output_type": "stream",
     "text": [
      "104810\n",
      "2539\n"
     ]
    }
   ],
   "source": [
    "print len(all_pair)\n",
    "print len(indep_pair)"
   ]
  },
  {
   "cell_type": "code",
   "execution_count": 61,
   "metadata": {
    "collapsed": false
   },
   "outputs": [
    {
     "name": "stdout",
     "output_type": "stream",
     "text": [
      "103146\n",
      "1362\n",
      "1362\n",
      "103146\n"
     ]
    }
   ],
   "source": [
    "# 2017.4.19. 새로운 방법으로 negative check\n",
    "all_pair.set_index(['drug_id', 'disease_id'], inplace=True)\n",
    "indep_assos = [tuple(x) for x in indep_pair[['drug_id', 'disease_id']].values]\n",
    "a = all_pair[~all_pair.index.isin(indep_assos)]  # indep association이 포함되지 않은 gold association\n",
    "print len(a)\n",
    "\n",
    "pos_assos = [tuple(x) for x in asso[['DrugBank_ID', 'OMIM_ID']].values] # positive association\n",
    "print len(pos_assos)\n",
    "pos_asso = a.filter(items = pos_assos, axis = 0) # positive association\n",
    "neg_asso = a[~a.index.isin(a.index.isin(pos_assos))] # negative association\n",
    "print len(pos_asso)\n",
    "print len(neg_asso)"
   ]
  },
  {
   "cell_type": "code",
   "execution_count": 24,
   "metadata": {
    "collapsed": true
   },
   "outputs": [
    {
     "name": "stdout",
     "output_type": "stream",
     "text": [
      "104810\n",
      "start : 2017-03-27 14:58:53\n",
      "cnt : 10000  2017-03-27 14:59:31\n",
      "cnt : 20000  2017-03-27 15:00:08\n",
      "cnt : 30000  2017-03-27 15:00:48\n",
      "cnt : 40000  2017-03-27 15:01:29\n",
      "cnt : 50000  2017-03-27 15:02:10\n",
      "cnt : 60000  2017-03-27 15:02:51\n",
      "cnt : 70000  2017-03-27 15:03:33\n",
      "cnt : 80000  2017-03-27 15:04:16\n",
      "cnt : 90000  2017-03-27 15:05:00\n",
      "cnt : 100000  2017-03-27 15:05:45\n",
      "end : 2017-03-27 15:06:08\n",
      "101784\n"
     ]
    }
   ],
   "source": [
    "# gold association의 negativie 구함.(positive에도 없고, independent에도 없는 association을 찾는것.)\n",
    "neg = pd.DataFrame()\n",
    "print len(all_pair)\n",
    "cnt = 0\n",
    "print \"start : \" + datetime.now().strftime('%Y-%m-%d %H:%M:%S')\n",
    "for index, row in all_pair.iterrows():\n",
    "    dr_id = row['drug_id']\n",
    "    di_id = row['disease_id']\n",
    "    found = asso[(asso.DrugBank_ID == dr_id) & (asso.OMIM_ID == di_id)] # asso는 gold positive\n",
    "    found2 = indep_pair[(indep_pair.drug_id == dr_id) & (indep_pair.disease_id == di_id)] # indep의 모든 association\n",
    "    if found.empty & found2.empty:\n",
    "        neg = neg.append(row)\n",
    "    cnt = cnt + 1\n",
    "    if cnt % 10000 ==0:\n",
    "        print \"cnt : {}  \".format(cnt) + datetime.now().strftime('%Y-%m-%d %H:%M:%S')\n",
    "print \"end : \" + datetime.now().strftime('%Y-%m-%d %H:%M:%S')\n",
    "print len(neg)"
   ]
  },
  {
   "cell_type": "code",
   "execution_count": 36,
   "metadata": {
    "collapsed": false
   },
   "outputs": [],
   "source": [
    "asso = asso.rename(columns={'DrugBank_ID':'drug_id', 'OMIM_ID':'disease_id'})"
   ]
  },
  {
   "cell_type": "code",
   "execution_count": 37,
   "metadata": {
    "collapsed": false
   },
   "outputs": [
    {
     "data": {
      "text/html": [
       "<div>\n",
       "<table border=\"1\" class=\"dataframe\">\n",
       "  <thead>\n",
       "    <tr style=\"text-align: right;\">\n",
       "      <th></th>\n",
       "      <th>drug_id</th>\n",
       "      <th>disease_id</th>\n",
       "    </tr>\n",
       "  </thead>\n",
       "  <tbody>\n",
       "    <tr>\n",
       "      <th>0</th>\n",
       "      <td>DB00659</td>\n",
       "      <td>103780</td>\n",
       "    </tr>\n",
       "    <tr>\n",
       "      <th>1</th>\n",
       "      <td>DB01193</td>\n",
       "      <td>608622</td>\n",
       "    </tr>\n",
       "  </tbody>\n",
       "</table>\n",
       "</div>"
      ],
      "text/plain": [
       "   drug_id  disease_id\n",
       "0  DB00659      103780\n",
       "1  DB01193      608622"
      ]
     },
     "execution_count": 37,
     "metadata": {},
     "output_type": "execute_result"
    }
   ],
   "source": [
    "asso.head(2)"
   ]
  },
  {
   "cell_type": "code",
   "execution_count": 38,
   "metadata": {
    "collapsed": false
   },
   "outputs": [
    {
     "data": {
      "text/html": [
       "<div>\n",
       "<table border=\"1\" class=\"dataframe\">\n",
       "  <thead>\n",
       "    <tr style=\"text-align: right;\">\n",
       "      <th></th>\n",
       "      <th>disease_id</th>\n",
       "      <th>drug_id</th>\n",
       "    </tr>\n",
       "  </thead>\n",
       "  <tbody>\n",
       "    <tr>\n",
       "      <th>1</th>\n",
       "      <td>608622.0</td>\n",
       "      <td>DB00659</td>\n",
       "    </tr>\n",
       "    <tr>\n",
       "      <th>2</th>\n",
       "      <td>161900.0</td>\n",
       "      <td>DB00659</td>\n",
       "    </tr>\n",
       "  </tbody>\n",
       "</table>\n",
       "</div>"
      ],
      "text/plain": [
       "   disease_id  drug_id\n",
       "1    608622.0  DB00659\n",
       "2    161900.0  DB00659"
      ]
     },
     "execution_count": 38,
     "metadata": {},
     "output_type": "execute_result"
    }
   ],
   "source": [
    "neg.head(2)"
   ]
  },
  {
   "cell_type": "code",
   "execution_count": 39,
   "metadata": {
    "collapsed": true
   },
   "outputs": [],
   "source": [
    "int_di = list()\n",
    "for i in neg['disease_id']:\n",
    "    int_di.append(int(i))"
   ]
  },
  {
   "cell_type": "code",
   "execution_count": 40,
   "metadata": {
    "collapsed": false
   },
   "outputs": [
    {
     "data": {
      "text/html": [
       "<div>\n",
       "<table border=\"1\" class=\"dataframe\">\n",
       "  <thead>\n",
       "    <tr style=\"text-align: right;\">\n",
       "      <th></th>\n",
       "      <th>disease_id</th>\n",
       "      <th>drug_id</th>\n",
       "    </tr>\n",
       "  </thead>\n",
       "  <tbody>\n",
       "    <tr>\n",
       "      <th>1</th>\n",
       "      <td>608622</td>\n",
       "      <td>DB00659</td>\n",
       "    </tr>\n",
       "    <tr>\n",
       "      <th>2</th>\n",
       "      <td>161900</td>\n",
       "      <td>DB00659</td>\n",
       "    </tr>\n",
       "  </tbody>\n",
       "</table>\n",
       "</div>"
      ],
      "text/plain": [
       "   disease_id  drug_id\n",
       "1      608622  DB00659\n",
       "2      161900  DB00659"
      ]
     },
     "execution_count": 40,
     "metadata": {},
     "output_type": "execute_result"
    }
   ],
   "source": [
    "neg['disease_id'] = int_di\n",
    "neg.head(2)"
   ]
  },
  {
   "cell_type": "code",
   "execution_count": 41,
   "metadata": {
    "collapsed": true
   },
   "outputs": [],
   "source": [
    "asso['association'] = 1\n",
    "neg['association'] = 0"
   ]
  },
  {
   "cell_type": "code",
   "execution_count": 44,
   "metadata": {
    "collapsed": false
   },
   "outputs": [
    {
     "name": "stdout",
     "output_type": "stream",
     "text": [
      "103146\n",
      "103146\n",
      "446\n",
      "235\n",
      "1362\n",
      "101784\n"
     ]
    }
   ],
   "source": [
    "learning_asso = pd.concat([asso, neg])\n",
    "print len(learning_asso)\n",
    "print len(learning_asso.drop_duplicates())\n",
    "print len(learning_asso.drop_duplicates('drug_id'))\n",
    "print len(learning_asso.drop_duplicates('disease_id'))\n",
    "print len(learning_asso[learning_asso.association ==1])\n",
    "print len(learning_asso[learning_asso.association ==0])"
   ]
  },
  {
   "cell_type": "code",
   "execution_count": 45,
   "metadata": {
    "collapsed": false
   },
   "outputs": [],
   "source": [
    "learning_asso.to_csv(\"/home/share/aschoi/nas/users/asolchoi/data/Drug_Repositioning/7_new_association/PREDICT_data/2_2_gold_learning_asso.tsv\", sep='\\t', index=False)\n",
    "learning_asso.to_csv(\"/DAS_Storage1/aschoi/data/Drug_Repositioning/7_new_association/PREDICT_data/2_2_gold_learning_asso.tsv\", sep='\\t', index=False)"
   ]
  },
  {
   "cell_type": "code",
   "execution_count": null,
   "metadata": {
    "collapsed": true
   },
   "outputs": [],
   "source": [
    "##### descriptor 구축(하다맘 - 이 방법 말고 다른 파일 참조)"
   ]
  },
  {
   "cell_type": "code",
   "execution_count": 3,
   "metadata": {
    "collapsed": false
   },
   "outputs": [],
   "source": [
    "learning_asso = pd.read_table(\"/DAS_Storage1/aschoi/data/Drug_Repositioning/7_new_association/PREDICT_data/2_2_gold_learning_asso.tsv\")"
   ]
  },
  {
   "cell_type": "code",
   "execution_count": 4,
   "metadata": {
    "collapsed": false
   },
   "outputs": [
    {
     "name": "stdout",
     "output_type": "stream",
     "text": [
      "103146\n",
      "1362\n",
      "101784\n"
     ]
    }
   ],
   "source": [
    "print len(learning_asso)\n",
    "print len(learning_asso[learning_asso.association ==1])\n",
    "print len(learning_asso[learning_asso.association ==0])"
   ]
  },
  {
   "cell_type": "code",
   "execution_count": 10,
   "metadata": {
    "collapsed": false
   },
   "outputs": [
    {
     "name": "stdout",
     "output_type": "stream",
     "text": [
      "103146\n",
      "start : 2017-03-27 15:55:01\n",
      "cnt : 10000  2017-03-27 16:08:23\n",
      "cnt : 20000  2017-03-27 16:46:08\n",
      "end : 2017-03-27 16:46:08\n"
     ]
    }
   ],
   "source": [
    "learning_desc = pd.DataFrame()\n",
    "start = 0\n",
    "end = 20000\n",
    "cnt = start\n",
    "print len(learning_asso)\n",
    "print \"start : \" + datetime.now().strftime('%Y-%m-%d %H:%M:%S')    \n",
    "for index, row in learning_asso[start:end].iterrows():\n",
    "    dr_id = row['drug_id']\n",
    "    di_id = row['disease_id']\n",
    "    found = o_desc[(o_desc.drug_id == dr_id) & (o_desc.disease_id == di_id)]\n",
    "    learning_desc = learning_desc.append(found)\n",
    "    cnt = cnt +1\n",
    "    if cnt % 10000 ==0:\n",
    "        print \"cnt : {}  \".format(cnt) + datetime.now().strftime('%Y-%m-%d %H:%M:%S')\n",
    "print \"end : \" + datetime.now().strftime('%Y-%m-%d %H:%M:%S')\n",
    "learning_desc.to_csv(\"/DAS_Storage1/aschoi/data/Drug_Repositioning/8_new_training/PREDICT_data/1_gold_descriptor_{}_{}.tsv\".format(start, end-1),\n",
    "                     sep='\\t', index=False)"
   ]
  },
  {
   "cell_type": "code",
   "execution_count": 50,
   "metadata": {
    "collapsed": false
   },
   "outputs": [
    {
     "name": "stdout",
     "output_type": "stream",
     "text": [
      "19754\n",
      "19766\n",
      "19767\n",
      "20000\n",
      "19068\n",
      "3146\n"
     ]
    }
   ],
   "source": [
    "print len(learning_desc)\n",
    "print len(desc2)\n",
    "print len(desc3)\n",
    "print len(desc4)\n",
    "print len(desc5)\n",
    "print len(desc6)"
   ]
  },
  {
   "cell_type": "code",
   "execution_count": 49,
   "metadata": {
    "collapsed": false
   },
   "outputs": [
    {
     "data": {
      "text/plain": [
       "'desc3 = pd.read_table(\"/DAS_Storage1/aschoi/data/Drug_Repositioning/8_new_training/PREDICT_data/1_gold_descriptor_40000_59999.tsv\")\\ndesc4 = pd.read_table(\"/DAS_Storage1/aschoi/data/Drug_Repositioning/8_new_training/PREDICT_data/1_gold_descriptor_60000_79999.tsv\")\\ndesc5 = pd.read_table(\"/DAS_Storage1/aschoi/data/Drug_Repositioning/8_new_training/PREDICT_data/1_gold_descriptor_80000_99999.tsv\")\\ndesc6 = pd.read_table(\"/DAS_Storage1/aschoi/data/Drug_Repositioning/8_new_training/PREDICT_data/1_gold_descriptor_100000_103145.tsv\")'"
      ]
     },
     "execution_count": 49,
     "metadata": {},
     "output_type": "execute_result"
    }
   ],
   "source": [
    "desc1 = pd.read_table(\"/DAS_Storage1/aschoi/data/Drug_Repositioning/8_new_training/PREDICT_data/1_gold_descriptor_0_19999.tsv\")\n",
    "desc2 = pd.read_table(\"/DAS_Storage1/aschoi/data/Drug_Repositioning/8_new_training/PREDICT_data/1_gold_descriptor_20000_39999.tsv\")\n",
    "desc3 = pd.read_table(\"/DAS_Storage1/aschoi/data/Drug_Repositioning/8_new_training/PREDICT_data/1_gold_descriptor_40000_59999.tsv\")\n",
    "desc4 = pd.read_table(\"/DAS_Storage1/aschoi/data/Drug_Repositioning/8_new_training/PREDICT_data/1_gold_descriptor_60000_79999.tsv\")\n",
    "desc5 = pd.read_table(\"/DAS_Storage1/aschoi/data/Drug_Repositioning/8_new_training/PREDICT_data/1_gold_descriptor_80000_99999.tsv\")\n",
    "desc6 = pd.read_table(\"/DAS_Storage1/aschoi/data/Drug_Repositioning/8_new_training/PREDICT_data/1_gold_descriptor_100000_103145.tsv\")'''"
   ]
  },
  {
   "cell_type": "code",
   "execution_count": 55,
   "metadata": {
    "collapsed": true
   },
   "outputs": [],
   "source": [
    "all_desc = pd.concat([desc1, desc2, desc3, desc4, desc5, desc6])"
   ]
  },
  {
   "cell_type": "code",
   "execution_count": 56,
   "metadata": {
    "collapsed": false
   },
   "outputs": [
    {
     "name": "stdout",
     "output_type": "stream",
     "text": [
      "101501\n",
      "101501\n",
      "1346\n",
      "100155\n"
     ]
    }
   ],
   "source": [
    "print len(all_desc)\n",
    "print len(all_desc.drop_duplicates())\n",
    "print len(all_desc[all_desc.association ==1])\n",
    "print len(all_desc[all_desc.association == 0])"
   ]
  },
  {
   "cell_type": "code",
   "execution_count": 58,
   "metadata": {
    "collapsed": false
   },
   "outputs": [
    {
     "name": "stdout",
     "output_type": "stream",
     "text": [
      "439\n",
      "235\n"
     ]
    }
   ],
   "source": [
    "print len(all_desc['drug_id'].drop_duplicates())\n",
    "print len(all_desc['disease_id'].drop_duplicates())"
   ]
  },
  {
   "cell_type": "code",
   "execution_count": 59,
   "metadata": {
    "collapsed": false
   },
   "outputs": [
    {
     "name": "stdout",
     "output_type": "stream",
     "text": [
      "446\n"
     ]
    }
   ],
   "source": [
    "print len(learning_asso['drug_id'].drop_duplicates())"
   ]
  },
  {
   "cell_type": "code",
   "execution_count": 63,
   "metadata": {
    "collapsed": false
   },
   "outputs": [
    {
     "data": {
      "text/html": [
       "<div>\n",
       "<table border=\"1\" class=\"dataframe\">\n",
       "  <thead>\n",
       "    <tr style=\"text-align: right;\">\n",
       "      <th></th>\n",
       "      <th>association</th>\n",
       "      <th>disease_id</th>\n",
       "      <th>drug_id</th>\n",
       "    </tr>\n",
       "  </thead>\n",
       "  <tbody>\n",
       "    <tr>\n",
       "      <th>22</th>\n",
       "      <td>1</td>\n",
       "      <td>608622</td>\n",
       "      <td>DB09026</td>\n",
       "    </tr>\n",
       "    <tr>\n",
       "      <th>260</th>\n",
       "      <td>1</td>\n",
       "      <td>310468</td>\n",
       "      <td>DB04272</td>\n",
       "    </tr>\n",
       "    <tr>\n",
       "      <th>739</th>\n",
       "      <td>1</td>\n",
       "      <td>109350</td>\n",
       "      <td>DB01378</td>\n",
       "    </tr>\n",
       "    <tr>\n",
       "      <th>1105</th>\n",
       "      <td>1</td>\n",
       "      <td>239350</td>\n",
       "      <td>DB00114</td>\n",
       "    </tr>\n",
       "    <tr>\n",
       "      <th>1138</th>\n",
       "      <td>1</td>\n",
       "      <td>157300</td>\n",
       "      <td>DB00533</td>\n",
       "    </tr>\n",
       "    <tr>\n",
       "      <th>1283</th>\n",
       "      <td>1</td>\n",
       "      <td>173200</td>\n",
       "      <td>DB03904</td>\n",
       "    </tr>\n",
       "    <tr>\n",
       "      <th>1284</th>\n",
       "      <td>1</td>\n",
       "      <td>208230</td>\n",
       "      <td>DB00580</td>\n",
       "    </tr>\n",
       "  </tbody>\n",
       "</table>\n",
       "</div>"
      ],
      "text/plain": [
       "      association  disease_id  drug_id\n",
       "22              1      608622  DB09026\n",
       "260             1      310468  DB04272\n",
       "739             1      109350  DB01378\n",
       "1105            1      239350  DB00114\n",
       "1138            1      157300  DB00533\n",
       "1283            1      173200  DB03904\n",
       "1284            1      208230  DB00580"
      ]
     },
     "execution_count": 63,
     "metadata": {},
     "output_type": "execute_result"
    }
   ],
   "source": [
    "learning_asso[~learning_asso['drug_id'].isin(all_desc['drug_id'])].drop_duplicates('drug_id')"
   ]
  },
  {
   "cell_type": "code",
   "execution_count": 65,
   "metadata": {
    "collapsed": false
   },
   "outputs": [
    {
     "data": {
      "text/html": [
       "<div>\n",
       "<table border=\"1\" class=\"dataframe\">\n",
       "  <thead>\n",
       "    <tr style=\"text-align: right;\">\n",
       "      <th></th>\n",
       "      <th>drug_id</th>\n",
       "      <th>disease_id</th>\n",
       "      <th>association</th>\n",
       "      <th>C0008301</th>\n",
       "      <th>C0011603</th>\n",
       "      <th>C0015230</th>\n",
       "      <th>C0016382</th>\n",
       "      <th>C0018681</th>\n",
       "      <th>C0018965</th>\n",
       "      <th>C0020517</th>\n",
       "      <th>...</th>\n",
       "      <th>387585</th>\n",
       "      <th>388165</th>\n",
       "      <th>55219</th>\n",
       "      <th>55973</th>\n",
       "      <th>65264</th>\n",
       "      <th>80350</th>\n",
       "      <th>84624</th>\n",
       "      <th>84722</th>\n",
       "      <th>91851</th>\n",
       "      <th>406216</th>\n",
       "    </tr>\n",
       "  </thead>\n",
       "  <tbody>\n",
       "  </tbody>\n",
       "</table>\n",
       "<p>0 rows × 5371 columns</p>\n",
       "</div>"
      ],
      "text/plain": [
       "Empty DataFrame\n",
       "Columns: [drug_id, disease_id, association, C0008301, C0011603, C0015230, C0016382, C0018681, C0018965, C0020517, C0027497, C0278134, C0020458, C0038999, C0039231, C0042963, C0750876, C0521591, C0002792, C0151799, C0237849, C0030305, C0008031, C0006826, C0027441, C1260880, C0235431, C0013378, C0948594, C0231528, C0221255, C0151825, C0085681, C0085636, C0233471, C0085602, C0043352, C0037274, C0043096, C0042109, C0042029, C0151539, C0033774, C0030193, C1262165, C0028734, C0020538, C0020443, C0020437, C0015967, C0011991, C0011175, C1167965, C0855242, C0009806, C0009763, C0004093, C0003811, C0001925, C0000737, C0019080, C0027709, C0032617, C0011124, C0151904, C0033975, C0438142, C0033860, C0392525, C0085932, C0005758, C0232492, C0014742, C0022661, C0438215, C0917801, C0239935, C0003467, C0852911, C0151714, C0151683, C0085631, C0030196, C0020438, C0041834, C0152027, C0036572, C0549448, C0863084, C0235639, C1306341, C0025362, C0029456, C0242528, C0342649, C0948525, C1442839, C0002871, C0001122, C0030252, ...]\n",
       "Index: []\n",
       "\n",
       "[0 rows x 5371 columns]"
      ]
     },
     "execution_count": 65,
     "metadata": {},
     "output_type": "execute_result"
    }
   ],
   "source": [
    "o_desc[o_desc.drug_id == 'DB09026']"
   ]
  },
  {
   "cell_type": "code",
   "execution_count": 66,
   "metadata": {
    "collapsed": false
   },
   "outputs": [
    {
     "name": "stdout",
     "output_type": "stream",
     "text": [
      "235\n",
      "235\n",
      "235\n",
      "235\n",
      "235\n",
      "235\n",
      "235\n"
     ]
    }
   ],
   "source": [
    "print len(learning_asso[learning_asso.drug_id == 'DB09026'])\n",
    "print len(learning_asso[learning_asso.drug_id == 'DB04272'])\n",
    "print len(learning_asso[learning_asso.drug_id == 'DB01378'])\n",
    "print len(learning_asso[learning_asso.drug_id == 'DB00114'])\n",
    "print len(learning_asso[learning_asso.drug_id == 'DB00533'])\n",
    "print len(learning_asso[learning_asso.drug_id == 'DB03904'])\n",
    "print len(learning_asso[learning_asso.drug_id == 'DB00580'])"
   ]
  },
  {
   "cell_type": "code",
   "execution_count": null,
   "metadata": {
    "collapsed": true
   },
   "outputs": [],
   "source": []
  }
 ],
 "metadata": {
  "kernelspec": {
   "display_name": "Python 2",
   "language": "python",
   "name": "python2"
  },
  "language_info": {
   "codemirror_mode": {
    "name": "ipython",
    "version": 2
   },
   "file_extension": ".py",
   "mimetype": "text/x-python",
   "name": "python",
   "nbconvert_exporter": "python",
   "pygments_lexer": "ipython2",
   "version": "2.7.6"
  }
 },
 "nbformat": 4,
 "nbformat_minor": 2
}
