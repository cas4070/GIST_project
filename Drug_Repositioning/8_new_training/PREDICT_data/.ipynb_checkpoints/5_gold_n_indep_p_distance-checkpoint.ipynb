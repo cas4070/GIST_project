{
 "cells": [
  {
   "cell_type": "code",
   "execution_count": 7,
   "metadata": {
    "collapsed": true
   },
   "outputs": [],
   "source": [
    "import numpy as np\n",
    "import pandas as pd\n",
    "from datetime import datetime\n",
    "from sklearn.metrics import jaccard_similarity_score\n",
    "from __future__ import division\n",
    "from itertools import product"
   ]
  },
  {
   "cell_type": "code",
   "execution_count": 2,
   "metadata": {
    "collapsed": true
   },
   "outputs": [],
   "source": [
    "gold = pd.read_table(\"/DAS_Storage1/aschoi/data/Drug_Repositioning/8_new_training/PREDICT_data/4_1_tn_whole_descriptor_bayesian_predict.tsv\")\n",
    "indep = pd.read_table(\"/DAS_Storage1/aschoi/data/Drug_Repositioning/8_new_training/PREDICT_data/2_2_indep_descriptor.tsv\")"
   ]
  },
  {
   "cell_type": "code",
   "execution_count": 3,
   "metadata": {
    "collapsed": false
   },
   "outputs": [
    {
     "name": "stdout",
     "output_type": "stream",
     "text": [
      "7595 1362 6233\n",
      "2539 93 2446\n"
     ]
    }
   ],
   "source": [
    "gold_p = gold[gold.association == 1]\n",
    "gold_n = gold[gold.association == 0]\n",
    "indep_p = indep[indep.association == 1]\n",
    "indep_n = indep[indep.association == 0]\n",
    "print len(gold), len(gold_p), len(gold_n)\n",
    "print len(indep), len(indep_p), len(indep_n)"
   ]
  },
  {
   "cell_type": "code",
   "execution_count": 4,
   "metadata": {
    "collapsed": false
   },
   "outputs": [
    {
     "data": {
      "text/html": [
       "<div>\n",
       "<table border=\"1\" class=\"dataframe\">\n",
       "  <thead>\n",
       "    <tr style=\"text-align: right;\">\n",
       "      <th></th>\n",
       "      <th>drug_id</th>\n",
       "      <th>disease_id</th>\n",
       "      <th>association</th>\n",
       "      <th>C0000727</th>\n",
       "      <th>C0000731</th>\n",
       "      <th>C0000737</th>\n",
       "      <th>C0000768</th>\n",
       "      <th>C0000772</th>\n",
       "      <th>C0000786</th>\n",
       "      <th>C0000814</th>\n",
       "      <th>...</th>\n",
       "      <th>387585</th>\n",
       "      <th>388165</th>\n",
       "      <th>55219</th>\n",
       "      <th>55973</th>\n",
       "      <th>65264</th>\n",
       "      <th>80350</th>\n",
       "      <th>84624</th>\n",
       "      <th>84722</th>\n",
       "      <th>91851</th>\n",
       "      <th>406216</th>\n",
       "    </tr>\n",
       "  </thead>\n",
       "  <tbody>\n",
       "    <tr>\n",
       "      <th>6233</th>\n",
       "      <td>DB00659</td>\n",
       "      <td>103780</td>\n",
       "      <td>1</td>\n",
       "      <td>0</td>\n",
       "      <td>1</td>\n",
       "      <td>0</td>\n",
       "      <td>0</td>\n",
       "      <td>0</td>\n",
       "      <td>0</td>\n",
       "      <td>0</td>\n",
       "      <td>...</td>\n",
       "      <td>0</td>\n",
       "      <td>0</td>\n",
       "      <td>0</td>\n",
       "      <td>0</td>\n",
       "      <td>0</td>\n",
       "      <td>0</td>\n",
       "      <td>0</td>\n",
       "      <td>0</td>\n",
       "      <td>0</td>\n",
       "      <td>0</td>\n",
       "    </tr>\n",
       "  </tbody>\n",
       "</table>\n",
       "<p>1 rows × 5368 columns</p>\n",
       "</div>"
      ],
      "text/plain": [
       "      drug_id  disease_id  association  C0000727  C0000731  C0000737  \\\n",
       "6233  DB00659      103780            1         0         1         0   \n",
       "\n",
       "      C0000768  C0000772  C0000786  C0000814   ...    387585  388165  55219  \\\n",
       "6233         0         0         0         0   ...         0       0      0   \n",
       "\n",
       "      55973  65264  80350  84624  84722  91851  406216  \n",
       "6233      0      0      0      0      0      0       0  \n",
       "\n",
       "[1 rows x 5368 columns]"
      ]
     },
     "execution_count": 4,
     "metadata": {},
     "output_type": "execute_result"
    }
   ],
   "source": [
    "gold_p.head(1)"
   ]
  },
  {
   "cell_type": "code",
   "execution_count": 5,
   "metadata": {
    "collapsed": false
   },
   "outputs": [],
   "source": [
    "gold_p_pair = gold_p.values[:, :2].tolist()\n",
    "gold_n_pair = gold_n.values[:, :2].tolist()\n",
    "indep_p_pair = indep_p.values[:, :2].tolist()\n",
    "indep_n_pair = indep_n.values[:, :2].tolist()"
   ]
  },
  {
   "cell_type": "code",
   "execution_count": 65,
   "metadata": {
    "collapsed": false
   },
   "outputs": [
    {
     "name": "stdout",
     "output_type": "stream",
     "text": [
      "1362\n",
      "93\n",
      "start : 2017-03-28 14:17:04\n",
      "cnt == 1000 : 2017-03-28 14:26:52\n",
      "end : 2017-03-28 14:32:02\n"
     ]
    }
   ],
   "source": [
    "# distance between gold_p and indep_p\n",
    "df_gp_ip = pd.DataFrame()\n",
    "cnt = 0\n",
    "print len(gold_p_pair)\n",
    "print len(indep_p_pair)\n",
    "print 'start : ' + datetime.now().strftime('%Y-%m-%d %H:%M:%S')\n",
    "for index, row in gold_p.iterrows():\n",
    "    gold_dr_id = row['drug_id'] \n",
    "    gold_di_id = row['disease_id']\n",
    "    desc1 = row[3:].tolist()\n",
    "    for index2, row2 in indep_p.iterrows():\n",
    "        indep_dr_id = row2['drug_id']\n",
    "        indep_di_id = row2['disease_id']\n",
    "        desc2 = row2[3:].tolist()\n",
    "        \n",
    "        sim = jaccard_similarity_score(desc1, desc2)\n",
    "        \n",
    "        #dataframe형\n",
    "        temp_df = pd.DataFrame(data = [[gold_dr_id, gold_di_id, indep_dr_id, indep_di_id, sim]],\n",
    "                               columns=['gold_drug', 'gold_disease', 'indep_drug', 'indep_disease', 'Similarity'])\n",
    "        df_gp_ip = df_gp_ip.append(temp_df)\n",
    "    cnt = cnt + 1\n",
    "    if cnt % 1000 == 0:\n",
    "        print 'cnt == {} : '.format(cnt) + datetime.now().strftime('%Y-%m-%d %H:%M:%S')\n",
    "print 'end : ' + datetime.now().strftime('%Y-%m-%d %H:%M:%S')"
   ]
  },
  {
   "cell_type": "code",
   "execution_count": null,
   "metadata": {
    "collapsed": false
   },
   "outputs": [
    {
     "name": "stdout",
     "output_type": "stream",
     "text": [
      "1362\n",
      "2446\n",
      "start : 2017-03-28 14:42:21\n"
     ]
    }
   ],
   "source": [
    "# distance between gold_p and indep_n\n",
    "df_gp_in = pd.DataFrame()\n",
    "cnt = 0\n",
    "print len(gold_p_pair)\n",
    "print len(indep_n_pair)\n",
    "print 'start : ' + datetime.now().strftime('%Y-%m-%d %H:%M:%S')\n",
    "for index, row in gold_p.iterrows():\n",
    "    gold_dr_id = row['drug_id'] \n",
    "    gold_di_id = row['disease_id']\n",
    "    desc1 = row[3:].tolist()\n",
    "    for index2, row2 in indep_n.iterrows():\n",
    "        indep_dr_id = row2['drug_id']\n",
    "        indep_di_id = row2['disease_id']\n",
    "        desc2 = row2[3:].tolist()\n",
    "        \n",
    "        sim = jaccard_similarity_score(desc1, desc2)\n",
    "        \n",
    "        #dataframe형\n",
    "        temp_df = pd.DataFrame(data = [[gold_dr_id, gold_di_id, indep_dr_id, indep_di_id, sim]],\n",
    "                               columns=['gold_drug', 'gold_disease', 'indep_drug', 'indep_disease', 'Similarity'])\n",
    "        df_gp_ip = df_gp_ip.append(temp_df)\n",
    "    cnt = cnt + 1\n",
    "    if cnt % 1000 == 0:\n",
    "        print 'cnt == {} : '.format(cnt) + datetime.now().strftime('%Y-%m-%d %H:%M:%S')\n",
    "print 'end : ' + datetime.now().strftime('%Y-%m-%d %H:%M:%S')"
   ]
  },
  {
   "cell_type": "code",
   "execution_count": null,
   "metadata": {
    "collapsed": false
   },
   "outputs": [
    {
     "name": "stdout",
     "output_type": "stream",
     "text": [
      "6233\n",
      "93\n",
      "start : 2017-03-28 15:06:23\n",
      "cnt == 10000 : 2017-03-28 15:07:02\n",
      "cnt == 20000 : 2017-03-28 15:07:45\n",
      "cnt == 30000 : 2017-03-28 15:08:33\n",
      "cnt == 40000 : 2017-03-28 15:09:27\n",
      "cnt == 50000 : 2017-03-28 15:10:24\n",
      "cnt == 60000 : 2017-03-28 15:11:23\n",
      "cnt == 70000 : 2017-03-28 15:12:27\n"
     ]
    }
   ],
   "source": [
    "# distance between gold_n and indep_p\n",
    "df_gn_ip = pd.DataFrame()\n",
    "print len(gold_n_pair)\n",
    "print len(indep_p_pair)\n",
    "cnt = 0\n",
    "all_descs = list(product(gold_n.values[:, 3:],indep_p.values[:, 3:]))\n",
    "all_ids = list(product(gold_n_pair,indep_p_pair))\n",
    "print 'start : ' + datetime.now().strftime('%Y-%m-%d %H:%M:%S')\n",
    "for ids, descs in zip(all_ids, all_descs):\n",
    "    gold_dr_id = ids[0][0]\n",
    "    gold_di_id = ids[0][1]\n",
    "    desc1 = descs[0].tolist()\n",
    "    \n",
    "    indep_dr_id = ids[1][0]\n",
    "    indep_di_id = ids[1][1]\n",
    "    desc2 = descs[1].tolist()\n",
    "        \n",
    "    sim = jaccard_similarity_score(desc1, desc2)\n",
    "        \n",
    "    #dataframe형\n",
    "    temp_df = pd.DataFrame(data = [[gold_dr_id, gold_di_id, indep_dr_id, indep_di_id, sim]],\n",
    "                               columns=['gold_drug', 'gold_disease', 'indep_drug', 'indep_disease', 'Similarity'])\n",
    "    df_gn_ip = df_gn_ip.append(temp_df)\n",
    "    cnt = cnt + 1\n",
    "    if cnt % 10000 == 0:\n",
    "        print 'cnt == {} : '.format(cnt) + datetime.now().strftime('%Y-%m-%d %H:%M:%S')\n",
    "print 'end : ' + datetime.now().strftime('%Y-%m-%d %H:%M:%S')"
   ]
  },
  {
   "cell_type": "code",
   "execution_count": null,
   "metadata": {
    "collapsed": true
   },
   "outputs": [],
   "source": [
    "# distance between gold_n and indep_n"
   ]
  }
 ],
 "metadata": {
  "kernelspec": {
   "display_name": "Python 2",
   "language": "python",
   "name": "python2"
  },
  "language_info": {
   "codemirror_mode": {
    "name": "ipython",
    "version": 2
   },
   "file_extension": ".py",
   "mimetype": "text/x-python",
   "name": "python",
   "nbconvert_exporter": "python",
   "pygments_lexer": "ipython2",
   "version": "2.7.6"
  }
 },
 "nbformat": 4,
 "nbformat_minor": 2
}
