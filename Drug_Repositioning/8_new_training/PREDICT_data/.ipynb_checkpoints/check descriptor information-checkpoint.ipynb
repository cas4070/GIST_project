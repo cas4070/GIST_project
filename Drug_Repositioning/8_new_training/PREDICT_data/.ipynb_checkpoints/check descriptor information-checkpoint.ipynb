{
 "cells": [
  {
   "cell_type": "code",
   "execution_count": 5,
   "metadata": {
    "collapsed": true
   },
   "outputs": [],
   "source": [
    "import pandas as pd\n",
    "import numpy as np\n",
    "from collections import Counter"
   ]
  },
  {
   "cell_type": "code",
   "execution_count": 2,
   "metadata": {
    "collapsed": true
   },
   "outputs": [],
   "source": [
    "#descriptor들 구분"
   ]
  },
  {
   "cell_type": "code",
   "execution_count": 21,
   "metadata": {
    "collapsed": false
   },
   "outputs": [
    {
     "name": "stdout",
     "output_type": "stream",
     "text": [
      "Counter({0: 109251, 1: 1434})\n",
      "total_association : 110685, feature 수 : 5797\n",
      "drug : 471\n",
      "disease : 235\n"
     ]
    }
   ],
   "source": [
    "df = pd.read_table(\"/DAS_Storage1/aschoi/data/Drug_Repositioning/8_new_training/2_1_descriptor_combined.tsv\")\n",
    "print Counter(df['association'])\n",
    "print 'total_association : {}, feature 수 : {}'.format(df.shape[0], df.shape[1]-3)\n",
    "print 'drug : {}'.format(len(df['drug_id'].drop_duplicates()))\n",
    "print 'disease : {}'.format(len(df['disease_id'].drop_duplicates()))\n",
    "del df"
   ]
  },
  {
   "cell_type": "code",
   "execution_count": 32,
   "metadata": {
    "collapsed": false
   },
   "outputs": [
    {
     "name": "stdout",
     "output_type": "stream",
     "text": [
      "Counter({0: 109251, 1: 1434})\n",
      "total_association : 110685, feature 수 : 5368\n",
      "drug : 471\n",
      "disease : 235\n"
     ]
    }
   ],
   "source": [
    "df=pd.read_table(\"/DAS_Storage1/aschoi/data/Drug_Repositioning/8_new_training/2_1_2_removed_descriptor.tsv\")\n",
    "print Counter(df['association'])\n",
    "print 'total_association : {}, feature 수 : {}'.format(df.shape[0], df.shape[1]-3)\n",
    "print 'drug : {}'.format(len(df['drug_id'].drop_duplicates()))\n",
    "print 'disease : {}'.format(len(df['disease_id'].drop_duplicates()))\n",
    "del df"
   ]
  },
  {
   "cell_type": "code",
   "execution_count": 42,
   "metadata": {
    "collapsed": false
   },
   "outputs": [
    {
     "name": "stdout",
     "output_type": "stream",
     "text": [
      "Counter({0: 51904, 1: 1434})\n",
      "total_association : 53338, feature 수 : 5797\n",
      "drug : 471\n",
      "disease : 235\n"
     ]
    }
   ],
   "source": [
    "df=pd.read_table(\"/DAS_Storage1/aschoi/data/Drug_Repositioning/8_new_training/4_gold_descriptor_revised_1%.tsv\")\n",
    "print Counter(df['association'])\n",
    "print 'total_association : {}, feature 수 : {}'.format(df.shape[0], df.shape[1]-3)\n",
    "print 'drug : {}'.format(len(df['drug_id'].drop_duplicates()))\n",
    "print 'disease : {}'.format(len(df['disease_id'].drop_duplicates()))\n",
    "del df"
   ]
  },
  {
   "cell_type": "code",
   "execution_count": 35,
   "metadata": {
    "collapsed": false
   },
   "outputs": [
    {
     "name": "stdout",
     "output_type": "stream",
     "text": [
      "Counter({0: 1397, 1: 1397})\n",
      "total_association : 2794, feature 수 : 4\n",
      "drug : 456\n",
      "disease : 235\n"
     ]
    }
   ],
   "source": [
    "df=pd.read_table(\"/DAS_Storage1/aschoi/data/Drug_Repositioning/8_new_training/5_PREDICT_descriptor/test_whole_descriptor.tsv\")\n",
    "print Counter(df['association'])\n",
    "print 'total_association : {}, feature 수 : {}'.format(df.shape[0], df.shape[1]-3)\n",
    "print 'drug : {}'.format(len(df['drug'].drop_duplicates()))\n",
    "print 'disease : {}'.format(len(df['disease'].drop_duplicates()))\n",
    "del df"
   ]
  },
  {
   "cell_type": "code",
   "execution_count": 36,
   "metadata": {
    "collapsed": false
   },
   "outputs": [
    {
     "name": "stdout",
     "output_type": "stream",
     "text": [
      "Counter({0: 101784, 1: 1362})\n",
      "total_association : 103146, feature 수 : 5365\n",
      "drug : 446\n",
      "disease : 235\n"
     ]
    }
   ],
   "source": [
    "df=pd.read_table(\"/DAS_Storage1/aschoi/data/Drug_Repositioning/8_new_training/PREDICT_data/2_1_gold_descriptor_combined.tsv\")\n",
    "print Counter(df['association'])\n",
    "print 'total_association : {}, feature 수 : {}'.format(df.shape[0], df.shape[1]-3)\n",
    "print 'drug : {}'.format(len(df['drug_id'].drop_duplicates()))\n",
    "print 'disease : {}'.format(len(df['disease_id'].drop_duplicates()))\n",
    "del df"
   ]
  },
  {
   "cell_type": "code",
   "execution_count": 37,
   "metadata": {
    "collapsed": false
   },
   "outputs": [
    {
     "name": "stdout",
     "output_type": "stream",
     "text": [
      "Counter({0: 8821, 1: 1362})\n",
      "total_association : 10183, feature 수 : 5365\n",
      "drug : 446\n",
      "disease : 235\n"
     ]
    }
   ],
   "source": [
    "df=pd.read_table(\"/DAS_Storage1/aschoi/data/Drug_Repositioning/8_new_training/PREDICT_data/3_1_tn_whole_descriptor_predict.tsv\")\n",
    "print Counter(df['association'])\n",
    "print 'total_association : {}, feature 수 : {}'.format(df.shape[0], df.shape[1]-3)\n",
    "print 'drug : {}'.format(len(df['drug_id'].drop_duplicates()))\n",
    "print 'disease : {}'.format(len(df['disease_id'].drop_duplicates()))\n",
    "del df"
   ]
  },
  {
   "cell_type": "code",
   "execution_count": 43,
   "metadata": {
    "collapsed": false
   },
   "outputs": [
    {
     "name": "stdout",
     "output_type": "stream",
     "text": [
      "Counter({0: 14282, 1: 1434})\n",
      "total_association : 15716, feature 수 : 5797\n",
      "drug : 471\n",
      "disease : 235\n"
     ]
    }
   ],
   "source": [
    "df=pd.read_table(\"/DAS_Storage1/aschoi/data/Drug_Repositioning/8_new_training/6_2_1_tn_whole_descriptor.tsv\")\n",
    "print Counter(df['association'])\n",
    "print 'total_association : {}, feature 수 : {}'.format(df.shape[0], df.shape[1]-3)\n",
    "print 'drug : {}'.format(len(df['drug_id'].drop_duplicates()))\n",
    "print 'disease : {}'.format(len(df['disease_id'].drop_duplicates()))\n",
    "del df"
   ]
  },
  {
   "cell_type": "code",
   "execution_count": 44,
   "metadata": {
    "collapsed": false
   },
   "outputs": [
    {
     "name": "stdout",
     "output_type": "stream",
     "text": [
      "Counter({0: 9286, 1: 1434})\n",
      "total_association : 10720, feature 수 : 5368\n",
      "drug : 471\n",
      "disease : 235\n"
     ]
    }
   ],
   "source": [
    "df=pd.read_table(\"/DAS_Storage1/aschoi/data/Drug_Repositioning/8_new_training/7_2_1_tn_whole_descriptor_removed.tsv\")\n",
    "print Counter(df['association'])\n",
    "print 'total_association : {}, feature 수 : {}'.format(df.shape[0], df.shape[1]-3)\n",
    "print 'drug : {}'.format(len(df['drug_id'].drop_duplicates()))\n",
    "print 'disease : {}'.format(len(df['disease_id'].drop_duplicates()))\n",
    "del df"
   ]
  },
  {
   "cell_type": "code",
   "execution_count": 45,
   "metadata": {
    "collapsed": false
   },
   "outputs": [
    {
     "name": "stdout",
     "output_type": "stream",
     "text": [
      "Counter({0: 19975, 1: 1362})\n",
      "total_association : 21337, feature 수 : 5365\n",
      "drug : 446\n",
      "disease : 235\n"
     ]
    }
   ],
   "source": [
    "df=pd.read_table(\"/DAS_Storage1/aschoi/data/Drug_Repositioning/8_new_training/PREDICT_data/3_1_tn_whole_descriptor_005_predict.tsv\")\n",
    "print Counter(df['association'])\n",
    "print 'total_association : {}, feature 수 : {}'.format(df.shape[0], df.shape[1]-3)\n",
    "print 'drug : {}'.format(len(df['drug_id'].drop_duplicates()))\n",
    "print 'disease : {}'.format(len(df['disease_id'].drop_duplicates()))\n",
    "del df"
   ]
  },
  {
   "cell_type": "code",
   "execution_count": 38,
   "metadata": {
    "collapsed": false
   },
   "outputs": [
    {
     "name": "stdout",
     "output_type": "stream",
     "text": [
      "Counter({0: 12887, 1: 1362})\n",
      "total_association : 14249, feature 수 : 5365\n",
      "drug : 446\n",
      "disease : 235\n"
     ]
    }
   ],
   "source": [
    "df=pd.read_table(\"/DAS_Storage1/aschoi/data/Drug_Repositioning/8_new_training/PREDICT_data/3_2_tn_local_descriptor_predict.tsv\")\n",
    "print Counter(df['association'])\n",
    "print 'total_association : {}, feature 수 : {}'.format(df.shape[0], df.shape[1]-3)\n",
    "print 'drug : {}'.format(len(df['drug_id'].drop_duplicates()))\n",
    "print 'disease : {}'.format(len(df['disease_id'].drop_duplicates()))\n",
    "del df"
   ]
  },
  {
   "cell_type": "code",
   "execution_count": 39,
   "metadata": {
    "collapsed": false
   },
   "outputs": [
    {
     "name": "stdout",
     "output_type": "stream",
     "text": [
      "Counter({0: 88897})\n",
      "total_association : 88897, feature 수 : 5365\n",
      "drug : 443\n",
      "disease : 235\n"
     ]
    }
   ],
   "source": [
    "df=pd.read_table(\"/DAS_Storage1/aschoi/data/Drug_Repositioning/8_new_training/PREDICT_data/3_2_2_noTN_local_descriptor_predict.tsv\")\n",
    "print Counter(df['association'])\n",
    "print 'total_association : {}, feature 수 : {}'.format(df.shape[0], df.shape[1]-3)\n",
    "print 'drug : {}'.format(len(df['drug_id'].drop_duplicates()))\n",
    "print 'disease : {}'.format(len(df['disease_id'].drop_duplicates()))\n",
    "del df"
   ]
  },
  {
   "cell_type": "code",
   "execution_count": 40,
   "metadata": {
    "collapsed": false
   },
   "outputs": [
    {
     "name": "stdout",
     "output_type": "stream",
     "text": [
      "Counter({0: 25774, 1: 1362})\n",
      "total_association : 27136, feature 수 : 5365\n",
      "drug : 446\n",
      "disease : 235\n"
     ]
    }
   ],
   "source": [
    "df=pd.read_table(\"/DAS_Storage1/aschoi/data/Drug_Repositioning/8_new_training/PREDICT_data/3_3_2_tn_local_noise_descriptor_predict.tsv\")\n",
    "print Counter(df['association'])\n",
    "print 'total_association : {}, feature 수 : {}'.format(df.shape[0], df.shape[1]-3)\n",
    "print 'drug : {}'.format(len(df['drug_id'].drop_duplicates()))\n",
    "print 'disease : {}'.format(len(df['disease_id'].drop_duplicates()))\n",
    "del df"
   ]
  },
  {
   "cell_type": "code",
   "execution_count": 25,
   "metadata": {
    "collapsed": false
   },
   "outputs": [
    {
     "name": "stdout",
     "output_type": "stream",
     "text": [
      "Counter({0: 6233, 1: 1362})\n",
      "total_association : 7595, feature 수 : 5365\n",
      "drug : 446\n",
      "disease : 235\n"
     ]
    }
   ],
   "source": [
    "df=pd.read_table(\"/DAS_Storage1/aschoi/data/Drug_Repositioning/8_new_training/PREDICT_data/4_1_tn_whole_descriptor_bayesian_predict.tsv\")\n",
    "print Counter(df['association'])\n",
    "print 'total_association : {}, feature 수 : {}'.format(df.shape[0], df.shape[1]-3)\n",
    "print 'drug : {}'.format(len(df['drug_id'].drop_duplicates()))\n",
    "print 'disease : {}'.format(len(df['disease_id'].drop_duplicates()))\n",
    "del df"
   ]
  },
  {
   "cell_type": "code",
   "execution_count": 26,
   "metadata": {
    "collapsed": false
   },
   "outputs": [
    {
     "name": "stdout",
     "output_type": "stream",
     "text": [
      "Counter({0: 11002, 1: 1362})\n",
      "total_association : 12364, feature 수 : 5365\n",
      "drug : 446\n",
      "disease : 235\n"
     ]
    }
   ],
   "source": [
    "df=pd.read_table(\"/DAS_Storage1/aschoi/data/Drug_Repositioning/8_new_training/PREDICT_data/4_2_tn_local_descriptor_bayesian_predict.tsv\")\n",
    "print Counter(df['association'])\n",
    "print 'total_association : {}, feature 수 : {}'.format(df.shape[0], df.shape[1]-3)\n",
    "print 'drug : {}'.format(len(df['drug_id'].drop_duplicates()))\n",
    "print 'disease : {}'.format(len(df['disease_id'].drop_duplicates()))\n",
    "del df"
   ]
  },
  {
   "cell_type": "code",
   "execution_count": 27,
   "metadata": {
    "collapsed": false
   },
   "outputs": [
    {
     "name": "stdout",
     "output_type": "stream",
     "text": [
      "Counter({0: 87632, 1: 1253})\n",
      "total_association : 88885, feature 수 : 5883\n",
      "drug : 390\n",
      "disease : 232\n"
     ]
    }
   ],
   "source": [
    "df=pd.read_table(\"/DAS_Storage1/aschoi/data/Drug_Repositioning/8_new_training/PREDICT_data/5_1_gold_indi_descriptor_combined.tsv\")\n",
    "print Counter(df['association'])\n",
    "print 'total_association : {}, feature 수 : {}'.format(df.shape[0], df.shape[1]-3)\n",
    "print 'drug : {}'.format(len(df['drug_id'].drop_duplicates()))\n",
    "print 'disease : {}'.format(len(df['disease_id'].drop_duplicates()))\n",
    "del df"
   ]
  },
  {
   "cell_type": "code",
   "execution_count": 28,
   "metadata": {
    "collapsed": false
   },
   "outputs": [
    {
     "name": "stdout",
     "output_type": "stream",
     "text": [
      "Counter({0: 98163, 1: 1330})\n",
      "total_association : 99493, feature 수 : 4\n",
      "drug : 434\n",
      "disease : 233\n"
     ]
    }
   ],
   "source": [
    "df=pd.read_table(\"/DAS_Storage1/aschoi/data/Drug_Repositioning/8_new_training/new_predict/2_3_gold_descriptor.tsv\")\n",
    "print Counter(df['association'])\n",
    "print 'total_association : {}, feature 수 : {}'.format(df.shape[0], df.shape[1]-3)\n",
    "print 'drug : {}'.format(len(df['drug_id'].drop_duplicates()))\n",
    "print 'disease : {}'.format(len(df['disease_id'].drop_duplicates()))\n",
    "del df"
   ]
  },
  {
   "cell_type": "code",
   "execution_count": 29,
   "metadata": {
    "collapsed": false
   },
   "outputs": [
    {
     "name": "stdout",
     "output_type": "stream",
     "text": [
      "Counter({0: 98163, 1: 1330})\n",
      "total_association : 99493, feature 수 : 5365\n",
      "drug : 434\n",
      "disease : 233\n"
     ]
    }
   ],
   "source": [
    "df=pd.read_table(\"/DAS_Storage1/aschoi/data/Drug_Repositioning/8_new_training/new_predict/feature_based/1_gold_descriptor.tsv\")\n",
    "print Counter(df['association'])\n",
    "print 'total_association : {}, feature 수 : {}'.format(df.shape[0], df.shape[1]-3)\n",
    "print 'drug : {}'.format(len(df['drug_id'].drop_duplicates()))\n",
    "print 'disease : {}'.format(len(df['disease_id'].drop_duplicates()))\n",
    "del df"
   ]
  },
  {
   "cell_type": "code",
   "execution_count": 41,
   "metadata": {
    "collapsed": false,
    "scrolled": true
   },
   "outputs": [
    {
     "name": "stdout",
     "output_type": "stream",
     "text": [
      "Counter({0: 98163, 1: 1330})\n",
      "total_association : 99493, feature 수 : 5531\n",
      "drug : 434\n",
      "disease : 233\n"
     ]
    }
   ],
   "source": [
    "df=pd.read_table(\"/DAS_Storage1/aschoi/data/Drug_Repositioning/8_new_training/new_predict/feature_based/3_gold_MACCS_descriptor.tsv\")\n",
    "print Counter(df['association'])\n",
    "print 'total_association : {}, feature 수 : {}'.format(df.shape[0], df.shape[1]-3)\n",
    "print 'drug : {}'.format(len(df['drug_id'].drop_duplicates()))\n",
    "print 'disease : {}'.format(len(df['disease_id'].drop_duplicates()))\n",
    "del df"
   ]
  },
  {
   "cell_type": "code",
   "execution_count": 49,
   "metadata": {
    "collapsed": false
   },
   "outputs": [
    {
     "name": "stdout",
     "output_type": "stream",
     "text": [
      "Counter({0: 12282, 1: 1330})\n",
      "total_association : 13612, feature 수 : 5531\n",
      "drug : 434\n",
      "disease : 233\n"
     ]
    }
   ],
   "source": [
    "df=pd.read_csv(\"/DAS_Storage1/aschoi/data/Drug_Repositioning/8_new_training/new_predict/feature_based/3_3_tn_MACCS_descriptor.tsv\")\n",
    "print Counter(df['association'])\n",
    "print 'total_association : {}, feature 수 : {}'.format(df.shape[0], df.shape[1]-3)\n",
    "print 'drug : {}'.format(len(df['drug_id'].drop_duplicates()))\n",
    "print 'disease : {}'.format(len(df['disease_id'].drop_duplicates()))\n",
    "del df"
   ]
  },
  {
   "cell_type": "code",
   "execution_count": 50,
   "metadata": {
    "collapsed": false
   },
   "outputs": [
    {
     "name": "stdout",
     "output_type": "stream",
     "text": [
      "Counter({0: 12306, 1: 1362})\n",
      "total_association : 13668, feature 수 : 5365\n",
      "drug : 446\n",
      "disease : 235\n"
     ]
    }
   ],
   "source": [
    "df=pd.read_table(\"/DAS_Storage1/aschoi/data/Drug_Repositioning/8_new_training/PREDICT_data/6_tn_local_norm_descriptor.tsv\")\n",
    "print Counter(df['association'])\n",
    "print 'total_association : {}, feature 수 : {}'.format(df.shape[0], df.shape[1]-3)\n",
    "print 'drug : {}'.format(len(df['drug_id'].drop_duplicates()))\n",
    "print 'disease : {}'.format(len(df['disease_id'].drop_duplicates()))\n",
    "del df"
   ]
  },
  {
   "cell_type": "code",
   "execution_count": null,
   "metadata": {
    "collapsed": true
   },
   "outputs": [],
   "source": [
    "df=pd.read_table(\"/DAS_Storage1/aschoi/data/Drug_Repositioning/8_new_training/\")\n",
    "print Counter(df['association'])\n",
    "print 'total_association : {}, feature 수 : {}'.format(df.shape[0], df.shape[1]-3)\n",
    "print 'drug : {}'.format(len(df['drug_id'].drop_duplicates()))\n",
    "print 'disease : {}'.format(len(df['disease_id'].drop_duplicates()))\n",
    "del df"
   ]
  },
  {
   "cell_type": "code",
   "execution_count": null,
   "metadata": {
    "collapsed": true
   },
   "outputs": [],
   "source": []
  },
  {
   "cell_type": "code",
   "execution_count": null,
   "metadata": {
    "collapsed": true
   },
   "outputs": [],
   "source": []
  }
 ],
 "metadata": {
  "kernelspec": {
   "display_name": "Python 2",
   "language": "python",
   "name": "python2"
  },
  "language_info": {
   "codemirror_mode": {
    "name": "ipython",
    "version": 2
   },
   "file_extension": ".py",
   "mimetype": "text/x-python",
   "name": "python",
   "nbconvert_exporter": "python",
   "pygments_lexer": "ipython2",
   "version": "2.7.6"
  }
 },
 "nbformat": 4,
 "nbformat_minor": 2
}
