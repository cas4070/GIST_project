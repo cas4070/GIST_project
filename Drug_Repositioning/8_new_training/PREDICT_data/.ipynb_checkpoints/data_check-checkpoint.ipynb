{
 "cells": [
  {
   "cell_type": "code",
   "execution_count": 1,
   "metadata": {
    "collapsed": true
   },
   "outputs": [],
   "source": [
    "import pandas as pd\n",
    "import numpy as np"
   ]
  },
  {
   "cell_type": "code",
   "execution_count": 5,
   "metadata": {
    "collapsed": true
   },
   "outputs": [],
   "source": [
    "original = pd.read_table(\"/DAS_Storage1/aschoi/data/Drug_Repositioning/7_new_association/PREDICT_data/2_2_gold_learning_asso.tsv\")"
   ]
  },
  {
   "cell_type": "code",
   "execution_count": 6,
   "metadata": {
    "collapsed": true
   },
   "outputs": [],
   "source": [
    "tn = pd.read_table(\"/DAS_Storage1/aschoi/data/Drug_Repositioning/8_new_training/PREDICT_data/3_1_tn_whole_descriptor_predict.tsv\")\n",
    "tn_b = pd.read_table(\"/DAS_Storage1/aschoi/data/Drug_Repositioning/8_new_training/PREDICT_data/4_1_tn_whole_descriptor_bayesian_predict.tsv\")\n",
    "tn_local = pd.read_table(\"/DAS_Storage1/aschoi/data/Drug_Repositioning/8_new_training/PREDICT_data/3_2_tn_local_descriptor.tsv\")\n",
    "tn_local_b = pd.read_table(\"/DAS_Storage1/aschoi/data/Drug_Repositioning/8_new_training/PREDICT_data/4_2_tn_local_descriptor_bayesian.tsv\")"
   ]
  },
  {
   "cell_type": "code",
   "execution_count": 7,
   "metadata": {
    "collapsed": false
   },
   "outputs": [
    {
     "name": "stdout",
     "output_type": "stream",
     "text": [
      "103146 1362 101784\n",
      "10183 1362 8821\n",
      "7595 1362 6233\n",
      "14249 1362 12887\n",
      "12364 1362 11002\n"
     ]
    },
    {
     "name": "stderr",
     "output_type": "stream",
     "text": [
      "/usr/local/lib/python2.7/dist-packages/ipykernel/__main__.py:5: UserWarning: Boolean Series key will be reindexed to match DataFrame index.\n"
     ]
    }
   ],
   "source": [
    "print len(original), len(original[original.association ==1]), len(original[original.association ==0])\n",
    "print len(tn), len(tn[tn.association ==1]), len(tn[tn.association ==0])\n",
    "print len(tn_b), len(tn_b[tn_b.association ==1]), len(tn_b[tn_b.association ==0])\n",
    "print len(tn_local), len(tn_local[tn_local.association ==1]), len(tn_local[tn_local.association ==0])\n",
    "print len(tn_local_b), len(tn_local_b[tn_local_b.association ==1]), len(tn_local_b[original.association ==0])"
   ]
  },
  {
   "cell_type": "code",
   "execution_count": 8,
   "metadata": {
    "collapsed": false
   },
   "outputs": [
    {
     "name": "stdout",
     "output_type": "stream",
     "text": [
      "446 235\n",
      "446 235\n",
      "446 235\n",
      "446 235\n",
      "446 235\n"
     ]
    }
   ],
   "source": [
    "print len(original.drop_duplicates('drug_id')), len(original.drop_duplicates('disease_id'))\n",
    "print len(tn.drop_duplicates('drug_id')), len(tn.drop_duplicates('disease_id'))\n",
    "print len(tn_b.drop_duplicates('drug_id')), len(tn_b.drop_duplicates('disease_id'))\n",
    "print len(tn_local.drop_duplicates('drug_id')), len(tn_local.drop_duplicates('disease_id'))\n",
    "print len(tn_local_b.drop_duplicates('drug_id')), len(tn_local_b.drop_duplicates('disease_id'))"
   ]
  },
  {
   "cell_type": "code",
   "execution_count": 9,
   "metadata": {
    "collapsed": true
   },
   "outputs": [],
   "source": [
    "p = original[original.association == 1]\n",
    "org_n = original[original.association == 0]\n",
    "tn_n = tn[tn.association == 0]\n",
    "tn_b_n = tn_b[tn_b.association ==0]\n",
    "tn_local_n = tn_local[tn_local.association ==0]\n",
    "tn_local_b_n = tn_local_b[tn_local_b.association ==0]"
   ]
  },
  {
   "cell_type": "code",
   "execution_count": 10,
   "metadata": {
    "collapsed": false
   },
   "outputs": [
    {
     "name": "stdout",
     "output_type": "stream",
     "text": [
      "446 235\n",
      "446 235\n",
      "131 88\n",
      "126 52\n",
      "446 235\n",
      "446 170\n"
     ]
    }
   ],
   "source": [
    "print len(p.drop_duplicates('drug_id')), len(p.drop_duplicates('disease_id'))\n",
    "print len(org_n.drop_duplicates('drug_id')), len(org_n.drop_duplicates('disease_id'))\n",
    "print len(tn_n.drop_duplicates('drug_id')), len(tn_n.drop_duplicates('disease_id'))\n",
    "print len(tn_b_n.drop_duplicates('drug_id')), len(tn_b_n.drop_duplicates('disease_id'))\n",
    "print len(tn_local_n.drop_duplicates('drug_id')), len(tn_local_n.drop_duplicates('disease_id'))\n",
    "print len(tn_local_b_n.drop_duplicates('drug_id')), len(tn_local_b_n.drop_duplicates('disease_id'))"
   ]
  },
  {
   "cell_type": "code",
   "execution_count": 11,
   "metadata": {
    "collapsed": true
   },
   "outputs": [],
   "source": [
    "gold_indi = pd.read_table(\"/DAS_Storage1/aschoi/data/Drug_Repositioning/8_new_training/PREDICT_data/5_1_gold_indi_descriptor_combined.tsv\")\n",
    "indi = pd.read_table(\"/DAS_Storage1/aschoi/data/Drug_Repositioning/8_new_training/PREDICT_data/5_2_indep_indi_descriptor.tsv\")"
   ]
  },
  {
   "cell_type": "code",
   "execution_count": 12,
   "metadata": {
    "collapsed": false
   },
   "outputs": [
    {
     "name": "stdout",
     "output_type": "stream",
     "text": [
      "1253 87632\n",
      "88 2277\n"
     ]
    }
   ],
   "source": [
    "print len(gold_indi[gold_indi.association == 1]), len(gold_indi[gold_indi.association == 0])\n",
    "print len(indi[indi.association == 1]), len(indi[indi.association == 0])"
   ]
  },
  {
   "cell_type": "code",
   "execution_count": 13,
   "metadata": {
    "collapsed": false
   },
   "outputs": [
    {
     "name": "stdout",
     "output_type": "stream",
     "text": [
      "390 232\n",
      "68 35\n"
     ]
    }
   ],
   "source": [
    "print len(gold_indi.drop_duplicates('drug_id')), len(gold_indi.drop_duplicates('disease_id'))\n",
    "print len(indi.drop_duplicates('drug_id')), len(indi.drop_duplicates('disease_id'))"
   ]
  },
  {
   "cell_type": "code",
   "execution_count": 19,
   "metadata": {
    "collapsed": false
   },
   "outputs": [
    {
     "name": "stdout",
     "output_type": "stream",
     "text": [
      "5883\n",
      "5883\n"
     ]
    }
   ],
   "source": [
    "print len(gold_indi.columns.values[3:])\n",
    "print len(indi.columns.values[3:])"
   ]
  },
  {
   "cell_type": "code",
   "execution_count": null,
   "metadata": {
    "collapsed": true
   },
   "outputs": [],
   "source": []
  }
 ],
 "metadata": {
  "kernelspec": {
   "display_name": "Python 2",
   "language": "python",
   "name": "python2"
  },
  "language_info": {
   "codemirror_mode": {
    "name": "ipython",
    "version": 2
   },
   "file_extension": ".py",
   "mimetype": "text/x-python",
   "name": "python",
   "nbconvert_exporter": "python",
   "pygments_lexer": "ipython2",
   "version": "2.7.6"
  }
 },
 "nbformat": 4,
 "nbformat_minor": 2
}
