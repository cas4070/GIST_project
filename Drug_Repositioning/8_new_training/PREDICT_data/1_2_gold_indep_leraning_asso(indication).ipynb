{
 "cells": [
  {
   "cell_type": "code",
   "execution_count": 1,
   "metadata": {
    "collapsed": true
   },
   "outputs": [],
   "source": [
    "import pandas as pd\n",
    "import numpy as numpy\n",
    "from itertools import product\n",
    "from datetime import datetime"
   ]
  },
  {
   "cell_type": "code",
   "execution_count": 2,
   "metadata": {
    "collapsed": true
   },
   "outputs": [],
   "source": [
    "asso = pd.read_table(\"/DAS_Storage1/aschoi/data/Drug_Repositioning/5_new_drug/sider_indication/3_4_gold_asso_indi_ver_indep_ver.tsv\")\n",
    "drug = pd.read_table(\"/DAS_Storage1/aschoi/data/Drug_Repositioning/5_new_drug/sider_indication/3_3_gold_indication_indep_ver.tsv\")\n",
    "indep = pd.read_table(\"/DAS_Storage1/aschoi/data/Drug_Repositioning/5_new_drug/sider_indication/4_2_indep_asso_indi_ver.tsv\")"
   ]
  },
  {
   "cell_type": "code",
   "execution_count": 3,
   "metadata": {
    "collapsed": false
   },
   "outputs": [
    {
     "name": "stdout",
     "output_type": "stream",
     "text": [
      "1253\n",
      "88\n"
     ]
    }
   ],
   "source": [
    "print len(asso)\n",
    "print len(indep)"
   ]
  },
  {
   "cell_type": "code",
   "execution_count": 4,
   "metadata": {
    "collapsed": true
   },
   "outputs": [],
   "source": [
    "gold_dr = asso['DrugBank_ID'].drop_duplicates()\n",
    "gold_di = asso['OMIM_ID'].drop_duplicates()\n",
    "indep_dr = indep['drug'].drop_duplicates()\n",
    "indep_di = indep['disease'].drop_duplicates()"
   ]
  },
  {
   "cell_type": "code",
   "execution_count": 5,
   "metadata": {
    "collapsed": false
   },
   "outputs": [
    {
     "name": "stdout",
     "output_type": "stream",
     "text": [
      "390\n",
      "232\n",
      "68\n",
      "35\n"
     ]
    }
   ],
   "source": [
    "print len(gold_dr)\n",
    "print len(gold_di)\n",
    "print len(indep_dr)\n",
    "print len(indep_di)"
   ]
  },
  {
   "cell_type": "code",
   "execution_count": 6,
   "metadata": {
    "collapsed": false
   },
   "outputs": [],
   "source": [
    "all_pair = pd.DataFrame(list(product(gold_dr, gold_di)), columns = ['drug_id', 'disease_id'])"
   ]
  },
  {
   "cell_type": "code",
   "execution_count": 7,
   "metadata": {
    "collapsed": false
   },
   "outputs": [
    {
     "name": "stdout",
     "output_type": "stream",
     "text": [
      "2380\n"
     ]
    },
    {
     "data": {
      "text/html": [
       "<div>\n",
       "<table border=\"1\" class=\"dataframe\">\n",
       "  <thead>\n",
       "    <tr style=\"text-align: right;\">\n",
       "      <th></th>\n",
       "      <th>drug_id</th>\n",
       "      <th>disease_id</th>\n",
       "      <th>association</th>\n",
       "    </tr>\n",
       "  </thead>\n",
       "  <tbody>\n",
       "    <tr>\n",
       "      <th>0</th>\n",
       "      <td>DB01200</td>\n",
       "      <td>102300</td>\n",
       "      <td>0</td>\n",
       "    </tr>\n",
       "  </tbody>\n",
       "</table>\n",
       "</div>"
      ],
      "text/plain": [
       "   drug_id  disease_id  association\n",
       "0  DB01200      102300            0"
      ]
     },
     "execution_count": 7,
     "metadata": {},
     "output_type": "execute_result"
    }
   ],
   "source": [
    "indep_all_pair = pd.DataFrame(list(product(indep_dr, indep_di)), columns = ['drug_id', 'disease_id'])\n",
    "print len(indep_all_pair)\n",
    "indep_all_pair['association'] = 0\n",
    "indep_all_pair.head(1)"
   ]
  },
  {
   "cell_type": "code",
   "execution_count": 8,
   "metadata": {
    "collapsed": false
   },
   "outputs": [],
   "source": [
    "# gold asso에 포함되어 있는 association independent에서 제거\n",
    "for index, row in indep_all_pair.iterrows():\n",
    "    dr_id = row['drug_id']\n",
    "    di_id = row['disease_id']\n",
    "    found = asso[(asso.DrugBank_ID == dr_id) & (asso.OMIM_ID == di_id)]\n",
    "    if found.empty:\n",
    "        continue\n",
    "    else:\n",
    "        indep_all_pair.loc[index, 'association'] = 2"
   ]
  },
  {
   "cell_type": "code",
   "execution_count": 9,
   "metadata": {
    "collapsed": false
   },
   "outputs": [
    {
     "name": "stdout",
     "output_type": "stream",
     "text": [
      "2380\n",
      "15\n",
      "2365\n"
     ]
    }
   ],
   "source": [
    "print len(indep_all_pair)\n",
    "print len(indep_all_pair[(indep_all_pair.association ==2)])\n",
    "indep_pair = indep_all_pair[~(indep_all_pair.association ==2)]\n",
    "print len(indep_pair)"
   ]
  },
  {
   "cell_type": "code",
   "execution_count": 10,
   "metadata": {
    "collapsed": false
   },
   "outputs": [
    {
     "name": "stderr",
     "output_type": "stream",
     "text": [
      "/usr/local/lib/python2.7/dist-packages/pandas/core/indexing.py:476: SettingWithCopyWarning: \n",
      "A value is trying to be set on a copy of a slice from a DataFrame.\n",
      "Try using .loc[row_indexer,col_indexer] = value instead\n",
      "\n",
      "See the caveats in the documentation: http://pandas.pydata.org/pandas-docs/stable/indexing.html#indexing-view-versus-copy\n",
      "  self.obj[item] = s\n"
     ]
    }
   ],
   "source": [
    "# positive 표시하기\n",
    "for index, row in indep.iterrows():\n",
    "    dr = row['drug']\n",
    "    di = row['disease']\n",
    "    found = indep_pair[(indep_pair.drug_id == dr) & (indep_pair.disease_id == di)]\n",
    "    indep_pair.loc[found.index, 'association'] = 1"
   ]
  },
  {
   "cell_type": "code",
   "execution_count": 11,
   "metadata": {
    "collapsed": false
   },
   "outputs": [
    {
     "name": "stdout",
     "output_type": "stream",
     "text": [
      "2365\n",
      "88\n",
      "2277\n",
      "68\n",
      "35\n"
     ]
    }
   ],
   "source": [
    "print len(indep_pair)\n",
    "print len(indep_pair[indep_pair.association ==1])\n",
    "print len(indep_pair[indep_pair.association ==0])\n",
    "print len(indep_pair.drop_duplicates('drug_id'))\n",
    "print len(indep_pair.drop_duplicates('disease_id'))"
   ]
  },
  {
   "cell_type": "code",
   "execution_count": null,
   "metadata": {
    "collapsed": false
   },
   "outputs": [],
   "source": [
    "temp = indep_pair[indep_pair['drug_id'].isin(gold_dr)] # independent data중 gold dr과 연관이 있는 association\n",
    "print len(temp.drop_duplicates('drug_id')) # \n",
    "print len(temp.drop_duplicates('disease_id'))\n",
    "print len(temp[temp.association ==1]) # 그 중 positive association의 수"
   ]
  },
  {
   "cell_type": "code",
   "execution_count": null,
   "metadata": {
    "collapsed": false
   },
   "outputs": [],
   "source": [
    "p = indep_pair[indep_pair.association ==1]\n",
    "n= indep_pair[indep_pair.association ==0]\n",
    "print len(n[n['drug_id'].isin(gold_dr)])\n",
    "print len(n[n['drug_id'].isin(gold_dr)].drop_duplicates('drug_id'))\n",
    "print len(n[~n['drug_id'].isin(gold_dr)])\n",
    "print len(n[~n['drug_id'].isin(gold_dr)].drop_duplicates('drug_id'))"
   ]
  },
  {
   "cell_type": "code",
   "execution_count": 12,
   "metadata": {
    "collapsed": true
   },
   "outputs": [],
   "source": [
    "indep_pair.to_csv(\"/DAS_Storage1/aschoi/data/Drug_Repositioning/7_new_association/PREDICT_data/7_2_indep_learning_asso_indi.tsv\", sep='\\t', index=False)\n",
    "indep_pair.to_csv(\"/home/share/aschoi/nas/users/asolchoi/data/Drug_Repositioning/7_new_association/PREDICT_data/7_2_indep_learning_asso_indi.tsv\", sep='\\t', index=False)"
   ]
  },
  {
   "cell_type": "code",
   "execution_count": 13,
   "metadata": {
    "collapsed": false
   },
   "outputs": [
    {
     "name": "stdout",
     "output_type": "stream",
     "text": [
      "90480\n",
      "2365\n"
     ]
    }
   ],
   "source": [
    "print len(all_pair)\n",
    "print len(indep_pair)"
   ]
  },
  {
   "cell_type": "code",
   "execution_count": 14,
   "metadata": {
    "collapsed": false
   },
   "outputs": [
    {
     "name": "stdout",
     "output_type": "stream",
     "text": [
      "90480\n",
      "start : 2017-03-28 00:17:00\n",
      "cnt : 10000  2017-03-28 00:17:37\n",
      "cnt : 20000  2017-03-28 00:18:14\n",
      "cnt : 30000  2017-03-28 00:18:53\n",
      "cnt : 40000  2017-03-28 00:19:34\n",
      "cnt : 50000  2017-03-28 00:20:20\n",
      "cnt : 60000  2017-03-28 00:21:07\n",
      "cnt : 70000  2017-03-28 00:21:56\n",
      "cnt : 80000  2017-03-28 00:22:46\n",
      "cnt : 90000  2017-03-28 00:23:37\n",
      "end : 2017-03-28 00:23:40\n",
      "87632\n"
     ]
    }
   ],
   "source": [
    "neg = pd.DataFrame()\n",
    "print len(all_pair)\n",
    "cnt = 0\n",
    "print \"start : \" + datetime.now().strftime('%Y-%m-%d %H:%M:%S')\n",
    "for index, row in all_pair.iterrows():\n",
    "    dr_id = row['drug_id']\n",
    "    di_id = row['disease_id']\n",
    "    found = asso[(asso.DrugBank_ID == dr_id) & (asso.OMIM_ID == di_id)] # asso는 gold positive\n",
    "    found2 = indep_pair[(indep_pair.drug_id == dr_id) & (indep_pair.disease_id == di_id)] # indep의 모든 association\n",
    "    if found.empty & found2.empty:\n",
    "        neg = neg.append(row)\n",
    "    cnt = cnt + 1\n",
    "    if cnt % 10000 ==0:\n",
    "        print \"cnt : {}  \".format(cnt) + datetime.now().strftime('%Y-%m-%d %H:%M:%S')\n",
    "print \"end : \" + datetime.now().strftime('%Y-%m-%d %H:%M:%S')\n",
    "print len(neg)"
   ]
  },
  {
   "cell_type": "code",
   "execution_count": 15,
   "metadata": {
    "collapsed": false
   },
   "outputs": [],
   "source": [
    "asso = asso.rename(columns={'DrugBank_ID':'drug_id', 'OMIM_ID':'disease_id'})"
   ]
  },
  {
   "cell_type": "code",
   "execution_count": 16,
   "metadata": {
    "collapsed": false
   },
   "outputs": [
    {
     "data": {
      "text/html": [
       "<div>\n",
       "<table border=\"1\" class=\"dataframe\">\n",
       "  <thead>\n",
       "    <tr style=\"text-align: right;\">\n",
       "      <th></th>\n",
       "      <th>drug_id</th>\n",
       "      <th>disease_id</th>\n",
       "    </tr>\n",
       "  </thead>\n",
       "  <tbody>\n",
       "    <tr>\n",
       "      <th>0</th>\n",
       "      <td>DB00659</td>\n",
       "      <td>103780</td>\n",
       "    </tr>\n",
       "    <tr>\n",
       "      <th>1</th>\n",
       "      <td>DB01193</td>\n",
       "      <td>608622</td>\n",
       "    </tr>\n",
       "  </tbody>\n",
       "</table>\n",
       "</div>"
      ],
      "text/plain": [
       "   drug_id  disease_id\n",
       "0  DB00659      103780\n",
       "1  DB01193      608622"
      ]
     },
     "execution_count": 16,
     "metadata": {},
     "output_type": "execute_result"
    }
   ],
   "source": [
    "asso.head(2)"
   ]
  },
  {
   "cell_type": "code",
   "execution_count": 17,
   "metadata": {
    "collapsed": false
   },
   "outputs": [
    {
     "data": {
      "text/html": [
       "<div>\n",
       "<table border=\"1\" class=\"dataframe\">\n",
       "  <thead>\n",
       "    <tr style=\"text-align: right;\">\n",
       "      <th></th>\n",
       "      <th>disease_id</th>\n",
       "      <th>drug_id</th>\n",
       "    </tr>\n",
       "  </thead>\n",
       "  <tbody>\n",
       "    <tr>\n",
       "      <th>1</th>\n",
       "      <td>608622.0</td>\n",
       "      <td>DB00659</td>\n",
       "    </tr>\n",
       "    <tr>\n",
       "      <th>2</th>\n",
       "      <td>161900.0</td>\n",
       "      <td>DB00659</td>\n",
       "    </tr>\n",
       "  </tbody>\n",
       "</table>\n",
       "</div>"
      ],
      "text/plain": [
       "   disease_id  drug_id\n",
       "1    608622.0  DB00659\n",
       "2    161900.0  DB00659"
      ]
     },
     "execution_count": 17,
     "metadata": {},
     "output_type": "execute_result"
    }
   ],
   "source": [
    "neg.head(2)"
   ]
  },
  {
   "cell_type": "code",
   "execution_count": 18,
   "metadata": {
    "collapsed": true
   },
   "outputs": [],
   "source": [
    "int_di = list()\n",
    "for i in neg['disease_id']:\n",
    "    int_di.append(int(i))"
   ]
  },
  {
   "cell_type": "code",
   "execution_count": 19,
   "metadata": {
    "collapsed": false
   },
   "outputs": [
    {
     "data": {
      "text/html": [
       "<div>\n",
       "<table border=\"1\" class=\"dataframe\">\n",
       "  <thead>\n",
       "    <tr style=\"text-align: right;\">\n",
       "      <th></th>\n",
       "      <th>disease_id</th>\n",
       "      <th>drug_id</th>\n",
       "    </tr>\n",
       "  </thead>\n",
       "  <tbody>\n",
       "    <tr>\n",
       "      <th>1</th>\n",
       "      <td>608622</td>\n",
       "      <td>DB00659</td>\n",
       "    </tr>\n",
       "    <tr>\n",
       "      <th>2</th>\n",
       "      <td>161900</td>\n",
       "      <td>DB00659</td>\n",
       "    </tr>\n",
       "  </tbody>\n",
       "</table>\n",
       "</div>"
      ],
      "text/plain": [
       "   disease_id  drug_id\n",
       "1      608622  DB00659\n",
       "2      161900  DB00659"
      ]
     },
     "execution_count": 19,
     "metadata": {},
     "output_type": "execute_result"
    }
   ],
   "source": [
    "neg['disease_id'] = int_di\n",
    "neg.head(2)"
   ]
  },
  {
   "cell_type": "code",
   "execution_count": 20,
   "metadata": {
    "collapsed": true
   },
   "outputs": [],
   "source": [
    "asso['association'] = 1\n",
    "neg['association'] = 0"
   ]
  },
  {
   "cell_type": "code",
   "execution_count": 21,
   "metadata": {
    "collapsed": false
   },
   "outputs": [
    {
     "name": "stdout",
     "output_type": "stream",
     "text": [
      "88885\n",
      "88885\n",
      "390\n",
      "232\n",
      "1253\n",
      "87632\n"
     ]
    }
   ],
   "source": [
    "learning_asso = pd.concat([asso, neg])\n",
    "print len(learning_asso)\n",
    "print len(learning_asso.drop_duplicates())\n",
    "print len(learning_asso.drop_duplicates('drug_id'))\n",
    "print len(learning_asso.drop_duplicates('disease_id'))\n",
    "print len(learning_asso[learning_asso.association ==1])\n",
    "print len(learning_asso[learning_asso.association ==0])"
   ]
  },
  {
   "cell_type": "code",
   "execution_count": 22,
   "metadata": {
    "collapsed": false
   },
   "outputs": [],
   "source": [
    "learning_asso.to_csv(\"/home/share/aschoi/nas/users/asolchoi/data/Drug_Repositioning/7_new_association/PREDICT_data/6_3_gold_learning_asso_indi.tsv\", sep='\\t', index=False)\n",
    "learning_asso.to_csv(\"/DAS_Storage1/aschoi/data/Drug_Repositioning/7_new_association/PREDICT_data/6_3_gold_learning_asso_indi.tsv\", sep='\\t', index=False)"
   ]
  }
 ],
 "metadata": {
  "kernelspec": {
   "display_name": "Python 2",
   "language": "python",
   "name": "python2"
  },
  "language_info": {
   "codemirror_mode": {
    "name": "ipython",
    "version": 2
   },
   "file_extension": ".py",
   "mimetype": "text/x-python",
   "name": "python",
   "nbconvert_exporter": "python",
   "pygments_lexer": "ipython2",
   "version": "2.7.6"
  }
 },
 "nbformat": 4,
 "nbformat_minor": 2
}
