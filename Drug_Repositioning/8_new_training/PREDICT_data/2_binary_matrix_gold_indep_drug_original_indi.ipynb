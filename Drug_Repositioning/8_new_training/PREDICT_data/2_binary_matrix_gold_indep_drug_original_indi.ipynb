{
 "cells": [
  {
   "cell_type": "code",
   "execution_count": 1,
   "metadata": {
    "collapsed": true
   },
   "outputs": [],
   "source": [
    "import pandas as pd\n",
    "import numpy as np\n",
    "from itertools import product\n",
    "from datetime import datetime"
   ]
  },
  {
   "cell_type": "code",
   "execution_count": 8,
   "metadata": {
    "collapsed": false
   },
   "outputs": [],
   "source": [
    "gold_asso = pd.read_table(\"/DAS_Storage1/aschoi/data/Drug_Repositioning/7_new_association/PREDICT_data/2_2_gold_learning_asso.tsv\")\n",
    "indep_asso = pd.read_table(\"/DAS_Storage1/aschoi/data/Drug_Repositioning/7_new_association/PREDICT_data/3_2_indep_learning_asso.tsv\")"
   ]
  },
  {
   "cell_type": "code",
   "execution_count": 6,
   "metadata": {
    "collapsed": false
   },
   "outputs": [
    {
     "name": "stdout",
     "output_type": "stream",
     "text": [
      "103146\n",
      "1362\n",
      "101784\n"
     ]
    }
   ],
   "source": [
    "print len(gold_asso)\n",
    "print len(gold_asso[gold_asso.association ==1])\n",
    "print len(gold_asso[gold_asso.association ==0])"
   ]
  },
  {
   "cell_type": "code",
   "execution_count": 19,
   "metadata": {
    "collapsed": true
   },
   "outputs": [],
   "source": [
    "drug_se = pd.read_table(\"/DAS_Storage1/aschoi/data/Drug_Repositioning/5_new_drug/PREDICT_data/4_gold_se_by_indep.tsv\")\n",
    "indep_se = pd.read_table(\"/DAS_Storage1/aschoi/data/Drug_Repositioning/5_new_drug/PREDICT_data/3_indep_drug_se.tsv\")\n",
    "di_ge = pd.read_table(\"/DAS_Storage1/aschoi/data/Drug_Repositioning/6_new_disease/8_gold_standard_disease_binary_matrix.tsv\", index_col = 0)"
   ]
  },
  {
   "cell_type": "code",
   "execution_count": 11,
   "metadata": {
    "collapsed": false
   },
   "outputs": [
    {
     "data": {
      "text/html": [
       "<div>\n",
       "<table border=\"1\" class=\"dataframe\">\n",
       "  <thead>\n",
       "    <tr style=\"text-align: right;\">\n",
       "      <th></th>\n",
       "      <th>DrugBank_ID</th>\n",
       "      <th>umls_id</th>\n",
       "      <th>event</th>\n",
       "    </tr>\n",
       "  </thead>\n",
       "  <tbody>\n",
       "    <tr>\n",
       "      <th>0</th>\n",
       "      <td>DB00215</td>\n",
       "      <td>C0000737</td>\n",
       "      <td>Abdominal pain</td>\n",
       "    </tr>\n",
       "    <tr>\n",
       "      <th>1</th>\n",
       "      <td>DB00215</td>\n",
       "      <td>C0000786</td>\n",
       "      <td>Abortion spontaneous</td>\n",
       "    </tr>\n",
       "  </tbody>\n",
       "</table>\n",
       "</div>"
      ],
      "text/plain": [
       "  DrugBank_ID   umls_id                 event\n",
       "0     DB00215  C0000737        Abdominal pain\n",
       "1     DB00215  C0000786  Abortion spontaneous"
      ]
     },
     "execution_count": 11,
     "metadata": {},
     "output_type": "execute_result"
    }
   ],
   "source": [
    "drug_se.head(2)"
   ]
  },
  {
   "cell_type": "code",
   "execution_count": 20,
   "metadata": {
    "collapsed": false
   },
   "outputs": [
    {
     "name": "stdout",
     "output_type": "stream",
     "text": [
      "1844\n",
      "1844\n"
     ]
    }
   ],
   "source": [
    "print len(drug_se['umls_id'].drop_duplicates())\n",
    "print len(indep_se['umls_id'].drop_duplicates())"
   ]
  },
  {
   "cell_type": "code",
   "execution_count": null,
   "metadata": {
    "collapsed": true
   },
   "outputs": [],
   "source": [
    "drug-se binary matrix 만들기"
   ]
  },
  {
   "cell_type": "code",
   "execution_count": 33,
   "metadata": {
    "collapsed": false
   },
   "outputs": [],
   "source": [
    "umls_ids = drug_se['umls_id'].sort_values().drop_duplicates()\n",
    "gold_drug = drug_se['DrugBank_ID'].drop_duplicates()\n",
    "indep_drug = indep_se['DrugBank_ID'].drop_duplicates()"
   ]
  },
  {
   "cell_type": "code",
   "execution_count": 32,
   "metadata": {
    "collapsed": false
   },
   "outputs": [
    {
     "name": "stdout",
     "output_type": "stream",
     "text": [
      "1844\n"
     ]
    },
    {
     "data": {
      "text/html": [
       "<div>\n",
       "<table border=\"1\" class=\"dataframe\">\n",
       "  <thead>\n",
       "    <tr style=\"text-align: right;\">\n",
       "      <th></th>\n",
       "      <th>DB00215</th>\n",
       "      <th>DB01327</th>\n",
       "      <th>DB00537</th>\n",
       "      <th>DB00175</th>\n",
       "      <th>DB00181</th>\n",
       "      <th>DB00257</th>\n",
       "      <th>DB00343</th>\n",
       "      <th>DB01128</th>\n",
       "      <th>DB00678</th>\n",
       "      <th>DB00808</th>\n",
       "      <th>...</th>\n",
       "      <th>DB01033</th>\n",
       "      <th>DB01254</th>\n",
       "      <th>DB01261</th>\n",
       "      <th>DB00323</th>\n",
       "      <th>DB00287</th>\n",
       "      <th>DB00905</th>\n",
       "      <th>DB01088</th>\n",
       "      <th>DB01268</th>\n",
       "      <th>DB09026</th>\n",
       "      <th>DB01590</th>\n",
       "    </tr>\n",
       "  </thead>\n",
       "  <tbody>\n",
       "    <tr>\n",
       "      <th>C0000727</th>\n",
       "      <td>0</td>\n",
       "      <td>0</td>\n",
       "      <td>0</td>\n",
       "      <td>0</td>\n",
       "      <td>0</td>\n",
       "      <td>0</td>\n",
       "      <td>0</td>\n",
       "      <td>0</td>\n",
       "      <td>0</td>\n",
       "      <td>0</td>\n",
       "      <td>...</td>\n",
       "      <td>0</td>\n",
       "      <td>0</td>\n",
       "      <td>0</td>\n",
       "      <td>0</td>\n",
       "      <td>0</td>\n",
       "      <td>0</td>\n",
       "      <td>0</td>\n",
       "      <td>0</td>\n",
       "      <td>0</td>\n",
       "      <td>0</td>\n",
       "    </tr>\n",
       "  </tbody>\n",
       "</table>\n",
       "<p>1 rows × 446 columns</p>\n",
       "</div>"
      ],
      "text/plain": [
       "          DB00215  DB01327  DB00537  DB00175  DB00181  DB00257  DB00343  \\\n",
       "C0000727        0        0        0        0        0        0        0   \n",
       "\n",
       "          DB01128  DB00678  DB00808   ...     DB01033  DB01254  DB01261  \\\n",
       "C0000727        0        0        0   ...           0        0        0   \n",
       "\n",
       "          DB00323  DB00287  DB00905  DB01088  DB01268  DB09026  DB01590  \n",
       "C0000727        0        0        0        0        0        0        0  \n",
       "\n",
       "[1 rows x 446 columns]"
      ]
     },
     "execution_count": 32,
     "metadata": {},
     "output_type": "execute_result"
    }
   ],
   "source": [
    "binary_drug = pd.DataFrame(columns=gold_drug.tolist(), index=umls_ids.tolist())\n",
    "binary_drug = binary_drug.fillna(0)\n",
    "print len(binary_drug)\n",
    "binary_drug.head(1)"
   ]
  },
  {
   "cell_type": "code",
   "execution_count": 47,
   "metadata": {
    "collapsed": true
   },
   "outputs": [],
   "source": [
    "f = lambda x: 1 if x else 0\n",
    "    \n",
    "for dg_id in gold_drug:\n",
    "    dg_df = drug_se[drug_se.DrugBank_ID == dg_id]\n",
    "    umls_id = dg_df['umls_id']\n",
    "    flags = umls_ids.isin(umls_id)\n",
    "    oz_flags = map(f, flags)\n",
    "    binary_drug[dg_id] = oz_flags"
   ]
  },
  {
   "cell_type": "code",
   "execution_count": 43,
   "metadata": {
    "collapsed": false
   },
   "outputs": [],
   "source": [
    "binary_drug.to_csv(\"/DAS_Storage1/aschoi/data/Drug_Repositioning/5_new_drug/PREDICT_data/4_2_gold_se_by_indep_matrix.tsv\", sep='\\t')\n",
    "binary_drug.to_csv(\"/home/share/aschoi/nas/users/asolchoi/data/Drug_Repositioning/5_new_drug/PREDICT_data/4_2_gold_se_by_indep_matrix.tsv\", sep='\\t')"
   ]
  },
  {
   "cell_type": "code",
   "execution_count": null,
   "metadata": {
    "collapsed": true
   },
   "outputs": [],
   "source": [
    "indep drug-se binary matrix 만들기"
   ]
  },
  {
   "cell_type": "code",
   "execution_count": 44,
   "metadata": {
    "collapsed": false
   },
   "outputs": [
    {
     "name": "stdout",
     "output_type": "stream",
     "text": [
      "1844\n"
     ]
    },
    {
     "data": {
      "text/html": [
       "<div>\n",
       "<table border=\"1\" class=\"dataframe\">\n",
       "  <thead>\n",
       "    <tr style=\"text-align: right;\">\n",
       "      <th></th>\n",
       "      <th>DB00125</th>\n",
       "      <th>DB00136</th>\n",
       "      <th>DB00153</th>\n",
       "      <th>DB00176</th>\n",
       "      <th>DB00193</th>\n",
       "      <th>DB00195</th>\n",
       "      <th>DB00253</th>\n",
       "      <th>DB00280</th>\n",
       "      <th>DB00283</th>\n",
       "      <th>DB00286</th>\n",
       "      <th>...</th>\n",
       "      <th>DB01195</th>\n",
       "      <th>DB01200</th>\n",
       "      <th>DB01210</th>\n",
       "      <th>DB01254</th>\n",
       "      <th>DB01393</th>\n",
       "      <th>DB01399</th>\n",
       "      <th>DB01410</th>\n",
       "      <th>DB01586</th>\n",
       "      <th>DB01611</th>\n",
       "      <th>DB01620</th>\n",
       "    </tr>\n",
       "  </thead>\n",
       "  <tbody>\n",
       "    <tr>\n",
       "      <th>C0000727</th>\n",
       "      <td>0</td>\n",
       "      <td>0</td>\n",
       "      <td>0</td>\n",
       "      <td>0</td>\n",
       "      <td>0</td>\n",
       "      <td>0</td>\n",
       "      <td>0</td>\n",
       "      <td>0</td>\n",
       "      <td>0</td>\n",
       "      <td>0</td>\n",
       "      <td>...</td>\n",
       "      <td>0</td>\n",
       "      <td>0</td>\n",
       "      <td>0</td>\n",
       "      <td>0</td>\n",
       "      <td>0</td>\n",
       "      <td>0</td>\n",
       "      <td>0</td>\n",
       "      <td>0</td>\n",
       "      <td>0</td>\n",
       "      <td>0</td>\n",
       "    </tr>\n",
       "  </tbody>\n",
       "</table>\n",
       "<p>1 rows × 73 columns</p>\n",
       "</div>"
      ],
      "text/plain": [
       "          DB00125  DB00136  DB00153  DB00176  DB00193  DB00195  DB00253  \\\n",
       "C0000727        0        0        0        0        0        0        0   \n",
       "\n",
       "          DB00280  DB00283  DB00286   ...     DB01195  DB01200  DB01210  \\\n",
       "C0000727        0        0        0   ...           0        0        0   \n",
       "\n",
       "          DB01254  DB01393  DB01399  DB01410  DB01586  DB01611  DB01620  \n",
       "C0000727        0        0        0        0        0        0        0  \n",
       "\n",
       "[1 rows x 73 columns]"
      ]
     },
     "execution_count": 44,
     "metadata": {},
     "output_type": "execute_result"
    }
   ],
   "source": [
    "binary_indep = pd.DataFrame(columns=indep_drug.tolist(), index = umls_ids.tolist())\n",
    "binary_indep = binary_indep.fillna(0)\n",
    "print len(binary_indep)\n",
    "binary_indep.head(1)"
   ]
  },
  {
   "cell_type": "code",
   "execution_count": 46,
   "metadata": {
    "collapsed": true
   },
   "outputs": [],
   "source": [
    "f = lambda x: 1 if x else 0\n",
    "    \n",
    "for dg_id in indep_drug:\n",
    "    dg_df = indep_se[indep_se.DrugBank_ID == dg_id]\n",
    "    umls_id = dg_df['umls_id']\n",
    "    flags = umls_ids.isin(umls_id)\n",
    "    oz_flags = map(f, flags)\n",
    "    binary_indep[dg_id] = oz_flags"
   ]
  },
  {
   "cell_type": "code",
   "execution_count": 49,
   "metadata": {
    "collapsed": false
   },
   "outputs": [],
   "source": [
    "binary_indep.to_csv(\"/DAS_Storage1/aschoi/data/Drug_Repositioning/5_new_drug/PREDICT_data/3_indep_drug_se_matrix.tsv\", sep='\\t')\n",
    "binary_indep.to_csv(\"/home/share/aschoi/nas/users/asolchoi/data/Drug_Repositioning/5_new_drug/PREDICT_data/3_indep_drug_se_matrix.tsv\", sep='\\t')"
   ]
  },
  {
   "cell_type": "code",
   "execution_count": null,
   "metadata": {
    "collapsed": true
   },
   "outputs": [],
   "source": [
    "drug-indication binary matrix 만들기"
   ]
  },
  {
   "cell_type": "code",
   "execution_count": 2,
   "metadata": {
    "collapsed": true
   },
   "outputs": [],
   "source": [
    "gold_asso = pd.read_table(\"/DAS_Storage1/aschoi/data/Drug_Repositioning/7_new_association/PREDICT_data/6_3_gold_learning_asso_indi.tsv\")\n",
    "indep_asso = pd.read_table(\"/DAS_Storage1/aschoi/data/Drug_Repositioning/7_new_association/PREDICT_data/7_2_indep_learning_asso_indi.tsv\")"
   ]
  },
  {
   "cell_type": "code",
   "execution_count": 3,
   "metadata": {
    "collapsed": false
   },
   "outputs": [
    {
     "name": "stdout",
     "output_type": "stream",
     "text": [
      "88885\n",
      "1253\n",
      "87632\n"
     ]
    }
   ],
   "source": [
    "print len(gold_asso)\n",
    "print len(gold_asso[gold_asso.association ==1])\n",
    "print len(gold_asso[gold_asso.association ==0])"
   ]
  },
  {
   "cell_type": "code",
   "execution_count": 4,
   "metadata": {
    "collapsed": true
   },
   "outputs": [],
   "source": [
    "drug_indi = pd.read_table(\"/DAS_Storage1/aschoi/data/Drug_Repositioning/5_new_drug/sider_indication/3_3_gold_indication_indep_ver.tsv\")\n",
    "indep_indi = pd.read_table(\"/DAS_Storage1/aschoi/data/Drug_Repositioning/5_new_drug/sider_indication/4_indep_indication.tsv\")"
   ]
  },
  {
   "cell_type": "code",
   "execution_count": 6,
   "metadata": {
    "collapsed": false
   },
   "outputs": [
    {
     "data": {
      "text/html": [
       "<div>\n",
       "<table border=\"1\" class=\"dataframe\">\n",
       "  <thead>\n",
       "    <tr style=\"text-align: right;\">\n",
       "      <th></th>\n",
       "      <th>DrugBank_ID</th>\n",
       "      <th>UMLS_concept_id_for_MedDRA</th>\n",
       "      <th>MedDRA_concept_name</th>\n",
       "    </tr>\n",
       "  </thead>\n",
       "  <tbody>\n",
       "    <tr>\n",
       "      <th>0</th>\n",
       "      <td>DB00958</td>\n",
       "      <td>C0002792</td>\n",
       "      <td>Anaphylactic shock</td>\n",
       "    </tr>\n",
       "    <tr>\n",
       "      <th>1</th>\n",
       "      <td>DB00958</td>\n",
       "      <td>C0006118</td>\n",
       "      <td>Brain neoplasm</td>\n",
       "    </tr>\n",
       "  </tbody>\n",
       "</table>\n",
       "</div>"
      ],
      "text/plain": [
       "  DrugBank_ID UMLS_concept_id_for_MedDRA MedDRA_concept_name\n",
       "0     DB00958                   C0002792  Anaphylactic shock\n",
       "1     DB00958                   C0006118      Brain neoplasm"
      ]
     },
     "execution_count": 6,
     "metadata": {},
     "output_type": "execute_result"
    }
   ],
   "source": [
    "drug_indi.head(2)"
   ]
  },
  {
   "cell_type": "code",
   "execution_count": 8,
   "metadata": {
    "collapsed": false
   },
   "outputs": [
    {
     "name": "stdout",
     "output_type": "stream",
     "text": [
      "518\n",
      "557\n"
     ]
    }
   ],
   "source": [
    "print len(drug_indi['UMLS_concept_id_for_MedDRA'].drop_duplicates())\n",
    "print len(indep_indi['UMLS_concept_id_for_MedDRA'].drop_duplicates())"
   ]
  },
  {
   "cell_type": "code",
   "execution_count": 18,
   "metadata": {
    "collapsed": false
   },
   "outputs": [],
   "source": [
    "umls_ids = drug_indi['UMLS_concept_id_for_MedDRA'].drop_duplicates().sort_values().drop_duplicates()\n",
    "gold_drug = drug_indi['DrugBank_ID'].drop_duplicates()\n",
    "indep_drug = indep_indi['DrugBank_ID'].drop_duplicates()"
   ]
  },
  {
   "cell_type": "code",
   "execution_count": 19,
   "metadata": {
    "collapsed": false
   },
   "outputs": [
    {
     "name": "stdout",
     "output_type": "stream",
     "text": [
      "518\n"
     ]
    },
    {
     "data": {
      "text/html": [
       "<div>\n",
       "<table border=\"1\" class=\"dataframe\">\n",
       "  <thead>\n",
       "    <tr style=\"text-align: right;\">\n",
       "      <th></th>\n",
       "      <th>DB00958</th>\n",
       "      <th>DB00559</th>\n",
       "      <th>DB00320</th>\n",
       "      <th>DB00165</th>\n",
       "      <th>DB00790</th>\n",
       "      <th>DB01577</th>\n",
       "      <th>DB00583</th>\n",
       "      <th>DB00820</th>\n",
       "      <th>DB03904</th>\n",
       "      <th>DB01267</th>\n",
       "      <th>...</th>\n",
       "      <th>DB00998</th>\n",
       "      <th>DB00216</th>\n",
       "      <th>DB00307</th>\n",
       "      <th>DB00180</th>\n",
       "      <th>DB00696</th>\n",
       "      <th>DB00353</th>\n",
       "      <th>DB01378</th>\n",
       "      <th>DB00627</th>\n",
       "      <th>DB01223</th>\n",
       "      <th>DB00324</th>\n",
       "    </tr>\n",
       "  </thead>\n",
       "  <tbody>\n",
       "    <tr>\n",
       "      <th>C0000731</th>\n",
       "      <td>0</td>\n",
       "      <td>0</td>\n",
       "      <td>0</td>\n",
       "      <td>0</td>\n",
       "      <td>0</td>\n",
       "      <td>0</td>\n",
       "      <td>0</td>\n",
       "      <td>0</td>\n",
       "      <td>0</td>\n",
       "      <td>0</td>\n",
       "      <td>...</td>\n",
       "      <td>0</td>\n",
       "      <td>0</td>\n",
       "      <td>0</td>\n",
       "      <td>0</td>\n",
       "      <td>0</td>\n",
       "      <td>0</td>\n",
       "      <td>0</td>\n",
       "      <td>0</td>\n",
       "      <td>0</td>\n",
       "      <td>0</td>\n",
       "    </tr>\n",
       "  </tbody>\n",
       "</table>\n",
       "<p>1 rows × 390 columns</p>\n",
       "</div>"
      ],
      "text/plain": [
       "          DB00958  DB00559  DB00320  DB00165  DB00790  DB01577  DB00583  \\\n",
       "C0000731        0        0        0        0        0        0        0   \n",
       "\n",
       "          DB00820  DB03904  DB01267   ...     DB00998  DB00216  DB00307  \\\n",
       "C0000731        0        0        0   ...           0        0        0   \n",
       "\n",
       "          DB00180  DB00696  DB00353  DB01378  DB00627  DB01223  DB00324  \n",
       "C0000731        0        0        0        0        0        0        0  \n",
       "\n",
       "[1 rows x 390 columns]"
      ]
     },
     "execution_count": 19,
     "metadata": {},
     "output_type": "execute_result"
    }
   ],
   "source": [
    "binary_drug = pd.DataFrame(columns=gold_drug.tolist(), index=umls_ids.tolist())\n",
    "binary_drug = binary_drug.fillna(0)\n",
    "print len(binary_drug)\n",
    "binary_drug.head(1)"
   ]
  },
  {
   "cell_type": "code",
   "execution_count": 22,
   "metadata": {
    "collapsed": false
   },
   "outputs": [],
   "source": [
    "f = lambda x: 1 if x else 0\n",
    "    \n",
    "for dg_id in gold_drug:\n",
    "    dg_df = drug_indi[drug_indi.DrugBank_ID == dg_id]\n",
    "    umls_id = dg_df['UMLS_concept_id_for_MedDRA']\n",
    "    flags = umls_ids.isin(umls_id)\n",
    "    oz_flags = map(f, flags)\n",
    "    binary_drug[dg_id] = oz_flags"
   ]
  },
  {
   "cell_type": "code",
   "execution_count": 27,
   "metadata": {
    "collapsed": true
   },
   "outputs": [],
   "source": [
    "binary_drug.to_csv(\"/DAS_Storage1/aschoi/data/Drug_Repositioning/5_new_drug/sider_indication/3_4_gold_indi_matrix.tsv\", sep='\\t')\n",
    "binary_drug.to_csv(\"/home/share/aschoi/nas/users/asolchoi/data/Drug_Repositioning/5_new_drug/sider_indication/3_4_gold_indi_matrix.tsv\", sep='\\t')"
   ]
  },
  {
   "cell_type": "code",
   "execution_count": null,
   "metadata": {
    "collapsed": true
   },
   "outputs": [],
   "source": [
    "indep -indication matrix 만들기"
   ]
  },
  {
   "cell_type": "code",
   "execution_count": 24,
   "metadata": {
    "collapsed": false
   },
   "outputs": [
    {
     "name": "stdout",
     "output_type": "stream",
     "text": [
      "518\n"
     ]
    },
    {
     "data": {
      "text/html": [
       "<div>\n",
       "<table border=\"1\" class=\"dataframe\">\n",
       "  <thead>\n",
       "    <tr style=\"text-align: right;\">\n",
       "      <th></th>\n",
       "      <th>DB01586</th>\n",
       "      <th>DB00320</th>\n",
       "      <th>DB00909</th>\n",
       "      <th>DB00967</th>\n",
       "      <th>DB00882</th>\n",
       "      <th>DB00341</th>\n",
       "      <th>DB00125</th>\n",
       "      <th>DB01100</th>\n",
       "      <th>DB00819</th>\n",
       "      <th>DB00915</th>\n",
       "      <th>...</th>\n",
       "      <th>DB00376</th>\n",
       "      <th>DB00860</th>\n",
       "      <th>DB00421</th>\n",
       "      <th>DB00635</th>\n",
       "      <th>DB01085</th>\n",
       "      <th>DB00528</th>\n",
       "      <th>DB00959</th>\n",
       "      <th>DB01410</th>\n",
       "      <th>DB00852</th>\n",
       "      <th>DB00998</th>\n",
       "    </tr>\n",
       "  </thead>\n",
       "  <tbody>\n",
       "    <tr>\n",
       "      <th>C0000731</th>\n",
       "      <td>0</td>\n",
       "      <td>0</td>\n",
       "      <td>0</td>\n",
       "      <td>0</td>\n",
       "      <td>0</td>\n",
       "      <td>0</td>\n",
       "      <td>0</td>\n",
       "      <td>0</td>\n",
       "      <td>0</td>\n",
       "      <td>0</td>\n",
       "      <td>...</td>\n",
       "      <td>0</td>\n",
       "      <td>0</td>\n",
       "      <td>0</td>\n",
       "      <td>0</td>\n",
       "      <td>0</td>\n",
       "      <td>0</td>\n",
       "      <td>0</td>\n",
       "      <td>0</td>\n",
       "      <td>0</td>\n",
       "      <td>0</td>\n",
       "    </tr>\n",
       "  </tbody>\n",
       "</table>\n",
       "<p>1 rows × 68 columns</p>\n",
       "</div>"
      ],
      "text/plain": [
       "          DB01586  DB00320  DB00909  DB00967  DB00882  DB00341  DB00125  \\\n",
       "C0000731        0        0        0        0        0        0        0   \n",
       "\n",
       "          DB01100  DB00819  DB00915   ...     DB00376  DB00860  DB00421  \\\n",
       "C0000731        0        0        0   ...           0        0        0   \n",
       "\n",
       "          DB00635  DB01085  DB00528  DB00959  DB01410  DB00852  DB00998  \n",
       "C0000731        0        0        0        0        0        0        0  \n",
       "\n",
       "[1 rows x 68 columns]"
      ]
     },
     "execution_count": 24,
     "metadata": {},
     "output_type": "execute_result"
    }
   ],
   "source": [
    "binary_indep = pd.DataFrame(columns=indep_drug.tolist(), index = umls_ids.tolist())\n",
    "binary_indep = binary_indep.fillna(0)\n",
    "print len(binary_indep)\n",
    "binary_indep.head(1)"
   ]
  },
  {
   "cell_type": "code",
   "execution_count": 26,
   "metadata": {
    "collapsed": false
   },
   "outputs": [],
   "source": [
    "f = lambda x: 1 if x else 0\n",
    "    \n",
    "for dg_id in indep_drug:\n",
    "    dg_df = indep_indi[indep_indi.DrugBank_ID == dg_id]\n",
    "    umls_id = dg_df['UMLS_concept_id_for_MedDRA']\n",
    "    flags = umls_ids.isin(umls_id)\n",
    "    oz_flags = map(f, flags)\n",
    "    binary_indep[dg_id] = oz_flags"
   ]
  },
  {
   "cell_type": "code",
   "execution_count": 28,
   "metadata": {
    "collapsed": true
   },
   "outputs": [],
   "source": [
    "binary_indep.to_csv(\"/DAS_Storage1/aschoi/data/Drug_Repositioning/5_new_drug/sider_indication/4_2_indep_indi_matrix.tsv\", sep='\\t')\n",
    "binary_indep.to_csv(\"/home/share/aschoi/nas/users/asolchoi/data/Drug_Repositioning/5_new_drug/sider_indication/4_2_indep_indi_matrix.tsv\", sep='\\t')"
   ]
  },
  {
   "cell_type": "code",
   "execution_count": null,
   "metadata": {
    "collapsed": true
   },
   "outputs": [],
   "source": []
  }
 ],
 "metadata": {
  "kernelspec": {
   "display_name": "Python 2",
   "language": "python",
   "name": "python2"
  },
  "language_info": {
   "codemirror_mode": {
    "name": "ipython",
    "version": 2
   },
   "file_extension": ".py",
   "mimetype": "text/x-python",
   "name": "python",
   "nbconvert_exporter": "python",
   "pygments_lexer": "ipython2",
   "version": "2.7.6"
  }
 },
 "nbformat": 4,
 "nbformat_minor": 2
}
