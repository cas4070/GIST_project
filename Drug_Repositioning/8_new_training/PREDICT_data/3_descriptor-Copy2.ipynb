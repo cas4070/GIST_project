{
 "cells": [
  {
   "cell_type": "code",
   "execution_count": 1,
   "metadata": {
    "collapsed": true
   },
   "outputs": [],
   "source": [
    "import pandas as pd\n",
    "import numpy as np\n",
    "from itertools import product\n",
    "from datetime import datetime"
   ]
  },
  {
   "cell_type": "code",
   "execution_count": 2,
   "metadata": {
    "collapsed": true
   },
   "outputs": [],
   "source": [
    "#gold_asso = pd.read_table(\"/DAS_Storage1/aschoi/data/Drug_Repositioning/7_new_association/PREDICT_data/2_2_gold_learning_asso.tsv\")\n",
    "#indep_asso = pd.read_table(\"/DAS_Storage1/aschoi/data/Drug_Repositioning/7_new_association/PREDICT_data/3_2_indep_learning_asso.tsv\")\n",
    "gold_asso = pd.read_table(\"/DAS_Storage1/aschoi/data/Drug_Repositioning/7_new_association/PREDICT_data/6_3_gold_learning_asso_indi.tsv\")\n",
    "indep_asso = pd.read_table(\"/DAS_Storage1/aschoi/data/Drug_Repositioning/7_new_association/PREDICT_data/7_2_indep_learning_asso_indi.tsv\")\n",
    "drug = pd.read_table(\"/DAS_Storage1/aschoi/data/Drug_Repositioning/5_new_drug/PREDICT_data/4_2_gold_se_by_indep_matrix.tsv\", index_col = 0)\n",
    "disease = pd.read_table(\"/DAS_Storage1/aschoi/data/Drug_Repositioning/6_new_disease/8_gold_standard_disease_binary_matrix.tsv\", index_col = 0)\n",
    "indi = pd.read_table(\"/DAS_Storage1/aschoi/data/Drug_Repositioning/5_new_drug/sider_indication/3_4_gold_indi_matrix.tsv\", index_col=0)"
   ]
  },
  {
   "cell_type": "code",
   "execution_count": 3,
   "metadata": {
    "collapsed": false
   },
   "outputs": [
    {
     "name": "stdout",
     "output_type": "stream",
     "text": [
      "88885\n"
     ]
    },
    {
     "data": {
      "text/html": [
       "<div>\n",
       "<table border=\"1\" class=\"dataframe\">\n",
       "  <thead>\n",
       "    <tr style=\"text-align: right;\">\n",
       "      <th></th>\n",
       "      <th>association</th>\n",
       "      <th>disease_id</th>\n",
       "      <th>drug_id</th>\n",
       "    </tr>\n",
       "  </thead>\n",
       "  <tbody>\n",
       "    <tr>\n",
       "      <th>0</th>\n",
       "      <td>1</td>\n",
       "      <td>103780</td>\n",
       "      <td>DB00659</td>\n",
       "    </tr>\n",
       "  </tbody>\n",
       "</table>\n",
       "</div>"
      ],
      "text/plain": [
       "   association  disease_id  drug_id\n",
       "0            1      103780  DB00659"
      ]
     },
     "execution_count": 3,
     "metadata": {},
     "output_type": "execute_result"
    }
   ],
   "source": [
    "print len(gold_asso)\n",
    "gold_asso.head(1)"
   ]
  },
  {
   "cell_type": "code",
   "execution_count": 4,
   "metadata": {
    "collapsed": false
   },
   "outputs": [
    {
     "name": "stdout",
     "output_type": "stream",
     "text": [
      "1844\n"
     ]
    },
    {
     "data": {
      "text/html": [
       "<div>\n",
       "<table border=\"1\" class=\"dataframe\">\n",
       "  <thead>\n",
       "    <tr style=\"text-align: right;\">\n",
       "      <th></th>\n",
       "      <th>DB00215</th>\n",
       "      <th>DB01327</th>\n",
       "      <th>DB00537</th>\n",
       "      <th>DB00175</th>\n",
       "      <th>DB00181</th>\n",
       "      <th>DB00257</th>\n",
       "      <th>DB00343</th>\n",
       "      <th>DB01128</th>\n",
       "      <th>DB00678</th>\n",
       "      <th>DB00808</th>\n",
       "      <th>...</th>\n",
       "      <th>DB01033</th>\n",
       "      <th>DB01254</th>\n",
       "      <th>DB01261</th>\n",
       "      <th>DB00323</th>\n",
       "      <th>DB00287</th>\n",
       "      <th>DB00905</th>\n",
       "      <th>DB01088</th>\n",
       "      <th>DB01268</th>\n",
       "      <th>DB09026</th>\n",
       "      <th>DB01590</th>\n",
       "    </tr>\n",
       "  </thead>\n",
       "  <tbody>\n",
       "    <tr>\n",
       "      <th>C0000727</th>\n",
       "      <td>0</td>\n",
       "      <td>0</td>\n",
       "      <td>0</td>\n",
       "      <td>0</td>\n",
       "      <td>0</td>\n",
       "      <td>0</td>\n",
       "      <td>0</td>\n",
       "      <td>0</td>\n",
       "      <td>0</td>\n",
       "      <td>0</td>\n",
       "      <td>...</td>\n",
       "      <td>0</td>\n",
       "      <td>0</td>\n",
       "      <td>1</td>\n",
       "      <td>0</td>\n",
       "      <td>0</td>\n",
       "      <td>0</td>\n",
       "      <td>0</td>\n",
       "      <td>0</td>\n",
       "      <td>0</td>\n",
       "      <td>0</td>\n",
       "    </tr>\n",
       "  </tbody>\n",
       "</table>\n",
       "<p>1 rows × 446 columns</p>\n",
       "</div>"
      ],
      "text/plain": [
       "          DB00215  DB01327  DB00537  DB00175  DB00181  DB00257  DB00343  \\\n",
       "C0000727        0        0        0        0        0        0        0   \n",
       "\n",
       "          DB01128  DB00678  DB00808   ...     DB01033  DB01254  DB01261  \\\n",
       "C0000727        0        0        0   ...           0        0        1   \n",
       "\n",
       "          DB00323  DB00287  DB00905  DB01088  DB01268  DB09026  DB01590  \n",
       "C0000727        0        0        0        0        0        0        0  \n",
       "\n",
       "[1 rows x 446 columns]"
      ]
     },
     "execution_count": 4,
     "metadata": {},
     "output_type": "execute_result"
    }
   ],
   "source": [
    "print len(drug)\n",
    "drug.head(1)"
   ]
  },
  {
   "cell_type": "code",
   "execution_count": 5,
   "metadata": {
    "collapsed": false
   },
   "outputs": [
    {
     "name": "stdout",
     "output_type": "stream",
     "text": [
      "3521\n"
     ]
    },
    {
     "data": {
      "text/html": [
       "<div>\n",
       "<table border=\"1\" class=\"dataframe\">\n",
       "  <thead>\n",
       "    <tr style=\"text-align: right;\">\n",
       "      <th></th>\n",
       "      <th>102300</th>\n",
       "      <th>102400</th>\n",
       "      <th>102500</th>\n",
       "      <th>103780</th>\n",
       "      <th>104130</th>\n",
       "      <th>104300</th>\n",
       "      <th>106400</th>\n",
       "      <th>107650</th>\n",
       "      <th>109100</th>\n",
       "      <th>109200</th>\n",
       "      <th>...</th>\n",
       "      <th>607631</th>\n",
       "      <th>607681</th>\n",
       "      <th>607682</th>\n",
       "      <th>607850</th>\n",
       "      <th>608088</th>\n",
       "      <th>608105</th>\n",
       "      <th>608217</th>\n",
       "      <th>608320</th>\n",
       "      <th>608583</th>\n",
       "      <th>608622</th>\n",
       "    </tr>\n",
       "  </thead>\n",
       "  <tbody>\n",
       "    <tr>\n",
       "      <th>100188812</th>\n",
       "      <td>1</td>\n",
       "      <td>0</td>\n",
       "      <td>0</td>\n",
       "      <td>0</td>\n",
       "      <td>0</td>\n",
       "      <td>0</td>\n",
       "      <td>0</td>\n",
       "      <td>0</td>\n",
       "      <td>0</td>\n",
       "      <td>0</td>\n",
       "      <td>...</td>\n",
       "      <td>0</td>\n",
       "      <td>0</td>\n",
       "      <td>0</td>\n",
       "      <td>0</td>\n",
       "      <td>0</td>\n",
       "      <td>0</td>\n",
       "      <td>0</td>\n",
       "      <td>0</td>\n",
       "      <td>0</td>\n",
       "      <td>0</td>\n",
       "    </tr>\n",
       "  </tbody>\n",
       "</table>\n",
       "<p>1 rows × 235 columns</p>\n",
       "</div>"
      ],
      "text/plain": [
       "           102300  102400  102500  103780  104130  104300  106400  107650  \\\n",
       "100188812       1       0       0       0       0       0       0       0   \n",
       "\n",
       "           109100  109200   ...    607631  607681  607682  607850  608088  \\\n",
       "100188812       0       0   ...         0       0       0       0       0   \n",
       "\n",
       "           608105  608217  608320  608583  608622  \n",
       "100188812       0       0       0       0       0  \n",
       "\n",
       "[1 rows x 235 columns]"
      ]
     },
     "execution_count": 5,
     "metadata": {},
     "output_type": "execute_result"
    }
   ],
   "source": [
    "print len(disease)\n",
    "disease.head(1)"
   ]
  },
  {
   "cell_type": "code",
   "execution_count": 6,
   "metadata": {
    "collapsed": false,
    "scrolled": true
   },
   "outputs": [
    {
     "name": "stdout",
     "output_type": "stream",
     "text": [
      "518\n"
     ]
    },
    {
     "data": {
      "text/html": [
       "<div>\n",
       "<table border=\"1\" class=\"dataframe\">\n",
       "  <thead>\n",
       "    <tr style=\"text-align: right;\">\n",
       "      <th></th>\n",
       "      <th>DB00958</th>\n",
       "      <th>DB00559</th>\n",
       "      <th>DB00320</th>\n",
       "      <th>DB00165</th>\n",
       "      <th>DB00790</th>\n",
       "      <th>DB01577</th>\n",
       "      <th>DB00583</th>\n",
       "      <th>DB00820</th>\n",
       "      <th>DB03904</th>\n",
       "      <th>DB01267</th>\n",
       "      <th>...</th>\n",
       "      <th>DB00998</th>\n",
       "      <th>DB00216</th>\n",
       "      <th>DB00307</th>\n",
       "      <th>DB00180</th>\n",
       "      <th>DB00696</th>\n",
       "      <th>DB00353</th>\n",
       "      <th>DB01378</th>\n",
       "      <th>DB00627</th>\n",
       "      <th>DB01223</th>\n",
       "      <th>DB00324</th>\n",
       "    </tr>\n",
       "  </thead>\n",
       "  <tbody>\n",
       "    <tr>\n",
       "      <th>C0000731</th>\n",
       "      <td>0</td>\n",
       "      <td>0</td>\n",
       "      <td>0</td>\n",
       "      <td>0</td>\n",
       "      <td>0</td>\n",
       "      <td>0</td>\n",
       "      <td>0</td>\n",
       "      <td>0</td>\n",
       "      <td>0</td>\n",
       "      <td>0</td>\n",
       "      <td>...</td>\n",
       "      <td>0</td>\n",
       "      <td>0</td>\n",
       "      <td>0</td>\n",
       "      <td>0</td>\n",
       "      <td>0</td>\n",
       "      <td>0</td>\n",
       "      <td>0</td>\n",
       "      <td>0</td>\n",
       "      <td>0</td>\n",
       "      <td>0</td>\n",
       "    </tr>\n",
       "  </tbody>\n",
       "</table>\n",
       "<p>1 rows × 390 columns</p>\n",
       "</div>"
      ],
      "text/plain": [
       "          DB00958  DB00559  DB00320  DB00165  DB00790  DB01577  DB00583  \\\n",
       "C0000731        0        0        0        0        0        0        0   \n",
       "\n",
       "          DB00820  DB03904  DB01267   ...     DB00998  DB00216  DB00307  \\\n",
       "C0000731        0        0        0   ...           0        0        0   \n",
       "\n",
       "          DB00180  DB00696  DB00353  DB01378  DB00627  DB01223  DB00324  \n",
       "C0000731        0        0        0        0        0        0        0  \n",
       "\n",
       "[1 rows x 390 columns]"
      ]
     },
     "execution_count": 6,
     "metadata": {},
     "output_type": "execute_result"
    }
   ],
   "source": [
    "print len(indi)\n",
    "indi.head(1)"
   ]
  },
  {
   "cell_type": "code",
   "execution_count": 7,
   "metadata": {
    "collapsed": false
   },
   "outputs": [
    {
     "name": "stdout",
     "output_type": "stream",
     "text": [
      "start : 60001 : 2017-03-28 01:46:09\n",
      "61000 : 2017-03-28 01:46:29\n",
      "62000 : 2017-03-28 01:47:23\n",
      "63000 : 2017-03-28 01:48:51\n",
      "64000 : 2017-03-28 01:50:53\n",
      "65000 : 2017-03-28 01:53:28\n",
      "66000 : 2017-03-28 01:56:38\n",
      "67000 : 2017-03-28 02:00:19\n",
      "68000 : 2017-03-28 02:04:32\n",
      "69000 : 2017-03-28 02:09:16\n",
      "70000 : 2017-03-28 02:14:41\n",
      "end : 70001 : 2017-03-28 02:14:41\n",
      "70001\n",
      "(10001, 5886)\n"
     ]
    }
   ],
   "source": [
    "start = 60001\n",
    "end = 70001\n",
    "cnt = start\n",
    "arr = np.empty((0,5883), dtype=np.int64)\n",
    "arr = np.hstack((['drug_id', 'disease_id', 'association', drug.index, disease.index, indi.index]))\n",
    "print \"start : %d : \" % cnt + datetime.now().strftime('%Y-%m-%d %H:%M:%S')\n",
    "for i in gold_asso.values[start:end]:\n",
    "    association = i[0]\n",
    "    disease_id = i[1]\n",
    "    drug_id = i[2]\n",
    "    feature = np.hstack([drug_id, disease_id, association, drug[drug_id], disease[str(disease_id)], indi[drug_id]])\n",
    "    arr = np.vstack([arr, feature])\n",
    "    cnt = cnt + 1\n",
    "    if cnt % 1000 == 0:\n",
    "        print \"%d : \" % cnt + datetime.now().strftime('%Y-%m-%d %H:%M:%S')\n",
    "print \"end : %d : \" % cnt + datetime.now().strftime('%Y-%m-%d %H:%M:%S')\n",
    "print cnt\n",
    "print arr.shape\n",
    "df_arr = pd.DataFrame(data = arr[1:],columns = arr[0])\n",
    "df_arr.to_csv(\"/DAS_Storage1/aschoi/data/Drug_Repositioning/8_new_training/PREDICT_data/3_1_gold_indi_descriptor_{}_{}tsv\".format(start, end-1), sep='\\t', index = False)"
   ]
  },
  {
   "cell_type": "code",
   "execution_count": 8,
   "metadata": {
    "collapsed": true
   },
   "outputs": [],
   "source": [
    "df_arr.to_csv(\"/DAS_Storage1/aschoi/data/Drug_Repositioning/8_new_training/PREDICT_data/2_1_gold_descriptor_{}_{}.tsv\".format(start, end-1), sep='\\t', index = False)"
   ]
  },
  {
   "cell_type": "code",
   "execution_count": 9,
   "metadata": {
    "collapsed": false
   },
   "outputs": [],
   "source": [
    "arr1 = pd.read_table(\"/DAS_Storage1/aschoi/data/Drug_Repositioning/8_new_training/PREDICT_data/2_1_gold_descriptor_0_10000.tsv\")\n",
    "arr2 = pd.read_table(\"/DAS_Storage1/aschoi/data/Drug_Repositioning/8_new_training/PREDICT_data/2_1_gold_descriptor_10001_20000.tsv\")\n",
    "arr3 = pd.read_table(\"/DAS_Storage1/aschoi/data/Drug_Repositioning/8_new_training/PREDICT_data/2_1_gold_descriptor_20001_30000.tsv\")\n",
    "arr4 = pd.read_table(\"/DAS_Storage1/aschoi/data/Drug_Repositioning/8_new_training/PREDICT_data/2_1_gold_descriptor_30001_40000.tsv\")\n",
    "arr5 = pd.read_table(\"/DAS_Storage1/aschoi/data/Drug_Repositioning/8_new_training/PREDICT_data/2_1_gold_descriptor_40001_50000.tsv\")\n",
    "arr6 = pd.read_table(\"/DAS_Storage1/aschoi/data/Drug_Repositioning/8_new_training/PREDICT_data/2_1_gold_descriptor_50001_60000.tsv\")\n",
    "arr7 = pd.read_table(\"/DAS_Storage1/aschoi/data/Drug_Repositioning/8_new_training/PREDICT_data/2_1_gold_descriptor_60001_70000.tsv\")\n",
    "arr8 = pd.read_table(\"/DAS_Storage1/aschoi/data/Drug_Repositioning/8_new_training/PREDICT_data/2_1_gold_descriptor_70001_80000.tsv\")\n",
    "arr9 = pd.read_table(\"/DAS_Storage1/aschoi/data/Drug_Repositioning/8_new_training/PREDICT_data/2_1_gold_descriptor_80001_90000.tsv\")\n",
    "arr10 = pd.read_table(\"/DAS_Storage1/aschoi/data/Drug_Repositioning/8_new_training/PREDICT_data/2_1_gold_descriptor_90001_100000.tsv\")\n",
    "arr11 = pd.read_table(\"/DAS_Storage1/aschoi/data/Drug_Repositioning/8_new_training/PREDICT_data/2_1_gold_descriptor_100001_103145.tsv\")"
   ]
  },
  {
   "cell_type": "code",
   "execution_count": 12,
   "metadata": {
    "collapsed": false
   },
   "outputs": [
    {
     "name": "stdout",
     "output_type": "stream",
     "text": [
      "103146\n"
     ]
    },
    {
     "data": {
      "text/html": [
       "<div>\n",
       "<table border=\"1\" class=\"dataframe\">\n",
       "  <thead>\n",
       "    <tr style=\"text-align: right;\">\n",
       "      <th></th>\n",
       "      <th>drug_id</th>\n",
       "      <th>disease_id</th>\n",
       "      <th>association</th>\n",
       "      <th>C0000727</th>\n",
       "      <th>C0000731</th>\n",
       "      <th>C0000737</th>\n",
       "      <th>C0000768</th>\n",
       "      <th>C0000772</th>\n",
       "      <th>C0000786</th>\n",
       "      <th>C0000814</th>\n",
       "      <th>...</th>\n",
       "      <th>387585</th>\n",
       "      <th>388165</th>\n",
       "      <th>55219</th>\n",
       "      <th>55973</th>\n",
       "      <th>65264</th>\n",
       "      <th>80350</th>\n",
       "      <th>84624</th>\n",
       "      <th>84722</th>\n",
       "      <th>91851</th>\n",
       "      <th>406216</th>\n",
       "    </tr>\n",
       "  </thead>\n",
       "  <tbody>\n",
       "    <tr>\n",
       "      <th>0</th>\n",
       "      <td>DB00659</td>\n",
       "      <td>103780</td>\n",
       "      <td>1</td>\n",
       "      <td>0</td>\n",
       "      <td>1</td>\n",
       "      <td>0</td>\n",
       "      <td>0</td>\n",
       "      <td>0</td>\n",
       "      <td>0</td>\n",
       "      <td>0</td>\n",
       "      <td>...</td>\n",
       "      <td>0</td>\n",
       "      <td>0</td>\n",
       "      <td>0</td>\n",
       "      <td>0</td>\n",
       "      <td>0</td>\n",
       "      <td>0</td>\n",
       "      <td>0</td>\n",
       "      <td>0</td>\n",
       "      <td>0</td>\n",
       "      <td>0</td>\n",
       "    </tr>\n",
       "  </tbody>\n",
       "</table>\n",
       "<p>1 rows × 5368 columns</p>\n",
       "</div>"
      ],
      "text/plain": [
       "   drug_id  disease_id  association  C0000727  C0000731  C0000737  C0000768  \\\n",
       "0  DB00659      103780            1         0         1         0         0   \n",
       "\n",
       "   C0000772  C0000786  C0000814   ...    387585  388165  55219  55973  65264  \\\n",
       "0         0         0         0   ...         0       0      0      0      0   \n",
       "\n",
       "   80350  84624  84722  91851  406216  \n",
       "0      0      0      0      0       0  \n",
       "\n",
       "[1 rows x 5368 columns]"
      ]
     },
     "execution_count": 12,
     "metadata": {},
     "output_type": "execute_result"
    }
   ],
   "source": [
    "frames = [arr1, arr2, arr3, arr4, arr5, arr6, arr7, arr8, arr9, arr10, arr11]\n",
    "df_arr_all = pd.concat(frames , axis=0)\n",
    "print len(df_arr_all)\n",
    "df_arr_all.head(1)"
   ]
  },
  {
   "cell_type": "code",
   "execution_count": 14,
   "metadata": {
    "collapsed": true
   },
   "outputs": [],
   "source": [
    "df_arr_all.to_csv(\"/DAS_Storage1/aschoi/data/Drug_Repositioning/8_new_training/PREDICT_data/2_1_gold_descriptor_combined.tsv\", sep = '\\t', index = False)"
   ]
  },
  {
   "cell_type": "code",
   "execution_count": 16,
   "metadata": {
    "collapsed": true
   },
   "outputs": [],
   "source": [
    "indep_drug = pd.read_table(\"/DAS_Storage1/aschoi/data/Drug_Repositioning/5_new_drug/PREDICT_data/3_indep_drug_se_matrix.tsv\")"
   ]
  },
  {
   "cell_type": "code",
   "execution_count": 20,
   "metadata": {
    "collapsed": false
   },
   "outputs": [
    {
     "name": "stdout",
     "output_type": "stream",
     "text": [
      "2539\n",
      "start : 0 : 2017-03-27 20:01:06\n",
      "1000 : 2017-03-27 20:01:19\n",
      "2000 : 2017-03-27 20:02:01\n",
      "end : 2539 : 2017-03-27 20:02:36\n",
      "2539\n",
      "(2540, 5368)\n"
     ]
    }
   ],
   "source": [
    "#independent\n",
    "start = 0\n",
    "end = len(indep_asso)\n",
    "cnt = start\n",
    "indep_arr = np.empty((0,5365), dtype=np.int64)\n",
    "indep_arr = np.hstack((['drug_id', 'disease_id', 'association', drug.index, disease.index]))\n",
    "print end\n",
    "print \"start : %d : \" % cnt + datetime.now().strftime('%Y-%m-%d %H:%M:%S')\n",
    "for i in indep_asso.values[start:end]:\n",
    "    association = i[2]\n",
    "    disease_id = i[1]\n",
    "    drug_id = i[0]\n",
    "    feature = np.hstack([drug_id, disease_id, association, indep_drug[drug_id], disease[str(disease_id)]])\n",
    "    indep_arr = np.vstack([indep_arr, feature])\n",
    "    cnt = cnt + 1\n",
    "    if cnt % 1000 == 0:\n",
    "        print \"%d : \" % cnt + datetime.now().strftime('%Y-%m-%d %H:%M:%S')\n",
    "print \"end : %d : \" % cnt + datetime.now().strftime('%Y-%m-%d %H:%M:%S')\n",
    "print cnt\n",
    "print indep_arr.shape\n",
    "df_indep_arr = pd.DataFrame(data = indep_arr[1:],columns = indep_arr[0])\n",
    "df_indep_arr.to_csv(\"/DAS_Storage1/aschoi/data/Drug_Repositioning/8_new_training/PREDICT_data/2_2_indep_descriptor.tsv\", sep='\\t', index = False)"
   ]
  },
  {
   "cell_type": "code",
   "execution_count": null,
   "metadata": {
    "collapsed": true
   },
   "outputs": [],
   "source": []
  }
 ],
 "metadata": {
  "kernelspec": {
   "display_name": "Python 2",
   "language": "python",
   "name": "python2"
  },
  "language_info": {
   "codemirror_mode": {
    "name": "ipython",
    "version": 2
   },
   "file_extension": ".py",
   "mimetype": "text/x-python",
   "name": "python",
   "nbconvert_exporter": "python",
   "pygments_lexer": "ipython2",
   "version": "2.7.6"
  }
 },
 "nbformat": 4,
 "nbformat_minor": 2
}
