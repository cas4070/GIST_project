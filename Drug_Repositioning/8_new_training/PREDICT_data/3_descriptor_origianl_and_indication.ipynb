{
 "cells": [
  {
   "cell_type": "code",
   "execution_count": 2,
   "metadata": {
    "collapsed": true
   },
   "outputs": [],
   "source": [
    "import pandas as pd\n",
    "import numpy as np\n",
    "from itertools import product\n",
    "from datetime import datetime"
   ]
  },
  {
   "cell_type": "code",
   "execution_count": 2,
   "metadata": {
    "collapsed": true
   },
   "outputs": [],
   "source": [
    "#gold_asso = pd.read_table(\"/DAS_Storage1/aschoi/data/Drug_Repositioning/7_new_association/PREDICT_data/2_2_gold_learning_asso.tsv\")\n",
    "#indep_asso = pd.read_table(\"/DAS_Storage1/aschoi/data/Drug_Repositioning/7_new_association/PREDICT_data/3_2_indep_learning_asso.tsv\")\n",
    "gold_asso = pd.read_table(\"/DAS_Storage1/aschoi/data/Drug_Repositioning/7_new_association/PREDICT_data/6_3_gold_learning_asso_indi.tsv\")\n",
    "indep_asso = pd.read_table(\"/DAS_Storage1/aschoi/data/Drug_Repositioning/7_new_association/PREDICT_data/7_2_indep_learning_asso_indi.tsv\")\n",
    "drug = pd.read_table(\"/DAS_Storage1/aschoi/data/Drug_Repositioning/5_new_drug/PREDICT_data/4_2_gold_se_by_indep_matrix.tsv\", index_col = 0)\n",
    "disease = pd.read_table(\"/DAS_Storage1/aschoi/data/Drug_Repositioning/6_new_disease/8_gold_standard_disease_binary_matrix.tsv\", index_col = 0)\n",
    "indi = pd.read_table(\"/DAS_Storage1/aschoi/data/Drug_Repositioning/5_new_drug/sider_indication/3_4_gold_indi_matrix.tsv\", index_col=0)"
   ]
  },
  {
   "cell_type": "code",
   "execution_count": 7,
   "metadata": {
    "collapsed": false
   },
   "outputs": [
    {
     "name": "stdout",
     "output_type": "stream",
     "text": [
      "88885\n"
     ]
    },
    {
     "data": {
      "text/html": [
       "<div>\n",
       "<table border=\"1\" class=\"dataframe\">\n",
       "  <thead>\n",
       "    <tr style=\"text-align: right;\">\n",
       "      <th></th>\n",
       "      <th>association</th>\n",
       "      <th>disease_id</th>\n",
       "      <th>drug_id</th>\n",
       "    </tr>\n",
       "  </thead>\n",
       "  <tbody>\n",
       "    <tr>\n",
       "      <th>0</th>\n",
       "      <td>1</td>\n",
       "      <td>103780</td>\n",
       "      <td>DB00659</td>\n",
       "    </tr>\n",
       "  </tbody>\n",
       "</table>\n",
       "</div>"
      ],
      "text/plain": [
       "   association  disease_id  drug_id\n",
       "0            1      103780  DB00659"
      ]
     },
     "execution_count": 7,
     "metadata": {},
     "output_type": "execute_result"
    }
   ],
   "source": [
    "print len(gold_asso)\n",
    "gold_asso.head(1)"
   ]
  },
  {
   "cell_type": "code",
   "execution_count": 4,
   "metadata": {
    "collapsed": false
   },
   "outputs": [
    {
     "name": "stdout",
     "output_type": "stream",
     "text": [
      "1844\n"
     ]
    },
    {
     "data": {
      "text/html": [
       "<div>\n",
       "<table border=\"1\" class=\"dataframe\">\n",
       "  <thead>\n",
       "    <tr style=\"text-align: right;\">\n",
       "      <th></th>\n",
       "      <th>DB00215</th>\n",
       "      <th>DB01327</th>\n",
       "      <th>DB00537</th>\n",
       "      <th>DB00175</th>\n",
       "      <th>DB00181</th>\n",
       "      <th>DB00257</th>\n",
       "      <th>DB00343</th>\n",
       "      <th>DB01128</th>\n",
       "      <th>DB00678</th>\n",
       "      <th>DB00808</th>\n",
       "      <th>...</th>\n",
       "      <th>DB01033</th>\n",
       "      <th>DB01254</th>\n",
       "      <th>DB01261</th>\n",
       "      <th>DB00323</th>\n",
       "      <th>DB00287</th>\n",
       "      <th>DB00905</th>\n",
       "      <th>DB01088</th>\n",
       "      <th>DB01268</th>\n",
       "      <th>DB09026</th>\n",
       "      <th>DB01590</th>\n",
       "    </tr>\n",
       "  </thead>\n",
       "  <tbody>\n",
       "    <tr>\n",
       "      <th>C0000727</th>\n",
       "      <td>0</td>\n",
       "      <td>0</td>\n",
       "      <td>0</td>\n",
       "      <td>0</td>\n",
       "      <td>0</td>\n",
       "      <td>0</td>\n",
       "      <td>0</td>\n",
       "      <td>0</td>\n",
       "      <td>0</td>\n",
       "      <td>0</td>\n",
       "      <td>...</td>\n",
       "      <td>0</td>\n",
       "      <td>0</td>\n",
       "      <td>1</td>\n",
       "      <td>0</td>\n",
       "      <td>0</td>\n",
       "      <td>0</td>\n",
       "      <td>0</td>\n",
       "      <td>0</td>\n",
       "      <td>0</td>\n",
       "      <td>0</td>\n",
       "    </tr>\n",
       "  </tbody>\n",
       "</table>\n",
       "<p>1 rows × 446 columns</p>\n",
       "</div>"
      ],
      "text/plain": [
       "          DB00215  DB01327  DB00537  DB00175  DB00181  DB00257  DB00343  \\\n",
       "C0000727        0        0        0        0        0        0        0   \n",
       "\n",
       "          DB01128  DB00678  DB00808   ...     DB01033  DB01254  DB01261  \\\n",
       "C0000727        0        0        0   ...           0        0        1   \n",
       "\n",
       "          DB00323  DB00287  DB00905  DB01088  DB01268  DB09026  DB01590  \n",
       "C0000727        0        0        0        0        0        0        0  \n",
       "\n",
       "[1 rows x 446 columns]"
      ]
     },
     "execution_count": 4,
     "metadata": {},
     "output_type": "execute_result"
    }
   ],
   "source": [
    "print len(drug)\n",
    "drug.head(1)"
   ]
  },
  {
   "cell_type": "code",
   "execution_count": 5,
   "metadata": {
    "collapsed": false
   },
   "outputs": [
    {
     "name": "stdout",
     "output_type": "stream",
     "text": [
      "3521\n"
     ]
    },
    {
     "data": {
      "text/html": [
       "<div>\n",
       "<table border=\"1\" class=\"dataframe\">\n",
       "  <thead>\n",
       "    <tr style=\"text-align: right;\">\n",
       "      <th></th>\n",
       "      <th>102300</th>\n",
       "      <th>102400</th>\n",
       "      <th>102500</th>\n",
       "      <th>103780</th>\n",
       "      <th>104130</th>\n",
       "      <th>104300</th>\n",
       "      <th>106400</th>\n",
       "      <th>107650</th>\n",
       "      <th>109100</th>\n",
       "      <th>109200</th>\n",
       "      <th>...</th>\n",
       "      <th>607631</th>\n",
       "      <th>607681</th>\n",
       "      <th>607682</th>\n",
       "      <th>607850</th>\n",
       "      <th>608088</th>\n",
       "      <th>608105</th>\n",
       "      <th>608217</th>\n",
       "      <th>608320</th>\n",
       "      <th>608583</th>\n",
       "      <th>608622</th>\n",
       "    </tr>\n",
       "  </thead>\n",
       "  <tbody>\n",
       "    <tr>\n",
       "      <th>100188812</th>\n",
       "      <td>1</td>\n",
       "      <td>0</td>\n",
       "      <td>0</td>\n",
       "      <td>0</td>\n",
       "      <td>0</td>\n",
       "      <td>0</td>\n",
       "      <td>0</td>\n",
       "      <td>0</td>\n",
       "      <td>0</td>\n",
       "      <td>0</td>\n",
       "      <td>...</td>\n",
       "      <td>0</td>\n",
       "      <td>0</td>\n",
       "      <td>0</td>\n",
       "      <td>0</td>\n",
       "      <td>0</td>\n",
       "      <td>0</td>\n",
       "      <td>0</td>\n",
       "      <td>0</td>\n",
       "      <td>0</td>\n",
       "      <td>0</td>\n",
       "    </tr>\n",
       "  </tbody>\n",
       "</table>\n",
       "<p>1 rows × 235 columns</p>\n",
       "</div>"
      ],
      "text/plain": [
       "           102300  102400  102500  103780  104130  104300  106400  107650  \\\n",
       "100188812       1       0       0       0       0       0       0       0   \n",
       "\n",
       "           109100  109200   ...    607631  607681  607682  607850  608088  \\\n",
       "100188812       0       0   ...         0       0       0       0       0   \n",
       "\n",
       "           608105  608217  608320  608583  608622  \n",
       "100188812       0       0       0       0       0  \n",
       "\n",
       "[1 rows x 235 columns]"
      ]
     },
     "execution_count": 5,
     "metadata": {},
     "output_type": "execute_result"
    }
   ],
   "source": [
    "print len(disease)\n",
    "disease.head(1)"
   ]
  },
  {
   "cell_type": "code",
   "execution_count": 6,
   "metadata": {
    "collapsed": false,
    "scrolled": true
   },
   "outputs": [
    {
     "name": "stdout",
     "output_type": "stream",
     "text": [
      "518\n"
     ]
    },
    {
     "data": {
      "text/html": [
       "<div>\n",
       "<table border=\"1\" class=\"dataframe\">\n",
       "  <thead>\n",
       "    <tr style=\"text-align: right;\">\n",
       "      <th></th>\n",
       "      <th>DB00958</th>\n",
       "      <th>DB00559</th>\n",
       "      <th>DB00320</th>\n",
       "      <th>DB00165</th>\n",
       "      <th>DB00790</th>\n",
       "      <th>DB01577</th>\n",
       "      <th>DB00583</th>\n",
       "      <th>DB00820</th>\n",
       "      <th>DB03904</th>\n",
       "      <th>DB01267</th>\n",
       "      <th>...</th>\n",
       "      <th>DB00998</th>\n",
       "      <th>DB00216</th>\n",
       "      <th>DB00307</th>\n",
       "      <th>DB00180</th>\n",
       "      <th>DB00696</th>\n",
       "      <th>DB00353</th>\n",
       "      <th>DB01378</th>\n",
       "      <th>DB00627</th>\n",
       "      <th>DB01223</th>\n",
       "      <th>DB00324</th>\n",
       "    </tr>\n",
       "  </thead>\n",
       "  <tbody>\n",
       "    <tr>\n",
       "      <th>C0000731</th>\n",
       "      <td>0</td>\n",
       "      <td>0</td>\n",
       "      <td>0</td>\n",
       "      <td>0</td>\n",
       "      <td>0</td>\n",
       "      <td>0</td>\n",
       "      <td>0</td>\n",
       "      <td>0</td>\n",
       "      <td>0</td>\n",
       "      <td>0</td>\n",
       "      <td>...</td>\n",
       "      <td>0</td>\n",
       "      <td>0</td>\n",
       "      <td>0</td>\n",
       "      <td>0</td>\n",
       "      <td>0</td>\n",
       "      <td>0</td>\n",
       "      <td>0</td>\n",
       "      <td>0</td>\n",
       "      <td>0</td>\n",
       "      <td>0</td>\n",
       "    </tr>\n",
       "  </tbody>\n",
       "</table>\n",
       "<p>1 rows × 390 columns</p>\n",
       "</div>"
      ],
      "text/plain": [
       "          DB00958  DB00559  DB00320  DB00165  DB00790  DB01577  DB00583  \\\n",
       "C0000731        0        0        0        0        0        0        0   \n",
       "\n",
       "          DB00820  DB03904  DB01267   ...     DB00998  DB00216  DB00307  \\\n",
       "C0000731        0        0        0   ...           0        0        0   \n",
       "\n",
       "          DB00180  DB00696  DB00353  DB01378  DB00627  DB01223  DB00324  \n",
       "C0000731        0        0        0        0        0        0        0  \n",
       "\n",
       "[1 rows x 390 columns]"
      ]
     },
     "execution_count": 6,
     "metadata": {},
     "output_type": "execute_result"
    }
   ],
   "source": [
    "print len(indi)\n",
    "indi.head(1)"
   ]
  },
  {
   "cell_type": "code",
   "execution_count": 11,
   "metadata": {
    "collapsed": false
   },
   "outputs": [
    {
     "name": "stdout",
     "output_type": "stream",
     "text": [
      "start : 0 : 2017-03-28 01:44:48\n",
      "1000 : 2017-03-28 01:45:04\n",
      "2000 : 2017-03-28 01:45:54\n",
      "3000 : 2017-03-28 01:47:18\n",
      "4000 : 2017-03-28 01:49:19\n",
      "5000 : 2017-03-28 01:51:54\n",
      "6000 : 2017-03-28 01:55:05\n",
      "7000 : 2017-03-28 01:58:50\n",
      "8000 : 2017-03-28 02:03:10\n",
      "9000 : 2017-03-28 02:08:08\n",
      "10000 : 2017-03-28 02:13:37\n",
      "end : 10001 : 2017-03-28 02:13:38\n",
      "10001\n",
      "(10002, 5886)\n"
     ]
    }
   ],
   "source": [
    "start = 0\n",
    "end = 10001\n",
    "cnt = start\n",
    "arr = np.empty((0,5883), dtype=np.int64)\n",
    "arr = np.hstack((['drug_id', 'disease_id', 'association', drug.index, disease.index, indi.index]))\n",
    "print \"start : %d : \" % cnt + datetime.now().strftime('%Y-%m-%d %H:%M:%S')\n",
    "for i in gold_asso.values[start:end]:\n",
    "    association = i[0]\n",
    "    disease_id = i[1]\n",
    "    drug_id = i[2]\n",
    "    feature = np.hstack([drug_id, disease_id, association, drug[drug_id], disease[str(disease_id)], indi[drug_id]])\n",
    "    arr = np.vstack([arr, feature])\n",
    "    cnt = cnt + 1\n",
    "    if cnt % 1000 == 0:\n",
    "        print \"%d : \" % cnt + datetime.now().strftime('%Y-%m-%d %H:%M:%S')\n",
    "print \"end : %d : \" % cnt + datetime.now().strftime('%Y-%m-%d %H:%M:%S')\n",
    "print cnt\n",
    "print arr.shape\n",
    "df_arr = pd.DataFrame(data = arr[1:],columns = arr[0])\n",
    "df_arr.to_csv(\"/DAS_Storage1/aschoi/data/Drug_Repositioning/8_new_training/PREDICT_data/3_1_gold_indi_descriptor_{}_{}tsv\".format(start, end-1), sep='\\t', index = False)"
   ]
  },
  {
   "cell_type": "code",
   "execution_count": 8,
   "metadata": {
    "collapsed": true
   },
   "outputs": [],
   "source": [
    "df_arr.to_csv(\"/DAS_Storage1/aschoi/data/Drug_Repositioning/8_new_training/PREDICT_data/2_1_gold_descriptor_{}_{}.tsv\".format(start, end-1), sep='\\t', index = False)"
   ]
  },
  {
   "cell_type": "code",
   "execution_count": 13,
   "metadata": {
    "collapsed": false
   },
   "outputs": [],
   "source": [
    "arr1 = pd.read_table(\"/DAS_Storage1/aschoi/data/Drug_Repositioning/8_new_training/PREDICT_data/5_1_gold_indi_descriptor_0_10000tsv\")\n",
    "arr2 = pd.read_table(\"/DAS_Storage1/aschoi/data/Drug_Repositioning/8_new_training/PREDICT_data/5_1_gold_indi_descriptor_10001_20000tsv\")\n",
    "arr3 = pd.read_table(\"/DAS_Storage1/aschoi/data/Drug_Repositioning/8_new_training/PREDICT_data/5_1_gold_indi_descriptor_20001_30000tsv\")\n",
    "arr4 = pd.read_table(\"/DAS_Storage1/aschoi/data/Drug_Repositioning/8_new_training/PREDICT_data/5_1_gold_indi_descriptor_30001_40000tsv\")\n",
    "arr5 = pd.read_table(\"/DAS_Storage1/aschoi/data/Drug_Repositioning/8_new_training/PREDICT_data/5_1_gold_indi_descriptor_40001_50000tsv\")\n",
    "arr6 = pd.read_table(\"/DAS_Storage1/aschoi/data/Drug_Repositioning/8_new_training/PREDICT_data/5_1_gold_indi_descriptor_50001_60000tsv\")\n",
    "arr7 = pd.read_table(\"/DAS_Storage1/aschoi/data/Drug_Repositioning/8_new_training/PREDICT_data/5_1_gold_indi_descriptor_60001_70000tsv\")\n",
    "arr8 = pd.read_table(\"/DAS_Storage1/aschoi/data/Drug_Repositioning/8_new_training/PREDICT_data/5_1_gold_indi_descriptor_70001_88884tsv\")\n",
    "#arr9 = pd.read_table(\"/DAS_Storage1/aschoi/data/Drug_Repositioning/8_new_training/PREDICT_data/2_1_gold_descriptor_80001_90000.tsv\")\n",
    "#arr10 = pd.read_table(\"/DAS_Storage1/aschoi/data/Drug_Repositioning/8_new_training/PREDICT_data/2_1_gold_descriptor_90001_100000.tsv\")\n",
    "#arr11 = pd.read_table(\"/DAS_Storage1/aschoi/data/Drug_Repositioning/8_new_training/PREDICT_data/2_1_gold_descriptor_100001_103145.tsv\")"
   ]
  },
  {
   "cell_type": "code",
   "execution_count": 14,
   "metadata": {
    "collapsed": false
   },
   "outputs": [
    {
     "name": "stdout",
     "output_type": "stream",
     "text": [
      "88885\n"
     ]
    },
    {
     "data": {
      "text/html": [
       "<div>\n",
       "<table border=\"1\" class=\"dataframe\">\n",
       "  <thead>\n",
       "    <tr style=\"text-align: right;\">\n",
       "      <th></th>\n",
       "      <th>drug_id</th>\n",
       "      <th>disease_id</th>\n",
       "      <th>association</th>\n",
       "      <th>C0000727</th>\n",
       "      <th>C0000731</th>\n",
       "      <th>C0000737</th>\n",
       "      <th>C0000768</th>\n",
       "      <th>C0000772</th>\n",
       "      <th>C0000786</th>\n",
       "      <th>C0000814</th>\n",
       "      <th>...</th>\n",
       "      <th>C2712907</th>\n",
       "      <th>C2830004</th>\n",
       "      <th>C2937358</th>\n",
       "      <th>C2979982</th>\n",
       "      <th>C2981158</th>\n",
       "      <th>C3160741</th>\n",
       "      <th>C3263723</th>\n",
       "      <th>C3495559</th>\n",
       "      <th>C3495832</th>\n",
       "      <th>C3536983</th>\n",
       "    </tr>\n",
       "  </thead>\n",
       "  <tbody>\n",
       "    <tr>\n",
       "      <th>0</th>\n",
       "      <td>DB00659</td>\n",
       "      <td>103780</td>\n",
       "      <td>1</td>\n",
       "      <td>0</td>\n",
       "      <td>1</td>\n",
       "      <td>0</td>\n",
       "      <td>0</td>\n",
       "      <td>0</td>\n",
       "      <td>0</td>\n",
       "      <td>0</td>\n",
       "      <td>...</td>\n",
       "      <td>0</td>\n",
       "      <td>0</td>\n",
       "      <td>0</td>\n",
       "      <td>0</td>\n",
       "      <td>0</td>\n",
       "      <td>0</td>\n",
       "      <td>0</td>\n",
       "      <td>0</td>\n",
       "      <td>0</td>\n",
       "      <td>0</td>\n",
       "    </tr>\n",
       "  </tbody>\n",
       "</table>\n",
       "<p>1 rows × 5886 columns</p>\n",
       "</div>"
      ],
      "text/plain": [
       "   drug_id  disease_id  association  C0000727  C0000731  C0000737  C0000768  \\\n",
       "0  DB00659      103780            1         0         1         0         0   \n",
       "\n",
       "   C0000772  C0000786  C0000814    ...     C2712907  C2830004  C2937358  \\\n",
       "0         0         0         0    ...            0         0         0   \n",
       "\n",
       "   C2979982  C2981158  C3160741  C3263723  C3495559  C3495832  C3536983  \n",
       "0         0         0         0         0         0         0         0  \n",
       "\n",
       "[1 rows x 5886 columns]"
      ]
     },
     "execution_count": 14,
     "metadata": {},
     "output_type": "execute_result"
    }
   ],
   "source": [
    "frames = [arr1, arr2, arr3, arr4, arr5, arr6, arr7, arr8] #, arr9, arr10, arr11]\n",
    "df_arr_all = pd.concat(frames , axis=0)\n",
    "print len(df_arr_all)\n",
    "df_arr_all.head(1)"
   ]
  },
  {
   "cell_type": "code",
   "execution_count": 15,
   "metadata": {
    "collapsed": true
   },
   "outputs": [],
   "source": [
    "df_arr_all.to_csv(\"/DAS_Storage1/aschoi/data/Drug_Repositioning/8_new_training/PREDICT_data/5_1_gold_indi_descriptor_combined.tsv\", sep = '\\t', index = False)"
   ]
  },
  {
   "cell_type": "code",
   "execution_count": 28,
   "metadata": {
    "collapsed": false
   },
   "outputs": [],
   "source": [
    "indep_drug = pd.read_table(\"/DAS_Storage1/aschoi/data/Drug_Repositioning/5_new_drug/PREDICT_data/3_2_indep_drug_se_matrix.tsv\", index_col = 0)\n",
    "indep_indi = pd.read_table(\"/DAS_Storage1/aschoi/data/Drug_Repositioning/5_new_drug/sider_indication/4_2_indep_indi_matrix.tsv\", index_col = 0)"
   ]
  },
  {
   "cell_type": "code",
   "execution_count": 29,
   "metadata": {
    "collapsed": false
   },
   "outputs": [
    {
     "name": "stdout",
     "output_type": "stream",
     "text": [
      "2365\n",
      "start : 0 : 2017-03-28 15:27:43\n",
      "1000 : 2017-03-28 15:27:59\n",
      "2000 : 2017-03-28 15:28:49\n",
      "end : 2365 : 2017-03-28 15:29:15\n",
      "2365\n",
      "(2366, 5886)\n"
     ]
    }
   ],
   "source": [
    "#independent\n",
    "start = 0\n",
    "end = len(indep_asso)\n",
    "cnt = start\n",
    "indep_arr = np.empty((0,5883), dtype=np.int64)\n",
    "indep_arr = np.hstack((['drug_id', 'disease_id', 'association', drug.index, disease.index, indep_indi.index]))\n",
    "print end\n",
    "print \"start : %d : \" % cnt + datetime.now().strftime('%Y-%m-%d %H:%M:%S')\n",
    "for i in indep_asso.values[start:end]:\n",
    "    association = i[2]\n",
    "    disease_id = i[1]\n",
    "    drug_id = i[0]\n",
    "    feature = np.hstack([drug_id, disease_id, association, indep_drug[drug_id], disease[str(disease_id)], indep_indi[drug_id]])\n",
    "    indep_arr = np.vstack([indep_arr, feature])\n",
    "    cnt = cnt + 1\n",
    "    if cnt % 1000 == 0:\n",
    "        print \"%d : \" % cnt + datetime.now().strftime('%Y-%m-%d %H:%M:%S')\n",
    "print \"end : %d : \" % cnt + datetime.now().strftime('%Y-%m-%d %H:%M:%S')\n",
    "print cnt\n",
    "print indep_arr.shape\n",
    "df_indep_arr = pd.DataFrame(data = indep_arr[1:],columns = indep_arr[0])\n",
    "df_indep_arr.to_csv(\"/DAS_Storage1/aschoi/data/Drug_Repositioning/8_new_training/PREDICT_data/5_2_indep_indi_descriptor.tsv\", sep='\\t', index = False)"
   ]
  },
  {
   "cell_type": "code",
   "execution_count": 11,
   "metadata": {
    "collapsed": true
   },
   "outputs": [],
   "source": [
    "indi = pd.read_table(\"/DAS_Storage1/aschoi/data/Drug_Repositioning/5_new_drug/sider_indication/3_4_gold_indi_matrix.tsv\", index_col=0)"
   ]
  },
  {
   "cell_type": "code",
   "execution_count": 18,
   "metadata": {
    "collapsed": false
   },
   "outputs": [
    {
     "data": {
      "text/plain": [
       "Index([], dtype='object')"
      ]
     },
     "execution_count": 18,
     "metadata": {},
     "output_type": "execute_result"
    }
   ],
   "source": [
    "5_1_gold_indi_descriptor_combined"
   ]
  },
  {
   "cell_type": "code",
   "execution_count": 19,
   "metadata": {
    "collapsed": true
   },
   "outputs": [],
   "source": [
    "df = pd.read_table(\"/DAS_Storage1/aschoi/data/Drug_Repositioning/8_new_training/PREDICT_data/5_1_gold_indi_descriptor_combined.tsv\")"
   ]
  },
  {
   "cell_type": "code",
   "execution_count": null,
   "metadata": {
    "collapsed": true
   },
   "outputs": [],
   "source": [
    "df.columns.values"
   ]
  },
  {
   "cell_type": "code",
   "execution_count": null,
   "metadata": {
    "collapsed": true
   },
   "outputs": [],
   "source": [
    "print df.columns.values[3:1848]\n",
    "print df.columns.values[1848:5370]\n",
    "print df.columns.values[1848:5368]\n",
    "print df.columns.values[5369:]"
   ]
  },
  {
   "cell_type": "code",
   "execution_count": null,
   "metadata": {
    "collapsed": true
   },
   "outputs": [],
   "source": []
  },
  {
   "cell_type": "code",
   "execution_count": null,
   "metadata": {
    "collapsed": true
   },
   "outputs": [],
   "source": []
  },
  {
   "cell_type": "code",
   "execution_count": 3,
   "metadata": {
    "collapsed": false
   },
   "outputs": [],
   "source": [
    "# indication descriptor의 위치를 바꾼다\n",
    "gold = pd.read_table(\"/DAS_Storage1/aschoi/data/Drug_Repositioning/8_new_training/PREDICT_data/5_1_gold_indi_descriptor_combined.tsv\")\n",
    "indep = pd.read_table(\"/DAS_Storage1/aschoi/data/Drug_Repositioning/8_new_training/PREDICT_data/5_2_indep_indi_descriptor.tsv\")"
   ]
  },
  {
   "cell_type": "code",
   "execution_count": 4,
   "metadata": {
    "collapsed": false
   },
   "outputs": [
    {
     "data": {
      "text/html": [
       "<div>\n",
       "<table border=\"1\" class=\"dataframe\">\n",
       "  <thead>\n",
       "    <tr style=\"text-align: right;\">\n",
       "      <th></th>\n",
       "      <th>drug_id</th>\n",
       "      <th>disease_id</th>\n",
       "      <th>association</th>\n",
       "      <th>C0000727</th>\n",
       "      <th>C0000731</th>\n",
       "      <th>C0000737</th>\n",
       "      <th>C0000768</th>\n",
       "      <th>C0000772</th>\n",
       "      <th>C0000786</th>\n",
       "      <th>C0000814</th>\n",
       "      <th>...</th>\n",
       "      <th>C2712907</th>\n",
       "      <th>C2830004</th>\n",
       "      <th>C2937358</th>\n",
       "      <th>C2979982</th>\n",
       "      <th>C2981158</th>\n",
       "      <th>C3160741</th>\n",
       "      <th>C3263723</th>\n",
       "      <th>C3495559</th>\n",
       "      <th>C3495832</th>\n",
       "      <th>C3536983</th>\n",
       "    </tr>\n",
       "  </thead>\n",
       "  <tbody>\n",
       "    <tr>\n",
       "      <th>0</th>\n",
       "      <td>DB00659</td>\n",
       "      <td>103780</td>\n",
       "      <td>1</td>\n",
       "      <td>0</td>\n",
       "      <td>1</td>\n",
       "      <td>0</td>\n",
       "      <td>0</td>\n",
       "      <td>0</td>\n",
       "      <td>0</td>\n",
       "      <td>0</td>\n",
       "      <td>...</td>\n",
       "      <td>0</td>\n",
       "      <td>0</td>\n",
       "      <td>0</td>\n",
       "      <td>0</td>\n",
       "      <td>0</td>\n",
       "      <td>0</td>\n",
       "      <td>0</td>\n",
       "      <td>0</td>\n",
       "      <td>0</td>\n",
       "      <td>0</td>\n",
       "    </tr>\n",
       "  </tbody>\n",
       "</table>\n",
       "<p>1 rows × 5886 columns</p>\n",
       "</div>"
      ],
      "text/plain": [
       "   drug_id  disease_id  association  C0000727  C0000731  C0000737  C0000768  \\\n",
       "0  DB00659      103780            1         0         1         0         0   \n",
       "\n",
       "   C0000772  C0000786  C0000814    ...     C2712907  C2830004  C2937358  \\\n",
       "0         0         0         0    ...            0         0         0   \n",
       "\n",
       "   C2979982  C2981158  C3160741  C3263723  C3495559  C3495832  C3536983  \n",
       "0         0         0         0         0         0         0         0  \n",
       "\n",
       "[1 rows x 5886 columns]"
      ]
     },
     "execution_count": 4,
     "metadata": {},
     "output_type": "execute_result"
    }
   ],
   "source": [
    "gold.head(1)"
   ]
  },
  {
   "cell_type": "code",
   "execution_count": 5,
   "metadata": {
    "collapsed": false
   },
   "outputs": [
    {
     "data": {
      "text/html": [
       "<div>\n",
       "<table border=\"1\" class=\"dataframe\">\n",
       "  <thead>\n",
       "    <tr style=\"text-align: right;\">\n",
       "      <th></th>\n",
       "      <th>drug_id</th>\n",
       "      <th>disease_id</th>\n",
       "      <th>association</th>\n",
       "      <th>C0000727</th>\n",
       "      <th>C0000731</th>\n",
       "      <th>C0000737</th>\n",
       "      <th>C0000768</th>\n",
       "      <th>C0000772</th>\n",
       "      <th>C0000786</th>\n",
       "      <th>C0000814</th>\n",
       "      <th>...</th>\n",
       "      <th>C2712907</th>\n",
       "      <th>C2830004</th>\n",
       "      <th>C2937358</th>\n",
       "      <th>C2979982</th>\n",
       "      <th>C2981158</th>\n",
       "      <th>C3160741</th>\n",
       "      <th>C3263723</th>\n",
       "      <th>C3495559</th>\n",
       "      <th>C3495832</th>\n",
       "      <th>C3536983</th>\n",
       "    </tr>\n",
       "  </thead>\n",
       "  <tbody>\n",
       "    <tr>\n",
       "      <th>0</th>\n",
       "      <td>DB01200</td>\n",
       "      <td>102300</td>\n",
       "      <td>1</td>\n",
       "      <td>0</td>\n",
       "      <td>0</td>\n",
       "      <td>1</td>\n",
       "      <td>0</td>\n",
       "      <td>0</td>\n",
       "      <td>0</td>\n",
       "      <td>0</td>\n",
       "      <td>...</td>\n",
       "      <td>0</td>\n",
       "      <td>0</td>\n",
       "      <td>0</td>\n",
       "      <td>0</td>\n",
       "      <td>1</td>\n",
       "      <td>0</td>\n",
       "      <td>0</td>\n",
       "      <td>0</td>\n",
       "      <td>0</td>\n",
       "      <td>0</td>\n",
       "    </tr>\n",
       "  </tbody>\n",
       "</table>\n",
       "<p>1 rows × 5886 columns</p>\n",
       "</div>"
      ],
      "text/plain": [
       "   drug_id  disease_id  association  C0000727  C0000731  C0000737  C0000768  \\\n",
       "0  DB01200      102300            1         0         0         1         0   \n",
       "\n",
       "   C0000772  C0000786  C0000814    ...     C2712907  C2830004  C2937358  \\\n",
       "0         0         0         0    ...            0         0         0   \n",
       "\n",
       "   C2979982  C2981158  C3160741  C3263723  C3495559  C3495832  C3536983  \n",
       "0         0         1         0         0         0         0         0  \n",
       "\n",
       "[1 rows x 5886 columns]"
      ]
     },
     "execution_count": 5,
     "metadata": {},
     "output_type": "execute_result"
    }
   ],
   "source": [
    "indep.head(1)"
   ]
  },
  {
   "cell_type": "code",
   "execution_count": 10,
   "metadata": {
    "collapsed": false
   },
   "outputs": [
    {
     "name": "stdout",
     "output_type": "stream",
     "text": [
      "['C0000727' 'C0000731' 'C0000737' ..., 'C2607947' 'C2718128' '100188812']\n",
      "['100188813' '100188839' '100302512' ..., '406216' 'C0000731.1' 'C0001175']\n",
      "['100188813' '100188839' '100302512' ..., '84722' '91851' '406216']\n",
      "['C0001175' 'C0001206.1' 'C0001396' 'C0001430.1' 'C0001621' 'C0001622.1'\n",
      " 'C0001623.1' 'C0001807' 'C0001957' 'C0002171' 'C0002390.1' 'C0002453.1'\n",
      " 'C0002514' 'C0002792.1' 'C0002871.1' 'C0002874.1' 'C0002878.1'\n",
      " 'C0002962.1' 'C0002963.1' 'C0002994.1' 'C0003467.1' 'C0003813'\n",
      " 'C0003850.1' 'C0003860' 'C0003862.1' 'C0003864.1' 'C0003868.1' 'C0003872'\n",
      " 'C0003873.1' 'C0003962.1' 'C0004031' 'C0004093.1' 'C0004239.1'\n",
      " 'C0004509.1' 'C0004604.1' 'C0004936' 'C0005138' 'C0005586.1' 'C0005699'\n",
      " 'C0005716' 'C0005779.1' 'C0005940' 'C0005944.1' 'C0006118.1' 'C0006266.1'\n",
      " 'C0006272.1' 'C0006384.1' 'C0006413' 'C0006444.1' 'C0006663' 'C0006826.1'\n",
      " 'C0006846.1' 'C0006849.1' 'C0007020' 'C0007222' 'C0007780.1' 'C0008049.1'\n",
      " 'C0008513' 'C0008526' 'C0008582' 'C0009088.1' 'C0009319.1' 'C0009324.1'\n",
      " 'C0009326' 'C0009450' 'C0009676.1' 'C0009763.1' 'C0009766.1' 'C0009782.1'\n",
      " 'C0010043.1' 'C0010054.1' 'C0010073.1' 'C0010346' 'C0010520' 'C0010543'\n",
      " 'C0011071.1' 'C0011175.1' 'C0011570' 'C0011603.1' 'C0011606.1'\n",
      " 'C0011609.1' 'C0011616.1' 'C0011633.1' 'C0011849.1' 'C0011881'\n",
      " 'C0013182.1' 'C0013390.1' 'C0013404.1' 'C0013415' 'C0013922.1'\n",
      " 'C0014038.1' 'C0014130.1' 'C0014335.1' 'C0014488.1' 'C0014549.1'\n",
      " 'C0014553.1' 'C0014742.1' 'C0015371.1' 'C0015397.1' 'C0015663'\n",
      " 'C0015672.1' 'C0015934' 'C0016034.1' 'C0016059.1' 'C0016204.1'\n",
      " 'C0016382.1' 'C0016385.1' 'C0016397.1' 'C0016655.1' 'C0016658.1'\n",
      " 'C0017086.1' 'C0017178' 'C0017601.1' 'C0017605.1' 'C0018099.1' 'C0018379'\n",
      " 'C0018418.1' 'C0018524.1' 'C0018621.1' 'C0018799.1' 'C0018801.1'\n",
      " 'C0018802.1' 'C0018939.1' 'C0019080.1' 'C0019147' 'C0019156.1'\n",
      " 'C0019360.1' 'C0019364' 'C0019572.1' 'C0019655.1' 'C0020039' 'C0020428'\n",
      " 'C0020443.1' 'C0020456.1' 'C0020458.1' 'C0020473.1' 'C0020480'\n",
      " 'C0020488.1' 'C0020503.1' 'C0020514.1' 'C0020540.1' 'C0020546'\n",
      " 'C0020557.1' 'C0020580' 'C0020598.1' 'C0020615.1' 'C0020621.1'\n",
      " 'C0020649.1' 'C0020676.1' 'C0021051' 'C0021308' 'C0021359.1' 'C0021361'\n",
      " 'C0021364.1' 'C0021368' 'C0021400.1' 'C0021807' 'C0022073.1' 'C0022081.1'\n",
      " 'C0022107' 'C0022116.1' 'C0022568.1' 'C0022661.1' 'C0023052' 'C0023211.1'\n",
      " 'C0023473' 'C0023646.1' 'C0023895.1' 'C0024117.1' 'C0024137' 'C0024299.1'\n",
      " 'C0024305' 'C0024419' 'C0024902.1' 'C0025007' 'C0025289.1' 'C0025320'\n",
      " 'C0025323.1' 'C0026205.1' 'C0026946.1' 'C0026986.1' 'C0027051.1'\n",
      " 'C0027092.1' 'C0027404.1' 'C0027424.1' 'C0027429' 'C0027441.1'\n",
      " 'C0027651.1' 'C0027765' 'C0027796.1' 'C0027813.1' 'C0027822.1'\n",
      " 'C0027868.1' 'C0027932.1' 'C0028840' 'C0028949.1' 'C0029077' 'C0029134.1'\n",
      " 'C0029405' 'C0029453.1' 'C0029458' 'C0029927.1' 'C0030232' 'C0030409'\n",
      " 'C0030807' 'C0030920.1' 'C0031036.1' 'C0031037' 'C0031039.1' 'C0031572'\n",
      " 'C0032019' 'C0032024' 'C0032131' 'C0032227.1' 'C0032285.1' 'C0032290.1'\n",
      " 'C0032343' 'C0032529' 'C0032533.1' 'C0032584.1' 'C0032961' 'C0033036.1'\n",
      " 'C0033046.1' 'C0033247.1' 'C0033687.1' 'C0033774.1' 'C0033806'\n",
      " 'C0033860.1' 'C0033975.1' 'C0034065.1' 'C0034068.1' 'C0034069.1'\n",
      " 'C0034072' 'C0034150.1' 'C0034902.1' 'C0035086' 'C0035220' 'C0035243'\n",
      " 'C0035335' 'C0035357.1' 'C0035412' 'C0035436' 'C0035439' 'C0035455.1'\n",
      " 'C0035460' 'C0035579' 'C0035854.1' 'C0036508.1' 'C0036830.1' 'C0036974.1'\n",
      " 'C0037195.1' 'C0037274.1' 'C0037383.1' 'C0037929.1' 'C0038012'\n",
      " 'C0038013.1' 'C0038218' 'C0038220.1' 'C0038325' 'C0038525.1' 'C0038663.1'\n",
      " 'C0038999.1' 'C0039103.1' 'C0039231.1' 'C0039240.1' 'C0039520.1'\n",
      " 'C0039730' 'C0040034.1' 'C0040046.1' 'C0040100' 'C0040128.1' 'C0040147.1'\n",
      " 'C0040247.1' 'C0040252' 'C0040259.1' 'C0040262' 'C0040460.1' 'C0040896'\n",
      " 'C0041296.1' 'C0041318' 'C0041327' 'C0041582.1' 'C0041657.1' 'C0041834.1'\n",
      " 'C0042029.1' 'C0042109.1' 'C0042133.1' 'C0042134.1' 'C0042164.1'\n",
      " 'C0042373.1' 'C0042376' 'C0042384.1' 'C0042487.1' 'C0042514.1'\n",
      " 'C0042769.1' 'C0042963.1' 'C0043096.1' 'C0043117.1' 'C0043352.1'\n",
      " 'C0080203' 'C0085074' 'C0085129.1' 'C0085570' 'C0085593.1' 'C0085605.1'\n",
      " 'C0085612' 'C0085614.1' 'C0085615.1' 'C0085616.1' 'C0085631.1'\n",
      " 'C0085633.1' 'C0085655.1' 'C0085669' 'C0085740' 'C0085762.1' 'C0085932.1'\n",
      " 'C0086439.1' 'C0086565' 'C0086769.1' 'C0149911.1' 'C0149958' 'C0151467.1'\n",
      " 'C0151477' 'C0151517.1' 'C0151563.1' 'C0151611.1' 'C0151740.1'\n",
      " 'C0151744.1' 'C0151763.1' 'C0151824' 'C0151825.1' 'C0151878.1'\n",
      " 'C0152021.1' 'C0152029.1' 'C0152128.1' 'C0152227' 'C0152267' 'C0153594'\n",
      " 'C0153633' 'C0155169' 'C0155626' 'C0162529.1' 'C0178416' 'C0220650.1'\n",
      " 'C0220983.1' 'C0220994.1' 'C0221013' 'C0221207' 'C0221244' 'C0231218.1'\n",
      " 'C0231528.1' 'C0232197.1' 'C0232201' 'C0233414' 'C0233459' 'C0233477.1'\n",
      " 'C0233494' 'C0233565' 'C0233657' 'C0233681' 'C0233697' 'C0233718'\n",
      " 'C0233794' 'C0234192.1' 'C0234215' 'C0234245' 'C0235195' 'C0235378.1'\n",
      " 'C0235437' 'C0235660.1' 'C0235996.1' 'C0236018' 'C0236075' 'C0237849.1'\n",
      " 'C0238111' 'C0238198.1' 'C0238284' 'C0239571.1' 'C0242184.1' 'C0242339.1'\n",
      " 'C0242350' 'C0242379.1' 'C0242459.1' 'C0242528.1' 'C0242656' 'C0242698.1'\n",
      " 'C0243026.1' 'C0259799.1' 'C0262397.1' 'C0263338' 'C0263912.1' 'C0264009'\n",
      " 'C0264220' 'C0264383.1' 'C0264886' 'C0264893' 'C0268000' 'C0268732'\n",
      " 'C0269661' 'C0270860' 'C0270862' 'C0270922' 'C0271650.1' 'C0271728'\n",
      " 'C0271738.1' 'C0274435' 'C0278134.1' 'C0302280' 'C0302592.1' 'C0333641'\n",
      " 'C0338831' 'C0339289' 'C0340726.1' 'C0343065' 'C0344315.1' 'C0346421'\n",
      " 'C0349231.1' 'C0392039' 'C0392445' 'C0392784' 'C0404576' 'C0424000'\n",
      " 'C0424091.1' 'C0424295' 'C0428776' 'C0428974.1' 'C0428977.1' 'C0429468.1'\n",
      " 'C0458631' 'C0476089.1' 'C0476431' 'C0497209.1' 'C0497247.1' 'C0518015'\n",
      " 'C0520463.1' 'C0521305' 'C0546884.1' 'C0553580' 'C0554976' 'C0595939.1'\n",
      " 'C0600104.1' 'C0600142' 'C0677886' 'C0679048' 'C0679254.1' 'C0686377.1'\n",
      " 'C0687133' 'C0700198' 'C0700361.1' 'C0700502' 'C0701836' 'C0702159'\n",
      " 'C0730345.1' 'C0747102' 'C0747733' 'C0751466.1' 'C0751495' 'C0751748'\n",
      " 'C0848309.1' 'C0852932' 'C0853023' 'C0853193' 'C0853348.1' 'C0857305'\n",
      " 'C0858318' 'C0858319' 'C0858320' 'C0869523.1' 'C0877854.1' 'C0917798.1'\n",
      " 'C0917799.1' 'C0917801.1' 'C0948089.1' 'C0948525.1' 'C0948586'\n",
      " 'C0948594.1' 'C0949691.1' 'C1135868' 'C1140680' 'C1258192' 'C1260880.1'\n",
      " 'C1261473.1' 'C1262141.1' 'C1262165.1' 'C1266194.1' 'C1269683.1'\n",
      " 'C1306889' 'C1322281.1' 'C1384514' 'C1384589.1' 'C1443060.1' 'C1527311'\n",
      " 'C1527336.1' 'C1527407.1' 'C1535939.1' 'C1536075' 'C1540912' 'C1565489'\n",
      " 'C1619712.1' 'C1704375' 'C1800706' 'C1868753' 'C1956391' 'C1960448'\n",
      " 'C2004491' 'C2607914' 'C2609041' 'C2712907' 'C2830004' 'C2937358'\n",
      " 'C2979982' 'C2981158' 'C3160741' 'C3263723' 'C3495559' 'C3495832'\n",
      " 'C3536983']\n"
     ]
    }
   ],
   "source": [
    "print gold.columns.values[3:1848]\n",
    "print gold.columns.values[1848:5370]\n",
    "print gold.columns.values[1848:5368]\n",
    "print gold.columns.values[5369:]"
   ]
  },
  {
   "cell_type": "code",
   "execution_count": null,
   "metadata": {
    "collapsed": true
   },
   "outputs": [],
   "source": [
    "print gold.columns.values[3:1847] # drug\n",
    "print gold.columns.values[1848:] # disease\n",
    "print gold.columns.values[3:]"
   ]
  }
 ],
 "metadata": {
  "kernelspec": {
   "display_name": "Python 2",
   "language": "python",
   "name": "python2"
  },
  "language_info": {
   "codemirror_mode": {
    "name": "ipython",
    "version": 2
   },
   "file_extension": ".py",
   "mimetype": "text/x-python",
   "name": "python",
   "nbconvert_exporter": "python",
   "pygments_lexer": "ipython2",
   "version": "2.7.6"
  }
 },
 "nbformat": 4,
 "nbformat_minor": 2
}
