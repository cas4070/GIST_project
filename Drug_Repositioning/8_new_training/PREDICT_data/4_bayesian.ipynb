{
 "cells": [
  {
   "cell_type": "code",
   "execution_count": 1,
   "metadata": {
    "collapsed": true
   },
   "outputs": [],
   "source": [
    "import numpy as np\n",
    "import pandas as pd\n",
    "from datetime import datetime\n",
    "from __future__ import division"
   ]
  },
  {
   "cell_type": "code",
   "execution_count": 2,
   "metadata": {
    "collapsed": true
   },
   "outputs": [],
   "source": [
    "tn01 = pd.read_table(\"/DAS_Storage1/aschoi/data/Drug_Repositioning/8_new_training/PREDICT_data/3_1_tn_whole_descriptor_predict.tsv\")\n",
    "tn005 = pd.read_table(\"/DAS_Storage1/aschoi/data/Drug_Repositioning/8_new_training/PREDICT_data/3_1_tn_whole_descriptor_005_predict.tsv\")"
   ]
  },
  {
   "cell_type": "code",
   "execution_count": 3,
   "metadata": {
    "collapsed": false
   },
   "outputs": [
    {
     "name": "stdout",
     "output_type": "stream",
     "text": [
      "10183\n",
      "21337\n"
     ]
    }
   ],
   "source": [
    "print len(tn01)\n",
    "print len(tn005)"
   ]
  },
  {
   "cell_type": "code",
   "execution_count": 4,
   "metadata": {
    "collapsed": true
   },
   "outputs": [],
   "source": [
    "df_pos01 = tn01[tn01.association == 1]\n",
    "df_neg01 = tn01[tn01.association == 0]\n",
    "df_pos005 = tn005[tn005.association == 1]\n",
    "df_neg005 = tn005[tn005.association == 0]"
   ]
  },
  {
   "cell_type": "code",
   "execution_count": 5,
   "metadata": {
    "collapsed": true
   },
   "outputs": [],
   "source": [
    "features = tn01.columns.values[3:].tolist()\n",
    "pos01 = df_pos01[features]\n",
    "neg01 = df_neg01[features]\n",
    "pos005 = df_pos005[features]\n",
    "neg005 = df_neg005[features]"
   ]
  },
  {
   "cell_type": "code",
   "execution_count": 6,
   "metadata": {
    "collapsed": true
   },
   "outputs": [],
   "source": [
    "pos_feature_sum01 = pos01.sum(axis=0)\n",
    "neg_feature_sum01 = neg01.sum(axis=0)\n",
    "pos_feature_sum005 = pos005.sum(axis=0)\n",
    "neg_feature_sum005 = neg005.sum(axis=0)"
   ]
  },
  {
   "cell_type": "code",
   "execution_count": 7,
   "metadata": {
    "collapsed": true
   },
   "outputs": [],
   "source": [
    "df_pos_sum01 = pd.DataFrame({'feature' : pos_feature_sum01.index.values, 'sum' : pos_feature_sum01.values})\n",
    "df_neg_sum01 = pd.DataFrame({'feature' : neg_feature_sum01.index.values, 'sum' : neg_feature_sum01.values})\n",
    "df_pos_sum005 = pd.DataFrame({'feature' : pos_feature_sum005.index.values, 'sum' : pos_feature_sum005.values})\n",
    "df_neg_sum005 = pd.DataFrame({'feature' : neg_feature_sum005.index.values, 'sum' : neg_feature_sum005.values})"
   ]
  },
  {
   "cell_type": "code",
   "execution_count": 8,
   "metadata": {
    "collapsed": false
   },
   "outputs": [
    {
     "name": "stdout",
     "output_type": "stream",
     "text": [
      "8821\n",
      "19975\n"
     ]
    }
   ],
   "source": [
    "print len(neg01)\n",
    "print len(neg005)"
   ]
  },
  {
   "cell_type": "code",
   "execution_count": 10,
   "metadata": {
    "collapsed": true
   },
   "outputs": [],
   "source": [
    "#### Labplace Smoothing\n",
    "numP01 = len(pos01)\n",
    "numN01 = len(neg01)\n",
    "LapP01 = (numP01 +1) / (numP01 + numN01 + 2)\n",
    "LapN01 = (numN01 +1 ) / (numP01 + numN01 + 2)\n",
    "\n",
    "numP005 = len(pos005)\n",
    "numN005 = len(neg005)\n",
    "LapP005 = (numP005 +1) / (numP005 + numN005 + 2)\n",
    "LapN005 = (numN005 +1 ) / (numP005 + numN005 + 2)"
   ]
  },
  {
   "cell_type": "code",
   "execution_count": 11,
   "metadata": {
    "collapsed": true
   },
   "outputs": [],
   "source": [
    "# P(Feature | Positive), P(Feature | Negative)\n",
    "LapF_P01 = (df_pos_sum01['sum'] + 1) / (numP01 + 2)\n",
    "LapF_N01 = (df_neg_sum01['sum'] + 1) / (numN01 + 2)\n",
    "LapF_P005 = (df_pos_sum005['sum'] + 1) / (numP005 + 2)\n",
    "LapF_N005 = (df_neg_sum005['sum'] + 1) / (numN005 + 2)"
   ]
  },
  {
   "cell_type": "code",
   "execution_count": 12,
   "metadata": {
    "collapsed": true
   },
   "outputs": [],
   "source": [
    "# P(Positive | Featue), P(Negative | Feature) : positive일 경우  (LapF_P * LapP) / (LapF_P * LapP + LapF_N + LapN)\n",
    "LapP_F01 = (LapF_P01 * LapP01) / (LapF_P01 * LapP01 + LapF_N01 * LapN01)\n",
    "LapN_F01 = (LapF_N01 * LapN01) / (LapF_P01 * LapP01 + LapF_N01 * LapN01)\n",
    "# P(Positive | Featue), P(Negative | Feature) : positive일 경우  (LapF_P * LapP) / (LapF_P * LapP + LapF_N + LapN)\n",
    "LapP_F005 = (LapF_P005 * LapP005) / (LapF_P005 * LapP005 + LapF_N005 * LapN005)\n",
    "LapN_F005 = (LapF_N005 * LapN005) / (LapF_P005 * LapP005 + LapF_N005 * LapN005)"
   ]
  },
  {
   "cell_type": "code",
   "execution_count": 13,
   "metadata": {
    "collapsed": false
   },
   "outputs": [
    {
     "name": "stdout",
     "output_type": "stream",
     "text": [
      "0.996209780676\n",
      "0.996209780676\n",
      "0.996209541703\n",
      "0.996209541703\n"
     ]
    }
   ],
   "source": [
    "print LapP_F01.max()\n",
    "print LapP_F01.max()\n",
    "print LapP_F005.max()\n",
    "print LapP_F005.max()"
   ]
  },
  {
   "cell_type": "code",
   "execution_count": 14,
   "metadata": {
    "collapsed": false
   },
   "outputs": [
    {
     "name": "stdout",
     "output_type": "stream",
     "text": [
      "-6.62294637716\n",
      "8.03802443159\n",
      "-7.51273851638\n",
      "8.03793312668\n"
     ]
    }
   ],
   "source": [
    "# Log odds ratio\n",
    "odds01 = np.log2(LapP_F01) - np.log2(LapN_F01)\n",
    "print odds01.min()\n",
    "print odds01.max()\n",
    "# Log odds ratio\n",
    "odds005 = np.log2(LapP_F005) - np.log2(LapN_F005)\n",
    "print odds005.min()\n",
    "print odds005.max()"
   ]
  },
  {
   "cell_type": "code",
   "execution_count": 15,
   "metadata": {
    "collapsed": false
   },
   "outputs": [
    {
     "name": "stderr",
     "output_type": "stream",
     "text": [
      "/usr/local/lib/python2.7/dist-packages/matplotlib/font_manager.py:273: UserWarning: Matplotlib is building the font cache using fc-list. This may take a moment.\n",
      "  warnings.warn('Matplotlib is building the font cache using fc-list. This may take a moment.')\n"
     ]
    },
    {
     "data": {
      "text/plain": [
       "<matplotlib.text.Text at 0x7f7dc52d8290>"
      ]
     },
     "execution_count": 15,
     "metadata": {},
     "output_type": "execute_result"
    },
    {
     "data": {
      "image/png": "[encoded data removed]",
      "text/plain": [
       "<matplotlib.figure.Figure at 0x7f7dc2a953d0>"
      ]
     },
     "metadata": {},
     "output_type": "display_data"
    }
   ],
   "source": [
    "import matplotlib.pyplot as plt\n",
    "import numpy as np\n",
    "import plotly.plotly as py\n",
    "%matplotlib inline\n",
    "num_bins = 17\n",
    "plt.hist(odds01, num_bins)\n",
    "plt.xticks(np.arange(-8, 9, 1))\n",
    "plt.xlabel(\"odds ratio\")\n",
    "plt.ylabel(\"# of features\")"
   ]
  },
  {
   "cell_type": "code",
   "execution_count": 16,
   "metadata": {
    "collapsed": false
   },
   "outputs": [
    {
     "data": {
      "text/plain": [
       "<matplotlib.text.Text at 0x7f7dc39ab850>"
      ]
     },
     "execution_count": 16,
     "metadata": {},
     "output_type": "execute_result"
    },
    {
     "data": {
      "image/png": "[encoded data removed]",
      "text/plain": [
       "<matplotlib.figure.Figure at 0x7f7dc2668590>"
      ]
     },
     "metadata": {},
     "output_type": "display_data"
    }
   ],
   "source": [
    "%matplotlib inline\n",
    "num_bins = 17\n",
    "plt.hist(odds005, num_bins)\n",
    "plt.xticks(np.arange(-8, 9, 1))\n",
    "plt.xlabel(\"odds ratio\")\n",
    "plt.ylabel(\"# of features\")"
   ]
  },
  {
   "cell_type": "code",
   "execution_count": 24,
   "metadata": {
    "collapsed": false
   },
   "outputs": [],
   "source": [
    "df_odds01 = pd.DataFrame({'feature' : features, 'odds' : odds01})\n",
    "df_odds005 = pd.DataFrame({'feature' : features, 'odds' : odds005})"
   ]
  },
  {
   "cell_type": "code",
   "execution_count": 25,
   "metadata": {
    "collapsed": false
   },
   "outputs": [],
   "source": [
    "df_odds01.to_csv(\"/home/share/aschoi/nas/users/asolchoi/data/Drug_Repositioning/7_new_association/PREDICT_data/8_odds01_by_feature.tsv\", sep='\\t', index=False)\n",
    "df_odds01.to_csv(\"/DAS_Storage1/aschoi/data/Drug_Repositioning/7_new_association/PREDICT_data/8_odds01_by_feature.tsv\", sep='\\t', index=False)\n",
    "df_odds005.to_csv(\"/home/share/aschoi/nas/users/asolchoi/data/Drug_Repositioning/7_new_association/PREDICT_data/8_odds005_by_feature.tsv\", sep='\\t', index=False)\n",
    "df_odds005.to_csv(\"/DAS_Storage1/aschoi/data/Drug_Repositioning/7_new_association/PREDICT_data/8_odds005_by_feature.tsv\", sep='\\t', index=False)"
   ]
  },
  {
   "cell_type": "code",
   "execution_count": 27,
   "metadata": {
    "collapsed": false
   },
   "outputs": [
    {
     "name": "stdout",
     "output_type": "stream",
     "text": [
      "3065\n",
      "start : 2017-03-28 10:12:38\n",
      "start : 2017-03-28 10:17:35\n",
      "6233\n"
     ]
    }
   ],
   "source": [
    "#positive feature를 전부 고려했을 시의 negative association\n",
    "filtered = df_odds01[df_odds01.odds > 0]\n",
    "feature_ids = filtered['feature'].tolist()\n",
    "print len(filtered)\n",
    "print 'start : ' + datetime.now().strftime('%Y-%m-%d %H:%M:%S')\n",
    "for i in range(len(filtered)):\n",
    "    feature_id = feature_ids[i]\n",
    "    if i ==0 :\n",
    "        temp = df_neg01[df_neg01[feature_id] == 0] # positive feature가 0인 negative association \n",
    "    else:\n",
    "        temp = temp[temp[feature_id] == 0]\n",
    "print 'start : ' + datetime.now().strftime('%Y-%m-%d %H:%M:%S')\n",
    "print len(temp)"
   ]
  },
  {
   "cell_type": "code",
   "execution_count": 28,
   "metadata": {
    "collapsed": true
   },
   "outputs": [],
   "source": [
    "frames = [temp, df_pos01]\n",
    "bayesiand_descriptor01 = pd.concat(frames)"
   ]
  },
  {
   "cell_type": "code",
   "execution_count": 30,
   "metadata": {
    "collapsed": false
   },
   "outputs": [
    {
     "name": "stdout",
     "output_type": "stream",
     "text": [
      " 6233 1362 7595\n"
     ]
    }
   ],
   "source": [
    "print len(temp), len(pos01), len(bayesiand_descriptor01)"
   ]
  },
  {
   "cell_type": "code",
   "execution_count": 32,
   "metadata": {
    "collapsed": false
   },
   "outputs": [],
   "source": [
    "bayesiand_descriptor01.to_csv(\"/DAS_Storage1/aschoi/data/Drug_Repositioning/8_new_training/PREDICT_data/4_1_tn_whole_descriptor_bayesian_predict.tsv\", sep='\\t', index=False)"
   ]
  },
  {
   "cell_type": "code",
   "execution_count": 33,
   "metadata": {
    "collapsed": false
   },
   "outputs": [
    {
     "name": "stdout",
     "output_type": "stream",
     "text": [
      "2855\n",
      "start : 2017-03-28 10:49:03\n",
      "start : 2017-03-28 11:03:21\n",
      "18155\n"
     ]
    }
   ],
   "source": [
    "#positive feature를 전부 고려했을 시의 negative association\n",
    "filtered = df_odds005[df_odds005.odds > 0]\n",
    "feature_ids = filtered['feature'].tolist()\n",
    "print len(filtered)\n",
    "print 'start : ' + datetime.now().strftime('%Y-%m-%d %H:%M:%S')\n",
    "for i in range(len(filtered)):\n",
    "    feature_id = feature_ids[i]\n",
    "    if i ==0 :\n",
    "        temp = df_neg005[df_neg005[feature_id] == 0] # positive feature가 0인 negative association \n",
    "    else:\n",
    "        temp = temp[temp[feature_id] == 0]\n",
    "print 'start : ' + datetime.now().strftime('%Y-%m-%d %H:%M:%S')\n",
    "print len(temp)"
   ]
  },
  {
   "cell_type": "code",
   "execution_count": 34,
   "metadata": {
    "collapsed": true
   },
   "outputs": [],
   "source": [
    "frames = [temp, df_pos005]\n",
    "bayesiand_descriptor005 = pd.concat(frames)"
   ]
  },
  {
   "cell_type": "code",
   "execution_count": 35,
   "metadata": {
    "collapsed": false
   },
   "outputs": [
    {
     "name": "stdout",
     "output_type": "stream",
     "text": [
      "18155 1362 7595\n"
     ]
    }
   ],
   "source": [
    "print len(temp), len(pos01), len(bayesiand_descriptor01)"
   ]
  },
  {
   "cell_type": "code",
   "execution_count": 36,
   "metadata": {
    "collapsed": true
   },
   "outputs": [],
   "source": [
    "bayesiand_descriptor005.to_csv(\"/DAS_Storage1/aschoi/data/Drug_Repositioning/8_new_training/PREDICT_data/4_1_tn_whole_descriptor_005_bayesian_predict.tsv\", sep='\\t', index=False)"
   ]
  },
  {
   "cell_type": "code",
   "execution_count": 2,
   "metadata": {
    "collapsed": true
   },
   "outputs": [],
   "source": [
    "tn_local = pd.read_table(\"/DAS_Storage1/aschoi/data/Drug_Repositioning/8_new_training/PREDICT_data/3_2_tn_local_descriptor.tsv\")"
   ]
  },
  {
   "cell_type": "code",
   "execution_count": 3,
   "metadata": {
    "collapsed": false
   },
   "outputs": [
    {
     "name": "stdout",
     "output_type": "stream",
     "text": [
      "12887\n",
      "-7.79536201196\n",
      "1.23535187776\n"
     ]
    }
   ],
   "source": [
    "df_pos = tn_local[tn_local.association == 1]\n",
    "df_neg = tn_local[tn_local.association == 0]\n",
    "\n",
    "features = tn_local.columns.values[3:].tolist()\n",
    "pos = df_pos[features]\n",
    "neg = df_neg[features]\n",
    "\n",
    "pos_feature_sum = pos.sum(axis=0)\n",
    "neg_feature_sum = neg.sum(axis=0)\n",
    "\n",
    "df_pos_sum = pd.DataFrame({'feature' : pos_feature_sum.index.values, 'sum' : pos_feature_sum.values})\n",
    "df_neg_sum = pd.DataFrame({'feature' : neg_feature_sum.index.values, 'sum' : neg_feature_sum.values})\n",
    "print len(neg)\n",
    "\n",
    "#### Labplace Smoothing\n",
    "numP = len(pos)\n",
    "numN = len(neg)\n",
    "LapP = (numP +1) / (numP + numN + 2)\n",
    "LapN = (numN +1 ) / (numP + numN + 2)\n",
    "\n",
    "# P(Feature | Positive), P(Feature | Negative)\n",
    "LapF_P = (df_pos_sum['sum'] + 1) / (numP + 2)\n",
    "LapF_N = (df_neg_sum['sum'] + 1) / (numN + 2)\n",
    "\n",
    "# P(Positive | Featue), P(Negative | Feature) : positive일 경우  (LapF_P * LapP) / (LapF_P * LapP + LapF_N + LapN)\n",
    "LapP_F = (LapF_P * LapP) / (LapF_P * LapP + LapF_N * LapN)\n",
    "LapN_F = (LapF_N * LapN) / (LapF_P * LapP + LapF_N * LapN)\n",
    "\n",
    "# Log odds ratio\n",
    "odds = np.log2(LapP_F) - np.log2(LapN_F)\n",
    "print odds.min()\n",
    "print odds.max()"
   ]
  },
  {
   "cell_type": "code",
   "execution_count": 4,
   "metadata": {
    "collapsed": false
   },
   "outputs": [
    {
     "name": "stderr",
     "output_type": "stream",
     "text": [
      "/usr/local/lib/python2.7/dist-packages/matplotlib/font_manager.py:273: UserWarning: Matplotlib is building the font cache using fc-list. This may take a moment.\n",
      "  warnings.warn('Matplotlib is building the font cache using fc-list. This may take a moment.')\n"
     ]
    },
    {
     "data": {
      "text/plain": [
       "<matplotlib.text.Text at 0x7f9125d9da10>"
      ]
     },
     "execution_count": 4,
     "metadata": {},
     "output_type": "execute_result"
    },
    {
     "data": {
      "image/png": "[encoded data removed]",
      "text/plain": [
       "<matplotlib.figure.Figure at 0x7f90963a8e10>"
      ]
     },
     "metadata": {},
     "output_type": "display_data"
    }
   ],
   "source": [
    "import matplotlib.pyplot as plt\n",
    "import numpy as np\n",
    "import plotly.plotly as py\n",
    "%matplotlib inline\n",
    "num_bins = 17\n",
    "plt.hist(odds, num_bins)\n",
    "plt.xticks(np.arange(-8, 9, 1))\n",
    "plt.xlabel(\"odds ratio\")\n",
    "plt.ylabel(\"# of features\")"
   ]
  },
  {
   "cell_type": "code",
   "execution_count": 9,
   "metadata": {
    "collapsed": false
   },
   "outputs": [],
   "source": [
    "df_odds = pd.DataFrame({'feature' : features, 'odds' : odds})\n",
    "\n",
    "df_odds.to_csv(\"/home/share/aschoi/nas/users/asolchoi/data/Drug_Repositioning/7_new_association/PREDICT_data/8_2_odds_local_by_feature.tsv\", sep='\\t', index=False)\n",
    "df_odds.to_csv(\"/DAS_Storage1/aschoi/data/Drug_Repositioning/7_new_association/PREDICT_data/8_2_odds_local_by_feature.tsv\", sep='\\t', index=False)"
   ]
  },
  {
   "cell_type": "code",
   "execution_count": 10,
   "metadata": {
    "collapsed": false
   },
   "outputs": [
    {
     "name": "stdout",
     "output_type": "stream",
     "text": [
      "149\n",
      "start : 2017-03-28 20:15:36\n",
      "start : 2017-03-28 20:16:02\n",
      "11002\n"
     ]
    }
   ],
   "source": [
    "#positive feature를 전부 고려했을 시의 negative association\n",
    "filtered = df_odds[df_odds.odds > 0]\n",
    "feature_ids = filtered['feature'].tolist()\n",
    "print len(filtered)\n",
    "print 'start : ' + datetime.now().strftime('%Y-%m-%d %H:%M:%S')\n",
    "for i in range(len(filtered)):\n",
    "    feature_id = feature_ids[i]\n",
    "    if i ==0 :\n",
    "        temp = df_neg[df_neg[feature_id] == 0] # positive feature가 0인 negative association \n",
    "    else:\n",
    "        temp = temp[temp[feature_id] == 0]\n",
    "print 'start : ' + datetime.now().strftime('%Y-%m-%d %H:%M:%S')\n",
    "print len(temp)"
   ]
  },
  {
   "cell_type": "code",
   "execution_count": 12,
   "metadata": {
    "collapsed": false
   },
   "outputs": [
    {
     "name": "stdout",
     "output_type": "stream",
     "text": [
      " 11002 1362 12364\n"
     ]
    }
   ],
   "source": [
    "frames = [temp, df_pos]\n",
    "bayesiand_descriptor = pd.concat(frames)\n",
    "\n",
    "print len(temp), len(df_pos), len(bayesiand_descriptor)\n",
    "\n",
    "bayesiand_descriptor.to_csv(\"/DAS_Storage1/aschoi/data/Drug_Repositioning/8_new_training/PREDICT_data/4_2_tn_local_descriptor.tsv\", sep='\\t', index=False)"
   ]
  },
  {
   "cell_type": "code",
   "execution_count": null,
   "metadata": {
    "collapsed": true
   },
   "outputs": [],
   "source": []
  }
 ],
 "metadata": {
  "kernelspec": {
   "display_name": "Python 2",
   "language": "python",
   "name": "python2"
  },
  "language_info": {
   "codemirror_mode": {
    "name": "ipython",
    "version": 2
   },
   "file_extension": ".py",
   "mimetype": "text/x-python",
   "name": "python",
   "nbconvert_exporter": "python",
   "pygments_lexer": "ipython2",
   "version": "2.7.6"
  }
 },
 "nbformat": 4,
 "nbformat_minor": 2
}
