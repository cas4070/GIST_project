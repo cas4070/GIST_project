{
 "cells": [
  {
   "cell_type": "code",
   "execution_count": 48,
   "metadata": {
    "collapsed": true
   },
   "outputs": [],
   "source": [
    "import pandas as pd\n",
    "import tensorflow as tf"
   ]
  },
  {
   "cell_type": "code",
   "execution_count": 56,
   "metadata": {
    "collapsed": true
   },
   "outputs": [],
   "source": [
    "from sklearn.metrics import roc_auc_score, precision_recall_curve, auc\n",
    "from sklearn.model_selection import KFold\n",
    "from keras.wrappers.scikit_learn import KerasClassifier"
   ]
  },
  {
   "cell_type": "code",
   "execution_count": 2,
   "metadata": {
    "collapsed": true
   },
   "outputs": [],
   "source": [
    "df = pd.read_table(\"/DAS_Storage1/aschoi/data/Drug_Repositioning/8_new_training/PREDICT_data/4_2_tn_local_descriptor_bayesian.tsv\")"
   ]
  },
  {
   "cell_type": "code",
   "execution_count": 73,
   "metadata": {
    "collapsed": true
   },
   "outputs": [],
   "source": [
    "indep = pd.read_table(\"/DAS_Storage1/aschoi/data/Drug_Repositioning/8_new_training/PREDICT_data/2_2_indep_descriptor.tsv\")"
   ]
  },
  {
   "cell_type": "code",
   "execution_count": 3,
   "metadata": {
    "collapsed": false
   },
   "outputs": [
    {
     "name": "stdout",
     "output_type": "stream",
     "text": [
      "12364\n"
     ]
    },
    {
     "data": {
      "text/html": [
       "<div>\n",
       "<table border=\"1\" class=\"dataframe\">\n",
       "  <thead>\n",
       "    <tr style=\"text-align: right;\">\n",
       "      <th></th>\n",
       "      <th>drug_id</th>\n",
       "      <th>disease_id</th>\n",
       "      <th>association</th>\n",
       "      <th>C0000727</th>\n",
       "      <th>C0000731</th>\n",
       "      <th>C0000737</th>\n",
       "      <th>C0000768</th>\n",
       "      <th>C0000772</th>\n",
       "      <th>C0000786</th>\n",
       "      <th>C0000814</th>\n",
       "      <th>...</th>\n",
       "      <th>387585</th>\n",
       "      <th>388165</th>\n",
       "      <th>55219</th>\n",
       "      <th>55973</th>\n",
       "      <th>65264</th>\n",
       "      <th>80350</th>\n",
       "      <th>84624</th>\n",
       "      <th>84722</th>\n",
       "      <th>91851</th>\n",
       "      <th>406216</th>\n",
       "    </tr>\n",
       "  </thead>\n",
       "  <tbody>\n",
       "    <tr>\n",
       "      <th>0</th>\n",
       "      <td>DB01156</td>\n",
       "      <td>157300</td>\n",
       "      <td>0</td>\n",
       "      <td>0</td>\n",
       "      <td>1</td>\n",
       "      <td>1</td>\n",
       "      <td>0</td>\n",
       "      <td>1</td>\n",
       "      <td>0</td>\n",
       "      <td>0</td>\n",
       "      <td>...</td>\n",
       "      <td>0</td>\n",
       "      <td>0</td>\n",
       "      <td>0</td>\n",
       "      <td>0</td>\n",
       "      <td>0</td>\n",
       "      <td>0</td>\n",
       "      <td>0</td>\n",
       "      <td>0</td>\n",
       "      <td>0</td>\n",
       "      <td>0</td>\n",
       "    </tr>\n",
       "  </tbody>\n",
       "</table>\n",
       "<p>1 rows × 5368 columns</p>\n",
       "</div>"
      ],
      "text/plain": [
       "   drug_id  disease_id  association  C0000727  C0000731  C0000737  C0000768  \\\n",
       "0  DB01156      157300            0         0         1         1         0   \n",
       "\n",
       "   C0000772  C0000786  C0000814   ...    387585  388165  55219  55973  65264  \\\n",
       "0         1         0         0   ...         0       0      0      0      0   \n",
       "\n",
       "   80350  84624  84722  91851  406216  \n",
       "0      0      0      0      0       0  \n",
       "\n",
       "[1 rows x 5368 columns]"
      ]
     },
     "execution_count": 3,
     "metadata": {},
     "output_type": "execute_result"
    }
   ],
   "source": [
    "print len(df)\n",
    "df.head(1)"
   ]
  },
  {
   "cell_type": "code",
   "execution_count": 9,
   "metadata": {
    "collapsed": false
   },
   "outputs": [
    {
     "name": "stdout",
     "output_type": "stream",
     "text": [
      "['drug_id' 'disease_id' 'association' ..., 'C2718128' '100188812'\n",
      " '100188813']\n",
      "['drug_id' 'disease_id' 'association' ..., 'C2363731' 'C2607947' 'C2718128']\n"
     ]
    }
   ],
   "source": [
    "print df.columns.values[:1849]\n",
    "print df.columns.values[:1847]"
   ]
  },
  {
   "cell_type": "code",
   "execution_count": 10,
   "metadata": {
    "collapsed": true
   },
   "outputs": [],
   "source": [
    "asso = df[['association']]\n",
    "drug = df[df.columns.values[3:1847].tolist()]\n",
    "disease = df[df.columns.values[1848:].tolist()]"
   ]
  },
  {
   "cell_type": "code",
   "execution_count": 18,
   "metadata": {
    "collapsed": false
   },
   "outputs": [],
   "source": [
    "ass = asso.values\n",
    "dru = drug.values\n",
    "dise = disease.values"
   ]
  },
  {
   "cell_type": "code",
   "execution_count": 74,
   "metadata": {
    "collapsed": true
   },
   "outputs": [],
   "source": [
    "i_ass = indep[['association']].values\n",
    "i_drug = indep[indep.columns.values[3:1847].tolist()].values\n",
    "i_disease = indep[indep.columns.values[1848:].tolist()].values"
   ]
  },
  {
   "cell_type": "code",
   "execution_count": 22,
   "metadata": {
    "collapsed": false
   },
   "outputs": [
    {
     "data": {
      "text/plain": [
       "3520"
      ]
     },
     "execution_count": 22,
     "metadata": {},
     "output_type": "execute_result"
    }
   ],
   "source": [
    "len(dise[0])"
   ]
  },
  {
   "cell_type": "code",
   "execution_count": 23,
   "metadata": {
    "collapsed": false
   },
   "outputs": [],
   "source": [
    "import numpy as np\n",
    "from keras.models import Sequential\n",
    "from keras.layers import Input, Dense, Flatten, Dropout, BatchNormalization, Activation, Merge\n",
    "from keras.optimizers import Adam\n",
    "from keras import backend as K"
   ]
  },
  {
   "cell_type": "code",
   "execution_count": 39,
   "metadata": {
    "collapsed": true
   },
   "outputs": [],
   "source": [
    "from keras.layers import Input, Dense, merge, Flatten, Convolution2D, MaxPooling2D, Dropout, BatchNormalization, Activation, Embedding, LSTM, Bidirectional\n",
    "from keras.layers import Convolution1D, GlobalMaxPooling1D"
   ]
  },
  {
   "cell_type": "code",
   "execution_count": null,
   "metadata": {
    "collapsed": true
   },
   "outputs": [],
   "source": []
  },
  {
   "cell_type": "code",
   "execution_count": 45,
   "metadata": {
    "collapsed": true
   },
   "outputs": [],
   "source": [
    "def model(lr=1e-3,dropout=0.7):\n",
    "    \n",
    "    model_dr = Sequential()\n",
    "    model_di = Sequential()\n",
    "    \n",
    "    model_dr.add(Dense(output_dim=1500, input_dim=1844, init='glorot_uniform'))\n",
    "    model_dr.add(BatchNormalization())\n",
    "    model_dr.add(Activation('relu'))\n",
    "#     model_dr.add(Dropout(dropout))\n",
    "    \n",
    "    model_di.add(Dense(output_dim=3000, input_dim=3520, init='glorot_uniform'))\n",
    "    model_di.add(BatchNormalization())\n",
    "    model_di.add(Activation('relu'))\n",
    "#     model_di.add(Dropout(dropout))\n",
    "    \n",
    "    merged = Merge([model_dr, model_di], mode='concat')\n",
    "    \n",
    "    model_t = Sequential()\n",
    "    model_t.add(merged)\n",
    "    \n",
    "    model_t.add(Dense(output_dim=1000, input_dim=1500+3000, init='glorot_uniform'))\n",
    "    model_t.add(BatchNormalization())\n",
    "    model_t.add(Activation('relu'))\n",
    "    model_t.add(Dropout(dropout))\n",
    "    \n",
    "    model_t.add(Dense(1,activation='sigmoid', init='normal'))\n",
    "    \n",
    "    opt = Adam(lr=1e-3)\n",
    "    model_t.compile(optimizer=opt, loss='binary_crossentropy', metrics=['accuracy'])\n",
    "    \n",
    "    return model_t\n",
    "    "
   ]
  },
  {
   "cell_type": "code",
   "execution_count": 46,
   "metadata": {
    "collapsed": false
   },
   "outputs": [],
   "source": [
    "model_t = model()"
   ]
  },
  {
   "cell_type": "code",
   "execution_count": 69,
   "metadata": {
    "collapsed": false
   },
   "outputs": [],
   "source": [
    "K.get_session().run(tf.global_variables_initializer())"
   ]
  },
  {
   "cell_type": "code",
   "execution_count": 75,
   "metadata": {
    "collapsed": false
   },
   "outputs": [
    {
     "name": "stdout",
     "output_type": "stream",
     "text": [
      "Train on 12364 samples, validate on 2539 samples\n",
      "Epoch 1/1\n",
      "12364/12364 [==============================] - 10s - loss: 0.1689 - acc: 0.9493 - val_loss: 3.0649 - val_acc: 0.5203\n",
      "\tArea Under ROC Curve(AUC): 0.617\n",
      "\tArea Under PR Curve(AUPR): 0.059\n",
      "Train on 12364 samples, validate on 2539 samples\n",
      "Epoch 1/1\n",
      "12364/12364 [==============================] - 9s - loss: 0.0751 - acc: 0.9791 - val_loss: 4.2645 - val_acc: 0.3111\n",
      "\tArea Under ROC Curve(AUC): 0.615\n",
      "\tArea Under PR Curve(AUPR): 0.196\n",
      "Train on 12364 samples, validate on 2539 samples\n",
      "Epoch 1/1\n",
      "12364/12364 [==============================] - 9s - loss: 0.0450 - acc: 0.9882 - val_loss: 4.3602 - val_acc: 0.2418\n",
      "\tArea Under ROC Curve(AUC): 0.632\n",
      "\tArea Under PR Curve(AUPR): 0.171\n",
      "Train on 12364 samples, validate on 2539 samples\n",
      "Epoch 1/1\n",
      "12364/12364 [==============================] - 9s - loss: 0.0434 - acc: 0.9894 - val_loss: 4.7557 - val_acc: 0.2343\n",
      "\tArea Under ROC Curve(AUC): 0.617\n",
      "\tArea Under PR Curve(AUPR): 0.176\n",
      "Train on 12364 samples, validate on 2539 samples\n",
      "Epoch 1/1\n",
      "12364/12364 [==============================] - 9s - loss: 0.0325 - acc: 0.9916 - val_loss: 5.1419 - val_acc: 0.2406\n",
      "\tArea Under ROC Curve(AUC): 0.617\n",
      "\tArea Under PR Curve(AUPR): 0.195\n",
      "Train on 12364 samples, validate on 2539 samples\n",
      "Epoch 1/1\n",
      "12364/12364 [==============================] - 9s - loss: 0.0280 - acc: 0.9918 - val_loss: 5.3640 - val_acc: 0.2123\n",
      "\tArea Under ROC Curve(AUC): 0.621\n",
      "\tArea Under PR Curve(AUPR): 0.099\n",
      "Train on 12364 samples, validate on 2539 samples\n",
      "Epoch 1/1\n",
      "12364/12364 [==============================] - 9s - loss: 0.0306 - acc: 0.9923 - val_loss: 5.0413 - val_acc: 0.2438\n",
      "\tArea Under ROC Curve(AUC): 0.604\n",
      "\tArea Under PR Curve(AUPR): 0.069\n",
      "Train on 12364 samples, validate on 2539 samples\n",
      "Epoch 1/1\n",
      "12364/12364 [==============================] - 9s - loss: 0.0266 - acc: 0.9923 - val_loss: 5.4007 - val_acc: 0.2296\n",
      "\tArea Under ROC Curve(AUC): 0.611\n",
      "\tArea Under PR Curve(AUPR): 0.182\n",
      "Train on 12364 samples, validate on 2539 samples\n",
      "Epoch 1/1\n",
      "12364/12364 [==============================] - 9s - loss: 0.0249 - acc: 0.9931 - val_loss: 4.9794 - val_acc: 0.2332\n",
      "\tArea Under ROC Curve(AUC): 0.619\n",
      "\tArea Under PR Curve(AUPR): 0.165\n",
      "Train on 12364 samples, validate on 2539 samples\n",
      "Epoch 1/1\n",
      "12364/12364 [==============================] - 9s - loss: 0.0226 - acc: 0.9934 - val_loss: 5.7741 - val_acc: 0.2182\n",
      "\tArea Under ROC Curve(AUC): 0.614\n",
      "\tArea Under PR Curve(AUPR): 0.169\n"
     ]
    }
   ],
   "source": [
    "K.get_session().run(tf.global_variables_initializer())\n",
    "for _ in xrange(10):\n",
    "    history = model_t.fit([dru,dise], ass, nb_epoch=1, batch_size=50, shuffle=True, verbose=1, validation_data=([i_drug,i_disease],i_ass))\n",
    "    prediction = model_t.predict([i_drug,i_disease])\n",
    "    AUC = roc_auc_score(i_ass[:,0],prediction)\n",
    "    precision, recall, thresholds = precision_recall_curve(i_ass[:,0],prediction)\n",
    "    AUPR = auc(recall,precision)\n",
    "    print \"\\tArea Under ROC Curve(AUC): %0.3f\" % AUC\n",
    "    print \"\\tArea Under PR Curve(AUPR): %0.3f\" % AUPR"
   ]
  },
  {
   "cell_type": "code",
   "execution_count": 57,
   "metadata": {
    "collapsed": true
   },
   "outputs": [],
   "source": [
    "from sklearn.model_selection import StratifiedKFold"
   ]
  },
  {
   "cell_type": "code",
   "execution_count": 66,
   "metadata": {
    "collapsed": false
   },
   "outputs": [],
   "source": [
    "skf = StratifiedKFold(n_splits=10, shuffle=True) # n_splits = k (k fold라서.), pos:neg의 비율을 고려해서 k 개의 subgroup으로 나누어줌.\n",
    "for tra, val in skf.split(dru,ass[:,0]):\n",
    "    dr_tr = dru[tra]\n",
    "    di_tr = dise[tra]\n",
    "    y_tr = ass[tra]\n",
    "    \n",
    "    dr_val = dru[val]\n",
    "    di_val = dise[val]\n",
    "    y_val = ass[val]\n",
    "    \n",
    "    break"
   ]
  },
  {
   "cell_type": "code",
   "execution_count": 77,
   "metadata": {
    "collapsed": false
   },
   "outputs": [
    {
     "name": "stderr",
     "output_type": "stream",
     "text": [
      "ERROR: Line magic function `%sudo` not found.\n"
     ]
    }
   ],
   "source": [
    "%sudo cp asol.ipynb /home/share/aschoi/"
   ]
  },
  {
   "cell_type": "code",
   "execution_count": null,
   "metadata": {
    "collapsed": true
   },
   "outputs": [],
   "source": []
  }
 ],
 "metadata": {
  "kernelspec": {
   "display_name": "Python 2",
   "language": "python",
   "name": "python2"
  },
  "language_info": {
   "codemirror_mode": {
    "name": "ipython",
    "version": 2
   },
   "file_extension": ".py",
   "mimetype": "text/x-python",
   "name": "python",
   "nbconvert_exporter": "python",
   "pygments_lexer": "ipython2",
   "version": "2.7.6"
  }
 },
 "nbformat": 4,
 "nbformat_minor": 0
}
