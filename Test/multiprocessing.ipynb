{
 "cells": [
  {
   "cell_type": "code",
   "execution_count": 1,
   "metadata": {
    "collapsed": true
   },
   "outputs": [],
   "source": [
    "from threading import Thread"
   ]
  },
  {
   "cell_type": "code",
   "execution_count": 2,
   "metadata": {
    "collapsed": true
   },
   "outputs": [],
   "source": [
    "def do_work(start, end, result):\n",
    "    sum = 0\n",
    "    for i in range(start, end):\n",
    "        sum += i\n",
    "    result.append(sum)\n",
    "    return"
   ]
  },
  {
   "cell_type": "code",
   "execution_count": 6,
   "metadata": {
    "collapsed": false
   },
   "outputs": [
    {
     "name": "stdout",
     "output_type": "stream",
     "text": [
      "Result :  199999990000000\n"
     ]
    }
   ],
   "source": [
    "if __name__==\"__main__\":\n",
    "    START, END = 0, 20000000\n",
    "    result = list()\n",
    "    th1 = Thread(target=do_work, args=(START, END/2, result))\n",
    "    th2 = Thread(target=do_work, args=(END/2, END, result))\n",
    "    th1.start()\n",
    "    th1.join()\n",
    "    th2.start()\n",
    "    th2.join()\n",
    "print \"Result : \", sum(result)\n",
    "\n",
    "# 이 경우 GIL 때문에 오히려 thread를 하나 했을 때보다 속도가 나지 않는다."
   ]
  },
  {
   "cell_type": "code",
   "execution_count": 7,
   "metadata": {
    "collapsed": true
   },
   "outputs": [],
   "source": [
    "#  thread 대신 process로!\n",
    "from multiprocessing import Process, Queue"
   ]
  },
  {
   "cell_type": "code",
   "execution_count": 8,
   "metadata": {
    "collapsed": true
   },
   "outputs": [],
   "source": [
    "def do_work(start, end, result):\n",
    "    sum = 0\n",
    "    for i in range(start, end):\n",
    "        sum += i\n",
    "    result.put(sum)\n",
    "    return"
   ]
  },
  {
   "cell_type": "code",
   "execution_count": 10,
   "metadata": {
    "collapsed": false
   },
   "outputs": [
    {
     "name": "stdout",
     "output_type": "stream",
     "text": [
      " Result :  199999990000000\n"
     ]
    }
   ],
   "source": [
    "if __name__==\"__main__\":\n",
    "    START, END = 0, 20000000\n",
    "    result = Queue()\n",
    "    pr1 = Process(target=do_work, args=(START, END/2, result))\n",
    "    pr2 = Thread(target=do_work, args=(END/2, END, result))\n",
    "    pr1.start()\n",
    "    pr1.join()\n",
    "    pr2.start()\n",
    "    pr2.join()\n",
    "    result.put('STOP')\n",
    "    sum = 0\n",
    "    while True:\n",
    "        tmp = result.get()\n",
    "        if tmp == 'STOP' : break\n",
    "        else: sum+= tmp\n",
    "    print \"Result : \", sum"
   ]
  },
  {
   "cell_type": "code",
   "execution_count": 13,
   "metadata": {
    "collapsed": false
   },
   "outputs": [],
   "source": [
    "#여러대에 나눠서!\n",
    "import pp"
   ]
  },
  {
   "cell_type": "code",
   "execution_count": 15,
   "metadata": {
    "collapsed": true
   },
   "outputs": [],
   "source": [
    "ppservers = (\"*\")"
   ]
  },
  {
   "cell_type": "code",
   "execution_count": 18,
   "metadata": {
    "collapsed": false
   },
   "outputs": [],
   "source": [
    "job_server = pp.Server()"
   ]
  },
  {
   "cell_type": "code",
   "execution_count": 19,
   "metadata": {
    "collapsed": false
   },
   "outputs": [
    {
     "data": {
      "text/plain": [
       "<pp.Server at 0x7f1ea03a01d0>"
      ]
     },
     "execution_count": 19,
     "metadata": {},
     "output_type": "execute_result"
    }
   ],
   "source": [
    "job_server"
   ]
  },
  {
   "cell_type": "code",
   "execution_count": null,
   "metadata": {
    "collapsed": true
   },
   "outputs": [],
   "source": []
  }
 ],
 "metadata": {
  "kernelspec": {
   "display_name": "Python 2",
   "language": "python",
   "name": "python2"
  },
  "language_info": {
   "codemirror_mode": {
    "name": "ipython",
    "version": 2
   },
   "file_extension": ".py",
   "mimetype": "text/x-python",
   "name": "python",
   "nbconvert_exporter": "python",
   "pygments_lexer": "ipython2",
   "version": "2.7.6"
  }
 },
 "nbformat": 4,
 "nbformat_minor": 1
}
